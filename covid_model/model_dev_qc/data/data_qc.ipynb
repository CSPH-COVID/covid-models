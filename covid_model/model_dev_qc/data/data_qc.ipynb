{
 "cells": [
  {
   "cell_type": "code",
   "execution_count": 1,
   "metadata": {
    "tags": []
   },
   "outputs": [],
   "source": [
    "import pandas as pd\n",
    "import numpy as np\n",
    "from data_qc import *"
   ]
  },
  {
   "cell_type": "code",
   "execution_count": 2,
   "metadata": {},
   "outputs": [
    {
     "name": "stdout",
     "output_type": "stream",
     "text": [
      "Requirement already satisfied: openpyxl in /Users/andrewhill/PycharmProjects/covid-rmw-model/venv/lib/python3.8/site-packages (3.0.10)\n",
      "Requirement already satisfied: et-xmlfile in /Users/andrewhill/PycharmProjects/covid-rmw-model/venv/lib/python3.8/site-packages (from openpyxl) (1.1.0)\n"
     ]
    }
   ],
   "source": [
    "!pip install openpyxl"
   ]
  },
  {
   "cell_type": "code",
   "execution_count": 3,
   "metadata": {},
   "outputs": [
    {
     "data": {
      "text/html": [
       "<div>\n",
       "<style scoped>\n",
       "    .dataframe tbody tr th:only-of-type {\n",
       "        vertical-align: middle;\n",
       "    }\n",
       "\n",
       "    .dataframe tbody tr th {\n",
       "        vertical-align: top;\n",
       "    }\n",
       "\n",
       "    .dataframe thead th {\n",
       "        text-align: right;\n",
       "    }\n",
       "</style>\n",
       "<table border=\"1\" class=\"dataframe\">\n",
       "  <thead>\n",
       "    <tr style=\"text-align: right;\">\n",
       "      <th></th>\n",
       "      <th></th>\n",
       "      <th></th>\n",
       "      <th></th>\n",
       "      <th>dose1</th>\n",
       "      <th>primaryseries</th>\n",
       "      <th>booster1</th>\n",
       "      <th>booster2</th>\n",
       "    </tr>\n",
       "    <tr>\n",
       "      <th>measure_date</th>\n",
       "      <th>state</th>\n",
       "      <th>region_id</th>\n",
       "      <th>age_grp</th>\n",
       "      <th></th>\n",
       "      <th></th>\n",
       "      <th></th>\n",
       "      <th></th>\n",
       "    </tr>\n",
       "  </thead>\n",
       "  <tbody>\n",
       "    <tr>\n",
       "      <th>12/13/2020</th>\n",
       "      <th>CO</th>\n",
       "      <th>coe</th>\n",
       "      <th>0-17 years</th>\n",
       "      <td>NaN</td>\n",
       "      <td>NaN</td>\n",
       "      <td>NaN</td>\n",
       "      <td>NaN</td>\n",
       "    </tr>\n",
       "    <tr>\n",
       "      <th>12/14/2020</th>\n",
       "      <th>CO</th>\n",
       "      <th>coe</th>\n",
       "      <th>0-17 years</th>\n",
       "      <td>NaN</td>\n",
       "      <td>NaN</td>\n",
       "      <td>NaN</td>\n",
       "      <td>NaN</td>\n",
       "    </tr>\n",
       "    <tr>\n",
       "      <th>12/15/2020</th>\n",
       "      <th>CO</th>\n",
       "      <th>coe</th>\n",
       "      <th>0-17 years</th>\n",
       "      <td>NaN</td>\n",
       "      <td>NaN</td>\n",
       "      <td>NaN</td>\n",
       "      <td>NaN</td>\n",
       "    </tr>\n",
       "    <tr>\n",
       "      <th>12/16/2020</th>\n",
       "      <th>CO</th>\n",
       "      <th>coe</th>\n",
       "      <th>0-17 years</th>\n",
       "      <td>NaN</td>\n",
       "      <td>NaN</td>\n",
       "      <td>NaN</td>\n",
       "      <td>NaN</td>\n",
       "    </tr>\n",
       "    <tr>\n",
       "      <th>12/17/2020</th>\n",
       "      <th>CO</th>\n",
       "      <th>coe</th>\n",
       "      <th>0-17 years</th>\n",
       "      <td>0.0</td>\n",
       "      <td>0.0</td>\n",
       "      <td>0.0</td>\n",
       "      <td>NaN</td>\n",
       "    </tr>\n",
       "  </tbody>\n",
       "</table>\n",
       "</div>"
      ],
      "text/plain": [
       "                                         dose1  primaryseries  booster1  \\\n",
       "measure_date state region_id age_grp                                      \n",
       "12/13/2020   CO    coe       0-17 years    NaN            NaN       NaN   \n",
       "12/14/2020   CO    coe       0-17 years    NaN            NaN       NaN   \n",
       "12/15/2020   CO    coe       0-17 years    NaN            NaN       NaN   \n",
       "12/16/2020   CO    coe       0-17 years    NaN            NaN       NaN   \n",
       "12/17/2020   CO    coe       0-17 years    0.0            0.0       0.0   \n",
       "\n",
       "                                         booster2  \n",
       "measure_date state region_id age_grp               \n",
       "12/13/2020   CO    coe       0-17 years       NaN  \n",
       "12/14/2020   CO    coe       0-17 years       NaN  \n",
       "12/15/2020   CO    coe       0-17 years       NaN  \n",
       "12/16/2020   CO    coe       0-17 years       NaN  \n",
       "12/17/2020   CO    coe       0-17 years       NaN  "
      ]
     },
     "execution_count": 3,
     "metadata": {},
     "output_type": "execute_result"
    }
   ],
   "source": [
    "data = pd.read_csv(\"/Users/andrewhill/RstudioProjects/vax_data/CO_VaxbyRegion_20221121.csv\",index_col=[\"measure_date\",\"state\",\"region_id\",\"age_grp\"])\n",
    "data.head()"
   ]
  },
  {
   "cell_type": "code",
   "execution_count": 4,
   "metadata": {},
   "outputs": [],
   "source": [
    "def run_qc(data: pd.DataFrame, tests: List[GenericQC], filename=\"qc_report.xlsx\") -> pd.DataFrame:\n",
    "    reports = []\n",
    "    for test in tests:\n",
    "        # Instantiate the test\n",
    "        qc = test()\n",
    "        print(f\"Running '{qc.name}'\")\n",
    "        # Run the test\n",
    "        qc_result = qc.check(data)\n",
    "        print(f\"\\tPass: {qc_result}\")\n",
    "        # Get the results\n",
    "        reports.append(qc.report_df())\n",
    "    \n",
    "    report_df = pd.concat(reports)\n",
    "    report_df.to_excel(filename)\n",
    "    issues = (report_df.index.get_level_values(\"Pass\") == False).sum()\n",
    "    print(f\"{issues} issues detected. Report written to '{filename}'\")\n",
    "    return report_df"
   ]
  },
  {
   "cell_type": "code",
   "execution_count": 5,
   "metadata": {},
   "outputs": [
    {
     "name": "stdout",
     "output_type": "stream",
     "text": [
      "Running 'NegativeValuesQC'\n",
      "\tPass: False\n",
      "Running 'MissingValuesQC'\n",
      "\tPass: False\n",
      "1984 issues detected. Report written to 'qc_report.xlsx'\n"
     ]
    }
   ],
   "source": [
    "# Both checks will fail, there are missing and negative values.\n",
    "qc_report_df = run_qc(data,[NegativeValuesQC,MissingValuesQC])"
   ]
  },
  {
   "cell_type": "code",
   "execution_count": 6,
   "metadata": {},
   "outputs": [],
   "source": [
    "# Now try manually removing these values\n",
    "data_mod = data.copy()\n",
    "data_mod.fillna(0,inplace=True)\n",
    "data_mod[data_mod < 0] = 0"
   ]
  },
  {
   "cell_type": "code",
   "execution_count": 7,
   "metadata": {},
   "outputs": [
    {
     "name": "stdout",
     "output_type": "stream",
     "text": [
      "Running 'NegativeValuesQC'\n",
      "\tPass: True\n",
      "Running 'MissingValuesQC'\n",
      "\tPass: True\n",
      "0 issues detected. Report written to 'qc_report_good.xlsx'\n"
     ]
    }
   ],
   "source": [
    "qc_report_df_good = run_qc(data_mod,[NegativeValuesQC,MissingValuesQC],filename=\"qc_report_good.xlsx\")"
   ]
  },
  {
   "cell_type": "code",
   "execution_count": null,
   "metadata": {},
   "outputs": [],
   "source": []
  }
 ],
 "metadata": {
  "kernelspec": {
   "display_name": "Python 3 (ipykernel)",
   "language": "python",
   "name": "python3"
  },
  "language_info": {
   "codemirror_mode": {
    "name": "ipython",
    "version": 3
   },
   "file_extension": ".py",
   "mimetype": "text/x-python",
   "name": "python",
   "nbconvert_exporter": "python",
   "pygments_lexer": "ipython3",
   "version": "3.8.9"
  }
 },
 "nbformat": 4,
 "nbformat_minor": 4
}
