{
 "cells": [
  {
   "cell_type": "code",
   "execution_count": 1,
   "metadata": {
    "pycharm": {
     "name": "#%%\n"
    }
   },
   "outputs": [
    {
     "name": "stdout",
     "output_type": "stream",
     "text": [
      "/Users/brittneycontreras/PycharmProjects/covid-models\n"
     ]
    },
    {
     "name": "stderr",
     "output_type": "stream",
     "text": [
      "2022/11/17 12:56:55 INFO|============================================================\n"
     ]
    }
   ],
   "source": [
    "\"\"\" Python Standard Library \"\"\"\n",
    "import os\n",
    "import datetime as dt\n",
    "\n",
    "import json\n",
    "import logging\n",
    "\"\"\" Third Party Imports \"\"\"\n",
    "import numpy as np\n",
    "import seaborn as sns\n",
    "from matplotlib import pyplot as plt\n",
    "%matplotlib inline\n",
    "\"\"\" Local Imports \"\"\"\n",
    "if 'requirements.txt' not in os.listdir(os.getcwd()):\n",
    "    os.chdir(os.path.join('..','..','..'))\n",
    "print(os.getcwd())\n",
    "from covid_model import CovidModel\n",
    "from covid_model.runnable_functions import do_single_fit, do_create_report\n",
    "from covid_model.utils import setup, get_filepath_prefix\n",
    "from covid_model.analysis.charts import plot_transmission_control\n",
    "\n",
    "os.environ['gcp_project'] = 'co-covid-models'\n",
    "os.environ['GOOGLE_APPLICATION_CREDENTIALS'] = \"co-covid-models-credentials.json\"\n",
    "\n",
    "outdir = setup(\"variant_share_qc.ipynb\")"
   ]
  },
  {
   "cell_type": "code",
   "execution_count": 7,
   "metadata": {
    "pycharm": {
     "name": "#%%\n"
    }
   },
   "outputs": [],
   "source": [
    "import pandas as pd\n",
    "obs_fpath = \"covid_model/model_dev_qc/variants/CDPHE Variant Data (manually transcribed and limited to model variants)_withBQ.csv\"\n",
    "obs = pd.read_csv(obs_fpath, parse_dates=['Date']).fillna(0)\n",
    "obs['Date'] = [d.date() for d in obs['Date']]\n",
    "obs = obs.set_index('Date')"
   ]
  },
  {
   "cell_type": "code",
   "execution_count": 8,
   "metadata": {},
   "outputs": [],
   "source": [
    "# For some reason, the CSV has some extra columns, so I'm just dropping them here\n",
    "obs = obs.drop(obs.columns[10:16], axis=1)"
   ]
  },
  {
   "cell_type": "code",
   "execution_count": 9,
   "metadata": {
    "pycharm": {
     "name": "#%%\n"
    }
   },
   "outputs": [
    {
     "name": "stderr",
     "output_type": "stream",
     "text": [
      "2022/11/17 12:58:42 INFO|------------------------|{} Retrieving vaccinations data\n",
      "2022/11/17 12:58:45 INFO|------------------------|{} Constructing vaccination projections\n",
      "2022/11/17 12:58:46 INFO|------------------------|{} Retrieving hospitalizations data\n",
      "2022/11/17 12:58:47 INFO|----------------------|{} Prepping Model\n"
     ]
    }
   ],
   "source": [
    "seeds = [\n",
    "    {\"param\": \"wildtype_seed\", \"attrs\": None, \"vals\": {\"2020-01-01\": 0, \"2020-01-24\": 2.2, \"2020-01-30\": 0}, \"desc\": \"2.2 wildtype seeds are planted each day in CO starting January 24th, 2020\"},\n",
    "    {\"param\": \"alpha_seed\", \"attrs\": None, \"vals\": {\"2020-01-01\": 0, \"2020-11-09\": 1, \"2020-12-04\": 0}, \"desc\": \"1 Alpha seed is planted each day starting November 9th, 2020 and ending December 4th, 2020\"},\n",
    "    {\"param\": \"delta_seed\", \"attrs\": None, \"vals\": {\"2020-01-01\": 0, \"2021-03-07\": 1, \"2021-04-11\": 0}, \"desc\": \"1 Delta seed is planted each day starting March 7th, 2021 and ending April 11th, 2021\"},\n",
    "    {\"param\": \"omicron_seed\", \"attrs\": None, \"vals\": {\"2020-01-01\": 0, \"2021-10-28\": 4, \"2021-12-10\": 0}, \"desc\": \"1 BA.1 seed is planted each day starting November 9th, 2021 and ending December 11th, 2021\"},\n",
    "    {\"param\": \"ba2_seed\", \"attrs\": None, \"vals\": {\"2020-01-01\": 0, \"2021-12-30\": 10, \"2022-01-08\":5, \"2022-01-10\": 0}, \"desc\": \"5 BA.2 seeds are planted each day starting December 23rd, 2021 and ending February 2nd, 2022\"},\n",
    "    {\"param\": \"ba2121_seed\", \"attrs\": None, \"vals\": {\"2020-01-01\": 0, \"2022-01-25\": 6, \"2022-01-26\":0}, \"desc\": \"5 BA.2.12.1 seeds are planted each day starting February 27th, 2022 and ending April 8th, 2022\"},\n",
    "    {\"param\": \"ba45_seed\", \"attrs\": None, \"vals\": {\"2020-01-01\": 0, \"2022-03-10\": 5, \"2022-03-15\":0}, \"desc\": \"5 BA.4/5 seeds are planted each day started April 5th, 2022 and ending May 15, 2022\"},\n",
    "    {\"param\": \"emv_seed\", \"attrs\":  None, \"vals\":  {\"2020-01-01\": 0, \"2022-09-10\": 5, \"2022-10-15\": 0}, \"desc\": \"baseline Variant X seeding value for scenarios\"},\n",
    "]\n",
    "\n",
    "model_args = {\n",
    "    'params_defs': json.load(open('covid_model/analysis/20221109_nov_gov_briefing/20221109_scenario_params.json')) + seeds,\n",
    "    'region_defs': 'covid_model/input/region_definitions.json',\n",
    "    'vacc_proj_params': 'covid_model/analysis/20221109_nov_gov_briefing/20221109_vacc_proj_params.json',\n",
    "    'regions': ['co'],\n",
    "    'mobility_mode': None,\n",
    "    'start_date': '2020-01-24',\n",
    "    'end_date': '2023-02-01',\n",
    "    'max_step_size': 1.0,\n",
    "    'ode_method': 'RK45',\n",
    "    'hosp_reporting_frac': {\"2020-01-01\": 1, \"2022-03-01\": 0.932, \"2022-03-15\": 0.868, \"2022-03-30\": 0.8}\n",
    "}\n",
    "#model_args = {'base_spec_id': 4019, # input the spec ID for the model you want here to avoid having to fit it again\n",
    "              #'update_data': False}\n",
    "fit_args = {\n",
    "    #'fit_start_date': '2022-01-24',\n",
    "    #'fit_end_date': '2022-08-30',\n",
    "    'tc_min': 0.0,\n",
    "    'tc_max': 0.999,\n",
    "    'tc_window_size': 14,\n",
    "    'tc_window_batch_size': 6,\n",
    "    'tc_batch_increment': 2,\n",
    "    'last_tc_window_min_size': 14,\n",
    "    'outdir': outdir\n",
    "}\n",
    "model = CovidModel(**model_args)\n",
    "model.prep(outdir=outdir)"
   ]
  },
  {
   "cell_type": "code",
   "execution_count": null,
   "metadata": {
    "pycharm": {
     "name": "#%%\n"
    },
    "scrolled": false
   },
   "outputs": [
    {
     "name": "stderr",
     "output_type": "stream",
     "text": [
      "2022/11/17 13:00:58 INFO|----------------------|{} Will fit 35 times\n",
      "2022/11/17 13:08:42 INFO|----------------------|{'fit_batch': '0'}: Transmission control fit 1/35 completed in 464.709968583 seconds: {0: {'co': 0.8306366833643296}, 14: {'co': 0.6933839107462477}, 28: {'co': 0.5748450118362037}, 42: {'co': 0.003464738496346845}, 56: {'co': 0.6814310092472702}, 70: {'co': 0.8912990559122381}}\n",
      "2022/11/17 13:08:42 INFO|-----------------------|{'fit_batch': '0'}: Running forward sim\n",
      "2022/11/17 13:10:17 INFO|----------------------|{'fit_batch': '1'}: Transmission control fit 2/35 completed in 92.70943554199994 seconds: {28: {'co': 0.5708286255418056}, 42: {'co': 4.349941574996277e-16}, 56: {'co': 0.6955147463258725}, 70: {'co': 0.8359264552835768}, 84: {'co': 0.8209551349214731}, 98: {'co': 0.8732859939211033}}\n",
      "2022/11/17 13:10:17 INFO|-----------------------|{'fit_batch': '1'}: Running forward sim\n",
      "2022/11/17 13:12:04 INFO|----------------------|{'fit_batch': '2'}: Transmission control fit 3/35 completed in 104.00870695800006 seconds: {56: {'co': 0.6966837854906068}, 70: {'co': 0.8332637238716517}, 84: {'co': 0.8289594610367317}, 98: {'co': 0.834992125078995}, 112: {'co': 0.8626464004936443}, 126: {'co': 0.9187330928951782}}\n",
      "2022/11/17 13:12:04 INFO|-----------------------|{'fit_batch': '2'}: Running forward sim\n",
      "2022/11/17 13:13:39 INFO|----------------------|{'fit_batch': '3'}: Transmission control fit 4/35 completed in 92.869646375 seconds: {84: {'co': 0.829629880100923}, 98: {'co': 0.8316891857673883}, 112: {'co': 0.877424433696088}, 126: {'co': 0.823836095025227}, 140: {'co': 0.7629566494101508}, 154: {'co': 0.6614382283166954}}\n",
      "2022/11/17 13:13:39 INFO|-----------------------|{'fit_batch': '3'}: Running forward sim\n",
      "2022/11/17 13:15:14 INFO|----------------------|{'fit_batch': '4'}: Transmission control fit 5/35 completed in 93.43173087499986 seconds: {112: {'co': 0.8774918359820789}, 126: {'co': 0.8243026544249595}, 140: {'co': 0.7606943342697516}, 154: {'co': 0.6708646014209558}, 168: {'co': 0.8437499580060833}, 182: {'co': 0.7840784808387747}}\n",
      "2022/11/17 13:15:14 INFO|-----------------------|{'fit_batch': '4'}: Running forward sim\n",
      "2022/11/17 13:16:36 INFO|----------------------|{'fit_batch': '5'}: Transmission control fit 6/35 completed in 80.12630550000017 seconds: {140: {'co': 0.7604535762871217}, 154: {'co': 0.6712875982663269}, 168: {'co': 0.8432438050256348}, 182: {'co': 0.7801990732213234}, 196: {'co': 0.8275650892037237}, 210: {'co': 0.7403272232110178}}\n",
      "2022/11/17 13:16:36 INFO|-----------------------|{'fit_batch': '5'}: Running forward sim\n",
      "2022/11/17 13:17:48 INFO|----------------------|{'fit_batch': '6'}: Transmission control fit 7/35 completed in 69.09080775000007 seconds: {168: {'co': 0.8430551703380847}, 182: {'co': 0.7826362153910791}, 196: {'co': 0.8196039625710142}, 210: {'co': 0.7710706255815184}, 224: {'co': 0.7742310576067544}, 238: {'co': 0.7168194308362504}}\n",
      "2022/11/17 13:17:48 INFO|-----------------------|{'fit_batch': '6'}: Running forward sim\n",
      "2022/11/17 13:19:12 INFO|----------------------|{'fit_batch': '7'}: Transmission control fit 8/35 completed in 81.79134858399993 seconds: {196: {'co': 0.8191510588514925}, 210: {'co': 0.7726070165939022}, 224: {'co': 0.770341954388253}, 238: {'co': 0.7217689354811682}, 252: {'co': 0.7177906824122765}, 266: {'co': 0.6919028360613843}}\n",
      "2022/11/17 13:19:12 INFO|-----------------------|{'fit_batch': '7'}: Running forward sim\n",
      "2022/11/17 13:20:28 INFO|----------------------|{'fit_batch': '8'}: Transmission control fit 9/35 completed in 74.2458750830001 seconds: {224: {'co': 0.7713214891614607}, 238: {'co': 0.7185438569720151}, 252: {'co': 0.7226277140173276}, 266: {'co': 0.6833514629707464}, 280: {'co': 0.7227288040202867}, 294: {'co': 0.7531947907400574}}\n",
      "2022/11/17 13:20:28 INFO|-----------------------|{'fit_batch': '8'}: Running forward sim\n",
      "2022/11/17 13:21:56 INFO|----------------------|{'fit_batch': '9'}: Transmission control fit 10/35 completed in 85.86527416600006 seconds: {252: {'co': 0.722097042707659}, 266: {'co': 0.6850775661422541}, 280: {'co': 0.7200762152865311}, 294: {'co': 0.7580890662269559}, 308: {'co': 0.8257609105490799}, 322: {'co': 0.7957020464109755}}\n",
      "2022/11/17 13:21:56 INFO|-----------------------|{'fit_batch': '9'}: Running forward sim\n",
      "2022/11/17 13:23:34 INFO|----------------------|{'fit_batch': '10'}: Transmission control fit 11/35 completed in 95.67016520800007 seconds: {280: {'co': 0.7198393812130457}, 294: {'co': 0.7589433474419054}, 308: {'co': 0.8229797116972831}, 322: {'co': 0.8099075893191124}, 336: {'co': 0.7879812380488277}, 350: {'co': 0.7724476799529093}}\n",
      "2022/11/17 13:23:34 INFO|-----------------------|{'fit_batch': '10'}: Running forward sim\n",
      "2022/11/17 13:25:01 INFO|----------------------|{'fit_batch': '11'}: Transmission control fit 12/35 completed in 84.44880179200004 seconds: {308: {'co': 0.8220714802482599}, 322: {'co': 0.8118498852595272}, 336: {'co': 0.7824786736431113}, 350: {'co': 0.7937642545305313}, 364: {'co': 0.8119742961387798}, 378: {'co': 0.7086537892235261}}\n",
      "2022/11/17 13:25:01 INFO|-----------------------|{'fit_batch': '11'}: Running forward sim\n",
      "2022/11/17 13:26:19 INFO|----------------------|{'fit_batch': '12'}: Transmission control fit 13/35 completed in 76.28732420799997 seconds: {336: {'co': 0.782310145668257}, 350: {'co': 0.7950240662274981}, 364: {'co': 0.805424584350331}, 378: {'co': 0.7395132608882932}, 392: {'co': 0.8040896984101044}, 406: {'co': 0.6082709078780915}}\n",
      "2022/11/17 13:26:19 INFO|-----------------------|{'fit_batch': '12'}: Running forward sim\n",
      "2022/11/17 13:27:56 INFO|----------------------|{'fit_batch': '13'}: Transmission control fit 14/35 completed in 94.90213212499998 seconds: {364: {'co': 0.8032108850324772}, 378: {'co': 0.7471483182636415}, 392: {'co': 0.7790797516218246}, 406: {'co': 0.7048952414616451}, 420: {'co': 0.7330985334627212}, 434: {'co': 0.6495206428238376}}\n",
      "2022/11/17 13:27:56 INFO|-----------------------|{'fit_batch': '13'}: Running forward sim\n",
      "2022/11/17 13:29:23 INFO|----------------------|{'fit_batch': '14'}: Transmission control fit 15/35 completed in 84.44325812499983 seconds: {392: {'co': 0.7784091072442808}, 406: {'co': 0.71370711025975}, 420: {'co': 0.7177178180858954}, 434: {'co': 0.6886797813628656}, 448: {'co': 0.7436489124429315}, 462: {'co': 0.8039967271539483}}\n",
      "2022/11/17 13:29:23 INFO|-----------------------|{'fit_batch': '14'}: Running forward sim\n",
      "2022/11/17 13:30:59 INFO|----------------------|{'fit_batch': '15'}: Transmission control fit 16/35 completed in 93.91567658300028 seconds: {420: {'co': 0.7169140060910701}, 434: {'co': 0.6897552839766576}, 448: {'co': 0.7432713220406244}, 462: {'co': 0.8170936881764624}, 476: {'co': 0.7912192762412557}, 490: {'co': 0.857549448748479}}\n",
      "2022/11/17 13:30:59 INFO|-----------------------|{'fit_batch': '15'}: Running forward sim\n",
      "2022/11/17 13:32:12 INFO|----------------------|{'fit_batch': '16'}: Transmission control fit 17/35 completed in 70.69259012500015 seconds: {448: {'co': 0.7428187165440405}, 462: {'co': 0.8155612891381666}, 476: {'co': 0.7974749234446669}, 490: {'co': 0.8321947958244288}, 504: {'co': 0.7994859369684701}, 518: {'co': 0.7514774006282222}}\n",
      "2022/11/17 13:32:12 INFO|-----------------------|{'fit_batch': '16'}: Running forward sim\n",
      "2022/11/17 13:33:23 INFO|----------------------|{'fit_batch': '17'}: Transmission control fit 18/35 completed in 69.27008412499981 seconds: {476: {'co': 0.7964048980295246}, 490: {'co': 0.8344110592482645}, 504: {'co': 0.7931355061751397}, 518: {'co': 0.7843386806009784}, 532: {'co': 0.7705920184801945}, 546: {'co': 0.7076100216328226}}\n",
      "2022/11/17 13:33:23 INFO|-----------------------|{'fit_batch': '17'}: Running forward sim\n",
      "2022/11/17 13:34:23 INFO|----------------------|{'fit_batch': '18'}: Transmission control fit 19/35 completed in 57.551666291999936 seconds: {504: {'co': 0.7926162099418298}, 518: {'co': 0.7862034056136011}, 532: {'co': 0.7659879827646408}, 546: {'co': 0.7174286590238569}, 560: {'co': 0.7504800094901414}, 574: {'co': 0.7456517121370386}}\n",
      "2022/11/17 13:34:23 INFO|-----------------------|{'fit_batch': '18'}: Running forward sim\n",
      "2022/11/17 13:35:49 INFO|----------------------|{'fit_batch': '19'}: Transmission control fit 20/35 completed in 84.27473312499978 seconds: {532: {'co': 0.7653430831544875}, 546: {'co': 0.719243382852555}, 560: {'co': 0.7471076167922786}, 574: {'co': 0.7557417624733216}, 588: {'co': 0.792800388345751}, 602: {'co': 0.7737098198712461}}\n"
     ]
    },
    {
     "name": "stderr",
     "output_type": "stream",
     "text": [
      "2022/11/17 13:35:49 INFO|-----------------------|{'fit_batch': '19'}: Running forward sim\n",
      "2022/11/17 13:37:10 INFO|----------------------|{'fit_batch': '20'}: Transmission control fit 21/35 completed in 78.72361712499969 seconds: {560: {'co': 0.7473208373503187}, 574: {'co': 0.7551729201717078}, 588: {'co': 0.7941779575366985}, 602: {'co': 0.7722581223627172}, 616: {'co': 0.7253910478780666}, 630: {'co': 0.7490913393694772}}\n",
      "2022/11/17 13:37:10 INFO|-----------------------|{'fit_batch': '20'}: Running forward sim\n"
     ]
    }
   ],
   "source": [
    "#model.solve_seir()\n",
    "model = do_single_fit(**fit_args, base_model = model, prep_model=False)"
   ]
  },
  {
   "cell_type": "code",
   "execution_count": null,
   "metadata": {
    "scrolled": true
   },
   "outputs": [],
   "source": [
    "model = CovidModel(base_spec_id=4382)\n",
    "model.prep(outdir=outdir)"
   ]
  },
  {
   "cell_type": "code",
   "execution_count": null,
   "metadata": {
    "pycharm": {
     "name": "#%%\n"
    }
   },
   "outputs": [],
   "source": [
    "model.solve_seir()\n",
    "soln = model.solution_sum_df(['seir', 'variant'])"
   ]
  },
  {
   "cell_type": "code",
   "execution_count": null,
   "metadata": {
    "pycharm": {
     "name": "#%%\n"
    },
    "tags": []
   },
   "outputs": [],
   "source": [
    "start_date = dt.datetime.strptime('2020-02-01', '%Y-%m-%d').date()\n",
    "end_date = dt.datetime.strptime('2022-11-01', '%Y-%m-%d').date()\n",
    "rows = (soln.index.get_level_values(0) >= start_date) & (soln.index.get_level_values(0) <= end_date)\n",
    "cols = [any(colname == seir for seir in ['Ih', 'I', 'A']) for colname in soln.columns.get_level_values(0)]\n",
    "infected_by_variant = soln.loc[rows, cols].groupby('variant', axis=1).sum()"
   ]
  },
  {
   "cell_type": "code",
   "execution_count": null,
   "metadata": {
    "pycharm": {
     "name": "#%%\n"
    }
   },
   "outputs": [],
   "source": [
    "infected_by_variant.plot(figsize=(10, 5), cmap='Set2')"
   ]
  },
  {
   "cell_type": "code",
   "execution_count": null,
   "metadata": {
    "pycharm": {
     "name": "#%%\n"
    }
   },
   "outputs": [],
   "source": [
    "infected_by_variant.div(infected_by_variant.sum(axis=1), axis=0).plot(figsize=(10, 5), cmap='Set2')"
   ]
  },
  {
   "cell_type": "code",
   "execution_count": null,
   "metadata": {},
   "outputs": [],
   "source": [
    "# Saves data from plot above to .csv file - may need to update file path and name depending on preferences\n",
    "new_infected_by_variant = infected_by_variant.div(infected_by_variant.sum(axis=1), axis=0)\n",
    "new_df = pd.DataFrame(new_infected_by_variant)\n",
    "new_df.to_csv('./covid_model/output/norm_variant_prev.csv')"
   ]
  },
  {
   "cell_type": "code",
   "execution_count": null,
   "metadata": {
    "pycharm": {
     "name": "#%%\n"
    },
    "scrolled": true
   },
   "outputs": [],
   "source": [
    "obs_rows = (obs.index.values >= start_date) & (obs.index.values <= end_date)\n",
    "obs['Omicron BA.4/5'] = obs['BA.4'] + obs['BA.5']\n",
    "obs['EMV'] = obs['BQ.1'] + obs['BQ.1.1']\n",
    "obs = obs.drop(columns=['BA.4', 'BA.5', 'BQ.1', 'BQ.1.1']).loc[obs_rows,]\n",
    "obs.plot(figsize=(10,5), cmap='Set2')\n"
   ]
  },
  {
   "cell_type": "code",
   "execution_count": null,
   "metadata": {},
   "outputs": [],
   "source": [
    "obs.info()"
   ]
  },
  {
   "cell_type": "code",
   "execution_count": null,
   "metadata": {
    "pycharm": {
     "name": "#%%\n"
    }
   },
   "outputs": [],
   "source": [
    "infected_by_variant.sum(axis=1).plot(figsize=(10, 5))"
   ]
  },
  {
   "cell_type": "code",
   "execution_count": null,
   "metadata": {
    "pycharm": {
     "name": "#%%\n"
    }
   },
   "outputs": [],
   "source": [
    "model.modeled_vs_observed_hosps().plot(figsize=(10,5), cmap='Set2')"
   ]
  },
  {
   "cell_type": "code",
   "execution_count": null,
   "metadata": {
    "pycharm": {
     "name": "#%%\n"
    }
   },
   "outputs": [],
   "source": [
    "#do_create_report(model, outdir)"
   ]
  },
  {
   "cell_type": "markdown",
   "metadata": {},
   "source": [
    "### Make figure plot comparing CDPHE data and model variant share for each variant separately"
   ]
  },
  {
   "cell_type": "code",
   "execution_count": null,
   "metadata": {
    "scrolled": true
   },
   "outputs": [],
   "source": [
    "# Clean up obs data under new df (new_obs) to make plotting easier\n",
    "\n",
    "# Normalize observed data\n",
    "new_obs = obs.div(obs.sum(axis=1), axis=0)\n",
    "# Get rid of seperate BA.4 and BA.5 columns\n",
    "#new_obs = new_obs.drop(columns=['BA.4', 'BA.5'])\n",
    "# Change column labels to match those of our model column labels\n",
    "new_obs.plot(cmap='Set2')\n",
    "new_obs = new_obs.rename(columns={\"Alpha\":\"alpha\", \"Delta\":\"delta\", \"Omicron\":\"omicron\", \"BA.2\":\"ba2\",\n",
    "                                  \"BA.2.12.1\":\"ba2121\",\"Other\":\"wildtype\", \"Omicron BA.4/5\":\"ba45\", \"EMV\": \"emv\"})\n",
    "# Similarly, make the column order alphabetical like in our modeled dataframe\n",
    "new_obs = new_obs.reindex(columns=[\"alpha\",\"ba2\",\"ba2121\",\"ba45\",\"delta\",\"omicron\",\"emv\", \"wildtype\"])\n",
    "# Create data label column that signifies each entry is observed data - this is useful for when we concat\n",
    "# this dataset with the modeled dataset\n",
    "new_obs['data_label'] = ['obs']*len(new_obs['alpha'])\n",
    "# Make the date into a column instead of the index. This just makes plotting easier later on\n",
    "new_obs['date'] = new_obs.index"
   ]
  },
  {
   "cell_type": "code",
   "execution_count": null,
   "metadata": {},
   "outputs": [],
   "source": [
    "new_obs.plot(cmap='Set2')"
   ]
  },
  {
   "cell_type": "code",
   "execution_count": null,
   "metadata": {},
   "outputs": [],
   "source": [
    "new_df.plot(cmap='Set2')"
   ]
  },
  {
   "cell_type": "code",
   "execution_count": null,
   "metadata": {},
   "outputs": [],
   "source": [
    "# Now, we make our new dataframe for modeled variant prevalence (new_df)\n",
    "\n",
    "# Drop the 'none' column since we have nothing to compare this to in our observed data\n",
    "#new_df = new_df.drop(columns=[\"none\"])\n",
    "new_df['data_label'] = ['modeled']*len(new_df['alpha'])\n",
    "new_df['date'] = new_df.index\n",
    "new_df.info()"
   ]
  },
  {
   "cell_type": "code",
   "execution_count": null,
   "metadata": {},
   "outputs": [],
   "source": [
    "# Concatenate our dataframes to make plotting with the 'hue' seaborn feature simple\n",
    "all_data = pd.concat([new_df, new_obs], ignore_index=True)"
   ]
  },
  {
   "cell_type": "code",
   "execution_count": null,
   "metadata": {},
   "outputs": [],
   "source": [
    "# Set seaborn plotting template\n",
    "sns.set_style('darkgrid')\n",
    "sns.set_context(\"paper\")"
   ]
  },
  {
   "cell_type": "code",
   "execution_count": null,
   "metadata": {},
   "outputs": [],
   "source": [
    "# Set other specifics about plotting like color palette and legend texts\n",
    "colors = ['peru', 'cadetblue']\n",
    "sns.set_palette(sns.color_palette(colors))\n",
    "legend_texts = ['Modeled', 'Observed']"
   ]
  },
  {
   "cell_type": "code",
   "execution_count": null,
   "metadata": {},
   "outputs": [],
   "source": [
    "# Plot and save figure for each variant comparison\n",
    "# ***Note: This will not show the plots in the jupyter notebook, but rather output them to you *main* directory\n",
    "for col in all_data:\n",
    "    plot = sns.lineplot(data=all_data, x='date', y=col, hue=\"data_label\", palette=colors)\n",
    "    plot.set(xlabel='Date', ylabel='Variant Prevalence (Normalized)')\n",
    "    plot.set_title(f'{col} variant share')\n",
    "    h,l = plot.get_legend_handles_labels()\n",
    "    l = legend_texts\n",
    "    plot.legend(h,l, loc=0, borderaxespad=0.,title='Data Source' ,fontsize=10)\n",
    "    plot.get_figure().savefig(f\"{col}_variant_share.png\", dpi=300, bbox_inches = \"tight\")\n",
    "    plt.clf()"
   ]
  },
  {
   "cell_type": "code",
   "execution_count": null,
   "metadata": {},
   "outputs": [],
   "source": [
    "obs.plot(cmap='Set2')\n",
    "new_df.plot(cmap='Set2')"
   ]
  },
  {
   "cell_type": "code",
   "execution_count": null,
   "metadata": {},
   "outputs": [],
   "source": []
  }
 ],
 "metadata": {
  "kernelspec": {
   "display_name": "Python 3 (ipykernel)",
   "language": "python",
   "name": "python3"
  },
  "language_info": {
   "codemirror_mode": {
    "name": "ipython",
    "version": 3
   },
   "file_extension": ".py",
   "mimetype": "text/x-python",
   "name": "python",
   "nbconvert_exporter": "python",
   "pygments_lexer": "ipython3",
   "version": "3.9.12"
  }
 },
 "nbformat": 4,
 "nbformat_minor": 4
}
