{
 "cells": [
  {
   "cell_type": "code",
   "execution_count": 1,
   "metadata": {
    "pycharm": {
     "name": "#%%\n"
    }
   },
   "outputs": [
    {
     "name": "stdout",
     "output_type": "stream",
     "text": [
      "/Users/brittneycontreras/PycharmProjects/covid-rmw-model\n"
     ]
    },
    {
     "name": "stderr",
     "output_type": "stream",
     "text": [
      "2023/01/27 15:34:04 INFO|============================================================\n"
     ]
    }
   ],
   "source": [
    "\"\"\" Python Standard Library \"\"\"\n",
    "import os\n",
    "import datetime as dt\n",
    "\n",
    "import json\n",
    "import logging\n",
    "\"\"\" Third Party Imports \"\"\"\n",
    "import numpy as np\n",
    "import seaborn as sns\n",
    "from matplotlib import pyplot as plt\n",
    "%matplotlib inline\n",
    "\"\"\" Local Imports \"\"\"\n",
    "if 'requirements.txt' not in os.listdir(os.getcwd()):\n",
    "    os.chdir(os.path.join('..','..','..'))\n",
    "print(os.getcwd())\n",
    "from covid_model.rmw_model import RMWCovidModel\n",
    "from covid_model.runnable_functions import do_single_fit, do_create_report\n",
    "from covid_model.utils import setup, get_filepath_prefix\n",
    "from covid_model.analysis.charts import plot_transmission_control\n",
    "\n",
    "os.environ['gcp_project'] = 'co-covid-models'\n",
    "os.environ['GOOGLE_APPLICATION_CREDENTIALS'] = \"co-covid-models-credentials.json\"\n",
    "\n",
    "outdir = setup(\"variant_share_qc.ipynb\")"
   ]
  },
  {
   "cell_type": "code",
   "execution_count": 2,
   "metadata": {
    "pycharm": {
     "name": "#%%\n"
    }
   },
   "outputs": [],
   "source": [
    "import pandas as pd\n",
    "obs_fpath = \"covid_model/model_dev_qc/variants/CDPHE Variant Data (manually transcribed and limited to model variants).csv\"\n",
    "obs = pd.read_csv(obs_fpath, parse_dates=['Date']).fillna(0)\n",
    "obs['Date'] = [d.date() for d in obs['Date']]\n",
    "obs = obs.set_index('Date')"
   ]
  },
  {
   "cell_type": "code",
   "execution_count": 3,
   "metadata": {
    "pycharm": {
     "name": "#%%\n"
    }
   },
   "outputs": [
    {
     "name": "stderr",
     "output_type": "stream",
     "text": [
      "2023/01/27 15:34:08 INFO|------------------------|{} Retrieving regional definitions\n",
      "2023/01/27 15:34:11 INFO|------------------------|{} Retrieving population data\n",
      "2023/01/27 15:34:13 INFO|------------------------|{} Retrieving vaccinations data\n",
      "2023/01/27 15:34:15 INFO|------------------------|{} Constructing vaccination projections\n",
      "2023/01/27 15:34:15 INFO|------------------------|{} Retrieving hospitalizations data\n",
      "2023/01/27 15:34:17 INFO|----------------------|{} Prepping Model\n"
     ]
    }
   ],
   "source": [
    "seeds = [\n",
    "    {\"param\": \"wildtype_seed\", \"attrs\": None, \"vals\": { \"2020-01-01\": 0,\"2020-01-24\": 1.9,\"2020-01-30\": 0}, \"desc\": \"2.2 wildtype seeds are planted each day in CO starting January 24th, 2020\"},\n",
    "    {\"param\": \"alpha_seed\", \"attrs\": None, \"vals\": {\"2020-01-01\": 0,\"2020-11-09\": 0.87,\"2020-12-04\": 0}, \"desc\": \"1 Alpha seed is planted each day starting November 9th, 2020 and ending December 4th, 2020\"},\n",
    "    {\"param\": \"delta_seed\", \"attrs\": None, \"vals\": {\"2020-01-01\": 0,\"2021-03-07\": 0.87,\"2021-04-11\": 0}, \"desc\": \"1 Delta seed is planted each day starting March 7th, 2021 and ending April 11th, 2021\"},\n",
    "    {\"param\": \"omicron_seed\", \"attrs\": None, \"vals\": {\"2020-01-01\": 0,\"2021-10-28\": 3.5,\"2021-12-10\": 0}, \"desc\": \"1 BA.1 seed is planted each day starting November 9th, 2021 and ending December 11th, 2021\"},\n",
    "    {\"param\": \"ba2_seed\", \"attrs\": None, \"vals\": {\"2020-01-01\": 0,\"2021-12-30\": 8.7,\"2022-01-08\": 4.4,\"2022-01-10\": 0}, \"desc\": \"5 BA.2 seeds are planted each day starting December 23rd, 2021 and ending February 2nd, 2022\"},\n",
    "    {\"param\": \"ba2121_seed\", \"attrs\": None, \"vals\": {\"2020-01-01\": 0,\"2022-01-25\": 5.2,\"2022-01-26\": 0}, \"desc\": \"5 BA.2.12.1 seeds are planted each day starting February 27th, 2022 and ending April 8th, 2022\"},\n",
    "    {\"param\": \"ba45_seed\", \"attrs\": None, \"vals\": {\"2020-01-01\": 0,\"2022-03-15\": 4.4,\"2022-03-25\": 0}, \"desc\": \"5 BA.4/5 seeds are planted each day started April 5th, 2022 and ending May 15, 2022\"},\n",
    "    {\"param\": \"emv_seed\", \"attrs\":  None, \"vals\":  {\"2020-01-01\": 0,\"2022-09-15\": 4.4,\"2022-10-15\": 0}, \"desc\": \"baseline Variant X seeding value for scenarios\"},\n",
    "    {\"param\": \"XBB_seed\", \"attrs\":  None, \"vals\":  {\"2020-01-01\": 0,\"2022-11-25\": 5 ,\"2022-12-25\": 0}}\n",
    "     ]\n",
    "\n",
    "model_args = {\n",
    "    'params_defs': json.load(open('covid_model/input/rmw_temp_params.json')) + seeds,\n",
    "    'region_defs': 'covid_model/input/rmw_region_definitions.json',\n",
    "    'vacc_proj_params': 'covid_model/input/rmw_vacc_proj_params.json',\n",
    "    'regions': ['con'],\n",
    "    'mobility_mode': None,\n",
    "    'start_date': '2020-01-24',\n",
    "    'end_date': '2023-03-01',\n",
    "    'max_step_size': 1.0,\n",
    "    'ode_method': 'RK45',\n",
    "    'hosp_reporting_frac': {\"2020-01-01\": 1, \"2022-03-01\": 0.932, \"2022-03-15\": 0.868, \"2022-03-30\": 0.8}\n",
    "}\n",
    "#model_args = {'base_spec_id': 4019, # input the spec ID for the model you want here to avoid having to fit it again\n",
    "              #'update_data': False}\n",
    "fit_args = {\n",
    "    #'fit_start_date': '2022-01-24',\n",
    "    #'fit_end_date': '2022-08-30',\n",
    "    'tc_min': 0.0,\n",
    "    'tc_max': 0.999,\n",
    "    'tc_window_size': 14,\n",
    "    'tc_window_batch_size': 6,\n",
    "    'tc_batch_increment': 2,\n",
    "    'last_tc_window_min_size': 14,\n",
    "    'outdir': outdir\n",
    "}\n",
    "model = RMWCovidModel(**model_args)\n",
    "model.prep(outdir=outdir)"
   ]
  },
  {
   "cell_type": "code",
   "execution_count": null,
   "metadata": {
    "pycharm": {
     "name": "#%%\n"
    }
   },
   "outputs": [
    {
     "name": "stderr",
     "output_type": "stream",
     "text": [
      "2023/01/27 15:36:02 INFO|-------------------------|{} Retrieving regional definitions\n",
      "2023/01/27 15:36:04 INFO|-------------------------|{} Retrieving population data\n",
      "2023/01/27 15:36:06 INFO|-------------------------|{} Retrieving vaccinations data\n",
      "2023/01/27 15:36:08 INFO|-------------------------|{} Retrieving hospitalizations data\n",
      "2023/01/27 15:36:10 INFO|----------------------|{} Will fit 37 times\n",
      "2023/01/27 15:40:40 INFO|----------------------|{'fit_batch': '0'}: Transmission control fit 1/37 completed in 270.189483958 seconds: {0: {'con': 0.8160839274507892}, 14: {'con': 0.744420201322317}, 28: {'con': 0.6764072045421287}, 42: {'con': 0.37785171754277086}, 56: {'con': 0.470885110501834}, 70: {'con': 0.6788790263438879}}\n",
      "2023/01/27 15:40:40 INFO|-----------------------|{'fit_batch': '0'}: Running forward sim\n"
     ]
    }
   ],
   "source": [
    "#model.solve_seir()\n",
    "model = do_single_fit(**fit_args, base_model = model, prep_model=False)"
   ]
  },
  {
   "cell_type": "code",
   "execution_count": null,
   "metadata": {
    "pycharm": {
     "name": "#%%\n"
    }
   },
   "outputs": [],
   "source": [
    "model.solve_seir()\n",
    "soln = model.solution_sum_df(['seir', 'variant'])"
   ]
  },
  {
   "cell_type": "code",
   "execution_count": null,
   "metadata": {
    "pycharm": {
     "name": "#%%\n"
    },
    "tags": []
   },
   "outputs": [],
   "source": [
    "start_date = dt.datetime.strptime('2020-02-01', '%Y-%m-%d').date()\n",
    "end_date = dt.datetime.strptime('2022-09-30', '%Y-%m-%d').date()\n",
    "rows = (soln.index.get_level_values(0) >= start_date) & (soln.index.get_level_values(0) <= end_date)\n",
    "cols = [any(colname == seir for seir in ['Ih', 'I', 'A']) for colname in soln.columns.get_level_values(0)]\n",
    "infected_by_variant = soln.loc[rows, cols].groupby('variant', axis=1).sum()"
   ]
  },
  {
   "cell_type": "code",
   "execution_count": null,
   "metadata": {
    "pycharm": {
     "name": "#%%\n"
    }
   },
   "outputs": [],
   "source": [
    "infected_by_variant.plot(figsize=(10, 5), cmap='Set2')"
   ]
  },
  {
   "cell_type": "code",
   "execution_count": null,
   "metadata": {
    "pycharm": {
     "name": "#%%\n"
    }
   },
   "outputs": [],
   "source": [
    "infected_by_variant.div(infected_by_variant.sum(axis=1), axis=0).plot(figsize=(10, 5), cmap='Set2')"
   ]
  },
  {
   "cell_type": "code",
   "execution_count": null,
   "metadata": {},
   "outputs": [],
   "source": [
    "# Saves data from plot above to .csv file - may need to update file path and name depending on preferences\n",
    "new_infected_by_variant = infected_by_variant.div(infected_by_variant.sum(axis=1), axis=0)\n",
    "new_df = pd.DataFrame(new_infected_by_variant)\n",
    "new_df.to_csv('./covid_model/output/norm_variant_prev.csv')"
   ]
  },
  {
   "cell_type": "code",
   "execution_count": null,
   "metadata": {
    "pycharm": {
     "name": "#%%\n"
    }
   },
   "outputs": [],
   "source": [
    "obs_rows = (obs.index.values >= start_date) & (obs.index.values <= end_date)\n",
    "obs['Omicron BA.4/5'] = obs['Omicron BA.4'] + obs['Omicron BA.5']\n",
    "obs[\"EMV\"] = obs['']\n",
    "obs = obs.drop(columns=['Omicron BA.4', 'Omicron BA.5']).loc[obs_rows,]\n",
    "obs.plot(figsize=(10,5), cmap='Set2')"
   ]
  },
  {
   "cell_type": "code",
   "execution_count": null,
   "metadata": {
    "pycharm": {
     "name": "#%%\n"
    }
   },
   "outputs": [],
   "source": [
    "#infected_by_variant.sum(axis=1).plot(figsize=(10, 5))"
   ]
  },
  {
   "cell_type": "code",
   "execution_count": null,
   "metadata": {
    "pycharm": {
     "name": "#%%\n"
    }
   },
   "outputs": [],
   "source": [
    "#model.modeled_vs_observed_hosps().plot(figsize=(10,5), cmap='Set2')"
   ]
  },
  {
   "cell_type": "code",
   "execution_count": null,
   "metadata": {
    "pycharm": {
     "name": "#%%\n"
    }
   },
   "outputs": [],
   "source": [
    "#do_create_report(model, outdir)"
   ]
  },
  {
   "cell_type": "markdown",
   "metadata": {},
   "source": [
    "### Make figure plot comparing CDPHE data and model variant share for each variant separately"
   ]
  },
  {
   "cell_type": "code",
   "execution_count": null,
   "metadata": {
    "scrolled": true
   },
   "outputs": [],
   "source": [
    "# Clean up obs data under new df (new_obs) to make plotting easier\n",
    "\n",
    "# Normalize observed data\n",
    "new_obs = obs.div(obs.sum(axis=1), axis=0)\n",
    "# Get rid of seperate BA.4 and BA.5 columns\n",
    "#new_obs = new_obs.drop(columns=['BA.4', 'BA.5'])\n",
    "# Change column labels to match those of our model column labels\n",
    "new_obs.plot(cmap='Set2')\n",
    "new_obs = new_obs.rename(columns={\"Alpha\":\"alpha\", \"Delta\":\"delta\", \"Omicron BA.1\":\"omicron\", \"Omicron BA.2\":\"ba2\",\n",
    "                                  \"Omicron BA.2.12.1\":\"ba2121\",\"Other\":\"wildtype\", \"Omicron BA.4/5\":\"ba45\", \"Variant X\": \"vx\"})\n",
    "# Similarly, make the column order alphabetical like in our modeled dataframe\n",
    "new_obs = new_obs.reindex(columns=[\"alpha\",\"ba2\",\"ba2121\",\"ba45\",\"delta\",\"omicron\",\"vx\", \"wildtype\"])\n",
    "# Create data label column that signifies each entry is observed data - this is useful for when we concat\n",
    "# this dataset with the modeled dataset\n",
    "new_obs['data_label'] = ['obs']*len(new_obs['alpha'])\n",
    "# Make the date into a column instead of the index. This just makes plotting easier later on\n",
    "new_obs['date'] = new_obs.index"
   ]
  },
  {
   "cell_type": "code",
   "execution_count": null,
   "metadata": {},
   "outputs": [],
   "source": [
    "new_obs.plot(cmap='Set2')"
   ]
  },
  {
   "cell_type": "code",
   "execution_count": null,
   "metadata": {},
   "outputs": [],
   "source": [
    "new_df.plot(cmap='Set2')"
   ]
  },
  {
   "cell_type": "code",
   "execution_count": null,
   "metadata": {},
   "outputs": [],
   "source": [
    "# Now, we make our new dataframe for modeled variant prevalence (new_df)\n",
    "\n",
    "# Drop the 'none' column since we have nothing to compare this to in our observed data\n",
    "#new_df = new_df.drop(columns=[\"none\"])\n",
    "new_df['data_label'] = ['modeled']*len(new_df['alpha'])\n",
    "new_df['date'] = new_df.index\n",
    "new_df.info()"
   ]
  },
  {
   "cell_type": "code",
   "execution_count": null,
   "metadata": {},
   "outputs": [],
   "source": [
    "# Concatenate our dataframes to make plotting with the 'hue' seaborn feature simple\n",
    "all_data = pd.concat([new_df, new_obs], ignore_index=True)"
   ]
  },
  {
   "cell_type": "code",
   "execution_count": null,
   "metadata": {},
   "outputs": [],
   "source": [
    "# Set seaborn plotting template\n",
    "sns.set_style('darkgrid')\n",
    "sns.set_context(\"paper\")"
   ]
  },
  {
   "cell_type": "code",
   "execution_count": null,
   "metadata": {},
   "outputs": [],
   "source": [
    "# Set other specifics about plotting like color palette and legend texts\n",
    "colors = ['peru', 'cadetblue']\n",
    "sns.set_palette(sns.color_palette(colors))\n",
    "legend_texts = ['Modeled', 'Observed']"
   ]
  },
  {
   "cell_type": "code",
   "execution_count": null,
   "metadata": {},
   "outputs": [],
   "source": [
    "# Plot and save figure for each variant comparison\n",
    "# ***Note: This will not show the plots in the jupyter notebook, but rather output them to you *main* directory\n",
    "for col in all_data:\n",
    "    plot = sns.lineplot(data=all_data, x='date', y=col, hue=\"data_label\", palette=colors)\n",
    "    plot.set(xlabel='Date', ylabel='Variant Prevalence (Normalized)')\n",
    "    plot.set_title(f'{col} variant share')\n",
    "    h,l = plot.get_legend_handles_labels()\n",
    "    l = legend_texts\n",
    "    plot.legend(h,l, loc=0, borderaxespad=0.,title='Data Source' ,fontsize=10)\n",
    "    plot.get_figure().savefig(f\"{col}_variant_share.png\", dpi=300, bbox_inches = \"tight\")\n",
    "    plt.clf()"
   ]
  }
 ],
 "metadata": {
  "kernelspec": {
   "display_name": "Python 3 (ipykernel)",
   "language": "python",
   "name": "python3"
  },
  "language_info": {
   "codemirror_mode": {
    "name": "ipython",
    "version": 3
   },
   "file_extension": ".py",
   "mimetype": "text/x-python",
   "name": "python",
   "nbconvert_exporter": "python",
   "pygments_lexer": "ipython3",
   "version": "3.9.12"
  }
 },
 "nbformat": 4,
 "nbformat_minor": 4
}
