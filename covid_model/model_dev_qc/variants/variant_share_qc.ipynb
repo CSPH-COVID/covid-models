{
 "cells": [
  {
   "cell_type": "code",
   "execution_count": 1,
   "metadata": {
    "pycharm": {
     "name": "#%%\n"
    }
   },
   "outputs": [
    {
     "name": "stdout",
     "output_type": "stream",
     "text": [
      "/Users/emwu9912/PycharmProjects/covid-models\n"
     ]
    },
    {
     "name": "stderr",
     "output_type": "stream",
     "text": [
      "2022/08/18 09:01:02 INFO|============================================================\n"
     ]
    }
   ],
   "source": [
    "\"\"\" Python Standard Library \"\"\"\n",
    "import os\n",
    "import datetime as dt\n",
    "\n",
    "import json\n",
    "import logging\n",
    "\"\"\" Third Party Imports \"\"\"\n",
    "import numpy as np\n",
    "from matplotlib import pyplot as plt\n",
    "%matplotlib inline\n",
    "\"\"\" Local Imports \"\"\"\n",
    "if 'requirements.txt' not in os.listdir(os.getcwd()):\n",
    "    os.chdir(os.path.join('..','..','..'))\n",
    "print(os.getcwd())\n",
    "from covid_model import CovidModel\n",
    "from covid_model.runnable_functions import do_single_fit, do_create_report\n",
    "from covid_model.utils import setup, get_filepath_prefix\n",
    "from covid_model.analysis.charts import plot_transmission_control\n",
    "\n",
    "os.environ['gcp_project'] = 'co-covid-models'\n",
    "os.environ['GOOGLE_APPLICATION_CREDENTIALS'] = \"co-covid-models-credentials.json\"\n",
    "\n",
    "outdir = setup(\"variant_share_qc.ipynb\")"
   ]
  },
  {
   "cell_type": "code",
   "execution_count": 2,
   "metadata": {
    "pycharm": {
     "name": "#%%\n"
    }
   },
   "outputs": [],
   "source": [
    "import pandas as pd\n",
    "obs_fpath = \"covid_model/model_dev_qc/variants/CDPHE Variant Data (manually transcribed and limited to model variants).csv\"\n",
    "obs = pd.read_csv(obs_fpath, parse_dates=['Date']).fillna(0)\n",
    "obs['Date'] = [d.date() for d in obs['Date']]\n",
    "obs = obs.set_index('Date')"
   ]
  },
  {
   "cell_type": "code",
   "execution_count": 3,
   "metadata": {
    "pycharm": {
     "name": "#%%\n"
    }
   },
   "outputs": [
    {
     "name": "stderr",
     "output_type": "stream",
     "text": [
      "2022/08/18 09:01:10 INFO|----------------------|{'fit_batch': '24', 'run_type': 'fit'} Prepping Model\n"
     ]
    }
   ],
   "source": [
    "seeds = [\n",
    "    {\"param\": \"omicron_seed\", \"attrs\": None, \"vals\": {\"2020-01-01\": 0, \"2021-11-09\": 1, \"2021-12-11\": 0}, \"desc\": \"1 BA.1 seed is planted each day starting November 9th, 2021 and ending December 11th, 2021\"},\n",
    "    {\"param\": \"ba2_seed\", \"attrs\": None, \"vals\": {\"2020-01-01\": 0, \"2021-12-23\": 5, \"2022-02-02\": 0}, \"desc\": \"5 BA.2 seeds are planted each day starting December 23rd, 2021 and ending February 2nd, 2022\"},\n",
    "    {\"param\": \"ba2121_seed\", \"attrs\": None, \"vals\": {\"2020-01-01\": 0, \"2022-02-27\": 5, \"2022-04-08\": 0}, \"desc\": \"5 BA.2.12.1 seeds are planted each day starting February 27th, 2022 and ending April 8th, 2022\"},\n",
    "    {\"param\": \"ba45_seed\", \"attrs\": None, \"vals\": {\"2020-01-01\": 0, \"2022-04-05\": 5, \"2022-05-15\": 0}, \"desc\": \"5 BA.4/5 seeds are planted each day started April 5th, 2022 and ending May 15, 2022\"},\n",
    "    {\"param\": \"immune_escape\", \"from_attrs\": {\"variant\": \"none\", \"immun\": \"weak\"},  \"to_attrs\": {\"variant\": \"delta\"}, \"vals\": {\"2020-01-01\": 0.375}, \"desc\": \"37.5% of weakly immune individuals can get reinfected with Delta\"},\n",
    "    {\"param\": \"immune_escape\", \"from_attrs\": {\"immun\": \"strong\", \"variant\": [\"none\", \"wildtype\", \"alpha\", \"delta\"]}, \"to_attrs\": {\"variant\": [\"omicron\", \"ba2\", \"ba2121\"]}, \"vals\": {\"2020-01-01\": 0.1}, \"desc\": \"given prior infection with a pre-Omicron variant, 10% of strongly immune individuals can get reinfected with BA.1, BA.2, or BA.2.12.1\"},\n",
    "    {\"param\": \"immune_escape\", \"from_attrs\": {\"immun\": \"weak\", \"variant\": [\"none\", \"wildtype\", \"alpha\", \"delta\"]}, \"to_attrs\": {\"variant\": [\"omicron\", \"ba2\", \"ba2121\"]}, \"vals\": {\"2020-01-01\": 0.75}, \"desc\": \"given prior infection with a pre-Omicron variant, 75% of weakly immune individuals can get reinfected with BA.1, BA.2, or BA.2.12.1\"},\n",
    "    {\"param\": \"immune_escape\", \"from_attrs\": {\"immun\": \"strong\", \"variant\": [\"omicron\", \"ba2\"]}, \"to_attrs\": {\"variant\": [\"ba2121\"]}, \"vals\": {\"2020-01-01\": 0.03}, \"desc\": \"given prior infection with BA.1 or BA.2, 3% of strongly immune individuals can get reinfected with BA.2.12.1\"},\n",
    "    {\"param\": \"immune_escape\", \"from_attrs\": {\"immun\": \"weak\", \"variant\": [\"omicron\", \"ba2\"]}, \"to_attrs\": {\"variant\": [\"ba2121\"]}, \"vals\": {\"2020-01-01\": 0.25}, \"desc\": \"given prior infection with BA.1 or BA.2, 25% of weakly immune individuals can get reinfected with BA.2.12.1\"},\n",
    "    {\"param\": \"immune_escape\", \"from_attrs\": {\"immun\": \"strong\", \"variant\": [\"none\", \"wildtype\", \"alpha\", \"delta\"]}, \"to_attrs\": {\"variant\": [\"ba45\"]}, \"vals\": {\"2020-01-01\": 0.15}, \"desc\": \"given prior infection with a pre-Omicron variant, 15% of strongly immune individuals can get reinfected with BA.4/5\"},\n",
    "    {\"param\": \"immune_escape\", \"from_attrs\": {\"immun\": \"weak\", \"variant\": [\"none\", \"wildtype\", \"alpha\", \"delta\"]}, \"to_attrs\": {\"variant\": [\"ba45\"]}, \"vals\": {\"2020-01-01\": 0.80}, \"desc\": \"given prior infection with a pre-Omicron variant, 80% of weakly immune individuals can get reinfected with BA.4/5\"},\n",
    "    {\"param\": \"immune_escape\", \"from_attrs\": {\"immun\": \"strong\", \"variant\": [\"omicron\", \"ba2\", \"ba2121\"]}, \"to_attrs\": {\"variant\": [\"ba45\"]}, \"vals\": {\"2020-01-01\": 0.04}, \"desc\": \"given prior infection with an Omicron variant, 4% of strongly immune individuals can get reinfected with BA.4/5\"},\n",
    "    {\"param\": \"immune_escape\", \"from_attrs\": {\"immun\": \"weak\", \"variant\": [\"omicron\", \"ba2\", \"ba2121\"]}, \"to_attrs\": {\"variant\": [\"ba45\"]}, \"vals\": {\"2020-01-01\": 0.40}, \"desc\": \"given prior infection with an Omicron variant, 40% of weakly immune individuals can get reinfected with BA.4/5\"},\n",
    "    {\"param\": \"severe_immunity\", \"attrs\": {\"immun\": [\"strong\", \"weak\"]}, \"vals\": {\"2020-01-01\": 0.975}, \"desc\": \"97.5% of people with some level of immunity are protected against severe disease\"},\n",
    "    {\"param\": \"severe_immunity\", \"attrs\": {\"immun\": [\"strong\", \"weak\"], \"vacc\": \"none\"}, \"vals\": {\"2020-01-01\": 0.5}, \"desc\": \"unvaccinated individuals whose immunity was conferred by natural infection have 47.5% less protection against severe disease than those whose strong or weak immunity was conferred by vaccination\"},\n",
    "    {\"param\": \"severe_immunity\", \"attrs\": {\"variant\": \"delta\"}, \"mults\": {\"2020-01-01\": 0.9}, \"desc\": \"90% of people with a prior Delta infection are protected against severe disease\"},\n",
    "    {\"param\": \"severe_immunity\", \"attrs\": {\"vacc\": [\"shot1\", \"shot2\"], \"variant\": [\"omicron\", \"ba2\", \"ba2121\", \"ba45\"]}, \"mults\": {\"2020-01-01\": 0.7}, \"desc\": \"70% of people who have completed a vaccine series are protected against severe Omicron\"},\n",
    "    {\"param\": \"severe_immunity\", \"attrs\": {\"vacc\": [\"booster1\", \"booster2\"], \"variant\": [\"omicron\", \"ba2\", \"ba2121\", \"ba45\"]}, \"mults\": {\"2020-01-01\": 0.9}, \"desc\": \"90% of people who have been boosted are protected against severe Omicron\"},\n",
    "]\n",
    "\n",
    "model_args = {\n",
    "    'params_defs': json.load(open('covid_model/model_dev_qc/qc_params.json')) + seeds,\n",
    "    'region_defs': 'covid_model/input/region_definitions.json',\n",
    "    'vacc_proj_params': 'covid_model/input/vacc_proj_params.json',\n",
    "    'regions': ['co'],\n",
    "    'mobility_mode': None,\n",
    "    'start_date': '2020-01-24',\n",
    "    'end_date': '2022-10-15',\n",
    "    'max_step_size': 1.0,\n",
    "    'ode_method': 'RK45',\n",
    "    'hosp_reporting_frac': {\"2020-01-01\": 1, \"2022-03-01\": 0.932, \"2022-03-15\": 0.868, \"2022-03-30\": 0.8}\n",
    "}\n",
    "model_args = {'base_spec_id': 3470, #model.spec_id\n",
    "              'update_data': False}\n",
    "fit_args = {\n",
    "    #'fit_start_date': '2022-3-01',\n",
    "    #'fit_end_date': '2022-05-01',\n",
    "    'tc_min': 0.0,\n",
    "    'tc_max': 0.999,\n",
    "    'tc_window_size': 14,\n",
    "    'tc_window_batch_size': 6,\n",
    "    'tc_batch_increment': 2,\n",
    "    'last_tc_window_min_size': 14,\n",
    "    'outdir': outdir\n",
    "}\n",
    "model = CovidModel(**model_args)\n",
    "model.prep(outdir=outdir)"
   ]
  },
  {
   "cell_type": "code",
   "execution_count": 4,
   "metadata": {
    "pycharm": {
     "name": "#%%\n"
    }
   },
   "outputs": [
    {
     "name": "stderr",
     "output_type": "stream",
     "text": [
      "2022/08/18 09:02:23 INFO|-------------------------|{'fit_batch': '24', 'run_type': 'fit'} Retrieving vaccinations data\n",
      "2022/08/18 09:02:30 INFO|-------------------------|{'fit_batch': '24', 'run_type': 'fit'} Constructing vaccination projections\n",
      "2022/08/18 09:02:30 INFO|-------------------------|{'fit_batch': '24', 'run_type': 'fit'} Retrieving hospitalizations data\n",
      "2022/08/18 09:02:44 INFO|----------------------|{'fit_batch': '24', 'run_type': 'fit'} Will fit 31 times\n",
      "2022/08/18 09:05:05 INFO|----------------------|{'fit_batch': '0', 'run_type': 'fit'}: Transmission control fit 1/31 completed in 141.619046375 seconds: {0: {'co': 0.8773342440662608}, 14: {'co': 0.6835870737883123}, 28: {'co': 0.5402391834547223}, 42: {'co': 0.0004558223567936801}, 56: {'co': 0.6816141693272597}, 70: {'co': 0.8911931021833167}}\n",
      "2022/08/18 09:05:05 INFO|-----------------------|{'fit_batch': '0', 'run_type': 'fit'}: Running forward sim\n",
      "2022/08/18 09:05:28 INFO|----------------------|{'fit_batch': '1', 'run_type': 'fit'}: Transmission control fit 2/31 completed in 21.033248000000015 seconds: {28: {'co': 0.5335513754070146}, 42: {'co': 3.068891828756012e-14}, 56: {'co': 0.6951315786407506}, 70: {'co': 0.8359684845686342}, 84: {'co': 0.8208874840624726}, 98: {'co': 0.8733241847579618}}\n",
      "2022/08/18 09:05:28 INFO|-----------------------|{'fit_batch': '1', 'run_type': 'fit'}: Running forward sim\n",
      "2022/08/18 09:06:01 INFO|----------------------|{'fit_batch': '2', 'run_type': 'fit'}: Transmission control fit 3/31 completed in 32.35541554100001 seconds: {56: {'co': 0.700490832579648}, 70: {'co': 0.8356288106594519}, 84: {'co': 0.8296319951337215}, 98: {'co': 0.8332653758471495}, 112: {'co': 0.868858361562187}, 126: {'co': 0.909403171266224}}\n",
      "2022/08/18 09:06:01 INFO|-----------------------|{'fit_batch': '2', 'run_type': 'fit'}: Running forward sim\n",
      "2022/08/18 09:06:28 INFO|----------------------|{'fit_batch': '3', 'run_type': 'fit'}: Transmission control fit 4/31 completed in 24.940510709000023 seconds: {84: {'co': 0.8298081098492143}, 98: {'co': 0.8311898554320456}, 112: {'co': 0.8777371406354214}, 126: {'co': 0.8236658369099499}, 140: {'co': 0.7631243230754504}, 154: {'co': 0.6614362816535335}}\n",
      "2022/08/18 09:06:28 INFO|-----------------------|{'fit_batch': '3', 'run_type': 'fit'}: Running forward sim\n",
      "2022/08/18 09:07:04 INFO|----------------------|{'fit_batch': '4', 'run_type': 'fit'}: Transmission control fit 5/31 completed in 35.12110575000003 seconds: {112: {'co': 0.877814476234409}, 126: {'co': 0.8241097722301185}, 140: {'co': 0.7609086330919592}, 154: {'co': 0.6707661092493898}, 168: {'co': 0.8437001664835342}, 182: {'co': 0.7841336188571639}}\n",
      "2022/08/18 09:07:04 INFO|-----------------------|{'fit_batch': '4', 'run_type': 'fit'}: Running forward sim\n",
      "2022/08/18 09:07:43 INFO|----------------------|{'fit_batch': '5', 'run_type': 'fit'}: Transmission control fit 6/31 completed in 37.05057920799999 seconds: {140: {'co': 0.7606635627551267}, 154: {'co': 0.6711878745090667}, 168: {'co': 0.8432114516800439}, 182: {'co': 0.7802292859995567}, 196: {'co': 0.8275752442113474}, 210: {'co': 0.7404064209228834}}\n",
      "2022/08/18 09:07:43 INFO|-----------------------|{'fit_batch': '5', 'run_type': 'fit'}: Running forward sim\n",
      "2022/08/18 09:08:11 INFO|----------------------|{'fit_batch': '6', 'run_type': 'fit'}: Transmission control fit 7/31 completed in 26.62183749999997 seconds: {168: {'co': 0.8430307813235208}, 182: {'co': 0.7826561363517616}, 196: {'co': 0.8196322625231799}, 210: {'co': 0.7710691950958106}, 224: {'co': 0.774267960124635}, 238: {'co': 0.7168390606056217}}\n",
      "2022/08/18 09:08:11 INFO|-----------------------|{'fit_batch': '6', 'run_type': 'fit'}: Running forward sim\n",
      "2022/08/18 09:08:35 INFO|----------------------|{'fit_batch': '7', 'run_type': 'fit'}: Transmission control fit 8/31 completed in 22.427062458000023 seconds: {196: {'co': 0.8191830383288976}, 210: {'co': 0.7726033950922016}, 224: {'co': 0.7703977799786321}, 238: {'co': 0.7217704682949451}, 252: {'co': 0.7178213734292198}, 266: {'co': 0.6919165300854415}}\n",
      "2022/08/18 09:08:35 INFO|-----------------------|{'fit_batch': '7', 'run_type': 'fit'}: Running forward sim\n",
      "2022/08/18 09:08:56 INFO|----------------------|{'fit_batch': '8', 'run_type': 'fit'}: Transmission control fit 9/31 completed in 19.767004499999985 seconds: {224: {'co': 0.7713676353721131}, 238: {'co': 0.7185595827295778}, 252: {'co': 0.7226755045923173}, 266: {'co': 0.6833595376454591}, 280: {'co': 0.7225472041498903}, 294: {'co': 0.7520349520668121}}\n",
      "2022/08/18 09:08:56 INFO|-----------------------|{'fit_batch': '8', 'run_type': 'fit'}: Running forward sim\n",
      "2022/08/18 09:09:30 INFO|----------------------|{'fit_batch': '9', 'run_type': 'fit'}: Transmission control fit 10/31 completed in 32.62274974999997 seconds: {252: {'co': 0.7222208755717183}, 266: {'co': 0.6848822342851106}, 280: {'co': 0.7201843581239269}, 294: {'co': 0.7566998577324614}, 308: {'co': 0.8255125015034798}, 322: {'co': 0.7964132574479843}}\n",
      "2022/08/18 09:09:30 INFO|-----------------------|{'fit_batch': '9', 'run_type': 'fit'}: Running forward sim\n",
      "2022/08/18 09:10:01 INFO|----------------------|{'fit_batch': '10', 'run_type': 'fit'}: Transmission control fit 11/31 completed in 29.304281833000005 seconds: {280: {'co': 0.7199442993624867}, 294: {'co': 0.757558982375544}, 308: {'co': 0.8227587077080486}, 322: {'co': 0.8100838092971311}, 336: {'co': 0.7880952851877382}, 350: {'co': 0.7724362965980552}}\n",
      "2022/08/18 09:10:01 INFO|-----------------------|{'fit_batch': '10', 'run_type': 'fit'}: Running forward sim\n",
      "2022/08/18 09:10:28 INFO|----------------------|{'fit_batch': '11', 'run_type': 'fit'}: Transmission control fit 12/31 completed in 25.59447924999995 seconds: {308: {'co': 0.8226615451553024}, 322: {'co': 0.8113710201485906}, 336: {'co': 0.7829722588179152}, 350: {'co': 0.793324091860629}, 364: {'co': 0.8127630424582091}, 378: {'co': 0.7101250563984255}}\n",
      "2022/08/18 09:10:28 INFO|-----------------------|{'fit_batch': '11', 'run_type': 'fit'}: Running forward sim\n",
      "2022/08/18 09:10:52 INFO|----------------------|{'fit_batch': '12', 'run_type': 'fit'}: Transmission control fit 13/31 completed in 23.28760058299997 seconds: {336: {'co': 0.7825964732405656}, 350: {'co': 0.7952542880310391}, 364: {'co': 0.8054088156751891}, 378: {'co': 0.7405954806893367}, 392: {'co': 0.8048543070512679}, 406: {'co': 0.6081262586013853}}\n",
      "2022/08/18 09:10:52 INFO|-----------------------|{'fit_batch': '12', 'run_type': 'fit'}: Running forward sim\n",
      "2022/08/18 09:11:30 INFO|----------------------|{'fit_batch': '13', 'run_type': 'fit'}: Transmission control fit 14/31 completed in 36.044949041999985 seconds: {364: {'co': 0.8042521860897668}, 378: {'co': 0.7484364094668702}, 392: {'co': 0.7800285748534764}, 406: {'co': 0.7089035311131158}, 420: {'co': 0.7339756545672296}, 434: {'co': 0.6534994865397081}}\n",
      "2022/08/18 09:11:30 INFO|-----------------------|{'fit_batch': '13', 'run_type': 'fit'}: Running forward sim\n",
      "2022/08/18 09:11:55 INFO|----------------------|{'fit_batch': '14', 'run_type': 'fit'}: Transmission control fit 15/31 completed in 23.507537500000012 seconds: {392: {'co': 0.7792619079810958}, 406: {'co': 0.715068732115684}, 420: {'co': 0.7206796048808932}, 434: {'co': 0.6919581863383965}, 448: {'co': 0.7480587333230224}, 462: {'co': 0.807405513706464}}\n",
      "2022/08/18 09:11:55 INFO|-----------------------|{'fit_batch': '14', 'run_type': 'fit'}: Running forward sim\n",
      "2022/08/18 09:12:21 INFO|----------------------|{'fit_batch': '15', 'run_type': 'fit'}: Transmission control fit 16/31 completed in 24.705078250000042 seconds: {420: {'co': 0.7204070778555051}, 434: {'co': 0.6926832779235557}, 448: {'co': 0.7461617367444259}, 462: {'co': 0.8202528321989819}, 476: {'co': 0.7958999040671487}, 490: {'co': 0.858607207678513}}\n",
      "2022/08/18 09:12:21 INFO|-----------------------|{'fit_batch': '15', 'run_type': 'fit'}: Running forward sim\n",
      "2022/08/18 09:12:43 INFO|----------------------|{'fit_batch': '16', 'run_type': 'fit'}: Transmission control fit 17/31 completed in 20.319787375000033 seconds: {448: {'co': 0.746935735834311}, 462: {'co': 0.8194616200565966}, 476: {'co': 0.8014245921896238}, 490: {'co': 0.8367327740482854}, 504: {'co': 0.8050294762383554}, 518: {'co': 0.7595930415694817}}\n"
     ]
    },
    {
     "name": "stderr",
     "output_type": "stream",
     "text": [
      "2022/08/18 09:12:43 INFO|-----------------------|{'fit_batch': '16', 'run_type': 'fit'}: Running forward sim\n",
      "2022/08/18 09:13:01 INFO|----------------------|{'fit_batch': '17', 'run_type': 'fit'}: Transmission control fit 18/31 completed in 16.66539741600002 seconds: {476: {'co': 0.8003384044627238}, 490: {'co': 0.8385912935371769}, 504: {'co': 0.798406203195553}, 518: {'co': 0.79026842144436}, 532: {'co': 0.7772119680018444}, 546: {'co': 0.7162954419928453}}\n",
      "2022/08/18 09:13:01 INFO|-----------------------|{'fit_batch': '17', 'run_type': 'fit'}: Running forward sim\n",
      "2022/08/18 09:13:20 INFO|----------------------|{'fit_batch': '18', 'run_type': 'fit'}: Transmission control fit 19/31 completed in 17.166786000000002 seconds: {504: {'co': 0.7977161966870302}, 518: {'co': 0.7923906826347386}, 532: {'co': 0.7713246213042144}, 546: {'co': 0.7261267325274882}, 560: {'co': 0.7583945952510907}, 574: {'co': 0.7537571145203914}}\n",
      "2022/08/18 09:13:20 INFO|-----------------------|{'fit_batch': '18', 'run_type': 'fit'}: Running forward sim\n",
      "2022/08/18 09:13:35 INFO|----------------------|{'fit_batch': '19', 'run_type': 'fit'}: Transmission control fit 20/31 completed in 13.34791979199997 seconds: {532: {'co': 0.7711684787675522}, 546: {'co': 0.7277848905317629}, 560: {'co': 0.7548321901080522}, 574: {'co': 0.7638947630773679}, 588: {'co': 0.7998401733411208}, 602: {'co': 0.7810998459066434}}\n",
      "2022/08/18 09:13:35 INFO|-----------------------|{'fit_batch': '19', 'run_type': 'fit'}: Running forward sim\n",
      "2022/08/18 09:13:44 INFO|----------------------|{'fit_batch': '20', 'run_type': 'fit'}: Transmission control fit 21/31 completed in 7.723988624999947 seconds: {560: {'co': 0.7550364096197429}, 574: {'co': 0.763238209179033}, 588: {'co': 0.8009567118104026}, 602: {'co': 0.7802768097440252}, 616: {'co': 0.734870760670723}, 630: {'co': 0.7575267190217754}}\n",
      "2022/08/18 09:13:44 INFO|-----------------------|{'fit_batch': '20', 'run_type': 'fit'}: Running forward sim\n",
      "2022/08/18 09:13:53 INFO|----------------------|{'fit_batch': '21', 'run_type': 'fit'}: Transmission control fit 22/31 completed in 8.007922708000024 seconds: {588: {'co': 0.8012478839784271}, 602: {'co': 0.7793758191201642}, 616: {'co': 0.7371094927912172}, 630: {'co': 0.752958158257163}, 644: {'co': 0.7351486919494887}, 658: {'co': 0.7647349554725549}}\n",
      "2022/08/18 09:13:53 INFO|-----------------------|{'fit_batch': '21', 'run_type': 'fit'}: Running forward sim\n",
      "2022/08/18 09:14:26 INFO|----------------------|{'fit_batch': '22', 'run_type': 'fit'}: Transmission control fit 23/31 completed in 31.56335362499999 seconds: {616: {'co': 0.7367259798109151}, 630: {'co': 0.7541419886062121}, 644: {'co': 0.7323422882982773}, 658: {'co': 0.778239872013219}, 672: {'co': 0.760229128011685}, 686: {'co': 0.8296869753585154}}\n",
      "2022/08/18 09:14:26 INFO|-----------------------|{'fit_batch': '22', 'run_type': 'fit'}: Running forward sim\n",
      "2022/08/18 09:14:44 INFO|----------------------|{'fit_batch': '23', 'run_type': 'fit'}: Transmission control fit 24/31 completed in 16.73036320899996 seconds: {644: {'co': 0.7334256222606077}, 658: {'co': 0.772963628603618}, 672: {'co': 0.777779988644884}, 686: {'co': 0.7610701654117844}, 700: {'co': 0.6708271311892993}, 714: {'co': 0.812625936391695}}\n",
      "2022/08/18 09:14:44 INFO|-----------------------|{'fit_batch': '23', 'run_type': 'fit'}: Running forward sim\n",
      "2022/08/18 09:15:01 INFO|----------------------|{'fit_batch': '24', 'run_type': 'fit'}: Transmission control fit 25/31 completed in 15.589215458000012 seconds: {672: {'co': 0.7774349098611859}, 686: {'co': 0.7618429418629741}, 700: {'co': 0.6685525205540925}, 714: {'co': 0.8169877123244851}, 728: {'co': 0.8617156547602147}, 742: {'co': 0.8791266839061662}}\n",
      "2022/08/18 09:15:01 INFO|-----------------------|{'fit_batch': '24', 'run_type': 'fit'}: Running forward sim\n",
      "2022/08/18 09:15:18 INFO|----------------------|{'fit_batch': '25', 'run_type': 'fit'}: Transmission control fit 26/31 completed in 15.100971749999985 seconds: {700: {'co': 0.6699864503856278}, 714: {'co': 0.8186498493923257}, 728: {'co': 0.8612958460680259}, 742: {'co': 0.8822995579900129}, 756: {'co': 0.8792420646004354}, 770: {'co': 0.9121679882917755}}\n",
      "2022/08/18 09:15:18 INFO|-----------------------|{'fit_batch': '25', 'run_type': 'fit'}: Running forward sim\n",
      "2022/08/18 09:15:34 INFO|----------------------|{'fit_batch': '26', 'run_type': 'fit'}: Transmission control fit 27/31 completed in 15.19706154100004 seconds: {728: {'co': 0.8614892999526536}, 742: {'co': 0.8824023517066831}, 756: {'co': 0.880736186473499}, 770: {'co': 0.8995124788929546}, 784: {'co': 0.8810113423955811}, 798: {'co': 0.8819299514774664}}\n",
      "2022/08/18 09:15:34 INFO|-----------------------|{'fit_batch': '26', 'run_type': 'fit'}: Running forward sim\n",
      "2022/08/18 09:15:52 INFO|----------------------|{'fit_batch': '27', 'run_type': 'fit'}: Transmission control fit 28/31 completed in 16.31073975000004 seconds: {756: {'co': 0.8809362548513523}, 770: {'co': 0.8989650082231635}, 784: {'co': 0.8837293559692398}, 798: {'co': 0.8692339616549657}, 812: {'co': 0.8655434934841677}, 826: {'co': 0.8709693656372529}}\n",
      "2022/08/18 09:15:52 INFO|-----------------------|{'fit_batch': '27', 'run_type': 'fit'}: Running forward sim\n",
      "2022/08/18 09:16:10 INFO|----------------------|{'fit_batch': '28', 'run_type': 'fit'}: Transmission control fit 29/31 completed in 16.82302387499999 seconds: {784: {'co': 0.8841155515461625}, 798: {'co': 0.8679764419650566}, 812: {'co': 0.8680805402475218}, 826: {'co': 0.8654453691957437}, 840: {'co': 0.8657033890383571}, 854: {'co': 0.8574572414661316}}\n",
      "2022/08/18 09:16:10 INFO|-----------------------|{'fit_batch': '28', 'run_type': 'fit'}: Running forward sim\n",
      "2022/08/18 09:16:26 INFO|----------------------|{'fit_batch': '29', 'run_type': 'fit'}: Transmission control fit 30/31 completed in 14.556072208000046 seconds: {812: {'co': 0.8678625048514661}, 826: {'co': 0.8660319754793812}, 840: {'co': 0.8640967733213948}, 854: {'co': 0.8604914304101834}, 868: {'co': 0.8872112674152057}, 882: {'co': 0.8772640242144194}}\n",
      "2022/08/18 09:16:26 INFO|-----------------------|{'fit_batch': '29', 'run_type': 'fit'}: Running forward sim\n",
      "2022/08/18 09:16:43 INFO|----------------------|{'fit_batch': '30', 'run_type': 'fit'}: Transmission control fit 31/31 completed in 15.597225874999936 seconds: {840: {'co': 0.863837103879063}, 854: {'co': 0.8613945035852437}, 868: {'co': 0.8872389441292223}, 882: {'co': 0.8782442563607566}, 896: {'co': 0.8851748470595064}, 910: {'co': 0.8903988691727748}}\n",
      "2022/08/18 09:16:43 INFO|-----------------------|{'fit_batch': '30', 'run_type': 'fit'}: Running forward sim\n",
      "2022/08/18 09:16:44 INFO|----------------------|{'fit_batch': '30', 'run_type': 'fit'}: fitted TC: {0: {'co': 0.8773342440662608}, 14: {'co': 0.6835870737883123}, 28: {'co': 0.5335513754070146}, 42: {'co': 3.068891828756012e-14}, 56: {'co': 0.700490832579648}, 70: {'co': 0.8356288106594519}, 84: {'co': 0.8298081098492143}, 98: {'co': 0.8311898554320456}, 112: {'co': 0.877814476234409}, 126: {'co': 0.8241097722301185}, 140: {'co': 0.7606635627551267}, 154: {'co': 0.6711878745090667}, 168: {'co': 0.8430307813235208}, 182: {'co': 0.7826561363517616}, 196: {'co': 0.8191830383288976}, 210: {'co': 0.7726033950922016}, 224: {'co': 0.7713676353721131}, 238: {'co': 0.7185595827295778}, 252: {'co': 0.7222208755717183}, 266: {'co': 0.6848822342851106}, 280: {'co': 0.7199442993624867}, 294: {'co': 0.757558982375544}, 308: {'co': 0.8226615451553024}, 322: {'co': 0.8113710201485906}, 336: {'co': 0.7825964732405656}, 350: {'co': 0.7952542880310391}, 364: {'co': 0.8042521860897668}, 378: {'co': 0.7484364094668702}, 392: {'co': 0.7792619079810958}, 406: {'co': 0.715068732115684}, 420: {'co': 0.7204070778555051}, 434: {'co': 0.6926832779235557}, 448: {'co': 0.746935735834311}, 462: {'co': 0.8194616200565966}, 476: {'co': 0.8003384044627238}, 490: {'co': 0.8385912935371769}, 504: {'co': 0.7977161966870302}, 518: {'co': 0.7923906826347386}, 532: {'co': 0.7711684787675522}, 546: {'co': 0.7277848905317629}, 560: {'co': 0.7550364096197429}, 574: {'co': 0.763238209179033}, 588: {'co': 0.8012478839784271}, 602: {'co': 0.7793758191201642}, 616: {'co': 0.7367259798109151}, 630: {'co': 0.7541419886062121}, 644: {'co': 0.7334256222606077}, 658: {'co': 0.772963628603618}, 672: {'co': 0.7774349098611859}, 686: {'co': 0.7618429418629741}, 700: {'co': 0.6699864503856278}, 714: {'co': 0.8186498493923257}, 728: {'co': 0.8614892999526536}, 742: {'co': 0.8824023517066831}, 756: {'co': 0.8809362548513523}, 770: {'co': 0.8989650082231635}, 784: {'co': 0.8841155515461625}, 798: {'co': 0.8679764419650566}, 812: {'co': 0.8678625048514661}, 826: {'co': 0.8660319754793812}, 840: {'co': 0.863837103879063}, 854: {'co': 0.8613945035852437}, 868: {'co': 0.8872389441292223}, 882: {'co': 0.8782442563607566}, 896: {'co': 0.8851748470595064}, 910: {'co': 0.890398884073936}}\n"
     ]
    },
    {
     "name": "stderr",
     "output_type": "stream",
     "text": [
      "2022/08/18 09:16:44 INFO|-----------------------|{'fit_batch': '30', 'run_type': 'fit'}: Running forward sim\n",
      "2022/08/18 09:16:45 INFO|----------------------|{'fit_batch': '30', 'run_type': 'fit'}: Uploading final results\n",
      "2022/08/18 09:16:53 INFO|----------------------|{'fit_batch': '30', 'run_type': 'fit'}: spec_id: 3556\n"
     ]
    }
   ],
   "source": [
    "#model.solve_seir()\n",
    "model = do_single_fit(**fit_args, base_model = model, prep_model=False)"
   ]
  },
  {
   "cell_type": "code",
   "execution_count": null,
   "metadata": {
    "pycharm": {
     "name": "#%%\n"
    }
   },
   "outputs": [],
   "source": [
    "model.solve_seir()\n",
    "soln = model.solution_sum_df(['seir', 'variant'])"
   ]
  },
  {
   "cell_type": "code",
   "execution_count": null,
   "metadata": {
    "pycharm": {
     "name": "#%%\n"
    }
   },
   "outputs": [],
   "source": [
    "start_date = dt.datetime.strptime('2022-01-01', '%Y-%m-%d').date()\n",
    "end_date = dt.datetime.strptime('2022-07-03', '%Y-%m-%d').date()\n",
    "rows = (soln.index.get_level_values(0) >= start_date) & (soln.index.get_level_values(0) <= end_date)\n",
    "cols = [any(colname == seir for seir in ['Ih', 'I', 'A']) for colname in soln.columns.get_level_values(0)]\n",
    "infected_by_variant = soln.loc[rows, cols].groupby('variant', axis=1).sum()"
   ]
  },
  {
   "cell_type": "code",
   "execution_count": null,
   "metadata": {
    "pycharm": {
     "name": "#%%\n"
    },
    "tags": []
   },
   "outputs": [],
   "source": [
    "start_date = dt.datetime.strptime('2022-01-01', '%Y-%m-%d').date()\n",
    "end_date = dt.datetime.strptime('2022-07-03', '%Y-%m-%d').date()\n",
    "rows = (soln.index.get_level_values(0) >= start_date) & (soln.index.get_level_values(0) <= end_date)\n",
    "cols = [any(colname == seir for seir in ['Ih', 'I', 'A']) for colname in soln.columns.get_level_values(0)]\n",
    "infected_by_variant = soln.loc[rows, cols].groupby('variant', axis=1).sum()"
   ]
  },
  {
   "cell_type": "code",
   "execution_count": null,
   "metadata": {
    "pycharm": {
     "name": "#%%\n"
    }
   },
   "outputs": [],
   "source": [
    "infected_by_variant.plot(figsize=(10, 5))"
   ]
  },
  {
   "cell_type": "code",
   "execution_count": null,
   "metadata": {
    "pycharm": {
     "name": "#%%\n"
    }
   },
   "outputs": [],
   "source": [
    "infected_by_variant.div(infected_by_variant.sum(axis=1), axis=0).plot(figsize=(10, 5))"
   ]
  },
  {
   "cell_type": "code",
   "execution_count": null,
   "metadata": {},
   "outputs": [],
   "source": [
    "infected_by_variant"
   ]
  },
  {
   "cell_type": "code",
   "execution_count": null,
   "metadata": {
    "pycharm": {
     "name": "#%%\n"
    }
   },
   "outputs": [],
   "source": [
    "obs_rows = (obs.index.values >= start_date) & (obs.index.values <= end_date)\n",
    "obs['BA45'] = obs['BA.4'] + obs['BA.5']\n",
    "obs.drop(columns=['BA.4', 'BA.5']).loc[obs_rows,].plot(figsize=(10,5))"
   ]
  },
  {
   "cell_type": "code",
   "execution_count": null,
   "metadata": {
    "pycharm": {
     "name": "#%%\n"
    }
   },
   "outputs": [],
   "source": [
    "infected_by_variant.sum(axis=1).plot(figsize=(10, 5))"
   ]
  },
  {
   "cell_type": "code",
   "execution_count": null,
   "metadata": {
    "pycharm": {
     "name": "#%%\n"
    }
   },
   "outputs": [],
   "source": [
    "model.modeled_vs_observed_hosps().plot(figsize=(10,5))"
   ]
  },
  {
   "cell_type": "code",
   "execution_count": null,
   "metadata": {
    "pycharm": {
     "name": "#%%\n"
    }
   },
   "outputs": [],
   "source": [
    "do_create_report(model, outdir)"
   ]
  }
 ],
 "metadata": {
  "kernelspec": {
   "display_name": "Python 3 (ipykernel)",
   "language": "python",
   "name": "python3"
  },
  "language_info": {
   "codemirror_mode": {
    "name": "ipython",
    "version": 3
   },
   "file_extension": ".py",
   "mimetype": "text/x-python",
   "name": "python",
   "nbconvert_exporter": "python",
   "pygments_lexer": "ipython3",
   "version": "3.9.13"
  }
 },
 "nbformat": 4,
 "nbformat_minor": 4
}
