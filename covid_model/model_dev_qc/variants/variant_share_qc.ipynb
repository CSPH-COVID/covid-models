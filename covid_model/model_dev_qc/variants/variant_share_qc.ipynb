{
 "cells": [
  {
   "cell_type": "code",
   "execution_count": 1,
   "metadata": {
    "pycharm": {
     "name": "#%%\n"
    }
   },
   "outputs": [
    {
     "name": "stdout",
     "output_type": "stream",
     "text": [
      "/Users/brittneycontreras/PycharmProjects/covid-rmw-model\n"
     ]
    },
    {
     "name": "stderr",
     "output_type": "stream",
     "text": [
      "2023/02/06 07:33:25 INFO|============================================================\n"
     ]
    }
   ],
   "source": [
    "\"\"\" Python Standard Library \"\"\"\n",
    "import os\n",
    "import datetime as dt\n",
    "\n",
    "import json\n",
    "import logging\n",
    "\"\"\" Third Party Imports \"\"\"\n",
    "import numpy as np\n",
    "import seaborn as sns\n",
    "from matplotlib import pyplot as plt\n",
    "%matplotlib inline\n",
    "\"\"\" Local Imports \"\"\"\n",
    "if 'requirements.txt' not in os.listdir(os.getcwd()):\n",
    "    os.chdir(os.path.join('..','..','..'))\n",
    "print(os.getcwd())\n",
    "from covid_model.rmw_model import RMWCovidModel\n",
    "from covid_model.runnable_functions import do_single_fit, do_create_report\n",
    "from covid_model.utils import setup, get_filepath_prefix\n",
    "from covid_model.analysis.charts import plot_transmission_control\n",
    "\n",
    "os.environ['gcp_project'] = 'co-covid-models'\n",
    "os.environ['GOOGLE_APPLICATION_CREDENTIALS'] = \"co-covid-models-credentials.json\"\n",
    "\n",
    "outdir = setup(\"variant_share_qc.ipynb\")"
   ]
  },
  {
   "cell_type": "code",
   "execution_count": 2,
   "metadata": {
    "pycharm": {
     "name": "#%%\n"
    }
   },
   "outputs": [],
   "source": [
    "import pandas as pd\n",
    "obs_fpath = \"covid_model/model_dev_qc/variants/CDPHE Variant Data (manually transcribed and limited to model variants).csv\"\n",
    "obs = pd.read_csv(obs_fpath, parse_dates=['Date']).fillna(0)\n",
    "obs['Date'] = [d.date() for d in obs['Date']]\n",
    "obs = obs.set_index('Date')"
   ]
  },
  {
   "cell_type": "code",
   "execution_count": 3,
   "metadata": {
    "pycharm": {
     "name": "#%%\n"
    }
   },
   "outputs": [
    {
     "name": "stderr",
     "output_type": "stream",
     "text": [
      "2023/02/06 07:33:28 INFO|------------------------|{} Retrieving regional definitions\n",
      "2023/02/06 07:33:31 INFO|------------------------|{} Retrieving population data\n",
      "2023/02/06 07:33:33 INFO|------------------------|{} Retrieving vaccinations data\n",
      "2023/02/06 07:33:35 INFO|------------------------|{} Constructing vaccination projections\n",
      "2023/02/06 07:33:36 INFO|------------------------|{} Retrieving hospitalizations data\n",
      "2023/02/06 07:33:37 INFO|----------------------|{} Prepping Model\n"
     ]
    }
   ],
   "source": [
    "seeds = [\n",
    "    {\"param\": \"wildtype_seed\", \"attrs\": None, \"vals\": { \"2020-01-01\": 0,\"2020-01-24\": 1.9,\"2020-01-30\": 0}, \"desc\": \"2.2 wildtype seeds are planted each day in CO starting January 24th, 2020\"},\n",
    "    {\"param\": \"alpha_seed\", \"attrs\": None, \"vals\": {\"2020-01-01\": 0,\"2020-11-09\": 0.87,\"2020-12-04\": 0}, \"desc\": \"1 Alpha seed is planted each day starting November 9th, 2020 and ending December 4th, 2020\"},\n",
    "    {\"param\": \"delta_seed\", \"attrs\": None, \"vals\": {\"2020-01-01\": 0,\"2021-03-07\": 0.87,\"2021-04-11\": 0}, \"desc\": \"1 Delta seed is planted each day starting March 7th, 2021 and ending April 11th, 2021\"},\n",
    "    {\"param\": \"omicron_seed\", \"attrs\": None, \"vals\": {\"2020-01-01\": 0,\"2021-10-28\": 3.5,\"2021-12-10\": 0}, \"desc\": \"1 BA.1 seed is planted each day starting November 9th, 2021 and ending December 11th, 2021\"},\n",
    "    {\"param\": \"ba2_seed\", \"attrs\": None, \"vals\": {\"2020-01-01\": 0,\"2021-12-30\": 8.7,\"2022-01-08\": 4.4,\"2022-01-10\": 0}, \"desc\": \"5 BA.2 seeds are planted each day starting December 23rd, 2021 and ending February 2nd, 2022\"},\n",
    "    {\"param\": \"ba2121_seed\", \"attrs\": None, \"vals\": {\"2020-01-01\": 0,\"2022-01-25\": 5.2,\"2022-01-26\": 0}, \"desc\": \"5 BA.2.12.1 seeds are planted each day starting February 27th, 2022 and ending April 8th, 2022\"},\n",
    "    {\"param\": \"ba45_seed\", \"attrs\": None, \"vals\": {\"2020-01-01\": 0,\"2022-03-15\": 4.4,\"2022-03-25\": 0}, \"desc\": \"5 BA.4/5 seeds are planted each day started April 5th, 2022 and ending May 15, 2022\"},\n",
    "    {\"param\": \"bq_seed\", \"attrs\":  None, \"vals\":  {\"2020-01-01\": 0,\"2022-07-30\": 4.4,\"2022-10-25\": 0}, \"desc\": \"baseline Variant X seeding value for scenarios\"},\n",
    "    {\"param\": \"xbb_seed\", \"attrs\":  None, \"vals\":  {\"2020-01-01\": 0,\"2022-09-25\": 0.87 ,\"2022-10-25\": 0}}\n",
    "     ]\n",
    "\n",
    "model_args = {\n",
    "    'params_defs': json.load(open('covid_model/input/rmw_temp_params.json')) + seeds,\n",
    "    'region_defs': 'covid_model/input/rmw_region_definitions.json',\n",
    "    'vacc_proj_params': 'covid_model/input/rmw_vacc_proj_params.json',\n",
    "    'regions': ['con'],\n",
    "    'mobility_mode': None,\n",
    "    'start_date': '2020-01-24',\n",
    "    'end_date': '2023-03-01',\n",
    "    'max_step_size': 1.0,\n",
    "    'ode_method': 'RK45',\n",
    "    'hosp_reporting_frac': {\"2020-01-01\": 1, \"2022-03-01\": 0.932, \"2022-03-15\": 0.868, \"2022-03-30\": 0.8}\n",
    "}\n",
    "\n",
    "#model_args = {'base_spec_id': 4728, # input the spec ID for the model you want here to avoid having to fit it again\n",
    "              #'update_data': False}\n",
    "fit_args = {\n",
    "    #'fit_start_date': '2022-01-24',\n",
    "    #'fit_end_date': '2022-08-30',\n",
    "    'tc_min': 0.0,\n",
    "    'tc_max': 0.999,\n",
    "    'tc_window_size': 14,\n",
    "    'tc_window_batch_size': 6,\n",
    "    'tc_batch_increment': 2,\n",
    "    'last_tc_window_min_size': 14,\n",
    "    'outdir': outdir\n",
    "}\n",
    "model = RMWCovidModel(**model_args)\n",
    "model.prep(outdir=outdir)"
   ]
  },
  {
   "cell_type": "code",
   "execution_count": 4,
   "metadata": {
    "pycharm": {
     "name": "#%%\n"
    }
   },
   "outputs": [
    {
     "name": "stderr",
     "output_type": "stream",
     "text": [
      "2023/02/06 07:35:21 INFO|-------------------------|{} Retrieving regional definitions\n",
      "2023/02/06 07:35:23 INFO|-------------------------|{} Retrieving population data\n",
      "2023/02/06 07:35:26 INFO|-------------------------|{} Retrieving vaccinations data\n",
      "2023/02/06 07:35:28 INFO|-------------------------|{} Retrieving hospitalizations data\n",
      "2023/02/06 07:35:30 INFO|----------------------|{} Will fit 37 times\n",
      "2023/02/06 07:45:53 INFO|----------------------|{'fit_batch': '0'}: Transmission control fit 1/37 completed in 272.450463292 seconds: {0: {'con': 0.8160839274507892}, 14: {'con': 0.744420201322317}, 28: {'con': 0.6764072045421287}, 42: {'con': 0.37785171754277086}, 56: {'con': 0.470885110501834}, 70: {'con': 0.6788790263438879}}\n",
      "2023/02/06 07:45:54 INFO|-----------------------|{'fit_batch': '0'}: Running forward sim\n",
      "2023/02/06 07:56:20 INFO|----------------------|{'fit_batch': '1'}: Transmission control fit 2/37 completed in 624.171255958 seconds: {28: {'con': 0.8837529751757343}, 42: {'con': 2.7742800769807684e-09}, 56: {'con': 0.5016110883630555}, 70: {'con': 0.6276688911245288}, 84: {'con': 0.8668052994189513}, 98: {'con': 0.7595355164495783}}\n",
      "2023/02/06 07:56:20 INFO|-----------------------|{'fit_batch': '1'}: Running forward sim\n",
      "2023/02/06 07:58:05 INFO|----------------------|{'fit_batch': '2'}: Transmission control fit 3/37 completed in 103.90108791600005 seconds: {56: {'con': 0.4978688000844547}, 70: {'con': 0.6344878272522722}, 84: {'con': 0.8545232532683273}, 98: {'con': 0.8239201327660108}, 112: {'con': 0.8317238826982901}, 126: {'con': 0.9510914120454165}}\n",
      "2023/02/06 07:58:05 INFO|-----------------------|{'fit_batch': '2'}: Running forward sim\n",
      "2023/02/06 07:59:22 INFO|----------------------|{'fit_batch': '3'}: Transmission control fit 4/37 completed in 75.38124158400001 seconds: {84: {'con': 0.8556269331852514}, 98: {'con': 0.819184261252032}, 112: {'con': 0.8504846473312129}, 126: {'con': 0.8352974163602782}, 140: {'con': 0.7866322700870271}, 154: {'con': 0.7097980708752615}}\n",
      "2023/02/06 07:59:22 INFO|-----------------------|{'fit_batch': '3'}: Running forward sim\n",
      "2023/02/06 08:00:39 INFO|----------------------|{'fit_batch': '4'}: Transmission control fit 5/37 completed in 75.47747845899994 seconds: {112: {'con': 0.8523340003131086}, 126: {'con': 0.8251656391418589}, 140: {'con': 0.8189928323877457}, 154: {'con': 0.6083752678899634}, 168: {'con': 0.7955190261768849}, 182: {'con': 0.8595104395917333}}\n",
      "2023/02/06 08:00:39 INFO|-----------------------|{'fit_batch': '4'}: Running forward sim\n",
      "2023/02/06 08:01:38 INFO|----------------------|{'fit_batch': '5'}: Transmission control fit 6/37 completed in 56.804006541000035 seconds: {140: {'con': 0.8213071507467504}, 154: {'con': 0.5998443057917949}, 168: {'con': 0.808710092735878}, 182: {'con': 0.805037488348924}, 196: {'con': 0.7992921944424634}, 210: {'con': 0.7660885119258387}}\n",
      "2023/02/06 08:01:38 INFO|-----------------------|{'fit_batch': '5'}: Running forward sim\n",
      "2023/02/06 08:02:36 INFO|----------------------|{'fit_batch': '6'}: Transmission control fit 7/37 completed in 56.77867270799993 seconds: {168: {'con': 0.8088773840206307}, 182: {'con': 0.8042586273221313}, 196: {'con': 0.801343806888059}, 210: {'con': 0.7763539836562005}, 224: {'con': 0.7359949340709374}, 238: {'con': 0.8127042067147398}}\n",
      "2023/02/06 08:02:36 INFO|-----------------------|{'fit_batch': '6'}: Running forward sim\n",
      "2023/02/06 08:03:44 INFO|----------------------|{'fit_batch': '7'}: Transmission control fit 8/37 completed in 66.02041762499994 seconds: {196: {'con': 0.8030229366088005}, 210: {'con': 0.7691265192498706}, 224: {'con': 0.7525225992114993}, 238: {'con': 0.7598906882312694}, 252: {'con': 0.7173056744839114}, 266: {'con': 0.7585759577883217}}\n",
      "2023/02/06 08:03:44 INFO|-----------------------|{'fit_batch': '7'}: Running forward sim\n",
      "2023/02/06 08:05:06 INFO|----------------------|{'fit_batch': '8'}: Transmission control fit 9/37 completed in 79.85564041599991 seconds: {224: {'con': 0.7557241593344559}, 238: {'con': 0.749427210127487}, 252: {'con': 0.7394514809031207}, 266: {'con': 0.694551457576275}, 280: {'con': 0.7293249788472648}, 294: {'con': 0.769656179386919}}\n",
      "2023/02/06 08:05:06 INFO|-----------------------|{'fit_batch': '8'}: Running forward sim\n",
      "2023/02/06 08:06:17 INFO|----------------------|{'fit_batch': '9'}: Transmission control fit 10/37 completed in 69.61132095800008 seconds: {252: {'con': 0.7401531885634068}, 266: {'con': 0.6926265167078074}, 280: {'con': 0.7328716126400872}, 294: {'con': 0.7565638069557384}, 308: {'con': 0.8157184217053542}, 322: {'con': 0.7759858355509911}}\n",
      "2023/02/06 08:06:17 INFO|-----------------------|{'fit_batch': '9'}: Running forward sim\n",
      "2023/02/06 08:07:24 INFO|----------------------|{'fit_batch': '10'}: Transmission control fit 11/37 completed in 64.66087204199994 seconds: {280: {'con': 0.7325512680720115}, 294: {'con': 0.7570917450474187}, 308: {'con': 0.8116979084791268}, 322: {'con': 0.7987808302122836}, 336: {'con': 0.7874446237137724}, 350: {'con': 0.7465604556057167}}\n",
      "2023/02/06 08:07:24 INFO|-----------------------|{'fit_batch': '10'}: Running forward sim\n",
      "2023/02/06 08:08:35 INFO|----------------------|{'fit_batch': '11'}: Transmission control fit 12/37 completed in 69.78155175000006 seconds: {308: {'con': 0.8113501537294082}, 322: {'con': 0.8008124253009169}, 336: {'con': 0.78031947103862}, 350: {'con': 0.779180138829094}, 364: {'con': 0.7836513909676462}, 378: {'con': 0.6971477803627054}}\n",
      "2023/02/06 08:08:35 INFO|-----------------------|{'fit_batch': '11'}: Running forward sim\n",
      "2023/02/06 08:09:39 INFO|----------------------|{'fit_batch': '12'}: Transmission control fit 13/37 completed in 62.65655816599997 seconds: {336: {'con': 0.7799352738252476}, 350: {'con': 0.7811531001124062}, 364: {'con': 0.7770272089422403}, 378: {'con': 0.7171891552617802}, 392: {'con': 0.7902534443320806}, 406: {'con': 0.633750413255008}}\n",
      "2023/02/06 08:09:39 INFO|-----------------------|{'fit_batch': '12'}: Running forward sim\n",
      "2023/02/06 08:10:50 INFO|----------------------|{'fit_batch': '13'}: Transmission control fit 14/37 completed in 69.09355416599988 seconds: {364: {'con': 0.7768344406781482}, 378: {'con': 0.7212385346298547}, 392: {'con': 0.7762665210566471}, 406: {'con': 0.6956320254918953}, 420: {'con': 0.7186356712240515}, 434: {'con': 0.695915312904097}}\n",
      "2023/02/06 08:10:50 INFO|-----------------------|{'fit_batch': '13'}: Running forward sim\n",
      "2023/02/06 08:11:41 INFO|----------------------|{'fit_batch': '14'}: Transmission control fit 15/37 completed in 49.476696749999974 seconds: {392: {'con': 0.7764672539562595}, 406: {'con': 0.6946435079369201}, 420: {'con': 0.7214378559498684}, 434: {'con': 0.6815174998233549}, 448: {'con': 0.7636693585373209}, 462: {'con': 0.7802992786078842}}\n",
      "2023/02/06 08:11:41 INFO|-----------------------|{'fit_batch': '14'}: Running forward sim\n",
      "2023/02/06 08:13:00 INFO|----------------------|{'fit_batch': '15'}: Transmission control fit 16/37 completed in 77.2881912910002 seconds: {420: {'con': 0.7191348000657989}, 434: {'con': 0.687210622416646}, 448: {'con': 0.7536034391613367}, 462: {'con': 0.8324028354557822}, 476: {'con': 0.8073440588929262}, 490: {'con': 0.8433730592709412}}\n",
      "2023/02/06 08:13:00 INFO|-----------------------|{'fit_batch': '15'}: Running forward sim\n",
      "2023/02/06 08:14:08 INFO|----------------------|{'fit_batch': '16'}: Transmission control fit 17/37 completed in 66.16531200000009 seconds: {448: {'con': 0.75106580657997}, 462: {'con': 0.8299003683016253}, 476: {'con': 0.8097012562549338}, 490: {'con': 0.8398211446625443}, 504: {'con': 0.8094912397751709}, 518: {'con': 0.7796806790185077}}\n",
      "2023/02/06 08:14:08 INFO|-----------------------|{'fit_batch': '16'}: Running forward sim\n",
      "2023/02/06 08:15:07 INFO|----------------------|{'fit_batch': '17'}: Transmission control fit 18/37 completed in 56.55467245800037 seconds: {476: {'con': 0.8092928908095297}, 490: {'con': 0.8417105154269677}, 504: {'con': 0.8030085863854987}, 518: {'con': 0.8055777589717517}, 532: {'con': 0.7465914658304136}, 546: {'con': 0.7187083058954815}}\n",
      "2023/02/06 08:15:07 INFO|-----------------------|{'fit_batch': '17'}: Running forward sim\n",
      "2023/02/06 08:16:05 INFO|----------------------|{'fit_batch': '18'}: Transmission control fit 19/37 completed in 56.56485808299976 seconds: {504: {'con': 0.8026320316296163}, 518: {'con': 0.8068043575754833}, 532: {'con': 0.7396007179991582}, 546: {'con': 0.7191176517196489}, 560: {'con': 0.7284984068716346}, 574: {'con': 0.7355696300758809}}\n"
     ]
    },
    {
     "name": "stderr",
     "output_type": "stream",
     "text": [
      "2023/02/06 08:16:05 INFO|-----------------------|{'fit_batch': '18'}: Running forward sim\n",
      "2023/02/06 08:16:55 INFO|----------------------|{'fit_batch': '19'}: Transmission control fit 20/37 completed in 48.17726791699988 seconds: {532: {'con': 0.7415563153372485}, 546: {'con': 0.7178054624820304}, 560: {'con': 0.7293791756942931}, 574: {'con': 0.7337778112907634}, 588: {'con': 0.7669063015648497}, 602: {'con': 0.7716081692478892}}\n",
      "2023/02/06 08:16:55 INFO|-----------------------|{'fit_batch': '19'}: Running forward sim\n",
      "2023/02/06 08:18:01 INFO|----------------------|{'fit_batch': '20'}: Transmission control fit 21/37 completed in 64.28303779099997 seconds: {560: {'con': 0.7297701067160247}, 574: {'con': 0.7325223590834206}, 588: {'con': 0.7700171977988376}, 602: {'con': 0.7598484221987497}, 616: {'con': 0.7072476833398214}, 630: {'con': 0.730337574962899}}\n",
      "2023/02/06 08:18:01 INFO|-----------------------|{'fit_batch': '20'}: Running forward sim\n",
      "2023/02/06 08:19:05 INFO|----------------------|{'fit_batch': '21'}: Transmission control fit 22/37 completed in 62.54022341700011 seconds: {588: {'con': 0.7705420801601351}, 602: {'con': 0.7579614592288998}, 616: {'con': 0.7121170090128913}, 630: {'con': 0.7143931494235498}, 644: {'con': 0.7056616792183144}, 658: {'con': 0.7253534672525852}}\n",
      "2023/02/06 08:19:05 INFO|-----------------------|{'fit_batch': '21'}: Running forward sim\n",
      "2023/02/06 08:20:10 INFO|----------------------|{'fit_batch': '22'}: Transmission control fit 23/37 completed in 62.810729000000265 seconds: {616: {'con': 0.7128600455556444}, 630: {'con': 0.7128485388981807}, 644: {'con': 0.7095412598111955}, 658: {'con': 0.7156794997058915}, 672: {'con': 0.7343452750401006}, 686: {'con': 0.8138676560266336}}\n",
      "2023/02/06 08:20:10 INFO|-----------------------|{'fit_batch': '22'}: Running forward sim\n",
      "2023/02/06 08:21:25 INFO|----------------------|{'fit_batch': '23'}: Transmission control fit 24/37 completed in 73.47205345799966 seconds: {644: {'con': 0.7106139723979208}, 658: {'con': 0.7115556051131084}, 672: {'con': 0.7446977879197451}, 686: {'con': 0.7787052823473212}, 700: {'con': 0.7368986439667292}, 714: {'con': 0.7520381965133288}}\n",
      "2023/02/06 08:21:25 INFO|-----------------------|{'fit_batch': '23'}: Running forward sim\n",
      "2023/02/06 08:22:25 INFO|----------------------|{'fit_batch': '24'}: Transmission control fit 25/37 completed in 58.46894691699981 seconds: {672: {'con': 0.744886315816581}, 686: {'con': 0.7777540114136029}, 700: {'con': 0.7380598150829264}, 714: {'con': 0.7493625668287681}, 728: {'con': 0.7010189072041536}, 742: {'con': 0.6203889937467058}}\n",
      "2023/02/06 08:22:25 INFO|-----------------------|{'fit_batch': '24'}: Running forward sim\n",
      "2023/02/06 08:23:43 INFO|----------------------|{'fit_batch': '25'}: Transmission control fit 26/37 completed in 76.23380879099977 seconds: {700: {'con': 0.737775064630808}, 714: {'con': 0.7498179152350918}, 728: {'con': 0.6993223828985943}, 742: {'con': 0.6356320881719909}, 756: {'con': 0.6155774333792834}, 770: {'con': 0.5937816217916387}}\n",
      "2023/02/06 08:23:43 INFO|-----------------------|{'fit_batch': '25'}: Running forward sim\n",
      "2023/02/06 08:25:13 INFO|----------------------|{'fit_batch': '26'}: Transmission control fit 27/37 completed in 87.71222216600017 seconds: {728: {'con': 0.6990570075300679}, 742: {'con': 0.6342306993554493}, 756: {'con': 0.615875786687485}, 770: {'con': 0.5946621938211588}, 784: {'con': 0.643450014862256}, 798: {'con': 0.6596758088696052}}\n",
      "2023/02/06 08:25:13 INFO|-----------------------|{'fit_batch': '26'}: Running forward sim\n",
      "2023/02/06 08:26:19 INFO|----------------------|{'fit_batch': '27'}: Transmission control fit 28/37 completed in 64.75624554199976 seconds: {756: {'con': 0.6160105663878495}, 770: {'con': 0.594859315550289}, 784: {'con': 0.6427282579335458}, 798: {'con': 0.6625188386668365}, 812: {'con': 0.7135088980012918}, 826: {'con': 0.7261569444551011}}\n",
      "2023/02/06 08:26:19 INFO|-----------------------|{'fit_batch': '27'}: Running forward sim\n",
      "2023/02/06 08:27:18 INFO|----------------------|{'fit_batch': '28'}: Transmission control fit 29/37 completed in 57.577632916999846 seconds: {784: {'con': 0.6425635730664887}, 798: {'con': 0.662937678232922}, 812: {'con': 0.7135919165917485}, 826: {'con': 0.7256264115828102}, 840: {'con': 0.7212420321147041}, 854: {'con': 0.6936657273071097}}\n",
      "2023/02/06 08:27:18 INFO|-----------------------|{'fit_batch': '28'}: Running forward sim\n",
      "2023/02/06 08:28:17 INFO|----------------------|{'fit_batch': '29'}: Transmission control fit 30/37 completed in 56.714061540999865 seconds: {812: {'con': 0.7131221016533551}, 826: {'con': 0.7265799988905799}, 840: {'con': 0.7195371082474921}, 854: {'con': 0.6933271012469094}, 868: {'con': 0.69853494964438}, 882: {'con': 0.6449458056868621}}\n",
      "2023/02/06 08:28:17 INFO|-----------------------|{'fit_batch': '29'}: Running forward sim\n",
      "2023/02/06 08:31:05 INFO|----------------------|{'fit_batch': '30'}: Transmission control fit 31/37 completed in 70.62254141699987 seconds: {840: {'con': 0.7198246825257124}, 854: {'con': 0.6924802396238732}, 868: {'con': 0.7008701177001848}, 882: {'con': 0.6296483489374327}, 896: {'con': 0.6289560719613021}, 910: {'con': 0.6133875445401311}}\n",
      "2023/02/06 08:31:05 INFO|-----------------------|{'fit_batch': '30'}: Running forward sim\n",
      "2023/02/06 08:40:02 INFO|----------------------|{'fit_batch': '31'}: Transmission control fit 32/37 completed in 72.42981408299966 seconds: {868: {'con': 0.70099768271389}, 882: {'con': 0.6287734020062001}, 896: {'con': 0.63185606395172}, 910: {'con': 0.6011094572295735}, 924: {'con': 0.6287703432455615}, 938: {'con': 0.5596746554672167}}\n",
      "2023/02/06 08:40:02 INFO|-----------------------|{'fit_batch': '31'}: Running forward sim\n",
      "2023/02/06 09:40:28 INFO|----------------------|{'fit_batch': '32'}: Transmission control fit 33/37 completed in 81.77201295899977 seconds: {896: {'con': 0.6317357069126028}, 910: {'con': 0.6029179919579455}, 924: {'con': 0.6227094958054066}, 938: {'con': 0.5866465798366415}, 952: {'con': 0.640938129174738}, 966: {'con': 0.57130993798877}}\n",
      "2023/02/06 09:40:28 INFO|-----------------------|{'fit_batch': '32'}: Running forward sim\n",
      "2023/02/06 09:41:45 INFO|----------------------|{'fit_batch': '33'}: Transmission control fit 34/37 completed in 75.37412845800009 seconds: {924: {'con': 0.6224716070587178}, 938: {'con': 0.5876502618967965}, 952: {'con': 0.6378036799974501}, 966: {'con': 0.5822406979185478}, 980: {'con': 0.5994592769240487}, 994: {'con': 0.5549729948904406}}\n",
      "2023/02/06 09:41:45 INFO|-----------------------|{'fit_batch': '33'}: Running forward sim\n",
      "2023/02/06 09:43:07 INFO|----------------------|{'fit_batch': '34'}: Transmission control fit 35/37 completed in 80.64084066700025 seconds: {952: {'con': 0.6388176309766171}, 966: {'con': 0.5788015661645354}, 980: {'con': 0.6090401978384964}, 994: {'con': 0.5253096504851537}, 1008: {'con': 0.45080994403060054}, 1022: {'con': 0.4447574079736699}}\n",
      "2023/02/06 09:43:07 INFO|-----------------------|{'fit_batch': '34'}: Running forward sim\n",
      "2023/02/06 09:44:18 INFO|----------------------|{'fit_batch': '35'}: Transmission control fit 36/37 completed in 68.64551070799962 seconds: {980: {'con': 0.610853485005586}, 994: {'con': 0.5162523160053666}, 1008: {'con': 0.47445135862754945}, 1022: {'con': 0.37029717175741805}, 1036: {'con': 0.3888118441719244}, 1050: {'con': 0.5600088962248077}}\n",
      "2023/02/06 09:44:18 INFO|-----------------------|{'fit_batch': '35'}: Running forward sim\n",
      "2023/02/06 09:45:33 INFO|----------------------|{'fit_batch': '36'}: Transmission control fit 37/37 completed in 73.68693475000009 seconds: {1008: {'con': 0.47382813172407345}, 1022: {'con': 0.3657112540026242}, 1036: {'con': 0.3957398679874677}, 1050: {'con': 0.554075348911019}, 1064: {'con': 0.500819475549052}, 1078: {'con': 0.5608360780667764}}\n",
      "2023/02/06 09:45:33 INFO|-----------------------|{'fit_batch': '36'}: Running forward sim\n",
      "2023/02/06 09:45:35 INFO|----------------------|{'fit_batch': '36', 'run_type': 'fit'}: fitted TC: {0: {'con': 0.8160839274507892}, 14: {'con': 0.744420201322317}, 28: {'con': 0.8837529751757343}, 42: {'con': 2.7742800769807684e-09}, 56: {'con': 0.4978688000844547}, 70: {'con': 0.6344878272522722}, 84: {'con': 0.8556269331852514}, 98: {'con': 0.819184261252032}, 112: {'con': 0.8523340003131086}, 126: {'con': 0.8251656391418589}, 140: {'con': 0.8213071507467504}, 154: {'con': 0.5998443057917949}, 168: {'con': 0.8088773840206307}, 182: {'con': 0.8042586273221313}, 196: {'con': 0.8030229366088005}, 210: {'con': 0.7691265192498706}, 224: {'con': 0.7557241593344559}, 238: {'con': 0.749427210127487}, 252: {'con': 0.7401531885634068}, 266: {'con': 0.6926265167078074}, 280: {'con': 0.7325512680720115}, 294: {'con': 0.7570917450474187}, 308: {'con': 0.8113501537294082}, 322: {'con': 0.8008124253009169}, 336: {'con': 0.7799352738252476}, 350: {'con': 0.7811531001124062}, 364: {'con': 0.7768344406781482}, 378: {'con': 0.7212385346298547}, 392: {'con': 0.7764672539562595}, 406: {'con': 0.6946435079369201}, 420: {'con': 0.7191348000657989}, 434: {'con': 0.687210622416646}, 448: {'con': 0.75106580657997}, 462: {'con': 0.8299003683016253}, 476: {'con': 0.8092928908095297}, 490: {'con': 0.8417105154269677}, 504: {'con': 0.8026320316296163}, 518: {'con': 0.8068043575754833}, 532: {'con': 0.7415563153372485}, 546: {'con': 0.7178054624820304}, 560: {'con': 0.7297701067160247}, 574: {'con': 0.7325223590834206}, 588: {'con': 0.7705420801601351}, 602: {'con': 0.7579614592288998}, 616: {'con': 0.7128600455556444}, 630: {'con': 0.7128485388981807}, 644: {'con': 0.7106139723979208}, 658: {'con': 0.7115556051131084}, 672: {'con': 0.744886315816581}, 686: {'con': 0.7777540114136029}, 700: {'con': 0.737775064630808}, 714: {'con': 0.7498179152350918}, 728: {'con': 0.6990570075300679}, 742: {'con': 0.6342306993554493}, 756: {'con': 0.6160105663878495}, 770: {'con': 0.594859315550289}, 784: {'con': 0.6425635730664887}, 798: {'con': 0.662937678232922}, 812: {'con': 0.7131221016533551}, 826: {'con': 0.7265799988905799}, 840: {'con': 0.7198246825257124}, 854: {'con': 0.6924802396238732}, 868: {'con': 0.70099768271389}, 882: {'con': 0.6287734020062001}, 896: {'con': 0.6317357069126028}, 910: {'con': 0.6029179919579455}, 924: {'con': 0.6224716070587178}, 938: {'con': 0.5876502618967965}, 952: {'con': 0.6388176309766171}, 966: {'con': 0.5788015661645354}, 980: {'con': 0.610853485005586}, 994: {'con': 0.5162523160053666}, 1008: {'con': 0.47382813172407345}, 1022: {'con': 0.3657112540026242}, 1036: {'con': 0.3957398679874677}, 1050: {'con': 0.554075348911019}, 1064: {'con': 0.500819475549052}, 1078: {'con': 0.5608360929679376}}\n"
     ]
    },
    {
     "name": "stderr",
     "output_type": "stream",
     "text": [
      "2023/02/06 09:45:35 INFO|-----------------------|{'fit_batch': '36', 'run_type': 'fit'}: Running forward sim\n",
      "2023/02/06 09:45:37 INFO|----------------------|{'fit_batch': '36', 'run_type': 'fit'}: Uploading final results\n",
      "2023/02/06 09:45:45 INFO|----------------------|{'fit_batch': '36', 'run_type': 'fit'}: spec_id: 4845\n"
     ]
    }
   ],
   "source": [
    "#model.solve_seir()\n",
    "model = do_single_fit(**fit_args, base_model = model, prep_model=False)"
   ]
  },
  {
   "cell_type": "code",
   "execution_count": 5,
   "metadata": {
    "pycharm": {
     "name": "#%%\n"
    }
   },
   "outputs": [],
   "source": [
    "model.solve_seir()\n",
    "soln = model.solution_sum_df(['seir', 'variant'])"
   ]
  },
  {
   "cell_type": "code",
   "execution_count": null,
   "metadata": {
    "pycharm": {
     "name": "#%%\n"
    },
    "tags": []
   },
   "outputs": [],
   "source": [
    "start_date = dt.datetime.strptime('2020-02-01', '%Y-%m-%d').date()\n",
    "end_date = dt.datetime.strptime('2023-02-28', '%Y-%m-%d').date()\n",
    "rows = (soln.index.get_level_values(0) >= start_date) & (soln.index.get_level_values(0) <= end_date)\n",
    "cols = [any(colname == seir for seir in ['Ih', 'I', 'A']) for colname in soln.columns.get_level_values(0)]\n",
    "infected_by_variant = soln.loc[rows, cols].groupby('variant', axis=1).sum()"
   ]
  },
  {
   "cell_type": "code",
   "execution_count": null,
   "metadata": {
    "pycharm": {
     "name": "#%%\n"
    }
   },
   "outputs": [],
   "source": [
    "infected_by_variant.plot(figsize=(10, 5), cmap='Set2')"
   ]
  },
  {
   "cell_type": "code",
   "execution_count": null,
   "metadata": {
    "pycharm": {
     "name": "#%%\n"
    }
   },
   "outputs": [],
   "source": [
    "infected_by_variant.div(infected_by_variant.sum(axis=1), axis=0).plot(figsize=(10, 5), cmap='Set2')"
   ]
  },
  {
   "cell_type": "code",
   "execution_count": null,
   "metadata": {},
   "outputs": [],
   "source": [
    "# Saves data from plot above to .csv file - may need to update file path and name depending on preferences\n",
    "new_infected_by_variant = infected_by_variant.div(infected_by_variant.sum(axis=1), axis=0)\n",
    "new_df = pd.DataFrame(new_infected_by_variant)\n",
    "new_df.to_csv('./covid_model/output/norm_variant_prev.csv')"
   ]
  },
  {
   "cell_type": "code",
   "execution_count": null,
   "metadata": {
    "pycharm": {
     "name": "#%%\n"
    }
   },
   "outputs": [],
   "source": [
    "obs_rows = (obs.index.values >= start_date) & (obs.index.values <= end_date)\n",
    "obs['Omicron BA.4/5'] = obs['BA.4'] + obs['BA.5']\n",
    "obs['bq'] = obs['BQ.1'] + obs['BQ.1.1']\n",
    "obs['xbb_new'] = obs['XBB'] + obs['XBB.1.5']\n",
    "obs = obs.drop(columns=['BA.4', 'BA.5','BQ.1','BQ.1.1','XBB','XBB.1.5']).loc[obs_rows,]\n",
    "obs.plot(figsize=(10,5), cmap='Set2')"
   ]
  },
  {
   "cell_type": "code",
   "execution_count": null,
   "metadata": {
    "pycharm": {
     "name": "#%%\n"
    }
   },
   "outputs": [],
   "source": [
    "#infected_by_variant.sum(axis=1).plot(figsize=(10, 5))"
   ]
  },
  {
   "cell_type": "code",
   "execution_count": null,
   "metadata": {
    "pycharm": {
     "name": "#%%\n"
    }
   },
   "outputs": [],
   "source": [
    "#model.modeled_vs_observed_hosps().plot(figsize=(10,5), cmap='Set2')"
   ]
  },
  {
   "cell_type": "code",
   "execution_count": null,
   "metadata": {
    "pycharm": {
     "name": "#%%\n"
    }
   },
   "outputs": [],
   "source": [
    "#do_create_report(model, outdir)"
   ]
  },
  {
   "cell_type": "markdown",
   "metadata": {},
   "source": [
    "### Make figure plot comparing CDPHE data and model variant share for each variant separately"
   ]
  },
  {
   "cell_type": "code",
   "execution_count": null,
   "metadata": {
    "scrolled": true
   },
   "outputs": [],
   "source": [
    "# Clean up obs data under new df (new_obs) to make plotting easier\n",
    "\n",
    "# Normalize observed data\n",
    "new_obs = obs.div(obs.sum(axis=1), axis=0)\n",
    "# Get rid of seperate BA.4 and BA.5 columns\n",
    "#new_obs = new_obs.drop(columns=['BA.4', 'BA.5'])\n",
    "# Change column labels to match those of our model column labels\n",
    "new_obs.plot(cmap='Set2')\n",
    "new_obs = new_obs.rename(columns={\"Alpha\":\"alpha\", \"Delta\":\"delta\", \"Omicron\":\"omicron\", \"BA.2\":\"ba2\",\n",
    "                                  \"BA.2.12.1\":\"ba2121\",\"Other\":\"wildtype\", \"Omicron BA.4/5\":\"ba45\", \"bq\": \"bq\", \"xbb_new\":\"xbb\"})\n",
    "# Similarly, make the column order alphabetical like in our modeled dataframe\n",
    "new_obs = new_obs.reindex(columns=[\"alpha\",\"ba2\",\"ba2121\",\"ba45\",\"bq\",\"delta\",\"omicron\",\"wildtype\",\"xbb\"])\n",
    "# Create data label column that signifies each entry is observed data - this is useful for when we concat\n",
    "# this dataset with the modeled dataset\n",
    "new_obs['data_label'] = ['obs']*len(new_obs['alpha'])\n",
    "# Make the date into a column instead of the index. This just makes plotting easier later on\n",
    "new_obs['date'] = new_obs.index"
   ]
  },
  {
   "cell_type": "code",
   "execution_count": null,
   "metadata": {},
   "outputs": [],
   "source": [
    "new_obs.plot(cmap='Set2')"
   ]
  },
  {
   "cell_type": "code",
   "execution_count": null,
   "metadata": {},
   "outputs": [],
   "source": [
    "new_df.plot(cmap='Set2')"
   ]
  },
  {
   "cell_type": "code",
   "execution_count": null,
   "metadata": {
    "scrolled": true
   },
   "outputs": [],
   "source": [
    "# Now, we make our new dataframe for modeled variant prevalence (new_df)\n",
    "\n",
    "# Drop the 'none' column since we have nothing to compare this to in our observed data\n",
    "new_df = new_df.drop(columns=[\"none\"])\n",
    "new_df['data_label'] = ['modeled']*len(new_df['alpha'])\n",
    "new_df['date'] = new_df.index\n",
    "new_df.info()"
   ]
  },
  {
   "cell_type": "code",
   "execution_count": null,
   "metadata": {},
   "outputs": [],
   "source": [
    "new_obs.info()"
   ]
  },
  {
   "cell_type": "code",
   "execution_count": null,
   "metadata": {},
   "outputs": [],
   "source": [
    "# Concatenate our dataframes to make plotting with the 'hue' seaborn feature simple\n",
    "all_data = pd.concat([new_df, new_obs], ignore_index=True)"
   ]
  },
  {
   "cell_type": "code",
   "execution_count": null,
   "metadata": {},
   "outputs": [],
   "source": [
    "# Set seaborn plotting template\n",
    "sns.set_style('darkgrid')\n",
    "sns.set_context(\"paper\")"
   ]
  },
  {
   "cell_type": "code",
   "execution_count": null,
   "metadata": {},
   "outputs": [],
   "source": [
    "# Set other specifics about plotting like color palette and legend texts\n",
    "colors = ['peru', 'cadetblue']\n",
    "sns.set_palette(sns.color_palette(colors))\n",
    "legend_texts = ['Modeled', 'Observed']"
   ]
  },
  {
   "cell_type": "code",
   "execution_count": null,
   "metadata": {},
   "outputs": [],
   "source": [
    "plot = sns.lineplot(data=all_data, x='date', y='bq', hue=\"data_label\", palette=colors)"
   ]
  },
  {
   "cell_type": "code",
   "execution_count": null,
   "metadata": {},
   "outputs": [],
   "source": [
    "# Plot and save figure for each variant comparison\n",
    "# ***Note: This will not show the plots in the jupyter notebook, but rather output them to you *main* directory\n",
    "for col in all_data:\n",
    "    plot = sns.lineplot(data=all_data, x='date', y=col, hue=\"data_label\", palette=colors)\n",
    "    plot.set(xlabel='Date', ylabel='Variant Prevalence (Normalized)')\n",
    "    plot.set_title(f'{col} variant share')\n",
    "    h,l = plot.get_legend_handles_labels()\n",
    "    l = legend_texts\n",
    "    plot.legend(h,l, loc=0, borderaxespad=0.,title='Data Source' ,fontsize=10)\n",
    "    plot.get_figure().savefig(f\"{col}_variant_share.png\", dpi=300, bbox_inches = \"tight\")\n",
    "    plt.clf()"
   ]
  },
  {
   "cell_type": "code",
   "execution_count": null,
   "metadata": {},
   "outputs": [],
   "source": []
  }
 ],
 "metadata": {
  "kernelspec": {
   "display_name": "Python 3 (ipykernel)",
   "language": "python",
   "name": "python3"
  },
  "language_info": {
   "codemirror_mode": {
    "name": "ipython",
    "version": 3
   },
   "file_extension": ".py",
   "mimetype": "text/x-python",
   "name": "python",
   "nbconvert_exporter": "python",
   "pygments_lexer": "ipython3",
   "version": "3.9.12"
  }
 },
 "nbformat": 4,
 "nbformat_minor": 4
}
