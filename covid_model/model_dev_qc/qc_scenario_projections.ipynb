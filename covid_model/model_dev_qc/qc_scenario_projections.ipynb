{
 "cells": [
  {
   "cell_type": "markdown",
   "metadata": {
    "pycharm": {
     "name": "#%% md\n"
    }
   },
   "source": [
    "### Setup"
   ]
  },
  {
   "cell_type": "code",
   "execution_count": 1,
   "metadata": {
    "pycharm": {
     "name": "#%%\n"
    }
   },
   "outputs": [
    {
     "name": "stdout",
     "output_type": "stream",
     "text": [
      "/Users/brittneycontreras/PycharmProjects/covid-models\n"
     ]
    }
   ],
   "source": [
    "\"\"\" Python Standard Library \"\"\"\n",
    "import os\n",
    "import datetime as dt\n",
    "import json\n",
    "import logging\n",
    "\"\"\" Third Party Imports \"\"\"\n",
    "import numpy as np\n",
    "import pandas as pd\n",
    "from matplotlib import pyplot as plt\n",
    "%matplotlib inline\n",
    "import seaborn as sns\n",
    "\"\"\" Local Imports \"\"\"\n",
    "if 'requirements.txt' not in os.listdir(os.getcwd()):\n",
    "    os.chdir(os.path.join('..','..','..'))\n",
    "print(os.getcwd())\n",
    "from covid_model.model import CovidModel\n",
    "from covid_model.runnable_functions import do_single_fit, do_fit_scenarios, do_create_multiple_reports\n",
    "from covid_model.utils import setup, get_filepath_prefix\n",
    "from covid_model.analysis.charts import plot_transmission_control\n",
    "\n",
    "os.environ['gcp_project'] = 'co-covid-models'\n",
    "os.environ['GOOGLE_APPLICATION_CREDENTIALS'] = \"co-covid-models-credentials.json\""
   ]
  },
  {
   "cell_type": "code",
   "execution_count": 2,
   "metadata": {
    "pycharm": {
     "name": "#%%\n"
    },
    "scrolled": true
   },
   "outputs": [
    {
     "name": "stderr",
     "output_type": "stream",
     "text": [
      "2022/10/28 10:10:06 INFO|============================================================\n"
     ]
    }
   ],
   "source": [
    "# set up the output directory for this Jupyter notebook\n",
    "outdir = setup(\"20221109_scenario_projections.ipynb\")"
   ]
  },
  {
   "cell_type": "markdown",
   "metadata": {
    "pycharm": {
     "name": "#%% md\n"
    }
   },
   "source": [
    "### Fit an initial scenario through February 2022"
   ]
  },
  {
   "cell_type": "code",
   "execution_count": 3,
   "metadata": {
    "pycharm": {
     "name": "#%%\n"
    }
   },
   "outputs": [
    {
     "name": "stderr",
     "output_type": "stream",
     "text": [
      "2022/10/28 10:10:12 INFO|-------------------------|{} Retrieving vaccinations data\n",
      "2022/10/28 10:10:19 INFO|-------------------------|{} Constructing vaccination projections\n",
      "2022/10/28 10:10:23 INFO|-------------------------|{} Retrieving hospitalizations data\n",
      "2022/10/28 10:10:30 INFO|----------------------|{} Prepping Model\n",
      "2022/10/28 10:10:30 INFO|-----------------------|{} Prepping Model\n",
      "2022/10/28 10:12:42 INFO|----------------------|{} Model prepped for fitting in 132.11734254099997 seconds.\n",
      "2022/10/28 10:12:42 INFO|----------------------|{} Will fit 25 times\n",
      "2022/10/28 10:21:09 INFO|----------------------|{'fit_batch': '0'}: Transmission control fit 1/25 completed in 507.153976625 seconds: {0: {'co': 0.8306366573462861}, 14: {'co': 0.6964605500728897}, 28: {'co': 0.5712212382169275}, 42: {'co': 0.0034172328618746997}, 56: {'co': 0.6814327403468164}, 70: {'co': 0.8913015126022406}}\n",
      "2022/10/28 10:21:09 INFO|-----------------------|{'fit_batch': '0'}: Running forward sim\n",
      "2022/10/28 10:22:51 INFO|----------------------|{'fit_batch': '1'}: Transmission control fit 2/25 completed in 99.17227720800008 seconds: {28: {'co': 0.5671378805699239}, 42: {'co': 1.9489201927168757e-15}, 56: {'co': 0.6954892962346252}, 70: {'co': 0.8359292635390827}, 84: {'co': 0.8209506047577244}, 98: {'co': 0.8732885697323431}}\n",
      "2022/10/28 10:22:51 INFO|-----------------------|{'fit_batch': '1'}: Running forward sim\n",
      "2022/10/28 10:24:46 INFO|----------------------|{'fit_batch': '2'}: Transmission control fit 3/25 completed in 112.20217320799998 seconds: {56: {'co': 0.6966643050709015}, 70: {'co': 0.833269382748188}, 84: {'co': 0.8289562702586254}, 98: {'co': 0.8349942610065727}, 112: {'co': 0.8626447843237637}, 126: {'co': 0.9187357507833992}}\n",
      "2022/10/28 10:24:46 INFO|-----------------------|{'fit_batch': '2'}: Running forward sim\n",
      "2022/10/28 10:26:27 INFO|----------------------|{'fit_batch': '3'}: Transmission control fit 4/25 completed in 98.27840204100005 seconds: {84: {'co': 0.8296267084735902}, 98: {'co': 0.8316912752154394}, 112: {'co': 0.877423068770702}, 126: {'co': 0.8238373225403035}, 140: {'co': 0.7629559967954745}, 154: {'co': 0.6614389104610042}}\n",
      "2022/10/28 10:26:27 INFO|-----------------------|{'fit_batch': '3'}: Running forward sim\n",
      "2022/10/28 10:28:08 INFO|----------------------|{'fit_batch': '4'}: Transmission control fit 5/25 completed in 98.649453042 seconds: {112: {'co': 0.8774904787370315}, 126: {'co': 0.8243037775983401}, 140: {'co': 0.7606937952812969}, 154: {'co': 0.6708648994210087}, 168: {'co': 0.8437499529274918}, 182: {'co': 0.7840785892611261}}\n",
      "2022/10/28 10:28:08 INFO|-----------------------|{'fit_batch': '4'}: Running forward sim\n",
      "2022/10/28 10:29:37 INFO|----------------------|{'fit_batch': '5'}: Transmission control fit 6/25 completed in 86.18716345899998 seconds: {140: {'co': 0.760453059907473}, 154: {'co': 0.6712878657386694}, 168: {'co': 0.8432437831782136}, 182: {'co': 0.7801991626817616}, 196: {'co': 0.8275651158427891}, 210: {'co': 0.7403273212335817}}\n",
      "2022/10/28 10:29:37 INFO|-----------------------|{'fit_batch': '5'}: Running forward sim\n",
      "2022/10/28 10:30:54 INFO|----------------------|{'fit_batch': '6'}: Transmission control fit 7/25 completed in 74.7937166669999 seconds: {168: {'co': 0.8430551485285515}, 182: {'co': 0.782636300114322}, 196: {'co': 0.8196039936701962}, 210: {'co': 0.771070686833614}, 224: {'co': 0.7742311099056587}, 238: {'co': 0.7168195010693873}}\n",
      "2022/10/28 10:30:54 INFO|-----------------------|{'fit_batch': '6'}: Running forward sim\n",
      "2022/10/28 10:32:23 INFO|----------------------|{'fit_batch': '7'}: Transmission control fit 8/25 completed in 86.55133529199998 seconds: {196: {'co': 0.8191510897878048}, 210: {'co': 0.772607078079673}, 224: {'co': 0.7703420074165553}, 238: {'co': 0.7217690029374015}, 252: {'co': 0.7177907499453551}, 266: {'co': 0.6919029103543539}}\n",
      "2022/10/28 10:32:23 INFO|-----------------------|{'fit_batch': '7'}: Running forward sim\n",
      "2022/10/28 10:33:46 INFO|----------------------|{'fit_batch': '8'}: Transmission control fit 9/25 completed in 79.90109941700007 seconds: {224: {'co': 0.7713215421390761}, 238: {'co': 0.7185439258864629}, 252: {'co': 0.7226277809564265}, 266: {'co': 0.6833515390429477}, 280: {'co': 0.7227288711304752}, 294: {'co': 0.7531948503222315}}\n",
      "2022/10/28 10:33:46 INFO|-----------------------|{'fit_batch': '8'}: Running forward sim\n",
      "2022/10/28 10:35:21 INFO|----------------------|{'fit_batch': '9'}: Transmission control fit 10/25 completed in 92.44269945799988 seconds: {252: {'co': 0.7220971090191174}, 266: {'co': 0.6850776427138202}, 280: {'co': 0.7200762826462823}, 294: {'co': 0.7580891266974956}, 308: {'co': 0.8257609517069293}, 322: {'co': 0.7957021040440659}}\n",
      "2022/10/28 10:35:21 INFO|-----------------------|{'fit_batch': '9'}: Running forward sim\n",
      "2022/10/28 10:36:50 INFO|----------------------|{'fit_batch': '10'}: Transmission control fit 11/25 completed in 86.09633845899998 seconds: {280: {'co': 0.7198335911198326}, 294: {'co': 0.7589635567498012}, 308: {'co': 0.8229260678735543}, 322: {'co': 0.8100539481408559}, 336: {'co': 0.7872617965674056}, 350: {'co': 0.773425562801287}}\n",
      "2022/10/28 10:36:50 INFO|-----------------------|{'fit_batch': '10'}: Running forward sim\n",
      "2022/10/28 10:38:35 INFO|----------------------|{'fit_batch': '11'}: Transmission control fit 12/25 completed in 102.75675270800002 seconds: {308: {'co': 0.8220309689539026}, 322: {'co': 0.8119730391256558}, 336: {'co': 0.7825083195395969}, 350: {'co': 0.7941244009958431}, 364: {'co': 0.8115621180963362}, 378: {'co': 0.7076408860161978}}\n",
      "2022/10/28 10:38:35 INFO|-----------------------|{'fit_batch': '11'}: Running forward sim\n",
      "2022/10/28 10:39:57 INFO|----------------------|{'fit_batch': '12'}: Transmission control fit 13/25 completed in 79.23487387499995 seconds: {336: {'co': 0.782156947856048}, 350: {'co': 0.7959274635576539}, 364: {'co': 0.8048494361364662}, 378: {'co': 0.7399311707829084}, 392: {'co': 0.8038784926584076}, 406: {'co': 0.6086732930844202}}\n",
      "2022/10/28 10:39:57 INFO|-----------------------|{'fit_batch': '12'}: Running forward sim\n",
      "2022/10/28 10:41:29 INFO|----------------------|{'fit_batch': '13'}: Transmission control fit 14/25 completed in 89.78529345800007 seconds: {364: {'co': 0.8028783971845618}, 378: {'co': 0.7464451355217524}, 392: {'co': 0.7793429646311241}, 406: {'co': 0.707408912357696}, 420: {'co': 0.731221058038812}, 434: {'co': 0.6487025965410179}}\n",
      "2022/10/28 10:41:29 INFO|-----------------------|{'fit_batch': '13'}: Running forward sim\n",
      "2022/10/28 10:43:02 INFO|----------------------|{'fit_batch': '14'}: Transmission control fit 15/25 completed in 90.26757720800015 seconds: {392: {'co': 0.7784514049710962}, 406: {'co': 0.7134870129248471}, 420: {'co': 0.7175234188245788}, 434: {'co': 0.68794152730954}, 448: {'co': 0.7421172324985654}, 462: {'co': 0.8008382624189985}}\n",
      "2022/10/28 10:43:02 INFO|-----------------------|{'fit_batch': '14'}: Running forward sim\n",
      "2022/10/28 10:44:33 INFO|----------------------|{'fit_batch': '15'}: Transmission control fit 16/25 completed in 88.24618833299974 seconds: {420: {'co': 0.7174135296927515}, 434: {'co': 0.6886149078359421}, 448: {'co': 0.7402772721702315}, 462: {'co': 0.8137666756248424}, 476: {'co': 0.7869599166015324}, 490: {'co': 0.8517732984112579}}\n",
      "2022/10/28 10:44:33 INFO|-----------------------|{'fit_batch': '15'}: Running forward sim\n",
      "2022/10/28 10:45:53 INFO|----------------------|{'fit_batch': '16'}: Transmission control fit 17/25 completed in 76.62025679199996 seconds: {448: {'co': 0.7407194113174955}, 462: {'co': 0.812693594470471}, 476: {'co': 0.7926573123839644}, 490: {'co': 0.8288342936746597}, 504: {'co': 0.7939073064124257}, 518: {'co': 0.7441011494501294}}\n",
      "2022/10/28 10:45:53 INFO|-----------------------|{'fit_batch': '16'}: Running forward sim\n",
      "2022/10/28 10:47:10 INFO|----------------------|{'fit_batch': '17'}: Transmission control fit 18/25 completed in 75.23995133399967 seconds: {476: {'co': 0.7917848682944858}, 490: {'co': 0.8301687864506999}, 504: {'co': 0.7870317798888572}, 518: {'co': 0.7777326912226281}, 532: {'co': 0.7635306717296976}, 546: {'co': 0.6987931390807889}}\n",
      "2022/10/28 10:47:10 INFO|-----------------------|{'fit_batch': '17'}: Running forward sim\n"
     ]
    },
    {
     "name": "stderr",
     "output_type": "stream",
     "text": [
      "2022/10/28 10:48:17 INFO|----------------------|{'fit_batch': '18'}: Transmission control fit 19/25 completed in 64.091160167 seconds: {504: {'co': 0.7862507288678809}, 518: {'co': 0.7800460084633297}, 532: {'co': 0.7569254451330324}, 546: {'co': 0.7093452279970082}, 560: {'co': 0.7431796813074834}, 574: {'co': 0.7376454710769529}}\n",
      "2022/10/28 10:48:17 INFO|-----------------------|{'fit_batch': '18'}: Running forward sim\n",
      "2022/10/28 10:49:50 INFO|----------------------|{'fit_batch': '19'}: Transmission control fit 20/25 completed in 89.85824170900014 seconds: {532: {'co': 0.7561941836540607}, 546: {'co': 0.711415319176938}, 560: {'co': 0.7394194790365072}, 574: {'co': 0.7493923580669691}, 588: {'co': 0.7863036945990122}, 602: {'co': 0.7652705733983328}}\n",
      "2022/10/28 10:49:50 INFO|-----------------------|{'fit_batch': '19'}: Running forward sim\n",
      "2022/10/28 10:51:08 INFO|----------------------|{'fit_batch': '20'}: Transmission control fit 21/25 completed in 76.06712670900015 seconds: {560: {'co': 0.739416118215732}, 574: {'co': 0.7479206408306821}, 588: {'co': 0.7873206147569131}, 602: {'co': 0.7649518954439172}, 616: {'co': 0.7156481021175781}, 630: {'co': 0.739117239533372}}\n",
      "2022/10/28 10:51:08 INFO|-----------------------|{'fit_batch': '20'}: Running forward sim\n",
      "2022/10/28 10:52:32 INFO|----------------------|{'fit_batch': '21'}: Transmission control fit 22/25 completed in 80.79987054100002 seconds: {588: {'co': 0.7876251382711865}, 602: {'co': 0.7640258207668345}, 616: {'co': 0.7179870524549907}, 630: {'co': 0.7343370235237827}, 644: {'co': 0.7139780800064776}, 658: {'co': 0.7445904039089479}}\n",
      "2022/10/28 10:52:32 INFO|-----------------------|{'fit_batch': '21'}: Running forward sim\n",
      "2022/10/28 10:54:05 INFO|----------------------|{'fit_batch': '22'}: Transmission control fit 23/25 completed in 90.7590092080004 seconds: {616: {'co': 0.7174657364447684}, 630: {'co': 0.7360100447958323}, 644: {'co': 0.7098397223188938}, 658: {'co': 0.7582161244196347}, 672: {'co': 0.7393675973371929}, 686: {'co': 0.811883263425374}}\n",
      "2022/10/28 10:54:05 INFO|-----------------------|{'fit_batch': '22'}: Running forward sim\n",
      "2022/10/28 10:56:04 INFO|----------------------|{'fit_batch': '23'}: Transmission control fit 24/25 completed in 116.48126450000018 seconds: {644: {'co': 0.7113021017765601}, 658: {'co': 0.7521544913343791}, 672: {'co': 0.7591920929732748}, 686: {'co': 0.737194203694037}, 700: {'co': 0.6536680137724935}, 714: {'co': 0.8001446070935712}}\n",
      "2022/10/28 10:56:04 INFO|-----------------------|{'fit_batch': '23'}: Running forward sim\n",
      "2022/10/28 10:58:18 INFO|----------------------|{'fit_batch': '24'}: Transmission control fit 25/25 completed in 131.32193854099978 seconds: {672: {'co': 0.7586208926648009}, 686: {'co': 0.738424591815054}, 700: {'co': 0.6495173459227872}, 714: {'co': 0.8026017854711729}, 728: {'co': 0.8432000609020418}, 742: {'co': 0.8634446441028706}}\n",
      "2022/10/28 10:58:18 INFO|-----------------------|{'fit_batch': '24'}: Running forward sim\n",
      "2022/10/28 10:58:21 INFO|----------------------|{'fit_batch': '24', 'run_type': 'fit'}: fitted TC: {0: {'co': 0.8306366573462861}, 14: {'co': 0.6964605500728897}, 28: {'co': 0.5671378805699239}, 42: {'co': 1.9489201927168757e-15}, 56: {'co': 0.6966643050709015}, 70: {'co': 0.833269382748188}, 84: {'co': 0.8296267084735902}, 98: {'co': 0.8316912752154394}, 112: {'co': 0.8774904787370315}, 126: {'co': 0.8243037775983401}, 140: {'co': 0.760453059907473}, 154: {'co': 0.6712878657386694}, 168: {'co': 0.8430551485285515}, 182: {'co': 0.782636300114322}, 196: {'co': 0.8191510897878048}, 210: {'co': 0.772607078079673}, 224: {'co': 0.7713215421390761}, 238: {'co': 0.7185439258864629}, 252: {'co': 0.7220971090191174}, 266: {'co': 0.6850776427138202}, 280: {'co': 0.7198335911198326}, 294: {'co': 0.7589635567498012}, 308: {'co': 0.8220309689539026}, 322: {'co': 0.8119730391256558}, 336: {'co': 0.782156947856048}, 350: {'co': 0.7959274635576539}, 364: {'co': 0.8028783971845618}, 378: {'co': 0.7464451355217524}, 392: {'co': 0.7784514049710962}, 406: {'co': 0.7134870129248471}, 420: {'co': 0.7174135296927515}, 434: {'co': 0.6886149078359421}, 448: {'co': 0.7407194113174955}, 462: {'co': 0.812693594470471}, 476: {'co': 0.7917848682944858}, 490: {'co': 0.8301687864506999}, 504: {'co': 0.7862507288678809}, 518: {'co': 0.7800460084633297}, 532: {'co': 0.7561941836540607}, 546: {'co': 0.711415319176938}, 560: {'co': 0.739416118215732}, 574: {'co': 0.7479206408306821}, 588: {'co': 0.7876251382711865}, 602: {'co': 0.7640258207668345}, 616: {'co': 0.7174657364447684}, 630: {'co': 0.7360100447958323}, 644: {'co': 0.7113021017765601}, 658: {'co': 0.7521544913343791}, 672: {'co': 0.7586208926648009}, 686: {'co': 0.738424591815054}, 700: {'co': 0.6495173459227872}, 714: {'co': 0.8026017854711729}, 728: {'co': 0.8432000609020418}, 742: {'co': 0.8634446590040318}}\n",
      "2022/10/28 10:58:21 INFO|-----------------------|{'fit_batch': '24', 'run_type': 'fit'}: Running forward sim\n",
      "2022/10/28 10:58:24 INFO|----------------------|{'fit_batch': '24', 'run_type': 'fit'}: Uploading final results\n",
      "2022/10/28 10:58:36 INFO|----------------------|{'fit_batch': '24', 'run_type': 'fit'}: spec_id: 4190\n"
     ]
    }
   ],
   "source": [
    "# designate the arguments for how the model will behave\n",
    "model_args = {\n",
    "    'params_defs': 'covid_model/analysis/20221109_nov_gov_briefing/20221109_scenario_params.json',\n",
    "    'region_defs': 'covid_model/input/region_definitions.json',\n",
    "    'vacc_proj_params': 'covid_model/analysis/20221109_nov_gov_briefing/20221109_vacc_proj_params.json',\n",
    "    'start_date': '2020-01-24',\n",
    "    'end_date': '2024-01-01',\n",
    "}\n",
    "\n",
    "# this is how the fit will behave\n",
    "# place the outdir argument here to tell the model fit where to go\n",
    "fit_args = {'outdir': outdir,\n",
    "            'fit_end_date': '2022-02-28'\n",
    "}\n",
    "\n",
    "# because all the scenarios are the same \n",
    "model = do_single_fit(**fit_args, **model_args)"
   ]
  },
  {
   "cell_type": "markdown",
   "metadata": {
    "pycharm": {
     "name": "#%% md\n"
    }
   },
   "source": [
    "### Create and run scenarios from Feb 2022 to present"
   ]
  },
  {
   "cell_type": "code",
   "execution_count": 5,
   "metadata": {
    "pycharm": {
     "name": "#%%\n"
    }
   },
   "outputs": [],
   "source": [
    "multiprocess = 4\n",
    "\n",
    "scenario_params = json.load(open('covid_model/analysis/20221109_nov_gov_briefing/20221109_scenario_params.json'))\n",
    "\n",
    "model_args = {\n",
    "    'base_spec_id': model.spec_id, # use the spec id that was output from the model fit\n",
    "}\n",
    "model_fit_args = {\n",
    "    'outdir': outdir,\n",
    "    'fit_start_date': '2022-03-01', # set the start date for the earliest point at which the scenarios start to differ from one another\n",
    "    'pre_solve_model': True # force the model to establish initial conditions so the fit can start on the fit start date\n",
    "}\n",
    "\n",
    "# define vaccine effectiveness for < 5 (this is a multiplier for the baseline vaccine effectiveness for 0-19)\n",
    "vacc_eff_lt5 = 0.5\n",
    "\n",
    "# Create different scenarios to model\n",
    "scenario_model_args = []\n",
    "for vx_seed in [0, 5]:\n",
    "    for vir_mult in [0.833, 2.38]:\n",
    "        hrf = {\"2020-01-01\": 1, \"2022-03-01\": (0.66 + 0.34*0.8),\n",
    "               \"2022-03-15\": (0.34 + 0.66*0.8), \"2022-03-30\": 0.8}\n",
    "        vx_adjust = [{\"param\": \"vx_seed\",\n",
    "                      \"vals\": {\"2020-01-01\": 0, \"2022-09-30\": vx_seed, \"2022-10-30\": 0},\n",
    "                      \"desc\": \"Variant X seeding\"}]\n",
    "        vir_adjust = [{\"param\": \"hosp\",\n",
    "                       \"attrs\": {\"variant\": \"vx\"},\n",
    "                       \"mults\": {\"2020-01-01\": vir_mult},\n",
    "                       \"desc\": \"Variant X hospitalization multiplier\"}]\n",
    "        lt5_vacc_adjust = [{\"param\": \"immunity\",\n",
    "                            \"attrs\": {'age': '0-19', 'vacc': 'shot1'},\n",
    "                            \"mults\": {\"2020-01-01\": 1,\n",
    "                                      \"2022-06-24\": 0.99 + 0.01*vacc_eff_lt5,\n",
    "                                      \"2022-06-30\": 0.98 + 0.02*vacc_eff_lt5,\n",
    "                                      \"2022-07-08\": 0.97 + 0.03*vacc_eff_lt5,\n",
    "                                      \"2022-07-19\": 0.96 + 0.04*vacc_eff_lt5,\n",
    "                                      \"2022-07-29\": 0.95 + 0.05*vacc_eff_lt5,\n",
    "                                      \"2022-08-11\": 0.94 + 0.06*vacc_eff_lt5,\n",
    "                                      \"2022-08-30\": 0.93 + 0.07*vacc_eff_lt5,\n",
    "                                      \"2022-09-26\": 0.92 + 0.08*vacc_eff_lt5,\n",
    "                                      \"2022-10-26\": 0.91 + 0.09*vacc_eff_lt5,},\n",
    "                            \"desc\": \"weighted average using share of 0-19 getting shot1 who are under 5\"}]\n",
    "        scenario_model_args.append({'params_defs': scenario_params + vx_adjust + vir_adjust + lt5_vacc_adjust,\n",
    "                                    'hosp_reporting_frac': hrf,\n",
    "                                    'tags': {'vx_seed': vx_seed,\n",
    "                                             'vir_mult': vir_mult,\n",
    "                                                }})\n",
    "            "
   ]
  },
  {
   "cell_type": "code",
   "execution_count": 6,
   "metadata": {},
   "outputs": [
    {
     "data": {
      "text/plain": [
       "4"
      ]
     },
     "execution_count": 6,
     "metadata": {},
     "output_type": "execute_result"
    }
   ],
   "source": [
    "# check how many scenarios there are\n",
    "len(scenario_model_args)"
   ]
  },
  {
   "cell_type": "code",
   "execution_count": 7,
   "metadata": {},
   "outputs": [
    {
     "name": "stderr",
     "output_type": "stream",
     "text": [
      "2022/10/28 11:37:57 INFO|============================================================\n",
      "2022/10/28 11:37:57 INFO|============================================================\n",
      "2022/10/28 11:37:57 INFO|============================================================\n",
      "2022/10/28 11:37:57 INFO|============================================================\n",
      "2022/10/28 11:38:01 INFO|-----------|{'vx_seed': 0, 'vir_mult': 2.38, 'booster_mult': 0} Retrieving vaccinations data\n",
      "2022/10/28 11:38:01 INFO|-----------|{'vx_seed': 5, 'vir_mult': 0.833, 'booster_mult': 0} Retrieving vaccinations data\n",
      "2022/10/28 11:38:01 INFO|-----------|{'vx_seed': 0, 'vir_mult': 0.833, 'booster_mult': 0} Retrieving vaccinations data\n",
      "2022/10/28 11:38:01 INFO|-----------|{'vx_seed': 5, 'vir_mult': 2.38, 'booster_mult': 0} Retrieving vaccinations data\n",
      "2022/10/28 11:38:03 INFO|-----------|{'vx_seed': 5, 'vir_mult': 0.833, 'booster_mult': 0} Constructing vaccination projections\n",
      "2022/10/28 11:38:04 INFO|-----------|{'vx_seed': 0, 'vir_mult': 0.833, 'booster_mult': 0} Constructing vaccination projections\n",
      "2022/10/28 11:38:04 INFO|-----------|{'vx_seed': 0, 'vir_mult': 2.38, 'booster_mult': 0} Constructing vaccination projections\n",
      "2022/10/28 11:38:04 INFO|-----------|{'vx_seed': 5, 'vir_mult': 2.38, 'booster_mult': 0} Constructing vaccination projections\n",
      "2022/10/28 11:38:08 INFO|-----------|{'vx_seed': 5, 'vir_mult': 0.833, 'booster_mult': 0} Retrieving hospitalizations data\n",
      "2022/10/28 11:38:08 INFO|-----------|{'vx_seed': 0, 'vir_mult': 2.38, 'booster_mult': 0} Retrieving hospitalizations data\n",
      "2022/10/28 11:38:08 INFO|-----------|{'vx_seed': 0, 'vir_mult': 0.833, 'booster_mult': 0} Retrieving hospitalizations data\n",
      "2022/10/28 11:38:08 INFO|-----------|{'vx_seed': 5, 'vir_mult': 2.38, 'booster_mult': 0} Retrieving hospitalizations data\n",
      "2022/10/28 11:38:10 INFO|--------|{'vx_seed': 5, 'vir_mult': 2.38, 'booster_mult': 0} Prepping Model\n",
      "2022/10/28 11:38:10 INFO|---------|{'vx_seed': 5, 'vir_mult': 2.38, 'booster_mult': 0} Prepping Model\n",
      "2022/10/28 11:38:10 INFO|--------|{'vx_seed': 0, 'vir_mult': 0.833, 'booster_mult': 0} Prepping Model\n",
      "2022/10/28 11:38:10 INFO|---------|{'vx_seed': 0, 'vir_mult': 0.833, 'booster_mult': 0} Prepping Model\n",
      "2022/10/28 11:38:10 INFO|--------|{'vx_seed': 0, 'vir_mult': 2.38, 'booster_mult': 0} Prepping Model\n",
      "2022/10/28 11:38:10 INFO|---------|{'vx_seed': 0, 'vir_mult': 2.38, 'booster_mult': 0} Prepping Model\n",
      "2022/10/28 11:38:10 INFO|--------|{'vx_seed': 5, 'vir_mult': 0.833, 'booster_mult': 0} Prepping Model\n",
      "2022/10/28 11:38:10 INFO|---------|{'vx_seed': 5, 'vir_mult': 0.833, 'booster_mult': 0} Prepping Model\n",
      "2022/10/28 11:40:34 INFO|--------|{'vx_seed': 0, 'vir_mult': 0.833, 'booster_mult': 0} Model prepped for fitting in 143.12849675 seconds.\n",
      "2022/10/28 11:40:34 INFO|--------|{'vx_seed': 0, 'vir_mult': 0.833, 'booster_mult': 0} Solving Model ODE\n",
      "2022/10/28 11:40:35 INFO|--------|{'vx_seed': 5, 'vir_mult': 0.833, 'booster_mult': 0} Model prepped for fitting in 144.306814917 seconds.\n",
      "2022/10/28 11:40:35 INFO|--------|{'vx_seed': 5, 'vir_mult': 0.833, 'booster_mult': 0} Solving Model ODE\n",
      "2022/10/28 11:40:35 INFO|--------|{'vx_seed': 5, 'vir_mult': 2.38, 'booster_mult': 0} Model prepped for fitting in 144.549909875 seconds.\n",
      "2022/10/28 11:40:35 INFO|--------|{'vx_seed': 5, 'vir_mult': 2.38, 'booster_mult': 0} Solving Model ODE\n",
      "2022/10/28 11:40:35 INFO|--------|{'vx_seed': 0, 'vir_mult': 2.38, 'booster_mult': 0} Model prepped for fitting in 145.07384558299998 seconds.\n",
      "2022/10/28 11:40:35 INFO|--------|{'vx_seed': 0, 'vir_mult': 2.38, 'booster_mult': 0} Solving Model ODE\n",
      "2022/10/28 11:41:06 INFO|--------|{'vx_seed': 0, 'vir_mult': 0.833, 'booster_mult': 0} Model solved in 32.806661958999996 seconds.\n",
      "2022/10/28 11:41:06 INFO|--------|{'vx_seed': 0, 'vir_mult': 0.833, 'booster_mult': 0} Will fit 6 times\n",
      "2022/10/28 11:41:08 INFO|--------|{'vx_seed': 5, 'vir_mult': 0.833, 'booster_mult': 0} Model solved in 32.83826962500001 seconds.\n",
      "2022/10/28 11:41:08 INFO|--------|{'vx_seed': 5, 'vir_mult': 0.833, 'booster_mult': 0} Will fit 6 times\n",
      "2022/10/28 11:41:08 INFO|--------|{'vx_seed': 5, 'vir_mult': 2.38, 'booster_mult': 0} Model solved in 33.005554916999984 seconds.\n",
      "2022/10/28 11:41:08 INFO|--------|{'vx_seed': 5, 'vir_mult': 2.38, 'booster_mult': 0} Will fit 6 times\n",
      "2022/10/28 11:41:08 INFO|--------|{'vx_seed': 0, 'vir_mult': 2.38, 'booster_mult': 0} Model solved in 32.894140041000014 seconds.\n",
      "2022/10/28 11:41:08 INFO|--------|{'vx_seed': 0, 'vir_mult': 2.38, 'booster_mult': 0} Will fit 6 times\n",
      "2022/10/28 11:43:16 INFO|--------|{'vx_seed': 0, 'vir_mult': 0.833, 'booster_mult': 0, 'fit_batch': '0'}: Transmission control fit 1/6 completed in 129.651650167 seconds: {767: {'co': 0.8726891189679383}, 781: {'co': 0.8705921457708748}, 795: {'co': 0.8546741630973606}, 809: {'co': 0.8480346363759829}, 823: {'co': 0.8500215226175496}, 837: {'co': 0.8394457274358487}}\n",
      "2022/10/28 11:43:16 INFO|---------|{'vx_seed': 0, 'vir_mult': 0.833, 'booster_mult': 0, 'fit_batch': '0'}: Running forward sim\n",
      "2022/10/28 11:43:17 INFO|--------|{'vx_seed': 5, 'vir_mult': 0.833, 'booster_mult': 0, 'fit_batch': '0'}: Transmission control fit 1/6 completed in 129.40453070799998 seconds: {767: {'co': 0.8726891189679383}, 781: {'co': 0.8705921457708748}, 795: {'co': 0.8546741630973606}, 809: {'co': 0.8480346363759829}, 823: {'co': 0.8500215226175496}, 837: {'co': 0.8394457274358487}}\n",
      "2022/10/28 11:43:17 INFO|---------|{'vx_seed': 5, 'vir_mult': 0.833, 'booster_mult': 0, 'fit_batch': '0'}: Running forward sim\n",
      "2022/10/28 11:43:18 INFO|--------|{'vx_seed': 5, 'vir_mult': 2.38, 'booster_mult': 0, 'fit_batch': '0'}: Transmission control fit 1/6 completed in 129.735011083 seconds: {767: {'co': 0.8726891189679383}, 781: {'co': 0.8705921457708748}, 795: {'co': 0.8546741630973606}, 809: {'co': 0.8480346363759829}, 823: {'co': 0.8500215226175496}, 837: {'co': 0.8394457274358487}}\n",
      "2022/10/28 11:43:18 INFO|---------|{'vx_seed': 5, 'vir_mult': 2.38, 'booster_mult': 0, 'fit_batch': '0'}: Running forward sim\n",
      "2022/10/28 11:43:19 INFO|--------|{'vx_seed': 0, 'vir_mult': 2.38, 'booster_mult': 0, 'fit_batch': '0'}: Transmission control fit 1/6 completed in 130.44772562499998 seconds: {767: {'co': 0.8726891189679383}, 781: {'co': 0.8705921457708748}, 795: {'co': 0.8546741630973606}, 809: {'co': 0.8480346363759829}, 823: {'co': 0.8500215226175496}, 837: {'co': 0.8394457274358487}}\n",
      "2022/10/28 11:43:19 INFO|---------|{'vx_seed': 0, 'vir_mult': 2.38, 'booster_mult': 0, 'fit_batch': '0'}: Running forward sim\n",
      "2022/10/28 11:45:15 INFO|--------|{'vx_seed': 0, 'vir_mult': 0.833, 'booster_mult': 0, 'fit_batch': '1'}: Transmission control fit 2/6 completed in 116.06046825000004 seconds: {795: {'co': 0.8545338242850903}, 809: {'co': 0.849025583218508}, 823: {'co': 0.8475796024156941}, 837: {'co': 0.8453781612016961}, 851: {'co': 0.8326552911400924}, 865: {'co': 0.8591926299752568}}\n",
      "2022/10/28 11:45:15 INFO|---------|{'vx_seed': 0, 'vir_mult': 0.833, 'booster_mult': 0, 'fit_batch': '1'}: Running forward sim\n",
      "2022/10/28 11:45:16 INFO|--------|{'vx_seed': 5, 'vir_mult': 0.833, 'booster_mult': 0, 'fit_batch': '1'}: Transmission control fit 2/6 completed in 116.07566704199996 seconds: {795: {'co': 0.8545338242850903}, 809: {'co': 0.849025583218508}, 823: {'co': 0.8475796024156941}, 837: {'co': 0.8453781612016961}, 851: {'co': 0.8326552911400924}, 865: {'co': 0.8591926299752568}}\n",
      "2022/10/28 11:45:16 INFO|---------|{'vx_seed': 5, 'vir_mult': 0.833, 'booster_mult': 0, 'fit_batch': '1'}: Running forward sim\n",
      "2022/10/28 11:45:16 INFO|--------|{'vx_seed': 5, 'vir_mult': 2.38, 'booster_mult': 0, 'fit_batch': '1'}: Transmission control fit 2/6 completed in 116.05658904199998 seconds: {795: {'co': 0.8545338242850903}, 809: {'co': 0.849025583218508}, 823: {'co': 0.8475796024156941}, 837: {'co': 0.8453781612016961}, 851: {'co': 0.8326552911400924}, 865: {'co': 0.8591926299752568}}\n",
      "2022/10/28 11:45:16 INFO|---------|{'vx_seed': 5, 'vir_mult': 2.38, 'booster_mult': 0, 'fit_batch': '1'}: Running forward sim\n",
      "2022/10/28 11:45:17 INFO|--------|{'vx_seed': 0, 'vir_mult': 2.38, 'booster_mult': 0, 'fit_batch': '1'}: Transmission control fit 2/6 completed in 116.08003366599996 seconds: {795: {'co': 0.8545338242850903}, 809: {'co': 0.849025583218508}, 823: {'co': 0.8475796024156941}, 837: {'co': 0.8453781612016961}, 851: {'co': 0.8326552911400924}, 865: {'co': 0.8591926299752568}}\n",
      "2022/10/28 11:45:17 INFO|---------|{'vx_seed': 0, 'vir_mult': 2.38, 'booster_mult': 0, 'fit_batch': '1'}: Running forward sim\n"
     ]
    },
    {
     "name": "stderr",
     "output_type": "stream",
     "text": [
      "2022/10/28 11:47:04 INFO|--------|{'vx_seed': 0, 'vir_mult': 0.833, 'booster_mult': 0, 'fit_batch': '2'}: Transmission control fit 3/6 completed in 106.57052379200002 seconds: {823: {'co': 0.8475073365860945}, 837: {'co': 0.8455444268507887}, 851: {'co': 0.8320769226842218}, 865: {'co': 0.8611423306087927}, 879: {'co': 0.8526907443707877}, 893: {'co': 0.857555973380959}}\n",
      "2022/10/28 11:47:04 INFO|---------|{'vx_seed': 0, 'vir_mult': 0.833, 'booster_mult': 0, 'fit_batch': '2'}: Running forward sim\n",
      "2022/10/28 11:47:05 INFO|--------|{'vx_seed': 5, 'vir_mult': 0.833, 'booster_mult': 0, 'fit_batch': '2'}: Transmission control fit 3/6 completed in 106.58179362499999 seconds: {823: {'co': 0.8475073365860945}, 837: {'co': 0.8455444268507887}, 851: {'co': 0.8320769226842218}, 865: {'co': 0.8611423306087927}, 879: {'co': 0.8526907443707877}, 893: {'co': 0.857555973380959}}\n",
      "2022/10/28 11:47:05 INFO|---------|{'vx_seed': 5, 'vir_mult': 0.833, 'booster_mult': 0, 'fit_batch': '2'}: Running forward sim\n",
      "2022/10/28 11:47:05 INFO|--------|{'vx_seed': 5, 'vir_mult': 2.38, 'booster_mult': 0, 'fit_batch': '2'}: Transmission control fit 3/6 completed in 106.67117945899997 seconds: {823: {'co': 0.8475073365860945}, 837: {'co': 0.8455444268507887}, 851: {'co': 0.8320769226842218}, 865: {'co': 0.8611423306087927}, 879: {'co': 0.8526907443707877}, 893: {'co': 0.857555973380959}}\n",
      "2022/10/28 11:47:05 INFO|---------|{'vx_seed': 5, 'vir_mult': 2.38, 'booster_mult': 0, 'fit_batch': '2'}: Running forward sim\n",
      "2022/10/28 11:47:07 INFO|--------|{'vx_seed': 0, 'vir_mult': 2.38, 'booster_mult': 0, 'fit_batch': '2'}: Transmission control fit 3/6 completed in 106.55489233299994 seconds: {823: {'co': 0.8475073365860945}, 837: {'co': 0.8455444268507887}, 851: {'co': 0.8320769226842218}, 865: {'co': 0.8611423306087927}, 879: {'co': 0.8526907443707877}, 893: {'co': 0.857555973380959}}\n",
      "2022/10/28 11:47:07 INFO|---------|{'vx_seed': 0, 'vir_mult': 2.38, 'booster_mult': 0, 'fit_batch': '2'}: Running forward sim\n",
      "2022/10/28 11:48:52 INFO|--------|{'vx_seed': 0, 'vir_mult': 0.833, 'booster_mult': 0, 'fit_batch': '3'}: Transmission control fit 4/6 completed in 105.44122137500005 seconds: {851: {'co': 0.8323940947127593}, 865: {'co': 0.8606970600352921}, 879: {'co': 0.8537572792094209}, 893: {'co': 0.8543882132943915}, 907: {'co': 0.8620159132317043}, 921: {'co': 0.8572116813443365}}\n",
      "2022/10/28 11:48:52 INFO|---------|{'vx_seed': 0, 'vir_mult': 0.833, 'booster_mult': 0, 'fit_batch': '3'}: Running forward sim\n",
      "2022/10/28 11:48:53 INFO|--------|{'vx_seed': 5, 'vir_mult': 0.833, 'booster_mult': 0, 'fit_batch': '3'}: Transmission control fit 4/6 completed in 105.59913933299993 seconds: {851: {'co': 0.8323940947127593}, 865: {'co': 0.8606970600352921}, 879: {'co': 0.8537572792094209}, 893: {'co': 0.8543882132943915}, 907: {'co': 0.8620159132317043}, 921: {'co': 0.8572116813443365}}\n",
      "2022/10/28 11:48:53 INFO|---------|{'vx_seed': 5, 'vir_mult': 0.833, 'booster_mult': 0, 'fit_batch': '3'}: Running forward sim\n",
      "2022/10/28 11:48:54 INFO|--------|{'vx_seed': 5, 'vir_mult': 2.38, 'booster_mult': 0, 'fit_batch': '3'}: Transmission control fit 4/6 completed in 105.66917754099995 seconds: {851: {'co': 0.8323940947127593}, 865: {'co': 0.8606970600352921}, 879: {'co': 0.8537572792094209}, 893: {'co': 0.8543882132943915}, 907: {'co': 0.8620159132317043}, 921: {'co': 0.8572116813443365}}\n",
      "2022/10/28 11:48:54 INFO|---------|{'vx_seed': 5, 'vir_mult': 2.38, 'booster_mult': 0, 'fit_batch': '3'}: Running forward sim\n",
      "2022/10/28 11:48:55 INFO|--------|{'vx_seed': 0, 'vir_mult': 2.38, 'booster_mult': 0, 'fit_batch': '3'}: Transmission control fit 4/6 completed in 105.50429437499997 seconds: {851: {'co': 0.8323940947127593}, 865: {'co': 0.8606970600352921}, 879: {'co': 0.8537572792094209}, 893: {'co': 0.8543882132943915}, 907: {'co': 0.8620159132317043}, 921: {'co': 0.8572116813443365}}\n",
      "2022/10/28 11:48:55 INFO|---------|{'vx_seed': 0, 'vir_mult': 2.38, 'booster_mult': 0, 'fit_batch': '3'}: Running forward sim\n",
      "2022/10/28 11:50:27 INFO|--------|{'vx_seed': 0, 'vir_mult': 0.833, 'booster_mult': 0, 'fit_batch': '4'}: Transmission control fit 5/6 completed in 93.16018958400002 seconds: {879: {'co': 0.8537042123668626}, 893: {'co': 0.8547537196736846}, 907: {'co': 0.8602028632564648}, 921: {'co': 0.8640862734233583}, 935: {'co': 0.8435971016989154}, 949: {'co': 0.8601104608103249}}\n",
      "2022/10/28 11:50:27 INFO|---------|{'vx_seed': 0, 'vir_mult': 0.833, 'booster_mult': 0, 'fit_batch': '4'}: Running forward sim\n",
      "2022/10/28 11:50:29 INFO|--------|{'vx_seed': 5, 'vir_mult': 0.833, 'booster_mult': 0, 'fit_batch': '4'}: Transmission control fit 5/6 completed in 93.15841945900002 seconds: {879: {'co': 0.8537042123668626}, 893: {'co': 0.8547537196736846}, 907: {'co': 0.8602028632564648}, 921: {'co': 0.8640862734233583}, 935: {'co': 0.8435971016989154}, 949: {'co': 0.8601104608103249}}\n",
      "2022/10/28 11:50:29 INFO|---------|{'vx_seed': 5, 'vir_mult': 0.833, 'booster_mult': 0, 'fit_batch': '4'}: Running forward sim\n",
      "2022/10/28 11:50:29 INFO|--------|{'vx_seed': 5, 'vir_mult': 2.38, 'booster_mult': 0, 'fit_batch': '4'}: Transmission control fit 5/6 completed in 93.22458258400002 seconds: {879: {'co': 0.8537042123668626}, 893: {'co': 0.8547537196736846}, 907: {'co': 0.8602028632564648}, 921: {'co': 0.8640862734233583}, 935: {'co': 0.8435971016989154}, 949: {'co': 0.8601104608103249}}\n",
      "2022/10/28 11:50:29 INFO|---------|{'vx_seed': 5, 'vir_mult': 2.38, 'booster_mult': 0, 'fit_batch': '4'}: Running forward sim\n",
      "2022/10/28 11:50:30 INFO|--------|{'vx_seed': 0, 'vir_mult': 2.38, 'booster_mult': 0, 'fit_batch': '4'}: Transmission control fit 5/6 completed in 93.194307708 seconds: {879: {'co': 0.8537042123668626}, 893: {'co': 0.8547537196736846}, 907: {'co': 0.8602028632564648}, 921: {'co': 0.8640862734233583}, 935: {'co': 0.8435971016989154}, 949: {'co': 0.8601104608103249}}\n",
      "2022/10/28 11:50:30 INFO|---------|{'vx_seed': 0, 'vir_mult': 2.38, 'booster_mult': 0, 'fit_batch': '4'}: Running forward sim\n",
      "2022/10/28 11:52:36 INFO|--------|{'vx_seed': 0, 'vir_mult': 0.833, 'booster_mult': 0, 'fit_batch': '5'}: Transmission control fit 6/6 completed in 126.082898709 seconds: {907: {'co': 0.8602518508354488}, 921: {'co': 0.8639327923914805}, 935: {'co': 0.8440621481149968}, 949: {'co': 0.858065323887688}, 963: {'co': 0.8359030939647235}, 977: {'co': 0.833367457619039}}\n",
      "2022/10/28 11:52:36 INFO|---------|{'vx_seed': 0, 'vir_mult': 0.833, 'booster_mult': 0, 'fit_batch': '5'}: Running forward sim\n",
      "2022/10/28 11:52:39 INFO|--------|{'vx_seed': 0, 'vir_mult': 0.833, 'booster_mult': 0, 'fit_batch': '5', 'run_type': 'fit'}: fitted TC: {0: {'co': 0.8306366573462861}, 14: {'co': 0.6964605500728897}, 28: {'co': 0.5671378805699239}, 42: {'co': 1.9489201927168757e-15}, 56: {'co': 0.6966643050709015}, 70: {'co': 0.833269382748188}, 84: {'co': 0.8296267084735902}, 98: {'co': 0.8316912752154394}, 112: {'co': 0.8774904787370315}, 126: {'co': 0.8243037775983401}, 140: {'co': 0.760453059907473}, 154: {'co': 0.6712878657386694}, 168: {'co': 0.8430551485285515}, 182: {'co': 0.782636300114322}, 196: {'co': 0.8191510897878048}, 210: {'co': 0.772607078079673}, 224: {'co': 0.7713215421390761}, 238: {'co': 0.7185439258864629}, 252: {'co': 0.7220971090191174}, 266: {'co': 0.6850776427138202}, 280: {'co': 0.7198335911198326}, 294: {'co': 0.7589635567498012}, 308: {'co': 0.8220309689539026}, 322: {'co': 0.8119730391256558}, 336: {'co': 0.782156947856048}, 350: {'co': 0.7959274635576539}, 364: {'co': 0.8028783971845618}, 378: {'co': 0.7464451355217524}, 392: {'co': 0.7784514049710962}, 406: {'co': 0.7134870129248471}, 420: {'co': 0.7174135296927515}, 434: {'co': 0.6886149078359421}, 448: {'co': 0.7407194113174955}, 462: {'co': 0.812693594470471}, 476: {'co': 0.7917848682944858}, 490: {'co': 0.8301687864506999}, 504: {'co': 0.7862507288678809}, 518: {'co': 0.7800460084633297}, 532: {'co': 0.7561941836540607}, 546: {'co': 0.711415319176938}, 560: {'co': 0.739416118215732}, 574: {'co': 0.7479206408306821}, 588: {'co': 0.7876251382711865}, 602: {'co': 0.7640258207668345}, 616: {'co': 0.7174657364447684}, 630: {'co': 0.7360100447958323}, 644: {'co': 0.7113021017765601}, 658: {'co': 0.7521544913343791}, 672: {'co': 0.7586208926648009}, 686: {'co': 0.738424591815054}, 700: {'co': 0.6495173459227872}, 714: {'co': 0.8026017854711729}, 728: {'co': 0.8432000609020418}, 742: {'co': 0.8634446590040318}, 767: {'co': 0.8726891189679383}, 781: {'co': 0.8705921457708748}, 795: {'co': 0.8545338242850903}, 809: {'co': 0.849025583218508}, 823: {'co': 0.8475073365860945}, 837: {'co': 0.8455444268507887}, 851: {'co': 0.8323940947127593}, 865: {'co': 0.8606970600352921}, 879: {'co': 0.8537042123668626}, 893: {'co': 0.8547537196736846}, 907: {'co': 0.8602518508354488}, 921: {'co': 0.8639327923914805}, 935: {'co': 0.8440621481149968}, 949: {'co': 0.858065323887688}, 963: {'co': 0.8359030939647235}, 977: {'co': 0.8333674725202002}}\n",
      "2022/10/28 11:52:39 INFO|---------|{'vx_seed': 0, 'vir_mult': 0.833, 'booster_mult': 0, 'fit_batch': '5', 'run_type': 'fit'}: Running forward sim\n"
     ]
    },
    {
     "name": "stderr",
     "output_type": "stream",
     "text": [
      "2022/10/28 11:52:39 INFO|--------|{'vx_seed': 0, 'vir_mult': 2.38, 'booster_mult': 0, 'fit_batch': '5'}: Transmission control fit 6/6 completed in 126.38073574999999 seconds: {907: {'co': 0.8602518508354488}, 921: {'co': 0.8639327923914805}, 935: {'co': 0.8440621481149968}, 949: {'co': 0.858065323887688}, 963: {'co': 0.8359030939647235}, 977: {'co': 0.833367457619039}}\n",
      "2022/10/28 11:52:39 INFO|---------|{'vx_seed': 0, 'vir_mult': 2.38, 'booster_mult': 0, 'fit_batch': '5'}: Running forward sim\n",
      "2022/10/28 11:52:42 INFO|--------|{'vx_seed': 0, 'vir_mult': 2.38, 'booster_mult': 0, 'fit_batch': '5', 'run_type': 'fit'}: fitted TC: {0: {'co': 0.8306366573462861}, 14: {'co': 0.6964605500728897}, 28: {'co': 0.5671378805699239}, 42: {'co': 1.9489201927168757e-15}, 56: {'co': 0.6966643050709015}, 70: {'co': 0.833269382748188}, 84: {'co': 0.8296267084735902}, 98: {'co': 0.8316912752154394}, 112: {'co': 0.8774904787370315}, 126: {'co': 0.8243037775983401}, 140: {'co': 0.760453059907473}, 154: {'co': 0.6712878657386694}, 168: {'co': 0.8430551485285515}, 182: {'co': 0.782636300114322}, 196: {'co': 0.8191510897878048}, 210: {'co': 0.772607078079673}, 224: {'co': 0.7713215421390761}, 238: {'co': 0.7185439258864629}, 252: {'co': 0.7220971090191174}, 266: {'co': 0.6850776427138202}, 280: {'co': 0.7198335911198326}, 294: {'co': 0.7589635567498012}, 308: {'co': 0.8220309689539026}, 322: {'co': 0.8119730391256558}, 336: {'co': 0.782156947856048}, 350: {'co': 0.7959274635576539}, 364: {'co': 0.8028783971845618}, 378: {'co': 0.7464451355217524}, 392: {'co': 0.7784514049710962}, 406: {'co': 0.7134870129248471}, 420: {'co': 0.7174135296927515}, 434: {'co': 0.6886149078359421}, 448: {'co': 0.7407194113174955}, 462: {'co': 0.812693594470471}, 476: {'co': 0.7917848682944858}, 490: {'co': 0.8301687864506999}, 504: {'co': 0.7862507288678809}, 518: {'co': 0.7800460084633297}, 532: {'co': 0.7561941836540607}, 546: {'co': 0.711415319176938}, 560: {'co': 0.739416118215732}, 574: {'co': 0.7479206408306821}, 588: {'co': 0.7876251382711865}, 602: {'co': 0.7640258207668345}, 616: {'co': 0.7174657364447684}, 630: {'co': 0.7360100447958323}, 644: {'co': 0.7113021017765601}, 658: {'co': 0.7521544913343791}, 672: {'co': 0.7586208926648009}, 686: {'co': 0.738424591815054}, 700: {'co': 0.6495173459227872}, 714: {'co': 0.8026017854711729}, 728: {'co': 0.8432000609020418}, 742: {'co': 0.8634446590040318}, 767: {'co': 0.8726891189679383}, 781: {'co': 0.8705921457708748}, 795: {'co': 0.8545338242850903}, 809: {'co': 0.849025583218508}, 823: {'co': 0.8475073365860945}, 837: {'co': 0.8455444268507887}, 851: {'co': 0.8323940947127593}, 865: {'co': 0.8606970600352921}, 879: {'co': 0.8537042123668626}, 893: {'co': 0.8547537196736846}, 907: {'co': 0.8602518508354488}, 921: {'co': 0.8639327923914805}, 935: {'co': 0.8440621481149968}, 949: {'co': 0.858065323887688}, 963: {'co': 0.8359030939647235}, 977: {'co': 0.8333674725202002}}\n",
      "2022/10/28 11:52:42 INFO|---------|{'vx_seed': 0, 'vir_mult': 2.38, 'booster_mult': 0, 'fit_batch': '5', 'run_type': 'fit'}: Running forward sim\n",
      "2022/10/28 11:52:46 INFO|--------|{'vx_seed': 5, 'vir_mult': 0.833, 'booster_mult': 0, 'fit_batch': '5'}: Transmission control fit 6/6 completed in 134.494648084 seconds: {907: {'co': 0.86025147845505}, 921: {'co': 0.8639343333241277}, 935: {'co': 0.8440570003808321}, 949: {'co': 0.858080542406858}, 963: {'co': 0.8358588598005503}, 977: {'co': 0.8335605076050666}}\n",
      "2022/10/28 11:52:46 INFO|---------|{'vx_seed': 5, 'vir_mult': 0.833, 'booster_mult': 0, 'fit_batch': '5'}: Running forward sim\n",
      "2022/10/28 11:52:46 INFO|--------|{'vx_seed': 5, 'vir_mult': 2.38, 'booster_mult': 0, 'fit_batch': '5'}: Transmission control fit 6/6 completed in 134.25797087500007 seconds: {907: {'co': 0.8602505640121074}, 921: {'co': 0.8639380860143084}, 935: {'co': 0.8440444470498468}, 949: {'co': 0.8581176072119261}, 963: {'co': 0.8357522719913291}, 977: {'co': 0.8339735613703817}}\n",
      "2022/10/28 11:52:46 INFO|---------|{'vx_seed': 5, 'vir_mult': 2.38, 'booster_mult': 0, 'fit_batch': '5'}: Running forward sim\n",
      "2022/10/28 11:52:48 INFO|--------|{'vx_seed': 5, 'vir_mult': 0.833, 'booster_mult': 0, 'fit_batch': '5', 'run_type': 'fit'}: fitted TC: {0: {'co': 0.8306366573462861}, 14: {'co': 0.6964605500728897}, 28: {'co': 0.5671378805699239}, 42: {'co': 1.9489201927168757e-15}, 56: {'co': 0.6966643050709015}, 70: {'co': 0.833269382748188}, 84: {'co': 0.8296267084735902}, 98: {'co': 0.8316912752154394}, 112: {'co': 0.8774904787370315}, 126: {'co': 0.8243037775983401}, 140: {'co': 0.760453059907473}, 154: {'co': 0.6712878657386694}, 168: {'co': 0.8430551485285515}, 182: {'co': 0.782636300114322}, 196: {'co': 0.8191510897878048}, 210: {'co': 0.772607078079673}, 224: {'co': 0.7713215421390761}, 238: {'co': 0.7185439258864629}, 252: {'co': 0.7220971090191174}, 266: {'co': 0.6850776427138202}, 280: {'co': 0.7198335911198326}, 294: {'co': 0.7589635567498012}, 308: {'co': 0.8220309689539026}, 322: {'co': 0.8119730391256558}, 336: {'co': 0.782156947856048}, 350: {'co': 0.7959274635576539}, 364: {'co': 0.8028783971845618}, 378: {'co': 0.7464451355217524}, 392: {'co': 0.7784514049710962}, 406: {'co': 0.7134870129248471}, 420: {'co': 0.7174135296927515}, 434: {'co': 0.6886149078359421}, 448: {'co': 0.7407194113174955}, 462: {'co': 0.812693594470471}, 476: {'co': 0.7917848682944858}, 490: {'co': 0.8301687864506999}, 504: {'co': 0.7862507288678809}, 518: {'co': 0.7800460084633297}, 532: {'co': 0.7561941836540607}, 546: {'co': 0.711415319176938}, 560: {'co': 0.739416118215732}, 574: {'co': 0.7479206408306821}, 588: {'co': 0.7876251382711865}, 602: {'co': 0.7640258207668345}, 616: {'co': 0.7174657364447684}, 630: {'co': 0.7360100447958323}, 644: {'co': 0.7113021017765601}, 658: {'co': 0.7521544913343791}, 672: {'co': 0.7586208926648009}, 686: {'co': 0.738424591815054}, 700: {'co': 0.6495173459227872}, 714: {'co': 0.8026017854711729}, 728: {'co': 0.8432000609020418}, 742: {'co': 0.8634446590040318}, 767: {'co': 0.8726891189679383}, 781: {'co': 0.8705921457708748}, 795: {'co': 0.8545338242850903}, 809: {'co': 0.849025583218508}, 823: {'co': 0.8475073365860945}, 837: {'co': 0.8455444268507887}, 851: {'co': 0.8323940947127593}, 865: {'co': 0.8606970600352921}, 879: {'co': 0.8537042123668626}, 893: {'co': 0.8547537196736846}, 907: {'co': 0.86025147845505}, 921: {'co': 0.8639343333241277}, 935: {'co': 0.8440570003808321}, 949: {'co': 0.858080542406858}, 963: {'co': 0.8358588598005503}, 977: {'co': 0.8335605225062278}}\n",
      "2022/10/28 11:52:48 INFO|---------|{'vx_seed': 5, 'vir_mult': 0.833, 'booster_mult': 0, 'fit_batch': '5', 'run_type': 'fit'}: Running forward sim\n",
      "2022/10/28 11:52:49 INFO|--------|{'vx_seed': 5, 'vir_mult': 2.38, 'booster_mult': 0, 'fit_batch': '5', 'run_type': 'fit'}: fitted TC: {0: {'co': 0.8306366573462861}, 14: {'co': 0.6964605500728897}, 28: {'co': 0.5671378805699239}, 42: {'co': 1.9489201927168757e-15}, 56: {'co': 0.6966643050709015}, 70: {'co': 0.833269382748188}, 84: {'co': 0.8296267084735902}, 98: {'co': 0.8316912752154394}, 112: {'co': 0.8774904787370315}, 126: {'co': 0.8243037775983401}, 140: {'co': 0.760453059907473}, 154: {'co': 0.6712878657386694}, 168: {'co': 0.8430551485285515}, 182: {'co': 0.782636300114322}, 196: {'co': 0.8191510897878048}, 210: {'co': 0.772607078079673}, 224: {'co': 0.7713215421390761}, 238: {'co': 0.7185439258864629}, 252: {'co': 0.7220971090191174}, 266: {'co': 0.6850776427138202}, 280: {'co': 0.7198335911198326}, 294: {'co': 0.7589635567498012}, 308: {'co': 0.8220309689539026}, 322: {'co': 0.8119730391256558}, 336: {'co': 0.782156947856048}, 350: {'co': 0.7959274635576539}, 364: {'co': 0.8028783971845618}, 378: {'co': 0.7464451355217524}, 392: {'co': 0.7784514049710962}, 406: {'co': 0.7134870129248471}, 420: {'co': 0.7174135296927515}, 434: {'co': 0.6886149078359421}, 448: {'co': 0.7407194113174955}, 462: {'co': 0.812693594470471}, 476: {'co': 0.7917848682944858}, 490: {'co': 0.8301687864506999}, 504: {'co': 0.7862507288678809}, 518: {'co': 0.7800460084633297}, 532: {'co': 0.7561941836540607}, 546: {'co': 0.711415319176938}, 560: {'co': 0.739416118215732}, 574: {'co': 0.7479206408306821}, 588: {'co': 0.7876251382711865}, 602: {'co': 0.7640258207668345}, 616: {'co': 0.7174657364447684}, 630: {'co': 0.7360100447958323}, 644: {'co': 0.7113021017765601}, 658: {'co': 0.7521544913343791}, 672: {'co': 0.7586208926648009}, 686: {'co': 0.738424591815054}, 700: {'co': 0.6495173459227872}, 714: {'co': 0.8026017854711729}, 728: {'co': 0.8432000609020418}, 742: {'co': 0.8634446590040318}, 767: {'co': 0.8726891189679383}, 781: {'co': 0.8705921457708748}, 795: {'co': 0.8545338242850903}, 809: {'co': 0.849025583218508}, 823: {'co': 0.8475073365860945}, 837: {'co': 0.8455444268507887}, 851: {'co': 0.8323940947127593}, 865: {'co': 0.8606970600352921}, 879: {'co': 0.8537042123668626}, 893: {'co': 0.8547537196736846}, 907: {'co': 0.8602505640121074}, 921: {'co': 0.8639380860143084}, 935: {'co': 0.8440444470498468}, 949: {'co': 0.8581176072119261}, 963: {'co': 0.8357522719913291}, 977: {'co': 0.8339735762715429}}\n",
      "2022/10/28 11:52:49 INFO|---------|{'vx_seed': 5, 'vir_mult': 2.38, 'booster_mult': 0, 'fit_batch': '5', 'run_type': 'fit'}: Running forward sim\n"
     ]
    },
    {
     "name": "stderr",
     "output_type": "stream",
     "text": [
      "2022/10/28 11:53:22 INFO|-----------------------|spec_ids: 4191,4192,4193,4194\n"
     ]
    }
   ],
   "source": [
    "# run the scenarios\n",
    "models = do_fit_scenarios(base_model_args=model_args, scenario_args_list=scenario_model_args, fit_args=model_fit_args, multiprocess=multiprocess)"
   ]
  },
  {
   "cell_type": "markdown",
   "metadata": {
    "pycharm": {
     "name": "#%% md\n"
    }
   },
   "source": [
    "### Run the report for each fit model"
   ]
  },
  {
   "cell_type": "code",
   "execution_count": 8,
   "metadata": {
    "pycharm": {
     "name": "#%%\n"
    }
   },
   "outputs": [
    {
     "name": "stderr",
     "output_type": "stream",
     "text": [
      "2022/10/28 11:59:47 INFO|============================================================\n",
      "2022/10/28 11:59:48 INFO|============================================================\n",
      "2022/10/28 11:59:48 INFO|--------|Solving model\n",
      "2022/10/28 11:59:48 INFO|--------|Solving model\n",
      "2022/10/28 11:59:48 INFO|============================================================\n",
      "2022/10/28 11:59:48 INFO|============================================================\n",
      "2022/10/28 11:59:48 INFO|--------|Solving model\n",
      "2022/10/28 11:59:48 INFO|--------|Solving model\n",
      "2022/10/28 12:00:21 WARNING|No artists with labels found to put in legend.  Note that artists whose label start with an underscore are ignored when legend() is called with no argument.\n",
      "2022/10/28 12:00:21 WARNING|No artists with labels found to put in legend.  Note that artists whose label start with an underscore are ignored when legend() is called with no argument.\n",
      "2022/10/28 12:00:21 WARNING|No artists with labels found to put in legend.  Note that artists whose label start with an underscore are ignored when legend() is called with no argument.\n",
      "2022/10/28 12:00:22 WARNING|No artists with labels found to put in legend.  Note that artists whose label start with an underscore are ignored when legend() is called with no argument.\n"
     ]
    }
   ],
   "source": [
    "# here you can also specify which variants you want to calculate immunity for\n",
    "do_create_multiple_reports(models, multiprocess=multiprocess, outdir=outdir, prep_model=False, solve_model=True, immun_variants=['ba45', 'vx'], from_date='2022-01-01')"
   ]
  },
  {
   "cell_type": "code",
   "execution_count": 9,
   "metadata": {
    "pycharm": {
     "name": "#%%\n"
    }
   },
   "outputs": [
    {
     "name": "stderr",
     "output_type": "stream",
     "text": [
      "2022/10/28 12:06:14 INFO|Projecting\n",
      "2022/10/28 12:06:14 INFO|\n",
      "2022/10/28 12:07:13 INFO|{'vx_seed': 0, 'vir_mult': 0.833, 'booster_mult': 0, 'fit_batch': '5', 'run_type': 'fit'}: Running forward sim\n",
      "2022/10/28 12:07:15 INFO|\n",
      "2022/10/28 12:08:15 INFO|{'vx_seed': 0, 'vir_mult': 2.38, 'booster_mult': 0, 'fit_batch': '5', 'run_type': 'fit'}: Running forward sim\n",
      "2022/10/28 12:08:17 INFO|\n",
      "2022/10/28 12:09:16 INFO|{'vx_seed': 5, 'vir_mult': 0.833, 'booster_mult': 0, 'fit_batch': '5', 'run_type': 'fit'}: Running forward sim\n",
      "2022/10/28 12:09:18 INFO|\n",
      "2022/10/28 12:10:16 INFO|{'vx_seed': 5, 'vir_mult': 2.38, 'booster_mult': 0, 'fit_batch': '5', 'run_type': 'fit'}: Running forward sim\n",
      "2022/10/28 12:10:19 INFO|Running reports\n"
     ]
    }
   ],
   "source": [
    "logging.info('Projecting')\n",
    "for model in models:\n",
    "    logging.info('')\n",
    "    #model.prep()  # don't think we need to prep anymore.\n",
    "    model.solve_seir()\n",
    "\n",
    "    model.solution_sum_df(['seir', 'variant', 'immun']).unstack().to_csv(get_filepath_prefix(outdir, tags=model.tags) + 'states_seir_variant_immun_total_all_at_once_projection.csv')\n",
    "    model.solution_sum_df().unstack().to_csv(get_filepath_prefix(outdir, tags=model.tags) + 'states_full_projection.csv')\n",
    "\n",
    "    logging.info(f'{str(model.tags)}: Running forward sim')\n",
    "    fig = plt.figure(figsize=(10, 10), dpi=300)\n",
    "    ax = fig.add_subplot(211)\n",
    "    hosps_df = model.modeled_vs_observed_hosps().reset_index('region').drop(columns='region')\n",
    "    hosps_df.plot(ax=ax)\n",
    "    ax.set_xlim(dt.datetime.strptime('2022-01-01', \"%Y-%m-%d\").date(), dt.datetime.strptime('2024-01-01', \"%Y-%m-%d\").date())\n",
    "    ax = fig.add_subplot(212)\n",
    "    plot_transmission_control(model, ax=ax)\n",
    "    ax.set_xlim(dt.datetime.strptime('2022-01-01', \"%Y-%m-%d\").date(), dt.datetime.strptime('2024-01-01', \"%Y-%m-%d\").date())\n",
    "    plt.savefig(get_filepath_prefix(outdir, tags=model.tags) + 'model_forecast.png')\n",
    "    plt.close()\n",
    "    hosps_df.to_csv(get_filepath_prefix(outdir, tags=model.tags) + '_model_forecast.csv')\n",
    "    json.dump(model.tc, open(get_filepath_prefix(outdir, tags=model.tags) + 'model_forecast_tc.json', 'w'))\n",
    "\n",
    "logging.info('Running reports')"
   ]
  },
  {
   "cell_type": "code",
   "execution_count": null,
   "metadata": {},
   "outputs": [],
   "source": []
  }
 ],
 "metadata": {
  "kernelspec": {
   "display_name": "Python 3 (ipykernel)",
   "language": "python",
   "name": "python3"
  },
  "language_info": {
   "codemirror_mode": {
    "name": "ipython",
    "version": 3
   },
   "file_extension": ".py",
   "mimetype": "text/x-python",
   "name": "python",
   "nbconvert_exporter": "python",
   "pygments_lexer": "ipython3",
   "version": "3.9.12"
  }
 },
 "nbformat": 4,
 "nbformat_minor": 4
}
