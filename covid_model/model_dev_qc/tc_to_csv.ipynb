{
 "cells": [
  {
   "cell_type": "code",
   "execution_count": 49,
   "id": "56440ed0",
   "metadata": {},
   "outputs": [],
   "source": [
    "\"\"\" Python Standard Library \"\"\"\n",
    "import os\n",
    "import datetime as dt\n",
    "import json\n",
    "\"\"\" Third Party Imports \"\"\"\n",
    "import pandas as pd\n",
    "%matplotlib inline\n",
    "import fnmatch\n"
   ]
  },
  {
   "cell_type": "code",
   "execution_count": 32,
   "id": "20a81054",
   "metadata": {},
   "outputs": [
    {
     "name": "stdout",
     "output_type": "stream",
     "text": [
      "/Users/brittneycontreras/PycharmProjects/covid-models/covid_model/model_dev_qc\n"
     ]
    }
   ],
   "source": [
    "print(os.getcwd())"
   ]
  },
  {
   "cell_type": "code",
   "execution_count": 24,
   "id": "99846012",
   "metadata": {},
   "outputs": [],
   "source": [
    "# If your CWD is not correct, type it here. Otherwise, ignore\n",
    "#os.chdir('/Users/brittneycontreras/PycharmProjects/covid-models/covid_model/model_dev_qc')"
   ]
  },
  {
   "cell_type": "code",
   "execution_count": 33,
   "id": "3291d9dd",
   "metadata": {},
   "outputs": [],
   "source": [
    "# Path to model output where tc .json's are\n",
    "results_dir = \"../output/20221004_scenario_projections.ipynb\"\n",
    "tc_files = []\n",
    "pattern = '*model_forecast_tc.json'"
   ]
  },
  {
   "cell_type": "code",
   "execution_count": 46,
   "id": "90772a2f",
   "metadata": {},
   "outputs": [],
   "source": [
    "# Grab all forecast tc json files\n",
    "tc_files = [os.path.join(results_dir, file) for file in os.listdir(results_dir) if fnmatch.fnmatch(file, pattern)]"
   ]
  },
  {
   "cell_type": "code",
   "execution_count": 48,
   "id": "1156e739",
   "metadata": {},
   "outputs": [],
   "source": [
    "# Turn into .csv files and put in output directory\n",
    "for file in tc_files:\n",
    "    df = pd.read_json(file)\n",
    "    file_new = file.replace('.json','.csv' )\n",
    "    df.to_csv(file_new)"
   ]
  },
  {
   "cell_type": "markdown",
   "id": "42602164",
   "metadata": {},
   "source": [
    "### .csv files for tc will now appear in the 'results_dir' directory"
   ]
  }
 ],
 "metadata": {
  "kernelspec": {
   "display_name": "Python 3 (ipykernel)",
   "language": "python",
   "name": "python3"
  },
  "language_info": {
   "codemirror_mode": {
    "name": "ipython",
    "version": 3
   },
   "file_extension": ".py",
   "mimetype": "text/x-python",
   "name": "python",
   "nbconvert_exporter": "python",
   "pygments_lexer": "ipython3",
   "version": "3.9.12"
  }
 },
 "nbformat": 4,
 "nbformat_minor": 5
}
