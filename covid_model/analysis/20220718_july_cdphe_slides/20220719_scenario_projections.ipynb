{
 "cells": [
  {
   "cell_type": "markdown",
   "metadata": {
    "pycharm": {
     "name": "#%% md\n"
    }
   },
   "source": [
    "### Setup"
   ]
  },
  {
   "cell_type": "code",
   "execution_count": 1,
   "metadata": {
    "pycharm": {
     "name": "#%%\n"
    }
   },
   "outputs": [
    {
     "name": "stdout",
     "output_type": "stream",
     "text": [
      "/Users/emwu9912/PycharmProjects/covid-models\n"
     ]
    }
   ],
   "source": [
    "# this first setup block will pretty much always stay the same\n",
    "\"\"\" Python Standard Library \"\"\"\n",
    "import os\n",
    "import datetime as dt\n",
    "import json\n",
    "import logging\n",
    "\"\"\" Third Party Imports \"\"\"\n",
    "import numpy as np\n",
    "from matplotlib import pyplot as plt\n",
    "%matplotlib inline\n",
    "\"\"\" Local Imports \"\"\"\n",
    "if 'requirements.txt' not in os.listdir(os.getcwd()):\n",
    "    os.chdir(os.path.join('..','..','..'))\n",
    "print(os.getcwd())\n",
    "from covid_model import CovidModel\n",
    "from covid_model.runnable_functions import do_single_fit, do_create_multiple_reports, do_fit_scenarios\n",
    "from covid_model.utils import setup, get_filepath_prefix\n",
    "from covid_model.analysis.charts import plot_transmission_control\n",
    "\n",
    "os.environ['gcp_project'] = 'co-covid-models'\n",
    "os.environ['GOOGLE_APPLICATION_CREDENTIALS'] = \"co-covid-models-credentials.json\""
   ]
  },
  {
   "cell_type": "code",
   "execution_count": 2,
   "metadata": {
    "pycharm": {
     "name": "#%%\n"
    }
   },
   "outputs": [
    {
     "name": "stderr",
     "output_type": "stream",
     "text": [
      "2022/07/19 16:31:15 INFO|============================================================\n"
     ]
    }
   ],
   "source": [
    "# set up the output directory for this Jupyter notebook\n",
    "outdir = setup(\"20220719_scenario_projections.ipynb\")"
   ]
  },
  {
   "cell_type": "markdown",
   "metadata": {
    "pycharm": {
     "name": "#%% md\n"
    }
   },
   "source": [
    "### Fit an initial scenario through Feb 2022"
   ]
  },
  {
   "cell_type": "code",
   "execution_count": null,
   "metadata": {
    "pycharm": {
     "name": "#%%\n"
    }
   },
   "outputs": [],
   "source": [
    "# designate the arguments for how the model will behave\n",
    "model_args = {\n",
    "    'params_defs': 'covid_model/analysis/20220628_july_gov_briefing/scenario_params.json',\n",
    "    'region_defs': 'covid_model/input/region_definitions.json',\n",
    "    'vacc_proj_params': 'covid_model/analysis/20220628_july_gov_briefing/vacc_proj_params.json',\n",
    "    'start_date': '2020-01-24',\n",
    "    'end_date': '2022-09-18',\n",
    "}\n",
    "\n",
    "# this is how the fit will behave\n",
    "# place the outdir argument here to tell the model fit where to go\n",
    "fit_args = {'outdir': outdir,\n",
    "            'fit_end_date': '2022-02-28'\n",
    "}\n",
    "\n",
    "# because all the scenarios are the same \n",
    "model = do_single_fit(**fit_args, **model_args)"
   ]
  },
  {
   "cell_type": "markdown",
   "metadata": {
    "pycharm": {
     "name": "#%% md\n"
    }
   },
   "source": [
    "### Create and run scenarios from Feb 2022 to present"
   ]
  },
  {
   "cell_type": "code",
   "execution_count": 9,
   "metadata": {
    "pycharm": {
     "name": "#%%\n"
    }
   },
   "outputs": [],
   "source": [
    "multiprocess = 6\n",
    "\n",
    "scenario_params = json.load(open(\"covid_model/analysis/20220628_july_gov_briefing/scenario_params.json\"))\n",
    "\n",
    "model_args = {\n",
    "    'base_spec_id': 3214 #model.spec_id # use the spec id that was output from the model fit\n",
    "}\n",
    "model_fit_args = {\n",
    "    'outdir': outdir,\n",
    "    'fit_start_date': '2022-03-01', # set the start date for the earliest point at which the scenarios start to differ from one another\n",
    "    'pre_solve_model': True # force the model to establish initial conditions so the fit can start on the fit start date\n",
    "}\n",
    "\n",
    "# compute vacc effectiveness for < 5 (this is a multiplier for the baseline vaccine effectiveness for 0-19)\n",
    "vacc_eff_lt5 = 0.5\n",
    "\n",
    "# Create different scenarios to model\n",
    "scenario_model_args = []\n",
    "for hosp_frac in [0.5, 0.7, 0.9]:\n",
    "    for school_contact_increase in [1.1, 1.2]:\n",
    "        for beta_mult in [1.0, 1.1]:\n",
    "            hrf = {\"2020-01-01\": 1, \"2022-03-01\": (0.66 + 0.34*hosp_frac), \"2022-03-15\": (0.34 + 0.66*hosp_frac), \"2022-03-30\": hosp_frac}\n",
    "            beta_param_adjustment = [{\"param\": \"betta\",\n",
    "                                      \"attrs\": {\"variant\": \"ba45\"},\n",
    "                                      \"mults\": {\"2020-01-01\": beta_mult},\n",
    "                                      \"desc\": \"sensitivity analysis for beta\"}]\n",
    "            school_contact = [{\"param\": \"betta\",\n",
    "                               \"attrs\": {'age': '0-19'},\n",
    "                               \"mults\": {\"2020-01-01\": 1, \"2022-08-15\": school_contact_increase},\n",
    "                               \"desc\": \"After August 15th, beta increases by a factor of the school contact increase\"}]\n",
    "            lt5_vacc_adjust = [{\"param\": \"immunity\",\n",
    "                                \"attrs\": {'age': '0-19', 'vacc': 'shot1'},\n",
    "                                \"mults\": {\"2020-01-01\": 1, \"2022-06-20\": 0.99 + 0.01*vacc_eff_lt5,\n",
    "                                          \"2022-06-30\": 0.98 + 0.02*vacc_eff_lt5, \"2022-07-10\": 0.97 + 0.03*vacc_eff_lt5}}]\n",
    "            scenario_model_args.append({'params_defs': scenario_params + beta_param_adjustment + school_contact + lt5_vacc_adjust,\n",
    "                                        'hosp_reporting_frac': hrf,\n",
    "                                        'tags': {'beta_mult': beta_mult, 'hosp_frac': hosp_frac, 'school_contact_increase': school_contact_increase}})\n",
    "            \n",
    "            "
   ]
  },
  {
   "cell_type": "code",
   "execution_count": null,
   "metadata": {},
   "outputs": [],
   "source": [
    "# check how many scenarios there are\n",
    "len(scenario_model_args)"
   ]
  },
  {
   "cell_type": "code",
   "execution_count": 11,
   "metadata": {},
   "outputs": [
    {
     "name": "stderr",
     "output_type": "stream",
     "text": [
      "2022/07/19 16:35:18 INFO|============================================================\n",
      "2022/07/19 16:35:18 INFO|============================================================\n",
      "2022/07/19 16:35:18 INFO|============================================================\n",
      "2022/07/19 16:35:18 INFO|============================================================\n",
      "2022/07/19 16:35:18 INFO|============================================================\n",
      "2022/07/19 16:35:18 INFO|============================================================\n",
      "2022/07/19 16:35:21 INFO|-----------|{'beta_mult': 1.0, 'hosp_frac': 0.7, 'school_contact_increase': 1.1} Retrieving vaccinations data\n",
      "2022/07/19 16:35:21 INFO|-----------|{'beta_mult': 1.0, 'hosp_frac': 0.5, 'school_contact_increase': 1.2} Retrieving vaccinations data\n",
      "2022/07/19 16:35:21 INFO|-----------|{'beta_mult': 1.0, 'hosp_frac': 0.5, 'school_contact_increase': 1.1} Retrieving vaccinations data\n",
      "2022/07/19 16:35:21 INFO|-----------|{'beta_mult': 1.1, 'hosp_frac': 0.5, 'school_contact_increase': 1.1} Retrieving vaccinations data\n",
      "2022/07/19 16:35:21 INFO|-----------|{'beta_mult': 1.1, 'hosp_frac': 0.7, 'school_contact_increase': 1.1} Retrieving vaccinations data\n",
      "2022/07/19 16:35:21 INFO|-----------|{'beta_mult': 1.1, 'hosp_frac': 0.5, 'school_contact_increase': 1.2} Retrieving vaccinations data\n",
      "2022/07/19 16:35:27 INFO|-----------|{'beta_mult': 1.0, 'hosp_frac': 0.5, 'school_contact_increase': 1.1} Constructing vaccination projections\n",
      "2022/07/19 16:35:27 INFO|-----------|{'beta_mult': 1.0, 'hosp_frac': 0.7, 'school_contact_increase': 1.1} Constructing vaccination projections\n",
      "2022/07/19 16:35:27 INFO|-----------|{'beta_mult': 1.1, 'hosp_frac': 0.5, 'school_contact_increase': 1.2} Constructing vaccination projections\n",
      "2022/07/19 16:35:27 INFO|-----------|{'beta_mult': 1.0, 'hosp_frac': 0.5, 'school_contact_increase': 1.1} Retrieving hospitalizations data\n",
      "2022/07/19 16:35:27 INFO|-----------|{'beta_mult': 1.0, 'hosp_frac': 0.7, 'school_contact_increase': 1.1} Retrieving hospitalizations data\n",
      "2022/07/19 16:35:27 INFO|-----------|{'beta_mult': 1.1, 'hosp_frac': 0.5, 'school_contact_increase': 1.2} Retrieving hospitalizations data\n",
      "2022/07/19 16:35:27 INFO|-----------|{'beta_mult': 1.0, 'hosp_frac': 0.5, 'school_contact_increase': 1.2} Constructing vaccination projections\n",
      "2022/07/19 16:35:27 INFO|-----------|{'beta_mult': 1.1, 'hosp_frac': 0.5, 'school_contact_increase': 1.1} Constructing vaccination projections\n",
      "2022/07/19 16:35:27 INFO|-----------|{'beta_mult': 1.0, 'hosp_frac': 0.5, 'school_contact_increase': 1.2} Retrieving hospitalizations data\n",
      "2022/07/19 16:35:27 INFO|-----------|{'beta_mult': 1.1, 'hosp_frac': 0.5, 'school_contact_increase': 1.1} Retrieving hospitalizations data\n",
      "2022/07/19 16:35:27 INFO|-----------|{'beta_mult': 1.1, 'hosp_frac': 0.7, 'school_contact_increase': 1.1} Constructing vaccination projections\n",
      "2022/07/19 16:35:27 INFO|-----------|{'beta_mult': 1.1, 'hosp_frac': 0.7, 'school_contact_increase': 1.1} Retrieving hospitalizations data\n",
      "2022/07/19 16:35:39 INFO|--------|{'beta_mult': 1.0, 'hosp_frac': 0.5, 'school_contact_increase': 1.2} Prepping Model\n",
      "2022/07/19 16:35:39 INFO|--------|{'beta_mult': 1.1, 'hosp_frac': 0.5, 'school_contact_increase': 1.2} Prepping Model\n",
      "2022/07/19 16:35:39 INFO|---------|{'beta_mult': 1.0, 'hosp_frac': 0.5, 'school_contact_increase': 1.2} Prepping Model\n",
      "2022/07/19 16:35:39 INFO|---------|{'beta_mult': 1.1, 'hosp_frac': 0.5, 'school_contact_increase': 1.2} Prepping Model\n",
      "2022/07/19 16:35:40 INFO|--------|{'beta_mult': 1.0, 'hosp_frac': 0.5, 'school_contact_increase': 1.1} Prepping Model\n",
      "2022/07/19 16:35:40 INFO|---------|{'beta_mult': 1.0, 'hosp_frac': 0.5, 'school_contact_increase': 1.1} Prepping Model\n",
      "2022/07/19 16:35:40 INFO|--------|{'beta_mult': 1.1, 'hosp_frac': 0.7, 'school_contact_increase': 1.1} Prepping Model\n",
      "2022/07/19 16:35:40 INFO|---------|{'beta_mult': 1.1, 'hosp_frac': 0.7, 'school_contact_increase': 1.1} Prepping Model\n",
      "2022/07/19 16:35:41 INFO|--------|{'beta_mult': 1.0, 'hosp_frac': 0.7, 'school_contact_increase': 1.1} Prepping Model\n",
      "2022/07/19 16:35:41 INFO|---------|{'beta_mult': 1.0, 'hosp_frac': 0.7, 'school_contact_increase': 1.1} Prepping Model\n",
      "2022/07/19 16:35:42 INFO|--------|{'beta_mult': 1.1, 'hosp_frac': 0.5, 'school_contact_increase': 1.1} Prepping Model\n",
      "2022/07/19 16:35:42 INFO|---------|{'beta_mult': 1.1, 'hosp_frac': 0.5, 'school_contact_increase': 1.1} Prepping Model\n",
      "2022/07/19 16:36:38 INFO|--------|{'beta_mult': 1.1, 'hosp_frac': 0.5, 'school_contact_increase': 1.2} Model prepped for fitting in 58.83842937499999 seconds.\n",
      "2022/07/19 16:36:38 INFO|--------|{'beta_mult': 1.1, 'hosp_frac': 0.5, 'school_contact_increase': 1.2} Solving Model ODE\n",
      "2022/07/19 16:36:38 INFO|--------|{'beta_mult': 1.0, 'hosp_frac': 0.5, 'school_contact_increase': 1.2} Model prepped for fitting in 59.029347167000005 seconds.\n",
      "2022/07/19 16:36:38 INFO|--------|{'beta_mult': 1.0, 'hosp_frac': 0.5, 'school_contact_increase': 1.2} Solving Model ODE\n",
      "2022/07/19 16:36:39 INFO|--------|{'beta_mult': 1.1, 'hosp_frac': 0.7, 'school_contact_increase': 1.1} Model prepped for fitting in 58.363150167 seconds.\n",
      "2022/07/19 16:36:39 INFO|--------|{'beta_mult': 1.1, 'hosp_frac': 0.7, 'school_contact_increase': 1.1} Solving Model ODE\n",
      "2022/07/19 16:36:40 INFO|--------|{'beta_mult': 1.0, 'hosp_frac': 0.5, 'school_contact_increase': 1.1} Model prepped for fitting in 59.301223291999996 seconds.\n",
      "2022/07/19 16:36:40 INFO|--------|{'beta_mult': 1.0, 'hosp_frac': 0.5, 'school_contact_increase': 1.1} Solving Model ODE\n",
      "2022/07/19 16:36:40 INFO|--------|{'beta_mult': 1.0, 'hosp_frac': 0.7, 'school_contact_increase': 1.1} Model prepped for fitting in 58.888578875 seconds.\n",
      "2022/07/19 16:36:40 INFO|--------|{'beta_mult': 1.0, 'hosp_frac': 0.7, 'school_contact_increase': 1.1} Solving Model ODE\n",
      "2022/07/19 16:36:40 INFO|--------|{'beta_mult': 1.1, 'hosp_frac': 0.5, 'school_contact_increase': 1.2} Model solved in 2.6866289999999964 seconds.\n",
      "2022/07/19 16:36:40 INFO|--------|{'beta_mult': 1.1, 'hosp_frac': 0.5, 'school_contact_increase': 1.2} Will fit 3 times\n",
      "2022/07/19 16:36:41 INFO|--------|{'beta_mult': 1.0, 'hosp_frac': 0.5, 'school_contact_increase': 1.2} Model solved in 2.6557809159999977 seconds.\n",
      "2022/07/19 16:36:41 INFO|--------|{'beta_mult': 1.0, 'hosp_frac': 0.5, 'school_contact_increase': 1.2} Will fit 3 times\n",
      "2022/07/19 16:36:41 INFO|--------|{'beta_mult': 1.1, 'hosp_frac': 0.5, 'school_contact_increase': 1.1} Model prepped for fitting in 58.988780209 seconds.\n",
      "2022/07/19 16:36:41 INFO|--------|{'beta_mult': 1.1, 'hosp_frac': 0.5, 'school_contact_increase': 1.1} Solving Model ODE\n",
      "2022/07/19 16:36:41 INFO|--------|{'beta_mult': 1.1, 'hosp_frac': 0.7, 'school_contact_increase': 1.1} Model solved in 2.5941749579999964 seconds.\n",
      "2022/07/19 16:36:41 INFO|--------|{'beta_mult': 1.1, 'hosp_frac': 0.7, 'school_contact_increase': 1.1} Will fit 3 times\n",
      "2022/07/19 16:36:42 INFO|--------|{'beta_mult': 1.0, 'hosp_frac': 0.5, 'school_contact_increase': 1.1} Model solved in 2.5333769589999946 seconds.\n",
      "2022/07/19 16:36:42 INFO|--------|{'beta_mult': 1.0, 'hosp_frac': 0.5, 'school_contact_increase': 1.1} Will fit 3 times\n",
      "2022/07/19 16:36:42 INFO|--------|{'beta_mult': 1.0, 'hosp_frac': 0.7, 'school_contact_increase': 1.1} Model solved in 2.5212407080000077 seconds.\n",
      "2022/07/19 16:36:42 INFO|--------|{'beta_mult': 1.0, 'hosp_frac': 0.7, 'school_contact_increase': 1.1} Will fit 3 times\n",
      "2022/07/19 16:36:43 INFO|--------|{'beta_mult': 1.1, 'hosp_frac': 0.5, 'school_contact_increase': 1.1} Model solved in 2.548240583000009 seconds.\n",
      "2022/07/19 16:36:43 INFO|--------|{'beta_mult': 1.1, 'hosp_frac': 0.5, 'school_contact_increase': 1.1} Will fit 3 times\n",
      "2022/07/19 16:36:55 INFO|--------|{'beta_mult': 1.1, 'hosp_frac': 0.5, 'school_contact_increase': 1.2, 'fit_batch': '0'}: Transmission control fit 1/3 completed in 14.029564957999995 seconds: {767: {'co': 0.7708345585712595}, 781: {'co': 0.8174554882486952}, 795: {'co': 0.7963812672001583}, 809: {'co': 0.804888057151373}, 823: {'co': 0.8070349347686148}, 837: {'co': 0.8005013173685019}}\n",
      "2022/07/19 16:36:55 INFO|---------|{'beta_mult': 1.1, 'hosp_frac': 0.5, 'school_contact_increase': 1.2, 'fit_batch': '0'}: Running forward sim\n",
      "2022/07/19 16:36:55 INFO|--------|{'beta_mult': 1.0, 'hosp_frac': 0.5, 'school_contact_increase': 1.2, 'fit_batch': '0'}: Transmission control fit 1/3 completed in 14.069136083999993 seconds: {767: {'co': 0.7708318945448158}, 781: {'co': 0.8174501531407756}, 795: {'co': 0.7963881049040153}, 809: {'co': 0.8048672667610491}, 823: {'co': 0.8059913601692489}, 837: {'co': 0.7949812191259992}}\n",
      "2022/07/19 16:36:55 INFO|---------|{'beta_mult': 1.0, 'hosp_frac': 0.5, 'school_contact_increase': 1.2, 'fit_batch': '0'}: Running forward sim\n"
     ]
    },
    {
     "name": "stderr",
     "output_type": "stream",
     "text": [
      "2022/07/19 16:36:55 INFO|--------|{'beta_mult': 1.1, 'hosp_frac': 0.7, 'school_contact_increase': 1.1, 'fit_batch': '0'}: Transmission control fit 1/3 completed in 13.871596291000003 seconds: {767: {'co': 0.7897954843119923}, 781: {'co': 0.8322022199388147}, 795: {'co': 0.7994378902490691}, 809: {'co': 0.81347638163633}, 823: {'co': 0.819233758990234}, 837: {'co': 0.818080242250903}}\n",
      "2022/07/19 16:36:55 INFO|---------|{'beta_mult': 1.1, 'hosp_frac': 0.7, 'school_contact_increase': 1.1, 'fit_batch': '0'}: Running forward sim\n",
      "2022/07/19 16:36:56 INFO|--------|{'beta_mult': 1.0, 'hosp_frac': 0.5, 'school_contact_increase': 1.1, 'fit_batch': '0'}: Transmission control fit 1/3 completed in 13.798235334000012 seconds: {767: {'co': 0.7708318945448158}, 781: {'co': 0.8174501531407756}, 795: {'co': 0.7963881049040153}, 809: {'co': 0.8048672667610491}, 823: {'co': 0.8059913601692489}, 837: {'co': 0.7949812191259992}}\n",
      "2022/07/19 16:36:56 INFO|---------|{'beta_mult': 1.0, 'hosp_frac': 0.5, 'school_contact_increase': 1.1, 'fit_batch': '0'}: Running forward sim\n",
      "2022/07/19 16:36:56 INFO|--------|{'beta_mult': 1.0, 'hosp_frac': 0.7, 'school_contact_increase': 1.1, 'fit_batch': '0'}: Transmission control fit 1/3 completed in 13.706556207999995 seconds: {767: {'co': 0.789791531743936}, 781: {'co': 0.8322049909124002}, 795: {'co': 0.7994182062529428}, 809: {'co': 0.8135156583890463}, 823: {'co': 0.8179829533087482}, 837: {'co': 0.8125332914583845}}\n",
      "2022/07/19 16:36:56 INFO|---------|{'beta_mult': 1.0, 'hosp_frac': 0.7, 'school_contact_increase': 1.1, 'fit_batch': '0'}: Running forward sim\n",
      "2022/07/19 16:36:57 INFO|--------|{'beta_mult': 1.1, 'hosp_frac': 0.5, 'school_contact_increase': 1.1, 'fit_batch': '0'}: Transmission control fit 1/3 completed in 13.708622958000007 seconds: {767: {'co': 0.7708345585712595}, 781: {'co': 0.8174554882486952}, 795: {'co': 0.7963812672001583}, 809: {'co': 0.804888057151373}, 823: {'co': 0.8070349347686148}, 837: {'co': 0.8005013173685019}}\n",
      "2022/07/19 16:36:57 INFO|---------|{'beta_mult': 1.1, 'hosp_frac': 0.5, 'school_contact_increase': 1.1, 'fit_batch': '0'}: Running forward sim\n",
      "2022/07/19 16:37:07 INFO|--------|{'beta_mult': 1.1, 'hosp_frac': 0.5, 'school_contact_increase': 1.2, 'fit_batch': '1'}: Transmission control fit 2/3 completed in 11.638828375000003 seconds: {795: {'co': 0.7959035640041279}, 809: {'co': 0.8068976715663585}, 823: {'co': 0.8033824603525327}, 837: {'co': 0.8088301403430374}, 851: {'co': 0.802095711741815}, 865: {'co': 0.8343778568481134}}\n",
      "2022/07/19 16:37:07 INFO|---------|{'beta_mult': 1.1, 'hosp_frac': 0.5, 'school_contact_increase': 1.2, 'fit_batch': '1'}: Running forward sim\n",
      "2022/07/19 16:37:08 INFO|--------|{'beta_mult': 1.0, 'hosp_frac': 0.5, 'school_contact_increase': 1.2, 'fit_batch': '1'}: Transmission control fit 2/3 completed in 11.531654416999999 seconds: {795: {'co': 0.7959233263954266}, 809: {'co': 0.806928685663028}, 823: {'co': 0.802260524761928}, 837: {'co': 0.8035934030727011}, 851: {'co': 0.784018211678691}, 865: {'co': 0.8092159423097642}}\n",
      "2022/07/19 16:37:08 INFO|---------|{'beta_mult': 1.0, 'hosp_frac': 0.5, 'school_contact_increase': 1.2, 'fit_batch': '1'}: Running forward sim\n",
      "2022/07/19 16:37:09 INFO|--------|{'beta_mult': 1.0, 'hosp_frac': 0.7, 'school_contact_increase': 1.1, 'fit_batch': '1'}: Transmission control fit 2/3 completed in 11.212123665999997 seconds: {795: {'co': 0.7990762397059442}, 809: {'co': 0.8155331211664045}, 823: {'co': 0.8145001861440399}, 837: {'co': 0.8203416409284274}, 851: {'co': 0.8089135979364597}, 865: {'co': 0.8392473083522771}}\n",
      "2022/07/19 16:37:09 INFO|---------|{'beta_mult': 1.0, 'hosp_frac': 0.7, 'school_contact_increase': 1.1, 'fit_batch': '1'}: Running forward sim\n",
      "2022/07/19 16:37:09 INFO|--------|{'beta_mult': 1.0, 'hosp_frac': 0.5, 'school_contact_increase': 1.1, 'fit_batch': '1'}: Transmission control fit 2/3 completed in 11.452372916999991 seconds: {795: {'co': 0.7959233263954266}, 809: {'co': 0.806928685663028}, 823: {'co': 0.802260524761928}, 837: {'co': 0.8035934030727011}, 851: {'co': 0.784018211678691}, 865: {'co': 0.8092159423097642}}\n",
      "2022/07/19 16:37:09 INFO|---------|{'beta_mult': 1.0, 'hosp_frac': 0.5, 'school_contact_increase': 1.1, 'fit_batch': '1'}: Running forward sim\n",
      "2022/07/19 16:37:10 INFO|--------|{'beta_mult': 1.1, 'hosp_frac': 0.7, 'school_contact_increase': 1.1, 'fit_batch': '1'}: Transmission control fit 2/3 completed in 13.337617416 seconds: {795: {'co': 0.7990668771931363}, 809: {'co': 0.8155418118187908}, 823: {'co': 0.8158616567588498}, 837: {'co': 0.8257745571841929}, 851: {'co': 0.8242735539541094}, 865: {'co': 0.8587107007642211}}\n",
      "2022/07/19 16:37:10 INFO|---------|{'beta_mult': 1.1, 'hosp_frac': 0.7, 'school_contact_increase': 1.1, 'fit_batch': '1'}: Running forward sim\n",
      "2022/07/19 16:37:10 INFO|--------|{'beta_mult': 1.1, 'hosp_frac': 0.5, 'school_contact_increase': 1.1, 'fit_batch': '1'}: Transmission control fit 2/3 completed in 11.599417291999998 seconds: {795: {'co': 0.7959035640041279}, 809: {'co': 0.8068976715663585}, 823: {'co': 0.8033824603525327}, 837: {'co': 0.8088301403430374}, 851: {'co': 0.802095711741815}, 865: {'co': 0.8343778568481134}}\n",
      "2022/07/19 16:37:10 INFO|---------|{'beta_mult': 1.1, 'hosp_frac': 0.5, 'school_contact_increase': 1.1, 'fit_batch': '1'}: Running forward sim\n",
      "2022/07/19 16:37:20 INFO|--------|{'beta_mult': 1.0, 'hosp_frac': 0.5, 'school_contact_increase': 1.2, 'fit_batch': '2'}: Transmission control fit 3/3 completed in 11.263605666000004 seconds: {809: {'co': 0.8069923166886022}, 823: {'co': 0.8016055333205775}, 837: {'co': 0.8049850955683137}, 851: {'co': 0.7813803979543664}, 865: {'co': 0.8149323286090163}, 879: {'co': 0.7792924631866281}}\n",
      "2022/07/19 16:37:20 INFO|---------|{'beta_mult': 1.0, 'hosp_frac': 0.5, 'school_contact_increase': 1.2, 'fit_batch': '2'}: Running forward sim\n",
      "2022/07/19 16:37:21 INFO|--------|{'beta_mult': 1.0, 'hosp_frac': 0.5, 'school_contact_increase': 1.2, 'fit_batch': '2', 'run_type': 'fit'}: fitted TC: {0: {'co': 0.8773342495490936}, 14: {'co': 0.6853524265751645}, 28: {'co': 0.5313747878505213}, 42: {'co': 9.166775206693499e-14}, 56: {'co': 0.7004806299042426}, 70: {'co': 0.8356320023671157}, 84: {'co': 0.8298063033343771}, 98: {'co': 0.8311909839169287}, 112: {'co': 0.8778137464237421}, 126: {'co': 0.8241103755501108}, 140: {'co': 0.7606632825445033}, 154: {'co': 0.6711880168053298}, 168: {'co': 0.8430307682247831}, 182: {'co': 0.7826561801378445}, 196: {'co': 0.8191830543380944}, 210: {'co': 0.7726034259026388}, 224: {'co': 0.7713676622018327}, 238: {'co': 0.7185596188624429}, 252: {'co': 0.7222209085605668}, 266: {'co': 0.6848822730370463}, 280: {'co': 0.7199443312231306}, 294: {'co': 0.7575590209953923}, 308: {'co': 0.8226615649781124}, 322: {'co': 0.8113711381077103}, 336: {'co': 0.7825940193755743}, 350: {'co': 0.795247223519153}, 364: {'co': 0.8041919201006386}, 378: {'co': 0.7483502889044356}, 392: {'co': 0.7791433566363017}, 406: {'co': 0.7148558342701395}, 420: {'co': 0.7205012048174684}, 434: {'co': 0.6919691186058033}, 448: {'co': 0.746285204150101}, 462: {'co': 0.8190180132014313}, 476: {'co': 0.7998016297264219}, 490: {'co': 0.8380764483329581}, 504: {'co': 0.7970051383302796}, 518: {'co': 0.7916051680097907}, 532: {'co': 0.770261719662157}, 546: {'co': 0.7266696538917392}, 560: {'co': 0.7539924617449456}, 574: {'co': 0.7621935956668583}, 588: {'co': 0.800330940561301}, 602: {'co': 0.7783355132914611}, 616: {'co': 0.7356273101492494}, 630: {'co': 0.7519716130085768}, 644: {'co': 0.7342969080678843}, 658: {'co': 0.7609891159761599}, 672: {'co': 0.8278167880520491}, 686: {'co': 0.861623533731199}, 700: {'co': 0.7762133299890513}, 714: {'co': 0.8042093154856265}, 728: {'co': 0.8040475627243601}, 742: {'co': 0.797471282705075}, 767: {'co': 0.7708318945448158}, 781: {'co': 0.8174501531407756}, 795: {'co': 0.7959233263954266}, 809: {'co': 0.8069923166886022}, 823: {'co': 0.8016055333205775}, 837: {'co': 0.8049850955683137}, 851: {'co': 0.7813803979543664}, 865: {'co': 0.8149323286090163}, 879: {'co': 0.7792924780877893}}\n",
      "2022/07/19 16:37:21 INFO|---------|{'beta_mult': 1.0, 'hosp_frac': 0.5, 'school_contact_increase': 1.2, 'fit_batch': '2', 'run_type': 'fit'}: Running forward sim\n",
      "2022/07/19 16:37:21 INFO|--------|{'beta_mult': 1.0, 'hosp_frac': 0.5, 'school_contact_increase': 1.1, 'fit_batch': '2'}: Transmission control fit 3/3 completed in 11.457560666999996 seconds: {809: {'co': 0.8069923166886022}, 823: {'co': 0.8016055333205775}, 837: {'co': 0.8049850955683137}, 851: {'co': 0.7813803979543664}, 865: {'co': 0.8149323286090163}, 879: {'co': 0.7792924631866281}}\n",
      "2022/07/19 16:37:21 INFO|---------|{'beta_mult': 1.0, 'hosp_frac': 0.5, 'school_contact_increase': 1.1, 'fit_batch': '2'}: Running forward sim\n"
     ]
    },
    {
     "name": "stderr",
     "output_type": "stream",
     "text": [
      "2022/07/19 16:37:22 INFO|--------|{'beta_mult': 1.1, 'hosp_frac': 0.5, 'school_contact_increase': 1.2, 'fit_batch': '2'}: Transmission control fit 3/3 completed in 13.683887667000008 seconds: {809: {'co': 0.806860852113268}, 823: {'co': 0.8029086058083854}, 837: {'co': 0.8102479983439306}, 851: {'co': 0.7994520341946584}, 865: {'co': 0.8392456221614089}, 879: {'co': 0.8085423050144604}}\n",
      "2022/07/19 16:37:22 INFO|---------|{'beta_mult': 1.1, 'hosp_frac': 0.5, 'school_contact_increase': 1.2, 'fit_batch': '2'}: Running forward sim\n",
      "2022/07/19 16:37:23 INFO|--------|{'beta_mult': 1.0, 'hosp_frac': 0.5, 'school_contact_increase': 1.1, 'fit_batch': '2', 'run_type': 'fit'}: fitted TC: {0: {'co': 0.8773342495490936}, 14: {'co': 0.6853524265751645}, 28: {'co': 0.5313747878505213}, 42: {'co': 9.166775206693499e-14}, 56: {'co': 0.7004806299042426}, 70: {'co': 0.8356320023671157}, 84: {'co': 0.8298063033343771}, 98: {'co': 0.8311909839169287}, 112: {'co': 0.8778137464237421}, 126: {'co': 0.8241103755501108}, 140: {'co': 0.7606632825445033}, 154: {'co': 0.6711880168053298}, 168: {'co': 0.8430307682247831}, 182: {'co': 0.7826561801378445}, 196: {'co': 0.8191830543380944}, 210: {'co': 0.7726034259026388}, 224: {'co': 0.7713676622018327}, 238: {'co': 0.7185596188624429}, 252: {'co': 0.7222209085605668}, 266: {'co': 0.6848822730370463}, 280: {'co': 0.7199443312231306}, 294: {'co': 0.7575590209953923}, 308: {'co': 0.8226615649781124}, 322: {'co': 0.8113711381077103}, 336: {'co': 0.7825940193755743}, 350: {'co': 0.795247223519153}, 364: {'co': 0.8041919201006386}, 378: {'co': 0.7483502889044356}, 392: {'co': 0.7791433566363017}, 406: {'co': 0.7148558342701395}, 420: {'co': 0.7205012048174684}, 434: {'co': 0.6919691186058033}, 448: {'co': 0.746285204150101}, 462: {'co': 0.8190180132014313}, 476: {'co': 0.7998016297264219}, 490: {'co': 0.8380764483329581}, 504: {'co': 0.7970051383302796}, 518: {'co': 0.7916051680097907}, 532: {'co': 0.770261719662157}, 546: {'co': 0.7266696538917392}, 560: {'co': 0.7539924617449456}, 574: {'co': 0.7621935956668583}, 588: {'co': 0.800330940561301}, 602: {'co': 0.7783355132914611}, 616: {'co': 0.7356273101492494}, 630: {'co': 0.7519716130085768}, 644: {'co': 0.7342969080678843}, 658: {'co': 0.7609891159761599}, 672: {'co': 0.8278167880520491}, 686: {'co': 0.861623533731199}, 700: {'co': 0.7762133299890513}, 714: {'co': 0.8042093154856265}, 728: {'co': 0.8040475627243601}, 742: {'co': 0.797471282705075}, 767: {'co': 0.7708318945448158}, 781: {'co': 0.8174501531407756}, 795: {'co': 0.7959233263954266}, 809: {'co': 0.8069923166886022}, 823: {'co': 0.8016055333205775}, 837: {'co': 0.8049850955683137}, 851: {'co': 0.7813803979543664}, 865: {'co': 0.8149323286090163}, 879: {'co': 0.7792924780877893}}\n",
      "2022/07/19 16:37:23 INFO|---------|{'beta_mult': 1.0, 'hosp_frac': 0.5, 'school_contact_increase': 1.1, 'fit_batch': '2', 'run_type': 'fit'}: Running forward sim\n",
      "2022/07/19 16:37:23 INFO|============================================================\n",
      "2022/07/19 16:37:23 INFO|--------|{'beta_mult': 1.0, 'hosp_frac': 0.7, 'school_contact_increase': 1.1, 'fit_batch': '2'}: Transmission control fit 3/3 completed in 13.453134708999997 seconds: {809: {'co': 0.8154880869318091}, 823: {'co': 0.8142012070146888}, 837: {'co': 0.8210297687661019}, 851: {'co': 0.8076649135284046}, 865: {'co': 0.8424631405967001}, 879: {'co': 0.8268789556472205}}\n",
      "2022/07/19 16:37:23 INFO|---------|{'beta_mult': 1.0, 'hosp_frac': 0.7, 'school_contact_increase': 1.1, 'fit_batch': '2'}: Running forward sim\n",
      "2022/07/19 16:37:24 INFO|--------|{'beta_mult': 1.1, 'hosp_frac': 0.5, 'school_contact_increase': 1.2, 'fit_batch': '2', 'run_type': 'fit'}: fitted TC: {0: {'co': 0.8773342495490936}, 14: {'co': 0.6853524265751645}, 28: {'co': 0.5313747878505213}, 42: {'co': 9.166775206693499e-14}, 56: {'co': 0.7004806299042426}, 70: {'co': 0.8356320023671157}, 84: {'co': 0.8298063033343771}, 98: {'co': 0.8311909839169287}, 112: {'co': 0.8778137464237421}, 126: {'co': 0.8241103755501108}, 140: {'co': 0.7606632825445033}, 154: {'co': 0.6711880168053298}, 168: {'co': 0.8430307682247831}, 182: {'co': 0.7826561801378445}, 196: {'co': 0.8191830543380944}, 210: {'co': 0.7726034259026388}, 224: {'co': 0.7713676622018327}, 238: {'co': 0.7185596188624429}, 252: {'co': 0.7222209085605668}, 266: {'co': 0.6848822730370463}, 280: {'co': 0.7199443312231306}, 294: {'co': 0.7575590209953923}, 308: {'co': 0.8226615649781124}, 322: {'co': 0.8113711381077103}, 336: {'co': 0.7825940193755743}, 350: {'co': 0.795247223519153}, 364: {'co': 0.8041919201006386}, 378: {'co': 0.7483502889044356}, 392: {'co': 0.7791433566363017}, 406: {'co': 0.7148558342701395}, 420: {'co': 0.7205012048174684}, 434: {'co': 0.6919691186058033}, 448: {'co': 0.746285204150101}, 462: {'co': 0.8190180132014313}, 476: {'co': 0.7998016297264219}, 490: {'co': 0.8380764483329581}, 504: {'co': 0.7970051383302796}, 518: {'co': 0.7916051680097907}, 532: {'co': 0.770261719662157}, 546: {'co': 0.7266696538917392}, 560: {'co': 0.7539924617449456}, 574: {'co': 0.7621935956668583}, 588: {'co': 0.800330940561301}, 602: {'co': 0.7783355132914611}, 616: {'co': 0.7356273101492494}, 630: {'co': 0.7519716130085768}, 644: {'co': 0.7342969080678843}, 658: {'co': 0.7609891159761599}, 672: {'co': 0.8278167880520491}, 686: {'co': 0.861623533731199}, 700: {'co': 0.7762133299890513}, 714: {'co': 0.8042093154856265}, 728: {'co': 0.8040475627243601}, 742: {'co': 0.797471282705075}, 767: {'co': 0.7708345585712595}, 781: {'co': 0.8174554882486952}, 795: {'co': 0.7959035640041279}, 809: {'co': 0.806860852113268}, 823: {'co': 0.8029086058083854}, 837: {'co': 0.8102479983439306}, 851: {'co': 0.7994520341946584}, 865: {'co': 0.8392456221614089}, 879: {'co': 0.8085423199156216}}\n",
      "2022/07/19 16:37:24 INFO|---------|{'beta_mult': 1.1, 'hosp_frac': 0.5, 'school_contact_increase': 1.2, 'fit_batch': '2', 'run_type': 'fit'}: Running forward sim\n",
      "2022/07/19 16:37:24 INFO|--------|{'beta_mult': 1.1, 'hosp_frac': 0.5, 'school_contact_increase': 1.1, 'fit_batch': '2'}: Transmission control fit 3/3 completed in 13.325040791999996 seconds: {809: {'co': 0.806860852113268}, 823: {'co': 0.8029086058083854}, 837: {'co': 0.8102479983439306}, 851: {'co': 0.7994520341946584}, 865: {'co': 0.8392456221614089}, 879: {'co': 0.8085423050144604}}\n",
      "2022/07/19 16:37:24 INFO|---------|{'beta_mult': 1.1, 'hosp_frac': 0.5, 'school_contact_increase': 1.1, 'fit_batch': '2'}: Running forward sim\n",
      "2022/07/19 16:37:24 INFO|--------|{'beta_mult': 1.0, 'hosp_frac': 0.7, 'school_contact_increase': 1.1, 'fit_batch': '2', 'run_type': 'fit'}: fitted TC: {0: {'co': 0.8773342495490936}, 14: {'co': 0.6853524265751645}, 28: {'co': 0.5313747878505213}, 42: {'co': 9.166775206693499e-14}, 56: {'co': 0.7004806299042426}, 70: {'co': 0.8356320023671157}, 84: {'co': 0.8298063033343771}, 98: {'co': 0.8311909839169287}, 112: {'co': 0.8778137464237421}, 126: {'co': 0.8241103755501108}, 140: {'co': 0.7606632825445033}, 154: {'co': 0.6711880168053298}, 168: {'co': 0.8430307682247831}, 182: {'co': 0.7826561801378445}, 196: {'co': 0.8191830543380944}, 210: {'co': 0.7726034259026388}, 224: {'co': 0.7713676622018327}, 238: {'co': 0.7185596188624429}, 252: {'co': 0.7222209085605668}, 266: {'co': 0.6848822730370463}, 280: {'co': 0.7199443312231306}, 294: {'co': 0.7575590209953923}, 308: {'co': 0.8226615649781124}, 322: {'co': 0.8113711381077103}, 336: {'co': 0.7825940193755743}, 350: {'co': 0.795247223519153}, 364: {'co': 0.8041919201006386}, 378: {'co': 0.7483502889044356}, 392: {'co': 0.7791433566363017}, 406: {'co': 0.7148558342701395}, 420: {'co': 0.7205012048174684}, 434: {'co': 0.6919691186058033}, 448: {'co': 0.746285204150101}, 462: {'co': 0.8190180132014313}, 476: {'co': 0.7998016297264219}, 490: {'co': 0.8380764483329581}, 504: {'co': 0.7970051383302796}, 518: {'co': 0.7916051680097907}, 532: {'co': 0.770261719662157}, 546: {'co': 0.7266696538917392}, 560: {'co': 0.7539924617449456}, 574: {'co': 0.7621935956668583}, 588: {'co': 0.800330940561301}, 602: {'co': 0.7783355132914611}, 616: {'co': 0.7356273101492494}, 630: {'co': 0.7519716130085768}, 644: {'co': 0.7342969080678843}, 658: {'co': 0.7609891159761599}, 672: {'co': 0.8278167880520491}, 686: {'co': 0.861623533731199}, 700: {'co': 0.7762133299890513}, 714: {'co': 0.8042093154856265}, 728: {'co': 0.8040475627243601}, 742: {'co': 0.797471282705075}, 767: {'co': 0.789791531743936}, 781: {'co': 0.8322049909124002}, 795: {'co': 0.7990762397059442}, 809: {'co': 0.8154880869318091}, 823: {'co': 0.8142012070146888}, 837: {'co': 0.8210297687661019}, 851: {'co': 0.8076649135284046}, 865: {'co': 0.8424631405967001}, 879: {'co': 0.8268789705483817}}\n",
      "2022/07/19 16:37:24 INFO|---------|{'beta_mult': 1.0, 'hosp_frac': 0.7, 'school_contact_increase': 1.1, 'fit_batch': '2', 'run_type': 'fit'}: Running forward sim\n",
      "2022/07/19 16:37:25 INFO|-----------|{'beta_mult': 1.0, 'hosp_frac': 0.7, 'school_contact_increase': 1.2} Retrieving vaccinations data\n"
     ]
    },
    {
     "name": "stderr",
     "output_type": "stream",
     "text": [
      "2022/07/19 16:37:25 INFO|============================================================\n",
      "2022/07/19 16:37:26 INFO|--------|{'beta_mult': 1.1, 'hosp_frac': 0.5, 'school_contact_increase': 1.1, 'fit_batch': '2', 'run_type': 'fit'}: fitted TC: {0: {'co': 0.8773342495490936}, 14: {'co': 0.6853524265751645}, 28: {'co': 0.5313747878505213}, 42: {'co': 9.166775206693499e-14}, 56: {'co': 0.7004806299042426}, 70: {'co': 0.8356320023671157}, 84: {'co': 0.8298063033343771}, 98: {'co': 0.8311909839169287}, 112: {'co': 0.8778137464237421}, 126: {'co': 0.8241103755501108}, 140: {'co': 0.7606632825445033}, 154: {'co': 0.6711880168053298}, 168: {'co': 0.8430307682247831}, 182: {'co': 0.7826561801378445}, 196: {'co': 0.8191830543380944}, 210: {'co': 0.7726034259026388}, 224: {'co': 0.7713676622018327}, 238: {'co': 0.7185596188624429}, 252: {'co': 0.7222209085605668}, 266: {'co': 0.6848822730370463}, 280: {'co': 0.7199443312231306}, 294: {'co': 0.7575590209953923}, 308: {'co': 0.8226615649781124}, 322: {'co': 0.8113711381077103}, 336: {'co': 0.7825940193755743}, 350: {'co': 0.795247223519153}, 364: {'co': 0.8041919201006386}, 378: {'co': 0.7483502889044356}, 392: {'co': 0.7791433566363017}, 406: {'co': 0.7148558342701395}, 420: {'co': 0.7205012048174684}, 434: {'co': 0.6919691186058033}, 448: {'co': 0.746285204150101}, 462: {'co': 0.8190180132014313}, 476: {'co': 0.7998016297264219}, 490: {'co': 0.8380764483329581}, 504: {'co': 0.7970051383302796}, 518: {'co': 0.7916051680097907}, 532: {'co': 0.770261719662157}, 546: {'co': 0.7266696538917392}, 560: {'co': 0.7539924617449456}, 574: {'co': 0.7621935956668583}, 588: {'co': 0.800330940561301}, 602: {'co': 0.7783355132914611}, 616: {'co': 0.7356273101492494}, 630: {'co': 0.7519716130085768}, 644: {'co': 0.7342969080678843}, 658: {'co': 0.7609891159761599}, 672: {'co': 0.8278167880520491}, 686: {'co': 0.861623533731199}, 700: {'co': 0.7762133299890513}, 714: {'co': 0.8042093154856265}, 728: {'co': 0.8040475627243601}, 742: {'co': 0.797471282705075}, 767: {'co': 0.7708345585712595}, 781: {'co': 0.8174554882486952}, 795: {'co': 0.7959035640041279}, 809: {'co': 0.806860852113268}, 823: {'co': 0.8029086058083854}, 837: {'co': 0.8102479983439306}, 851: {'co': 0.7994520341946584}, 865: {'co': 0.8392456221614089}, 879: {'co': 0.8085423199156216}}\n",
      "2022/07/19 16:37:26 INFO|---------|{'beta_mult': 1.1, 'hosp_frac': 0.5, 'school_contact_increase': 1.1, 'fit_batch': '2', 'run_type': 'fit'}: Running forward sim\n",
      "2022/07/19 16:37:27 INFO|-----------|{'beta_mult': 1.0, 'hosp_frac': 0.7, 'school_contact_increase': 1.2} Constructing vaccination projections\n",
      "2022/07/19 16:37:27 INFO|-----------|{'beta_mult': 1.0, 'hosp_frac': 0.7, 'school_contact_increase': 1.2} Retrieving hospitalizations data\n",
      "2022/07/19 16:37:27 INFO|--------|{'beta_mult': 1.1, 'hosp_frac': 0.7, 'school_contact_increase': 1.1, 'fit_batch': '2'}: Transmission control fit 3/3 completed in 15.535909292000014 seconds: {809: {'co': 0.8154544536081756}, 823: {'co': 0.8155427260638657}, 837: {'co': 0.8264869680318332}, 851: {'co': 0.8228684134323935}, 865: {'co': 0.861119113257259}, 879: {'co': 0.848854114169001}}\n",
      "2022/07/19 16:37:27 INFO|---------|{'beta_mult': 1.1, 'hosp_frac': 0.7, 'school_contact_increase': 1.1, 'fit_batch': '2'}: Running forward sim\n",
      "2022/07/19 16:37:27 INFO|-----------|{'beta_mult': 1.1, 'hosp_frac': 0.7, 'school_contact_increase': 1.2} Retrieving vaccinations data\n",
      "2022/07/19 16:37:27 INFO|============================================================\n",
      "2022/07/19 16:37:28 INFO|--------|{'beta_mult': 1.0, 'hosp_frac': 0.7, 'school_contact_increase': 1.2} Prepping Model\n",
      "2022/07/19 16:37:28 INFO|---------|{'beta_mult': 1.0, 'hosp_frac': 0.7, 'school_contact_increase': 1.2} Prepping Model\n",
      "2022/07/19 16:37:28 INFO|--------|{'beta_mult': 1.1, 'hosp_frac': 0.7, 'school_contact_increase': 1.1, 'fit_batch': '2', 'run_type': 'fit'}: fitted TC: {0: {'co': 0.8773342495490936}, 14: {'co': 0.6853524265751645}, 28: {'co': 0.5313747878505213}, 42: {'co': 9.166775206693499e-14}, 56: {'co': 0.7004806299042426}, 70: {'co': 0.8356320023671157}, 84: {'co': 0.8298063033343771}, 98: {'co': 0.8311909839169287}, 112: {'co': 0.8778137464237421}, 126: {'co': 0.8241103755501108}, 140: {'co': 0.7606632825445033}, 154: {'co': 0.6711880168053298}, 168: {'co': 0.8430307682247831}, 182: {'co': 0.7826561801378445}, 196: {'co': 0.8191830543380944}, 210: {'co': 0.7726034259026388}, 224: {'co': 0.7713676622018327}, 238: {'co': 0.7185596188624429}, 252: {'co': 0.7222209085605668}, 266: {'co': 0.6848822730370463}, 280: {'co': 0.7199443312231306}, 294: {'co': 0.7575590209953923}, 308: {'co': 0.8226615649781124}, 322: {'co': 0.8113711381077103}, 336: {'co': 0.7825940193755743}, 350: {'co': 0.795247223519153}, 364: {'co': 0.8041919201006386}, 378: {'co': 0.7483502889044356}, 392: {'co': 0.7791433566363017}, 406: {'co': 0.7148558342701395}, 420: {'co': 0.7205012048174684}, 434: {'co': 0.6919691186058033}, 448: {'co': 0.746285204150101}, 462: {'co': 0.8190180132014313}, 476: {'co': 0.7998016297264219}, 490: {'co': 0.8380764483329581}, 504: {'co': 0.7970051383302796}, 518: {'co': 0.7916051680097907}, 532: {'co': 0.770261719662157}, 546: {'co': 0.7266696538917392}, 560: {'co': 0.7539924617449456}, 574: {'co': 0.7621935956668583}, 588: {'co': 0.800330940561301}, 602: {'co': 0.7783355132914611}, 616: {'co': 0.7356273101492494}, 630: {'co': 0.7519716130085768}, 644: {'co': 0.7342969080678843}, 658: {'co': 0.7609891159761599}, 672: {'co': 0.8278167880520491}, 686: {'co': 0.861623533731199}, 700: {'co': 0.7762133299890513}, 714: {'co': 0.8042093154856265}, 728: {'co': 0.8040475627243601}, 742: {'co': 0.797471282705075}, 767: {'co': 0.7897954843119923}, 781: {'co': 0.8322022199388147}, 795: {'co': 0.7990668771931363}, 809: {'co': 0.8154544536081756}, 823: {'co': 0.8155427260638657}, 837: {'co': 0.8264869680318332}, 851: {'co': 0.8228684134323935}, 865: {'co': 0.861119113257259}, 879: {'co': 0.8488541290701622}}\n",
      "2022/07/19 16:37:28 INFO|---------|{'beta_mult': 1.1, 'hosp_frac': 0.7, 'school_contact_increase': 1.1, 'fit_batch': '2', 'run_type': 'fit'}: Running forward sim\n",
      "2022/07/19 16:37:28 INFO|-----------|{'beta_mult': 1.1, 'hosp_frac': 0.7, 'school_contact_increase': 1.2} Constructing vaccination projections\n",
      "2022/07/19 16:37:28 INFO|-----------|{'beta_mult': 1.1, 'hosp_frac': 0.7, 'school_contact_increase': 1.2} Retrieving hospitalizations data\n",
      "2022/07/19 16:37:28 INFO|-----------|{'beta_mult': 1.0, 'hosp_frac': 0.9, 'school_contact_increase': 1.1} Retrieving vaccinations data\n",
      "2022/07/19 16:37:29 INFO|============================================================\n",
      "2022/07/19 16:37:29 INFO|--------|{'beta_mult': 1.1, 'hosp_frac': 0.7, 'school_contact_increase': 1.2} Prepping Model\n",
      "2022/07/19 16:37:29 INFO|---------|{'beta_mult': 1.1, 'hosp_frac': 0.7, 'school_contact_increase': 1.2} Prepping Model\n",
      "2022/07/19 16:37:30 INFO|-----------|{'beta_mult': 1.0, 'hosp_frac': 0.9, 'school_contact_increase': 1.1} Constructing vaccination projections\n",
      "2022/07/19 16:37:30 INFO|-----------|{'beta_mult': 1.0, 'hosp_frac': 0.9, 'school_contact_increase': 1.1} Retrieving hospitalizations data\n",
      "2022/07/19 16:37:30 INFO|-----------|{'beta_mult': 1.1, 'hosp_frac': 0.9, 'school_contact_increase': 1.1} Retrieving vaccinations data\n",
      "2022/07/19 16:37:31 INFO|--------|{'beta_mult': 1.0, 'hosp_frac': 0.9, 'school_contact_increase': 1.1} Prepping Model\n",
      "2022/07/19 16:37:31 INFO|---------|{'beta_mult': 1.0, 'hosp_frac': 0.9, 'school_contact_increase': 1.1} Prepping Model\n",
      "2022/07/19 16:37:32 INFO|-----------|{'beta_mult': 1.1, 'hosp_frac': 0.9, 'school_contact_increase': 1.1} Constructing vaccination projections\n",
      "2022/07/19 16:37:32 INFO|-----------|{'beta_mult': 1.1, 'hosp_frac': 0.9, 'school_contact_increase': 1.1} Retrieving hospitalizations data\n",
      "2022/07/19 16:37:33 INFO|============================================================\n",
      "2022/07/19 16:37:33 INFO|--------|{'beta_mult': 1.1, 'hosp_frac': 0.9, 'school_contact_increase': 1.1} Prepping Model\n",
      "2022/07/19 16:37:33 INFO|---------|{'beta_mult': 1.1, 'hosp_frac': 0.9, 'school_contact_increase': 1.1} Prepping Model\n",
      "2022/07/19 16:37:34 INFO|-----------|{'beta_mult': 1.0, 'hosp_frac': 0.9, 'school_contact_increase': 1.2} Retrieving vaccinations data\n",
      "2022/07/19 16:37:35 INFO|-----------|{'beta_mult': 1.0, 'hosp_frac': 0.9, 'school_contact_increase': 1.2} Constructing vaccination projections\n",
      "2022/07/19 16:37:35 INFO|-----------|{'beta_mult': 1.0, 'hosp_frac': 0.9, 'school_contact_increase': 1.2} Retrieving hospitalizations data\n"
     ]
    },
    {
     "name": "stderr",
     "output_type": "stream",
     "text": [
      "2022/07/19 16:37:35 INFO|============================================================\n",
      "2022/07/19 16:37:36 INFO|--------|{'beta_mult': 1.0, 'hosp_frac': 0.9, 'school_contact_increase': 1.2} Prepping Model\n",
      "2022/07/19 16:37:36 INFO|---------|{'beta_mult': 1.0, 'hosp_frac': 0.9, 'school_contact_increase': 1.2} Prepping Model\n",
      "2022/07/19 16:37:37 INFO|-----------|{'beta_mult': 1.1, 'hosp_frac': 0.9, 'school_contact_increase': 1.2} Retrieving vaccinations data\n",
      "2022/07/19 16:37:38 INFO|-----------|{'beta_mult': 1.1, 'hosp_frac': 0.9, 'school_contact_increase': 1.2} Constructing vaccination projections\n",
      "2022/07/19 16:37:38 INFO|-----------|{'beta_mult': 1.1, 'hosp_frac': 0.9, 'school_contact_increase': 1.2} Retrieving hospitalizations data\n",
      "2022/07/19 16:37:39 INFO|--------|{'beta_mult': 1.1, 'hosp_frac': 0.9, 'school_contact_increase': 1.2} Prepping Model\n",
      "2022/07/19 16:37:39 INFO|---------|{'beta_mult': 1.1, 'hosp_frac': 0.9, 'school_contact_increase': 1.2} Prepping Model\n",
      "2022/07/19 16:38:29 INFO|--------|{'beta_mult': 1.0, 'hosp_frac': 0.7, 'school_contact_increase': 1.2} Model prepped for fitting in 61.33698958399998 seconds.\n",
      "2022/07/19 16:38:29 INFO|--------|{'beta_mult': 1.0, 'hosp_frac': 0.7, 'school_contact_increase': 1.2} Solving Model ODE\n",
      "2022/07/19 16:38:30 INFO|--------|{'beta_mult': 1.1, 'hosp_frac': 0.7, 'school_contact_increase': 1.2} Model prepped for fitting in 61.32477175 seconds.\n",
      "2022/07/19 16:38:30 INFO|--------|{'beta_mult': 1.1, 'hosp_frac': 0.7, 'school_contact_increase': 1.2} Solving Model ODE\n",
      "2022/07/19 16:38:32 INFO|--------|{'beta_mult': 1.0, 'hosp_frac': 0.9, 'school_contact_increase': 1.1} Model prepped for fitting in 60.94963629099999 seconds.\n",
      "2022/07/19 16:38:32 INFO|--------|{'beta_mult': 1.0, 'hosp_frac': 0.9, 'school_contact_increase': 1.1} Solving Model ODE\n",
      "2022/07/19 16:38:32 INFO|--------|{'beta_mult': 1.0, 'hosp_frac': 0.7, 'school_contact_increase': 1.2} Model solved in 2.913350207999997 seconds.\n",
      "2022/07/19 16:38:32 INFO|--------|{'beta_mult': 1.0, 'hosp_frac': 0.7, 'school_contact_increase': 1.2} Will fit 3 times\n",
      "2022/07/19 16:38:33 INFO|--------|{'beta_mult': 1.1, 'hosp_frac': 0.9, 'school_contact_increase': 1.1} Model prepped for fitting in 60.068179249999986 seconds.\n",
      "2022/07/19 16:38:33 INFO|--------|{'beta_mult': 1.1, 'hosp_frac': 0.9, 'school_contact_increase': 1.1} Solving Model ODE\n",
      "2022/07/19 16:38:33 INFO|--------|{'beta_mult': 1.1, 'hosp_frac': 0.7, 'school_contact_increase': 1.2} Model solved in 2.668887333000015 seconds.\n",
      "2022/07/19 16:38:33 INFO|--------|{'beta_mult': 1.1, 'hosp_frac': 0.7, 'school_contact_increase': 1.2} Will fit 3 times\n",
      "2022/07/19 16:38:35 INFO|--------|{'beta_mult': 1.0, 'hosp_frac': 0.9, 'school_contact_increase': 1.1} Model solved in 2.6500671249999925 seconds.\n",
      "2022/07/19 16:38:35 INFO|--------|{'beta_mult': 1.0, 'hosp_frac': 0.9, 'school_contact_increase': 1.1} Will fit 3 times\n",
      "2022/07/19 16:38:35 INFO|--------|{'beta_mult': 1.1, 'hosp_frac': 0.9, 'school_contact_increase': 1.1} Model solved in 2.634629375000003 seconds.\n",
      "2022/07/19 16:38:35 INFO|--------|{'beta_mult': 1.1, 'hosp_frac': 0.9, 'school_contact_increase': 1.1} Will fit 3 times\n",
      "2022/07/19 16:38:37 INFO|--------|{'beta_mult': 1.0, 'hosp_frac': 0.9, 'school_contact_increase': 1.2} Model prepped for fitting in 61.048938709 seconds.\n",
      "2022/07/19 16:38:37 INFO|--------|{'beta_mult': 1.0, 'hosp_frac': 0.9, 'school_contact_increase': 1.2} Solving Model ODE\n",
      "2022/07/19 16:38:40 INFO|--------|{'beta_mult': 1.1, 'hosp_frac': 0.9, 'school_contact_increase': 1.2} Model prepped for fitting in 60.236276583000006 seconds.\n",
      "2022/07/19 16:38:40 INFO|--------|{'beta_mult': 1.1, 'hosp_frac': 0.9, 'school_contact_increase': 1.2} Solving Model ODE\n",
      "2022/07/19 16:38:40 INFO|--------|{'beta_mult': 1.0, 'hosp_frac': 0.9, 'school_contact_increase': 1.2} Model solved in 2.602108500000014 seconds.\n",
      "2022/07/19 16:38:40 INFO|--------|{'beta_mult': 1.0, 'hosp_frac': 0.9, 'school_contact_increase': 1.2} Will fit 3 times\n",
      "2022/07/19 16:38:42 INFO|--------|{'beta_mult': 1.1, 'hosp_frac': 0.9, 'school_contact_increase': 1.2} Model solved in 2.5984918339999865 seconds.\n",
      "2022/07/19 16:38:42 INFO|--------|{'beta_mult': 1.1, 'hosp_frac': 0.9, 'school_contact_increase': 1.2} Will fit 3 times\n",
      "2022/07/19 16:38:46 INFO|--------|{'beta_mult': 1.0, 'hosp_frac': 0.7, 'school_contact_increase': 1.2, 'fit_batch': '0'}: Transmission control fit 1/3 completed in 14.002172916999996 seconds: {767: {'co': 0.789791531743936}, 781: {'co': 0.8322049909124002}, 795: {'co': 0.7994182062529428}, 809: {'co': 0.8135156583890463}, 823: {'co': 0.8179829533087482}, 837: {'co': 0.8125332914583845}}\n",
      "2022/07/19 16:38:46 INFO|---------|{'beta_mult': 1.0, 'hosp_frac': 0.7, 'school_contact_increase': 1.2, 'fit_batch': '0'}: Running forward sim\n",
      "2022/07/19 16:38:47 INFO|--------|{'beta_mult': 1.1, 'hosp_frac': 0.7, 'school_contact_increase': 1.2, 'fit_batch': '0'}: Transmission control fit 1/3 completed in 13.994314166999999 seconds: {767: {'co': 0.7897954843119923}, 781: {'co': 0.8322022199388147}, 795: {'co': 0.7994378902490691}, 809: {'co': 0.81347638163633}, 823: {'co': 0.819233758990234}, 837: {'co': 0.818080242250903}}\n",
      "2022/07/19 16:38:47 INFO|---------|{'beta_mult': 1.1, 'hosp_frac': 0.7, 'school_contact_increase': 1.2, 'fit_batch': '0'}: Running forward sim\n",
      "2022/07/19 16:38:51 INFO|--------|{'beta_mult': 1.0, 'hosp_frac': 0.9, 'school_contact_increase': 1.1, 'fit_batch': '0'}: Transmission control fit 1/3 completed in 16.618400917000002 seconds: {767: {'co': 0.8059211813259108}, 781: {'co': 0.8401789041759451}, 795: {'co': 0.8020121522917066}, 809: {'co': 0.8188642783367084}, 823: {'co': 0.8253138586403765}, 837: {'co': 0.8224264906605246}}\n",
      "2022/07/19 16:38:51 INFO|---------|{'beta_mult': 1.0, 'hosp_frac': 0.9, 'school_contact_increase': 1.1, 'fit_batch': '0'}: Running forward sim\n",
      "2022/07/19 16:38:52 INFO|--------|{'beta_mult': 1.1, 'hosp_frac': 0.9, 'school_contact_increase': 1.1, 'fit_batch': '0'}: Transmission control fit 1/3 completed in 16.369847667000016 seconds: {767: {'co': 0.8059229960223214}, 781: {'co': 0.8401804767672636}, 795: {'co': 0.8020208366415182}, 809: {'co': 0.8188631300076212}, 823: {'co': 0.8267092581402672}, 837: {'co': 0.8280153329423909}}\n",
      "2022/07/19 16:38:52 INFO|---------|{'beta_mult': 1.1, 'hosp_frac': 0.9, 'school_contact_increase': 1.1, 'fit_batch': '0'}: Running forward sim\n",
      "2022/07/19 16:38:57 INFO|--------|{'beta_mult': 1.0, 'hosp_frac': 0.9, 'school_contact_increase': 1.2, 'fit_batch': '0'}: Transmission control fit 1/3 completed in 16.470410749999985 seconds: {767: {'co': 0.8059211813259108}, 781: {'co': 0.8401789041759451}, 795: {'co': 0.8020121522917066}, 809: {'co': 0.8188642783367084}, 823: {'co': 0.8253138586403765}, 837: {'co': 0.8224264906605246}}\n",
      "2022/07/19 16:38:57 INFO|---------|{'beta_mult': 1.0, 'hosp_frac': 0.9, 'school_contact_increase': 1.2, 'fit_batch': '0'}: Running forward sim\n",
      "2022/07/19 16:38:59 INFO|--------|{'beta_mult': 1.0, 'hosp_frac': 0.7, 'school_contact_increase': 1.2, 'fit_batch': '1'}: Transmission control fit 2/3 completed in 11.562907709000001 seconds: {795: {'co': 0.7990762397059442}, 809: {'co': 0.8155331211664045}, 823: {'co': 0.8145001861440399}, 837: {'co': 0.8203416409284274}, 851: {'co': 0.8089135979364597}, 865: {'co': 0.8392473083522771}}\n",
      "2022/07/19 16:38:59 INFO|---------|{'beta_mult': 1.0, 'hosp_frac': 0.7, 'school_contact_increase': 1.2, 'fit_batch': '1'}: Running forward sim\n",
      "2022/07/19 16:38:59 INFO|--------|{'beta_mult': 1.1, 'hosp_frac': 0.9, 'school_contact_increase': 1.2, 'fit_batch': '0'}: Transmission control fit 1/3 completed in 16.904471208000018 seconds: {767: {'co': 0.8059229960223214}, 781: {'co': 0.8401804767672636}, 795: {'co': 0.8020208366415182}, 809: {'co': 0.8188631300076212}, 823: {'co': 0.8267092581402672}, 837: {'co': 0.8280153329423909}}\n",
      "2022/07/19 16:38:59 INFO|---------|{'beta_mult': 1.1, 'hosp_frac': 0.9, 'school_contact_increase': 1.2, 'fit_batch': '0'}: Running forward sim\n",
      "2022/07/19 16:39:01 INFO|--------|{'beta_mult': 1.1, 'hosp_frac': 0.7, 'school_contact_increase': 1.2, 'fit_batch': '1'}: Transmission control fit 2/3 completed in 13.15407054100001 seconds: {795: {'co': 0.7990668771931363}, 809: {'co': 0.8155418118187908}, 823: {'co': 0.8158616567588498}, 837: {'co': 0.8257745571841929}, 851: {'co': 0.8242735539541094}, 865: {'co': 0.8587107007642211}}\n",
      "2022/07/19 16:39:01 INFO|---------|{'beta_mult': 1.1, 'hosp_frac': 0.7, 'school_contact_increase': 1.2, 'fit_batch': '1'}: Running forward sim\n"
     ]
    },
    {
     "name": "stderr",
     "output_type": "stream",
     "text": [
      "2022/07/19 16:39:06 INFO|--------|{'beta_mult': 1.0, 'hosp_frac': 0.9, 'school_contact_increase': 1.1, 'fit_batch': '1'}: Transmission control fit 2/3 completed in 13.560958916999994 seconds: {795: {'co': 0.8017296950466122}, 809: {'co': 0.8209654561199187}, 823: {'co': 0.8219589991065116}, 837: {'co': 0.8297913198659961}, 851: {'co': 0.8215177744214113}, 865: {'co': 0.8531226711758313}}\n",
      "2022/07/19 16:39:06 INFO|---------|{'beta_mult': 1.0, 'hosp_frac': 0.9, 'school_contact_increase': 1.1, 'fit_batch': '1'}: Running forward sim\n",
      "2022/07/19 16:39:06 INFO|--------|{'beta_mult': 1.1, 'hosp_frac': 0.9, 'school_contact_increase': 1.1, 'fit_batch': '1'}: Transmission control fit 2/3 completed in 13.354357417000017 seconds: {795: {'co': 0.8017165910167425}, 809: {'co': 0.8210041360363891}, 823: {'co': 0.8235314258119252}, 837: {'co': 0.8354010157480687}, 851: {'co': 0.8356450108118318}, 865: {'co': 0.8701020298706122}}\n",
      "2022/07/19 16:39:06 INFO|---------|{'beta_mult': 1.1, 'hosp_frac': 0.9, 'school_contact_increase': 1.1, 'fit_batch': '1'}: Running forward sim\n",
      "2022/07/19 16:39:11 INFO|--------|{'beta_mult': 1.0, 'hosp_frac': 0.9, 'school_contact_increase': 1.2, 'fit_batch': '1'}: Transmission control fit 2/3 completed in 13.19535429199999 seconds: {795: {'co': 0.8017296950466122}, 809: {'co': 0.8209654561199187}, 823: {'co': 0.8219589991065116}, 837: {'co': 0.8297913198659961}, 851: {'co': 0.8215177744214113}, 865: {'co': 0.8531226711758313}}\n",
      "2022/07/19 16:39:11 INFO|---------|{'beta_mult': 1.0, 'hosp_frac': 0.9, 'school_contact_increase': 1.2, 'fit_batch': '1'}: Running forward sim\n",
      "2022/07/19 16:39:14 INFO|--------|{'beta_mult': 1.1, 'hosp_frac': 0.9, 'school_contact_increase': 1.2, 'fit_batch': '1'}: Transmission control fit 2/3 completed in 13.429847333000026 seconds: {795: {'co': 0.8017165910167425}, 809: {'co': 0.8210041360363891}, 823: {'co': 0.8235314258119252}, 837: {'co': 0.8354010157480687}, 851: {'co': 0.8356450108118318}, 865: {'co': 0.8701020298706122}}\n",
      "2022/07/19 16:39:14 INFO|---------|{'beta_mult': 1.1, 'hosp_frac': 0.9, 'school_contact_increase': 1.2, 'fit_batch': '1'}: Running forward sim\n",
      "2022/07/19 16:39:14 INFO|--------|{'beta_mult': 1.0, 'hosp_frac': 0.7, 'school_contact_increase': 1.2, 'fit_batch': '2'}: Transmission control fit 3/3 completed in 13.688590916999999 seconds: {809: {'co': 0.8154880869318091}, 823: {'co': 0.8142012070146888}, 837: {'co': 0.8210297687661019}, 851: {'co': 0.8076649135284046}, 865: {'co': 0.8424631405967001}, 879: {'co': 0.8268789556472205}}\n",
      "2022/07/19 16:39:14 INFO|---------|{'beta_mult': 1.0, 'hosp_frac': 0.7, 'school_contact_increase': 1.2, 'fit_batch': '2'}: Running forward sim\n",
      "2022/07/19 16:39:15 INFO|--------|{'beta_mult': 1.0, 'hosp_frac': 0.7, 'school_contact_increase': 1.2, 'fit_batch': '2', 'run_type': 'fit'}: fitted TC: {0: {'co': 0.8773342495490936}, 14: {'co': 0.6853524265751645}, 28: {'co': 0.5313747878505213}, 42: {'co': 9.166775206693499e-14}, 56: {'co': 0.7004806299042426}, 70: {'co': 0.8356320023671157}, 84: {'co': 0.8298063033343771}, 98: {'co': 0.8311909839169287}, 112: {'co': 0.8778137464237421}, 126: {'co': 0.8241103755501108}, 140: {'co': 0.7606632825445033}, 154: {'co': 0.6711880168053298}, 168: {'co': 0.8430307682247831}, 182: {'co': 0.7826561801378445}, 196: {'co': 0.8191830543380944}, 210: {'co': 0.7726034259026388}, 224: {'co': 0.7713676622018327}, 238: {'co': 0.7185596188624429}, 252: {'co': 0.7222209085605668}, 266: {'co': 0.6848822730370463}, 280: {'co': 0.7199443312231306}, 294: {'co': 0.7575590209953923}, 308: {'co': 0.8226615649781124}, 322: {'co': 0.8113711381077103}, 336: {'co': 0.7825940193755743}, 350: {'co': 0.795247223519153}, 364: {'co': 0.8041919201006386}, 378: {'co': 0.7483502889044356}, 392: {'co': 0.7791433566363017}, 406: {'co': 0.7148558342701395}, 420: {'co': 0.7205012048174684}, 434: {'co': 0.6919691186058033}, 448: {'co': 0.746285204150101}, 462: {'co': 0.8190180132014313}, 476: {'co': 0.7998016297264219}, 490: {'co': 0.8380764483329581}, 504: {'co': 0.7970051383302796}, 518: {'co': 0.7916051680097907}, 532: {'co': 0.770261719662157}, 546: {'co': 0.7266696538917392}, 560: {'co': 0.7539924617449456}, 574: {'co': 0.7621935956668583}, 588: {'co': 0.800330940561301}, 602: {'co': 0.7783355132914611}, 616: {'co': 0.7356273101492494}, 630: {'co': 0.7519716130085768}, 644: {'co': 0.7342969080678843}, 658: {'co': 0.7609891159761599}, 672: {'co': 0.8278167880520491}, 686: {'co': 0.861623533731199}, 700: {'co': 0.7762133299890513}, 714: {'co': 0.8042093154856265}, 728: {'co': 0.8040475627243601}, 742: {'co': 0.797471282705075}, 767: {'co': 0.789791531743936}, 781: {'co': 0.8322049909124002}, 795: {'co': 0.7990762397059442}, 809: {'co': 0.8154880869318091}, 823: {'co': 0.8142012070146888}, 837: {'co': 0.8210297687661019}, 851: {'co': 0.8076649135284046}, 865: {'co': 0.8424631405967001}, 879: {'co': 0.8268789705483817}}\n",
      "2022/07/19 16:39:15 INFO|---------|{'beta_mult': 1.0, 'hosp_frac': 0.7, 'school_contact_increase': 1.2, 'fit_batch': '2', 'run_type': 'fit'}: Running forward sim\n",
      "2022/07/19 16:39:18 INFO|--------|{'beta_mult': 1.1, 'hosp_frac': 0.7, 'school_contact_increase': 1.2, 'fit_batch': '2'}: Transmission control fit 3/3 completed in 15.365681625000008 seconds: {809: {'co': 0.8154544536081756}, 823: {'co': 0.8155427260638657}, 837: {'co': 0.8264869680318332}, 851: {'co': 0.8228684134323935}, 865: {'co': 0.861119113257259}, 879: {'co': 0.848854114169001}}\n",
      "2022/07/19 16:39:18 INFO|---------|{'beta_mult': 1.1, 'hosp_frac': 0.7, 'school_contact_increase': 1.2, 'fit_batch': '2'}: Running forward sim\n",
      "2022/07/19 16:39:19 INFO|--------|{'beta_mult': 1.1, 'hosp_frac': 0.7, 'school_contact_increase': 1.2, 'fit_batch': '2', 'run_type': 'fit'}: fitted TC: {0: {'co': 0.8773342495490936}, 14: {'co': 0.6853524265751645}, 28: {'co': 0.5313747878505213}, 42: {'co': 9.166775206693499e-14}, 56: {'co': 0.7004806299042426}, 70: {'co': 0.8356320023671157}, 84: {'co': 0.8298063033343771}, 98: {'co': 0.8311909839169287}, 112: {'co': 0.8778137464237421}, 126: {'co': 0.8241103755501108}, 140: {'co': 0.7606632825445033}, 154: {'co': 0.6711880168053298}, 168: {'co': 0.8430307682247831}, 182: {'co': 0.7826561801378445}, 196: {'co': 0.8191830543380944}, 210: {'co': 0.7726034259026388}, 224: {'co': 0.7713676622018327}, 238: {'co': 0.7185596188624429}, 252: {'co': 0.7222209085605668}, 266: {'co': 0.6848822730370463}, 280: {'co': 0.7199443312231306}, 294: {'co': 0.7575590209953923}, 308: {'co': 0.8226615649781124}, 322: {'co': 0.8113711381077103}, 336: {'co': 0.7825940193755743}, 350: {'co': 0.795247223519153}, 364: {'co': 0.8041919201006386}, 378: {'co': 0.7483502889044356}, 392: {'co': 0.7791433566363017}, 406: {'co': 0.7148558342701395}, 420: {'co': 0.7205012048174684}, 434: {'co': 0.6919691186058033}, 448: {'co': 0.746285204150101}, 462: {'co': 0.8190180132014313}, 476: {'co': 0.7998016297264219}, 490: {'co': 0.8380764483329581}, 504: {'co': 0.7970051383302796}, 518: {'co': 0.7916051680097907}, 532: {'co': 0.770261719662157}, 546: {'co': 0.7266696538917392}, 560: {'co': 0.7539924617449456}, 574: {'co': 0.7621935956668583}, 588: {'co': 0.800330940561301}, 602: {'co': 0.7783355132914611}, 616: {'co': 0.7356273101492494}, 630: {'co': 0.7519716130085768}, 644: {'co': 0.7342969080678843}, 658: {'co': 0.7609891159761599}, 672: {'co': 0.8278167880520491}, 686: {'co': 0.861623533731199}, 700: {'co': 0.7762133299890513}, 714: {'co': 0.8042093154856265}, 728: {'co': 0.8040475627243601}, 742: {'co': 0.797471282705075}, 767: {'co': 0.7897954843119923}, 781: {'co': 0.8322022199388147}, 795: {'co': 0.7990668771931363}, 809: {'co': 0.8154544536081756}, 823: {'co': 0.8155427260638657}, 837: {'co': 0.8264869680318332}, 851: {'co': 0.8228684134323935}, 865: {'co': 0.861119113257259}, 879: {'co': 0.8488541290701622}}\n",
      "2022/07/19 16:39:19 INFO|---------|{'beta_mult': 1.1, 'hosp_frac': 0.7, 'school_contact_increase': 1.2, 'fit_batch': '2', 'run_type': 'fit'}: Running forward sim\n",
      "2022/07/19 16:39:23 INFO|--------|{'beta_mult': 1.0, 'hosp_frac': 0.9, 'school_contact_increase': 1.1, 'fit_batch': '2'}: Transmission control fit 3/3 completed in 15.463475083999981 seconds: {809: {'co': 0.8208776989356675}, 823: {'co': 0.8217946163134058}, 837: {'co': 0.8302541205643568}, 851: {'co': 0.8207291261759538}, 865: {'co': 0.8555078940858347}, 879: {'co': 0.8466722434010554}}\n",
      "2022/07/19 16:39:23 INFO|---------|{'beta_mult': 1.0, 'hosp_frac': 0.9, 'school_contact_increase': 1.1, 'fit_batch': '2'}: Running forward sim\n",
      "2022/07/19 16:39:24 INFO|--------|{'beta_mult': 1.0, 'hosp_frac': 0.9, 'school_contact_increase': 1.1, 'fit_batch': '2', 'run_type': 'fit'}: fitted TC: {0: {'co': 0.8773342495490936}, 14: {'co': 0.6853524265751645}, 28: {'co': 0.5313747878505213}, 42: {'co': 9.166775206693499e-14}, 56: {'co': 0.7004806299042426}, 70: {'co': 0.8356320023671157}, 84: {'co': 0.8298063033343771}, 98: {'co': 0.8311909839169287}, 112: {'co': 0.8778137464237421}, 126: {'co': 0.8241103755501108}, 140: {'co': 0.7606632825445033}, 154: {'co': 0.6711880168053298}, 168: {'co': 0.8430307682247831}, 182: {'co': 0.7826561801378445}, 196: {'co': 0.8191830543380944}, 210: {'co': 0.7726034259026388}, 224: {'co': 0.7713676622018327}, 238: {'co': 0.7185596188624429}, 252: {'co': 0.7222209085605668}, 266: {'co': 0.6848822730370463}, 280: {'co': 0.7199443312231306}, 294: {'co': 0.7575590209953923}, 308: {'co': 0.8226615649781124}, 322: {'co': 0.8113711381077103}, 336: {'co': 0.7825940193755743}, 350: {'co': 0.795247223519153}, 364: {'co': 0.8041919201006386}, 378: {'co': 0.7483502889044356}, 392: {'co': 0.7791433566363017}, 406: {'co': 0.7148558342701395}, 420: {'co': 0.7205012048174684}, 434: {'co': 0.6919691186058033}, 448: {'co': 0.746285204150101}, 462: {'co': 0.8190180132014313}, 476: {'co': 0.7998016297264219}, 490: {'co': 0.8380764483329581}, 504: {'co': 0.7970051383302796}, 518: {'co': 0.7916051680097907}, 532: {'co': 0.770261719662157}, 546: {'co': 0.7266696538917392}, 560: {'co': 0.7539924617449456}, 574: {'co': 0.7621935956668583}, 588: {'co': 0.800330940561301}, 602: {'co': 0.7783355132914611}, 616: {'co': 0.7356273101492494}, 630: {'co': 0.7519716130085768}, 644: {'co': 0.7342969080678843}, 658: {'co': 0.7609891159761599}, 672: {'co': 0.8278167880520491}, 686: {'co': 0.861623533731199}, 700: {'co': 0.7762133299890513}, 714: {'co': 0.8042093154856265}, 728: {'co': 0.8040475627243601}, 742: {'co': 0.797471282705075}, 767: {'co': 0.8059211813259108}, 781: {'co': 0.8401789041759451}, 795: {'co': 0.8017296950466122}, 809: {'co': 0.8208776989356675}, 823: {'co': 0.8217946163134058}, 837: {'co': 0.8302541205643568}, 851: {'co': 0.8207291261759538}, 865: {'co': 0.8555078940858347}, 879: {'co': 0.8466722583022166}}\n",
      "2022/07/19 16:39:24 INFO|---------|{'beta_mult': 1.0, 'hosp_frac': 0.9, 'school_contact_increase': 1.1, 'fit_batch': '2', 'run_type': 'fit'}: Running forward sim\n",
      "2022/07/19 16:39:25 INFO|--------|{'beta_mult': 1.1, 'hosp_frac': 0.9, 'school_contact_increase': 1.1, 'fit_batch': '2'}: Transmission control fit 3/3 completed in 17.209072915999997 seconds: {809: {'co': 0.8208990497232758}, 823: {'co': 0.8232730462916015}, 837: {'co': 0.8358509340099137}, 851: {'co': 0.83468878406634}, 865: {'co': 0.8716821673613078}, 879: {'co': 0.8655109270651278}}\n",
      "2022/07/19 16:39:25 INFO|---------|{'beta_mult': 1.1, 'hosp_frac': 0.9, 'school_contact_increase': 1.1, 'fit_batch': '2'}: Running forward sim\n"
     ]
    },
    {
     "name": "stderr",
     "output_type": "stream",
     "text": [
      "2022/07/19 16:39:26 INFO|--------|{'beta_mult': 1.1, 'hosp_frac': 0.9, 'school_contact_increase': 1.1, 'fit_batch': '2', 'run_type': 'fit'}: fitted TC: {0: {'co': 0.8773342495490936}, 14: {'co': 0.6853524265751645}, 28: {'co': 0.5313747878505213}, 42: {'co': 9.166775206693499e-14}, 56: {'co': 0.7004806299042426}, 70: {'co': 0.8356320023671157}, 84: {'co': 0.8298063033343771}, 98: {'co': 0.8311909839169287}, 112: {'co': 0.8778137464237421}, 126: {'co': 0.8241103755501108}, 140: {'co': 0.7606632825445033}, 154: {'co': 0.6711880168053298}, 168: {'co': 0.8430307682247831}, 182: {'co': 0.7826561801378445}, 196: {'co': 0.8191830543380944}, 210: {'co': 0.7726034259026388}, 224: {'co': 0.7713676622018327}, 238: {'co': 0.7185596188624429}, 252: {'co': 0.7222209085605668}, 266: {'co': 0.6848822730370463}, 280: {'co': 0.7199443312231306}, 294: {'co': 0.7575590209953923}, 308: {'co': 0.8226615649781124}, 322: {'co': 0.8113711381077103}, 336: {'co': 0.7825940193755743}, 350: {'co': 0.795247223519153}, 364: {'co': 0.8041919201006386}, 378: {'co': 0.7483502889044356}, 392: {'co': 0.7791433566363017}, 406: {'co': 0.7148558342701395}, 420: {'co': 0.7205012048174684}, 434: {'co': 0.6919691186058033}, 448: {'co': 0.746285204150101}, 462: {'co': 0.8190180132014313}, 476: {'co': 0.7998016297264219}, 490: {'co': 0.8380764483329581}, 504: {'co': 0.7970051383302796}, 518: {'co': 0.7916051680097907}, 532: {'co': 0.770261719662157}, 546: {'co': 0.7266696538917392}, 560: {'co': 0.7539924617449456}, 574: {'co': 0.7621935956668583}, 588: {'co': 0.800330940561301}, 602: {'co': 0.7783355132914611}, 616: {'co': 0.7356273101492494}, 630: {'co': 0.7519716130085768}, 644: {'co': 0.7342969080678843}, 658: {'co': 0.7609891159761599}, 672: {'co': 0.8278167880520491}, 686: {'co': 0.861623533731199}, 700: {'co': 0.7762133299890513}, 714: {'co': 0.8042093154856265}, 728: {'co': 0.8040475627243601}, 742: {'co': 0.797471282705075}, 767: {'co': 0.8059229960223214}, 781: {'co': 0.8401804767672636}, 795: {'co': 0.8017165910167425}, 809: {'co': 0.8208990497232758}, 823: {'co': 0.8232730462916015}, 837: {'co': 0.8358509340099137}, 851: {'co': 0.83468878406634}, 865: {'co': 0.8716821673613078}, 879: {'co': 0.865510941966289}}\n",
      "2022/07/19 16:39:26 INFO|---------|{'beta_mult': 1.1, 'hosp_frac': 0.9, 'school_contact_increase': 1.1, 'fit_batch': '2', 'run_type': 'fit'}: Running forward sim\n",
      "2022/07/19 16:39:27 INFO|--------|{'beta_mult': 1.0, 'hosp_frac': 0.9, 'school_contact_increase': 1.2, 'fit_batch': '2'}: Transmission control fit 3/3 completed in 14.970887792000013 seconds: {809: {'co': 0.8208776989356675}, 823: {'co': 0.8217946163134058}, 837: {'co': 0.8302541205643568}, 851: {'co': 0.8207291261759538}, 865: {'co': 0.8555078940858347}, 879: {'co': 0.8466722434010554}}\n",
      "2022/07/19 16:39:27 INFO|---------|{'beta_mult': 1.0, 'hosp_frac': 0.9, 'school_contact_increase': 1.2, 'fit_batch': '2'}: Running forward sim\n",
      "2022/07/19 16:39:28 INFO|--------|{'beta_mult': 1.0, 'hosp_frac': 0.9, 'school_contact_increase': 1.2, 'fit_batch': '2', 'run_type': 'fit'}: fitted TC: {0: {'co': 0.8773342495490936}, 14: {'co': 0.6853524265751645}, 28: {'co': 0.5313747878505213}, 42: {'co': 9.166775206693499e-14}, 56: {'co': 0.7004806299042426}, 70: {'co': 0.8356320023671157}, 84: {'co': 0.8298063033343771}, 98: {'co': 0.8311909839169287}, 112: {'co': 0.8778137464237421}, 126: {'co': 0.8241103755501108}, 140: {'co': 0.7606632825445033}, 154: {'co': 0.6711880168053298}, 168: {'co': 0.8430307682247831}, 182: {'co': 0.7826561801378445}, 196: {'co': 0.8191830543380944}, 210: {'co': 0.7726034259026388}, 224: {'co': 0.7713676622018327}, 238: {'co': 0.7185596188624429}, 252: {'co': 0.7222209085605668}, 266: {'co': 0.6848822730370463}, 280: {'co': 0.7199443312231306}, 294: {'co': 0.7575590209953923}, 308: {'co': 0.8226615649781124}, 322: {'co': 0.8113711381077103}, 336: {'co': 0.7825940193755743}, 350: {'co': 0.795247223519153}, 364: {'co': 0.8041919201006386}, 378: {'co': 0.7483502889044356}, 392: {'co': 0.7791433566363017}, 406: {'co': 0.7148558342701395}, 420: {'co': 0.7205012048174684}, 434: {'co': 0.6919691186058033}, 448: {'co': 0.746285204150101}, 462: {'co': 0.8190180132014313}, 476: {'co': 0.7998016297264219}, 490: {'co': 0.8380764483329581}, 504: {'co': 0.7970051383302796}, 518: {'co': 0.7916051680097907}, 532: {'co': 0.770261719662157}, 546: {'co': 0.7266696538917392}, 560: {'co': 0.7539924617449456}, 574: {'co': 0.7621935956668583}, 588: {'co': 0.800330940561301}, 602: {'co': 0.7783355132914611}, 616: {'co': 0.7356273101492494}, 630: {'co': 0.7519716130085768}, 644: {'co': 0.7342969080678843}, 658: {'co': 0.7609891159761599}, 672: {'co': 0.8278167880520491}, 686: {'co': 0.861623533731199}, 700: {'co': 0.7762133299890513}, 714: {'co': 0.8042093154856265}, 728: {'co': 0.8040475627243601}, 742: {'co': 0.797471282705075}, 767: {'co': 0.8059211813259108}, 781: {'co': 0.8401789041759451}, 795: {'co': 0.8017296950466122}, 809: {'co': 0.8208776989356675}, 823: {'co': 0.8217946163134058}, 837: {'co': 0.8302541205643568}, 851: {'co': 0.8207291261759538}, 865: {'co': 0.8555078940858347}, 879: {'co': 0.8466722583022166}}\n",
      "2022/07/19 16:39:28 INFO|---------|{'beta_mult': 1.0, 'hosp_frac': 0.9, 'school_contact_increase': 1.2, 'fit_batch': '2', 'run_type': 'fit'}: Running forward sim\n",
      "2022/07/19 16:39:32 INFO|--------|{'beta_mult': 1.1, 'hosp_frac': 0.9, 'school_contact_increase': 1.2, 'fit_batch': '2'}: Transmission control fit 3/3 completed in 16.80109437500002 seconds: {809: {'co': 0.8208990497232758}, 823: {'co': 0.8232730462916015}, 837: {'co': 0.8358509340099137}, 851: {'co': 0.83468878406634}, 865: {'co': 0.8716821673613078}, 879: {'co': 0.8655109270651278}}\n",
      "2022/07/19 16:39:32 INFO|---------|{'beta_mult': 1.1, 'hosp_frac': 0.9, 'school_contact_increase': 1.2, 'fit_batch': '2'}: Running forward sim\n",
      "2022/07/19 16:39:33 INFO|--------|{'beta_mult': 1.1, 'hosp_frac': 0.9, 'school_contact_increase': 1.2, 'fit_batch': '2', 'run_type': 'fit'}: fitted TC: {0: {'co': 0.8773342495490936}, 14: {'co': 0.6853524265751645}, 28: {'co': 0.5313747878505213}, 42: {'co': 9.166775206693499e-14}, 56: {'co': 0.7004806299042426}, 70: {'co': 0.8356320023671157}, 84: {'co': 0.8298063033343771}, 98: {'co': 0.8311909839169287}, 112: {'co': 0.8778137464237421}, 126: {'co': 0.8241103755501108}, 140: {'co': 0.7606632825445033}, 154: {'co': 0.6711880168053298}, 168: {'co': 0.8430307682247831}, 182: {'co': 0.7826561801378445}, 196: {'co': 0.8191830543380944}, 210: {'co': 0.7726034259026388}, 224: {'co': 0.7713676622018327}, 238: {'co': 0.7185596188624429}, 252: {'co': 0.7222209085605668}, 266: {'co': 0.6848822730370463}, 280: {'co': 0.7199443312231306}, 294: {'co': 0.7575590209953923}, 308: {'co': 0.8226615649781124}, 322: {'co': 0.8113711381077103}, 336: {'co': 0.7825940193755743}, 350: {'co': 0.795247223519153}, 364: {'co': 0.8041919201006386}, 378: {'co': 0.7483502889044356}, 392: {'co': 0.7791433566363017}, 406: {'co': 0.7148558342701395}, 420: {'co': 0.7205012048174684}, 434: {'co': 0.6919691186058033}, 448: {'co': 0.746285204150101}, 462: {'co': 0.8190180132014313}, 476: {'co': 0.7998016297264219}, 490: {'co': 0.8380764483329581}, 504: {'co': 0.7970051383302796}, 518: {'co': 0.7916051680097907}, 532: {'co': 0.770261719662157}, 546: {'co': 0.7266696538917392}, 560: {'co': 0.7539924617449456}, 574: {'co': 0.7621935956668583}, 588: {'co': 0.800330940561301}, 602: {'co': 0.7783355132914611}, 616: {'co': 0.7356273101492494}, 630: {'co': 0.7519716130085768}, 644: {'co': 0.7342969080678843}, 658: {'co': 0.7609891159761599}, 672: {'co': 0.8278167880520491}, 686: {'co': 0.861623533731199}, 700: {'co': 0.7762133299890513}, 714: {'co': 0.8042093154856265}, 728: {'co': 0.8040475627243601}, 742: {'co': 0.797471282705075}, 767: {'co': 0.8059229960223214}, 781: {'co': 0.8401804767672636}, 795: {'co': 0.8017165910167425}, 809: {'co': 0.8208990497232758}, 823: {'co': 0.8232730462916015}, 837: {'co': 0.8358509340099137}, 851: {'co': 0.83468878406634}, 865: {'co': 0.8716821673613078}, 879: {'co': 0.865510941966289}}\n",
      "2022/07/19 16:39:33 INFO|---------|{'beta_mult': 1.1, 'hosp_frac': 0.9, 'school_contact_increase': 1.2, 'fit_batch': '2', 'run_type': 'fit'}: Running forward sim\n"
     ]
    },
    {
     "name": "stderr",
     "output_type": "stream",
     "text": [
      "2022/07/19 16:40:38 INFO|-----------------------|spec_ids: 3458,3459,3460,3461,3462,3463,3464,3465,3466,3467,3468,3469\n"
     ]
    }
   ],
   "source": [
    "# run the scenarios\n",
    "models = do_fit_scenarios(base_model_args=model_args, scenario_args_list=scenario_model_args, fit_args=model_fit_args, multiprocess=multiprocess)"
   ]
  },
  {
   "cell_type": "markdown",
   "metadata": {
    "pycharm": {
     "name": "#%% md\n"
    }
   },
   "source": [
    "### Run the report for each fit model"
   ]
  },
  {
   "cell_type": "code",
   "execution_count": 12,
   "metadata": {
    "pycharm": {
     "name": "#%%\n"
    }
   },
   "outputs": [
    {
     "name": "stderr",
     "output_type": "stream",
     "text": [
      "2022/07/19 16:40:53 INFO|============================================================\n",
      "2022/07/19 16:40:53 INFO|--------|Solving model\n",
      "2022/07/19 16:40:54 INFO|============================================================\n",
      "2022/07/19 16:40:54 INFO|--------|Solving model\n",
      "2022/07/19 16:40:54 INFO|============================================================\n",
      "2022/07/19 16:40:54 INFO|--------|Solving model\n",
      "2022/07/19 16:40:55 INFO|============================================================\n",
      "2022/07/19 16:40:55 INFO|--------|Solving model\n",
      "2022/07/19 16:40:56 INFO|============================================================\n",
      "2022/07/19 16:40:56 INFO|--------|Solving model\n",
      "2022/07/19 16:40:56 WARNING|No artists with labels found to put in legend.  Note that artists whose label start with an underscore are ignored when legend() is called with no argument.\n",
      "2022/07/19 16:40:57 WARNING|No artists with labels found to put in legend.  Note that artists whose label start with an underscore are ignored when legend() is called with no argument.\n",
      "2022/07/19 16:40:57 INFO|============================================================\n",
      "2022/07/19 16:40:57 INFO|--------|Solving model\n",
      "2022/07/19 16:40:57 WARNING|No artists with labels found to put in legend.  Note that artists whose label start with an underscore are ignored when legend() is called with no argument.\n",
      "2022/07/19 16:40:58 WARNING|No artists with labels found to put in legend.  Note that artists whose label start with an underscore are ignored when legend() is called with no argument.\n",
      "2022/07/19 16:40:59 WARNING|No artists with labels found to put in legend.  Note that artists whose label start with an underscore are ignored when legend() is called with no argument.\n",
      "2022/07/19 16:40:59 WARNING|No artists with labels found to put in legend.  Note that artists whose label start with an underscore are ignored when legend() is called with no argument.\n",
      "2022/07/19 16:42:20 INFO|============================================================\n",
      "2022/07/19 16:42:20 INFO|--------|Solving model\n",
      "2022/07/19 16:42:22 INFO|============================================================\n",
      "2022/07/19 16:42:22 INFO|--------|Solving model\n",
      "2022/07/19 16:42:23 WARNING|No artists with labels found to put in legend.  Note that artists whose label start with an underscore are ignored when legend() is called with no argument.\n",
      "2022/07/19 16:42:23 INFO|============================================================\n",
      "2022/07/19 16:42:23 INFO|--------|Solving model\n",
      "2022/07/19 16:42:24 INFO|============================================================\n",
      "2022/07/19 16:42:24 INFO|--------|Solving model\n",
      "2022/07/19 16:42:25 WARNING|No artists with labels found to put in legend.  Note that artists whose label start with an underscore are ignored when legend() is called with no argument.\n",
      "2022/07/19 16:42:25 INFO|============================================================\n",
      "2022/07/19 16:42:25 INFO|--------|Solving model\n",
      "2022/07/19 16:42:25 WARNING|No artists with labels found to put in legend.  Note that artists whose label start with an underscore are ignored when legend() is called with no argument.\n",
      "2022/07/19 16:42:26 INFO|============================================================\n",
      "2022/07/19 16:42:26 INFO|--------|Solving model\n",
      "2022/07/19 16:42:26 WARNING|No artists with labels found to put in legend.  Note that artists whose label start with an underscore are ignored when legend() is called with no argument.\n",
      "2022/07/19 16:42:27 WARNING|No artists with labels found to put in legend.  Note that artists whose label start with an underscore are ignored when legend() is called with no argument.\n",
      "2022/07/19 16:42:28 WARNING|No artists with labels found to put in legend.  Note that artists whose label start with an underscore are ignored when legend() is called with no argument.\n"
     ]
    }
   ],
   "source": [
    "do_create_multiple_reports(models, multiprocess=multiprocess, outdir=outdir, prep_model=False, solve_model=True, immun_variants=['ba2121', 'ba45'], from_date='2022-01-01')"
   ]
  },
  {
   "cell_type": "code",
   "execution_count": 13,
   "metadata": {
    "pycharm": {
     "name": "#%%\n"
    }
   },
   "outputs": [
    {
     "name": "stderr",
     "output_type": "stream",
     "text": [
      "2022/07/19 16:46:32 INFO|Projecting\n",
      "2022/07/19 16:46:32 INFO|\n",
      "2022/07/19 16:46:41 INFO|{'beta_mult': 1.0, 'hosp_frac': 0.5, 'school_contact_increase': 1.1, 'fit_batch': '2', 'run_type': 'fit'}: Running forward sim\n",
      "2022/07/19 16:46:42 INFO|\n",
      "2022/07/19 16:46:56 INFO|{'beta_mult': 1.1, 'hosp_frac': 0.5, 'school_contact_increase': 1.1, 'fit_batch': '2', 'run_type': 'fit'}: Running forward sim\n",
      "2022/07/19 16:46:57 INFO|\n",
      "2022/07/19 16:47:06 INFO|{'beta_mult': 1.0, 'hosp_frac': 0.5, 'school_contact_increase': 1.2, 'fit_batch': '2', 'run_type': 'fit'}: Running forward sim\n",
      "2022/07/19 16:47:07 INFO|\n",
      "2022/07/19 16:47:21 INFO|{'beta_mult': 1.1, 'hosp_frac': 0.5, 'school_contact_increase': 1.2, 'fit_batch': '2', 'run_type': 'fit'}: Running forward sim\n",
      "2022/07/19 16:47:22 INFO|\n",
      "2022/07/19 16:47:31 INFO|{'beta_mult': 1.0, 'hosp_frac': 0.7, 'school_contact_increase': 1.1, 'fit_batch': '2', 'run_type': 'fit'}: Running forward sim\n",
      "2022/07/19 16:47:32 INFO|\n",
      "2022/07/19 16:47:45 INFO|{'beta_mult': 1.1, 'hosp_frac': 0.7, 'school_contact_increase': 1.1, 'fit_batch': '2', 'run_type': 'fit'}: Running forward sim\n",
      "2022/07/19 16:47:47 INFO|\n",
      "2022/07/19 16:47:56 INFO|{'beta_mult': 1.0, 'hosp_frac': 0.7, 'school_contact_increase': 1.2, 'fit_batch': '2', 'run_type': 'fit'}: Running forward sim\n",
      "2022/07/19 16:47:57 INFO|\n",
      "2022/07/19 16:48:12 INFO|{'beta_mult': 1.1, 'hosp_frac': 0.7, 'school_contact_increase': 1.2, 'fit_batch': '2', 'run_type': 'fit'}: Running forward sim\n",
      "2022/07/19 16:48:13 INFO|\n",
      "2022/07/19 16:48:23 INFO|{'beta_mult': 1.0, 'hosp_frac': 0.9, 'school_contact_increase': 1.1, 'fit_batch': '2', 'run_type': 'fit'}: Running forward sim\n",
      "2022/07/19 16:48:24 INFO|\n",
      "2022/07/19 16:48:42 INFO|{'beta_mult': 1.1, 'hosp_frac': 0.9, 'school_contact_increase': 1.1, 'fit_batch': '2', 'run_type': 'fit'}: Running forward sim\n",
      "2022/07/19 16:48:43 INFO|\n",
      "2022/07/19 16:48:53 INFO|{'beta_mult': 1.0, 'hosp_frac': 0.9, 'school_contact_increase': 1.2, 'fit_batch': '2', 'run_type': 'fit'}: Running forward sim\n",
      "2022/07/19 16:48:54 INFO|\n",
      "2022/07/19 16:49:08 INFO|{'beta_mult': 1.1, 'hosp_frac': 0.9, 'school_contact_increase': 1.2, 'fit_batch': '2', 'run_type': 'fit'}: Running forward sim\n",
      "2022/07/19 16:49:10 INFO|Running reports\n"
     ]
    }
   ],
   "source": [
    "logging.info('Projecting')\n",
    "for model in models:\n",
    "    logging.info('')\n",
    "    #model.prep()  # don't think we need to prep anymore.\n",
    "    model.solve_seir()\n",
    "\n",
    "    model.solution_sum_df(['seir', 'variant', 'immun']).unstack().to_csv(get_filepath_prefix(outdir, tags=model.tags) + 'states_seir_variant_immun_total_all_at_once_projection.csv')\n",
    "    model.solution_sum_df().unstack().to_csv(get_filepath_prefix(outdir, tags=model.tags) + 'states_full_projection.csv')\n",
    "\n",
    "    logging.info(f'{str(model.tags)}: Running forward sim')\n",
    "    fig = plt.figure(figsize=(10, 10), dpi=300)\n",
    "    ax = fig.add_subplot(211)\n",
    "    hosps_df = model.modeled_vs_observed_hosps().reset_index('region').drop(columns='region')\n",
    "    hosps_df.plot(ax=ax)\n",
    "    ax.set_xlim(dt.datetime.strptime('2022-01-01', \"%Y-%m-%d\").date(), dt.datetime.strptime('2022-09-15', \"%Y-%m-%d\").date())\n",
    "    ax = fig.add_subplot(212)\n",
    "    plot_transmission_control(model, ax=ax)\n",
    "    ax.set_xlim(dt.datetime.strptime('2022-01-01', \"%Y-%m-%d\").date(), dt.datetime.strptime('2022-09-15', \"%Y-%m-%d\").date())\n",
    "    plt.savefig(get_filepath_prefix(outdir, tags=model.tags) + 'model_forecast.png')\n",
    "    plt.close()\n",
    "    hosps_df.to_csv(get_filepath_prefix(outdir, tags=model.tags) + '_model_forecast.csv')\n",
    "    json.dump(model.tc, open(get_filepath_prefix(outdir, tags=model.tags) + 'model_forecast_tc.json', 'w'))\n",
    "\n",
    "logging.info('Running reports')"
   ]
  }
 ],
 "metadata": {
  "kernelspec": {
   "display_name": "Python 3 (ipykernel)",
   "language": "python",
   "name": "python3"
  },
  "language_info": {
   "codemirror_mode": {
    "name": "ipython",
    "version": 3
   },
   "file_extension": ".py",
   "mimetype": "text/x-python",
   "name": "python",
   "nbconvert_exporter": "python",
   "pygments_lexer": "ipython3",
   "version": "3.9.13"
  }
 },
 "nbformat": 4,
 "nbformat_minor": 4
}
