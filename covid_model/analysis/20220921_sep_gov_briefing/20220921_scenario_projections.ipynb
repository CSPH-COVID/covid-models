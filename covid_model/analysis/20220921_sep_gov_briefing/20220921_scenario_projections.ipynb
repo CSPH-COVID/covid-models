{
 "cells": [
  {
   "cell_type": "markdown",
   "metadata": {
    "pycharm": {
     "name": "#%% md\n"
    }
   },
   "source": [
    "### Setup"
   ]
  },
  {
   "cell_type": "code",
   "execution_count": 1,
   "metadata": {
    "pycharm": {
     "name": "#%%\n"
    }
   },
   "outputs": [
    {
     "name": "stdout",
     "output_type": "stream",
     "text": [
      "/Users/emwu9912/PycharmProjects/covid-models\n"
     ]
    }
   ],
   "source": [
    "# this first setup block will pretty much always stay the same\n",
    "\"\"\" Python Standard Library \"\"\"\n",
    "import os\n",
    "import datetime as dt\n",
    "import json\n",
    "import logging\n",
    "\"\"\" Third Party Imports \"\"\"\n",
    "import numpy as np\n",
    "from matplotlib import pyplot as plt\n",
    "%matplotlib inline\n",
    "\"\"\" Local Imports \"\"\"\n",
    "if 'requirements.txt' not in os.listdir(os.getcwd()):\n",
    "    os.chdir(os.path.join('..','..','..'))\n",
    "print(os.getcwd())\n",
    "from covid_model.model_simplified import CovidModelSimplified\n",
    "from covid_model.runnable_functions_simplified import do_single_fit, do_create_multiple_reports, do_fit_scenarios\n",
    "from covid_model.utils import setup, get_filepath_prefix\n",
    "from covid_model.analysis.charts import plot_transmission_control\n",
    "\n",
    "os.environ['gcp_project'] = 'co-covid-models'\n",
    "os.environ['GOOGLE_APPLICATION_CREDENTIALS'] = \"co-covid-models-credentials.json\""
   ]
  },
  {
   "cell_type": "code",
   "execution_count": 2,
   "metadata": {
    "pycharm": {
     "name": "#%%\n"
    },
    "scrolled": true
   },
   "outputs": [
    {
     "name": "stderr",
     "output_type": "stream",
     "text": [
      "2022/09/08 09:31:06 INFO|============================================================\n"
     ]
    }
   ],
   "source": [
    "# set up the output directory for this Jupyter notebook\n",
    "outdir = setup(\"20220921_scenario_projections.ipynb\")"
   ]
  },
  {
   "cell_type": "markdown",
   "metadata": {
    "pycharm": {
     "name": "#%% md\n"
    }
   },
   "source": [
    "### Fit an initial scenario through Feb 2022"
   ]
  },
  {
   "cell_type": "code",
   "execution_count": 3,
   "metadata": {
    "pycharm": {
     "name": "#%%\n"
    }
   },
   "outputs": [
    {
     "name": "stderr",
     "output_type": "stream",
     "text": [
      "2022/09/08 09:31:13 INFO|-------------------------|{} Retrieving vaccinations data\n",
      "2022/09/08 09:31:16 INFO|-------------------------|{} Constructing vaccination projections\n",
      "2022/09/08 09:31:16 INFO|-------------------------|{} Retrieving hospitalizations data\n",
      "2022/09/08 09:31:18 INFO|----------------------|{} Prepping Model\n",
      "2022/09/08 09:31:18 INFO|-----------------------|{} Prepping Model\n",
      "2022/09/08 09:32:05 INFO|----------------------|{} Model prepped for fitting in 46.89446304100001 seconds.\n",
      "2022/09/08 09:32:05 INFO|----------------------|{} Will fit 32 times\n",
      "2022/09/08 09:34:30 INFO|----------------------|{'fit_batch': '0'}: Transmission control fit 1/32 completed in 144.357509792 seconds: {0: {'co': 4.957102226535142e-13}, 14: {'co': 0.7944347061020562}, 28: {'co': 2.3151295745434847e-11}, 42: {'co': 1.5843057077562832e-40}, 56: {'co': 0.3777831510333621}, 70: {'co': 0.6685375220569979}}\n",
      "2022/09/08 09:34:30 INFO|-----------------------|{'fit_batch': '0'}: Running forward sim\n",
      "2022/09/08 09:34:48 INFO|----------------------|{'fit_batch': '1'}: Transmission control fit 2/32 completed in 16.665021666 seconds: {28: {'co': 2.870044354577133e-15}, 42: {'co': 7.244786709425173e-16}, 56: {'co': 0.4075247063859832}, 70: {'co': 0.6210149370796568}, 84: {'co': 0.6146445568035407}, 98: {'co': 0.6681307872378638}}\n",
      "2022/09/08 09:34:48 INFO|-----------------------|{'fit_batch': '1'}: Running forward sim\n",
      "2022/09/08 09:35:01 INFO|----------------------|{'fit_batch': '2'}: Transmission control fit 3/32 completed in 11.909980666000024 seconds: {56: {'co': 0.3953160767277711}, 70: {'co': 0.6171756365963581}, 84: {'co': 0.6193082458559258}, 98: {'co': 0.6386737648254743}, 112: {'co': 0.6535267454310778}, 126: {'co': 0.7203354522362257}}\n",
      "2022/09/08 09:35:01 INFO|-----------------------|{'fit_batch': '2'}: Running forward sim\n",
      "2022/09/08 09:35:14 INFO|----------------------|{'fit_batch': '3'}: Transmission control fit 4/32 completed in 11.702771291000005 seconds: {84: {'co': 0.6199262331073906}, 98: {'co': 0.6361846972927662}, 112: {'co': 0.6643017073844022}, 126: {'co': 0.6573591318984949}, 140: {'co': 0.5650465827112519}, 154: {'co': 0.44512250455530444}}\n",
      "2022/09/08 09:35:14 INFO|-----------------------|{'fit_batch': '3'}: Running forward sim\n",
      "2022/09/08 09:35:27 INFO|----------------------|{'fit_batch': '4'}: Transmission control fit 5/32 completed in 11.305005583000025 seconds: {112: {'co': 0.6647342735798646}, 126: {'co': 0.6555579058343433}, 140: {'co': 0.5698003792014109}, 154: {'co': 0.4346784709922112}, 168: {'co': 0.6042206729455889}, 182: {'co': 0.574305545388431}}\n",
      "2022/09/08 09:35:27 INFO|-----------------------|{'fit_batch': '4'}: Running forward sim\n",
      "2022/09/08 09:35:41 INFO|----------------------|{'fit_batch': '5'}: Transmission control fit 6/32 completed in 12.949051792000034 seconds: {140: {'co': 0.5700203495287496}, 154: {'co': 0.43393947914910086}, 168: {'co': 0.6056134864210928}, 182: {'co': 0.5649010577607002}, 196: {'co': 0.6195285863532797}, 210: {'co': 0.5405329842328553}}\n",
      "2022/09/08 09:35:41 INFO|-----------------------|{'fit_batch': '5'}: Running forward sim\n",
      "2022/09/08 09:35:57 INFO|----------------------|{'fit_batch': '6'}: Transmission control fit 7/32 completed in 13.94002070800002 seconds: {168: {'co': 0.6056263131136671}, 182: {'co': 0.5659481177209001}, 196: {'co': 0.6155180770046274}, 210: {'co': 0.5570326307717983}, 224: {'co': 0.554385421032361}, 238: {'co': 0.48768706583513854}}\n",
      "2022/09/08 09:35:57 INFO|-----------------------|{'fit_batch': '6'}: Running forward sim\n",
      "2022/09/08 09:36:11 INFO|----------------------|{'fit_batch': '7'}: Transmission control fit 8/32 completed in 13.362576500000046 seconds: {196: {'co': 0.6152758021190176}, 210: {'co': 0.5577155409888108}, 224: {'co': 0.552032315827218}, 238: {'co': 0.4903375402130355}, 252: {'co': 0.47441025975637985}, 266: {'co': 0.43637222188619945}}\n",
      "2022/09/08 09:36:11 INFO|-----------------------|{'fit_batch': '7'}: Running forward sim\n",
      "2022/09/08 09:36:27 INFO|----------------------|{'fit_batch': '8'}: Transmission control fit 9/32 completed in 14.030083958000034 seconds: {224: {'co': 0.5531437485389439}, 238: {'co': 0.48646620331408064}, 252: {'co': 0.48092379766454507}, 266: {'co': 0.4243809729733801}, 280: {'co': 0.45457862380794745}, 294: {'co': 0.48169168481504376}}\n",
      "2022/09/08 09:36:27 INFO|-----------------------|{'fit_batch': '8'}: Running forward sim\n",
      "2022/09/08 09:36:40 INFO|----------------------|{'fit_batch': '9'}: Transmission control fit 10/32 completed in 11.608002542000008 seconds: {252: {'co': 0.48106647859213564}, 266: {'co': 0.42467494500958874}, 280: {'co': 0.45408919531977676}, 294: {'co': 0.4827618878073753}, 308: {'co': 0.5608275594258934}, 322: {'co': 0.5448968414450754}}\n",
      "2022/09/08 09:36:40 INFO|-----------------------|{'fit_batch': '9'}: Running forward sim\n",
      "2022/09/08 09:36:56 INFO|----------------------|{'fit_batch': '10'}: Transmission control fit 11/32 completed in 14.98187529200004 seconds: {280: {'co': 0.4539292015096254}, 294: {'co': 0.4833123218681898}, 308: {'co': 0.5588849618548977}, 322: {'co': 0.554180365742789}, 336: {'co': 0.5259952083240709}, 350: {'co': 0.4867277919711555}}\n",
      "2022/09/08 09:36:56 INFO|-----------------------|{'fit_batch': '10'}: Running forward sim\n",
      "2022/09/08 09:37:13 INFO|----------------------|{'fit_batch': '11'}: Transmission control fit 12/32 completed in 15.529677666999987 seconds: {308: {'co': 0.5584398597170678}, 322: {'co': 0.5555848256258862}, 336: {'co': 0.5208921273801962}, 350: {'co': 0.5076816892714083}, 364: {'co': 0.5301209928733988}, 378: {'co': 0.43155233270629917}}\n",
      "2022/09/08 09:37:13 INFO|-----------------------|{'fit_batch': '11'}: Running forward sim\n",
      "2022/09/08 09:37:26 INFO|----------------------|{'fit_batch': '12'}: Transmission control fit 13/32 completed in 11.949409375000016 seconds: {336: {'co': 0.5212477654575158}, 350: {'co': 0.507257728846333}, 364: {'co': 0.5281795217475924}, 378: {'co': 0.44849947668408496}, 392: {'co': 0.5075820550264831}, 406: {'co': 0.33531340845696406}}\n",
      "2022/09/08 09:37:26 INFO|-----------------------|{'fit_batch': '12'}: Running forward sim\n",
      "2022/09/08 09:37:41 INFO|----------------------|{'fit_batch': '13'}: Transmission control fit 14/32 completed in 13.729483125000002 seconds: {364: {'co': 0.5275384812884799}, 378: {'co': 0.4529334200801665}, 392: {'co': 0.49247750248810773}, 406: {'co': 0.3940017554216314}, 420: {'co': 0.405096115899389}, 434: {'co': 0.2894382718320024}}\n",
      "2022/09/08 09:37:41 INFO|-----------------------|{'fit_batch': '13'}: Running forward sim\n",
      "2022/09/08 09:37:58 INFO|----------------------|{'fit_batch': '14'}: Transmission control fit 15/32 completed in 15.267648333000011 seconds: {392: {'co': 0.4916082326297925}, 406: {'co': 0.3971899432791663}, 420: {'co': 0.39576601384136306}, 434: {'co': 0.3199920358379085}, 448: {'co': 0.4365045131936344}, 462: {'co': 0.5702113787688763}}\n",
      "2022/09/08 09:37:58 INFO|-----------------------|{'fit_batch': '14'}: Running forward sim\n",
      "2022/09/08 09:38:12 INFO|----------------------|{'fit_batch': '15'}: Transmission control fit 16/32 completed in 12.19366712499999 seconds: {420: {'co': 0.39303220019792606}, 434: {'co': 0.32396191108910677}, 448: {'co': 0.4351953942750514}, 462: {'co': 0.5961995720705813}, 476: {'co': 0.6205262555858417}, 490: {'co': 0.6798100285763498}}\n",
      "2022/09/08 09:38:12 INFO|-----------------------|{'fit_batch': '15'}: Running forward sim\n",
      "2022/09/08 09:38:24 INFO|----------------------|{'fit_batch': '16'}: Transmission control fit 17/32 completed in 11.577069250000022 seconds: {448: {'co': 0.4338412700783666}, 462: {'co': 0.5957883111314681}, 476: {'co': 0.6235414159356867}, 490: {'co': 0.6681674622291515}, 504: {'co': 0.6476875491138416}, 518: {'co': 0.5962176346775127}}\n",
      "2022/09/08 09:38:25 INFO|-----------------------|{'fit_batch': '16'}: Running forward sim\n",
      "2022/09/08 09:38:37 INFO|----------------------|{'fit_batch': '17'}: Transmission control fit 18/32 completed in 11.564468207999994 seconds: {476: {'co': 0.6216258989374274}, 490: {'co': 0.6690700470519856}, 504: {'co': 0.6436711395373648}, 518: {'co': 0.6211354852430284}, 532: {'co': 0.6099722768955986}, 546: {'co': 0.5417113035703801}}\n",
      "2022/09/08 09:38:37 INFO|-----------------------|{'fit_batch': '17'}: Running forward sim\n"
     ]
    },
    {
     "name": "stderr",
     "output_type": "stream",
     "text": [
      "2022/09/08 09:38:53 INFO|----------------------|{'fit_batch': '18'}: Transmission control fit 19/32 completed in 14.35131287500002 seconds: {504: {'co': 0.6435429172756801}, 518: {'co': 0.6216310982096758}, 532: {'co': 0.608610430759221}, 546: {'co': 0.5441358124257989}, 560: {'co': 0.5708262509338289}, 574: {'co': 0.5704623502480274}}\n",
      "2022/09/08 09:38:53 INFO|-----------------------|{'fit_batch': '18'}: Running forward sim\n",
      "2022/09/08 09:39:08 INFO|----------------------|{'fit_batch': '19'}: Transmission control fit 20/32 completed in 13.815453999999988 seconds: {532: {'co': 0.6082446840196855}, 546: {'co': 0.5451109124806198}, 560: {'co': 0.5689048420018281}, 574: {'co': 0.5766277375542206}, 588: {'co': 0.6158521276741261}, 602: {'co': 0.6055485778115539}}\n",
      "2022/09/08 09:39:08 INFO|-----------------------|{'fit_batch': '19'}: Running forward sim\n",
      "2022/09/08 09:39:25 INFO|----------------------|{'fit_batch': '20'}: Transmission control fit 21/32 completed in 14.764668000000029 seconds: {560: {'co': 0.5689905679932855}, 574: {'co': 0.5764601728615781}, 588: {'co': 0.6163164230128664}, 602: {'co': 0.6057931627878581}, 616: {'co': 0.5517552783321915}, 630: {'co': 0.5621814503723185}}\n",
      "2022/09/08 09:39:25 INFO|-----------------------|{'fit_batch': '20'}: Running forward sim\n",
      "2022/09/08 09:39:42 INFO|----------------------|{'fit_batch': '21'}: Transmission control fit 22/32 completed in 16.13922800000006 seconds: {588: {'co': 0.6164179086575622}, 602: {'co': 0.6056295712773262}, 616: {'co': 0.5521022352798588}, 630: {'co': 0.562335089411353}, 644: {'co': 0.5453275133565527}, 658: {'co': 0.5709781738807695}}\n",
      "2022/09/08 09:39:42 INFO|-----------------------|{'fit_batch': '21'}: Running forward sim\n",
      "2022/09/08 09:39:59 INFO|----------------------|{'fit_batch': '22'}: Transmission control fit 23/32 completed in 15.678403500000059 seconds: {616: {'co': 0.5515834219291929}, 630: {'co': 0.5639853375966705}, 644: {'co': 0.5412146504000889}, 658: {'co': 0.5838773083065272}, 672: {'co': 0.5810506295169242}, 686: {'co': 0.6369329028284325}}\n",
      "2022/09/08 09:39:59 INFO|-----------------------|{'fit_batch': '22'}: Running forward sim\n",
      "2022/09/08 09:40:16 INFO|----------------------|{'fit_batch': '23'}: Transmission control fit 24/32 completed in 15.180267749999985 seconds: {644: {'co': 0.5416299215040428}, 658: {'co': 0.581086554780612}, 672: {'co': 0.5890422706141523}, 686: {'co': 0.6036392743402618}, 700: {'co': 0.4494195166976975}, 714: {'co': 0.5299587584939079}}\n",
      "2022/09/08 09:40:16 INFO|-----------------------|{'fit_batch': '23'}: Running forward sim\n",
      "2022/09/08 09:40:30 INFO|----------------------|{'fit_batch': '24'}: Transmission control fit 25/32 completed in 12.726324208000051 seconds: {672: {'co': 0.5887282806627077}, 686: {'co': 0.6046894776505668}, 700: {'co': 0.4449470826682199}, 714: {'co': 0.5447611468824591}, 728: {'co': 0.6301593624963862}, 742: {'co': 0.6506901093179044}}\n",
      "2022/09/08 09:40:30 INFO|-----------------------|{'fit_batch': '24'}: Running forward sim\n",
      "2022/09/08 09:40:46 INFO|----------------------|{'fit_batch': '25'}: Transmission control fit 26/32 completed in 14.530988167000032 seconds: {700: {'co': 0.44528627620534006}, 714: {'co': 0.5403185564228218}, 728: {'co': 0.6276359458595044}, 742: {'co': 0.6580060517398996}, 756: {'co': 0.6429745103794421}, 770: {'co': 0.7053270576927445}}\n",
      "2022/09/08 09:40:46 INFO|-----------------------|{'fit_batch': '25'}: Running forward sim\n",
      "2022/09/08 09:41:01 INFO|----------------------|{'fit_batch': '26'}: Transmission control fit 27/32 completed in 14.219093167000096 seconds: {728: {'co': 0.6274197457379199}, 742: {'co': 0.6571048406471953}, 756: {'co': 0.646892015300182}, 770: {'co': 0.6868096961333977}, 784: {'co': 0.6655640841692017}, 798: {'co': 0.6674043736029065}}\n",
      "2022/09/08 09:41:01 INFO|-----------------------|{'fit_batch': '26'}: Running forward sim\n",
      "2022/09/08 09:41:18 INFO|----------------------|{'fit_batch': '27'}: Transmission control fit 28/32 completed in 15.420217832999924 seconds: {756: {'co': 0.6471266783221727}, 770: {'co': 0.68582412713326}, 784: {'co': 0.6701959049069489}, 798: {'co': 0.6498782226949694}, 812: {'co': 0.6518009939187789}, 826: {'co': 0.6699096824494414}}\n",
      "2022/09/08 09:41:18 INFO|-----------------------|{'fit_batch': '27'}: Running forward sim\n",
      "2022/09/08 09:41:36 INFO|----------------------|{'fit_batch': '28'}: Transmission control fit 29/32 completed in 15.916778375000035 seconds: {784: {'co': 0.6704137980831272}, 798: {'co': 0.6494522119177434}, 812: {'co': 0.6535157169797664}, 826: {'co': 0.664511542367506}, 840: {'co': 0.6717576155779755}, 854: {'co': 0.6635897488678606}}\n",
      "2022/09/08 09:41:36 INFO|-----------------------|{'fit_batch': '28'}: Running forward sim\n",
      "2022/09/08 09:41:50 INFO|----------------------|{'fit_batch': '29'}: Transmission control fit 30/32 completed in 13.156376541999975 seconds: {812: {'co': 0.6536981324278788}, 826: {'co': 0.664986082870017}, 840: {'co': 0.671287415693173}, 854: {'co': 0.664168615957198}, 868: {'co': 0.6960843161707644}, 882: {'co': 0.6780430854995608}}\n",
      "2022/09/08 09:41:50 INFO|-----------------------|{'fit_batch': '29'}: Running forward sim\n",
      "2022/09/08 09:42:03 INFO|----------------------|{'fit_batch': '30'}: Transmission control fit 31/32 completed in 11.615144708000003 seconds: {840: {'co': 0.6717643515750829}, 854: {'co': 0.6630410575384483}, 868: {'co': 0.6958953669940093}, 882: {'co': 0.6778184872448959}, 896: {'co': 0.6685365269152028}, 910: {'co': 0.6714605798562502}}\n",
      "2022/09/08 09:42:03 INFO|-----------------------|{'fit_batch': '30'}: Running forward sim\n",
      "2022/09/08 09:42:18 INFO|----------------------|{'fit_batch': '31'}: Transmission control fit 32/32 completed in 13.274038707999921 seconds: {854: {'co': 0.6630363227294264}, 868: {'co': 0.6958807977544968}, 882: {'co': 0.6779044831232885}, 896: {'co': 0.668229059227843}, 910: {'co': 0.6724471946472687}, 924: {'co': 0.6602012701463252}}\n",
      "2022/09/08 09:42:18 INFO|-----------------------|{'fit_batch': '31'}: Running forward sim\n",
      "2022/09/08 09:42:19 INFO|----------------------|{'fit_batch': '31', 'run_type': 'fit'}: fitted TC: {0: {'co': 4.957102226535142e-13}, 14: {'co': 0.7944347061020562}, 28: {'co': 2.870044354577133e-15}, 42: {'co': 7.244786709425173e-16}, 56: {'co': 0.3953160767277711}, 70: {'co': 0.6171756365963581}, 84: {'co': 0.6199262331073906}, 98: {'co': 0.6361846972927662}, 112: {'co': 0.6647342735798646}, 126: {'co': 0.6555579058343433}, 140: {'co': 0.5700203495287496}, 154: {'co': 0.43393947914910086}, 168: {'co': 0.6056263131136671}, 182: {'co': 0.5659481177209001}, 196: {'co': 0.6152758021190176}, 210: {'co': 0.5577155409888108}, 224: {'co': 0.5531437485389439}, 238: {'co': 0.48646620331408064}, 252: {'co': 0.48106647859213564}, 266: {'co': 0.42467494500958874}, 280: {'co': 0.4539292015096254}, 294: {'co': 0.4833123218681898}, 308: {'co': 0.5584398597170678}, 322: {'co': 0.5555848256258862}, 336: {'co': 0.5212477654575158}, 350: {'co': 0.507257728846333}, 364: {'co': 0.5275384812884799}, 378: {'co': 0.4529334200801665}, 392: {'co': 0.4916082326297925}, 406: {'co': 0.3971899432791663}, 420: {'co': 0.39303220019792606}, 434: {'co': 0.32396191108910677}, 448: {'co': 0.4338412700783666}, 462: {'co': 0.5957883111314681}, 476: {'co': 0.6216258989374274}, 490: {'co': 0.6690700470519856}, 504: {'co': 0.6435429172756801}, 518: {'co': 0.6216310982096758}, 532: {'co': 0.6082446840196855}, 546: {'co': 0.5451109124806198}, 560: {'co': 0.5689905679932855}, 574: {'co': 0.5764601728615781}, 588: {'co': 0.6164179086575622}, 602: {'co': 0.6056295712773262}, 616: {'co': 0.5515834219291929}, 630: {'co': 0.5639853375966705}, 644: {'co': 0.5416299215040428}, 658: {'co': 0.581086554780612}, 672: {'co': 0.5887282806627077}, 686: {'co': 0.6046894776505668}, 700: {'co': 0.44528627620534006}, 714: {'co': 0.5403185564228218}, 728: {'co': 0.6274197457379199}, 742: {'co': 0.6571048406471953}, 756: {'co': 0.6471266783221727}, 770: {'co': 0.68582412713326}, 784: {'co': 0.6704137980831272}, 798: {'co': 0.6494522119177434}, 812: {'co': 0.6536981324278788}, 826: {'co': 0.664986082870017}, 840: {'co': 0.6717643515750829}, 854: {'co': 0.6630363227294264}, 868: {'co': 0.6958807977544968}, 882: {'co': 0.6779044831232885}, 896: {'co': 0.668229059227843}, 910: {'co': 0.6724471946472687}, 924: {'co': 0.6602012850474864}}\n"
     ]
    },
    {
     "name": "stderr",
     "output_type": "stream",
     "text": [
      "2022/09/08 09:42:19 INFO|-----------------------|{'fit_batch': '31', 'run_type': 'fit'}: Running forward sim\n",
      "2022/09/08 09:42:21 INFO|----------------------|{'fit_batch': '31', 'run_type': 'fit'}: Uploading final results\n",
      "2022/09/08 09:42:27 INFO|----------------------|{'fit_batch': '31', 'run_type': 'fit'}: spec_id: 3573\n"
     ]
    }
   ],
   "source": [
    "# designate the arguments for how the model will behave\n",
    "model_args = {\n",
    "    'params_defs': 'covid_model/input/params_simplified.json',\n",
    "    'region_defs': 'covid_model/input/region_definitions.json',\n",
    "    'vacc_proj_params': 'covid_model/input/vacc_proj_params_simplified.json',\n",
    "    'start_date': '2020-01-24',\n",
    "    'end_date': '2022-11-07',\n",
    "}\n",
    "\n",
    "# this is how the fit will behave\n",
    "# place the outdir argument here to tell the model fit where to go\n",
    "fit_args = {'outdir': outdir,\n",
    "            'fit_end_date': '2022-08-30'\n",
    "}\n",
    "\n",
    "# because all the scenarios are the same \n",
    "model = do_single_fit(**fit_args, **model_args)"
   ]
  },
  {
   "cell_type": "markdown",
   "metadata": {
    "pycharm": {
     "name": "#%% md\n"
    }
   },
   "source": [
    "### Create and run scenarios from Feb 2022 to present"
   ]
  },
  {
   "cell_type": "code",
   "execution_count": null,
   "metadata": {
    "pycharm": {
     "name": "#%%\n"
    }
   },
   "outputs": [],
   "source": [
    "multiprocess = 6\n",
    "\n",
    "scenario_params = json.load(open(\"covid_model/analysis/20220815_aug_gov_briefing/20220815_scenario_params.json\"))\n",
    "\n",
    "model_args = {\n",
    "    'base_spec_id': model.spec_id#3528 #model.spec_id # use the spec id that was output from the model fit\n",
    "}\n",
    "model_fit_args = {\n",
    "    'outdir': outdir,\n",
    "    'fit_start_date': '2022-03-01', # set the start date for the earliest point at which the scenarios start to differ from one another\n",
    "    'pre_solve_model': True # force the model to establish initial conditions so the fit can start on the fit start date\n",
    "}\n",
    "\n",
    "# compute vacc effectiveness for < 5 (this is a multiplier for the baseline vaccine effectiveness for 0-19)\n",
    "vacc_eff_lt5 = 0.5\n",
    "\n",
    "# Create different scenarios to model\n",
    "scenario_model_args = []\n",
    "for hosp_frac in [0.7, 0.8, 0.9]:\n",
    "    for school_contact_increase in [1.0, 1.1, 1.2]:\n",
    "        for beta_mult in [0.95, 1.0, 1.05]:\n",
    "            hrf = {\"2020-01-01\": 1, \"2022-03-01\": (0.66 + 0.34*hosp_frac), \"2022-03-15\": (0.34 + 0.66*hosp_frac), \"2022-03-30\": hosp_frac}\n",
    "            beta_param_adjustment = [{\"param\": \"betta\",\n",
    "                                      \"attrs\": {\"variant\": \"ba45\"},\n",
    "                                      \"mults\": {\"2020-01-01\": beta_mult},\n",
    "                                      \"desc\": \"sensitivity analysis for beta\"}]\n",
    "            school_contact = [{\"param\": \"betta\",\n",
    "                               \"attrs\": {'age': '0-19'},\n",
    "                               \"mults\": {\"2020-01-01\": 1, \"2022-08-15\": school_contact_increase},\n",
    "                               \"desc\": \"After August 15th, beta increases by a factor of the school contact increase\"}]\n",
    "            lt5_vacc_adjust = [{\"param\": \"immunity\",\n",
    "                                \"attrs\": {'age': '0-19', 'vacc': 'shot1'},\n",
    "                                \"mults\": {\"2020-01-01\": 1, \"2022-06-20\": 0.99 + 0.01*vacc_eff_lt5,\n",
    "                                          \"2022-06-30\": 0.98 + 0.02*vacc_eff_lt5, \"2022-07-10\": 0.97 + 0.03*vacc_eff_lt5,\n",
    "                                          \"2022-07-20\": 0.96 + 0.04*vacc_eff_lt5, \"2022-07-30\": 0.955 + 0.045*vacc_eff_lt5,\n",
    "                                          \"2022-08-10\": 0.95 + 0.05*vacc_eff_lt5},\n",
    "                                \"desc\": \"Starting June 20th, the share of 0-19 getting vaccinated who are < 5 are weighted by the vaccine effectiveness multiplier for this age group\"}]\n",
    "            scenario_model_args.append({'params_defs': scenario_params + beta_param_adjustment + school_contact + lt5_vacc_adjust,\n",
    "                                        'hosp_reporting_frac': hrf,\n",
    "                                        'tags': {'beta_mult': beta_mult, 'hosp_frac': hosp_frac, 'school_contact_increase': school_contact_increase}})\n",
    "            \n",
    "            "
   ]
  },
  {
   "cell_type": "code",
   "execution_count": null,
   "metadata": {},
   "outputs": [],
   "source": [
    "# check how many scenarios there are\n",
    "len(scenario_model_args)"
   ]
  },
  {
   "cell_type": "code",
   "execution_count": null,
   "metadata": {},
   "outputs": [],
   "source": [
    "# run the scenarios\n",
    "models = do_fit_scenarios(base_model_args=model_args, scenario_args_list=scenario_model_args, fit_args=model_fit_args, multiprocess=multiprocess)"
   ]
  },
  {
   "cell_type": "markdown",
   "metadata": {
    "pycharm": {
     "name": "#%% md\n"
    }
   },
   "source": [
    "### Run the report for each fit model"
   ]
  },
  {
   "cell_type": "code",
   "execution_count": null,
   "metadata": {
    "pycharm": {
     "name": "#%%\n"
    }
   },
   "outputs": [],
   "source": [
    "do_create_multiple_reports(models, multiprocess=multiprocess, outdir=outdir, prep_model=False, solve_model=True, immun_variants=['ba45'], from_date='2022-01-01')"
   ]
  },
  {
   "cell_type": "code",
   "execution_count": null,
   "metadata": {
    "pycharm": {
     "name": "#%%\n"
    }
   },
   "outputs": [],
   "source": [
    "logging.info('Projecting')\n",
    "for model in models:\n",
    "    logging.info('')\n",
    "    #model.prep()  # don't think we need to prep anymore.\n",
    "    model.solve_seir()\n",
    "\n",
    "    model.solution_sum_df(['seir', 'variant', 'immun']).unstack().to_csv(get_filepath_prefix(outdir, tags=model.tags) + 'states_seir_variant_immun_total_all_at_once_projection.csv')\n",
    "    model.solution_sum_df().unstack().to_csv(get_filepath_prefix(outdir, tags=model.tags) + 'states_full_projection.csv')\n",
    "\n",
    "    logging.info(f'{str(model.tags)}: Running forward sim')\n",
    "    fig = plt.figure(figsize=(10, 10), dpi=300)\n",
    "    ax = fig.add_subplot(211)\n",
    "    hosps_df = model.modeled_vs_observed_hosps().reset_index('region').drop(columns='region')\n",
    "    hosps_df.plot(ax=ax)\n",
    "    ax.set_xlim(dt.datetime.strptime('2022-01-01', \"%Y-%m-%d\").date(), dt.datetime.strptime('2022-10-15', \"%Y-%m-%d\").date())\n",
    "    ax = fig.add_subplot(212)\n",
    "    plot_transmission_control(model, ax=ax)\n",
    "    ax.set_xlim(dt.datetime.strptime('2022-01-01', \"%Y-%m-%d\").date(), dt.datetime.strptime('2022-10-15', \"%Y-%m-%d\").date())\n",
    "    plt.savefig(get_filepath_prefix(outdir, tags=model.tags) + 'model_forecast.png')\n",
    "    plt.close()\n",
    "    hosps_df.to_csv(get_filepath_prefix(outdir, tags=model.tags) + '_model_forecast.csv')\n",
    "    json.dump(model.tc, open(get_filepath_prefix(outdir, tags=model.tags) + 'model_forecast_tc.json', 'w'))\n",
    "\n",
    "logging.info('Running reports')"
   ]
  }
 ],
 "metadata": {
  "kernelspec": {
   "display_name": "Python 3 (ipykernel)",
   "language": "python",
   "name": "python3"
  },
  "language_info": {
   "codemirror_mode": {
    "name": "ipython",
    "version": 3
   },
   "file_extension": ".py",
   "mimetype": "text/x-python",
   "name": "python",
   "nbconvert_exporter": "python",
   "pygments_lexer": "ipython3",
   "version": "3.9.13"
  }
 },
 "nbformat": 4,
 "nbformat_minor": 4
}
