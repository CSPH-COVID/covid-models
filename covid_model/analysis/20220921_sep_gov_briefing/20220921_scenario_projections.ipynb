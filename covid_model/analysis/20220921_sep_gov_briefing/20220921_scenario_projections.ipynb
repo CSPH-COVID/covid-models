{
 "cells": [
  {
   "cell_type": "markdown",
   "metadata": {
    "pycharm": {
     "name": "#%% md\n"
    }
   },
   "source": [
    "### Setup"
   ]
  },
  {
   "cell_type": "code",
   "execution_count": 1,
   "metadata": {
    "pycharm": {
     "name": "#%%\n"
    }
   },
   "outputs": [
    {
     "name": "stdout",
     "output_type": "stream",
     "text": [
      "/Users/emwu9912/PycharmProjects/covid-models\n"
     ]
    }
   ],
   "source": [
    "\"\"\" Python Standard Library \"\"\"\n",
    "import os\n",
    "import datetime as dt\n",
    "import json\n",
    "import logging\n",
    "\"\"\" Third Party Imports \"\"\"\n",
    "import numpy as np\n",
    "import pandas as pd\n",
    "from matplotlib import pyplot as plt\n",
    "%matplotlib inline\n",
    "import seaborn as sns\n",
    "\"\"\" Local Imports \"\"\"\n",
    "if 'requirements.txt' not in os.listdir(os.getcwd()):\n",
    "    os.chdir(os.path.join('..','..','..'))\n",
    "print(os.getcwd())\n",
    "from covid_model.model import CovidModel\n",
    "from covid_model.runnable_functions import do_single_fit, do_fit_scenarios, do_create_multiple_reports\n",
    "from covid_model.utils import setup, get_filepath_prefix\n",
    "from covid_model.analysis.charts import plot_transmission_control\n",
    "\n",
    "os.environ['gcp_project'] = 'co-covid-models'\n",
    "os.environ['GOOGLE_APPLICATION_CREDENTIALS'] = \"co-covid-models-credentials.json\""
   ]
  },
  {
   "cell_type": "code",
   "execution_count": 2,
   "metadata": {
    "pycharm": {
     "name": "#%%\n"
    },
    "scrolled": true
   },
   "outputs": [
    {
     "name": "stderr",
     "output_type": "stream",
     "text": [
      "2022/09/19 11:18:18 INFO|============================================================\n"
     ]
    }
   ],
   "source": [
    "# set up the output directory for this Jupyter notebook\n",
    "outdir = setup(\"20220921_scenario_projections.ipynb\")"
   ]
  },
  {
   "cell_type": "markdown",
   "metadata": {
    "pycharm": {
     "name": "#%% md\n"
    }
   },
   "source": [
    "### Fit an initial scenario through February 2022"
   ]
  },
  {
   "cell_type": "code",
   "execution_count": 3,
   "metadata": {
    "pycharm": {
     "name": "#%%\n"
    }
   },
   "outputs": [
    {
     "name": "stderr",
     "output_type": "stream",
     "text": [
      "2022/09/19 11:18:20 INFO|-------------------------|{} Retrieving vaccinations data\n",
      "2022/09/19 11:18:23 INFO|-------------------------|{} Constructing vaccination projections\n",
      "2022/09/19 11:18:25 INFO|-------------------------|{} Retrieving hospitalizations data\n",
      "2022/09/19 11:18:27 INFO|----------------------|{} Prepping Model\n",
      "2022/09/19 11:18:27 INFO|-----------------------|{} Prepping Model\n",
      "2022/09/19 11:19:53 INFO|----------------------|{} Model prepped for fitting in 85.810708625 seconds.\n",
      "2022/09/19 11:19:53 INFO|----------------------|{} Will fit 25 times\n",
      "2022/09/19 11:21:38 INFO|----------------------|{'fit_batch': '0'}: Transmission control fit 1/25 completed in 105.47238958399998 seconds: {0: {'co': 0.8306366874249484}, 14: {'co': 0.6981959499362199}, 28: {'co': 0.5695644890782656}, 42: {'co': 0.0027700663958021587}, 56: {'co': 0.681471761077721}, 70: {'co': 0.8912752515818526}}\n",
      "2022/09/19 11:21:38 INFO|-----------------------|{'fit_batch': '0'}: Running forward sim\n",
      "2022/09/19 11:22:01 INFO|----------------------|{'fit_batch': '1'}: Transmission control fit 2/25 completed in 20.879283084000008 seconds: {28: {'co': 0.5650437905410518}, 42: {'co': 1.2363018891185438e-15}, 56: {'co': 0.6954744432231224}, 70: {'co': 0.8359309005965395}, 84: {'co': 0.8209479627470332}, 98: {'co': 0.8732900719176458}}\n",
      "2022/09/19 11:22:01 INFO|-----------------------|{'fit_batch': '1'}: Running forward sim\n",
      "2022/09/19 11:22:27 INFO|----------------------|{'fit_batch': '2'}: Transmission control fit 3/25 completed in 23.965462290999994 seconds: {56: {'co': 0.6966529100887137}, 70: {'co': 0.8332726903091638}, 84: {'co': 0.8289544043391379}, 98: {'co': 0.8349955097737777}, 112: {'co': 0.8626438297330823}, 126: {'co': 0.9187373997000081}}\n",
      "2022/09/19 11:22:27 INFO|-----------------------|{'fit_batch': '2'}: Running forward sim\n",
      "2022/09/19 11:22:47 INFO|----------------------|{'fit_batch': '3'}: Transmission control fit 4/25 completed in 17.927552333000023 seconds: {84: {'co': 0.8296248539147445}, 98: {'co': 0.8316924950725628}, 112: {'co': 0.8774222728174798}, 126: {'co': 0.8238380320502549}, 140: {'co': 0.7629556208344282}, 154: {'co': 0.6614393022392377}}\n",
      "2022/09/19 11:22:47 INFO|-----------------------|{'fit_batch': '3'}: Running forward sim\n",
      "2022/09/19 11:23:06 INFO|----------------------|{'fit_batch': '4'}: Transmission control fit 5/25 completed in 17.58770395900001 seconds: {112: {'co': 0.8774896861272652}, 126: {'co': 0.8243044312292909}, 140: {'co': 0.7606934806262026}, 154: {'co': 0.6708650714836009}, 168: {'co': 0.8437499492120555}, 182: {'co': 0.7840786516337209}}\n",
      "2022/09/19 11:23:06 INFO|-----------------------|{'fit_batch': '4'}: Running forward sim\n",
      "2022/09/19 11:23:25 INFO|----------------------|{'fit_batch': '5'}: Transmission control fit 6/25 completed in 16.201600916000018 seconds: {140: {'co': 0.7604527585594816}, 154: {'co': 0.6712880198002112}, 168: {'co': 0.8432437698250264}, 182: {'co': 0.7801992135766666}, 196: {'co': 0.8275651312645116}, 210: {'co': 0.7403273746160174}}\n",
      "2022/09/19 11:23:25 INFO|-----------------------|{'fit_batch': '5'}: Running forward sim\n",
      "2022/09/19 11:23:39 INFO|----------------------|{'fit_batch': '6'}: Transmission control fit 7/25 completed in 12.583048083999984 seconds: {168: {'co': 0.8430551350662076}, 182: {'co': 0.7826363491018719}, 196: {'co': 0.8196040098974992}, 210: {'co': 0.7710707225217872}, 224: {'co': 0.7742311385330778}, 238: {'co': 0.7168195411028179}}\n",
      "2022/09/19 11:23:39 INFO|-----------------------|{'fit_batch': '6'}: Running forward sim\n",
      "2022/09/19 11:23:58 INFO|----------------------|{'fit_batch': '7'}: Transmission control fit 8/25 completed in 16.530772916000046 seconds: {196: {'co': 0.8191511062080898}, 210: {'co': 0.7726071132590828}, 224: {'co': 0.7703420371715254}, 238: {'co': 0.7217690410374104}, 252: {'co': 0.7177907879611606}, 266: {'co': 0.6919029523075262}}\n",
      "2022/09/19 11:23:58 INFO|-----------------------|{'fit_batch': '7'}: Running forward sim\n",
      "2022/09/19 11:24:15 INFO|----------------------|{'fit_batch': '8'}: Transmission control fit 9/25 completed in 15.15703187500003 seconds: {224: {'co': 0.7713215726245787}, 238: {'co': 0.7185439635321001}, 252: {'co': 0.7226278192223201}, 266: {'co': 0.6833515819780503}, 280: {'co': 0.7227289086705503}, 294: {'co': 0.7531948845997657}}\n",
      "2022/09/19 11:24:15 INFO|-----------------------|{'fit_batch': '8'}: Running forward sim\n",
      "2022/09/19 11:24:32 INFO|----------------------|{'fit_batch': '9'}: Transmission control fit 10/25 completed in 15.572216124999954 seconds: {252: {'co': 0.7220971480014075}, 266: {'co': 0.6850776840450525}, 280: {'co': 0.7200763216375327}, 294: {'co': 0.7580891599044638}, 308: {'co': 0.8257609764335326}, 322: {'co': 0.7957021326051998}}\n",
      "2022/09/19 11:24:32 INFO|-----------------------|{'fit_batch': '9'}: Running forward sim\n",
      "2022/09/19 11:24:55 INFO|----------------------|{'fit_batch': '10'}: Transmission control fit 11/25 completed in 20.704009291000034 seconds: {280: {'co': 0.7198378028999177}, 294: {'co': 0.7589492742542242}, 308: {'co': 0.8229643289141666}, 322: {'co': 0.8099480755338968}, 336: {'co': 0.7877640841429774}, 350: {'co': 0.7726092621613997}}\n",
      "2022/09/19 11:24:55 INFO|-----------------------|{'fit_batch': '10'}: Running forward sim\n",
      "2022/09/19 11:25:18 INFO|----------------------|{'fit_batch': '11'}: Transmission control fit 12/25 completed in 21.644818292000025 seconds: {308: {'co': 0.8220448705663365}, 322: {'co': 0.8119733884357985}, 336: {'co': 0.7824473183724987}, 350: {'co': 0.7941656063302577}, 364: {'co': 0.8108107198802177}, 378: {'co': 0.7056272308943933}}\n",
      "2022/09/19 11:25:18 INFO|-----------------------|{'fit_batch': '11'}: Running forward sim\n",
      "2022/09/19 11:25:36 INFO|----------------------|{'fit_batch': '12'}: Transmission control fit 13/25 completed in 15.274261459000002 seconds: {336: {'co': 0.7821365886735826}, 350: {'co': 0.7958739060541818}, 364: {'co': 0.8041933272993878}, 378: {'co': 0.7385428887342895}, 392: {'co': 0.8019581060655055}, 406: {'co': 0.6038673121328774}}\n",
      "2022/09/19 11:25:36 INFO|-----------------------|{'fit_batch': '12'}: Running forward sim\n",
      "2022/09/19 11:25:54 INFO|----------------------|{'fit_batch': '13'}: Transmission control fit 14/25 completed in 16.212698375000002 seconds: {364: {'co': 0.8019360887654008}, 378: {'co': 0.746456779184456}, 392: {'co': 0.7762332644565353}, 406: {'co': 0.7023378472096584}, 420: {'co': 0.7281061864307656}, 434: {'co': 0.6435744587744923}}\n",
      "2022/09/19 11:25:54 INFO|-----------------------|{'fit_batch': '13'}: Running forward sim\n",
      "2022/09/19 11:26:16 INFO|----------------------|{'fit_batch': '14'}: Transmission control fit 15/25 completed in 20.324653334000004 seconds: {392: {'co': 0.7757315545700125}, 406: {'co': 0.7104267962185676}, 420: {'co': 0.7135551922646756}, 434: {'co': 0.6833412763440984}, 448: {'co': 0.7366743877452392}, 462: {'co': 0.7959683721506903}}\n",
      "2022/09/19 11:26:16 INFO|-----------------------|{'fit_batch': '14'}: Running forward sim\n",
      "2022/09/19 11:26:33 INFO|----------------------|{'fit_batch': '15'}: Transmission control fit 16/25 completed in 15.372265209000034 seconds: {420: {'co': 0.7134426688644764}, 434: {'co': 0.6840712888293683}, 448: {'co': 0.7348571256727369}, 462: {'co': 0.8092763866065174}, 476: {'co': 0.7823534903360955}, 490: {'co': 0.848276870474016}}\n",
      "2022/09/19 11:26:33 INFO|-----------------------|{'fit_batch': '15'}: Running forward sim\n",
      "2022/09/19 11:26:47 INFO|----------------------|{'fit_batch': '16'}: Transmission control fit 17/25 completed in 11.328097166999953 seconds: {448: {'co': 0.7352224941559411}, 462: {'co': 0.8081582889337914}, 476: {'co': 0.7881328780233837}, 490: {'co': 0.8248795739235618}, 504: {'co': 0.7895792265765045}, 518: {'co': 0.738909911721765}}\n",
      "2022/09/19 11:26:47 INFO|-----------------------|{'fit_batch': '16'}: Running forward sim\n",
      "2022/09/19 11:27:02 INFO|----------------------|{'fit_batch': '17'}: Transmission control fit 18/25 completed in 12.939727709000067 seconds: {476: {'co': 0.7872692255768439}, 490: {'co': 0.8262347561657264}, 504: {'co': 0.7826228834028559}, 518: {'co': 0.773114350418744}, 532: {'co': 0.7587275284784946}, 546: {'co': 0.6927734540360329}}\n",
      "2022/09/19 11:27:02 INFO|-----------------------|{'fit_batch': '17'}: Running forward sim\n"
     ]
    },
    {
     "name": "stderr",
     "output_type": "stream",
     "text": [
      "2022/09/19 11:27:20 INFO|----------------------|{'fit_batch': '18'}: Transmission control fit 19/25 completed in 16.516439750000018 seconds: {504: {'co': 0.7818331304673305}, 518: {'co': 0.7754467512044924}, 532: {'co': 0.7520676571972096}, 546: {'co': 0.7034199466923622}, 560: {'co': 0.7375736326007304}, 574: {'co': 0.7317269098323875}}\n",
      "2022/09/19 11:27:20 INFO|-----------------------|{'fit_batch': '18'}: Running forward sim\n",
      "2022/09/19 11:27:38 INFO|----------------------|{'fit_batch': '19'}: Transmission control fit 20/25 completed in 15.366519957999913 seconds: {532: {'co': 0.7512544747619323}, 546: {'co': 0.705550286968481}, 560: {'co': 0.7337532535187415}, 574: {'co': 0.7437555398822334}, 588: {'co': 0.7812810757641397}, 602: {'co': 0.7595697974466253}}\n",
      "2022/09/19 11:27:38 INFO|-----------------------|{'fit_batch': '19'}: Running forward sim\n",
      "2022/09/19 11:27:57 INFO|----------------------|{'fit_batch': '20'}: Transmission control fit 21/25 completed in 17.202804499999957 seconds: {560: {'co': 0.7337035999683909}, 574: {'co': 0.7422167225736127}, 588: {'co': 0.7823087288072476}, 602: {'co': 0.7592796312839573}, 616: {'co': 0.7082070236075858}, 630: {'co': 0.7313028483370324}}\n",
      "2022/09/19 11:27:57 INFO|-----------------------|{'fit_batch': '20'}: Running forward sim\n",
      "2022/09/19 11:28:21 INFO|----------------------|{'fit_batch': '21'}: Transmission control fit 22/25 completed in 22.058015583999918 seconds: {588: {'co': 0.7826184049874935}, 602: {'co': 0.7583315110679274}, 616: {'co': 0.7105941556976278}, 630: {'co': 0.7263871489434753}, 644: {'co': 0.7039344556162939}, 658: {'co': 0.733799372669914}}\n",
      "2022/09/19 11:28:21 INFO|-----------------------|{'fit_batch': '21'}: Running forward sim\n",
      "2022/09/19 11:28:39 INFO|----------------------|{'fit_batch': '22'}: Transmission control fit 23/25 completed in 16.456424125000012 seconds: {616: {'co': 0.7100585894884839}, 630: {'co': 0.7281020313917284}, 644: {'co': 0.6996673234367872}, 658: {'co': 0.7478543779738897}, 672: {'co': 0.7266645624197533}, 686: {'co': 0.8017066655751219}}\n",
      "2022/09/19 11:28:39 INFO|-----------------------|{'fit_batch': '22'}: Running forward sim\n",
      "2022/09/19 11:29:04 INFO|----------------------|{'fit_batch': '23'}: Transmission control fit 24/25 completed in 22.56007320799995 seconds: {644: {'co': 0.7012316330686956}, 658: {'co': 0.7414146891025136}, 672: {'co': 0.7477250184446034}, 686: {'co': 0.7229956610101428}, 700: {'co': 0.6456746251027611}, 714: {'co': 0.7920535131504207}}\n",
      "2022/09/19 11:29:04 INFO|-----------------------|{'fit_batch': '23'}: Running forward sim\n",
      "2022/09/19 11:29:31 INFO|----------------------|{'fit_batch': '24'}: Transmission control fit 25/25 completed in 24.84835345900001 seconds: {672: {'co': 0.7470585827634717}, 686: {'co': 0.7243390189090777}, 700: {'co': 0.6429877724526805}, 714: {'co': 0.7943465897205526}, 728: {'co': 0.830370567473605}, 742: {'co': 0.8498220400803691}}\n",
      "2022/09/19 11:29:31 INFO|-----------------------|{'fit_batch': '24'}: Running forward sim\n",
      "2022/09/19 11:29:33 INFO|----------------------|{'fit_batch': '24', 'run_type': 'fit'}: fitted TC: {0: {'co': 0.8306366865716341}, 14: {'co': 0.698195952820626}, 28: {'co': 0.5650437905410518}, 42: {'co': 1.2363018891185438e-15}, 56: {'co': 0.6966529100887137}, 70: {'co': 0.8332726903091638}, 84: {'co': 0.8296248539147445}, 98: {'co': 0.8316924950725628}, 112: {'co': 0.8774896861272652}, 126: {'co': 0.8243044312292909}, 140: {'co': 0.7604527585594816}, 154: {'co': 0.6712880198002112}, 168: {'co': 0.8430551350662076}, 182: {'co': 0.7826363491018719}, 196: {'co': 0.8191511062080898}, 210: {'co': 0.7726071132590828}, 224: {'co': 0.7713215726245787}, 238: {'co': 0.7185439635321001}, 252: {'co': 0.7220971480014075}, 266: {'co': 0.6850776840450525}, 280: {'co': 0.7198378028999177}, 294: {'co': 0.7589492742542242}, 308: {'co': 0.8220448705663365}, 322: {'co': 0.8119733884357985}, 336: {'co': 0.7821365886735826}, 350: {'co': 0.7958739060541818}, 364: {'co': 0.8019360887654008}, 378: {'co': 0.746456779184456}, 392: {'co': 0.7757315545700125}, 406: {'co': 0.7104267962185676}, 420: {'co': 0.7134426688644764}, 434: {'co': 0.6840712888293683}, 448: {'co': 0.7352224941559411}, 462: {'co': 0.8081582889337914}, 476: {'co': 0.7872692255768439}, 490: {'co': 0.8262347561657264}, 504: {'co': 0.7818331304673305}, 518: {'co': 0.7754467512044924}, 532: {'co': 0.7512544747619323}, 546: {'co': 0.705550286968481}, 560: {'co': 0.7337035999683909}, 574: {'co': 0.7422167225736127}, 588: {'co': 0.7826184049874935}, 602: {'co': 0.7583315110679274}, 616: {'co': 0.7100585894884839}, 630: {'co': 0.7281020313917284}, 644: {'co': 0.7012316330686956}, 658: {'co': 0.7414146891025136}, 672: {'co': 0.7470585827634717}, 686: {'co': 0.7243390189090777}, 700: {'co': 0.6429877724526805}, 714: {'co': 0.7943465897205526}, 728: {'co': 0.830370567473605}, 742: {'co': 0.8498220549815303}}\n",
      "2022/09/19 11:29:33 INFO|-----------------------|{'fit_batch': '24', 'run_type': 'fit'}: Running forward sim\n",
      "2022/09/19 11:29:35 INFO|----------------------|{'fit_batch': '24', 'run_type': 'fit'}: Uploading final results\n",
      "2022/09/19 11:29:42 INFO|----------------------|{'fit_batch': '24', 'run_type': 'fit'}: spec_id: 3811\n"
     ]
    }
   ],
   "source": [
    "# designate the arguments for how the model will behave\n",
    "model_args = {\n",
    "    'params_defs': 'covid_model/analysis/20220921_sep_gov_briefing/20220921_scenario_params.json',\n",
    "    'region_defs': 'covid_model/input/region_definitions.json',\n",
    "    'vacc_proj_params': 'covid_model/input/vacc_proj_params.json',\n",
    "    'start_date': '2020-01-24',\n",
    "    'end_date': '2024-01-01',\n",
    "}\n",
    "\n",
    "# this is how the fit will behave\n",
    "# place the outdir argument here to tell the model fit where to go\n",
    "fit_args = {'outdir': outdir,\n",
    "            'fit_end_date': '2022-02-28'\n",
    "}\n",
    "\n",
    "# because all the scenarios are the same \n",
    "model = do_single_fit(**fit_args, **model_args)"
   ]
  },
  {
   "cell_type": "markdown",
   "metadata": {
    "pycharm": {
     "name": "#%% md\n"
    }
   },
   "source": [
    "### Create and run scenarios from Feb 2022 to present"
   ]
  },
  {
   "cell_type": "code",
   "execution_count": 4,
   "metadata": {
    "pycharm": {
     "name": "#%%\n"
    }
   },
   "outputs": [],
   "source": [
    "multiprocess = 6\n",
    "\n",
    "scenario_params = json.load(open(\"covid_model/analysis/20220921_sep_gov_briefing/20220921_scenario_params.json\"))\n",
    "\n",
    "model_args = {\n",
    "    'base_spec_id': model.spec_id, # use the spec id that was output from the model fit\n",
    "    'end_date': '2024-01-01',\n",
    "}\n",
    "model_fit_args = {\n",
    "    'outdir': outdir,\n",
    "    'fit_start_date': '2022-03-01', # set the start date for the earliest point at which the scenarios start to differ from one another\n",
    "    'pre_solve_model': True # force the model to establish initial conditions so the fit can start on the fit start date\n",
    "}\n",
    "\n",
    "# compute vacc effectiveness for < 5 (this is a multiplier for the baseline vaccine effectiveness for 0-19)\n",
    "vacc_eff_lt5 = 0.5\n",
    "\n",
    "# Create different scenarios to model\n",
    "scenario_model_args = []\n",
    "#for hosp_frac in [0.7, 0.8, 0.9]:\n",
    "for beta_mult in [0.95, 1.0, 1.05]:\n",
    "    for booster_mult in [0, 0.5, 1]:\n",
    "        for vir_mult in [1, 2.38]:\n",
    "            hrf = {\"2020-01-01\": 1, \"2022-03-01\": (0.66 + 0.34*0.8),\n",
    "                   \"2022-03-15\": (0.34 + 0.66*0.8), \"2022-03-30\": 0.8}\n",
    "            beta_param_adjust = [{\"param\": \"betta\",\n",
    "                                  \"attrs\": {\"variant\": \"ba45\"},\n",
    "                                  \"mults\": {\"2020-01-01\": beta_mult},\n",
    "                                  \"desc\": \"sensitivity analysis for beta\"}]\n",
    "            booster_adjust = [{\"param\": \"immunity\",\n",
    "                               \"attrs\": {\"vacc\": \"booster3\"},\n",
    "                               \"mults\": {\"2022-08-27\": booster_mult},\n",
    "                               \"desc\": \"booster uptake multiplier\"}]\n",
    "            vir_adjust = [{\"param\": \"hosp\",\n",
    "                           \"attrs\": {\"variant\": \"vx\"},\n",
    "                           \"mults\": {\"2022-01-01\": vir_mult},\n",
    "                           \"desc\": \"Variant X virulence multiplier\"}]\n",
    "            lt5_vacc_adjust = [{\"param\": \"immunity\",\n",
    "                                \"attrs\": {'age': '0-19', 'vacc': 'shot1'},\n",
    "                                \"mults\": {\"2020-01-01\": 1, \"2022-06-20\": 0.99 + 0.01*vacc_eff_lt5,\n",
    "                                          \"2022-06-30\": 0.98 + 0.02*vacc_eff_lt5,\n",
    "                                          \"2022-07-10\": 0.97 + 0.03*vacc_eff_lt5,\n",
    "                                          \"2022-07-20\": 0.96 + 0.04*vacc_eff_lt5,\n",
    "                                          \"2022-07-30\": 0.955 + 0.045*vacc_eff_lt5,\n",
    "                                          \"2022-08-10\": 0.95 + 0.05*vacc_eff_lt5},\n",
    "                                \"desc\": \"weighted average using share of 0-19 getting shot1 who are under 5\"}]\n",
    "            scenario_model_args.append({'params_defs': scenario_params + vir_adjust + beta_param_adjust\n",
    "                                        + booster_adjust + lt5_vacc_adjust,\n",
    "                                        'hosp_reporting_frac': hrf,\n",
    "                                        'tags': {'beta_mult': beta_mult,\n",
    "                                                 'booster_mult': booster_mult,\n",
    "                                                 'vir_mult': vir_mult}})\n",
    "            "
   ]
  },
  {
   "cell_type": "code",
   "execution_count": 5,
   "metadata": {},
   "outputs": [
    {
     "data": {
      "text/plain": [
       "18"
      ]
     },
     "execution_count": 5,
     "metadata": {},
     "output_type": "execute_result"
    }
   ],
   "source": [
    "# check how many scenarios there are\n",
    "len(scenario_model_args)"
   ]
  },
  {
   "cell_type": "code",
   "execution_count": 6,
   "metadata": {},
   "outputs": [
    {
     "name": "stderr",
     "output_type": "stream",
     "text": [
      "2022/09/19 11:32:23 INFO|============================================================\n",
      "2022/09/19 11:32:23 INFO|============================================================\n",
      "2022/09/19 11:32:23 INFO|============================================================\n",
      "2022/09/19 11:32:23 INFO|============================================================\n",
      "2022/09/19 11:32:23 INFO|============================================================\n",
      "2022/09/19 11:32:23 INFO|============================================================\n",
      "2022/09/19 11:32:26 INFO|-----------|{'beta_mult': 0.95, 'booster_mult': 0, 'vir_mult': 2.38} Retrieving vaccinations data\n",
      "2022/09/19 11:32:26 INFO|-----------|{'beta_mult': 0.95, 'booster_mult': 0, 'vir_mult': 1} Retrieving vaccinations data\n",
      "2022/09/19 11:32:26 INFO|-----------|{'beta_mult': 0.95, 'booster_mult': 0.5, 'vir_mult': 2.38} Retrieving vaccinations data\n",
      "2022/09/19 11:32:26 INFO|-----------|{'beta_mult': 0.95, 'booster_mult': 1, 'vir_mult': 1} Retrieving vaccinations data\n",
      "2022/09/19 11:32:26 INFO|-----------|{'beta_mult': 0.95, 'booster_mult': 0.5, 'vir_mult': 1} Retrieving vaccinations data\n",
      "2022/09/19 11:32:26 INFO|-----------|{'beta_mult': 0.95, 'booster_mult': 1, 'vir_mult': 2.38} Retrieving vaccinations data\n",
      "2022/09/19 11:32:28 INFO|-----------|{'beta_mult': 0.95, 'booster_mult': 0.5, 'vir_mult': 2.38} Constructing vaccination projections\n",
      "2022/09/19 11:32:28 INFO|-----------|{'beta_mult': 0.95, 'booster_mult': 0.5, 'vir_mult': 1} Constructing vaccination projections\n",
      "2022/09/19 11:32:28 INFO|-----------|{'beta_mult': 0.95, 'booster_mult': 0, 'vir_mult': 2.38} Constructing vaccination projections\n",
      "2022/09/19 11:32:28 INFO|-----------|{'beta_mult': 0.95, 'booster_mult': 1, 'vir_mult': 2.38} Constructing vaccination projections\n",
      "2022/09/19 11:32:28 INFO|-----------|{'beta_mult': 0.95, 'booster_mult': 0, 'vir_mult': 1} Constructing vaccination projections\n",
      "2022/09/19 11:32:28 INFO|-----------|{'beta_mult': 0.95, 'booster_mult': 1, 'vir_mult': 1} Constructing vaccination projections\n",
      "2022/09/19 11:32:30 INFO|-----------|{'beta_mult': 0.95, 'booster_mult': 0.5, 'vir_mult': 1} Retrieving hospitalizations data\n",
      "2022/09/19 11:32:30 INFO|-----------|{'beta_mult': 0.95, 'booster_mult': 0.5, 'vir_mult': 2.38} Retrieving hospitalizations data\n",
      "2022/09/19 11:32:30 INFO|-----------|{'beta_mult': 0.95, 'booster_mult': 0, 'vir_mult': 2.38} Retrieving hospitalizations data\n",
      "2022/09/19 11:32:30 INFO|-----------|{'beta_mult': 0.95, 'booster_mult': 1, 'vir_mult': 2.38} Retrieving hospitalizations data\n",
      "2022/09/19 11:32:30 INFO|-----------|{'beta_mult': 0.95, 'booster_mult': 1, 'vir_mult': 1} Retrieving hospitalizations data\n",
      "2022/09/19 11:32:30 INFO|-----------|{'beta_mult': 0.95, 'booster_mult': 0, 'vir_mult': 1} Retrieving hospitalizations data\n",
      "2022/09/19 11:32:32 INFO|--------|{'beta_mult': 0.95, 'booster_mult': 1, 'vir_mult': 2.38} Prepping Model\n",
      "2022/09/19 11:32:32 INFO|---------|{'beta_mult': 0.95, 'booster_mult': 1, 'vir_mult': 2.38} Prepping Model\n",
      "2022/09/19 11:32:32 INFO|--------|{'beta_mult': 0.95, 'booster_mult': 1, 'vir_mult': 1} Prepping Model\n",
      "2022/09/19 11:32:32 INFO|---------|{'beta_mult': 0.95, 'booster_mult': 1, 'vir_mult': 1} Prepping Model\n",
      "2022/09/19 11:32:32 INFO|--------|{'beta_mult': 0.95, 'booster_mult': 0, 'vir_mult': 2.38} Prepping Model\n",
      "2022/09/19 11:32:32 INFO|---------|{'beta_mult': 0.95, 'booster_mult': 0, 'vir_mult': 2.38} Prepping Model\n",
      "2022/09/19 11:32:32 INFO|--------|{'beta_mult': 0.95, 'booster_mult': 0, 'vir_mult': 1} Prepping Model\n",
      "2022/09/19 11:32:32 INFO|---------|{'beta_mult': 0.95, 'booster_mult': 0, 'vir_mult': 1} Prepping Model\n",
      "2022/09/19 11:32:32 INFO|--------|{'beta_mult': 0.95, 'booster_mult': 0.5, 'vir_mult': 1} Prepping Model\n",
      "2022/09/19 11:32:32 INFO|---------|{'beta_mult': 0.95, 'booster_mult': 0.5, 'vir_mult': 1} Prepping Model\n",
      "2022/09/19 11:32:32 INFO|--------|{'beta_mult': 0.95, 'booster_mult': 0.5, 'vir_mult': 2.38} Prepping Model\n",
      "2022/09/19 11:32:32 INFO|---------|{'beta_mult': 0.95, 'booster_mult': 0.5, 'vir_mult': 2.38} Prepping Model\n",
      "2022/09/19 11:34:11 INFO|--------|{'beta_mult': 0.95, 'booster_mult': 1, 'vir_mult': 2.38} Model prepped for fitting in 99.215572708 seconds.\n",
      "2022/09/19 11:34:11 INFO|--------|{'beta_mult': 0.95, 'booster_mult': 1, 'vir_mult': 2.38} Solving Model ODE\n",
      "2022/09/19 11:34:11 INFO|--------|{'beta_mult': 0.95, 'booster_mult': 0, 'vir_mult': 1} Model prepped for fitting in 99.242311334 seconds.\n",
      "2022/09/19 11:34:11 INFO|--------|{'beta_mult': 0.95, 'booster_mult': 0, 'vir_mult': 1} Solving Model ODE\n",
      "2022/09/19 11:34:11 INFO|--------|{'beta_mult': 0.95, 'booster_mult': 0, 'vir_mult': 2.38} Model prepped for fitting in 99.26599025 seconds.\n",
      "2022/09/19 11:34:11 INFO|--------|{'beta_mult': 0.95, 'booster_mult': 0, 'vir_mult': 2.38} Solving Model ODE\n",
      "2022/09/19 11:34:12 INFO|--------|{'beta_mult': 0.95, 'booster_mult': 1, 'vir_mult': 1} Model prepped for fitting in 99.427144875 seconds.\n",
      "2022/09/19 11:34:12 INFO|--------|{'beta_mult': 0.95, 'booster_mult': 1, 'vir_mult': 1} Solving Model ODE\n",
      "2022/09/19 11:34:12 INFO|--------|{'beta_mult': 0.95, 'booster_mult': 0.5, 'vir_mult': 1} Model prepped for fitting in 100.13720425 seconds.\n",
      "2022/09/19 11:34:12 INFO|--------|{'beta_mult': 0.95, 'booster_mult': 0.5, 'vir_mult': 1} Solving Model ODE\n",
      "2022/09/19 11:34:13 INFO|--------|{'beta_mult': 0.95, 'booster_mult': 0.5, 'vir_mult': 2.38} Model prepped for fitting in 100.51458587500001 seconds.\n",
      "2022/09/19 11:34:13 INFO|--------|{'beta_mult': 0.95, 'booster_mult': 0.5, 'vir_mult': 2.38} Solving Model ODE\n",
      "2022/09/19 11:34:16 INFO|--------|{'beta_mult': 0.95, 'booster_mult': 1, 'vir_mult': 2.38} Model solved in 4.865099166000007 seconds.\n",
      "2022/09/19 11:34:16 INFO|--------|{'beta_mult': 0.95, 'booster_mult': 0, 'vir_mult': 1} Model solved in 4.822485541000006 seconds.\n",
      "2022/09/19 11:34:16 INFO|--------|{'beta_mult': 0.95, 'booster_mult': 1, 'vir_mult': 2.38} Will fit 5 times\n",
      "2022/09/19 11:34:16 INFO|--------|{'beta_mult': 0.95, 'booster_mult': 0, 'vir_mult': 1} Will fit 5 times\n",
      "2022/09/19 11:34:16 INFO|--------|{'beta_mult': 0.95, 'booster_mult': 0, 'vir_mult': 2.38} Model solved in 4.925546707999999 seconds.\n",
      "2022/09/19 11:34:16 INFO|--------|{'beta_mult': 0.95, 'booster_mult': 0, 'vir_mult': 2.38} Will fit 5 times\n",
      "2022/09/19 11:34:16 INFO|--------|{'beta_mult': 0.95, 'booster_mult': 1, 'vir_mult': 1} Model solved in 4.976741333000007 seconds.\n",
      "2022/09/19 11:34:16 INFO|--------|{'beta_mult': 0.95, 'booster_mult': 1, 'vir_mult': 1} Will fit 5 times\n",
      "2022/09/19 11:34:17 INFO|--------|{'beta_mult': 0.95, 'booster_mult': 0.5, 'vir_mult': 1} Model solved in 4.921751167000011 seconds.\n",
      "2022/09/19 11:34:17 INFO|--------|{'beta_mult': 0.95, 'booster_mult': 0.5, 'vir_mult': 1} Will fit 5 times\n",
      "2022/09/19 11:34:18 INFO|--------|{'beta_mult': 0.95, 'booster_mult': 0.5, 'vir_mult': 2.38} Model solved in 4.862094500000012 seconds.\n",
      "2022/09/19 11:34:18 INFO|--------|{'beta_mult': 0.95, 'booster_mult': 0.5, 'vir_mult': 2.38} Will fit 5 times\n",
      "2022/09/19 11:34:35 INFO|--------|{'beta_mult': 0.95, 'booster_mult': 1, 'vir_mult': 2.38, 'fit_batch': '0'}: Transmission control fit 1/5 completed in 18.73790375 seconds: {767: {'co': 0.8562260979797671}, 781: {'co': 0.8605403634198211}, 795: {'co': 0.8404136448687262}, 809: {'co': 0.834800610162307}, 823: {'co': 0.8363841618839408}, 837: {'co': 0.8244293823686178}}\n",
      "2022/09/19 11:34:35 INFO|---------|{'beta_mult': 0.95, 'booster_mult': 1, 'vir_mult': 2.38, 'fit_batch': '0'}: Running forward sim\n",
      "2022/09/19 11:34:35 INFO|--------|{'beta_mult': 0.95, 'booster_mult': 0, 'vir_mult': 1, 'fit_batch': '0'}: Transmission control fit 1/5 completed in 18.73986875 seconds: {767: {'co': 0.8562260979797671}, 781: {'co': 0.8605403634198211}, 795: {'co': 0.8404136448687262}, 809: {'co': 0.834800610162307}, 823: {'co': 0.8363841618839408}, 837: {'co': 0.8244293823686178}}\n",
      "2022/09/19 11:34:35 INFO|---------|{'beta_mult': 0.95, 'booster_mult': 0, 'vir_mult': 1, 'fit_batch': '0'}: Running forward sim\n",
      "2022/09/19 11:34:35 INFO|--------|{'beta_mult': 0.95, 'booster_mult': 0, 'vir_mult': 2.38, 'fit_batch': '0'}: Transmission control fit 1/5 completed in 19.047744416 seconds: {767: {'co': 0.8562260979797671}, 781: {'co': 0.8605403634198211}, 795: {'co': 0.8404136448687262}, 809: {'co': 0.834800610162307}, 823: {'co': 0.8363841618839408}, 837: {'co': 0.8244293823686178}}\n",
      "2022/09/19 11:34:35 INFO|---------|{'beta_mult': 0.95, 'booster_mult': 0, 'vir_mult': 2.38, 'fit_batch': '0'}: Running forward sim\n"
     ]
    },
    {
     "name": "stderr",
     "output_type": "stream",
     "text": [
      "2022/09/19 11:34:36 INFO|--------|{'beta_mult': 0.95, 'booster_mult': 1, 'vir_mult': 1, 'fit_batch': '0'}: Transmission control fit 1/5 completed in 19.214053334000013 seconds: {767: {'co': 0.8562260979797671}, 781: {'co': 0.8605403634198211}, 795: {'co': 0.8404136448687262}, 809: {'co': 0.834800610162307}, 823: {'co': 0.8363841618839408}, 837: {'co': 0.8244293823686178}}\n",
      "2022/09/19 11:34:36 INFO|---------|{'beta_mult': 0.95, 'booster_mult': 1, 'vir_mult': 1, 'fit_batch': '0'}: Running forward sim\n",
      "2022/09/19 11:34:36 INFO|--------|{'beta_mult': 0.95, 'booster_mult': 0.5, 'vir_mult': 1, 'fit_batch': '0'}: Transmission control fit 1/5 completed in 19.15884525 seconds: {767: {'co': 0.8562260979797671}, 781: {'co': 0.8605403634198211}, 795: {'co': 0.8404136448687262}, 809: {'co': 0.834800610162307}, 823: {'co': 0.8363841618839408}, 837: {'co': 0.8244293823686178}}\n",
      "2022/09/19 11:34:36 INFO|---------|{'beta_mult': 0.95, 'booster_mult': 0.5, 'vir_mult': 1, 'fit_batch': '0'}: Running forward sim\n",
      "2022/09/19 11:34:37 INFO|--------|{'beta_mult': 0.95, 'booster_mult': 0.5, 'vir_mult': 2.38, 'fit_batch': '0'}: Transmission control fit 1/5 completed in 18.80612633300001 seconds: {767: {'co': 0.8562260979797671}, 781: {'co': 0.8605403634198211}, 795: {'co': 0.8404136448687262}, 809: {'co': 0.834800610162307}, 823: {'co': 0.8363841618839408}, 837: {'co': 0.8244293823686178}}\n",
      "2022/09/19 11:34:37 INFO|---------|{'beta_mult': 0.95, 'booster_mult': 0.5, 'vir_mult': 2.38, 'fit_batch': '0'}: Running forward sim\n",
      "2022/09/19 11:34:51 INFO|--------|{'beta_mult': 0.95, 'booster_mult': 0, 'vir_mult': 1, 'fit_batch': '1'}: Transmission control fit 2/5 completed in 14.533684125000008 seconds: {795: {'co': 0.8402647526382448}, 809: {'co': 0.835909849104015}, 823: {'co': 0.8336854979472074}, 837: {'co': 0.8309239021539183}, 851: {'co': 0.8148692773546226}, 865: {'co': 0.8412867556252732}}\n",
      "2022/09/19 11:34:51 INFO|---------|{'beta_mult': 0.95, 'booster_mult': 0, 'vir_mult': 1, 'fit_batch': '1'}: Running forward sim\n",
      "2022/09/19 11:34:51 INFO|--------|{'beta_mult': 0.95, 'booster_mult': 1, 'vir_mult': 2.38, 'fit_batch': '1'}: Transmission control fit 2/5 completed in 14.598869250000007 seconds: {795: {'co': 0.8402647526382448}, 809: {'co': 0.835909849104015}, 823: {'co': 0.8336854979472074}, 837: {'co': 0.8309239021539183}, 851: {'co': 0.8148692773546226}, 865: {'co': 0.8412867556252732}}\n",
      "2022/09/19 11:34:51 INFO|---------|{'beta_mult': 0.95, 'booster_mult': 1, 'vir_mult': 2.38, 'fit_batch': '1'}: Running forward sim\n",
      "2022/09/19 11:34:52 INFO|--------|{'beta_mult': 0.95, 'booster_mult': 0, 'vir_mult': 2.38, 'fit_batch': '1'}: Transmission control fit 2/5 completed in 14.835224874999994 seconds: {795: {'co': 0.8402647526382448}, 809: {'co': 0.835909849104015}, 823: {'co': 0.8336854979472074}, 837: {'co': 0.8309239021539183}, 851: {'co': 0.8148692773546226}, 865: {'co': 0.8412867556252732}}\n",
      "2022/09/19 11:34:52 INFO|---------|{'beta_mult': 0.95, 'booster_mult': 0, 'vir_mult': 2.38, 'fit_batch': '1'}: Running forward sim\n",
      "2022/09/19 11:34:53 INFO|--------|{'beta_mult': 0.95, 'booster_mult': 1, 'vir_mult': 1, 'fit_batch': '1'}: Transmission control fit 2/5 completed in 14.986063125000015 seconds: {795: {'co': 0.8402647526382448}, 809: {'co': 0.835909849104015}, 823: {'co': 0.8336854979472074}, 837: {'co': 0.8309239021539183}, 851: {'co': 0.8148692773546226}, 865: {'co': 0.8412867556252732}}\n",
      "2022/09/19 11:34:53 INFO|---------|{'beta_mult': 0.95, 'booster_mult': 1, 'vir_mult': 1, 'fit_batch': '1'}: Running forward sim\n",
      "2022/09/19 11:34:53 INFO|--------|{'beta_mult': 0.95, 'booster_mult': 0.5, 'vir_mult': 1, 'fit_batch': '1'}: Transmission control fit 2/5 completed in 14.839981208999973 seconds: {795: {'co': 0.8402647526382448}, 809: {'co': 0.835909849104015}, 823: {'co': 0.8336854979472074}, 837: {'co': 0.8309239021539183}, 851: {'co': 0.8148692773546226}, 865: {'co': 0.8412867556252732}}\n",
      "2022/09/19 11:34:53 INFO|---------|{'beta_mult': 0.95, 'booster_mult': 0.5, 'vir_mult': 1, 'fit_batch': '1'}: Running forward sim\n",
      "2022/09/19 11:34:53 INFO|--------|{'beta_mult': 0.95, 'booster_mult': 0.5, 'vir_mult': 2.38, 'fit_batch': '1'}: Transmission control fit 2/5 completed in 14.821437958000018 seconds: {795: {'co': 0.8402647526382448}, 809: {'co': 0.835909849104015}, 823: {'co': 0.8336854979472074}, 837: {'co': 0.8309239021539183}, 851: {'co': 0.8148692773546226}, 865: {'co': 0.8412867556252732}}\n",
      "2022/09/19 11:34:53 INFO|---------|{'beta_mult': 0.95, 'booster_mult': 0.5, 'vir_mult': 2.38, 'fit_batch': '1'}: Running forward sim\n",
      "2022/09/19 11:35:07 INFO|--------|{'beta_mult': 0.95, 'booster_mult': 0, 'vir_mult': 1, 'fit_batch': '2'}: Transmission control fit 3/5 completed in 13.550592000000023 seconds: {823: {'co': 0.8336247986917281}, 837: {'co': 0.8310706502961795}, 851: {'co': 0.8142401614751537}, 865: {'co': 0.8432575730536086}, 879: {'co': 0.8302245821132421}, 893: {'co': 0.8334171438649243}}\n",
      "2022/09/19 11:35:07 INFO|---------|{'beta_mult': 0.95, 'booster_mult': 0, 'vir_mult': 1, 'fit_batch': '2'}: Running forward sim\n",
      "2022/09/19 11:35:07 INFO|--------|{'beta_mult': 0.95, 'booster_mult': 1, 'vir_mult': 2.38, 'fit_batch': '2'}: Transmission control fit 3/5 completed in 13.745148083000004 seconds: {823: {'co': 0.8336247986917281}, 837: {'co': 0.8310706502961795}, 851: {'co': 0.8142401614751537}, 865: {'co': 0.8432575730536086}, 879: {'co': 0.8302245821132421}, 893: {'co': 0.8334171438649243}}\n",
      "2022/09/19 11:35:07 INFO|---------|{'beta_mult': 0.95, 'booster_mult': 1, 'vir_mult': 2.38, 'fit_batch': '2'}: Running forward sim\n",
      "2022/09/19 11:35:08 INFO|--------|{'beta_mult': 0.95, 'booster_mult': 0, 'vir_mult': 2.38, 'fit_batch': '2'}: Transmission control fit 3/5 completed in 13.894298540999984 seconds: {823: {'co': 0.8336247986917281}, 837: {'co': 0.8310706502961795}, 851: {'co': 0.8142401614751537}, 865: {'co': 0.8432575730536086}, 879: {'co': 0.8302245821132421}, 893: {'co': 0.8334171438649243}}\n",
      "2022/09/19 11:35:08 INFO|---------|{'beta_mult': 0.95, 'booster_mult': 0, 'vir_mult': 2.38, 'fit_batch': '2'}: Running forward sim\n",
      "2022/09/19 11:35:08 INFO|--------|{'beta_mult': 0.95, 'booster_mult': 1, 'vir_mult': 1, 'fit_batch': '2'}: Transmission control fit 3/5 completed in 13.968681500000002 seconds: {823: {'co': 0.8336247986917281}, 837: {'co': 0.8310706502961795}, 851: {'co': 0.8142401614751537}, 865: {'co': 0.8432575730536086}, 879: {'co': 0.8302245821132421}, 893: {'co': 0.8334171438649243}}\n",
      "2022/09/19 11:35:08 INFO|---------|{'beta_mult': 0.95, 'booster_mult': 1, 'vir_mult': 1, 'fit_batch': '2'}: Running forward sim\n",
      "2022/09/19 11:35:09 INFO|--------|{'beta_mult': 0.95, 'booster_mult': 0.5, 'vir_mult': 1, 'fit_batch': '2'}: Transmission control fit 3/5 completed in 13.937468042000006 seconds: {823: {'co': 0.8336247986917281}, 837: {'co': 0.8310706502961795}, 851: {'co': 0.8142401614751537}, 865: {'co': 0.8432575730536086}, 879: {'co': 0.8302245821132421}, 893: {'co': 0.8334171438649243}}\n",
      "2022/09/19 11:35:09 INFO|---------|{'beta_mult': 0.95, 'booster_mult': 0.5, 'vir_mult': 1, 'fit_batch': '2'}: Running forward sim\n",
      "2022/09/19 11:35:09 INFO|--------|{'beta_mult': 0.95, 'booster_mult': 0.5, 'vir_mult': 2.38, 'fit_batch': '2'}: Transmission control fit 3/5 completed in 13.84378966700001 seconds: {823: {'co': 0.8336247986917281}, 837: {'co': 0.8310706502961795}, 851: {'co': 0.8142401614751537}, 865: {'co': 0.8432575730536086}, 879: {'co': 0.8302245821132421}, 893: {'co': 0.8334171438649243}}\n",
      "2022/09/19 11:35:09 INFO|---------|{'beta_mult': 0.95, 'booster_mult': 0.5, 'vir_mult': 2.38, 'fit_batch': '2'}: Running forward sim\n",
      "2022/09/19 11:35:22 INFO|--------|{'beta_mult': 0.95, 'booster_mult': 0, 'vir_mult': 1, 'fit_batch': '3'}: Transmission control fit 4/5 completed in 13.642864709000008 seconds: {851: {'co': 0.8146364809921849}, 865: {'co': 0.8427280981175708}, 879: {'co': 0.8314757024127674}, 893: {'co': 0.8296424306082901}, 907: {'co': 0.8377956203151486}, 921: {'co': 0.8323610118418714}}\n",
      "2022/09/19 11:35:22 INFO|---------|{'beta_mult': 0.95, 'booster_mult': 0, 'vir_mult': 1, 'fit_batch': '3'}: Running forward sim\n",
      "2022/09/19 11:35:23 INFO|--------|{'beta_mult': 0.95, 'booster_mult': 1, 'vir_mult': 2.38, 'fit_batch': '3'}: Transmission control fit 4/5 completed in 13.933533083000015 seconds: {851: {'co': 0.8146364809921849}, 865: {'co': 0.8427280981175708}, 879: {'co': 0.8314757024127674}, 893: {'co': 0.8296424306082901}, 907: {'co': 0.8377956203151486}, 921: {'co': 0.8323610118418714}}\n",
      "2022/09/19 11:35:23 INFO|---------|{'beta_mult': 0.95, 'booster_mult': 1, 'vir_mult': 2.38, 'fit_batch': '3'}: Running forward sim\n"
     ]
    },
    {
     "name": "stderr",
     "output_type": "stream",
     "text": [
      "2022/09/19 11:35:24 INFO|--------|{'beta_mult': 0.95, 'booster_mult': 0, 'vir_mult': 2.38, 'fit_batch': '3'}: Transmission control fit 4/5 completed in 14.01155566700001 seconds: {851: {'co': 0.8146364809921849}, 865: {'co': 0.8427280981175708}, 879: {'co': 0.8314757024127674}, 893: {'co': 0.8296424306082901}, 907: {'co': 0.8377956203151486}, 921: {'co': 0.8323610118418714}}\n",
      "2022/09/19 11:35:24 INFO|---------|{'beta_mult': 0.95, 'booster_mult': 0, 'vir_mult': 2.38, 'fit_batch': '3'}: Running forward sim\n",
      "2022/09/19 11:35:24 INFO|--------|{'beta_mult': 0.95, 'booster_mult': 1, 'vir_mult': 1, 'fit_batch': '3'}: Transmission control fit 4/5 completed in 14.112741375000013 seconds: {851: {'co': 0.8146364809921849}, 865: {'co': 0.8427280981175708}, 879: {'co': 0.8314757024127674}, 893: {'co': 0.8296424306082901}, 907: {'co': 0.8377956203151486}, 921: {'co': 0.8323610118418714}}\n",
      "2022/09/19 11:35:24 INFO|---------|{'beta_mult': 0.95, 'booster_mult': 1, 'vir_mult': 1, 'fit_batch': '3'}: Running forward sim\n",
      "2022/09/19 11:35:25 INFO|--------|{'beta_mult': 0.95, 'booster_mult': 0.5, 'vir_mult': 2.38, 'fit_batch': '3'}: Transmission control fit 4/5 completed in 13.940710832999997 seconds: {851: {'co': 0.8146364809921849}, 865: {'co': 0.8427280981175708}, 879: {'co': 0.8314757024127674}, 893: {'co': 0.8296424306082901}, 907: {'co': 0.8377956203151486}, 921: {'co': 0.8323610118418714}}\n",
      "2022/09/19 11:35:25 INFO|---------|{'beta_mult': 0.95, 'booster_mult': 0.5, 'vir_mult': 2.38, 'fit_batch': '3'}: Running forward sim\n",
      "2022/09/19 11:35:25 INFO|--------|{'beta_mult': 0.95, 'booster_mult': 0.5, 'vir_mult': 1, 'fit_batch': '3'}: Transmission control fit 4/5 completed in 14.07629725000001 seconds: {851: {'co': 0.8146364809921849}, 865: {'co': 0.8427280981175708}, 879: {'co': 0.8314757024127674}, 893: {'co': 0.8296424306082901}, 907: {'co': 0.8377956203151486}, 921: {'co': 0.8323610118418714}}\n",
      "2022/09/19 11:35:25 INFO|---------|{'beta_mult': 0.95, 'booster_mult': 0.5, 'vir_mult': 1, 'fit_batch': '3'}: Running forward sim\n",
      "2022/09/19 11:35:41 INFO|--------|{'beta_mult': 0.95, 'booster_mult': 0, 'vir_mult': 1, 'fit_batch': '4'}: Transmission control fit 5/5 completed in 16.604781333000005 seconds: {865: {'co': 0.8422800686511566}, 879: {'co': 0.8316343343443077}, 893: {'co': 0.8298290972305365}, 907: {'co': 0.8370725151068286}, 921: {'co': 0.8369348052916197}, 935: {'co': 0.8241006490732329}}\n",
      "2022/09/19 11:35:41 INFO|---------|{'beta_mult': 0.95, 'booster_mult': 0, 'vir_mult': 1, 'fit_batch': '4'}: Running forward sim\n",
      "2022/09/19 11:35:41 INFO|--------|{'beta_mult': 0.95, 'booster_mult': 1, 'vir_mult': 2.38, 'fit_batch': '4'}: Transmission control fit 5/5 completed in 16.560904042000004 seconds: {865: {'co': 0.8422800686511566}, 879: {'co': 0.8316343343443077}, 893: {'co': 0.8298290972305365}, 907: {'co': 0.8370725151068286}, 921: {'co': 0.8369348052916197}, 935: {'co': 0.8241006490732329}}\n",
      "2022/09/19 11:35:41 INFO|---------|{'beta_mult': 0.95, 'booster_mult': 1, 'vir_mult': 2.38, 'fit_batch': '4'}: Running forward sim\n",
      "2022/09/19 11:35:42 INFO|--------|{'beta_mult': 0.95, 'booster_mult': 0, 'vir_mult': 2.38, 'fit_batch': '4'}: Transmission control fit 5/5 completed in 16.888453999999996 seconds: {865: {'co': 0.8422800686511566}, 879: {'co': 0.8316343343443077}, 893: {'co': 0.8298290972305365}, 907: {'co': 0.8370725151068286}, 921: {'co': 0.8369348052916197}, 935: {'co': 0.8241006490732329}}\n",
      "2022/09/19 11:35:42 INFO|---------|{'beta_mult': 0.95, 'booster_mult': 0, 'vir_mult': 2.38, 'fit_batch': '4'}: Running forward sim\n",
      "2022/09/19 11:35:43 INFO|--------|{'beta_mult': 0.95, 'booster_mult': 0, 'vir_mult': 1, 'fit_batch': '4', 'run_type': 'fit'}: fitted TC: {0: {'co': 0.8306366865716341}, 14: {'co': 0.698195952820626}, 28: {'co': 0.5650437905410518}, 42: {'co': 1.2363018891185438e-15}, 56: {'co': 0.6966529100887137}, 70: {'co': 0.8332726903091638}, 84: {'co': 0.8296248539147445}, 98: {'co': 0.8316924950725628}, 112: {'co': 0.8774896861272652}, 126: {'co': 0.8243044312292909}, 140: {'co': 0.7604527585594816}, 154: {'co': 0.6712880198002112}, 168: {'co': 0.8430551350662076}, 182: {'co': 0.7826363491018719}, 196: {'co': 0.8191511062080898}, 210: {'co': 0.7726071132590828}, 224: {'co': 0.7713215726245787}, 238: {'co': 0.7185439635321001}, 252: {'co': 0.7220971480014075}, 266: {'co': 0.6850776840450525}, 280: {'co': 0.7198378028999177}, 294: {'co': 0.7589492742542242}, 308: {'co': 0.8220448705663365}, 322: {'co': 0.8119733884357985}, 336: {'co': 0.7821365886735826}, 350: {'co': 0.7958739060541818}, 364: {'co': 0.8019360887654008}, 378: {'co': 0.746456779184456}, 392: {'co': 0.7757315545700125}, 406: {'co': 0.7104267962185676}, 420: {'co': 0.7134426688644764}, 434: {'co': 0.6840712888293683}, 448: {'co': 0.7352224941559411}, 462: {'co': 0.8081582889337914}, 476: {'co': 0.7872692255768439}, 490: {'co': 0.8262347561657264}, 504: {'co': 0.7818331304673305}, 518: {'co': 0.7754467512044924}, 532: {'co': 0.7512544747619323}, 546: {'co': 0.705550286968481}, 560: {'co': 0.7337035999683909}, 574: {'co': 0.7422167225736127}, 588: {'co': 0.7826184049874935}, 602: {'co': 0.7583315110679274}, 616: {'co': 0.7100585894884839}, 630: {'co': 0.7281020313917284}, 644: {'co': 0.7012316330686956}, 658: {'co': 0.7414146891025136}, 672: {'co': 0.7470585827634717}, 686: {'co': 0.7243390189090777}, 700: {'co': 0.6429877724526805}, 714: {'co': 0.7943465897205526}, 728: {'co': 0.830370567473605}, 742: {'co': 0.8498220549815303}, 767: {'co': 0.8562260979797671}, 781: {'co': 0.8605403634198211}, 795: {'co': 0.8402647526382448}, 809: {'co': 0.835909849104015}, 823: {'co': 0.8336247986917281}, 837: {'co': 0.8310706502961795}, 851: {'co': 0.8146364809921849}, 865: {'co': 0.8422800686511566}, 879: {'co': 0.8316343343443077}, 893: {'co': 0.8298290972305365}, 907: {'co': 0.8370725151068286}, 921: {'co': 0.8369348052916197}, 935: {'co': 0.8241006639743941}}\n",
      "2022/09/19 11:35:43 INFO|---------|{'beta_mult': 0.95, 'booster_mult': 0, 'vir_mult': 1, 'fit_batch': '4', 'run_type': 'fit'}: Running forward sim\n",
      "2022/09/19 11:35:43 INFO|--------|{'beta_mult': 0.95, 'booster_mult': 1, 'vir_mult': 1, 'fit_batch': '4'}: Transmission control fit 5/5 completed in 16.701077749999996 seconds: {865: {'co': 0.8422800686511566}, 879: {'co': 0.8316343343443077}, 893: {'co': 0.8298290972305365}, 907: {'co': 0.8370725151068286}, 921: {'co': 0.8369348052916197}, 935: {'co': 0.8241006490732329}}\n",
      "2022/09/19 11:35:43 INFO|---------|{'beta_mult': 0.95, 'booster_mult': 1, 'vir_mult': 1, 'fit_batch': '4'}: Running forward sim\n",
      "2022/09/19 11:35:43 INFO|--------|{'beta_mult': 0.95, 'booster_mult': 1, 'vir_mult': 2.38, 'fit_batch': '4', 'run_type': 'fit'}: fitted TC: {0: {'co': 0.8306366865716341}, 14: {'co': 0.698195952820626}, 28: {'co': 0.5650437905410518}, 42: {'co': 1.2363018891185438e-15}, 56: {'co': 0.6966529100887137}, 70: {'co': 0.8332726903091638}, 84: {'co': 0.8296248539147445}, 98: {'co': 0.8316924950725628}, 112: {'co': 0.8774896861272652}, 126: {'co': 0.8243044312292909}, 140: {'co': 0.7604527585594816}, 154: {'co': 0.6712880198002112}, 168: {'co': 0.8430551350662076}, 182: {'co': 0.7826363491018719}, 196: {'co': 0.8191511062080898}, 210: {'co': 0.7726071132590828}, 224: {'co': 0.7713215726245787}, 238: {'co': 0.7185439635321001}, 252: {'co': 0.7220971480014075}, 266: {'co': 0.6850776840450525}, 280: {'co': 0.7198378028999177}, 294: {'co': 0.7589492742542242}, 308: {'co': 0.8220448705663365}, 322: {'co': 0.8119733884357985}, 336: {'co': 0.7821365886735826}, 350: {'co': 0.7958739060541818}, 364: {'co': 0.8019360887654008}, 378: {'co': 0.746456779184456}, 392: {'co': 0.7757315545700125}, 406: {'co': 0.7104267962185676}, 420: {'co': 0.7134426688644764}, 434: {'co': 0.6840712888293683}, 448: {'co': 0.7352224941559411}, 462: {'co': 0.8081582889337914}, 476: {'co': 0.7872692255768439}, 490: {'co': 0.8262347561657264}, 504: {'co': 0.7818331304673305}, 518: {'co': 0.7754467512044924}, 532: {'co': 0.7512544747619323}, 546: {'co': 0.705550286968481}, 560: {'co': 0.7337035999683909}, 574: {'co': 0.7422167225736127}, 588: {'co': 0.7826184049874935}, 602: {'co': 0.7583315110679274}, 616: {'co': 0.7100585894884839}, 630: {'co': 0.7281020313917284}, 644: {'co': 0.7012316330686956}, 658: {'co': 0.7414146891025136}, 672: {'co': 0.7470585827634717}, 686: {'co': 0.7243390189090777}, 700: {'co': 0.6429877724526805}, 714: {'co': 0.7943465897205526}, 728: {'co': 0.830370567473605}, 742: {'co': 0.8498220549815303}, 767: {'co': 0.8562260979797671}, 781: {'co': 0.8605403634198211}, 795: {'co': 0.8402647526382448}, 809: {'co': 0.835909849104015}, 823: {'co': 0.8336247986917281}, 837: {'co': 0.8310706502961795}, 851: {'co': 0.8146364809921849}, 865: {'co': 0.8422800686511566}, 879: {'co': 0.8316343343443077}, 893: {'co': 0.8298290972305365}, 907: {'co': 0.8370725151068286}, 921: {'co': 0.8369348052916197}, 935: {'co': 0.8241006639743941}}\n",
      "2022/09/19 11:35:43 INFO|---------|{'beta_mult': 0.95, 'booster_mult': 1, 'vir_mult': 2.38, 'fit_batch': '4', 'run_type': 'fit'}: Running forward sim\n"
     ]
    },
    {
     "name": "stderr",
     "output_type": "stream",
     "text": [
      "2022/09/19 11:35:43 INFO|--------|{'beta_mult': 0.95, 'booster_mult': 0.5, 'vir_mult': 1, 'fit_batch': '4'}: Transmission control fit 5/5 completed in 16.70118174999999 seconds: {865: {'co': 0.8422800686511566}, 879: {'co': 0.8316343343443077}, 893: {'co': 0.8298290972305365}, 907: {'co': 0.8370725151068286}, 921: {'co': 0.8369348052916197}, 935: {'co': 0.8241006490732329}}\n",
      "2022/09/19 11:35:43 INFO|---------|{'beta_mult': 0.95, 'booster_mult': 0.5, 'vir_mult': 1, 'fit_batch': '4'}: Running forward sim\n",
      "2022/09/19 11:35:44 INFO|--------|{'beta_mult': 0.95, 'booster_mult': 0.5, 'vir_mult': 2.38, 'fit_batch': '4'}: Transmission control fit 5/5 completed in 16.867335500000024 seconds: {865: {'co': 0.8422800686511566}, 879: {'co': 0.8316343343443077}, 893: {'co': 0.8298290972305365}, 907: {'co': 0.8370725151068286}, 921: {'co': 0.8369348052916197}, 935: {'co': 0.8241006490732329}}\n",
      "2022/09/19 11:35:44 INFO|---------|{'beta_mult': 0.95, 'booster_mult': 0.5, 'vir_mult': 2.38, 'fit_batch': '4'}: Running forward sim\n",
      "2022/09/19 11:35:44 INFO|--------|{'beta_mult': 0.95, 'booster_mult': 0, 'vir_mult': 2.38, 'fit_batch': '4', 'run_type': 'fit'}: fitted TC: {0: {'co': 0.8306366865716341}, 14: {'co': 0.698195952820626}, 28: {'co': 0.5650437905410518}, 42: {'co': 1.2363018891185438e-15}, 56: {'co': 0.6966529100887137}, 70: {'co': 0.8332726903091638}, 84: {'co': 0.8296248539147445}, 98: {'co': 0.8316924950725628}, 112: {'co': 0.8774896861272652}, 126: {'co': 0.8243044312292909}, 140: {'co': 0.7604527585594816}, 154: {'co': 0.6712880198002112}, 168: {'co': 0.8430551350662076}, 182: {'co': 0.7826363491018719}, 196: {'co': 0.8191511062080898}, 210: {'co': 0.7726071132590828}, 224: {'co': 0.7713215726245787}, 238: {'co': 0.7185439635321001}, 252: {'co': 0.7220971480014075}, 266: {'co': 0.6850776840450525}, 280: {'co': 0.7198378028999177}, 294: {'co': 0.7589492742542242}, 308: {'co': 0.8220448705663365}, 322: {'co': 0.8119733884357985}, 336: {'co': 0.7821365886735826}, 350: {'co': 0.7958739060541818}, 364: {'co': 0.8019360887654008}, 378: {'co': 0.746456779184456}, 392: {'co': 0.7757315545700125}, 406: {'co': 0.7104267962185676}, 420: {'co': 0.7134426688644764}, 434: {'co': 0.6840712888293683}, 448: {'co': 0.7352224941559411}, 462: {'co': 0.8081582889337914}, 476: {'co': 0.7872692255768439}, 490: {'co': 0.8262347561657264}, 504: {'co': 0.7818331304673305}, 518: {'co': 0.7754467512044924}, 532: {'co': 0.7512544747619323}, 546: {'co': 0.705550286968481}, 560: {'co': 0.7337035999683909}, 574: {'co': 0.7422167225736127}, 588: {'co': 0.7826184049874935}, 602: {'co': 0.7583315110679274}, 616: {'co': 0.7100585894884839}, 630: {'co': 0.7281020313917284}, 644: {'co': 0.7012316330686956}, 658: {'co': 0.7414146891025136}, 672: {'co': 0.7470585827634717}, 686: {'co': 0.7243390189090777}, 700: {'co': 0.6429877724526805}, 714: {'co': 0.7943465897205526}, 728: {'co': 0.830370567473605}, 742: {'co': 0.8498220549815303}, 767: {'co': 0.8562260979797671}, 781: {'co': 0.8605403634198211}, 795: {'co': 0.8402647526382448}, 809: {'co': 0.835909849104015}, 823: {'co': 0.8336247986917281}, 837: {'co': 0.8310706502961795}, 851: {'co': 0.8146364809921849}, 865: {'co': 0.8422800686511566}, 879: {'co': 0.8316343343443077}, 893: {'co': 0.8298290972305365}, 907: {'co': 0.8370725151068286}, 921: {'co': 0.8369348052916197}, 935: {'co': 0.8241006639743941}}\n",
      "2022/09/19 11:35:44 INFO|---------|{'beta_mult': 0.95, 'booster_mult': 0, 'vir_mult': 2.38, 'fit_batch': '4', 'run_type': 'fit'}: Running forward sim\n",
      "2022/09/19 11:35:45 INFO|--------|{'beta_mult': 0.95, 'booster_mult': 1, 'vir_mult': 1, 'fit_batch': '4', 'run_type': 'fit'}: fitted TC: {0: {'co': 0.8306366865716341}, 14: {'co': 0.698195952820626}, 28: {'co': 0.5650437905410518}, 42: {'co': 1.2363018891185438e-15}, 56: {'co': 0.6966529100887137}, 70: {'co': 0.8332726903091638}, 84: {'co': 0.8296248539147445}, 98: {'co': 0.8316924950725628}, 112: {'co': 0.8774896861272652}, 126: {'co': 0.8243044312292909}, 140: {'co': 0.7604527585594816}, 154: {'co': 0.6712880198002112}, 168: {'co': 0.8430551350662076}, 182: {'co': 0.7826363491018719}, 196: {'co': 0.8191511062080898}, 210: {'co': 0.7726071132590828}, 224: {'co': 0.7713215726245787}, 238: {'co': 0.7185439635321001}, 252: {'co': 0.7220971480014075}, 266: {'co': 0.6850776840450525}, 280: {'co': 0.7198378028999177}, 294: {'co': 0.7589492742542242}, 308: {'co': 0.8220448705663365}, 322: {'co': 0.8119733884357985}, 336: {'co': 0.7821365886735826}, 350: {'co': 0.7958739060541818}, 364: {'co': 0.8019360887654008}, 378: {'co': 0.746456779184456}, 392: {'co': 0.7757315545700125}, 406: {'co': 0.7104267962185676}, 420: {'co': 0.7134426688644764}, 434: {'co': 0.6840712888293683}, 448: {'co': 0.7352224941559411}, 462: {'co': 0.8081582889337914}, 476: {'co': 0.7872692255768439}, 490: {'co': 0.8262347561657264}, 504: {'co': 0.7818331304673305}, 518: {'co': 0.7754467512044924}, 532: {'co': 0.7512544747619323}, 546: {'co': 0.705550286968481}, 560: {'co': 0.7337035999683909}, 574: {'co': 0.7422167225736127}, 588: {'co': 0.7826184049874935}, 602: {'co': 0.7583315110679274}, 616: {'co': 0.7100585894884839}, 630: {'co': 0.7281020313917284}, 644: {'co': 0.7012316330686956}, 658: {'co': 0.7414146891025136}, 672: {'co': 0.7470585827634717}, 686: {'co': 0.7243390189090777}, 700: {'co': 0.6429877724526805}, 714: {'co': 0.7943465897205526}, 728: {'co': 0.830370567473605}, 742: {'co': 0.8498220549815303}, 767: {'co': 0.8562260979797671}, 781: {'co': 0.8605403634198211}, 795: {'co': 0.8402647526382448}, 809: {'co': 0.835909849104015}, 823: {'co': 0.8336247986917281}, 837: {'co': 0.8310706502961795}, 851: {'co': 0.8146364809921849}, 865: {'co': 0.8422800686511566}, 879: {'co': 0.8316343343443077}, 893: {'co': 0.8298290972305365}, 907: {'co': 0.8370725151068286}, 921: {'co': 0.8369348052916197}, 935: {'co': 0.8241006639743941}}\n",
      "2022/09/19 11:35:45 INFO|---------|{'beta_mult': 0.95, 'booster_mult': 1, 'vir_mult': 1, 'fit_batch': '4', 'run_type': 'fit'}: Running forward sim\n",
      "2022/09/19 11:35:45 INFO|--------|{'beta_mult': 0.95, 'booster_mult': 0.5, 'vir_mult': 1, 'fit_batch': '4', 'run_type': 'fit'}: fitted TC: {0: {'co': 0.8306366865716341}, 14: {'co': 0.698195952820626}, 28: {'co': 0.5650437905410518}, 42: {'co': 1.2363018891185438e-15}, 56: {'co': 0.6966529100887137}, 70: {'co': 0.8332726903091638}, 84: {'co': 0.8296248539147445}, 98: {'co': 0.8316924950725628}, 112: {'co': 0.8774896861272652}, 126: {'co': 0.8243044312292909}, 140: {'co': 0.7604527585594816}, 154: {'co': 0.6712880198002112}, 168: {'co': 0.8430551350662076}, 182: {'co': 0.7826363491018719}, 196: {'co': 0.8191511062080898}, 210: {'co': 0.7726071132590828}, 224: {'co': 0.7713215726245787}, 238: {'co': 0.7185439635321001}, 252: {'co': 0.7220971480014075}, 266: {'co': 0.6850776840450525}, 280: {'co': 0.7198378028999177}, 294: {'co': 0.7589492742542242}, 308: {'co': 0.8220448705663365}, 322: {'co': 0.8119733884357985}, 336: {'co': 0.7821365886735826}, 350: {'co': 0.7958739060541818}, 364: {'co': 0.8019360887654008}, 378: {'co': 0.746456779184456}, 392: {'co': 0.7757315545700125}, 406: {'co': 0.7104267962185676}, 420: {'co': 0.7134426688644764}, 434: {'co': 0.6840712888293683}, 448: {'co': 0.7352224941559411}, 462: {'co': 0.8081582889337914}, 476: {'co': 0.7872692255768439}, 490: {'co': 0.8262347561657264}, 504: {'co': 0.7818331304673305}, 518: {'co': 0.7754467512044924}, 532: {'co': 0.7512544747619323}, 546: {'co': 0.705550286968481}, 560: {'co': 0.7337035999683909}, 574: {'co': 0.7422167225736127}, 588: {'co': 0.7826184049874935}, 602: {'co': 0.7583315110679274}, 616: {'co': 0.7100585894884839}, 630: {'co': 0.7281020313917284}, 644: {'co': 0.7012316330686956}, 658: {'co': 0.7414146891025136}, 672: {'co': 0.7470585827634717}, 686: {'co': 0.7243390189090777}, 700: {'co': 0.6429877724526805}, 714: {'co': 0.7943465897205526}, 728: {'co': 0.830370567473605}, 742: {'co': 0.8498220549815303}, 767: {'co': 0.8562260979797671}, 781: {'co': 0.8605403634198211}, 795: {'co': 0.8402647526382448}, 809: {'co': 0.835909849104015}, 823: {'co': 0.8336247986917281}, 837: {'co': 0.8310706502961795}, 851: {'co': 0.8146364809921849}, 865: {'co': 0.8422800686511566}, 879: {'co': 0.8316343343443077}, 893: {'co': 0.8298290972305365}, 907: {'co': 0.8370725151068286}, 921: {'co': 0.8369348052916197}, 935: {'co': 0.8241006639743941}}\n",
      "2022/09/19 11:35:45 INFO|---------|{'beta_mult': 0.95, 'booster_mult': 0.5, 'vir_mult': 1, 'fit_batch': '4', 'run_type': 'fit'}: Running forward sim\n",
      "2022/09/19 11:35:46 INFO|--------|{'beta_mult': 0.95, 'booster_mult': 0.5, 'vir_mult': 2.38, 'fit_batch': '4', 'run_type': 'fit'}: fitted TC: {0: {'co': 0.8306366865716341}, 14: {'co': 0.698195952820626}, 28: {'co': 0.5650437905410518}, 42: {'co': 1.2363018891185438e-15}, 56: {'co': 0.6966529100887137}, 70: {'co': 0.8332726903091638}, 84: {'co': 0.8296248539147445}, 98: {'co': 0.8316924950725628}, 112: {'co': 0.8774896861272652}, 126: {'co': 0.8243044312292909}, 140: {'co': 0.7604527585594816}, 154: {'co': 0.6712880198002112}, 168: {'co': 0.8430551350662076}, 182: {'co': 0.7826363491018719}, 196: {'co': 0.8191511062080898}, 210: {'co': 0.7726071132590828}, 224: {'co': 0.7713215726245787}, 238: {'co': 0.7185439635321001}, 252: {'co': 0.7220971480014075}, 266: {'co': 0.6850776840450525}, 280: {'co': 0.7198378028999177}, 294: {'co': 0.7589492742542242}, 308: {'co': 0.8220448705663365}, 322: {'co': 0.8119733884357985}, 336: {'co': 0.7821365886735826}, 350: {'co': 0.7958739060541818}, 364: {'co': 0.8019360887654008}, 378: {'co': 0.746456779184456}, 392: {'co': 0.7757315545700125}, 406: {'co': 0.7104267962185676}, 420: {'co': 0.7134426688644764}, 434: {'co': 0.6840712888293683}, 448: {'co': 0.7352224941559411}, 462: {'co': 0.8081582889337914}, 476: {'co': 0.7872692255768439}, 490: {'co': 0.8262347561657264}, 504: {'co': 0.7818331304673305}, 518: {'co': 0.7754467512044924}, 532: {'co': 0.7512544747619323}, 546: {'co': 0.705550286968481}, 560: {'co': 0.7337035999683909}, 574: {'co': 0.7422167225736127}, 588: {'co': 0.7826184049874935}, 602: {'co': 0.7583315110679274}, 616: {'co': 0.7100585894884839}, 630: {'co': 0.7281020313917284}, 644: {'co': 0.7012316330686956}, 658: {'co': 0.7414146891025136}, 672: {'co': 0.7470585827634717}, 686: {'co': 0.7243390189090777}, 700: {'co': 0.6429877724526805}, 714: {'co': 0.7943465897205526}, 728: {'co': 0.830370567473605}, 742: {'co': 0.8498220549815303}, 767: {'co': 0.8562260979797671}, 781: {'co': 0.8605403634198211}, 795: {'co': 0.8402647526382448}, 809: {'co': 0.835909849104015}, 823: {'co': 0.8336247986917281}, 837: {'co': 0.8310706502961795}, 851: {'co': 0.8146364809921849}, 865: {'co': 0.8422800686511566}, 879: {'co': 0.8316343343443077}, 893: {'co': 0.8298290972305365}, 907: {'co': 0.8370725151068286}, 921: {'co': 0.8369348052916197}, 935: {'co': 0.8241006639743941}}\n",
      "2022/09/19 11:35:46 INFO|---------|{'beta_mult': 0.95, 'booster_mult': 0.5, 'vir_mult': 2.38, 'fit_batch': '4', 'run_type': 'fit'}: Running forward sim\n",
      "2022/09/19 11:35:46 INFO|============================================================\n"
     ]
    },
    {
     "name": "stderr",
     "output_type": "stream",
     "text": [
      "2022/09/19 11:35:47 INFO|============================================================\n",
      "2022/09/19 11:35:48 INFO|-----------|{'beta_mult': 1.0, 'booster_mult': 0, 'vir_mult': 1} Retrieving vaccinations data\n",
      "2022/09/19 11:35:48 INFO|============================================================\n",
      "2022/09/19 11:35:49 INFO|-----------|{'beta_mult': 1.0, 'booster_mult': 0, 'vir_mult': 2.38} Retrieving vaccinations data\n",
      "2022/09/19 11:35:50 INFO|============================================================\n",
      "2022/09/19 11:35:51 INFO|-----------|{'beta_mult': 1.0, 'booster_mult': 0.5, 'vir_mult': 1} Retrieving vaccinations data\n",
      "2022/09/19 11:35:51 INFO|-----------|{'beta_mult': 1.0, 'booster_mult': 0, 'vir_mult': 2.38} Constructing vaccination projections\n",
      "2022/09/19 11:35:51 INFO|============================================================\n",
      "2022/09/19 11:35:52 INFO|-----------|{'beta_mult': 1.0, 'booster_mult': 0.5, 'vir_mult': 2.38} Retrieving vaccinations data\n",
      "2022/09/19 11:35:52 INFO|-----------|{'beta_mult': 1.0, 'booster_mult': 0, 'vir_mult': 1} Constructing vaccination projections\n",
      "2022/09/19 11:35:52 INFO|-----------|{'beta_mult': 1.0, 'booster_mult': 0.5, 'vir_mult': 1} Constructing vaccination projections\n",
      "2022/09/19 11:35:53 INFO|-----------|{'beta_mult': 1.0, 'booster_mult': 1, 'vir_mult': 1} Retrieving vaccinations data\n",
      "2022/09/19 11:35:53 INFO|============================================================\n",
      "2022/09/19 11:35:53 INFO|-----------|{'beta_mult': 1.0, 'booster_mult': 0, 'vir_mult': 2.38} Retrieving hospitalizations data\n",
      "2022/09/19 11:35:53 INFO|-----------|{'beta_mult': 1.0, 'booster_mult': 0.5, 'vir_mult': 2.38} Constructing vaccination projections\n",
      "2022/09/19 11:35:54 INFO|-----------|{'beta_mult': 1.0, 'booster_mult': 0, 'vir_mult': 1} Retrieving hospitalizations data\n",
      "2022/09/19 11:35:54 INFO|-----------|{'beta_mult': 1.0, 'booster_mult': 1, 'vir_mult': 1} Constructing vaccination projections\n",
      "2022/09/19 11:35:54 INFO|-----------|{'beta_mult': 1.0, 'booster_mult': 1, 'vir_mult': 2.38} Retrieving vaccinations data\n",
      "2022/09/19 11:35:55 INFO|-----------|{'beta_mult': 1.0, 'booster_mult': 0.5, 'vir_mult': 1} Retrieving hospitalizations data\n",
      "2022/09/19 11:35:55 INFO|--------|{'beta_mult': 1.0, 'booster_mult': 0, 'vir_mult': 2.38} Prepping Model\n",
      "2022/09/19 11:35:55 INFO|---------|{'beta_mult': 1.0, 'booster_mult': 0, 'vir_mult': 2.38} Prepping Model\n",
      "2022/09/19 11:35:56 INFO|-----------|{'beta_mult': 1.0, 'booster_mult': 0.5, 'vir_mult': 2.38} Retrieving hospitalizations data\n",
      "2022/09/19 11:35:56 INFO|--------|{'beta_mult': 1.0, 'booster_mult': 0, 'vir_mult': 1} Prepping Model\n",
      "2022/09/19 11:35:56 INFO|---------|{'beta_mult': 1.0, 'booster_mult': 0, 'vir_mult': 1} Prepping Model\n",
      "2022/09/19 11:35:56 INFO|-----------|{'beta_mult': 1.0, 'booster_mult': 1, 'vir_mult': 2.38} Constructing vaccination projections\n",
      "2022/09/19 11:35:56 INFO|--------|{'beta_mult': 1.0, 'booster_mult': 0.5, 'vir_mult': 1} Prepping Model\n",
      "2022/09/19 11:35:56 INFO|---------|{'beta_mult': 1.0, 'booster_mult': 0.5, 'vir_mult': 1} Prepping Model\n",
      "2022/09/19 11:35:57 INFO|-----------|{'beta_mult': 1.0, 'booster_mult': 1, 'vir_mult': 1} Retrieving hospitalizations data\n",
      "2022/09/19 11:35:57 INFO|--------|{'beta_mult': 1.0, 'booster_mult': 0.5, 'vir_mult': 2.38} Prepping Model\n",
      "2022/09/19 11:35:57 INFO|---------|{'beta_mult': 1.0, 'booster_mult': 0.5, 'vir_mult': 2.38} Prepping Model\n",
      "2022/09/19 11:35:58 INFO|--------|{'beta_mult': 1.0, 'booster_mult': 1, 'vir_mult': 1} Prepping Model\n",
      "2022/09/19 11:35:58 INFO|---------|{'beta_mult': 1.0, 'booster_mult': 1, 'vir_mult': 1} Prepping Model\n",
      "2022/09/19 11:35:58 INFO|-----------|{'beta_mult': 1.0, 'booster_mult': 1, 'vir_mult': 2.38} Retrieving hospitalizations data\n",
      "2022/09/19 11:36:01 INFO|--------|{'beta_mult': 1.0, 'booster_mult': 1, 'vir_mult': 2.38} Prepping Model\n",
      "2022/09/19 11:36:01 INFO|---------|{'beta_mult': 1.0, 'booster_mult': 1, 'vir_mult': 2.38} Prepping Model\n",
      "2022/09/19 11:37:44 INFO|--------|{'beta_mult': 1.0, 'booster_mult': 0, 'vir_mult': 2.38} Model prepped for fitting in 109.04991199999998 seconds.\n",
      "2022/09/19 11:37:44 INFO|--------|{'beta_mult': 1.0, 'booster_mult': 0, 'vir_mult': 2.38} Solving Model ODE\n",
      "2022/09/19 11:37:46 INFO|--------|{'beta_mult': 1.0, 'booster_mult': 0, 'vir_mult': 1} Model prepped for fitting in 109.91762145800001 seconds.\n",
      "2022/09/19 11:37:46 INFO|--------|{'beta_mult': 1.0, 'booster_mult': 0, 'vir_mult': 1} Solving Model ODE\n",
      "2022/09/19 11:37:46 INFO|--------|{'beta_mult': 1.0, 'booster_mult': 0.5, 'vir_mult': 1} Model prepped for fitting in 109.88995283300002 seconds.\n",
      "2022/09/19 11:37:46 INFO|--------|{'beta_mult': 1.0, 'booster_mult': 0.5, 'vir_mult': 1} Solving Model ODE\n",
      "2022/09/19 11:37:48 INFO|--------|{'beta_mult': 1.0, 'booster_mult': 0.5, 'vir_mult': 2.38} Model prepped for fitting in 110.81729329200002 seconds.\n",
      "2022/09/19 11:37:48 INFO|--------|{'beta_mult': 1.0, 'booster_mult': 0.5, 'vir_mult': 2.38} Solving Model ODE\n",
      "2022/09/19 11:37:48 INFO|--------|{'beta_mult': 1.0, 'booster_mult': 1, 'vir_mult': 1} Model prepped for fitting in 110.160242084 seconds.\n",
      "2022/09/19 11:37:48 INFO|--------|{'beta_mult': 1.0, 'booster_mult': 1, 'vir_mult': 1} Solving Model ODE\n",
      "2022/09/19 11:37:49 INFO|--------|{'beta_mult': 1.0, 'booster_mult': 0, 'vir_mult': 2.38} Model solved in 5.231606375000013 seconds.\n",
      "2022/09/19 11:37:49 INFO|--------|{'beta_mult': 1.0, 'booster_mult': 0, 'vir_mult': 2.38} Will fit 5 times\n",
      "2022/09/19 11:37:51 INFO|--------|{'beta_mult': 1.0, 'booster_mult': 0, 'vir_mult': 1} Model solved in 5.370413957999972 seconds.\n",
      "2022/09/19 11:37:51 INFO|--------|{'beta_mult': 1.0, 'booster_mult': 0, 'vir_mult': 1} Will fit 5 times\n",
      "2022/09/19 11:37:52 INFO|--------|{'beta_mult': 1.0, 'booster_mult': 1, 'vir_mult': 2.38} Model prepped for fitting in 110.89489150000003 seconds.\n",
      "2022/09/19 11:37:52 INFO|--------|{'beta_mult': 1.0, 'booster_mult': 1, 'vir_mult': 2.38} Solving Model ODE\n",
      "2022/09/19 11:37:52 INFO|--------|{'beta_mult': 1.0, 'booster_mult': 0.5, 'vir_mult': 1} Model solved in 5.620129290999955 seconds.\n",
      "2022/09/19 11:37:52 INFO|--------|{'beta_mult': 1.0, 'booster_mult': 0.5, 'vir_mult': 1} Will fit 5 times\n",
      "2022/09/19 11:37:53 INFO|--------|{'beta_mult': 1.0, 'booster_mult': 0.5, 'vir_mult': 2.38} Model solved in 5.344621958999994 seconds.\n",
      "2022/09/19 11:37:53 INFO|--------|{'beta_mult': 1.0, 'booster_mult': 0.5, 'vir_mult': 2.38} Will fit 5 times\n",
      "2022/09/19 11:37:54 INFO|--------|{'beta_mult': 1.0, 'booster_mult': 1, 'vir_mult': 1} Model solved in 5.262513124999998 seconds.\n",
      "2022/09/19 11:37:54 INFO|--------|{'beta_mult': 1.0, 'booster_mult': 1, 'vir_mult': 1} Will fit 5 times\n",
      "2022/09/19 11:37:57 INFO|--------|{'beta_mult': 1.0, 'booster_mult': 1, 'vir_mult': 2.38} Model solved in 5.115450124999995 seconds.\n",
      "2022/09/19 11:37:57 INFO|--------|{'beta_mult': 1.0, 'booster_mult': 1, 'vir_mult': 2.38} Will fit 5 times\n",
      "2022/09/19 11:38:09 INFO|--------|{'beta_mult': 1.0, 'booster_mult': 0, 'vir_mult': 2.38, 'fit_batch': '0'}: Transmission control fit 1/5 completed in 19.985569333 seconds: {767: {'co': 0.8562269696079166}, 781: {'co': 0.8605369432492359}, 795: {'co': 0.8404211849332903}, 809: {'co': 0.8348618039062753}, 823: {'co': 0.8367194891015349}, 837: {'co': 0.8256042179341544}}\n",
      "2022/09/19 11:38:09 INFO|---------|{'beta_mult': 1.0, 'booster_mult': 0, 'vir_mult': 2.38, 'fit_batch': '0'}: Running forward sim\n",
      "2022/09/19 11:38:11 INFO|--------|{'beta_mult': 1.0, 'booster_mult': 0, 'vir_mult': 1, 'fit_batch': '0'}: Transmission control fit 1/5 completed in 19.838550709000003 seconds: {767: {'co': 0.8562269696079166}, 781: {'co': 0.8605369432492359}, 795: {'co': 0.8404211849332903}, 809: {'co': 0.8348618039062753}, 823: {'co': 0.8367194891015349}, 837: {'co': 0.8256042179341544}}\n",
      "2022/09/19 11:38:11 INFO|---------|{'beta_mult': 1.0, 'booster_mult': 0, 'vir_mult': 1, 'fit_batch': '0'}: Running forward sim\n",
      "2022/09/19 11:38:12 INFO|--------|{'beta_mult': 1.0, 'booster_mult': 0.5, 'vir_mult': 1, 'fit_batch': '0'}: Transmission control fit 1/5 completed in 19.910298082999986 seconds: {767: {'co': 0.8562269696079166}, 781: {'co': 0.8605369432492359}, 795: {'co': 0.8404211849332903}, 809: {'co': 0.8348618039062753}, 823: {'co': 0.8367194891015349}, 837: {'co': 0.8256042179341544}}\n",
      "2022/09/19 11:38:12 INFO|---------|{'beta_mult': 1.0, 'booster_mult': 0.5, 'vir_mult': 1, 'fit_batch': '0'}: Running forward sim\n"
     ]
    },
    {
     "name": "stderr",
     "output_type": "stream",
     "text": [
      "2022/09/19 11:38:14 INFO|--------|{'beta_mult': 1.0, 'booster_mult': 1, 'vir_mult': 1, 'fit_batch': '0'}: Transmission control fit 1/5 completed in 20.062765542000022 seconds: {767: {'co': 0.8562269696079166}, 781: {'co': 0.8605369432492359}, 795: {'co': 0.8404211849332903}, 809: {'co': 0.8348618039062753}, 823: {'co': 0.8367194891015349}, 837: {'co': 0.8256042179341544}}\n",
      "2022/09/19 11:38:14 INFO|---------|{'beta_mult': 1.0, 'booster_mult': 1, 'vir_mult': 1, 'fit_batch': '0'}: Running forward sim\n",
      "2022/09/19 11:38:14 INFO|--------|{'beta_mult': 1.0, 'booster_mult': 0.5, 'vir_mult': 2.38, 'fit_batch': '0'}: Transmission control fit 1/5 completed in 20.69397587499998 seconds: {767: {'co': 0.8562269696079166}, 781: {'co': 0.8605369432492359}, 795: {'co': 0.8404211849332903}, 809: {'co': 0.8348618039062753}, 823: {'co': 0.8367194891015349}, 837: {'co': 0.8256042179341544}}\n",
      "2022/09/19 11:38:14 INFO|---------|{'beta_mult': 1.0, 'booster_mult': 0.5, 'vir_mult': 2.38, 'fit_batch': '0'}: Running forward sim\n",
      "2022/09/19 11:38:17 INFO|--------|{'beta_mult': 1.0, 'booster_mult': 1, 'vir_mult': 2.38, 'fit_batch': '0'}: Transmission control fit 1/5 completed in 20.115937667000026 seconds: {767: {'co': 0.8562269696079166}, 781: {'co': 0.8605369432492359}, 795: {'co': 0.8404211849332903}, 809: {'co': 0.8348618039062753}, 823: {'co': 0.8367194891015349}, 837: {'co': 0.8256042179341544}}\n",
      "2022/09/19 11:38:17 INFO|---------|{'beta_mult': 1.0, 'booster_mult': 1, 'vir_mult': 2.38, 'fit_batch': '0'}: Running forward sim\n",
      "2022/09/19 11:38:31 INFO|--------|{'beta_mult': 1.0, 'booster_mult': 0, 'vir_mult': 2.38, 'fit_batch': '1'}: Transmission control fit 2/5 completed in 19.42252216700001 seconds: {795: {'co': 0.8402982188948594}, 809: {'co': 0.8359288304859632}, 823: {'co': 0.8340767208998926}, 837: {'co': 0.8320064190199469}, 851: {'co': 0.8187518528816522}, 865: {'co': 0.8480569171719896}}\n",
      "2022/09/19 11:38:31 INFO|---------|{'beta_mult': 1.0, 'booster_mult': 0, 'vir_mult': 2.38, 'fit_batch': '1'}: Running forward sim\n",
      "2022/09/19 11:38:32 INFO|--------|{'beta_mult': 1.0, 'booster_mult': 0, 'vir_mult': 1, 'fit_batch': '1'}: Transmission control fit 2/5 completed in 19.201915874999997 seconds: {795: {'co': 0.8402982188948594}, 809: {'co': 0.8359288304859632}, 823: {'co': 0.8340767208998926}, 837: {'co': 0.8320064190199469}, 851: {'co': 0.8187518528816522}, 865: {'co': 0.8480569171719896}}\n",
      "2022/09/19 11:38:32 INFO|---------|{'beta_mult': 1.0, 'booster_mult': 0, 'vir_mult': 1, 'fit_batch': '1'}: Running forward sim\n",
      "2022/09/19 11:38:33 INFO|--------|{'beta_mult': 1.0, 'booster_mult': 0.5, 'vir_mult': 1, 'fit_batch': '1'}: Transmission control fit 2/5 completed in 19.092729792 seconds: {795: {'co': 0.8402982188948594}, 809: {'co': 0.8359288304859632}, 823: {'co': 0.8340767208998926}, 837: {'co': 0.8320064190199469}, 851: {'co': 0.8187518528816522}, 865: {'co': 0.8480569171719896}}\n",
      "2022/09/19 11:38:33 INFO|---------|{'beta_mult': 1.0, 'booster_mult': 0.5, 'vir_mult': 1, 'fit_batch': '1'}: Running forward sim\n",
      "2022/09/19 11:38:36 INFO|--------|{'beta_mult': 1.0, 'booster_mult': 1, 'vir_mult': 1, 'fit_batch': '1'}: Transmission control fit 2/5 completed in 20.068705249999994 seconds: {795: {'co': 0.8402982188948594}, 809: {'co': 0.8359288304859632}, 823: {'co': 0.8340767208998926}, 837: {'co': 0.8320064190199469}, 851: {'co': 0.8187518528816522}, 865: {'co': 0.8480569171719896}}\n",
      "2022/09/19 11:38:36 INFO|---------|{'beta_mult': 1.0, 'booster_mult': 1, 'vir_mult': 1, 'fit_batch': '1'}: Running forward sim\n",
      "2022/09/19 11:38:36 INFO|--------|{'beta_mult': 1.0, 'booster_mult': 0.5, 'vir_mult': 2.38, 'fit_batch': '1'}: Transmission control fit 2/5 completed in 20.192879167 seconds: {795: {'co': 0.8402982188948594}, 809: {'co': 0.8359288304859632}, 823: {'co': 0.8340767208998926}, 837: {'co': 0.8320064190199469}, 851: {'co': 0.8187518528816522}, 865: {'co': 0.8480569171719896}}\n",
      "2022/09/19 11:38:36 INFO|---------|{'beta_mult': 1.0, 'booster_mult': 0.5, 'vir_mult': 2.38, 'fit_batch': '1'}: Running forward sim\n",
      "2022/09/19 11:38:39 INFO|--------|{'beta_mult': 1.0, 'booster_mult': 1, 'vir_mult': 2.38, 'fit_batch': '1'}: Transmission control fit 2/5 completed in 19.575672750000024 seconds: {795: {'co': 0.8402982188948594}, 809: {'co': 0.8359288304859632}, 823: {'co': 0.8340767208998926}, 837: {'co': 0.8320064190199469}, 851: {'co': 0.8187518528816522}, 865: {'co': 0.8480569171719896}}\n",
      "2022/09/19 11:38:39 INFO|---------|{'beta_mult': 1.0, 'booster_mult': 1, 'vir_mult': 2.38, 'fit_batch': '1'}: Running forward sim\n",
      "2022/09/19 11:38:49 INFO|--------|{'beta_mult': 1.0, 'booster_mult': 0, 'vir_mult': 2.38, 'fit_batch': '2'}: Transmission control fit 3/5 completed in 16.172464750000017 seconds: {823: {'co': 0.8339973545943864}, 837: {'co': 0.8321994381288217}, 851: {'co': 0.8181042994474562}, 865: {'co': 0.8502748626138735}, 879: {'co': 0.8418353312686717}, 893: {'co': 0.8467250768806307}}\n",
      "2022/09/19 11:38:49 INFO|---------|{'beta_mult': 1.0, 'booster_mult': 0, 'vir_mult': 2.38, 'fit_batch': '2'}: Running forward sim\n",
      "2022/09/19 11:38:50 INFO|--------|{'beta_mult': 1.0, 'booster_mult': 0, 'vir_mult': 1, 'fit_batch': '2'}: Transmission control fit 3/5 completed in 15.944756999999981 seconds: {823: {'co': 0.8339973545943864}, 837: {'co': 0.8321994381288217}, 851: {'co': 0.8181042994474562}, 865: {'co': 0.8502748626138735}, 879: {'co': 0.8418353312686717}, 893: {'co': 0.8467250768806307}}\n",
      "2022/09/19 11:38:50 INFO|---------|{'beta_mult': 1.0, 'booster_mult': 0, 'vir_mult': 1, 'fit_batch': '2'}: Running forward sim\n",
      "2022/09/19 11:38:51 INFO|--------|{'beta_mult': 1.0, 'booster_mult': 0.5, 'vir_mult': 1, 'fit_batch': '2'}: Transmission control fit 3/5 completed in 15.712347292000004 seconds: {823: {'co': 0.8339973545943864}, 837: {'co': 0.8321994381288217}, 851: {'co': 0.8181042994474562}, 865: {'co': 0.8502748626138735}, 879: {'co': 0.8418353312686717}, 893: {'co': 0.8467250768806307}}\n",
      "2022/09/19 11:38:51 INFO|---------|{'beta_mult': 1.0, 'booster_mult': 0.5, 'vir_mult': 1, 'fit_batch': '2'}: Running forward sim\n",
      "2022/09/19 11:38:53 INFO|--------|{'beta_mult': 1.0, 'booster_mult': 1, 'vir_mult': 1, 'fit_batch': '2'}: Transmission control fit 3/5 completed in 15.743359708000014 seconds: {823: {'co': 0.8339973545943864}, 837: {'co': 0.8321994381288217}, 851: {'co': 0.8181042994474562}, 865: {'co': 0.8502748626138735}, 879: {'co': 0.8418353312686717}, 893: {'co': 0.8467250768806307}}\n",
      "2022/09/19 11:38:53 INFO|---------|{'beta_mult': 1.0, 'booster_mult': 1, 'vir_mult': 1, 'fit_batch': '2'}: Running forward sim\n",
      "2022/09/19 11:38:54 INFO|--------|{'beta_mult': 1.0, 'booster_mult': 0.5, 'vir_mult': 2.38, 'fit_batch': '2'}: Transmission control fit 3/5 completed in 15.857964083000013 seconds: {823: {'co': 0.8339973545943864}, 837: {'co': 0.8321994381288217}, 851: {'co': 0.8181042994474562}, 865: {'co': 0.8502748626138735}, 879: {'co': 0.8418353312686717}, 893: {'co': 0.8467250768806307}}\n",
      "2022/09/19 11:38:54 INFO|---------|{'beta_mult': 1.0, 'booster_mult': 0.5, 'vir_mult': 2.38, 'fit_batch': '2'}: Running forward sim\n",
      "2022/09/19 11:38:56 INFO|--------|{'beta_mult': 1.0, 'booster_mult': 1, 'vir_mult': 2.38, 'fit_batch': '2'}: Transmission control fit 3/5 completed in 15.939302333 seconds: {823: {'co': 0.8339973545943864}, 837: {'co': 0.8321994381288217}, 851: {'co': 0.8181042994474562}, 865: {'co': 0.8502748626138735}, 879: {'co': 0.8418353312686717}, 893: {'co': 0.8467250768806307}}\n",
      "2022/09/19 11:38:56 INFO|---------|{'beta_mult': 1.0, 'booster_mult': 1, 'vir_mult': 2.38, 'fit_batch': '2'}: Running forward sim\n",
      "2022/09/19 11:39:04 INFO|--------|{'beta_mult': 1.0, 'booster_mult': 0, 'vir_mult': 2.38, 'fit_batch': '3'}: Transmission control fit 4/5 completed in 13.594725667000034 seconds: {851: {'co': 0.8184498810655606}, 865: {'co': 0.8497886309015611}, 879: {'co': 0.8430035800208339}, 893: {'co': 0.8432204334526264}, 907: {'co': 0.8503324903144429}, 921: {'co': 0.844186892191025}}\n",
      "2022/09/19 11:39:04 INFO|---------|{'beta_mult': 1.0, 'booster_mult': 0, 'vir_mult': 2.38, 'fit_batch': '3'}: Running forward sim\n",
      "2022/09/19 11:39:06 INFO|--------|{'beta_mult': 1.0, 'booster_mult': 0, 'vir_mult': 1, 'fit_batch': '3'}: Transmission control fit 4/5 completed in 13.71874616599996 seconds: {851: {'co': 0.8184498810655606}, 865: {'co': 0.8497886309015611}, 879: {'co': 0.8430035800208339}, 893: {'co': 0.8432204334526264}, 907: {'co': 0.8503324903144429}, 921: {'co': 0.844186892191025}}\n",
      "2022/09/19 11:39:06 INFO|---------|{'beta_mult': 1.0, 'booster_mult': 0, 'vir_mult': 1, 'fit_batch': '3'}: Running forward sim\n"
     ]
    },
    {
     "name": "stderr",
     "output_type": "stream",
     "text": [
      "2022/09/19 11:39:07 INFO|--------|{'beta_mult': 1.0, 'booster_mult': 0.5, 'vir_mult': 1, 'fit_batch': '3'}: Transmission control fit 4/5 completed in 13.820936874999973 seconds: {851: {'co': 0.8184498810655606}, 865: {'co': 0.8497886309015611}, 879: {'co': 0.8430035800208339}, 893: {'co': 0.8432204334526264}, 907: {'co': 0.8503324903144429}, 921: {'co': 0.844186892191025}}\n",
      "2022/09/19 11:39:07 INFO|---------|{'beta_mult': 1.0, 'booster_mult': 0.5, 'vir_mult': 1, 'fit_batch': '3'}: Running forward sim\n",
      "2022/09/19 11:39:09 INFO|--------|{'beta_mult': 1.0, 'booster_mult': 1, 'vir_mult': 1, 'fit_batch': '3'}: Transmission control fit 4/5 completed in 13.676677083000016 seconds: {851: {'co': 0.8184498810655606}, 865: {'co': 0.8497886309015611}, 879: {'co': 0.8430035800208339}, 893: {'co': 0.8432204334526264}, 907: {'co': 0.8503324903144429}, 921: {'co': 0.844186892191025}}\n",
      "2022/09/19 11:39:09 INFO|---------|{'beta_mult': 1.0, 'booster_mult': 1, 'vir_mult': 1, 'fit_batch': '3'}: Running forward sim\n",
      "2022/09/19 11:39:10 INFO|--------|{'beta_mult': 1.0, 'booster_mult': 0.5, 'vir_mult': 2.38, 'fit_batch': '3'}: Transmission control fit 4/5 completed in 13.778417041000012 seconds: {851: {'co': 0.8184498810655606}, 865: {'co': 0.8497886309015611}, 879: {'co': 0.8430035800208339}, 893: {'co': 0.8432204334526264}, 907: {'co': 0.8503324903144429}, 921: {'co': 0.844186892191025}}\n",
      "2022/09/19 11:39:10 INFO|---------|{'beta_mult': 1.0, 'booster_mult': 0.5, 'vir_mult': 2.38, 'fit_batch': '3'}: Running forward sim\n",
      "2022/09/19 11:39:12 INFO|--------|{'beta_mult': 1.0, 'booster_mult': 1, 'vir_mult': 2.38, 'fit_batch': '3'}: Transmission control fit 4/5 completed in 13.496439542000019 seconds: {851: {'co': 0.8184498810655606}, 865: {'co': 0.8497886309015611}, 879: {'co': 0.8430035800208339}, 893: {'co': 0.8432204334526264}, 907: {'co': 0.8503324903144429}, 921: {'co': 0.844186892191025}}\n",
      "2022/09/19 11:39:12 INFO|---------|{'beta_mult': 1.0, 'booster_mult': 1, 'vir_mult': 2.38, 'fit_batch': '3'}: Running forward sim\n",
      "2022/09/19 11:39:23 INFO|--------|{'beta_mult': 1.0, 'booster_mult': 0, 'vir_mult': 2.38, 'fit_batch': '4'}: Transmission control fit 5/5 completed in 17.49402437499998 seconds: {865: {'co': 0.8492915656246428}, 879: {'co': 0.843169591271669}, 893: {'co': 0.8434126806926042}, 907: {'co': 0.8496108612586483}, 921: {'co': 0.8485907694500517}, 935: {'co': 0.8343140029662859}}\n",
      "2022/09/19 11:39:23 INFO|---------|{'beta_mult': 1.0, 'booster_mult': 0, 'vir_mult': 2.38, 'fit_batch': '4'}: Running forward sim\n",
      "2022/09/19 11:39:25 INFO|--------|{'beta_mult': 1.0, 'booster_mult': 0, 'vir_mult': 1, 'fit_batch': '4'}: Transmission control fit 5/5 completed in 17.463310500000034 seconds: {865: {'co': 0.8492915656246428}, 879: {'co': 0.843169591271669}, 893: {'co': 0.8434126806926042}, 907: {'co': 0.8496108612586483}, 921: {'co': 0.8485907694500517}, 935: {'co': 0.8343140029662859}}\n",
      "2022/09/19 11:39:25 INFO|---------|{'beta_mult': 1.0, 'booster_mult': 0, 'vir_mult': 1, 'fit_batch': '4'}: Running forward sim\n",
      "2022/09/19 11:39:25 INFO|--------|{'beta_mult': 1.0, 'booster_mult': 0, 'vir_mult': 2.38, 'fit_batch': '4', 'run_type': 'fit'}: fitted TC: {0: {'co': 0.8306366865716341}, 14: {'co': 0.698195952820626}, 28: {'co': 0.5650437905410518}, 42: {'co': 1.2363018891185438e-15}, 56: {'co': 0.6966529100887137}, 70: {'co': 0.8332726903091638}, 84: {'co': 0.8296248539147445}, 98: {'co': 0.8316924950725628}, 112: {'co': 0.8774896861272652}, 126: {'co': 0.8243044312292909}, 140: {'co': 0.7604527585594816}, 154: {'co': 0.6712880198002112}, 168: {'co': 0.8430551350662076}, 182: {'co': 0.7826363491018719}, 196: {'co': 0.8191511062080898}, 210: {'co': 0.7726071132590828}, 224: {'co': 0.7713215726245787}, 238: {'co': 0.7185439635321001}, 252: {'co': 0.7220971480014075}, 266: {'co': 0.6850776840450525}, 280: {'co': 0.7198378028999177}, 294: {'co': 0.7589492742542242}, 308: {'co': 0.8220448705663365}, 322: {'co': 0.8119733884357985}, 336: {'co': 0.7821365886735826}, 350: {'co': 0.7958739060541818}, 364: {'co': 0.8019360887654008}, 378: {'co': 0.746456779184456}, 392: {'co': 0.7757315545700125}, 406: {'co': 0.7104267962185676}, 420: {'co': 0.7134426688644764}, 434: {'co': 0.6840712888293683}, 448: {'co': 0.7352224941559411}, 462: {'co': 0.8081582889337914}, 476: {'co': 0.7872692255768439}, 490: {'co': 0.8262347561657264}, 504: {'co': 0.7818331304673305}, 518: {'co': 0.7754467512044924}, 532: {'co': 0.7512544747619323}, 546: {'co': 0.705550286968481}, 560: {'co': 0.7337035999683909}, 574: {'co': 0.7422167225736127}, 588: {'co': 0.7826184049874935}, 602: {'co': 0.7583315110679274}, 616: {'co': 0.7100585894884839}, 630: {'co': 0.7281020313917284}, 644: {'co': 0.7012316330686956}, 658: {'co': 0.7414146891025136}, 672: {'co': 0.7470585827634717}, 686: {'co': 0.7243390189090777}, 700: {'co': 0.6429877724526805}, 714: {'co': 0.7943465897205526}, 728: {'co': 0.830370567473605}, 742: {'co': 0.8498220549815303}, 767: {'co': 0.8562269696079166}, 781: {'co': 0.8605369432492359}, 795: {'co': 0.8402982188948594}, 809: {'co': 0.8359288304859632}, 823: {'co': 0.8339973545943864}, 837: {'co': 0.8321994381288217}, 851: {'co': 0.8184498810655606}, 865: {'co': 0.8492915656246428}, 879: {'co': 0.843169591271669}, 893: {'co': 0.8434126806926042}, 907: {'co': 0.8496108612586483}, 921: {'co': 0.8485907694500517}, 935: {'co': 0.8343140178674471}}\n",
      "2022/09/19 11:39:25 INFO|---------|{'beta_mult': 1.0, 'booster_mult': 0, 'vir_mult': 2.38, 'fit_batch': '4', 'run_type': 'fit'}: Running forward sim\n",
      "2022/09/19 11:39:26 INFO|--------|{'beta_mult': 1.0, 'booster_mult': 0.5, 'vir_mult': 1, 'fit_batch': '4'}: Transmission control fit 5/5 completed in 17.608980334000023 seconds: {865: {'co': 0.8492915656246428}, 879: {'co': 0.843169591271669}, 893: {'co': 0.8434126806926042}, 907: {'co': 0.8496108612586483}, 921: {'co': 0.8485907694500517}, 935: {'co': 0.8343140029662859}}\n",
      "2022/09/19 11:39:26 INFO|---------|{'beta_mult': 1.0, 'booster_mult': 0.5, 'vir_mult': 1, 'fit_batch': '4'}: Running forward sim\n",
      "2022/09/19 11:39:27 INFO|--------|{'beta_mult': 1.0, 'booster_mult': 0, 'vir_mult': 1, 'fit_batch': '4', 'run_type': 'fit'}: fitted TC: {0: {'co': 0.8306366865716341}, 14: {'co': 0.698195952820626}, 28: {'co': 0.5650437905410518}, 42: {'co': 1.2363018891185438e-15}, 56: {'co': 0.6966529100887137}, 70: {'co': 0.8332726903091638}, 84: {'co': 0.8296248539147445}, 98: {'co': 0.8316924950725628}, 112: {'co': 0.8774896861272652}, 126: {'co': 0.8243044312292909}, 140: {'co': 0.7604527585594816}, 154: {'co': 0.6712880198002112}, 168: {'co': 0.8430551350662076}, 182: {'co': 0.7826363491018719}, 196: {'co': 0.8191511062080898}, 210: {'co': 0.7726071132590828}, 224: {'co': 0.7713215726245787}, 238: {'co': 0.7185439635321001}, 252: {'co': 0.7220971480014075}, 266: {'co': 0.6850776840450525}, 280: {'co': 0.7198378028999177}, 294: {'co': 0.7589492742542242}, 308: {'co': 0.8220448705663365}, 322: {'co': 0.8119733884357985}, 336: {'co': 0.7821365886735826}, 350: {'co': 0.7958739060541818}, 364: {'co': 0.8019360887654008}, 378: {'co': 0.746456779184456}, 392: {'co': 0.7757315545700125}, 406: {'co': 0.7104267962185676}, 420: {'co': 0.7134426688644764}, 434: {'co': 0.6840712888293683}, 448: {'co': 0.7352224941559411}, 462: {'co': 0.8081582889337914}, 476: {'co': 0.7872692255768439}, 490: {'co': 0.8262347561657264}, 504: {'co': 0.7818331304673305}, 518: {'co': 0.7754467512044924}, 532: {'co': 0.7512544747619323}, 546: {'co': 0.705550286968481}, 560: {'co': 0.7337035999683909}, 574: {'co': 0.7422167225736127}, 588: {'co': 0.7826184049874935}, 602: {'co': 0.7583315110679274}, 616: {'co': 0.7100585894884839}, 630: {'co': 0.7281020313917284}, 644: {'co': 0.7012316330686956}, 658: {'co': 0.7414146891025136}, 672: {'co': 0.7470585827634717}, 686: {'co': 0.7243390189090777}, 700: {'co': 0.6429877724526805}, 714: {'co': 0.7943465897205526}, 728: {'co': 0.830370567473605}, 742: {'co': 0.8498220549815303}, 767: {'co': 0.8562269696079166}, 781: {'co': 0.8605369432492359}, 795: {'co': 0.8402982188948594}, 809: {'co': 0.8359288304859632}, 823: {'co': 0.8339973545943864}, 837: {'co': 0.8321994381288217}, 851: {'co': 0.8184498810655606}, 865: {'co': 0.8492915656246428}, 879: {'co': 0.843169591271669}, 893: {'co': 0.8434126806926042}, 907: {'co': 0.8496108612586483}, 921: {'co': 0.8485907694500517}, 935: {'co': 0.8343140178674471}}\n",
      "2022/09/19 11:39:27 INFO|---------|{'beta_mult': 1.0, 'booster_mult': 0, 'vir_mult': 1, 'fit_batch': '4', 'run_type': 'fit'}: Running forward sim\n"
     ]
    },
    {
     "name": "stderr",
     "output_type": "stream",
     "text": [
      "2022/09/19 11:39:28 INFO|--------|{'beta_mult': 1.0, 'booster_mult': 0.5, 'vir_mult': 1, 'fit_batch': '4', 'run_type': 'fit'}: fitted TC: {0: {'co': 0.8306366865716341}, 14: {'co': 0.698195952820626}, 28: {'co': 0.5650437905410518}, 42: {'co': 1.2363018891185438e-15}, 56: {'co': 0.6966529100887137}, 70: {'co': 0.8332726903091638}, 84: {'co': 0.8296248539147445}, 98: {'co': 0.8316924950725628}, 112: {'co': 0.8774896861272652}, 126: {'co': 0.8243044312292909}, 140: {'co': 0.7604527585594816}, 154: {'co': 0.6712880198002112}, 168: {'co': 0.8430551350662076}, 182: {'co': 0.7826363491018719}, 196: {'co': 0.8191511062080898}, 210: {'co': 0.7726071132590828}, 224: {'co': 0.7713215726245787}, 238: {'co': 0.7185439635321001}, 252: {'co': 0.7220971480014075}, 266: {'co': 0.6850776840450525}, 280: {'co': 0.7198378028999177}, 294: {'co': 0.7589492742542242}, 308: {'co': 0.8220448705663365}, 322: {'co': 0.8119733884357985}, 336: {'co': 0.7821365886735826}, 350: {'co': 0.7958739060541818}, 364: {'co': 0.8019360887654008}, 378: {'co': 0.746456779184456}, 392: {'co': 0.7757315545700125}, 406: {'co': 0.7104267962185676}, 420: {'co': 0.7134426688644764}, 434: {'co': 0.6840712888293683}, 448: {'co': 0.7352224941559411}, 462: {'co': 0.8081582889337914}, 476: {'co': 0.7872692255768439}, 490: {'co': 0.8262347561657264}, 504: {'co': 0.7818331304673305}, 518: {'co': 0.7754467512044924}, 532: {'co': 0.7512544747619323}, 546: {'co': 0.705550286968481}, 560: {'co': 0.7337035999683909}, 574: {'co': 0.7422167225736127}, 588: {'co': 0.7826184049874935}, 602: {'co': 0.7583315110679274}, 616: {'co': 0.7100585894884839}, 630: {'co': 0.7281020313917284}, 644: {'co': 0.7012316330686956}, 658: {'co': 0.7414146891025136}, 672: {'co': 0.7470585827634717}, 686: {'co': 0.7243390189090777}, 700: {'co': 0.6429877724526805}, 714: {'co': 0.7943465897205526}, 728: {'co': 0.830370567473605}, 742: {'co': 0.8498220549815303}, 767: {'co': 0.8562269696079166}, 781: {'co': 0.8605369432492359}, 795: {'co': 0.8402982188948594}, 809: {'co': 0.8359288304859632}, 823: {'co': 0.8339973545943864}, 837: {'co': 0.8321994381288217}, 851: {'co': 0.8184498810655606}, 865: {'co': 0.8492915656246428}, 879: {'co': 0.843169591271669}, 893: {'co': 0.8434126806926042}, 907: {'co': 0.8496108612586483}, 921: {'co': 0.8485907694500517}, 935: {'co': 0.8343140178674471}}\n",
      "2022/09/19 11:39:28 INFO|---------|{'beta_mult': 1.0, 'booster_mult': 0.5, 'vir_mult': 1, 'fit_batch': '4', 'run_type': 'fit'}: Running forward sim\n",
      "2022/09/19 11:39:28 INFO|============================================================\n",
      "2022/09/19 11:39:29 INFO|--------|{'beta_mult': 1.0, 'booster_mult': 1, 'vir_mult': 1, 'fit_batch': '4'}: Transmission control fit 5/5 completed in 17.919232375000036 seconds: {865: {'co': 0.8492915656246428}, 879: {'co': 0.843169591271669}, 893: {'co': 0.8434126806926042}, 907: {'co': 0.8496108612586483}, 921: {'co': 0.8485907694500517}, 935: {'co': 0.8343140029662859}}\n",
      "2022/09/19 11:39:29 INFO|---------|{'beta_mult': 1.0, 'booster_mult': 1, 'vir_mult': 1, 'fit_batch': '4'}: Running forward sim\n",
      "2022/09/19 11:39:30 INFO|--------|{'beta_mult': 1.0, 'booster_mult': 0.5, 'vir_mult': 2.38, 'fit_batch': '4'}: Transmission control fit 5/5 completed in 17.83722425000002 seconds: {865: {'co': 0.8492915656246428}, 879: {'co': 0.843169591271669}, 893: {'co': 0.8434126806926042}, 907: {'co': 0.8496108612586483}, 921: {'co': 0.8485907694500517}, 935: {'co': 0.8343140029662859}}\n",
      "2022/09/19 11:39:30 INFO|---------|{'beta_mult': 1.0, 'booster_mult': 0.5, 'vir_mult': 2.38, 'fit_batch': '4'}: Running forward sim\n",
      "2022/09/19 11:39:30 INFO|============================================================\n",
      "2022/09/19 11:39:31 INFO|-----------|{'beta_mult': 1.05, 'booster_mult': 0, 'vir_mult': 1} Retrieving vaccinations data\n",
      "2022/09/19 11:39:31 INFO|--------|{'beta_mult': 1.0, 'booster_mult': 1, 'vir_mult': 2.38, 'fit_batch': '4'}: Transmission control fit 5/5 completed in 16.306876749999958 seconds: {865: {'co': 0.8492915656246428}, 879: {'co': 0.843169591271669}, 893: {'co': 0.8434126806926042}, 907: {'co': 0.8496108612586483}, 921: {'co': 0.8485907694500517}, 935: {'co': 0.8343140029662859}}\n",
      "2022/09/19 11:39:31 INFO|---------|{'beta_mult': 1.0, 'booster_mult': 1, 'vir_mult': 2.38, 'fit_batch': '4'}: Running forward sim\n",
      "2022/09/19 11:39:31 INFO|--------|{'beta_mult': 1.0, 'booster_mult': 1, 'vir_mult': 1, 'fit_batch': '4', 'run_type': 'fit'}: fitted TC: {0: {'co': 0.8306366865716341}, 14: {'co': 0.698195952820626}, 28: {'co': 0.5650437905410518}, 42: {'co': 1.2363018891185438e-15}, 56: {'co': 0.6966529100887137}, 70: {'co': 0.8332726903091638}, 84: {'co': 0.8296248539147445}, 98: {'co': 0.8316924950725628}, 112: {'co': 0.8774896861272652}, 126: {'co': 0.8243044312292909}, 140: {'co': 0.7604527585594816}, 154: {'co': 0.6712880198002112}, 168: {'co': 0.8430551350662076}, 182: {'co': 0.7826363491018719}, 196: {'co': 0.8191511062080898}, 210: {'co': 0.7726071132590828}, 224: {'co': 0.7713215726245787}, 238: {'co': 0.7185439635321001}, 252: {'co': 0.7220971480014075}, 266: {'co': 0.6850776840450525}, 280: {'co': 0.7198378028999177}, 294: {'co': 0.7589492742542242}, 308: {'co': 0.8220448705663365}, 322: {'co': 0.8119733884357985}, 336: {'co': 0.7821365886735826}, 350: {'co': 0.7958739060541818}, 364: {'co': 0.8019360887654008}, 378: {'co': 0.746456779184456}, 392: {'co': 0.7757315545700125}, 406: {'co': 0.7104267962185676}, 420: {'co': 0.7134426688644764}, 434: {'co': 0.6840712888293683}, 448: {'co': 0.7352224941559411}, 462: {'co': 0.8081582889337914}, 476: {'co': 0.7872692255768439}, 490: {'co': 0.8262347561657264}, 504: {'co': 0.7818331304673305}, 518: {'co': 0.7754467512044924}, 532: {'co': 0.7512544747619323}, 546: {'co': 0.705550286968481}, 560: {'co': 0.7337035999683909}, 574: {'co': 0.7422167225736127}, 588: {'co': 0.7826184049874935}, 602: {'co': 0.7583315110679274}, 616: {'co': 0.7100585894884839}, 630: {'co': 0.7281020313917284}, 644: {'co': 0.7012316330686956}, 658: {'co': 0.7414146891025136}, 672: {'co': 0.7470585827634717}, 686: {'co': 0.7243390189090777}, 700: {'co': 0.6429877724526805}, 714: {'co': 0.7943465897205526}, 728: {'co': 0.830370567473605}, 742: {'co': 0.8498220549815303}, 767: {'co': 0.8562269696079166}, 781: {'co': 0.8605369432492359}, 795: {'co': 0.8402982188948594}, 809: {'co': 0.8359288304859632}, 823: {'co': 0.8339973545943864}, 837: {'co': 0.8321994381288217}, 851: {'co': 0.8184498810655606}, 865: {'co': 0.8492915656246428}, 879: {'co': 0.843169591271669}, 893: {'co': 0.8434126806926042}, 907: {'co': 0.8496108612586483}, 921: {'co': 0.8485907694500517}, 935: {'co': 0.8343140178674471}}\n",
      "2022/09/19 11:39:31 INFO|---------|{'beta_mult': 1.0, 'booster_mult': 1, 'vir_mult': 1, 'fit_batch': '4', 'run_type': 'fit'}: Running forward sim\n",
      "2022/09/19 11:39:31 INFO|--------|{'beta_mult': 1.0, 'booster_mult': 0.5, 'vir_mult': 2.38, 'fit_batch': '4', 'run_type': 'fit'}: fitted TC: {0: {'co': 0.8306366865716341}, 14: {'co': 0.698195952820626}, 28: {'co': 0.5650437905410518}, 42: {'co': 1.2363018891185438e-15}, 56: {'co': 0.6966529100887137}, 70: {'co': 0.8332726903091638}, 84: {'co': 0.8296248539147445}, 98: {'co': 0.8316924950725628}, 112: {'co': 0.8774896861272652}, 126: {'co': 0.8243044312292909}, 140: {'co': 0.7604527585594816}, 154: {'co': 0.6712880198002112}, 168: {'co': 0.8430551350662076}, 182: {'co': 0.7826363491018719}, 196: {'co': 0.8191511062080898}, 210: {'co': 0.7726071132590828}, 224: {'co': 0.7713215726245787}, 238: {'co': 0.7185439635321001}, 252: {'co': 0.7220971480014075}, 266: {'co': 0.6850776840450525}, 280: {'co': 0.7198378028999177}, 294: {'co': 0.7589492742542242}, 308: {'co': 0.8220448705663365}, 322: {'co': 0.8119733884357985}, 336: {'co': 0.7821365886735826}, 350: {'co': 0.7958739060541818}, 364: {'co': 0.8019360887654008}, 378: {'co': 0.746456779184456}, 392: {'co': 0.7757315545700125}, 406: {'co': 0.7104267962185676}, 420: {'co': 0.7134426688644764}, 434: {'co': 0.6840712888293683}, 448: {'co': 0.7352224941559411}, 462: {'co': 0.8081582889337914}, 476: {'co': 0.7872692255768439}, 490: {'co': 0.8262347561657264}, 504: {'co': 0.7818331304673305}, 518: {'co': 0.7754467512044924}, 532: {'co': 0.7512544747619323}, 546: {'co': 0.705550286968481}, 560: {'co': 0.7337035999683909}, 574: {'co': 0.7422167225736127}, 588: {'co': 0.7826184049874935}, 602: {'co': 0.7583315110679274}, 616: {'co': 0.7100585894884839}, 630: {'co': 0.7281020313917284}, 644: {'co': 0.7012316330686956}, 658: {'co': 0.7414146891025136}, 672: {'co': 0.7470585827634717}, 686: {'co': 0.7243390189090777}, 700: {'co': 0.6429877724526805}, 714: {'co': 0.7943465897205526}, 728: {'co': 0.830370567473605}, 742: {'co': 0.8498220549815303}, 767: {'co': 0.8562269696079166}, 781: {'co': 0.8605369432492359}, 795: {'co': 0.8402982188948594}, 809: {'co': 0.8359288304859632}, 823: {'co': 0.8339973545943864}, 837: {'co': 0.8321994381288217}, 851: {'co': 0.8184498810655606}, 865: {'co': 0.8492915656246428}, 879: {'co': 0.843169591271669}, 893: {'co': 0.8434126806926042}, 907: {'co': 0.8496108612586483}, 921: {'co': 0.8485907694500517}, 935: {'co': 0.8343140178674471}}\n",
      "2022/09/19 11:39:31 INFO|---------|{'beta_mult': 1.0, 'booster_mult': 0.5, 'vir_mult': 2.38, 'fit_batch': '4', 'run_type': 'fit'}: Running forward sim\n",
      "2022/09/19 11:39:32 INFO|-----------|{'beta_mult': 1.05, 'booster_mult': 0, 'vir_mult': 2.38} Retrieving vaccinations data\n"
     ]
    },
    {
     "name": "stderr",
     "output_type": "stream",
     "text": [
      "2022/09/19 11:39:32 INFO|-----------|{'beta_mult': 1.05, 'booster_mult': 0, 'vir_mult': 1} Constructing vaccination projections\n",
      "2022/09/19 11:39:33 INFO|============================================================\n",
      "2022/09/19 11:39:33 INFO|--------|{'beta_mult': 1.0, 'booster_mult': 1, 'vir_mult': 2.38, 'fit_batch': '4', 'run_type': 'fit'}: fitted TC: {0: {'co': 0.8306366865716341}, 14: {'co': 0.698195952820626}, 28: {'co': 0.5650437905410518}, 42: {'co': 1.2363018891185438e-15}, 56: {'co': 0.6966529100887137}, 70: {'co': 0.8332726903091638}, 84: {'co': 0.8296248539147445}, 98: {'co': 0.8316924950725628}, 112: {'co': 0.8774896861272652}, 126: {'co': 0.8243044312292909}, 140: {'co': 0.7604527585594816}, 154: {'co': 0.6712880198002112}, 168: {'co': 0.8430551350662076}, 182: {'co': 0.7826363491018719}, 196: {'co': 0.8191511062080898}, 210: {'co': 0.7726071132590828}, 224: {'co': 0.7713215726245787}, 238: {'co': 0.7185439635321001}, 252: {'co': 0.7220971480014075}, 266: {'co': 0.6850776840450525}, 280: {'co': 0.7198378028999177}, 294: {'co': 0.7589492742542242}, 308: {'co': 0.8220448705663365}, 322: {'co': 0.8119733884357985}, 336: {'co': 0.7821365886735826}, 350: {'co': 0.7958739060541818}, 364: {'co': 0.8019360887654008}, 378: {'co': 0.746456779184456}, 392: {'co': 0.7757315545700125}, 406: {'co': 0.7104267962185676}, 420: {'co': 0.7134426688644764}, 434: {'co': 0.6840712888293683}, 448: {'co': 0.7352224941559411}, 462: {'co': 0.8081582889337914}, 476: {'co': 0.7872692255768439}, 490: {'co': 0.8262347561657264}, 504: {'co': 0.7818331304673305}, 518: {'co': 0.7754467512044924}, 532: {'co': 0.7512544747619323}, 546: {'co': 0.705550286968481}, 560: {'co': 0.7337035999683909}, 574: {'co': 0.7422167225736127}, 588: {'co': 0.7826184049874935}, 602: {'co': 0.7583315110679274}, 616: {'co': 0.7100585894884839}, 630: {'co': 0.7281020313917284}, 644: {'co': 0.7012316330686956}, 658: {'co': 0.7414146891025136}, 672: {'co': 0.7470585827634717}, 686: {'co': 0.7243390189090777}, 700: {'co': 0.6429877724526805}, 714: {'co': 0.7943465897205526}, 728: {'co': 0.830370567473605}, 742: {'co': 0.8498220549815303}, 767: {'co': 0.8562269696079166}, 781: {'co': 0.8605369432492359}, 795: {'co': 0.8402982188948594}, 809: {'co': 0.8359288304859632}, 823: {'co': 0.8339973545943864}, 837: {'co': 0.8321994381288217}, 851: {'co': 0.8184498810655606}, 865: {'co': 0.8492915656246428}, 879: {'co': 0.843169591271669}, 893: {'co': 0.8434126806926042}, 907: {'co': 0.8496108612586483}, 921: {'co': 0.8485907694500517}, 935: {'co': 0.8343140178674471}}\n",
      "2022/09/19 11:39:33 INFO|---------|{'beta_mult': 1.0, 'booster_mult': 1, 'vir_mult': 2.38, 'fit_batch': '4', 'run_type': 'fit'}: Running forward sim\n",
      "2022/09/19 11:39:33 INFO|-----------|{'beta_mult': 1.05, 'booster_mult': 0, 'vir_mult': 2.38} Constructing vaccination projections\n",
      "2022/09/19 11:39:34 INFO|============================================================\n",
      "2022/09/19 11:39:34 INFO|-----------|{'beta_mult': 1.05, 'booster_mult': 0.5, 'vir_mult': 1} Retrieving vaccinations data\n",
      "2022/09/19 11:39:35 INFO|-----------|{'beta_mult': 1.05, 'booster_mult': 0, 'vir_mult': 1} Retrieving hospitalizations data\n",
      "2022/09/19 11:39:36 INFO|-----------|{'beta_mult': 1.05, 'booster_mult': 0, 'vir_mult': 2.38} Retrieving hospitalizations data\n",
      "2022/09/19 11:39:36 INFO|-----------|{'beta_mult': 1.05, 'booster_mult': 0.5, 'vir_mult': 2.38} Retrieving vaccinations data\n",
      "2022/09/19 11:39:36 INFO|-----------|{'beta_mult': 1.05, 'booster_mult': 0.5, 'vir_mult': 1} Constructing vaccination projections\n",
      "2022/09/19 11:39:36 INFO|============================================================\n",
      "2022/09/19 11:39:37 INFO|--------|{'beta_mult': 1.05, 'booster_mult': 0, 'vir_mult': 1} Prepping Model\n",
      "2022/09/19 11:39:37 INFO|---------|{'beta_mult': 1.05, 'booster_mult': 0, 'vir_mult': 1} Prepping Model\n",
      "2022/09/19 11:39:37 INFO|--------|{'beta_mult': 1.05, 'booster_mult': 0, 'vir_mult': 2.38} Prepping Model\n",
      "2022/09/19 11:39:37 INFO|---------|{'beta_mult': 1.05, 'booster_mult': 0, 'vir_mult': 2.38} Prepping Model\n",
      "2022/09/19 11:39:37 INFO|============================================================\n",
      "2022/09/19 11:39:38 INFO|-----------|{'beta_mult': 1.05, 'booster_mult': 0.5, 'vir_mult': 2.38} Constructing vaccination projections\n",
      "2022/09/19 11:39:38 INFO|-----------|{'beta_mult': 1.05, 'booster_mult': 1, 'vir_mult': 1} Retrieving vaccinations data\n",
      "2022/09/19 11:39:38 INFO|-----------|{'beta_mult': 1.05, 'booster_mult': 0.5, 'vir_mult': 1} Retrieving hospitalizations data\n",
      "2022/09/19 11:39:39 INFO|-----------|{'beta_mult': 1.05, 'booster_mult': 1, 'vir_mult': 2.38} Retrieving vaccinations data\n",
      "2022/09/19 11:39:40 INFO|-----------|{'beta_mult': 1.05, 'booster_mult': 1, 'vir_mult': 1} Constructing vaccination projections\n",
      "2022/09/19 11:39:40 INFO|-----------|{'beta_mult': 1.05, 'booster_mult': 0.5, 'vir_mult': 2.38} Retrieving hospitalizations data\n",
      "2022/09/19 11:39:40 INFO|--------|{'beta_mult': 1.05, 'booster_mult': 0.5, 'vir_mult': 1} Prepping Model\n",
      "2022/09/19 11:39:40 INFO|---------|{'beta_mult': 1.05, 'booster_mult': 0.5, 'vir_mult': 1} Prepping Model\n",
      "2022/09/19 11:39:41 INFO|-----------|{'beta_mult': 1.05, 'booster_mult': 1, 'vir_mult': 2.38} Constructing vaccination projections\n",
      "2022/09/19 11:39:41 INFO|--------|{'beta_mult': 1.05, 'booster_mult': 0.5, 'vir_mult': 2.38} Prepping Model\n",
      "2022/09/19 11:39:41 INFO|---------|{'beta_mult': 1.05, 'booster_mult': 0.5, 'vir_mult': 2.38} Prepping Model\n",
      "2022/09/19 11:39:42 INFO|-----------|{'beta_mult': 1.05, 'booster_mult': 1, 'vir_mult': 1} Retrieving hospitalizations data\n",
      "2022/09/19 11:39:43 INFO|-----------|{'beta_mult': 1.05, 'booster_mult': 1, 'vir_mult': 2.38} Retrieving hospitalizations data\n",
      "2022/09/19 11:39:43 INFO|--------|{'beta_mult': 1.05, 'booster_mult': 1, 'vir_mult': 1} Prepping Model\n",
      "2022/09/19 11:39:43 INFO|---------|{'beta_mult': 1.05, 'booster_mult': 1, 'vir_mult': 1} Prepping Model\n",
      "2022/09/19 11:39:45 INFO|--------|{'beta_mult': 1.05, 'booster_mult': 1, 'vir_mult': 2.38} Prepping Model\n",
      "2022/09/19 11:39:45 INFO|---------|{'beta_mult': 1.05, 'booster_mult': 1, 'vir_mult': 2.38} Prepping Model\n",
      "2022/09/19 11:41:20 INFO|--------|{'beta_mult': 1.05, 'booster_mult': 0, 'vir_mult': 1} Model prepped for fitting in 103.94314624999998 seconds.\n",
      "2022/09/19 11:41:20 INFO|--------|{'beta_mult': 1.05, 'booster_mult': 0, 'vir_mult': 1} Solving Model ODE\n",
      "2022/09/19 11:41:21 INFO|--------|{'beta_mult': 1.05, 'booster_mult': 0, 'vir_mult': 2.38} Model prepped for fitting in 104.38272166700006 seconds.\n",
      "2022/09/19 11:41:21 INFO|--------|{'beta_mult': 1.05, 'booster_mult': 0, 'vir_mult': 2.38} Solving Model ODE\n",
      "2022/09/19 11:41:25 INFO|--------|{'beta_mult': 1.05, 'booster_mult': 0.5, 'vir_mult': 1} Model prepped for fitting in 104.70331474999995 seconds.\n",
      "2022/09/19 11:41:25 INFO|--------|{'beta_mult': 1.05, 'booster_mult': 0.5, 'vir_mult': 1} Solving Model ODE\n",
      "2022/09/19 11:41:25 INFO|--------|{'beta_mult': 1.05, 'booster_mult': 0, 'vir_mult': 1} Model solved in 4.684379749999948 seconds.\n",
      "2022/09/19 11:41:25 INFO|--------|{'beta_mult': 1.05, 'booster_mult': 0, 'vir_mult': 1} Will fit 5 times\n",
      "2022/09/19 11:41:26 INFO|--------|{'beta_mult': 1.05, 'booster_mult': 0.5, 'vir_mult': 2.38} Model prepped for fitting in 104.74962666699997 seconds.\n",
      "2022/09/19 11:41:26 INFO|--------|{'beta_mult': 1.05, 'booster_mult': 0.5, 'vir_mult': 2.38} Solving Model ODE\n",
      "2022/09/19 11:41:26 INFO|--------|{'beta_mult': 1.05, 'booster_mult': 0, 'vir_mult': 2.38} Model solved in 4.757665542000041 seconds.\n",
      "2022/09/19 11:41:26 INFO|--------|{'beta_mult': 1.05, 'booster_mult': 0, 'vir_mult': 2.38} Will fit 5 times\n",
      "2022/09/19 11:41:28 INFO|--------|{'beta_mult': 1.05, 'booster_mult': 1, 'vir_mult': 1} Model prepped for fitting in 104.30773325000007 seconds.\n",
      "2022/09/19 11:41:28 INFO|--------|{'beta_mult': 1.05, 'booster_mult': 1, 'vir_mult': 1} Solving Model ODE\n",
      "2022/09/19 11:41:29 INFO|--------|{'beta_mult': 1.05, 'booster_mult': 0.5, 'vir_mult': 1} Model solved in 4.918385541000021 seconds.\n",
      "2022/09/19 11:41:29 INFO|--------|{'beta_mult': 1.05, 'booster_mult': 0.5, 'vir_mult': 1} Will fit 5 times\n",
      "2022/09/19 11:41:30 INFO|--------|{'beta_mult': 1.05, 'booster_mult': 1, 'vir_mult': 2.38} Model prepped for fitting in 105.27210358299993 seconds.\n",
      "2022/09/19 11:41:30 INFO|--------|{'beta_mult': 1.05, 'booster_mult': 1, 'vir_mult': 2.38} Solving Model ODE\n"
     ]
    },
    {
     "name": "stderr",
     "output_type": "stream",
     "text": [
      "2022/09/19 11:41:31 INFO|--------|{'beta_mult': 1.05, 'booster_mult': 0.5, 'vir_mult': 2.38} Model solved in 4.866704667000022 seconds.\n",
      "2022/09/19 11:41:31 INFO|--------|{'beta_mult': 1.05, 'booster_mult': 0.5, 'vir_mult': 2.38} Will fit 5 times\n",
      "2022/09/19 11:41:33 INFO|--------|{'beta_mult': 1.05, 'booster_mult': 1, 'vir_mult': 1} Model solved in 4.915572417000021 seconds.\n",
      "2022/09/19 11:41:33 INFO|--------|{'beta_mult': 1.05, 'booster_mult': 1, 'vir_mult': 1} Will fit 5 times\n",
      "2022/09/19 11:41:35 INFO|--------|{'beta_mult': 1.05, 'booster_mult': 1, 'vir_mult': 2.38} Model solved in 4.727501332999964 seconds.\n",
      "2022/09/19 11:41:35 INFO|--------|{'beta_mult': 1.05, 'booster_mult': 1, 'vir_mult': 2.38} Will fit 5 times\n",
      "2022/09/19 11:41:44 INFO|--------|{'beta_mult': 1.05, 'booster_mult': 0, 'vir_mult': 1, 'fit_batch': '0'}: Transmission control fit 1/5 completed in 18.486798333000024 seconds: {767: {'co': 0.8562278508174602}, 781: {'co': 0.8605343861012077}, 795: {'co': 0.8404247174839354}, 809: {'co': 0.8349358549297129}, 823: {'co': 0.837175004006217}, 837: {'co': 0.8274901225052815}}\n",
      "2022/09/19 11:41:44 INFO|---------|{'beta_mult': 1.05, 'booster_mult': 0, 'vir_mult': 1, 'fit_batch': '0'}: Running forward sim\n",
      "2022/09/19 11:41:45 INFO|--------|{'beta_mult': 1.05, 'booster_mult': 0, 'vir_mult': 2.38, 'fit_batch': '0'}: Transmission control fit 1/5 completed in 18.65334141699998 seconds: {767: {'co': 0.8562278508174602}, 781: {'co': 0.8605343861012077}, 795: {'co': 0.8404247174839354}, 809: {'co': 0.8349358549297129}, 823: {'co': 0.837175004006217}, 837: {'co': 0.8274901225052815}}\n",
      "2022/09/19 11:41:45 INFO|---------|{'beta_mult': 1.05, 'booster_mult': 0, 'vir_mult': 2.38, 'fit_batch': '0'}: Running forward sim\n",
      "2022/09/19 11:41:48 INFO|--------|{'beta_mult': 1.05, 'booster_mult': 0.5, 'vir_mult': 1, 'fit_batch': '0'}: Transmission control fit 1/5 completed in 18.906664666000097 seconds: {767: {'co': 0.8562278508174602}, 781: {'co': 0.8605343861012077}, 795: {'co': 0.8404247174839354}, 809: {'co': 0.8349358549297129}, 823: {'co': 0.837175004006217}, 837: {'co': 0.8274901225052815}}\n",
      "2022/09/19 11:41:48 INFO|---------|{'beta_mult': 1.05, 'booster_mult': 0.5, 'vir_mult': 1, 'fit_batch': '0'}: Running forward sim\n",
      "2022/09/19 11:41:50 INFO|--------|{'beta_mult': 1.05, 'booster_mult': 0.5, 'vir_mult': 2.38, 'fit_batch': '0'}: Transmission control fit 1/5 completed in 18.735497541999962 seconds: {767: {'co': 0.8562278508174602}, 781: {'co': 0.8605343861012077}, 795: {'co': 0.8404247174839354}, 809: {'co': 0.8349358549297129}, 823: {'co': 0.837175004006217}, 837: {'co': 0.8274901225052815}}\n",
      "2022/09/19 11:41:50 INFO|---------|{'beta_mult': 1.05, 'booster_mult': 0.5, 'vir_mult': 2.38, 'fit_batch': '0'}: Running forward sim\n",
      "2022/09/19 11:41:52 INFO|--------|{'beta_mult': 1.05, 'booster_mult': 1, 'vir_mult': 1, 'fit_batch': '0'}: Transmission control fit 1/5 completed in 18.989541916999997 seconds: {767: {'co': 0.8562278508174602}, 781: {'co': 0.8605343861012077}, 795: {'co': 0.8404247174839354}, 809: {'co': 0.8349358549297129}, 823: {'co': 0.837175004006217}, 837: {'co': 0.8274901225052815}}\n",
      "2022/09/19 11:41:52 INFO|---------|{'beta_mult': 1.05, 'booster_mult': 1, 'vir_mult': 1, 'fit_batch': '0'}: Running forward sim\n",
      "2022/09/19 11:41:53 INFO|--------|{'beta_mult': 1.05, 'booster_mult': 1, 'vir_mult': 2.38, 'fit_batch': '0'}: Transmission control fit 1/5 completed in 18.500771792000023 seconds: {767: {'co': 0.8562278508174602}, 781: {'co': 0.8605343861012077}, 795: {'co': 0.8404247174839354}, 809: {'co': 0.8349358549297129}, 823: {'co': 0.837175004006217}, 837: {'co': 0.8274901225052815}}\n",
      "2022/09/19 11:41:53 INFO|---------|{'beta_mult': 1.05, 'booster_mult': 1, 'vir_mult': 2.38, 'fit_batch': '0'}: Running forward sim\n",
      "2022/09/19 11:42:02 INFO|--------|{'beta_mult': 1.05, 'booster_mult': 0, 'vir_mult': 1, 'fit_batch': '1'}: Transmission control fit 2/5 completed in 16.520288457999982 seconds: {795: {'co': 0.8403258116097635}, 809: {'co': 0.8359493739950037}, 823: {'co': 0.8346275193367272}, 837: {'co': 0.8337402278019735}, 851: {'co': 0.8253779564561503}, 865: {'co': 0.8583553085294864}}\n",
      "2022/09/19 11:42:02 INFO|---------|{'beta_mult': 1.05, 'booster_mult': 0, 'vir_mult': 1, 'fit_batch': '1'}: Running forward sim\n",
      "2022/09/19 11:42:04 INFO|--------|{'beta_mult': 1.05, 'booster_mult': 0, 'vir_mult': 2.38, 'fit_batch': '1'}: Transmission control fit 2/5 completed in 16.79875916700007 seconds: {795: {'co': 0.8403258116097635}, 809: {'co': 0.8359493739950037}, 823: {'co': 0.8346275193367272}, 837: {'co': 0.8337402278019735}, 851: {'co': 0.8253779564561503}, 865: {'co': 0.8583553085294864}}\n",
      "2022/09/19 11:42:04 INFO|---------|{'beta_mult': 1.05, 'booster_mult': 0, 'vir_mult': 2.38, 'fit_batch': '1'}: Running forward sim\n",
      "2022/09/19 11:42:07 INFO|--------|{'beta_mult': 1.05, 'booster_mult': 0.5, 'vir_mult': 1, 'fit_batch': '1'}: Transmission control fit 2/5 completed in 17.002639124999973 seconds: {795: {'co': 0.8403258116097635}, 809: {'co': 0.8359493739950037}, 823: {'co': 0.8346275193367272}, 837: {'co': 0.8337402278019735}, 851: {'co': 0.8253779564561503}, 865: {'co': 0.8583553085294864}}\n",
      "2022/09/19 11:42:07 INFO|---------|{'beta_mult': 1.05, 'booster_mult': 0.5, 'vir_mult': 1, 'fit_batch': '1'}: Running forward sim\n",
      "2022/09/19 11:42:09 INFO|--------|{'beta_mult': 1.05, 'booster_mult': 0.5, 'vir_mult': 2.38, 'fit_batch': '1'}: Transmission control fit 2/5 completed in 17.131383625000012 seconds: {795: {'co': 0.8403258116097635}, 809: {'co': 0.8359493739950037}, 823: {'co': 0.8346275193367272}, 837: {'co': 0.8337402278019735}, 851: {'co': 0.8253779564561503}, 865: {'co': 0.8583553085294864}}\n",
      "2022/09/19 11:42:09 INFO|---------|{'beta_mult': 1.05, 'booster_mult': 0.5, 'vir_mult': 2.38, 'fit_batch': '1'}: Running forward sim\n",
      "2022/09/19 11:42:11 INFO|--------|{'beta_mult': 1.05, 'booster_mult': 1, 'vir_mult': 1, 'fit_batch': '1'}: Transmission control fit 2/5 completed in 17.13476000000003 seconds: {795: {'co': 0.8403258116097635}, 809: {'co': 0.8359493739950037}, 823: {'co': 0.8346275193367272}, 837: {'co': 0.8337402278019735}, 851: {'co': 0.8253779564561503}, 865: {'co': 0.8583553085294864}}\n",
      "2022/09/19 11:42:11 INFO|---------|{'beta_mult': 1.05, 'booster_mult': 1, 'vir_mult': 1, 'fit_batch': '1'}: Running forward sim\n",
      "2022/09/19 11:42:12 INFO|--------|{'beta_mult': 1.05, 'booster_mult': 1, 'vir_mult': 2.38, 'fit_batch': '1'}: Transmission control fit 2/5 completed in 16.781019332999904 seconds: {795: {'co': 0.8403258116097635}, 809: {'co': 0.8359493739950037}, 823: {'co': 0.8346275193367272}, 837: {'co': 0.8337402278019735}, 851: {'co': 0.8253779564561503}, 865: {'co': 0.8583553085294864}}\n",
      "2022/09/19 11:42:12 INFO|---------|{'beta_mult': 1.05, 'booster_mult': 1, 'vir_mult': 2.38, 'fit_batch': '1'}: Running forward sim\n",
      "2022/09/19 11:42:19 INFO|--------|{'beta_mult': 1.05, 'booster_mult': 0, 'vir_mult': 1, 'fit_batch': '2'}: Transmission control fit 3/5 completed in 15.401665667000088 seconds: {823: {'co': 0.8345286929583162}, 837: {'co': 0.8340031460887667}, 851: {'co': 0.8247477185629741}, 865: {'co': 0.8607617622180253}, 879: {'co': 0.8551466438260575}, 893: {'co': 0.8587741135035005}}\n",
      "2022/09/19 11:42:19 INFO|---------|{'beta_mult': 1.05, 'booster_mult': 0, 'vir_mult': 1, 'fit_batch': '2'}: Running forward sim\n",
      "2022/09/19 11:42:21 INFO|--------|{'beta_mult': 1.05, 'booster_mult': 0, 'vir_mult': 2.38, 'fit_batch': '2'}: Transmission control fit 3/5 completed in 15.412262250000026 seconds: {823: {'co': 0.8345286929583162}, 837: {'co': 0.8340031460887667}, 851: {'co': 0.8247477185629741}, 865: {'co': 0.8607617622180253}, 879: {'co': 0.8551466438260575}, 893: {'co': 0.8587741135035005}}\n",
      "2022/09/19 11:42:21 INFO|---------|{'beta_mult': 1.05, 'booster_mult': 0, 'vir_mult': 2.38, 'fit_batch': '2'}: Running forward sim\n",
      "2022/09/19 11:42:25 INFO|--------|{'beta_mult': 1.05, 'booster_mult': 0.5, 'vir_mult': 1, 'fit_batch': '2'}: Transmission control fit 3/5 completed in 15.49752429199998 seconds: {823: {'co': 0.8345286929583162}, 837: {'co': 0.8340031460887667}, 851: {'co': 0.8247477185629741}, 865: {'co': 0.8607617622180253}, 879: {'co': 0.8551466438260575}, 893: {'co': 0.8587741135035005}}\n",
      "2022/09/19 11:42:25 INFO|---------|{'beta_mult': 1.05, 'booster_mult': 0.5, 'vir_mult': 1, 'fit_batch': '2'}: Running forward sim\n"
     ]
    },
    {
     "name": "stderr",
     "output_type": "stream",
     "text": [
      "2022/09/19 11:42:26 INFO|--------|{'beta_mult': 1.05, 'booster_mult': 0.5, 'vir_mult': 2.38, 'fit_batch': '2'}: Transmission control fit 3/5 completed in 15.543056750000005 seconds: {823: {'co': 0.8345286929583162}, 837: {'co': 0.8340031460887667}, 851: {'co': 0.8247477185629741}, 865: {'co': 0.8607617622180253}, 879: {'co': 0.8551466438260575}, 893: {'co': 0.8587741135035005}}\n",
      "2022/09/19 11:42:26 INFO|---------|{'beta_mult': 1.05, 'booster_mult': 0.5, 'vir_mult': 2.38, 'fit_batch': '2'}: Running forward sim\n",
      "2022/09/19 11:42:28 INFO|--------|{'beta_mult': 1.05, 'booster_mult': 1, 'vir_mult': 1, 'fit_batch': '2'}: Transmission control fit 3/5 completed in 15.562098792000029 seconds: {823: {'co': 0.8345286929583162}, 837: {'co': 0.8340031460887667}, 851: {'co': 0.8247477185629741}, 865: {'co': 0.8607617622180253}, 879: {'co': 0.8551466438260575}, 893: {'co': 0.8587741135035005}}\n",
      "2022/09/19 11:42:28 INFO|---------|{'beta_mult': 1.05, 'booster_mult': 1, 'vir_mult': 1, 'fit_batch': '2'}: Running forward sim\n",
      "2022/09/19 11:42:29 INFO|--------|{'beta_mult': 1.05, 'booster_mult': 1, 'vir_mult': 2.38, 'fit_batch': '2'}: Transmission control fit 3/5 completed in 15.419356166999933 seconds: {823: {'co': 0.8345286929583162}, 837: {'co': 0.8340031460887667}, 851: {'co': 0.8247477185629741}, 865: {'co': 0.8607617622180253}, 879: {'co': 0.8551466438260575}, 893: {'co': 0.8587741135035005}}\n",
      "2022/09/19 11:42:29 INFO|---------|{'beta_mult': 1.05, 'booster_mult': 1, 'vir_mult': 2.38, 'fit_batch': '2'}: Running forward sim\n",
      "2022/09/19 11:42:36 INFO|--------|{'beta_mult': 1.05, 'booster_mult': 0, 'vir_mult': 1, 'fit_batch': '3'}: Transmission control fit 4/5 completed in 15.165136708999967 seconds: {851: {'co': 0.8250144133275558}, 865: {'co': 0.8603276563453713}, 879: {'co': 0.856246094999013}, 893: {'co': 0.8554194878774668}, 907: {'co': 0.8600176098885435}, 921: {'co': 0.852803979544216}}\n",
      "2022/09/19 11:42:36 INFO|---------|{'beta_mult': 1.05, 'booster_mult': 0, 'vir_mult': 1, 'fit_batch': '3'}: Running forward sim\n",
      "2022/09/19 11:42:38 INFO|--------|{'beta_mult': 1.05, 'booster_mult': 0, 'vir_mult': 2.38, 'fit_batch': '3'}: Transmission control fit 4/5 completed in 15.163300833000108 seconds: {851: {'co': 0.8250144133275558}, 865: {'co': 0.8603276563453713}, 879: {'co': 0.856246094999013}, 893: {'co': 0.8554194878774668}, 907: {'co': 0.8600176098885435}, 921: {'co': 0.852803979544216}}\n",
      "2022/09/19 11:42:38 INFO|---------|{'beta_mult': 1.05, 'booster_mult': 0, 'vir_mult': 2.38, 'fit_batch': '3'}: Running forward sim\n",
      "2022/09/19 11:42:42 INFO|--------|{'beta_mult': 1.05, 'booster_mult': 0.5, 'vir_mult': 1, 'fit_batch': '3'}: Transmission control fit 4/5 completed in 15.263514791000034 seconds: {851: {'co': 0.8250144133275558}, 865: {'co': 0.8603276563453713}, 879: {'co': 0.856246094999013}, 893: {'co': 0.8554194878774668}, 907: {'co': 0.8600176098885435}, 921: {'co': 0.852803979544216}}\n",
      "2022/09/19 11:42:42 INFO|---------|{'beta_mult': 1.05, 'booster_mult': 0.5, 'vir_mult': 1, 'fit_batch': '3'}: Running forward sim\n",
      "2022/09/19 11:42:44 INFO|--------|{'beta_mult': 1.05, 'booster_mult': 0.5, 'vir_mult': 2.38, 'fit_batch': '3'}: Transmission control fit 4/5 completed in 15.580102207999971 seconds: {851: {'co': 0.8250144133275558}, 865: {'co': 0.8603276563453713}, 879: {'co': 0.856246094999013}, 893: {'co': 0.8554194878774668}, 907: {'co': 0.8600176098885435}, 921: {'co': 0.852803979544216}}\n",
      "2022/09/19 11:42:44 INFO|---------|{'beta_mult': 1.05, 'booster_mult': 0.5, 'vir_mult': 2.38, 'fit_batch': '3'}: Running forward sim\n",
      "2022/09/19 11:42:46 INFO|--------|{'beta_mult': 1.05, 'booster_mult': 1, 'vir_mult': 1, 'fit_batch': '3'}: Transmission control fit 4/5 completed in 15.600642333999986 seconds: {851: {'co': 0.8250144133275558}, 865: {'co': 0.8603276563453713}, 879: {'co': 0.856246094999013}, 893: {'co': 0.8554194878774668}, 907: {'co': 0.8600176098885435}, 921: {'co': 0.852803979544216}}\n",
      "2022/09/19 11:42:46 INFO|---------|{'beta_mult': 1.05, 'booster_mult': 1, 'vir_mult': 1, 'fit_batch': '3'}: Running forward sim\n",
      "2022/09/19 11:42:46 INFO|--------|{'beta_mult': 1.05, 'booster_mult': 1, 'vir_mult': 2.38, 'fit_batch': '3'}: Transmission control fit 4/5 completed in 15.37606345800009 seconds: {851: {'co': 0.8250144133275558}, 865: {'co': 0.8603276563453713}, 879: {'co': 0.856246094999013}, 893: {'co': 0.8554194878774668}, 907: {'co': 0.8600176098885435}, 921: {'co': 0.852803979544216}}\n",
      "2022/09/19 11:42:46 INFO|---------|{'beta_mult': 1.05, 'booster_mult': 1, 'vir_mult': 2.38, 'fit_batch': '3'}: Running forward sim\n",
      "2022/09/19 11:42:54 INFO|--------|{'beta_mult': 1.05, 'booster_mult': 0, 'vir_mult': 1, 'fit_batch': '4'}: Transmission control fit 5/5 completed in 15.976072375000058 seconds: {865: {'co': 0.8597702427761388}, 879: {'co': 0.8564365022722875}, 893: {'co': 0.8555957481622144}, 907: {'co': 0.8593206218856286}, 921: {'co': 0.8570186303305475}, 935: {'co': 0.8417474038224001}}\n",
      "2022/09/19 11:42:54 INFO|---------|{'beta_mult': 1.05, 'booster_mult': 0, 'vir_mult': 1, 'fit_batch': '4'}: Running forward sim\n",
      "2022/09/19 11:42:56 INFO|--------|{'beta_mult': 1.05, 'booster_mult': 0, 'vir_mult': 2.38, 'fit_batch': '4'}: Transmission control fit 5/5 completed in 16.02282179200006 seconds: {865: {'co': 0.8597702427761388}, 879: {'co': 0.8564365022722875}, 893: {'co': 0.8555957481622144}, 907: {'co': 0.8593206218856286}, 921: {'co': 0.8570186303305475}, 935: {'co': 0.8417474038224001}}\n",
      "2022/09/19 11:42:56 INFO|---------|{'beta_mult': 1.05, 'booster_mult': 0, 'vir_mult': 2.38, 'fit_batch': '4'}: Running forward sim\n",
      "2022/09/19 11:42:56 INFO|--------|{'beta_mult': 1.05, 'booster_mult': 0, 'vir_mult': 1, 'fit_batch': '4', 'run_type': 'fit'}: fitted TC: {0: {'co': 0.8306366865716341}, 14: {'co': 0.698195952820626}, 28: {'co': 0.5650437905410518}, 42: {'co': 1.2363018891185438e-15}, 56: {'co': 0.6966529100887137}, 70: {'co': 0.8332726903091638}, 84: {'co': 0.8296248539147445}, 98: {'co': 0.8316924950725628}, 112: {'co': 0.8774896861272652}, 126: {'co': 0.8243044312292909}, 140: {'co': 0.7604527585594816}, 154: {'co': 0.6712880198002112}, 168: {'co': 0.8430551350662076}, 182: {'co': 0.7826363491018719}, 196: {'co': 0.8191511062080898}, 210: {'co': 0.7726071132590828}, 224: {'co': 0.7713215726245787}, 238: {'co': 0.7185439635321001}, 252: {'co': 0.7220971480014075}, 266: {'co': 0.6850776840450525}, 280: {'co': 0.7198378028999177}, 294: {'co': 0.7589492742542242}, 308: {'co': 0.8220448705663365}, 322: {'co': 0.8119733884357985}, 336: {'co': 0.7821365886735826}, 350: {'co': 0.7958739060541818}, 364: {'co': 0.8019360887654008}, 378: {'co': 0.746456779184456}, 392: {'co': 0.7757315545700125}, 406: {'co': 0.7104267962185676}, 420: {'co': 0.7134426688644764}, 434: {'co': 0.6840712888293683}, 448: {'co': 0.7352224941559411}, 462: {'co': 0.8081582889337914}, 476: {'co': 0.7872692255768439}, 490: {'co': 0.8262347561657264}, 504: {'co': 0.7818331304673305}, 518: {'co': 0.7754467512044924}, 532: {'co': 0.7512544747619323}, 546: {'co': 0.705550286968481}, 560: {'co': 0.7337035999683909}, 574: {'co': 0.7422167225736127}, 588: {'co': 0.7826184049874935}, 602: {'co': 0.7583315110679274}, 616: {'co': 0.7100585894884839}, 630: {'co': 0.7281020313917284}, 644: {'co': 0.7012316330686956}, 658: {'co': 0.7414146891025136}, 672: {'co': 0.7470585827634717}, 686: {'co': 0.7243390189090777}, 700: {'co': 0.6429877724526805}, 714: {'co': 0.7943465897205526}, 728: {'co': 0.830370567473605}, 742: {'co': 0.8498220549815303}, 767: {'co': 0.8562278508174602}, 781: {'co': 0.8605343861012077}, 795: {'co': 0.8403258116097635}, 809: {'co': 0.8359493739950037}, 823: {'co': 0.8345286929583162}, 837: {'co': 0.8340031460887667}, 851: {'co': 0.8250144133275558}, 865: {'co': 0.8597702427761388}, 879: {'co': 0.8564365022722875}, 893: {'co': 0.8555957481622144}, 907: {'co': 0.8593206218856286}, 921: {'co': 0.8570186303305475}, 935: {'co': 0.8417474187235613}}\n",
      "2022/09/19 11:42:56 INFO|---------|{'beta_mult': 1.05, 'booster_mult': 0, 'vir_mult': 1, 'fit_batch': '4', 'run_type': 'fit'}: Running forward sim\n",
      "2022/09/19 11:42:58 INFO|--------|{'beta_mult': 1.05, 'booster_mult': 0, 'vir_mult': 2.38, 'fit_batch': '4', 'run_type': 'fit'}: fitted TC: {0: {'co': 0.8306366865716341}, 14: {'co': 0.698195952820626}, 28: {'co': 0.5650437905410518}, 42: {'co': 1.2363018891185438e-15}, 56: {'co': 0.6966529100887137}, 70: {'co': 0.8332726903091638}, 84: {'co': 0.8296248539147445}, 98: {'co': 0.8316924950725628}, 112: {'co': 0.8774896861272652}, 126: {'co': 0.8243044312292909}, 140: {'co': 0.7604527585594816}, 154: {'co': 0.6712880198002112}, 168: {'co': 0.8430551350662076}, 182: {'co': 0.7826363491018719}, 196: {'co': 0.8191511062080898}, 210: {'co': 0.7726071132590828}, 224: {'co': 0.7713215726245787}, 238: {'co': 0.7185439635321001}, 252: {'co': 0.7220971480014075}, 266: {'co': 0.6850776840450525}, 280: {'co': 0.7198378028999177}, 294: {'co': 0.7589492742542242}, 308: {'co': 0.8220448705663365}, 322: {'co': 0.8119733884357985}, 336: {'co': 0.7821365886735826}, 350: {'co': 0.7958739060541818}, 364: {'co': 0.8019360887654008}, 378: {'co': 0.746456779184456}, 392: {'co': 0.7757315545700125}, 406: {'co': 0.7104267962185676}, 420: {'co': 0.7134426688644764}, 434: {'co': 0.6840712888293683}, 448: {'co': 0.7352224941559411}, 462: {'co': 0.8081582889337914}, 476: {'co': 0.7872692255768439}, 490: {'co': 0.8262347561657264}, 504: {'co': 0.7818331304673305}, 518: {'co': 0.7754467512044924}, 532: {'co': 0.7512544747619323}, 546: {'co': 0.705550286968481}, 560: {'co': 0.7337035999683909}, 574: {'co': 0.7422167225736127}, 588: {'co': 0.7826184049874935}, 602: {'co': 0.7583315110679274}, 616: {'co': 0.7100585894884839}, 630: {'co': 0.7281020313917284}, 644: {'co': 0.7012316330686956}, 658: {'co': 0.7414146891025136}, 672: {'co': 0.7470585827634717}, 686: {'co': 0.7243390189090777}, 700: {'co': 0.6429877724526805}, 714: {'co': 0.7943465897205526}, 728: {'co': 0.830370567473605}, 742: {'co': 0.8498220549815303}, 767: {'co': 0.8562278508174602}, 781: {'co': 0.8605343861012077}, 795: {'co': 0.8403258116097635}, 809: {'co': 0.8359493739950037}, 823: {'co': 0.8345286929583162}, 837: {'co': 0.8340031460887667}, 851: {'co': 0.8250144133275558}, 865: {'co': 0.8597702427761388}, 879: {'co': 0.8564365022722875}, 893: {'co': 0.8555957481622144}, 907: {'co': 0.8593206218856286}, 921: {'co': 0.8570186303305475}, 935: {'co': 0.8417474187235613}}\n",
      "2022/09/19 11:42:58 INFO|---------|{'beta_mult': 1.05, 'booster_mult': 0, 'vir_mult': 2.38, 'fit_batch': '4', 'run_type': 'fit'}: Running forward sim\n"
     ]
    },
    {
     "name": "stderr",
     "output_type": "stream",
     "text": [
      "2022/09/19 11:43:00 INFO|--------|{'beta_mult': 1.05, 'booster_mult': 0.5, 'vir_mult': 1, 'fit_batch': '4'}: Transmission control fit 5/5 completed in 16.08633574999999 seconds: {865: {'co': 0.8597702427761388}, 879: {'co': 0.8564365022722875}, 893: {'co': 0.8555957481622144}, 907: {'co': 0.8593206218856286}, 921: {'co': 0.8570186303305475}, 935: {'co': 0.8417474038224001}}\n",
      "2022/09/19 11:43:00 INFO|---------|{'beta_mult': 1.05, 'booster_mult': 0.5, 'vir_mult': 1, 'fit_batch': '4'}: Running forward sim\n",
      "2022/09/19 11:43:02 INFO|--------|{'beta_mult': 1.05, 'booster_mult': 0.5, 'vir_mult': 2.38, 'fit_batch': '4'}: Transmission control fit 5/5 completed in 16.353060916000004 seconds: {865: {'co': 0.8597702427761388}, 879: {'co': 0.8564365022722875}, 893: {'co': 0.8555957481622144}, 907: {'co': 0.8593206218856286}, 921: {'co': 0.8570186303305475}, 935: {'co': 0.8417474038224001}}\n",
      "2022/09/19 11:43:02 INFO|---------|{'beta_mult': 1.05, 'booster_mult': 0.5, 'vir_mult': 2.38, 'fit_batch': '4'}: Running forward sim\n",
      "2022/09/19 11:43:02 INFO|--------|{'beta_mult': 1.05, 'booster_mult': 0.5, 'vir_mult': 1, 'fit_batch': '4', 'run_type': 'fit'}: fitted TC: {0: {'co': 0.8306366865716341}, 14: {'co': 0.698195952820626}, 28: {'co': 0.5650437905410518}, 42: {'co': 1.2363018891185438e-15}, 56: {'co': 0.6966529100887137}, 70: {'co': 0.8332726903091638}, 84: {'co': 0.8296248539147445}, 98: {'co': 0.8316924950725628}, 112: {'co': 0.8774896861272652}, 126: {'co': 0.8243044312292909}, 140: {'co': 0.7604527585594816}, 154: {'co': 0.6712880198002112}, 168: {'co': 0.8430551350662076}, 182: {'co': 0.7826363491018719}, 196: {'co': 0.8191511062080898}, 210: {'co': 0.7726071132590828}, 224: {'co': 0.7713215726245787}, 238: {'co': 0.7185439635321001}, 252: {'co': 0.7220971480014075}, 266: {'co': 0.6850776840450525}, 280: {'co': 0.7198378028999177}, 294: {'co': 0.7589492742542242}, 308: {'co': 0.8220448705663365}, 322: {'co': 0.8119733884357985}, 336: {'co': 0.7821365886735826}, 350: {'co': 0.7958739060541818}, 364: {'co': 0.8019360887654008}, 378: {'co': 0.746456779184456}, 392: {'co': 0.7757315545700125}, 406: {'co': 0.7104267962185676}, 420: {'co': 0.7134426688644764}, 434: {'co': 0.6840712888293683}, 448: {'co': 0.7352224941559411}, 462: {'co': 0.8081582889337914}, 476: {'co': 0.7872692255768439}, 490: {'co': 0.8262347561657264}, 504: {'co': 0.7818331304673305}, 518: {'co': 0.7754467512044924}, 532: {'co': 0.7512544747619323}, 546: {'co': 0.705550286968481}, 560: {'co': 0.7337035999683909}, 574: {'co': 0.7422167225736127}, 588: {'co': 0.7826184049874935}, 602: {'co': 0.7583315110679274}, 616: {'co': 0.7100585894884839}, 630: {'co': 0.7281020313917284}, 644: {'co': 0.7012316330686956}, 658: {'co': 0.7414146891025136}, 672: {'co': 0.7470585827634717}, 686: {'co': 0.7243390189090777}, 700: {'co': 0.6429877724526805}, 714: {'co': 0.7943465897205526}, 728: {'co': 0.830370567473605}, 742: {'co': 0.8498220549815303}, 767: {'co': 0.8562278508174602}, 781: {'co': 0.8605343861012077}, 795: {'co': 0.8403258116097635}, 809: {'co': 0.8359493739950037}, 823: {'co': 0.8345286929583162}, 837: {'co': 0.8340031460887667}, 851: {'co': 0.8250144133275558}, 865: {'co': 0.8597702427761388}, 879: {'co': 0.8564365022722875}, 893: {'co': 0.8555957481622144}, 907: {'co': 0.8593206218856286}, 921: {'co': 0.8570186303305475}, 935: {'co': 0.8417474187235613}}\n",
      "2022/09/19 11:43:02 INFO|---------|{'beta_mult': 1.05, 'booster_mult': 0.5, 'vir_mult': 1, 'fit_batch': '4', 'run_type': 'fit'}: Running forward sim\n",
      "2022/09/19 11:43:04 INFO|--------|{'beta_mult': 1.05, 'booster_mult': 0.5, 'vir_mult': 2.38, 'fit_batch': '4', 'run_type': 'fit'}: fitted TC: {0: {'co': 0.8306366865716341}, 14: {'co': 0.698195952820626}, 28: {'co': 0.5650437905410518}, 42: {'co': 1.2363018891185438e-15}, 56: {'co': 0.6966529100887137}, 70: {'co': 0.8332726903091638}, 84: {'co': 0.8296248539147445}, 98: {'co': 0.8316924950725628}, 112: {'co': 0.8774896861272652}, 126: {'co': 0.8243044312292909}, 140: {'co': 0.7604527585594816}, 154: {'co': 0.6712880198002112}, 168: {'co': 0.8430551350662076}, 182: {'co': 0.7826363491018719}, 196: {'co': 0.8191511062080898}, 210: {'co': 0.7726071132590828}, 224: {'co': 0.7713215726245787}, 238: {'co': 0.7185439635321001}, 252: {'co': 0.7220971480014075}, 266: {'co': 0.6850776840450525}, 280: {'co': 0.7198378028999177}, 294: {'co': 0.7589492742542242}, 308: {'co': 0.8220448705663365}, 322: {'co': 0.8119733884357985}, 336: {'co': 0.7821365886735826}, 350: {'co': 0.7958739060541818}, 364: {'co': 0.8019360887654008}, 378: {'co': 0.746456779184456}, 392: {'co': 0.7757315545700125}, 406: {'co': 0.7104267962185676}, 420: {'co': 0.7134426688644764}, 434: {'co': 0.6840712888293683}, 448: {'co': 0.7352224941559411}, 462: {'co': 0.8081582889337914}, 476: {'co': 0.7872692255768439}, 490: {'co': 0.8262347561657264}, 504: {'co': 0.7818331304673305}, 518: {'co': 0.7754467512044924}, 532: {'co': 0.7512544747619323}, 546: {'co': 0.705550286968481}, 560: {'co': 0.7337035999683909}, 574: {'co': 0.7422167225736127}, 588: {'co': 0.7826184049874935}, 602: {'co': 0.7583315110679274}, 616: {'co': 0.7100585894884839}, 630: {'co': 0.7281020313917284}, 644: {'co': 0.7012316330686956}, 658: {'co': 0.7414146891025136}, 672: {'co': 0.7470585827634717}, 686: {'co': 0.7243390189090777}, 700: {'co': 0.6429877724526805}, 714: {'co': 0.7943465897205526}, 728: {'co': 0.830370567473605}, 742: {'co': 0.8498220549815303}, 767: {'co': 0.8562278508174602}, 781: {'co': 0.8605343861012077}, 795: {'co': 0.8403258116097635}, 809: {'co': 0.8359493739950037}, 823: {'co': 0.8345286929583162}, 837: {'co': 0.8340031460887667}, 851: {'co': 0.8250144133275558}, 865: {'co': 0.8597702427761388}, 879: {'co': 0.8564365022722875}, 893: {'co': 0.8555957481622144}, 907: {'co': 0.8593206218856286}, 921: {'co': 0.8570186303305475}, 935: {'co': 0.8417474187235613}}\n",
      "2022/09/19 11:43:04 INFO|---------|{'beta_mult': 1.05, 'booster_mult': 0.5, 'vir_mult': 2.38, 'fit_batch': '4', 'run_type': 'fit'}: Running forward sim\n",
      "2022/09/19 11:43:04 INFO|--------|{'beta_mult': 1.05, 'booster_mult': 1, 'vir_mult': 1, 'fit_batch': '4'}: Transmission control fit 5/5 completed in 16.33280841699991 seconds: {865: {'co': 0.8597702427761388}, 879: {'co': 0.8564365022722875}, 893: {'co': 0.8555957481622144}, 907: {'co': 0.8593206218856286}, 921: {'co': 0.8570186303305475}, 935: {'co': 0.8417474038224001}}\n",
      "2022/09/19 11:43:04 INFO|---------|{'beta_mult': 1.05, 'booster_mult': 1, 'vir_mult': 1, 'fit_batch': '4'}: Running forward sim\n",
      "2022/09/19 11:43:04 INFO|--------|{'beta_mult': 1.05, 'booster_mult': 1, 'vir_mult': 2.38, 'fit_batch': '4'}: Transmission control fit 5/5 completed in 16.109089915999903 seconds: {865: {'co': 0.8597702427761388}, 879: {'co': 0.8564365022722875}, 893: {'co': 0.8555957481622144}, 907: {'co': 0.8593206218856286}, 921: {'co': 0.8570186303305475}, 935: {'co': 0.8417474038224001}}\n",
      "2022/09/19 11:43:04 INFO|---------|{'beta_mult': 1.05, 'booster_mult': 1, 'vir_mult': 2.38, 'fit_batch': '4'}: Running forward sim\n",
      "2022/09/19 11:43:06 INFO|--------|{'beta_mult': 1.05, 'booster_mult': 1, 'vir_mult': 1, 'fit_batch': '4', 'run_type': 'fit'}: fitted TC: {0: {'co': 0.8306366865716341}, 14: {'co': 0.698195952820626}, 28: {'co': 0.5650437905410518}, 42: {'co': 1.2363018891185438e-15}, 56: {'co': 0.6966529100887137}, 70: {'co': 0.8332726903091638}, 84: {'co': 0.8296248539147445}, 98: {'co': 0.8316924950725628}, 112: {'co': 0.8774896861272652}, 126: {'co': 0.8243044312292909}, 140: {'co': 0.7604527585594816}, 154: {'co': 0.6712880198002112}, 168: {'co': 0.8430551350662076}, 182: {'co': 0.7826363491018719}, 196: {'co': 0.8191511062080898}, 210: {'co': 0.7726071132590828}, 224: {'co': 0.7713215726245787}, 238: {'co': 0.7185439635321001}, 252: {'co': 0.7220971480014075}, 266: {'co': 0.6850776840450525}, 280: {'co': 0.7198378028999177}, 294: {'co': 0.7589492742542242}, 308: {'co': 0.8220448705663365}, 322: {'co': 0.8119733884357985}, 336: {'co': 0.7821365886735826}, 350: {'co': 0.7958739060541818}, 364: {'co': 0.8019360887654008}, 378: {'co': 0.746456779184456}, 392: {'co': 0.7757315545700125}, 406: {'co': 0.7104267962185676}, 420: {'co': 0.7134426688644764}, 434: {'co': 0.6840712888293683}, 448: {'co': 0.7352224941559411}, 462: {'co': 0.8081582889337914}, 476: {'co': 0.7872692255768439}, 490: {'co': 0.8262347561657264}, 504: {'co': 0.7818331304673305}, 518: {'co': 0.7754467512044924}, 532: {'co': 0.7512544747619323}, 546: {'co': 0.705550286968481}, 560: {'co': 0.7337035999683909}, 574: {'co': 0.7422167225736127}, 588: {'co': 0.7826184049874935}, 602: {'co': 0.7583315110679274}, 616: {'co': 0.7100585894884839}, 630: {'co': 0.7281020313917284}, 644: {'co': 0.7012316330686956}, 658: {'co': 0.7414146891025136}, 672: {'co': 0.7470585827634717}, 686: {'co': 0.7243390189090777}, 700: {'co': 0.6429877724526805}, 714: {'co': 0.7943465897205526}, 728: {'co': 0.830370567473605}, 742: {'co': 0.8498220549815303}, 767: {'co': 0.8562278508174602}, 781: {'co': 0.8605343861012077}, 795: {'co': 0.8403258116097635}, 809: {'co': 0.8359493739950037}, 823: {'co': 0.8345286929583162}, 837: {'co': 0.8340031460887667}, 851: {'co': 0.8250144133275558}, 865: {'co': 0.8597702427761388}, 879: {'co': 0.8564365022722875}, 893: {'co': 0.8555957481622144}, 907: {'co': 0.8593206218856286}, 921: {'co': 0.8570186303305475}, 935: {'co': 0.8417474187235613}}\n",
      "2022/09/19 11:43:06 INFO|---------|{'beta_mult': 1.05, 'booster_mult': 1, 'vir_mult': 1, 'fit_batch': '4', 'run_type': 'fit'}: Running forward sim\n"
     ]
    },
    {
     "name": "stderr",
     "output_type": "stream",
     "text": [
      "2022/09/19 11:43:06 INFO|--------|{'beta_mult': 1.05, 'booster_mult': 1, 'vir_mult': 2.38, 'fit_batch': '4', 'run_type': 'fit'}: fitted TC: {0: {'co': 0.8306366865716341}, 14: {'co': 0.698195952820626}, 28: {'co': 0.5650437905410518}, 42: {'co': 1.2363018891185438e-15}, 56: {'co': 0.6966529100887137}, 70: {'co': 0.8332726903091638}, 84: {'co': 0.8296248539147445}, 98: {'co': 0.8316924950725628}, 112: {'co': 0.8774896861272652}, 126: {'co': 0.8243044312292909}, 140: {'co': 0.7604527585594816}, 154: {'co': 0.6712880198002112}, 168: {'co': 0.8430551350662076}, 182: {'co': 0.7826363491018719}, 196: {'co': 0.8191511062080898}, 210: {'co': 0.7726071132590828}, 224: {'co': 0.7713215726245787}, 238: {'co': 0.7185439635321001}, 252: {'co': 0.7220971480014075}, 266: {'co': 0.6850776840450525}, 280: {'co': 0.7198378028999177}, 294: {'co': 0.7589492742542242}, 308: {'co': 0.8220448705663365}, 322: {'co': 0.8119733884357985}, 336: {'co': 0.7821365886735826}, 350: {'co': 0.7958739060541818}, 364: {'co': 0.8019360887654008}, 378: {'co': 0.746456779184456}, 392: {'co': 0.7757315545700125}, 406: {'co': 0.7104267962185676}, 420: {'co': 0.7134426688644764}, 434: {'co': 0.6840712888293683}, 448: {'co': 0.7352224941559411}, 462: {'co': 0.8081582889337914}, 476: {'co': 0.7872692255768439}, 490: {'co': 0.8262347561657264}, 504: {'co': 0.7818331304673305}, 518: {'co': 0.7754467512044924}, 532: {'co': 0.7512544747619323}, 546: {'co': 0.705550286968481}, 560: {'co': 0.7337035999683909}, 574: {'co': 0.7422167225736127}, 588: {'co': 0.7826184049874935}, 602: {'co': 0.7583315110679274}, 616: {'co': 0.7100585894884839}, 630: {'co': 0.7281020313917284}, 644: {'co': 0.7012316330686956}, 658: {'co': 0.7414146891025136}, 672: {'co': 0.7470585827634717}, 686: {'co': 0.7243390189090777}, 700: {'co': 0.6429877724526805}, 714: {'co': 0.7943465897205526}, 728: {'co': 0.830370567473605}, 742: {'co': 0.8498220549815303}, 767: {'co': 0.8562278508174602}, 781: {'co': 0.8605343861012077}, 795: {'co': 0.8403258116097635}, 809: {'co': 0.8359493739950037}, 823: {'co': 0.8345286929583162}, 837: {'co': 0.8340031460887667}, 851: {'co': 0.8250144133275558}, 865: {'co': 0.8597702427761388}, 879: {'co': 0.8564365022722875}, 893: {'co': 0.8555957481622144}, 907: {'co': 0.8593206218856286}, 921: {'co': 0.8570186303305475}, 935: {'co': 0.8417474187235613}}\n",
      "2022/09/19 11:43:06 INFO|---------|{'beta_mult': 1.05, 'booster_mult': 1, 'vir_mult': 2.38, 'fit_batch': '4', 'run_type': 'fit'}: Running forward sim\n",
      "2022/09/19 11:45:09 INFO|-----------------------|spec_ids: 3812,3813,3814,3815,3816,3817,3818,3819,3820,3821,3822,3823,3824,3825,3826,3827,3828,3829\n"
     ]
    }
   ],
   "source": [
    "# run the scenarios\n",
    "models = do_fit_scenarios(base_model_args=model_args, scenario_args_list=scenario_model_args, fit_args=model_fit_args, multiprocess=multiprocess)"
   ]
  },
  {
   "cell_type": "markdown",
   "metadata": {
    "pycharm": {
     "name": "#%% md\n"
    }
   },
   "source": [
    "### Run the report for each fit model"
   ]
  },
  {
   "cell_type": "code",
   "execution_count": 7,
   "metadata": {
    "pycharm": {
     "name": "#%%\n"
    }
   },
   "outputs": [
    {
     "name": "stderr",
     "output_type": "stream",
     "text": [
      "2022/09/19 11:48:36 INFO|============================================================\n",
      "2022/09/19 11:48:36 INFO|--------|Solving model\n",
      "2022/09/19 11:48:37 INFO|============================================================\n",
      "2022/09/19 11:48:37 INFO|--------|Solving model\n",
      "2022/09/19 11:48:38 INFO|============================================================\n",
      "2022/09/19 11:48:38 INFO|--------|Solving model\n",
      "2022/09/19 11:48:39 INFO|============================================================\n",
      "2022/09/19 11:48:39 INFO|--------|Solving model\n",
      "2022/09/19 11:48:40 INFO|============================================================\n",
      "2022/09/19 11:48:40 INFO|--------|Solving model\n",
      "2022/09/19 11:48:41 INFO|============================================================\n",
      "2022/09/19 11:48:41 INFO|--------|Solving model\n",
      "2022/09/19 11:48:41 WARNING|No artists with labels found to put in legend.  Note that artists whose label start with an underscore are ignored when legend() is called with no argument.\n",
      "2022/09/19 11:48:42 WARNING|No artists with labels found to put in legend.  Note that artists whose label start with an underscore are ignored when legend() is called with no argument.\n",
      "2022/09/19 11:48:43 WARNING|No artists with labels found to put in legend.  Note that artists whose label start with an underscore are ignored when legend() is called with no argument.\n",
      "2022/09/19 11:48:44 WARNING|No artists with labels found to put in legend.  Note that artists whose label start with an underscore are ignored when legend() is called with no argument.\n",
      "2022/09/19 11:48:45 WARNING|No artists with labels found to put in legend.  Note that artists whose label start with an underscore are ignored when legend() is called with no argument.\n",
      "2022/09/19 11:48:46 WARNING|No artists with labels found to put in legend.  Note that artists whose label start with an underscore are ignored when legend() is called with no argument.\n",
      "2022/09/19 11:51:02 INFO|============================================================\n",
      "2022/09/19 11:51:02 INFO|--------|Solving model\n",
      "2022/09/19 11:51:04 INFO|============================================================\n",
      "2022/09/19 11:51:04 INFO|--------|Solving model\n",
      "2022/09/19 11:51:05 INFO|============================================================\n",
      "2022/09/19 11:51:05 INFO|--------|Solving model\n",
      "2022/09/19 11:51:07 WARNING|No artists with labels found to put in legend.  Note that artists whose label start with an underscore are ignored when legend() is called with no argument.\n",
      "2022/09/19 11:51:07 INFO|============================================================\n",
      "2022/09/19 11:51:07 INFO|--------|Solving model\n",
      "2022/09/19 11:51:09 INFO|============================================================\n",
      "2022/09/19 11:51:09 INFO|--------|Solving model\n",
      "2022/09/19 11:51:09 WARNING|No artists with labels found to put in legend.  Note that artists whose label start with an underscore are ignored when legend() is called with no argument.\n",
      "2022/09/19 11:51:10 WARNING|No artists with labels found to put in legend.  Note that artists whose label start with an underscore are ignored when legend() is called with no argument.\n",
      "2022/09/19 11:51:12 WARNING|No artists with labels found to put in legend.  Note that artists whose label start with an underscore are ignored when legend() is called with no argument.\n",
      "2022/09/19 11:51:12 INFO|============================================================\n",
      "2022/09/19 11:51:12 INFO|--------|Solving model\n",
      "2022/09/19 11:51:13 WARNING|No artists with labels found to put in legend.  Note that artists whose label start with an underscore are ignored when legend() is called with no argument.\n",
      "2022/09/19 11:51:17 WARNING|No artists with labels found to put in legend.  Note that artists whose label start with an underscore are ignored when legend() is called with no argument.\n",
      "2022/09/19 11:53:34 INFO|============================================================\n",
      "2022/09/19 11:53:34 INFO|--------|Solving model\n",
      "2022/09/19 11:53:36 INFO|============================================================\n",
      "2022/09/19 11:53:36 INFO|--------|Solving model\n",
      "2022/09/19 11:53:38 INFO|============================================================\n",
      "2022/09/19 11:53:38 INFO|--------|Solving model\n",
      "2022/09/19 11:53:39 WARNING|No artists with labels found to put in legend.  Note that artists whose label start with an underscore are ignored when legend() is called with no argument.\n",
      "2022/09/19 11:53:39 INFO|============================================================\n",
      "2022/09/19 11:53:39 INFO|--------|Solving model\n",
      "2022/09/19 11:53:41 WARNING|No artists with labels found to put in legend.  Note that artists whose label start with an underscore are ignored when legend() is called with no argument.\n",
      "2022/09/19 11:53:43 WARNING|No artists with labels found to put in legend.  Note that artists whose label start with an underscore are ignored when legend() is called with no argument.\n",
      "2022/09/19 11:53:44 INFO|============================================================\n",
      "2022/09/19 11:53:44 INFO|--------|Solving model\n",
      "2022/09/19 11:53:44 WARNING|No artists with labels found to put in legend.  Note that artists whose label start with an underscore are ignored when legend() is called with no argument.\n",
      "2022/09/19 11:53:48 WARNING|No artists with labels found to put in legend.  Note that artists whose label start with an underscore are ignored when legend() is called with no argument.\n",
      "2022/09/19 11:53:49 INFO|============================================================\n",
      "2022/09/19 11:53:49 INFO|--------|Solving model\n",
      "2022/09/19 11:53:54 WARNING|No artists with labels found to put in legend.  Note that artists whose label start with an underscore are ignored when legend() is called with no argument.\n"
     ]
    }
   ],
   "source": [
    "# here you can also specify which variants you want to calculate immunity for\n",
    "do_create_multiple_reports(models, multiprocess=multiprocess, outdir=outdir,\n",
    "                           prep_model=False, solve_model=True, immun_variants=['ba45', 'vx'], from_date='2022-01-01')"
   ]
  },
  {
   "cell_type": "code",
   "execution_count": 8,
   "metadata": {
    "pycharm": {
     "name": "#%%\n"
    }
   },
   "outputs": [
    {
     "name": "stderr",
     "output_type": "stream",
     "text": [
      "2022/09/19 12:00:40 INFO|Projecting\n",
      "2022/09/19 12:00:40 INFO|\n",
      "2022/09/19 12:01:04 INFO|{'beta_mult': 0.95, 'booster_mult': 0, 'vir_mult': 1, 'fit_batch': '4', 'run_type': 'fit'}: Running forward sim\n",
      "2022/09/19 12:01:06 INFO|\n",
      "2022/09/19 12:01:32 INFO|{'beta_mult': 0.95, 'booster_mult': 0, 'vir_mult': 2.38, 'fit_batch': '4', 'run_type': 'fit'}: Running forward sim\n",
      "2022/09/19 12:01:34 INFO|\n",
      "2022/09/19 12:01:58 INFO|{'beta_mult': 0.95, 'booster_mult': 0.5, 'vir_mult': 1, 'fit_batch': '4', 'run_type': 'fit'}: Running forward sim\n",
      "2022/09/19 12:02:00 INFO|\n",
      "2022/09/19 12:02:25 INFO|{'beta_mult': 0.95, 'booster_mult': 0.5, 'vir_mult': 2.38, 'fit_batch': '4', 'run_type': 'fit'}: Running forward sim\n",
      "2022/09/19 12:02:27 INFO|\n",
      "2022/09/19 12:02:50 INFO|{'beta_mult': 0.95, 'booster_mult': 1, 'vir_mult': 1, 'fit_batch': '4', 'run_type': 'fit'}: Running forward sim\n",
      "2022/09/19 12:02:52 INFO|\n",
      "2022/09/19 12:03:16 INFO|{'beta_mult': 0.95, 'booster_mult': 1, 'vir_mult': 2.38, 'fit_batch': '4', 'run_type': 'fit'}: Running forward sim\n",
      "2022/09/19 12:03:18 INFO|\n",
      "2022/09/19 12:03:39 INFO|{'beta_mult': 1.0, 'booster_mult': 0, 'vir_mult': 1, 'fit_batch': '4', 'run_type': 'fit'}: Running forward sim\n",
      "2022/09/19 12:03:41 INFO|\n",
      "2022/09/19 12:04:04 INFO|{'beta_mult': 1.0, 'booster_mult': 0, 'vir_mult': 2.38, 'fit_batch': '4', 'run_type': 'fit'}: Running forward sim\n",
      "2022/09/19 12:04:06 INFO|\n",
      "2022/09/19 12:04:31 INFO|{'beta_mult': 1.0, 'booster_mult': 0.5, 'vir_mult': 1, 'fit_batch': '4', 'run_type': 'fit'}: Running forward sim\n",
      "2022/09/19 12:04:33 INFO|\n",
      "2022/09/19 12:04:56 INFO|{'beta_mult': 1.0, 'booster_mult': 0.5, 'vir_mult': 2.38, 'fit_batch': '4', 'run_type': 'fit'}: Running forward sim\n",
      "2022/09/19 12:04:58 INFO|\n",
      "2022/09/19 12:05:21 INFO|{'beta_mult': 1.0, 'booster_mult': 1, 'vir_mult': 1, 'fit_batch': '4', 'run_type': 'fit'}: Running forward sim\n",
      "2022/09/19 12:05:23 INFO|\n",
      "2022/09/19 12:05:49 INFO|{'beta_mult': 1.0, 'booster_mult': 1, 'vir_mult': 2.38, 'fit_batch': '4', 'run_type': 'fit'}: Running forward sim\n",
      "2022/09/19 12:05:51 INFO|\n",
      "2022/09/19 12:06:15 INFO|{'beta_mult': 1.05, 'booster_mult': 0, 'vir_mult': 1, 'fit_batch': '4', 'run_type': 'fit'}: Running forward sim\n",
      "2022/09/19 12:06:17 INFO|\n",
      "2022/09/19 12:06:41 INFO|{'beta_mult': 1.05, 'booster_mult': 0, 'vir_mult': 2.38, 'fit_batch': '4', 'run_type': 'fit'}: Running forward sim\n",
      "2022/09/19 12:06:43 INFO|\n",
      "2022/09/19 12:07:05 INFO|{'beta_mult': 1.05, 'booster_mult': 0.5, 'vir_mult': 1, 'fit_batch': '4', 'run_type': 'fit'}: Running forward sim\n",
      "2022/09/19 12:07:07 INFO|\n",
      "2022/09/19 12:07:32 INFO|{'beta_mult': 1.05, 'booster_mult': 0.5, 'vir_mult': 2.38, 'fit_batch': '4', 'run_type': 'fit'}: Running forward sim\n",
      "2022/09/19 12:07:33 INFO|\n",
      "2022/09/19 12:07:56 INFO|{'beta_mult': 1.05, 'booster_mult': 1, 'vir_mult': 1, 'fit_batch': '4', 'run_type': 'fit'}: Running forward sim\n",
      "2022/09/19 12:07:58 INFO|\n",
      "2022/09/19 12:08:22 INFO|{'beta_mult': 1.05, 'booster_mult': 1, 'vir_mult': 2.38, 'fit_batch': '4', 'run_type': 'fit'}: Running forward sim\n",
      "2022/09/19 12:08:24 INFO|Running reports\n"
     ]
    }
   ],
   "source": [
    "logging.info('Projecting')\n",
    "for model in models:\n",
    "    logging.info('')\n",
    "    #model.prep()  # don't think we need to prep anymore.\n",
    "    model.solve_seir()\n",
    "\n",
    "    model.solution_sum_df(['seir', 'variant', 'immun']).unstack().to_csv(get_filepath_prefix(outdir, tags=model.tags) + 'states_seir_variant_immun_total_all_at_once_projection.csv')\n",
    "    model.solution_sum_df().unstack().to_csv(get_filepath_prefix(outdir, tags=model.tags) + 'states_full_projection.csv')\n",
    "\n",
    "    logging.info(f'{str(model.tags)}: Running forward sim')\n",
    "    fig = plt.figure(figsize=(10, 10), dpi=300)\n",
    "    ax = fig.add_subplot(211)\n",
    "    hosps_df = model.modeled_vs_observed_hosps().reset_index('region').drop(columns='region')\n",
    "    hosps_df.plot(ax=ax)\n",
    "    ax.set_xlim(dt.datetime.strptime('2022-01-01', \"%Y-%m-%d\").date(), dt.datetime.strptime('2024-01-01', \"%Y-%m-%d\").date())\n",
    "    ax = fig.add_subplot(212)\n",
    "    plot_transmission_control(model, ax=ax)\n",
    "    ax.set_xlim(dt.datetime.strptime('2022-01-01', \"%Y-%m-%d\").date(), dt.datetime.strptime('2024-01-01', \"%Y-%m-%d\").date())\n",
    "    plt.savefig(get_filepath_prefix(outdir, tags=model.tags) + 'model_forecast.png')\n",
    "    plt.close()\n",
    "    hosps_df.to_csv(get_filepath_prefix(outdir, tags=model.tags) + '_model_forecast.csv')\n",
    "    json.dump(model.tc, open(get_filepath_prefix(outdir, tags=model.tags) + 'model_forecast_tc.json', 'w'))\n",
    "\n",
    "logging.info('Running reports')"
   ]
  }
 ],
 "metadata": {
  "kernelspec": {
   "display_name": "Python 3 (ipykernel)",
   "language": "python",
   "name": "python3"
  },
  "language_info": {
   "codemirror_mode": {
    "name": "ipython",
    "version": 3
   },
   "file_extension": ".py",
   "mimetype": "text/x-python",
   "name": "python",
   "nbconvert_exporter": "python",
   "pygments_lexer": "ipython3",
   "version": "3.9.13"
  }
 },
 "nbformat": 4,
 "nbformat_minor": 4
}
