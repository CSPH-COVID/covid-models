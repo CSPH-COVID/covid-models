{
 "cells": [
  {
   "cell_type": "markdown",
   "metadata": {
    "pycharm": {
     "name": "#%% md\n"
    }
   },
   "source": [
    "### Setup"
   ]
  },
  {
   "cell_type": "code",
   "execution_count": 1,
   "metadata": {
    "pycharm": {
     "name": "#%%\n"
    }
   },
   "outputs": [
    {
     "name": "stdout",
     "output_type": "stream",
     "text": [
      "/Users/emwu9912/PycharmProjects/covid-models\n"
     ]
    }
   ],
   "source": [
    "\"\"\" Python Standard Library \"\"\"\n",
    "import os\n",
    "import datetime as dt\n",
    "import json\n",
    "import logging\n",
    "\"\"\" Third Party Imports \"\"\"\n",
    "import numpy as np\n",
    "import pandas as pd\n",
    "from matplotlib import pyplot as plt\n",
    "%matplotlib inline\n",
    "import seaborn as sns\n",
    "\"\"\" Local Imports \"\"\"\n",
    "if 'requirements.txt' not in os.listdir(os.getcwd()):\n",
    "    os.chdir(os.path.join('..','..','..'))\n",
    "print(os.getcwd())\n",
    "from covid_model.model import CovidModel\n",
    "from covid_model.runnable_functions import do_single_fit, do_fit_scenarios, do_create_report\n",
    "from covid_model.utils import setup, get_filepath_prefix\n",
    "from covid_model.analysis.charts import plot_transmission_control\n",
    "\n",
    "os.environ['gcp_project'] = 'co-covid-models'\n",
    "os.environ['GOOGLE_APPLICATION_CREDENTIALS'] = \"co-covid-models-credentials.json\""
   ]
  },
  {
   "cell_type": "code",
   "execution_count": 2,
   "metadata": {
    "pycharm": {
     "name": "#%%\n"
    },
    "scrolled": true
   },
   "outputs": [
    {
     "name": "stderr",
     "output_type": "stream",
     "text": [
      "2022/12/02 08:43:42 INFO|============================================================\n"
     ]
    }
   ],
   "source": [
    "# set up the output directory for this Jupyter notebook\n",
    "outdir = setup(\"20221203_scenario_projections.ipynb\")"
   ]
  },
  {
   "cell_type": "markdown",
   "metadata": {
    "pycharm": {
     "name": "#%% md\n"
    }
   },
   "source": [
    "### Fit an initial scenario through present day"
   ]
  },
  {
   "cell_type": "code",
   "execution_count": 3,
   "metadata": {},
   "outputs": [],
   "source": [
    "# set inputs for the model\n",
    "\n",
    "# first establish the model start date\n",
    "startdate = dt.date(2020, 1, 24).isoformat()\n",
    "# then get today's date (so we can set end dates automatically)\n",
    "today = dt.datetime.today().strftime(\"%Y-%m-%d\")\n",
    "# now calculate the end date (let's do 90 days from today's date, but can be as long we we want)\n",
    "plus90 = dt.datetime.strptime(today, \"%Y-%m-%d\").date() + dt.timedelta(days = 90)\n",
    "enddate = plus90.isoformat()\n",
    "\n",
    "# set model arguments\n",
    "model_args = {\n",
    "    'params_defs': 'covid_model/analysis/20221202_dec_cdphe_slides/20221202_scenario_params.json',\n",
    "    #'region_defs': 'covid_model/input/region_definitions.json',\n",
    "    'vacc_proj_params': 'covid_model/analysis/20221202_dec_cdphe_slides/20221202_vacc_proj_params.json',\n",
    "    'start_date': startdate,\n",
    "    'end_date': enddate\n",
    "}\n",
    "\n",
    "# set output directory and end date for fit (which is today's date)\n",
    "fit_args = {\n",
    "    'outdir': outdir,\n",
    "    'fit_end_date': '2022-12-01'\n",
    "}"
   ]
  },
  {
   "cell_type": "code",
   "execution_count": 4,
   "metadata": {
    "pycharm": {
     "name": "#%%\n"
    }
   },
   "outputs": [
    {
     "name": "stderr",
     "output_type": "stream",
     "text": [
      "2022/12/02 08:43:49 INFO|-------------------------|{} Retrieving vaccinations data\n",
      "2022/12/02 08:43:51 INFO|-------------------------|{} Constructing vaccination projections\n",
      "2022/12/02 08:43:52 INFO|-------------------------|{} Retrieving hospitalizations data\n",
      "2022/12/02 08:43:54 INFO|----------------------|{} Prepping Model\n",
      "2022/12/02 08:43:54 INFO|-----------------------|{} Prepping Model\n",
      "2022/12/02 08:45:09 INFO|----------------------|{} Model prepped for fitting in 75.62295375 seconds.\n",
      "2022/12/02 08:45:09 INFO|----------------------|{} Will fit 35 times\n",
      "2022/12/02 08:46:45 INFO|----------------------|{'fit_batch': '0'}: Transmission control fit 1/35 completed in 96.230994917 seconds: {0: {'co': 0.8306366901049832}, 14: {'co': 0.6979474721369532}, 28: {'co': 0.5697936096821077}, 42: {'co': 0.0028740584700378217}, 56: {'co': 0.6814675459889091}, 70: {'co': 0.8912767480731285}}\n",
      "2022/12/02 08:46:45 INFO|-----------------------|{'fit_batch': '0'}: Running forward sim\n",
      "2022/12/02 08:47:06 INFO|----------------------|{'fit_batch': '1'}: Transmission control fit 2/35 completed in 18.59758529199999 seconds: {28: {'co': 0.5653441611664685}, 42: {'co': 1.3652141957631559e-15}, 56: {'co': 0.6954765913102722}, 70: {'co': 0.8359306639235604}, 84: {'co': 0.8209483446856403}, 98: {'co': 0.8732898548085105}}\n",
      "2022/12/02 08:47:06 INFO|-----------------------|{'fit_batch': '1'}: Running forward sim\n",
      "2022/12/02 08:47:28 INFO|----------------------|{'fit_batch': '2'}: Transmission control fit 3/35 completed in 20.257238333000004 seconds: {56: {'co': 0.696654559342302}, 70: {'co': 0.8332722116073074}, 84: {'co': 0.8289546745050831}, 98: {'co': 0.8349953289754974}, 112: {'co': 0.8626439680125653}, 126: {'co': 0.918737160578953}}\n",
      "2022/12/02 08:47:28 INFO|-----------------------|{'fit_batch': '2'}: Running forward sim\n",
      "2022/12/02 08:47:48 INFO|----------------------|{'fit_batch': '3'}: Transmission control fit 4/35 completed in 18.278991665999996 seconds: {84: {'co': 0.82962512239442}, 98: {'co': 0.8316923186023013}, 112: {'co': 0.8774223879135394}, 126: {'co': 0.8238379295942571}, 140: {'co': 0.7629556751503929}, 154: {'co': 0.6614392458727331}}\n",
      "2022/12/02 08:47:48 INFO|-----------------------|{'fit_batch': '3'}: Running forward sim\n",
      "2022/12/02 08:48:05 INFO|----------------------|{'fit_batch': '4'}: Transmission control fit 5/35 completed in 15.454262083000032 seconds: {112: {'co': 0.8774898007239225}, 126: {'co': 0.8243043369504381}, 140: {'co': 0.7606935258513594}, 154: {'co': 0.6708650469136652}, 168: {'co': 0.8437499496934443}, 182: {'co': 0.7840786427020158}}\n",
      "2022/12/02 08:48:05 INFO|-----------------------|{'fit_batch': '4'}: Running forward sim\n",
      "2022/12/02 08:48:25 INFO|----------------------|{'fit_batch': '5'}: Transmission control fit 6/35 completed in 18.706850291000023 seconds: {140: {'co': 0.7604528019653467}, 154: {'co': 0.6712879976498703}, 168: {'co': 0.8432437717643494}, 182: {'co': 0.7801992063125968}, 196: {'co': 0.8275651289864483}, 210: {'co': 0.7403273670930397}}\n",
      "2022/12/02 08:48:25 INFO|-----------------------|{'fit_batch': '5'}: Running forward sim\n",
      "2022/12/02 08:48:44 INFO|----------------------|{'fit_batch': '6'}: Transmission control fit 7/35 completed in 16.855292208000037 seconds: {168: {'co': 0.843055137025322}, 182: {'co': 0.7826363420964334}, 196: {'co': 0.8196040075339532}, 210: {'co': 0.7710707174414881}, 224: {'co': 0.774231134462996}, 238: {'co': 0.7168195352318268}}\n",
      "2022/12/02 08:48:44 INFO|-----------------------|{'fit_batch': '6'}: Running forward sim\n",
      "2022/12/02 08:49:02 INFO|----------------------|{'fit_batch': '7'}: Transmission control fit 8/35 completed in 16.82816404199997 seconds: {196: {'co': 0.8191511038872135}, 210: {'co': 0.7726071080040622}, 224: {'co': 0.7703420332563402}, 238: {'co': 0.721769035300107}, 252: {'co': 0.7177907826579367}, 266: {'co': 0.6919029462197565}}\n",
      "2022/12/02 08:49:02 INFO|-----------------------|{'fit_batch': '7'}: Running forward sim\n",
      "2022/12/02 08:49:18 INFO|----------------------|{'fit_batch': '8'}: Transmission control fit 9/35 completed in 14.318823875000021 seconds: {224: {'co': 0.7713215677226225}, 238: {'co': 0.7185439592957277}, 252: {'co': 0.7226278133013376}, 266: {'co': 0.6833515758818336}, 280: {'co': 0.7227289033178563}, 294: {'co': 0.7531948795669933}}\n",
      "2022/12/02 08:49:18 INFO|-----------------------|{'fit_batch': '8'}: Running forward sim\n",
      "2022/12/02 08:49:37 INFO|----------------------|{'fit_batch': '9'}: Transmission control fit 10/35 completed in 16.78732420800003 seconds: {252: {'co': 0.7220971415250982}, 266: {'co': 0.6850776789219871}, 280: {'co': 0.7200763156360057}, 294: {'co': 0.7580891553878267}, 308: {'co': 0.8257609727270245}, 322: {'co': 0.7957021287405586}}\n",
      "2022/12/02 08:49:37 INFO|-----------------------|{'fit_batch': '9'}: Running forward sim\n",
      "2022/12/02 08:49:55 INFO|----------------------|{'fit_batch': '10'}: Transmission control fit 11/35 completed in 16.478787915999987 seconds: {280: {'co': 0.7198394692783692}, 294: {'co': 0.758943479217386}, 308: {'co': 0.8229796555362344}, 322: {'co': 0.8099080767789112}, 336: {'co': 0.7879799134545434}, 350: {'co': 0.7724617486449319}}\n",
      "2022/12/02 08:49:55 INFO|-----------------------|{'fit_batch': '10'}: Running forward sim\n",
      "2022/12/02 08:50:12 INFO|----------------------|{'fit_batch': '11'}: Transmission control fit 12/35 completed in 16.132987749999984 seconds: {308: {'co': 0.8220718753282614}, 322: {'co': 0.81184803323245}, 336: {'co': 0.7824855003462561}, 350: {'co': 0.7937459430101024}, 364: {'co': 0.8119966982246198}, 378: {'co': 0.7087558779435891}}\n",
      "2022/12/02 08:50:12 INFO|-----------------------|{'fit_batch': '11'}: Running forward sim\n",
      "2022/12/02 08:50:29 INFO|----------------------|{'fit_batch': '12'}: Transmission control fit 13/35 completed in 15.121523041999978 seconds: {336: {'co': 0.782321907966205}, 350: {'co': 0.7949852124622246}, 364: {'co': 0.8055033943755379}, 378: {'co': 0.7394695112925765}, 392: {'co': 0.8041246467906068}, 406: {'co': 0.6086965127817917}}\n",
      "2022/12/02 08:50:29 INFO|-----------------------|{'fit_batch': '12'}: Running forward sim\n",
      "2022/12/02 08:50:48 INFO|----------------------|{'fit_batch': '13'}: Transmission control fit 14/35 completed in 17.073599875000014 seconds: {364: {'co': 0.8041859914631788}, 378: {'co': 0.7476409894586767}, 392: {'co': 0.7792808834054329}, 406: {'co': 0.7062845394074299}, 420: {'co': 0.7325123328836677}, 434: {'co': 0.649699991186658}}\n",
      "2022/12/02 08:50:48 INFO|-----------------------|{'fit_batch': '13'}: Running forward sim\n",
      "2022/12/02 08:51:06 INFO|----------------------|{'fit_batch': '14'}: Transmission control fit 15/35 completed in 16.703264542 seconds: {392: {'co': 0.7774915771218043}, 406: {'co': 0.7134316608895619}, 420: {'co': 0.7173847993041189}, 434: {'co': 0.689183287235021}, 448: {'co': 0.7438850124837191}, 462: {'co': 0.8045450950210625}}\n",
      "2022/12/02 08:51:06 INFO|-----------------------|{'fit_batch': '14'}: Running forward sim\n",
      "2022/12/02 08:51:26 INFO|----------------------|{'fit_batch': '15'}: Transmission control fit 16/35 completed in 17.97194041700004 seconds: {420: {'co': 0.7175053664536238}, 434: {'co': 0.6894350057614965}, 448: {'co': 0.7415122266693296}, 462: {'co': 0.8165827856045805}, 476: {'co': 0.7913502219617602}, 490: {'co': 0.8550870539577363}}\n",
      "2022/12/02 08:51:26 INFO|-----------------------|{'fit_batch': '15'}: Running forward sim\n",
      "2022/12/02 08:51:42 INFO|----------------------|{'fit_batch': '16'}: Transmission control fit 17/35 completed in 14.010856915999966 seconds: {448: {'co': 0.7411387327057414}, 462: {'co': 0.8144007989359587}, 476: {'co': 0.7975543158989123}, 490: {'co': 0.8322010429836312}, 504: {'co': 0.8002961228159898}, 518: {'co': 0.7520404368469299}}\n",
      "2022/12/02 08:51:42 INFO|-----------------------|{'fit_batch': '16'}: Running forward sim\n",
      "2022/12/02 08:51:55 INFO|----------------------|{'fit_batch': '17'}: Transmission control fit 18/35 completed in 11.980591333000007 seconds: {476: {'co': 0.7967626463553011}, 490: {'co': 0.8343717436291318}, 504: {'co': 0.7932788201533699}, 518: {'co': 0.7844381301785948}, 532: {'co': 0.7707791534987992}, 546: {'co': 0.7078219014433408}}\n",
      "2022/12/02 08:51:55 INFO|-----------------------|{'fit_batch': '17'}: Running forward sim\n"
     ]
    },
    {
     "name": "stderr",
     "output_type": "stream",
     "text": [
      "2022/12/02 08:52:07 INFO|----------------------|{'fit_batch': '18'}: Transmission control fit 19/35 completed in 9.870570416999954 seconds: {504: {'co': 0.7927614871209054}, 518: {'co': 0.7862978554746909}, 532: {'co': 0.7661786113032724}, 546: {'co': 0.7176009765946489}, 560: {'co': 0.7506313141027119}, 574: {'co': 0.7457868867473114}}\n",
      "2022/12/02 08:52:07 INFO|-----------------------|{'fit_batch': '18'}: Running forward sim\n",
      "2022/12/02 08:52:26 INFO|----------------------|{'fit_batch': '19'}: Transmission control fit 20/35 completed in 17.328650249999953 seconds: {532: {'co': 0.7655333902579111}, 546: {'co': 0.7194148609709348}, 560: {'co': 0.7472635843220005}, 574: {'co': 0.7558547271989949}, 588: {'co': 0.7926874525758997}, 602: {'co': 0.7730462154883716}}\n",
      "2022/12/02 08:52:26 INFO|-----------------------|{'fit_batch': '19'}: Running forward sim\n",
      "2022/12/02 08:52:43 INFO|----------------------|{'fit_batch': '20'}: Transmission control fit 21/35 completed in 15.135060708999958 seconds: {560: {'co': 0.7474540436451743}, 574: {'co': 0.7553402529588832}, 588: {'co': 0.7938527735365261}, 602: {'co': 0.7721479018673253}, 616: {'co': 0.724336350185274}, 630: {'co': 0.747070953639954}}\n",
      "2022/12/02 08:52:43 INFO|-----------------------|{'fit_batch': '20'}: Running forward sim\n",
      "2022/12/02 08:52:57 INFO|----------------------|{'fit_batch': '21'}: Transmission control fit 22/35 completed in 12.359430875000044 seconds: {588: {'co': 0.7941579420970474}, 602: {'co': 0.7711605544975287}, 616: {'co': 0.7267064134627679}, 630: {'co': 0.7422958238384182}, 644: {'co': 0.7230413446206485}, 658: {'co': 0.753538959134216}}\n",
      "2022/12/02 08:52:57 INFO|-----------------------|{'fit_batch': '21'}: Running forward sim\n",
      "2022/12/02 08:53:19 INFO|----------------------|{'fit_batch': '22'}: Transmission control fit 23/35 completed in 20.16455575000009 seconds: {616: {'co': 0.7262753681941554}, 630: {'co': 0.7436197301934517}, 644: {'co': 0.7196729316406009}, 658: {'co': 0.7660032122276762}, 672: {'co': 0.7598538575295839}, 686: {'co': 0.8402581756946977}}\n",
      "2022/12/02 08:53:19 INFO|-----------------------|{'fit_batch': '22'}: Running forward sim\n",
      "2022/12/02 08:53:38 INFO|----------------------|{'fit_batch': '23'}: Transmission control fit 24/35 completed in 17.282707542000026 seconds: {644: {'co': 0.7204699470575185}, 658: {'co': 0.7609736226934546}, 672: {'co': 0.7733131064757837}, 686: {'co': 0.7964112305368128}, 700: {'co': 0.7598175709768042}, 714: {'co': 0.7976794935445485}}\n",
      "2022/12/02 08:53:38 INFO|-----------------------|{'fit_batch': '23'}: Running forward sim\n",
      "2022/12/02 08:54:33 INFO|----------------------|{'fit_batch': '24'}: Transmission control fit 25/35 completed in 53.852132332999986 seconds: {672: {'co': 0.7730991049687858}, 686: {'co': 0.7978251146176837}, 700: {'co': 0.7583929190242142}, 714: {'co': 0.7983786973744602}, 728: {'co': 0.8031232742972517}, 742: {'co': 0.7956346547753523}}\n",
      "2022/12/02 08:54:33 INFO|-----------------------|{'fit_batch': '24'}: Running forward sim\n",
      "2022/12/02 08:54:58 INFO|----------------------|{'fit_batch': '25'}: Transmission control fit 26/35 completed in 22.979805124999984 seconds: {700: {'co': 0.758318335360342}, 714: {'co': 0.7986282999014035}, 728: {'co': 0.8026359571700753}, 742: {'co': 0.7989683652319736}, 756: {'co': 0.7778916336695602}, 770: {'co': 0.8342706102921297}}\n",
      "2022/12/02 08:54:58 INFO|-----------------------|{'fit_batch': '25'}: Running forward sim\n",
      "2022/12/02 08:55:17 INFO|----------------------|{'fit_batch': '26'}: Transmission control fit 27/35 completed in 17.69972179199999 seconds: {728: {'co': 0.8025852095919753}, 742: {'co': 0.798963337804288}, 756: {'co': 0.7810969649315995}, 770: {'co': 0.8125733321176205}, 784: {'co': 0.8063033416394821}, 798: {'co': 0.8245306929699315}}\n",
      "2022/12/02 08:55:17 INFO|-----------------------|{'fit_batch': '26'}: Running forward sim\n",
      "2022/12/02 08:55:41 INFO|----------------------|{'fit_batch': '27'}: Transmission control fit 28/35 completed in 22.544303832999958 seconds: {756: {'co': 0.7816950578298479}, 770: {'co': 0.813192104580239}, 784: {'co': 0.8091241222739184}, 798: {'co': 0.8096222192951958}, 812: {'co': 0.8187331811891781}, 826: {'co': 0.8348001589243411}}\n",
      "2022/12/02 08:55:41 INFO|-----------------------|{'fit_batch': '27'}: Running forward sim\n",
      "2022/12/02 08:56:04 INFO|----------------------|{'fit_batch': '28'}: Transmission control fit 29/35 completed in 20.598672291999947 seconds: {784: {'co': 0.8096630265051064}, 798: {'co': 0.8081922400624691}, 812: {'co': 0.8225528454506476}, 826: {'co': 0.8286082516547284}, 840: {'co': 0.8381658651976752}, 854: {'co': 0.8321833420887044}}\n",
      "2022/12/02 08:56:04 INFO|-----------------------|{'fit_batch': '28'}: Running forward sim\n",
      "2022/12/02 08:56:22 INFO|----------------------|{'fit_batch': '29'}: Transmission control fit 30/35 completed in 16.889183165999953 seconds: {812: {'co': 0.8221315349486252}, 826: {'co': 0.8300342400760831}, 840: {'co': 0.8358963675341738}, 854: {'co': 0.8368997420731489}, 868: {'co': 0.8659848686347503}, 882: {'co': 0.849640549685579}}\n",
      "2022/12/02 08:56:22 INFO|-----------------------|{'fit_batch': '29'}: Running forward sim\n",
      "2022/12/02 08:56:44 INFO|----------------------|{'fit_batch': '30'}: Transmission control fit 31/35 completed in 20.14914537499999 seconds: {840: {'co': 0.8356895498113566}, 854: {'co': 0.8373099688824024}, 868: {'co': 0.8651114327000535}, 882: {'co': 0.8509795105881628}, 896: {'co': 0.8523698881369363}, 910: {'co': 0.8590123901292359}}\n",
      "2022/12/02 08:56:44 INFO|-----------------------|{'fit_batch': '30'}: Running forward sim\n",
      "2022/12/02 08:57:05 INFO|----------------------|{'fit_batch': '31'}: Transmission control fit 32/35 completed in 18.825378125000043 seconds: {868: {'co': 0.864687289394366}, 882: {'co': 0.8509404492868137}, 896: {'co': 0.8530003978799017}, 910: {'co': 0.8567526261774092}, 924: {'co': 0.8576935633737639}, 938: {'co': 0.8293886405161948}}\n",
      "2022/12/02 08:57:05 INFO|-----------------------|{'fit_batch': '31'}: Running forward sim\n",
      "2022/12/02 08:57:25 INFO|----------------------|{'fit_batch': '32'}: Transmission control fit 33/35 completed in 19.195170499999904 seconds: {896: {'co': 0.8528233743098343}, 910: {'co': 0.8569931669466534}, 924: {'co': 0.8563451469633517}, 938: {'co': 0.8381797514725967}, 952: {'co': 0.8538793730591482}, 966: {'co': 0.8211606804640008}}\n",
      "2022/12/02 08:57:25 INFO|-----------------------|{'fit_batch': '32'}: Running forward sim\n",
      "2022/12/02 08:57:47 INFO|----------------------|{'fit_batch': '33'}: Transmission control fit 34/35 completed in 19.90726749999999 seconds: {924: {'co': 0.8561777135904901}, 938: {'co': 0.8389060446979563}, 952: {'co': 0.8515880416551189}, 966: {'co': 0.8292612713843679}, 980: {'co': 0.8340398150889794}, 994: {'co': 0.8189845531861238}}\n",
      "2022/12/02 08:57:47 INFO|-----------------------|{'fit_batch': '33'}: Running forward sim\n",
      "2022/12/02 08:58:11 INFO|----------------------|{'fit_batch': '34'}: Transmission control fit 35/35 completed in 22.330744500000037 seconds: {938: {'co': 0.8387455252350035}, 952: {'co': 0.852417132394406}, 966: {'co': 0.8260331492280361}, 980: {'co': 0.8428368811132524}, 994: {'co': 0.7963923762621222}, 1008: {'co': 0.796109791513453}}\n",
      "2022/12/02 08:58:11 INFO|-----------------------|{'fit_batch': '34'}: Running forward sim\n",
      "2022/12/02 08:58:13 INFO|----------------------|{'fit_batch': '34', 'run_type': 'fit'}: fitted TC: {0: {'co': 0.8306366892517045}, 14: {'co': 0.6979474779294794}, 28: {'co': 0.5653441611664685}, 42: {'co': 1.3652141957631559e-15}, 56: {'co': 0.696654559342302}, 70: {'co': 0.8332722116073074}, 84: {'co': 0.82962512239442}, 98: {'co': 0.8316923186023013}, 112: {'co': 0.8774898007239225}, 126: {'co': 0.8243043369504381}, 140: {'co': 0.7604528019653467}, 154: {'co': 0.6712879976498703}, 168: {'co': 0.843055137025322}, 182: {'co': 0.7826363420964334}, 196: {'co': 0.8191511038872135}, 210: {'co': 0.7726071080040622}, 224: {'co': 0.7713215677226225}, 238: {'co': 0.7185439592957277}, 252: {'co': 0.7220971415250982}, 266: {'co': 0.6850776789219871}, 280: {'co': 0.7198394692783692}, 294: {'co': 0.758943479217386}, 308: {'co': 0.8220718753282614}, 322: {'co': 0.81184803323245}, 336: {'co': 0.782321907966205}, 350: {'co': 0.7949852124622246}, 364: {'co': 0.8041859914631788}, 378: {'co': 0.7476409894586767}, 392: {'co': 0.7774915771218043}, 406: {'co': 0.7134316608895619}, 420: {'co': 0.7175053664536238}, 434: {'co': 0.6894350057614965}, 448: {'co': 0.7411387327057414}, 462: {'co': 0.8144007989359587}, 476: {'co': 0.7967626463553011}, 490: {'co': 0.8343717436291318}, 504: {'co': 0.7927614871209054}, 518: {'co': 0.7862978554746909}, 532: {'co': 0.7655333902579111}, 546: {'co': 0.7194148609709348}, 560: {'co': 0.7474540436451743}, 574: {'co': 0.7553402529588832}, 588: {'co': 0.7941579420970474}, 602: {'co': 0.7711605544975287}, 616: {'co': 0.7262753681941554}, 630: {'co': 0.7436197301934517}, 644: {'co': 0.7204699470575185}, 658: {'co': 0.7609736226934546}, 672: {'co': 0.7730991049687858}, 686: {'co': 0.7978251146176837}, 700: {'co': 0.758318335360342}, 714: {'co': 0.7986282999014035}, 728: {'co': 0.8025852095919753}, 742: {'co': 0.798963337804288}, 756: {'co': 0.7816950578298479}, 770: {'co': 0.813192104580239}, 784: {'co': 0.8096630265051064}, 798: {'co': 0.8081922400624691}, 812: {'co': 0.8221315349486252}, 826: {'co': 0.8300342400760831}, 840: {'co': 0.8356895498113566}, 854: {'co': 0.8373099688824024}, 868: {'co': 0.864687289394366}, 882: {'co': 0.8509404492868137}, 896: {'co': 0.8528233743098343}, 910: {'co': 0.8569931669466534}, 924: {'co': 0.8561777135904901}, 938: {'co': 0.8387455252350035}, 952: {'co': 0.852417132394406}, 966: {'co': 0.8260331492280361}, 980: {'co': 0.8428368811132524}, 994: {'co': 0.7963923762621222}, 1008: {'co': 0.7961098064146142}}\n"
     ]
    },
    {
     "name": "stderr",
     "output_type": "stream",
     "text": [
      "2022/12/02 08:58:13 INFO|-----------------------|{'fit_batch': '34', 'run_type': 'fit'}: Running forward sim\n",
      "2022/12/02 08:58:14 INFO|----------------------|{'fit_batch': '34', 'run_type': 'fit'}: Uploading final results\n",
      "2022/12/02 08:58:22 INFO|----------------------|{'fit_batch': '34', 'run_type': 'fit'}: spec_id: 4519\n"
     ]
    }
   ],
   "source": [
    "# if you want to refit the model, run this code\n",
    "# this creates an object called \"model\" by passing the fit_args and model_args through the do_single_fit function\n",
    "# otherwise, run the next cell down\n",
    "model = do_single_fit(**fit_args, **model_args)\n",
    "\n"
   ]
  },
  {
   "cell_type": "code",
   "execution_count": null,
   "metadata": {},
   "outputs": [],
   "source": [
    "# if you want to pass an old fit spec ID through, run this code\n",
    "# otherwise, refit using the code above\n",
    "#model_args = {\n",
    "    #'base_spec_id': 4515, # use the spec id that was output from the model fit you want to pass through\n",
    "#}\n",
    "# create an object called \"model\" by passing the above-mentioned model_args through CovidModel\n",
    "#model = CovidModel(**model_args)\n",
    "# prep the model\n",
    "#model.prep()"
   ]
  },
  {
   "cell_type": "markdown",
   "metadata": {
    "pycharm": {
     "name": "#%% md\n"
    }
   },
   "source": [
    "### Run the model"
   ]
  },
  {
   "cell_type": "code",
   "execution_count": 6,
   "metadata": {
    "pycharm": {
     "name": "#%%\n"
    }
   },
   "outputs": [
    {
     "name": "stderr",
     "output_type": "stream",
     "text": [
      "2022/12/02 09:08:28 INFO|Projecting\n",
      "2022/12/02 09:08:28 INFO|\n",
      "2022/12/02 09:08:35 WARNING|No artists with labels found to put in legend.  Note that artists whose label start with an underscore are ignored when legend() is called with no argument.\n",
      "2022/12/02 09:10:31 INFO|{'fit_batch': '34', 'run_type': 'fit', 'tc': 0.7961}: Running forward sim\n",
      "2022/12/02 09:10:32 INFO|Running reports\n",
      "2022/12/02 09:10:32 INFO|\n",
      "2022/12/02 09:10:39 WARNING|No artists with labels found to put in legend.  Note that artists whose label start with an underscore are ignored when legend() is called with no argument.\n",
      "2022/12/02 09:12:38 INFO|{'fit_batch': '34', 'run_type': 'fit', 'tc': 0.8153}: Running forward sim\n",
      "2022/12/02 09:12:39 INFO|Running reports\n",
      "2022/12/02 09:12:39 INFO|\n",
      "2022/12/02 09:12:48 WARNING|No artists with labels found to put in legend.  Note that artists whose label start with an underscore are ignored when legend() is called with no argument.\n",
      "2022/12/02 09:14:46 INFO|{'fit_batch': '34', 'run_type': 'fit', 'tc': 0.8428}: Running forward sim\n",
      "2022/12/02 09:14:48 INFO|Running reports\n"
     ]
    }
   ],
   "source": [
    "# now create the reports for the model, indexing through all the values of TC we want to simulate\n",
    "logging.info('Projecting')\n",
    "for tc in [0.7961, 0.8153, 0.8428]:\n",
    "    logging.info('')\n",
    "    #model.update_tc({model.date_to_t(\"2022-11-29\"): {'co': tc}}, replace = False)\n",
    "    model.update_tc({model.date_to_t(today): {'co': tc}}, replace = False)\n",
    "    model.tags.update({'tc': tc})\n",
    "    model.solve_seir()\n",
    "    do_create_report(model, outdir=outdir, prep_model=False, solve_model=False, immun_variants=['ba45', 'emv'], from_date='2022-01-01')\n",
    "\n",
    "    model.solution_sum_df(['seir', 'variant', 'immun']).unstack().to_csv(get_filepath_prefix(outdir, tags=model.tags) + 'states_seir_variant_immun_total_all_at_once_projection.csv')\n",
    "    model.solution_sum_df().unstack().to_csv(get_filepath_prefix(outdir, tags=model.tags) + 'states_full_projection.csv')\n",
    "\n",
    "    logging.info(f'{str(model.tags)}: Running forward sim')\n",
    "    fig = plt.figure(figsize=(10, 10), dpi=300)\n",
    "    ax = fig.add_subplot(211)\n",
    "    hosps_df = model.modeled_vs_observed_hosps().reset_index('region').drop(columns='region')\n",
    "    hosps_df.plot(ax=ax)\n",
    "    ax.set_xlim(dt.datetime.strptime('2022-01-01', \"%Y-%m-%d\").date(), enddate)\n",
    "    ax = fig.add_subplot(212)\n",
    "    plot_transmission_control(model, ax=ax)\n",
    "    ax.set_xlim(dt.datetime.strptime('2022-01-01', \"%Y-%m-%d\").date(), enddate)\n",
    "    plt.savefig(get_filepath_prefix(outdir, tags=model.tags) + 'model_forecast.png')\n",
    "    plt.close()\n",
    "    hosps_df.to_csv(get_filepath_prefix(outdir, tags=model.tags) + '_model_forecast.csv')\n",
    "    json.dump(model.tc, open(get_filepath_prefix(outdir, tags=model.tags) + 'model_forecast_tc.json', 'w'))\n",
    "\n",
    "    logging.info('Running reports')"
   ]
  }
 ],
 "metadata": {
  "kernelspec": {
   "display_name": "Python 3 (ipykernel)",
   "language": "python",
   "name": "python3"
  },
  "language_info": {
   "codemirror_mode": {
    "name": "ipython",
    "version": 3
   },
   "file_extension": ".py",
   "mimetype": "text/x-python",
   "name": "python",
   "nbconvert_exporter": "python",
   "pygments_lexer": "ipython3",
   "version": "3.9.13"
  }
 },
 "nbformat": 4,
 "nbformat_minor": 4
}
