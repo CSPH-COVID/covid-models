{
 "cells": [
  {
   "cell_type": "markdown",
   "metadata": {
    "pycharm": {
     "name": "#%% md\n"
    }
   },
   "source": [
    "### Setup"
   ]
  },
  {
   "cell_type": "code",
   "execution_count": 1,
   "metadata": {
    "pycharm": {
     "name": "#%%\n"
    }
   },
   "outputs": [
    {
     "name": "stdout",
     "output_type": "stream",
     "text": [
      "/Users/emwu9912/PycharmProjects/covid-models\n"
     ]
    }
   ],
   "source": [
    "\"\"\" Python Standard Library \"\"\"\n",
    "import os\n",
    "import datetime as dt\n",
    "import json\n",
    "import logging\n",
    "\"\"\" Third Party Imports \"\"\"\n",
    "import numpy as np\n",
    "import pandas as pd\n",
    "from matplotlib import pyplot as plt\n",
    "%matplotlib inline\n",
    "import seaborn as sns\n",
    "\"\"\" Local Imports \"\"\"\n",
    "if 'requirements.txt' not in os.listdir(os.getcwd()):\n",
    "    os.chdir(os.path.join('..','..','..'))\n",
    "print(os.getcwd())\n",
    "from covid_model.model import CovidModel\n",
    "from covid_model.runnable_functions import do_single_fit, do_fit_scenarios, do_create_report #do_create_multiple_reports\n",
    "from covid_model.utils import setup, get_filepath_prefix\n",
    "from covid_model.analysis.charts import plot_transmission_control\n",
    "\n",
    "os.environ['gcp_project'] = 'co-covid-models'\n",
    "os.environ['GOOGLE_APPLICATION_CREDENTIALS'] = \"co-covid-models-credentials.json\""
   ]
  },
  {
   "cell_type": "code",
   "execution_count": 2,
   "metadata": {
    "pycharm": {
     "name": "#%%\n"
    },
    "scrolled": true
   },
   "outputs": [
    {
     "name": "stderr",
     "output_type": "stream",
     "text": [
      "2022/11/30 17:14:22 INFO|============================================================\n"
     ]
    }
   ],
   "source": [
    "# set up the output directory for this Jupyter notebook\n",
    "outdir = setup(\"20221202_scenario_projections.ipynb\")"
   ]
  },
  {
   "cell_type": "markdown",
   "metadata": {
    "pycharm": {
     "name": "#%% md\n"
    }
   },
   "source": [
    "### Fit an initial scenario through present day"
   ]
  },
  {
   "cell_type": "code",
   "execution_count": 3,
   "metadata": {
    "pycharm": {
     "name": "#%%\n"
    }
   },
   "outputs": [
    {
     "name": "stderr",
     "output_type": "stream",
     "text": [
      "2022/11/30 17:14:32 INFO|-------------------------|{} Retrieving vaccinations data\n",
      "2022/11/30 17:14:34 INFO|-------------------------|{} Constructing vaccination projections\n",
      "2022/11/30 17:14:36 INFO|-------------------------|{} Retrieving hospitalizations data\n",
      "2022/11/30 17:14:39 INFO|----------------------|{} Prepping Model\n",
      "2022/11/30 17:14:39 INFO|-----------------------|{} Prepping Model\n",
      "2022/11/30 17:16:04 INFO|----------------------|{} Model prepped for fitting in 85.237903792 seconds.\n",
      "2022/11/30 17:16:04 INFO|----------------------|{} Will fit 35 times\n",
      "2022/11/30 17:17:15 INFO|----------------------|{'fit_batch': '0'}: Transmission control fit 1/35 completed in 71.474012125 seconds: {0: {'co': 0.8306366879529625}, 14: {'co': 0.6980074624702209}, 28: {'co': 0.5697465921667575}, 42: {'co': 0.002835705861103618}, 56: {'co': 0.6814697431114114}, 70: {'co': 0.891275392270152}}\n",
      "2022/11/30 17:17:15 INFO|-----------------------|{'fit_batch': '0'}: Running forward sim\n",
      "2022/11/30 17:17:32 INFO|----------------------|{'fit_batch': '1'}: Transmission control fit 2/35 completed in 15.200312708000013 seconds: {28: {'co': 0.5652716596374564}, 42: {'co': 1.3424247497862039e-15}, 56: {'co': 0.6954760733893262}, 70: {'co': 0.8359307209472915}, 84: {'co': 0.8209482526727097}, 98: {'co': 0.8732899069633637}}\n",
      "2022/11/30 17:17:32 INFO|-----------------------|{'fit_batch': '1'}: Running forward sim\n",
      "2022/11/30 17:17:54 INFO|----------------------|{'fit_batch': '2'}: Transmission control fit 3/35 completed in 19.282076083999982 seconds: {56: {'co': 0.6966541617649917}, 70: {'co': 0.8332723269943684}, 84: {'co': 0.8289546093293834}, 98: {'co': 0.8349953726782127}, 112: {'co': 0.8626439345439436}, 126: {'co': 0.9187372182716339}}\n",
      "2022/11/30 17:17:54 INFO|-----------------------|{'fit_batch': '2'}: Running forward sim\n",
      "2022/11/30 17:18:11 INFO|----------------------|{'fit_batch': '3'}: Transmission control fit 4/35 completed in 15.32809425000002 seconds: {84: {'co': 0.829625057675268}, 98: {'co': 0.8316923611043766}, 112: {'co': 0.8774223602315491}, 126: {'co': 0.823837954246185}, 140: {'co': 0.7629556620396978}, 154: {'co': 0.6614392596300972}}\n",
      "2022/11/30 17:18:11 INFO|-----------------------|{'fit_batch': '3'}: Running forward sim\n",
      "2022/11/30 17:18:29 INFO|----------------------|{'fit_batch': '4'}: Transmission control fit 5/35 completed in 15.935563125000016 seconds: {112: {'co': 0.8774897732341438}, 126: {'co': 0.8243043593176596}, 140: {'co': 0.7606935154344}, 154: {'co': 0.6708650525338891}, 168: {'co': 0.8437499496636307}, 182: {'co': 0.7840786448168151}}\n",
      "2022/11/30 17:18:29 INFO|-----------------------|{'fit_batch': '4'}: Running forward sim\n",
      "2022/11/30 17:18:46 INFO|----------------------|{'fit_batch': '5'}: Transmission control fit 6/35 completed in 15.347404374999996 seconds: {140: {'co': 0.7604527918797813}, 154: {'co': 0.6712880028378932}, 168: {'co': 0.8432437713892602}, 182: {'co': 0.780199207964737}, 196: {'co': 0.8275651295963369}, 210: {'co': 0.7403273688638577}}\n",
      "2022/11/30 17:18:46 INFO|-----------------------|{'fit_batch': '5'}: Running forward sim\n",
      "2022/11/30 17:19:01 INFO|----------------------|{'fit_batch': '6'}: Transmission control fit 7/35 completed in 12.837115083000015 seconds: {168: {'co': 0.8430551366503877}, 182: {'co': 0.7826363436678362}, 196: {'co': 0.8196040081906032}, 210: {'co': 0.7710707186329663}, 224: {'co': 0.7742311354411906}, 238: {'co': 0.7168195366737375}}\n",
      "2022/11/30 17:19:01 INFO|-----------------------|{'fit_batch': '6'}: Running forward sim\n",
      "2022/11/30 17:19:18 INFO|----------------------|{'fit_batch': '7'}: Transmission control fit 8/35 completed in 15.335699459000011 seconds: {196: {'co': 0.8191511044257906}, 210: {'co': 0.7726071094876588}, 224: {'co': 0.7703420340219114}, 238: {'co': 0.721769036726464}, 252: {'co': 0.7177907839706127}, 266: {'co': 0.6919029476079072}}\n",
      "2022/11/30 17:19:18 INFO|-----------------------|{'fit_batch': '7'}: Running forward sim\n",
      "2022/11/30 17:19:34 INFO|----------------------|{'fit_batch': '8'}: Transmission control fit 9/35 completed in 13.842033625 seconds: {224: {'co': 0.7713215687243115}, 238: {'co': 0.7185439606753297}, 252: {'co': 0.7226278142830356}, 266: {'co': 0.6833515775310307}, 280: {'co': 0.7227289045760081}, 294: {'co': 0.7531948808725248}}\n",
      "2022/11/30 17:19:34 INFO|-----------------------|{'fit_batch': '8'}: Running forward sim\n",
      "2022/11/30 17:19:50 INFO|----------------------|{'fit_batch': '9'}: Transmission control fit 10/35 completed in 13.655920834000028 seconds: {252: {'co': 0.722097143073671}, 266: {'co': 0.6850776797408062}, 280: {'co': 0.7200763172755639}, 294: {'co': 0.7580891564043769}, 308: {'co': 0.8257609735901867}, 322: {'co': 0.7957021299074721}}\n",
      "2022/11/30 17:19:50 INFO|-----------------------|{'fit_batch': '9'}: Running forward sim\n",
      "2022/11/30 17:20:09 INFO|----------------------|{'fit_batch': '10'}: Transmission control fit 11/35 completed in 17.911501542000053 seconds: {280: {'co': 0.7198394708982084}, 294: {'co': 0.758943480250555}, 308: {'co': 0.8229796564275298}, 322: {'co': 0.8099080777666794}, 336: {'co': 0.7879799143803976}, 350: {'co': 0.7724617499982332}}\n",
      "2022/11/30 17:20:09 INFO|-----------------------|{'fit_batch': '10'}: Running forward sim\n",
      "2022/11/30 17:20:27 INFO|----------------------|{'fit_batch': '11'}: Transmission control fit 12/35 completed in 15.568180416000018 seconds: {308: {'co': 0.822071876261137}, 322: {'co': 0.8118480340621292}, 336: {'co': 0.7824855015832703}, 350: {'co': 0.7937459438725761}, 364: {'co': 0.8119966991958353}, 378: {'co': 0.7087558794946262}}\n",
      "2022/11/30 17:20:27 INFO|-----------------------|{'fit_batch': '11'}: Running forward sim\n",
      "2022/11/30 17:20:43 INFO|----------------------|{'fit_batch': '12'}: Transmission control fit 13/35 completed in 13.764182208000022 seconds: {336: {'co': 0.7823219092058479}, 350: {'co': 0.7949852132714229}, 364: {'co': 0.8055033955611913}, 378: {'co': 0.7394695123149907}, 392: {'co': 0.8041246480651005}, 406: {'co': 0.6086965137907472}}\n",
      "2022/11/30 17:20:43 INFO|-----------------------|{'fit_batch': '12'}: Running forward sim\n",
      "2022/11/30 17:21:01 INFO|----------------------|{'fit_batch': '13'}: Transmission control fit 14/35 completed in 16.479964083000027 seconds: {364: {'co': 0.8041859923037267}, 378: {'co': 0.7476409912659795}, 392: {'co': 0.7792808838751994}, 406: {'co': 0.706284541284872}, 420: {'co': 0.7325123339332217}, 434: {'co': 0.6496999930421286}}\n",
      "2022/11/30 17:21:01 INFO|-----------------------|{'fit_batch': '13'}: Running forward sim\n",
      "2022/11/30 17:21:18 INFO|----------------------|{'fit_batch': '14'}: Transmission control fit 15/35 completed in 14.91872754100001 seconds: {392: {'co': 0.7774915778803196}, 406: {'co': 0.7134316619404245}, 420: {'co': 0.717384801010619}, 434: {'co': 0.6891832885951901}, 448: {'co': 0.7438850137378648}, 462: {'co': 0.8045450956920228}}\n",
      "2022/11/30 17:21:18 INFO|-----------------------|{'fit_batch': '14'}: Running forward sim\n",
      "2022/11/30 17:21:35 INFO|----------------------|{'fit_batch': '15'}: Transmission control fit 16/35 completed in 15.002595834000033 seconds: {420: {'co': 0.7175053682985124}, 434: {'co': 0.6894350067886362}, 448: {'co': 0.7415122280818899}, 462: {'co': 0.8165827861785189}, 476: {'co': 0.7913502229598374}, 490: {'co': 0.8550870547653917}}\n",
      "2022/11/30 17:21:35 INFO|-----------------------|{'fit_batch': '15'}: Running forward sim\n",
      "2022/11/30 17:21:49 INFO|----------------------|{'fit_batch': '16'}: Transmission control fit 17/35 completed in 12.47797191699999 seconds: {448: {'co': 0.7411387340067289}, 462: {'co': 0.8144007997914191}, 476: {'co': 0.7975543165759268}, 490: {'co': 0.8322010439238238}, 504: {'co': 0.8002961234762489}, 518: {'co': 0.7520404383418295}}\n",
      "2022/11/30 17:21:49 INFO|-----------------------|{'fit_batch': '16'}: Running forward sim\n",
      "2022/11/30 17:22:04 INFO|----------------------|{'fit_batch': '17'}: Transmission control fit 18/35 completed in 12.286649291000003 seconds: {476: {'co': 0.7967626469458535}, 490: {'co': 0.834371744749368}, 504: {'co': 0.7932788206114262}, 518: {'co': 0.7844381316398287}, 532: {'co': 0.7707791540825226}, 546: {'co': 0.7078219034737682}}\n",
      "2022/11/30 17:22:04 INFO|-----------------------|{'fit_batch': '17'}: Running forward sim\n"
     ]
    },
    {
     "name": "stderr",
     "output_type": "stream",
     "text": [
      "2022/11/30 17:22:15 INFO|----------------------|{'fit_batch': '18'}: Transmission control fit 19/35 completed in 9.297620750000021 seconds: {504: {'co': 0.792761487613059}, 518: {'co': 0.7862978568792409}, 532: {'co': 0.7661786118953587}, 546: {'co': 0.7176009783156061}, 560: {'co': 0.7506313149355148}, 574: {'co': 0.7457868883128519}}\n",
      "2022/11/30 17:22:15 INFO|-----------------------|{'fit_batch': '18'}: Running forward sim\n",
      "2022/11/30 17:22:31 INFO|----------------------|{'fit_batch': '19'}: Transmission control fit 20/35 completed in 14.10272304199998 seconds: {532: {'co': 0.7655333909968927}, 546: {'co': 0.7194148624553423}, 560: {'co': 0.7472635853360977}, 574: {'co': 0.7558547283666177}, 588: {'co': 0.792687453499594}, 602: {'co': 0.7730462164955765}}\n",
      "2022/11/30 17:22:31 INFO|-----------------------|{'fit_batch': '19'}: Running forward sim\n",
      "2022/11/30 17:22:46 INFO|----------------------|{'fit_batch': '20'}: Transmission control fit 21/35 completed in 13.689633999999955 seconds: {560: {'co': 0.7474540446434476}, 574: {'co': 0.7553402541443119}, 588: {'co': 0.7938527744565882}, 602: {'co': 0.7721479029211115}, 616: {'co': 0.7243363513604534}, 630: {'co': 0.747070955023962}}\n",
      "2022/11/30 17:22:46 INFO|-----------------------|{'fit_batch': '20'}: Running forward sim\n",
      "2022/11/30 17:23:00 INFO|----------------------|{'fit_batch': '21'}: Transmission control fit 22/35 completed in 11.497641583000018 seconds: {588: {'co': 0.7941579429317304}, 602: {'co': 0.771160555745723}, 616: {'co': 0.726706414473889}, 630: {'co': 0.742295825178944}, 644: {'co': 0.7230413457502256}, 658: {'co': 0.7535389608037872}}\n",
      "2022/11/30 17:23:00 INFO|-----------------------|{'fit_batch': '21'}: Running forward sim\n",
      "2022/11/30 17:23:18 INFO|----------------------|{'fit_batch': '22'}: Transmission control fit 23/35 completed in 15.937200458999996 seconds: {616: {'co': 0.7262753692989987}, 630: {'co': 0.7436197313152663}, 644: {'co': 0.7196729331020553}, 658: {'co': 0.7660032131755562}, 672: {'co': 0.7598538583092784}, 686: {'co': 0.8402581756174664}}\n",
      "2022/11/30 17:23:18 INFO|-----------------------|{'fit_batch': '22'}: Running forward sim\n",
      "2022/11/30 17:23:36 INFO|----------------------|{'fit_batch': '23'}: Transmission control fit 24/35 completed in 16.409177750000026 seconds: {644: {'co': 0.7204699486092528}, 658: {'co': 0.7609736234236976}, 672: {'co': 0.7733131074805827}, 686: {'co': 0.7964112301517063}, 700: {'co': 0.7598175705793692}, 714: {'co': 0.7976794943122975}}\n",
      "2022/11/30 17:23:36 INFO|-----------------------|{'fit_batch': '23'}: Running forward sim\n",
      "2022/11/30 17:24:18 INFO|----------------------|{'fit_batch': '24'}: Transmission control fit 25/35 completed in 39.73971983299998 seconds: {672: {'co': 0.7730991058848379}, 686: {'co': 0.7978251144103736}, 700: {'co': 0.7583929185229616}, 714: {'co': 0.7983786980495621}, 728: {'co': 0.803123275397093}, 742: {'co': 0.7956346561673308}}\n",
      "2022/11/30 17:24:18 INFO|-----------------------|{'fit_batch': '24'}: Running forward sim\n",
      "2022/11/30 17:24:38 INFO|----------------------|{'fit_batch': '25'}: Transmission control fit 26/35 completed in 18.726631666000003 seconds: {700: {'co': 0.7583183348114823}, 714: {'co': 0.7986283006442597}, 728: {'co': 0.802635958142704}, 742: {'co': 0.7989683665983303}, 756: {'co': 0.7778916351426023}, 770: {'co': 0.834270611700985}}\n",
      "2022/11/30 17:24:38 INFO|-----------------------|{'fit_batch': '25'}: Running forward sim\n",
      "2022/11/30 17:24:56 INFO|----------------------|{'fit_batch': '26'}: Transmission control fit 27/35 completed in 15.261703209000075 seconds: {728: {'co': 0.8025852105616063}, 742: {'co': 0.7989633391766241}, 756: {'co': 0.7810969663807884}, 770: {'co': 0.8125733336309547}, 784: {'co': 0.8063033430590946}, 798: {'co': 0.8245306941532332}}\n",
      "2022/11/30 17:24:56 INFO|-----------------------|{'fit_batch': '26'}: Running forward sim\n",
      "2022/11/30 17:25:16 INFO|----------------------|{'fit_batch': '27'}: Transmission control fit 28/35 completed in 18.640879041999938 seconds: {756: {'co': 0.781695059252708}, 770: {'co': 0.8131921062589761}, 784: {'co': 0.8091241235623677}, 798: {'co': 0.8096222205170217}, 812: {'co': 0.8187331821283699}, 826: {'co': 0.8348001595949852}}\n",
      "2022/11/30 17:25:16 INFO|-----------------------|{'fit_batch': '27'}: Running forward sim\n",
      "2022/11/30 17:25:35 INFO|----------------------|{'fit_batch': '28'}: Transmission control fit 29/35 completed in 16.52121958400005 seconds: {784: {'co': 0.809663027778957}, 798: {'co': 0.8081922413040169}, 812: {'co': 0.8225528463557458}, 826: {'co': 0.8286082523254359}, 840: {'co': 0.8381658657869877}, 854: {'co': 0.8321833426591406}}\n",
      "2022/11/30 17:25:35 INFO|-----------------------|{'fit_batch': '28'}: Running forward sim\n",
      "2022/11/30 17:25:52 INFO|----------------------|{'fit_batch': '29'}: Transmission control fit 30/35 completed in 15.09723945899998 seconds: {812: {'co': 0.8221315358978953}, 826: {'co': 0.83003424068558}, 840: {'co': 0.8358963681459985}, 854: {'co': 0.8368997426566607}, 868: {'co': 0.8659848692657957}, 882: {'co': 0.8496405503383024}}\n",
      "2022/11/30 17:25:52 INFO|-----------------------|{'fit_batch': '29'}: Running forward sim\n",
      "2022/11/30 17:26:10 INFO|----------------------|{'fit_batch': '30'}: Transmission control fit 31/35 completed in 16.287111417000006 seconds: {840: {'co': 0.835689550382412}, 854: {'co': 0.8373099695353909}, 868: {'co': 0.8651114332639844}, 882: {'co': 0.8509795113195815}, 896: {'co': 0.8523698888759913}, 910: {'co': 0.8590123908974399}}\n",
      "2022/11/30 17:26:10 INFO|-----------------------|{'fit_batch': '30'}: Running forward sim\n",
      "2022/11/30 17:26:27 INFO|----------------------|{'fit_batch': '31'}: Transmission control fit 32/35 completed in 14.667050000000017 seconds: {868: {'co': 0.8646872899592501}, 882: {'co': 0.8509404500177831}, 896: {'co': 0.853000398615345}, 910: {'co': 0.8567526269391587}, 924: {'co': 0.857693564133935}, 938: {'co': 0.8293886414394732}}\n",
      "2022/11/30 17:26:27 INFO|-----------------------|{'fit_batch': '31'}: Running forward sim\n",
      "2022/11/30 17:26:45 INFO|----------------------|{'fit_batch': '32'}: Transmission control fit 33/35 completed in 16.887696000000005 seconds: {896: {'co': 0.8528233750481746}, 910: {'co': 0.8569931677008648}, 924: {'co': 0.8563451477358907}, 938: {'co': 0.8381797523356077}, 952: {'co': 0.8538793738623168}, 966: {'co': 0.8211606814066618}}\n",
      "2022/11/30 17:26:45 INFO|-----------------------|{'fit_batch': '32'}: Running forward sim\n",
      "2022/11/30 17:27:05 INFO|----------------------|{'fit_batch': '33'}: Transmission control fit 34/35 completed in 17.23528779100002 seconds: {924: {'co': 0.8561777143776741}, 938: {'co': 0.8389060455628203}, 952: {'co': 0.8515880424305668}, 966: {'co': 0.8292612723310226}, 980: {'co': 0.8340398160061404}, 994: {'co': 0.8189845541098839}}\n",
      "2022/11/30 17:27:05 INFO|-----------------------|{'fit_batch': '33'}: Running forward sim\n",
      "2022/11/30 17:27:23 INFO|----------------------|{'fit_batch': '34'}: Transmission control fit 35/35 completed in 16.83982654099998 seconds: {938: {'co': 0.838651149415714}, 952: {'co': 0.8524901683609776}, 966: {'co': 0.8261276370265855}, 980: {'co': 0.8423796786892639}, 994: {'co': 0.7972094514767641}, 1008: {'co': 0.7955105313507425}}\n",
      "2022/11/30 17:27:23 INFO|-----------------------|{'fit_batch': '34'}: Running forward sim\n",
      "2022/11/30 17:27:25 INFO|----------------------|{'fit_batch': '34', 'run_type': 'fit'}: fitted TC: {0: {'co': 0.8306366870995889}, 14: {'co': 0.6980074682622169}, 28: {'co': 0.5652716596374564}, 42: {'co': 1.3424247497862039e-15}, 56: {'co': 0.6966541617649917}, 70: {'co': 0.8332723269943684}, 84: {'co': 0.829625057675268}, 98: {'co': 0.8316923611043766}, 112: {'co': 0.8774897732341438}, 126: {'co': 0.8243043593176596}, 140: {'co': 0.7604527918797813}, 154: {'co': 0.6712880028378932}, 168: {'co': 0.8430551366503877}, 182: {'co': 0.7826363436678362}, 196: {'co': 0.8191511044257906}, 210: {'co': 0.7726071094876588}, 224: {'co': 0.7713215687243115}, 238: {'co': 0.7185439606753297}, 252: {'co': 0.722097143073671}, 266: {'co': 0.6850776797408062}, 280: {'co': 0.7198394708982084}, 294: {'co': 0.758943480250555}, 308: {'co': 0.822071876261137}, 322: {'co': 0.8118480340621292}, 336: {'co': 0.7823219092058479}, 350: {'co': 0.7949852132714229}, 364: {'co': 0.8041859923037267}, 378: {'co': 0.7476409912659795}, 392: {'co': 0.7774915778803196}, 406: {'co': 0.7134316619404245}, 420: {'co': 0.7175053682985124}, 434: {'co': 0.6894350067886362}, 448: {'co': 0.7411387340067289}, 462: {'co': 0.8144007997914191}, 476: {'co': 0.7967626469458535}, 490: {'co': 0.834371744749368}, 504: {'co': 0.792761487613059}, 518: {'co': 0.7862978568792409}, 532: {'co': 0.7655333909968927}, 546: {'co': 0.7194148624553423}, 560: {'co': 0.7474540446434476}, 574: {'co': 0.7553402541443119}, 588: {'co': 0.7941579429317304}, 602: {'co': 0.771160555745723}, 616: {'co': 0.7262753692989987}, 630: {'co': 0.7436197313152663}, 644: {'co': 0.7204699486092528}, 658: {'co': 0.7609736234236976}, 672: {'co': 0.7730991058848379}, 686: {'co': 0.7978251144103736}, 700: {'co': 0.7583183348114823}, 714: {'co': 0.7986283006442597}, 728: {'co': 0.8025852105616063}, 742: {'co': 0.7989633391766241}, 756: {'co': 0.781695059252708}, 770: {'co': 0.8131921062589761}, 784: {'co': 0.809663027778957}, 798: {'co': 0.8081922413040169}, 812: {'co': 0.8221315358978953}, 826: {'co': 0.83003424068558}, 840: {'co': 0.835689550382412}, 854: {'co': 0.8373099695353909}, 868: {'co': 0.8646872899592501}, 882: {'co': 0.8509404500177831}, 896: {'co': 0.8528233750481746}, 910: {'co': 0.8569931677008648}, 924: {'co': 0.8561777143776741}, 938: {'co': 0.838651149415714}, 952: {'co': 0.8524901683609776}, 966: {'co': 0.8261276370265855}, 980: {'co': 0.8423796786892639}, 994: {'co': 0.7972094514767641}, 1008: {'co': 0.7955105462519036}}\n"
     ]
    },
    {
     "name": "stderr",
     "output_type": "stream",
     "text": [
      "2022/11/30 17:27:25 INFO|-----------------------|{'fit_batch': '34', 'run_type': 'fit'}: Running forward sim\n",
      "2022/11/30 17:27:27 INFO|----------------------|{'fit_batch': '34', 'run_type': 'fit'}: Uploading final results\n",
      "2022/11/30 17:27:36 INFO|----------------------|{'fit_batch': '34', 'run_type': 'fit'}: spec_id: 4515\n"
     ]
    }
   ],
   "source": [
    "# designate the arguments for how the model will behave\n",
    "model_args = {\n",
    "    'params_defs': 'covid_model/analysis/20221109_nov_gov_briefing/20221109_scenario_params.json',\n",
    "    'region_defs': 'covid_model/input/region_definitions.json',\n",
    "    'vacc_proj_params': 'covid_model/analysis/20221109_nov_gov_briefing/20221109_vacc_proj_params.json',\n",
    "    'start_date': '2020-01-24',\n",
    "    'end_date': '2024-01-01',\n",
    "}\n",
    "\n",
    "# this is how the fit will behave\n",
    "# place the outdir argument here to tell the model fit where to go\n",
    "fit_args = {'outdir': outdir,\n",
    "            'fit_end_date': '2022-11-29'\n",
    "}\n",
    "\n",
    "# because all the scenarios are the same \n",
    "model = do_single_fit(**fit_args, **model_args)"
   ]
  },
  {
   "cell_type": "markdown",
   "metadata": {
    "pycharm": {
     "name": "#%% md\n"
    }
   },
   "source": [
    "### Run the model"
   ]
  },
  {
   "cell_type": "code",
   "execution_count": null,
   "metadata": {},
   "outputs": [],
   "source": [
    "# if you want to pass an old fit spec ID through, you can run this code so you don't have to refit the whole model\n",
    "# otherwise, ignore\n",
    "#model_args = {\n",
    "    #'base_spec_id': 4509, # use the spec id that was output from the model fit\n",
    "#}\n",
    "#model = CovidModel(**model_args)\n",
    "#model.prep()"
   ]
  },
  {
   "cell_type": "code",
   "execution_count": 4,
   "metadata": {
    "pycharm": {
     "name": "#%%\n"
    }
   },
   "outputs": [
    {
     "name": "stderr",
     "output_type": "stream",
     "text": [
      "2022/11/30 17:46:42 INFO|Projecting\n",
      "2022/11/30 17:46:42 INFO|\n",
      "2022/11/30 17:46:49 WARNING|No artists with labels found to put in legend.  Note that artists whose label start with an underscore are ignored when legend() is called with no argument.\n",
      "2022/11/30 17:49:06 INFO|{'fit_batch': '34', 'run_type': 'fit', 'tc': 0.716}: Running forward sim\n",
      "2022/11/30 17:49:07 INFO|Running reports\n",
      "2022/11/30 17:49:07 INFO|\n",
      "2022/11/30 17:49:13 WARNING|No artists with labels found to put in legend.  Note that artists whose label start with an underscore are ignored when legend() is called with no argument.\n",
      "2022/11/30 17:51:29 INFO|{'fit_batch': '34', 'run_type': 'fit', 'tc': 0.7955}: Running forward sim\n",
      "2022/11/30 17:51:31 INFO|Running reports\n",
      "2022/11/30 17:51:31 INFO|\n",
      "2022/11/30 17:51:37 WARNING|No artists with labels found to put in legend.  Note that artists whose label start with an underscore are ignored when legend() is called with no argument.\n",
      "2022/11/30 17:53:52 INFO|{'fit_batch': '34', 'run_type': 'fit', 'tc': 0.8751}: Running forward sim\n",
      "2022/11/30 17:53:54 INFO|Running reports\n"
     ]
    }
   ],
   "source": [
    "# now create the reports for the model, indexing through all the values of TC we want to simulate\n",
    "logging.info('Projecting')\n",
    "for tc in [0.7160, 0.7955, 0.8751]:\n",
    "    logging.info('')\n",
    "    model.update_tc({model.date_to_t(\"2022-11-29\"): {'co': tc}}, replace = False)\n",
    "    model.tags.update({'tc': tc})\n",
    "    model.solve_seir()\n",
    "    do_create_report(model, outdir=outdir, prep_model=False, solve_model=False, immun_variants=['ba45', 'emv'], from_date='2022-01-01')\n",
    "\n",
    "    model.solution_sum_df(['seir', 'variant', 'immun']).unstack().to_csv(get_filepath_prefix(outdir, tags=model.tags) + 'states_seir_variant_immun_total_all_at_once_projection.csv')\n",
    "    model.solution_sum_df().unstack().to_csv(get_filepath_prefix(outdir, tags=model.tags) + 'states_full_projection.csv')\n",
    "\n",
    "    logging.info(f'{str(model.tags)}: Running forward sim')\n",
    "    fig = plt.figure(figsize=(10, 10), dpi=300)\n",
    "    ax = fig.add_subplot(211)\n",
    "    hosps_df = model.modeled_vs_observed_hosps().reset_index('region').drop(columns='region')\n",
    "    hosps_df.plot(ax=ax)\n",
    "    ax.set_xlim(dt.datetime.strptime('2022-01-01', \"%Y-%m-%d\").date(), dt.datetime.strptime('2024-01-01', \"%Y-%m-%d\").date())\n",
    "    ax = fig.add_subplot(212)\n",
    "    plot_transmission_control(model, ax=ax)\n",
    "    ax.set_xlim(dt.datetime.strptime('2022-01-01', \"%Y-%m-%d\").date(), dt.datetime.strptime('2024-01-01', \"%Y-%m-%d\").date())\n",
    "    plt.savefig(get_filepath_prefix(outdir, tags=model.tags) + 'model_forecast.png')\n",
    "    plt.close()\n",
    "    hosps_df.to_csv(get_filepath_prefix(outdir, tags=model.tags) + '_model_forecast.csv')\n",
    "    json.dump(model.tc, open(get_filepath_prefix(outdir, tags=model.tags) + 'model_forecast_tc.json', 'w'))\n",
    "\n",
    "    logging.info('Running reports')"
   ]
  }
 ],
 "metadata": {
  "kernelspec": {
   "display_name": "Python 3 (ipykernel)",
   "language": "python",
   "name": "python3"
  },
  "language_info": {
   "codemirror_mode": {
    "name": "ipython",
    "version": 3
   },
   "file_extension": ".py",
   "mimetype": "text/x-python",
   "name": "python",
   "nbconvert_exporter": "python",
   "pygments_lexer": "ipython3",
   "version": "3.9.13"
  }
 },
 "nbformat": 4,
 "nbformat_minor": 4
}
