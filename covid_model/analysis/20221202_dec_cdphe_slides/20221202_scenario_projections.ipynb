{
 "cells": [
  {
   "cell_type": "markdown",
   "metadata": {
    "pycharm": {
     "name": "#%% md\n"
    }
   },
   "source": [
    "### Setup"
   ]
  },
  {
   "cell_type": "code",
   "execution_count": 1,
   "metadata": {
    "pycharm": {
     "name": "#%%\n"
    }
   },
   "outputs": [
    {
     "name": "stdout",
     "output_type": "stream",
     "text": [
      "/Users/emwu9912/PycharmProjects/covid-models\n"
     ]
    }
   ],
   "source": [
    "\"\"\" Python Standard Library \"\"\"\n",
    "import os\n",
    "import datetime as dt\n",
    "import json\n",
    "import logging\n",
    "\"\"\" Third Party Imports \"\"\"\n",
    "import numpy as np\n",
    "import pandas as pd\n",
    "from matplotlib import pyplot as plt\n",
    "%matplotlib inline\n",
    "import seaborn as sns\n",
    "\"\"\" Local Imports \"\"\"\n",
    "if 'requirements.txt' not in os.listdir(os.getcwd()):\n",
    "    os.chdir(os.path.join('..','..','..'))\n",
    "print(os.getcwd())\n",
    "from covid_model.model import CovidModel\n",
    "from covid_model.runnable_functions import do_single_fit, do_fit_scenarios, do_create_report\n",
    "from covid_model.utils import setup, get_filepath_prefix\n",
    "from covid_model.analysis.charts import plot_transmission_control\n",
    "\n",
    "os.environ['gcp_project'] = 'co-covid-models'\n",
    "os.environ['GOOGLE_APPLICATION_CREDENTIALS'] = \"co-covid-models-credentials.json\""
   ]
  },
  {
   "cell_type": "code",
   "execution_count": 2,
   "metadata": {
    "pycharm": {
     "name": "#%%\n"
    },
    "scrolled": true
   },
   "outputs": [
    {
     "name": "stderr",
     "output_type": "stream",
     "text": [
      "2022/12/01 11:12:24 INFO|============================================================\n"
     ]
    }
   ],
   "source": [
    "# set up the output directory for this Jupyter notebook\n",
    "outdir = setup(\"20221202_scenario_projections.ipynb\")"
   ]
  },
  {
   "cell_type": "markdown",
   "metadata": {
    "pycharm": {
     "name": "#%% md\n"
    }
   },
   "source": [
    "### Fit an initial scenario through present day"
   ]
  },
  {
   "cell_type": "code",
   "execution_count": 50,
   "metadata": {},
   "outputs": [],
   "source": [
    "# set inputs for the model\n",
    "\n",
    "# first establish the model start date\n",
    "startdate = dt.date(2020, 1, 24).isoformat()\n",
    "# then get today's date (so we can set end dates automatically)\n",
    "today = dt.datetime.today().strftime(\"%Y-%m-%d\")\n",
    "# now calculate the end date (let's do 90 days from today's date, but can be as long we we want)\n",
    "plus90 = dt.datetime.strptime(today, \"%Y-%m-%d\").date() + dt.timedelta(days = 90)\n",
    "enddate = plus90.isoformat()\n",
    "\n",
    "# set model arguments\n",
    "model_args = {\n",
    "    'params_defs': 'covid_model/analysis/20221202_dec_cdphe_slides/20221202_scenario_params.json',\n",
    "    #'region_defs': 'covid_model/input/region_definitions.json',\n",
    "    'vacc_proj_params': 'covid_model/analysis/20221202_dec_cdphe_slides/20221202_vacc_proj_params.json',\n",
    "    'start_date': startdate,\n",
    "    'end_date': enddate\n",
    "}\n",
    "\n",
    "# set output directory and end date for fit (which is today's date)\n",
    "fit_args = {\n",
    "    'outdir': outdir,\n",
    "    'fit_end_date': today\n",
    "}"
   ]
  },
  {
   "cell_type": "code",
   "execution_count": null,
   "metadata": {
    "pycharm": {
     "name": "#%%\n"
    }
   },
   "outputs": [],
   "source": [
    "# if you want to refit the model, run this code\n",
    "# this creates an object called \"model\" by passing the fit_args and model_args through the do_single_fit function\n",
    "# otherwise, run the next cell down\n",
    "#model = do_single_fit(**fit_args, **model_args)"
   ]
  },
  {
   "cell_type": "code",
   "execution_count": 51,
   "metadata": {},
   "outputs": [
    {
     "name": "stderr",
     "output_type": "stream",
     "text": [
      "2022/12/01 11:39:31 INFO|------------------------|{'fit_batch': '34', 'run_type': 'fit'} Retrieving vaccinations data\n",
      "2022/12/01 11:39:34 INFO|------------------------|{'fit_batch': '34', 'run_type': 'fit'} Constructing vaccination projections\n",
      "2022/12/01 11:39:36 INFO|------------------------|{'fit_batch': '34', 'run_type': 'fit'} Retrieving hospitalizations data\n",
      "2022/12/01 11:39:38 INFO|----------------------|{'fit_batch': '34', 'run_type': 'fit'} Prepping Model\n"
     ]
    }
   ],
   "source": [
    "# if you want to pass an old fit spec ID through, run this code\n",
    "# otherwise, refit using the code above\n",
    "model_args = {\n",
    "    'base_spec_id': 4515, # use the spec id that was output from the model fit you want to pass through\n",
    "}\n",
    "# create an object called \"model\" by passing the above-mentioned model_args through CovidModel\n",
    "model = CovidModel(**model_args)\n",
    "# prep the model\n",
    "model.prep()"
   ]
  },
  {
   "cell_type": "markdown",
   "metadata": {
    "pycharm": {
     "name": "#%% md\n"
    }
   },
   "source": [
    "### Run the model"
   ]
  },
  {
   "cell_type": "code",
   "execution_count": 52,
   "metadata": {
    "pycharm": {
     "name": "#%%\n"
    }
   },
   "outputs": [
    {
     "name": "stderr",
     "output_type": "stream",
     "text": [
      "2022/12/01 11:43:34 INFO|Projecting\n",
      "2022/12/01 11:43:34 INFO|\n",
      "2022/12/01 11:43:39 WARNING|No artists with labels found to put in legend.  Note that artists whose label start with an underscore are ignored when legend() is called with no argument.\n",
      "2022/12/01 11:45:58 INFO|{'fit_batch': '34', 'run_type': 'fit', 'tc': 0.7955}: Running forward sim\n",
      "2022/12/01 11:45:59 INFO|Running reports\n",
      "2022/12/01 11:45:59 INFO|\n",
      "2022/12/01 11:46:05 WARNING|No artists with labels found to put in legend.  Note that artists whose label start with an underscore are ignored when legend() is called with no argument.\n",
      "2022/12/01 11:48:26 INFO|{'fit_batch': '34', 'run_type': 'fit', 'tc': 0.7972}: Running forward sim\n",
      "2022/12/01 11:48:28 INFO|Running reports\n",
      "2022/12/01 11:48:28 INFO|\n",
      "2022/12/01 11:48:34 WARNING|No artists with labels found to put in legend.  Note that artists whose label start with an underscore are ignored when legend() is called with no argument.\n",
      "2022/12/01 11:50:56 INFO|{'fit_batch': '34', 'run_type': 'fit', 'tc': 0.8424}: Running forward sim\n",
      "2022/12/01 11:50:58 INFO|Running reports\n"
     ]
    }
   ],
   "source": [
    "# now create the reports for the model, indexing through all the values of TC we want to simulate\n",
    "logging.info('Projecting')\n",
    "for tc in [0.7955, 0.7972, 0.8424]:\n",
    "    logging.info('')\n",
    "    #model.update_tc({model.date_to_t(\"2022-11-29\"): {'co': tc}}, replace = False)\n",
    "    model.update_tc({model.date_to_t(today): {'co': tc}}, replace = False)\n",
    "    model.tags.update({'tc': tc})\n",
    "    model.solve_seir()\n",
    "    do_create_report(model, outdir=outdir, prep_model=False, solve_model=False, immun_variants=['ba45', 'emv'], from_date='2022-01-01')\n",
    "\n",
    "    model.solution_sum_df(['seir', 'variant', 'immun']).unstack().to_csv(get_filepath_prefix(outdir, tags=model.tags) + 'states_seir_variant_immun_total_all_at_once_projection.csv')\n",
    "    model.solution_sum_df().unstack().to_csv(get_filepath_prefix(outdir, tags=model.tags) + 'states_full_projection.csv')\n",
    "\n",
    "    logging.info(f'{str(model.tags)}: Running forward sim')\n",
    "    fig = plt.figure(figsize=(10, 10), dpi=300)\n",
    "    ax = fig.add_subplot(211)\n",
    "    hosps_df = model.modeled_vs_observed_hosps().reset_index('region').drop(columns='region')\n",
    "    hosps_df.plot(ax=ax)\n",
    "    ax.set_xlim(dt.datetime.strptime('2022-01-01', \"%Y-%m-%d\").date(), enddate)\n",
    "    ax = fig.add_subplot(212)\n",
    "    plot_transmission_control(model, ax=ax)\n",
    "    ax.set_xlim(dt.datetime.strptime('2022-01-01', \"%Y-%m-%d\").date(), enddate)\n",
    "    plt.savefig(get_filepath_prefix(outdir, tags=model.tags) + 'model_forecast.png')\n",
    "    plt.close()\n",
    "    hosps_df.to_csv(get_filepath_prefix(outdir, tags=model.tags) + '_model_forecast.csv')\n",
    "    json.dump(model.tc, open(get_filepath_prefix(outdir, tags=model.tags) + 'model_forecast_tc.json', 'w'))\n",
    "\n",
    "    logging.info('Running reports')"
   ]
  }
 ],
 "metadata": {
  "kernelspec": {
   "display_name": "Python 3 (ipykernel)",
   "language": "python",
   "name": "python3"
  },
  "language_info": {
   "codemirror_mode": {
    "name": "ipython",
    "version": 3
   },
   "file_extension": ".py",
   "mimetype": "text/x-python",
   "name": "python",
   "nbconvert_exporter": "python",
   "pygments_lexer": "ipython3",
   "version": "3.9.13"
  }
 },
 "nbformat": 4,
 "nbformat_minor": 4
}
