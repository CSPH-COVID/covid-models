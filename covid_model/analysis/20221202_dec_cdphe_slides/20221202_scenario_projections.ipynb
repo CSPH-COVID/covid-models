{
 "cells": [
  {
   "cell_type": "markdown",
   "metadata": {
    "pycharm": {
     "name": "#%% md\n"
    }
   },
   "source": [
    "### Setup"
   ]
  },
  {
   "cell_type": "code",
   "execution_count": 1,
   "metadata": {
    "pycharm": {
     "name": "#%%\n"
    }
   },
   "outputs": [
    {
     "name": "stdout",
     "output_type": "stream",
     "text": [
      "/Users/emwu9912/PycharmProjects/covid-models\n"
     ]
    }
   ],
   "source": [
    "\"\"\" Python Standard Library \"\"\"\n",
    "import os\n",
    "import datetime as dt\n",
    "import json\n",
    "import logging\n",
    "\"\"\" Third Party Imports \"\"\"\n",
    "import numpy as np\n",
    "import pandas as pd\n",
    "from matplotlib import pyplot as plt\n",
    "%matplotlib inline\n",
    "import seaborn as sns\n",
    "\"\"\" Local Imports \"\"\"\n",
    "if 'requirements.txt' not in os.listdir(os.getcwd()):\n",
    "    os.chdir(os.path.join('..','..','..'))\n",
    "print(os.getcwd())\n",
    "from covid_model.model import CovidModel\n",
    "from covid_model.runnable_functions import do_single_fit, do_fit_scenarios, do_create_report\n",
    "from covid_model.utils import setup, get_filepath_prefix\n",
    "from covid_model.analysis.charts import plot_transmission_control\n",
    "\n",
    "os.environ['gcp_project'] = 'co-covid-models'\n",
    "os.environ['GOOGLE_APPLICATION_CREDENTIALS'] = \"co-covid-models-credentials.json\""
   ]
  },
  {
   "cell_type": "code",
   "execution_count": 2,
   "metadata": {
    "pycharm": {
     "name": "#%%\n"
    },
    "scrolled": true
   },
   "outputs": [
    {
     "name": "stderr",
     "output_type": "stream",
     "text": [
      "2022/12/01 17:10:10 INFO|============================================================\n"
     ]
    }
   ],
   "source": [
    "# set up the output directory for this Jupyter notebook\n",
    "outdir = setup(\"20221202_scenario_projections.ipynb\")"
   ]
  },
  {
   "cell_type": "markdown",
   "metadata": {
    "pycharm": {
     "name": "#%% md\n"
    }
   },
   "source": [
    "### Fit an initial scenario through present day"
   ]
  },
  {
   "cell_type": "code",
   "execution_count": 3,
   "metadata": {},
   "outputs": [],
   "source": [
    "# set inputs for the model\n",
    "\n",
    "# first establish the model start date\n",
    "startdate = dt.date(2020, 1, 24).isoformat()\n",
    "# then get today's date (so we can set end dates automatically)\n",
    "today = dt.datetime.today().strftime(\"%Y-%m-%d\")\n",
    "# now calculate the end date (let's do 90 days from today's date, but can be as long we we want)\n",
    "plus90 = dt.datetime.strptime(today, \"%Y-%m-%d\").date() + dt.timedelta(days = 90)\n",
    "enddate = plus90.isoformat()\n",
    "\n",
    "# set model arguments\n",
    "model_args = {\n",
    "    'params_defs': 'covid_model/analysis/20221202_dec_cdphe_slides/20221202_scenario_params.json',\n",
    "    #'region_defs': 'covid_model/input/region_definitions.json',\n",
    "    'vacc_proj_params': 'covid_model/analysis/20221202_dec_cdphe_slides/20221202_vacc_proj_params.json',\n",
    "    'start_date': startdate,\n",
    "    'end_date': enddate\n",
    "}\n",
    "\n",
    "# set output directory and end date for fit (which is today's date)\n",
    "fit_args = {\n",
    "    'outdir': outdir,\n",
    "    'fit_end_date': today\n",
    "}"
   ]
  },
  {
   "cell_type": "code",
   "execution_count": 4,
   "metadata": {
    "pycharm": {
     "name": "#%%\n"
    }
   },
   "outputs": [
    {
     "name": "stderr",
     "output_type": "stream",
     "text": [
      "2022/12/01 17:15:14 INFO|-------------------------|{} Retrieving vaccinations data\n",
      "2022/12/01 17:15:16 INFO|-------------------------|{} Constructing vaccination projections\n",
      "2022/12/01 17:15:17 INFO|-------------------------|{} Retrieving hospitalizations data\n",
      "2022/12/01 17:15:19 INFO|----------------------|{} Prepping Model\n",
      "2022/12/01 17:15:19 INFO|-----------------------|{} Prepping Model\n",
      "2022/12/01 17:16:34 INFO|----------------------|{} Model prepped for fitting in 75.31732849999997 seconds.\n",
      "2022/12/01 17:16:34 INFO|----------------------|{} Will fit 35 times\n",
      "2022/12/01 17:18:11 INFO|----------------------|{'fit_batch': '0'}: Transmission control fit 1/35 completed in 96.33265283399999 seconds: {0: {'co': 0.8306366901049832}, 14: {'co': 0.6979474721369532}, 28: {'co': 0.5697936096821077}, 42: {'co': 0.0028740584700378217}, 56: {'co': 0.6814675459889091}, 70: {'co': 0.8912767480731285}}\n",
      "2022/12/01 17:18:11 INFO|-----------------------|{'fit_batch': '0'}: Running forward sim\n",
      "2022/12/01 17:18:29 INFO|----------------------|{'fit_batch': '1'}: Transmission control fit 2/35 completed in 16.903962124999964 seconds: {28: {'co': 0.5653441611664685}, 42: {'co': 1.3652141957631559e-15}, 56: {'co': 0.6954765913102722}, 70: {'co': 0.8359306639235604}, 84: {'co': 0.8209483446856403}, 98: {'co': 0.8732898548085105}}\n",
      "2022/12/01 17:18:29 INFO|-----------------------|{'fit_batch': '1'}: Running forward sim\n",
      "2022/12/01 17:18:47 INFO|----------------------|{'fit_batch': '2'}: Transmission control fit 3/35 completed in 16.255244583999968 seconds: {56: {'co': 0.696654559342302}, 70: {'co': 0.8332722116073074}, 84: {'co': 0.8289546745050831}, 98: {'co': 0.8349953289754974}, 112: {'co': 0.8626439680125653}, 126: {'co': 0.918737160578953}}\n",
      "2022/12/01 17:18:47 INFO|-----------------------|{'fit_batch': '2'}: Running forward sim\n",
      "2022/12/01 17:19:03 INFO|----------------------|{'fit_batch': '3'}: Transmission control fit 4/35 completed in 14.417028624999944 seconds: {84: {'co': 0.82962512239442}, 98: {'co': 0.8316923186023013}, 112: {'co': 0.8774223879135394}, 126: {'co': 0.8238379295942571}, 140: {'co': 0.7629556751503929}, 154: {'co': 0.6614392458727331}}\n",
      "2022/12/01 17:19:03 INFO|-----------------------|{'fit_batch': '3'}: Running forward sim\n",
      "2022/12/01 17:19:19 INFO|----------------------|{'fit_batch': '4'}: Transmission control fit 5/35 completed in 14.617528708999998 seconds: {112: {'co': 0.8774898007239225}, 126: {'co': 0.8243043369504381}, 140: {'co': 0.7606935258513594}, 154: {'co': 0.6708650469136652}, 168: {'co': 0.8437499496934443}, 182: {'co': 0.7840786427020158}}\n",
      "2022/12/01 17:19:19 INFO|-----------------------|{'fit_batch': '4'}: Running forward sim\n",
      "2022/12/01 17:19:34 INFO|----------------------|{'fit_batch': '5'}: Transmission control fit 6/35 completed in 12.540066292000006 seconds: {140: {'co': 0.7604528019653467}, 154: {'co': 0.6712879976498703}, 168: {'co': 0.8432437717643494}, 182: {'co': 0.7801992063125968}, 196: {'co': 0.8275651289864483}, 210: {'co': 0.7403273670930397}}\n",
      "2022/12/01 17:19:34 INFO|-----------------------|{'fit_batch': '5'}: Running forward sim\n",
      "2022/12/01 17:19:46 INFO|----------------------|{'fit_batch': '6'}: Transmission control fit 7/35 completed in 10.920394250000072 seconds: {168: {'co': 0.843055137025322}, 182: {'co': 0.7826363420964334}, 196: {'co': 0.8196040075339532}, 210: {'co': 0.7710707174414881}, 224: {'co': 0.774231134462996}, 238: {'co': 0.7168195352318268}}\n",
      "2022/12/01 17:19:46 INFO|-----------------------|{'fit_batch': '6'}: Running forward sim\n",
      "2022/12/01 17:20:00 INFO|----------------------|{'fit_batch': '7'}: Transmission control fit 8/35 completed in 12.652619834000006 seconds: {196: {'co': 0.8191511038872135}, 210: {'co': 0.7726071080040622}, 224: {'co': 0.7703420332563402}, 238: {'co': 0.721769035300107}, 252: {'co': 0.7177907826579367}, 266: {'co': 0.6919029462197565}}\n",
      "2022/12/01 17:20:00 INFO|-----------------------|{'fit_batch': '7'}: Running forward sim\n",
      "2022/12/01 17:20:15 INFO|----------------------|{'fit_batch': '8'}: Transmission control fit 9/35 completed in 12.935564499999941 seconds: {224: {'co': 0.7713215677226225}, 238: {'co': 0.7185439592957277}, 252: {'co': 0.7226278133013376}, 266: {'co': 0.6833515758818336}, 280: {'co': 0.7227289033178563}, 294: {'co': 0.7531948795669933}}\n",
      "2022/12/01 17:20:15 INFO|-----------------------|{'fit_batch': '8'}: Running forward sim\n",
      "2022/12/01 17:20:30 INFO|----------------------|{'fit_batch': '9'}: Transmission control fit 10/35 completed in 13.368006165999986 seconds: {252: {'co': 0.7220971415250982}, 266: {'co': 0.6850776789219871}, 280: {'co': 0.7200763156360057}, 294: {'co': 0.7580891553878267}, 308: {'co': 0.8257609727270245}, 322: {'co': 0.7957021287405586}}\n",
      "2022/12/01 17:20:30 INFO|-----------------------|{'fit_batch': '9'}: Running forward sim\n",
      "2022/12/01 17:20:47 INFO|----------------------|{'fit_batch': '10'}: Transmission control fit 11/35 completed in 15.366224875000057 seconds: {280: {'co': 0.7198394692783692}, 294: {'co': 0.758943479217386}, 308: {'co': 0.8229796555362344}, 322: {'co': 0.8099080767789112}, 336: {'co': 0.7879799134545434}, 350: {'co': 0.7724617486449319}}\n",
      "2022/12/01 17:20:47 INFO|-----------------------|{'fit_batch': '10'}: Running forward sim\n",
      "2022/12/01 17:21:02 INFO|----------------------|{'fit_batch': '11'}: Transmission control fit 12/35 completed in 13.21593945799998 seconds: {308: {'co': 0.8220718753282614}, 322: {'co': 0.81184803323245}, 336: {'co': 0.7824855003462561}, 350: {'co': 0.7937459430101024}, 364: {'co': 0.8119966982246198}, 378: {'co': 0.7087558779435891}}\n",
      "2022/12/01 17:21:02 INFO|-----------------------|{'fit_batch': '11'}: Running forward sim\n",
      "2022/12/01 17:21:17 INFO|----------------------|{'fit_batch': '12'}: Transmission control fit 13/35 completed in 13.574399209000035 seconds: {336: {'co': 0.782321907966205}, 350: {'co': 0.7949852124622246}, 364: {'co': 0.8055033943755379}, 378: {'co': 0.7394695112925765}, 392: {'co': 0.8041246467906068}, 406: {'co': 0.6086965127817917}}\n",
      "2022/12/01 17:21:17 INFO|-----------------------|{'fit_batch': '12'}: Running forward sim\n",
      "2022/12/01 17:21:34 INFO|----------------------|{'fit_batch': '13'}: Transmission control fit 14/35 completed in 15.55389224999999 seconds: {364: {'co': 0.8041859914631788}, 378: {'co': 0.7476409894586767}, 392: {'co': 0.7792808834054329}, 406: {'co': 0.7062845394074299}, 420: {'co': 0.7325123328836677}, 434: {'co': 0.649699991186658}}\n",
      "2022/12/01 17:21:34 INFO|-----------------------|{'fit_batch': '13'}: Running forward sim\n",
      "2022/12/01 17:21:49 INFO|----------------------|{'fit_batch': '14'}: Transmission control fit 15/35 completed in 13.417848041999946 seconds: {392: {'co': 0.7774915771218043}, 406: {'co': 0.7134316608895619}, 420: {'co': 0.7173847993041189}, 434: {'co': 0.689183287235021}, 448: {'co': 0.7438850124837191}, 462: {'co': 0.8045450950210625}}\n",
      "2022/12/01 17:21:49 INFO|-----------------------|{'fit_batch': '14'}: Running forward sim\n",
      "2022/12/01 17:22:06 INFO|----------------------|{'fit_batch': '15'}: Transmission control fit 16/35 completed in 14.815869667000015 seconds: {420: {'co': 0.7175053664536238}, 434: {'co': 0.6894350057614965}, 448: {'co': 0.7415122266693296}, 462: {'co': 0.8165827856045805}, 476: {'co': 0.7913502219617602}, 490: {'co': 0.8550870539577363}}\n",
      "2022/12/01 17:22:06 INFO|-----------------------|{'fit_batch': '15'}: Running forward sim\n",
      "2022/12/01 17:22:19 INFO|----------------------|{'fit_batch': '16'}: Transmission control fit 17/35 completed in 11.199178333000077 seconds: {448: {'co': 0.7411387327057414}, 462: {'co': 0.8144007989359587}, 476: {'co': 0.7975543158989123}, 490: {'co': 0.8322010429836312}, 504: {'co': 0.8002961228159898}, 518: {'co': 0.7520404368469299}}\n",
      "2022/12/01 17:22:19 INFO|-----------------------|{'fit_batch': '16'}: Running forward sim\n",
      "2022/12/01 17:22:33 INFO|----------------------|{'fit_batch': '17'}: Transmission control fit 18/35 completed in 12.427475709000078 seconds: {476: {'co': 0.7967626463553011}, 490: {'co': 0.8343717436291318}, 504: {'co': 0.7932788201533699}, 518: {'co': 0.7844381301785948}, 532: {'co': 0.7707791534987992}, 546: {'co': 0.7078219014433408}}\n",
      "2022/12/01 17:22:33 INFO|-----------------------|{'fit_batch': '17'}: Running forward sim\n"
     ]
    },
    {
     "name": "stderr",
     "output_type": "stream",
     "text": [
      "2022/12/01 17:22:43 INFO|----------------------|{'fit_batch': '18'}: Transmission control fit 19/35 completed in 9.00865275000001 seconds: {504: {'co': 0.7927614871209054}, 518: {'co': 0.7862978554746909}, 532: {'co': 0.7661786113032724}, 546: {'co': 0.7176009765946489}, 560: {'co': 0.7506313141027119}, 574: {'co': 0.7457868867473114}}\n",
      "2022/12/01 17:22:43 INFO|-----------------------|{'fit_batch': '18'}: Running forward sim\n",
      "2022/12/01 17:22:59 INFO|----------------------|{'fit_batch': '19'}: Transmission control fit 20/35 completed in 14.331479999999942 seconds: {532: {'co': 0.7655333902579111}, 546: {'co': 0.7194148609709348}, 560: {'co': 0.7472635843220005}, 574: {'co': 0.7558547271989949}, 588: {'co': 0.7926874525758997}, 602: {'co': 0.7730462154883716}}\n",
      "2022/12/01 17:22:59 INFO|-----------------------|{'fit_batch': '19'}: Running forward sim\n",
      "2022/12/01 17:23:15 INFO|----------------------|{'fit_batch': '20'}: Transmission control fit 21/35 completed in 13.82146079100005 seconds: {560: {'co': 0.7474540436451743}, 574: {'co': 0.7553402529588832}, 588: {'co': 0.7938527735365261}, 602: {'co': 0.7721479018673253}, 616: {'co': 0.724336350185274}, 630: {'co': 0.747070953639954}}\n",
      "2022/12/01 17:23:15 INFO|-----------------------|{'fit_batch': '20'}: Running forward sim\n",
      "2022/12/01 17:23:28 INFO|----------------------|{'fit_batch': '21'}: Transmission control fit 22/35 completed in 11.39491487500004 seconds: {588: {'co': 0.7941579420970474}, 602: {'co': 0.7711605544975287}, 616: {'co': 0.7267064134627679}, 630: {'co': 0.7422958238384182}, 644: {'co': 0.7230413446206485}, 658: {'co': 0.753538959134216}}\n",
      "2022/12/01 17:23:28 INFO|-----------------------|{'fit_batch': '21'}: Running forward sim\n",
      "2022/12/01 17:23:45 INFO|----------------------|{'fit_batch': '22'}: Transmission control fit 23/35 completed in 15.40266266599997 seconds: {616: {'co': 0.7262753681941554}, 630: {'co': 0.7436197301934517}, 644: {'co': 0.7196729316406009}, 658: {'co': 0.7660032122276762}, 672: {'co': 0.7598538575295839}, 686: {'co': 0.8402581756946977}}\n",
      "2022/12/01 17:23:45 INFO|-----------------------|{'fit_batch': '22'}: Running forward sim\n",
      "2022/12/01 17:24:02 INFO|----------------------|{'fit_batch': '23'}: Transmission control fit 24/35 completed in 15.460526625000057 seconds: {644: {'co': 0.7204699470575185}, 658: {'co': 0.7609736226934546}, 672: {'co': 0.7733131064757837}, 686: {'co': 0.7964112305368128}, 700: {'co': 0.7598175709768042}, 714: {'co': 0.7976794935445485}}\n",
      "2022/12/01 17:24:02 INFO|-----------------------|{'fit_batch': '23'}: Running forward sim\n",
      "2022/12/01 17:24:43 INFO|----------------------|{'fit_batch': '24'}: Transmission control fit 25/35 completed in 39.57570504099999 seconds: {672: {'co': 0.7730991049687858}, 686: {'co': 0.7978251146176837}, 700: {'co': 0.7583929190242142}, 714: {'co': 0.7983786973744602}, 728: {'co': 0.8031232742972517}, 742: {'co': 0.7956346547753523}}\n",
      "2022/12/01 17:24:43 INFO|-----------------------|{'fit_batch': '24'}: Running forward sim\n",
      "2022/12/01 17:25:00 INFO|----------------------|{'fit_batch': '25'}: Transmission control fit 26/35 completed in 14.570898708000072 seconds: {700: {'co': 0.7583108824237393}, 714: {'co': 0.7986521177598965}, 728: {'co': 0.8025420626836043}, 742: {'co': 0.7995116779350326}, 756: {'co': 0.7734534932939152}, 770: {'co': 0.8292478060551516}}\n",
      "2022/12/01 17:25:00 INFO|-----------------------|{'fit_batch': '25'}: Running forward sim\n",
      "2022/12/01 17:25:16 INFO|----------------------|{'fit_batch': '26'}: Transmission control fit 27/35 completed in 14.870436041999938 seconds: {728: {'co': 0.802488359021297}, 742: {'co': 0.7994945941988684}, 756: {'co': 0.7767221477578529}, 770: {'co': 0.8073049139902473}, 784: {'co': 0.8009265088450623}, 798: {'co': 0.8204433165673359}}\n",
      "2022/12/01 17:25:16 INFO|-----------------------|{'fit_batch': '26'}: Running forward sim\n",
      "2022/12/01 17:25:34 INFO|----------------------|{'fit_batch': '27'}: Transmission control fit 28/35 completed in 15.972484624999993 seconds: {756: {'co': 0.7776367993314658}, 770: {'co': 0.8073989148021546}, 784: {'co': 0.80383497028495}, 798: {'co': 0.8068155656180103}, 812: {'co': 0.8165580068030422}, 826: {'co': 0.831058465123216}}\n",
      "2022/12/01 17:25:34 INFO|-----------------------|{'fit_batch': '27'}: Running forward sim\n",
      "2022/12/01 17:25:50 INFO|----------------------|{'fit_batch': '28'}: Transmission control fit 29/35 completed in 14.723249957999997 seconds: {784: {'co': 0.8044065844261252}, 798: {'co': 0.805355799481881}, 812: {'co': 0.8200827875196502}, 826: {'co': 0.8242577012913359}, 840: {'co': 0.8324367515202975}, 854: {'co': 0.8238894580512336}}\n",
      "2022/12/01 17:25:50 INFO|-----------------------|{'fit_batch': '28'}: Running forward sim\n",
      "2022/12/01 17:26:07 INFO|----------------------|{'fit_batch': '29'}: Transmission control fit 30/35 completed in 15.250367583999946 seconds: {812: {'co': 0.8196330945498101}, 826: {'co': 0.8256393861998073}, 840: {'co': 0.8300943766391565}, 854: {'co': 0.8284839062982725}, 868: {'co': 0.8558644514750313}, 882: {'co': 0.834840176862897}}\n",
      "2022/12/01 17:26:07 INFO|-----------------------|{'fit_batch': '29'}: Running forward sim\n",
      "2022/12/01 17:26:23 INFO|----------------------|{'fit_batch': '30'}: Transmission control fit 31/35 completed in 14.348198416999935 seconds: {840: {'co': 0.829922260326126}, 854: {'co': 0.8288344276461773}, 868: {'co': 0.8551436455092314}, 882: {'co': 0.8366985294136108}, 896: {'co': 0.8344901992371804}, 910: {'co': 0.8385624458067757}}\n",
      "2022/12/01 17:26:23 INFO|-----------------------|{'fit_batch': '30'}: Running forward sim\n",
      "2022/12/01 17:26:38 INFO|----------------------|{'fit_batch': '31'}: Transmission control fit 32/35 completed in 13.35597133400006 seconds: {868: {'co': 0.8547643458336962}, 882: {'co': 0.8366251062362171}, 896: {'co': 0.8352239899843864}, 910: {'co': 0.8358682284420191}, 924: {'co': 0.8343495579695599}, 938: {'co': 0.7989590665890773}}\n",
      "2022/12/01 17:26:38 INFO|-----------------------|{'fit_batch': '31'}: Running forward sim\n",
      "2022/12/01 17:26:55 INFO|----------------------|{'fit_batch': '32'}: Transmission control fit 33/35 completed in 15.561616582999932 seconds: {896: {'co': 0.8351438593158171}, 910: {'co': 0.8362896861385115}, 924: {'co': 0.8329167401181427}, 938: {'co': 0.8091994274672478}, 952: {'co': 0.8254905296670773}, 966: {'co': 0.7840240767586143}}\n",
      "2022/12/01 17:26:55 INFO|-----------------------|{'fit_batch': '32'}: Running forward sim\n",
      "2022/12/01 17:27:13 INFO|----------------------|{'fit_batch': '33'}: Transmission control fit 34/35 completed in 16.190854374999958 seconds: {924: {'co': 0.8327155214706842}, 938: {'co': 0.810048626703857}, 952: {'co': 0.8227863475163013}, 966: {'co': 0.7935679233288903}, 980: {'co': 0.796690993213439}, 994: {'co': 0.7755623742371293}}\n",
      "2022/12/01 17:27:13 INFO|-----------------------|{'fit_batch': '33'}: Running forward sim\n",
      "2022/12/01 17:27:29 INFO|----------------------|{'fit_batch': '34'}: Transmission control fit 35/35 completed in 14.67793574999996 seconds: {938: {'co': 0.8124256044878773}, 952: {'co': 0.8232431678685106}, 966: {'co': 0.7882442082117275}, 980: {'co': 0.8173076068671468}, 994: {'co': 0.7316234177972536}, 1008: {'co': 0.7658867987240631}}\n",
      "2022/12/01 17:27:29 INFO|-----------------------|{'fit_batch': '34'}: Running forward sim\n",
      "2022/12/01 17:27:31 INFO|----------------------|{'fit_batch': '34', 'run_type': 'fit'}: fitted TC: {0: {'co': 0.8306366892517045}, 14: {'co': 0.6979474779294794}, 28: {'co': 0.5653441611664685}, 42: {'co': 1.3652141957631559e-15}, 56: {'co': 0.696654559342302}, 70: {'co': 0.8332722116073074}, 84: {'co': 0.82962512239442}, 98: {'co': 0.8316923186023013}, 112: {'co': 0.8774898007239225}, 126: {'co': 0.8243043369504381}, 140: {'co': 0.7604528019653467}, 154: {'co': 0.6712879976498703}, 168: {'co': 0.843055137025322}, 182: {'co': 0.7826363420964334}, 196: {'co': 0.8191511038872135}, 210: {'co': 0.7726071080040622}, 224: {'co': 0.7713215677226225}, 238: {'co': 0.7185439592957277}, 252: {'co': 0.7220971415250982}, 266: {'co': 0.6850776789219871}, 280: {'co': 0.7198394692783692}, 294: {'co': 0.758943479217386}, 308: {'co': 0.8220718753282614}, 322: {'co': 0.81184803323245}, 336: {'co': 0.782321907966205}, 350: {'co': 0.7949852124622246}, 364: {'co': 0.8041859914631788}, 378: {'co': 0.7476409894586767}, 392: {'co': 0.7774915771218043}, 406: {'co': 0.7134316608895619}, 420: {'co': 0.7175053664536238}, 434: {'co': 0.6894350057614965}, 448: {'co': 0.7411387327057414}, 462: {'co': 0.8144007989359587}, 476: {'co': 0.7967626463553011}, 490: {'co': 0.8343717436291318}, 504: {'co': 0.7927614871209054}, 518: {'co': 0.7862978554746909}, 532: {'co': 0.7655333902579111}, 546: {'co': 0.7194148609709348}, 560: {'co': 0.7474540436451743}, 574: {'co': 0.7553402529588832}, 588: {'co': 0.7941579420970474}, 602: {'co': 0.7711605544975287}, 616: {'co': 0.7262753681941554}, 630: {'co': 0.7436197301934517}, 644: {'co': 0.7204699470575185}, 658: {'co': 0.7609736226934546}, 672: {'co': 0.7730991049687858}, 686: {'co': 0.7978251146176837}, 700: {'co': 0.7583108824237393}, 714: {'co': 0.7986521177598965}, 728: {'co': 0.802488359021297}, 742: {'co': 0.7994945941988684}, 756: {'co': 0.7776367993314658}, 770: {'co': 0.8073989148021546}, 784: {'co': 0.8044065844261252}, 798: {'co': 0.805355799481881}, 812: {'co': 0.8196330945498101}, 826: {'co': 0.8256393861998073}, 840: {'co': 0.829922260326126}, 854: {'co': 0.8288344276461773}, 868: {'co': 0.8547643458336962}, 882: {'co': 0.8366251062362171}, 896: {'co': 0.8351438593158171}, 910: {'co': 0.8362896861385115}, 924: {'co': 0.8327155214706842}, 938: {'co': 0.8124256044878773}, 952: {'co': 0.8232431678685106}, 966: {'co': 0.7882442082117275}, 980: {'co': 0.8173076068671468}, 994: {'co': 0.7316234177972536}, 1008: {'co': 0.7658868136252243}}\n"
     ]
    },
    {
     "name": "stderr",
     "output_type": "stream",
     "text": [
      "2022/12/01 17:27:31 INFO|-----------------------|{'fit_batch': '34', 'run_type': 'fit'}: Running forward sim\n",
      "2022/12/01 17:27:33 INFO|----------------------|{'fit_batch': '34', 'run_type': 'fit'}: Uploading final results\n",
      "2022/12/01 17:27:40 INFO|----------------------|{'fit_batch': '34', 'run_type': 'fit'}: spec_id: 4517\n"
     ]
    }
   ],
   "source": [
    "# if you want to refit the model, run this code\n",
    "# this creates an object called \"model\" by passing the fit_args and model_args through the do_single_fit function\n",
    "# otherwise, run the next cell down\n",
    "model = do_single_fit(**fit_args, **model_args)"
   ]
  },
  {
   "cell_type": "code",
   "execution_count": null,
   "metadata": {},
   "outputs": [],
   "source": [
    "# if you want to pass an old fit spec ID through, run this code\n",
    "# otherwise, refit using the code above\n",
    "#model_args = {\n",
    "    #'base_spec_id': 4515, # use the spec id that was output from the model fit you want to pass through\n",
    "#}\n",
    "# create an object called \"model\" by passing the above-mentioned model_args through CovidModel\n",
    "#model = CovidModel(**model_args)\n",
    "# prep the model\n",
    "#model.prep()"
   ]
  },
  {
   "cell_type": "markdown",
   "metadata": {
    "pycharm": {
     "name": "#%% md\n"
    }
   },
   "source": [
    "### Run the model"
   ]
  },
  {
   "cell_type": "code",
   "execution_count": 5,
   "metadata": {
    "pycharm": {
     "name": "#%%\n"
    }
   },
   "outputs": [
    {
     "name": "stderr",
     "output_type": "stream",
     "text": [
      "2022/12/01 17:31:04 INFO|Projecting\n",
      "2022/12/01 17:31:04 INFO|\n",
      "2022/12/01 17:31:08 WARNING|No artists with labels found to put in legend.  Note that artists whose label start with an underscore are ignored when legend() is called with no argument.\n",
      "2022/12/01 17:33:00 INFO|{'fit_batch': '34', 'run_type': 'fit', 'tc': 0.7955}: Running forward sim\n",
      "2022/12/01 17:33:02 INFO|Running reports\n",
      "2022/12/01 17:33:02 INFO|\n",
      "2022/12/01 17:33:07 WARNING|No artists with labels found to put in legend.  Note that artists whose label start with an underscore are ignored when legend() is called with no argument.\n",
      "2022/12/01 17:35:03 INFO|{'fit_batch': '34', 'run_type': 'fit', 'tc': 0.8227}: Running forward sim\n",
      "2022/12/01 17:35:04 INFO|Running reports\n",
      "2022/12/01 17:35:04 INFO|\n",
      "2022/12/01 17:35:08 WARNING|No artists with labels found to put in legend.  Note that artists whose label start with an underscore are ignored when legend() is called with no argument.\n",
      "2022/12/01 17:37:05 INFO|{'fit_batch': '34', 'run_type': 'fit', 'tc': 0.8525}: Running forward sim\n",
      "2022/12/01 17:37:07 INFO|Running reports\n"
     ]
    }
   ],
   "source": [
    "# now create the reports for the model, indexing through all the values of TC we want to simulate\n",
    "logging.info('Projecting')\n",
    "for tc in [0.7955, 0.8227, 0.8525]:\n",
    "    logging.info('')\n",
    "    #model.update_tc({model.date_to_t(\"2022-11-29\"): {'co': tc}}, replace = False)\n",
    "    model.update_tc({model.date_to_t(today): {'co': tc}}, replace = False)\n",
    "    model.tags.update({'tc': tc})\n",
    "    model.solve_seir()\n",
    "    do_create_report(model, outdir=outdir, prep_model=False, solve_model=False, immun_variants=['ba45', 'emv'], from_date='2022-01-01')\n",
    "\n",
    "    model.solution_sum_df(['seir', 'variant', 'immun']).unstack().to_csv(get_filepath_prefix(outdir, tags=model.tags) + 'states_seir_variant_immun_total_all_at_once_projection.csv')\n",
    "    model.solution_sum_df().unstack().to_csv(get_filepath_prefix(outdir, tags=model.tags) + 'states_full_projection.csv')\n",
    "\n",
    "    logging.info(f'{str(model.tags)}: Running forward sim')\n",
    "    fig = plt.figure(figsize=(10, 10), dpi=300)\n",
    "    ax = fig.add_subplot(211)\n",
    "    hosps_df = model.modeled_vs_observed_hosps().reset_index('region').drop(columns='region')\n",
    "    hosps_df.plot(ax=ax)\n",
    "    ax.set_xlim(dt.datetime.strptime('2022-01-01', \"%Y-%m-%d\").date(), enddate)\n",
    "    ax = fig.add_subplot(212)\n",
    "    plot_transmission_control(model, ax=ax)\n",
    "    ax.set_xlim(dt.datetime.strptime('2022-01-01', \"%Y-%m-%d\").date(), enddate)\n",
    "    plt.savefig(get_filepath_prefix(outdir, tags=model.tags) + 'model_forecast.png')\n",
    "    plt.close()\n",
    "    hosps_df.to_csv(get_filepath_prefix(outdir, tags=model.tags) + '_model_forecast.csv')\n",
    "    json.dump(model.tc, open(get_filepath_prefix(outdir, tags=model.tags) + 'model_forecast_tc.json', 'w'))\n",
    "\n",
    "    logging.info('Running reports')"
   ]
  }
 ],
 "metadata": {
  "kernelspec": {
   "display_name": "Python 3 (ipykernel)",
   "language": "python",
   "name": "python3"
  },
  "language_info": {
   "codemirror_mode": {
    "name": "ipython",
    "version": 3
   },
   "file_extension": ".py",
   "mimetype": "text/x-python",
   "name": "python",
   "nbconvert_exporter": "python",
   "pygments_lexer": "ipython3",
   "version": "3.9.13"
  }
 },
 "nbformat": 4,
 "nbformat_minor": 4
}
