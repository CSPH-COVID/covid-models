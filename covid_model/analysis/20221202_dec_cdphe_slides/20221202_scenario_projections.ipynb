{
 "cells": [
  {
   "cell_type": "markdown",
   "metadata": {
    "pycharm": {
     "name": "#%% md\n"
    }
   },
   "source": [
    "### Setup"
   ]
  },
  {
   "cell_type": "code",
   "execution_count": 1,
   "metadata": {
    "pycharm": {
     "name": "#%%\n"
    }
   },
   "outputs": [
    {
     "name": "stdout",
     "output_type": "stream",
     "text": [
      "/Users/emwu9912/PycharmProjects/covid-models\n"
     ]
    }
   ],
   "source": [
    "\"\"\" Python Standard Library \"\"\"\n",
    "import os\n",
    "import datetime as dt\n",
    "import json\n",
    "import logging\n",
    "\"\"\" Third Party Imports \"\"\"\n",
    "import numpy as np\n",
    "import pandas as pd\n",
    "from matplotlib import pyplot as plt\n",
    "%matplotlib inline\n",
    "import seaborn as sns\n",
    "import fnmatch\n",
    "\"\"\" Local Imports \"\"\"\n",
    "if 'requirements.txt' not in os.listdir(os.getcwd()):\n",
    "    os.chdir(os.path.join('..','..','..'))\n",
    "print(os.getcwd())\n",
    "from covid_model.model import CovidModel\n",
    "from covid_model.runnable_functions import do_single_fit, do_fit_scenarios, do_create_report\n",
    "from covid_model.utils import setup, get_filepath_prefix, db_engine\n",
    "from covid_model.analysis.charts import plot_transmission_control\n",
    "\n",
    "os.environ['gcp_project'] = 'co-covid-models'\n",
    "os.environ['GOOGLE_APPLICATION_CREDENTIALS'] = \"co-covid-models-credentials.json\""
   ]
  },
  {
   "cell_type": "code",
   "execution_count": 2,
   "metadata": {
    "pycharm": {
     "name": "#%%\n"
    },
    "scrolled": true
   },
   "outputs": [
    {
     "name": "stderr",
     "output_type": "stream",
     "text": [
      "2022/12/13 11:49:53 INFO|============================================================\n"
     ]
    }
   ],
   "source": [
    "# set up the output directory for this Jupyter notebook\n",
    "outdir = setup(\"20221213_scenario_projections.ipynb\")"
   ]
  },
  {
   "cell_type": "code",
   "execution_count": 3,
   "metadata": {},
   "outputs": [],
   "source": [
    "# create an object called \"engine\" by running the db_engine function\n",
    "engine = db_engine()\n",
    "\n",
    "# get the date of the last reported hospitalization data point from EMResource (to set the stop date)\n",
    "last_hosp = pd.read_sql('select max(measure_date) from emresource.hospitalized', con = engine).iloc[0,0].isoformat()"
   ]
  },
  {
   "cell_type": "markdown",
   "metadata": {
    "pycharm": {
     "name": "#%% md\n"
    }
   },
   "source": [
    "### Fit an initial scenario through the end of February 2022"
   ]
  },
  {
   "cell_type": "code",
   "execution_count": 12,
   "metadata": {},
   "outputs": [],
   "source": [
    "# set inputs for the model\n",
    "\n",
    "# first establish the model start date (use the isoformat command to turn it into a string)\n",
    "startdate = dt.date(2020, 1, 24).isoformat()\n",
    "# then get today's date (so we can set end dates automatically)\n",
    "#today = dt.datetime.today().strftime(\"%Y-%m-%d\")\n",
    "# now calculate the end date (let's do 90 days from the date of the last reported hospitalization\n",
    "# but it can really be as long we we want)\n",
    "plus90 = dt.datetime.strptime(last_hosp, \"%Y-%m-%d\").date() + dt.timedelta(days = 90)\n",
    "# turn into a string\n",
    "enddate = plus90.isoformat()\n",
    "\n",
    "# set model arguments\n",
    "model_args = {\n",
    "    'params_defs': 'covid_model/analysis/20221202_dec_cdphe_slides/20221202_scenario_params.json',\n",
    "    #'region_defs': 'covid_model/input/region_definitions.json',\n",
    "    'vacc_proj_params': 'covid_model/analysis/20221202_dec_cdphe_slides/20221202_vacc_proj_params.json',\n",
    "    'start_date': startdate,\n",
    "    'end_date': enddate,\n",
    "    'hosp_reporting_frac': {\"2020-01-01\": 1, \"2022-03-01\": 0.932, \"2022-03-15\": 0.868, \"2022-03-30\": 0.8},\n",
    "    'lt5_vacc_adjust': {\"param\": \"immunity\", \"attrs\": {'age': '0-19', 'vacc': 'shot1'},\n",
    "                          \"mults\": {\"2020-01-01\": 1,\n",
    "                                    \"2022-06-20\": 0.99 + 0.01*vacc_eff_lt5,\n",
    "                                    \"2022-06-30\": 0.98 + 0.02*vacc_eff_lt5,\n",
    "                                    \"2022-07-10\": 0.97 + 0.03*vacc_eff_lt5,\n",
    "                                    \"2022-07-20\": 0.96 + 0.04*vacc_eff_lt5,\n",
    "                                    \"2022-08-10\": 0.95 + 0.05*vacc_eff_lt5,\n",
    "                                    \"2022-08-30\": 0.94 + 0.06*vacc_eff_lt5,\n",
    "                                    \"2022-09-20\": 0.93 + 0.07*vacc_eff_lt5},\n",
    "                        \"desc\": \"weighted average using share of 0-19 getting shot1 who are under 5\"}\n",
    "}\n",
    "\n",
    "# set output directory and end date for fit (i.e., the last day of the hospitalization data)\n",
    "fit_args = {\n",
    "    'outdir': outdir,\n",
    "    'fit_end_date': last_hosp\n",
    "}"
   ]
  },
  {
   "cell_type": "code",
   "execution_count": 13,
   "metadata": {
    "pycharm": {
     "name": "#%%\n"
    }
   },
   "outputs": [
    {
     "name": "stderr",
     "output_type": "stream",
     "text": [
      "2022/12/13 12:16:09 INFO|-------------------------|{} Retrieving vaccinations data\n",
      "2022/12/13 12:16:11 INFO|-------------------------|{} Constructing vaccination projections\n",
      "2022/12/13 12:16:12 INFO|-------------------------|{} Retrieving hospitalizations data\n",
      "2022/12/13 12:16:13 INFO|----------------------|{} Prepping Model\n",
      "2022/12/13 12:16:13 INFO|-----------------------|{} Prepping Model\n",
      "2022/12/13 12:17:30 INFO|----------------------|{} Model prepped for fitting in 76.53035287500006 seconds.\n",
      "2022/12/13 12:17:30 INFO|----------------------|{} Will fit 35 times\n",
      "2022/12/13 12:19:17 INFO|----------------------|{'fit_batch': '0'}: Transmission control fit 1/35 completed in 107.50872154099989 seconds: {0: {'co': 0.8306366938274515}, 14: {'co': 0.6979623977021482}, 28: {'co': 0.5697825887250856}, 42: {'co': 0.0028644801015151513}, 56: {'co': 0.681466989081648}, 70: {'co': 0.8912779910149108}}\n",
      "2022/12/13 12:19:17 INFO|-----------------------|{'fit_batch': '0'}: Running forward sim\n",
      "2022/12/13 12:19:40 INFO|----------------------|{'fit_batch': '1'}: Transmission control fit 2/35 completed in 20.805878082999925 seconds: {28: {'co': 0.5653261197450042}, 42: {'co': 1.348670411329281e-15}, 56: {'co': 0.6954764622974066}, 70: {'co': 0.8359306781522721}, 84: {'co': 0.820948321765258}, 98: {'co': 0.8732898678613783}}\n",
      "2022/12/13 12:19:40 INFO|-----------------------|{'fit_batch': '1'}: Running forward sim\n",
      "2022/12/13 12:20:03 INFO|----------------------|{'fit_batch': '2'}: Transmission control fit 3/35 completed in 21.87816620800004 seconds: {56: {'co': 0.6966544603210812}, 70: {'co': 0.8332722402718251}, 84: {'co': 0.828954658343281}, 98: {'co': 0.8349953398279854}, 112: {'co': 0.8626439596692672}, 126: {'co': 0.9187371749507898}}\n",
      "2022/12/13 12:20:03 INFO|-----------------------|{'fit_batch': '2'}: Running forward sim\n",
      "2022/12/13 12:20:26 INFO|----------------------|{'fit_batch': '3'}: Transmission control fit 4/35 completed in 20.460118916000056 seconds: {84: {'co': 0.8296251063432389}, 98: {'co': 0.8316923291360533}, 112: {'co': 0.8774223811367176}, 126: {'co': 0.823837935496913}, 140: {'co': 0.7629556721444587}, 154: {'co': 0.6614392489956517}}\n",
      "2022/12/13 12:20:26 INFO|-----------------------|{'fit_batch': '3'}: Running forward sim\n",
      "2022/12/13 12:20:50 INFO|----------------------|{'fit_batch': '4'}: Transmission control fit 5/35 completed in 22.69059058400012 seconds: {112: {'co': 0.8774897939237247}, 126: {'co': 0.8243043424501997}, 140: {'co': 0.7606935233735487}, 154: {'co': 0.6708650481882559}, 168: {'co': 0.8437499497813099}, 182: {'co': 0.7840786430366613}}\n",
      "2022/12/13 12:20:50 INFO|-----------------------|{'fit_batch': '4'}: Running forward sim\n",
      "2022/12/13 12:21:13 INFO|----------------------|{'fit_batch': '5'}: Transmission control fit 6/35 completed in 21.411557167000183 seconds: {140: {'co': 0.760452799478958}, 154: {'co': 0.6712879989861206}, 168: {'co': 0.8432437716569557}, 182: {'co': 0.7801992067456757}, 196: {'co': 0.8275651290842165}, 210: {'co': 0.7403273676994124}}\n",
      "2022/12/13 12:21:13 INFO|-----------------------|{'fit_batch': '5'}: Running forward sim\n",
      "2022/12/13 12:21:28 INFO|----------------------|{'fit_batch': '6'}: Transmission control fit 7/35 completed in 13.209371833999967 seconds: {168: {'co': 0.8430551369627737}, 182: {'co': 0.7826363423749714}, 196: {'co': 0.8196040078437634}, 210: {'co': 0.7710707175787848}, 224: {'co': 0.7742311348398937}, 238: {'co': 0.7168195354530793}}\n",
      "2022/12/13 12:21:28 INFO|-----------------------|{'fit_batch': '6'}: Running forward sim\n",
      "2022/12/13 12:21:43 INFO|----------------------|{'fit_batch': '7'}: Transmission control fit 8/35 completed in 13.517322292000017 seconds: {196: {'co': 0.8191511041391527}, 210: {'co': 0.7726071083395839}, 224: {'co': 0.7703420333996074}, 238: {'co': 0.7217690356929969}, 252: {'co': 0.717790782984103}, 266: {'co': 0.6919029465401292}}\n",
      "2022/12/13 12:21:43 INFO|-----------------------|{'fit_batch': '7'}: Running forward sim\n",
      "2022/12/13 12:21:57 INFO|----------------------|{'fit_batch': '8'}: Transmission control fit 9/35 completed in 11.605511334000084 seconds: {224: {'co': 0.7713215687741561}, 238: {'co': 0.7185439582541749}, 252: {'co': 0.7226278141376021}, 266: {'co': 0.6833515761653518}, 280: {'co': 0.7227289036686367}, 294: {'co': 0.7531948799029236}}\n",
      "2022/12/13 12:21:57 INFO|-----------------------|{'fit_batch': '8'}: Running forward sim\n",
      "2022/12/13 12:22:14 INFO|----------------------|{'fit_batch': '9'}: Transmission control fit 10/35 completed in 15.571365624999999 seconds: {252: {'co': 0.7220971423741542}, 266: {'co': 0.6850776792118111}, 280: {'co': 0.720076315998348}, 294: {'co': 0.7580891556210952}, 308: {'co': 0.8257609730024661}, 322: {'co': 0.7957021289038025}}\n",
      "2022/12/13 12:22:14 INFO|-----------------------|{'fit_batch': '9'}: Running forward sim\n",
      "2022/12/13 12:22:33 INFO|----------------------|{'fit_batch': '10'}: Transmission control fit 11/35 completed in 16.94652199999996 seconds: {280: {'co': 0.7198394696300207}, 294: {'co': 0.7589434794856734}, 308: {'co': 0.8229796557468306}, 322: {'co': 0.8099080770361218}, 336: {'co': 0.7879799137256105}, 350: {'co': 0.7724617487785956}}\n",
      "2022/12/13 12:22:33 INFO|-----------------------|{'fit_batch': '10'}: Running forward sim\n",
      "2022/12/13 12:22:50 INFO|----------------------|{'fit_batch': '11'}: Transmission control fit 12/35 completed in 15.381174417000011 seconds: {308: {'co': 0.8220718755613405}, 322: {'co': 0.8118480334057833}, 336: {'co': 0.7824855007382295}, 350: {'co': 0.7937459431481455}, 364: {'co': 0.8119966984711778}, 378: {'co': 0.7087558785544922}}\n",
      "2022/12/13 12:22:50 INFO|-----------------------|{'fit_batch': '11'}: Running forward sim\n",
      "2022/12/13 12:23:05 INFO|----------------------|{'fit_batch': '12'}: Transmission control fit 13/35 completed in 13.439885833000062 seconds: {336: {'co': 0.7823219083655089}, 350: {'co': 0.7949852125763709}, 364: {'co': 0.8055033947004063}, 378: {'co': 0.7394695116133401}, 392: {'co': 0.8041246469425131}, 406: {'co': 0.608696513496585}}\n",
      "2022/12/13 12:23:05 INFO|-----------------------|{'fit_batch': '12'}: Running forward sim\n",
      "2022/12/13 12:23:21 INFO|----------------------|{'fit_batch': '13'}: Transmission control fit 14/35 completed in 14.120594542000163 seconds: {364: {'co': 0.804185991328366}, 378: {'co': 0.7476409905221921}, 392: {'co': 0.7792808831595215}, 406: {'co': 0.7062845401696621}, 420: {'co': 0.7325123330525081}, 434: {'co': 0.6496999915613421}}\n",
      "2022/12/13 12:23:21 INFO|-----------------------|{'fit_batch': '13'}: Running forward sim\n",
      "2022/12/13 12:23:36 INFO|----------------------|{'fit_batch': '14'}: Transmission control fit 15/35 completed in 13.66257941699996 seconds: {392: {'co': 0.7774915772339139}, 406: {'co': 0.7134316607057976}, 420: {'co': 0.7173848001774603}, 434: {'co': 0.6891832875525423}, 448: {'co': 0.74388501238927}, 462: {'co': 0.8045450962039699}}\n",
      "2022/12/13 12:23:36 INFO|-----------------------|{'fit_batch': '14'}: Running forward sim\n",
      "2022/12/13 12:23:53 INFO|----------------------|{'fit_batch': '15'}: Transmission control fit 16/35 completed in 15.074361459000102 seconds: {420: {'co': 0.717505367472589}, 434: {'co': 0.689435005518731}, 448: {'co': 0.7415122273855741}, 462: {'co': 0.8165827854593029}, 476: {'co': 0.7913502224065413}, 490: {'co': 0.8550870538191078}}\n",
      "2022/12/13 12:23:53 INFO|-----------------------|{'fit_batch': '15'}: Running forward sim\n",
      "2022/12/13 12:24:07 INFO|----------------------|{'fit_batch': '16'}: Transmission control fit 17/35 completed in 12.596149000000196 seconds: {448: {'co': 0.7411387332935669}, 462: {'co': 0.8144007991421192}, 476: {'co': 0.7975543158065604}, 490: {'co': 0.832201043460342}, 504: {'co': 0.8002961227526761}, 518: {'co': 0.7520404374821729}}\n",
      "2022/12/13 12:24:07 INFO|-----------------------|{'fit_batch': '16'}: Running forward sim\n",
      "2022/12/13 12:24:21 INFO|----------------------|{'fit_batch': '17'}: Transmission control fit 18/35 completed in 12.650671541000065 seconds: {476: {'co': 0.7967626462431131}, 490: {'co': 0.8343717442563503}, 504: {'co': 0.7932788197172244}, 518: {'co': 0.7844381310824082}, 532: {'co': 0.770779153199976}, 546: {'co': 0.707821902441658}}\n",
      "2022/12/13 12:24:21 INFO|-----------------------|{'fit_batch': '17'}: Running forward sim\n"
     ]
    },
    {
     "name": "stderr",
     "output_type": "stream",
     "text": [
      "2022/12/13 12:24:32 INFO|----------------------|{'fit_batch': '18'}: Transmission control fit 19/35 completed in 9.030785292000019 seconds: {504: {'co': 0.7927614869377158}, 518: {'co': 0.786297855789007}, 532: {'co': 0.7661786116173283}, 546: {'co': 0.7176009769087839}, 560: {'co': 0.7506313143440976}, 574: {'co': 0.7457868870597185}}\n",
      "2022/12/13 12:24:32 INFO|-----------------------|{'fit_batch': '18'}: Running forward sim\n",
      "2022/12/13 12:24:47 INFO|----------------------|{'fit_batch': '19'}: Transmission control fit 20/35 completed in 13.345455958999992 seconds: {532: {'co': 0.7655333903795535}, 546: {'co': 0.7194148615933602}, 560: {'co': 0.7472635843985098}, 574: {'co': 0.7558547275972319}, 588: {'co': 0.7926874527566158}, 602: {'co': 0.7730462157092053}}\n",
      "2022/12/13 12:24:47 INFO|-----------------------|{'fit_batch': '19'}: Running forward sim\n",
      "2022/12/13 12:25:03 INFO|----------------------|{'fit_batch': '20'}: Transmission control fit 21/35 completed in 14.60507266600007 seconds: {560: {'co': 0.7474540436858439}, 574: {'co': 0.7553402533924866}, 588: {'co': 0.7938527737346055}, 602: {'co': 0.7721479020947549}, 616: {'co': 0.7243363504778936}, 630: {'co': 0.7470709541003157}}\n",
      "2022/12/13 12:25:03 INFO|-----------------------|{'fit_batch': '20'}: Running forward sim\n",
      "2022/12/13 12:25:17 INFO|----------------------|{'fit_batch': '21'}: Transmission control fit 22/35 completed in 11.632164458000261 seconds: {588: {'co': 0.7941579422780308}, 602: {'co': 0.7711605547670161}, 616: {'co': 0.726706413779123}, 630: {'co': 0.7422958240757672}, 644: {'co': 0.7230413449777099}, 658: {'co': 0.7535389594950715}}\n",
      "2022/12/13 12:25:17 INFO|-----------------------|{'fit_batch': '21'}: Running forward sim\n",
      "2022/12/13 12:25:34 INFO|----------------------|{'fit_batch': '22'}: Transmission control fit 23/35 completed in 15.558278750000227 seconds: {616: {'co': 0.7262753685049329}, 630: {'co': 0.743619730378322}, 644: {'co': 0.7196729321502661}, 658: {'co': 0.7660032123145369}, 672: {'co': 0.7598538578693946}, 686: {'co': 0.8402581754091205}}\n",
      "2022/12/13 12:25:34 INFO|-----------------------|{'fit_batch': '22'}: Running forward sim\n",
      "2022/12/13 12:25:51 INFO|----------------------|{'fit_batch': '23'}: Transmission control fit 24/35 completed in 15.495958541000164 seconds: {644: {'co': 0.7204699473725531}, 658: {'co': 0.7609736231454014}, 672: {'co': 0.7733131064201548}, 686: {'co': 0.7964112306694505}, 700: {'co': 0.759817570633295}, 714: {'co': 0.7976794939634201}}\n",
      "2022/12/13 12:25:51 INFO|-----------------------|{'fit_batch': '23'}: Running forward sim\n",
      "2022/12/13 12:26:33 INFO|----------------------|{'fit_batch': '24'}: Transmission control fit 25/35 completed in 39.738077084 seconds: {672: {'co': 0.7730991048964015}, 686: {'co': 0.7978251147449563}, 700: {'co': 0.7583929187749552}, 714: {'co': 0.7983786975744142}, 728: {'co': 0.8031232745692788}, 742: {'co': 0.795634655137457}}\n",
      "2022/12/13 12:26:33 INFO|-----------------------|{'fit_batch': '24'}: Running forward sim\n",
      "2022/12/13 12:26:52 INFO|----------------------|{'fit_batch': '25'}: Transmission control fit 26/35 completed in 17.155696000000262 seconds: {700: {'co': 0.7583119292691849}, 714: {'co': 0.7986480314922658}, 728: {'co': 0.8025588622050196}, 742: {'co': 0.7994656272834899}, 756: {'co': 0.7689811744550809}, 770: {'co': 0.8315057464831993}}\n",
      "2022/12/13 12:26:52 INFO|-----------------------|{'fit_batch': '25'}: Running forward sim\n",
      "2022/12/13 12:27:13 INFO|----------------------|{'fit_batch': '26'}: Transmission control fit 27/35 completed in 19.38037824999992 seconds: {728: {'co': 0.8025030918295851}, 742: {'co': 0.7994660491961303}, 756: {'co': 0.7727518898418366}, 770: {'co': 0.8080333267405079}, 784: {'co': 0.7987120827793955}, 798: {'co': 0.8251648367821709}}\n",
      "2022/12/13 12:27:13 INFO|-----------------------|{'fit_batch': '26'}: Running forward sim\n",
      "2022/12/13 12:27:33 INFO|----------------------|{'fit_batch': '27'}: Transmission control fit 28/35 completed in 18.191405374999704 seconds: {756: {'co': 0.7735441299264956}, 770: {'co': 0.8082331064637803}, 784: {'co': 0.8024897647923627}, 798: {'co': 0.8083443160758499}, 812: {'co': 0.8146911203934907}, 826: {'co': 0.8303847151072713}}\n",
      "2022/12/13 12:27:33 INFO|-----------------------|{'fit_batch': '27'}: Running forward sim\n",
      "2022/12/13 12:28:01 INFO|----------------------|{'fit_batch': '28'}: Transmission control fit 29/35 completed in 26.716214333000153 seconds: {784: {'co': 0.8027708045566619}, 798: {'co': 0.8074460188682413}, 812: {'co': 0.8179104350188902}, 826: {'co': 0.8237584548656709}, 840: {'co': 0.8313168327335958}, 854: {'co': 0.8223612622824611}}\n",
      "2022/12/13 12:28:01 INFO|-----------------------|{'fit_batch': '28'}: Running forward sim\n",
      "2022/12/13 12:28:18 INFO|----------------------|{'fit_batch': '29'}: Transmission control fit 30/35 completed in 15.267151707999801 seconds: {812: {'co': 0.8175555300519333}, 826: {'co': 0.8248586935166005}, 840: {'co': 0.8289498126189577}, 854: {'co': 0.8273202138560629}, 868: {'co': 0.8547173686542696}, 882: {'co': 0.8335473552737158}}\n",
      "2022/12/13 12:28:18 INFO|-----------------------|{'fit_batch': '29'}: Running forward sim\n",
      "2022/12/13 12:28:35 INFO|----------------------|{'fit_batch': '30'}: Transmission control fit 31/35 completed in 14.827001125000152 seconds: {840: {'co': 0.828783304615352}, 854: {'co': 0.827665617456322}, 868: {'co': 0.8540024526490723}, 882: {'co': 0.8353814331557675}, 896: {'co': 0.8330122684026525}, 910: {'co': 0.8370103910264102}}\n",
      "2022/12/13 12:28:35 INFO|-----------------------|{'fit_batch': '30'}: Running forward sim\n",
      "2022/12/13 12:28:51 INFO|----------------------|{'fit_batch': '31'}: Transmission control fit 32/35 completed in 14.63994754100031 seconds: {868: {'co': 0.8536245697451128}, 882: {'co': 0.8353074876114225}, 896: {'co': 0.8337504265967702}, 910: {'co': 0.8343004068756581}, 924: {'co': 0.8327039049291116}, 938: {'co': 0.7969974668278439}}\n",
      "2022/12/13 12:28:51 INFO|-----------------------|{'fit_batch': '31'}: Running forward sim\n",
      "2022/12/13 12:29:08 INFO|----------------------|{'fit_batch': '32'}: Transmission control fit 33/35 completed in 15.133558750000248 seconds: {896: {'co': 0.833674409222788}, 910: {'co': 0.834725705398303}, 924: {'co': 0.8312725682105978}, 938: {'co': 0.8072788980901693}, 952: {'co': 0.8236417914351385}, 966: {'co': 0.7818066427379348}}\n",
      "2022/12/13 12:29:08 INFO|-----------------------|{'fit_batch': '32'}: Running forward sim\n",
      "2022/12/13 12:29:25 INFO|----------------------|{'fit_batch': '33'}: Transmission control fit 34/35 completed in 15.414283958999931 seconds: {924: {'co': 0.8310709761021201}, 938: {'co': 0.8081298377572972}, 952: {'co': 0.8209291287022853}, 966: {'co': 0.7913800873551297}, 980: {'co': 0.7944516633442963}, 994: {'co': 0.7731096624123749}}\n",
      "2022/12/13 12:29:25 INFO|-----------------------|{'fit_batch': '33'}: Running forward sim\n",
      "2022/12/13 12:29:45 INFO|----------------------|{'fit_batch': '34'}: Transmission control fit 35/35 completed in 18.552517417000217 seconds: {952: {'co': 0.8220798418613995}, 966: {'co': 0.7892307699880824}, 980: {'co': 0.8003817211596542}, 994: {'co': 0.7560985645615488}, 1008: {'co': 0.7299357753356772}, 1022: {'co': 0.7951852923081797}}\n",
      "2022/12/13 12:29:45 INFO|-----------------------|{'fit_batch': '34'}: Running forward sim\n",
      "2022/12/13 12:29:47 INFO|----------------------|{'fit_batch': '34', 'run_type': 'fit'}: fitted TC: {0: {'co': 0.8306366929742428}, 14: {'co': 0.6979624034943996}, 28: {'co': 0.5653261197450042}, 42: {'co': 1.348670411329281e-15}, 56: {'co': 0.6966544603210812}, 70: {'co': 0.8332722402718251}, 84: {'co': 0.8296251063432389}, 98: {'co': 0.8316923291360533}, 112: {'co': 0.8774897939237247}, 126: {'co': 0.8243043424501997}, 140: {'co': 0.760452799478958}, 154: {'co': 0.6712879989861206}, 168: {'co': 0.8430551369627737}, 182: {'co': 0.7826363423749714}, 196: {'co': 0.8191511041391527}, 210: {'co': 0.7726071083395839}, 224: {'co': 0.7713215687741561}, 238: {'co': 0.7185439582541749}, 252: {'co': 0.7220971423741542}, 266: {'co': 0.6850776792118111}, 280: {'co': 0.7198394696300207}, 294: {'co': 0.7589434794856734}, 308: {'co': 0.8220718755613405}, 322: {'co': 0.8118480334057833}, 336: {'co': 0.7823219083655089}, 350: {'co': 0.7949852125763709}, 364: {'co': 0.804185991328366}, 378: {'co': 0.7476409905221921}, 392: {'co': 0.7774915772339139}, 406: {'co': 0.7134316607057976}, 420: {'co': 0.717505367472589}, 434: {'co': 0.689435005518731}, 448: {'co': 0.7411387332935669}, 462: {'co': 0.8144007991421192}, 476: {'co': 0.7967626462431131}, 490: {'co': 0.8343717442563503}, 504: {'co': 0.7927614869377158}, 518: {'co': 0.786297855789007}, 532: {'co': 0.7655333903795535}, 546: {'co': 0.7194148615933602}, 560: {'co': 0.7474540436858439}, 574: {'co': 0.7553402533924866}, 588: {'co': 0.7941579422780308}, 602: {'co': 0.7711605547670161}, 616: {'co': 0.7262753685049329}, 630: {'co': 0.743619730378322}, 644: {'co': 0.7204699473725531}, 658: {'co': 0.7609736231454014}, 672: {'co': 0.7730991048964015}, 686: {'co': 0.7978251147449563}, 700: {'co': 0.7583119292691849}, 714: {'co': 0.7986480314922658}, 728: {'co': 0.8025030918295851}, 742: {'co': 0.7994660491961303}, 756: {'co': 0.7735441299264956}, 770: {'co': 0.8082331064637803}, 784: {'co': 0.8027708045567541}, 798: {'co': 0.8074460188688245}, 812: {'co': 0.8175555300519333}, 826: {'co': 0.8248586935166005}, 840: {'co': 0.828783304615352}, 854: {'co': 0.827665617456322}, 868: {'co': 0.8536245697451128}, 882: {'co': 0.8353074876114225}, 896: {'co': 0.833674409222788}, 910: {'co': 0.834725705398303}, 924: {'co': 0.8310709761021201}, 938: {'co': 0.8081298377572972}, 952: {'co': 0.8220798418613995}, 966: {'co': 0.7892307699880824}, 980: {'co': 0.8003817211596542}, 994: {'co': 0.7560985645615488}, 1008: {'co': 0.7299357753356772}, 1022: {'co': 0.7951853072093409}}\n"
     ]
    },
    {
     "name": "stderr",
     "output_type": "stream",
     "text": [
      "2022/12/13 12:29:47 INFO|-----------------------|{'fit_batch': '34', 'run_type': 'fit'}: Running forward sim\n",
      "2022/12/13 12:29:49 INFO|----------------------|{'fit_batch': '34', 'run_type': 'fit'}: Uploading final results\n",
      "2022/12/13 12:29:54 INFO|----------------------|{'fit_batch': '34', 'run_type': 'fit'}: spec_id: 4561\n"
     ]
    }
   ],
   "source": [
    "# if you want to refit the model, run this code\n",
    "# this creates an object called \"model\" by passing the fit_args and model_args through the do_single_fit function\n",
    "# otherwise, run the next cell down\n",
    "model = do_single_fit(**fit_args, **model_args)"
   ]
  },
  {
   "cell_type": "code",
   "execution_count": null,
   "metadata": {},
   "outputs": [],
   "source": [
    "# if you want to pass an old fit spec ID through, run this code\n",
    "# otherwise, refit using the code above\n",
    "#model_args = {\n",
    "    #'base_spec_id': 4515, # use the spec id that was output from the model fit you want to pass through\n",
    "#}\n",
    "# create an object called \"model\" by passing the above-mentioned model_args through CovidModel\n",
    "#model = CovidModel(**model_args)\n",
    "# prep the model\n",
    "#model.prep()"
   ]
  },
  {
   "cell_type": "code",
   "execution_count": 14,
   "metadata": {},
   "outputs": [],
   "source": [
    "# output the TC json file to csv\n",
    "\n",
    "# path to model output where tc .json's are\n",
    "results_dir = \"../output/20221213_scenario_projections.ipynb\"\n",
    "tc_files = []\n",
    "pattern = '*run_type_fit__model_tc.json'\n",
    "\n",
    "# grab all forecast tc json files\n",
    "tc_files = [os.path.join(outdir, file) for file in os.listdir(outdir) if fnmatch.fnmatch(file, pattern)]\n",
    "\n",
    "# turn into .csv files and put in output directory\n",
    "for file in tc_files:\n",
    "    df = pd.read_json(file)\n",
    "    file_new = file.replace('.json','.csv' )\n",
    "    df.to_csv(file_new)"
   ]
  },
  {
   "cell_type": "code",
   "execution_count": null,
   "metadata": {},
   "outputs": [],
   "source": [
    "# Brittney, can you write a small script that pulls the last few TC values (say eight weeks back)\n",
    "# then extract the min, max, and mean of that range?"
   ]
  },
  {
   "cell_type": "markdown",
   "metadata": {
    "pycharm": {
     "name": "#%% md\n"
    }
   },
   "source": [
    "### Run the model"
   ]
  },
  {
   "cell_type": "code",
   "execution_count": 15,
   "metadata": {
    "pycharm": {
     "name": "#%%\n"
    }
   },
   "outputs": [
    {
     "name": "stderr",
     "output_type": "stream",
     "text": [
      "2022/12/13 12:31:09 INFO|Projecting\n",
      "2022/12/13 12:31:09 INFO|\n",
      "2022/12/13 12:31:13 WARNING|No artists with labels found to put in legend.  Note that artists whose label start with an underscore are ignored when legend() is called with no argument.\n",
      "2022/12/13 12:33:09 INFO|{'fit_batch': '34', 'run_type': 'fit', 'tc': 0.7177}: Running forward sim\n",
      "2022/12/13 12:33:10 INFO|Running reports\n",
      "2022/12/13 12:33:10 INFO|\n",
      "2022/12/13 12:33:14 WARNING|No artists with labels found to put in legend.  Note that artists whose label start with an underscore are ignored when legend() is called with no argument.\n",
      "2022/12/13 12:35:09 INFO|{'fit_batch': '34', 'run_type': 'fit', 'tc': 0.7708}: Running forward sim\n",
      "2022/12/13 12:35:10 INFO|Running reports\n",
      "2022/12/13 12:35:10 INFO|\n",
      "2022/12/13 12:35:15 WARNING|No artists with labels found to put in legend.  Note that artists whose label start with an underscore are ignored when legend() is called with no argument.\n",
      "2022/12/13 12:37:09 INFO|{'fit_batch': '34', 'run_type': 'fit', 'tc': 0.7964}: Running forward sim\n",
      "2022/12/13 12:37:10 INFO|Running reports\n"
     ]
    }
   ],
   "source": [
    "# now create the reports for the model, indexing through all the values of TC we want to simulate\n",
    "logging.info('Projecting')\n",
    "# input the three TC values: min, mean, and max\n",
    "for tc in [0.7177, 0.7708, 0.7964]:\n",
    "    logging.info('')\n",
    "    model.update_tc({model.date_to_t(last_hosp): {'co': tc}}, replace = False)\n",
    "    model.tags.update({'tc': tc})\n",
    "    model.solve_seir()\n",
    "    do_create_report(model, outdir=outdir, prep_model=False, solve_model=False, immun_variants=['ba45', 'emv'], from_date='2022-01-01')\n",
    "\n",
    "    model.solution_sum_df(['seir', 'variant', 'immun']).unstack().to_csv(get_filepath_prefix(outdir, tags=model.tags) + 'states_seir_variant_immun_total_all_at_once_projection.csv')\n",
    "    model.solution_sum_df().unstack().to_csv(get_filepath_prefix(outdir, tags=model.tags) + 'states_full_projection.csv')\n",
    "\n",
    "    logging.info(f'{str(model.tags)}: Running forward sim')\n",
    "    fig = plt.figure(figsize=(10, 10), dpi=300)\n",
    "    ax = fig.add_subplot(211)\n",
    "    hosps_df = model.modeled_vs_observed_hosps().reset_index('region').drop(columns='region')\n",
    "    hosps_df.plot(ax=ax)\n",
    "    ax.set_xlim(dt.datetime.strptime('2022-01-01', \"%Y-%m-%d\").date(), enddate)\n",
    "    ax = fig.add_subplot(212)\n",
    "    plot_transmission_control(model, ax=ax)\n",
    "    ax.set_xlim(dt.datetime.strptime('2022-01-01', \"%Y-%m-%d\").date(), enddate)\n",
    "    plt.savefig(get_filepath_prefix(outdir, tags=model.tags) + 'model_forecast.png')\n",
    "    plt.close()\n",
    "    hosps_df.to_csv(get_filepath_prefix(outdir, tags=model.tags) + '_model_forecast.csv')\n",
    "    json.dump(model.tc, open(get_filepath_prefix(outdir, tags=model.tags) + 'model_forecast_tc.json', 'w'))\n",
    "\n",
    "    logging.info('Running reports')"
   ]
  }
 ],
 "metadata": {
  "kernelspec": {
   "display_name": "Python 3 (ipykernel)",
   "language": "python",
   "name": "python3"
  },
  "language_info": {
   "codemirror_mode": {
    "name": "ipython",
    "version": 3
   },
   "file_extension": ".py",
   "mimetype": "text/x-python",
   "name": "python",
   "nbconvert_exporter": "python",
   "pygments_lexer": "ipython3",
   "version": "3.9.13"
  }
 },
 "nbformat": 4,
 "nbformat_minor": 4
}
