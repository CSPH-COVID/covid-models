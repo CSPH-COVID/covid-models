{
 "cells": [
  {
   "cell_type": "markdown",
   "metadata": {
    "pycharm": {
     "name": "#%% md\n"
    }
   },
   "source": [
    "### Setup"
   ]
  },
  {
   "cell_type": "code",
   "execution_count": 1,
   "metadata": {
    "pycharm": {
     "name": "#%%\n"
    }
   },
   "outputs": [
    {
     "name": "stdout",
     "output_type": "stream",
     "text": [
      "/Users/emwu9912/PycharmProjects/covid-models\n"
     ]
    }
   ],
   "source": [
    "\"\"\" Python Standard Library \"\"\"\n",
    "import os\n",
    "import datetime as dt\n",
    "import json\n",
    "import logging\n",
    "\"\"\" Third Party Imports \"\"\"\n",
    "import numpy as np\n",
    "import pandas as pd\n",
    "from matplotlib import pyplot as plt\n",
    "%matplotlib inline\n",
    "import seaborn as sns\n",
    "\"\"\" Local Imports \"\"\"\n",
    "if 'requirements.txt' not in os.listdir(os.getcwd()):\n",
    "    os.chdir(os.path.join('..','..','..'))\n",
    "print(os.getcwd())\n",
    "from covid_model.model import CovidModel\n",
    "from covid_model.runnable_functions import do_single_fit, do_fit_scenarios, do_create_multiple_reports\n",
    "from covid_model.utils import setup, get_filepath_prefix\n",
    "from covid_model.analysis.charts import plot_transmission_control\n",
    "\n",
    "os.environ['gcp_project'] = 'co-covid-models'\n",
    "os.environ['GOOGLE_APPLICATION_CREDENTIALS'] = \"co-covid-models-credentials.json\""
   ]
  },
  {
   "cell_type": "code",
   "execution_count": 2,
   "metadata": {
    "pycharm": {
     "name": "#%%\n"
    },
    "scrolled": true
   },
   "outputs": [
    {
     "name": "stderr",
     "output_type": "stream",
     "text": [
      "2022/09/28 21:49:04 INFO|============================================================\n"
     ]
    }
   ],
   "source": [
    "# set up the output directory for this Jupyter notebook\n",
    "outdir = setup(\"20221004_scenario_projections.ipynb\")"
   ]
  },
  {
   "cell_type": "markdown",
   "metadata": {
    "pycharm": {
     "name": "#%% md\n"
    }
   },
   "source": [
    "### Fit an initial scenario through February 2022"
   ]
  },
  {
   "cell_type": "code",
   "execution_count": 3,
   "metadata": {
    "pycharm": {
     "name": "#%%\n"
    }
   },
   "outputs": [
    {
     "name": "stderr",
     "output_type": "stream",
     "text": [
      "2022/09/28 21:49:10 INFO|-------------------------|{} Retrieving vaccinations data\n",
      "2022/09/28 21:49:13 INFO|-------------------------|{} Constructing vaccination projections\n",
      "2022/09/28 21:49:13 INFO|-------------------------|{} Retrieving hospitalizations data\n",
      "2022/09/28 21:49:15 INFO|----------------------|{} Prepping Model\n",
      "2022/09/28 21:49:15 INFO|-----------------------|{} Prepping Model\n",
      "2022/09/28 21:50:43 INFO|----------------------|{} Model prepped for fitting in 87.030457625 seconds.\n",
      "2022/09/28 21:50:43 INFO|----------------------|{} Will fit 25 times\n",
      "2022/09/28 21:51:52 INFO|----------------------|{'fit_batch': '0'}: Transmission control fit 1/25 completed in 69.22458974999999 seconds: {0: {'co': 0.830636682413169}, 14: {'co': 0.6982145962294486}, 28: {'co': 0.5695510909181374}, 42: {'co': 0.0027556383839568307}, 56: {'co': 0.6814732207342024}, 70: {'co': 0.8912739518691062}}\n",
      "2022/09/28 21:51:52 INFO|-----------------------|{'fit_batch': '0'}: Running forward sim\n",
      "2022/09/28 21:52:09 INFO|----------------------|{'fit_batch': '1'}: Transmission control fit 2/25 completed in 15.714622666999986 seconds: {28: {'co': 0.5650212471092002}, 42: {'co': 1.2408159663619181e-15}, 56: {'co': 0.6954742819327521}, 70: {'co': 0.8359309182889286}, 84: {'co': 0.8209479341927665}, 98: {'co': 0.8732900877717413}}\n",
      "2022/09/28 21:52:09 INFO|-----------------------|{'fit_batch': '1'}: Running forward sim\n",
      "2022/09/28 21:52:30 INFO|----------------------|{'fit_batch': '2'}: Transmission control fit 3/25 completed in 18.22048749999999 seconds: {56: {'co': 0.6966527863556601}, 70: {'co': 0.833272726083201}, 84: {'co': 0.8289543842193093}, 98: {'co': 0.8349955232057907}, 112: {'co': 0.8626438195494085}, 126: {'co': 0.9187374168500001}}\n",
      "2022/09/28 21:52:30 INFO|-----------------------|{'fit_batch': '2'}: Running forward sim\n",
      "2022/09/28 21:52:47 INFO|----------------------|{'fit_batch': '3'}: Transmission control fit 4/25 completed in 15.723217750000003 seconds: {84: {'co': 0.829624833881214}, 98: {'co': 0.8316925083025142}, 112: {'co': 0.8774222641319642}, 126: {'co': 0.8238380397871727}, 140: {'co': 0.7629556167389148}, 154: {'co': 0.6614393065001694}}\n",
      "2022/09/28 21:52:47 INFO|-----------------------|{'fit_batch': '3'}: Running forward sim\n",
      "2022/09/28 21:53:06 INFO|----------------------|{'fit_batch': '4'}: Transmission control fit 5/25 completed in 16.238254000000012 seconds: {112: {'co': 0.8774896775135849}, 126: {'co': 0.8243044383057617}, 140: {'co': 0.7606934772126791}, 154: {'co': 0.6708650733411579}, 168: {'co': 0.8437499492013969}, 182: {'co': 0.7840786522266383}}\n",
      "2022/09/28 21:53:06 INFO|-----------------------|{'fit_batch': '4'}: Running forward sim\n",
      "2022/09/28 21:53:22 INFO|----------------------|{'fit_batch': '5'}: Transmission control fit 6/25 completed in 14.608315291999986 seconds: {140: {'co': 0.7604527552865628}, 154: {'co': 0.6712880214899843}, 168: {'co': 0.84324376964511}, 182: {'co': 0.7801992142088457}, 196: {'co': 0.8275651312498278}, 210: {'co': 0.7403273757020723}}\n",
      "2022/09/28 21:53:22 INFO|-----------------------|{'fit_batch': '5'}: Running forward sim\n",
      "2022/09/28 21:53:36 INFO|----------------------|{'fit_batch': '6'}: Transmission control fit 7/25 completed in 11.509963916000004 seconds: {168: {'co': 0.8430551349085242}, 182: {'co': 0.7826363496218521}, 196: {'co': 0.8196040100738575}, 210: {'co': 0.7710707229099053}, 224: {'co': 0.7742311388618086}, 238: {'co': 0.7168195414593567}}\n",
      "2022/09/28 21:53:36 INFO|-----------------------|{'fit_batch': '6'}: Running forward sim\n",
      "2022/09/28 21:53:51 INFO|----------------------|{'fit_batch': '7'}: Transmission control fit 8/25 completed in 13.470688916999961 seconds: {196: {'co': 0.8191511064245416}, 210: {'co': 0.7726071135217192}, 224: {'co': 0.770342037673758}, 238: {'co': 0.7217690412723284}, 252: {'co': 0.7177907884803212}, 266: {'co': 0.691902952633222}}\n",
      "2022/09/28 21:53:51 INFO|-----------------------|{'fit_batch': '7'}: Running forward sim\n",
      "2022/09/28 21:54:06 INFO|----------------------|{'fit_batch': '8'}: Transmission control fit 9/25 completed in 12.620934999999974 seconds: {224: {'co': 0.7713215730133244}, 238: {'co': 0.7185439636873041}, 252: {'co': 0.7226278201851276}, 266: {'co': 0.683351582005468}, 280: {'co': 0.7227289092611442}, 294: {'co': 0.7531948848063088}}\n",
      "2022/09/28 21:54:06 INFO|-----------------------|{'fit_batch': '8'}: Running forward sim\n",
      "2022/09/28 21:54:22 INFO|----------------------|{'fit_batch': '9'}: Transmission control fit 10/25 completed in 14.471010041999989 seconds: {252: {'co': 0.7220971489408626}, 266: {'co': 0.6850776841685362}, 280: {'co': 0.7200763220879557}, 294: {'co': 0.7580891603183567}, 308: {'co': 0.8257609766144421}, 322: {'co': 0.7957021331228743}}\n",
      "2022/09/28 21:54:22 INFO|-----------------------|{'fit_batch': '9'}: Running forward sim\n",
      "2022/09/28 21:54:38 INFO|----------------------|{'fit_batch': '10'}: Transmission control fit 11/25 completed in 13.927498583000045 seconds: {280: {'co': 0.7198336548294406}, 294: {'co': 0.7589635069294141}, 308: {'co': 0.8229263130841405}, 322: {'co': 0.8100534026917394}, 336: {'co': 0.7872657689177122}, 350: {'co': 0.7734273081937262}}\n",
      "2022/09/28 21:54:38 INFO|-----------------------|{'fit_batch': '10'}: Running forward sim\n",
      "2022/09/28 21:54:56 INFO|----------------------|{'fit_batch': '11'}: Transmission control fit 12/25 completed in 16.714751458000023 seconds: {308: {'co': 0.8220311486521434}, 322: {'co': 0.8119730483051099}, 336: {'co': 0.7825122788126735}, 350: {'co': 0.7941252777789728}, 364: {'co': 0.8115808289649006}, 378: {'co': 0.7076835110610368}}\n",
      "2022/09/28 21:54:56 INFO|-----------------------|{'fit_batch': '11'}: Running forward sim\n",
      "2022/09/28 21:55:12 INFO|----------------------|{'fit_batch': '12'}: Transmission control fit 13/25 completed in 13.207970499999988 seconds: {336: {'co': 0.7820760195219616}, 350: {'co': 0.7953719921669099}, 364: {'co': 0.8050530982071744}, 378: {'co': 0.7380187216463452}, 392: {'co': 0.8046678981399622}, 406: {'co': 0.6122280374353948}}\n",
      "2022/09/28 21:55:12 INFO|-----------------------|{'fit_batch': '12'}: Running forward sim\n",
      "2022/09/28 21:55:35 INFO|----------------------|{'fit_batch': '13'}: Transmission control fit 14/25 completed in 21.59450750000002 seconds: {364: {'co': 0.8030720051150028}, 378: {'co': 0.7474293093611686}, 392: {'co': 0.7787542412371549}, 406: {'co': 0.7057739182352094}, 420: {'co': 0.7325001548752182}, 434: {'co': 0.6488132210823158}}\n",
      "2022/09/28 21:55:35 INFO|-----------------------|{'fit_batch': '13'}: Running forward sim\n",
      "2022/09/28 21:55:52 INFO|----------------------|{'fit_batch': '14'}: Transmission control fit 15/25 completed in 15.055977457999973 seconds: {392: {'co': 0.7782239558532121}, 406: {'co': 0.7139059489753672}, 420: {'co': 0.717545382862902}, 434: {'co': 0.6880949394458347}, 448: {'co': 0.7421826989145771}, 462: {'co': 0.8008199313381521}}\n",
      "2022/09/28 21:55:52 INFO|-----------------------|{'fit_batch': '14'}: Running forward sim\n",
      "2022/09/28 21:56:08 INFO|----------------------|{'fit_batch': '15'}: Transmission control fit 16/25 completed in 13.915018999999972 seconds: {420: {'co': 0.717450154955391}, 434: {'co': 0.6887633551130737}, 448: {'co': 0.7403147869106562}, 462: {'co': 0.8137493232748048}, 476: {'co': 0.7869138679506893}, 490: {'co': 0.8516777726864996}}\n",
      "2022/09/28 21:56:08 INFO|-----------------------|{'fit_batch': '15'}: Running forward sim\n",
      "2022/09/28 21:56:22 INFO|----------------------|{'fit_batch': '16'}: Transmission control fit 17/25 completed in 11.887733749999995 seconds: {448: {'co': 0.7407987204629658}, 462: {'co': 0.8126791363437336}, 476: {'co': 0.7926054848674481}, 490: {'co': 0.8287885157814147}, 504: {'co': 0.7938664687586998}, 518: {'co': 0.7440723467273109}}\n",
      "2022/09/28 21:56:22 INFO|-----------------------|{'fit_batch': '16'}: Running forward sim\n",
      "2022/09/28 21:56:36 INFO|----------------------|{'fit_batch': '17'}: Transmission control fit 18/25 completed in 12.014453833999994 seconds: {476: {'co': 0.7917332486201977}, 490: {'co': 0.8301216631271208}, 504: {'co': 0.7869855352421768}, 518: {'co': 0.7777039801515556}, 532: {'co': 0.7635177453544744}, 546: {'co': 0.6987955964366602}}\n",
      "2022/09/28 21:56:36 INFO|-----------------------|{'fit_batch': '17'}: Running forward sim\n"
     ]
    },
    {
     "name": "stderr",
     "output_type": "stream",
     "text": [
      "2022/09/28 21:56:48 INFO|----------------------|{'fit_batch': '18'}: Transmission control fit 19/25 completed in 9.966710416000012 seconds: {504: {'co': 0.7862044848399975}, 518: {'co': 0.7800183031631541}, 532: {'co': 0.7569129275753766}, 546: {'co': 0.7093499706644105}, 560: {'co': 0.7431991610520275}, 574: {'co': 0.7376795551483596}}\n",
      "2022/09/28 21:56:48 INFO|-----------------------|{'fit_batch': '18'}: Running forward sim\n",
      "2022/09/28 21:57:04 INFO|----------------------|{'fit_batch': '19'}: Transmission control fit 20/25 completed in 14.393928332999963 seconds: {532: {'co': 0.7561820077522211}, 546: {'co': 0.7114199225292264}, 560: {'co': 0.7394392888827683}, 574: {'co': 0.7494247803082278}, 588: {'co': 0.7863432170313621}, 602: {'co': 0.7653246699243937}}\n",
      "2022/09/28 21:57:04 INFO|-----------------------|{'fit_batch': '19'}: Running forward sim\n",
      "2022/09/28 21:57:17 INFO|----------------------|{'fit_batch': '20'}: Transmission control fit 21/25 completed in 11.266427249999992 seconds: {560: {'co': 0.7394357430416563}, 574: {'co': 0.7479527174722719}, 588: {'co': 0.7873594468847869}, 602: {'co': 0.7650067459702592}, 616: {'co': 0.7157323115148434}, 630: {'co': 0.7392075008419271}}\n",
      "2022/09/28 21:57:17 INFO|-----------------------|{'fit_batch': '20'}: Running forward sim\n",
      "2022/09/28 21:57:32 INFO|----------------------|{'fit_batch': '21'}: Transmission control fit 22/25 completed in 12.983891583000002 seconds: {588: {'co': 0.7876637351225952}, 602: {'co': 0.7640801137926484}, 616: {'co': 0.71806924333638}, 630: {'co': 0.7344327877442938}, 644: {'co': 0.7141025626384979}, 658: {'co': 0.7446838015295139}}\n",
      "2022/09/28 21:57:32 INFO|-----------------------|{'fit_batch': '21'}: Running forward sim\n",
      "2022/09/28 21:57:49 INFO|----------------------|{'fit_batch': '22'}: Transmission control fit 23/25 completed in 14.615068707999967 seconds: {616: {'co': 0.7175479876792045}, 630: {'co': 0.7361050685526391}, 644: {'co': 0.7099666306406799}, 658: {'co': 0.7583019199371447}, 672: {'co': 0.7394399075012859}, 686: {'co': 0.8119100563778995}}\n",
      "2022/09/28 21:57:49 INFO|-----------------------|{'fit_batch': '22'}: Running forward sim\n",
      "2022/09/28 21:58:09 INFO|----------------------|{'fit_batch': '23'}: Transmission control fit 24/25 completed in 18.143233333000012 seconds: {644: {'co': 0.7114268286837389}, 658: {'co': 0.7522470729945069}, 672: {'co': 0.7592451296740712}, 686: {'co': 0.7372716064215531}, 700: {'co': 0.6533931328108112}, 714: {'co': 0.8000460776369567}}\n",
      "2022/09/28 21:58:09 INFO|-----------------------|{'fit_batch': '23'}: Running forward sim\n",
      "2022/09/28 21:58:32 INFO|----------------------|{'fit_batch': '24'}: Transmission control fit 25/25 completed in 20.87834779100001 seconds: {672: {'co': 0.7586716317233649}, 686: {'co': 0.7385147848000705}, 700: {'co': 0.6492176756281465}, 714: {'co': 0.8025249313111573}, 728: {'co': 0.8433060995865083}, 742: {'co': 0.8635959158070837}}\n",
      "2022/09/28 21:58:32 INFO|-----------------------|{'fit_batch': '24'}: Running forward sim\n",
      "2022/09/28 21:58:34 INFO|----------------------|{'fit_batch': '24', 'run_type': 'fit'}: fitted TC: {0: {'co': 0.8306366815597537}, 14: {'co': 0.6982145991137699}, 28: {'co': 0.5650212471092002}, 42: {'co': 1.2408159663619181e-15}, 56: {'co': 0.6966527863556601}, 70: {'co': 0.833272726083201}, 84: {'co': 0.829624833881214}, 98: {'co': 0.8316925083025142}, 112: {'co': 0.8774896775135849}, 126: {'co': 0.8243044383057617}, 140: {'co': 0.7604527552865628}, 154: {'co': 0.6712880214899843}, 168: {'co': 0.8430551349085242}, 182: {'co': 0.7826363496218521}, 196: {'co': 0.8191511064245416}, 210: {'co': 0.7726071135217192}, 224: {'co': 0.7713215730133244}, 238: {'co': 0.7185439636873041}, 252: {'co': 0.7220971489408626}, 266: {'co': 0.6850776841685362}, 280: {'co': 0.7198336548294406}, 294: {'co': 0.7589635069294141}, 308: {'co': 0.8220311486521434}, 322: {'co': 0.8119730483051099}, 336: {'co': 0.7820760195219616}, 350: {'co': 0.7953719921669099}, 364: {'co': 0.8030720051150028}, 378: {'co': 0.7474293093611686}, 392: {'co': 0.7782239558532121}, 406: {'co': 0.7139059489753672}, 420: {'co': 0.717450154955391}, 434: {'co': 0.6887633551130737}, 448: {'co': 0.7407987204629658}, 462: {'co': 0.8126791363437336}, 476: {'co': 0.7917332486201977}, 490: {'co': 0.8301216631271208}, 504: {'co': 0.7862044848399975}, 518: {'co': 0.7800183031631541}, 532: {'co': 0.7561820077522211}, 546: {'co': 0.7114199225292264}, 560: {'co': 0.7394357430416563}, 574: {'co': 0.7479527174722719}, 588: {'co': 0.7876637351225952}, 602: {'co': 0.7640801137926484}, 616: {'co': 0.7175479876792045}, 630: {'co': 0.7361050685526391}, 644: {'co': 0.7114268286837389}, 658: {'co': 0.7522470729945069}, 672: {'co': 0.7586716317233649}, 686: {'co': 0.7385147848000705}, 700: {'co': 0.6492176756281465}, 714: {'co': 0.8025249313111573}, 728: {'co': 0.8433060995865083}, 742: {'co': 0.8635959307082449}}\n",
      "2022/09/28 21:58:34 INFO|-----------------------|{'fit_batch': '24', 'run_type': 'fit'}: Running forward sim\n",
      "2022/09/28 21:58:36 INFO|----------------------|{'fit_batch': '24', 'run_type': 'fit'}: Uploading final results\n",
      "2022/09/28 21:58:43 INFO|----------------------|{'fit_batch': '24', 'run_type': 'fit'}: spec_id: 4067\n"
     ]
    }
   ],
   "source": [
    "# designate the arguments for how the model will behave\n",
    "model_args = {\n",
    "    'params_defs': 'covid_model/analysis/20221004_oct_gov_briefing/20221004_scenario_params.json',\n",
    "    'region_defs': 'covid_model/input/region_definitions.json',\n",
    "    'vacc_proj_params': 'covid_model/model_dev_qc/vaccines/qc_vacc_proj_params.json',\n",
    "    'start_date': '2020-01-24',\n",
    "    'end_date': '2024-01-01',\n",
    "}\n",
    "\n",
    "# this is how the fit will behave\n",
    "# place the outdir argument here to tell the model fit where to go\n",
    "fit_args = {'outdir': outdir,\n",
    "            'fit_end_date': '2022-02-28'\n",
    "}\n",
    "\n",
    "# because all the scenarios are the same \n",
    "model = do_single_fit(**fit_args, **model_args)"
   ]
  },
  {
   "cell_type": "markdown",
   "metadata": {
    "pycharm": {
     "name": "#%% md\n"
    }
   },
   "source": [
    "### Create and run scenarios from Feb 2022 to present"
   ]
  },
  {
   "cell_type": "code",
   "execution_count": 4,
   "metadata": {
    "pycharm": {
     "name": "#%%\n"
    }
   },
   "outputs": [],
   "source": [
    "multiprocess = 4\n",
    "\n",
    "scenario_params = json.load(open(\"covid_model/analysis/20221004_oct_gov_briefing/20221004_scenario_params.json\"))\n",
    "\n",
    "model_args = {\n",
    "    'base_spec_id': 4067 #model.spec_id, # use the spec id that was output from the model fit\n",
    "}\n",
    "model_fit_args = {\n",
    "    'outdir': outdir,\n",
    "    'fit_start_date': '2022-03-01', # set the start date for the earliest point at which the scenarios start to differ from one another\n",
    "    'pre_solve_model': True # force the model to establish initial conditions so the fit can start on the fit start date\n",
    "}\n",
    "\n",
    "# define vaccine effectiveness for < 5 (this is a multiplier for the baseline vaccine effectiveness for 0-19)\n",
    "vacc_eff_lt5 = 0.5\n",
    "\n",
    "# Create different scenarios to model\n",
    "scenario_model_args = []\n",
    "for vx_seed in [0, 1]:\n",
    "    for vir_mult in [0.833, 2.38]:\n",
    "        hrf = {\"2020-01-01\": 1, \"2022-03-01\": (0.66 + 0.34*0.8),\n",
    "               \"2022-03-15\": (0.34 + 0.66*0.8), \"2022-03-30\": 0.8}\n",
    "        vx_adjust = [{\"param\": \"vx_seed\",\n",
    "                      \"vals\": {\"2020-01-01\": 0, \"2022-09-30\": vx_seed, \"2022-10-20\": 0},\n",
    "                      \"desc\": \"Variant X seeding\"}]\n",
    "        vir_adjust = [{\"param\": \"hosp\",\n",
    "                       \"attrs\": {\"variant\": \"vx\"},\n",
    "                       \"mults\": {\"2020-01-01\": vir_mult},\n",
    "                       \"desc\": \"Variant X hospitalization multiplier\"}]\n",
    "        lt5_vacc_adjust = [{\"param\": \"immunity\",\n",
    "                            \"attrs\": {'age': '0-19', 'vacc': 'shot1'},\n",
    "                            \"mults\": {\"2020-01-01\": 1,\n",
    "                                      \"2022-06-20\": 0.99 + 0.01*vacc_eff_lt5,\n",
    "                                      \"2022-06-30\": 0.98 + 0.02*vacc_eff_lt5,\n",
    "                                      \"2022-07-10\": 0.97 + 0.03*vacc_eff_lt5,\n",
    "                                      \"2022-07-20\": 0.96 + 0.04*vacc_eff_lt5,\n",
    "                                      \"2022-08-10\": 0.95 + 0.05*vacc_eff_lt5,\n",
    "                                      \"2022-08-30\": 0.94 + 0.06*vacc_eff_lt5,\n",
    "                                      \"2022-09-20\": 0.93 + 0.07*vacc_eff_lt5},\n",
    "                            \"desc\": \"weighted average using share of 0-19 getting shot1 who are under 5\"}]\n",
    "        scenario_model_args.append({'params_defs': scenario_params + vx_adjust + vir_adjust + lt5_vacc_adjust,\n",
    "                                    'hosp_reporting_frac': hrf,\n",
    "                                    'tags': {'vx_seed': vx_seed,\n",
    "                                             'vir_mult': vir_mult,\n",
    "                                             'booster_mult': 1}})\n",
    "            "
   ]
  },
  {
   "cell_type": "code",
   "execution_count": 5,
   "metadata": {},
   "outputs": [
    {
     "data": {
      "text/plain": [
       "4"
      ]
     },
     "execution_count": 5,
     "metadata": {},
     "output_type": "execute_result"
    }
   ],
   "source": [
    "# check how many scenarios there are\n",
    "len(scenario_model_args)"
   ]
  },
  {
   "cell_type": "code",
   "execution_count": 6,
   "metadata": {},
   "outputs": [
    {
     "name": "stderr",
     "output_type": "stream",
     "text": [
      "2022/09/28 22:08:05 INFO|============================================================\n",
      "2022/09/28 22:08:05 INFO|============================================================\n",
      "2022/09/28 22:08:05 INFO|============================================================\n",
      "2022/09/28 22:08:05 INFO|============================================================\n",
      "2022/09/28 22:08:09 INFO|-----------|{'vx_seed': 0, 'vir_mult': 2.38, 'booster_mult': 1} Retrieving vaccinations data\n",
      "2022/09/28 22:08:09 INFO|-----------|{'vx_seed': 1, 'vir_mult': 2.38, 'booster_mult': 1} Retrieving vaccinations data\n",
      "2022/09/28 22:08:09 INFO|-----------|{'vx_seed': 0, 'vir_mult': 0.833, 'booster_mult': 1} Retrieving vaccinations data\n",
      "2022/09/28 22:08:09 INFO|-----------|{'vx_seed': 1, 'vir_mult': 0.833, 'booster_mult': 1} Retrieving vaccinations data\n",
      "2022/09/28 22:08:12 INFO|-----------|{'vx_seed': 1, 'vir_mult': 2.38, 'booster_mult': 1} Constructing vaccination projections\n",
      "2022/09/28 22:08:12 INFO|-----------|{'vx_seed': 1, 'vir_mult': 0.833, 'booster_mult': 1} Constructing vaccination projections\n",
      "2022/09/28 22:08:12 INFO|-----------|{'vx_seed': 1, 'vir_mult': 2.38, 'booster_mult': 1} Retrieving hospitalizations data\n",
      "2022/09/28 22:08:12 INFO|-----------|{'vx_seed': 0, 'vir_mult': 2.38, 'booster_mult': 1} Constructing vaccination projections\n",
      "2022/09/28 22:08:12 INFO|-----------|{'vx_seed': 1, 'vir_mult': 0.833, 'booster_mult': 1} Retrieving hospitalizations data\n",
      "2022/09/28 22:08:12 INFO|-----------|{'vx_seed': 0, 'vir_mult': 2.38, 'booster_mult': 1} Retrieving hospitalizations data\n",
      "2022/09/28 22:08:12 INFO|-----------|{'vx_seed': 0, 'vir_mult': 0.833, 'booster_mult': 1} Constructing vaccination projections\n",
      "2022/09/28 22:08:12 INFO|-----------|{'vx_seed': 0, 'vir_mult': 0.833, 'booster_mult': 1} Retrieving hospitalizations data\n",
      "2022/09/28 22:08:16 INFO|--------|{'vx_seed': 1, 'vir_mult': 2.38, 'booster_mult': 1} Prepping Model\n",
      "2022/09/28 22:08:16 INFO|---------|{'vx_seed': 1, 'vir_mult': 2.38, 'booster_mult': 1} Prepping Model\n",
      "2022/09/28 22:08:16 INFO|--------|{'vx_seed': 0, 'vir_mult': 0.833, 'booster_mult': 1} Prepping Model\n",
      "2022/09/28 22:08:16 INFO|---------|{'vx_seed': 0, 'vir_mult': 0.833, 'booster_mult': 1} Prepping Model\n",
      "2022/09/28 22:08:16 INFO|--------|{'vx_seed': 0, 'vir_mult': 2.38, 'booster_mult': 1} Prepping Model\n",
      "2022/09/28 22:08:16 INFO|---------|{'vx_seed': 0, 'vir_mult': 2.38, 'booster_mult': 1} Prepping Model\n",
      "2022/09/28 22:08:16 INFO|--------|{'vx_seed': 1, 'vir_mult': 0.833, 'booster_mult': 1} Prepping Model\n",
      "2022/09/28 22:08:16 INFO|---------|{'vx_seed': 1, 'vir_mult': 0.833, 'booster_mult': 1} Prepping Model\n",
      "2022/09/28 22:09:44 INFO|--------|{'vx_seed': 1, 'vir_mult': 0.833, 'booster_mult': 1} Model prepped for fitting in 88.084128291 seconds.\n",
      "2022/09/28 22:09:44 INFO|--------|{'vx_seed': 1, 'vir_mult': 0.833, 'booster_mult': 1} Solving Model ODE\n",
      "2022/09/28 22:09:44 INFO|--------|{'vx_seed': 0, 'vir_mult': 0.833, 'booster_mult': 1} Model prepped for fitting in 88.627994167 seconds.\n",
      "2022/09/28 22:09:44 INFO|--------|{'vx_seed': 0, 'vir_mult': 0.833, 'booster_mult': 1} Solving Model ODE\n",
      "2022/09/28 22:09:45 INFO|--------|{'vx_seed': 1, 'vir_mult': 2.38, 'booster_mult': 1} Model prepped for fitting in 89.314916584 seconds.\n",
      "2022/09/28 22:09:45 INFO|--------|{'vx_seed': 1, 'vir_mult': 2.38, 'booster_mult': 1} Solving Model ODE\n",
      "2022/09/28 22:09:45 INFO|--------|{'vx_seed': 0, 'vir_mult': 2.38, 'booster_mult': 1} Model prepped for fitting in 89.4198085 seconds.\n",
      "2022/09/28 22:09:45 INFO|--------|{'vx_seed': 0, 'vir_mult': 2.38, 'booster_mult': 1} Solving Model ODE\n",
      "2022/09/28 22:09:48 INFO|--------|{'vx_seed': 1, 'vir_mult': 0.833, 'booster_mult': 1} Model solved in 4.607134166999998 seconds.\n",
      "2022/09/28 22:09:48 INFO|--------|{'vx_seed': 1, 'vir_mult': 0.833, 'booster_mult': 1} Will fit 5 times\n",
      "2022/09/28 22:09:49 INFO|--------|{'vx_seed': 0, 'vir_mult': 0.833, 'booster_mult': 1} Model solved in 4.678455791000005 seconds.\n",
      "2022/09/28 22:09:49 INFO|--------|{'vx_seed': 0, 'vir_mult': 0.833, 'booster_mult': 1} Will fit 5 times\n",
      "2022/09/28 22:09:50 INFO|--------|{'vx_seed': 1, 'vir_mult': 2.38, 'booster_mult': 1} Model solved in 4.661791874999992 seconds.\n",
      "2022/09/28 22:09:50 INFO|--------|{'vx_seed': 1, 'vir_mult': 2.38, 'booster_mult': 1} Will fit 5 times\n",
      "2022/09/28 22:09:50 INFO|--------|{'vx_seed': 0, 'vir_mult': 2.38, 'booster_mult': 1} Model solved in 4.567502499999989 seconds.\n",
      "2022/09/28 22:09:50 INFO|--------|{'vx_seed': 0, 'vir_mult': 2.38, 'booster_mult': 1} Will fit 5 times\n",
      "2022/09/28 22:10:08 INFO|--------|{'vx_seed': 1, 'vir_mult': 0.833, 'booster_mult': 1, 'fit_batch': '0'}: Transmission control fit 1/5 completed in 19.711293666999993 seconds: {767: {'co': 0.8728072780400149}, 781: {'co': 0.8707161595260802}, 795: {'co': 0.8547951810797548}, 809: {'co': 0.8481610583967965}, 823: {'co': 0.8501438098720735}, 837: {'co': 0.839573791432624}}\n",
      "2022/09/28 22:10:08 INFO|---------|{'vx_seed': 1, 'vir_mult': 0.833, 'booster_mult': 1, 'fit_batch': '0'}: Running forward sim\n",
      "2022/09/28 22:10:09 INFO|--------|{'vx_seed': 0, 'vir_mult': 0.833, 'booster_mult': 1, 'fit_batch': '0'}: Transmission control fit 1/5 completed in 20.205659124999997 seconds: {767: {'co': 0.8728072780400149}, 781: {'co': 0.8707161595260802}, 795: {'co': 0.8547951810797548}, 809: {'co': 0.8481610583967965}, 823: {'co': 0.8501438098720735}, 837: {'co': 0.839573791432624}}\n",
      "2022/09/28 22:10:09 INFO|---------|{'vx_seed': 0, 'vir_mult': 0.833, 'booster_mult': 1, 'fit_batch': '0'}: Running forward sim\n",
      "2022/09/28 22:10:10 INFO|--------|{'vx_seed': 0, 'vir_mult': 2.38, 'booster_mult': 1, 'fit_batch': '0'}: Transmission control fit 1/5 completed in 19.75891608299999 seconds: {767: {'co': 0.8728072780400149}, 781: {'co': 0.8707161595260802}, 795: {'co': 0.8547951810797548}, 809: {'co': 0.8481610583967965}, 823: {'co': 0.8501438098720735}, 837: {'co': 0.839573791432624}}\n",
      "2022/09/28 22:10:10 INFO|---------|{'vx_seed': 0, 'vir_mult': 2.38, 'booster_mult': 1, 'fit_batch': '0'}: Running forward sim\n",
      "2022/09/28 22:10:10 INFO|--------|{'vx_seed': 1, 'vir_mult': 2.38, 'booster_mult': 1, 'fit_batch': '0'}: Transmission control fit 1/5 completed in 20.040587165999995 seconds: {767: {'co': 0.8728072780400149}, 781: {'co': 0.8707161595260802}, 795: {'co': 0.8547951810797548}, 809: {'co': 0.8481610583967965}, 823: {'co': 0.8501438098720735}, 837: {'co': 0.839573791432624}}\n",
      "2022/09/28 22:10:10 INFO|---------|{'vx_seed': 1, 'vir_mult': 2.38, 'booster_mult': 1, 'fit_batch': '0'}: Running forward sim\n",
      "2022/09/28 22:10:26 INFO|--------|{'vx_seed': 1, 'vir_mult': 0.833, 'booster_mult': 1, 'fit_batch': '1'}: Transmission control fit 2/5 completed in 15.962659833000004 seconds: {795: {'co': 0.8546522762371488}, 809: {'co': 0.8491523010374878}, 823: {'co': 0.8477031762875664}, 837: {'co': 0.8455004161302343}, 851: {'co': 0.8327778080700983}, 865: {'co': 0.8592852585394001}}\n",
      "2022/09/28 22:10:26 INFO|---------|{'vx_seed': 1, 'vir_mult': 0.833, 'booster_mult': 1, 'fit_batch': '1'}: Running forward sim\n",
      "2022/09/28 22:10:27 INFO|--------|{'vx_seed': 0, 'vir_mult': 2.38, 'booster_mult': 1, 'fit_batch': '1'}: Transmission control fit 2/5 completed in 16.073861500000007 seconds: {795: {'co': 0.8546522762371488}, 809: {'co': 0.8491523010374878}, 823: {'co': 0.8477031762875664}, 837: {'co': 0.8455004161302343}, 851: {'co': 0.8327778080700983}, 865: {'co': 0.8592852585394001}}\n",
      "2022/09/28 22:10:27 INFO|---------|{'vx_seed': 0, 'vir_mult': 2.38, 'booster_mult': 1, 'fit_batch': '1'}: Running forward sim\n",
      "2022/09/28 22:10:28 INFO|--------|{'vx_seed': 0, 'vir_mult': 0.833, 'booster_mult': 1, 'fit_batch': '1'}: Transmission control fit 2/5 completed in 16.41074924999998 seconds: {795: {'co': 0.8546522762371488}, 809: {'co': 0.8491523010374878}, 823: {'co': 0.8477031762875664}, 837: {'co': 0.8455004161302343}, 851: {'co': 0.8327778080700983}, 865: {'co': 0.8592852585394001}}\n",
      "2022/09/28 22:10:28 INFO|---------|{'vx_seed': 0, 'vir_mult': 0.833, 'booster_mult': 1, 'fit_batch': '1'}: Running forward sim\n",
      "2022/09/28 22:10:28 INFO|--------|{'vx_seed': 1, 'vir_mult': 2.38, 'booster_mult': 1, 'fit_batch': '1'}: Transmission control fit 2/5 completed in 16.265235625000003 seconds: {795: {'co': 0.8546522762371488}, 809: {'co': 0.8491523010374878}, 823: {'co': 0.8477031762875664}, 837: {'co': 0.8455004161302343}, 851: {'co': 0.8327778080700983}, 865: {'co': 0.8592852585394001}}\n",
      "2022/09/28 22:10:28 INFO|---------|{'vx_seed': 1, 'vir_mult': 2.38, 'booster_mult': 1, 'fit_batch': '1'}: Running forward sim\n"
     ]
    },
    {
     "name": "stderr",
     "output_type": "stream",
     "text": [
      "2022/09/28 22:10:42 INFO|--------|{'vx_seed': 1, 'vir_mult': 0.833, 'booster_mult': 1, 'fit_batch': '2'}: Transmission control fit 3/5 completed in 14.707341041999996 seconds: {823: {'co': 0.8476310115056014}, 837: {'co': 0.8456664683083585}, 851: {'co': 0.8321996091062974}, 865: {'co': 0.8612338052100821}, 879: {'co': 0.8527866099671041}, 893: {'co': 0.8576454684451306}}\n",
      "2022/09/28 22:10:42 INFO|---------|{'vx_seed': 1, 'vir_mult': 0.833, 'booster_mult': 1, 'fit_batch': '2'}: Running forward sim\n",
      "2022/09/28 22:10:44 INFO|--------|{'vx_seed': 0, 'vir_mult': 2.38, 'booster_mult': 1, 'fit_batch': '2'}: Transmission control fit 3/5 completed in 14.80623270800001 seconds: {823: {'co': 0.8476310115056014}, 837: {'co': 0.8456664683083585}, 851: {'co': 0.8321996091062974}, 865: {'co': 0.8612338052100821}, 879: {'co': 0.8527866099671041}, 893: {'co': 0.8576454684451306}}\n",
      "2022/09/28 22:10:44 INFO|---------|{'vx_seed': 0, 'vir_mult': 2.38, 'booster_mult': 1, 'fit_batch': '2'}: Running forward sim\n",
      "2022/09/28 22:10:44 INFO|--------|{'vx_seed': 0, 'vir_mult': 0.833, 'booster_mult': 1, 'fit_batch': '2'}: Transmission control fit 3/5 completed in 15.078909333000013 seconds: {823: {'co': 0.8476310115056014}, 837: {'co': 0.8456664683083585}, 851: {'co': 0.8321996091062974}, 865: {'co': 0.8612338052100821}, 879: {'co': 0.8527866099671041}, 893: {'co': 0.8576454684451306}}\n",
      "2022/09/28 22:10:44 INFO|---------|{'vx_seed': 0, 'vir_mult': 0.833, 'booster_mult': 1, 'fit_batch': '2'}: Running forward sim\n",
      "2022/09/28 22:10:45 INFO|--------|{'vx_seed': 1, 'vir_mult': 2.38, 'booster_mult': 1, 'fit_batch': '2'}: Transmission control fit 3/5 completed in 14.955688874999993 seconds: {823: {'co': 0.8476310115056014}, 837: {'co': 0.8456664683083585}, 851: {'co': 0.8321996091062974}, 865: {'co': 0.8612338052100821}, 879: {'co': 0.8527866099671041}, 893: {'co': 0.8576454684451306}}\n",
      "2022/09/28 22:10:45 INFO|---------|{'vx_seed': 1, 'vir_mult': 2.38, 'booster_mult': 1, 'fit_batch': '2'}: Running forward sim\n",
      "2022/09/28 22:10:59 INFO|--------|{'vx_seed': 1, 'vir_mult': 0.833, 'booster_mult': 1, 'fit_batch': '3'}: Transmission control fit 4/5 completed in 14.695825208999992 seconds: {851: {'co': 0.8325166427103752}, 865: {'co': 0.8607890141942591}, 879: {'co': 0.8538517768856334}, 893: {'co': 0.8544822321007829}, 907: {'co': 0.8621226436775667}, 921: {'co': 0.8573199624922347}}\n",
      "2022/09/28 22:10:59 INFO|---------|{'vx_seed': 1, 'vir_mult': 0.833, 'booster_mult': 1, 'fit_batch': '3'}: Running forward sim\n",
      "2022/09/28 22:11:01 INFO|--------|{'vx_seed': 0, 'vir_mult': 2.38, 'booster_mult': 1, 'fit_batch': '3'}: Transmission control fit 4/5 completed in 14.749829415999983 seconds: {851: {'co': 0.8325166427103752}, 865: {'co': 0.8607890141942591}, 879: {'co': 0.8538517768856334}, 893: {'co': 0.8544822321007829}, 907: {'co': 0.8621226436775667}, 921: {'co': 0.8573199624922347}}\n",
      "2022/09/28 22:11:01 INFO|---------|{'vx_seed': 0, 'vir_mult': 2.38, 'booster_mult': 1, 'fit_batch': '3'}: Running forward sim\n",
      "2022/09/28 22:11:01 INFO|--------|{'vx_seed': 0, 'vir_mult': 0.833, 'booster_mult': 1, 'fit_batch': '3'}: Transmission control fit 4/5 completed in 15.039644957999997 seconds: {851: {'co': 0.8325166427103752}, 865: {'co': 0.8607890141942591}, 879: {'co': 0.8538517768856334}, 893: {'co': 0.8544822321007829}, 907: {'co': 0.8621226436775667}, 921: {'co': 0.8573199624922347}}\n",
      "2022/09/28 22:11:01 INFO|---------|{'vx_seed': 0, 'vir_mult': 0.833, 'booster_mult': 1, 'fit_batch': '3'}: Running forward sim\n",
      "2022/09/28 22:11:01 INFO|--------|{'vx_seed': 1, 'vir_mult': 2.38, 'booster_mult': 1, 'fit_batch': '3'}: Transmission control fit 4/5 completed in 14.929324500000007 seconds: {851: {'co': 0.8325166427103752}, 865: {'co': 0.8607890141942591}, 879: {'co': 0.8538517768856334}, 893: {'co': 0.8544822321007829}, 907: {'co': 0.8621226436775667}, 921: {'co': 0.8573199624922347}}\n",
      "2022/09/28 22:11:01 INFO|---------|{'vx_seed': 1, 'vir_mult': 2.38, 'booster_mult': 1, 'fit_batch': '3'}: Running forward sim\n",
      "2022/09/28 22:11:20 INFO|--------|{'vx_seed': 1, 'vir_mult': 0.833, 'booster_mult': 1, 'fit_batch': '4'}: Transmission control fit 5/5 completed in 19.603200749999985 seconds: {879: {'co': 0.8538351670758346}, 893: {'co': 0.8547096230596352}, 907: {'co': 0.8607430770225754}, 921: {'co': 0.8627413349675188}, 935: {'co': 0.8481106816325974}, 949: {'co': 0.849905077854476}}\n",
      "2022/09/28 22:11:20 INFO|---------|{'vx_seed': 1, 'vir_mult': 0.833, 'booster_mult': 1, 'fit_batch': '4'}: Running forward sim\n",
      "2022/09/28 22:11:22 INFO|--------|{'vx_seed': 0, 'vir_mult': 2.38, 'booster_mult': 1, 'fit_batch': '4'}: Transmission control fit 5/5 completed in 19.657135208 seconds: {879: {'co': 0.8538351670758346}, 893: {'co': 0.8547096230596352}, 907: {'co': 0.8607430770225754}, 921: {'co': 0.8627413349675188}, 935: {'co': 0.8481106816325974}, 949: {'co': 0.849905077854476}}\n",
      "2022/09/28 22:11:22 INFO|---------|{'vx_seed': 0, 'vir_mult': 2.38, 'booster_mult': 1, 'fit_batch': '4'}: Running forward sim\n",
      "2022/09/28 22:11:22 INFO|--------|{'vx_seed': 1, 'vir_mult': 0.833, 'booster_mult': 1, 'fit_batch': '4', 'run_type': 'fit'}: fitted TC: {0: {'co': 0.8306366815597537}, 14: {'co': 0.6982145991137699}, 28: {'co': 0.5650212471092002}, 42: {'co': 1.2408159663619181e-15}, 56: {'co': 0.6966527863556601}, 70: {'co': 0.833272726083201}, 84: {'co': 0.829624833881214}, 98: {'co': 0.8316925083025142}, 112: {'co': 0.8774896775135849}, 126: {'co': 0.8243044383057617}, 140: {'co': 0.7604527552865628}, 154: {'co': 0.6712880214899843}, 168: {'co': 0.8430551349085242}, 182: {'co': 0.7826363496218521}, 196: {'co': 0.8191511064245416}, 210: {'co': 0.7726071135217192}, 224: {'co': 0.7713215730133244}, 238: {'co': 0.7185439636873041}, 252: {'co': 0.7220971489408626}, 266: {'co': 0.6850776841685362}, 280: {'co': 0.7198336548294406}, 294: {'co': 0.7589635069294141}, 308: {'co': 0.8220311486521434}, 322: {'co': 0.8119730483051099}, 336: {'co': 0.7820760195219616}, 350: {'co': 0.7953719921669099}, 364: {'co': 0.8030720051150028}, 378: {'co': 0.7474293093611686}, 392: {'co': 0.7782239558532121}, 406: {'co': 0.7139059489753672}, 420: {'co': 0.717450154955391}, 434: {'co': 0.6887633551130737}, 448: {'co': 0.7407987204629658}, 462: {'co': 0.8126791363437336}, 476: {'co': 0.7917332486201977}, 490: {'co': 0.8301216631271208}, 504: {'co': 0.7862044848399975}, 518: {'co': 0.7800183031631541}, 532: {'co': 0.7561820077522211}, 546: {'co': 0.7114199225292264}, 560: {'co': 0.7394357430416563}, 574: {'co': 0.7479527174722719}, 588: {'co': 0.7876637351225952}, 602: {'co': 0.7640801137926484}, 616: {'co': 0.7175479876792045}, 630: {'co': 0.7361050685526391}, 644: {'co': 0.7114268286837389}, 658: {'co': 0.7522470729945069}, 672: {'co': 0.7586716317233649}, 686: {'co': 0.7385147848000705}, 700: {'co': 0.6492176756281465}, 714: {'co': 0.8025249313111573}, 728: {'co': 0.8433060995865083}, 742: {'co': 0.8635959307082449}, 767: {'co': 0.8728072780400149}, 781: {'co': 0.8707161595260802}, 795: {'co': 0.8546522762371488}, 809: {'co': 0.8491523010374878}, 823: {'co': 0.8476310115056014}, 837: {'co': 0.8456664683083585}, 851: {'co': 0.8325166427103752}, 865: {'co': 0.8607890141942591}, 879: {'co': 0.8538351670758346}, 893: {'co': 0.8547096230596352}, 907: {'co': 0.8607430770225754}, 921: {'co': 0.8627413349675188}, 935: {'co': 0.8481106816325974}, 949: {'co': 0.8499050927556372}}\n",
      "2022/09/28 22:11:22 INFO|---------|{'vx_seed': 1, 'vir_mult': 0.833, 'booster_mult': 1, 'fit_batch': '4', 'run_type': 'fit'}: Running forward sim\n",
      "2022/09/28 22:11:23 INFO|--------|{'vx_seed': 1, 'vir_mult': 2.38, 'booster_mult': 1, 'fit_batch': '4'}: Transmission control fit 5/5 completed in 19.56753387500001 seconds: {879: {'co': 0.8538351670758346}, 893: {'co': 0.8547096230596352}, 907: {'co': 0.8607430770225754}, 921: {'co': 0.8627413349675188}, 935: {'co': 0.8481106816325974}, 949: {'co': 0.849905077854476}}\n",
      "2022/09/28 22:11:23 INFO|---------|{'vx_seed': 1, 'vir_mult': 2.38, 'booster_mult': 1, 'fit_batch': '4'}: Running forward sim\n",
      "2022/09/28 22:11:23 INFO|--------|{'vx_seed': 0, 'vir_mult': 0.833, 'booster_mult': 1, 'fit_batch': '4'}: Transmission control fit 5/5 completed in 19.83643358400002 seconds: {879: {'co': 0.8538351670758346}, 893: {'co': 0.8547096230596352}, 907: {'co': 0.8607430770225754}, 921: {'co': 0.8627413349675188}, 935: {'co': 0.8481106816325974}, 949: {'co': 0.849905077854476}}\n",
      "2022/09/28 22:11:23 INFO|---------|{'vx_seed': 0, 'vir_mult': 0.833, 'booster_mult': 1, 'fit_batch': '4'}: Running forward sim\n"
     ]
    },
    {
     "name": "stderr",
     "output_type": "stream",
     "text": [
      "2022/09/28 22:11:24 INFO|--------|{'vx_seed': 0, 'vir_mult': 2.38, 'booster_mult': 1, 'fit_batch': '4', 'run_type': 'fit'}: fitted TC: {0: {'co': 0.8306366815597537}, 14: {'co': 0.6982145991137699}, 28: {'co': 0.5650212471092002}, 42: {'co': 1.2408159663619181e-15}, 56: {'co': 0.6966527863556601}, 70: {'co': 0.833272726083201}, 84: {'co': 0.829624833881214}, 98: {'co': 0.8316925083025142}, 112: {'co': 0.8774896775135849}, 126: {'co': 0.8243044383057617}, 140: {'co': 0.7604527552865628}, 154: {'co': 0.6712880214899843}, 168: {'co': 0.8430551349085242}, 182: {'co': 0.7826363496218521}, 196: {'co': 0.8191511064245416}, 210: {'co': 0.7726071135217192}, 224: {'co': 0.7713215730133244}, 238: {'co': 0.7185439636873041}, 252: {'co': 0.7220971489408626}, 266: {'co': 0.6850776841685362}, 280: {'co': 0.7198336548294406}, 294: {'co': 0.7589635069294141}, 308: {'co': 0.8220311486521434}, 322: {'co': 0.8119730483051099}, 336: {'co': 0.7820760195219616}, 350: {'co': 0.7953719921669099}, 364: {'co': 0.8030720051150028}, 378: {'co': 0.7474293093611686}, 392: {'co': 0.7782239558532121}, 406: {'co': 0.7139059489753672}, 420: {'co': 0.717450154955391}, 434: {'co': 0.6887633551130737}, 448: {'co': 0.7407987204629658}, 462: {'co': 0.8126791363437336}, 476: {'co': 0.7917332486201977}, 490: {'co': 0.8301216631271208}, 504: {'co': 0.7862044848399975}, 518: {'co': 0.7800183031631541}, 532: {'co': 0.7561820077522211}, 546: {'co': 0.7114199225292264}, 560: {'co': 0.7394357430416563}, 574: {'co': 0.7479527174722719}, 588: {'co': 0.7876637351225952}, 602: {'co': 0.7640801137926484}, 616: {'co': 0.7175479876792045}, 630: {'co': 0.7361050685526391}, 644: {'co': 0.7114268286837389}, 658: {'co': 0.7522470729945069}, 672: {'co': 0.7586716317233649}, 686: {'co': 0.7385147848000705}, 700: {'co': 0.6492176756281465}, 714: {'co': 0.8025249313111573}, 728: {'co': 0.8433060995865083}, 742: {'co': 0.8635959307082449}, 767: {'co': 0.8728072780400149}, 781: {'co': 0.8707161595260802}, 795: {'co': 0.8546522762371488}, 809: {'co': 0.8491523010374878}, 823: {'co': 0.8476310115056014}, 837: {'co': 0.8456664683083585}, 851: {'co': 0.8325166427103752}, 865: {'co': 0.8607890141942591}, 879: {'co': 0.8538351670758346}, 893: {'co': 0.8547096230596352}, 907: {'co': 0.8607430770225754}, 921: {'co': 0.8627413349675188}, 935: {'co': 0.8481106816325974}, 949: {'co': 0.8499050927556372}}\n",
      "2022/09/28 22:11:24 INFO|---------|{'vx_seed': 0, 'vir_mult': 2.38, 'booster_mult': 1, 'fit_batch': '4', 'run_type': 'fit'}: Running forward sim\n",
      "2022/09/28 22:11:24 INFO|--------|{'vx_seed': 1, 'vir_mult': 2.38, 'booster_mult': 1, 'fit_batch': '4', 'run_type': 'fit'}: fitted TC: {0: {'co': 0.8306366815597537}, 14: {'co': 0.6982145991137699}, 28: {'co': 0.5650212471092002}, 42: {'co': 1.2408159663619181e-15}, 56: {'co': 0.6966527863556601}, 70: {'co': 0.833272726083201}, 84: {'co': 0.829624833881214}, 98: {'co': 0.8316925083025142}, 112: {'co': 0.8774896775135849}, 126: {'co': 0.8243044383057617}, 140: {'co': 0.7604527552865628}, 154: {'co': 0.6712880214899843}, 168: {'co': 0.8430551349085242}, 182: {'co': 0.7826363496218521}, 196: {'co': 0.8191511064245416}, 210: {'co': 0.7726071135217192}, 224: {'co': 0.7713215730133244}, 238: {'co': 0.7185439636873041}, 252: {'co': 0.7220971489408626}, 266: {'co': 0.6850776841685362}, 280: {'co': 0.7198336548294406}, 294: {'co': 0.7589635069294141}, 308: {'co': 0.8220311486521434}, 322: {'co': 0.8119730483051099}, 336: {'co': 0.7820760195219616}, 350: {'co': 0.7953719921669099}, 364: {'co': 0.8030720051150028}, 378: {'co': 0.7474293093611686}, 392: {'co': 0.7782239558532121}, 406: {'co': 0.7139059489753672}, 420: {'co': 0.717450154955391}, 434: {'co': 0.6887633551130737}, 448: {'co': 0.7407987204629658}, 462: {'co': 0.8126791363437336}, 476: {'co': 0.7917332486201977}, 490: {'co': 0.8301216631271208}, 504: {'co': 0.7862044848399975}, 518: {'co': 0.7800183031631541}, 532: {'co': 0.7561820077522211}, 546: {'co': 0.7114199225292264}, 560: {'co': 0.7394357430416563}, 574: {'co': 0.7479527174722719}, 588: {'co': 0.7876637351225952}, 602: {'co': 0.7640801137926484}, 616: {'co': 0.7175479876792045}, 630: {'co': 0.7361050685526391}, 644: {'co': 0.7114268286837389}, 658: {'co': 0.7522470729945069}, 672: {'co': 0.7586716317233649}, 686: {'co': 0.7385147848000705}, 700: {'co': 0.6492176756281465}, 714: {'co': 0.8025249313111573}, 728: {'co': 0.8433060995865083}, 742: {'co': 0.8635959307082449}, 767: {'co': 0.8728072780400149}, 781: {'co': 0.8707161595260802}, 795: {'co': 0.8546522762371488}, 809: {'co': 0.8491523010374878}, 823: {'co': 0.8476310115056014}, 837: {'co': 0.8456664683083585}, 851: {'co': 0.8325166427103752}, 865: {'co': 0.8607890141942591}, 879: {'co': 0.8538351670758346}, 893: {'co': 0.8547096230596352}, 907: {'co': 0.8607430770225754}, 921: {'co': 0.8627413349675188}, 935: {'co': 0.8481106816325974}, 949: {'co': 0.8499050927556372}}\n",
      "2022/09/28 22:11:24 INFO|---------|{'vx_seed': 1, 'vir_mult': 2.38, 'booster_mult': 1, 'fit_batch': '4', 'run_type': 'fit'}: Running forward sim\n",
      "2022/09/28 22:11:25 INFO|--------|{'vx_seed': 0, 'vir_mult': 0.833, 'booster_mult': 1, 'fit_batch': '4', 'run_type': 'fit'}: fitted TC: {0: {'co': 0.8306366815597537}, 14: {'co': 0.6982145991137699}, 28: {'co': 0.5650212471092002}, 42: {'co': 1.2408159663619181e-15}, 56: {'co': 0.6966527863556601}, 70: {'co': 0.833272726083201}, 84: {'co': 0.829624833881214}, 98: {'co': 0.8316925083025142}, 112: {'co': 0.8774896775135849}, 126: {'co': 0.8243044383057617}, 140: {'co': 0.7604527552865628}, 154: {'co': 0.6712880214899843}, 168: {'co': 0.8430551349085242}, 182: {'co': 0.7826363496218521}, 196: {'co': 0.8191511064245416}, 210: {'co': 0.7726071135217192}, 224: {'co': 0.7713215730133244}, 238: {'co': 0.7185439636873041}, 252: {'co': 0.7220971489408626}, 266: {'co': 0.6850776841685362}, 280: {'co': 0.7198336548294406}, 294: {'co': 0.7589635069294141}, 308: {'co': 0.8220311486521434}, 322: {'co': 0.8119730483051099}, 336: {'co': 0.7820760195219616}, 350: {'co': 0.7953719921669099}, 364: {'co': 0.8030720051150028}, 378: {'co': 0.7474293093611686}, 392: {'co': 0.7782239558532121}, 406: {'co': 0.7139059489753672}, 420: {'co': 0.717450154955391}, 434: {'co': 0.6887633551130737}, 448: {'co': 0.7407987204629658}, 462: {'co': 0.8126791363437336}, 476: {'co': 0.7917332486201977}, 490: {'co': 0.8301216631271208}, 504: {'co': 0.7862044848399975}, 518: {'co': 0.7800183031631541}, 532: {'co': 0.7561820077522211}, 546: {'co': 0.7114199225292264}, 560: {'co': 0.7394357430416563}, 574: {'co': 0.7479527174722719}, 588: {'co': 0.7876637351225952}, 602: {'co': 0.7640801137926484}, 616: {'co': 0.7175479876792045}, 630: {'co': 0.7361050685526391}, 644: {'co': 0.7114268286837389}, 658: {'co': 0.7522470729945069}, 672: {'co': 0.7586716317233649}, 686: {'co': 0.7385147848000705}, 700: {'co': 0.6492176756281465}, 714: {'co': 0.8025249313111573}, 728: {'co': 0.8433060995865083}, 742: {'co': 0.8635959307082449}, 767: {'co': 0.8728072780400149}, 781: {'co': 0.8707161595260802}, 795: {'co': 0.8546522762371488}, 809: {'co': 0.8491523010374878}, 823: {'co': 0.8476310115056014}, 837: {'co': 0.8456664683083585}, 851: {'co': 0.8325166427103752}, 865: {'co': 0.8607890141942591}, 879: {'co': 0.8538351670758346}, 893: {'co': 0.8547096230596352}, 907: {'co': 0.8607430770225754}, 921: {'co': 0.8627413349675188}, 935: {'co': 0.8481106816325974}, 949: {'co': 0.8499050927556372}}\n",
      "2022/09/28 22:11:25 INFO|---------|{'vx_seed': 0, 'vir_mult': 0.833, 'booster_mult': 1, 'fit_batch': '4', 'run_type': 'fit'}: Running forward sim\n",
      "2022/09/28 22:11:57 INFO|-----------------------|spec_ids: 4068,4069,4070,4071\n"
     ]
    }
   ],
   "source": [
    "# run the scenarios\n",
    "models = do_fit_scenarios(base_model_args=model_args, scenario_args_list=scenario_model_args, fit_args=model_fit_args, multiprocess=multiprocess)"
   ]
  },
  {
   "cell_type": "markdown",
   "metadata": {
    "pycharm": {
     "name": "#%% md\n"
    }
   },
   "source": [
    "### Run the report for each fit model"
   ]
  },
  {
   "cell_type": "code",
   "execution_count": 7,
   "metadata": {
    "pycharm": {
     "name": "#%%\n"
    }
   },
   "outputs": [
    {
     "name": "stderr",
     "output_type": "stream",
     "text": [
      "2022/09/28 22:23:29 INFO|============================================================\n",
      "2022/09/28 22:23:29 INFO|--------|Solving model\n",
      "2022/09/28 22:23:30 INFO|============================================================\n",
      "2022/09/28 22:23:30 INFO|--------|Solving model\n",
      "2022/09/28 22:23:31 INFO|============================================================\n",
      "2022/09/28 22:23:31 INFO|--------|Solving model\n",
      "2022/09/28 22:23:31 INFO|============================================================\n",
      "2022/09/28 22:23:31 INFO|--------|Solving model\n",
      "2022/09/28 22:23:34 WARNING|No artists with labels found to put in legend.  Note that artists whose label start with an underscore are ignored when legend() is called with no argument.\n",
      "2022/09/28 22:23:34 WARNING|No artists with labels found to put in legend.  Note that artists whose label start with an underscore are ignored when legend() is called with no argument.\n",
      "2022/09/28 22:23:35 WARNING|No artists with labels found to put in legend.  Note that artists whose label start with an underscore are ignored when legend() is called with no argument.\n",
      "2022/09/28 22:23:36 WARNING|No artists with labels found to put in legend.  Note that artists whose label start with an underscore are ignored when legend() is called with no argument.\n"
     ]
    }
   ],
   "source": [
    "# here you can also specify which variants you want to calculate immunity for\n",
    "do_create_multiple_reports(models, multiprocess=multiprocess, outdir=outdir,\n",
    "                           prep_model=False, solve_model=True, immun_variants=['ba45', 'vx'], from_date='2022-01-01')"
   ]
  },
  {
   "cell_type": "code",
   "execution_count": 8,
   "metadata": {
    "pycharm": {
     "name": "#%%\n"
    }
   },
   "outputs": [
    {
     "name": "stderr",
     "output_type": "stream",
     "text": [
      "2022/09/28 22:55:59 INFO|Projecting\n",
      "2022/09/28 22:55:59 INFO|\n",
      "2022/09/28 22:56:21 INFO|{'vx_seed': 0, 'vir_mult': 0.833, 'booster_mult': 1, 'fit_batch': '4', 'run_type': 'fit'}: Running forward sim\n",
      "2022/09/28 22:56:23 INFO|\n",
      "2022/09/28 22:56:45 INFO|{'vx_seed': 0, 'vir_mult': 2.38, 'booster_mult': 1, 'fit_batch': '4', 'run_type': 'fit'}: Running forward sim\n",
      "2022/09/28 22:56:47 INFO|\n",
      "2022/09/28 22:57:09 INFO|{'vx_seed': 1, 'vir_mult': 0.833, 'booster_mult': 1, 'fit_batch': '4', 'run_type': 'fit'}: Running forward sim\n",
      "2022/09/28 22:57:11 INFO|\n",
      "2022/09/28 22:57:33 INFO|{'vx_seed': 1, 'vir_mult': 2.38, 'booster_mult': 1, 'fit_batch': '4', 'run_type': 'fit'}: Running forward sim\n",
      "2022/09/28 22:57:35 INFO|Running reports\n"
     ]
    }
   ],
   "source": [
    "logging.info('Projecting')\n",
    "for model in models:\n",
    "    logging.info('')\n",
    "    #model.prep()  # don't think we need to prep anymore.\n",
    "    model.solve_seir()\n",
    "\n",
    "    model.solution_sum_df(['seir', 'variant', 'immun']).unstack().to_csv(get_filepath_prefix(outdir, tags=model.tags) + 'states_seir_variant_immun_total_all_at_once_projection.csv')\n",
    "    model.solution_sum_df().unstack().to_csv(get_filepath_prefix(outdir, tags=model.tags) + 'states_full_projection.csv')\n",
    "\n",
    "    logging.info(f'{str(model.tags)}: Running forward sim')\n",
    "    fig = plt.figure(figsize=(10, 10), dpi=300)\n",
    "    ax = fig.add_subplot(211)\n",
    "    hosps_df = model.modeled_vs_observed_hosps().reset_index('region').drop(columns='region')\n",
    "    hosps_df.plot(ax=ax)\n",
    "    ax.set_xlim(dt.datetime.strptime('2022-01-01', \"%Y-%m-%d\").date(), dt.datetime.strptime('2024-01-01', \"%Y-%m-%d\").date())\n",
    "    ax = fig.add_subplot(212)\n",
    "    plot_transmission_control(model, ax=ax)\n",
    "    ax.set_xlim(dt.datetime.strptime('2022-01-01', \"%Y-%m-%d\").date(), dt.datetime.strptime('2024-01-01', \"%Y-%m-%d\").date())\n",
    "    plt.savefig(get_filepath_prefix(outdir, tags=model.tags) + 'model_forecast.png')\n",
    "    plt.close()\n",
    "    hosps_df.to_csv(get_filepath_prefix(outdir, tags=model.tags) + '_model_forecast.csv')\n",
    "    json.dump(model.tc, open(get_filepath_prefix(outdir, tags=model.tags) + 'model_forecast_tc.json', 'w'))\n",
    "\n",
    "logging.info('Running reports')"
   ]
  }
 ],
 "metadata": {
  "kernelspec": {
   "display_name": "Python 3 (ipykernel)",
   "language": "python",
   "name": "python3"
  },
  "language_info": {
   "codemirror_mode": {
    "name": "ipython",
    "version": 3
   },
   "file_extension": ".py",
   "mimetype": "text/x-python",
   "name": "python",
   "nbconvert_exporter": "python",
   "pygments_lexer": "ipython3",
   "version": "3.9.13"
  }
 },
 "nbformat": 4,
 "nbformat_minor": 4
}
