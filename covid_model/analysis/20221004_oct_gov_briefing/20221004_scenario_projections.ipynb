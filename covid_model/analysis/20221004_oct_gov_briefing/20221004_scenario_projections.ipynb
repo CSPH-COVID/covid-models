{
 "cells": [
  {
   "cell_type": "markdown",
   "metadata": {
    "pycharm": {
     "name": "#%% md\n"
    }
   },
   "source": [
    "### Setup"
   ]
  },
  {
   "cell_type": "code",
   "execution_count": null,
   "metadata": {
    "pycharm": {
     "name": "#%%\n"
    }
   },
   "outputs": [],
   "source": [
    "\"\"\" Python Standard Library \"\"\"\n",
    "import os\n",
    "import datetime as dt\n",
    "import json\n",
    "import logging\n",
    "\"\"\" Third Party Imports \"\"\"\n",
    "import numpy as np\n",
    "import pandas as pd\n",
    "from matplotlib import pyplot as plt\n",
    "%matplotlib inline\n",
    "import seaborn as sns\n",
    "\"\"\" Local Imports \"\"\"\n",
    "if 'requirements.txt' not in os.listdir(os.getcwd()):\n",
    "    os.chdir(os.path.join('..','..','..'))\n",
    "print(os.getcwd())\n",
    "from covid_model.model import CovidModel\n",
    "from covid_model.runnable_functions import do_single_fit, do_fit_scenarios, do_create_multiple_reports\n",
    "from covid_model.utils import setup, get_filepath_prefix\n",
    "from covid_model.analysis.charts import plot_transmission_control\n",
    "\n",
    "os.environ['gcp_project'] = 'co-covid-models'\n",
    "os.environ['GOOGLE_APPLICATION_CREDENTIALS'] = \"co-covid-models-credentials.json\""
   ]
  },
  {
   "cell_type": "code",
   "execution_count": null,
   "metadata": {
    "pycharm": {
     "name": "#%%\n"
    },
    "scrolled": true
   },
   "outputs": [],
   "source": [
    "# set up the output directory for this Jupyter notebook\n",
    "outdir = setup(\"20221004_scenario_projections.ipynb\")"
   ]
  },
  {
   "cell_type": "markdown",
   "metadata": {
    "pycharm": {
     "name": "#%% md\n"
    }
   },
   "source": [
    "### Fit an initial scenario through February 2022"
   ]
  },
  {
   "cell_type": "code",
   "execution_count": null,
   "metadata": {
    "pycharm": {
     "name": "#%%\n"
    }
   },
   "outputs": [],
   "source": [
    "# designate the arguments for how the model will behave\n",
    "model_args = {\n",
    "    'params_defs': 'covid_model/analysis/20221004_oct_gov_briefing/20221004_scenario_params.json',\n",
    "    'region_defs': 'covid_model/input/region_definitions.json',\n",
    "    'vacc_proj_params': 'covid_model/analysis/20221004_oct_gov_briefing/20221004_vacc_proj_params.json',\n",
    "    'start_date': '2020-01-24',\n",
    "    'end_date': '2024-01-01',\n",
    "}\n",
    "\n",
    "# this is how the fit will behave\n",
    "# place the outdir argument here to tell the model fit where to go\n",
    "fit_args = {'outdir': outdir,\n",
    "            'fit_end_date': '2022-02-28'\n",
    "}\n",
    "\n",
    "# because all the scenarios are the same \n",
    "model = do_single_fit(**fit_args, **model_args)"
   ]
  },
  {
   "cell_type": "markdown",
   "metadata": {
    "pycharm": {
     "name": "#%% md\n"
    }
   },
   "source": [
    "### Create and run scenarios from Feb 2022 to present"
   ]
  },
  {
   "cell_type": "code",
   "execution_count": null,
   "metadata": {
    "pycharm": {
     "name": "#%%\n"
    }
   },
   "outputs": [],
   "source": [
    "multiprocess = 4\n",
    "\n",
    "scenario_params = json.load(open(\"covid_model/analysis/20221004_oct_gov_briefing/20221004_scenario_params.json\"))\n",
    "\n",
    "model_args = {\n",
    "    'base_spec_id': 4147 #model.spec_id, # use the spec id that was output from the model fit\n",
    "}\n",
    "model_fit_args = {\n",
    "    'outdir': outdir,\n",
    "    'fit_start_date': '2022-03-01', # set the start date for the earliest point at which the scenarios start to differ from one another\n",
    "    'pre_solve_model': True # force the model to establish initial conditions so the fit can start on the fit start date\n",
    "}\n",
    "\n",
    "# define vaccine effectiveness for < 5 (this is a multiplier for the baseline vaccine effectiveness for 0-19)\n",
    "vacc_eff_lt5 = 0.5\n",
    "\n",
    "# Create different scenarios to model\n",
    "scenario_model_args = []\n",
    "for vx_seed in [0, 5]:\n",
    "    for vir_mult in [0.833, 2.38]:\n",
    "        hrf = {\"2020-01-01\": 1, \"2022-03-01\": (0.66 + 0.34*0.8),\n",
    "               \"2022-03-15\": (0.34 + 0.66*0.8), \"2022-03-30\": 0.8}\n",
    "        vx_adjust = [{\"param\": \"vx_seed\",\n",
    "                      \"vals\": {\"2020-01-01\": 0, \"2022-09-30\": vx_seed, \"2022-10-30\": 0},\n",
    "                      \"desc\": \"Variant X seeding\"}]\n",
    "        vir_adjust = [{\"param\": \"hosp\",\n",
    "                       \"attrs\": {\"variant\": \"vx\"},\n",
    "                       \"mults\": {\"2020-01-01\": vir_mult},\n",
    "                       \"desc\": \"Variant X hospitalization multiplier\"}]\n",
    "        lt5_vacc_adjust = [{\"param\": \"immunity\",\n",
    "                            \"attrs\": {'age': '0-19', 'vacc': 'shot1'},\n",
    "                            \"mults\": {\"2020-01-01\": 1,\n",
    "                                      \"2022-06-20\": 0.99 + 0.01*vacc_eff_lt5,\n",
    "                                      \"2022-06-30\": 0.98 + 0.02*vacc_eff_lt5,\n",
    "                                      \"2022-07-10\": 0.97 + 0.03*vacc_eff_lt5,\n",
    "                                      \"2022-07-20\": 0.96 + 0.04*vacc_eff_lt5,\n",
    "                                      \"2022-08-10\": 0.95 + 0.05*vacc_eff_lt5,\n",
    "                                      \"2022-08-30\": 0.94 + 0.06*vacc_eff_lt5,\n",
    "                                      \"2022-09-20\": 0.93 + 0.07*vacc_eff_lt5},\n",
    "                            \"desc\": \"weighted average using share of 0-19 getting shot1 who are under 5\"}]\n",
    "        scenario_model_args.append({'params_defs': scenario_params + vx_adjust + vir_adjust + lt5_vacc_adjust,\n",
    "                                    'hosp_reporting_frac': hrf,\n",
    "                                    'tags': {'vx_seed': vx_seed,\n",
    "                                             'vir_mult': vir_mult,\n",
    "                                             'booster_mult': 1}})\n",
    "            "
   ]
  },
  {
   "cell_type": "code",
   "execution_count": null,
   "metadata": {},
   "outputs": [],
   "source": [
    "# check how many scenarios there are\n",
    "len(scenario_model_args)"
   ]
  },
  {
   "cell_type": "code",
   "execution_count": null,
   "metadata": {},
   "outputs": [],
   "source": [
    "# run the scenarios\n",
    "models = do_fit_scenarios(base_model_args=model_args, scenario_args_list=scenario_model_args, fit_args=model_fit_args, multiprocess=multiprocess)"
   ]
  },
  {
   "cell_type": "markdown",
   "metadata": {
    "pycharm": {
     "name": "#%% md\n"
    }
   },
   "source": [
    "### Run the report for each fit model"
   ]
  },
  {
   "cell_type": "code",
   "execution_count": null,
   "metadata": {
    "pycharm": {
     "name": "#%%\n"
    }
   },
   "outputs": [],
   "source": [
    "# here you can also specify which variants you want to calculate immunity for\n",
    "do_create_multiple_reports(models, multiprocess=multiprocess, outdir=outdir,\n",
    "                           prep_model=False, solve_model=True, immun_variants=['ba45', 'vx'], from_date='2022-01-01')"
   ]
  },
  {
   "cell_type": "code",
   "execution_count": null,
   "metadata": {
    "pycharm": {
     "name": "#%%\n"
    }
   },
   "outputs": [],
   "source": [
    "logging.info('Projecting')\n",
    "for model in models:\n",
    "    logging.info('')\n",
    "    #model.prep()  # don't think we need to prep anymore.\n",
    "    model.solve_seir()\n",
    "\n",
    "    model.solution_sum_df(['seir', 'variant', 'immun']).unstack().to_csv(get_filepath_prefix(outdir, tags=model.tags) + 'states_seir_variant_immun_total_all_at_once_projection.csv')\n",
    "    model.solution_sum_df().unstack().to_csv(get_filepath_prefix(outdir, tags=model.tags) + 'states_full_projection.csv')\n",
    "\n",
    "    logging.info(f'{str(model.tags)}: Running forward sim')\n",
    "    fig = plt.figure(figsize=(10, 10), dpi=300)\n",
    "    ax = fig.add_subplot(211)\n",
    "    hosps_df = model.modeled_vs_observed_hosps().reset_index('region').drop(columns='region')\n",
    "    hosps_df.plot(ax=ax)\n",
    "    ax.set_xlim(dt.datetime.strptime('2022-01-01', \"%Y-%m-%d\").date(), dt.datetime.strptime('2024-01-01', \"%Y-%m-%d\").date())\n",
    "    ax = fig.add_subplot(212)\n",
    "    plot_transmission_control(model, ax=ax)\n",
    "    ax.set_xlim(dt.datetime.strptime('2022-01-01', \"%Y-%m-%d\").date(), dt.datetime.strptime('2024-01-01', \"%Y-%m-%d\").date())\n",
    "    plt.savefig(get_filepath_prefix(outdir, tags=model.tags) + 'model_forecast.png')\n",
    "    plt.close()\n",
    "    hosps_df.to_csv(get_filepath_prefix(outdir, tags=model.tags) + '_model_forecast.csv')\n",
    "    json.dump(model.tc, open(get_filepath_prefix(outdir, tags=model.tags) + 'model_forecast_tc.json', 'w'))\n",
    "\n",
    "logging.info('Running reports')"
   ]
  }
 ],
 "metadata": {
  "kernelspec": {
   "display_name": "Python 3 (ipykernel)",
   "language": "python",
   "name": "python3"
  },
  "language_info": {
   "codemirror_mode": {
    "name": "ipython",
    "version": 3
   },
   "file_extension": ".py",
   "mimetype": "text/x-python",
   "name": "python",
   "nbconvert_exporter": "python",
   "pygments_lexer": "ipython3",
   "version": "3.9.13"
  }
 },
 "nbformat": 4,
 "nbformat_minor": 4
}
