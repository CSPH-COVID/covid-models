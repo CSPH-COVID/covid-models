{
 "cells": [
  {
   "cell_type": "markdown",
   "metadata": {
    "pycharm": {
     "name": "#%% md\n"
    }
   },
   "source": [
    "### Setup"
   ]
  },
  {
   "cell_type": "code",
   "execution_count": 1,
   "metadata": {
    "pycharm": {
     "name": "#%%\n"
    }
   },
   "outputs": [
    {
     "name": "stdout",
     "output_type": "stream",
     "text": [
      "/Users/emwu9912/PycharmProjects/covid-models\n"
     ]
    }
   ],
   "source": [
    "\"\"\" Python Standard Library \"\"\"\n",
    "import os\n",
    "import datetime as dt\n",
    "import json\n",
    "import logging\n",
    "\"\"\" Third Party Imports \"\"\"\n",
    "import numpy as np\n",
    "import pandas as pd\n",
    "from matplotlib import pyplot as plt\n",
    "%matplotlib inline\n",
    "import seaborn as sns\n",
    "\"\"\" Local Imports \"\"\"\n",
    "if 'requirements.txt' not in os.listdir(os.getcwd()):\n",
    "    os.chdir(os.path.join('..','..','..'))\n",
    "print(os.getcwd())\n",
    "from covid_model.model import CovidModel\n",
    "from covid_model.runnable_functions import do_single_fit, do_fit_scenarios, do_create_multiple_reports\n",
    "from covid_model.utils import setup, get_filepath_prefix\n",
    "from covid_model.analysis.charts import plot_transmission_control\n",
    "\n",
    "os.environ['gcp_project'] = 'co-covid-models'\n",
    "os.environ['GOOGLE_APPLICATION_CREDENTIALS'] = \"co-covid-models-credentials.json\""
   ]
  },
  {
   "cell_type": "code",
   "execution_count": 2,
   "metadata": {
    "pycharm": {
     "name": "#%%\n"
    },
    "scrolled": true
   },
   "outputs": [
    {
     "name": "stderr",
     "output_type": "stream",
     "text": [
      "2022/10/06 11:30:04 INFO|============================================================\n"
     ]
    }
   ],
   "source": [
    "# set up the output directory for this Jupyter notebook\n",
    "outdir = setup(\"20221004_scenario_projections.ipynb\")"
   ]
  },
  {
   "cell_type": "markdown",
   "metadata": {
    "pycharm": {
     "name": "#%% md\n"
    }
   },
   "source": [
    "### Fit an initial scenario through February 2022"
   ]
  },
  {
   "cell_type": "code",
   "execution_count": null,
   "metadata": {
    "pycharm": {
     "name": "#%%\n"
    }
   },
   "outputs": [],
   "source": [
    "# designate the arguments for how the model will behave\n",
    "model_args = {\n",
    "    'params_defs': 'covid_model/analysis/20221004_oct_gov_briefing/20221004_scenario_params.json',\n",
    "    'region_defs': 'covid_model/input/region_definitions.json',\n",
    "    'vacc_proj_params': 'covid_model/analysis/20221004_oct_gov_briefing/20221004_vacc_proj_params.json',\n",
    "    'start_date': '2020-01-24',\n",
    "    'end_date': '2024-01-01',\n",
    "}\n",
    "\n",
    "# this is how the fit will behave\n",
    "# place the outdir argument here to tell the model fit where to go\n",
    "fit_args = {'outdir': outdir,\n",
    "            'fit_end_date': '2022-02-28'\n",
    "}\n",
    "\n",
    "# because all the scenarios are the same \n",
    "model = do_single_fit(**fit_args, **model_args)"
   ]
  },
  {
   "cell_type": "markdown",
   "metadata": {
    "pycharm": {
     "name": "#%% md\n"
    }
   },
   "source": [
    "### Create and run scenarios from Feb 2022 to present"
   ]
  },
  {
   "cell_type": "code",
   "execution_count": 8,
   "metadata": {
    "pycharm": {
     "name": "#%%\n"
    }
   },
   "outputs": [],
   "source": [
    "multiprocess = 4\n",
    "\n",
    "scenario_params = json.load(open(\"covid_model/analysis/20221004_oct_gov_briefing/20221004_scenario_params.json\"))\n",
    "\n",
    "model_args = {\n",
    "    'base_spec_id': 4167 #model.spec_id, # use the spec id that was output from the model fit\n",
    "}\n",
    "model_fit_args = {\n",
    "    'outdir': outdir,\n",
    "    'fit_start_date': '2022-03-01', # set the start date for the earliest point at which the scenarios start to differ from one another\n",
    "    'pre_solve_model': True # force the model to establish initial conditions so the fit can start on the fit start date\n",
    "}\n",
    "\n",
    "# define vaccine effectiveness for < 5 (this is a multiplier for the baseline vaccine effectiveness for 0-19)\n",
    "vacc_eff_lt5 = 0.5\n",
    "\n",
    "# Create different scenarios to model\n",
    "scenario_model_args = []\n",
    "for vx_seed in [0, 5]:\n",
    "    for vir_mult in [0.833, 2.38]:\n",
    "        hrf = {\"2020-01-01\": 1, \"2022-03-01\": (0.66 + 0.34*0.8),\n",
    "               \"2022-03-15\": (0.34 + 0.66*0.8), \"2022-03-30\": 0.8}\n",
    "        vx_adjust = [{\"param\": \"vx_seed\",\n",
    "                      \"vals\": {\"2020-01-01\": 0, \"2022-09-30\": vx_seed, \"2022-10-30\": 0},\n",
    "                      \"desc\": \"Variant X seeding\"}]\n",
    "        vir_adjust = [{\"param\": \"hosp\",\n",
    "                       \"attrs\": {\"variant\": \"vx\"},\n",
    "                       \"mults\": {\"2020-01-01\": vir_mult},\n",
    "                       \"desc\": \"Variant X hospitalization multiplier\"}]\n",
    "        lt5_vacc_adjust = [{\"param\": \"immunity\",\n",
    "                            \"attrs\": {'age': '0-19', 'vacc': 'shot1'},\n",
    "                            \"mults\": {\"2020-01-01\": 1,\n",
    "                                      \"2022-06-20\": 0.99 + 0.01*vacc_eff_lt5,\n",
    "                                      \"2022-06-30\": 0.98 + 0.02*vacc_eff_lt5,\n",
    "                                      \"2022-07-10\": 0.97 + 0.03*vacc_eff_lt5,\n",
    "                                      \"2022-07-20\": 0.96 + 0.04*vacc_eff_lt5,\n",
    "                                      \"2022-08-10\": 0.95 + 0.05*vacc_eff_lt5,\n",
    "                                      \"2022-08-30\": 0.94 + 0.06*vacc_eff_lt5,\n",
    "                                      \"2022-09-20\": 0.93 + 0.07*vacc_eff_lt5},\n",
    "                            \"desc\": \"weighted average using share of 0-19 getting shot1 who are under 5\"}]\n",
    "        scenario_model_args.append({'params_defs': scenario_params + vx_adjust + vir_adjust + lt5_vacc_adjust,\n",
    "                                    'hosp_reporting_frac': hrf,\n",
    "                                    'tags': {'vx_seed': vx_seed,\n",
    "                                             'vir_mult': vir_mult,\n",
    "                                             'booster_mult': 0}})\n",
    "            "
   ]
  },
  {
   "cell_type": "code",
   "execution_count": 9,
   "metadata": {},
   "outputs": [
    {
     "data": {
      "text/plain": [
       "4"
      ]
     },
     "execution_count": 9,
     "metadata": {},
     "output_type": "execute_result"
    }
   ],
   "source": [
    "# check how many scenarios there are\n",
    "len(scenario_model_args)"
   ]
  },
  {
   "cell_type": "code",
   "execution_count": 10,
   "metadata": {},
   "outputs": [
    {
     "name": "stderr",
     "output_type": "stream",
     "text": [
      "2022/10/06 11:50:12 INFO|============================================================\n",
      "2022/10/06 11:50:12 INFO|============================================================\n",
      "2022/10/06 11:50:12 INFO|============================================================\n",
      "2022/10/06 11:50:12 INFO|============================================================\n",
      "2022/10/06 11:50:15 INFO|-----------|{'vx_seed': 5, 'vir_mult': 0.833, 'booster_mult': 0} Retrieving vaccinations data\n",
      "2022/10/06 11:50:15 INFO|-----------|{'vx_seed': 5, 'vir_mult': 2.38, 'booster_mult': 0} Retrieving vaccinations data\n",
      "2022/10/06 11:50:15 INFO|-----------|{'vx_seed': 0, 'vir_mult': 2.38, 'booster_mult': 0} Retrieving vaccinations data\n",
      "2022/10/06 11:50:15 INFO|-----------|{'vx_seed': 0, 'vir_mult': 0.833, 'booster_mult': 0} Retrieving vaccinations data\n",
      "2022/10/06 11:50:22 INFO|-----------|{'vx_seed': 0, 'vir_mult': 2.38, 'booster_mult': 0} Constructing vaccination projections\n",
      "2022/10/06 11:50:22 INFO|-----------|{'vx_seed': 5, 'vir_mult': 0.833, 'booster_mult': 0} Constructing vaccination projections\n",
      "2022/10/06 11:50:22 INFO|-----------|{'vx_seed': 5, 'vir_mult': 2.38, 'booster_mult': 0} Constructing vaccination projections\n",
      "2022/10/06 11:50:23 INFO|-----------|{'vx_seed': 0, 'vir_mult': 0.833, 'booster_mult': 0} Constructing vaccination projections\n",
      "2022/10/06 11:50:24 INFO|-----------|{'vx_seed': 0, 'vir_mult': 2.38, 'booster_mult': 0} Retrieving hospitalizations data\n",
      "2022/10/06 11:50:24 INFO|-----------|{'vx_seed': 5, 'vir_mult': 0.833, 'booster_mult': 0} Retrieving hospitalizations data\n",
      "2022/10/06 11:50:25 INFO|-----------|{'vx_seed': 5, 'vir_mult': 2.38, 'booster_mult': 0} Retrieving hospitalizations data\n",
      "2022/10/06 11:50:25 INFO|-----------|{'vx_seed': 0, 'vir_mult': 0.833, 'booster_mult': 0} Retrieving hospitalizations data\n",
      "2022/10/06 11:50:26 INFO|--------|{'vx_seed': 0, 'vir_mult': 2.38, 'booster_mult': 0} Prepping Model\n",
      "2022/10/06 11:50:26 INFO|---------|{'vx_seed': 0, 'vir_mult': 2.38, 'booster_mult': 0} Prepping Model\n",
      "2022/10/06 11:50:26 INFO|--------|{'vx_seed': 5, 'vir_mult': 2.38, 'booster_mult': 0} Prepping Model\n",
      "2022/10/06 11:50:26 INFO|---------|{'vx_seed': 5, 'vir_mult': 2.38, 'booster_mult': 0} Prepping Model\n",
      "2022/10/06 11:50:26 INFO|--------|{'vx_seed': 5, 'vir_mult': 0.833, 'booster_mult': 0} Prepping Model\n",
      "2022/10/06 11:50:26 INFO|---------|{'vx_seed': 5, 'vir_mult': 0.833, 'booster_mult': 0} Prepping Model\n",
      "2022/10/06 11:50:27 INFO|--------|{'vx_seed': 0, 'vir_mult': 0.833, 'booster_mult': 0} Prepping Model\n",
      "2022/10/06 11:50:27 INFO|---------|{'vx_seed': 0, 'vir_mult': 0.833, 'booster_mult': 0} Prepping Model\n",
      "2022/10/06 11:51:40 INFO|--------|{'vx_seed': 0, 'vir_mult': 2.38, 'booster_mult': 0} Model prepped for fitting in 73.93901841600001 seconds.\n",
      "2022/10/06 11:51:40 INFO|--------|{'vx_seed': 0, 'vir_mult': 2.38, 'booster_mult': 0} Solving Model ODE\n",
      "2022/10/06 11:51:41 INFO|--------|{'vx_seed': 5, 'vir_mult': 0.833, 'booster_mult': 0} Model prepped for fitting in 74.597835084 seconds.\n",
      "2022/10/06 11:51:41 INFO|--------|{'vx_seed': 5, 'vir_mult': 0.833, 'booster_mult': 0} Solving Model ODE\n",
      "2022/10/06 11:51:41 INFO|--------|{'vx_seed': 0, 'vir_mult': 0.833, 'booster_mult': 0} Model prepped for fitting in 74.194243083 seconds.\n",
      "2022/10/06 11:51:41 INFO|--------|{'vx_seed': 0, 'vir_mult': 0.833, 'booster_mult': 0} Solving Model ODE\n",
      "2022/10/06 11:51:41 INFO|--------|{'vx_seed': 5, 'vir_mult': 2.38, 'booster_mult': 0} Model prepped for fitting in 74.85144037500001 seconds.\n",
      "2022/10/06 11:51:41 INFO|--------|{'vx_seed': 5, 'vir_mult': 2.38, 'booster_mult': 0} Solving Model ODE\n",
      "2022/10/06 11:51:44 INFO|--------|{'vx_seed': 0, 'vir_mult': 2.38, 'booster_mult': 0} Model solved in 3.966083416999993 seconds.\n",
      "2022/10/06 11:51:44 INFO|--------|{'vx_seed': 0, 'vir_mult': 2.38, 'booster_mult': 0} Will fit 5 times\n",
      "2022/10/06 11:51:45 INFO|--------|{'vx_seed': 0, 'vir_mult': 0.833, 'booster_mult': 0} Model solved in 3.9992835830000075 seconds.\n",
      "2022/10/06 11:51:45 INFO|--------|{'vx_seed': 0, 'vir_mult': 0.833, 'booster_mult': 0} Will fit 5 times\n",
      "2022/10/06 11:51:45 INFO|--------|{'vx_seed': 5, 'vir_mult': 0.833, 'booster_mult': 0} Model solved in 4.156006000000005 seconds.\n",
      "2022/10/06 11:51:45 INFO|--------|{'vx_seed': 5, 'vir_mult': 0.833, 'booster_mult': 0} Will fit 5 times\n",
      "2022/10/06 11:51:45 INFO|--------|{'vx_seed': 5, 'vir_mult': 2.38, 'booster_mult': 0} Model solved in 4.054423709000005 seconds.\n",
      "2022/10/06 11:51:45 INFO|--------|{'vx_seed': 5, 'vir_mult': 2.38, 'booster_mult': 0} Will fit 5 times\n",
      "2022/10/06 11:52:03 INFO|--------|{'vx_seed': 0, 'vir_mult': 2.38, 'booster_mult': 0, 'fit_batch': '0'}: Transmission control fit 1/5 completed in 19.549552875000003 seconds: {767: {'co': 0.8770578310936641}, 781: {'co': 0.8689510760025877}, 795: {'co': 0.8568673428571263}, 809: {'co': 0.84836434337088}, 823: {'co': 0.8510771665917989}, 837: {'co': 0.8403471326271769}}\n",
      "2022/10/06 11:52:03 INFO|---------|{'vx_seed': 0, 'vir_mult': 2.38, 'booster_mult': 0, 'fit_batch': '0'}: Running forward sim\n",
      "2022/10/06 11:52:04 INFO|--------|{'vx_seed': 0, 'vir_mult': 0.833, 'booster_mult': 0, 'fit_batch': '0'}: Transmission control fit 1/5 completed in 19.63574770800001 seconds: {767: {'co': 0.8770578310936641}, 781: {'co': 0.8689510760025877}, 795: {'co': 0.8568673428571263}, 809: {'co': 0.84836434337088}, 823: {'co': 0.8510771665917989}, 837: {'co': 0.8403471326271769}}\n",
      "2022/10/06 11:52:04 INFO|---------|{'vx_seed': 0, 'vir_mult': 0.833, 'booster_mult': 0, 'fit_batch': '0'}: Running forward sim\n",
      "2022/10/06 11:52:04 INFO|--------|{'vx_seed': 5, 'vir_mult': 2.38, 'booster_mult': 0, 'fit_batch': '0'}: Transmission control fit 1/5 completed in 19.559881125000004 seconds: {767: {'co': 0.8770578310936641}, 781: {'co': 0.8689510760025877}, 795: {'co': 0.8568673428571263}, 809: {'co': 0.84836434337088}, 823: {'co': 0.8510771665917989}, 837: {'co': 0.8403471326271769}}\n",
      "2022/10/06 11:52:04 INFO|---------|{'vx_seed': 5, 'vir_mult': 2.38, 'booster_mult': 0, 'fit_batch': '0'}: Running forward sim\n",
      "2022/10/06 11:52:05 INFO|--------|{'vx_seed': 5, 'vir_mult': 0.833, 'booster_mult': 0, 'fit_batch': '0'}: Transmission control fit 1/5 completed in 20.293729834000004 seconds: {767: {'co': 0.8770578310936641}, 781: {'co': 0.8689510760025877}, 795: {'co': 0.8568673428571263}, 809: {'co': 0.84836434337088}, 823: {'co': 0.8510771665917989}, 837: {'co': 0.8403471326271769}}\n",
      "2022/10/06 11:52:05 INFO|---------|{'vx_seed': 5, 'vir_mult': 0.833, 'booster_mult': 0, 'fit_batch': '0'}: Running forward sim\n",
      "2022/10/06 11:52:19 INFO|--------|{'vx_seed': 0, 'vir_mult': 2.38, 'booster_mult': 0, 'fit_batch': '1'}: Transmission control fit 2/5 completed in 13.890192541000005 seconds: {795: {'co': 0.8565309612216547}, 809: {'co': 0.8494590359590741}, 823: {'co': 0.8484992239200472}, 837: {'co': 0.8461357728735937}, 851: {'co': 0.8334410360937912}, 865: {'co': 0.8597551294599133}}\n",
      "2022/10/06 11:52:19 INFO|---------|{'vx_seed': 0, 'vir_mult': 2.38, 'booster_mult': 0, 'fit_batch': '1'}: Running forward sim\n",
      "2022/10/06 11:52:20 INFO|--------|{'vx_seed': 0, 'vir_mult': 0.833, 'booster_mult': 0, 'fit_batch': '1'}: Transmission control fit 2/5 completed in 13.873068958000005 seconds: {795: {'co': 0.8565309612216547}, 809: {'co': 0.8494590359590741}, 823: {'co': 0.8484992239200472}, 837: {'co': 0.8461357728735937}, 851: {'co': 0.8334410360937912}, 865: {'co': 0.8597551294599133}}\n",
      "2022/10/06 11:52:20 INFO|---------|{'vx_seed': 0, 'vir_mult': 0.833, 'booster_mult': 0, 'fit_batch': '1'}: Running forward sim\n",
      "2022/10/06 11:52:20 INFO|--------|{'vx_seed': 5, 'vir_mult': 2.38, 'booster_mult': 0, 'fit_batch': '1'}: Transmission control fit 2/5 completed in 13.967021290999995 seconds: {795: {'co': 0.8565309612216547}, 809: {'co': 0.8494590359590741}, 823: {'co': 0.8484992239200472}, 837: {'co': 0.8461357728735937}, 851: {'co': 0.8334410360937912}, 865: {'co': 0.8597551294599133}}\n",
      "2022/10/06 11:52:20 INFO|---------|{'vx_seed': 5, 'vir_mult': 2.38, 'booster_mult': 0, 'fit_batch': '1'}: Running forward sim\n",
      "2022/10/06 11:52:21 INFO|--------|{'vx_seed': 5, 'vir_mult': 0.833, 'booster_mult': 0, 'fit_batch': '1'}: Transmission control fit 2/5 completed in 14.401671792000016 seconds: {795: {'co': 0.8565309612216547}, 809: {'co': 0.8494590359590741}, 823: {'co': 0.8484992239200472}, 837: {'co': 0.8461357728735937}, 851: {'co': 0.8334410360937912}, 865: {'co': 0.8597551294599133}}\n",
      "2022/10/06 11:52:21 INFO|---------|{'vx_seed': 5, 'vir_mult': 0.833, 'booster_mult': 0, 'fit_batch': '1'}: Running forward sim\n"
     ]
    },
    {
     "name": "stderr",
     "output_type": "stream",
     "text": [
      "2022/10/06 11:52:34 INFO|--------|{'vx_seed': 0, 'vir_mult': 2.38, 'booster_mult': 0, 'fit_batch': '2'}: Transmission control fit 3/5 completed in 12.963229500000011 seconds: {823: {'co': 0.8484155029800612}, 837: {'co': 0.8463117345010214}, 851: {'co': 0.8328439858664983}, 865: {'co': 0.8617811255822962}, 879: {'co': 0.8534447993709878}, 893: {'co': 0.8576382092966356}}\n",
      "2022/10/06 11:52:34 INFO|---------|{'vx_seed': 0, 'vir_mult': 2.38, 'booster_mult': 0, 'fit_batch': '2'}: Running forward sim\n",
      "2022/10/06 11:52:34 INFO|--------|{'vx_seed': 5, 'vir_mult': 2.38, 'booster_mult': 0, 'fit_batch': '2'}: Transmission control fit 3/5 completed in 12.884083207999993 seconds: {823: {'co': 0.8484155029800612}, 837: {'co': 0.8463117345010214}, 851: {'co': 0.8328439858664983}, 865: {'co': 0.8617811255822962}, 879: {'co': 0.8534447993709878}, 893: {'co': 0.8576382092966356}}\n",
      "2022/10/06 11:52:34 INFO|---------|{'vx_seed': 5, 'vir_mult': 2.38, 'booster_mult': 0, 'fit_batch': '2'}: Running forward sim\n",
      "2022/10/06 11:52:35 INFO|--------|{'vx_seed': 0, 'vir_mult': 0.833, 'booster_mult': 0, 'fit_batch': '2'}: Transmission control fit 3/5 completed in 12.976449124999988 seconds: {823: {'co': 0.8484155029800612}, 837: {'co': 0.8463117345010214}, 851: {'co': 0.8328439858664983}, 865: {'co': 0.8617811255822962}, 879: {'co': 0.8534447993709878}, 893: {'co': 0.8576382092966356}}\n",
      "2022/10/06 11:52:35 INFO|---------|{'vx_seed': 0, 'vir_mult': 0.833, 'booster_mult': 0, 'fit_batch': '2'}: Running forward sim\n",
      "2022/10/06 11:52:36 INFO|--------|{'vx_seed': 5, 'vir_mult': 0.833, 'booster_mult': 0, 'fit_batch': '2'}: Transmission control fit 3/5 completed in 13.172448959000008 seconds: {823: {'co': 0.8484155029800612}, 837: {'co': 0.8463117345010214}, 851: {'co': 0.8328439858664983}, 865: {'co': 0.8617811255822962}, 879: {'co': 0.8534447993709878}, 893: {'co': 0.8576382092966356}}\n",
      "2022/10/06 11:52:36 INFO|---------|{'vx_seed': 5, 'vir_mult': 0.833, 'booster_mult': 0, 'fit_batch': '2'}: Running forward sim\n",
      "2022/10/06 11:52:50 INFO|--------|{'vx_seed': 0, 'vir_mult': 2.38, 'booster_mult': 0, 'fit_batch': '3'}: Transmission control fit 4/5 completed in 14.593194374999996 seconds: {851: {'co': 0.8331638665516832}, 865: {'co': 0.8612677323628344}, 879: {'co': 0.8543022072243597}, 893: {'co': 0.8549252862032161}, 907: {'co': 0.8625898151498244}, 921: {'co': 0.8578828868980638}}\n",
      "2022/10/06 11:52:50 INFO|---------|{'vx_seed': 0, 'vir_mult': 2.38, 'booster_mult': 0, 'fit_batch': '3'}: Running forward sim\n",
      "2022/10/06 11:52:51 INFO|--------|{'vx_seed': 5, 'vir_mult': 2.38, 'booster_mult': 0, 'fit_batch': '3'}: Transmission control fit 4/5 completed in 14.696514957999995 seconds: {851: {'co': 0.8331638665516832}, 865: {'co': 0.8612677323628344}, 879: {'co': 0.8543022072243597}, 893: {'co': 0.8549252862032161}, 907: {'co': 0.8625898151498244}, 921: {'co': 0.8578828868980638}}\n",
      "2022/10/06 11:52:51 INFO|---------|{'vx_seed': 5, 'vir_mult': 2.38, 'booster_mult': 0, 'fit_batch': '3'}: Running forward sim\n",
      "2022/10/06 11:52:51 INFO|--------|{'vx_seed': 0, 'vir_mult': 0.833, 'booster_mult': 0, 'fit_batch': '3'}: Transmission control fit 4/5 completed in 14.673122124999992 seconds: {851: {'co': 0.8331638665516832}, 865: {'co': 0.8612677323628344}, 879: {'co': 0.8543022072243597}, 893: {'co': 0.8549252862032161}, 907: {'co': 0.8625898151498244}, 921: {'co': 0.8578828868980638}}\n",
      "2022/10/06 11:52:51 INFO|---------|{'vx_seed': 0, 'vir_mult': 0.833, 'booster_mult': 0, 'fit_batch': '3'}: Running forward sim\n",
      "2022/10/06 11:52:53 INFO|--------|{'vx_seed': 5, 'vir_mult': 0.833, 'booster_mult': 0, 'fit_batch': '3'}: Transmission control fit 4/5 completed in 15.105332125000018 seconds: {851: {'co': 0.8331638665516832}, 865: {'co': 0.8612677323628344}, 879: {'co': 0.8543022072243597}, 893: {'co': 0.8549252862032161}, 907: {'co': 0.8625898151498244}, 921: {'co': 0.8578828868980638}}\n",
      "2022/10/06 11:52:53 INFO|---------|{'vx_seed': 5, 'vir_mult': 0.833, 'booster_mult': 0, 'fit_batch': '3'}: Running forward sim\n",
      "2022/10/06 11:53:08 INFO|--------|{'vx_seed': 0, 'vir_mult': 2.38, 'booster_mult': 0, 'fit_batch': '4'}: Transmission control fit 5/5 completed in 16.332635167000007 seconds: {879: {'co': 0.8543018951711225}, 893: {'co': 0.8550426284013605}, 907: {'co': 0.8615915112426356}, 921: {'co': 0.8620304205710555}, 935: {'co': 0.8522825584060395}, 949: {'co': 0.846111715213824}}\n",
      "2022/10/06 11:53:08 INFO|---------|{'vx_seed': 0, 'vir_mult': 2.38, 'booster_mult': 0, 'fit_batch': '4'}: Running forward sim\n",
      "2022/10/06 11:53:09 INFO|--------|{'vx_seed': 0, 'vir_mult': 0.833, 'booster_mult': 0, 'fit_batch': '4'}: Transmission control fit 5/5 completed in 16.35118295800001 seconds: {879: {'co': 0.8543018951711225}, 893: {'co': 0.8550426284013605}, 907: {'co': 0.8615915112426356}, 921: {'co': 0.8620304205710555}, 935: {'co': 0.8522825584060395}, 949: {'co': 0.846111715213824}}\n",
      "2022/10/06 11:53:09 INFO|---------|{'vx_seed': 0, 'vir_mult': 0.833, 'booster_mult': 0, 'fit_batch': '4'}: Running forward sim\n",
      "2022/10/06 11:53:09 INFO|--------|{'vx_seed': 0, 'vir_mult': 2.38, 'booster_mult': 0, 'fit_batch': '4', 'run_type': 'fit'}: fitted TC: {0: {'co': 0.8587936394045163}, 14: {'co': 0.6897761516173341}, 28: {'co': 0.5461822485713237}, 42: {'co': 1.47725949066134e-14}, 56: {'co': 0.6964649573507541}, 70: {'co': 0.8333063430025454}, 84: {'co': 0.8295949481128148}, 98: {'co': 0.8317180713022121}, 112: {'co': 0.8774454578075962}, 126: {'co': 0.8243715631798311}, 140: {'co': 0.7604768954200014}, 154: {'co': 0.6712541486338183}, 168: {'co': 0.8430274765831426}, 182: {'co': 0.7826504004227312}, 196: {'co': 0.8191652899986039}, 210: {'co': 0.7726023562796098}, 224: {'co': 0.7713430225629265}, 238: {'co': 0.7185520652914471}, 252: {'co': 0.7221395048128676}, 266: {'co': 0.6850199045128585}, 280: {'co': 0.7198410210178658}, 294: {'co': 0.7578493583598209}, 308: {'co': 0.8225928618348625}, 322: {'co': 0.8115169202432801}, 336: {'co': 0.7825636926828162}, 350: {'co': 0.7953853340104805}, 364: {'co': 0.805471733524741}, 378: {'co': 0.7423353113818182}, 392: {'co': 0.7841114481963167}, 406: {'co': 0.709903501577985}, 420: {'co': 0.718818604608042}, 434: {'co': 0.6879112740555188}, 448: {'co': 0.7409711473802553}, 462: {'co': 0.8128547917938532}, 476: {'co': 0.7917997310954048}, 490: {'co': 0.8302449845076497}, 504: {'co': 0.7862201556962061}, 518: {'co': 0.7799278717009765}, 532: {'co': 0.7562252135319966}, 546: {'co': 0.7112512051328503}, 560: {'co': 0.7393612280203092}, 574: {'co': 0.747812495401817}, 588: {'co': 0.7875835499730783}, 602: {'co': 0.763917399658403}, 616: {'co': 0.7176184837924147}, 630: {'co': 0.7354848975026}, 644: {'co': 0.7124813012523272}, 658: {'co': 0.7531655490388399}, 672: {'co': 0.7583532829915947}, 686: {'co': 0.7378278560946673}, 700: {'co': 0.6513602263407509}, 714: {'co': 0.8035541370509394}, 728: {'co': 0.8434125591006003}, 742: {'co': 0.8635624638278985}, 767: {'co': 0.8770578310936641}, 781: {'co': 0.8689510760025877}, 795: {'co': 0.8565309612216547}, 809: {'co': 0.8494590359590741}, 823: {'co': 0.8484155029800612}, 837: {'co': 0.8463117345010214}, 851: {'co': 0.8331638665516832}, 865: {'co': 0.8612677323628344}, 879: {'co': 0.8543018951711225}, 893: {'co': 0.8550426284013605}, 907: {'co': 0.8615915112426356}, 921: {'co': 0.8620304205710555}, 935: {'co': 0.8522825584060395}, 949: {'co': 0.8461117301149852}}\n",
      "2022/10/06 11:53:09 INFO|---------|{'vx_seed': 0, 'vir_mult': 2.38, 'booster_mult': 0, 'fit_batch': '4', 'run_type': 'fit'}: Running forward sim\n",
      "2022/10/06 11:53:10 INFO|--------|{'vx_seed': 5, 'vir_mult': 2.38, 'booster_mult': 0, 'fit_batch': '4'}: Transmission control fit 5/5 completed in 17.18834124999998 seconds: {879: {'co': 0.8543018556122692}, 893: {'co': 0.8550427513781559}, 907: {'co': 0.8615911420971679}, 921: {'co': 0.8620316138574395}, 935: {'co': 0.8522790782177752}, 949: {'co': 0.8461156331427693}}\n",
      "2022/10/06 11:53:10 INFO|---------|{'vx_seed': 5, 'vir_mult': 2.38, 'booster_mult': 0, 'fit_batch': '4'}: Running forward sim\n",
      "2022/10/06 11:53:10 INFO|--------|{'vx_seed': 0, 'vir_mult': 0.833, 'booster_mult': 0, 'fit_batch': '4', 'run_type': 'fit'}: fitted TC: {0: {'co': 0.8587936394045163}, 14: {'co': 0.6897761516173341}, 28: {'co': 0.5461822485713237}, 42: {'co': 1.47725949066134e-14}, 56: {'co': 0.6964649573507541}, 70: {'co': 0.8333063430025454}, 84: {'co': 0.8295949481128148}, 98: {'co': 0.8317180713022121}, 112: {'co': 0.8774454578075962}, 126: {'co': 0.8243715631798311}, 140: {'co': 0.7604768954200014}, 154: {'co': 0.6712541486338183}, 168: {'co': 0.8430274765831426}, 182: {'co': 0.7826504004227312}, 196: {'co': 0.8191652899986039}, 210: {'co': 0.7726023562796098}, 224: {'co': 0.7713430225629265}, 238: {'co': 0.7185520652914471}, 252: {'co': 0.7221395048128676}, 266: {'co': 0.6850199045128585}, 280: {'co': 0.7198410210178658}, 294: {'co': 0.7578493583598209}, 308: {'co': 0.8225928618348625}, 322: {'co': 0.8115169202432801}, 336: {'co': 0.7825636926828162}, 350: {'co': 0.7953853340104805}, 364: {'co': 0.805471733524741}, 378: {'co': 0.7423353113818182}, 392: {'co': 0.7841114481963167}, 406: {'co': 0.709903501577985}, 420: {'co': 0.718818604608042}, 434: {'co': 0.6879112740555188}, 448: {'co': 0.7409711473802553}, 462: {'co': 0.8128547917938532}, 476: {'co': 0.7917997310954048}, 490: {'co': 0.8302449845076497}, 504: {'co': 0.7862201556962061}, 518: {'co': 0.7799278717009765}, 532: {'co': 0.7562252135319966}, 546: {'co': 0.7112512051328503}, 560: {'co': 0.7393612280203092}, 574: {'co': 0.747812495401817}, 588: {'co': 0.7875835499730783}, 602: {'co': 0.763917399658403}, 616: {'co': 0.7176184837924147}, 630: {'co': 0.7354848975026}, 644: {'co': 0.7124813012523272}, 658: {'co': 0.7531655490388399}, 672: {'co': 0.7583532829915947}, 686: {'co': 0.7378278560946673}, 700: {'co': 0.6513602263407509}, 714: {'co': 0.8035541370509394}, 728: {'co': 0.8434125591006003}, 742: {'co': 0.8635624638278985}, 767: {'co': 0.8770578310936641}, 781: {'co': 0.8689510760025877}, 795: {'co': 0.8565309612216547}, 809: {'co': 0.8494590359590741}, 823: {'co': 0.8484155029800612}, 837: {'co': 0.8463117345010214}, 851: {'co': 0.8331638665516832}, 865: {'co': 0.8612677323628344}, 879: {'co': 0.8543018951711225}, 893: {'co': 0.8550426284013605}, 907: {'co': 0.8615915112426356}, 921: {'co': 0.8620304205710555}, 935: {'co': 0.8522825584060395}, 949: {'co': 0.8461117301149852}}\n",
      "2022/10/06 11:53:10 INFO|---------|{'vx_seed': 0, 'vir_mult': 0.833, 'booster_mult': 0, 'fit_batch': '4', 'run_type': 'fit'}: Running forward sim\n"
     ]
    },
    {
     "name": "stderr",
     "output_type": "stream",
     "text": [
      "2022/10/06 11:53:11 INFO|--------|{'vx_seed': 5, 'vir_mult': 2.38, 'booster_mult': 0, 'fit_batch': '4', 'run_type': 'fit'}: fitted TC: {0: {'co': 0.8587936394045163}, 14: {'co': 0.6897761516173341}, 28: {'co': 0.5461822485713237}, 42: {'co': 1.47725949066134e-14}, 56: {'co': 0.6964649573507541}, 70: {'co': 0.8333063430025454}, 84: {'co': 0.8295949481128148}, 98: {'co': 0.8317180713022121}, 112: {'co': 0.8774454578075962}, 126: {'co': 0.8243715631798311}, 140: {'co': 0.7604768954200014}, 154: {'co': 0.6712541486338183}, 168: {'co': 0.8430274765831426}, 182: {'co': 0.7826504004227312}, 196: {'co': 0.8191652899986039}, 210: {'co': 0.7726023562796098}, 224: {'co': 0.7713430225629265}, 238: {'co': 0.7185520652914471}, 252: {'co': 0.7221395048128676}, 266: {'co': 0.6850199045128585}, 280: {'co': 0.7198410210178658}, 294: {'co': 0.7578493583598209}, 308: {'co': 0.8225928618348625}, 322: {'co': 0.8115169202432801}, 336: {'co': 0.7825636926828162}, 350: {'co': 0.7953853340104805}, 364: {'co': 0.805471733524741}, 378: {'co': 0.7423353113818182}, 392: {'co': 0.7841114481963167}, 406: {'co': 0.709903501577985}, 420: {'co': 0.718818604608042}, 434: {'co': 0.6879112740555188}, 448: {'co': 0.7409711473802553}, 462: {'co': 0.8128547917938532}, 476: {'co': 0.7917997310954048}, 490: {'co': 0.8302449845076497}, 504: {'co': 0.7862201556962061}, 518: {'co': 0.7799278717009765}, 532: {'co': 0.7562252135319966}, 546: {'co': 0.7112512051328503}, 560: {'co': 0.7393612280203092}, 574: {'co': 0.747812495401817}, 588: {'co': 0.7875835499730783}, 602: {'co': 0.763917399658403}, 616: {'co': 0.7176184837924147}, 630: {'co': 0.7354848975026}, 644: {'co': 0.7124813012523272}, 658: {'co': 0.7531655490388399}, 672: {'co': 0.7583532829915947}, 686: {'co': 0.7378278560946673}, 700: {'co': 0.6513602263407509}, 714: {'co': 0.8035541370509394}, 728: {'co': 0.8434125591006003}, 742: {'co': 0.8635624638278985}, 767: {'co': 0.8770578310936641}, 781: {'co': 0.8689510760025877}, 795: {'co': 0.8565309612216547}, 809: {'co': 0.8494590359590741}, 823: {'co': 0.8484155029800612}, 837: {'co': 0.8463117345010214}, 851: {'co': 0.8331638665516832}, 865: {'co': 0.8612677323628344}, 879: {'co': 0.8543018556122692}, 893: {'co': 0.8550427513781559}, 907: {'co': 0.8615911420971679}, 921: {'co': 0.8620316138574395}, 935: {'co': 0.8522790782177752}, 949: {'co': 0.8461156480439305}}\n",
      "2022/10/06 11:53:11 INFO|---------|{'vx_seed': 5, 'vir_mult': 2.38, 'booster_mult': 0, 'fit_batch': '4', 'run_type': 'fit'}: Running forward sim\n",
      "2022/10/06 11:53:12 INFO|--------|{'vx_seed': 5, 'vir_mult': 0.833, 'booster_mult': 0, 'fit_batch': '4'}: Transmission control fit 5/5 completed in 17.68377854100001 seconds: {879: {'co': 0.8543018815496399}, 893: {'co': 0.8550426711544162}, 907: {'co': 0.8615913829546702}, 921: {'co': 0.8620308357360082}, 935: {'co': 0.8522813481130266}, 949: {'co': 0.8461130775550904}}\n",
      "2022/10/06 11:53:12 INFO|---------|{'vx_seed': 5, 'vir_mult': 0.833, 'booster_mult': 0, 'fit_batch': '4'}: Running forward sim\n",
      "2022/10/06 11:53:14 INFO|--------|{'vx_seed': 5, 'vir_mult': 0.833, 'booster_mult': 0, 'fit_batch': '4', 'run_type': 'fit'}: fitted TC: {0: {'co': 0.8587936394045163}, 14: {'co': 0.6897761516173341}, 28: {'co': 0.5461822485713237}, 42: {'co': 1.47725949066134e-14}, 56: {'co': 0.6964649573507541}, 70: {'co': 0.8333063430025454}, 84: {'co': 0.8295949481128148}, 98: {'co': 0.8317180713022121}, 112: {'co': 0.8774454578075962}, 126: {'co': 0.8243715631798311}, 140: {'co': 0.7604768954200014}, 154: {'co': 0.6712541486338183}, 168: {'co': 0.8430274765831426}, 182: {'co': 0.7826504004227312}, 196: {'co': 0.8191652899986039}, 210: {'co': 0.7726023562796098}, 224: {'co': 0.7713430225629265}, 238: {'co': 0.7185520652914471}, 252: {'co': 0.7221395048128676}, 266: {'co': 0.6850199045128585}, 280: {'co': 0.7198410210178658}, 294: {'co': 0.7578493583598209}, 308: {'co': 0.8225928618348625}, 322: {'co': 0.8115169202432801}, 336: {'co': 0.7825636926828162}, 350: {'co': 0.7953853340104805}, 364: {'co': 0.805471733524741}, 378: {'co': 0.7423353113818182}, 392: {'co': 0.7841114481963167}, 406: {'co': 0.709903501577985}, 420: {'co': 0.718818604608042}, 434: {'co': 0.6879112740555188}, 448: {'co': 0.7409711473802553}, 462: {'co': 0.8128547917938532}, 476: {'co': 0.7917997310954048}, 490: {'co': 0.8302449845076497}, 504: {'co': 0.7862201556962061}, 518: {'co': 0.7799278717009765}, 532: {'co': 0.7562252135319966}, 546: {'co': 0.7112512051328503}, 560: {'co': 0.7393612280203092}, 574: {'co': 0.747812495401817}, 588: {'co': 0.7875835499730783}, 602: {'co': 0.763917399658403}, 616: {'co': 0.7176184837924147}, 630: {'co': 0.7354848975026}, 644: {'co': 0.7124813012523272}, 658: {'co': 0.7531655490388399}, 672: {'co': 0.7583532829915947}, 686: {'co': 0.7378278560946673}, 700: {'co': 0.6513602263407509}, 714: {'co': 0.8035541370509394}, 728: {'co': 0.8434125591006003}, 742: {'co': 0.8635624638278985}, 767: {'co': 0.8770578310936641}, 781: {'co': 0.8689510760025877}, 795: {'co': 0.8565309612216547}, 809: {'co': 0.8494590359590741}, 823: {'co': 0.8484155029800612}, 837: {'co': 0.8463117345010214}, 851: {'co': 0.8331638665516832}, 865: {'co': 0.8612677323628344}, 879: {'co': 0.8543018815496399}, 893: {'co': 0.8550426711544162}, 907: {'co': 0.8615913829546702}, 921: {'co': 0.8620308357360082}, 935: {'co': 0.8522813481130266}, 949: {'co': 0.8461130924562515}}\n",
      "2022/10/06 11:53:14 INFO|---------|{'vx_seed': 5, 'vir_mult': 0.833, 'booster_mult': 0, 'fit_batch': '4', 'run_type': 'fit'}: Running forward sim\n",
      "2022/10/06 11:53:45 INFO|-----------------------|spec_ids: 4177,4178,4179,4180\n"
     ]
    }
   ],
   "source": [
    "# run the scenarios\n",
    "models = do_fit_scenarios(base_model_args=model_args, scenario_args_list=scenario_model_args, fit_args=model_fit_args, multiprocess=multiprocess)"
   ]
  },
  {
   "cell_type": "markdown",
   "metadata": {
    "pycharm": {
     "name": "#%% md\n"
    }
   },
   "source": [
    "### Run the report for each fit model"
   ]
  },
  {
   "cell_type": "code",
   "execution_count": 13,
   "metadata": {
    "pycharm": {
     "name": "#%%\n"
    }
   },
   "outputs": [
    {
     "name": "stderr",
     "output_type": "stream",
     "text": [
      "2022/10/10 10:52:41 INFO|============================================================\n",
      "2022/10/10 10:52:41 INFO|--------|Solving model\n",
      "2022/10/10 10:52:41 INFO|============================================================\n",
      "2022/10/10 10:52:41 INFO|--------|Solving model\n",
      "2022/10/10 10:52:42 INFO|============================================================\n",
      "2022/10/10 10:52:42 INFO|--------|Solving model\n",
      "2022/10/10 10:52:43 INFO|============================================================\n",
      "2022/10/10 10:52:43 INFO|--------|Solving model\n",
      "2022/10/10 10:52:45 WARNING|No artists with labels found to put in legend.  Note that artists whose label start with an underscore are ignored when legend() is called with no argument.\n",
      "2022/10/10 10:52:45 WARNING|No artists with labels found to put in legend.  Note that artists whose label start with an underscore are ignored when legend() is called with no argument.\n",
      "2022/10/10 10:52:46 WARNING|No artists with labels found to put in legend.  Note that artists whose label start with an underscore are ignored when legend() is called with no argument.\n",
      "2022/10/10 10:52:47 WARNING|No artists with labels found to put in legend.  Note that artists whose label start with an underscore are ignored when legend() is called with no argument.\n"
     ]
    }
   ],
   "source": [
    "# here you can also specify which variants you want to calculate immunity for\n",
    "do_create_multiple_reports(models, multiprocess=multiprocess, outdir=outdir, prep_model=False, solve_model=True, immun_variants=['ba45', 'vx'], from_date='2022-01-01')"
   ]
  },
  {
   "cell_type": "code",
   "execution_count": 12,
   "metadata": {
    "pycharm": {
     "name": "#%%\n"
    }
   },
   "outputs": [
    {
     "name": "stderr",
     "output_type": "stream",
     "text": [
      "2022/10/06 12:00:15 INFO|Projecting\n",
      "2022/10/06 12:00:15 INFO|\n",
      "2022/10/06 12:00:35 INFO|{'vx_seed': 0, 'vir_mult': 0.833, 'booster_mult': 0, 'fit_batch': '4', 'run_type': 'fit'}: Running forward sim\n",
      "2022/10/06 12:00:37 INFO|\n",
      "2022/10/06 12:00:56 INFO|{'vx_seed': 0, 'vir_mult': 2.38, 'booster_mult': 0, 'fit_batch': '4', 'run_type': 'fit'}: Running forward sim\n",
      "2022/10/06 12:00:57 INFO|\n",
      "2022/10/06 12:01:16 INFO|{'vx_seed': 5, 'vir_mult': 0.833, 'booster_mult': 0, 'fit_batch': '4', 'run_type': 'fit'}: Running forward sim\n",
      "2022/10/06 12:01:18 INFO|\n",
      "2022/10/06 12:01:37 INFO|{'vx_seed': 5, 'vir_mult': 2.38, 'booster_mult': 0, 'fit_batch': '4', 'run_type': 'fit'}: Running forward sim\n",
      "2022/10/06 12:01:39 INFO|Running reports\n"
     ]
    }
   ],
   "source": [
    "logging.info('Projecting')\n",
    "for model in models:\n",
    "    logging.info('')\n",
    "    #model.prep()  # don't think we need to prep anymore.\n",
    "    model.solve_seir()\n",
    "\n",
    "    model.solution_sum_df(['seir', 'variant', 'immun']).unstack().to_csv(get_filepath_prefix(outdir, tags=model.tags) + 'states_seir_variant_immun_total_all_at_once_projection.csv')\n",
    "    model.solution_sum_df().unstack().to_csv(get_filepath_prefix(outdir, tags=model.tags) + 'states_full_projection.csv')\n",
    "\n",
    "    logging.info(f'{str(model.tags)}: Running forward sim')\n",
    "    fig = plt.figure(figsize=(10, 10), dpi=300)\n",
    "    ax = fig.add_subplot(211)\n",
    "    hosps_df = model.modeled_vs_observed_hosps().reset_index('region').drop(columns='region')\n",
    "    hosps_df.plot(ax=ax)\n",
    "    ax.set_xlim(dt.datetime.strptime('2022-01-01', \"%Y-%m-%d\").date(), dt.datetime.strptime('2024-01-01', \"%Y-%m-%d\").date())\n",
    "    ax = fig.add_subplot(212)\n",
    "    plot_transmission_control(model, ax=ax)\n",
    "    ax.set_xlim(dt.datetime.strptime('2022-01-01', \"%Y-%m-%d\").date(), dt.datetime.strptime('2024-01-01', \"%Y-%m-%d\").date())\n",
    "    plt.savefig(get_filepath_prefix(outdir, tags=model.tags) + 'model_forecast.png')\n",
    "    plt.close()\n",
    "    hosps_df.to_csv(get_filepath_prefix(outdir, tags=model.tags) + '_model_forecast.csv')\n",
    "    json.dump(model.tc, open(get_filepath_prefix(outdir, tags=model.tags) + 'model_forecast_tc.json', 'w'))\n",
    "\n",
    "logging.info('Running reports')"
   ]
  }
 ],
 "metadata": {
  "kernelspec": {
   "display_name": "Python 3 (ipykernel)",
   "language": "python",
   "name": "python3"
  },
  "language_info": {
   "codemirror_mode": {
    "name": "ipython",
    "version": 3
   },
   "file_extension": ".py",
   "mimetype": "text/x-python",
   "name": "python",
   "nbconvert_exporter": "python",
   "pygments_lexer": "ipython3",
   "version": "3.9.13"
  }
 },
 "nbformat": 4,
 "nbformat_minor": 4
}
