{
 "cells": [
  {
   "cell_type": "markdown",
   "metadata": {
    "pycharm": {
     "name": "#%% md\n"
    }
   },
   "source": [
    "### Setup"
   ]
  },
  {
   "cell_type": "code",
   "execution_count": 1,
   "metadata": {
    "pycharm": {
     "name": "#%%\n"
    }
   },
   "outputs": [
    {
     "name": "stdout",
     "output_type": "stream",
     "text": [
      "/Users/emwu9912/PycharmProjects/covid-models\n"
     ]
    }
   ],
   "source": [
    "\"\"\" Python Standard Library \"\"\"\n",
    "import os\n",
    "import datetime as dt\n",
    "import json\n",
    "import logging\n",
    "\"\"\" Third Party Imports \"\"\"\n",
    "import numpy as np\n",
    "import pandas as pd\n",
    "from matplotlib import pyplot as plt\n",
    "%matplotlib inline\n",
    "import seaborn as sns\n",
    "\"\"\" Local Imports \"\"\"\n",
    "if 'requirements.txt' not in os.listdir(os.getcwd()):\n",
    "    os.chdir(os.path.join('..','..','..'))\n",
    "print(os.getcwd())\n",
    "from covid_model.model import CovidModel\n",
    "from covid_model.runnable_functions import do_single_fit, do_fit_scenarios, do_create_multiple_reports\n",
    "from covid_model.utils import setup, get_filepath_prefix\n",
    "from covid_model.analysis.charts import plot_transmission_control\n",
    "\n",
    "os.environ['gcp_project'] = 'co-covid-models'\n",
    "os.environ['GOOGLE_APPLICATION_CREDENTIALS'] = \"co-covid-models-credentials.json\""
   ]
  },
  {
   "cell_type": "code",
   "execution_count": 2,
   "metadata": {
    "pycharm": {
     "name": "#%%\n"
    },
    "scrolled": true
   },
   "outputs": [
    {
     "name": "stderr",
     "output_type": "stream",
     "text": [
      "2022/11/29 10:32:07 INFO|============================================================\n"
     ]
    }
   ],
   "source": [
    "# set up the output directory for this Jupyter notebook\n",
    "outdir = setup(\"20221129_scenario_projections.ipynb\")"
   ]
  },
  {
   "cell_type": "markdown",
   "metadata": {
    "pycharm": {
     "name": "#%% md\n"
    }
   },
   "source": [
    "### Fit an initial scenario through February 2022"
   ]
  },
  {
   "cell_type": "code",
   "execution_count": null,
   "metadata": {
    "pycharm": {
     "name": "#%%\n"
    }
   },
   "outputs": [],
   "source": [
    "# designate the arguments for how the model will behave\n",
    "model_args = {\n",
    "    'params_defs': 'covid_model/analysis/20221109_nov_gov_briefing/20221109_scenario_params.json',\n",
    "    'region_defs': 'covid_model/input/region_definitions.json',\n",
    "    'vacc_proj_params': 'covid_model/analysis/20221109_nov_gov_briefing/20221109_vacc_proj_params.json',\n",
    "    'start_date': '2020-01-24',\n",
    "    'end_date': '2024-01-01',\n",
    "}\n",
    "\n",
    "# this is how the fit will behave\n",
    "# place the outdir argument here to tell the model fit where to go\n",
    "fit_args = {'outdir': outdir,\n",
    "            'fit_end_date': '2022-02-28'\n",
    "}\n",
    "\n",
    "# because all the scenarios are the same \n",
    "model = do_single_fit(**fit_args, **model_args)"
   ]
  },
  {
   "cell_type": "markdown",
   "metadata": {
    "pycharm": {
     "name": "#%% md\n"
    }
   },
   "source": [
    "### Create and run scenarios from Feb 2022 to present"
   ]
  },
  {
   "cell_type": "code",
   "execution_count": 8,
   "metadata": {
    "pycharm": {
     "name": "#%%\n"
    }
   },
   "outputs": [],
   "source": [
    "multiprocess = 4\n",
    "\n",
    "scenario_params = json.load(open('covid_model/analysis/20221109_nov_gov_briefing/20221109_scenario_params.json'))\n",
    "\n",
    "model_args = {\n",
    "    'base_spec_id': 4429, # use the spec id that was output from the model fit\n",
    "}\n",
    "model_fit_args = {\n",
    "    'outdir': outdir,\n",
    "    'fit_start_date': '2022-03-01', # set the start date for the earliest point at which the scenarios start to differ from one another\n",
    "    'pre_solve_model': True # force the model to establish initial conditions so the fit can start on the fit start date\n",
    "}\n",
    "\n",
    "# define vaccine effectiveness for < 5 (this is a multiplier for the baseline vaccine effectiveness for 0-19)\n",
    "vacc_eff_lt5 = 0.5\n",
    "\n",
    "# Create different scenarios to model\n",
    "scenario_model_args = []\n",
    "for (weak_escape, strong_escape) in [(0.6, 0.15), (0.66, 0.165), (0.72, 0.18), (0.54, 0.135)]:\n",
    "    hrf = {\"2020-01-01\": 1, \"2022-03-01\": (0.66 + 0.34*0.8),\n",
    "           \"2022-03-15\": (0.34 + 0.66*0.8), \"2022-03-30\": 0.8}\n",
    "    weak_param = [{\"param\": \"immune_escape\",\n",
    "                   \"from_attrs\": {\"immun\": \"weak\",\n",
    "                                  \"variant\": [\"none\", \"wildtype\", \"alpha\", \"delta\",\n",
    "                                              \"omicron\", \"ba2\", \"ba2121\", \"ba45\"]},\n",
    "                   \"to_attrs\": {\"variant\": [\"emv\"]},\n",
    "                   \"vals\": {\"2020-01-01\": weak_escape},\n",
    "                   \"desc\": \"emerging variants immune escape value, weak immunity\"}]\n",
    "    strong_param = [{\"param\": \"immune_escape\",\n",
    "                   \"from_attrs\": {\"immun\": \"strong\",\n",
    "                                  \"variant\": [\"none\", \"wildtype\", \"alpha\", \"delta\",\n",
    "                                              \"omicron\", \"ba2\", \"ba2121\", \"ba45\"]},\n",
    "                   \"to_attrs\": {\"variant\": [\"emv\"]},\n",
    "                   \"vals\": {\"2020-01-01\": strong_escape},\n",
    "                   \"desc\": \"emerging variants immune escape value, strong immunity\"}]\n",
    "    lt5_vacc_adjust = [{\"param\": \"immunity\",\n",
    "                        \"attrs\": {'age': '0-19', 'vacc': 'shot1'},\n",
    "                        \"mults\": {\"2020-01-01\": 1,\n",
    "                                  \"2022-06-24\": 0.99 + 0.01*vacc_eff_lt5,\n",
    "                                  \"2022-06-30\": 0.98 + 0.02*vacc_eff_lt5,\n",
    "                                  \"2022-07-08\": 0.97 + 0.03*vacc_eff_lt5,\n",
    "                                  \"2022-07-19\": 0.96 + 0.04*vacc_eff_lt5,\n",
    "                                  \"2022-07-29\": 0.95 + 0.05*vacc_eff_lt5,\n",
    "                                  \"2022-08-11\": 0.94 + 0.06*vacc_eff_lt5,\n",
    "                                  \"2022-08-30\": 0.93 + 0.07*vacc_eff_lt5,\n",
    "                                  \"2022-09-26\": 0.92 + 0.08*vacc_eff_lt5,\n",
    "                                  \"2022-10-26\": 0.91 + 0.09*vacc_eff_lt5,},\n",
    "                        \"desc\": \"weighted average using share of 0-19 getting shot1 who are under 5\"}]\n",
    "    scenario_model_args.append({'params_defs': scenario_params + weak_param + strong_param + lt5_vacc_adjust,\n",
    "                                'hosp_reporting_frac': hrf,\n",
    "                                'tags': {'emv_escape_weak': weak_escape,\n",
    "                                        'emv_escape_strong': strong_escape}})\n",
    "            "
   ]
  },
  {
   "cell_type": "code",
   "execution_count": 9,
   "metadata": {},
   "outputs": [
    {
     "data": {
      "text/plain": [
       "4"
      ]
     },
     "execution_count": 9,
     "metadata": {},
     "output_type": "execute_result"
    }
   ],
   "source": [
    "# check how many scenarios there are\n",
    "len(scenario_model_args)"
   ]
  },
  {
   "cell_type": "code",
   "execution_count": 10,
   "metadata": {},
   "outputs": [
    {
     "name": "stderr",
     "output_type": "stream",
     "text": [
      "2022/11/29 10:52:45 INFO|============================================================\n",
      "2022/11/29 10:52:45 INFO|============================================================\n",
      "2022/11/29 10:52:45 INFO|============================================================\n",
      "2022/11/29 10:52:45 INFO|============================================================\n",
      "2022/11/29 10:52:50 INFO|-----------|{'emv_escape_weak': 0.6, 'emv_escape_strong': 0.15} Retrieving vaccinations data\n",
      "2022/11/29 10:52:50 INFO|-----------|{'emv_escape_weak': 0.7, 'emv_escape_strong': 0.25} Retrieving vaccinations data\n",
      "2022/11/29 10:52:50 INFO|-----------|{'emv_escape_weak': 0.65, 'emv_escape_strong': 0.2} Retrieving vaccinations data\n",
      "2022/11/29 10:52:50 INFO|-----------|{'emv_escape_weak': 0.55, 'emv_escape_strong': 0.1} Retrieving vaccinations data\n",
      "2022/11/29 10:52:51 INFO|-----------|{'emv_escape_weak': 0.7, 'emv_escape_strong': 0.25} Constructing vaccination projections\n",
      "2022/11/29 10:52:51 INFO|-----------|{'emv_escape_weak': 0.55, 'emv_escape_strong': 0.1} Constructing vaccination projections\n",
      "2022/11/29 10:52:51 INFO|-----------|{'emv_escape_weak': 0.65, 'emv_escape_strong': 0.2} Constructing vaccination projections\n",
      "2022/11/29 10:52:51 INFO|-----------|{'emv_escape_weak': 0.6, 'emv_escape_strong': 0.15} Constructing vaccination projections\n",
      "2022/11/29 10:52:53 INFO|-----------|{'emv_escape_weak': 0.65, 'emv_escape_strong': 0.2} Retrieving hospitalizations data\n",
      "2022/11/29 10:52:53 INFO|-----------|{'emv_escape_weak': 0.7, 'emv_escape_strong': 0.25} Retrieving hospitalizations data\n",
      "2022/11/29 10:52:53 INFO|-----------|{'emv_escape_weak': 0.55, 'emv_escape_strong': 0.1} Retrieving hospitalizations data\n",
      "2022/11/29 10:52:53 INFO|-----------|{'emv_escape_weak': 0.6, 'emv_escape_strong': 0.15} Retrieving hospitalizations data\n",
      "2022/11/29 10:52:55 INFO|--------|{'emv_escape_weak': 0.65, 'emv_escape_strong': 0.2} Prepping Model\n",
      "2022/11/29 10:52:55 INFO|--------|{'emv_escape_weak': 0.55, 'emv_escape_strong': 0.1} Prepping Model\n",
      "2022/11/29 10:52:55 INFO|---------|{'emv_escape_weak': 0.65, 'emv_escape_strong': 0.2} Prepping Model\n",
      "2022/11/29 10:52:55 INFO|---------|{'emv_escape_weak': 0.55, 'emv_escape_strong': 0.1} Prepping Model\n",
      "2022/11/29 10:52:55 INFO|--------|{'emv_escape_weak': 0.6, 'emv_escape_strong': 0.15} Prepping Model\n",
      "2022/11/29 10:52:55 INFO|---------|{'emv_escape_weak': 0.6, 'emv_escape_strong': 0.15} Prepping Model\n",
      "2022/11/29 10:52:55 INFO|--------|{'emv_escape_weak': 0.7, 'emv_escape_strong': 0.25} Prepping Model\n",
      "2022/11/29 10:52:55 INFO|---------|{'emv_escape_weak': 0.7, 'emv_escape_strong': 0.25} Prepping Model\n",
      "2022/11/29 10:54:30 INFO|--------|{'emv_escape_weak': 0.55, 'emv_escape_strong': 0.1} Model prepped for fitting in 94.791073375 seconds.\n",
      "2022/11/29 10:54:30 INFO|--------|{'emv_escape_weak': 0.55, 'emv_escape_strong': 0.1} Solving Model ODE\n",
      "2022/11/29 10:54:31 INFO|--------|{'emv_escape_weak': 0.7, 'emv_escape_strong': 0.25} Model prepped for fitting in 95.91240745799999 seconds.\n",
      "2022/11/29 10:54:31 INFO|--------|{'emv_escape_weak': 0.7, 'emv_escape_strong': 0.25} Solving Model ODE\n",
      "2022/11/29 10:54:31 INFO|--------|{'emv_escape_weak': 0.6, 'emv_escape_strong': 0.15} Model prepped for fitting in 96.083582542 seconds.\n",
      "2022/11/29 10:54:31 INFO|--------|{'emv_escape_weak': 0.6, 'emv_escape_strong': 0.15} Solving Model ODE\n",
      "2022/11/29 10:54:32 INFO|--------|{'emv_escape_weak': 0.65, 'emv_escape_strong': 0.2} Model prepped for fitting in 96.5078355 seconds.\n",
      "2022/11/29 10:54:32 INFO|--------|{'emv_escape_weak': 0.65, 'emv_escape_strong': 0.2} Solving Model ODE\n",
      "2022/11/29 10:54:35 INFO|--------|{'emv_escape_weak': 0.55, 'emv_escape_strong': 0.1} Model solved in 4.678865541999997 seconds.\n",
      "2022/11/29 10:54:35 INFO|--------|{'emv_escape_weak': 0.55, 'emv_escape_strong': 0.1} Will fit 7 times\n",
      "2022/11/29 10:54:36 INFO|--------|{'emv_escape_weak': 0.7, 'emv_escape_strong': 0.25} Model solved in 4.682187334000005 seconds.\n",
      "2022/11/29 10:54:36 INFO|--------|{'emv_escape_weak': 0.7, 'emv_escape_strong': 0.25} Will fit 7 times\n",
      "2022/11/29 10:54:36 INFO|--------|{'emv_escape_weak': 0.6, 'emv_escape_strong': 0.15} Model solved in 4.734246667000008 seconds.\n",
      "2022/11/29 10:54:36 INFO|--------|{'emv_escape_weak': 0.6, 'emv_escape_strong': 0.15} Will fit 7 times\n",
      "2022/11/29 10:54:36 INFO|--------|{'emv_escape_weak': 0.65, 'emv_escape_strong': 0.2} Model solved in 4.681087875000003 seconds.\n",
      "2022/11/29 10:54:36 INFO|--------|{'emv_escape_weak': 0.65, 'emv_escape_strong': 0.2} Will fit 7 times\n",
      "2022/11/29 10:54:52 INFO|--------|{'emv_escape_weak': 0.55, 'emv_escape_strong': 0.1, 'fit_batch': '0'}: Transmission control fit 1/7 completed in 17.632651750000008 seconds: {767: {'co': 0.7669778267562347}, 781: {'co': 0.8249667595413304}, 795: {'co': 0.8018347451965134}, 809: {'co': 0.8165681293807634}, 823: {'co': 0.8268911541012967}, 837: {'co': 0.8249427782502514}}\n",
      "2022/11/29 10:54:52 INFO|---------|{'emv_escape_weak': 0.55, 'emv_escape_strong': 0.1, 'fit_batch': '0'}: Running forward sim\n",
      "2022/11/29 10:54:53 INFO|--------|{'emv_escape_weak': 0.7, 'emv_escape_strong': 0.25, 'fit_batch': '0'}: Transmission control fit 1/7 completed in 17.663255333999984 seconds: {767: {'co': 0.7669778267562347}, 781: {'co': 0.8249667595413304}, 795: {'co': 0.8018347451965134}, 809: {'co': 0.8165681293807634}, 823: {'co': 0.8268911541012967}, 837: {'co': 0.8249427782502514}}\n",
      "2022/11/29 10:54:53 INFO|---------|{'emv_escape_weak': 0.7, 'emv_escape_strong': 0.25, 'fit_batch': '0'}: Running forward sim\n",
      "2022/11/29 10:54:54 INFO|--------|{'emv_escape_weak': 0.6, 'emv_escape_strong': 0.15, 'fit_batch': '0'}: Transmission control fit 1/7 completed in 17.784279417000008 seconds: {767: {'co': 0.7669778267562347}, 781: {'co': 0.8249667595413304}, 795: {'co': 0.8018347451965134}, 809: {'co': 0.8165681293807634}, 823: {'co': 0.8268911541012967}, 837: {'co': 0.8249427782502514}}\n",
      "2022/11/29 10:54:54 INFO|---------|{'emv_escape_weak': 0.6, 'emv_escape_strong': 0.15, 'fit_batch': '0'}: Running forward sim\n",
      "2022/11/29 10:54:54 INFO|--------|{'emv_escape_weak': 0.65, 'emv_escape_strong': 0.2, 'fit_batch': '0'}: Transmission control fit 1/7 completed in 17.640056750000014 seconds: {767: {'co': 0.7669778267562347}, 781: {'co': 0.8249667595413304}, 795: {'co': 0.8018347451965134}, 809: {'co': 0.8165681293807634}, 823: {'co': 0.8268911541012967}, 837: {'co': 0.8249427782502514}}\n",
      "2022/11/29 10:54:54 INFO|---------|{'emv_escape_weak': 0.65, 'emv_escape_strong': 0.2, 'fit_batch': '0'}: Running forward sim\n",
      "2022/11/29 10:55:11 INFO|--------|{'emv_escape_weak': 0.55, 'emv_escape_strong': 0.1, 'fit_batch': '1'}: Transmission control fit 2/7 completed in 16.540334833000003 seconds: {795: {'co': 0.8018264293455776}, 809: {'co': 0.817903554673981}, 823: {'co': 0.8239919844575564}, 837: {'co': 0.8318788596262312}, 851: {'co': 0.8244828546540987}, 865: {'co': 0.8523735547668023}}\n",
      "2022/11/29 10:55:11 INFO|---------|{'emv_escape_weak': 0.55, 'emv_escape_strong': 0.1, 'fit_batch': '1'}: Running forward sim\n",
      "2022/11/29 10:55:12 INFO|--------|{'emv_escape_weak': 0.7, 'emv_escape_strong': 0.25, 'fit_batch': '1'}: Transmission control fit 2/7 completed in 16.426417541999996 seconds: {795: {'co': 0.8018264293455776}, 809: {'co': 0.817903554673981}, 823: {'co': 0.8239919844575564}, 837: {'co': 0.8318788596262312}, 851: {'co': 0.8244828546540987}, 865: {'co': 0.8523735547668023}}\n",
      "2022/11/29 10:55:12 INFO|---------|{'emv_escape_weak': 0.7, 'emv_escape_strong': 0.25, 'fit_batch': '1'}: Running forward sim\n",
      "2022/11/29 10:55:12 INFO|--------|{'emv_escape_weak': 0.6, 'emv_escape_strong': 0.15, 'fit_batch': '1'}: Transmission control fit 2/7 completed in 16.665279083 seconds: {795: {'co': 0.8018264293455776}, 809: {'co': 0.817903554673981}, 823: {'co': 0.8239919844575564}, 837: {'co': 0.8318788596262312}, 851: {'co': 0.8244828546540987}, 865: {'co': 0.8523735547668023}}\n",
      "2022/11/29 10:55:12 INFO|---------|{'emv_escape_weak': 0.6, 'emv_escape_strong': 0.15, 'fit_batch': '1'}: Running forward sim\n",
      "2022/11/29 10:55:12 INFO|--------|{'emv_escape_weak': 0.65, 'emv_escape_strong': 0.2, 'fit_batch': '1'}: Transmission control fit 2/7 completed in 16.554549167000005 seconds: {795: {'co': 0.8018264293455776}, 809: {'co': 0.817903554673981}, 823: {'co': 0.8239919844575564}, 837: {'co': 0.8318788596262312}, 851: {'co': 0.8244828546540987}, 865: {'co': 0.8523735547668023}}\n",
      "2022/11/29 10:55:12 INFO|---------|{'emv_escape_weak': 0.65, 'emv_escape_strong': 0.2, 'fit_batch': '1'}: Running forward sim\n"
     ]
    },
    {
     "name": "stderr",
     "output_type": "stream",
     "text": [
      "2022/11/29 10:55:27 INFO|--------|{'emv_escape_weak': 0.55, 'emv_escape_strong': 0.1, 'fit_batch': '2'}: Transmission control fit 3/7 completed in 14.251944000000009 seconds: {823: {'co': 0.8239664275219851}, 837: {'co': 0.8321550069157996}, 851: {'co': 0.8240243192404079}, 865: {'co': 0.8547134605606402}, 879: {'co': 0.8411239586199682}, 893: {'co': 0.8401503661306772}}\n",
      "2022/11/29 10:55:27 INFO|---------|{'emv_escape_weak': 0.55, 'emv_escape_strong': 0.1, 'fit_batch': '2'}: Running forward sim\n",
      "2022/11/29 10:55:28 INFO|--------|{'emv_escape_weak': 0.7, 'emv_escape_strong': 0.25, 'fit_batch': '2'}: Transmission control fit 3/7 completed in 14.408288209000006 seconds: {823: {'co': 0.8239664275219851}, 837: {'co': 0.8321550069157996}, 851: {'co': 0.8240243192404079}, 865: {'co': 0.8547134605606402}, 879: {'co': 0.8411239586199682}, 893: {'co': 0.8401503661306772}}\n",
      "2022/11/29 10:55:28 INFO|---------|{'emv_escape_weak': 0.7, 'emv_escape_strong': 0.25, 'fit_batch': '2'}: Running forward sim\n",
      "2022/11/29 10:55:28 INFO|--------|{'emv_escape_weak': 0.6, 'emv_escape_strong': 0.15, 'fit_batch': '2'}: Transmission control fit 3/7 completed in 14.360650667000016 seconds: {823: {'co': 0.8239664275219851}, 837: {'co': 0.8321550069157996}, 851: {'co': 0.8240243192404079}, 865: {'co': 0.8547134605606402}, 879: {'co': 0.8411239586199682}, 893: {'co': 0.8401503661306772}}\n",
      "2022/11/29 10:55:28 INFO|---------|{'emv_escape_weak': 0.6, 'emv_escape_strong': 0.15, 'fit_batch': '2'}: Running forward sim\n",
      "2022/11/29 10:55:29 INFO|--------|{'emv_escape_weak': 0.65, 'emv_escape_strong': 0.2, 'fit_batch': '2'}: Transmission control fit 3/7 completed in 14.434372707999984 seconds: {823: {'co': 0.8239664275219851}, 837: {'co': 0.8321550069157996}, 851: {'co': 0.8240243192404079}, 865: {'co': 0.8547134605606402}, 879: {'co': 0.8411239586199682}, 893: {'co': 0.8401503661306772}}\n",
      "2022/11/29 10:55:29 INFO|---------|{'emv_escape_weak': 0.65, 'emv_escape_strong': 0.2, 'fit_batch': '2'}: Running forward sim\n",
      "2022/11/29 10:55:44 INFO|--------|{'emv_escape_weak': 0.55, 'emv_escape_strong': 0.1, 'fit_batch': '3'}: Transmission control fit 4/7 completed in 14.907550332999989 seconds: {851: {'co': 0.8242691498098519}, 865: {'co': 0.8542992323149661}, 879: {'co': 0.8422419508656724}, 893: {'co': 0.8364810924471588}, 907: {'co': 0.8404529676466769}, 921: {'co': 0.8322754930511078}}\n",
      "2022/11/29 10:55:44 INFO|---------|{'emv_escape_weak': 0.55, 'emv_escape_strong': 0.1, 'fit_batch': '3'}: Running forward sim\n",
      "2022/11/29 10:55:45 INFO|--------|{'emv_escape_weak': 0.7, 'emv_escape_strong': 0.25, 'fit_batch': '3'}: Transmission control fit 4/7 completed in 14.906176291999998 seconds: {851: {'co': 0.8242691498098519}, 865: {'co': 0.8542992323149661}, 879: {'co': 0.8422419508656724}, 893: {'co': 0.8364810924471588}, 907: {'co': 0.8404529676466769}, 921: {'co': 0.8322754930511078}}\n",
      "2022/11/29 10:55:45 INFO|---------|{'emv_escape_weak': 0.7, 'emv_escape_strong': 0.25, 'fit_batch': '3'}: Running forward sim\n",
      "2022/11/29 10:55:45 INFO|--------|{'emv_escape_weak': 0.6, 'emv_escape_strong': 0.15, 'fit_batch': '3'}: Transmission control fit 4/7 completed in 15.039940374999986 seconds: {851: {'co': 0.8242691498098519}, 865: {'co': 0.8542992323149661}, 879: {'co': 0.8422419508656724}, 893: {'co': 0.8364810924471588}, 907: {'co': 0.8404529676466769}, 921: {'co': 0.8322754930511078}}\n",
      "2022/11/29 10:55:45 INFO|---------|{'emv_escape_weak': 0.6, 'emv_escape_strong': 0.15, 'fit_batch': '3'}: Running forward sim\n",
      "2022/11/29 10:55:45 INFO|--------|{'emv_escape_weak': 0.65, 'emv_escape_strong': 0.2, 'fit_batch': '3'}: Transmission control fit 4/7 completed in 14.95274229200001 seconds: {851: {'co': 0.8242691498098519}, 865: {'co': 0.8542992323149661}, 879: {'co': 0.8422419508656724}, 893: {'co': 0.8364810924471588}, 907: {'co': 0.8404529676466769}, 921: {'co': 0.8322754930511078}}\n",
      "2022/11/29 10:55:45 INFO|---------|{'emv_escape_weak': 0.65, 'emv_escape_strong': 0.2, 'fit_batch': '3'}: Running forward sim\n",
      "2022/11/29 10:55:58 INFO|--------|{'emv_escape_weak': 0.55, 'emv_escape_strong': 0.1, 'fit_batch': '4'}: Transmission control fit 5/7 completed in 12.85552475 seconds: {879: {'co': 0.8423363812329939}, 893: {'co': 0.8371643676463417}, 907: {'co': 0.8385265135277106}, 921: {'co': 0.8403360452929404}, 935: {'co': 0.8152473296406476}, 949: {'co': 0.8300809592490055}}\n",
      "2022/11/29 10:55:58 INFO|---------|{'emv_escape_weak': 0.55, 'emv_escape_strong': 0.1, 'fit_batch': '4'}: Running forward sim\n",
      "2022/11/29 10:55:59 INFO|--------|{'emv_escape_weak': 0.7, 'emv_escape_strong': 0.25, 'fit_batch': '4'}: Transmission control fit 5/7 completed in 12.837857750000012 seconds: {879: {'co': 0.8423363812329939}, 893: {'co': 0.8371643676463417}, 907: {'co': 0.8385265135277106}, 921: {'co': 0.8403360452929404}, 935: {'co': 0.8152473296406476}, 949: {'co': 0.8300809592490055}}\n",
      "2022/11/29 10:55:59 INFO|---------|{'emv_escape_weak': 0.7, 'emv_escape_strong': 0.25, 'fit_batch': '4'}: Running forward sim\n",
      "2022/11/29 10:56:00 INFO|--------|{'emv_escape_weak': 0.6, 'emv_escape_strong': 0.15, 'fit_batch': '4'}: Transmission control fit 5/7 completed in 12.922333832999982 seconds: {879: {'co': 0.8423363812329939}, 893: {'co': 0.8371643676463417}, 907: {'co': 0.8385265135277106}, 921: {'co': 0.8403360452929404}, 935: {'co': 0.8152473296406476}, 949: {'co': 0.8300809592490055}}\n",
      "2022/11/29 10:56:00 INFO|---------|{'emv_escape_weak': 0.6, 'emv_escape_strong': 0.15, 'fit_batch': '4'}: Running forward sim\n",
      "2022/11/29 10:56:00 INFO|--------|{'emv_escape_weak': 0.65, 'emv_escape_strong': 0.2, 'fit_batch': '4'}: Transmission control fit 5/7 completed in 12.875277375000024 seconds: {879: {'co': 0.8423363812329939}, 893: {'co': 0.8371643676463417}, 907: {'co': 0.8385265135277106}, 921: {'co': 0.8403360452929404}, 935: {'co': 0.8152473296406476}, 949: {'co': 0.8300809592490055}}\n",
      "2022/11/29 10:56:00 INFO|---------|{'emv_escape_weak': 0.65, 'emv_escape_strong': 0.2, 'fit_batch': '4'}: Running forward sim\n",
      "2022/11/29 10:56:14 INFO|--------|{'emv_escape_weak': 0.55, 'emv_escape_strong': 0.1, 'fit_batch': '5'}: Transmission control fit 6/7 completed in 13.51853245800001 seconds: {907: {'co': 0.8385145051055094}, 921: {'co': 0.8404398995115105}, 935: {'co': 0.8148468696857614}, 949: {'co': 0.8306360615037703}, 963: {'co': 0.79976481709381}, 977: {'co': 0.8139088425246334}}\n",
      "2022/11/29 10:56:14 INFO|---------|{'emv_escape_weak': 0.55, 'emv_escape_strong': 0.1, 'fit_batch': '5'}: Running forward sim\n",
      "2022/11/29 10:56:16 INFO|--------|{'emv_escape_weak': 0.6, 'emv_escape_strong': 0.15, 'fit_batch': '5'}: Transmission control fit 6/7 completed in 13.638208542000001 seconds: {907: {'co': 0.8385146144109259}, 921: {'co': 0.8404395481496041}, 935: {'co': 0.8148481117546692}, 949: {'co': 0.8306318930285134}, 963: {'co': 0.7997992305832544}, 977: {'co': 0.8142878842164021}}\n",
      "2022/11/29 10:56:16 INFO|---------|{'emv_escape_weak': 0.6, 'emv_escape_strong': 0.15, 'fit_batch': '5'}: Running forward sim\n",
      "2022/11/29 10:56:16 INFO|--------|{'emv_escape_weak': 0.7, 'emv_escape_strong': 0.25, 'fit_batch': '5'}: Transmission control fit 6/7 completed in 14.426241333000007 seconds: {907: {'co': 0.8385148011433424}, 921: {'co': 0.8404399363562689}, 935: {'co': 0.8148472770245081}, 949: {'co': 0.8306321014937955}, 963: {'co': 0.7998929256602895}, 977: {'co': 0.8165348931702895}}\n",
      "2022/11/29 10:56:16 INFO|---------|{'emv_escape_weak': 0.7, 'emv_escape_strong': 0.25, 'fit_batch': '5'}: Running forward sim\n",
      "2022/11/29 10:56:16 INFO|--------|{'emv_escape_weak': 0.65, 'emv_escape_strong': 0.2, 'fit_batch': '5'}: Transmission control fit 6/7 completed in 13.955842958999995 seconds: {907: {'co': 0.8385146632356995}, 921: {'co': 0.8404397338798717}, 935: {'co': 0.8148476015785991}, 949: {'co': 0.8306338732591398}, 963: {'co': 0.7998031849282209}, 977: {'co': 0.8147686386756836}}\n",
      "2022/11/29 10:56:16 INFO|---------|{'emv_escape_weak': 0.65, 'emv_escape_strong': 0.2, 'fit_batch': '5'}: Running forward sim\n",
      "2022/11/29 10:56:30 INFO|--------|{'emv_escape_weak': 0.55, 'emv_escape_strong': 0.1, 'fit_batch': '6'}: Transmission control fit 7/7 completed in 14.385456167000001 seconds: {935: {'co': 0.8146885415059264}, 949: {'co': 0.8302714252449399}, 963: {'co': 0.8012682184893547}, 977: {'co': 0.808379506489448}, 991: {'co': 0.7784802922241173}, 1005: {'co': 0.7367912996960547}}\n",
      "2022/11/29 10:56:30 INFO|---------|{'emv_escape_weak': 0.55, 'emv_escape_strong': 0.1, 'fit_batch': '6'}: Running forward sim\n"
     ]
    },
    {
     "name": "stderr",
     "output_type": "stream",
     "text": [
      "2022/11/29 10:56:32 INFO|--------|{'emv_escape_weak': 0.55, 'emv_escape_strong': 0.1, 'fit_batch': '6', 'run_type': 'fit'}: fitted TC: {0: {'co': 0.8306366658720163}, 14: {'co': 0.6980316912349123}, 28: {'co': 0.5652424020304342}, 42: {'co': 1.3330768469017635e-15}, 56: {'co': 0.6966540012287066}, 70: {'co': 0.833272373646813}, 84: {'co': 0.8296250314773173}, 98: {'co': 0.8316923783619194}, 112: {'co': 0.8774897619157427}, 126: {'co': 0.8243043688946636}, 140: {'co': 0.7604527873068126}, 154: {'co': 0.6712880050343472}, 168: {'co': 0.8430551364533636}, 182: {'co': 0.7826363443701225}, 196: {'co': 0.8191511045988167}, 210: {'co': 0.7726071100936771}, 224: {'co': 0.7713215691002102}, 238: {'co': 0.7185439608917883}, 252: {'co': 0.7220971437474606}, 266: {'co': 0.6850776806042945}, 280: {'co': 0.7198394832902572}, 294: {'co': 0.7589434389490882}, 308: {'co': 0.8220715427596959}, 322: {'co': 0.8118499478067687}, 336: {'co': 0.7823110626134974}, 350: {'co': 0.7950192929570644}, 364: {'co': 0.8032174302298807}, 378: {'co': 0.7471548282341963}, 392: {'co': 0.778405704284652}, 406: {'co': 0.7137866164921245}, 420: {'co': 0.7170272220960152}, 434: {'co': 0.6898541873235512}, 448: {'co': 0.742904639634819}, 462: {'co': 0.815603823183748}, 476: {'co': 0.7964403298020992}, 490: {'co': 0.8344429662803099}, 504: {'co': 0.7926601423048474}, 518: {'co': 0.7862569223061651}, 532: {'co': 0.7654063291213087}, 546: {'co': 0.7193263688727473}, 560: {'co': 0.747378086440446}, 574: {'co': 0.7553354668720283}, 588: {'co': 0.7943893843222699}, 602: {'co': 0.7717849355445519}, 616: {'co': 0.7284325082092408}, 630: {'co': 0.7454123399619288}, 644: {'co': 0.7224395602719192}, 658: {'co': 0.762794549215826}, 672: {'co': 0.7746214178091196}, 686: {'co': 0.7991850900161525}, 700: {'co': 0.7598641819622096}, 714: {'co': 0.8002437494097707}, 728: {'co': 0.8058319683283743}, 742: {'co': 0.7997490223399435}, 767: {'co': 0.7669778267562347}, 781: {'co': 0.8249667595413304}, 795: {'co': 0.8018264293455776}, 809: {'co': 0.817903554673981}, 823: {'co': 0.8239664275219851}, 837: {'co': 0.8321550069157996}, 851: {'co': 0.8242691498098519}, 865: {'co': 0.8542992323149661}, 879: {'co': 0.8423363812329939}, 893: {'co': 0.8371643676463417}, 907: {'co': 0.8385145051055094}, 921: {'co': 0.8404398995115105}, 935: {'co': 0.8146885415059264}, 949: {'co': 0.8302714252449399}, 963: {'co': 0.8012682184893547}, 977: {'co': 0.808379506489448}, 991: {'co': 0.7784802922241173}, 1005: {'co': 0.7367913145972159}}\n",
      "2022/11/29 10:56:32 INFO|---------|{'emv_escape_weak': 0.55, 'emv_escape_strong': 0.1, 'fit_batch': '6', 'run_type': 'fit'}: Running forward sim\n",
      "2022/11/29 10:56:34 INFO|--------|{'emv_escape_weak': 0.6, 'emv_escape_strong': 0.15, 'fit_batch': '6'}: Transmission control fit 7/7 completed in 16.738332791999994 seconds: {935: {'co': 0.8165208232461234}, 949: {'co': 0.8310227492531592}, 963: {'co': 0.7969076144089902}, 977: {'co': 0.8223165844845706}, 991: {'co': 0.7565822483809008}, 1005: {'co': 0.7764945374932125}}\n",
      "2022/11/29 10:56:34 INFO|---------|{'emv_escape_weak': 0.6, 'emv_escape_strong': 0.15, 'fit_batch': '6'}: Running forward sim\n",
      "2022/11/29 10:56:36 INFO|--------|{'emv_escape_weak': 0.6, 'emv_escape_strong': 0.15, 'fit_batch': '6', 'run_type': 'fit'}: fitted TC: {0: {'co': 0.8306366658720163}, 14: {'co': 0.6980316912349123}, 28: {'co': 0.5652424020304342}, 42: {'co': 1.3330768469017635e-15}, 56: {'co': 0.6966540012287066}, 70: {'co': 0.833272373646813}, 84: {'co': 0.8296250314773173}, 98: {'co': 0.8316923783619194}, 112: {'co': 0.8774897619157427}, 126: {'co': 0.8243043688946636}, 140: {'co': 0.7604527873068126}, 154: {'co': 0.6712880050343472}, 168: {'co': 0.8430551364533636}, 182: {'co': 0.7826363443701225}, 196: {'co': 0.8191511045988167}, 210: {'co': 0.7726071100936771}, 224: {'co': 0.7713215691002102}, 238: {'co': 0.7185439608917883}, 252: {'co': 0.7220971437474606}, 266: {'co': 0.6850776806042945}, 280: {'co': 0.7198394832902572}, 294: {'co': 0.7589434389490882}, 308: {'co': 0.8220715427596959}, 322: {'co': 0.8118499478067687}, 336: {'co': 0.7823110626134974}, 350: {'co': 0.7950192929570644}, 364: {'co': 0.8032174302298807}, 378: {'co': 0.7471548282341963}, 392: {'co': 0.778405704284652}, 406: {'co': 0.7137866164921245}, 420: {'co': 0.7170272220960152}, 434: {'co': 0.6898541873235512}, 448: {'co': 0.742904639634819}, 462: {'co': 0.815603823183748}, 476: {'co': 0.7964403298020992}, 490: {'co': 0.8344429662803099}, 504: {'co': 0.7926601423048474}, 518: {'co': 0.7862569223061651}, 532: {'co': 0.7654063291213087}, 546: {'co': 0.7193263688727473}, 560: {'co': 0.747378086440446}, 574: {'co': 0.7553354668720283}, 588: {'co': 0.7943893843222699}, 602: {'co': 0.7717849355445519}, 616: {'co': 0.7284325082092408}, 630: {'co': 0.7454123399619288}, 644: {'co': 0.7224395602719192}, 658: {'co': 0.762794549215826}, 672: {'co': 0.7746214178091196}, 686: {'co': 0.7991850900161525}, 700: {'co': 0.7598641819622096}, 714: {'co': 0.8002437494097707}, 728: {'co': 0.8058319683283743}, 742: {'co': 0.7997490223399435}, 767: {'co': 0.7669778267562347}, 781: {'co': 0.8249667595413304}, 795: {'co': 0.8018264293455776}, 809: {'co': 0.817903554673981}, 823: {'co': 0.8239664275219851}, 837: {'co': 0.8321550069157996}, 851: {'co': 0.8242691498098519}, 865: {'co': 0.8542992323149661}, 879: {'co': 0.8423363812329939}, 893: {'co': 0.8371643676463417}, 907: {'co': 0.8385146144109259}, 921: {'co': 0.8404395481496041}, 935: {'co': 0.8165208232461234}, 949: {'co': 0.8310227492531592}, 963: {'co': 0.7969076144089902}, 977: {'co': 0.8223165844845706}, 991: {'co': 0.7565822483809008}, 1005: {'co': 0.7764945523943737}}\n",
      "2022/11/29 10:56:36 INFO|---------|{'emv_escape_weak': 0.6, 'emv_escape_strong': 0.15, 'fit_batch': '6', 'run_type': 'fit'}: Running forward sim\n",
      "2022/11/29 10:56:55 INFO|--------|{'emv_escape_weak': 0.7, 'emv_escape_strong': 0.25, 'fit_batch': '6'}: Transmission control fit 7/7 completed in 38.032929916 seconds: {935: {'co': 0.8126353662495648}, 949: {'co': 0.8339197632171876}, 963: {'co': 0.7980988003295311}, 977: {'co': 0.8187499386422652}, 991: {'co': 0.78350807854703}, 1005: {'co': 0.8621366842960478}}\n",
      "2022/11/29 10:56:55 INFO|---------|{'emv_escape_weak': 0.7, 'emv_escape_strong': 0.25, 'fit_batch': '6'}: Running forward sim\n",
      "2022/11/29 10:56:57 INFO|--------|{'emv_escape_weak': 0.7, 'emv_escape_strong': 0.25, 'fit_batch': '6', 'run_type': 'fit'}: fitted TC: {0: {'co': 0.8306366658720163}, 14: {'co': 0.6980316912349123}, 28: {'co': 0.5652424020304342}, 42: {'co': 1.3330768469017635e-15}, 56: {'co': 0.6966540012287066}, 70: {'co': 0.833272373646813}, 84: {'co': 0.8296250314773173}, 98: {'co': 0.8316923783619194}, 112: {'co': 0.8774897619157427}, 126: {'co': 0.8243043688946636}, 140: {'co': 0.7604527873068126}, 154: {'co': 0.6712880050343472}, 168: {'co': 0.8430551364533636}, 182: {'co': 0.7826363443701225}, 196: {'co': 0.8191511045988167}, 210: {'co': 0.7726071100936771}, 224: {'co': 0.7713215691002102}, 238: {'co': 0.7185439608917883}, 252: {'co': 0.7220971437474606}, 266: {'co': 0.6850776806042945}, 280: {'co': 0.7198394832902572}, 294: {'co': 0.7589434389490882}, 308: {'co': 0.8220715427596959}, 322: {'co': 0.8118499478067687}, 336: {'co': 0.7823110626134974}, 350: {'co': 0.7950192929570644}, 364: {'co': 0.8032174302298807}, 378: {'co': 0.7471548282341963}, 392: {'co': 0.778405704284652}, 406: {'co': 0.7137866164921245}, 420: {'co': 0.7170272220960152}, 434: {'co': 0.6898541873235512}, 448: {'co': 0.742904639634819}, 462: {'co': 0.815603823183748}, 476: {'co': 0.7964403298020992}, 490: {'co': 0.8344429662803099}, 504: {'co': 0.7926601423048474}, 518: {'co': 0.7862569223061651}, 532: {'co': 0.7654063291213087}, 546: {'co': 0.7193263688727473}, 560: {'co': 0.747378086440446}, 574: {'co': 0.7553354668720283}, 588: {'co': 0.7943893843222699}, 602: {'co': 0.7717849355445519}, 616: {'co': 0.7284325082092408}, 630: {'co': 0.7454123399619288}, 644: {'co': 0.7224395602719192}, 658: {'co': 0.762794549215826}, 672: {'co': 0.7746214178091196}, 686: {'co': 0.7991850900161525}, 700: {'co': 0.7598641819622096}, 714: {'co': 0.8002437494097707}, 728: {'co': 0.8058319683283743}, 742: {'co': 0.7997490223399435}, 767: {'co': 0.7669778267562347}, 781: {'co': 0.8249667595413304}, 795: {'co': 0.8018264293455776}, 809: {'co': 0.817903554673981}, 823: {'co': 0.8239664275219851}, 837: {'co': 0.8321550069157996}, 851: {'co': 0.8242691498098519}, 865: {'co': 0.8542992323149661}, 879: {'co': 0.8423363812329939}, 893: {'co': 0.8371643676463417}, 907: {'co': 0.8385148011433424}, 921: {'co': 0.8404399363562689}, 935: {'co': 0.8126353664369649}, 949: {'co': 0.8339197654627534}, 963: {'co': 0.798098796855425}, 977: {'co': 0.8187499327481593}, 991: {'co': 0.7835080745994067}, 1005: {'co': 0.862136684396873}}\n",
      "2022/11/29 10:56:57 INFO|---------|{'emv_escape_weak': 0.7, 'emv_escape_strong': 0.25, 'fit_batch': '6', 'run_type': 'fit'}: Running forward sim\n"
     ]
    },
    {
     "name": "stderr",
     "output_type": "stream",
     "text": [
      "2022/11/29 10:57:07 INFO|--------|{'emv_escape_weak': 0.65, 'emv_escape_strong': 0.2, 'fit_batch': '6'}: Transmission control fit 7/7 completed in 48.91170925 seconds: {935: {'co': 0.8135298715349436}, 949: {'co': 0.8341573330951328}, 963: {'co': 0.7968911893253188}, 977: {'co': 0.8239351014818451}, 991: {'co': 0.7517755499356452}, 1005: {'co': 0.828102510124322}}\n",
      "2022/11/29 10:57:07 INFO|---------|{'emv_escape_weak': 0.65, 'emv_escape_strong': 0.2, 'fit_batch': '6'}: Running forward sim\n",
      "2022/11/29 10:57:08 INFO|--------|{'emv_escape_weak': 0.65, 'emv_escape_strong': 0.2, 'fit_batch': '6', 'run_type': 'fit'}: fitted TC: {0: {'co': 0.8306366658720163}, 14: {'co': 0.6980316912349123}, 28: {'co': 0.5652424020304342}, 42: {'co': 1.3330768469017635e-15}, 56: {'co': 0.6966540012287066}, 70: {'co': 0.833272373646813}, 84: {'co': 0.8296250314773173}, 98: {'co': 0.8316923783619194}, 112: {'co': 0.8774897619157427}, 126: {'co': 0.8243043688946636}, 140: {'co': 0.7604527873068126}, 154: {'co': 0.6712880050343472}, 168: {'co': 0.8430551364533636}, 182: {'co': 0.7826363443701225}, 196: {'co': 0.8191511045988167}, 210: {'co': 0.7726071100936771}, 224: {'co': 0.7713215691002102}, 238: {'co': 0.7185439608917883}, 252: {'co': 0.7220971437474606}, 266: {'co': 0.6850776806042945}, 280: {'co': 0.7198394832902572}, 294: {'co': 0.7589434389490882}, 308: {'co': 0.8220715427596959}, 322: {'co': 0.8118499478067687}, 336: {'co': 0.7823110626134974}, 350: {'co': 0.7950192929570644}, 364: {'co': 0.8032174302298807}, 378: {'co': 0.7471548282341963}, 392: {'co': 0.778405704284652}, 406: {'co': 0.7137866164921245}, 420: {'co': 0.7170272220960152}, 434: {'co': 0.6898541873235512}, 448: {'co': 0.742904639634819}, 462: {'co': 0.815603823183748}, 476: {'co': 0.7964403298020992}, 490: {'co': 0.8344429662803099}, 504: {'co': 0.7926601423048474}, 518: {'co': 0.7862569223061651}, 532: {'co': 0.7654063291213087}, 546: {'co': 0.7193263688727473}, 560: {'co': 0.747378086440446}, 574: {'co': 0.7553354668720283}, 588: {'co': 0.7943893843222699}, 602: {'co': 0.7717849355445519}, 616: {'co': 0.7284325082092408}, 630: {'co': 0.7454123399619288}, 644: {'co': 0.7224395602719192}, 658: {'co': 0.762794549215826}, 672: {'co': 0.7746214178091196}, 686: {'co': 0.7991850900161525}, 700: {'co': 0.7598641819622096}, 714: {'co': 0.8002437494097707}, 728: {'co': 0.8058319683283743}, 742: {'co': 0.7997490223399435}, 767: {'co': 0.7669778267562347}, 781: {'co': 0.8249667595413304}, 795: {'co': 0.8018264293455776}, 809: {'co': 0.817903554673981}, 823: {'co': 0.8239664275219851}, 837: {'co': 0.8321550069157996}, 851: {'co': 0.8242691498098519}, 865: {'co': 0.8542992323149661}, 879: {'co': 0.8423363812329939}, 893: {'co': 0.8371643676463417}, 907: {'co': 0.8385146632356995}, 921: {'co': 0.8404397338798717}, 935: {'co': 0.8135298631484017}, 949: {'co': 0.8341573330952398}, 963: {'co': 0.7968911811101296}, 977: {'co': 0.8239351014816222}, 991: {'co': 0.7517755499355901}, 1005: {'co': 0.8281025101242782}}\n",
      "2022/11/29 10:57:08 INFO|---------|{'emv_escape_weak': 0.65, 'emv_escape_strong': 0.2, 'fit_batch': '6', 'run_type': 'fit'}: Running forward sim\n",
      "2022/11/29 10:57:42 INFO|-----------------------|spec_ids: 4487,4488,4489,4490\n"
     ]
    }
   ],
   "source": [
    "# run the scenarios\n",
    "models = do_fit_scenarios(base_model_args=model_args, scenario_args_list=scenario_model_args, fit_args=model_fit_args, multiprocess=multiprocess)"
   ]
  },
  {
   "cell_type": "markdown",
   "metadata": {
    "pycharm": {
     "name": "#%% md\n"
    }
   },
   "source": [
    "### Run the report for each fit model"
   ]
  },
  {
   "cell_type": "code",
   "execution_count": 11,
   "metadata": {
    "pycharm": {
     "name": "#%%\n"
    }
   },
   "outputs": [
    {
     "name": "stderr",
     "output_type": "stream",
     "text": [
      "2022/11/29 10:57:50 INFO|============================================================\n",
      "2022/11/29 10:57:50 INFO|--------|Solving model\n",
      "2022/11/29 10:57:51 INFO|============================================================\n",
      "2022/11/29 10:57:51 INFO|--------|Solving model\n",
      "2022/11/29 10:57:52 INFO|============================================================\n",
      "2022/11/29 10:57:52 INFO|--------|Solving model\n",
      "2022/11/29 10:57:53 INFO|============================================================\n",
      "2022/11/29 10:57:53 INFO|--------|Solving model\n",
      "2022/11/29 10:57:55 WARNING|No artists with labels found to put in legend.  Note that artists whose label start with an underscore are ignored when legend() is called with no argument.\n",
      "2022/11/29 10:57:55 WARNING|No artists with labels found to put in legend.  Note that artists whose label start with an underscore are ignored when legend() is called with no argument.\n",
      "2022/11/29 10:57:56 WARNING|No artists with labels found to put in legend.  Note that artists whose label start with an underscore are ignored when legend() is called with no argument.\n",
      "2022/11/29 10:57:57 WARNING|No artists with labels found to put in legend.  Note that artists whose label start with an underscore are ignored when legend() is called with no argument.\n"
     ]
    }
   ],
   "source": [
    "# here you can also specify which variants you want to calculate immunity for\n",
    "do_create_multiple_reports(models, multiprocess=multiprocess, outdir=outdir, prep_model=False, solve_model=True, immun_variants=['ba45', 'emv'], from_date='2022-01-01')"
   ]
  },
  {
   "cell_type": "code",
   "execution_count": 12,
   "metadata": {
    "pycharm": {
     "name": "#%%\n"
    }
   },
   "outputs": [
    {
     "name": "stderr",
     "output_type": "stream",
     "text": [
      "2022/11/29 11:00:10 INFO|Projecting\n",
      "2022/11/29 11:00:10 INFO|\n",
      "2022/11/29 11:00:33 INFO|{'emv_escape_weak': 0.6, 'emv_escape_strong': 0.15, 'fit_batch': '6', 'run_type': 'fit'}: Running forward sim\n",
      "2022/11/29 11:00:35 INFO|\n",
      "2022/11/29 11:00:59 INFO|{'emv_escape_weak': 0.65, 'emv_escape_strong': 0.2, 'fit_batch': '6', 'run_type': 'fit'}: Running forward sim\n",
      "2022/11/29 11:01:01 INFO|\n",
      "2022/11/29 11:01:24 INFO|{'emv_escape_weak': 0.7, 'emv_escape_strong': 0.25, 'fit_batch': '6', 'run_type': 'fit'}: Running forward sim\n",
      "2022/11/29 11:01:26 INFO|\n",
      "2022/11/29 11:01:50 INFO|{'emv_escape_weak': 0.55, 'emv_escape_strong': 0.1, 'fit_batch': '6', 'run_type': 'fit'}: Running forward sim\n",
      "2022/11/29 11:01:52 INFO|Running reports\n"
     ]
    }
   ],
   "source": [
    "logging.info('Projecting')\n",
    "for model in models:\n",
    "    logging.info('')\n",
    "    #model.prep()  # don't think we need to prep anymore.\n",
    "    model.solve_seir()\n",
    "\n",
    "    model.solution_sum_df(['seir', 'variant', 'immun']).unstack().to_csv(get_filepath_prefix(outdir, tags=model.tags) + 'states_seir_variant_immun_total_all_at_once_projection.csv')\n",
    "    model.solution_sum_df().unstack().to_csv(get_filepath_prefix(outdir, tags=model.tags) + 'states_full_projection.csv')\n",
    "\n",
    "    logging.info(f'{str(model.tags)}: Running forward sim')\n",
    "    fig = plt.figure(figsize=(10, 10), dpi=300)\n",
    "    ax = fig.add_subplot(211)\n",
    "    hosps_df = model.modeled_vs_observed_hosps().reset_index('region').drop(columns='region')\n",
    "    hosps_df.plot(ax=ax)\n",
    "    ax.set_xlim(dt.datetime.strptime('2022-01-01', \"%Y-%m-%d\").date(), dt.datetime.strptime('2024-01-01', \"%Y-%m-%d\").date())\n",
    "    ax = fig.add_subplot(212)\n",
    "    plot_transmission_control(model, ax=ax)\n",
    "    ax.set_xlim(dt.datetime.strptime('2022-01-01', \"%Y-%m-%d\").date(), dt.datetime.strptime('2024-01-01', \"%Y-%m-%d\").date())\n",
    "    plt.savefig(get_filepath_prefix(outdir, tags=model.tags) + 'model_forecast.png')\n",
    "    plt.close()\n",
    "    hosps_df.to_csv(get_filepath_prefix(outdir, tags=model.tags) + '_model_forecast.csv')\n",
    "    json.dump(model.tc, open(get_filepath_prefix(outdir, tags=model.tags) + 'model_forecast_tc.json', 'w'))\n",
    "\n",
    "logging.info('Running reports')"
   ]
  },
  {
   "cell_type": "code",
   "execution_count": null,
   "metadata": {},
   "outputs": [],
   "source": [
    "model.solution_ydf.to_csv('covid_model/output/20221109_scenario_projections.ipynb/state_model_solution_ydf.csv', index=False)"
   ]
  },
  {
   "cell_type": "code",
   "execution_count": null,
   "metadata": {},
   "outputs": [],
   "source": []
  }
 ],
 "metadata": {
  "kernelspec": {
   "display_name": "Python 3 (ipykernel)",
   "language": "python",
   "name": "python3"
  },
  "language_info": {
   "codemirror_mode": {
    "name": "ipython",
    "version": 3
   },
   "file_extension": ".py",
   "mimetype": "text/x-python",
   "name": "python",
   "nbconvert_exporter": "python",
   "pygments_lexer": "ipython3",
   "version": "3.9.13"
  }
 },
 "nbformat": 4,
 "nbformat_minor": 4
}
