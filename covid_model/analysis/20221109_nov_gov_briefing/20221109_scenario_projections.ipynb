{
 "cells": [
  {
   "cell_type": "markdown",
   "metadata": {
    "pycharm": {
     "name": "#%% md\n"
    }
   },
   "source": [
    "### Setup"
   ]
  },
  {
   "cell_type": "code",
   "execution_count": 1,
   "metadata": {
    "pycharm": {
     "name": "#%%\n"
    }
   },
   "outputs": [
    {
     "name": "stdout",
     "output_type": "stream",
     "text": [
      "/Users/emwu9912/PycharmProjects/covid-models\n"
     ]
    }
   ],
   "source": [
    "\"\"\" Python Standard Library \"\"\"\n",
    "import os\n",
    "import datetime as dt\n",
    "import json\n",
    "import logging\n",
    "\"\"\" Third Party Imports \"\"\"\n",
    "import numpy as np\n",
    "import pandas as pd\n",
    "from matplotlib import pyplot as plt\n",
    "%matplotlib inline\n",
    "import seaborn as sns\n",
    "\"\"\" Local Imports \"\"\"\n",
    "if 'requirements.txt' not in os.listdir(os.getcwd()):\n",
    "    os.chdir(os.path.join('..','..','..'))\n",
    "print(os.getcwd())\n",
    "from covid_model.model import CovidModel\n",
    "from covid_model.runnable_functions import do_single_fit, do_fit_scenarios, do_create_multiple_reports\n",
    "from covid_model.utils import setup, get_filepath_prefix\n",
    "from covid_model.analysis.charts import plot_transmission_control\n",
    "\n",
    "os.environ['gcp_project'] = 'co-covid-models'\n",
    "os.environ['GOOGLE_APPLICATION_CREDENTIALS'] = \"co-covid-models-credentials.json\""
   ]
  },
  {
   "cell_type": "code",
   "execution_count": 2,
   "metadata": {
    "pycharm": {
     "name": "#%%\n"
    },
    "scrolled": true
   },
   "outputs": [
    {
     "name": "stderr",
     "output_type": "stream",
     "text": [
      "2022/11/17 15:00:06 INFO|============================================================\n"
     ]
    }
   ],
   "source": [
    "# set up the output directory for this Jupyter notebook\n",
    "outdir = setup(\"20221118_scenario_projections.ipynb\")"
   ]
  },
  {
   "cell_type": "markdown",
   "metadata": {
    "pycharm": {
     "name": "#%% md\n"
    }
   },
   "source": [
    "### Fit an initial scenario through February 2022"
   ]
  },
  {
   "cell_type": "code",
   "execution_count": null,
   "metadata": {
    "pycharm": {
     "name": "#%%\n"
    }
   },
   "outputs": [],
   "source": [
    "# designate the arguments for how the model will behave\n",
    "model_args = {\n",
    "    'params_defs': 'covid_model/analysis/20221109_nov_gov_briefing/20221109_scenario_params.json',\n",
    "    'region_defs': 'covid_model/input/region_definitions.json',\n",
    "    'vacc_proj_params': 'covid_model/analysis/20221109_nov_gov_briefing/20221109_vacc_proj_params.json',\n",
    "    'start_date': '2020-01-24',\n",
    "    'end_date': '2024-01-01',\n",
    "}\n",
    "\n",
    "# this is how the fit will behave\n",
    "# place the outdir argument here to tell the model fit where to go\n",
    "fit_args = {'outdir': outdir,\n",
    "            'fit_end_date': '2022-02-28'\n",
    "}\n",
    "\n",
    "# because all the scenarios are the same \n",
    "model = do_single_fit(**fit_args, **model_args)"
   ]
  },
  {
   "cell_type": "markdown",
   "metadata": {
    "pycharm": {
     "name": "#%% md\n"
    }
   },
   "source": [
    "### Create and run scenarios from Feb 2022 to present"
   ]
  },
  {
   "cell_type": "code",
   "execution_count": 10,
   "metadata": {
    "pycharm": {
     "name": "#%%\n"
    }
   },
   "outputs": [],
   "source": [
    "multiprocess = 5\n",
    "\n",
    "scenario_params = json.load(open('covid_model/analysis/20221109_nov_gov_briefing/20221109_scenario_params.json'))\n",
    "\n",
    "model_args = {\n",
    "    'base_spec_id': 4386, # use the spec id that was output from the model fit\n",
    "}\n",
    "model_fit_args = {\n",
    "    'outdir': outdir,\n",
    "    'fit_start_date': '2022-03-01', # set the start date for the earliest point at which the scenarios start to differ from one another\n",
    "    'pre_solve_model': True # force the model to establish initial conditions so the fit can start on the fit start date\n",
    "}\n",
    "\n",
    "# define vaccine effectiveness for < 5 (this is a multiplier for the baseline vaccine effectiveness for 0-19)\n",
    "vacc_eff_lt5 = 0.5\n",
    "\n",
    "# Create different scenarios to model\n",
    "scenario_model_args = []\n",
    "for (weak_escape, strong_escape) in [(0.6, 0.15), (0.66, 0.165), (0.72, 0.18),\n",
    "                                     (0.54, 0.135), (0.48, 0.12)]:\n",
    "    emv_seed = [{\"param\": \"emv_seed\", \"attrs\": None, \"vals\": {\"2020-01-01\": 0, \"2022-09-15\": 10,\n",
    "                                                                       \"2022-10-30\": 0}}]\n",
    "    hrf = {\"2020-01-01\": 1, \"2022-03-01\": (0.66 + 0.34*0.8),\n",
    "           \"2022-03-15\": (0.34 + 0.66*0.8), \"2022-03-30\": 0.8}\n",
    "    weak_param = [{\"param\": \"immune_escape\",\n",
    "                   \"from_attrs\": {\"immun\": \"weak\",\n",
    "                                  \"variant\": [\"none\", \"wildtype\", \"alpha\", \"delta\",\n",
    "                                              \"omicron\", \"ba2\", \"ba2121\", \"ba45\"]},\n",
    "                   \"to_attrs\": {\"variant\": [\"emv\"]},\n",
    "                   \"vals\": {\"2020-01-01\": weak_escape},\n",
    "                   \"desc\": \"Scrabble variants immune escape value, weak immunity\"}]\n",
    "    strong_param = [{\"param\": \"immune_escape\",\n",
    "                   \"from_attrs\": {\"immun\": \"strong\",\n",
    "                                  \"variant\": [\"none\", \"wildtype\", \"alpha\", \"delta\",\n",
    "                                              \"omicron\", \"ba2\", \"ba2121\", \"ba45\"]},\n",
    "                   \"to_attrs\": {\"variant\": [\"emv\"]},\n",
    "                   \"vals\": {\"2020-01-01\": strong_escape},\n",
    "                   \"desc\": \"Scrabble variants immune escape value, strong immunity\"}]\n",
    "    lt5_vacc_adjust = [{\"param\": \"immunity\",\n",
    "                        \"attrs\": {'age': '0-19', 'vacc': 'shot1'},\n",
    "                        \"mults\": {\"2020-01-01\": 1,\n",
    "                                  \"2022-06-24\": 0.99 + 0.01*vacc_eff_lt5,\n",
    "                                  \"2022-06-30\": 0.98 + 0.02*vacc_eff_lt5,\n",
    "                                  \"2022-07-08\": 0.97 + 0.03*vacc_eff_lt5,\n",
    "                                  \"2022-07-19\": 0.96 + 0.04*vacc_eff_lt5,\n",
    "                                  \"2022-07-29\": 0.95 + 0.05*vacc_eff_lt5,\n",
    "                                  \"2022-08-11\": 0.94 + 0.06*vacc_eff_lt5,\n",
    "                                  \"2022-08-30\": 0.93 + 0.07*vacc_eff_lt5,\n",
    "                                  \"2022-09-26\": 0.92 + 0.08*vacc_eff_lt5,\n",
    "                                  \"2022-10-26\": 0.91 + 0.09*vacc_eff_lt5,},\n",
    "                        \"desc\": \"weighted average using share of 0-19 getting shot1 who are under 5\"}]\n",
    "    scenario_model_args.append({'params_defs': scenario_params + weak_param + strong_param + emv_seed + lt5_vacc_adjust,\n",
    "                                'hosp_reporting_frac': hrf,\n",
    "                                'tags': {'emv_escape_weak': weak_escape,\n",
    "                                        'emv_escape_strong': strong_escape}})\n",
    "            "
   ]
  },
  {
   "cell_type": "code",
   "execution_count": 11,
   "metadata": {},
   "outputs": [
    {
     "data": {
      "text/plain": [
       "5"
      ]
     },
     "execution_count": 11,
     "metadata": {},
     "output_type": "execute_result"
    }
   ],
   "source": [
    "# check how many scenarios there are\n",
    "len(scenario_model_args)"
   ]
  },
  {
   "cell_type": "code",
   "execution_count": 12,
   "metadata": {},
   "outputs": [
    {
     "name": "stderr",
     "output_type": "stream",
     "text": [
      "2022/11/17 15:23:22 INFO|============================================================\n",
      "2022/11/17 15:23:22 INFO|============================================================\n",
      "2022/11/17 15:23:22 INFO|============================================================\n",
      "2022/11/17 15:23:22 INFO|============================================================\n",
      "2022/11/17 15:23:22 INFO|============================================================\n",
      "2022/11/17 15:23:25 INFO|-----------|{'emv_escape_weak': 0.6, 'emv_escape_strong': 0.15} Retrieving vaccinations data\n",
      "2022/11/17 15:23:25 INFO|-----------|{'emv_escape_weak': 0.48, 'emv_escape_strong': 0.12} Retrieving vaccinations data\n",
      "2022/11/17 15:23:25 INFO|-----------|{'emv_escape_weak': 0.72, 'emv_escape_strong': 0.18} Retrieving vaccinations data\n",
      "2022/11/17 15:23:25 INFO|-----------|{'emv_escape_weak': 0.54, 'emv_escape_strong': 0.135} Retrieving vaccinations data\n",
      "2022/11/17 15:23:25 INFO|-----------|{'emv_escape_weak': 0.66, 'emv_escape_strong': 0.165} Retrieving vaccinations data\n",
      "2022/11/17 15:23:27 INFO|-----------|{'emv_escape_weak': 0.54, 'emv_escape_strong': 0.135} Constructing vaccination projections\n",
      "2022/11/17 15:23:27 INFO|-----------|{'emv_escape_weak': 0.48, 'emv_escape_strong': 0.12} Constructing vaccination projections\n",
      "2022/11/17 15:23:27 INFO|-----------|{'emv_escape_weak': 0.66, 'emv_escape_strong': 0.165} Constructing vaccination projections\n",
      "2022/11/17 15:23:27 INFO|-----------|{'emv_escape_weak': 0.6, 'emv_escape_strong': 0.15} Constructing vaccination projections\n",
      "2022/11/17 15:23:27 INFO|-----------|{'emv_escape_weak': 0.72, 'emv_escape_strong': 0.18} Constructing vaccination projections\n",
      "2022/11/17 15:23:29 INFO|-----------|{'emv_escape_weak': 0.66, 'emv_escape_strong': 0.165} Retrieving hospitalizations data\n",
      "2022/11/17 15:23:29 INFO|-----------|{'emv_escape_weak': 0.48, 'emv_escape_strong': 0.12} Retrieving hospitalizations data\n",
      "2022/11/17 15:23:29 INFO|-----------|{'emv_escape_weak': 0.54, 'emv_escape_strong': 0.135} Retrieving hospitalizations data\n",
      "2022/11/17 15:23:29 INFO|-----------|{'emv_escape_weak': 0.6, 'emv_escape_strong': 0.15} Retrieving hospitalizations data\n",
      "2022/11/17 15:23:29 INFO|-----------|{'emv_escape_weak': 0.72, 'emv_escape_strong': 0.18} Retrieving hospitalizations data\n",
      "2022/11/17 15:23:31 INFO|--------|{'emv_escape_weak': 0.72, 'emv_escape_strong': 0.18} Prepping Model\n",
      "2022/11/17 15:23:31 INFO|---------|{'emv_escape_weak': 0.72, 'emv_escape_strong': 0.18} Prepping Model\n",
      "2022/11/17 15:23:31 INFO|--------|{'emv_escape_weak': 0.66, 'emv_escape_strong': 0.165} Prepping Model\n",
      "2022/11/17 15:23:31 INFO|---------|{'emv_escape_weak': 0.66, 'emv_escape_strong': 0.165} Prepping Model\n",
      "2022/11/17 15:23:31 INFO|--------|{'emv_escape_weak': 0.6, 'emv_escape_strong': 0.15} Prepping Model\n",
      "2022/11/17 15:23:31 INFO|---------|{'emv_escape_weak': 0.6, 'emv_escape_strong': 0.15} Prepping Model\n",
      "2022/11/17 15:23:31 INFO|--------|{'emv_escape_weak': 0.48, 'emv_escape_strong': 0.12} Prepping Model\n",
      "2022/11/17 15:23:31 INFO|---------|{'emv_escape_weak': 0.48, 'emv_escape_strong': 0.12} Prepping Model\n",
      "2022/11/17 15:23:31 INFO|--------|{'emv_escape_weak': 0.54, 'emv_escape_strong': 0.135} Prepping Model\n",
      "2022/11/17 15:23:31 INFO|---------|{'emv_escape_weak': 0.54, 'emv_escape_strong': 0.135} Prepping Model\n",
      "2022/11/17 15:25:08 INFO|--------|{'emv_escape_weak': 0.6, 'emv_escape_strong': 0.15} Model prepped for fitting in 96.991054708 seconds.\n",
      "2022/11/17 15:25:08 INFO|--------|{'emv_escape_weak': 0.6, 'emv_escape_strong': 0.15} Solving Model ODE\n",
      "2022/11/17 15:25:08 INFO|--------|{'emv_escape_weak': 0.72, 'emv_escape_strong': 0.18} Model prepped for fitting in 97.44089491599999 seconds.\n",
      "2022/11/17 15:25:08 INFO|--------|{'emv_escape_weak': 0.72, 'emv_escape_strong': 0.18} Solving Model ODE\n",
      "2022/11/17 15:25:09 INFO|--------|{'emv_escape_weak': 0.54, 'emv_escape_strong': 0.135} Model prepped for fitting in 98.050191041 seconds.\n",
      "2022/11/17 15:25:09 INFO|--------|{'emv_escape_weak': 0.54, 'emv_escape_strong': 0.135} Solving Model ODE\n",
      "2022/11/17 15:25:09 INFO|--------|{'emv_escape_weak': 0.66, 'emv_escape_strong': 0.165} Model prepped for fitting in 98.20043208300001 seconds.\n",
      "2022/11/17 15:25:09 INFO|--------|{'emv_escape_weak': 0.66, 'emv_escape_strong': 0.165} Solving Model ODE\n",
      "2022/11/17 15:25:09 INFO|--------|{'emv_escape_weak': 0.48, 'emv_escape_strong': 0.12} Model prepped for fitting in 98.3907355 seconds.\n",
      "2022/11/17 15:25:09 INFO|--------|{'emv_escape_weak': 0.48, 'emv_escape_strong': 0.12} Solving Model ODE\n",
      "2022/11/17 15:25:12 INFO|--------|{'emv_escape_weak': 0.6, 'emv_escape_strong': 0.15} Model solved in 4.658969749999997 seconds.\n",
      "2022/11/17 15:25:12 INFO|--------|{'emv_escape_weak': 0.6, 'emv_escape_strong': 0.15} Will fit 7 times\n",
      "2022/11/17 15:25:13 INFO|--------|{'emv_escape_weak': 0.72, 'emv_escape_strong': 0.18} Model solved in 4.658123959000008 seconds.\n",
      "2022/11/17 15:25:13 INFO|--------|{'emv_escape_weak': 0.72, 'emv_escape_strong': 0.18} Will fit 7 times\n",
      "2022/11/17 15:25:13 INFO|--------|{'emv_escape_weak': 0.54, 'emv_escape_strong': 0.135} Model solved in 4.6276225419999975 seconds.\n",
      "2022/11/17 15:25:13 INFO|--------|{'emv_escape_weak': 0.54, 'emv_escape_strong': 0.135} Will fit 7 times\n",
      "2022/11/17 15:25:14 INFO|--------|{'emv_escape_weak': 0.66, 'emv_escape_strong': 0.165} Model solved in 4.5959566249999995 seconds.\n",
      "2022/11/17 15:25:14 INFO|--------|{'emv_escape_weak': 0.66, 'emv_escape_strong': 0.165} Will fit 7 times\n",
      "2022/11/17 15:25:14 INFO|--------|{'emv_escape_weak': 0.48, 'emv_escape_strong': 0.12} Model solved in 4.67192575 seconds.\n",
      "2022/11/17 15:25:14 INFO|--------|{'emv_escape_weak': 0.48, 'emv_escape_strong': 0.12} Will fit 7 times\n",
      "2022/11/17 15:25:28 INFO|--------|{'emv_escape_weak': 0.6, 'emv_escape_strong': 0.15, 'fit_batch': '0'}: Transmission control fit 1/7 completed in 15.420703875000001 seconds: {767: {'co': 0.7703428080734732}, 781: {'co': 0.822282064792806}, 795: {'co': 0.8125220992131603}, 809: {'co': 0.8293876013905518}, 823: {'co': 0.8392004199448414}, 837: {'co': 0.833461806856129}}\n",
      "2022/11/17 15:25:28 INFO|---------|{'emv_escape_weak': 0.6, 'emv_escape_strong': 0.15, 'fit_batch': '0'}: Running forward sim\n",
      "2022/11/17 15:25:28 INFO|--------|{'emv_escape_weak': 0.72, 'emv_escape_strong': 0.18, 'fit_batch': '0'}: Transmission control fit 1/7 completed in 15.521124041999997 seconds: {767: {'co': 0.7703428080734732}, 781: {'co': 0.822282064792806}, 795: {'co': 0.8125220992131603}, 809: {'co': 0.8293876013905518}, 823: {'co': 0.8392004199448414}, 837: {'co': 0.833461806856129}}\n",
      "2022/11/17 15:25:28 INFO|---------|{'emv_escape_weak': 0.72, 'emv_escape_strong': 0.18, 'fit_batch': '0'}: Running forward sim\n",
      "2022/11/17 15:25:29 INFO|--------|{'emv_escape_weak': 0.66, 'emv_escape_strong': 0.165, 'fit_batch': '0'}: Transmission control fit 1/7 completed in 15.370518625000017 seconds: {767: {'co': 0.7703428080734732}, 781: {'co': 0.822282064792806}, 795: {'co': 0.8125220992131603}, 809: {'co': 0.8293876013905518}, 823: {'co': 0.8392004199448414}, 837: {'co': 0.833461806856129}}\n",
      "2022/11/17 15:25:29 INFO|---------|{'emv_escape_weak': 0.66, 'emv_escape_strong': 0.165, 'fit_batch': '0'}: Running forward sim\n",
      "2022/11/17 15:25:29 INFO|--------|{'emv_escape_weak': 0.54, 'emv_escape_strong': 0.135, 'fit_batch': '0'}: Transmission control fit 1/7 completed in 15.538152917000005 seconds: {767: {'co': 0.7703428080734732}, 781: {'co': 0.822282064792806}, 795: {'co': 0.8125220992131603}, 809: {'co': 0.8293876013905518}, 823: {'co': 0.8392004199448414}, 837: {'co': 0.833461806856129}}\n",
      "2022/11/17 15:25:29 INFO|---------|{'emv_escape_weak': 0.54, 'emv_escape_strong': 0.135, 'fit_batch': '0'}: Running forward sim\n",
      "2022/11/17 15:25:29 INFO|--------|{'emv_escape_weak': 0.48, 'emv_escape_strong': 0.12, 'fit_batch': '0'}: Transmission control fit 1/7 completed in 15.503351375000008 seconds: {767: {'co': 0.7703428080734732}, 781: {'co': 0.822282064792806}, 795: {'co': 0.8125220992131603}, 809: {'co': 0.8293876013905518}, 823: {'co': 0.8392004199448414}, 837: {'co': 0.833461806856129}}\n",
      "2022/11/17 15:25:29 INFO|---------|{'emv_escape_weak': 0.48, 'emv_escape_strong': 0.12, 'fit_batch': '0'}: Running forward sim\n"
     ]
    },
    {
     "name": "stderr",
     "output_type": "stream",
     "text": [
      "2022/11/17 15:25:45 INFO|--------|{'emv_escape_weak': 0.6, 'emv_escape_strong': 0.15, 'fit_batch': '1'}: Transmission control fit 2/7 completed in 15.291243415999986 seconds: {795: {'co': 0.8121421746885041}, 809: {'co': 0.8306571755757243}, 823: {'co': 0.8365104710949993}, 837: {'co': 0.8398687683987986}, 851: {'co': 0.826853485154081}, 865: {'co': 0.8509032621694365}}\n",
      "2022/11/17 15:25:45 INFO|---------|{'emv_escape_weak': 0.6, 'emv_escape_strong': 0.15, 'fit_batch': '1'}: Running forward sim\n",
      "2022/11/17 15:25:46 INFO|--------|{'emv_escape_weak': 0.72, 'emv_escape_strong': 0.18, 'fit_batch': '1'}: Transmission control fit 2/7 completed in 15.631082875000004 seconds: {795: {'co': 0.8121421746885041}, 809: {'co': 0.8306571755757243}, 823: {'co': 0.8365104710949993}, 837: {'co': 0.8398687683987986}, 851: {'co': 0.826853485154081}, 865: {'co': 0.8509032621694365}}\n",
      "2022/11/17 15:25:46 INFO|---------|{'emv_escape_weak': 0.72, 'emv_escape_strong': 0.18, 'fit_batch': '1'}: Running forward sim\n",
      "2022/11/17 15:25:46 INFO|--------|{'emv_escape_weak': 0.66, 'emv_escape_strong': 0.165, 'fit_batch': '1'}: Transmission control fit 2/7 completed in 15.543855416000014 seconds: {795: {'co': 0.8121421746885041}, 809: {'co': 0.8306571755757243}, 823: {'co': 0.8365104710949993}, 837: {'co': 0.8398687683987986}, 851: {'co': 0.826853485154081}, 865: {'co': 0.8509032621694365}}\n",
      "2022/11/17 15:25:46 INFO|---------|{'emv_escape_weak': 0.66, 'emv_escape_strong': 0.165, 'fit_batch': '1'}: Running forward sim\n",
      "2022/11/17 15:25:46 INFO|--------|{'emv_escape_weak': 0.54, 'emv_escape_strong': 0.135, 'fit_batch': '1'}: Transmission control fit 2/7 completed in 15.724227499999984 seconds: {795: {'co': 0.8121421746885041}, 809: {'co': 0.8306571755757243}, 823: {'co': 0.8365104710949993}, 837: {'co': 0.8398687683987986}, 851: {'co': 0.826853485154081}, 865: {'co': 0.8509032621694365}}\n",
      "2022/11/17 15:25:46 INFO|---------|{'emv_escape_weak': 0.54, 'emv_escape_strong': 0.135, 'fit_batch': '1'}: Running forward sim\n",
      "2022/11/17 15:25:47 INFO|--------|{'emv_escape_weak': 0.48, 'emv_escape_strong': 0.12, 'fit_batch': '1'}: Transmission control fit 2/7 completed in 15.712267958000012 seconds: {795: {'co': 0.8121421746885041}, 809: {'co': 0.8306571755757243}, 823: {'co': 0.8365104710949993}, 837: {'co': 0.8398687683987986}, 851: {'co': 0.826853485154081}, 865: {'co': 0.8509032621694365}}\n",
      "2022/11/17 15:25:47 INFO|---------|{'emv_escape_weak': 0.48, 'emv_escape_strong': 0.12, 'fit_batch': '1'}: Running forward sim\n",
      "2022/11/17 15:26:02 INFO|--------|{'emv_escape_weak': 0.6, 'emv_escape_strong': 0.15, 'fit_batch': '2'}: Transmission control fit 3/7 completed in 14.781537000000014 seconds: {823: {'co': 0.8364238171426228}, 837: {'co': 0.840025236044057}, 851: {'co': 0.8262764168799348}, 865: {'co': 0.8529982943396321}, 879: {'co': 0.8375514951660196}, 893: {'co': 0.8368095456230181}}\n",
      "2022/11/17 15:26:02 INFO|---------|{'emv_escape_weak': 0.6, 'emv_escape_strong': 0.15, 'fit_batch': '2'}: Running forward sim\n",
      "2022/11/17 15:26:03 INFO|--------|{'emv_escape_weak': 0.72, 'emv_escape_strong': 0.18, 'fit_batch': '2'}: Transmission control fit 3/7 completed in 15.009557916000006 seconds: {823: {'co': 0.8364238171426228}, 837: {'co': 0.840025236044057}, 851: {'co': 0.8262764168799348}, 865: {'co': 0.8529982943396321}, 879: {'co': 0.8375514951660196}, 893: {'co': 0.8368095456230181}}\n",
      "2022/11/17 15:26:03 INFO|---------|{'emv_escape_weak': 0.72, 'emv_escape_strong': 0.18, 'fit_batch': '2'}: Running forward sim\n",
      "2022/11/17 15:26:03 INFO|--------|{'emv_escape_weak': 0.66, 'emv_escape_strong': 0.165, 'fit_batch': '2'}: Transmission control fit 3/7 completed in 14.870526874999996 seconds: {823: {'co': 0.8364238171426228}, 837: {'co': 0.840025236044057}, 851: {'co': 0.8262764168799348}, 865: {'co': 0.8529982943396321}, 879: {'co': 0.8375514951660196}, 893: {'co': 0.8368095456230181}}\n",
      "2022/11/17 15:26:03 INFO|---------|{'emv_escape_weak': 0.66, 'emv_escape_strong': 0.165, 'fit_batch': '2'}: Running forward sim\n",
      "2022/11/17 15:26:03 INFO|--------|{'emv_escape_weak': 0.54, 'emv_escape_strong': 0.135, 'fit_batch': '2'}: Transmission control fit 3/7 completed in 14.905264541999998 seconds: {823: {'co': 0.8364238171426228}, 837: {'co': 0.840025236044057}, 851: {'co': 0.8262764168799348}, 865: {'co': 0.8529982943396321}, 879: {'co': 0.8375514951660196}, 893: {'co': 0.8368095456230181}}\n",
      "2022/11/17 15:26:03 INFO|---------|{'emv_escape_weak': 0.54, 'emv_escape_strong': 0.135, 'fit_batch': '2'}: Running forward sim\n",
      "2022/11/17 15:26:04 INFO|--------|{'emv_escape_weak': 0.48, 'emv_escape_strong': 0.12, 'fit_batch': '2'}: Transmission control fit 3/7 completed in 14.980261583000015 seconds: {823: {'co': 0.8364238171426228}, 837: {'co': 0.840025236044057}, 851: {'co': 0.8262764168799348}, 865: {'co': 0.8529982943396321}, 879: {'co': 0.8375514951660196}, 893: {'co': 0.8368095456230181}}\n",
      "2022/11/17 15:26:04 INFO|---------|{'emv_escape_weak': 0.48, 'emv_escape_strong': 0.12, 'fit_batch': '2'}: Running forward sim\n",
      "2022/11/17 15:26:16 INFO|--------|{'emv_escape_weak': 0.6, 'emv_escape_strong': 0.15, 'fit_batch': '3'}: Transmission control fit 4/7 completed in 13.009025415999986 seconds: {851: {'co': 0.8266170567846576}, 865: {'co': 0.8525056502237329}, 879: {'co': 0.8387776065631617}, 893: {'co': 0.8329728222583301}, 907: {'co': 0.8382177232527784}, 921: {'co': 0.8311820090334002}}\n",
      "2022/11/17 15:26:16 INFO|---------|{'emv_escape_weak': 0.6, 'emv_escape_strong': 0.15, 'fit_batch': '3'}: Running forward sim\n",
      "2022/11/17 15:26:18 INFO|--------|{'emv_escape_weak': 0.72, 'emv_escape_strong': 0.18, 'fit_batch': '3'}: Transmission control fit 4/7 completed in 13.113739334000002 seconds: {851: {'co': 0.8266170567846576}, 865: {'co': 0.8525056502237329}, 879: {'co': 0.8387776065631617}, 893: {'co': 0.8329728222583301}, 907: {'co': 0.8382177232527784}, 921: {'co': 0.8311820090334002}}\n",
      "2022/11/17 15:26:18 INFO|---------|{'emv_escape_weak': 0.72, 'emv_escape_strong': 0.18, 'fit_batch': '3'}: Running forward sim\n",
      "2022/11/17 15:26:18 INFO|--------|{'emv_escape_weak': 0.66, 'emv_escape_strong': 0.165, 'fit_batch': '3'}: Transmission control fit 4/7 completed in 13.084812499999998 seconds: {851: {'co': 0.8266170567846576}, 865: {'co': 0.8525056502237329}, 879: {'co': 0.8387776065631617}, 893: {'co': 0.8329728222583301}, 907: {'co': 0.8382177232527784}, 921: {'co': 0.8311820090334002}}\n",
      "2022/11/17 15:26:18 INFO|---------|{'emv_escape_weak': 0.66, 'emv_escape_strong': 0.165, 'fit_batch': '3'}: Running forward sim\n",
      "2022/11/17 15:26:18 INFO|--------|{'emv_escape_weak': 0.54, 'emv_escape_strong': 0.135, 'fit_batch': '3'}: Transmission control fit 4/7 completed in 13.150200041999994 seconds: {851: {'co': 0.8266170567846576}, 865: {'co': 0.8525056502237329}, 879: {'co': 0.8387776065631617}, 893: {'co': 0.8329728222583301}, 907: {'co': 0.8382177232527784}, 921: {'co': 0.8311820090334002}}\n",
      "2022/11/17 15:26:18 INFO|---------|{'emv_escape_weak': 0.54, 'emv_escape_strong': 0.135, 'fit_batch': '3'}: Running forward sim\n",
      "2022/11/17 15:26:19 INFO|--------|{'emv_escape_weak': 0.48, 'emv_escape_strong': 0.12, 'fit_batch': '3'}: Transmission control fit 4/7 completed in 13.181739291000014 seconds: {851: {'co': 0.8266170567846576}, 865: {'co': 0.8525056502237329}, 879: {'co': 0.8387776065631617}, 893: {'co': 0.8329728222583301}, 907: {'co': 0.8382177232527784}, 921: {'co': 0.8311820090334002}}\n",
      "2022/11/17 15:26:19 INFO|---------|{'emv_escape_weak': 0.48, 'emv_escape_strong': 0.12, 'fit_batch': '3'}: Running forward sim\n",
      "2022/11/17 15:26:31 INFO|--------|{'emv_escape_weak': 0.6, 'emv_escape_strong': 0.15, 'fit_batch': '4'}: Transmission control fit 5/7 completed in 12.989219708999997 seconds: {879: {'co': 0.8389511485832544}, 893: {'co': 0.8336263597956938}, 907: {'co': 0.8361920361828573}, 921: {'co': 0.8393465731914771}, 935: {'co': 0.8154959008837471}, 949: {'co': 0.8312433074420906}}\n",
      "2022/11/17 15:26:31 INFO|---------|{'emv_escape_weak': 0.6, 'emv_escape_strong': 0.15, 'fit_batch': '4'}: Running forward sim\n",
      "2022/11/17 15:26:33 INFO|--------|{'emv_escape_weak': 0.66, 'emv_escape_strong': 0.165, 'fit_batch': '4'}: Transmission control fit 5/7 completed in 12.813077833999984 seconds: {879: {'co': 0.8389511485832544}, 893: {'co': 0.8336263597956938}, 907: {'co': 0.8361920361828573}, 921: {'co': 0.8393465731914771}, 935: {'co': 0.8154959008837471}, 949: {'co': 0.8312433074420906}}\n",
      "2022/11/17 15:26:33 INFO|---------|{'emv_escape_weak': 0.66, 'emv_escape_strong': 0.165, 'fit_batch': '4'}: Running forward sim\n",
      "2022/11/17 15:26:33 INFO|--------|{'emv_escape_weak': 0.72, 'emv_escape_strong': 0.18, 'fit_batch': '4'}: Transmission control fit 5/7 completed in 13.178669333999977 seconds: {879: {'co': 0.8389511485832544}, 893: {'co': 0.8336263597956938}, 907: {'co': 0.8361920361828573}, 921: {'co': 0.8393465731914771}, 935: {'co': 0.8154959008837471}, 949: {'co': 0.8312433074420906}}\n",
      "2022/11/17 15:26:33 INFO|---------|{'emv_escape_weak': 0.72, 'emv_escape_strong': 0.18, 'fit_batch': '4'}: Running forward sim\n"
     ]
    },
    {
     "name": "stderr",
     "output_type": "stream",
     "text": [
      "2022/11/17 15:26:33 INFO|--------|{'emv_escape_weak': 0.54, 'emv_escape_strong': 0.135, 'fit_batch': '4'}: Transmission control fit 5/7 completed in 13.135833125000005 seconds: {879: {'co': 0.8389511485832544}, 893: {'co': 0.8336263597956938}, 907: {'co': 0.8361920361828573}, 921: {'co': 0.8393465731914771}, 935: {'co': 0.8154959008837471}, 949: {'co': 0.8312433074420906}}\n",
      "2022/11/17 15:26:33 INFO|---------|{'emv_escape_weak': 0.54, 'emv_escape_strong': 0.135, 'fit_batch': '4'}: Running forward sim\n",
      "2022/11/17 15:26:34 INFO|--------|{'emv_escape_weak': 0.48, 'emv_escape_strong': 0.12, 'fit_batch': '4'}: Transmission control fit 5/7 completed in 13.193673749999988 seconds: {879: {'co': 0.8389511485832544}, 893: {'co': 0.8336263597956938}, 907: {'co': 0.8361920361828573}, 921: {'co': 0.8393465731914771}, 935: {'co': 0.8154959008837471}, 949: {'co': 0.8312433074420906}}\n",
      "2022/11/17 15:26:34 INFO|---------|{'emv_escape_weak': 0.48, 'emv_escape_strong': 0.12, 'fit_batch': '4'}: Running forward sim\n",
      "2022/11/17 15:26:47 INFO|--------|{'emv_escape_weak': 0.6, 'emv_escape_strong': 0.15, 'fit_batch': '5'}: Transmission control fit 6/7 completed in 13.552953040999995 seconds: {907: {'co': 0.8361820420693676}, 921: {'co': 0.8394506307259308}, 935: {'co': 0.8150964555002069}, 949: {'co': 0.8317995288548143}, 963: {'co': 0.8019330361828824}, 977: {'co': 0.8167328199146544}}\n",
      "2022/11/17 15:26:47 INFO|---------|{'emv_escape_weak': 0.6, 'emv_escape_strong': 0.15, 'fit_batch': '5'}: Running forward sim\n",
      "2022/11/17 15:26:48 INFO|--------|{'emv_escape_weak': 0.66, 'emv_escape_strong': 0.165, 'fit_batch': '5'}: Transmission control fit 6/7 completed in 13.752074542000003 seconds: {907: {'co': 0.83618206628899}, 921: {'co': 0.8394506386192133}, 935: {'co': 0.8150964614620471}, 949: {'co': 0.8317996764977523}, 963: {'co': 0.8019370717503095}, 977: {'co': 0.8169100745664494}}\n",
      "2022/11/17 15:26:48 INFO|---------|{'emv_escape_weak': 0.66, 'emv_escape_strong': 0.165, 'fit_batch': '5'}: Running forward sim\n",
      "2022/11/17 15:26:49 INFO|--------|{'emv_escape_weak': 0.72, 'emv_escape_strong': 0.18, 'fit_batch': '5'}: Transmission control fit 6/7 completed in 14.139874583000022 seconds: {907: {'co': 0.8361820781654493}, 921: {'co': 0.8394507791733314}, 935: {'co': 0.8150960481098737}, 949: {'co': 0.8318011086173701}, 963: {'co': 0.8019381621385206}, 977: {'co': 0.8171732495293461}}\n",
      "2022/11/17 15:26:49 INFO|---------|{'emv_escape_weak': 0.72, 'emv_escape_strong': 0.18, 'fit_batch': '5'}: Running forward sim\n",
      "2022/11/17 15:26:49 INFO|--------|{'emv_escape_weak': 0.54, 'emv_escape_strong': 0.135, 'fit_batch': '5'}: Transmission control fit 6/7 completed in 13.780936999999994 seconds: {907: {'co': 0.8361820113794268}, 921: {'co': 0.8394507021764019}, 935: {'co': 0.8150962006398451}, 949: {'co': 0.8318001259404655}, 963: {'co': 0.8019278584895221}, 977: {'co': 0.8166234736128717}}\n",
      "2022/11/17 15:26:49 INFO|---------|{'emv_escape_weak': 0.54, 'emv_escape_strong': 0.135, 'fit_batch': '5'}: Running forward sim\n",
      "2022/11/17 15:26:51 INFO|--------|{'emv_escape_weak': 0.48, 'emv_escape_strong': 0.12, 'fit_batch': '5'}: Transmission control fit 6/7 completed in 15.798456291999997 seconds: {907: {'co': 0.8361819303207828}, 921: {'co': 0.8394510303437804}, 935: {'co': 0.8150950708471749}, 949: {'co': 0.8318041378882293}, 963: {'co': 0.8018975043224166}, 977: {'co': 0.8163782170775896}}\n",
      "2022/11/17 15:26:51 INFO|---------|{'emv_escape_weak': 0.48, 'emv_escape_strong': 0.12, 'fit_batch': '5'}: Running forward sim\n",
      "2022/11/17 15:27:02 INFO|--------|{'emv_escape_weak': 0.6, 'emv_escape_strong': 0.15, 'fit_batch': '6'}: Transmission control fit 7/7 completed in 12.872509209000015 seconds: {935: {'co': 0.8153574119834884}, 949: {'co': 0.8316461559278933}, 963: {'co': 0.802111292435738}, 977: {'co': 0.8147258459542063}, 991: {'co': 0.7772017990362641}, 1005: {'co': 0.7597995900475707}}\n",
      "2022/11/17 15:27:02 INFO|---------|{'emv_escape_weak': 0.6, 'emv_escape_strong': 0.15, 'fit_batch': '6'}: Running forward sim\n",
      "2022/11/17 15:27:03 INFO|--------|{'emv_escape_weak': 0.6, 'emv_escape_strong': 0.15, 'fit_batch': '6', 'run_type': 'fit'}: fitted TC: {0: {'co': 0.8306366815589404}, 14: {'co': 0.6981743540911125}, 28: {'co': 0.5650699126380538}, 42: {'co': 1.2613785476244924e-15}, 56: {'co': 0.6966530538855653}, 70: {'co': 0.8332726485652999}, 84: {'co': 0.8296248772646011}, 98: {'co': 0.8316924798351031}, 112: {'co': 0.8774896960445533}, 126: {'co': 0.8243044228361942}, 140: {'co': 0.7604527625947122}, 154: {'co': 0.671288017772332}, 168: {'co': 0.843055135293664}, 182: {'co': 0.7826363484044665}, 196: {'co': 0.8191511060028511}, 210: {'co': 0.7726071129497626}, 224: {'co': 0.7713215715743026}, 238: {'co': 0.718543964340705}, 252: {'co': 0.722097146662614}, 266: {'co': 0.6850776838461609}, 280: {'co': 0.7198394872192173}, 294: {'co': 0.7589434396271403}, 308: {'co': 0.8220715495341357}, 322: {'co': 0.8118499589368375}, 336: {'co': 0.7823102311026947}, 350: {'co': 0.7950241455590741}, 364: {'co': 0.8032109627714479}, 378: {'co': 0.7471484152199204}, 392: {'co': 0.778409193486192}, 406: {'co': 0.7137072188117203}, 420: {'co': 0.7169141142397047}, 434: {'co': 0.6897554006294382}, 448: {'co': 0.7428188121489103}, 462: {'co': 0.8155613569761444}, 476: {'co': 0.7964049741750481}, 490: {'co': 0.8344111196650391}, 504: {'co': 0.7926162886343049}, 518: {'co': 0.786203482523872}, 532: {'co': 0.76534316964812}, 546: {'co': 0.7192434844758303}, 560: {'co': 0.7473209288508577}, 574: {'co': 0.7551730083148972}, 588: {'co': 0.7945071164204615}, 602: {'co': 0.771205359510775}, 616: {'co': 0.7276520893961718}, 630: {'co': 0.7449631751092025}, 644: {'co': 0.7216748856422759}, 658: {'co': 0.7623967104535199}, 672: {'co': 0.7742165974613502}, 686: {'co': 0.7990240405102492}, 700: {'co': 0.7598354399090496}, 714: {'co': 0.8000721244407848}, 728: {'co': 0.8054245170103482}, 742: {'co': 0.798513384143968}, 767: {'co': 0.7703428080734732}, 781: {'co': 0.822282064792806}, 795: {'co': 0.8121421746885041}, 809: {'co': 0.8306571755757243}, 823: {'co': 0.8364238171426228}, 837: {'co': 0.840025236044057}, 851: {'co': 0.8266170567846576}, 865: {'co': 0.8525056502237329}, 879: {'co': 0.8389511485832544}, 893: {'co': 0.8336263597956938}, 907: {'co': 0.8361820420693676}, 921: {'co': 0.8394506307259308}, 935: {'co': 0.8153574119834884}, 949: {'co': 0.8316461559278933}, 963: {'co': 0.802111292435738}, 977: {'co': 0.8147258459542063}, 991: {'co': 0.7772017990362641}, 1005: {'co': 0.7597996049487319}}\n",
      "2022/11/17 15:27:03 INFO|---------|{'emv_escape_weak': 0.6, 'emv_escape_strong': 0.15, 'fit_batch': '6', 'run_type': 'fit'}: Running forward sim\n",
      "2022/11/17 15:27:04 INFO|--------|{'emv_escape_weak': 0.54, 'emv_escape_strong': 0.135, 'fit_batch': '6'}: Transmission control fit 7/7 completed in 12.982241708000004 seconds: {935: {'co': 0.8151920367672432}, 949: {'co': 0.8315422815831632}, 963: {'co': 0.8027275096107657}, 977: {'co': 0.8127992521000987}, 991: {'co': 0.7793034570560741}, 1005: {'co': 0.7465114465453574}}\n",
      "2022/11/17 15:27:04 INFO|---------|{'emv_escape_weak': 0.54, 'emv_escape_strong': 0.135, 'fit_batch': '6'}: Running forward sim\n",
      "2022/11/17 15:27:05 INFO|--------|{'emv_escape_weak': 0.66, 'emv_escape_strong': 0.165, 'fit_batch': '6'}: Transmission control fit 7/7 completed in 15.083708374999986 seconds: {935: {'co': 0.815475774246485}, 949: {'co': 0.8318432314784024}, 963: {'co': 0.8014141174512961}, 977: {'co': 0.8171978672099545}, 991: {'co': 0.7748072197928855}, 1005: {'co': 0.7810441107509756}}\n",
      "2022/11/17 15:27:05 INFO|---------|{'emv_escape_weak': 0.66, 'emv_escape_strong': 0.165, 'fit_batch': '6'}: Running forward sim\n",
      "2022/11/17 15:27:05 INFO|--------|{'emv_escape_weak': 0.54, 'emv_escape_strong': 0.135, 'fit_batch': '6', 'run_type': 'fit'}: fitted TC: {0: {'co': 0.8306366815589404}, 14: {'co': 0.6981743540911125}, 28: {'co': 0.5650699126380538}, 42: {'co': 1.2613785476244924e-15}, 56: {'co': 0.6966530538855653}, 70: {'co': 0.8332726485652999}, 84: {'co': 0.8296248772646011}, 98: {'co': 0.8316924798351031}, 112: {'co': 0.8774896960445533}, 126: {'co': 0.8243044228361942}, 140: {'co': 0.7604527625947122}, 154: {'co': 0.671288017772332}, 168: {'co': 0.843055135293664}, 182: {'co': 0.7826363484044665}, 196: {'co': 0.8191511060028511}, 210: {'co': 0.7726071129497626}, 224: {'co': 0.7713215715743026}, 238: {'co': 0.718543964340705}, 252: {'co': 0.722097146662614}, 266: {'co': 0.6850776838461609}, 280: {'co': 0.7198394872192173}, 294: {'co': 0.7589434396271403}, 308: {'co': 0.8220715495341357}, 322: {'co': 0.8118499589368375}, 336: {'co': 0.7823102311026947}, 350: {'co': 0.7950241455590741}, 364: {'co': 0.8032109627714479}, 378: {'co': 0.7471484152199204}, 392: {'co': 0.778409193486192}, 406: {'co': 0.7137072188117203}, 420: {'co': 0.7169141142397047}, 434: {'co': 0.6897554006294382}, 448: {'co': 0.7428188121489103}, 462: {'co': 0.8155613569761444}, 476: {'co': 0.7964049741750481}, 490: {'co': 0.8344111196650391}, 504: {'co': 0.7926162886343049}, 518: {'co': 0.786203482523872}, 532: {'co': 0.76534316964812}, 546: {'co': 0.7192434844758303}, 560: {'co': 0.7473209288508577}, 574: {'co': 0.7551730083148972}, 588: {'co': 0.7945071164204615}, 602: {'co': 0.771205359510775}, 616: {'co': 0.7276520893961718}, 630: {'co': 0.7449631751092025}, 644: {'co': 0.7216748856422759}, 658: {'co': 0.7623967104535199}, 672: {'co': 0.7742165974613502}, 686: {'co': 0.7990240405102492}, 700: {'co': 0.7598354399090496}, 714: {'co': 0.8000721244407848}, 728: {'co': 0.8054245170103482}, 742: {'co': 0.798513384143968}, 767: {'co': 0.7703428080734732}, 781: {'co': 0.822282064792806}, 795: {'co': 0.8121421746885041}, 809: {'co': 0.8306571755757243}, 823: {'co': 0.8364238171426228}, 837: {'co': 0.840025236044057}, 851: {'co': 0.8266170567846576}, 865: {'co': 0.8525056502237329}, 879: {'co': 0.8389511485832544}, 893: {'co': 0.8336263597956938}, 907: {'co': 0.8361820113794268}, 921: {'co': 0.8394507021764019}, 935: {'co': 0.8151920367672432}, 949: {'co': 0.8315422815831632}, 963: {'co': 0.8027275096107657}, 977: {'co': 0.8127992521000987}, 991: {'co': 0.7793034570560741}, 1005: {'co': 0.7465114614465186}}\n",
      "2022/11/17 15:27:05 INFO|---------|{'emv_escape_weak': 0.54, 'emv_escape_strong': 0.135, 'fit_batch': '6', 'run_type': 'fit'}: Running forward sim\n"
     ]
    },
    {
     "name": "stderr",
     "output_type": "stream",
     "text": [
      "2022/11/17 15:27:06 INFO|--------|{'emv_escape_weak': 0.72, 'emv_escape_strong': 0.18, 'fit_batch': '6'}: Transmission control fit 7/7 completed in 15.325036249999982 seconds: {935: {'co': 0.8152013773459715}, 949: {'co': 0.8322615986067066}, 963: {'co': 0.8011137501244704}, 977: {'co': 0.8185382646889103}, 991: {'co': 0.7756889028378703}, 1005: {'co': 0.8059063691902103}}\n",
      "2022/11/17 15:27:06 INFO|---------|{'emv_escape_weak': 0.72, 'emv_escape_strong': 0.18, 'fit_batch': '6'}: Running forward sim\n",
      "2022/11/17 15:27:06 INFO|--------|{'emv_escape_weak': 0.48, 'emv_escape_strong': 0.12, 'fit_batch': '6'}: Transmission control fit 7/7 completed in 13.088201124999983 seconds: {935: {'co': 0.8151297825781736}, 949: {'co': 0.8314885919035341}, 963: {'co': 0.8029849263734442}, 977: {'co': 0.8118647104569519}, 991: {'co': 0.7804172231904645}, 1005: {'co': 0.7404154383132662}}\n",
      "2022/11/17 15:27:06 INFO|---------|{'emv_escape_weak': 0.48, 'emv_escape_strong': 0.12, 'fit_batch': '6'}: Running forward sim\n",
      "2022/11/17 15:27:07 INFO|--------|{'emv_escape_weak': 0.66, 'emv_escape_strong': 0.165, 'fit_batch': '6', 'run_type': 'fit'}: fitted TC: {0: {'co': 0.8306366815589404}, 14: {'co': 0.6981743540911125}, 28: {'co': 0.5650699126380538}, 42: {'co': 1.2613785476244924e-15}, 56: {'co': 0.6966530538855653}, 70: {'co': 0.8332726485652999}, 84: {'co': 0.8296248772646011}, 98: {'co': 0.8316924798351031}, 112: {'co': 0.8774896960445533}, 126: {'co': 0.8243044228361942}, 140: {'co': 0.7604527625947122}, 154: {'co': 0.671288017772332}, 168: {'co': 0.843055135293664}, 182: {'co': 0.7826363484044665}, 196: {'co': 0.8191511060028511}, 210: {'co': 0.7726071129497626}, 224: {'co': 0.7713215715743026}, 238: {'co': 0.718543964340705}, 252: {'co': 0.722097146662614}, 266: {'co': 0.6850776838461609}, 280: {'co': 0.7198394872192173}, 294: {'co': 0.7589434396271403}, 308: {'co': 0.8220715495341357}, 322: {'co': 0.8118499589368375}, 336: {'co': 0.7823102311026947}, 350: {'co': 0.7950241455590741}, 364: {'co': 0.8032109627714479}, 378: {'co': 0.7471484152199204}, 392: {'co': 0.778409193486192}, 406: {'co': 0.7137072188117203}, 420: {'co': 0.7169141142397047}, 434: {'co': 0.6897554006294382}, 448: {'co': 0.7428188121489103}, 462: {'co': 0.8155613569761444}, 476: {'co': 0.7964049741750481}, 490: {'co': 0.8344111196650391}, 504: {'co': 0.7926162886343049}, 518: {'co': 0.786203482523872}, 532: {'co': 0.76534316964812}, 546: {'co': 0.7192434844758303}, 560: {'co': 0.7473209288508577}, 574: {'co': 0.7551730083148972}, 588: {'co': 0.7945071164204615}, 602: {'co': 0.771205359510775}, 616: {'co': 0.7276520893961718}, 630: {'co': 0.7449631751092025}, 644: {'co': 0.7216748856422759}, 658: {'co': 0.7623967104535199}, 672: {'co': 0.7742165974613502}, 686: {'co': 0.7990240405102492}, 700: {'co': 0.7598354399090496}, 714: {'co': 0.8000721244407848}, 728: {'co': 0.8054245170103482}, 742: {'co': 0.798513384143968}, 767: {'co': 0.7703428080734732}, 781: {'co': 0.822282064792806}, 795: {'co': 0.8121421746885041}, 809: {'co': 0.8306571755757243}, 823: {'co': 0.8364238171426228}, 837: {'co': 0.840025236044057}, 851: {'co': 0.8266170567846576}, 865: {'co': 0.8525056502237329}, 879: {'co': 0.8389511485832544}, 893: {'co': 0.8336263597956938}, 907: {'co': 0.83618206628899}, 921: {'co': 0.8394506386192133}, 935: {'co': 0.815475774246485}, 949: {'co': 0.8318432314784024}, 963: {'co': 0.8014141174512961}, 977: {'co': 0.8171978672099545}, 991: {'co': 0.7748072197928855}, 1005: {'co': 0.7810441256521368}}\n",
      "2022/11/17 15:27:07 INFO|---------|{'emv_escape_weak': 0.66, 'emv_escape_strong': 0.165, 'fit_batch': '6', 'run_type': 'fit'}: Running forward sim\n",
      "2022/11/17 15:27:08 INFO|--------|{'emv_escape_weak': 0.72, 'emv_escape_strong': 0.18, 'fit_batch': '6', 'run_type': 'fit'}: fitted TC: {0: {'co': 0.8306366815589404}, 14: {'co': 0.6981743540911125}, 28: {'co': 0.5650699126380538}, 42: {'co': 1.2613785476244924e-15}, 56: {'co': 0.6966530538855653}, 70: {'co': 0.8332726485652999}, 84: {'co': 0.8296248772646011}, 98: {'co': 0.8316924798351031}, 112: {'co': 0.8774896960445533}, 126: {'co': 0.8243044228361942}, 140: {'co': 0.7604527625947122}, 154: {'co': 0.671288017772332}, 168: {'co': 0.843055135293664}, 182: {'co': 0.7826363484044665}, 196: {'co': 0.8191511060028511}, 210: {'co': 0.7726071129497626}, 224: {'co': 0.7713215715743026}, 238: {'co': 0.718543964340705}, 252: {'co': 0.722097146662614}, 266: {'co': 0.6850776838461609}, 280: {'co': 0.7198394872192173}, 294: {'co': 0.7589434396271403}, 308: {'co': 0.8220715495341357}, 322: {'co': 0.8118499589368375}, 336: {'co': 0.7823102311026947}, 350: {'co': 0.7950241455590741}, 364: {'co': 0.8032109627714479}, 378: {'co': 0.7471484152199204}, 392: {'co': 0.778409193486192}, 406: {'co': 0.7137072188117203}, 420: {'co': 0.7169141142397047}, 434: {'co': 0.6897554006294382}, 448: {'co': 0.7428188121489103}, 462: {'co': 0.8155613569761444}, 476: {'co': 0.7964049741750481}, 490: {'co': 0.8344111196650391}, 504: {'co': 0.7926162886343049}, 518: {'co': 0.786203482523872}, 532: {'co': 0.76534316964812}, 546: {'co': 0.7192434844758303}, 560: {'co': 0.7473209288508577}, 574: {'co': 0.7551730083148972}, 588: {'co': 0.7945071164204615}, 602: {'co': 0.771205359510775}, 616: {'co': 0.7276520893961718}, 630: {'co': 0.7449631751092025}, 644: {'co': 0.7216748856422759}, 658: {'co': 0.7623967104535199}, 672: {'co': 0.7742165974613502}, 686: {'co': 0.7990240405102492}, 700: {'co': 0.7598354399090496}, 714: {'co': 0.8000721244407848}, 728: {'co': 0.8054245170103482}, 742: {'co': 0.798513384143968}, 767: {'co': 0.7703428080734732}, 781: {'co': 0.822282064792806}, 795: {'co': 0.8121421746885041}, 809: {'co': 0.8306571755757243}, 823: {'co': 0.8364238171426228}, 837: {'co': 0.840025236044057}, 851: {'co': 0.8266170567846576}, 865: {'co': 0.8525056502237329}, 879: {'co': 0.8389511485832544}, 893: {'co': 0.8336263597956938}, 907: {'co': 0.8361820781654493}, 921: {'co': 0.8394507791733314}, 935: {'co': 0.8152013773459715}, 949: {'co': 0.8322615986067066}, 963: {'co': 0.8011137501244704}, 977: {'co': 0.8185382646889103}, 991: {'co': 0.7756889028378703}, 1005: {'co': 0.8059063840913715}}\n",
      "2022/11/17 15:27:08 INFO|---------|{'emv_escape_weak': 0.72, 'emv_escape_strong': 0.18, 'fit_batch': '6', 'run_type': 'fit'}: Running forward sim\n",
      "2022/11/17 15:27:08 INFO|--------|{'emv_escape_weak': 0.48, 'emv_escape_strong': 0.12, 'fit_batch': '6', 'run_type': 'fit'}: fitted TC: {0: {'co': 0.8306366815589404}, 14: {'co': 0.6981743540911125}, 28: {'co': 0.5650699126380538}, 42: {'co': 1.2613785476244924e-15}, 56: {'co': 0.6966530538855653}, 70: {'co': 0.8332726485652999}, 84: {'co': 0.8296248772646011}, 98: {'co': 0.8316924798351031}, 112: {'co': 0.8774896960445533}, 126: {'co': 0.8243044228361942}, 140: {'co': 0.7604527625947122}, 154: {'co': 0.671288017772332}, 168: {'co': 0.843055135293664}, 182: {'co': 0.7826363484044665}, 196: {'co': 0.8191511060028511}, 210: {'co': 0.7726071129497626}, 224: {'co': 0.7713215715743026}, 238: {'co': 0.718543964340705}, 252: {'co': 0.722097146662614}, 266: {'co': 0.6850776838461609}, 280: {'co': 0.7198394872192173}, 294: {'co': 0.7589434396271403}, 308: {'co': 0.8220715495341357}, 322: {'co': 0.8118499589368375}, 336: {'co': 0.7823102311026947}, 350: {'co': 0.7950241455590741}, 364: {'co': 0.8032109627714479}, 378: {'co': 0.7471484152199204}, 392: {'co': 0.778409193486192}, 406: {'co': 0.7137072188117203}, 420: {'co': 0.7169141142397047}, 434: {'co': 0.6897554006294382}, 448: {'co': 0.7428188121489103}, 462: {'co': 0.8155613569761444}, 476: {'co': 0.7964049741750481}, 490: {'co': 0.8344111196650391}, 504: {'co': 0.7926162886343049}, 518: {'co': 0.786203482523872}, 532: {'co': 0.76534316964812}, 546: {'co': 0.7192434844758303}, 560: {'co': 0.7473209288508577}, 574: {'co': 0.7551730083148972}, 588: {'co': 0.7945071164204615}, 602: {'co': 0.771205359510775}, 616: {'co': 0.7276520893961718}, 630: {'co': 0.7449631751092025}, 644: {'co': 0.7216748856422759}, 658: {'co': 0.7623967104535199}, 672: {'co': 0.7742165974613502}, 686: {'co': 0.7990240405102492}, 700: {'co': 0.7598354399090496}, 714: {'co': 0.8000721244407848}, 728: {'co': 0.8054245170103482}, 742: {'co': 0.798513384143968}, 767: {'co': 0.7703428080734732}, 781: {'co': 0.822282064792806}, 795: {'co': 0.8121421746885041}, 809: {'co': 0.8306571755757243}, 823: {'co': 0.8364238171426228}, 837: {'co': 0.840025236044057}, 851: {'co': 0.8266170567846576}, 865: {'co': 0.8525056502237329}, 879: {'co': 0.8389511485832544}, 893: {'co': 0.8336263597956938}, 907: {'co': 0.8361819303207828}, 921: {'co': 0.8394510303437804}, 935: {'co': 0.8151297825781736}, 949: {'co': 0.8314885919035341}, 963: {'co': 0.8029849263734442}, 977: {'co': 0.8118647104569519}, 991: {'co': 0.7804172231904645}, 1005: {'co': 0.7404154532144274}}\n",
      "2022/11/17 15:27:08 INFO|---------|{'emv_escape_weak': 0.48, 'emv_escape_strong': 0.12, 'fit_batch': '6', 'run_type': 'fit'}: Running forward sim\n"
     ]
    },
    {
     "name": "stderr",
     "output_type": "stream",
     "text": [
      "2022/11/17 15:27:52 INFO|-----------------------|spec_ids: 4404,4405,4406,4407,4408\n"
     ]
    }
   ],
   "source": [
    "# run the scenarios\n",
    "models = do_fit_scenarios(base_model_args=model_args, scenario_args_list=scenario_model_args, fit_args=model_fit_args, multiprocess=multiprocess)"
   ]
  },
  {
   "cell_type": "markdown",
   "metadata": {
    "pycharm": {
     "name": "#%% md\n"
    }
   },
   "source": [
    "### Run the report for each fit model"
   ]
  },
  {
   "cell_type": "code",
   "execution_count": 13,
   "metadata": {
    "pycharm": {
     "name": "#%%\n"
    }
   },
   "outputs": [
    {
     "name": "stderr",
     "output_type": "stream",
     "text": [
      "2022/11/17 15:35:52 INFO|============================================================\n",
      "2022/11/17 15:35:52 INFO|--------|Solving model\n",
      "2022/11/17 15:35:53 INFO|============================================================\n",
      "2022/11/17 15:35:53 INFO|--------|Solving model\n",
      "2022/11/17 15:35:54 INFO|============================================================\n",
      "2022/11/17 15:35:54 INFO|--------|Solving model\n",
      "2022/11/17 15:35:55 INFO|============================================================\n",
      "2022/11/17 15:35:55 INFO|--------|Solving model\n",
      "2022/11/17 15:35:56 INFO|============================================================\n",
      "2022/11/17 15:35:56 INFO|--------|Solving model\n",
      "2022/11/17 15:35:57 WARNING|No artists with labels found to put in legend.  Note that artists whose label start with an underscore are ignored when legend() is called with no argument.\n",
      "2022/11/17 15:35:58 WARNING|No artists with labels found to put in legend.  Note that artists whose label start with an underscore are ignored when legend() is called with no argument.\n",
      "2022/11/17 15:35:58 WARNING|No artists with labels found to put in legend.  Note that artists whose label start with an underscore are ignored when legend() is called with no argument.\n",
      "2022/11/17 15:35:59 WARNING|No artists with labels found to put in legend.  Note that artists whose label start with an underscore are ignored when legend() is called with no argument.\n",
      "2022/11/17 15:36:00 WARNING|No artists with labels found to put in legend.  Note that artists whose label start with an underscore are ignored when legend() is called with no argument.\n"
     ]
    }
   ],
   "source": [
    "# here you can also specify which variants you want to calculate immunity for\n",
    "do_create_multiple_reports(models, multiprocess=multiprocess, outdir=outdir, prep_model=False, solve_model=True, immun_variants=['ba45', 'emv'], from_date='2022-01-01')"
   ]
  },
  {
   "cell_type": "code",
   "execution_count": 14,
   "metadata": {
    "pycharm": {
     "name": "#%%\n"
    }
   },
   "outputs": [
    {
     "name": "stderr",
     "output_type": "stream",
     "text": [
      "2022/11/17 15:38:21 INFO|Projecting\n",
      "2022/11/17 15:38:21 INFO|\n",
      "2022/11/17 15:38:43 INFO|{'emv_escape_weak': 0.6, 'emv_escape_strong': 0.15, 'fit_batch': '6', 'run_type': 'fit'}: Running forward sim\n",
      "2022/11/17 15:38:45 INFO|\n",
      "2022/11/17 15:39:09 INFO|{'emv_escape_weak': 0.66, 'emv_escape_strong': 0.165, 'fit_batch': '6', 'run_type': 'fit'}: Running forward sim\n",
      "2022/11/17 15:39:11 INFO|\n",
      "2022/11/17 15:39:32 INFO|{'emv_escape_weak': 0.72, 'emv_escape_strong': 0.18, 'fit_batch': '6', 'run_type': 'fit'}: Running forward sim\n",
      "2022/11/17 15:39:34 INFO|\n",
      "2022/11/17 15:39:57 INFO|{'emv_escape_weak': 0.54, 'emv_escape_strong': 0.135, 'fit_batch': '6', 'run_type': 'fit'}: Running forward sim\n",
      "2022/11/17 15:39:58 INFO|\n",
      "2022/11/17 15:40:21 INFO|{'emv_escape_weak': 0.48, 'emv_escape_strong': 0.12, 'fit_batch': '6', 'run_type': 'fit'}: Running forward sim\n",
      "2022/11/17 15:40:23 INFO|Running reports\n"
     ]
    }
   ],
   "source": [
    "logging.info('Projecting')\n",
    "for model in models:\n",
    "    logging.info('')\n",
    "    #model.prep()  # don't think we need to prep anymore.\n",
    "    model.solve_seir()\n",
    "\n",
    "    model.solution_sum_df(['seir', 'variant', 'immun']).unstack().to_csv(get_filepath_prefix(outdir, tags=model.tags) + 'states_seir_variant_immun_total_all_at_once_projection.csv')\n",
    "    model.solution_sum_df().unstack().to_csv(get_filepath_prefix(outdir, tags=model.tags) + 'states_full_projection.csv')\n",
    "\n",
    "    logging.info(f'{str(model.tags)}: Running forward sim')\n",
    "    fig = plt.figure(figsize=(10, 10), dpi=300)\n",
    "    ax = fig.add_subplot(211)\n",
    "    hosps_df = model.modeled_vs_observed_hosps().reset_index('region').drop(columns='region')\n",
    "    hosps_df.plot(ax=ax)\n",
    "    ax.set_xlim(dt.datetime.strptime('2022-01-01', \"%Y-%m-%d\").date(), dt.datetime.strptime('2024-01-01', \"%Y-%m-%d\").date())\n",
    "    ax = fig.add_subplot(212)\n",
    "    plot_transmission_control(model, ax=ax)\n",
    "    ax.set_xlim(dt.datetime.strptime('2022-01-01', \"%Y-%m-%d\").date(), dt.datetime.strptime('2024-01-01', \"%Y-%m-%d\").date())\n",
    "    plt.savefig(get_filepath_prefix(outdir, tags=model.tags) + 'model_forecast.png')\n",
    "    plt.close()\n",
    "    hosps_df.to_csv(get_filepath_prefix(outdir, tags=model.tags) + '_model_forecast.csv')\n",
    "    json.dump(model.tc, open(get_filepath_prefix(outdir, tags=model.tags) + 'model_forecast_tc.json', 'w'))\n",
    "\n",
    "logging.info('Running reports')"
   ]
  },
  {
   "cell_type": "code",
   "execution_count": null,
   "metadata": {},
   "outputs": [],
   "source": [
    "model.solution_ydf.to_csv('covid_model/output/20221109_scenario_projections.ipynb/state_model_solution_ydf.csv', index=False)"
   ]
  },
  {
   "cell_type": "code",
   "execution_count": null,
   "metadata": {},
   "outputs": [],
   "source": []
  }
 ],
 "metadata": {
  "kernelspec": {
   "display_name": "Python 3 (ipykernel)",
   "language": "python",
   "name": "python3"
  },
  "language_info": {
   "codemirror_mode": {
    "name": "ipython",
    "version": 3
   },
   "file_extension": ".py",
   "mimetype": "text/x-python",
   "name": "python",
   "nbconvert_exporter": "python",
   "pygments_lexer": "ipython3",
   "version": "3.9.13"
  }
 },
 "nbformat": 4,
 "nbformat_minor": 4
}
