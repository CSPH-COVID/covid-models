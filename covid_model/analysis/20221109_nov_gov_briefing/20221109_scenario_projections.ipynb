{
 "cells": [
  {
   "cell_type": "markdown",
   "metadata": {
    "pycharm": {
     "name": "#%% md\n"
    }
   },
   "source": [
    "### Setup"
   ]
  },
  {
   "cell_type": "code",
   "execution_count": 1,
   "metadata": {
    "pycharm": {
     "name": "#%%\n"
    }
   },
   "outputs": [
    {
     "name": "stdout",
     "output_type": "stream",
     "text": [
      "/Users/emwu9912/PycharmProjects/covid-models\n"
     ]
    }
   ],
   "source": [
    "\"\"\" Python Standard Library \"\"\"\n",
    "import os\n",
    "import datetime as dt\n",
    "import json\n",
    "import logging\n",
    "\"\"\" Third Party Imports \"\"\"\n",
    "import numpy as np\n",
    "import pandas as pd\n",
    "from matplotlib import pyplot as plt\n",
    "%matplotlib inline\n",
    "import seaborn as sns\n",
    "\"\"\" Local Imports \"\"\"\n",
    "if 'requirements.txt' not in os.listdir(os.getcwd()):\n",
    "    os.chdir(os.path.join('..','..','..'))\n",
    "print(os.getcwd())\n",
    "from covid_model.model import CovidModel\n",
    "from covid_model.runnable_functions import do_single_fit, do_fit_scenarios, do_create_multiple_reports\n",
    "from covid_model.utils import setup, get_filepath_prefix\n",
    "from covid_model.analysis.charts import plot_transmission_control\n",
    "\n",
    "os.environ['gcp_project'] = 'co-covid-models'\n",
    "os.environ['GOOGLE_APPLICATION_CREDENTIALS'] = \"co-covid-models-credentials.json\""
   ]
  },
  {
   "cell_type": "code",
   "execution_count": 2,
   "metadata": {
    "pycharm": {
     "name": "#%%\n"
    },
    "scrolled": true
   },
   "outputs": [
    {
     "name": "stderr",
     "output_type": "stream",
     "text": [
      "2022/11/09 12:27:46 INFO|============================================================\n"
     ]
    }
   ],
   "source": [
    "# set up the output directory for this Jupyter notebook\n",
    "outdir = setup(\"20221109_scenario_projections.ipynb\")"
   ]
  },
  {
   "cell_type": "markdown",
   "metadata": {
    "pycharm": {
     "name": "#%% md\n"
    }
   },
   "source": [
    "### Fit an initial scenario through February 2022"
   ]
  },
  {
   "cell_type": "code",
   "execution_count": 3,
   "metadata": {
    "pycharm": {
     "name": "#%%\n"
    }
   },
   "outputs": [
    {
     "name": "stderr",
     "output_type": "stream",
     "text": [
      "2022/11/09 12:27:48 INFO|-------------------------|{} Retrieving vaccinations data\n",
      "2022/11/09 12:27:51 INFO|-------------------------|{} Constructing vaccination projections\n",
      "2022/11/09 12:27:53 INFO|-------------------------|{} Retrieving hospitalizations data\n",
      "2022/11/09 12:27:55 INFO|----------------------|{} Prepping Model\n",
      "2022/11/09 12:27:55 INFO|-----------------------|{} Prepping Model\n",
      "2022/11/09 12:29:19 INFO|----------------------|{} Model prepped for fitting in 84.180396833 seconds.\n",
      "2022/11/09 12:29:19 INFO|----------------------|{} Will fit 25 times\n",
      "2022/11/09 12:30:31 INFO|----------------------|{'fit_batch': '0'}: Transmission control fit 1/25 completed in 71.357625166 seconds: {0: {'co': 0.8306366664452581}, 14: {'co': 0.6963455406351203}, 28: {'co': 0.5713135702238045}, 42: {'co': 0.003517687942516403}, 56: {'co': 0.6813958633472347}, 70: {'co': 0.8913406222516609}}\n",
      "2022/11/09 12:30:31 INFO|-----------------------|{'fit_batch': '0'}: Running forward sim\n",
      "2022/11/09 12:30:49 INFO|----------------------|{'fit_batch': '1'}: Transmission control fit 2/25 completed in 16.666111917000023 seconds: {28: {'co': 0.5672763361580632}, 42: {'co': 2.037877485840354e-15}, 56: {'co': 0.6954902684812524}, 70: {'co': 0.8359291562693898}, 84: {'co': 0.8209507777216888}, 98: {'co': 0.8732884715124952}}\n",
      "2022/11/09 12:30:49 INFO|-----------------------|{'fit_batch': '1'}: Running forward sim\n",
      "2022/11/09 12:31:10 INFO|----------------------|{'fit_batch': '2'}: Transmission control fit 3/25 completed in 18.8550865 seconds: {56: {'co': 0.6966650503949122}, 70: {'co': 0.8332691663087641}, 84: {'co': 0.828956392420474}, 98: {'co': 0.8349941790500507}, 112: {'co': 0.8626448472117724}, 126: {'co': 0.9187356419010656}}\n",
      "2022/11/09 12:31:10 INFO|-----------------------|{'fit_batch': '2'}: Running forward sim\n",
      "2022/11/09 12:31:29 INFO|----------------------|{'fit_batch': '3'}: Transmission control fit 4/25 completed in 16.64014791599999 seconds: {84: {'co': 0.8296268298174543}, 98: {'co': 0.8316911953979617}, 112: {'co': 0.8774231208239036}, 126: {'co': 0.8238372760944447}, 140: {'co': 0.7629560212575219}, 154: {'co': 0.6614388850950117}}\n",
      "2022/11/09 12:31:29 INFO|-----------------------|{'fit_batch': '3'}: Running forward sim\n",
      "2022/11/09 12:31:47 INFO|----------------------|{'fit_batch': '4'}: Transmission control fit 5/25 completed in 16.274208749999985 seconds: {112: {'co': 0.8774905305736465}, 126: {'co': 0.8243037347404628}, 140: {'co': 0.7606938159714457}, 154: {'co': 0.6708648880267231}, 168: {'co': 0.8437499531809302}, 182: {'co': 0.7840785851763419}}\n",
      "2022/11/09 12:31:47 INFO|-----------------------|{'fit_batch': '4'}: Running forward sim\n",
      "2022/11/09 12:32:03 INFO|----------------------|{'fit_batch': '5'}: Transmission control fit 6/25 completed in 14.24452712499999 seconds: {140: {'co': 0.7604530797033332}, 154: {'co': 0.6712878555633491}, 168: {'co': 0.8432437840671843}, 182: {'co': 0.780199159238008}, 196: {'co': 0.8275651149821008}, 210: {'co': 0.7403273173100579}}\n",
      "2022/11/09 12:32:03 INFO|-----------------------|{'fit_batch': '5'}: Running forward sim\n",
      "2022/11/09 12:32:17 INFO|----------------------|{'fit_batch': '6'}: Transmission control fit 7/25 completed in 12.236443834 seconds: {168: {'co': 0.8430551494062312}, 182: {'co': 0.7826362969102124}, 196: {'co': 0.8196039924872112}, 210: {'co': 0.7710706846297812}, 224: {'co': 0.7742311078252654}, 238: {'co': 0.716819498708645}}\n",
      "2022/11/09 12:32:17 INFO|-----------------------|{'fit_batch': '6'}: Running forward sim\n",
      "2022/11/09 12:32:35 INFO|----------------------|{'fit_batch': '7'}: Transmission control fit 8/25 completed in 15.335666167 seconds: {196: {'co': 0.819151088684838}, 210: {'co': 0.7726070757385505}, 224: {'co': 0.7703420054487067}, 238: {'co': 0.7217690003499552}, 252: {'co': 0.717790747528879}, 266: {'co': 0.6919029073699111}}\n",
      "2022/11/09 12:32:35 INFO|-----------------------|{'fit_batch': '7'}: Running forward sim\n",
      "2022/11/09 12:32:50 INFO|----------------------|{'fit_batch': '8'}: Transmission control fit 9/25 completed in 13.40620825000002 seconds: {224: {'co': 0.7713215406308448}, 238: {'co': 0.7185439226891598}, 252: {'co': 0.7226277786169658}, 266: {'co': 0.6833515361054465}, 280: {'co': 0.7227288686603957}, 294: {'co': 0.7531948480883521}}\n",
      "2022/11/09 12:32:50 INFO|-----------------------|{'fit_batch': '8'}: Running forward sim\n",
      "2022/11/09 12:33:07 INFO|----------------------|{'fit_batch': '9'}: Transmission control fit 10/25 completed in 15.141726542000015 seconds: {252: {'co': 0.722097106721963}, 266: {'co': 0.6850776397374018}, 280: {'co': 0.7200762801554423}, 294: {'co': 0.7580891244733622}, 308: {'co': 0.8257609500878005}, 322: {'co': 0.7957021020886493}}\n",
      "2022/11/09 12:33:07 INFO|-----------------------|{'fit_batch': '9'}: Running forward sim\n",
      "2022/11/09 12:33:27 INFO|----------------------|{'fit_batch': '10'}: Transmission control fit 11/25 completed in 17.833690624999974 seconds: {280: {'co': 0.7198400000748574}, 294: {'co': 0.758941459517998}, 308: {'co': 0.8229859226888281}, 322: {'co': 0.8098745081767336}, 336: {'co': 0.7879311711825986}, 350: {'co': 0.7724020653496098}}\n",
      "2022/11/09 12:33:27 INFO|-----------------------|{'fit_batch': '10'}: Running forward sim\n",
      "2022/11/09 12:33:45 INFO|----------------------|{'fit_batch': '11'}: Transmission control fit 12/25 completed in 16.256184041999973 seconds: {308: {'co': 0.8220709341629221}, 322: {'co': 0.8118910095316552}, 336: {'co': 0.7826414886369376}, 350: {'co': 0.793559889438896}, 364: {'co': 0.8118161262121275}, 378: {'co': 0.7076503098434624}}\n",
      "2022/11/09 12:33:45 INFO|-----------------------|{'fit_batch': '11'}: Running forward sim\n",
      "2022/11/09 12:34:00 INFO|----------------------|{'fit_batch': '12'}: Transmission control fit 13/25 completed in 13.473237125000026 seconds: {336: {'co': 0.7823429384341182}, 350: {'co': 0.7948869827543172}, 364: {'co': 0.805808849920722}, 378: {'co': 0.7385916529836668}, 392: {'co': 0.8035532883376127}, 406: {'co': 0.6105570576154598}}\n",
      "2022/11/09 12:34:00 INFO|-----------------------|{'fit_batch': '12'}: Running forward sim\n",
      "2022/11/09 12:34:38 INFO|----------------------|{'fit_batch': '13'}: Transmission control fit 14/25 completed in 36.02485679200004 seconds: {364: {'co': 0.8035956638604012}, 378: {'co': 0.7447926883317884}, 392: {'co': 0.7793870123130696}, 406: {'co': 0.7050371013594355}, 420: {'co': 0.7301250203164859}, 434: {'co': 0.6453344982192539}}\n",
      "2022/11/09 12:34:38 INFO|-----------------------|{'fit_batch': '13'}: Running forward sim\n",
      "2022/11/09 12:34:56 INFO|----------------------|{'fit_batch': '14'}: Transmission control fit 15/25 completed in 15.405929875000027 seconds: {392: {'co': 0.7784004531281863}, 406: {'co': 0.711458811611752}, 420: {'co': 0.7159248536429026}, 434: {'co': 0.6856552746301313}, 448: {'co': 0.7402931750842272}, 462: {'co': 0.8008553256550046}}\n",
      "2022/11/09 12:34:56 INFO|-----------------------|{'fit_batch': '14'}: Running forward sim\n",
      "2022/11/09 12:35:12 INFO|----------------------|{'fit_batch': '15'}: Transmission control fit 16/25 completed in 14.580235583999979 seconds: {420: {'co': 0.7151060925956916}, 434: {'co': 0.6867315671613591}, 448: {'co': 0.7398295126172356}, 462: {'co': 0.8142602139017048}, 476: {'co': 0.7876679958338441}, 490: {'co': 0.8543290347450322}}\n",
      "2022/11/09 12:35:12 INFO|-----------------------|{'fit_batch': '15'}: Running forward sim\n",
      "2022/11/09 12:35:27 INFO|----------------------|{'fit_batch': '16'}: Transmission control fit 17/25 completed in 12.656222291999995 seconds: {448: {'co': 0.7394267851627535}, 462: {'co': 0.8126979968142611}, 476: {'co': 0.7939771372604352}, 490: {'co': 0.8288220872664583}, 504: {'co': 0.7951617363194434}, 518: {'co': 0.7459248973729652}}\n",
      "2022/11/09 12:35:27 INFO|-----------------------|{'fit_batch': '16'}: Running forward sim\n",
      "2022/11/09 12:35:41 INFO|----------------------|{'fit_batch': '17'}: Transmission control fit 18/25 completed in 12.370070791999979 seconds: {476: {'co': 0.7928366722613532}, 490: {'co': 0.8311371174418011}, 504: {'co': 0.788603254405103}, 518: {'co': 0.7792671393356732}, 532: {'co': 0.7649834190820795}, 546: {'co': 0.7003093401231794}}\n",
      "2022/11/09 12:35:41 INFO|-----------------------|{'fit_batch': '17'}: Running forward sim\n"
     ]
    },
    {
     "name": "stderr",
     "output_type": "stream",
     "text": [
      "2022/11/09 12:35:54 INFO|----------------------|{'fit_batch': '18'}: Transmission control fit 19/25 completed in 10.900212708999959 seconds: {504: {'co': 0.7880746819532122}, 518: {'co': 0.7811653218114339}, 532: {'co': 0.7602846404818352}, 546: {'co': 0.710306634105597}, 560: {'co': 0.7438716649754853}, 574: {'co': 0.7385808023775641}}\n",
      "2022/11/09 12:35:54 INFO|-----------------------|{'fit_batch': '18'}: Running forward sim\n",
      "2022/11/09 12:36:11 INFO|----------------------|{'fit_batch': '19'}: Transmission control fit 20/25 completed in 15.004028790999996 seconds: {532: {'co': 0.7596187914241251}, 546: {'co': 0.7121679766573767}, 560: {'co': 0.74041411411659}, 574: {'co': 0.7489213757913957}, 588: {'co': 0.7861050210261813}, 602: {'co': 0.7645823693493687}}\n",
      "2022/11/09 12:36:11 INFO|-----------------------|{'fit_batch': '19'}: Running forward sim\n",
      "2022/11/09 12:36:28 INFO|----------------------|{'fit_batch': '20'}: Transmission control fit 21/25 completed in 14.399897958000054 seconds: {560: {'co': 0.7406088997901885}, 574: {'co': 0.7484118273883233}, 588: {'co': 0.7873338051637788}, 602: {'co': 0.7635581608130659}, 616: {'co': 0.7128471892791725}, 630: {'co': 0.7359781779307346}}\n",
      "2022/11/09 12:36:28 INFO|-----------------------|{'fit_batch': '20'}: Running forward sim\n",
      "2022/11/09 12:36:43 INFO|----------------------|{'fit_batch': '21'}: Transmission control fit 22/25 completed in 13.329934292000075 seconds: {588: {'co': 0.7876518934154516}, 602: {'co': 0.7625376085375655}, 616: {'co': 0.7153327915088624}, 630: {'co': 0.7309541329046203}, 644: {'co': 0.7101951800059534}, 658: {'co': 0.7410868207151988}}\n",
      "2022/11/09 12:36:43 INFO|-----------------------|{'fit_batch': '21'}: Running forward sim\n",
      "2022/11/09 12:37:01 INFO|----------------------|{'fit_batch': '22'}: Transmission control fit 23/25 completed in 16.478811666999945 seconds: {616: {'co': 0.7152460229577826}, 630: {'co': 0.732370001924791}, 644: {'co': 0.7067100825788749}, 658: {'co': 0.7540355994161253}, 672: {'co': 0.7484728234605427}, 686: {'co': 0.8340261671359535}}\n",
      "2022/11/09 12:37:01 INFO|-----------------------|{'fit_batch': '22'}: Running forward sim\n",
      "2022/11/09 12:37:20 INFO|----------------------|{'fit_batch': '23'}: Transmission control fit 24/25 completed in 16.419051459000002 seconds: {644: {'co': 0.7074855947847516}, 658: {'co': 0.7489598527143178}, 672: {'co': 0.7618654243558194}, 686: {'co': 0.7903617578859735}, 700: {'co': 0.7493608685754459}, 714: {'co': 0.7816284257104879}}\n",
      "2022/11/09 12:37:20 INFO|-----------------------|{'fit_batch': '23'}: Running forward sim\n",
      "2022/11/09 12:37:38 INFO|----------------------|{'fit_batch': '24'}: Transmission control fit 25/25 completed in 16.298325666999972 seconds: {672: {'co': 0.761892342774631}, 686: {'co': 0.7908981078890768}, 700: {'co': 0.7499965043711279}, 714: {'co': 0.7828454324561326}, 728: {'co': 0.779760126936398}, 742: {'co': 0.7669428777123459}}\n",
      "2022/11/09 12:37:38 INFO|-----------------------|{'fit_batch': '24'}: Running forward sim\n",
      "2022/11/09 12:37:40 INFO|----------------------|{'fit_batch': '24', 'run_type': 'fit'}: fitted TC: {0: {'co': 0.8306366664452581}, 14: {'co': 0.6963455406351203}, 28: {'co': 0.5672763361580632}, 42: {'co': 2.037877485840354e-15}, 56: {'co': 0.6966650503949122}, 70: {'co': 0.8332691663087641}, 84: {'co': 0.8296268298174543}, 98: {'co': 0.8316911953979617}, 112: {'co': 0.8774905305736465}, 126: {'co': 0.8243037347404628}, 140: {'co': 0.7604530797033332}, 154: {'co': 0.6712878555633491}, 168: {'co': 0.8430551494062312}, 182: {'co': 0.7826362969102124}, 196: {'co': 0.819151088684838}, 210: {'co': 0.7726070757385505}, 224: {'co': 0.7713215406308448}, 238: {'co': 0.7185439226891598}, 252: {'co': 0.722097106721963}, 266: {'co': 0.6850776397374018}, 280: {'co': 0.7198400000748574}, 294: {'co': 0.758941459517998}, 308: {'co': 0.8220709341629221}, 322: {'co': 0.8118910095316552}, 336: {'co': 0.7823429384341182}, 350: {'co': 0.7948869827543172}, 364: {'co': 0.8035956638604012}, 378: {'co': 0.7447926883317884}, 392: {'co': 0.7784004531281863}, 406: {'co': 0.711458811611752}, 420: {'co': 0.7151060925956916}, 434: {'co': 0.6867315671613591}, 448: {'co': 0.7394267851627535}, 462: {'co': 0.8126979968142611}, 476: {'co': 0.7928366722613532}, 490: {'co': 0.8311371174418011}, 504: {'co': 0.7880746819532122}, 518: {'co': 0.7811653218114339}, 532: {'co': 0.7596187914241251}, 546: {'co': 0.7121679766573767}, 560: {'co': 0.7406088997901885}, 574: {'co': 0.7484118273883233}, 588: {'co': 0.7876518934154516}, 602: {'co': 0.7625376085375655}, 616: {'co': 0.7152460229577826}, 630: {'co': 0.732370001924791}, 644: {'co': 0.7074855947847516}, 658: {'co': 0.7489598527143178}, 672: {'co': 0.761892342774631}, 686: {'co': 0.7908981078890768}, 700: {'co': 0.7499965043711279}, 714: {'co': 0.7828454324561326}, 728: {'co': 0.779760126936398}, 742: {'co': 0.7669428926135071}}\n",
      "2022/11/09 12:37:40 INFO|-----------------------|{'fit_batch': '24', 'run_type': 'fit'}: Running forward sim\n",
      "2022/11/09 12:37:42 INFO|----------------------|{'fit_batch': '24', 'run_type': 'fit'}: Uploading final results\n",
      "2022/11/09 12:37:50 INFO|----------------------|{'fit_batch': '24', 'run_type': 'fit'}: spec_id: 4323\n"
     ]
    }
   ],
   "source": [
    "# designate the arguments for how the model will behave\n",
    "model_args = {\n",
    "    'params_defs': 'covid_model/analysis/20221109_nov_gov_briefing/20221109_scenario_params.json',\n",
    "    'region_defs': 'covid_model/input/region_definitions.json',\n",
    "    'vacc_proj_params': 'covid_model/analysis/20221109_nov_gov_briefing/20221109_vacc_proj_params.json',\n",
    "    'start_date': '2020-01-24',\n",
    "    'end_date': '2024-01-01',\n",
    "}\n",
    "\n",
    "# this is how the fit will behave\n",
    "# place the outdir argument here to tell the model fit where to go\n",
    "fit_args = {'outdir': outdir,\n",
    "            'fit_end_date': '2022-02-28'\n",
    "}\n",
    "\n",
    "# because all the scenarios are the same \n",
    "model = do_single_fit(**fit_args, **model_args)"
   ]
  },
  {
   "cell_type": "markdown",
   "metadata": {
    "pycharm": {
     "name": "#%% md\n"
    }
   },
   "source": [
    "### Create and run scenarios from Feb 2022 to present"
   ]
  },
  {
   "cell_type": "code",
   "execution_count": 8,
   "metadata": {
    "pycharm": {
     "name": "#%%\n"
    }
   },
   "outputs": [],
   "source": [
    "multiprocess = 3\n",
    "\n",
    "scenario_params = json.load(open('covid_model/analysis/20221109_nov_gov_briefing/20221109_scenario_params.json'))\n",
    "\n",
    "model_args = {\n",
    "    'base_spec_id': 4323, # use the spec id that was output from the model fit\n",
    "}\n",
    "model_fit_args = {\n",
    "    'outdir': outdir,\n",
    "    'fit_start_date': '2022-03-01', # set the start date for the earliest point at which the scenarios start to differ from one another\n",
    "    'pre_solve_model': True # force the model to establish initial conditions so the fit can start on the fit start date\n",
    "}\n",
    "\n",
    "# define vaccine effectiveness for < 5 (this is a multiplier for the baseline vaccine effectiveness for 0-19)\n",
    "vacc_eff_lt5 = 0.5\n",
    "\n",
    "# Create different scenarios to model\n",
    "scenario_model_args = []\n",
    "for (weak_escape, strong_escape) in [(0.6, 0.095), (0.55, 0.045), (0.65, 0.145)]:\n",
    "    emv_seed = [{\"param\": \"emv_seed\", \"attrs\": None, \"vals\": {\"2020-01-01\": 0, \"2022-09-15\": 10,\n",
    "                                                                       \"2022-10-30\": 0}}]\n",
    "    hrf = {\"2020-01-01\": 1, \"2022-03-01\": (0.66 + 0.34*0.8),\n",
    "           \"2022-03-15\": (0.34 + 0.66*0.8), \"2022-03-30\": 0.8}\n",
    "    weak_param = [{\"param\": \"immune_escape\",\n",
    "                   \"from_attrs\": {\"immun\": \"weak\",\n",
    "                                  \"variant\": [\"none\", \"wildtype\", \"alpha\", \"delta\",\n",
    "                                              \"omicron\", \"ba2\", \"ba2121\", \"ba45\"]},\n",
    "                   \"to_attrs\": {\"variant\": [\"scrabble\"]},\n",
    "                   \"vals\": {\"2020-01-01\": weak_escape},\n",
    "                   \"desc\": \"Scrabble variants immune escape value, weak immunity\"}]\n",
    "    strong_param = [{\"param\": \"immune_escape\",\n",
    "                   \"from_attrs\": {\"immun\": \"strong\",\n",
    "                                  \"variant\": [\"none\", \"wildtype\", \"alpha\", \"delta\",\n",
    "                                              \"omicron\", \"ba2\", \"ba2121\", \"ba45\"]},\n",
    "                   \"to_attrs\": {\"variant\": [\"scrabble\"]},\n",
    "                   \"vals\": {\"2020-01-01\": strong_escape},\n",
    "                   \"desc\": \"Scrabble variants immune escape value, strong immunity\"}]\n",
    "    lt5_vacc_adjust = [{\"param\": \"immunity\",\n",
    "                        \"attrs\": {'age': '0-19', 'vacc': 'shot1'},\n",
    "                        \"mults\": {\"2020-01-01\": 1,\n",
    "                                  \"2022-06-24\": 0.99 + 0.01*vacc_eff_lt5,\n",
    "                                  \"2022-06-30\": 0.98 + 0.02*vacc_eff_lt5,\n",
    "                                  \"2022-07-08\": 0.97 + 0.03*vacc_eff_lt5,\n",
    "                                  \"2022-07-19\": 0.96 + 0.04*vacc_eff_lt5,\n",
    "                                  \"2022-07-29\": 0.95 + 0.05*vacc_eff_lt5,\n",
    "                                  \"2022-08-11\": 0.94 + 0.06*vacc_eff_lt5,\n",
    "                                  \"2022-08-30\": 0.93 + 0.07*vacc_eff_lt5,\n",
    "                                  \"2022-09-26\": 0.92 + 0.08*vacc_eff_lt5,\n",
    "                                  \"2022-10-26\": 0.91 + 0.09*vacc_eff_lt5,},\n",
    "                        \"desc\": \"weighted average using share of 0-19 getting shot1 who are under 5\"}]\n",
    "    scenario_model_args.append({'params_defs': scenario_params + weak_param + strong_param + emv_seed + lt5_vacc_adjust,\n",
    "                                'hosp_reporting_frac': hrf,\n",
    "                                'tags': {'emv_escape_weak': weak_escape,\n",
    "                                        'emv_escape_strong': strong_escape}})\n",
    "            "
   ]
  },
  {
   "cell_type": "code",
   "execution_count": 9,
   "metadata": {},
   "outputs": [
    {
     "data": {
      "text/plain": [
       "3"
      ]
     },
     "execution_count": 9,
     "metadata": {},
     "output_type": "execute_result"
    }
   ],
   "source": [
    "# check how many scenarios there are\n",
    "len(scenario_model_args)"
   ]
  },
  {
   "cell_type": "code",
   "execution_count": 10,
   "metadata": {},
   "outputs": [
    {
     "name": "stderr",
     "output_type": "stream",
     "text": [
      "2022/11/09 12:45:35 INFO|============================================================\n",
      "2022/11/09 12:45:35 INFO|============================================================\n",
      "2022/11/09 12:45:35 INFO|============================================================\n",
      "2022/11/09 12:45:39 INFO|-----------|{'emv_escape_weak': 0.65, 'emv_escape_strong': 0.145} Retrieving vaccinations data\n",
      "2022/11/09 12:45:39 INFO|-----------|{'emv_escape_weak': 0.6, 'emv_escape_strong': 0.095} Retrieving vaccinations data\n",
      "2022/11/09 12:45:39 INFO|-----------|{'emv_escape_weak': 0.55, 'emv_escape_strong': 0.045} Retrieving vaccinations data\n",
      "2022/11/09 12:45:41 INFO|-----------|{'emv_escape_weak': 0.6, 'emv_escape_strong': 0.095} Constructing vaccination projections\n",
      "2022/11/09 12:45:41 INFO|-----------|{'emv_escape_weak': 0.55, 'emv_escape_strong': 0.045} Constructing vaccination projections\n",
      "2022/11/09 12:45:41 INFO|-----------|{'emv_escape_weak': 0.65, 'emv_escape_strong': 0.145} Constructing vaccination projections\n",
      "2022/11/09 12:45:43 INFO|-----------|{'emv_escape_weak': 0.6, 'emv_escape_strong': 0.095} Retrieving hospitalizations data\n",
      "2022/11/09 12:45:43 INFO|-----------|{'emv_escape_weak': 0.55, 'emv_escape_strong': 0.045} Retrieving hospitalizations data\n",
      "2022/11/09 12:45:43 INFO|-----------|{'emv_escape_weak': 0.65, 'emv_escape_strong': 0.145} Retrieving hospitalizations data\n",
      "2022/11/09 12:45:45 INFO|--------|{'emv_escape_weak': 0.55, 'emv_escape_strong': 0.045} Prepping Model\n",
      "2022/11/09 12:45:45 INFO|--------|{'emv_escape_weak': 0.6, 'emv_escape_strong': 0.095} Prepping Model\n",
      "2022/11/09 12:45:45 INFO|---------|{'emv_escape_weak': 0.55, 'emv_escape_strong': 0.045} Prepping Model\n",
      "2022/11/09 12:45:45 INFO|---------|{'emv_escape_weak': 0.6, 'emv_escape_strong': 0.095} Prepping Model\n",
      "2022/11/09 12:45:45 INFO|--------|{'emv_escape_weak': 0.65, 'emv_escape_strong': 0.145} Prepping Model\n",
      "2022/11/09 12:45:45 INFO|---------|{'emv_escape_weak': 0.65, 'emv_escape_strong': 0.145} Prepping Model\n",
      "2022/11/09 12:47:13 INFO|--------|{'emv_escape_weak': 0.55, 'emv_escape_strong': 0.045} Model prepped for fitting in 87.429704916 seconds.\n",
      "2022/11/09 12:47:13 INFO|--------|{'emv_escape_weak': 0.55, 'emv_escape_strong': 0.045} Solving Model ODE\n",
      "2022/11/09 12:47:13 INFO|--------|{'emv_escape_weak': 0.65, 'emv_escape_strong': 0.145} Model prepped for fitting in 88.111258084 seconds.\n",
      "2022/11/09 12:47:13 INFO|--------|{'emv_escape_weak': 0.65, 'emv_escape_strong': 0.145} Solving Model ODE\n",
      "2022/11/09 12:47:13 INFO|--------|{'emv_escape_weak': 0.6, 'emv_escape_strong': 0.095} Model prepped for fitting in 88.170519291 seconds.\n",
      "2022/11/09 12:47:13 INFO|--------|{'emv_escape_weak': 0.6, 'emv_escape_strong': 0.095} Solving Model ODE\n",
      "2022/11/09 12:47:17 INFO|--------|{'emv_escape_weak': 0.55, 'emv_escape_strong': 0.045} Model solved in 4.596716999999998 seconds.\n",
      "2022/11/09 12:47:17 INFO|--------|{'emv_escape_weak': 0.55, 'emv_escape_strong': 0.045} Will fit 7 times\n",
      "2022/11/09 12:47:18 INFO|--------|{'emv_escape_weak': 0.65, 'emv_escape_strong': 0.145} Model solved in 4.5162969999999945 seconds.\n",
      "2022/11/09 12:47:18 INFO|--------|{'emv_escape_weak': 0.65, 'emv_escape_strong': 0.145} Will fit 7 times\n",
      "2022/11/09 12:47:18 INFO|--------|{'emv_escape_weak': 0.6, 'emv_escape_strong': 0.095} Model solved in 4.590399749999989 seconds.\n",
      "2022/11/09 12:47:18 INFO|--------|{'emv_escape_weak': 0.6, 'emv_escape_strong': 0.095} Will fit 7 times\n",
      "2022/11/09 12:47:30 INFO|--------|{'emv_escape_weak': 0.55, 'emv_escape_strong': 0.045, 'fit_batch': '0'}: Transmission control fit 1/7 completed in 12.674021416999992 seconds: {767: {'co': 0.7317065109267555}, 781: {'co': 0.7937767295022905}, 795: {'co': 0.7873484046953839}, 809: {'co': 0.8097670588946481}, 823: {'co': 0.8216365484655404}, 837: {'co': 0.815021656224999}}\n",
      "2022/11/09 12:47:30 INFO|---------|{'emv_escape_weak': 0.55, 'emv_escape_strong': 0.045, 'fit_batch': '0'}: Running forward sim\n",
      "2022/11/09 12:47:30 INFO|--------|{'emv_escape_weak': 0.65, 'emv_escape_strong': 0.145, 'fit_batch': '0'}: Transmission control fit 1/7 completed in 12.473475291 seconds: {767: {'co': 0.7317065109267555}, 781: {'co': 0.7937767295022905}, 795: {'co': 0.7873484046953839}, 809: {'co': 0.8097670588946481}, 823: {'co': 0.8216365484655404}, 837: {'co': 0.815021656224999}}\n",
      "2022/11/09 12:47:30 INFO|---------|{'emv_escape_weak': 0.65, 'emv_escape_strong': 0.145, 'fit_batch': '0'}: Running forward sim\n",
      "2022/11/09 12:47:31 INFO|--------|{'emv_escape_weak': 0.6, 'emv_escape_strong': 0.095, 'fit_batch': '0'}: Transmission control fit 1/7 completed in 12.676884625 seconds: {767: {'co': 0.7317065109267555}, 781: {'co': 0.7937767295022905}, 795: {'co': 0.7873484046953839}, 809: {'co': 0.8097670588946481}, 823: {'co': 0.8216365484655404}, 837: {'co': 0.815021656224999}}\n",
      "2022/11/09 12:47:31 INFO|---------|{'emv_escape_weak': 0.6, 'emv_escape_strong': 0.095, 'fit_batch': '0'}: Running forward sim\n",
      "2022/11/09 12:47:44 INFO|--------|{'emv_escape_weak': 0.55, 'emv_escape_strong': 0.045, 'fit_batch': '1'}: Transmission control fit 2/7 completed in 12.756378999999995 seconds: {795: {'co': 0.7869762673014259}, 809: {'co': 0.8113704198968626}, 823: {'co': 0.8185981125316654}, 837: {'co': 0.8221405821386774}, 851: {'co': 0.8063155369339519}, 865: {'co': 0.8312518835655244}}\n",
      "2022/11/09 12:47:44 INFO|---------|{'emv_escape_weak': 0.55, 'emv_escape_strong': 0.045, 'fit_batch': '1'}: Running forward sim\n",
      "2022/11/09 12:47:45 INFO|--------|{'emv_escape_weak': 0.65, 'emv_escape_strong': 0.145, 'fit_batch': '1'}: Transmission control fit 2/7 completed in 12.617319250000008 seconds: {795: {'co': 0.7869762673014259}, 809: {'co': 0.8113704198968626}, 823: {'co': 0.8185981125316654}, 837: {'co': 0.8221405821386774}, 851: {'co': 0.8063155369339519}, 865: {'co': 0.8312518835655244}}\n",
      "2022/11/09 12:47:45 INFO|---------|{'emv_escape_weak': 0.65, 'emv_escape_strong': 0.145, 'fit_batch': '1'}: Running forward sim\n",
      "2022/11/09 12:47:45 INFO|--------|{'emv_escape_weak': 0.6, 'emv_escape_strong': 0.095, 'fit_batch': '1'}: Transmission control fit 2/7 completed in 12.833761916 seconds: {795: {'co': 0.7869762673014259}, 809: {'co': 0.8113704198968626}, 823: {'co': 0.8185981125316654}, 837: {'co': 0.8221405821386774}, 851: {'co': 0.8063155369339519}, 865: {'co': 0.8312518835655244}}\n",
      "2022/11/09 12:47:45 INFO|---------|{'emv_escape_weak': 0.6, 'emv_escape_strong': 0.095, 'fit_batch': '1'}: Running forward sim\n",
      "2022/11/09 12:47:59 INFO|--------|{'emv_escape_weak': 0.55, 'emv_escape_strong': 0.045, 'fit_batch': '2'}: Transmission control fit 3/7 completed in 12.605612000000008 seconds: {823: {'co': 0.8185012935714957}, 837: {'co': 0.8222935282233137}, 851: {'co': 0.8056333137067819}, 865: {'co': 0.8335637548718446}, 879: {'co': 0.8141671796069294}, 893: {'co': 0.8110417450866683}}\n",
      "2022/11/09 12:47:59 INFO|---------|{'emv_escape_weak': 0.55, 'emv_escape_strong': 0.045, 'fit_batch': '2'}: Running forward sim\n",
      "2022/11/09 12:47:59 INFO|--------|{'emv_escape_weak': 0.65, 'emv_escape_strong': 0.145, 'fit_batch': '2'}: Transmission control fit 3/7 completed in 12.375309416999983 seconds: {823: {'co': 0.8185012935714957}, 837: {'co': 0.8222935282233137}, 851: {'co': 0.8056333137067819}, 865: {'co': 0.8335637548718446}, 879: {'co': 0.8141671796069294}, 893: {'co': 0.8110417450866683}}\n",
      "2022/11/09 12:47:59 INFO|---------|{'emv_escape_weak': 0.65, 'emv_escape_strong': 0.145, 'fit_batch': '2'}: Running forward sim\n",
      "2022/11/09 12:48:00 INFO|--------|{'emv_escape_weak': 0.6, 'emv_escape_strong': 0.095, 'fit_batch': '2'}: Transmission control fit 3/7 completed in 12.736448208000013 seconds: {823: {'co': 0.8185012935714957}, 837: {'co': 0.8222935282233137}, 851: {'co': 0.8056333137067819}, 865: {'co': 0.8335637548718446}, 879: {'co': 0.8141671796069294}, 893: {'co': 0.8110417450866683}}\n",
      "2022/11/09 12:48:00 INFO|---------|{'emv_escape_weak': 0.6, 'emv_escape_strong': 0.095, 'fit_batch': '2'}: Running forward sim\n",
      "2022/11/09 12:48:13 INFO|--------|{'emv_escape_weak': 0.65, 'emv_escape_strong': 0.145, 'fit_batch': '3'}: Transmission control fit 4/7 completed in 12.378161290999998 seconds: {851: {'co': 0.8060405121722651}, 865: {'co': 0.8329795637270452}, 879: {'co': 0.8156066974307628}, 893: {'co': 0.806482640961826}, 907: {'co': 0.809723392226413}, 921: {'co': 0.7991455481768931}}\n",
      "2022/11/09 12:48:13 INFO|---------|{'emv_escape_weak': 0.65, 'emv_escape_strong': 0.145, 'fit_batch': '3'}: Running forward sim\n",
      "2022/11/09 12:48:13 INFO|--------|{'emv_escape_weak': 0.55, 'emv_escape_strong': 0.045, 'fit_batch': '3'}: Transmission control fit 4/7 completed in 12.523322000000007 seconds: {851: {'co': 0.8060405121722651}, 865: {'co': 0.8329795637270452}, 879: {'co': 0.8156066974307628}, 893: {'co': 0.806482640961826}, 907: {'co': 0.809723392226413}, 921: {'co': 0.7991455481768931}}\n",
      "2022/11/09 12:48:13 INFO|---------|{'emv_escape_weak': 0.55, 'emv_escape_strong': 0.045, 'fit_batch': '3'}: Running forward sim\n"
     ]
    },
    {
     "name": "stderr",
     "output_type": "stream",
     "text": [
      "2022/11/09 12:48:14 INFO|--------|{'emv_escape_weak': 0.6, 'emv_escape_strong': 0.095, 'fit_batch': '3'}: Transmission control fit 4/7 completed in 12.597740415999994 seconds: {851: {'co': 0.8060405121722651}, 865: {'co': 0.8329795637270452}, 879: {'co': 0.8156066974307628}, 893: {'co': 0.806482640961826}, 907: {'co': 0.809723392226413}, 921: {'co': 0.7991455481768931}}\n",
      "2022/11/09 12:48:14 INFO|---------|{'emv_escape_weak': 0.6, 'emv_escape_strong': 0.095, 'fit_batch': '3'}: Running forward sim\n",
      "2022/11/09 12:48:25 INFO|--------|{'emv_escape_weak': 0.65, 'emv_escape_strong': 0.145, 'fit_batch': '4'}: Transmission control fit 5/7 completed in 10.560174958999994 seconds: {879: {'co': 0.8159067912245167}, 893: {'co': 0.8073504080315448}, 907: {'co': 0.8074713742116567}, 921: {'co': 0.8088504794064174}, 935: {'co': 0.7784251972926765}, 949: {'co': 0.7954104341327783}}\n",
      "2022/11/09 12:48:25 INFO|---------|{'emv_escape_weak': 0.65, 'emv_escape_strong': 0.145, 'fit_batch': '4'}: Running forward sim\n",
      "2022/11/09 12:48:26 INFO|--------|{'emv_escape_weak': 0.55, 'emv_escape_strong': 0.045, 'fit_batch': '4'}: Transmission control fit 5/7 completed in 10.728575374999991 seconds: {879: {'co': 0.8159067912245167}, 893: {'co': 0.8073504080315448}, 907: {'co': 0.8074713742116567}, 921: {'co': 0.8088504794064174}, 935: {'co': 0.7784251972926765}, 949: {'co': 0.7954104341327783}}\n",
      "2022/11/09 12:48:26 INFO|---------|{'emv_escape_weak': 0.55, 'emv_escape_strong': 0.045, 'fit_batch': '4'}: Running forward sim\n",
      "2022/11/09 12:48:27 INFO|--------|{'emv_escape_weak': 0.6, 'emv_escape_strong': 0.095, 'fit_batch': '4'}: Transmission control fit 5/7 completed in 10.751742291999989 seconds: {879: {'co': 0.8159067912245167}, 893: {'co': 0.8073504080315448}, 907: {'co': 0.8074713742116567}, 921: {'co': 0.8088504794064174}, 935: {'co': 0.7784251972926765}, 949: {'co': 0.7954104341327783}}\n",
      "2022/11/09 12:48:27 INFO|---------|{'emv_escape_weak': 0.6, 'emv_escape_strong': 0.095, 'fit_batch': '4'}: Running forward sim\n",
      "2022/11/09 12:48:40 INFO|--------|{'emv_escape_weak': 0.65, 'emv_escape_strong': 0.145, 'fit_batch': '5'}: Transmission control fit 6/7 completed in 12.637617000000006 seconds: {907: {'co': 0.8074535906915947}, 921: {'co': 0.8089998860762607}, 935: {'co': 0.777873545428285}, 949: {'co': 0.7963117478480143}, 963: {'co': 0.758103353300089}, 977: {'co': 0.7847328900762534}}\n",
      "2022/11/09 12:48:40 INFO|---------|{'emv_escape_weak': 0.65, 'emv_escape_strong': 0.145, 'fit_batch': '5'}: Running forward sim\n",
      "2022/11/09 12:48:40 INFO|--------|{'emv_escape_weak': 0.55, 'emv_escape_strong': 0.045, 'fit_batch': '5'}: Transmission control fit 6/7 completed in 12.858443375000007 seconds: {907: {'co': 0.8074535906915947}, 921: {'co': 0.8089998860762607}, 935: {'co': 0.777873545428285}, 949: {'co': 0.7963117478480143}, 963: {'co': 0.758103353300089}, 977: {'co': 0.7847328900762534}}\n",
      "2022/11/09 12:48:40 INFO|---------|{'emv_escape_weak': 0.55, 'emv_escape_strong': 0.045, 'fit_batch': '5'}: Running forward sim\n",
      "2022/11/09 12:48:41 INFO|--------|{'emv_escape_weak': 0.6, 'emv_escape_strong': 0.095, 'fit_batch': '5'}: Transmission control fit 6/7 completed in 12.881676249999998 seconds: {907: {'co': 0.8074535906915947}, 921: {'co': 0.8089998860762607}, 935: {'co': 0.777873545428285}, 949: {'co': 0.7963117478480143}, 963: {'co': 0.758103353300089}, 977: {'co': 0.7847328900762534}}\n",
      "2022/11/09 12:48:41 INFO|---------|{'emv_escape_weak': 0.6, 'emv_escape_strong': 0.095, 'fit_batch': '5'}: Running forward sim\n",
      "2022/11/09 12:49:04 INFO|--------|{'emv_escape_weak': 0.65, 'emv_escape_strong': 0.145, 'fit_batch': '6'}: Transmission control fit 7/7 completed in 21.99810125000002 seconds: {921: {'co': 0.8086700603787998}, 935: {'co': 0.7781744516638129}, 949: {'co': 0.7949564695297843}, 963: {'co': 0.763787407520227}, 977: {'co': 0.7711904600085505}, 991: {'co': 0.8616555715742218}}\n",
      "2022/11/09 12:49:04 INFO|---------|{'emv_escape_weak': 0.65, 'emv_escape_strong': 0.145, 'fit_batch': '6'}: Running forward sim\n",
      "2022/11/09 12:49:04 INFO|--------|{'emv_escape_weak': 0.55, 'emv_escape_strong': 0.045, 'fit_batch': '6'}: Transmission control fit 7/7 completed in 22.271621374999995 seconds: {921: {'co': 0.8086700603787998}, 935: {'co': 0.7781744516638129}, 949: {'co': 0.7949564695297843}, 963: {'co': 0.763787407520227}, 977: {'co': 0.7711904600085505}, 991: {'co': 0.8616555715742218}}\n",
      "2022/11/09 12:49:04 INFO|---------|{'emv_escape_weak': 0.55, 'emv_escape_strong': 0.045, 'fit_batch': '6'}: Running forward sim\n",
      "2022/11/09 12:49:05 INFO|--------|{'emv_escape_weak': 0.65, 'emv_escape_strong': 0.145, 'fit_batch': '6', 'run_type': 'fit'}: fitted TC: {0: {'co': 0.8306366664452581}, 14: {'co': 0.6963455406351203}, 28: {'co': 0.5672763361580632}, 42: {'co': 2.037877485840354e-15}, 56: {'co': 0.6966650503949122}, 70: {'co': 0.8332691663087641}, 84: {'co': 0.8296268298174543}, 98: {'co': 0.8316911953979617}, 112: {'co': 0.8774905305736465}, 126: {'co': 0.8243037347404628}, 140: {'co': 0.7604530797033332}, 154: {'co': 0.6712878555633491}, 168: {'co': 0.8430551494062312}, 182: {'co': 0.7826362969102124}, 196: {'co': 0.819151088684838}, 210: {'co': 0.7726070757385505}, 224: {'co': 0.7713215406308448}, 238: {'co': 0.7185439226891598}, 252: {'co': 0.722097106721963}, 266: {'co': 0.6850776397374018}, 280: {'co': 0.7198400000748574}, 294: {'co': 0.758941459517998}, 308: {'co': 0.8220709341629221}, 322: {'co': 0.8118910095316552}, 336: {'co': 0.7823429384341182}, 350: {'co': 0.7948869827543172}, 364: {'co': 0.8035956638604012}, 378: {'co': 0.7447926883317884}, 392: {'co': 0.7784004531281863}, 406: {'co': 0.711458811611752}, 420: {'co': 0.7151060925956916}, 434: {'co': 0.6867315671613591}, 448: {'co': 0.7394267851627535}, 462: {'co': 0.8126979968142611}, 476: {'co': 0.7928366722613532}, 490: {'co': 0.8311371174418011}, 504: {'co': 0.7880746819532122}, 518: {'co': 0.7811653218114339}, 532: {'co': 0.7596187914241251}, 546: {'co': 0.7121679766573767}, 560: {'co': 0.7406088997901885}, 574: {'co': 0.7484118273883233}, 588: {'co': 0.7876518934154516}, 602: {'co': 0.7625376085375655}, 616: {'co': 0.7152460229577826}, 630: {'co': 0.732370001924791}, 644: {'co': 0.7074855947847516}, 658: {'co': 0.7489598527143178}, 672: {'co': 0.761892342774631}, 686: {'co': 0.7908981078890768}, 700: {'co': 0.7499965043711279}, 714: {'co': 0.7828454324561326}, 728: {'co': 0.779760126936398}, 742: {'co': 0.7669428926135071}, 767: {'co': 0.7317065109267555}, 781: {'co': 0.7937767295022905}, 795: {'co': 0.7869762673014259}, 809: {'co': 0.8113704198968626}, 823: {'co': 0.8185012935714957}, 837: {'co': 0.8222935282233137}, 851: {'co': 0.8060405121722651}, 865: {'co': 0.8329795637270452}, 879: {'co': 0.8159067912245167}, 893: {'co': 0.8073504080315448}, 907: {'co': 0.8074535906915947}, 921: {'co': 0.8086700603787998}, 935: {'co': 0.7781744516638129}, 949: {'co': 0.7949564695297843}, 963: {'co': 0.763787407520227}, 977: {'co': 0.7711904600085505}, 991: {'co': 0.861655586475383}}\n",
      "2022/11/09 12:49:05 INFO|---------|{'emv_escape_weak': 0.65, 'emv_escape_strong': 0.145, 'fit_batch': '6', 'run_type': 'fit'}: Running forward sim\n",
      "2022/11/09 12:49:06 INFO|--------|{'emv_escape_weak': 0.6, 'emv_escape_strong': 0.095, 'fit_batch': '6'}: Transmission control fit 7/7 completed in 22.422331334000006 seconds: {921: {'co': 0.8086700603787998}, 935: {'co': 0.7781744516638129}, 949: {'co': 0.7949564695297843}, 963: {'co': 0.763787407520227}, 977: {'co': 0.7711904600085505}, 991: {'co': 0.8616555715742218}}\n",
      "2022/11/09 12:49:06 INFO|---------|{'emv_escape_weak': 0.6, 'emv_escape_strong': 0.095, 'fit_batch': '6'}: Running forward sim\n",
      "2022/11/09 12:49:06 INFO|--------|{'emv_escape_weak': 0.55, 'emv_escape_strong': 0.045, 'fit_batch': '6', 'run_type': 'fit'}: fitted TC: {0: {'co': 0.8306366664452581}, 14: {'co': 0.6963455406351203}, 28: {'co': 0.5672763361580632}, 42: {'co': 2.037877485840354e-15}, 56: {'co': 0.6966650503949122}, 70: {'co': 0.8332691663087641}, 84: {'co': 0.8296268298174543}, 98: {'co': 0.8316911953979617}, 112: {'co': 0.8774905305736465}, 126: {'co': 0.8243037347404628}, 140: {'co': 0.7604530797033332}, 154: {'co': 0.6712878555633491}, 168: {'co': 0.8430551494062312}, 182: {'co': 0.7826362969102124}, 196: {'co': 0.819151088684838}, 210: {'co': 0.7726070757385505}, 224: {'co': 0.7713215406308448}, 238: {'co': 0.7185439226891598}, 252: {'co': 0.722097106721963}, 266: {'co': 0.6850776397374018}, 280: {'co': 0.7198400000748574}, 294: {'co': 0.758941459517998}, 308: {'co': 0.8220709341629221}, 322: {'co': 0.8118910095316552}, 336: {'co': 0.7823429384341182}, 350: {'co': 0.7948869827543172}, 364: {'co': 0.8035956638604012}, 378: {'co': 0.7447926883317884}, 392: {'co': 0.7784004531281863}, 406: {'co': 0.711458811611752}, 420: {'co': 0.7151060925956916}, 434: {'co': 0.6867315671613591}, 448: {'co': 0.7394267851627535}, 462: {'co': 0.8126979968142611}, 476: {'co': 0.7928366722613532}, 490: {'co': 0.8311371174418011}, 504: {'co': 0.7880746819532122}, 518: {'co': 0.7811653218114339}, 532: {'co': 0.7596187914241251}, 546: {'co': 0.7121679766573767}, 560: {'co': 0.7406088997901885}, 574: {'co': 0.7484118273883233}, 588: {'co': 0.7876518934154516}, 602: {'co': 0.7625376085375655}, 616: {'co': 0.7152460229577826}, 630: {'co': 0.732370001924791}, 644: {'co': 0.7074855947847516}, 658: {'co': 0.7489598527143178}, 672: {'co': 0.761892342774631}, 686: {'co': 0.7908981078890768}, 700: {'co': 0.7499965043711279}, 714: {'co': 0.7828454324561326}, 728: {'co': 0.779760126936398}, 742: {'co': 0.7669428926135071}, 767: {'co': 0.7317065109267555}, 781: {'co': 0.7937767295022905}, 795: {'co': 0.7869762673014259}, 809: {'co': 0.8113704198968626}, 823: {'co': 0.8185012935714957}, 837: {'co': 0.8222935282233137}, 851: {'co': 0.8060405121722651}, 865: {'co': 0.8329795637270452}, 879: {'co': 0.8159067912245167}, 893: {'co': 0.8073504080315448}, 907: {'co': 0.8074535906915947}, 921: {'co': 0.8086700603787998}, 935: {'co': 0.7781744516638129}, 949: {'co': 0.7949564695297843}, 963: {'co': 0.763787407520227}, 977: {'co': 0.7711904600085505}, 991: {'co': 0.861655586475383}}\n",
      "2022/11/09 12:49:06 INFO|---------|{'emv_escape_weak': 0.55, 'emv_escape_strong': 0.045, 'fit_batch': '6', 'run_type': 'fit'}: Running forward sim\n"
     ]
    },
    {
     "name": "stderr",
     "output_type": "stream",
     "text": [
      "2022/11/09 12:49:07 INFO|--------|{'emv_escape_weak': 0.6, 'emv_escape_strong': 0.095, 'fit_batch': '6', 'run_type': 'fit'}: fitted TC: {0: {'co': 0.8306366664452581}, 14: {'co': 0.6963455406351203}, 28: {'co': 0.5672763361580632}, 42: {'co': 2.037877485840354e-15}, 56: {'co': 0.6966650503949122}, 70: {'co': 0.8332691663087641}, 84: {'co': 0.8296268298174543}, 98: {'co': 0.8316911953979617}, 112: {'co': 0.8774905305736465}, 126: {'co': 0.8243037347404628}, 140: {'co': 0.7604530797033332}, 154: {'co': 0.6712878555633491}, 168: {'co': 0.8430551494062312}, 182: {'co': 0.7826362969102124}, 196: {'co': 0.819151088684838}, 210: {'co': 0.7726070757385505}, 224: {'co': 0.7713215406308448}, 238: {'co': 0.7185439226891598}, 252: {'co': 0.722097106721963}, 266: {'co': 0.6850776397374018}, 280: {'co': 0.7198400000748574}, 294: {'co': 0.758941459517998}, 308: {'co': 0.8220709341629221}, 322: {'co': 0.8118910095316552}, 336: {'co': 0.7823429384341182}, 350: {'co': 0.7948869827543172}, 364: {'co': 0.8035956638604012}, 378: {'co': 0.7447926883317884}, 392: {'co': 0.7784004531281863}, 406: {'co': 0.711458811611752}, 420: {'co': 0.7151060925956916}, 434: {'co': 0.6867315671613591}, 448: {'co': 0.7394267851627535}, 462: {'co': 0.8126979968142611}, 476: {'co': 0.7928366722613532}, 490: {'co': 0.8311371174418011}, 504: {'co': 0.7880746819532122}, 518: {'co': 0.7811653218114339}, 532: {'co': 0.7596187914241251}, 546: {'co': 0.7121679766573767}, 560: {'co': 0.7406088997901885}, 574: {'co': 0.7484118273883233}, 588: {'co': 0.7876518934154516}, 602: {'co': 0.7625376085375655}, 616: {'co': 0.7152460229577826}, 630: {'co': 0.732370001924791}, 644: {'co': 0.7074855947847516}, 658: {'co': 0.7489598527143178}, 672: {'co': 0.761892342774631}, 686: {'co': 0.7908981078890768}, 700: {'co': 0.7499965043711279}, 714: {'co': 0.7828454324561326}, 728: {'co': 0.779760126936398}, 742: {'co': 0.7669428926135071}, 767: {'co': 0.7317065109267555}, 781: {'co': 0.7937767295022905}, 795: {'co': 0.7869762673014259}, 809: {'co': 0.8113704198968626}, 823: {'co': 0.8185012935714957}, 837: {'co': 0.8222935282233137}, 851: {'co': 0.8060405121722651}, 865: {'co': 0.8329795637270452}, 879: {'co': 0.8159067912245167}, 893: {'co': 0.8073504080315448}, 907: {'co': 0.8074535906915947}, 921: {'co': 0.8086700603787998}, 935: {'co': 0.7781744516638129}, 949: {'co': 0.7949564695297843}, 963: {'co': 0.763787407520227}, 977: {'co': 0.7711904600085505}, 991: {'co': 0.861655586475383}}\n",
      "2022/11/09 12:49:07 INFO|---------|{'emv_escape_weak': 0.6, 'emv_escape_strong': 0.095, 'fit_batch': '6', 'run_type': 'fit'}: Running forward sim\n",
      "2022/11/09 12:49:38 INFO|-----------------------|spec_ids: 4324,4325,4326\n"
     ]
    }
   ],
   "source": [
    "# run the scenarios\n",
    "models = do_fit_scenarios(base_model_args=model_args, scenario_args_list=scenario_model_args, fit_args=model_fit_args, multiprocess=multiprocess)"
   ]
  },
  {
   "cell_type": "markdown",
   "metadata": {
    "pycharm": {
     "name": "#%% md\n"
    }
   },
   "source": [
    "### Run the report for each fit model"
   ]
  },
  {
   "cell_type": "code",
   "execution_count": 11,
   "metadata": {
    "pycharm": {
     "name": "#%%\n"
    }
   },
   "outputs": [
    {
     "name": "stderr",
     "output_type": "stream",
     "text": [
      "2022/11/09 13:01:20 INFO|============================================================\n",
      "2022/11/09 13:01:20 INFO|--------|Solving model\n",
      "2022/11/09 13:01:21 INFO|============================================================\n",
      "2022/11/09 13:01:21 INFO|--------|Solving model\n",
      "2022/11/09 13:01:22 INFO|============================================================\n",
      "2022/11/09 13:01:22 INFO|--------|Solving model\n",
      "2022/11/09 13:01:25 WARNING|No artists with labels found to put in legend.  Note that artists whose label start with an underscore are ignored when legend() is called with no argument.\n",
      "2022/11/09 13:01:25 WARNING|No artists with labels found to put in legend.  Note that artists whose label start with an underscore are ignored when legend() is called with no argument.\n",
      "2022/11/09 13:01:27 WARNING|No artists with labels found to put in legend.  Note that artists whose label start with an underscore are ignored when legend() is called with no argument.\n"
     ]
    }
   ],
   "source": [
    "# here you can also specify which variants you want to calculate immunity for\n",
    "do_create_multiple_reports(models, multiprocess=multiprocess, outdir=outdir, prep_model=False, solve_model=True, immun_variants=['ba45', 'scrabble'], from_date='2022-01-01')"
   ]
  },
  {
   "cell_type": "code",
   "execution_count": 12,
   "metadata": {
    "pycharm": {
     "name": "#%%\n"
    }
   },
   "outputs": [
    {
     "name": "stderr",
     "output_type": "stream",
     "text": [
      "2022/11/09 13:50:49 INFO|Projecting\n",
      "2022/11/09 13:50:49 INFO|\n",
      "2022/11/09 13:51:13 INFO|{'emv_escape_weak': 0.6, 'emv_escape_strong': 0.095, 'fit_batch': '6', 'run_type': 'fit'}: Running forward sim\n",
      "2022/11/09 13:51:15 INFO|\n",
      "2022/11/09 13:51:39 INFO|{'emv_escape_weak': 0.55, 'emv_escape_strong': 0.045, 'fit_batch': '6', 'run_type': 'fit'}: Running forward sim\n",
      "2022/11/09 13:51:41 INFO|\n",
      "2022/11/09 13:52:04 INFO|{'emv_escape_weak': 0.65, 'emv_escape_strong': 0.145, 'fit_batch': '6', 'run_type': 'fit'}: Running forward sim\n",
      "2022/11/09 13:52:06 INFO|Running reports\n"
     ]
    }
   ],
   "source": [
    "logging.info('Projecting')\n",
    "for model in models:\n",
    "    logging.info('')\n",
    "    #model.prep()  # don't think we need to prep anymore.\n",
    "    model.solve_seir()\n",
    "\n",
    "    model.solution_sum_df(['seir', 'variant', 'immun']).unstack().to_csv(get_filepath_prefix(outdir, tags=model.tags) + 'states_seir_variant_immun_total_all_at_once_projection.csv')\n",
    "    model.solution_sum_df().unstack().to_csv(get_filepath_prefix(outdir, tags=model.tags) + 'states_full_projection.csv')\n",
    "\n",
    "    logging.info(f'{str(model.tags)}: Running forward sim')\n",
    "    fig = plt.figure(figsize=(10, 10), dpi=300)\n",
    "    ax = fig.add_subplot(211)\n",
    "    hosps_df = model.modeled_vs_observed_hosps().reset_index('region').drop(columns='region')\n",
    "    hosps_df.plot(ax=ax)\n",
    "    ax.set_xlim(dt.datetime.strptime('2022-01-01', \"%Y-%m-%d\").date(), dt.datetime.strptime('2024-01-01', \"%Y-%m-%d\").date())\n",
    "    ax = fig.add_subplot(212)\n",
    "    plot_transmission_control(model, ax=ax)\n",
    "    ax.set_xlim(dt.datetime.strptime('2022-01-01', \"%Y-%m-%d\").date(), dt.datetime.strptime('2024-01-01', \"%Y-%m-%d\").date())\n",
    "    plt.savefig(get_filepath_prefix(outdir, tags=model.tags) + 'model_forecast.png')\n",
    "    plt.close()\n",
    "    hosps_df.to_csv(get_filepath_prefix(outdir, tags=model.tags) + '_model_forecast.csv')\n",
    "    json.dump(model.tc, open(get_filepath_prefix(outdir, tags=model.tags) + 'model_forecast_tc.json', 'w'))\n",
    "\n",
    "logging.info('Running reports')"
   ]
  },
  {
   "cell_type": "code",
   "execution_count": null,
   "metadata": {},
   "outputs": [],
   "source": [
    "model.solution_ydf.to_csv('covid_model/output/20221109_scenario_projections.ipynb/state_model_solution_ydf.csv', index=False)"
   ]
  },
  {
   "cell_type": "code",
   "execution_count": null,
   "metadata": {},
   "outputs": [],
   "source": []
  }
 ],
 "metadata": {
  "kernelspec": {
   "display_name": "Python 3 (ipykernel)",
   "language": "python",
   "name": "python3"
  },
  "language_info": {
   "codemirror_mode": {
    "name": "ipython",
    "version": 3
   },
   "file_extension": ".py",
   "mimetype": "text/x-python",
   "name": "python",
   "nbconvert_exporter": "python",
   "pygments_lexer": "ipython3",
   "version": "3.9.13"
  }
 },
 "nbformat": 4,
 "nbformat_minor": 4
}
