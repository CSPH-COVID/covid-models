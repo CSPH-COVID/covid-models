{
 "cells": [
  {
   "cell_type": "markdown",
   "metadata": {
    "pycharm": {
     "name": "#%% md\n"
    }
   },
   "source": [
    "### Setup"
   ]
  },
  {
   "cell_type": "code",
   "execution_count": 1,
   "metadata": {
    "pycharm": {
     "name": "#%%\n"
    }
   },
   "outputs": [
    {
     "name": "stdout",
     "output_type": "stream",
     "text": [
      "/Users/brittneycontreras/PycharmProjects/covid-models\n"
     ]
    }
   ],
   "source": [
    "\"\"\" Python Standard Library \"\"\"\n",
    "import os\n",
    "import datetime as dt\n",
    "import json\n",
    "import logging\n",
    "\"\"\" Third Party Imports \"\"\"\n",
    "import numpy as np\n",
    "import pandas as pd\n",
    "from matplotlib import pyplot as plt\n",
    "%matplotlib inline\n",
    "import seaborn as sns\n",
    "\"\"\" Local Imports \"\"\"\n",
    "if 'requirements.txt' not in os.listdir(os.getcwd()):\n",
    "    os.chdir(os.path.join('..','..','..'))\n",
    "print(os.getcwd())\n",
    "from covid_model.model import CovidModel\n",
    "from covid_model.runnable_functions import do_single_fit, do_fit_scenarios, do_create_multiple_reports\n",
    "from covid_model.utils import setup, get_filepath_prefix\n",
    "from covid_model.analysis.charts import plot_transmission_control\n",
    "\n",
    "os.environ['gcp_project'] = 'co-covid-models'\n",
    "os.environ['GOOGLE_APPLICATION_CREDENTIALS'] = \"co-covid-models-credentials.json\""
   ]
  },
  {
   "cell_type": "code",
   "execution_count": 2,
   "metadata": {
    "pycharm": {
     "name": "#%%\n"
    },
    "scrolled": true
   },
   "outputs": [
    {
     "name": "stderr",
     "output_type": "stream",
     "text": [
      "2022/11/30 12:37:03 INFO|============================================================\n"
     ]
    }
   ],
   "source": [
    "# set up the output directory for this Jupyter notebook\n",
    "outdir = setup(\"20221130_scenario_projections.ipynb\")"
   ]
  },
  {
   "cell_type": "markdown",
   "metadata": {
    "pycharm": {
     "name": "#%% md\n"
    }
   },
   "source": [
    "### Fit an initial scenario through present day"
   ]
  },
  {
   "cell_type": "code",
   "execution_count": null,
   "metadata": {
    "pycharm": {
     "name": "#%%\n"
    }
   },
   "outputs": [
    {
     "name": "stderr",
     "output_type": "stream",
     "text": [
      "2022/11/30 14:26:56 INFO|-------------------------|{} Retrieving vaccinations data\n",
      "2022/11/30 14:26:59 INFO|-------------------------|{} Constructing vaccination projections\n",
      "2022/11/30 14:27:02 INFO|-------------------------|{} Retrieving hospitalizations data\n",
      "2022/11/30 14:27:04 INFO|----------------------|{} Prepping Model\n",
      "2022/11/30 14:27:04 INFO|-----------------------|{} Prepping Model\n",
      "2022/11/30 14:29:15 INFO|----------------------|{} Model prepped for fitting in 130.67892237500018 seconds.\n",
      "2022/11/30 14:29:15 INFO|----------------------|{} Will fit 32 times\n",
      "2022/11/30 14:37:31 INFO|----------------------|{'fit_batch': '0'}: Transmission control fit 1/32 completed in 496.0925280829997 seconds: {0: {'co': 0.830636683881486}, 14: {'co': 0.6982129327797195}, 28: {'co': 0.569547286270425}, 42: {'co': 0.0027652678914775507}, 56: {'co': 0.6814719979284506}, 70: {'co': 0.8912751286725015}}\n",
      "2022/11/30 14:37:31 INFO|-----------------------|{'fit_batch': '0'}: Running forward sim\n",
      "2022/11/30 14:39:11 INFO|----------------------|{'fit_batch': '1'}: Transmission control fit 2/32 completed in 98.03029587499987 seconds: {28: {'co': 0.5650232599826038}, 42: {'co': 1.2322089026416504e-15}, 56: {'co': 0.6954742961875723}, 70: {'co': 0.8359309168346868}, 84: {'co': 0.8209479365974747}, 98: {'co': 0.8732900866425226}}\n",
      "2022/11/30 14:39:11 INFO|-----------------------|{'fit_batch': '1'}: Running forward sim\n"
     ]
    }
   ],
   "source": [
    "# designate the arguments for how the model will behave\n",
    "model_args = {\n",
    "    'params_defs': 'covid_model/analysis/20221109_nov_gov_briefing/20221109_scenario_params.json',\n",
    "    'region_defs': 'covid_model/input/region_definitions.json',\n",
    "    'vacc_proj_params': 'covid_model/analysis/20221109_nov_gov_briefing/20221109_vacc_proj_params.json',\n",
    "    'start_date': '2020-01-24',\n",
    "    'end_date': '2024-01-01',\n",
    "}\n",
    "\n",
    "# this is how the fit will behave\n",
    "# place the outdir argument here to tell the model fit where to go\n",
    "fit_args = {'outdir': outdir,\n",
    "            'fit_end_date': '2022-09-14'\n",
    "}\n",
    "\n",
    "# because all the scenarios are the same \n",
    "model = do_single_fit(**fit_args, **model_args)"
   ]
  },
  {
   "cell_type": "markdown",
   "metadata": {
    "pycharm": {
     "name": "#%% md\n"
    }
   },
   "source": [
    "### Create and run scenarios from Feb 2022 to present"
   ]
  },
  {
   "cell_type": "code",
   "execution_count": null,
   "metadata": {
    "pycharm": {
     "name": "#%%\n"
    }
   },
   "outputs": [],
   "source": [
    "multiprocess = 4\n",
    "\n",
    "scenario_params = json.load(open('covid_model/analysis/20221109_nov_gov_briefing/20221109_scenario_params.json'))\n",
    "\n",
    "model_args = {\n",
    "    'base_spec_id': model.spec_id, # use the spec id that was output from the model fit\n",
    "}\n",
    "model_fit_args = {\n",
    "    'outdir': outdir,\n",
    "    'fit_start_date': '2022-09-15', # set the start date for the earliest point at which the scenarios start to differ from one another\n",
    "    'pre_solve_model': True # force the model to establish initial conditions so the fit can start on the fit start date\n",
    "}\n",
    "\n",
    "# define vaccine effectiveness for < 5 (this is a multiplier for the baseline vaccine effectiveness for 0-19)\n",
    "vacc_eff_lt5 = 0.5\n",
    "\n",
    "# Create different scenarios to model\n",
    "scenario_model_args = []\n",
    "for (weak_escape, strong_escape) in [(0.6, 0.15), (0.66, 0.165), (0.72, 0.18), (0.54, 0.135)]:\n",
    "    weak_param = [{\"param\": \"immune_escape\",\n",
    "                   \"from_attrs\": {\"immun\": \"weak\",\n",
    "                                  \"variant\": [\"none\", \"wildtype\", \"alpha\", \"delta\",\n",
    "                                              \"omicron\", \"ba2\", \"ba2121\", \"ba45\"]},\n",
    "                   \"to_attrs\": {\"variant\": [\"emv\"]},\n",
    "                   \"vals\": {\"2020-01-01\": weak_escape},\n",
    "                   \"desc\": \"emerging variants immune escape value, weak immunity\"}]\n",
    "    strong_param = [{\"param\": \"immune_escape\",\n",
    "                   \"from_attrs\": {\"immun\": \"strong\",\n",
    "                                  \"variant\": [\"none\", \"wildtype\", \"alpha\", \"delta\",\n",
    "                                              \"omicron\", \"ba2\", \"ba2121\", \"ba45\"]},\n",
    "                   \"to_attrs\": {\"variant\": [\"emv\"]},\n",
    "                   \"vals\": {\"2020-01-01\": strong_escape},\n",
    "                   \"desc\": \"emerging variants immune escape value, strong immunity\"}]\n",
    "    lt5_vacc_adjust = [{\"param\": \"immunity\",\n",
    "                        \"attrs\": {'age': '0-19', 'vacc': 'shot1'},\n",
    "                        \"mults\": {\"2020-01-01\": 1,\n",
    "                                  \"2022-06-24\": 0.99 + 0.01*vacc_eff_lt5,\n",
    "                                  \"2022-06-30\": 0.98 + 0.02*vacc_eff_lt5,\n",
    "                                  \"2022-07-08\": 0.97 + 0.03*vacc_eff_lt5,\n",
    "                                  \"2022-07-19\": 0.96 + 0.04*vacc_eff_lt5,\n",
    "                                  \"2022-07-29\": 0.95 + 0.05*vacc_eff_lt5,\n",
    "                                  \"2022-08-11\": 0.94 + 0.06*vacc_eff_lt5,\n",
    "                                  \"2022-08-30\": 0.93 + 0.07*vacc_eff_lt5,\n",
    "                                  \"2022-09-26\": 0.92 + 0.08*vacc_eff_lt5,\n",
    "                                  \"2022-10-26\": 0.91 + 0.09*vacc_eff_lt5,},\n",
    "                        \"desc\": \"weighted average using share of 0-19 getting shot1 who are under 5\"}]\n",
    "    scenario_model_args.append({'params_defs': scenario_params + weak_param + strong_param + lt5_vacc_adjust,\n",
    "                                'tags': {'emv_escape_weak': weak_escape,\n",
    "                                        'emv_escape_strong': strong_escape}})\n",
    "            "
   ]
  },
  {
   "cell_type": "code",
   "execution_count": 10,
   "metadata": {},
   "outputs": [
    {
     "data": {
      "text/plain": [
       "4"
      ]
     },
     "execution_count": 10,
     "metadata": {},
     "output_type": "execute_result"
    }
   ],
   "source": [
    "# check how many scenarios there are\n",
    "len(scenario_model_args)"
   ]
  },
  {
   "cell_type": "code",
   "execution_count": 11,
   "metadata": {},
   "outputs": [
    {
     "name": "stderr",
     "output_type": "stream",
     "text": [
      "2022/11/30 14:10:09 INFO|============================================================\n",
      "2022/11/30 14:10:09 INFO|============================================================\n",
      "2022/11/30 14:10:09 INFO|============================================================\n",
      "2022/11/30 14:10:09 INFO|============================================================\n",
      "2022/11/30 14:10:16 INFO|-----------|{'emv_escape_weak': 0.66, 'emv_escape_strong': 0.165} Retrieving vaccinations data\n",
      "2022/11/30 14:10:16 INFO|-----------|{'emv_escape_weak': 0.54, 'emv_escape_strong': 0.135} Retrieving vaccinations data\n",
      "2022/11/30 14:10:16 INFO|-----------|{'emv_escape_weak': 0.6, 'emv_escape_strong': 0.15} Retrieving vaccinations data\n",
      "2022/11/30 14:10:17 INFO|-----------|{'emv_escape_weak': 0.72, 'emv_escape_strong': 0.18} Retrieving vaccinations data\n",
      "2022/11/30 14:10:19 INFO|-----------|{'emv_escape_weak': 0.66, 'emv_escape_strong': 0.165} Constructing vaccination projections\n",
      "2022/11/30 14:10:19 INFO|-----------|{'emv_escape_weak': 0.72, 'emv_escape_strong': 0.18} Constructing vaccination projections\n",
      "2022/11/30 14:10:19 INFO|-----------|{'emv_escape_weak': 0.6, 'emv_escape_strong': 0.15} Constructing vaccination projections\n",
      "2022/11/30 14:10:19 INFO|-----------|{'emv_escape_weak': 0.54, 'emv_escape_strong': 0.135} Constructing vaccination projections\n",
      "2022/11/30 14:10:23 INFO|-----------|{'emv_escape_weak': 0.66, 'emv_escape_strong': 0.165} Retrieving hospitalizations data\n",
      "2022/11/30 14:10:23 INFO|-----------|{'emv_escape_weak': 0.54, 'emv_escape_strong': 0.135} Retrieving hospitalizations data\n",
      "2022/11/30 14:10:23 INFO|-----------|{'emv_escape_weak': 0.6, 'emv_escape_strong': 0.15} Retrieving hospitalizations data\n",
      "2022/11/30 14:10:23 INFO|-----------|{'emv_escape_weak': 0.72, 'emv_escape_strong': 0.18} Retrieving hospitalizations data\n",
      "2022/11/30 14:10:25 INFO|--------|{'emv_escape_weak': 0.66, 'emv_escape_strong': 0.165} Prepping Model\n",
      "2022/11/30 14:10:25 INFO|---------|{'emv_escape_weak': 0.66, 'emv_escape_strong': 0.165} Prepping Model\n",
      "2022/11/30 14:10:25 INFO|--------|{'emv_escape_weak': 0.54, 'emv_escape_strong': 0.135} Prepping Model\n",
      "2022/11/30 14:10:25 INFO|---------|{'emv_escape_weak': 0.54, 'emv_escape_strong': 0.135} Prepping Model\n",
      "2022/11/30 14:10:25 INFO|--------|{'emv_escape_weak': 0.72, 'emv_escape_strong': 0.18} Prepping Model\n",
      "2022/11/30 14:10:25 INFO|---------|{'emv_escape_weak': 0.72, 'emv_escape_strong': 0.18} Prepping Model\n",
      "2022/11/30 14:10:25 INFO|--------|{'emv_escape_weak': 0.6, 'emv_escape_strong': 0.15} Prepping Model\n",
      "2022/11/30 14:10:25 INFO|---------|{'emv_escape_weak': 0.6, 'emv_escape_strong': 0.15} Prepping Model\n",
      "2022/11/30 14:12:50 INFO|--------|{'emv_escape_weak': 0.72, 'emv_escape_strong': 0.18} Model prepped for fitting in 145.363392916 seconds.\n",
      "2022/11/30 14:12:50 INFO|--------|{'emv_escape_weak': 0.72, 'emv_escape_strong': 0.18} Solving Model ODE\n",
      "2022/11/30 14:12:52 INFO|--------|{'emv_escape_weak': 0.66, 'emv_escape_strong': 0.165} Model prepped for fitting in 147.029450834 seconds.\n",
      "2022/11/30 14:12:52 INFO|--------|{'emv_escape_weak': 0.66, 'emv_escape_strong': 0.165} Solving Model ODE\n",
      "2022/11/30 14:12:52 INFO|--------|{'emv_escape_weak': 0.6, 'emv_escape_strong': 0.15} Model prepped for fitting in 147.325836875 seconds.\n",
      "2022/11/30 14:12:52 INFO|--------|{'emv_escape_weak': 0.6, 'emv_escape_strong': 0.15} Solving Model ODE\n",
      "2022/11/30 14:12:53 INFO|--------|{'emv_escape_weak': 0.54, 'emv_escape_strong': 0.135} Model prepped for fitting in 148.08591204099997 seconds.\n",
      "2022/11/30 14:12:53 INFO|--------|{'emv_escape_weak': 0.54, 'emv_escape_strong': 0.135} Solving Model ODE\n",
      "2022/11/30 14:13:24 INFO|--------|{'emv_escape_weak': 0.72, 'emv_escape_strong': 0.18} Model solved in 33.55916937500001 seconds.\n",
      "2022/11/30 14:13:25 INFO|--------|{'emv_escape_weak': 0.66, 'emv_escape_strong': 0.165} Model solved in 33.530607042000014 seconds.\n",
      "2022/11/30 14:13:26 INFO|--------|{'emv_escape_weak': 0.6, 'emv_escape_strong': 0.15} Model solved in 33.38560883400001 seconds.\n"
     ]
    },
    {
     "name": "stdout",
     "output_type": "stream",
     "text": [
      "Unexpected exception formatting exception. Falling back to standard exception\n"
     ]
    },
    {
     "name": "stderr",
     "output_type": "stream",
     "text": [
      "2022/11/30 14:13:26 INFO|--------|{'emv_escape_weak': 0.54, 'emv_escape_strong': 0.135} Model solved in 33.167691624999975 seconds.\n",
      "multiprocessing.pool.RemoteTraceback: \n",
      "\"\"\"\n",
      "Traceback (most recent call last):\n",
      "  File \"/Library/Frameworks/Python.framework/Versions/3.9/lib/python3.9/multiprocessing/pool.py\", line 125, in worker\n",
      "    result = (True, func(*args, **kwds))\n",
      "  File \"/Library/Frameworks/Python.framework/Versions/3.9/lib/python3.9/multiprocessing/pool.py\", line 48, in mapstar\n",
      "    return list(map(*args))\n",
      "  File \"/Users/brittneycontreras/PycharmProjects/covid-models/covid_model/runnable_functions.py\", line 251, in do_single_fit_wrapper_parallel\n",
      "    return do_single_fit(**args, write_results=False)\n",
      "  File \"/Users/brittneycontreras/PycharmProjects/covid-models/covid_model/runnable_functions.py\", line 200, in do_single_fit\n",
      "    batch_tstarts =  relevant_tc_ts[:last_batch_start_index:tc_batch_increment] + [relevant_tc_ts[last_batch_start_index]]\n",
      "IndexError: list index out of range\n",
      "\"\"\"\n",
      "\n",
      "The above exception was the direct cause of the following exception:\n",
      "\n",
      "Traceback (most recent call last):\n",
      "  File \"/Users/brittneycontreras/PycharmProjects/covid-models/venv/lib/python3.9/site-packages/IPython/core/interactiveshell.py\", line 3398, in run_code\n",
      "    exec(code_obj, self.user_global_ns, self.user_ns)\n",
      "  File \"/var/folders/82/f8fr93d51730xxd6dv7x7bdr0000gp/T/ipykernel_71856/3806303788.py\", line 2, in <cell line: 2>\n",
      "    models = do_fit_scenarios(base_model_args=model_args, scenario_args_list=scenario_model_args, fit_args=model_fit_args, multiprocess=multiprocess)\n",
      "  File \"/Users/brittneycontreras/PycharmProjects/covid-models/covid_model/runnable_functions.py\", line 529, in do_fit_scenarios\n",
      "  File \"/Users/brittneycontreras/PycharmProjects/covid-models/covid_model/runnable_functions.py\", line 290, in do_multiple_fits\n",
      "    else:\n",
      "  File \"/Library/Frameworks/Python.framework/Versions/3.9/lib/python3.9/multiprocessing/pool.py\", line 364, in map\n",
      "    return self._map_async(func, iterable, mapstar, chunksize).get()\n",
      "  File \"/Library/Frameworks/Python.framework/Versions/3.9/lib/python3.9/multiprocessing/pool.py\", line 771, in get\n",
      "    raise self._value\n",
      "IndexError: list index out of range\n",
      "\n",
      "During handling of the above exception, another exception occurred:\n",
      "\n",
      "Traceback (most recent call last):\n",
      "  File \"/Users/brittneycontreras/PycharmProjects/covid-models/venv/lib/python3.9/site-packages/IPython/core/interactiveshell.py\", line 1993, in showtraceback\n",
      "    stb = self.InteractiveTB.structured_traceback(\n",
      "  File \"/Users/brittneycontreras/PycharmProjects/covid-models/venv/lib/python3.9/site-packages/IPython/core/ultratb.py\", line 1118, in structured_traceback\n",
      "    return FormattedTB.structured_traceback(\n",
      "  File \"/Users/brittneycontreras/PycharmProjects/covid-models/venv/lib/python3.9/site-packages/IPython/core/ultratb.py\", line 1012, in structured_traceback\n",
      "    return VerboseTB.structured_traceback(\n",
      "  File \"/Users/brittneycontreras/PycharmProjects/covid-models/venv/lib/python3.9/site-packages/IPython/core/ultratb.py\", line 865, in structured_traceback\n",
      "    formatted_exception = self.format_exception_as_a_whole(etype, evalue, etb, number_of_lines_of_context,\n",
      "  File \"/Users/brittneycontreras/PycharmProjects/covid-models/venv/lib/python3.9/site-packages/IPython/core/ultratb.py\", line 818, in format_exception_as_a_whole\n",
      "    frames.append(self.format_record(r))\n",
      "  File \"/Users/brittneycontreras/PycharmProjects/covid-models/venv/lib/python3.9/site-packages/IPython/core/ultratb.py\", line 736, in format_record\n",
      "    result += ''.join(_format_traceback_lines(frame_info.lines, Colors, self.has_colors, lvals))\n",
      "  File \"/Users/brittneycontreras/PycharmProjects/covid-models/venv/lib/python3.9/site-packages/stack_data/utils.py\", line 145, in cached_property_wrapper\n",
      "    value = obj.__dict__[self.func.__name__] = self.func(obj)\n",
      "  File \"/Users/brittneycontreras/PycharmProjects/covid-models/venv/lib/python3.9/site-packages/stack_data/core.py\", line 698, in lines\n",
      "    pieces = self.included_pieces\n",
      "  File \"/Users/brittneycontreras/PycharmProjects/covid-models/venv/lib/python3.9/site-packages/stack_data/utils.py\", line 145, in cached_property_wrapper\n",
      "    value = obj.__dict__[self.func.__name__] = self.func(obj)\n",
      "  File \"/Users/brittneycontreras/PycharmProjects/covid-models/venv/lib/python3.9/site-packages/stack_data/core.py\", line 649, in included_pieces\n",
      "    pos = scope_pieces.index(self.executing_piece)\n",
      "  File \"/Users/brittneycontreras/PycharmProjects/covid-models/venv/lib/python3.9/site-packages/stack_data/utils.py\", line 145, in cached_property_wrapper\n",
      "    value = obj.__dict__[self.func.__name__] = self.func(obj)\n",
      "  File \"/Users/brittneycontreras/PycharmProjects/covid-models/venv/lib/python3.9/site-packages/stack_data/core.py\", line 628, in executing_piece\n",
      "    return only(\n",
      "  File \"/Users/brittneycontreras/PycharmProjects/covid-models/venv/lib/python3.9/site-packages/executing/executing.py\", line 164, in only\n",
      "    raise NotOneValueFound('Expected one value, found 0')\n",
      "executing.executing.NotOneValueFound: Expected one value, found 0\n"
     ]
    }
   ],
   "source": [
    "# run the scenarios\n",
    "models = do_fit_scenarios(base_model_args=model_args, scenario_args_list=scenario_model_args, fit_args=model_fit_args, multiprocess=multiprocess)"
   ]
  },
  {
   "cell_type": "markdown",
   "metadata": {
    "pycharm": {
     "name": "#%% md\n"
    }
   },
   "source": [
    "### Run the report for each fit model"
   ]
  },
  {
   "cell_type": "code",
   "execution_count": 8,
   "metadata": {
    "pycharm": {
     "name": "#%%\n"
    }
   },
   "outputs": [
    {
     "ename": "NameError",
     "evalue": "name 'models' is not defined",
     "output_type": "error",
     "traceback": [
      "\u001b[0;31m---------------------------------------------------------------------------\u001b[0m",
      "\u001b[0;31mNameError\u001b[0m                                 Traceback (most recent call last)",
      "Input \u001b[0;32mIn [8]\u001b[0m, in \u001b[0;36m<cell line: 2>\u001b[0;34m()\u001b[0m\n\u001b[1;32m      1\u001b[0m \u001b[38;5;66;03m# here you can also specify which variants you want to calculate immunity for\u001b[39;00m\n\u001b[0;32m----> 2\u001b[0m do_create_multiple_reports(\u001b[43mmodels\u001b[49m, multiprocess\u001b[38;5;241m=\u001b[39mmultiprocess, outdir\u001b[38;5;241m=\u001b[39moutdir, prep_model\u001b[38;5;241m=\u001b[39m\u001b[38;5;28;01mFalse\u001b[39;00m, solve_model\u001b[38;5;241m=\u001b[39m\u001b[38;5;28;01mTrue\u001b[39;00m, immun_variants\u001b[38;5;241m=\u001b[39m[\u001b[38;5;124m'\u001b[39m\u001b[38;5;124mba45\u001b[39m\u001b[38;5;124m'\u001b[39m, \u001b[38;5;124m'\u001b[39m\u001b[38;5;124memv\u001b[39m\u001b[38;5;124m'\u001b[39m], from_date\u001b[38;5;241m=\u001b[39m\u001b[38;5;124m'\u001b[39m\u001b[38;5;124m2022-01-01\u001b[39m\u001b[38;5;124m'\u001b[39m)\n",
      "\u001b[0;31mNameError\u001b[0m: name 'models' is not defined"
     ]
    }
   ],
   "source": [
    "# here you can also specify which variants you want to calculate immunity for\n",
    "do_create_multiple_reports(models, multiprocess=multiprocess, outdir=outdir, prep_model=False, solve_model=True, immun_variants=['ba45', 'emv'], from_date='2022-01-01')"
   ]
  },
  {
   "cell_type": "code",
   "execution_count": 7,
   "metadata": {
    "pycharm": {
     "name": "#%%\n"
    }
   },
   "outputs": [
    {
     "name": "stderr",
     "output_type": "stream",
     "text": [
      "2022/11/30 14:06:34 INFO|Projecting\n"
     ]
    },
    {
     "ename": "NameError",
     "evalue": "name 'models' is not defined",
     "output_type": "error",
     "traceback": [
      "\u001b[0;31m---------------------------------------------------------------------------\u001b[0m",
      "\u001b[0;31mNameError\u001b[0m                                 Traceback (most recent call last)",
      "Input \u001b[0;32mIn [7]\u001b[0m, in \u001b[0;36m<cell line: 2>\u001b[0;34m()\u001b[0m\n\u001b[1;32m      1\u001b[0m logging\u001b[38;5;241m.\u001b[39minfo(\u001b[38;5;124m'\u001b[39m\u001b[38;5;124mProjecting\u001b[39m\u001b[38;5;124m'\u001b[39m)\n\u001b[0;32m----> 2\u001b[0m \u001b[38;5;28;01mfor\u001b[39;00m model \u001b[38;5;129;01min\u001b[39;00m \u001b[43mmodels\u001b[49m:\n\u001b[1;32m      3\u001b[0m     logging\u001b[38;5;241m.\u001b[39minfo(\u001b[38;5;124m'\u001b[39m\u001b[38;5;124m'\u001b[39m)\n\u001b[1;32m      4\u001b[0m     \u001b[38;5;66;03m#model.prep()  # don't think we need to prep anymore.\u001b[39;00m\n",
      "\u001b[0;31mNameError\u001b[0m: name 'models' is not defined"
     ]
    }
   ],
   "source": [
    "logging.info('Projecting')\n",
    "for model in models:\n",
    "    logging.info('')\n",
    "    #model.prep()  # don't think we need to prep anymore.\n",
    "    model.solve_seir()\n",
    "\n",
    "    model.solution_sum_df(['seir', 'variant', 'immun']).unstack().to_csv(get_filepath_prefix(outdir, tags=model.tags) + 'states_seir_variant_immun_total_all_at_once_projection.csv')\n",
    "    model.solution_sum_df().unstack().to_csv(get_filepath_prefix(outdir, tags=model.tags) + 'states_full_projection.csv')\n",
    "\n",
    "    logging.info(f'{str(model.tags)}: Running forward sim')\n",
    "    fig = plt.figure(figsize=(10, 10), dpi=300)\n",
    "    ax = fig.add_subplot(211)\n",
    "    hosps_df = model.modeled_vs_observed_hosps().reset_index('region').drop(columns='region')\n",
    "    hosps_df.plot(ax=ax)\n",
    "    ax.set_xlim(dt.datetime.strptime('2022-01-01', \"%Y-%m-%d\").date(), dt.datetime.strptime('2024-01-01', \"%Y-%m-%d\").date())\n",
    "    ax = fig.add_subplot(212)\n",
    "    plot_transmission_control(model, ax=ax)\n",
    "    ax.set_xlim(dt.datetime.strptime('2022-01-01', \"%Y-%m-%d\").date(), dt.datetime.strptime('2024-01-01', \"%Y-%m-%d\").date())\n",
    "    plt.savefig(get_filepath_prefix(outdir, tags=model.tags) + 'model_forecast.png')\n",
    "    plt.close()\n",
    "    hosps_df.to_csv(get_filepath_prefix(outdir, tags=model.tags) + '_model_forecast.csv')\n",
    "    json.dump(model.tc, open(get_filepath_prefix(outdir, tags=model.tags) + 'model_forecast_tc.json', 'w'))\n",
    "\n",
    "logging.info('Running reports')"
   ]
  },
  {
   "cell_type": "code",
   "execution_count": null,
   "metadata": {},
   "outputs": [],
   "source": [
    "model.solution_ydf.to_csv('covid_model/output/20221109_scenario_projections.ipynb/state_model_solution_ydf.csv', index=False)"
   ]
  },
  {
   "cell_type": "code",
   "execution_count": null,
   "metadata": {},
   "outputs": [],
   "source": []
  }
 ],
 "metadata": {
  "kernelspec": {
   "display_name": "Python 3 (ipykernel)",
   "language": "python",
   "name": "python3"
  },
  "language_info": {
   "codemirror_mode": {
    "name": "ipython",
    "version": 3
   },
   "file_extension": ".py",
   "mimetype": "text/x-python",
   "name": "python",
   "nbconvert_exporter": "python",
   "pygments_lexer": "ipython3",
   "version": "3.9.12"
  }
 },
 "nbformat": 4,
 "nbformat_minor": 4
}
