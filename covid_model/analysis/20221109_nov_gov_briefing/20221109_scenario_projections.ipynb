{
 "cells": [
  {
   "cell_type": "markdown",
   "metadata": {
    "pycharm": {
     "name": "#%% md\n"
    }
   },
   "source": [
    "### Setup"
   ]
  },
  {
   "cell_type": "code",
   "execution_count": 1,
   "metadata": {
    "pycharm": {
     "name": "#%%\n"
    }
   },
   "outputs": [
    {
     "name": "stdout",
     "output_type": "stream",
     "text": [
      "/Users/emwu9912/PycharmProjects/covid-models\n"
     ]
    }
   ],
   "source": [
    "\"\"\" Python Standard Library \"\"\"\n",
    "import os\n",
    "import datetime as dt\n",
    "import json\n",
    "import logging\n",
    "\"\"\" Third Party Imports \"\"\"\n",
    "import numpy as np\n",
    "import pandas as pd\n",
    "from matplotlib import pyplot as plt\n",
    "%matplotlib inline\n",
    "import seaborn as sns\n",
    "\"\"\" Local Imports \"\"\"\n",
    "if 'requirements.txt' not in os.listdir(os.getcwd()):\n",
    "    os.chdir(os.path.join('..','..','..'))\n",
    "print(os.getcwd())\n",
    "from covid_model.model import CovidModel\n",
    "from covid_model.runnable_functions import do_single_fit, do_fit_scenarios, do_create_multiple_reports\n",
    "from covid_model.utils import setup, get_filepath_prefix\n",
    "from covid_model.analysis.charts import plot_transmission_control\n",
    "\n",
    "os.environ['gcp_project'] = 'co-covid-models'\n",
    "os.environ['GOOGLE_APPLICATION_CREDENTIALS'] = \"co-covid-models-credentials.json\""
   ]
  },
  {
   "cell_type": "code",
   "execution_count": 2,
   "metadata": {
    "pycharm": {
     "name": "#%%\n"
    },
    "scrolled": true
   },
   "outputs": [
    {
     "name": "stderr",
     "output_type": "stream",
     "text": [
      "2022/11/08 14:42:23 INFO|============================================================\n"
     ]
    }
   ],
   "source": [
    "# set up the output directory for this Jupyter notebook\n",
    "outdir = setup(\"20221109_scenario_projections.ipynb\")"
   ]
  },
  {
   "cell_type": "markdown",
   "metadata": {
    "pycharm": {
     "name": "#%% md\n"
    }
   },
   "source": [
    "### Fit an initial scenario through February 2022"
   ]
  },
  {
   "cell_type": "code",
   "execution_count": 3,
   "metadata": {
    "pycharm": {
     "name": "#%%\n"
    }
   },
   "outputs": [
    {
     "name": "stderr",
     "output_type": "stream",
     "text": [
      "2022/11/08 14:42:27 INFO|-------------------------|{} Retrieving vaccinations data\n",
      "2022/11/08 14:42:28 INFO|-------------------------|{} Constructing vaccination projections\n",
      "2022/11/08 14:42:30 INFO|-------------------------|{} Retrieving hospitalizations data\n",
      "2022/11/08 14:42:32 INFO|----------------------|{} Prepping Model\n",
      "2022/11/08 14:42:32 INFO|-----------------------|{} Prepping Model\n"
     ]
    },
    {
     "ename": "KeyboardInterrupt",
     "evalue": "",
     "output_type": "error",
     "traceback": [
      "\u001b[0;31m---------------------------------------------------------------------------\u001b[0m",
      "\u001b[0;31mKeyboardInterrupt\u001b[0m                         Traceback (most recent call last)",
      "Input \u001b[0;32mIn [3]\u001b[0m, in \u001b[0;36m<cell line: 17>\u001b[0;34m()\u001b[0m\n\u001b[1;32m     12\u001b[0m fit_args \u001b[38;5;241m=\u001b[39m {\u001b[38;5;124m'\u001b[39m\u001b[38;5;124moutdir\u001b[39m\u001b[38;5;124m'\u001b[39m: outdir,\n\u001b[1;32m     13\u001b[0m             \u001b[38;5;124m'\u001b[39m\u001b[38;5;124mfit_end_date\u001b[39m\u001b[38;5;124m'\u001b[39m: \u001b[38;5;124m'\u001b[39m\u001b[38;5;124m2022-02-28\u001b[39m\u001b[38;5;124m'\u001b[39m\n\u001b[1;32m     14\u001b[0m }\n\u001b[1;32m     16\u001b[0m \u001b[38;5;66;03m# because all the scenarios are the same \u001b[39;00m\n\u001b[0;32m---> 17\u001b[0m model \u001b[38;5;241m=\u001b[39m \u001b[43mdo_single_fit\u001b[49m\u001b[43m(\u001b[49m\u001b[38;5;241;43m*\u001b[39;49m\u001b[38;5;241;43m*\u001b[39;49m\u001b[43mfit_args\u001b[49m\u001b[43m,\u001b[49m\u001b[43m \u001b[49m\u001b[38;5;241;43m*\u001b[39;49m\u001b[38;5;241;43m*\u001b[39;49m\u001b[43mmodel_args\u001b[49m\u001b[43m)\u001b[49m\n",
      "File \u001b[0;32m~/PycharmProjects/covid-models/covid_model/runnable_functions.py:179\u001b[0m, in \u001b[0;36mdo_single_fit\u001b[0;34m(tc_0, tc_min, tc_max, tc_window_size, tc_window_batch_size, tc_batch_increment, last_tc_window_min_size, fit_start_date, fit_end_date, prep_model, pre_solve_model, outdir, write_results, write_batch_results, model_class, **model_args)\u001b[0m\n\u001b[1;32m    177\u001b[0m logger\u001b[38;5;241m.\u001b[39minfo(\u001b[38;5;124mf\u001b[39m\u001b[38;5;124m'\u001b[39m\u001b[38;5;132;01m{\u001b[39;00m\u001b[38;5;28mstr\u001b[39m(model\u001b[38;5;241m.\u001b[39mtags)\u001b[38;5;132;01m}\u001b[39;00m\u001b[38;5;124m Prepping Model\u001b[39m\u001b[38;5;124m'\u001b[39m)\n\u001b[1;32m    178\u001b[0m t0 \u001b[38;5;241m=\u001b[39m perf_counter()\n\u001b[0;32m--> 179\u001b[0m \u001b[43mmodel\u001b[49m\u001b[38;5;241;43m.\u001b[39;49m\u001b[43mprep\u001b[49m\u001b[43m(\u001b[49m\u001b[43moutdir\u001b[49m\u001b[38;5;241;43m=\u001b[39;49m\u001b[43moutdir\u001b[49m\u001b[43m)\u001b[49m\n\u001b[1;32m    180\u001b[0m logger\u001b[38;5;241m.\u001b[39mdebug(\u001b[38;5;124mf\u001b[39m\u001b[38;5;124m'\u001b[39m\u001b[38;5;132;01m{\u001b[39;00m\u001b[38;5;28mstr\u001b[39m(model\u001b[38;5;241m.\u001b[39mtags)\u001b[38;5;132;01m}\u001b[39;00m\u001b[38;5;124m Model flows \u001b[39m\u001b[38;5;132;01m{\u001b[39;00mmodel\u001b[38;5;241m.\u001b[39mflows_string\u001b[38;5;132;01m}\u001b[39;00m\u001b[38;5;124m'\u001b[39m)\n\u001b[1;32m    181\u001b[0m logger\u001b[38;5;241m.\u001b[39minfo(\u001b[38;5;124mf\u001b[39m\u001b[38;5;124m'\u001b[39m\u001b[38;5;132;01m{\u001b[39;00m\u001b[38;5;28mstr\u001b[39m(model\u001b[38;5;241m.\u001b[39mtags)\u001b[38;5;132;01m}\u001b[39;00m\u001b[38;5;124m Model prepped for fitting in \u001b[39m\u001b[38;5;132;01m{\u001b[39;00mperf_counter() \u001b[38;5;241m-\u001b[39m t0\u001b[38;5;132;01m}\u001b[39;00m\u001b[38;5;124m seconds.\u001b[39m\u001b[38;5;124m'\u001b[39m)\n",
      "File \u001b[0;32m~/PycharmProjects/covid-models/covid_model/model.py:1936\u001b[0m, in \u001b[0;36mCovidModel.prep\u001b[0;34m(self, rebuild_param_lookups, pickle_matrices, outdir, **build_param_lookup_args)\u001b[0m\n\u001b[1;32m   1934\u001b[0m \u001b[38;5;28;01mif\u001b[39;00m rebuild_param_lookups:\n\u001b[1;32m   1935\u001b[0m     \u001b[38;5;28mself\u001b[39m\u001b[38;5;241m.\u001b[39mbuild_param_lookups(\u001b[38;5;241m*\u001b[39m\u001b[38;5;241m*\u001b[39mbuild_param_lookup_args)\n\u001b[0;32m-> 1936\u001b[0m \u001b[38;5;28;43mself\u001b[39;49m\u001b[38;5;241;43m.\u001b[39;49m\u001b[43mbuild_ode_flows\u001b[49m\u001b[43m(\u001b[49m\u001b[43m)\u001b[49m\n\u001b[1;32m   1937\u001b[0m \u001b[38;5;28mself\u001b[39m\u001b[38;5;241m.\u001b[39mbuild_region_picker_matrix()\n\u001b[1;32m   1938\u001b[0m \u001b[38;5;28mself\u001b[39m\u001b[38;5;241m.\u001b[39mcompile()\n",
      "File \u001b[0;32m~/PycharmProjects/covid-models/covid_model/model.py:1781\u001b[0m, in \u001b[0;36mCovidModel.build_ode_flows\u001b[0;34m(self)\u001b[0m\n\u001b[1;32m   1779\u001b[0m         \u001b[38;5;66;03m# exposure attributable to immune escape (regardless of immunity)\u001b[39;00m\n\u001b[1;32m   1780\u001b[0m         \u001b[38;5;28mself\u001b[39m\u001b[38;5;241m.\u001b[39madd_flows_from_attrs_to_attrs({\u001b[38;5;124m'\u001b[39m\u001b[38;5;124mseir\u001b[39m\u001b[38;5;124m'\u001b[39m: \u001b[38;5;124m'\u001b[39m\u001b[38;5;124mS\u001b[39m\u001b[38;5;124m'\u001b[39m, \u001b[38;5;124m'\u001b[39m\u001b[38;5;124mregion\u001b[39m\u001b[38;5;124m'\u001b[39m: region}, {\u001b[38;5;124m'\u001b[39m\u001b[38;5;124mseir\u001b[39m\u001b[38;5;124m'\u001b[39m: \u001b[38;5;124m'\u001b[39m\u001b[38;5;124mE\u001b[39m\u001b[38;5;124m'\u001b[39m, \u001b[38;5;124m'\u001b[39m\u001b[38;5;124mvariant\u001b[39m\u001b[38;5;124m'\u001b[39m: variant}, to_coef\u001b[38;5;241m=\u001b[39m\u001b[38;5;124m'\u001b[39m\u001b[38;5;124mlamb * betta\u001b[39m\u001b[38;5;124m'\u001b[39m, from_coef\u001b[38;5;241m=\u001b[39m\u001b[38;5;124mf\u001b[39m\u001b[38;5;124m'\u001b[39m\u001b[38;5;124mimmunity * kappa / region_pop\u001b[39m\u001b[38;5;124m'\u001b[39m, from_to_coef\u001b[38;5;241m=\u001b[39m\u001b[38;5;124m'\u001b[39m\u001b[38;5;124mimmune_escape\u001b[39m\u001b[38;5;124m'\u001b[39m, scale_by_attrs\u001b[38;5;241m=\u001b[39m{\u001b[38;5;124m'\u001b[39m\u001b[38;5;124mseir\u001b[39m\u001b[38;5;124m'\u001b[39m: \u001b[38;5;124m'\u001b[39m\u001b[38;5;124mI\u001b[39m\u001b[38;5;124m'\u001b[39m, \u001b[38;5;124m'\u001b[39m\u001b[38;5;124mvariant\u001b[39m\u001b[38;5;124m'\u001b[39m: variant, \u001b[38;5;124m'\u001b[39m\u001b[38;5;124mregion\u001b[39m\u001b[38;5;124m'\u001b[39m: region})\n\u001b[0;32m-> 1781\u001b[0m         \u001b[38;5;28;43mself\u001b[39;49m\u001b[38;5;241;43m.\u001b[39;49m\u001b[43madd_flows_from_attrs_to_attrs\u001b[49m\u001b[43m(\u001b[49m\u001b[43m{\u001b[49m\u001b[38;5;124;43m'\u001b[39;49m\u001b[38;5;124;43mseir\u001b[39;49m\u001b[38;5;124;43m'\u001b[39;49m\u001b[43m:\u001b[49m\u001b[43m \u001b[49m\u001b[38;5;124;43m'\u001b[39;49m\u001b[38;5;124;43mS\u001b[39;49m\u001b[38;5;124;43m'\u001b[39;49m\u001b[43m,\u001b[49m\u001b[43m \u001b[49m\u001b[38;5;124;43m'\u001b[39;49m\u001b[38;5;124;43mregion\u001b[39;49m\u001b[38;5;124;43m'\u001b[39;49m\u001b[43m:\u001b[49m\u001b[43m \u001b[49m\u001b[43mregion\u001b[49m\u001b[43m}\u001b[49m\u001b[43m,\u001b[49m\u001b[43m \u001b[49m\u001b[43m{\u001b[49m\u001b[38;5;124;43m'\u001b[39;49m\u001b[38;5;124;43mseir\u001b[39;49m\u001b[38;5;124;43m'\u001b[39;49m\u001b[43m:\u001b[49m\u001b[43m \u001b[49m\u001b[38;5;124;43m'\u001b[39;49m\u001b[38;5;124;43mE\u001b[39;49m\u001b[38;5;124;43m'\u001b[39;49m\u001b[43m,\u001b[49m\u001b[43m \u001b[49m\u001b[38;5;124;43m'\u001b[39;49m\u001b[38;5;124;43mvariant\u001b[39;49m\u001b[38;5;124;43m'\u001b[39;49m\u001b[43m:\u001b[49m\u001b[43m \u001b[49m\u001b[43mvariant\u001b[49m\u001b[43m}\u001b[49m\u001b[43m,\u001b[49m\u001b[43m \u001b[49m\u001b[43mto_coef\u001b[49m\u001b[38;5;241;43m=\u001b[39;49m\u001b[38;5;124;43m'\u001b[39;49m\u001b[38;5;124;43mbetta\u001b[39;49m\u001b[38;5;124;43m'\u001b[39;49m\u001b[43m,\u001b[49m\u001b[43m \u001b[49m\u001b[43mfrom_coef\u001b[49m\u001b[38;5;241;43m=\u001b[39;49m\u001b[38;5;124;43mf\u001b[39;49m\u001b[38;5;124;43m'\u001b[39;49m\u001b[38;5;124;43mimmunity * kappa / region_pop\u001b[39;49m\u001b[38;5;124;43m'\u001b[39;49m\u001b[43m,\u001b[49m\u001b[43m \u001b[49m\u001b[43mfrom_to_coef\u001b[49m\u001b[38;5;241;43m=\u001b[39;49m\u001b[38;5;124;43m'\u001b[39;49m\u001b[38;5;124;43mimmune_escape\u001b[39;49m\u001b[38;5;124;43m'\u001b[39;49m\u001b[43m,\u001b[49m\u001b[43m \u001b[49m\u001b[43mscale_by_attrs\u001b[49m\u001b[38;5;241;43m=\u001b[39;49m\u001b[43m{\u001b[49m\u001b[38;5;124;43m'\u001b[39;49m\u001b[38;5;124;43mseir\u001b[39;49m\u001b[38;5;124;43m'\u001b[39;49m\u001b[43m:\u001b[49m\u001b[43m \u001b[49m\u001b[38;5;124;43m'\u001b[39;49m\u001b[38;5;124;43mA\u001b[39;49m\u001b[38;5;124;43m'\u001b[39;49m\u001b[43m,\u001b[49m\u001b[43m \u001b[49m\u001b[38;5;124;43m'\u001b[39;49m\u001b[38;5;124;43mvariant\u001b[39;49m\u001b[38;5;124;43m'\u001b[39;49m\u001b[43m:\u001b[49m\u001b[43m \u001b[49m\u001b[43mvariant\u001b[49m\u001b[43m,\u001b[49m\u001b[43m \u001b[49m\u001b[38;5;124;43m'\u001b[39;49m\u001b[38;5;124;43mregion\u001b[39;49m\u001b[38;5;124;43m'\u001b[39;49m\u001b[43m:\u001b[49m\u001b[43m \u001b[49m\u001b[43mregion\u001b[49m\u001b[43m}\u001b[49m\u001b[43m)\u001b[49m\n\u001b[1;32m   1782\u001b[0m     \u001b[38;5;66;03m# Transmission parameters attached to the susceptible population\u001b[39;00m\n\u001b[1;32m   1783\u001b[0m \u001b[38;5;28;01melif\u001b[39;00m \u001b[38;5;28mself\u001b[39m\u001b[38;5;241m.\u001b[39mmobility_mode \u001b[38;5;241m==\u001b[39m \u001b[38;5;124m\"\u001b[39m\u001b[38;5;124mpopulation_attached\u001b[39m\u001b[38;5;124m\"\u001b[39m:\n",
      "File \u001b[0;32m~/PycharmProjects/covid-models/covid_model/model.py:1726\u001b[0m, in \u001b[0;36mCovidModel.add_flows_from_attrs_to_attrs\u001b[0;34m(self, from_attrs, to_attrs, from_coef, to_coef, from_to_coef, scale_by_attrs, scale_by_coef, constant)\u001b[0m\n\u001b[1;32m   1724\u001b[0m to_cmpts \u001b[38;5;241m=\u001b[39m \u001b[38;5;28mself\u001b[39m\u001b[38;5;241m.\u001b[39mupdate_cmpt_tuple_with_attrs(from_cmpt, to_attrs)\n\u001b[1;32m   1725\u001b[0m \u001b[38;5;28;01mfor\u001b[39;00m to_cmpt \u001b[38;5;129;01min\u001b[39;00m to_cmpts:\n\u001b[0;32m-> 1726\u001b[0m     \u001b[38;5;28;43mself\u001b[39;49m\u001b[38;5;241;43m.\u001b[39;49m\u001b[43madd_flow_from_cmpt_to_cmpt\u001b[49m\u001b[43m(\u001b[49m\u001b[43mfrom_cmpt\u001b[49m\u001b[43m,\u001b[49m\u001b[43m \u001b[49m\u001b[43mto_cmpt\u001b[49m\u001b[43m,\u001b[49m\u001b[43m \u001b[49m\u001b[43mfrom_coef\u001b[49m\u001b[38;5;241;43m=\u001b[39;49m\u001b[43mfrom_coef\u001b[49m\u001b[43m,\u001b[49m\u001b[43m \u001b[49m\u001b[43mto_coef\u001b[49m\u001b[38;5;241;43m=\u001b[39;49m\u001b[43mto_coef\u001b[49m\u001b[43m,\u001b[49m\u001b[43m \u001b[49m\u001b[43mfrom_to_coef\u001b[49m\u001b[38;5;241;43m=\u001b[39;49m\u001b[43mfrom_to_coef\u001b[49m\u001b[43m,\u001b[49m\u001b[43m \u001b[49m\u001b[43mscale_by_cmpts\u001b[49m\u001b[38;5;241;43m=\u001b[39;49m\u001b[43mscale_by_cmpts\u001b[49m\u001b[43m,\u001b[49m\n\u001b[1;32m   1727\u001b[0m \u001b[43m                                    \u001b[49m\u001b[43mscale_by_cmpts_coef\u001b[49m\u001b[38;5;241;43m=\u001b[39;49m\u001b[43mscale_by_coef\u001b[49m\u001b[43m,\u001b[49m\u001b[43m \u001b[49m\u001b[43mconstant\u001b[49m\u001b[38;5;241;43m=\u001b[39;49m\u001b[43mconstant\u001b[49m\u001b[43m)\u001b[49m\n",
      "File \u001b[0;32m~/PycharmProjects/covid-models/covid_model/model.py:1649\u001b[0m, in \u001b[0;36mCovidModel.add_flow_from_cmpt_to_cmpt\u001b[0;34m(self, from_cmpt, to_cmpt, from_coef, to_coef, from_to_coef, scale_by_cmpts, scale_by_cmpts_coef, constant)\u001b[0m\n\u001b[1;32m   1647\u001b[0m     parsed_coef \u001b[38;5;241m=\u001b[39m parse_expr(to_coef)  \u001b[38;5;66;03m# parsing and lambdifying the coef ahead of time saves doing it for every t\u001b[39;00m\n\u001b[1;32m   1648\u001b[0m     relevant_params \u001b[38;5;241m=\u001b[39m [\u001b[38;5;28mstr\u001b[39m(s) \u001b[38;5;28;01mfor\u001b[39;00m s \u001b[38;5;129;01min\u001b[39;00m parsed_coef\u001b[38;5;241m.\u001b[39mfree_symbols]\n\u001b[0;32m-> 1649\u001b[0m     coef_by_t \u001b[38;5;241m=\u001b[39m {t: coef_by_t[t] \u001b[38;5;241m*\u001b[39m coef \u001b[38;5;28;01mfor\u001b[39;00m t, coef \u001b[38;5;129;01min\u001b[39;00m \u001b[38;5;28mself\u001b[39m\u001b[38;5;241m.\u001b[39mcalc_coef_by_t(parse_expr(to_coef), cmpt\u001b[38;5;241m=\u001b[39mto_cmpt, lambdified_coef\u001b[38;5;241m=\u001b[39m\u001b[43msym\u001b[49m\u001b[38;5;241;43m.\u001b[39;49m\u001b[43mlambdify\u001b[49m\u001b[43m(\u001b[49m\u001b[43mrelevant_params\u001b[49m\u001b[43m,\u001b[49m\u001b[43m \u001b[49m\u001b[43mparsed_coef\u001b[49m\u001b[43m)\u001b[49m)\u001b[38;5;241m.\u001b[39mitems()}\n\u001b[1;32m   1650\u001b[0m \u001b[38;5;28;01mif\u001b[39;00m from_coef \u001b[38;5;129;01mis\u001b[39;00m \u001b[38;5;129;01mnot\u001b[39;00m \u001b[38;5;28;01mNone\u001b[39;00m:\n\u001b[1;32m   1651\u001b[0m     parsed_coef \u001b[38;5;241m=\u001b[39m parse_expr(from_coef)  \u001b[38;5;66;03m# parsing and lambdifying the coef ahead of time saves doing it for every t\u001b[39;00m\n",
      "File \u001b[0;32m~/PycharmProjects/covid-models/venv/lib/python3.9/site-packages/sympy/utilities/lambdify.py:796\u001b[0m, in \u001b[0;36mlambdify\u001b[0;34m(args, expr, modules, printer, use_imps, dummify, cse)\u001b[0m\n\u001b[1;32m    794\u001b[0m \u001b[38;5;28;01mfor\u001b[39;00m m \u001b[38;5;129;01min\u001b[39;00m namespaces[::\u001b[38;5;241m-\u001b[39m\u001b[38;5;241m1\u001b[39m]:\n\u001b[1;32m    795\u001b[0m     buf \u001b[38;5;241m=\u001b[39m _get_namespace(m)\n\u001b[0;32m--> 796\u001b[0m     \u001b[43mnamespace\u001b[49m\u001b[38;5;241;43m.\u001b[39;49m\u001b[43mupdate\u001b[49m\u001b[43m(\u001b[49m\u001b[43mbuf\u001b[49m\u001b[43m)\u001b[49m\n\u001b[1;32m    798\u001b[0m \u001b[38;5;28;01mif\u001b[39;00m \u001b[38;5;28mhasattr\u001b[39m(expr, \u001b[38;5;124m\"\u001b[39m\u001b[38;5;124matoms\u001b[39m\u001b[38;5;124m\"\u001b[39m):\n\u001b[1;32m    799\u001b[0m     \u001b[38;5;66;03m#Try if you can extract symbols from the expression.\u001b[39;00m\n\u001b[1;32m    800\u001b[0m     \u001b[38;5;66;03m#Move on if expr.atoms in not implemented.\u001b[39;00m\n\u001b[1;32m    801\u001b[0m     syms \u001b[38;5;241m=\u001b[39m expr\u001b[38;5;241m.\u001b[39matoms(Symbol)\n",
      "\u001b[0;31mKeyboardInterrupt\u001b[0m: "
     ]
    }
   ],
   "source": [
    "# designate the arguments for how the model will behave\n",
    "model_args = {\n",
    "    'params_defs': 'covid_model/analysis/20221109_nov_gov_briefing/20221109_scenario_params.json',\n",
    "    'region_defs': 'covid_model/input/region_definitions.json',\n",
    "    'vacc_proj_params': 'covid_model/analysis/20221109_nov_gov_briefing/20221109_vacc_proj_params.json',\n",
    "    'start_date': '2020-01-24',\n",
    "    'end_date': '2024-01-01',\n",
    "}\n",
    "\n",
    "# this is how the fit will behave\n",
    "# place the outdir argument here to tell the model fit where to go\n",
    "fit_args = {'outdir': outdir,\n",
    "            'fit_end_date': '2022-02-28'\n",
    "}\n",
    "\n",
    "# because all the scenarios are the same \n",
    "model = do_single_fit(**fit_args, **model_args)"
   ]
  },
  {
   "cell_type": "markdown",
   "metadata": {
    "pycharm": {
     "name": "#%% md\n"
    }
   },
   "source": [
    "### Create and run scenarios from Feb 2022 to present"
   ]
  },
  {
   "cell_type": "code",
   "execution_count": 4,
   "metadata": {
    "pycharm": {
     "name": "#%%\n"
    }
   },
   "outputs": [],
   "source": [
    "multiprocess = 3\n",
    "\n",
    "scenario_params = json.load(open('covid_model/analysis/20221109_nov_gov_briefing/20221109_scenario_params.json'))\n",
    "\n",
    "model_args = {\n",
    "    'base_spec_id': 4296, # use the spec id that was output from the model fit\n",
    "}\n",
    "model_fit_args = {\n",
    "    'outdir': outdir,\n",
    "    'fit_start_date': '2022-03-01', # set the start date for the earliest point at which the scenarios start to differ from one another\n",
    "    'pre_solve_model': True # force the model to establish initial conditions so the fit can start on the fit start date\n",
    "}\n",
    "\n",
    "# define vaccine effectiveness for < 5 (this is a multiplier for the baseline vaccine effectiveness for 0-19)\n",
    "vacc_eff_lt5 = 0.5\n",
    "\n",
    "# Create different scenarios to model\n",
    "scenario_model_args = []\n",
    "for (weak_escape, strong_escape) in [(0.6, 0.35), (0.5, 0.25), (0.7, 0.45)]:\n",
    "    scrabble_seed = [{\"param\": \"scrabble_seed\", \"attrs\": None, \"vals\": {\"2020-01-01\": 0, \"2022-09-15\": 10,\n",
    "                                                                       \"2022-10-30\": 0}}]\n",
    "    hrf = {\"2020-01-01\": 1, \"2022-03-01\": (0.66 + 0.34*0.8),\n",
    "           \"2022-03-15\": (0.34 + 0.66*0.8), \"2022-03-30\": 0.8}\n",
    "    weak_param = [{\"param\": \"immune_escape\",\n",
    "                   \"from_attrs\": {\"immun\": \"weak\",\n",
    "                                  \"variant\": [\"none\", \"wildtype\", \"alpha\", \"delta\",\n",
    "                                              \"omicron\", \"ba2\", \"ba2121\", \"ba45\"]},\n",
    "                   \"to_attrs\": {\"variant\": [\"scrabble\"]},\n",
    "                   \"vals\": {\"2020-01-01\": weak_escape},\n",
    "                   \"desc\": \"Scrabble variants immune escape value, weak immunity\"}]\n",
    "    strong_param = [{\"param\": \"immune_escape\",\n",
    "                   \"from_attrs\": {\"immun\": \"strong\",\n",
    "                                  \"variant\": [\"none\", \"wildtype\", \"alpha\", \"delta\",\n",
    "                                              \"omicron\", \"ba2\", \"ba2121\", \"ba45\"]},\n",
    "                   \"to_attrs\": {\"variant\": [\"scrabble\"]},\n",
    "                   \"vals\": {\"2020-01-01\": strong_escape},\n",
    "                   \"desc\": \"Scrabble variants immune escape value, strong immunity\"}]\n",
    "    lt5_vacc_adjust = [{\"param\": \"immunity\",\n",
    "                        \"attrs\": {'age': '0-19', 'vacc': 'shot1'},\n",
    "                        \"mults\": {\"2020-01-01\": 1,\n",
    "                                  \"2022-06-24\": 0.99 + 0.01*vacc_eff_lt5,\n",
    "                                  \"2022-06-30\": 0.98 + 0.02*vacc_eff_lt5,\n",
    "                                  \"2022-07-08\": 0.97 + 0.03*vacc_eff_lt5,\n",
    "                                  \"2022-07-19\": 0.96 + 0.04*vacc_eff_lt5,\n",
    "                                  \"2022-07-29\": 0.95 + 0.05*vacc_eff_lt5,\n",
    "                                  \"2022-08-11\": 0.94 + 0.06*vacc_eff_lt5,\n",
    "                                  \"2022-08-30\": 0.93 + 0.07*vacc_eff_lt5,\n",
    "                                  \"2022-09-26\": 0.92 + 0.08*vacc_eff_lt5,\n",
    "                                  \"2022-10-26\": 0.91 + 0.09*vacc_eff_lt5,},\n",
    "                        \"desc\": \"weighted average using share of 0-19 getting shot1 who are under 5\"}]\n",
    "    scenario_model_args.append({'params_defs': scenario_params + weak_param + strong_param + scrabble_seed + lt5_vacc_adjust,\n",
    "                                'hosp_reporting_frac': hrf,\n",
    "                                'tags': {'scrabble_escape_weak': weak_escape,\n",
    "                                        'scrabble_escape_strong': strong_escape}})\n",
    "            "
   ]
  },
  {
   "cell_type": "code",
   "execution_count": 5,
   "metadata": {},
   "outputs": [
    {
     "data": {
      "text/plain": [
       "3"
      ]
     },
     "execution_count": 5,
     "metadata": {},
     "output_type": "execute_result"
    }
   ],
   "source": [
    "# check how many scenarios there are\n",
    "len(scenario_model_args)"
   ]
  },
  {
   "cell_type": "code",
   "execution_count": 6,
   "metadata": {},
   "outputs": [
    {
     "name": "stderr",
     "output_type": "stream",
     "text": [
      "2022/11/08 14:44:49 INFO|============================================================\n",
      "2022/11/08 14:44:49 INFO|============================================================\n",
      "2022/11/08 14:44:49 INFO|============================================================\n",
      "2022/11/08 14:44:53 INFO|-----------|{'scrabble_escape_weak': 0.6, 'scrabble_escape_strong': 0.35} Retrieving vaccinations data\n",
      "2022/11/08 14:44:53 INFO|-----------|{'scrabble_escape_weak': 0.5, 'scrabble_escape_strong': 0.25} Retrieving vaccinations data\n",
      "2022/11/08 14:44:53 INFO|-----------|{'scrabble_escape_weak': 0.7, 'scrabble_escape_strong': 0.45} Retrieving vaccinations data\n",
      "2022/11/08 14:44:54 INFO|-----------|{'scrabble_escape_weak': 0.5, 'scrabble_escape_strong': 0.25} Constructing vaccination projections\n",
      "2022/11/08 14:44:54 INFO|-----------|{'scrabble_escape_weak': 0.6, 'scrabble_escape_strong': 0.35} Constructing vaccination projections\n",
      "2022/11/08 14:44:54 INFO|-----------|{'scrabble_escape_weak': 0.7, 'scrabble_escape_strong': 0.45} Constructing vaccination projections\n",
      "2022/11/08 14:44:56 INFO|-----------|{'scrabble_escape_weak': 0.6, 'scrabble_escape_strong': 0.35} Retrieving hospitalizations data\n",
      "2022/11/08 14:44:56 INFO|-----------|{'scrabble_escape_weak': 0.5, 'scrabble_escape_strong': 0.25} Retrieving hospitalizations data\n",
      "2022/11/08 14:44:56 INFO|-----------|{'scrabble_escape_weak': 0.7, 'scrabble_escape_strong': 0.45} Retrieving hospitalizations data\n",
      "2022/11/08 14:44:58 INFO|--------|{'scrabble_escape_weak': 0.6, 'scrabble_escape_strong': 0.35} Prepping Model\n",
      "2022/11/08 14:44:58 INFO|---------|{'scrabble_escape_weak': 0.6, 'scrabble_escape_strong': 0.35} Prepping Model\n",
      "2022/11/08 14:44:58 INFO|--------|{'scrabble_escape_weak': 0.5, 'scrabble_escape_strong': 0.25} Prepping Model\n",
      "2022/11/08 14:44:58 INFO|---------|{'scrabble_escape_weak': 0.5, 'scrabble_escape_strong': 0.25} Prepping Model\n",
      "2022/11/08 14:44:58 INFO|--------|{'scrabble_escape_weak': 0.7, 'scrabble_escape_strong': 0.45} Prepping Model\n",
      "2022/11/08 14:44:58 INFO|---------|{'scrabble_escape_weak': 0.7, 'scrabble_escape_strong': 0.45} Prepping Model\n",
      "2022/11/08 14:46:26 INFO|--------|{'scrabble_escape_weak': 0.7, 'scrabble_escape_strong': 0.45} Model prepped for fitting in 87.672063458 seconds.\n",
      "2022/11/08 14:46:26 INFO|--------|{'scrabble_escape_weak': 0.7, 'scrabble_escape_strong': 0.45} Solving Model ODE\n",
      "2022/11/08 14:46:26 INFO|--------|{'scrabble_escape_weak': 0.5, 'scrabble_escape_strong': 0.25} Model prepped for fitting in 88.098054667 seconds.\n",
      "2022/11/08 14:46:26 INFO|--------|{'scrabble_escape_weak': 0.5, 'scrabble_escape_strong': 0.25} Solving Model ODE\n",
      "2022/11/08 14:46:26 INFO|--------|{'scrabble_escape_weak': 0.6, 'scrabble_escape_strong': 0.35} Model prepped for fitting in 88.43234425 seconds.\n",
      "2022/11/08 14:46:26 INFO|--------|{'scrabble_escape_weak': 0.6, 'scrabble_escape_strong': 0.35} Solving Model ODE\n",
      "2022/11/08 14:46:30 INFO|--------|{'scrabble_escape_weak': 0.7, 'scrabble_escape_strong': 0.45} Model solved in 4.462780459000001 seconds.\n",
      "2022/11/08 14:46:30 INFO|--------|{'scrabble_escape_weak': 0.7, 'scrabble_escape_strong': 0.45} Will fit 7 times\n",
      "2022/11/08 14:46:31 INFO|--------|{'scrabble_escape_weak': 0.5, 'scrabble_escape_strong': 0.25} Model solved in 4.553139999999999 seconds.\n",
      "2022/11/08 14:46:31 INFO|--------|{'scrabble_escape_weak': 0.5, 'scrabble_escape_strong': 0.25} Will fit 7 times\n",
      "2022/11/08 14:46:31 INFO|--------|{'scrabble_escape_weak': 0.6, 'scrabble_escape_strong': 0.35} Model solved in 4.494470875000005 seconds.\n",
      "2022/11/08 14:46:31 INFO|--------|{'scrabble_escape_weak': 0.6, 'scrabble_escape_strong': 0.35} Will fit 7 times\n",
      "2022/11/08 14:46:43 INFO|--------|{'scrabble_escape_weak': 0.7, 'scrabble_escape_strong': 0.45, 'fit_batch': '0'}: Transmission control fit 1/7 completed in 12.489927375000008 seconds: {767: {'co': 0.7317016469404679}, 781: {'co': 0.79377842424002}, 795: {'co': 0.787347541635656}, 809: {'co': 0.809767562944651}, 823: {'co': 0.8216366447855145}, 837: {'co': 0.8150217714370286}}\n",
      "2022/11/08 14:46:43 INFO|---------|{'scrabble_escape_weak': 0.7, 'scrabble_escape_strong': 0.45, 'fit_batch': '0'}: Running forward sim\n",
      "2022/11/08 14:46:43 INFO|--------|{'scrabble_escape_weak': 0.5, 'scrabble_escape_strong': 0.25, 'fit_batch': '0'}: Transmission control fit 1/7 completed in 12.710307125 seconds: {767: {'co': 0.7317016469404679}, 781: {'co': 0.79377842424002}, 795: {'co': 0.787347541635656}, 809: {'co': 0.809767562944651}, 823: {'co': 0.8216366447855145}, 837: {'co': 0.8150217714370286}}\n",
      "2022/11/08 14:46:43 INFO|---------|{'scrabble_escape_weak': 0.5, 'scrabble_escape_strong': 0.25, 'fit_batch': '0'}: Running forward sim\n",
      "2022/11/08 14:46:43 INFO|--------|{'scrabble_escape_weak': 0.6, 'scrabble_escape_strong': 0.35, 'fit_batch': '0'}: Transmission control fit 1/7 completed in 12.455257583999995 seconds: {767: {'co': 0.7317016469404679}, 781: {'co': 0.79377842424002}, 795: {'co': 0.787347541635656}, 809: {'co': 0.809767562944651}, 823: {'co': 0.8216366447855145}, 837: {'co': 0.8150217714370286}}\n",
      "2022/11/08 14:46:43 INFO|---------|{'scrabble_escape_weak': 0.6, 'scrabble_escape_strong': 0.35, 'fit_batch': '0'}: Running forward sim\n",
      "2022/11/08 14:46:57 INFO|--------|{'scrabble_escape_weak': 0.7, 'scrabble_escape_strong': 0.45, 'fit_batch': '1'}: Transmission control fit 2/7 completed in 12.568110582999992 seconds: {795: {'co': 0.7869754208864282}, 809: {'co': 0.8113709363573344}, 823: {'co': 0.8185982195058852}, 837: {'co': 0.8221406589135656}, 851: {'co': 0.8063155032607894}, 865: {'co': 0.8312518170228677}}\n",
      "2022/11/08 14:46:57 INFO|---------|{'scrabble_escape_weak': 0.7, 'scrabble_escape_strong': 0.45, 'fit_batch': '1'}: Running forward sim\n",
      "2022/11/08 14:46:58 INFO|--------|{'scrabble_escape_weak': 0.6, 'scrabble_escape_strong': 0.35, 'fit_batch': '1'}: Transmission control fit 2/7 completed in 12.647922125000008 seconds: {795: {'co': 0.7869754208864282}, 809: {'co': 0.8113709363573344}, 823: {'co': 0.8185982195058852}, 837: {'co': 0.8221406589135656}, 851: {'co': 0.8063155032607894}, 865: {'co': 0.8312518170228677}}\n",
      "2022/11/08 14:46:58 INFO|---------|{'scrabble_escape_weak': 0.6, 'scrabble_escape_strong': 0.35, 'fit_batch': '1'}: Running forward sim\n",
      "2022/11/08 14:46:58 INFO|--------|{'scrabble_escape_weak': 0.5, 'scrabble_escape_strong': 0.25, 'fit_batch': '1'}: Transmission control fit 2/7 completed in 12.856991499999992 seconds: {795: {'co': 0.7869754208864282}, 809: {'co': 0.8113709363573344}, 823: {'co': 0.8185982195058852}, 837: {'co': 0.8221406589135656}, 851: {'co': 0.8063155032607894}, 865: {'co': 0.8312518170228677}}\n",
      "2022/11/08 14:46:58 INFO|---------|{'scrabble_escape_weak': 0.5, 'scrabble_escape_strong': 0.25, 'fit_batch': '1'}: Running forward sim\n",
      "2022/11/08 14:47:11 INFO|--------|{'scrabble_escape_weak': 0.7, 'scrabble_escape_strong': 0.45, 'fit_batch': '2'}: Transmission control fit 3/7 completed in 12.42421008400001 seconds: {823: {'co': 0.8185014041126655}, 837: {'co': 0.8222936008374776}, 851: {'co': 0.8056332792656046}, 865: {'co': 0.8335636885335639}, 879: {'co': 0.8141670731171342}, 893: {'co': 0.8110416101843243}}\n",
      "2022/11/08 14:47:11 INFO|---------|{'scrabble_escape_weak': 0.7, 'scrabble_escape_strong': 0.45, 'fit_batch': '2'}: Running forward sim\n",
      "2022/11/08 14:47:12 INFO|--------|{'scrabble_escape_weak': 0.6, 'scrabble_escape_strong': 0.35, 'fit_batch': '2'}: Transmission control fit 3/7 completed in 12.444294333999977 seconds: {823: {'co': 0.8185014041126655}, 837: {'co': 0.8222936008374776}, 851: {'co': 0.8056332792656046}, 865: {'co': 0.8335636885335639}, 879: {'co': 0.8141670731171342}, 893: {'co': 0.8110416101843243}}\n",
      "2022/11/08 14:47:12 INFO|---------|{'scrabble_escape_weak': 0.6, 'scrabble_escape_strong': 0.35, 'fit_batch': '2'}: Running forward sim\n",
      "2022/11/08 14:47:12 INFO|--------|{'scrabble_escape_weak': 0.5, 'scrabble_escape_strong': 0.25, 'fit_batch': '2'}: Transmission control fit 3/7 completed in 12.668800624999989 seconds: {823: {'co': 0.8185014041126655}, 837: {'co': 0.8222936008374776}, 851: {'co': 0.8056332792656046}, 865: {'co': 0.8335636885335639}, 879: {'co': 0.8141670731171342}, 893: {'co': 0.8110416101843243}}\n",
      "2022/11/08 14:47:12 INFO|---------|{'scrabble_escape_weak': 0.5, 'scrabble_escape_strong': 0.25, 'fit_batch': '2'}: Running forward sim\n"
     ]
    },
    {
     "name": "stderr",
     "output_type": "stream",
     "text": [
      "2022/11/08 14:47:25 INFO|--------|{'scrabble_escape_weak': 0.7, 'scrabble_escape_strong': 0.45, 'fit_batch': '3'}: Transmission control fit 4/7 completed in 12.393063957999999 seconds: {851: {'co': 0.8060404796394446}, 865: {'co': 0.8329794960850301}, 879: {'co': 0.8156065926405599}, 893: {'co': 0.8064824991900593}, 907: {'co': 0.8097232185803398}, 921: {'co': 0.7991453303900372}}\n",
      "2022/11/08 14:47:25 INFO|---------|{'scrabble_escape_weak': 0.7, 'scrabble_escape_strong': 0.45, 'fit_batch': '3'}: Running forward sim\n",
      "2022/11/08 14:47:26 INFO|--------|{'scrabble_escape_weak': 0.6, 'scrabble_escape_strong': 0.35, 'fit_batch': '3'}: Transmission control fit 4/7 completed in 12.425005749999997 seconds: {851: {'co': 0.8060404796394446}, 865: {'co': 0.8329794960850301}, 879: {'co': 0.8156065926405599}, 893: {'co': 0.8064824991900593}, 907: {'co': 0.8097232185803398}, 921: {'co': 0.7991453303900372}}\n",
      "2022/11/08 14:47:26 INFO|---------|{'scrabble_escape_weak': 0.6, 'scrabble_escape_strong': 0.35, 'fit_batch': '3'}: Running forward sim\n",
      "2022/11/08 14:47:27 INFO|--------|{'scrabble_escape_weak': 0.5, 'scrabble_escape_strong': 0.25, 'fit_batch': '3'}: Transmission control fit 4/7 completed in 12.630979750000023 seconds: {851: {'co': 0.8060404796394446}, 865: {'co': 0.8329794960850301}, 879: {'co': 0.8156065926405599}, 893: {'co': 0.8064824991900593}, 907: {'co': 0.8097232185803398}, 921: {'co': 0.7991453303900372}}\n",
      "2022/11/08 14:47:27 INFO|---------|{'scrabble_escape_weak': 0.5, 'scrabble_escape_strong': 0.25, 'fit_batch': '3'}: Running forward sim\n",
      "2022/11/08 14:47:38 INFO|--------|{'scrabble_escape_weak': 0.7, 'scrabble_escape_strong': 0.45, 'fit_batch': '4'}: Transmission control fit 5/7 completed in 10.58528445799999 seconds: {879: {'co': 0.8159066889380773}, 893: {'co': 0.8073502687403182}, 907: {'co': 0.807471199635856}, 921: {'co': 0.8088502748698715}, 935: {'co': 0.7784249317071421}, 949: {'co': 0.7954101681333532}}\n",
      "2022/11/08 14:47:38 INFO|---------|{'scrabble_escape_weak': 0.7, 'scrabble_escape_strong': 0.45, 'fit_batch': '4'}: Running forward sim\n",
      "2022/11/08 14:47:39 INFO|--------|{'scrabble_escape_weak': 0.6, 'scrabble_escape_strong': 0.35, 'fit_batch': '4'}: Transmission control fit 5/7 completed in 10.61547145900002 seconds: {879: {'co': 0.8159066889380773}, 893: {'co': 0.8073502687403182}, 907: {'co': 0.807471199635856}, 921: {'co': 0.8088502748698715}, 935: {'co': 0.7784249317071421}, 949: {'co': 0.7954101681333532}}\n",
      "2022/11/08 14:47:39 INFO|---------|{'scrabble_escape_weak': 0.6, 'scrabble_escape_strong': 0.35, 'fit_batch': '4'}: Running forward sim\n",
      "2022/11/08 14:47:39 INFO|--------|{'scrabble_escape_weak': 0.5, 'scrabble_escape_strong': 0.25, 'fit_batch': '4'}: Transmission control fit 5/7 completed in 10.78533566599998 seconds: {879: {'co': 0.8159066889380773}, 893: {'co': 0.8073502687403182}, 907: {'co': 0.807471199635856}, 921: {'co': 0.8088502748698715}, 935: {'co': 0.7784249317071421}, 949: {'co': 0.7954101681333532}}\n",
      "2022/11/08 14:47:39 INFO|---------|{'scrabble_escape_weak': 0.5, 'scrabble_escape_strong': 0.25, 'fit_batch': '4'}: Running forward sim\n",
      "2022/11/08 14:47:53 INFO|--------|{'scrabble_escape_weak': 0.6, 'scrabble_escape_strong': 0.35, 'fit_batch': '5'}: Transmission control fit 6/7 completed in 12.577046999999993 seconds: {907: {'co': 0.8074534160513447}, 921: {'co': 0.8089996818691143}, 935: {'co': 0.7778732785125884}, 949: {'co': 0.7963114849855503}, 963: {'co': 0.7581030166873395}, 977: {'co': 0.7847326588531978}}\n",
      "2022/11/08 14:47:53 INFO|---------|{'scrabble_escape_weak': 0.6, 'scrabble_escape_strong': 0.35, 'fit_batch': '5'}: Running forward sim\n",
      "2022/11/08 14:47:53 INFO|--------|{'scrabble_escape_weak': 0.5, 'scrabble_escape_strong': 0.25, 'fit_batch': '5'}: Transmission control fit 6/7 completed in 12.080494375 seconds: {907: {'co': 0.8074529816925087}, 921: {'co': 0.8089840914889213}, 935: {'co': 0.7779192588255945}, 949: {'co': 0.7961550356644527}, 963: {'co': 0.7585680701555467}, 977: {'co': 0.7773789208535594}}\n",
      "2022/11/08 14:47:53 INFO|---------|{'scrabble_escape_weak': 0.5, 'scrabble_escape_strong': 0.25, 'fit_batch': '5'}: Running forward sim\n",
      "2022/11/08 14:47:55 INFO|--------|{'scrabble_escape_weak': 0.7, 'scrabble_escape_strong': 0.45, 'fit_batch': '5'}: Transmission control fit 6/7 completed in 14.989056542000014 seconds: {907: {'co': 0.807455880554047}, 921: {'co': 0.8090468804180126}, 935: {'co': 0.7777366551143262}, 949: {'co': 0.7967748979765021}, 963: {'co': 0.7567771556204562}, 977: {'co': 0.8045945746929594}}\n",
      "2022/11/08 14:47:55 INFO|---------|{'scrabble_escape_weak': 0.7, 'scrabble_escape_strong': 0.45, 'fit_batch': '5'}: Running forward sim\n",
      "2022/11/08 14:48:11 INFO|--------|{'scrabble_escape_weak': 0.5, 'scrabble_escape_strong': 0.25, 'fit_batch': '6'}: Transmission control fit 7/7 completed in 16.307287416999998 seconds: {921: {'co': 0.8090497027463227}, 935: {'co': 0.7787009632011096}, 949: {'co': 0.7938191274630262}, 963: {'co': 0.7659823332124934}, 977: {'co': 0.7578969011994856}, 991: {'co': 0.7847637938519929}}\n",
      "2022/11/08 14:48:11 INFO|---------|{'scrabble_escape_weak': 0.5, 'scrabble_escape_strong': 0.25, 'fit_batch': '6'}: Running forward sim\n",
      "2022/11/08 14:48:13 INFO|--------|{'scrabble_escape_weak': 0.5, 'scrabble_escape_strong': 0.25, 'fit_batch': '6', 'run_type': 'fit'}: fitted TC: {0: {'co': 0.8306366821816143}, 14: {'co': 0.6979993282832323}, 28: {'co': 0.5652815030779559}, 42: {'co': 1.3377630507629367e-15}, 56: {'co': 0.6966542156819525}, 70: {'co': 0.8332723113665885}, 84: {'co': 0.8296250664461475}, 98: {'co': 0.8316923553393842}, 112: {'co': 0.8774897769552777}, 126: {'co': 0.8243043563823643}, 140: {'co': 0.760452793097366}, 154: {'co': 0.6712880022306991}, 168: {'co': 0.8430551366399854}, 182: {'co': 0.7826363434875424}, 196: {'co': 0.8191511043640095}, 210: {'co': 0.7726071093170934}, 224: {'co': 0.7713215685714466}, 238: {'co': 0.7185439602724302}, 252: {'co': 0.7220971427071249}, 266: {'co': 0.6850776801451802}, 280: {'co': 0.7198400366509309}, 294: {'co': 0.7589414915394733}, 308: {'co': 0.8220709579032593}, 322: {'co': 0.8118910349627317}, 336: {'co': 0.7823429680786415}, 350: {'co': 0.7948870083003131}, 364: {'co': 0.8035956915436661}, 378: {'co': 0.7447927212831749}, 392: {'co': 0.7784004828066371}, 406: {'co': 0.7114588493324089}, 420: {'co': 0.7151061298787231}, 434: {'co': 0.6867316075916409}, 448: {'co': 0.7394268183268414}, 462: {'co': 0.8126980205020948}, 476: {'co': 0.7928366987662389}, 490: {'co': 0.8311371389597316}, 504: {'co': 0.7880747089241033}, 518: {'co': 0.7811653493053203}, 532: {'co': 0.7596188216693869}, 546: {'co': 0.7121680123780059}, 560: {'co': 0.740608932042156}, 574: {'co': 0.7484118585998586}, 588: {'co': 0.7876519195539536}, 602: {'co': 0.7625376381449457}, 616: {'co': 0.7152460583747708}, 630: {'co': 0.732370035675153}, 644: {'co': 0.7074856321676982}, 658: {'co': 0.7489598840061916}, 672: {'co': 0.7618923621308946}, 686: {'co': 0.790898095218776}, 700: {'co': 0.7499964980509045}, 714: {'co': 0.7828454534997595}, 728: {'co': 0.7797601620249591}, 742: {'co': 0.7669429377893677}, 767: {'co': 0.7317016469404679}, 781: {'co': 0.79377842424002}, 795: {'co': 0.7869754208864282}, 809: {'co': 0.8113709363573344}, 823: {'co': 0.8185014041126655}, 837: {'co': 0.8222936008374776}, 851: {'co': 0.8060404796394446}, 865: {'co': 0.8329794960850301}, 879: {'co': 0.8159066889380773}, 893: {'co': 0.8073502687403182}, 907: {'co': 0.8074529816925087}, 921: {'co': 0.8090497027463227}, 935: {'co': 0.7787009632011096}, 949: {'co': 0.7938191274630262}, 963: {'co': 0.7659823332124934}, 977: {'co': 0.7578969011994856}, 991: {'co': 0.7847638087531541}}\n",
      "2022/11/08 14:48:13 INFO|---------|{'scrabble_escape_weak': 0.5, 'scrabble_escape_strong': 0.25, 'fit_batch': '6', 'run_type': 'fit'}: Running forward sim\n",
      "2022/11/08 14:48:17 INFO|--------|{'scrabble_escape_weak': 0.6, 'scrabble_escape_strong': 0.35, 'fit_batch': '6'}: Transmission control fit 7/7 completed in 22.051568500000002 seconds: {921: {'co': 0.8087111951735336}, 935: {'co': 0.7781967739448262}, 949: {'co': 0.7949520846079354}, 963: {'co': 0.7634918853621702}, 977: {'co': 0.7718782079542776}, 991: {'co': 0.8611302737935218}}\n",
      "2022/11/08 14:48:17 INFO|---------|{'scrabble_escape_weak': 0.6, 'scrabble_escape_strong': 0.35, 'fit_batch': '6'}: Running forward sim\n"
     ]
    },
    {
     "name": "stderr",
     "output_type": "stream",
     "text": [
      "2022/11/08 14:48:19 INFO|--------|{'scrabble_escape_weak': 0.6, 'scrabble_escape_strong': 0.35, 'fit_batch': '6', 'run_type': 'fit'}: fitted TC: {0: {'co': 0.8306366821816143}, 14: {'co': 0.6979993282832323}, 28: {'co': 0.5652815030779559}, 42: {'co': 1.3377630507629367e-15}, 56: {'co': 0.6966542156819525}, 70: {'co': 0.8332723113665885}, 84: {'co': 0.8296250664461475}, 98: {'co': 0.8316923553393842}, 112: {'co': 0.8774897769552777}, 126: {'co': 0.8243043563823643}, 140: {'co': 0.760452793097366}, 154: {'co': 0.6712880022306991}, 168: {'co': 0.8430551366399854}, 182: {'co': 0.7826363434875424}, 196: {'co': 0.8191511043640095}, 210: {'co': 0.7726071093170934}, 224: {'co': 0.7713215685714466}, 238: {'co': 0.7185439602724302}, 252: {'co': 0.7220971427071249}, 266: {'co': 0.6850776801451802}, 280: {'co': 0.7198400366509309}, 294: {'co': 0.7589414915394733}, 308: {'co': 0.8220709579032593}, 322: {'co': 0.8118910349627317}, 336: {'co': 0.7823429680786415}, 350: {'co': 0.7948870083003131}, 364: {'co': 0.8035956915436661}, 378: {'co': 0.7447927212831749}, 392: {'co': 0.7784004828066371}, 406: {'co': 0.7114588493324089}, 420: {'co': 0.7151061298787231}, 434: {'co': 0.6867316075916409}, 448: {'co': 0.7394268183268414}, 462: {'co': 0.8126980205020948}, 476: {'co': 0.7928366987662389}, 490: {'co': 0.8311371389597316}, 504: {'co': 0.7880747089241033}, 518: {'co': 0.7811653493053203}, 532: {'co': 0.7596188216693869}, 546: {'co': 0.7121680123780059}, 560: {'co': 0.740608932042156}, 574: {'co': 0.7484118585998586}, 588: {'co': 0.7876519195539536}, 602: {'co': 0.7625376381449457}, 616: {'co': 0.7152460583747708}, 630: {'co': 0.732370035675153}, 644: {'co': 0.7074856321676982}, 658: {'co': 0.7489598840061916}, 672: {'co': 0.7618923621308946}, 686: {'co': 0.790898095218776}, 700: {'co': 0.7499964980509045}, 714: {'co': 0.7828454534997595}, 728: {'co': 0.7797601620249591}, 742: {'co': 0.7669429377893677}, 767: {'co': 0.7317016469404679}, 781: {'co': 0.79377842424002}, 795: {'co': 0.7869754208864282}, 809: {'co': 0.8113709363573344}, 823: {'co': 0.8185014041126655}, 837: {'co': 0.8222936008374776}, 851: {'co': 0.8060404796394446}, 865: {'co': 0.8329794960850301}, 879: {'co': 0.8159066889380773}, 893: {'co': 0.8073502687403182}, 907: {'co': 0.8074534160513447}, 921: {'co': 0.8087111951735336}, 935: {'co': 0.7781967739448262}, 949: {'co': 0.7949520846079354}, 963: {'co': 0.7634918853621702}, 977: {'co': 0.7718782079542776}, 991: {'co': 0.861130288694683}}\n",
      "2022/11/08 14:48:19 INFO|---------|{'scrabble_escape_weak': 0.6, 'scrabble_escape_strong': 0.35, 'fit_batch': '6', 'run_type': 'fit'}: Running forward sim\n",
      "2022/11/08 14:48:44 INFO|--------|{'scrabble_escape_weak': 0.7, 'scrabble_escape_strong': 0.45, 'fit_batch': '6'}: Transmission control fit 7/7 completed in 47.55114849999998 seconds: {921: {'co': 0.8092706630886853}, 935: {'co': 0.7774203210203895}, 949: {'co': 0.7976652477257873}, 963: {'co': 0.7533446464346573}, 977: {'co': 0.8156121700178233}, 991: {'co': 0.897783134301968}}\n",
      "2022/11/08 14:48:44 INFO|---------|{'scrabble_escape_weak': 0.7, 'scrabble_escape_strong': 0.45, 'fit_batch': '6'}: Running forward sim\n",
      "2022/11/08 14:48:46 INFO|--------|{'scrabble_escape_weak': 0.7, 'scrabble_escape_strong': 0.45, 'fit_batch': '6', 'run_type': 'fit'}: fitted TC: {0: {'co': 0.8306366821816143}, 14: {'co': 0.6979993282832323}, 28: {'co': 0.5652815030779559}, 42: {'co': 1.3377630507629367e-15}, 56: {'co': 0.6966542156819525}, 70: {'co': 0.8332723113665885}, 84: {'co': 0.8296250664461475}, 98: {'co': 0.8316923553393842}, 112: {'co': 0.8774897769552777}, 126: {'co': 0.8243043563823643}, 140: {'co': 0.760452793097366}, 154: {'co': 0.6712880022306991}, 168: {'co': 0.8430551366399854}, 182: {'co': 0.7826363434875424}, 196: {'co': 0.8191511043640095}, 210: {'co': 0.7726071093170934}, 224: {'co': 0.7713215685714466}, 238: {'co': 0.7185439602724302}, 252: {'co': 0.7220971427071249}, 266: {'co': 0.6850776801451802}, 280: {'co': 0.7198400366509309}, 294: {'co': 0.7589414915394733}, 308: {'co': 0.8220709579032593}, 322: {'co': 0.8118910349627317}, 336: {'co': 0.7823429680786415}, 350: {'co': 0.7948870083003131}, 364: {'co': 0.8035956915436661}, 378: {'co': 0.7447927212831749}, 392: {'co': 0.7784004828066371}, 406: {'co': 0.7114588493324089}, 420: {'co': 0.7151061298787231}, 434: {'co': 0.6867316075916409}, 448: {'co': 0.7394268183268414}, 462: {'co': 0.8126980205020948}, 476: {'co': 0.7928366987662389}, 490: {'co': 0.8311371389597316}, 504: {'co': 0.7880747089241033}, 518: {'co': 0.7811653493053203}, 532: {'co': 0.7596188216693869}, 546: {'co': 0.7121680123780059}, 560: {'co': 0.740608932042156}, 574: {'co': 0.7484118585998586}, 588: {'co': 0.7876519195539536}, 602: {'co': 0.7625376381449457}, 616: {'co': 0.7152460583747708}, 630: {'co': 0.732370035675153}, 644: {'co': 0.7074856321676982}, 658: {'co': 0.7489598840061916}, 672: {'co': 0.7618923621308946}, 686: {'co': 0.790898095218776}, 700: {'co': 0.7499964980509045}, 714: {'co': 0.7828454534997595}, 728: {'co': 0.7797601620249591}, 742: {'co': 0.7669429377893677}, 767: {'co': 0.7317016469404679}, 781: {'co': 0.79377842424002}, 795: {'co': 0.7869754208864282}, 809: {'co': 0.8113709363573344}, 823: {'co': 0.8185014041126655}, 837: {'co': 0.8222936008374776}, 851: {'co': 0.8060404796394446}, 865: {'co': 0.8329794960850301}, 879: {'co': 0.8159066889380773}, 893: {'co': 0.8073502687403182}, 907: {'co': 0.807455880554047}, 921: {'co': 0.8092706630886853}, 935: {'co': 0.7774203210203895}, 949: {'co': 0.7976652477257873}, 963: {'co': 0.7533446464346573}, 977: {'co': 0.8156121700178233}, 991: {'co': 0.8977831492031292}}\n",
      "2022/11/08 14:48:46 INFO|---------|{'scrabble_escape_weak': 0.7, 'scrabble_escape_strong': 0.45, 'fit_batch': '6', 'run_type': 'fit'}: Running forward sim\n",
      "2022/11/08 14:49:11 INFO|-----------------------|spec_ids: 4307,4308,4309\n"
     ]
    }
   ],
   "source": [
    "# run the scenarios\n",
    "models = do_fit_scenarios(base_model_args=model_args, scenario_args_list=scenario_model_args, fit_args=model_fit_args, multiprocess=multiprocess)"
   ]
  },
  {
   "cell_type": "markdown",
   "metadata": {
    "pycharm": {
     "name": "#%% md\n"
    }
   },
   "source": [
    "### Run the report for each fit model"
   ]
  },
  {
   "cell_type": "code",
   "execution_count": 7,
   "metadata": {
    "pycharm": {
     "name": "#%%\n"
    }
   },
   "outputs": [
    {
     "name": "stderr",
     "output_type": "stream",
     "text": [
      "2022/11/08 14:49:40 INFO|============================================================\n",
      "2022/11/08 14:49:40 INFO|--------|Solving model\n",
      "2022/11/08 14:49:40 INFO|============================================================\n",
      "2022/11/08 14:49:40 INFO|--------|Solving model\n",
      "2022/11/08 14:49:41 INFO|============================================================\n",
      "2022/11/08 14:49:41 INFO|--------|Solving model\n",
      "2022/11/08 14:49:44 WARNING|No artists with labels found to put in legend.  Note that artists whose label start with an underscore are ignored when legend() is called with no argument.\n",
      "2022/11/08 14:49:45 WARNING|No artists with labels found to put in legend.  Note that artists whose label start with an underscore are ignored when legend() is called with no argument.\n",
      "2022/11/08 14:49:46 WARNING|No artists with labels found to put in legend.  Note that artists whose label start with an underscore are ignored when legend() is called with no argument.\n"
     ]
    }
   ],
   "source": [
    "# here you can also specify which variants you want to calculate immunity for\n",
    "do_create_multiple_reports(models, multiprocess=multiprocess, outdir=outdir, prep_model=False, solve_model=True, immun_variants=['ba45', 'scrabble'], from_date='2022-01-01')"
   ]
  },
  {
   "cell_type": "code",
   "execution_count": 8,
   "metadata": {
    "pycharm": {
     "name": "#%%\n"
    }
   },
   "outputs": [
    {
     "name": "stderr",
     "output_type": "stream",
     "text": [
      "2022/11/08 14:51:56 INFO|Projecting\n",
      "2022/11/08 14:51:56 INFO|\n",
      "2022/11/08 14:52:17 INFO|{'scrabble_escape_weak': 0.6, 'scrabble_escape_strong': 0.35, 'fit_batch': '6', 'run_type': 'fit'}: Running forward sim\n",
      "2022/11/08 14:52:19 INFO|\n",
      "2022/11/08 14:52:40 INFO|{'scrabble_escape_weak': 0.5, 'scrabble_escape_strong': 0.25, 'fit_batch': '6', 'run_type': 'fit'}: Running forward sim\n",
      "2022/11/08 14:52:41 INFO|\n",
      "2022/11/08 14:53:01 INFO|{'scrabble_escape_weak': 0.7, 'scrabble_escape_strong': 0.45, 'fit_batch': '6', 'run_type': 'fit'}: Running forward sim\n",
      "2022/11/08 14:53:03 INFO|Running reports\n"
     ]
    }
   ],
   "source": [
    "logging.info('Projecting')\n",
    "for model in models:\n",
    "    logging.info('')\n",
    "    #model.prep()  # don't think we need to prep anymore.\n",
    "    model.solve_seir()\n",
    "\n",
    "    model.solution_sum_df(['seir', 'variant', 'immun']).unstack().to_csv(get_filepath_prefix(outdir, tags=model.tags) + 'states_seir_variant_immun_total_all_at_once_projection.csv')\n",
    "    model.solution_sum_df().unstack().to_csv(get_filepath_prefix(outdir, tags=model.tags) + 'states_full_projection.csv')\n",
    "\n",
    "    logging.info(f'{str(model.tags)}: Running forward sim')\n",
    "    fig = plt.figure(figsize=(10, 10), dpi=300)\n",
    "    ax = fig.add_subplot(211)\n",
    "    hosps_df = model.modeled_vs_observed_hosps().reset_index('region').drop(columns='region')\n",
    "    hosps_df.plot(ax=ax)\n",
    "    ax.set_xlim(dt.datetime.strptime('2022-01-01', \"%Y-%m-%d\").date(), dt.datetime.strptime('2024-01-01', \"%Y-%m-%d\").date())\n",
    "    ax = fig.add_subplot(212)\n",
    "    plot_transmission_control(model, ax=ax)\n",
    "    ax.set_xlim(dt.datetime.strptime('2022-01-01', \"%Y-%m-%d\").date(), dt.datetime.strptime('2024-01-01', \"%Y-%m-%d\").date())\n",
    "    plt.savefig(get_filepath_prefix(outdir, tags=model.tags) + 'model_forecast.png')\n",
    "    plt.close()\n",
    "    hosps_df.to_csv(get_filepath_prefix(outdir, tags=model.tags) + '_model_forecast.csv')\n",
    "    json.dump(model.tc, open(get_filepath_prefix(outdir, tags=model.tags) + 'model_forecast_tc.json', 'w'))\n",
    "\n",
    "logging.info('Running reports')"
   ]
  },
  {
   "cell_type": "code",
   "execution_count": null,
   "metadata": {},
   "outputs": [],
   "source": [
    "model.solution_ydf.to_csv('covid_model/output/20221109_scenario_projections.ipynb/state_model_solution_ydf.csv', index=False)"
   ]
  },
  {
   "cell_type": "code",
   "execution_count": null,
   "metadata": {},
   "outputs": [],
   "source": []
  }
 ],
 "metadata": {
  "kernelspec": {
   "display_name": "Python 3 (ipykernel)",
   "language": "python",
   "name": "python3"
  },
  "language_info": {
   "codemirror_mode": {
    "name": "ipython",
    "version": 3
   },
   "file_extension": ".py",
   "mimetype": "text/x-python",
   "name": "python",
   "nbconvert_exporter": "python",
   "pygments_lexer": "ipython3",
   "version": "3.9.13"
  }
 },
 "nbformat": 4,
 "nbformat_minor": 4
}
