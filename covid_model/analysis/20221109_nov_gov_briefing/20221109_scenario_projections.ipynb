{
 "cells": [
  {
   "cell_type": "markdown",
   "metadata": {
    "pycharm": {
     "name": "#%% md\n"
    }
   },
   "source": [
    "### Setup"
   ]
  },
  {
   "cell_type": "code",
   "execution_count": 1,
   "metadata": {
    "pycharm": {
     "name": "#%%\n"
    }
   },
   "outputs": [
    {
     "name": "stdout",
     "output_type": "stream",
     "text": [
      "/Users/emwu9912/PycharmProjects/covid-models\n"
     ]
    }
   ],
   "source": [
    "\"\"\" Python Standard Library \"\"\"\n",
    "import os\n",
    "import datetime as dt\n",
    "import json\n",
    "import logging\n",
    "\"\"\" Third Party Imports \"\"\"\n",
    "import numpy as np\n",
    "import pandas as pd\n",
    "from matplotlib import pyplot as plt\n",
    "%matplotlib inline\n",
    "import seaborn as sns\n",
    "\"\"\" Local Imports \"\"\"\n",
    "if 'requirements.txt' not in os.listdir(os.getcwd()):\n",
    "    os.chdir(os.path.join('..','..','..'))\n",
    "print(os.getcwd())\n",
    "from covid_model.model import CovidModel\n",
    "from covid_model.runnable_functions import do_single_fit, do_fit_scenarios, do_create_multiple_reports\n",
    "from covid_model.utils import setup, get_filepath_prefix\n",
    "from covid_model.analysis.charts import plot_transmission_control\n",
    "\n",
    "os.environ['gcp_project'] = 'co-covid-models'\n",
    "os.environ['GOOGLE_APPLICATION_CREDENTIALS'] = \"co-covid-models-credentials.json\""
   ]
  },
  {
   "cell_type": "code",
   "execution_count": 2,
   "metadata": {
    "pycharm": {
     "name": "#%%\n"
    },
    "scrolled": true
   },
   "outputs": [
    {
     "name": "stderr",
     "output_type": "stream",
     "text": [
      "2022/10/24 10:49:35 INFO|============================================================\n"
     ]
    }
   ],
   "source": [
    "# set up the output directory for this Jupyter notebook\n",
    "outdir = setup(\"20221109_scenario_projections.ipynb\")"
   ]
  },
  {
   "cell_type": "markdown",
   "metadata": {
    "pycharm": {
     "name": "#%% md\n"
    }
   },
   "source": [
    "### Fit an initial scenario through February 2022"
   ]
  },
  {
   "cell_type": "code",
   "execution_count": 8,
   "metadata": {
    "pycharm": {
     "name": "#%%\n"
    }
   },
   "outputs": [
    {
     "name": "stderr",
     "output_type": "stream",
     "text": [
      "2022/10/24 10:56:58 INFO|-------------------------|{} Retrieving vaccinations data\n",
      "2022/10/24 10:57:00 INFO|-------------------------|{} Constructing vaccination projections\n",
      "2022/10/24 10:57:02 INFO|-------------------------|{} Retrieving hospitalizations data\n",
      "2022/10/24 10:57:04 INFO|----------------------|{} Prepping Model\n",
      "2022/10/24 10:57:04 INFO|-----------------------|{} Prepping Model\n",
      "2022/10/24 10:57:04 ERROR|----------------------------|{}parameter pS not defined for compartment ('0-19', 'booster3', 'omicron', 'none', 'co')\n",
      "NoneType: None\n"
     ]
    },
    {
     "ename": "ValueError",
     "evalue": "parameter pS not defined for compartment ('0-19', 'booster3', 'omicron', 'none', 'co')",
     "output_type": "error",
     "traceback": [
      "\u001b[0;31m---------------------------------------------------------------------------\u001b[0m",
      "\u001b[0;31mValueError\u001b[0m                                Traceback (most recent call last)",
      "Input \u001b[0;32mIn [8]\u001b[0m, in \u001b[0;36m<cell line: 17>\u001b[0;34m()\u001b[0m\n\u001b[1;32m     12\u001b[0m fit_args \u001b[38;5;241m=\u001b[39m {\u001b[38;5;124m'\u001b[39m\u001b[38;5;124moutdir\u001b[39m\u001b[38;5;124m'\u001b[39m: outdir,\n\u001b[1;32m     13\u001b[0m             \u001b[38;5;124m'\u001b[39m\u001b[38;5;124mfit_end_date\u001b[39m\u001b[38;5;124m'\u001b[39m: \u001b[38;5;124m'\u001b[39m\u001b[38;5;124m2022-02-28\u001b[39m\u001b[38;5;124m'\u001b[39m\n\u001b[1;32m     14\u001b[0m }\n\u001b[1;32m     16\u001b[0m \u001b[38;5;66;03m# because all the scenarios are the same \u001b[39;00m\n\u001b[0;32m---> 17\u001b[0m model \u001b[38;5;241m=\u001b[39m \u001b[43mdo_single_fit\u001b[49m\u001b[43m(\u001b[49m\u001b[38;5;241;43m*\u001b[39;49m\u001b[38;5;241;43m*\u001b[39;49m\u001b[43mfit_args\u001b[49m\u001b[43m,\u001b[49m\u001b[43m \u001b[49m\u001b[38;5;241;43m*\u001b[39;49m\u001b[38;5;241;43m*\u001b[39;49m\u001b[43mmodel_args\u001b[49m\u001b[43m)\u001b[49m\n",
      "File \u001b[0;32m~/PycharmProjects/covid-models/covid_model/runnable_functions.py:179\u001b[0m, in \u001b[0;36mdo_single_fit\u001b[0;34m(tc_0, tc_min, tc_max, tc_window_size, tc_window_batch_size, tc_batch_increment, last_tc_window_min_size, fit_start_date, fit_end_date, prep_model, pre_solve_model, outdir, write_results, write_batch_results, model_class, **model_args)\u001b[0m\n\u001b[1;32m    177\u001b[0m logger\u001b[38;5;241m.\u001b[39minfo(\u001b[38;5;124mf\u001b[39m\u001b[38;5;124m'\u001b[39m\u001b[38;5;132;01m{\u001b[39;00m\u001b[38;5;28mstr\u001b[39m(model\u001b[38;5;241m.\u001b[39mtags)\u001b[38;5;132;01m}\u001b[39;00m\u001b[38;5;124m Prepping Model\u001b[39m\u001b[38;5;124m'\u001b[39m)\n\u001b[1;32m    178\u001b[0m t0 \u001b[38;5;241m=\u001b[39m perf_counter()\n\u001b[0;32m--> 179\u001b[0m \u001b[43mmodel\u001b[49m\u001b[38;5;241;43m.\u001b[39;49m\u001b[43mprep\u001b[49m\u001b[43m(\u001b[49m\u001b[43moutdir\u001b[49m\u001b[38;5;241;43m=\u001b[39;49m\u001b[43moutdir\u001b[49m\u001b[43m)\u001b[49m\n\u001b[1;32m    180\u001b[0m logger\u001b[38;5;241m.\u001b[39mdebug(\u001b[38;5;124mf\u001b[39m\u001b[38;5;124m'\u001b[39m\u001b[38;5;132;01m{\u001b[39;00m\u001b[38;5;28mstr\u001b[39m(model\u001b[38;5;241m.\u001b[39mtags)\u001b[38;5;132;01m}\u001b[39;00m\u001b[38;5;124m Model flows \u001b[39m\u001b[38;5;132;01m{\u001b[39;00mmodel\u001b[38;5;241m.\u001b[39mflows_string\u001b[38;5;132;01m}\u001b[39;00m\u001b[38;5;124m'\u001b[39m)\n\u001b[1;32m    181\u001b[0m logger\u001b[38;5;241m.\u001b[39minfo(\u001b[38;5;124mf\u001b[39m\u001b[38;5;124m'\u001b[39m\u001b[38;5;132;01m{\u001b[39;00m\u001b[38;5;28mstr\u001b[39m(model\u001b[38;5;241m.\u001b[39mtags)\u001b[38;5;132;01m}\u001b[39;00m\u001b[38;5;124m Model prepped for fitting in \u001b[39m\u001b[38;5;132;01m{\u001b[39;00mperf_counter() \u001b[38;5;241m-\u001b[39m t0\u001b[38;5;132;01m}\u001b[39;00m\u001b[38;5;124m seconds.\u001b[39m\u001b[38;5;124m'\u001b[39m)\n",
      "File \u001b[0;32m~/PycharmProjects/covid-models/covid_model/model.py:1933\u001b[0m, in \u001b[0;36mCovidModel.prep\u001b[0;34m(self, rebuild_param_lookups, pickle_matrices, outdir, **build_param_lookup_args)\u001b[0m\n\u001b[1;32m   1931\u001b[0m logger\u001b[38;5;241m.\u001b[39minfo(\u001b[38;5;124mf\u001b[39m\u001b[38;5;124m\"\u001b[39m\u001b[38;5;132;01m{\u001b[39;00m\u001b[38;5;28mstr\u001b[39m(\u001b[38;5;28mself\u001b[39m\u001b[38;5;241m.\u001b[39mtags)\u001b[38;5;132;01m}\u001b[39;00m\u001b[38;5;124m Prepping Model\u001b[39m\u001b[38;5;124m\"\u001b[39m)\n\u001b[1;32m   1932\u001b[0m \u001b[38;5;28;01mif\u001b[39;00m rebuild_param_lookups:\n\u001b[0;32m-> 1933\u001b[0m     \u001b[38;5;28;43mself\u001b[39;49m\u001b[38;5;241;43m.\u001b[39;49m\u001b[43mbuild_param_lookups\u001b[49m\u001b[43m(\u001b[49m\u001b[38;5;241;43m*\u001b[39;49m\u001b[38;5;241;43m*\u001b[39;49m\u001b[43mbuild_param_lookup_args\u001b[49m\u001b[43m)\u001b[49m\n\u001b[1;32m   1934\u001b[0m \u001b[38;5;28mself\u001b[39m\u001b[38;5;241m.\u001b[39mbuild_ode_flows()\n\u001b[1;32m   1935\u001b[0m \u001b[38;5;28mself\u001b[39m\u001b[38;5;241m.\u001b[39mbuild_region_picker_matrix()\n",
      "File \u001b[0;32m~/PycharmProjects/covid-models/covid_model/model.py:1446\u001b[0m, in \u001b[0;36mCovidModel.build_param_lookups\u001b[0;34m(self, apply_vaccines, vacc_delay)\u001b[0m\n\u001b[1;32m   1444\u001b[0m         \u001b[38;5;28mself\u001b[39m\u001b[38;5;241m.\u001b[39mset_from_to_compartment_param(\u001b[38;5;241m*\u001b[39m\u001b[38;5;241m*\u001b[39mparam_def)\n\u001b[1;32m   1445\u001b[0m     \u001b[38;5;28;01melse\u001b[39;00m:\n\u001b[0;32m-> 1446\u001b[0m         \u001b[38;5;28;43mself\u001b[39;49m\u001b[38;5;241;43m.\u001b[39;49m\u001b[43mset_compartment_param\u001b[49m\u001b[43m(\u001b[49m\u001b[38;5;241;43m*\u001b[39;49m\u001b[38;5;241;43m*\u001b[39;49m\u001b[43mparam_def\u001b[49m\u001b[43m)\u001b[49m\n\u001b[1;32m   1448\u001b[0m \u001b[38;5;66;03m# determine all times when params change\u001b[39;00m\n\u001b[1;32m   1449\u001b[0m \u001b[38;5;28mself\u001b[39m\u001b[38;5;241m.\u001b[39mparams_trange \u001b[38;5;241m=\u001b[39m \u001b[38;5;28msorted\u001b[39m(\u001b[38;5;28mlist\u001b[39m(\u001b[38;5;28mset\u001b[39m\u001b[38;5;241m.\u001b[39munion(\u001b[38;5;241m*\u001b[39m[\u001b[38;5;28mset\u001b[39m(param\u001b[38;5;241m.\u001b[39mkeys()) \u001b[38;5;28;01mfor\u001b[39;00m param_key \u001b[38;5;129;01min\u001b[39;00m \u001b[38;5;28mself\u001b[39m\u001b[38;5;241m.\u001b[39mparams_by_t\u001b[38;5;241m.\u001b[39mvalues() \u001b[38;5;28;01mfor\u001b[39;00m param \u001b[38;5;129;01min\u001b[39;00m param_key\u001b[38;5;241m.\u001b[39mvalues()])))\n",
      "File \u001b[0;32m~/PycharmProjects/covid-models/covid_model/model.py:1401\u001b[0m, in \u001b[0;36mCovidModel.set_compartment_param\u001b[0;34m(self, param, attrs, vals, mults, desc)\u001b[0m\n\u001b[1;32m   1399\u001b[0m \u001b[38;5;66;03m# update the parameter\u001b[39;00m\n\u001b[1;32m   1400\u001b[0m \u001b[38;5;28;01mfor\u001b[39;00m cmpt \u001b[38;5;129;01min\u001b[39;00m cmpts:\n\u001b[0;32m-> 1401\u001b[0m     \u001b[38;5;28;43mself\u001b[39;49m\u001b[38;5;241;43m.\u001b[39;49m\u001b[43mset_param_by_t\u001b[49m\u001b[43m(\u001b[49m\u001b[43mparam\u001b[49m\u001b[43m,\u001b[49m\u001b[43m \u001b[49m\u001b[43mcmpt\u001b[49m\u001b[38;5;241;43m=\u001b[39;49m\u001b[43mcmpt\u001b[49m\u001b[43m,\u001b[49m\u001b[43m \u001b[49m\u001b[43mvals\u001b[49m\u001b[38;5;241;43m=\u001b[39;49m\u001b[43mvals\u001b[49m\u001b[43m,\u001b[49m\u001b[43m \u001b[49m\u001b[43mmults\u001b[49m\u001b[38;5;241;43m=\u001b[39;49m\u001b[43mmults\u001b[49m\u001b[43m)\u001b[49m\n",
      "File \u001b[0;32m~/PycharmProjects/covid-models/covid_model/model.py:1366\u001b[0m, in \u001b[0;36mCovidModel.set_param_by_t\u001b[0;34m(self, param, vals, mults, cmpt, from_cmpt, to_cmpt)\u001b[0m\n\u001b[1;32m   1363\u001b[0m \u001b[38;5;28;01mif\u001b[39;00m mults \u001b[38;5;129;01mis\u001b[39;00m \u001b[38;5;129;01mnot\u001b[39;00m \u001b[38;5;28;01mNone\u001b[39;00m:\n\u001b[1;32m   1364\u001b[0m     \u001b[38;5;66;03m# copy vals from more general key (e.g. \"all\") if param not present in this key\u001b[39;00m\n\u001b[1;32m   1365\u001b[0m     \u001b[38;5;28;01mif\u001b[39;00m param \u001b[38;5;129;01mnot\u001b[39;00m \u001b[38;5;129;01min\u001b[39;00m \u001b[38;5;28mself\u001b[39m\u001b[38;5;241m.\u001b[39mparams_by_t[param_key]:\n\u001b[0;32m-> 1366\u001b[0m         more_general_key \u001b[38;5;241m=\u001b[39m \u001b[38;5;28;43mself\u001b[39;49m\u001b[38;5;241;43m.\u001b[39;49m\u001b[43mget_param_key_for_param_and_cmpts\u001b[49m\u001b[43m(\u001b[49m\u001b[43mparam\u001b[49m\u001b[43m,\u001b[49m\u001b[43m \u001b[49m\u001b[43mcmpt\u001b[49m\u001b[43m,\u001b[49m\u001b[43m \u001b[49m\u001b[43mfrom_cmpt\u001b[49m\u001b[43m,\u001b[49m\u001b[43m \u001b[49m\u001b[43mto_cmpt\u001b[49m\u001b[43m,\u001b[49m\u001b[43m \u001b[49m\u001b[43mis_param_cmpt\u001b[49m\u001b[38;5;241;43m=\u001b[39;49m\u001b[38;5;28;43;01mTrue\u001b[39;49;00m\u001b[43m)\u001b[49m\n\u001b[1;32m   1367\u001b[0m         \u001b[38;5;28mself\u001b[39m\u001b[38;5;241m.\u001b[39mparams_by_t[param_key][param] \u001b[38;5;241m=\u001b[39m copy\u001b[38;5;241m.\u001b[39mdeepcopy(\u001b[38;5;28mself\u001b[39m\u001b[38;5;241m.\u001b[39mparams_by_t[more_general_key][param])\n\u001b[1;32m   1368\u001b[0m     \u001b[38;5;66;03m# add in tslices which are missing\u001b[39;00m\n",
      "File \u001b[0;32m~/PycharmProjects/covid-models/covid_model/model.py:1550\u001b[0m, in \u001b[0;36mCovidModel.get_param_key_for_param_and_cmpts\u001b[0;34m(self, param, cmpt, from_cmpt, to_cmpt, nomatch_okay, is_param_cmpt)\u001b[0m\n\u001b[1;32m   1548\u001b[0m             \u001b[38;5;28;01mbreak\u001b[39;00m\n\u001b[1;32m   1549\u001b[0m     \u001b[38;5;28;01mif\u001b[39;00m param_key \u001b[38;5;129;01mis\u001b[39;00m \u001b[38;5;28;01mNone\u001b[39;00m \u001b[38;5;129;01mand\u001b[39;00m \u001b[38;5;129;01mnot\u001b[39;00m nomatch_okay:\n\u001b[0;32m-> 1550\u001b[0m         \u001b[38;5;28;43mself\u001b[39;49m\u001b[38;5;241;43m.\u001b[39;49m\u001b[43mlog_and_raise\u001b[49m\u001b[43m(\u001b[49m\u001b[38;5;124;43mf\u001b[39;49m\u001b[38;5;124;43m\"\u001b[39;49m\u001b[38;5;124;43mparameter \u001b[39;49m\u001b[38;5;132;43;01m{\u001b[39;49;00m\u001b[43mparam\u001b[49m\u001b[38;5;132;43;01m}\u001b[39;49;00m\u001b[38;5;124;43m not defined for compartment \u001b[39;49m\u001b[38;5;132;43;01m{\u001b[39;49;00m\u001b[43mcmpt\u001b[49m\u001b[38;5;132;43;01m}\u001b[39;49;00m\u001b[38;5;124;43m\"\u001b[39;49m\u001b[43m,\u001b[49m\u001b[43m \u001b[49m\u001b[38;5;167;43;01mValueError\u001b[39;49;00m\u001b[43m)\u001b[49m\n\u001b[1;32m   1551\u001b[0m \u001b[38;5;28;01melse\u001b[39;00m:\n\u001b[1;32m   1552\u001b[0m     key0 \u001b[38;5;241m=\u001b[39m from_cmpt \u001b[38;5;28;01mif\u001b[39;00m is_param_cmpt \u001b[38;5;28;01melse\u001b[39;00m \u001b[38;5;28mtuple\u001b[39m(attr \u001b[38;5;28;01mfor\u001b[39;00m attr, level \u001b[38;5;129;01min\u001b[39;00m \u001b[38;5;28mzip\u001b[39m(from_cmpt, \u001b[38;5;28mself\u001b[39m\u001b[38;5;241m.\u001b[39mattr_names) \u001b[38;5;28;01mif\u001b[39;00m level \u001b[38;5;129;01min\u001b[39;00m \u001b[38;5;28mself\u001b[39m\u001b[38;5;241m.\u001b[39mparam_attr_names)\n",
      "File \u001b[0;32m~/PycharmProjects/covid-models/covid_model/model.py:42\u001b[0m, in \u001b[0;36mCovidModel.log_and_raise\u001b[0;34m(self, ermsg, errortype)\u001b[0m\n\u001b[1;32m     35\u001b[0m \u001b[38;5;124;03m\"\"\"Log an error message to the logger, then raise the appropriate exception\u001b[39;00m\n\u001b[1;32m     36\u001b[0m \n\u001b[1;32m     37\u001b[0m \u001b[38;5;124;03mArgs:\u001b[39;00m\n\u001b[1;32m     38\u001b[0m \u001b[38;5;124;03m    ermsg: message to log and also give to the exception which will be raised.\u001b[39;00m\n\u001b[1;32m     39\u001b[0m \u001b[38;5;124;03m    errortype: Some error class, e.g. ValueError, RuntimeError to be raised.\u001b[39;00m\n\u001b[1;32m     40\u001b[0m \u001b[38;5;124;03m\"\"\"\u001b[39;00m\n\u001b[1;32m     41\u001b[0m logger\u001b[38;5;241m.\u001b[39mexception(\u001b[38;5;124mf\u001b[39m\u001b[38;5;124m\"\u001b[39m\u001b[38;5;132;01m{\u001b[39;00m\u001b[38;5;28mstr\u001b[39m(\u001b[38;5;28mself\u001b[39m\u001b[38;5;241m.\u001b[39mtags)\u001b[38;5;132;01m}\u001b[39;00m\u001b[38;5;124m\"\u001b[39m \u001b[38;5;241m+\u001b[39m ermsg)\n\u001b[0;32m---> 42\u001b[0m \u001b[38;5;28;01mraise\u001b[39;00m errortype(ermsg)\n",
      "\u001b[0;31mValueError\u001b[0m: parameter pS not defined for compartment ('0-19', 'booster3', 'omicron', 'none', 'co')"
     ]
    }
   ],
   "source": [
    "# designate the arguments for how the model will behave\n",
    "model_args = {\n",
    "    'params_defs': 'covid_model/analysis/20221109_nov_gov_briefing/20221109_scenario_params.json',\n",
    "    'region_defs': 'covid_model/input/region_definitions.json',\n",
    "    'vacc_proj_params': 'covid_model/analysis/20221109_nov_gov_briefing/20221109_vacc_proj_params.json',\n",
    "    'start_date': '2020-01-24',\n",
    "    'end_date': '2024-01-01',\n",
    "}\n",
    "\n",
    "# this is how the fit will behave\n",
    "# place the outdir argument here to tell the model fit where to go\n",
    "fit_args = {'outdir': outdir,\n",
    "            'fit_end_date': '2022-02-28'\n",
    "}\n",
    "\n",
    "# because all the scenarios are the same \n",
    "model = do_single_fit(**fit_args, **model_args)"
   ]
  },
  {
   "cell_type": "markdown",
   "metadata": {
    "pycharm": {
     "name": "#%% md\n"
    }
   },
   "source": [
    "### Create and run scenarios from Feb 2022 to present"
   ]
  },
  {
   "cell_type": "code",
   "execution_count": null,
   "metadata": {
    "pycharm": {
     "name": "#%%\n"
    }
   },
   "outputs": [],
   "source": [
    "multiprocess = 4\n",
    "\n",
    "scenario_params = json.load(open(\"covid_model/analysis/2022_oct_gov_briefing/20221004_scenario_params.json\"))\n",
    "\n",
    "model_args = {\n",
    "    'base_spec_id': 4167 #model.spec_id, # use the spec id that was output from the model fit\n",
    "}\n",
    "model_fit_args = {\n",
    "    'outdir': outdir,\n",
    "    'fit_start_date': '2022-03-01', # set the start date for the earliest point at which the scenarios start to differ from one another\n",
    "    'pre_solve_model': True # force the model to establish initial conditions so the fit can start on the fit start date\n",
    "}\n",
    "\n",
    "# define vaccine effectiveness for < 5 (this is a multiplier for the baseline vaccine effectiveness for 0-19)\n",
    "vacc_eff_lt5 = 0.5\n",
    "\n",
    "# Create different scenarios to model\n",
    "scenario_model_args = []\n",
    "for vx_seed in [0, 5]:\n",
    "    for vir_mult in [0.833, 2.38]:\n",
    "        hrf = {\"2020-01-01\": 1, \"2022-03-01\": (0.66 + 0.34*0.8),\n",
    "               \"2022-03-15\": (0.34 + 0.66*0.8), \"2022-03-30\": 0.8}\n",
    "        vx_adjust = [{\"param\": \"vx_seed\",\n",
    "                      \"vals\": {\"2020-01-01\": 0, \"2022-09-30\": vx_seed, \"2022-10-30\": 0},\n",
    "                      \"desc\": \"Variant X seeding\"}]\n",
    "        vir_adjust = [{\"param\": \"hosp\",\n",
    "                       \"attrs\": {\"variant\": \"vx\"},\n",
    "                       \"mults\": {\"2020-01-01\": vir_mult},\n",
    "                       \"desc\": \"Variant X hospitalization multiplier\"}]\n",
    "        lt5_vacc_adjust = [{\"param\": \"immunity\",\n",
    "                            \"attrs\": {'age': '0-19', 'vacc': 'shot1'},\n",
    "                            \"mults\": {\"2020-01-01\": 1,\n",
    "                                      \"2022-06-20\": 0.99 + 0.01*vacc_eff_lt5,\n",
    "                                      \"2022-06-30\": 0.98 + 0.02*vacc_eff_lt5,\n",
    "                                      \"2022-07-10\": 0.97 + 0.03*vacc_eff_lt5,\n",
    "                                      \"2022-07-20\": 0.96 + 0.04*vacc_eff_lt5,\n",
    "                                      \"2022-08-10\": 0.95 + 0.05*vacc_eff_lt5,\n",
    "                                      \"2022-08-30\": 0.94 + 0.06*vacc_eff_lt5,\n",
    "                                      \"2022-09-20\": 0.93 + 0.07*vacc_eff_lt5},\n",
    "                            \"desc\": \"weighted average using share of 0-19 getting shot1 who are under 5\"}]\n",
    "        scenario_model_args.append({'params_defs': scenario_params + vx_adjust + vir_adjust + lt5_vacc_adjust,\n",
    "                                    'hosp_reporting_frac': hrf,\n",
    "                                    'tags': {'vx_seed': vx_seed,\n",
    "                                             'vir_mult': vir_mult,\n",
    "                                             'booster_mult': 0}})\n",
    "            "
   ]
  },
  {
   "cell_type": "code",
   "execution_count": null,
   "metadata": {},
   "outputs": [],
   "source": [
    "# check how many scenarios there are\n",
    "len(scenario_model_args)"
   ]
  },
  {
   "cell_type": "code",
   "execution_count": null,
   "metadata": {},
   "outputs": [],
   "source": [
    "# run the scenarios\n",
    "models = do_fit_scenarios(base_model_args=model_args, scenario_args_list=scenario_model_args, fit_args=model_fit_args, multiprocess=multiprocess)"
   ]
  },
  {
   "cell_type": "markdown",
   "metadata": {
    "pycharm": {
     "name": "#%% md\n"
    }
   },
   "source": [
    "### Run the report for each fit model"
   ]
  },
  {
   "cell_type": "code",
   "execution_count": null,
   "metadata": {
    "pycharm": {
     "name": "#%%\n"
    }
   },
   "outputs": [],
   "source": [
    "# here you can also specify which variants you want to calculate immunity for\n",
    "do_create_multiple_reports(models, multiprocess=multiprocess, outdir=outdir, prep_model=False, solve_model=True, immun_variants=['ba45', 'vx'], from_date='2022-01-01')"
   ]
  },
  {
   "cell_type": "code",
   "execution_count": null,
   "metadata": {
    "pycharm": {
     "name": "#%%\n"
    }
   },
   "outputs": [],
   "source": [
    "logging.info('Projecting')\n",
    "for model in models:\n",
    "    logging.info('')\n",
    "    #model.prep()  # don't think we need to prep anymore.\n",
    "    model.solve_seir()\n",
    "\n",
    "    model.solution_sum_df(['seir', 'variant', 'immun']).unstack().to_csv(get_filepath_prefix(outdir, tags=model.tags) + 'states_seir_variant_immun_total_all_at_once_projection.csv')\n",
    "    model.solution_sum_df().unstack().to_csv(get_filepath_prefix(outdir, tags=model.tags) + 'states_full_projection.csv')\n",
    "\n",
    "    logging.info(f'{str(model.tags)}: Running forward sim')\n",
    "    fig = plt.figure(figsize=(10, 10), dpi=300)\n",
    "    ax = fig.add_subplot(211)\n",
    "    hosps_df = model.modeled_vs_observed_hosps().reset_index('region').drop(columns='region')\n",
    "    hosps_df.plot(ax=ax)\n",
    "    ax.set_xlim(dt.datetime.strptime('2022-01-01', \"%Y-%m-%d\").date(), dt.datetime.strptime('2024-01-01', \"%Y-%m-%d\").date())\n",
    "    ax = fig.add_subplot(212)\n",
    "    plot_transmission_control(model, ax=ax)\n",
    "    ax.set_xlim(dt.datetime.strptime('2022-01-01', \"%Y-%m-%d\").date(), dt.datetime.strptime('2024-01-01', \"%Y-%m-%d\").date())\n",
    "    plt.savefig(get_filepath_prefix(outdir, tags=model.tags) + 'model_forecast.png')\n",
    "    plt.close()\n",
    "    hosps_df.to_csv(get_filepath_prefix(outdir, tags=model.tags) + '_model_forecast.csv')\n",
    "    json.dump(model.tc, open(get_filepath_prefix(outdir, tags=model.tags) + 'model_forecast_tc.json', 'w'))\n",
    "\n",
    "logging.info('Running reports')"
   ]
  }
 ],
 "metadata": {
  "kernelspec": {
   "display_name": "Python 3 (ipykernel)",
   "language": "python",
   "name": "python3"
  },
  "language_info": {
   "codemirror_mode": {
    "name": "ipython",
    "version": 3
   },
   "file_extension": ".py",
   "mimetype": "text/x-python",
   "name": "python",
   "nbconvert_exporter": "python",
   "pygments_lexer": "ipython3",
   "version": "3.9.13"
  }
 },
 "nbformat": 4,
 "nbformat_minor": 4
}
