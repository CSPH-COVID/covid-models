{
 "cells": [
  {
   "cell_type": "markdown",
   "metadata": {
    "pycharm": {
     "name": "#%% md\n"
    }
   },
   "source": [
    "### Setup"
   ]
  },
  {
   "cell_type": "code",
   "execution_count": 1,
   "metadata": {
    "pycharm": {
     "name": "#%%\n"
    }
   },
   "outputs": [
    {
     "name": "stdout",
     "output_type": "stream",
     "text": [
      "/Users/emwu9912/PycharmProjects/covid-models\n"
     ]
    }
   ],
   "source": [
    "\"\"\" Python Standard Library \"\"\"\n",
    "import os\n",
    "import datetime as dt\n",
    "import json\n",
    "import logging\n",
    "\"\"\" Third Party Imports \"\"\"\n",
    "import numpy as np\n",
    "import pandas as pd\n",
    "from matplotlib import pyplot as plt\n",
    "%matplotlib inline\n",
    "import seaborn as sns\n",
    "\"\"\" Local Imports \"\"\"\n",
    "if 'requirements.txt' not in os.listdir(os.getcwd()):\n",
    "    os.chdir(os.path.join('..','..','..'))\n",
    "print(os.getcwd())\n",
    "from covid_model.model import CovidModel\n",
    "from covid_model.runnable_functions import do_single_fit, do_fit_scenarios, do_create_multiple_reports\n",
    "from covid_model.utils import setup, get_filepath_prefix\n",
    "from covid_model.analysis.charts import plot_transmission_control\n",
    "\n",
    "os.environ['gcp_project'] = 'co-covid-models'\n",
    "os.environ['GOOGLE_APPLICATION_CREDENTIALS'] = \"co-covid-models-credentials.json\""
   ]
  },
  {
   "cell_type": "code",
   "execution_count": 2,
   "metadata": {
    "pycharm": {
     "name": "#%%\n"
    },
    "scrolled": true
   },
   "outputs": [
    {
     "name": "stderr",
     "output_type": "stream",
     "text": [
      "2022/11/15 22:04:44 INFO|============================================================\n"
     ]
    }
   ],
   "source": [
    "# set up the output directory for this Jupyter notebook\n",
    "outdir = setup(\"20221118_scenario_projections.ipynb\")"
   ]
  },
  {
   "cell_type": "markdown",
   "metadata": {
    "pycharm": {
     "name": "#%% md\n"
    }
   },
   "source": [
    "### Fit an initial scenario through February 2022"
   ]
  },
  {
   "cell_type": "code",
   "execution_count": 3,
   "metadata": {
    "pycharm": {
     "name": "#%%\n"
    }
   },
   "outputs": [
    {
     "name": "stderr",
     "output_type": "stream",
     "text": [
      "2022/11/15 22:04:47 INFO|-------------------------|{} Retrieving vaccinations data\n",
      "2022/11/15 22:04:49 INFO|-------------------------|{} Constructing vaccination projections\n",
      "2022/11/15 22:04:51 INFO|-------------------------|{} Retrieving hospitalizations data\n",
      "2022/11/15 22:04:54 INFO|----------------------|{} Prepping Model\n",
      "2022/11/15 22:04:54 INFO|-----------------------|{} Prepping Model\n",
      "2022/11/15 22:06:18 INFO|----------------------|{} Model prepped for fitting in 83.831551708 seconds.\n",
      "2022/11/15 22:06:18 INFO|----------------------|{} Will fit 25 times\n",
      "2022/11/15 22:07:19 INFO|----------------------|{'fit_batch': '0'}: Transmission control fit 1/25 completed in 61.46484262499999 seconds: {0: {'co': 0.8306366824121102}, 14: {'co': 0.698174348300508}, 28: {'co': 0.5695813526553709}, 42: {'co': 0.00278511917697288}, 56: {'co': 0.6814698187511562}, 70: {'co': 0.8912768746070765}}\n",
      "2022/11/15 22:07:19 INFO|-----------------------|{'fit_batch': '0'}: Running forward sim\n",
      "2022/11/15 22:07:35 INFO|----------------------|{'fit_batch': '1'}: Transmission control fit 2/25 completed in 13.935887667000003 seconds: {28: {'co': 0.5650699126380538}, 42: {'co': 1.2613785476244924e-15}, 56: {'co': 0.6954746304104659}, 70: {'co': 0.8359308799848442}, 84: {'co': 0.8209479959392741}, 98: {'co': 0.8732900531329983}}\n",
      "2022/11/15 22:07:35 INFO|-----------------------|{'fit_batch': '1'}: Running forward sim\n",
      "2022/11/15 22:07:52 INFO|----------------------|{'fit_batch': '2'}: Transmission control fit 3/25 completed in 15.648092625000004 seconds: {56: {'co': 0.6966530538855653}, 70: {'co': 0.8332726485652999}, 84: {'co': 0.8289544278574728}, 98: {'co': 0.8349954941285973}, 112: {'co': 0.8626438415910754}, 126: {'co': 0.9187373792133718}}\n",
      "2022/11/15 22:07:52 INFO|-----------------------|{'fit_batch': '2'}: Running forward sim\n",
      "2022/11/15 22:08:09 INFO|----------------------|{'fit_batch': '3'}: Transmission control fit 4/25 completed in 14.165412041999986 seconds: {84: {'co': 0.8296248772646011}, 98: {'co': 0.8316924798351031}, 112: {'co': 0.8774222827136}, 126: {'co': 0.8238380231848428}, 140: {'co': 0.7629556255790599}, 154: {'co': 0.6614392972938932}}\n",
      "2022/11/15 22:08:09 INFO|-----------------------|{'fit_batch': '3'}: Running forward sim\n",
      "2022/11/15 22:08:24 INFO|----------------------|{'fit_batch': '4'}: Transmission control fit 5/25 completed in 13.82414212499998 seconds: {112: {'co': 0.8774896960445533}, 126: {'co': 0.8243044228361942}, 140: {'co': 0.7606934849052827}, 154: {'co': 0.6708650691154395}, 168: {'co': 0.8437499493327588}, 182: {'co': 0.7840786507672998}}\n",
      "2022/11/15 22:08:24 INFO|-----------------------|{'fit_batch': '4'}: Running forward sim\n",
      "2022/11/15 22:08:40 INFO|----------------------|{'fit_batch': '5'}: Transmission control fit 6/25 completed in 13.307504375000008 seconds: {140: {'co': 0.7604527625947122}, 154: {'co': 0.671288017772332}, 168: {'co': 0.8432437700432762}, 182: {'co': 0.7801992128998897}, 196: {'co': 0.8275651310719125}, 210: {'co': 0.7403273739918386}}\n",
      "2022/11/15 22:08:40 INFO|-----------------------|{'fit_batch': '5'}: Running forward sim\n",
      "2022/11/15 22:08:53 INFO|----------------------|{'fit_batch': '6'}: Transmission control fit 7/25 completed in 11.720813958000008 seconds: {168: {'co': 0.843055135293664}, 182: {'co': 0.7826363484044665}, 196: {'co': 0.8196040097895343}, 210: {'co': 0.7710707219757073}, 224: {'co': 0.7742311382784635}, 238: {'co': 0.7168195404308302}}\n",
      "2022/11/15 22:08:53 INFO|-----------------------|{'fit_batch': '6'}: Running forward sim\n",
      "2022/11/15 22:09:08 INFO|----------------------|{'fit_batch': '7'}: Transmission control fit 8/25 completed in 12.159829542000011 seconds: {196: {'co': 0.8191511060028511}, 210: {'co': 0.7726071129497626}, 224: {'co': 0.7703420366656981}, 238: {'co': 0.7217690406416905}, 252: {'co': 0.7177907874519451}, 266: {'co': 0.6919029518329743}}\n",
      "2022/11/15 22:09:08 INFO|-----------------------|{'fit_batch': '7'}: Running forward sim\n",
      "2022/11/15 22:09:22 INFO|----------------------|{'fit_batch': '8'}: Transmission control fit 9/25 completed in 13.013345250000043 seconds: {224: {'co': 0.7713215715743026}, 238: {'co': 0.718543964340705}, 252: {'co': 0.7226278178097815}, 266: {'co': 0.683351581852526}, 280: {'co': 0.722728908084948}, 294: {'co': 0.753194884200002}}\n",
      "2022/11/15 22:09:22 INFO|-----------------------|{'fit_batch': '8'}: Running forward sim\n",
      "2022/11/15 22:09:39 INFO|----------------------|{'fit_batch': '9'}: Transmission control fit 10/25 completed in 14.37560612499999 seconds: {252: {'co': 0.722097146662614}, 266: {'co': 0.6850776838461609}, 280: {'co': 0.7200763210054572}, 294: {'co': 0.7580891595925646}, 308: {'co': 0.8257609760233461}, 322: {'co': 0.7957021324858128}}\n",
      "2022/11/15 22:09:39 INFO|-----------------------|{'fit_batch': '9'}: Running forward sim\n",
      "2022/11/15 22:09:56 INFO|----------------------|{'fit_batch': '10'}: Transmission control fit 11/25 completed in 15.086513749999995 seconds: {280: {'co': 0.7198394872192173}, 294: {'co': 0.7589434396271403}, 308: {'co': 0.8229797804102285}, 322: {'co': 0.8099076637130248}, 336: {'co': 0.7879813216262437}, 350: {'co': 0.7724477680117651}}\n",
      "2022/11/15 22:09:56 INFO|-----------------------|{'fit_batch': '10'}: Running forward sim\n",
      "2022/11/15 22:10:11 INFO|----------------------|{'fit_batch': '11'}: Transmission control fit 12/25 completed in 13.058350209000025 seconds: {308: {'co': 0.8220715495341357}, 322: {'co': 0.8118499589368375}, 336: {'co': 0.7824787584935624}, 350: {'co': 0.7937643367140153}, 364: {'co': 0.8119743661713854}, 378: {'co': 0.7086539118237373}}\n",
      "2022/11/15 22:10:11 INFO|-----------------------|{'fit_batch': '11'}: Running forward sim\n",
      "2022/11/15 22:10:25 INFO|----------------------|{'fit_batch': '12'}: Transmission control fit 13/25 completed in 11.911997457999973 seconds: {336: {'co': 0.7823102311026947}, 350: {'co': 0.7950241455590741}, 364: {'co': 0.8054246616103196}, 378: {'co': 0.739513361012523}, 392: {'co': 0.8040897733054956}, 406: {'co': 0.6082710653427885}}\n",
      "2022/11/15 22:10:25 INFO|-----------------------|{'fit_batch': '12'}: Running forward sim\n",
      "2022/11/15 22:10:43 INFO|----------------------|{'fit_batch': '13'}: Transmission control fit 14/25 completed in 15.960614625000005 seconds: {364: {'co': 0.8032109627714479}, 378: {'co': 0.7471484152199204}, 392: {'co': 0.7790798377441982}, 406: {'co': 0.7048953532672673}, 420: {'co': 0.7330986350733446}, 434: {'co': 0.6495207754411074}}\n",
      "2022/11/15 22:10:43 INFO|-----------------------|{'fit_batch': '13'}: Running forward sim\n",
      "2022/11/15 22:10:58 INFO|----------------------|{'fit_batch': '14'}: Transmission control fit 15/25 completed in 12.85718908299998 seconds: {392: {'co': 0.778409193486192}, 406: {'co': 0.7137072188117203}, 420: {'co': 0.7177179258725152}, 434: {'co': 0.6886798986927164}, 448: {'co': 0.7436490073863677}, 462: {'co': 0.8039967997891743}}\n",
      "2022/11/15 22:10:58 INFO|-----------------------|{'fit_batch': '14'}: Running forward sim\n",
      "2022/11/15 22:11:15 INFO|----------------------|{'fit_batch': '15'}: Transmission control fit 16/25 completed in 15.328865915999984 seconds: {420: {'co': 0.7169141142397047}, 434: {'co': 0.6897554006294382}, 448: {'co': 0.74327141753979}, 462: {'co': 0.8170937552900621}, 476: {'co': 0.7912193543423925}, 490: {'co': 0.8575495011773927}}\n",
      "2022/11/15 22:11:15 INFO|-----------------------|{'fit_batch': '15'}: Running forward sim\n",
      "2022/11/15 22:11:29 INFO|----------------------|{'fit_batch': '16'}: Transmission control fit 17/25 completed in 11.790389959000038 seconds: {448: {'co': 0.7428188121489103}, 462: {'co': 0.8155613569761444}, 476: {'co': 0.797474998882915}, 490: {'co': 0.8321948584370279}, 504: {'co': 0.7994860110948556}, 518: {'co': 0.7514774916569689}}\n",
      "2022/11/15 22:11:29 INFO|-----------------------|{'fit_batch': '16'}: Running forward sim\n",
      "2022/11/15 22:11:42 INFO|----------------------|{'fit_batch': '17'}: Transmission control fit 18/25 completed in 11.447815165999998 seconds: {476: {'co': 0.7964049741750481}, 490: {'co': 0.8344111196650391}, 504: {'co': 0.7931355859017073}, 518: {'co': 0.7843387555732326}, 532: {'co': 0.7705921059201368}, 546: {'co': 0.7076101226913194}}\n",
      "2022/11/15 22:11:42 INFO|-----------------------|{'fit_batch': '17'}: Running forward sim\n"
     ]
    },
    {
     "name": "stderr",
     "output_type": "stream",
     "text": [
      "2022/11/15 22:12:00 INFO|----------------------|{'fit_batch': '18'}: Transmission control fit 19/25 completed in 16.067380625 seconds: {504: {'co': 0.7926162886343049}, 518: {'co': 0.786203482523872}, 532: {'co': 0.7659880690937108}, 546: {'co': 0.7174287612461416}, 560: {'co': 0.7504800997336966}, 574: {'co': 0.7456518039217496}}\n",
      "2022/11/15 22:12:00 INFO|-----------------------|{'fit_batch': '18'}: Running forward sim\n",
      "2022/11/15 22:12:17 INFO|----------------------|{'fit_batch': '19'}: Transmission control fit 20/25 completed in 14.594883707999998 seconds: {532: {'co': 0.76534316964812}, 546: {'co': 0.7192434844758303}, 560: {'co': 0.7471077082985399}, 574: {'co': 0.7557418505542847}, 588: {'co': 0.792800462859069}, 602: {'co': 0.7737099015434532}}\n",
      "2022/11/15 22:12:17 INFO|-----------------------|{'fit_batch': '19'}: Running forward sim\n",
      "2022/11/15 22:12:31 INFO|----------------------|{'fit_batch': '20'}: Transmission control fit 21/25 completed in 12.409925791999967 seconds: {560: {'co': 0.7473209288508577}, 574: {'co': 0.7551730083148972}, 588: {'co': 0.7941780316612023}, 602: {'co': 0.7722582045034031}, 616: {'co': 0.7253911474981445}, 630: {'co': 0.7490914305321176}}\n",
      "2022/11/15 22:12:31 INFO|-----------------------|{'fit_batch': '20'}: Running forward sim\n",
      "2022/11/15 22:12:46 INFO|----------------------|{'fit_batch': '21'}: Transmission control fit 22/25 completed in 12.401396291999959 seconds: {588: {'co': 0.7945071164204615}, 602: {'co': 0.771205359510775}, 616: {'co': 0.727984398379}, 630: {'co': 0.7435144847069356}, 644: {'co': 0.7238501419920973}, 658: {'co': 0.7542177487484293}}\n",
      "2022/11/15 22:12:46 INFO|-----------------------|{'fit_batch': '21'}: Running forward sim\n",
      "2022/11/15 22:13:01 INFO|----------------------|{'fit_batch': '22'}: Transmission control fit 23/25 completed in 13.32282600000002 seconds: {616: {'co': 0.7276520893961718}, 630: {'co': 0.7449631751092025}, 644: {'co': 0.7200373536949035}, 658: {'co': 0.7666377262084468}, 672: {'co': 0.760559313841657}, 686: {'co': 0.8379530475208316}}\n",
      "2022/11/15 22:13:01 INFO|-----------------------|{'fit_batch': '22'}: Running forward sim\n",
      "2022/11/15 22:13:15 INFO|----------------------|{'fit_batch': '23'}: Transmission control fit 24/25 completed in 11.677890667000042 seconds: {644: {'co': 0.7216748856422759}, 658: {'co': 0.7623967104535199}, 672: {'co': 0.7743729937499728}, 686: {'co': 0.7979656139176184}, 700: {'co': 0.7602612338649563}, 714: {'co': 0.7984376357748604}}\n",
      "2022/11/15 22:13:15 INFO|-----------------------|{'fit_batch': '23'}: Running forward sim\n",
      "2022/11/15 22:13:32 INFO|----------------------|{'fit_batch': '24'}: Transmission control fit 25/25 completed in 15.884087749999935 seconds: {672: {'co': 0.7742165974613502}, 686: {'co': 0.7990240405102492}, 700: {'co': 0.7598354399090496}, 714: {'co': 0.8000721244407848}, 728: {'co': 0.8054245170103482}, 742: {'co': 0.7985133692428068}}\n",
      "2022/11/15 22:13:32 INFO|-----------------------|{'fit_batch': '24'}: Running forward sim\n",
      "2022/11/15 22:13:34 INFO|----------------------|{'fit_batch': '24', 'run_type': 'fit'}: fitted TC: {0: {'co': 0.8306366815589404}, 14: {'co': 0.6981743540911125}, 28: {'co': 0.5650699126380538}, 42: {'co': 1.2613785476244924e-15}, 56: {'co': 0.6966530538855653}, 70: {'co': 0.8332726485652999}, 84: {'co': 0.8296248772646011}, 98: {'co': 0.8316924798351031}, 112: {'co': 0.8774896960445533}, 126: {'co': 0.8243044228361942}, 140: {'co': 0.7604527625947122}, 154: {'co': 0.671288017772332}, 168: {'co': 0.843055135293664}, 182: {'co': 0.7826363484044665}, 196: {'co': 0.8191511060028511}, 210: {'co': 0.7726071129497626}, 224: {'co': 0.7713215715743026}, 238: {'co': 0.718543964340705}, 252: {'co': 0.722097146662614}, 266: {'co': 0.6850776838461609}, 280: {'co': 0.7198394872192173}, 294: {'co': 0.7589434396271403}, 308: {'co': 0.8220715495341357}, 322: {'co': 0.8118499589368375}, 336: {'co': 0.7823102311026947}, 350: {'co': 0.7950241455590741}, 364: {'co': 0.8032109627714479}, 378: {'co': 0.7471484152199204}, 392: {'co': 0.778409193486192}, 406: {'co': 0.7137072188117203}, 420: {'co': 0.7169141142397047}, 434: {'co': 0.6897554006294382}, 448: {'co': 0.7428188121489103}, 462: {'co': 0.8155613569761444}, 476: {'co': 0.7964049741750481}, 490: {'co': 0.8344111196650391}, 504: {'co': 0.7926162886343049}, 518: {'co': 0.786203482523872}, 532: {'co': 0.76534316964812}, 546: {'co': 0.7192434844758303}, 560: {'co': 0.7473209288508577}, 574: {'co': 0.7551730083148972}, 588: {'co': 0.7945071164204615}, 602: {'co': 0.771205359510775}, 616: {'co': 0.7276520893961718}, 630: {'co': 0.7449631751092025}, 644: {'co': 0.7216748856422759}, 658: {'co': 0.7623967104535199}, 672: {'co': 0.7742165974613502}, 686: {'co': 0.7990240405102492}, 700: {'co': 0.7598354399090496}, 714: {'co': 0.8000721244407848}, 728: {'co': 0.8054245170103482}, 742: {'co': 0.798513384143968}}\n",
      "2022/11/15 22:13:34 INFO|-----------------------|{'fit_batch': '24', 'run_type': 'fit'}: Running forward sim\n",
      "2022/11/15 22:13:36 INFO|----------------------|{'fit_batch': '24', 'run_type': 'fit'}: Uploading final results\n",
      "2022/11/15 22:13:45 INFO|----------------------|{'fit_batch': '24', 'run_type': 'fit'}: spec_id: 4386\n"
     ]
    }
   ],
   "source": [
    "# designate the arguments for how the model will behave\n",
    "model_args = {\n",
    "    'params_defs': 'covid_model/analysis/20221109_nov_gov_briefing/20221109_scenario_params.json',\n",
    "    'region_defs': 'covid_model/input/region_definitions.json',\n",
    "    'vacc_proj_params': 'covid_model/analysis/20221109_nov_gov_briefing/20221109_vacc_proj_params.json',\n",
    "    'start_date': '2020-01-24',\n",
    "    'end_date': '2024-01-01',\n",
    "}\n",
    "\n",
    "# this is how the fit will behave\n",
    "# place the outdir argument here to tell the model fit where to go\n",
    "fit_args = {'outdir': outdir,\n",
    "            'fit_end_date': '2022-02-28'\n",
    "}\n",
    "\n",
    "# because all the scenarios are the same \n",
    "model = do_single_fit(**fit_args, **model_args)"
   ]
  },
  {
   "cell_type": "markdown",
   "metadata": {
    "pycharm": {
     "name": "#%% md\n"
    }
   },
   "source": [
    "### Create and run scenarios from Feb 2022 to present"
   ]
  },
  {
   "cell_type": "code",
   "execution_count": 9,
   "metadata": {
    "pycharm": {
     "name": "#%%\n"
    }
   },
   "outputs": [],
   "source": [
    "multiprocess = 3\n",
    "\n",
    "scenario_params = json.load(open('covid_model/analysis/20221109_nov_gov_briefing/20221109_scenario_params.json'))\n",
    "\n",
    "model_args = {\n",
    "    'base_spec_id': 4386, # use the spec id that was output from the model fit\n",
    "}\n",
    "model_fit_args = {\n",
    "    'outdir': outdir,\n",
    "    'fit_start_date': '2022-03-01', # set the start date for the earliest point at which the scenarios start to differ from one another\n",
    "    'pre_solve_model': True # force the model to establish initial conditions so the fit can start on the fit start date\n",
    "}\n",
    "\n",
    "# define vaccine effectiveness for < 5 (this is a multiplier for the baseline vaccine effectiveness for 0-19)\n",
    "vacc_eff_lt5 = 0.5\n",
    "\n",
    "# Create different scenarios to model\n",
    "scenario_model_args = []\n",
    "for (weak_escape, strong_escape) in [(0.6, 0.095), (0.55, 0.045), (0.65, 0.145)]:\n",
    "    emv_seed = [{\"param\": \"emv_seed\", \"attrs\": None, \"vals\": {\"2020-01-01\": 0, \"2022-09-15\": 10,\n",
    "                                                                       \"2022-10-30\": 0}}]\n",
    "    hrf = {\"2020-01-01\": 1, \"2022-03-01\": (0.66 + 0.34*0.8),\n",
    "           \"2022-03-15\": (0.34 + 0.66*0.8), \"2022-03-30\": 0.8}\n",
    "    weak_param = [{\"param\": \"immune_escape\",\n",
    "                   \"from_attrs\": {\"immun\": \"weak\",\n",
    "                                  \"variant\": [\"none\", \"wildtype\", \"alpha\", \"delta\",\n",
    "                                              \"omicron\", \"ba2\", \"ba2121\", \"ba45\"]},\n",
    "                   \"to_attrs\": {\"variant\": [\"emv\"]},\n",
    "                   \"vals\": {\"2020-01-01\": weak_escape},\n",
    "                   \"desc\": \"Scrabble variants immune escape value, weak immunity\"}]\n",
    "    strong_param = [{\"param\": \"immune_escape\",\n",
    "                   \"from_attrs\": {\"immun\": \"strong\",\n",
    "                                  \"variant\": [\"none\", \"wildtype\", \"alpha\", \"delta\",\n",
    "                                              \"omicron\", \"ba2\", \"ba2121\", \"ba45\"]},\n",
    "                   \"to_attrs\": {\"variant\": [\"emv\"]},\n",
    "                   \"vals\": {\"2020-01-01\": strong_escape},\n",
    "                   \"desc\": \"Scrabble variants immune escape value, strong immunity\"}]\n",
    "    lt5_vacc_adjust = [{\"param\": \"immunity\",\n",
    "                        \"attrs\": {'age': '0-19', 'vacc': 'shot1'},\n",
    "                        \"mults\": {\"2020-01-01\": 1,\n",
    "                                  \"2022-06-24\": 0.99 + 0.01*vacc_eff_lt5,\n",
    "                                  \"2022-06-30\": 0.98 + 0.02*vacc_eff_lt5,\n",
    "                                  \"2022-07-08\": 0.97 + 0.03*vacc_eff_lt5,\n",
    "                                  \"2022-07-19\": 0.96 + 0.04*vacc_eff_lt5,\n",
    "                                  \"2022-07-29\": 0.95 + 0.05*vacc_eff_lt5,\n",
    "                                  \"2022-08-11\": 0.94 + 0.06*vacc_eff_lt5,\n",
    "                                  \"2022-08-30\": 0.93 + 0.07*vacc_eff_lt5,\n",
    "                                  \"2022-09-26\": 0.92 + 0.08*vacc_eff_lt5,\n",
    "                                  \"2022-10-26\": 0.91 + 0.09*vacc_eff_lt5,},\n",
    "                        \"desc\": \"weighted average using share of 0-19 getting shot1 who are under 5\"}]\n",
    "    scenario_model_args.append({'params_defs': scenario_params + weak_param + strong_param + emv_seed + lt5_vacc_adjust,\n",
    "                                'hosp_reporting_frac': hrf,\n",
    "                                'tags': {'emv_escape_weak': weak_escape,\n",
    "                                        'emv_escape_strong': strong_escape}})\n",
    "            "
   ]
  },
  {
   "cell_type": "code",
   "execution_count": 10,
   "metadata": {},
   "outputs": [
    {
     "data": {
      "text/plain": [
       "3"
      ]
     },
     "execution_count": 10,
     "metadata": {},
     "output_type": "execute_result"
    }
   ],
   "source": [
    "# check how many scenarios there are\n",
    "len(scenario_model_args)"
   ]
  },
  {
   "cell_type": "code",
   "execution_count": 11,
   "metadata": {},
   "outputs": [
    {
     "name": "stderr",
     "output_type": "stream",
     "text": [
      "2022/11/15 22:33:41 INFO|============================================================\n",
      "2022/11/15 22:33:41 INFO|============================================================\n",
      "2022/11/15 22:33:41 INFO|============================================================\n",
      "2022/11/15 22:33:45 INFO|-----------|{'emv_escape_weak': 0.6, 'emv_escape_strong': 0.095} Retrieving vaccinations data\n",
      "2022/11/15 22:33:45 INFO|-----------|{'emv_escape_weak': 0.55, 'emv_escape_strong': 0.045} Retrieving vaccinations data\n",
      "2022/11/15 22:33:45 INFO|-----------|{'emv_escape_weak': 0.65, 'emv_escape_strong': 0.145} Retrieving vaccinations data\n",
      "2022/11/15 22:33:47 INFO|-----------|{'emv_escape_weak': 0.65, 'emv_escape_strong': 0.145} Constructing vaccination projections\n",
      "2022/11/15 22:33:47 INFO|-----------|{'emv_escape_weak': 0.55, 'emv_escape_strong': 0.045} Constructing vaccination projections\n",
      "2022/11/15 22:33:47 INFO|-----------|{'emv_escape_weak': 0.6, 'emv_escape_strong': 0.095} Constructing vaccination projections\n",
      "2022/11/15 22:33:49 INFO|-----------|{'emv_escape_weak': 0.65, 'emv_escape_strong': 0.145} Retrieving hospitalizations data\n",
      "2022/11/15 22:33:49 INFO|-----------|{'emv_escape_weak': 0.6, 'emv_escape_strong': 0.095} Retrieving hospitalizations data\n",
      "2022/11/15 22:33:49 INFO|-----------|{'emv_escape_weak': 0.55, 'emv_escape_strong': 0.045} Retrieving hospitalizations data\n",
      "2022/11/15 22:33:51 INFO|--------|{'emv_escape_weak': 0.55, 'emv_escape_strong': 0.045} Prepping Model\n",
      "2022/11/15 22:33:51 INFO|---------|{'emv_escape_weak': 0.55, 'emv_escape_strong': 0.045} Prepping Model\n",
      "2022/11/15 22:33:51 INFO|--------|{'emv_escape_weak': 0.6, 'emv_escape_strong': 0.095} Prepping Model\n",
      "2022/11/15 22:33:51 INFO|---------|{'emv_escape_weak': 0.6, 'emv_escape_strong': 0.095} Prepping Model\n",
      "2022/11/15 22:33:51 INFO|--------|{'emv_escape_weak': 0.65, 'emv_escape_strong': 0.145} Prepping Model\n",
      "2022/11/15 22:33:51 INFO|---------|{'emv_escape_weak': 0.65, 'emv_escape_strong': 0.145} Prepping Model\n",
      "2022/11/15 22:35:19 INFO|--------|{'emv_escape_weak': 0.65, 'emv_escape_strong': 0.145} Model prepped for fitting in 88.58617724999999 seconds.\n",
      "2022/11/15 22:35:19 INFO|--------|{'emv_escape_weak': 0.65, 'emv_escape_strong': 0.145} Solving Model ODE\n",
      "2022/11/15 22:35:19 INFO|--------|{'emv_escape_weak': 0.55, 'emv_escape_strong': 0.045} Model prepped for fitting in 88.673374708 seconds.\n",
      "2022/11/15 22:35:19 INFO|--------|{'emv_escape_weak': 0.55, 'emv_escape_strong': 0.045} Solving Model ODE\n",
      "2022/11/15 22:35:20 INFO|--------|{'emv_escape_weak': 0.6, 'emv_escape_strong': 0.095} Model prepped for fitting in 89.420854083 seconds.\n",
      "2022/11/15 22:35:20 INFO|--------|{'emv_escape_weak': 0.6, 'emv_escape_strong': 0.095} Solving Model ODE\n",
      "2022/11/15 22:35:24 INFO|--------|{'emv_escape_weak': 0.55, 'emv_escape_strong': 0.045} Model solved in 4.521779582999997 seconds.\n",
      "2022/11/15 22:35:24 INFO|--------|{'emv_escape_weak': 0.55, 'emv_escape_strong': 0.045} Will fit 7 times\n",
      "2022/11/15 22:35:24 INFO|--------|{'emv_escape_weak': 0.65, 'emv_escape_strong': 0.145} Model solved in 4.649544790999997 seconds.\n",
      "2022/11/15 22:35:24 INFO|--------|{'emv_escape_weak': 0.65, 'emv_escape_strong': 0.145} Will fit 7 times\n",
      "2022/11/15 22:35:25 INFO|--------|{'emv_escape_weak': 0.6, 'emv_escape_strong': 0.095} Model solved in 4.571957749999996 seconds.\n",
      "2022/11/15 22:35:25 INFO|--------|{'emv_escape_weak': 0.6, 'emv_escape_strong': 0.095} Will fit 7 times\n",
      "2022/11/15 22:35:39 INFO|--------|{'emv_escape_weak': 0.55, 'emv_escape_strong': 0.045, 'fit_batch': '0'}: Transmission control fit 1/7 completed in 15.409733125000002 seconds: {767: {'co': 0.7703428049880473}, 781: {'co': 0.8222820686839074}, 795: {'co': 0.8125220971115398}, 809: {'co': 0.8293876017745035}, 823: {'co': 0.8392004196260792}, 837: {'co': 0.8334618067201841}}\n",
      "2022/11/15 22:35:39 INFO|---------|{'emv_escape_weak': 0.55, 'emv_escape_strong': 0.045, 'fit_batch': '0'}: Running forward sim\n",
      "2022/11/15 22:35:40 INFO|--------|{'emv_escape_weak': 0.65, 'emv_escape_strong': 0.145, 'fit_batch': '0'}: Transmission control fit 1/7 completed in 15.660821708 seconds: {767: {'co': 0.7703428049880473}, 781: {'co': 0.8222820686839074}, 795: {'co': 0.8125220971115398}, 809: {'co': 0.8293876017745035}, 823: {'co': 0.8392004196260792}, 837: {'co': 0.8334618067201841}}\n",
      "2022/11/15 22:35:40 INFO|---------|{'emv_escape_weak': 0.65, 'emv_escape_strong': 0.145, 'fit_batch': '0'}: Running forward sim\n",
      "2022/11/15 22:35:40 INFO|--------|{'emv_escape_weak': 0.6, 'emv_escape_strong': 0.095, 'fit_batch': '0'}: Transmission control fit 1/7 completed in 15.375951125 seconds: {767: {'co': 0.7703428049880473}, 781: {'co': 0.8222820686839074}, 795: {'co': 0.8125220971115398}, 809: {'co': 0.8293876017745035}, 823: {'co': 0.8392004196260792}, 837: {'co': 0.8334618067201841}}\n",
      "2022/11/15 22:35:40 INFO|---------|{'emv_escape_weak': 0.6, 'emv_escape_strong': 0.095, 'fit_batch': '0'}: Running forward sim\n",
      "2022/11/15 22:35:56 INFO|--------|{'emv_escape_weak': 0.55, 'emv_escape_strong': 0.045, 'fit_batch': '1'}: Transmission control fit 2/7 completed in 14.989965124999998 seconds: {795: {'co': 0.8121421728033245}, 809: {'co': 0.8306571756746948}, 823: {'co': 0.8365104708727129}, 837: {'co': 0.8398687682893561}, 851: {'co': 0.8268534849281999}, 865: {'co': 0.850903262004954}}\n",
      "2022/11/15 22:35:56 INFO|---------|{'emv_escape_weak': 0.55, 'emv_escape_strong': 0.045, 'fit_batch': '1'}: Running forward sim\n",
      "2022/11/15 22:35:56 INFO|--------|{'emv_escape_weak': 0.65, 'emv_escape_strong': 0.145, 'fit_batch': '1'}: Transmission control fit 2/7 completed in 15.15950083300001 seconds: {795: {'co': 0.8121421728033245}, 809: {'co': 0.8306571756746948}, 823: {'co': 0.8365104708727129}, 837: {'co': 0.8398687682893561}, 851: {'co': 0.8268534849281999}, 865: {'co': 0.850903262004954}}\n",
      "2022/11/15 22:35:56 INFO|---------|{'emv_escape_weak': 0.65, 'emv_escape_strong': 0.145, 'fit_batch': '1'}: Running forward sim\n",
      "2022/11/15 22:35:57 INFO|--------|{'emv_escape_weak': 0.6, 'emv_escape_strong': 0.095, 'fit_batch': '1'}: Transmission control fit 2/7 completed in 15.010923292000015 seconds: {795: {'co': 0.8121421728033245}, 809: {'co': 0.8306571756746948}, 823: {'co': 0.8365104708727129}, 837: {'co': 0.8398687682893561}, 851: {'co': 0.8268534849281999}, 865: {'co': 0.850903262004954}}\n",
      "2022/11/15 22:35:57 INFO|---------|{'emv_escape_weak': 0.6, 'emv_escape_strong': 0.095, 'fit_batch': '1'}: Running forward sim\n",
      "2022/11/15 22:36:12 INFO|--------|{'emv_escape_weak': 0.55, 'emv_escape_strong': 0.045, 'fit_batch': '2'}: Transmission control fit 3/7 completed in 14.53730225000001 seconds: {823: {'co': 0.8364238170118039}, 837: {'co': 0.8400252358034735}, 851: {'co': 0.8262764167382708}, 865: {'co': 0.8529982941488005}, 879: {'co': 0.837551494970396}, 893: {'co': 0.836809545474229}}\n",
      "2022/11/15 22:36:12 INFO|---------|{'emv_escape_weak': 0.55, 'emv_escape_strong': 0.045, 'fit_batch': '2'}: Running forward sim\n",
      "2022/11/15 22:36:13 INFO|--------|{'emv_escape_weak': 0.65, 'emv_escape_strong': 0.145, 'fit_batch': '2'}: Transmission control fit 3/7 completed in 14.664967999999988 seconds: {823: {'co': 0.8364238170118039}, 837: {'co': 0.8400252358034735}, 851: {'co': 0.8262764167382708}, 865: {'co': 0.8529982941488005}, 879: {'co': 0.837551494970396}, 893: {'co': 0.836809545474229}}\n",
      "2022/11/15 22:36:13 INFO|---------|{'emv_escape_weak': 0.65, 'emv_escape_strong': 0.145, 'fit_batch': '2'}: Running forward sim\n",
      "2022/11/15 22:36:13 INFO|--------|{'emv_escape_weak': 0.6, 'emv_escape_strong': 0.095, 'fit_batch': '2'}: Transmission control fit 3/7 completed in 14.535775832999974 seconds: {823: {'co': 0.8364238170118039}, 837: {'co': 0.8400252358034735}, 851: {'co': 0.8262764167382708}, 865: {'co': 0.8529982941488005}, 879: {'co': 0.837551494970396}, 893: {'co': 0.836809545474229}}\n",
      "2022/11/15 22:36:13 INFO|---------|{'emv_escape_weak': 0.6, 'emv_escape_strong': 0.095, 'fit_batch': '2'}: Running forward sim\n",
      "2022/11/15 22:36:27 INFO|--------|{'emv_escape_weak': 0.55, 'emv_escape_strong': 0.045, 'fit_batch': '3'}: Transmission control fit 4/7 completed in 12.629822999999988 seconds: {851: {'co': 0.8266170566332579}, 865: {'co': 0.8525056500390544}, 879: {'co': 0.8387776063733919}, 893: {'co': 0.8329728220677577}, 907: {'co': 0.8382177230843638}, 921: {'co': 0.8311820089173593}}\n",
      "2022/11/15 22:36:27 INFO|---------|{'emv_escape_weak': 0.55, 'emv_escape_strong': 0.045, 'fit_batch': '3'}: Running forward sim\n"
     ]
    },
    {
     "name": "stderr",
     "output_type": "stream",
     "text": [
      "2022/11/15 22:36:28 INFO|--------|{'emv_escape_weak': 0.6, 'emv_escape_strong': 0.095, 'fit_batch': '3'}: Transmission control fit 4/7 completed in 12.635247582999995 seconds: {851: {'co': 0.8266170566332579}, 865: {'co': 0.8525056500390544}, 879: {'co': 0.8387776063733919}, 893: {'co': 0.8329728220677577}, 907: {'co': 0.8382177230843638}, 921: {'co': 0.8311820089173593}}\n",
      "2022/11/15 22:36:28 INFO|---------|{'emv_escape_weak': 0.6, 'emv_escape_strong': 0.095, 'fit_batch': '3'}: Running forward sim\n",
      "2022/11/15 22:36:28 INFO|--------|{'emv_escape_weak': 0.65, 'emv_escape_strong': 0.145, 'fit_batch': '3'}: Transmission control fit 4/7 completed in 12.866401208000013 seconds: {851: {'co': 0.8266170566332579}, 865: {'co': 0.8525056500390544}, 879: {'co': 0.8387776063733919}, 893: {'co': 0.8329728220677577}, 907: {'co': 0.8382177230843638}, 921: {'co': 0.8311820089173593}}\n",
      "2022/11/15 22:36:28 INFO|---------|{'emv_escape_weak': 0.65, 'emv_escape_strong': 0.145, 'fit_batch': '3'}: Running forward sim\n",
      "2022/11/15 22:36:41 INFO|--------|{'emv_escape_weak': 0.55, 'emv_escape_strong': 0.045, 'fit_batch': '4'}: Transmission control fit 5/7 completed in 12.542331625000003 seconds: {879: {'co': 0.8389511483951759}, 893: {'co': 0.8336263596012243}, 907: {'co': 0.8361920360261604}, 921: {'co': 0.8393465730415057}, 935: {'co': 0.8154959007926694}, 949: {'co': 0.8312433073015567}}\n",
      "2022/11/15 22:36:41 INFO|---------|{'emv_escape_weak': 0.55, 'emv_escape_strong': 0.045, 'fit_batch': '4'}: Running forward sim\n",
      "2022/11/15 22:36:42 INFO|--------|{'emv_escape_weak': 0.6, 'emv_escape_strong': 0.095, 'fit_batch': '4'}: Transmission control fit 5/7 completed in 12.485773249999994 seconds: {879: {'co': 0.8389511483951759}, 893: {'co': 0.8336263596012243}, 907: {'co': 0.8361920360261604}, 921: {'co': 0.8393465730415057}, 935: {'co': 0.8154959007926694}, 949: {'co': 0.8312433073015567}}\n",
      "2022/11/15 22:36:42 INFO|---------|{'emv_escape_weak': 0.6, 'emv_escape_strong': 0.095, 'fit_batch': '4'}: Running forward sim\n",
      "2022/11/15 22:36:42 INFO|--------|{'emv_escape_weak': 0.65, 'emv_escape_strong': 0.145, 'fit_batch': '4'}: Transmission control fit 5/7 completed in 12.75956583300001 seconds: {879: {'co': 0.8389511483951759}, 893: {'co': 0.8336263596012243}, 907: {'co': 0.8361920360261604}, 921: {'co': 0.8393465730415057}, 935: {'co': 0.8154959007926694}, 949: {'co': 0.8312433073015567}}\n",
      "2022/11/15 22:36:42 INFO|---------|{'emv_escape_weak': 0.65, 'emv_escape_strong': 0.145, 'fit_batch': '4'}: Running forward sim\n",
      "2022/11/15 22:36:56 INFO|--------|{'emv_escape_weak': 0.55, 'emv_escape_strong': 0.045, 'fit_batch': '5'}: Transmission control fit 6/7 completed in 13.266307250000011 seconds: {907: {'co': 0.8361818722686135}, 921: {'co': 0.8394512032854287}, 935: {'co': 0.8150944787122474}, 949: {'co': 0.8318054267071477}, 963: {'co': 0.8018940215583714}, 977: {'co': 0.8163799425772175}}\n",
      "2022/11/15 22:36:56 INFO|---------|{'emv_escape_weak': 0.55, 'emv_escape_strong': 0.045, 'fit_batch': '5'}: Running forward sim\n",
      "2022/11/15 22:36:57 INFO|--------|{'emv_escape_weak': 0.6, 'emv_escape_strong': 0.095, 'fit_batch': '5'}: Transmission control fit 6/7 completed in 13.295955125000006 seconds: {907: {'co': 0.8361819385177548}, 921: {'co': 0.8394509713556589}, 935: {'co': 0.8150952593699279}, 949: {'co': 0.8318035790823325}, 963: {'co': 0.8019006233690581}, 977: {'co': 0.8163989199118581}}\n",
      "2022/11/15 22:36:57 INFO|---------|{'emv_escape_weak': 0.6, 'emv_escape_strong': 0.095, 'fit_batch': '5'}: Running forward sim\n",
      "2022/11/15 22:36:58 INFO|--------|{'emv_escape_weak': 0.65, 'emv_escape_strong': 0.145, 'fit_batch': '5'}: Transmission control fit 6/7 completed in 13.489453207999986 seconds: {907: {'co': 0.8361820489874624}, 921: {'co': 0.8394506149682964}, 935: {'co': 0.8150965115004605}, 949: {'co': 0.8317993880060819}, 963: {'co': 0.801935010676189}, 977: {'co': 0.8167815311000055}}\n",
      "2022/11/15 22:36:58 INFO|---------|{'emv_escape_weak': 0.65, 'emv_escape_strong': 0.145, 'fit_batch': '5'}: Running forward sim\n",
      "2022/11/15 22:37:12 INFO|--------|{'emv_escape_weak': 0.55, 'emv_escape_strong': 0.045, 'fit_batch': '6'}: Transmission control fit 7/7 completed in 14.041649790999998 seconds: {921: {'co': 0.8397227287140537}, 935: {'co': 0.8142465364864165}, 949: {'co': 0.8345416247543551}, 963: {'co': 0.7944671377420176}, 977: {'co': 0.83332314699271}, 991: {'co': 0.7535188401772815}}\n",
      "2022/11/15 22:37:12 INFO|---------|{'emv_escape_weak': 0.55, 'emv_escape_strong': 0.045, 'fit_batch': '6'}: Running forward sim\n",
      "2022/11/15 22:37:13 INFO|--------|{'emv_escape_weak': 0.6, 'emv_escape_strong': 0.095, 'fit_batch': '6'}: Transmission control fit 7/7 completed in 14.25317475 seconds: {921: {'co': 0.8396400882811618}, 935: {'co': 0.8142879896496434}, 949: {'co': 0.8343813414690254}, 963: {'co': 0.7948278593495419}, 977: {'co': 0.8323464756174074}, 991: {'co': 0.7557616634005715}}\n",
      "2022/11/15 22:37:13 INFO|---------|{'emv_escape_weak': 0.6, 'emv_escape_strong': 0.095, 'fit_batch': '6'}: Running forward sim\n",
      "2022/11/15 22:37:13 INFO|--------|{'emv_escape_weak': 0.65, 'emv_escape_strong': 0.145, 'fit_batch': '6'}: Transmission control fit 7/7 completed in 14.131445041999996 seconds: {921: {'co': 0.8394273092371426}, 935: {'co': 0.8146527487047293}, 949: {'co': 0.8331245546242082}, 963: {'co': 0.798435692049228}, 977: {'co': 0.823569858137053}, 991: {'co': 0.7675103896346205}}\n",
      "2022/11/15 22:37:13 INFO|---------|{'emv_escape_weak': 0.65, 'emv_escape_strong': 0.145, 'fit_batch': '6'}: Running forward sim\n",
      "2022/11/15 22:37:14 INFO|--------|{'emv_escape_weak': 0.55, 'emv_escape_strong': 0.045, 'fit_batch': '6', 'run_type': 'fit'}: fitted TC: {0: {'co': 0.8306366815589404}, 14: {'co': 0.6981743540911125}, 28: {'co': 0.5650699126380538}, 42: {'co': 1.2613785476244924e-15}, 56: {'co': 0.6966530538855653}, 70: {'co': 0.8332726485652999}, 84: {'co': 0.8296248772646011}, 98: {'co': 0.8316924798351031}, 112: {'co': 0.8774896960445533}, 126: {'co': 0.8243044228361942}, 140: {'co': 0.7604527625947122}, 154: {'co': 0.671288017772332}, 168: {'co': 0.843055135293664}, 182: {'co': 0.7826363484044665}, 196: {'co': 0.8191511060028511}, 210: {'co': 0.7726071129497626}, 224: {'co': 0.7713215715743026}, 238: {'co': 0.718543964340705}, 252: {'co': 0.722097146662614}, 266: {'co': 0.6850776838461609}, 280: {'co': 0.7198394872192173}, 294: {'co': 0.7589434396271403}, 308: {'co': 0.8220715495341357}, 322: {'co': 0.8118499589368375}, 336: {'co': 0.7823102311026947}, 350: {'co': 0.7950241455590741}, 364: {'co': 0.8032109627714479}, 378: {'co': 0.7471484152199204}, 392: {'co': 0.778409193486192}, 406: {'co': 0.7137072188117203}, 420: {'co': 0.7169141142397047}, 434: {'co': 0.6897554006294382}, 448: {'co': 0.7428188121489103}, 462: {'co': 0.8155613569761444}, 476: {'co': 0.7964049741750481}, 490: {'co': 0.8344111196650391}, 504: {'co': 0.7926162886343049}, 518: {'co': 0.786203482523872}, 532: {'co': 0.76534316964812}, 546: {'co': 0.7192434844758303}, 560: {'co': 0.7473209288508577}, 574: {'co': 0.7551730083148972}, 588: {'co': 0.7945071164204615}, 602: {'co': 0.771205359510775}, 616: {'co': 0.7276520893961718}, 630: {'co': 0.7449631751092025}, 644: {'co': 0.7216748856422759}, 658: {'co': 0.7623967104535199}, 672: {'co': 0.7742165974613502}, 686: {'co': 0.7990240405102492}, 700: {'co': 0.7598354399090496}, 714: {'co': 0.8000721244407848}, 728: {'co': 0.8054245170103482}, 742: {'co': 0.798513384143968}, 767: {'co': 0.7703428049880473}, 781: {'co': 0.8222820686839074}, 795: {'co': 0.8121421728033245}, 809: {'co': 0.8306571756746948}, 823: {'co': 0.8364238170118039}, 837: {'co': 0.8400252358034735}, 851: {'co': 0.8266170566332579}, 865: {'co': 0.8525056500390544}, 879: {'co': 0.8389511483951759}, 893: {'co': 0.8336263596012243}, 907: {'co': 0.8361818722686135}, 921: {'co': 0.8397227287140537}, 935: {'co': 0.8142465364864165}, 949: {'co': 0.8345416247543551}, 963: {'co': 0.7944671377420176}, 977: {'co': 0.83332314699271}, 991: {'co': 0.7535188550784427}}\n",
      "2022/11/15 22:37:14 INFO|---------|{'emv_escape_weak': 0.55, 'emv_escape_strong': 0.045, 'fit_batch': '6', 'run_type': 'fit'}: Running forward sim\n",
      "2022/11/15 22:37:15 INFO|--------|{'emv_escape_weak': 0.6, 'emv_escape_strong': 0.095, 'fit_batch': '6', 'run_type': 'fit'}: fitted TC: {0: {'co': 0.8306366815589404}, 14: {'co': 0.6981743540911125}, 28: {'co': 0.5650699126380538}, 42: {'co': 1.2613785476244924e-15}, 56: {'co': 0.6966530538855653}, 70: {'co': 0.8332726485652999}, 84: {'co': 0.8296248772646011}, 98: {'co': 0.8316924798351031}, 112: {'co': 0.8774896960445533}, 126: {'co': 0.8243044228361942}, 140: {'co': 0.7604527625947122}, 154: {'co': 0.671288017772332}, 168: {'co': 0.843055135293664}, 182: {'co': 0.7826363484044665}, 196: {'co': 0.8191511060028511}, 210: {'co': 0.7726071129497626}, 224: {'co': 0.7713215715743026}, 238: {'co': 0.718543964340705}, 252: {'co': 0.722097146662614}, 266: {'co': 0.6850776838461609}, 280: {'co': 0.7198394872192173}, 294: {'co': 0.7589434396271403}, 308: {'co': 0.8220715495341357}, 322: {'co': 0.8118499589368375}, 336: {'co': 0.7823102311026947}, 350: {'co': 0.7950241455590741}, 364: {'co': 0.8032109627714479}, 378: {'co': 0.7471484152199204}, 392: {'co': 0.778409193486192}, 406: {'co': 0.7137072188117203}, 420: {'co': 0.7169141142397047}, 434: {'co': 0.6897554006294382}, 448: {'co': 0.7428188121489103}, 462: {'co': 0.8155613569761444}, 476: {'co': 0.7964049741750481}, 490: {'co': 0.8344111196650391}, 504: {'co': 0.7926162886343049}, 518: {'co': 0.786203482523872}, 532: {'co': 0.76534316964812}, 546: {'co': 0.7192434844758303}, 560: {'co': 0.7473209288508577}, 574: {'co': 0.7551730083148972}, 588: {'co': 0.7945071164204615}, 602: {'co': 0.771205359510775}, 616: {'co': 0.7276520893961718}, 630: {'co': 0.7449631751092025}, 644: {'co': 0.7216748856422759}, 658: {'co': 0.7623967104535199}, 672: {'co': 0.7742165974613502}, 686: {'co': 0.7990240405102492}, 700: {'co': 0.7598354399090496}, 714: {'co': 0.8000721244407848}, 728: {'co': 0.8054245170103482}, 742: {'co': 0.798513384143968}, 767: {'co': 0.7703428049880473}, 781: {'co': 0.8222820686839074}, 795: {'co': 0.8121421728033245}, 809: {'co': 0.8306571756746948}, 823: {'co': 0.8364238170118039}, 837: {'co': 0.8400252358034735}, 851: {'co': 0.8266170566332579}, 865: {'co': 0.8525056500390544}, 879: {'co': 0.8389511483951759}, 893: {'co': 0.8336263596012243}, 907: {'co': 0.8361819385177548}, 921: {'co': 0.8396400882811618}, 935: {'co': 0.8142879896496434}, 949: {'co': 0.8343813414690254}, 963: {'co': 0.7948278593495419}, 977: {'co': 0.8323464756174074}, 991: {'co': 0.7557616783017327}}\n",
      "2022/11/15 22:37:15 INFO|---------|{'emv_escape_weak': 0.6, 'emv_escape_strong': 0.095, 'fit_batch': '6', 'run_type': 'fit'}: Running forward sim\n"
     ]
    },
    {
     "name": "stderr",
     "output_type": "stream",
     "text": [
      "2022/11/15 22:37:15 INFO|--------|{'emv_escape_weak': 0.65, 'emv_escape_strong': 0.145, 'fit_batch': '6', 'run_type': 'fit'}: fitted TC: {0: {'co': 0.8306366815589404}, 14: {'co': 0.6981743540911125}, 28: {'co': 0.5650699126380538}, 42: {'co': 1.2613785476244924e-15}, 56: {'co': 0.6966530538855653}, 70: {'co': 0.8332726485652999}, 84: {'co': 0.8296248772646011}, 98: {'co': 0.8316924798351031}, 112: {'co': 0.8774896960445533}, 126: {'co': 0.8243044228361942}, 140: {'co': 0.7604527625947122}, 154: {'co': 0.671288017772332}, 168: {'co': 0.843055135293664}, 182: {'co': 0.7826363484044665}, 196: {'co': 0.8191511060028511}, 210: {'co': 0.7726071129497626}, 224: {'co': 0.7713215715743026}, 238: {'co': 0.718543964340705}, 252: {'co': 0.722097146662614}, 266: {'co': 0.6850776838461609}, 280: {'co': 0.7198394872192173}, 294: {'co': 0.7589434396271403}, 308: {'co': 0.8220715495341357}, 322: {'co': 0.8118499589368375}, 336: {'co': 0.7823102311026947}, 350: {'co': 0.7950241455590741}, 364: {'co': 0.8032109627714479}, 378: {'co': 0.7471484152199204}, 392: {'co': 0.778409193486192}, 406: {'co': 0.7137072188117203}, 420: {'co': 0.7169141142397047}, 434: {'co': 0.6897554006294382}, 448: {'co': 0.7428188121489103}, 462: {'co': 0.8155613569761444}, 476: {'co': 0.7964049741750481}, 490: {'co': 0.8344111196650391}, 504: {'co': 0.7926162886343049}, 518: {'co': 0.786203482523872}, 532: {'co': 0.76534316964812}, 546: {'co': 0.7192434844758303}, 560: {'co': 0.7473209288508577}, 574: {'co': 0.7551730083148972}, 588: {'co': 0.7945071164204615}, 602: {'co': 0.771205359510775}, 616: {'co': 0.7276520893961718}, 630: {'co': 0.7449631751092025}, 644: {'co': 0.7216748856422759}, 658: {'co': 0.7623967104535199}, 672: {'co': 0.7742165974613502}, 686: {'co': 0.7990240405102492}, 700: {'co': 0.7598354399090496}, 714: {'co': 0.8000721244407848}, 728: {'co': 0.8054245170103482}, 742: {'co': 0.798513384143968}, 767: {'co': 0.7703428049880473}, 781: {'co': 0.8222820686839074}, 795: {'co': 0.8121421728033245}, 809: {'co': 0.8306571756746948}, 823: {'co': 0.8364238170118039}, 837: {'co': 0.8400252358034735}, 851: {'co': 0.8266170566332579}, 865: {'co': 0.8525056500390544}, 879: {'co': 0.8389511483951759}, 893: {'co': 0.8336263596012243}, 907: {'co': 0.8361820489874624}, 921: {'co': 0.8394273092371426}, 935: {'co': 0.8146527487047293}, 949: {'co': 0.8331245546242082}, 963: {'co': 0.798435692049228}, 977: {'co': 0.823569858137053}, 991: {'co': 0.7675104045357817}}\n",
      "2022/11/15 22:37:15 INFO|---------|{'emv_escape_weak': 0.65, 'emv_escape_strong': 0.145, 'fit_batch': '6', 'run_type': 'fit'}: Running forward sim\n",
      "2022/11/15 22:37:42 INFO|-----------------------|spec_ids: 4390,4391,4392\n"
     ]
    }
   ],
   "source": [
    "# run the scenarios\n",
    "models = do_fit_scenarios(base_model_args=model_args, scenario_args_list=scenario_model_args, fit_args=model_fit_args, multiprocess=multiprocess)"
   ]
  },
  {
   "cell_type": "markdown",
   "metadata": {
    "pycharm": {
     "name": "#%% md\n"
    }
   },
   "source": [
    "### Run the report for each fit model"
   ]
  },
  {
   "cell_type": "code",
   "execution_count": 12,
   "metadata": {
    "pycharm": {
     "name": "#%%\n"
    }
   },
   "outputs": [
    {
     "name": "stderr",
     "output_type": "stream",
     "text": [
      "2022/11/15 22:41:46 INFO|============================================================\n",
      "2022/11/15 22:41:46 INFO|--------|Solving model\n",
      "2022/11/15 22:41:47 INFO|============================================================\n",
      "2022/11/15 22:41:47 INFO|--------|Solving model\n",
      "2022/11/15 22:41:48 INFO|============================================================\n",
      "2022/11/15 22:41:48 INFO|--------|Solving model\n",
      "2022/11/15 22:41:51 WARNING|No artists with labels found to put in legend.  Note that artists whose label start with an underscore are ignored when legend() is called with no argument.\n",
      "2022/11/15 22:41:51 WARNING|No artists with labels found to put in legend.  Note that artists whose label start with an underscore are ignored when legend() is called with no argument.\n",
      "2022/11/15 22:41:52 WARNING|No artists with labels found to put in legend.  Note that artists whose label start with an underscore are ignored when legend() is called with no argument.\n"
     ]
    }
   ],
   "source": [
    "# here you can also specify which variants you want to calculate immunity for\n",
    "do_create_multiple_reports(models, multiprocess=multiprocess, outdir=outdir, prep_model=False, solve_model=True, immun_variants=['ba45', 'emv'], from_date='2022-01-01')"
   ]
  },
  {
   "cell_type": "code",
   "execution_count": 13,
   "metadata": {
    "pycharm": {
     "name": "#%%\n"
    }
   },
   "outputs": [
    {
     "name": "stderr",
     "output_type": "stream",
     "text": [
      "2022/11/15 22:46:59 INFO|Projecting\n",
      "2022/11/15 22:46:59 INFO|\n",
      "2022/11/15 22:47:24 INFO|{'emv_escape_weak': 0.6, 'emv_escape_strong': 0.095, 'fit_batch': '6', 'run_type': 'fit'}: Running forward sim\n",
      "2022/11/15 22:47:26 INFO|\n",
      "2022/11/15 22:47:50 INFO|{'emv_escape_weak': 0.55, 'emv_escape_strong': 0.045, 'fit_batch': '6', 'run_type': 'fit'}: Running forward sim\n",
      "2022/11/15 22:47:51 INFO|\n",
      "2022/11/15 22:48:13 INFO|{'emv_escape_weak': 0.65, 'emv_escape_strong': 0.145, 'fit_batch': '6', 'run_type': 'fit'}: Running forward sim\n",
      "2022/11/15 22:48:15 INFO|Running reports\n"
     ]
    }
   ],
   "source": [
    "logging.info('Projecting')\n",
    "for model in models:\n",
    "    logging.info('')\n",
    "    #model.prep()  # don't think we need to prep anymore.\n",
    "    model.solve_seir()\n",
    "\n",
    "    model.solution_sum_df(['seir', 'variant', 'immun']).unstack().to_csv(get_filepath_prefix(outdir, tags=model.tags) + 'states_seir_variant_immun_total_all_at_once_projection.csv')\n",
    "    model.solution_sum_df().unstack().to_csv(get_filepath_prefix(outdir, tags=model.tags) + 'states_full_projection.csv')\n",
    "\n",
    "    logging.info(f'{str(model.tags)}: Running forward sim')\n",
    "    fig = plt.figure(figsize=(10, 10), dpi=300)\n",
    "    ax = fig.add_subplot(211)\n",
    "    hosps_df = model.modeled_vs_observed_hosps().reset_index('region').drop(columns='region')\n",
    "    hosps_df.plot(ax=ax)\n",
    "    ax.set_xlim(dt.datetime.strptime('2022-01-01', \"%Y-%m-%d\").date(), dt.datetime.strptime('2024-01-01', \"%Y-%m-%d\").date())\n",
    "    ax = fig.add_subplot(212)\n",
    "    plot_transmission_control(model, ax=ax)\n",
    "    ax.set_xlim(dt.datetime.strptime('2022-01-01', \"%Y-%m-%d\").date(), dt.datetime.strptime('2024-01-01', \"%Y-%m-%d\").date())\n",
    "    plt.savefig(get_filepath_prefix(outdir, tags=model.tags) + 'model_forecast.png')\n",
    "    plt.close()\n",
    "    hosps_df.to_csv(get_filepath_prefix(outdir, tags=model.tags) + '_model_forecast.csv')\n",
    "    json.dump(model.tc, open(get_filepath_prefix(outdir, tags=model.tags) + 'model_forecast_tc.json', 'w'))\n",
    "\n",
    "logging.info('Running reports')"
   ]
  },
  {
   "cell_type": "code",
   "execution_count": null,
   "metadata": {},
   "outputs": [],
   "source": [
    "model.solution_ydf.to_csv('covid_model/output/20221109_scenario_projections.ipynb/state_model_solution_ydf.csv', index=False)"
   ]
  },
  {
   "cell_type": "code",
   "execution_count": null,
   "metadata": {},
   "outputs": [],
   "source": []
  }
 ],
 "metadata": {
  "kernelspec": {
   "display_name": "Python 3 (ipykernel)",
   "language": "python",
   "name": "python3"
  },
  "language_info": {
   "codemirror_mode": {
    "name": "ipython",
    "version": 3
   },
   "file_extension": ".py",
   "mimetype": "text/x-python",
   "name": "python",
   "nbconvert_exporter": "python",
   "pygments_lexer": "ipython3",
   "version": "3.9.13"
  }
 },
 "nbformat": 4,
 "nbformat_minor": 4
}
