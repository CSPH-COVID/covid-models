{
 "cells": [
  {
   "cell_type": "markdown",
   "metadata": {
    "pycharm": {
     "name": "#%% md\n"
    }
   },
   "source": [
    "### Setup"
   ]
  },
  {
   "cell_type": "code",
   "execution_count": 1,
   "metadata": {
    "pycharm": {
     "name": "#%%\n"
    }
   },
   "outputs": [
    {
     "name": "stdout",
     "output_type": "stream",
     "text": [
      "/Users/emwu9912/PycharmProjects/covid-models\n"
     ]
    }
   ],
   "source": [
    "\"\"\" Python Standard Library \"\"\"\n",
    "import os\n",
    "import datetime as dt\n",
    "import json\n",
    "import logging\n",
    "\"\"\" Third Party Imports \"\"\"\n",
    "import numpy as np\n",
    "import pandas as pd\n",
    "from matplotlib import pyplot as plt\n",
    "%matplotlib inline\n",
    "import seaborn as sns\n",
    "\"\"\" Local Imports \"\"\"\n",
    "if 'requirements.txt' not in os.listdir(os.getcwd()):\n",
    "    os.chdir(os.path.join('..','..','..'))\n",
    "print(os.getcwd())\n",
    "from covid_model.model import CovidModel\n",
    "from covid_model.runnable_functions import do_single_fit, do_fit_scenarios, do_create_report #do_create_multiple_reports\n",
    "from covid_model.utils import setup, get_filepath_prefix\n",
    "from covid_model.analysis.charts import plot_transmission_control\n",
    "\n",
    "os.environ['gcp_project'] = 'co-covid-models'\n",
    "os.environ['GOOGLE_APPLICATION_CREDENTIALS'] = \"co-covid-models-credentials.json\""
   ]
  },
  {
   "cell_type": "code",
   "execution_count": 2,
   "metadata": {
    "pycharm": {
     "name": "#%%\n"
    },
    "scrolled": true
   },
   "outputs": [
    {
     "name": "stderr",
     "output_type": "stream",
     "text": [
      "2022/11/30 16:30:52 INFO|============================================================\n"
     ]
    }
   ],
   "source": [
    "# set up the output directory for this Jupyter notebook\n",
    "outdir = setup(\"20221131_scenario_projections.ipynb\")"
   ]
  },
  {
   "cell_type": "markdown",
   "metadata": {
    "pycharm": {
     "name": "#%% md\n"
    }
   },
   "source": [
    "### Fit an initial scenario through present day"
   ]
  },
  {
   "cell_type": "code",
   "execution_count": null,
   "metadata": {
    "pycharm": {
     "name": "#%%\n"
    }
   },
   "outputs": [],
   "source": [
    "# designate the arguments for how the model will behave\n",
    "model_args = {\n",
    "    'params_defs': 'covid_model/analysis/20221109_nov_gov_briefing/20221109_scenario_params.json',\n",
    "    'region_defs': 'covid_model/input/region_definitions.json',\n",
    "    'vacc_proj_params': 'covid_model/analysis/20221109_nov_gov_briefing/20221109_vacc_proj_params.json',\n",
    "    'start_date': '2020-01-24',\n",
    "    'end_date': '2024-01-01',\n",
    "}\n",
    "\n",
    "# this is how the fit will behave\n",
    "# place the outdir argument here to tell the model fit where to go\n",
    "fit_args = {'outdir': outdir,\n",
    "            'fit_end_date': '2022-11-29'\n",
    "}\n",
    "\n",
    "# because all the scenarios are the same \n",
    "model = do_single_fit(**fit_args, **model_args)"
   ]
  },
  {
   "cell_type": "markdown",
   "metadata": {
    "pycharm": {
     "name": "#%% md\n"
    }
   },
   "source": [
    "### Create and run scenarios from Feb 2022 to present"
   ]
  },
  {
   "cell_type": "code",
   "execution_count": null,
   "metadata": {
    "pycharm": {
     "name": "#%%\n"
    }
   },
   "outputs": [],
   "source": [
    "# #multiprocess = 4\n",
    "\n",
    "# #scenario_params = json.load(open('covid_model/analysis/20221109_nov_gov_briefing/20221109_scenario_params.json'))\n",
    "\n",
    "# #model_args = {\n",
    "#     #'base_spec_id': model.spec_id, # use the spec id that was output from the model fit\n",
    "# #}\n",
    "# #model_fit_args = {\n",
    "#     #'outdir': outdir,\n",
    "#     #'fit_start_date': '2022-09-15', # set the start date for the earliest point at which the scenarios start to differ from one another\n",
    "#     #'pre_solve_model': True # force the model to establish initial conditions so the fit can start on the fit start date\n",
    "# #}\n",
    "\n",
    "# # define vaccine effectiveness for < 5 (this is a multiplier for the baseline vaccine effectiveness for 0-19)\n",
    "# vacc_eff_lt5 = 0.5\n",
    "\n",
    "# # Create different scenarios to model\n",
    "# scenario_model_args = []\n",
    "# for (weak_escape, strong_escape) in [(0.6, 0.15), (0.66, 0.165), (0.72, 0.18), (0.54, 0.135)]:\n",
    "#     weak_param = [{\"param\": \"immune_escape\",\n",
    "#                    \"from_attrs\": {\"immun\": \"weak\",\n",
    "#                                   \"variant\": [\"none\", \"wildtype\", \"alpha\", \"delta\",\n",
    "#                                               \"omicron\", \"ba2\", \"ba2121\", \"ba45\"]},\n",
    "#                    \"to_attrs\": {\"variant\": [\"emv\"]},\n",
    "#                    \"vals\": {\"2020-01-01\": weak_escape},\n",
    "#                    \"desc\": \"emerging variants immune escape value, weak immunity\"}]\n",
    "#     strong_param = [{\"param\": \"immune_escape\",\n",
    "#                    \"from_attrs\": {\"immun\": \"strong\",\n",
    "#                                   \"variant\": [\"none\", \"wildtype\", \"alpha\", \"delta\",\n",
    "#                                               \"omicron\", \"ba2\", \"ba2121\", \"ba45\"]},\n",
    "#                    \"to_attrs\": {\"variant\": [\"emv\"]},\n",
    "#                    \"vals\": {\"2020-01-01\": strong_escape},\n",
    "#                    \"desc\": \"emerging variants immune escape value, strong immunity\"}]\n",
    "#     lt5_vacc_adjust = [{\"param\": \"immunity\",\n",
    "#                         \"attrs\": {'age': '0-19', 'vacc': 'shot1'},\n",
    "#                         \"mults\": {\"2020-01-01\": 1,\n",
    "#                                   \"2022-06-24\": 0.99 + 0.01*vacc_eff_lt5,\n",
    "#                                   \"2022-06-30\": 0.98 + 0.02*vacc_eff_lt5,\n",
    "#                                   \"2022-07-08\": 0.97 + 0.03*vacc_eff_lt5,\n",
    "#                                   \"2022-07-19\": 0.96 + 0.04*vacc_eff_lt5,\n",
    "#                                   \"2022-07-29\": 0.95 + 0.05*vacc_eff_lt5,\n",
    "#                                   \"2022-08-11\": 0.94 + 0.06*vacc_eff_lt5,\n",
    "#                                   \"2022-08-30\": 0.93 + 0.07*vacc_eff_lt5,\n",
    "#                                   \"2022-09-26\": 0.92 + 0.08*vacc_eff_lt5,\n",
    "#                                   \"2022-10-26\": 0.91 + 0.09*vacc_eff_lt5,},\n",
    "#                         \"desc\": \"weighted average using share of 0-19 getting shot1 who are under 5\"}]\n",
    "#     scenario_model_args.append({'params_defs': scenario_params + weak_param + strong_param + lt5_vacc_adjust,\n",
    "#                                 'tags': {'emv_escape_weak': weak_escape,\n",
    "#                                         'emv_escape_strong': strong_escape}})\n",
    "            "
   ]
  },
  {
   "cell_type": "code",
   "execution_count": null,
   "metadata": {},
   "outputs": [],
   "source": [
    "# check how many scenarios there are\n",
    "#len(scenario_model_args)"
   ]
  },
  {
   "cell_type": "code",
   "execution_count": null,
   "metadata": {},
   "outputs": [],
   "source": [
    "# run the scenarios\n",
    "#models = do_fit_scenarios(base_model_args=model_args, scenario_args_list=scenario_model_args, fit_args=model_fit_args, multiprocess=multiprocess)"
   ]
  },
  {
   "cell_type": "markdown",
   "metadata": {
    "pycharm": {
     "name": "#%% md\n"
    }
   },
   "source": [
    "### Run the report for each fit model"
   ]
  },
  {
   "cell_type": "code",
   "execution_count": null,
   "metadata": {
    "pycharm": {
     "name": "#%%\n"
    }
   },
   "outputs": [],
   "source": [
    "# here you can also specify which variants you want to calculate immunity for\n",
    "#do_create_multiple_reports(models, multiprocess=multiprocess, outdir=outdir, prep_model=False, solve_model=True, immun_variants=['ba45', 'emv'], from_date='2022-01-01')"
   ]
  },
  {
   "cell_type": "code",
   "execution_count": 20,
   "metadata": {},
   "outputs": [
    {
     "name": "stderr",
     "output_type": "stream",
     "text": [
      "2022/11/30 16:53:11 INFO|------------------------|{'emv_escape_weak': 0.66, 'emv_escape_strong': 0.165, 'fit_batch': '0', 'run_type': 'fit'} Retrieving vaccinations data\n",
      "2022/11/30 16:53:13 INFO|------------------------|{'emv_escape_weak': 0.66, 'emv_escape_strong': 0.165, 'fit_batch': '0', 'run_type': 'fit'} Constructing vaccination projections\n",
      "2022/11/30 16:53:15 INFO|------------------------|{'emv_escape_weak': 0.66, 'emv_escape_strong': 0.165, 'fit_batch': '0', 'run_type': 'fit'} Retrieving hospitalizations data\n"
     ]
    }
   ],
   "source": [
    "model_args = {\n",
    "    'base_spec_id': 4509, # use the spec id that was output from the model fit\n",
    "}\n",
    "\n",
    "model = CovidModel(**model_args)"
   ]
  },
  {
   "cell_type": "code",
   "execution_count": 21,
   "metadata": {},
   "outputs": [
    {
     "name": "stderr",
     "output_type": "stream",
     "text": [
      "2022/11/30 16:53:28 INFO|----------------------|{'emv_escape_weak': 0.66, 'emv_escape_strong': 0.165, 'fit_batch': '0', 'run_type': 'fit'} Prepping Model\n"
     ]
    }
   ],
   "source": [
    "model.prep()"
   ]
  },
  {
   "cell_type": "code",
   "execution_count": 22,
   "metadata": {},
   "outputs": [],
   "source": [
    "#model.tc\n",
    "#len(model.tc_t_prev_lookup)\n",
    "\n",
    "#[max(t for t in model.tc.keys() if t <= t_int) for t_int in model.trange]\n",
    "\n",
    "\n",
    "#model.trange\n",
    "\n",
    "#model.solution_y.shape\n",
    "\n",
    "#     scenario_model_args.append({'params_defs': scenario_params + weak_param + strong_param + lt5_vacc_adjust,\n",
    "#                                 'tags': {'emv_escape_weak': weak_escape,\n",
    "#                                         'emv_escape_strong': strong_escape}})"
   ]
  },
  {
   "cell_type": "code",
   "execution_count": 24,
   "metadata": {
    "pycharm": {
     "name": "#%%\n"
    }
   },
   "outputs": [
    {
     "name": "stderr",
     "output_type": "stream",
     "text": [
      "2022/11/30 17:03:08 INFO|Projecting\n",
      "2022/11/30 17:03:08 INFO|\n",
      "2022/11/30 17:03:21 WARNING|No artists with labels found to put in legend.  Note that artists whose label start with an underscore are ignored when legend() is called with no argument.\n",
      "2022/11/30 17:05:51 INFO|{'emv_escape_weak': 0.66, 'emv_escape_strong': 0.165, 'fit_batch': '0', 'run_type': 'fit', 'tc': 0.5}: Running forward sim\n",
      "2022/11/30 17:05:53 INFO|Running reports\n",
      "2022/11/30 17:05:53 INFO|\n",
      "2022/11/30 17:06:01 WARNING|No artists with labels found to put in legend.  Note that artists whose label start with an underscore are ignored when legend() is called with no argument.\n",
      "2022/11/30 17:08:38 INFO|{'emv_escape_weak': 0.66, 'emv_escape_strong': 0.165, 'fit_batch': '0', 'run_type': 'fit', 'tc': 0.7}: Running forward sim\n",
      "2022/11/30 17:08:40 INFO|Running reports\n",
      "2022/11/30 17:08:40 INFO|\n",
      "2022/11/30 17:08:58 WARNING|No artists with labels found to put in legend.  Note that artists whose label start with an underscore are ignored when legend() is called with no argument.\n",
      "2022/11/30 17:11:34 INFO|{'emv_escape_weak': 0.66, 'emv_escape_strong': 0.165, 'fit_batch': '0', 'run_type': 'fit', 'tc': 0.9}: Running forward sim\n",
      "2022/11/30 17:11:36 INFO|Running reports\n"
     ]
    }
   ],
   "source": [
    "logging.info('Projecting')\n",
    "for tc in [0.5, 0.7, 0.9]:\n",
    "    logging.info('')\n",
    "        #model.update_tc()\n",
    "    model.update_tc({model.date_to_t(\"2022-11-29\"): {'co': tc}}, replace = False)\n",
    "    model.tags.update({'tc': tc})\n",
    "    model.solve_seir()\n",
    "    do_create_report(model, outdir=outdir, prep_model=False, solve_model=False, immun_variants=['ba45', 'emv'], from_date='2022-01-01')\n",
    "\n",
    "    model.solution_sum_df(['seir', 'variant', 'immun']).unstack().to_csv(get_filepath_prefix(outdir, tags=model.tags) + 'states_seir_variant_immun_total_all_at_once_projection.csv')\n",
    "    model.solution_sum_df().unstack().to_csv(get_filepath_prefix(outdir, tags=model.tags) + 'states_full_projection.csv')\n",
    "\n",
    "    logging.info(f'{str(model.tags)}: Running forward sim')\n",
    "    fig = plt.figure(figsize=(10, 10), dpi=300)\n",
    "    ax = fig.add_subplot(211)\n",
    "    hosps_df = model.modeled_vs_observed_hosps().reset_index('region').drop(columns='region')\n",
    "    hosps_df.plot(ax=ax)\n",
    "    ax.set_xlim(dt.datetime.strptime('2022-01-01', \"%Y-%m-%d\").date(), dt.datetime.strptime('2024-01-01', \"%Y-%m-%d\").date())\n",
    "    ax = fig.add_subplot(212)\n",
    "    plot_transmission_control(model, ax=ax)\n",
    "    ax.set_xlim(dt.datetime.strptime('2022-01-01', \"%Y-%m-%d\").date(), dt.datetime.strptime('2024-01-01', \"%Y-%m-%d\").date())\n",
    "    plt.savefig(get_filepath_prefix(outdir, tags=model.tags) + 'model_forecast.png')\n",
    "    plt.close()\n",
    "    hosps_df.to_csv(get_filepath_prefix(outdir, tags=model.tags) + '_model_forecast.csv')\n",
    "    json.dump(model.tc, open(get_filepath_prefix(outdir, tags=model.tags) + 'model_forecast_tc.json', 'w'))\n",
    "\n",
    "    logging.info('Running reports')"
   ]
  },
  {
   "cell_type": "code",
   "execution_count": null,
   "metadata": {},
   "outputs": [],
   "source": []
  },
  {
   "cell_type": "code",
   "execution_count": null,
   "metadata": {},
   "outputs": [],
   "source": [
    "model.solution_ydf.to_csv('covid_model/output/20221109_scenario_projections.ipynb/state_model_solution_ydf.csv', index=False)"
   ]
  },
  {
   "cell_type": "code",
   "execution_count": null,
   "metadata": {},
   "outputs": [],
   "source": []
  }
 ],
 "metadata": {
  "kernelspec": {
   "display_name": "Python 3 (ipykernel)",
   "language": "python",
   "name": "python3"
  },
  "language_info": {
   "codemirror_mode": {
    "name": "ipython",
    "version": 3
   },
   "file_extension": ".py",
   "mimetype": "text/x-python",
   "name": "python",
   "nbconvert_exporter": "python",
   "pygments_lexer": "ipython3",
   "version": "3.9.13"
  }
 },
 "nbformat": 4,
 "nbformat_minor": 4
}
