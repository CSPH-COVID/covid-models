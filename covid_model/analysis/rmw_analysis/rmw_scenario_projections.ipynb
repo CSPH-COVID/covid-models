{
 "cells": [
  {
   "cell_type": "markdown",
   "metadata": {
    "pycharm": {
     "name": "#%% md\n"
    }
   },
   "source": [
    "### Setup"
   ]
  },
  {
   "cell_type": "code",
   "execution_count": 4,
   "metadata": {
    "pycharm": {
     "name": "#%%\n"
    }
   },
   "outputs": [
    {
     "name": "stdout",
     "output_type": "stream",
     "text": [
      "/Users/brittneycontreras/PycharmProjects/covid-models\n"
     ]
    }
   ],
   "source": [
    "\"\"\" Python Standard Library \"\"\"\n",
    "import os\n",
    "import datetime as dt\n",
    "import json\n",
    "import logging\n",
    "\"\"\" Third Party Imports \"\"\"\n",
    "import numpy as np\n",
    "import pandas as pd\n",
    "from matplotlib import pyplot as plt\n",
    "%matplotlib inline\n",
    "import seaborn as sns\n",
    "\"\"\" Local Imports \"\"\"\n",
    "if 'requirements.txt' not in os.listdir(os.getcwd()):\n",
    "    os.chdir(os.path.join('..','..','..'))\n",
    "print(os.getcwd())\n",
    "from covid_model.rmw_model import CovidModel\n",
    "from covid_model.runnable_functions import do_regions_fit, do_fit_scenarios, do_create_multiple_reports\n",
    "from covid_model.utils import setup, get_filepath_prefix\n",
    "from covid_model.analysis.charts import plot_transmission_control\n",
    "\n",
    "os.environ['gcp_project'] = 'co-covid-models'\n",
    "os.environ['GOOGLE_APPLICATION_CREDENTIALS'] = \"co-covid-models-credentials.json\""
   ]
  },
  {
   "cell_type": "code",
   "execution_count": 5,
   "metadata": {
    "pycharm": {
     "name": "#%%\n"
    },
    "scrolled": true
   },
   "outputs": [
    {
     "name": "stderr",
     "output_type": "stream",
     "text": [
      "2022/10/25 15:35:07 INFO|============================================================\n"
     ]
    }
   ],
   "source": [
    "# set up the output directory for this Jupyter notebook\n",
    "outdir = setup(\"rmw_scenario_projections.ipynb\")"
   ]
  },
  {
   "cell_type": "markdown",
   "metadata": {
    "pycharm": {
     "name": "#%% md\n"
    }
   },
   "source": [
    "### Fit an initial scenario through February 2022"
   ]
  },
  {
   "cell_type": "code",
   "execution_count": 6,
   "metadata": {
    "pycharm": {
     "name": "#%%\n"
    }
   },
   "outputs": [
    {
     "ename": "NameError",
     "evalue": "name 'fit_args' is not defined",
     "output_type": "error",
     "traceback": [
      "\u001b[0;31m---------------------------------------------------------------------------\u001b[0m",
      "\u001b[0;31mNameError\u001b[0m                                 Traceback (most recent call last)",
      "Input \u001b[0;32mIn [6]\u001b[0m, in \u001b[0;36m<cell line: 18>\u001b[0;34m()\u001b[0m\n\u001b[1;32m     13\u001b[0m fit_args \u001b[38;5;241m=\u001b[39m {\u001b[38;5;124m'\u001b[39m\u001b[38;5;124moutdir\u001b[39m\u001b[38;5;124m'\u001b[39m: outdir,\n\u001b[1;32m     14\u001b[0m             \u001b[38;5;124m'\u001b[39m\u001b[38;5;124mfit_end_date\u001b[39m\u001b[38;5;124m'\u001b[39m: \u001b[38;5;124m'\u001b[39m\u001b[38;5;124m2022-02-28\u001b[39m\u001b[38;5;124m'\u001b[39m\n\u001b[1;32m     15\u001b[0m }\n\u001b[1;32m     17\u001b[0m \u001b[38;5;66;03m# because all the scenarios are the same \u001b[39;00m\n\u001b[0;32m---> 18\u001b[0m model \u001b[38;5;241m=\u001b[39m \u001b[43mdo_regions_fit\u001b[49m\u001b[43m(\u001b[49m\u001b[38;5;241;43m*\u001b[39;49m\u001b[38;5;241;43m*\u001b[39;49m\u001b[43mfit_args\u001b[49m\u001b[43m,\u001b[49m\u001b[43m \u001b[49m\u001b[38;5;241;43m*\u001b[39;49m\u001b[38;5;241;43m*\u001b[39;49m\u001b[43mmodel_args\u001b[49m\u001b[43m)\u001b[49m\n",
      "File \u001b[0;32m~/PycharmProjects/covid-models/covid_model/runnable_functions.py:335\u001b[0m, in \u001b[0;36mdo_regions_fit\u001b[0;34m(tc_0, tc_min, tc_max, tc_window_size, tc_window_batch_size, tc_batch_increment, last_tc_window_min_size, fit_start_date, fit_end_date, prep_model, pre_solve_model, outdir, write_results, write_batch_results, model_class, multiprocess, **model_args)\u001b[0m\n\u001b[1;32m    333\u001b[0m non_region_model_args \u001b[38;5;241m=\u001b[39m {key: val \u001b[38;5;28;01mfor\u001b[39;00m key, val \u001b[38;5;129;01min\u001b[39;00m model_args\u001b[38;5;241m.\u001b[39mitems() \u001b[38;5;28;01mif\u001b[39;00m key \u001b[38;5;241m!=\u001b[39m \u001b[38;5;124m'\u001b[39m\u001b[38;5;124mregions\u001b[39m\u001b[38;5;124m'\u001b[39m}\n\u001b[1;32m    334\u001b[0m model_args_list \u001b[38;5;241m=\u001b[39m \u001b[38;5;28mlist\u001b[39m(\u001b[38;5;28mmap\u001b[39m(\u001b[38;5;28;01mlambda\u001b[39;00m x: {\u001b[38;5;124m'\u001b[39m\u001b[38;5;124mregions\u001b[39m\u001b[38;5;124m'\u001b[39m: [x], \u001b[38;5;241m*\u001b[39m\u001b[38;5;241m*\u001b[39mnon_region_model_args, \u001b[38;5;124m'\u001b[39m\u001b[38;5;124mtags\u001b[39m\u001b[38;5;124m'\u001b[39m:{\u001b[38;5;124m'\u001b[39m\u001b[38;5;124mregion\u001b[39m\u001b[38;5;124m'\u001b[39m: x}}, regions))\n\u001b[0;32m--> 335\u001b[0m do_multiple_fits(model_args_list, \u001b[43mfit_args\u001b[49m, multiprocess\u001b[38;5;241m=\u001b[39mmultiprocess)\n",
      "\u001b[0;31mNameError\u001b[0m: name 'fit_args' is not defined"
     ]
    }
   ],
   "source": [
    "# designate the arguments for how the model will behave\n",
    "model_args = {\n",
    "    'params_defs': 'covid_model/input/rmw_params.json',\n",
    "    'region_defs': 'covid_model/input/rmw_region_definitions.json',\n",
    "    'vacc_proj_params': 'covid_model/analysis/20221004_oct_gov_briefing/20221004_vacc_proj_params.json',\n",
    "    'start_date': '2020-01-24',\n",
    "    'end_date': '2024-01-01',\n",
    "    'regions': ['coe', 'con', 'cow']\n",
    "}\n",
    "\n",
    "# this is how the fit will behave\n",
    "# place the outdir argument here to tell the model fit where to go\n",
    "fit_args = {'outdir': outdir,\n",
    "            'fit_end_date': '2022-02-28'\n",
    "}\n",
    "\n",
    "# because all the scenarios are the same \n",
    "model = do_regions_fit(**fit_args, **model_args)\n"
   ]
  },
  {
   "cell_type": "markdown",
   "metadata": {
    "pycharm": {
     "name": "#%% md\n"
    }
   },
   "source": [
    "### Create and run scenarios from Feb 2022 to present"
   ]
  },
  {
   "cell_type": "code",
   "execution_count": null,
   "metadata": {
    "pycharm": {
     "name": "#%%\n"
    }
   },
   "outputs": [],
   "source": [
    "multiprocess = 4\n",
    "\n",
    "scenario_params = json.load(open(\"covid_model/analysis/20221004_oct_gov_briefing/20221004_scenario_params.json\"))\n",
    "\n",
    "model_args = {\n",
    "    'base_spec_id': 4167 #model.spec_id, # use the spec id that was output from the model fit\n",
    "}\n",
    "model_fit_args = {\n",
    "    'outdir': outdir,\n",
    "    'fit_start_date': '2022-03-01', # set the start date for the earliest point at which the scenarios start to differ from one another\n",
    "    'pre_solve_model': True # force the model to establish initial conditions so the fit can start on the fit start date\n",
    "}\n",
    "\n",
    "# define vaccine effectiveness for < 5 (this is a multiplier for the baseline vaccine effectiveness for 0-19)\n",
    "vacc_eff_lt5 = 0.5\n",
    "\n",
    "# Create different scenarios to model\n",
    "scenario_model_args = []\n",
    "for vx_seed in [0, 5]:\n",
    "    for vir_mult in [0.833, 2.38]:\n",
    "        hrf = {\"2020-01-01\": 1, \"2022-03-01\": (0.66 + 0.34*0.8),\n",
    "               \"2022-03-15\": (0.34 + 0.66*0.8), \"2022-03-30\": 0.8}\n",
    "        vx_adjust = [{\"param\": \"vx_seed\",\n",
    "                      \"vals\": {\"2020-01-01\": 0, \"2022-09-30\": vx_seed, \"2022-10-30\": 0},\n",
    "                      \"desc\": \"Variant X seeding\"}]\n",
    "        vir_adjust = [{\"param\": \"hosp\",\n",
    "                       \"attrs\": {\"variant\": \"vx\"},\n",
    "                       \"mults\": {\"2020-01-01\": vir_mult},\n",
    "                       \"desc\": \"Variant X hospitalization multiplier\"}]\n",
    "        lt5_vacc_adjust = [{\"param\": \"immunity\",\n",
    "                            \"attrs\": {'age': '0-19', 'vacc': 'shot1'},\n",
    "                            \"mults\": {\"2020-01-01\": 1,\n",
    "                                      \"2022-06-20\": 0.99 + 0.01*vacc_eff_lt5,\n",
    "                                      \"2022-06-30\": 0.98 + 0.02*vacc_eff_lt5,\n",
    "                                      \"2022-07-10\": 0.97 + 0.03*vacc_eff_lt5,\n",
    "                                      \"2022-07-20\": 0.96 + 0.04*vacc_eff_lt5,\n",
    "                                      \"2022-08-10\": 0.95 + 0.05*vacc_eff_lt5,\n",
    "                                      \"2022-08-30\": 0.94 + 0.06*vacc_eff_lt5,\n",
    "                                      \"2022-09-20\": 0.93 + 0.07*vacc_eff_lt5},\n",
    "                            \"desc\": \"weighted average using share of 0-19 getting shot1 who are under 5\"}]\n",
    "        scenario_model_args.append({'params_defs': scenario_params + vx_adjust + vir_adjust + lt5_vacc_adjust,\n",
    "                                    'hosp_reporting_frac': hrf,\n",
    "                                    'tags': {'vx_seed': vx_seed,\n",
    "                                             'vir_mult': vir_mult,\n",
    "                                             'booster_mult': 0}})\n",
    "            "
   ]
  },
  {
   "cell_type": "code",
   "execution_count": null,
   "metadata": {},
   "outputs": [],
   "source": [
    "# check how many scenarios there are\n",
    "len(scenario_model_args)"
   ]
  },
  {
   "cell_type": "code",
   "execution_count": null,
   "metadata": {},
   "outputs": [],
   "source": [
    "# run the scenarios\n",
    "models = do_fit_scenarios(base_model_args=model_args, scenario_args_list=scenario_model_args, fit_args=model_fit_args, multiprocess=multiprocess)"
   ]
  },
  {
   "cell_type": "markdown",
   "metadata": {
    "pycharm": {
     "name": "#%% md\n"
    }
   },
   "source": [
    "### Run the report for each fit model"
   ]
  },
  {
   "cell_type": "code",
   "execution_count": null,
   "metadata": {
    "pycharm": {
     "name": "#%%\n"
    }
   },
   "outputs": [],
   "source": [
    "# here you can also specify which variants you want to calculate immunity for\n",
    "do_create_multiple_reports(models, multiprocess=multiprocess, outdir=outdir, prep_model=False, solve_model=True, immun_variants=['ba45', 'vx'], from_date='2022-01-01')"
   ]
  },
  {
   "cell_type": "code",
   "execution_count": null,
   "metadata": {
    "pycharm": {
     "name": "#%%\n"
    }
   },
   "outputs": [],
   "source": [
    "logging.info('Projecting')\n",
    "for model in models:\n",
    "    logging.info('')\n",
    "    #model.prep()  # don't think we need to prep anymore.\n",
    "    model.solve_seir()\n",
    "\n",
    "    model.solution_sum_df(['seir', 'variant', 'immun']).unstack().to_csv(get_filepath_prefix(outdir, tags=model.tags) + 'states_seir_variant_immun_total_all_at_once_projection.csv')\n",
    "    model.solution_sum_df().unstack().to_csv(get_filepath_prefix(outdir, tags=model.tags) + 'states_full_projection.csv')\n",
    "\n",
    "    logging.info(f'{str(model.tags)}: Running forward sim')\n",
    "    fig = plt.figure(figsize=(10, 10), dpi=300)\n",
    "    ax = fig.add_subplot(211)\n",
    "    hosps_df = model.modeled_vs_observed_hosps().reset_index('region').drop(columns='region')\n",
    "    hosps_df.plot(ax=ax)\n",
    "    ax.set_xlim(dt.datetime.strptime('2022-01-01', \"%Y-%m-%d\").date(), dt.datetime.strptime('2024-01-01', \"%Y-%m-%d\").date())\n",
    "    ax = fig.add_subplot(212)\n",
    "    plot_transmission_control(model, ax=ax)\n",
    "    ax.set_xlim(dt.datetime.strptime('2022-01-01', \"%Y-%m-%d\").date(), dt.datetime.strptime('2024-01-01', \"%Y-%m-%d\").date())\n",
    "    plt.savefig(get_filepath_prefix(outdir, tags=model.tags) + 'model_forecast.png')\n",
    "    plt.close()\n",
    "    hosps_df.to_csv(get_filepath_prefix(outdir, tags=model.tags) + '_model_forecast.csv')\n",
    "    json.dump(model.tc, open(get_filepath_prefix(outdir, tags=model.tags) + 'model_forecast_tc.json', 'w'))\n",
    "\n",
    "logging.info('Running reports')"
   ]
  },
  {
   "cell_type": "markdown",
   "metadata": {},
   "source": [
    "### Test Stuff"
   ]
  },
  {
   "cell_type": "code",
   "execution_count": null,
   "metadata": {},
   "outputs": [],
   "source": [
    "regions = {\n",
    "\"coe\": {\"name\": \"Colorado East\", \"counties\": [\"Baca\", \"Bent\", \"Cheyenne\", \"Crowley\", \"Custer\", \"El Paso\", \"Fremont\", \"Huerfano\", \"Kiowa\", \"Kit Carson\", \"Las Animas\", \"Lincoln\", \"Logan\", \"Morgan\", \"Otero\", \"Phillips\", \"Prowers\", \"Pueblo\", \"Sedgwick\", \"Teller\", \"Washington\", \"Yuma\"], \"counties_fips\": [\"8009\", \"8011\", \"8017\", \"8025\", \"8027\", \"8041\", \"8043\", \"8055\", \"8061\", \"8063\", \"8071\", \"8073\", \"8075\", \"8087\", \"8089\", \"8095\", \"8099\", \"8101\", \"8115\", \"8119\", \"8121\", \"8125\"]},\n",
    "\"con\": {\"name\": \"Colorado North\", \"counties\":[\"Adams\", \"Arapahoe\", \"Boulder\", \"Broomfield\", \"Clear Creek\", \"Denver\", \"Douglas\", \"Elbert\", \"Gilpin\", \"Grand\", \"Jackson\", \"Jefferson\", \"Larimer\", \"Park\", \"Summit\", \"Weld\"], \"counties_fips\": [ \"8001\", \"8005\", \"8013\", \"8014\", \"8019\", \"8031\" ,\"8035\", \"8039\",\"8047\",\"8049\",\"8057\",\"8059\",\"8069\",\"8093\",\"8117\",\"8123\"]},\n",
    "\"cow\": {\"name\": \"Colorado West\", \"counties\": [\"Chaffee\", \"Conejos\", \"Costilla\", \"Delta\", \"Dolores\", \"Eagle\", \"Garfield\", \"Hinsdale\", \"La Plata\", \"Mesa\", \"Mineral\", \"Moffat\", \"Montezuma\", \"Montrose\", \"Ouray\", \"Pitkin\", \"Rio Blanco\", \"Rio Grande\", \"Routt\", \"Saguache\", \"San Juan\", \"San Miguel\", \"Alamosa\", \"Archuleta\"], \"counties_fips\": [\"8015\", \"8021\", \"8023\",\"8029\",\"8033\",\"8037\",\"8045\",\"8051\", \"8053\", \"8067\", \"8065\", \"8077\", \"8079\", \"8081\", \"8083\", \"8085\", \"8091\", \"8097\", \"8103\", \"8105\", \"8107\", \"8109\", \"8111\", \"8113\", \"8003\",\"8007\"]},\n",
    "\"ide\": {\"name\": \"Idaho East\", \"counties\": [\"Bannock\", \"Bear Lake\", \"Benewah\", \"Bingham\", \"Bonneville\", \"Butte\", \"Caribou\", \"Clark\", \"Custer\", \"Franklin\", \"Fremont\", \"Jefferson\", \"Lemhi County\", \"Madison\", \"Oneida\", \"Power\", \"Teton\"], \"counties_fips\": [\"16005\", \"16007\",\"16009\",\"16011\",\"16019\",\"16023\",\"16029\",\"16033\",\"16037\",\"16041\",\"16043\",\"16051\",\"16059\",\"16065\", \"16071\", \"16077\", \"16081\"]},\n",
    "\"idn\": {\"name\": \"Idaho North\", \"counties\": [\"Bonner\",\"Boundary\", \"Clearwater\",\"Idaho\", \"Kootenai\", \"Latah\", \"Lewis\", \"Nez Perce\", \"Shoshone\"], \"counties_fips\": [\"16017\", \"16021\", \"16035\", \"16049\", \"16055\", \"16057\", \"16061\", \"16069\", \"16079\"]},\n",
    "\"ids\": {\"name\": \"Idaho South\", \"counties\": [\"Blaine\", \"Camas\", \"Cassia\", \"Gooding\", \"Jerome\", \"Lincoln\", \"Minidoka\", \"Twin Falls\"], \"counties_fips\": [\"16013\", \"16025\", \"16031\", \"16047\", \"16053\", \"16063\", \"16067\", \"16083\"]},\n",
    "\"idw\": {\"name\": \"Idaho West\", \"counties\": [\"Ada\", \"Adams\", \"Boise\", \"Canyon\", \"Elmore\", \"Gem\", \"Owyhee\", \"Payette\", \"Valley\", \"Washington\"], \"counties_fips\": [\"16001\", \"16003\", \"16015\", \"16027\", \"16039\", \"16045\", \"16073\", \"16075\", \"16085\", \"16087\"]},\n",
    "\"mte\": {\"name\": \"Montana East\", \"counties\": [\"Big Horn\", \"Carbon\", \"Carter\", \"Custer\", \"Daniels\", \"Dawson\", \"Fallon\", \"Fergus\", \"Garfield\", \"Golden Valley\", \"Judith Basin\", \"McCone\", \"Musselshell\", \"Petroleum\", \"Phillips\", \"Powder River\", \"Prairie\", \"Richland\", \"Roosevelt\", \"Rosebud\", \"Sheridan\", \"Stillwater\", \"Sweet Grass\", \"Treasure\", \"Valley\", \"Wheatland\", \"Wibaux\", \"Yellowstone\"], \"counties_fips\": [ \"30003\", \"30009\", \"30011\", \"30017\", \"30019\", \"30021\", \"30025\", \"30027\", \"30033\", \"30037\", \"30045\", \"30055\", \"30065\", \"30069\", \"30071\", \"30075\", \"30079\", \"30083\", \"30085\", \"30087\", \"30091\", \"30095\", \"30097\", \"30103\", \"30105\", \"30107\", \"30109\", \"30111\"]},\n",
    "\"mtn\": {\"name\": \"Montana North\", \"counties\": [\"Blaine\", \"Cascade\", \"Chouteau\", \"Glacier\", \"Hill\", \"Liberty\", \"Pondera\", \"Teton\", \"Toole\"], \"counties_fips\": [\"30005\", \"30013\", \"30015\", \"30035\", \"30041\", \"30051\", \"30073\", \"30099\", \"30101\"]},\n",
    "\"mtw\": {\"name\": \"Montana West\", \"counties\": [\"Beaverhead\", \"Broadwater\", \"Deer Lodge\", \"Flathead\", \"Gallatin\", \"Granite\", \"Jefferson\", \"Lake\", \"Lewis and Clark\", \"Lincoln\", \"Madison\", \"Meagher\", \"Mineral\", \"Missoula\", \"Park\", \"Powell\", \"Ravalli\", \"Sanders\", \"Silver Bow\"], \"counties_fips\": [\"30001\", \"30007\", \"30023\", \"30029\", \"30031\", \"30039\", \"30043\", \"30047\", \"30049\", \"30053\", \"30057\", \"30059\", \"30061\", \"30063\", \"30067\", \"30077\", \"30081\", \"30089\", \"30093\"]},\n",
    "\"nme\": {\"name\": \"New Mexico East\", \"counties\": [\"Colfax\", \"Curry\", \"De Baca\", \"Guadalupe\", \"Harding\", \"Mora\", \"Quay\", \"Roosevelt\", \"San Miguel\", \"Union\"], \"counties_fips\": [\"35007\", \"\", \"35009\", \"35011\", \"35019\", \"35021\", \"35033\", \"35037\", \"35041\", \"35047\", \"35059\"]},\n",
    "\"nmn\": {\"name\": \"New Mexico North\", \"counties\": [\"Los Alamos\", \"Rio Arriba\", \"Santa Fe\", \"Taos\"], \"counties_fips\": [\"35028\", \"35039\", \"35049\", \"35055\"]},\n",
    "\"nms\": {\"name\": \"New Mexico South\", \"counties\": [\"Catron\", \"Chaves\", \"Dona Ana\", \"Eddy\", \"Grant\", \"Hidalgo\", \"Lea\", \"Lincoln\", \"Luna\", \"Otero\", \"Sierra\"], \"counties_fips\": [\"35003\", \"35005\", \"35013\", \"35015\", \"35017\", \"35023\", \"35025\", \"35027\", \"35029\", \"35035\", \"35051\"]},\n",
    "\"nmw\": {\"name\": \"New Mexico West\", \"counties\": [\"Bernalillo\", \"Cibola\", \"McKinley\", \"San Juan\", \"Sandoval\", \"Socorro\", \"Torrance\", \"Valencia\"], \"counties_fips\": [\"35001\", \"35006\", \"35031\", \"35045\", \"35043\", \"35053\", \"35057\", \"35061\"]},\n",
    "\"ute\": {\"name\": \"Utah East\", \"counties\": [\"Carbon\", \"Daggett\", \"Duchesne\", \"Emery\", \"Grand\", \"San Juan\", \"Uintah\"], \"counties_fips\": [\"49007\", \"49009\", \"49013\", \"49015\", \"49019\", \"49037\", \"49047\"]},\n",
    "\"utn\": {\"name\": \"Utah North\", \"counties\": [\"Box Elder\", \"Cache\", \"Davis\", \"Morgan\", \"Rich\", \"Weber\"], \"counties_fips\": [\"49003\", \"49005\", \"49011\", \"49029\", \"49033\", \"49057\"]},\n",
    "\"uts\": {\"name\": \"Utah South\", \"counties\": [\"Beaver\", \"Garfield\", \"Iron\", \"Kane\", \"Washington\"], \"counties_fips\": [\"49001\", \"49017\", \"49021\", \"49025\", \"49053\"]},\n",
    "\"utw\": {\"name\": \"Utah West\", \"counties\": [\"Juab\", \"Millard\", \"Piute\", \"Salt Lake\", \"Sanpete\", \"Sevier\", \"Summit\", \"Tooele\", \"Utah\", \"Wasatch\", \"Wayne\"], \"counties_fips\": [\"49023\", \"49027\", \"49031\", \"49035\", \"49039\", \"49041\", \"49043\", \"49045\", \"49049\", \"49051\", \"49055\"]},\n",
    "\"wye\": {\"name\": \"Wyoming East\", \"counties\": [\"Albany\", \"Carbon\", \"Converse\", \"Fremont\", \"Goshen\", \"Laramie\", \"Natrona\", \"Niobrara\", \"Platte\"], \"counties_fips\": [\"56001\", \"56007\", \"56009\", \"56013\", \"56015\", \"56021\", \"56025\", \"56027\", \"56031\"]},\n",
    "\"wyn\": {\"name\": \"Wyoming North\", \"counties\": [\"Campbell\", \"Crook\", \"Johnson\", \"Sheridan\", \"Weston\"], \"counties_fips\": [\"56005\", \"56011\", \"56019\", \"56033\", \"56045\"]},\n",
    "\"wyw\": {\"name\": \"Wyoming West\", \"counties\": [\"Big Horn\", \"Hot Springs\", \"Lincoln\", \"Park\", \"Sublette\", \"Sweetwater\", \"Teton\", \"Uinta\", \"Washakie\"], \"counties_fips\": [\"56003\", \"56017\", \"56023\", \"56029\", \"56035\", \"56037\", \"56039\", \"56041\", \"56043\"]}\n",
    "}"
   ]
  },
  {
   "cell_type": "code",
   "execution_count": null,
   "metadata": {},
   "outputs": [],
   "source": [
    "regions_picked = [\"coe\",\"con\",\"cow\"]"
   ]
  },
  {
   "cell_type": "code",
   "execution_count": null,
   "metadata": {},
   "outputs": [],
   "source": [
    "region_names = pd.DataFrame.from_dict({'region': [regions[region][\"name\"] for region in regions_picked]})\n",
    "\n",
    "#region_names = pd.DataFrame.from_dict({'region': [fips for region in regions_picked for fips in regions[region]['counties_fips']]})\n",
    "\n",
    "\n"
   ]
  },
  {
   "cell_type": "code",
   "execution_count": null,
   "metadata": {},
   "outputs": [],
   "source": [
    "regions[\"coe\"][\"name\"]"
   ]
  },
  {
   "cell_type": "code",
   "execution_count": null,
   "metadata": {},
   "outputs": [],
   "source": [
    "region_names"
   ]
  },
  {
   "cell_type": "code",
   "execution_count": null,
   "metadata": {},
   "outputs": [],
   "source": []
  }
 ],
 "metadata": {
  "kernelspec": {
   "display_name": "Python 3 (ipykernel)",
   "language": "python",
   "name": "python3"
  },
  "language_info": {
   "codemirror_mode": {
    "name": "ipython",
    "version": 3
   },
   "file_extension": ".py",
   "mimetype": "text/x-python",
   "name": "python",
   "nbconvert_exporter": "python",
   "pygments_lexer": "ipython3",
   "version": "3.9.12"
  }
 },
 "nbformat": 4,
 "nbformat_minor": 4
}
