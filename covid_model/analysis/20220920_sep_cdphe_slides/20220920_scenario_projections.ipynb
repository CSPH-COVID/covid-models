{
 "cells": [
  {
   "cell_type": "markdown",
   "metadata": {
    "pycharm": {
     "name": "#%% md\n"
    }
   },
   "source": [
    "### Setup"
   ]
  },
  {
   "cell_type": "code",
   "execution_count": 1,
   "metadata": {
    "pycharm": {
     "name": "#%%\n"
    }
   },
   "outputs": [
    {
     "name": "stdout",
     "output_type": "stream",
     "text": [
      "/Users/emwu9912/PycharmProjects/covid-models\n"
     ]
    }
   ],
   "source": [
    "\"\"\" Python Standard Library \"\"\"\n",
    "import os\n",
    "import datetime as dt\n",
    "import json\n",
    "import logging\n",
    "\"\"\" Third Party Imports \"\"\"\n",
    "import numpy as np\n",
    "import pandas as pd\n",
    "from matplotlib import pyplot as plt\n",
    "%matplotlib inline\n",
    "import seaborn as sns\n",
    "\"\"\" Local Imports \"\"\"\n",
    "if 'requirements.txt' not in os.listdir(os.getcwd()):\n",
    "    os.chdir(os.path.join('..','..','..'))\n",
    "print(os.getcwd())\n",
    "from covid_model.model import CovidModel\n",
    "from covid_model.runnable_functions import do_single_fit, do_fit_scenarios, do_create_multiple_reports\n",
    "from covid_model.utils import setup, get_filepath_prefix\n",
    "from covid_model.analysis.charts import plot_transmission_control\n",
    "\n",
    "os.environ['gcp_project'] = 'co-covid-models'\n",
    "os.environ['GOOGLE_APPLICATION_CREDENTIALS'] = \"co-covid-models-credentials.json\""
   ]
  },
  {
   "cell_type": "code",
   "execution_count": 2,
   "metadata": {
    "pycharm": {
     "name": "#%%\n"
    },
    "scrolled": true
   },
   "outputs": [
    {
     "name": "stderr",
     "output_type": "stream",
     "text": [
      "2022/09/28 17:31:59 INFO|============================================================\n"
     ]
    }
   ],
   "source": [
    "# set up the output directory for this Jupyter notebook\n",
    "outdir = setup(\"20220921_scenario_projections.ipynb\")"
   ]
  },
  {
   "cell_type": "markdown",
   "metadata": {
    "pycharm": {
     "name": "#%% md\n"
    }
   },
   "source": [
    "### Fit an initial scenario through February 2022"
   ]
  },
  {
   "cell_type": "code",
   "execution_count": 3,
   "metadata": {
    "pycharm": {
     "name": "#%%\n"
    }
   },
   "outputs": [
    {
     "name": "stderr",
     "output_type": "stream",
     "text": [
      "2022/09/28 17:32:02 INFO|-------------------------|{} Retrieving vaccinations data\n",
      "2022/09/28 17:32:05 INFO|-------------------------|{} Constructing vaccination projections\n",
      "2022/09/28 17:32:07 INFO|-------------------------|{} Retrieving hospitalizations data\n",
      "2022/09/28 17:32:10 INFO|----------------------|{} Prepping Model\n",
      "2022/09/28 17:32:10 INFO|-----------------------|{} Prepping Model\n",
      "2022/09/28 17:33:20 INFO|----------------------|{} Model prepped for fitting in 70.17418170900001 seconds.\n",
      "2022/09/28 17:33:20 INFO|----------------------|{} Will fit 25 times\n",
      "2022/09/28 17:34:21 INFO|----------------------|{'fit_batch': '0'}: Transmission control fit 1/25 completed in 61.546623334 seconds: {0: {'co': 0.8587936417173216}, 14: {'co': 0.6896751305823303}, 28: {'co': 0.5521636576482694}, 42: {'co': 0.0012931829830483534}, 56: {'co': 0.6815575142330268}, 70: {'co': 0.8912296555117708}}\n",
      "2022/09/28 17:34:21 INFO|-----------------------|{'fit_batch': '0'}: Running forward sim\n",
      "2022/09/28 17:34:37 INFO|----------------------|{'fit_batch': '1'}: Transmission control fit 2/25 completed in 13.756912 seconds: {28: {'co': 0.5463057169481709}, 42: {'co': 1.4470575638442843e-14}, 56: {'co': 0.6952648591279174}, 70: {'co': 0.8359539031570299}, 84: {'co': 0.8209109744053493}, 98: {'co': 0.8733109527970965}}\n",
      "2022/09/28 17:34:37 INFO|-----------------------|{'fit_batch': '1'}: Running forward sim\n",
      "2022/09/28 17:34:56 INFO|----------------------|{'fit_batch': '2'}: Transmission control fit 3/25 completed in 16.823228874999984 seconds: {56: {'co': 0.6964655911772399}, 70: {'co': 0.8333061588295956}, 84: {'co': 0.8289235055727644}, 98: {'co': 0.8350235841526699}, 112: {'co': 0.8625951509578799}, 126: {'co': 0.9188065050349454}}\n",
      "2022/09/28 17:34:56 INFO|-----------------------|{'fit_batch': '2'}: Running forward sim\n",
      "2022/09/28 17:35:11 INFO|----------------------|{'fit_batch': '3'}: Transmission control fit 4/25 completed in 13.764629874999997 seconds: {84: {'co': 0.8295950515012411}, 98: {'co': 0.8317180033595475}, 112: {'co': 0.8773715214151446}, 126: {'co': 0.8239276222405847}, 140: {'co': 0.7629318585542076}, 154: {'co': 0.6615248063039493}}\n",
      "2022/09/28 17:35:11 INFO|-----------------------|{'fit_batch': '3'}: Running forward sim\n",
      "2022/09/28 17:35:27 INFO|----------------------|{'fit_batch': '4'}: Transmission control fit 5/25 completed in 13.941528874999989 seconds: {112: {'co': 0.8774455019880499}, 126: {'co': 0.8243715269502497}, 140: {'co': 0.7607167011698901}, 154: {'co': 0.6708369503780246}, 168: {'co': 0.8437092567917518}, 182: {'co': 0.7841185697660806}}\n",
      "2022/09/28 17:35:27 INFO|-----------------------|{'fit_batch': '4'}: Running forward sim\n",
      "2022/09/28 17:35:40 INFO|----------------------|{'fit_batch': '5'}: Transmission control fit 6/25 completed in 11.097667666999996 seconds: {140: {'co': 0.7604769120446827}, 154: {'co': 0.6712541403702306}, 168: {'co': 0.8432111027858318}, 182: {'co': 0.7802200932088108}, 196: {'co': 0.8275660081582065}, 210: {'co': 0.7403767642352707}}\n",
      "2022/09/28 17:35:40 INFO|-----------------------|{'fit_batch': '5'}: Running forward sim\n",
      "2022/09/28 17:35:51 INFO|----------------------|{'fit_batch': '6'}: Transmission control fit 7/25 completed in 9.520707375 seconds: {168: {'co': 0.8430274772598394}, 182: {'co': 0.7826503978304408}, 196: {'co': 0.8196158881313869}, 210: {'co': 0.7710673398515591}, 224: {'co': 0.7742494269701719}, 238: {'co': 0.7168273306716086}}\n",
      "2022/09/28 17:35:51 INFO|-----------------------|{'fit_batch': '6'}: Running forward sim\n",
      "2022/09/28 17:36:05 INFO|----------------------|{'fit_batch': '7'}: Transmission control fit 8/25 completed in 12.230967916999987 seconds: {196: {'co': 0.8191652889047285}, 210: {'co': 0.7726023548127132}, 224: {'co': 0.7703719267617996}, 238: {'co': 0.7217656313719393}, 252: {'co': 0.7178049058774715}, 266: {'co': 0.6919063308871946}}\n",
      "2022/09/28 17:36:05 INFO|-----------------------|{'fit_batch': '7'}: Running forward sim\n",
      "2022/09/28 17:36:18 INFO|----------------------|{'fit_batch': '8'}: Transmission control fit 9/25 completed in 11.609594041000008 seconds: {224: {'co': 0.7713430200215275}, 238: {'co': 0.71855206469661}, 252: {'co': 0.7226533050558357}, 266: {'co': 0.6833533889572768}, 280: {'co': 0.7225768911630988}, 294: {'co': 0.7522112290100321}}\n",
      "2022/09/28 17:36:18 INFO|-----------------------|{'fit_batch': '8'}: Running forward sim\n",
      "2022/09/28 17:36:37 INFO|----------------------|{'fit_batch': '9'}: Transmission control fit 10/25 completed in 16.768658166000023 seconds: {252: {'co': 0.7221395016735296}, 266: {'co': 0.6850199028669723}, 280: {'co': 0.7200980735060102}, 294: {'co': 0.7577241807200865}, 308: {'co': 0.8256967876114364}, 322: {'co': 0.7958886092240227}}\n",
      "2022/09/28 17:36:37 INFO|-----------------------|{'fit_batch': '9'}: Running forward sim\n",
      "2022/09/28 17:36:56 INFO|----------------------|{'fit_batch': '10'}: Transmission control fit 11/25 completed in 17.774347666999972 seconds: {280: {'co': 0.7198410186682856}, 294: {'co': 0.757849356961579}, 308: {'co': 0.8227829679791697}, 322: {'co': 0.8100670066331379}, 336: {'co': 0.7879586113092562}, 350: {'co': 0.7724344576635364}}\n",
      "2022/09/28 17:36:56 INFO|-----------------------|{'fit_batch': '10'}: Running forward sim\n",
      "2022/09/28 17:37:17 INFO|----------------------|{'fit_batch': '11'}: Transmission control fit 12/25 completed in 18.30245041699999 seconds: {308: {'co': 0.8225928575055608}, 322: {'co': 0.8115169306662735}, 336: {'co': 0.7829052483743076}, 350: {'co': 0.7936187810452314}, 364: {'co': 0.8119550499980839}, 378: {'co': 0.7081663583726271}}\n",
      "2022/09/28 17:37:17 INFO|-----------------------|{'fit_batch': '11'}: Running forward sim\n",
      "2022/09/28 17:37:34 INFO|----------------------|{'fit_batch': '12'}: Transmission control fit 13/25 completed in 15.705145749999986 seconds: {336: {'co': 0.7825636711840434}, 350: {'co': 0.7953858378950225}, 364: {'co': 0.805475887304274}, 378: {'co': 0.7395395691050248}, 392: {'co': 0.8040878893296783}, 406: {'co': 0.6106001043583156}}\n",
      "2022/09/28 17:37:34 INFO|-----------------------|{'fit_batch': '12'}: Running forward sim\n",
      "2022/09/28 17:38:03 INFO|----------------------|{'fit_batch': '13'}: Transmission control fit 14/25 completed in 27.04600816599998 seconds: {364: {'co': 0.8054735151608602}, 378: {'co': 0.742333113633808}, 392: {'co': 0.7875240194741068}, 406: {'co': 0.6975149536248875}, 420: {'co': 0.737626567357285}, 434: {'co': 0.6421089643872977}}\n",
      "2022/09/28 17:38:03 INFO|-----------------------|{'fit_batch': '13'}: Running forward sim\n",
      "2022/09/28 17:38:19 INFO|----------------------|{'fit_batch': '14'}: Transmission control fit 15/25 completed in 13.896961750000003 seconds: {392: {'co': 0.7802698367972313}, 406: {'co': 0.7125156319517407}, 420: {'co': 0.7180698882908806}, 434: {'co': 0.6875822733086285}, 448: {'co': 0.7421437431558423}, 462: {'co': 0.8005557288357968}}\n",
      "2022/09/28 17:38:19 INFO|-----------------------|{'fit_batch': '14'}: Running forward sim\n",
      "2022/09/28 17:38:35 INFO|----------------------|{'fit_batch': '15'}: Transmission control fit 16/25 completed in 14.434605000000033 seconds: {420: {'co': 0.7179057862220417}, 434: {'co': 0.6881803623769576}, 448: {'co': 0.7399150915215106}, 462: {'co': 0.8136883887206411}, 476: {'co': 0.7870792520624812}, 490: {'co': 0.8510435919617235}}\n",
      "2022/09/28 17:38:35 INFO|-----------------------|{'fit_batch': '15'}: Running forward sim\n",
      "2022/09/28 17:38:48 INFO|----------------------|{'fit_batch': '16'}: Transmission control fit 17/25 completed in 11.84790908299999 seconds: {448: {'co': 0.740799244729068}, 462: {'co': 0.8127878730535648}, 476: {'co': 0.7925825073669627}, 490: {'co': 0.8289100643202004}, 504: {'co': 0.7939271009449337}, 518: {'co': 0.7444127915642228}}\n",
      "2022/09/28 17:38:48 INFO|-----------------------|{'fit_batch': '16'}: Running forward sim\n",
      "2022/09/28 17:39:02 INFO|----------------------|{'fit_batch': '17'}: Transmission control fit 18/25 completed in 11.815750208999987 seconds: {476: {'co': 0.7916836142926914}, 490: {'co': 0.8301993181150856}, 504: {'co': 0.786930373638481}, 518: {'co': 0.7776439382972732}, 532: {'co': 0.7634358834665265}, 546: {'co': 0.6986864624032608}}\n",
      "2022/09/28 17:39:02 INFO|-----------------------|{'fit_batch': '17'}: Running forward sim\n"
     ]
    },
    {
     "name": "stderr",
     "output_type": "stream",
     "text": [
      "2022/09/28 17:39:15 INFO|----------------------|{'fit_batch': '18'}: Transmission control fit 19/25 completed in 11.728665250000006 seconds: {504: {'co': 0.7861769356332884}, 518: {'co': 0.7799123275231242}, 532: {'co': 0.7570420570288318}, 546: {'co': 0.7091659965869969}, 560: {'co': 0.7430642132060428}, 574: {'co': 0.7376034186082499}}\n",
      "2022/09/28 17:39:16 INFO|-----------------------|{'fit_batch': '18'}: Running forward sim\n",
      "2022/09/28 17:39:35 INFO|----------------------|{'fit_batch': '19'}: Transmission control fit 20/25 completed in 17.466870583000002 seconds: {532: {'co': 0.756216654923652}, 546: {'co': 0.7112514576383564}, 560: {'co': 0.7393367941617954}, 574: {'co': 0.7492594382632967}, 588: {'co': 0.786248013613611}, 602: {'co': 0.7652557875479273}}\n",
      "2022/09/28 17:39:35 INFO|-----------------------|{'fit_batch': '19'}: Running forward sim\n",
      "2022/09/28 17:39:48 INFO|----------------------|{'fit_batch': '20'}: Transmission control fit 21/25 completed in 11.132708541999989 seconds: {560: {'co': 0.7393653864465773}, 574: {'co': 0.7478196931471249}, 588: {'co': 0.787269868246046}, 602: {'co': 0.7649223585971925}, 616: {'co': 0.7156137689846658}, 630: {'co': 0.739076947035874}}\n",
      "2022/09/28 17:39:48 INFO|-----------------------|{'fit_batch': '20'}: Running forward sim\n",
      "2022/09/28 17:40:02 INFO|----------------------|{'fit_batch': '21'}: Transmission control fit 22/25 completed in 12.731509833000018 seconds: {588: {'co': 0.7875906514165845}, 602: {'co': 0.7639272531752586}, 616: {'co': 0.7181161017265872}, 630: {'co': 0.7339713293789831}, 644: {'co': 0.7147578683733548}, 658: {'co': 0.7458028777218677}}\n",
      "2022/09/28 17:40:02 INFO|-----------------------|{'fit_batch': '21'}: Running forward sim\n",
      "2022/09/28 17:40:16 INFO|----------------------|{'fit_batch': '22'}: Transmission control fit 23/25 completed in 12.382820916000014 seconds: {616: {'co': 0.7176324598491073}, 630: {'co': 0.735500420688093}, 644: {'co': 0.7111201242121145}, 658: {'co': 0.7594986270229722}, 672: {'co': 0.7386382169822229}, 686: {'co': 0.8127584172584748}}\n",
      "2022/09/28 17:40:16 INFO|-----------------------|{'fit_batch': '22'}: Running forward sim\n",
      "2022/09/28 17:40:35 INFO|----------------------|{'fit_batch': '23'}: Transmission control fit 24/25 completed in 16.77461004099996 seconds: {644: {'co': 0.7125018527908881}, 658: {'co': 0.7531821177925527}, 672: {'co': 0.7584895189091484}, 686: {'co': 0.738144977799661}, 700: {'co': 0.6509911120327552}, 714: {'co': 0.7983520902521776}}\n",
      "2022/09/28 17:40:35 INFO|-----------------------|{'fit_batch': '23'}: Running forward sim\n",
      "2022/09/28 17:41:03 INFO|----------------------|{'fit_batch': '24'}: Transmission control fit 25/25 completed in 26.64710258399998 seconds: {672: {'co': 0.7583653538020634}, 686: {'co': 0.7378418737425928}, 700: {'co': 0.6513279000104182}, 714: {'co': 0.8035480268759565}, 728: {'co': 0.8434373222262425}, 742: {'co': 0.8636343413135109}}\n",
      "2022/09/28 17:41:03 INFO|-----------------------|{'fit_batch': '24'}: Running forward sim\n",
      "2022/09/28 17:41:05 INFO|----------------------|{'fit_batch': '24', 'run_type': 'fit'}: fitted TC: {0: {'co': 0.8587936407411457}, 14: {'co': 0.6896751339489205}, 28: {'co': 0.5463057169481709}, 42: {'co': 1.4470575638442843e-14}, 56: {'co': 0.6964655911772399}, 70: {'co': 0.8333061588295956}, 84: {'co': 0.8295950515012411}, 98: {'co': 0.8317180033595475}, 112: {'co': 0.8774455019880499}, 126: {'co': 0.8243715269502497}, 140: {'co': 0.7604769120446827}, 154: {'co': 0.6712541403702306}, 168: {'co': 0.8430274772598394}, 182: {'co': 0.7826503978304408}, 196: {'co': 0.8191652889047285}, 210: {'co': 0.7726023548127132}, 224: {'co': 0.7713430200215275}, 238: {'co': 0.71855206469661}, 252: {'co': 0.7221395016735296}, 266: {'co': 0.6850199028669723}, 280: {'co': 0.7198410186682856}, 294: {'co': 0.757849356961579}, 308: {'co': 0.8225928575055608}, 322: {'co': 0.8115169306662735}, 336: {'co': 0.7825636711840434}, 350: {'co': 0.7953858378950225}, 364: {'co': 0.8054735118325559}, 378: {'co': 0.7423331143827525}, 392: {'co': 0.7802698367972313}, 406: {'co': 0.7125156319517407}, 420: {'co': 0.7179057862220417}, 434: {'co': 0.6881803623769576}, 448: {'co': 0.740799244729068}, 462: {'co': 0.8127878730535648}, 476: {'co': 0.7916836142926914}, 490: {'co': 0.8301993181150856}, 504: {'co': 0.7861769356332884}, 518: {'co': 0.7799123275231242}, 532: {'co': 0.756216654923652}, 546: {'co': 0.7112514576383564}, 560: {'co': 0.7393653864465773}, 574: {'co': 0.7478196931471249}, 588: {'co': 0.7875906514165845}, 602: {'co': 0.7639272531752586}, 616: {'co': 0.7176324598491073}, 630: {'co': 0.735500420688093}, 644: {'co': 0.7125018527908881}, 658: {'co': 0.7531821177925527}, 672: {'co': 0.7583653538020634}, 686: {'co': 0.7378418737425928}, 700: {'co': 0.6513279000104182}, 714: {'co': 0.8035480268759565}, 728: {'co': 0.8434373222262425}, 742: {'co': 0.8636343562146721}}\n",
      "2022/09/28 17:41:05 INFO|-----------------------|{'fit_batch': '24', 'run_type': 'fit'}: Running forward sim\n",
      "2022/09/28 17:41:07 INFO|----------------------|{'fit_batch': '24', 'run_type': 'fit'}: Uploading final results\n",
      "2022/09/28 17:41:14 INFO|----------------------|{'fit_batch': '24', 'run_type': 'fit'}: spec_id: 4055\n"
     ]
    }
   ],
   "source": [
    "# designate the arguments for how the model will behave\n",
    "model_args = {\n",
    "    'params_defs': 'covid_model/analysis/20220920_sep_cdphe_slides/20220920_scenario_params.json',\n",
    "    'region_defs': 'covid_model/input/region_definitions.json',\n",
    "    'vacc_proj_params': 'covid_model/input/20220920_vacc_proj_params.json',\n",
    "    'start_date': '2020-01-24',\n",
    "    'end_date': '2024-01-01',\n",
    "}\n",
    "\n",
    "# this is how the fit will behave\n",
    "# place the outdir argument here to tell the model fit where to go\n",
    "fit_args = {'outdir': outdir,\n",
    "            'fit_end_date': '2022-02-28'\n",
    "}\n",
    "\n",
    "# because all the scenarios are the same \n",
    "model = do_single_fit(**fit_args, **model_args)"
   ]
  },
  {
   "cell_type": "markdown",
   "metadata": {
    "pycharm": {
     "name": "#%% md\n"
    }
   },
   "source": [
    "### Create and run scenarios from Feb 2022 to present"
   ]
  },
  {
   "cell_type": "code",
   "execution_count": 9,
   "metadata": {
    "pycharm": {
     "name": "#%%\n"
    }
   },
   "outputs": [],
   "source": [
    "multiprocess = 4\n",
    "\n",
    "scenario_params = json.load(open(\"covid_model/analysis/20220920_sep_cdphe_slides/20220920_scenario_params.json\"))\n",
    "\n",
    "model_args = {\n",
    "    'base_spec_id': 4055, #model.spec_id, # use the spec id that was output from the model fit\n",
    "}\n",
    "model_fit_args = {\n",
    "    'outdir': outdir,\n",
    "    'fit_start_date': '2022-03-01', # set the start date for the earliest point at which the scenarios start to differ from one another\n",
    "    'pre_solve_model': True # force the model to establish initial conditions so the fit can start on the fit start date\n",
    "}\n",
    "\n",
    "# define vaccine effectiveness for < 5 (this is a multiplier for the baseline vaccine effectiveness for 0-19)\n",
    "vacc_eff_lt5 = 0.5\n",
    "\n",
    "# Create different scenarios to model\n",
    "scenario_model_args = []\n",
    "for vx_seed in [0, 1]:\n",
    "    for vir_mult in [0.833, 2.38]:\n",
    "        hrf = {\"2020-01-01\": 1, \"2022-03-01\": (0.66 + 0.34*0.8),\n",
    "                   \"2022-03-15\": (0.34 + 0.66*0.8), \"2022-03-30\": 0.8}\n",
    "        vx_adjust = [{\"param\": \"vx_seed\",\n",
    "                      \"vals\": {\"2020-01-01\": 0, \"2022-09-20\": vx_seed, \"2022-10-20\": 0},\n",
    "                      \"desc\": \"Variant X seeding\"}]\n",
    "        vir_adjust = [{\"param\": \"hosp\",\n",
    "                       \"attrs\": {\"variant\": \"vx\"},\n",
    "                       \"mults\": {\"2020-01-01\": vir_mult},\n",
    "                       \"desc\": \"Variant X hospitalization multiplier\"}]\n",
    "        lt5_vacc_adjust = [{\"param\": \"immunity\",\n",
    "                                \"attrs\": {'age': '0-19', 'vacc': 'shot1'},\n",
    "                                \"mults\": {\"2020-01-01\": 1, \"2022-06-20\": 0.99 + 0.01*vacc_eff_lt5,\n",
    "                                          \"2022-06-30\": 0.98 + 0.02*vacc_eff_lt5,\n",
    "                                          \"2022-07-10\": 0.97 + 0.03*vacc_eff_lt5,\n",
    "                                          \"2022-07-20\": 0.96 + 0.04*vacc_eff_lt5,\n",
    "                                          \"2022-07-30\": 0.955 + 0.045*vacc_eff_lt5,\n",
    "                                          \"2022-08-10\": 0.95 + 0.05*vacc_eff_lt5,\n",
    "                                          \"2022-08-20\": 0.945 + 0.055*vacc_eff_lt5,\n",
    "                                          \"2022-08-30\": 0.94 + 0.06*vacc_eff_lt5,\n",
    "                                          \"2022-09-10\": 0.935 + 0.065*vacc_eff_lt5,\n",
    "                                          \"2022-09-20\": 0.93 + 0.07*vacc_eff_lt5},\n",
    "                                \"desc\": \"weighted average using share of 0-19 getting shot1 who are under 5\"}]\n",
    "        scenario_model_args.append({'params_defs': scenario_params + vx_adjust + vir_adjust + lt5_vacc_adjust,\n",
    "                                        'hosp_reporting_frac': hrf,\n",
    "                                        'tags': {'vx_seed': vx_seed,\n",
    "                                                 'vir_mult': vir_mult,\n",
    "                                                 'booster_mult': 0}})\n",
    "            "
   ]
  },
  {
   "cell_type": "code",
   "execution_count": 10,
   "metadata": {},
   "outputs": [
    {
     "data": {
      "text/plain": [
       "4"
      ]
     },
     "execution_count": 10,
     "metadata": {},
     "output_type": "execute_result"
    }
   ],
   "source": [
    "# check how many scenarios there are\n",
    "len(scenario_model_args)"
   ]
  },
  {
   "cell_type": "code",
   "execution_count": 11,
   "metadata": {},
   "outputs": [
    {
     "name": "stderr",
     "output_type": "stream",
     "text": [
      "2022/09/28 19:51:04 INFO|============================================================\n",
      "2022/09/28 19:51:04 INFO|============================================================\n",
      "2022/09/28 19:51:04 INFO|============================================================\n",
      "2022/09/28 19:51:04 INFO|============================================================\n",
      "2022/09/28 19:51:08 INFO|-----------|{'vx_seed': 1, 'vir_mult': 2.38, 'booster_mult': 0} Retrieving vaccinations data\n",
      "2022/09/28 19:51:08 INFO|-----------|{'vx_seed': 0, 'vir_mult': 0.833, 'booster_mult': 0} Retrieving vaccinations data\n",
      "2022/09/28 19:51:08 INFO|-----------|{'vx_seed': 0, 'vir_mult': 2.38, 'booster_mult': 0} Retrieving vaccinations data\n",
      "2022/09/28 19:51:08 INFO|-----------|{'vx_seed': 1, 'vir_mult': 0.833, 'booster_mult': 0} Retrieving vaccinations data\n",
      "2022/09/28 19:51:12 INFO|-----------|{'vx_seed': 0, 'vir_mult': 0.833, 'booster_mult': 0} Constructing vaccination projections\n",
      "2022/09/28 19:51:12 INFO|-----------|{'vx_seed': 1, 'vir_mult': 2.38, 'booster_mult': 0} Constructing vaccination projections\n",
      "2022/09/28 19:51:12 INFO|-----------|{'vx_seed': 1, 'vir_mult': 0.833, 'booster_mult': 0} Constructing vaccination projections\n",
      "2022/09/28 19:51:12 INFO|-----------|{'vx_seed': 0, 'vir_mult': 2.38, 'booster_mult': 0} Constructing vaccination projections\n",
      "2022/09/28 19:51:14 INFO|-----------|{'vx_seed': 0, 'vir_mult': 0.833, 'booster_mult': 0} Retrieving hospitalizations data\n",
      "2022/09/28 19:51:14 INFO|-----------|{'vx_seed': 1, 'vir_mult': 2.38, 'booster_mult': 0} Retrieving hospitalizations data\n",
      "2022/09/28 19:51:14 INFO|-----------|{'vx_seed': 1, 'vir_mult': 0.833, 'booster_mult': 0} Retrieving hospitalizations data\n",
      "2022/09/28 19:51:14 INFO|-----------|{'vx_seed': 0, 'vir_mult': 2.38, 'booster_mult': 0} Retrieving hospitalizations data\n",
      "2022/09/28 19:51:16 INFO|--------|{'vx_seed': 1, 'vir_mult': 2.38, 'booster_mult': 0} Prepping Model\n",
      "2022/09/28 19:51:16 INFO|---------|{'vx_seed': 1, 'vir_mult': 2.38, 'booster_mult': 0} Prepping Model\n",
      "2022/09/28 19:51:16 INFO|--------|{'vx_seed': 0, 'vir_mult': 0.833, 'booster_mult': 0} Prepping Model\n",
      "2022/09/28 19:51:16 INFO|---------|{'vx_seed': 0, 'vir_mult': 0.833, 'booster_mult': 0} Prepping Model\n",
      "2022/09/28 19:51:16 INFO|--------|{'vx_seed': 0, 'vir_mult': 2.38, 'booster_mult': 0} Prepping Model\n",
      "2022/09/28 19:51:16 INFO|---------|{'vx_seed': 0, 'vir_mult': 2.38, 'booster_mult': 0} Prepping Model\n",
      "2022/09/28 19:51:16 INFO|--------|{'vx_seed': 1, 'vir_mult': 0.833, 'booster_mult': 0} Prepping Model\n",
      "2022/09/28 19:51:16 INFO|---------|{'vx_seed': 1, 'vir_mult': 0.833, 'booster_mult': 0} Prepping Model\n",
      "2022/09/28 19:52:30 INFO|--------|{'vx_seed': 1, 'vir_mult': 2.38, 'booster_mult': 0} Model prepped for fitting in 73.755434541 seconds.\n",
      "2022/09/28 19:52:30 INFO|--------|{'vx_seed': 1, 'vir_mult': 2.38, 'booster_mult': 0} Solving Model ODE\n",
      "2022/09/28 19:52:31 INFO|--------|{'vx_seed': 0, 'vir_mult': 0.833, 'booster_mult': 0} Model prepped for fitting in 74.841305542 seconds.\n",
      "2022/09/28 19:52:31 INFO|--------|{'vx_seed': 0, 'vir_mult': 0.833, 'booster_mult': 0} Solving Model ODE\n",
      "2022/09/28 19:52:31 INFO|--------|{'vx_seed': 0, 'vir_mult': 2.38, 'booster_mult': 0} Model prepped for fitting in 75.292092667 seconds.\n",
      "2022/09/28 19:52:31 INFO|--------|{'vx_seed': 0, 'vir_mult': 2.38, 'booster_mult': 0} Solving Model ODE\n",
      "2022/09/28 19:52:31 INFO|--------|{'vx_seed': 1, 'vir_mult': 0.833, 'booster_mult': 0} Model prepped for fitting in 75.58912075 seconds.\n",
      "2022/09/28 19:52:31 INFO|--------|{'vx_seed': 1, 'vir_mult': 0.833, 'booster_mult': 0} Solving Model ODE\n",
      "2022/09/28 19:52:34 INFO|--------|{'vx_seed': 1, 'vir_mult': 2.38, 'booster_mult': 0} Model solved in 4.034076124999999 seconds.\n",
      "2022/09/28 19:52:34 INFO|--------|{'vx_seed': 1, 'vir_mult': 2.38, 'booster_mult': 0} Will fit 5 times\n",
      "2022/09/28 19:52:35 INFO|--------|{'vx_seed': 0, 'vir_mult': 0.833, 'booster_mult': 0} Model solved in 4.080094750000001 seconds.\n",
      "2022/09/28 19:52:35 INFO|--------|{'vx_seed': 0, 'vir_mult': 0.833, 'booster_mult': 0} Will fit 5 times\n",
      "2022/09/28 19:52:35 INFO|--------|{'vx_seed': 0, 'vir_mult': 2.38, 'booster_mult': 0} Model solved in 4.059284667 seconds.\n",
      "2022/09/28 19:52:35 INFO|--------|{'vx_seed': 0, 'vir_mult': 2.38, 'booster_mult': 0} Will fit 5 times\n",
      "2022/09/28 19:52:36 INFO|--------|{'vx_seed': 1, 'vir_mult': 0.833, 'booster_mult': 0} Model solved in 4.081549832999997 seconds.\n",
      "2022/09/28 19:52:36 INFO|--------|{'vx_seed': 1, 'vir_mult': 0.833, 'booster_mult': 0} Will fit 5 times\n",
      "2022/09/28 19:52:51 INFO|--------|{'vx_seed': 1, 'vir_mult': 2.38, 'booster_mult': 0, 'fit_batch': '0'}: Transmission control fit 1/5 completed in 17.542967582999992 seconds: {767: {'co': 0.8757813768645983}, 781: {'co': 0.8694638084607251}, 795: {'co': 0.8563250061654423}, 809: {'co': 0.848264471951965}, 823: {'co': 0.8508457423761312}, 837: {'co': 0.8401658674633892}}\n",
      "2022/09/28 19:52:51 INFO|---------|{'vx_seed': 1, 'vir_mult': 2.38, 'booster_mult': 0, 'fit_batch': '0'}: Running forward sim\n",
      "2022/09/28 19:52:52 INFO|--------|{'vx_seed': 0, 'vir_mult': 0.833, 'booster_mult': 0, 'fit_batch': '0'}: Transmission control fit 1/5 completed in 17.584893292000004 seconds: {767: {'co': 0.8757813768645983}, 781: {'co': 0.8694638084607251}, 795: {'co': 0.8563250061654423}, 809: {'co': 0.848264471951965}, 823: {'co': 0.8508457423761312}, 837: {'co': 0.8401658674633892}}\n",
      "2022/09/28 19:52:52 INFO|---------|{'vx_seed': 0, 'vir_mult': 0.833, 'booster_mult': 0, 'fit_batch': '0'}: Running forward sim\n",
      "2022/09/28 19:52:53 INFO|--------|{'vx_seed': 0, 'vir_mult': 2.38, 'booster_mult': 0, 'fit_batch': '0'}: Transmission control fit 1/5 completed in 17.535424917 seconds: {767: {'co': 0.8757813768645983}, 781: {'co': 0.8694638084607251}, 795: {'co': 0.8563250061654423}, 809: {'co': 0.848264471951965}, 823: {'co': 0.8508457423761312}, 837: {'co': 0.8401658674633892}}\n",
      "2022/09/28 19:52:53 INFO|---------|{'vx_seed': 0, 'vir_mult': 2.38, 'booster_mult': 0, 'fit_batch': '0'}: Running forward sim\n",
      "2022/09/28 19:52:53 INFO|--------|{'vx_seed': 1, 'vir_mult': 0.833, 'booster_mult': 0, 'fit_batch': '0'}: Transmission control fit 1/5 completed in 17.73155191699999 seconds: {767: {'co': 0.8757813768645983}, 781: {'co': 0.8694638084607251}, 795: {'co': 0.8563250061654423}, 809: {'co': 0.848264471951965}, 823: {'co': 0.8508457423761312}, 837: {'co': 0.8401658674633892}}\n",
      "2022/09/28 19:52:53 INFO|---------|{'vx_seed': 1, 'vir_mult': 0.833, 'booster_mult': 0, 'fit_batch': '0'}: Running forward sim\n",
      "2022/09/28 19:53:07 INFO|--------|{'vx_seed': 1, 'vir_mult': 2.38, 'booster_mult': 0, 'fit_batch': '1'}: Transmission control fit 2/5 completed in 14.015632249999996 seconds: {795: {'co': 0.8560049223605716}, 809: {'co': 0.8493585875605212}, 823: {'co': 0.8482684161766377}, 837: {'co': 0.845950979451545}, 851: {'co': 0.8332543402110488}, 865: {'co': 0.8596234100557251}}\n",
      "2022/09/28 19:53:07 INFO|---------|{'vx_seed': 1, 'vir_mult': 2.38, 'booster_mult': 0, 'fit_batch': '1'}: Running forward sim\n",
      "2022/09/28 19:53:08 INFO|--------|{'vx_seed': 0, 'vir_mult': 0.833, 'booster_mult': 0, 'fit_batch': '1'}: Transmission control fit 2/5 completed in 13.900143208000003 seconds: {795: {'co': 0.8560049223605716}, 809: {'co': 0.8493585875605212}, 823: {'co': 0.8482684161766377}, 837: {'co': 0.845950979451545}, 851: {'co': 0.8332543402110488}, 865: {'co': 0.8596234100557251}}\n",
      "2022/09/28 19:53:08 INFO|---------|{'vx_seed': 0, 'vir_mult': 0.833, 'booster_mult': 0, 'fit_batch': '1'}: Running forward sim\n",
      "2022/09/28 19:53:08 INFO|--------|{'vx_seed': 0, 'vir_mult': 2.38, 'booster_mult': 0, 'fit_batch': '1'}: Transmission control fit 2/5 completed in 14.128545542000012 seconds: {795: {'co': 0.8560049223605716}, 809: {'co': 0.8493585875605212}, 823: {'co': 0.8482684161766377}, 837: {'co': 0.845950979451545}, 851: {'co': 0.8332543402110488}, 865: {'co': 0.8596234100557251}}\n",
      "2022/09/28 19:53:08 INFO|---------|{'vx_seed': 0, 'vir_mult': 2.38, 'booster_mult': 0, 'fit_batch': '1'}: Running forward sim\n",
      "2022/09/28 19:53:09 INFO|--------|{'vx_seed': 1, 'vir_mult': 0.833, 'booster_mult': 0, 'fit_batch': '1'}: Transmission control fit 2/5 completed in 14.191494792 seconds: {795: {'co': 0.8560049223605716}, 809: {'co': 0.8493585875605212}, 823: {'co': 0.8482684161766377}, 837: {'co': 0.845950979451545}, 851: {'co': 0.8332543402110488}, 865: {'co': 0.8596234100557251}}\n",
      "2022/09/28 19:53:09 INFO|---------|{'vx_seed': 1, 'vir_mult': 0.833, 'booster_mult': 0, 'fit_batch': '1'}: Running forward sim\n"
     ]
    },
    {
     "name": "stderr",
     "output_type": "stream",
     "text": [
      "2022/09/28 19:53:22 INFO|--------|{'vx_seed': 1, 'vir_mult': 2.38, 'booster_mult': 0, 'fit_batch': '2'}: Transmission control fit 3/5 completed in 13.326450333999986 seconds: {823: {'co': 0.848186685247527}, 837: {'co': 0.8461261938797114}, 851: {'co': 0.832656830072356}, 865: {'co': 0.8616560313693256}, 879: {'co': 0.8533330440424136}, 893: {'co': 0.8575286762306822}}\n",
      "2022/09/28 19:53:22 INFO|---------|{'vx_seed': 1, 'vir_mult': 2.38, 'booster_mult': 0, 'fit_batch': '2'}: Running forward sim\n",
      "2022/09/28 19:53:23 INFO|--------|{'vx_seed': 0, 'vir_mult': 0.833, 'booster_mult': 0, 'fit_batch': '2'}: Transmission control fit 3/5 completed in 13.24757516599999 seconds: {823: {'co': 0.848186685247527}, 837: {'co': 0.8461261938797114}, 851: {'co': 0.832656830072356}, 865: {'co': 0.8616560313693256}, 879: {'co': 0.8533330440424136}, 893: {'co': 0.8575286762306822}}\n",
      "2022/09/28 19:53:23 INFO|---------|{'vx_seed': 0, 'vir_mult': 0.833, 'booster_mult': 0, 'fit_batch': '2'}: Running forward sim\n",
      "2022/09/28 19:53:23 INFO|--------|{'vx_seed': 0, 'vir_mult': 2.38, 'booster_mult': 0, 'fit_batch': '2'}: Transmission control fit 3/5 completed in 13.333999334000012 seconds: {823: {'co': 0.848186685247527}, 837: {'co': 0.8461261938797114}, 851: {'co': 0.832656830072356}, 865: {'co': 0.8616560313693256}, 879: {'co': 0.8533330440424136}, 893: {'co': 0.8575286762306822}}\n",
      "2022/09/28 19:53:23 INFO|---------|{'vx_seed': 0, 'vir_mult': 2.38, 'booster_mult': 0, 'fit_batch': '2'}: Running forward sim\n",
      "2022/09/28 19:53:24 INFO|--------|{'vx_seed': 1, 'vir_mult': 0.833, 'booster_mult': 0, 'fit_batch': '2'}: Transmission control fit 3/5 completed in 13.357888000000003 seconds: {823: {'co': 0.848186685247527}, 837: {'co': 0.8461261938797114}, 851: {'co': 0.832656830072356}, 865: {'co': 0.8616560313693256}, 879: {'co': 0.8533330440424136}, 893: {'co': 0.8575286762306822}}\n",
      "2022/09/28 19:53:24 INFO|---------|{'vx_seed': 1, 'vir_mult': 0.833, 'booster_mult': 0, 'fit_batch': '2'}: Running forward sim\n",
      "2022/09/28 19:53:38 INFO|--------|{'vx_seed': 1, 'vir_mult': 2.38, 'booster_mult': 0, 'fit_batch': '3'}: Transmission control fit 4/5 completed in 14.923975749999983 seconds: {851: {'co': 0.8329767787129104}, 865: {'co': 0.8611424409605994}, 879: {'co': 0.8541917475514476}, 893: {'co': 0.8548121131472021}, 907: {'co': 0.8624660742001112}, 921: {'co': 0.8577502013052045}}\n",
      "2022/09/28 19:53:38 INFO|---------|{'vx_seed': 1, 'vir_mult': 2.38, 'booster_mult': 0, 'fit_batch': '3'}: Running forward sim\n",
      "2022/09/28 19:53:39 INFO|--------|{'vx_seed': 0, 'vir_mult': 0.833, 'booster_mult': 0, 'fit_batch': '3'}: Transmission control fit 4/5 completed in 14.842477959000007 seconds: {851: {'co': 0.8329767787129104}, 865: {'co': 0.8611424409605994}, 879: {'co': 0.8541917475514476}, 893: {'co': 0.8548121131472021}, 907: {'co': 0.8624660742001112}, 921: {'co': 0.8577502013052045}}\n",
      "2022/09/28 19:53:39 INFO|---------|{'vx_seed': 0, 'vir_mult': 0.833, 'booster_mult': 0, 'fit_batch': '3'}: Running forward sim\n",
      "2022/09/28 19:53:40 INFO|--------|{'vx_seed': 0, 'vir_mult': 2.38, 'booster_mult': 0, 'fit_batch': '3'}: Transmission control fit 4/5 completed in 14.934732083 seconds: {851: {'co': 0.8329767787129104}, 865: {'co': 0.8611424409605994}, 879: {'co': 0.8541917475514476}, 893: {'co': 0.8548121131472021}, 907: {'co': 0.8624660742001112}, 921: {'co': 0.8577502013052045}}\n",
      "2022/09/28 19:53:40 INFO|---------|{'vx_seed': 0, 'vir_mult': 2.38, 'booster_mult': 0, 'fit_batch': '3'}: Running forward sim\n",
      "2022/09/28 19:53:41 INFO|--------|{'vx_seed': 1, 'vir_mult': 0.833, 'booster_mult': 0, 'fit_batch': '3'}: Transmission control fit 4/5 completed in 14.944344957999988 seconds: {851: {'co': 0.8329767787129104}, 865: {'co': 0.8611424409605994}, 879: {'co': 0.8541917475514476}, 893: {'co': 0.8548121131472021}, 907: {'co': 0.8624660742001112}, 921: {'co': 0.8577502013052045}}\n",
      "2022/09/28 19:53:41 INFO|---------|{'vx_seed': 1, 'vir_mult': 0.833, 'booster_mult': 0, 'fit_batch': '3'}: Running forward sim\n",
      "2022/09/28 19:53:56 INFO|--------|{'vx_seed': 1, 'vir_mult': 2.38, 'booster_mult': 0, 'fit_batch': '4'}: Transmission control fit 5/5 completed in 16.11267137499999 seconds: {879: {'co': 0.8541575327005444}, 893: {'co': 0.8550528687824905}, 907: {'co': 0.8610800329399391}, 921: {'co': 0.8631818695824208}, 935: {'co': 0.848405225971232}, 949: {'co': 0.8506506490253037}}\n",
      "2022/09/28 19:53:56 INFO|---------|{'vx_seed': 1, 'vir_mult': 2.38, 'booster_mult': 0, 'fit_batch': '4'}: Running forward sim\n",
      "2022/09/28 19:53:56 INFO|--------|{'vx_seed': 0, 'vir_mult': 0.833, 'booster_mult': 0, 'fit_batch': '4'}: Transmission control fit 5/5 completed in 15.466400167000018 seconds: {879: {'co': 0.8541575727277994}, 893: {'co': 0.8550527255094074}, 907: {'co': 0.8610804786286171}, 921: {'co': 0.8631803939958193}, 935: {'co': 0.8484096007221283}, 949: {'co': 0.8506431576638421}}\n",
      "2022/09/28 19:53:56 INFO|---------|{'vx_seed': 0, 'vir_mult': 0.833, 'booster_mult': 0, 'fit_batch': '4'}: Running forward sim\n",
      "2022/09/28 19:53:57 INFO|--------|{'vx_seed': 0, 'vir_mult': 2.38, 'booster_mult': 0, 'fit_batch': '4'}: Transmission control fit 5/5 completed in 15.570165125000017 seconds: {879: {'co': 0.8541575727277994}, 893: {'co': 0.8550527255094074}, 907: {'co': 0.8610804786286171}, 921: {'co': 0.8631803939958193}, 935: {'co': 0.8484096007221283}, 949: {'co': 0.8506431576638421}}\n",
      "2022/09/28 19:53:57 INFO|---------|{'vx_seed': 0, 'vir_mult': 2.38, 'booster_mult': 0, 'fit_batch': '4'}: Running forward sim\n",
      "2022/09/28 19:53:58 INFO|--------|{'vx_seed': 1, 'vir_mult': 2.38, 'booster_mult': 0, 'fit_batch': '4', 'run_type': 'fit'}: fitted TC: {0: {'co': 0.8587936407411457}, 14: {'co': 0.6896751339489205}, 28: {'co': 0.5463057169481709}, 42: {'co': 1.4470575638442843e-14}, 56: {'co': 0.6964655911772399}, 70: {'co': 0.8333061588295956}, 84: {'co': 0.8295950515012411}, 98: {'co': 0.8317180033595475}, 112: {'co': 0.8774455019880499}, 126: {'co': 0.8243715269502497}, 140: {'co': 0.7604769120446827}, 154: {'co': 0.6712541403702306}, 168: {'co': 0.8430274772598394}, 182: {'co': 0.7826503978304408}, 196: {'co': 0.8191652889047285}, 210: {'co': 0.7726023548127132}, 224: {'co': 0.7713430200215275}, 238: {'co': 0.71855206469661}, 252: {'co': 0.7221395016735296}, 266: {'co': 0.6850199028669723}, 280: {'co': 0.7198410186682856}, 294: {'co': 0.757849356961579}, 308: {'co': 0.8225928575055608}, 322: {'co': 0.8115169306662735}, 336: {'co': 0.7825636711840434}, 350: {'co': 0.7953858378950225}, 364: {'co': 0.8054735118325559}, 378: {'co': 0.7423331143827525}, 392: {'co': 0.7802698367972313}, 406: {'co': 0.7125156319517407}, 420: {'co': 0.7179057862220417}, 434: {'co': 0.6881803623769576}, 448: {'co': 0.740799244729068}, 462: {'co': 0.8127878730535648}, 476: {'co': 0.7916836142926914}, 490: {'co': 0.8301993181150856}, 504: {'co': 0.7861769356332884}, 518: {'co': 0.7799123275231242}, 532: {'co': 0.756216654923652}, 546: {'co': 0.7112514576383564}, 560: {'co': 0.7393653864465773}, 574: {'co': 0.7478196931471249}, 588: {'co': 0.7875906514165845}, 602: {'co': 0.7639272531752586}, 616: {'co': 0.7176324598491073}, 630: {'co': 0.735500420688093}, 644: {'co': 0.7125018527908881}, 658: {'co': 0.7531821177925527}, 672: {'co': 0.7583653538020634}, 686: {'co': 0.7378418737425928}, 700: {'co': 0.6513279000104182}, 714: {'co': 0.8035480268759565}, 728: {'co': 0.8434373222262425}, 742: {'co': 0.8636343562146721}, 767: {'co': 0.8757813768645983}, 781: {'co': 0.8694638084607251}, 795: {'co': 0.8560049223605716}, 809: {'co': 0.8493585875605212}, 823: {'co': 0.848186685247527}, 837: {'co': 0.8461261938797114}, 851: {'co': 0.8329767787129104}, 865: {'co': 0.8611424409605994}, 879: {'co': 0.8541575327005444}, 893: {'co': 0.8550528687824905}, 907: {'co': 0.8610800329399391}, 921: {'co': 0.8631818695824208}, 935: {'co': 0.848405225971232}, 949: {'co': 0.8506506639264649}}\n",
      "2022/09/28 19:53:58 INFO|---------|{'vx_seed': 1, 'vir_mult': 2.38, 'booster_mult': 0, 'fit_batch': '4', 'run_type': 'fit'}: Running forward sim\n",
      "2022/09/28 19:53:58 INFO|--------|{'vx_seed': 0, 'vir_mult': 0.833, 'booster_mult': 0, 'fit_batch': '4', 'run_type': 'fit'}: fitted TC: {0: {'co': 0.8587936407411457}, 14: {'co': 0.6896751339489205}, 28: {'co': 0.5463057169481709}, 42: {'co': 1.4470575638442843e-14}, 56: {'co': 0.6964655911772399}, 70: {'co': 0.8333061588295956}, 84: {'co': 0.8295950515012411}, 98: {'co': 0.8317180033595475}, 112: {'co': 0.8774455019880499}, 126: {'co': 0.8243715269502497}, 140: {'co': 0.7604769120446827}, 154: {'co': 0.6712541403702306}, 168: {'co': 0.8430274772598394}, 182: {'co': 0.7826503978304408}, 196: {'co': 0.8191652889047285}, 210: {'co': 0.7726023548127132}, 224: {'co': 0.7713430200215275}, 238: {'co': 0.71855206469661}, 252: {'co': 0.7221395016735296}, 266: {'co': 0.6850199028669723}, 280: {'co': 0.7198410186682856}, 294: {'co': 0.757849356961579}, 308: {'co': 0.8225928575055608}, 322: {'co': 0.8115169306662735}, 336: {'co': 0.7825636711840434}, 350: {'co': 0.7953858378950225}, 364: {'co': 0.8054735118325559}, 378: {'co': 0.7423331143827525}, 392: {'co': 0.7802698367972313}, 406: {'co': 0.7125156319517407}, 420: {'co': 0.7179057862220417}, 434: {'co': 0.6881803623769576}, 448: {'co': 0.740799244729068}, 462: {'co': 0.8127878730535648}, 476: {'co': 0.7916836142926914}, 490: {'co': 0.8301993181150856}, 504: {'co': 0.7861769356332884}, 518: {'co': 0.7799123275231242}, 532: {'co': 0.756216654923652}, 546: {'co': 0.7112514576383564}, 560: {'co': 0.7393653864465773}, 574: {'co': 0.7478196931471249}, 588: {'co': 0.7875906514165845}, 602: {'co': 0.7639272531752586}, 616: {'co': 0.7176324598491073}, 630: {'co': 0.735500420688093}, 644: {'co': 0.7125018527908881}, 658: {'co': 0.7531821177925527}, 672: {'co': 0.7583653538020634}, 686: {'co': 0.7378418737425928}, 700: {'co': 0.6513279000104182}, 714: {'co': 0.8035480268759565}, 728: {'co': 0.8434373222262425}, 742: {'co': 0.8636343562146721}, 767: {'co': 0.8757813768645983}, 781: {'co': 0.8694638084607251}, 795: {'co': 0.8560049223605716}, 809: {'co': 0.8493585875605212}, 823: {'co': 0.848186685247527}, 837: {'co': 0.8461261938797114}, 851: {'co': 0.8329767787129104}, 865: {'co': 0.8611424409605994}, 879: {'co': 0.8541575727277994}, 893: {'co': 0.8550527255094074}, 907: {'co': 0.8610804786286171}, 921: {'co': 0.8631803939958193}, 935: {'co': 0.8484096007221283}, 949: {'co': 0.8506431725650033}}\n",
      "2022/09/28 19:53:58 INFO|---------|{'vx_seed': 0, 'vir_mult': 0.833, 'booster_mult': 0, 'fit_batch': '4', 'run_type': 'fit'}: Running forward sim\n"
     ]
    },
    {
     "name": "stderr",
     "output_type": "stream",
     "text": [
      "2022/09/28 19:53:58 INFO|--------|{'vx_seed': 1, 'vir_mult': 0.833, 'booster_mult': 0, 'fit_batch': '4'}: Transmission control fit 5/5 completed in 16.129970541999995 seconds: {879: {'co': 0.8541575585625053}, 893: {'co': 0.8550527782269102}, 907: {'co': 0.8610803151337563}, 921: {'co': 0.8631809374000383}, 935: {'co': 0.8484079917699039}, 949: {'co': 0.8506459181077451}}\n",
      "2022/09/28 19:53:58 INFO|---------|{'vx_seed': 1, 'vir_mult': 0.833, 'booster_mult': 0, 'fit_batch': '4'}: Running forward sim\n",
      "2022/09/28 19:53:59 INFO|--------|{'vx_seed': 0, 'vir_mult': 2.38, 'booster_mult': 0, 'fit_batch': '4', 'run_type': 'fit'}: fitted TC: {0: {'co': 0.8587936407411457}, 14: {'co': 0.6896751339489205}, 28: {'co': 0.5463057169481709}, 42: {'co': 1.4470575638442843e-14}, 56: {'co': 0.6964655911772399}, 70: {'co': 0.8333061588295956}, 84: {'co': 0.8295950515012411}, 98: {'co': 0.8317180033595475}, 112: {'co': 0.8774455019880499}, 126: {'co': 0.8243715269502497}, 140: {'co': 0.7604769120446827}, 154: {'co': 0.6712541403702306}, 168: {'co': 0.8430274772598394}, 182: {'co': 0.7826503978304408}, 196: {'co': 0.8191652889047285}, 210: {'co': 0.7726023548127132}, 224: {'co': 0.7713430200215275}, 238: {'co': 0.71855206469661}, 252: {'co': 0.7221395016735296}, 266: {'co': 0.6850199028669723}, 280: {'co': 0.7198410186682856}, 294: {'co': 0.757849356961579}, 308: {'co': 0.8225928575055608}, 322: {'co': 0.8115169306662735}, 336: {'co': 0.7825636711840434}, 350: {'co': 0.7953858378950225}, 364: {'co': 0.8054735118325559}, 378: {'co': 0.7423331143827525}, 392: {'co': 0.7802698367972313}, 406: {'co': 0.7125156319517407}, 420: {'co': 0.7179057862220417}, 434: {'co': 0.6881803623769576}, 448: {'co': 0.740799244729068}, 462: {'co': 0.8127878730535648}, 476: {'co': 0.7916836142926914}, 490: {'co': 0.8301993181150856}, 504: {'co': 0.7861769356332884}, 518: {'co': 0.7799123275231242}, 532: {'co': 0.756216654923652}, 546: {'co': 0.7112514576383564}, 560: {'co': 0.7393653864465773}, 574: {'co': 0.7478196931471249}, 588: {'co': 0.7875906514165845}, 602: {'co': 0.7639272531752586}, 616: {'co': 0.7176324598491073}, 630: {'co': 0.735500420688093}, 644: {'co': 0.7125018527908881}, 658: {'co': 0.7531821177925527}, 672: {'co': 0.7583653538020634}, 686: {'co': 0.7378418737425928}, 700: {'co': 0.6513279000104182}, 714: {'co': 0.8035480268759565}, 728: {'co': 0.8434373222262425}, 742: {'co': 0.8636343562146721}, 767: {'co': 0.8757813768645983}, 781: {'co': 0.8694638084607251}, 795: {'co': 0.8560049223605716}, 809: {'co': 0.8493585875605212}, 823: {'co': 0.848186685247527}, 837: {'co': 0.8461261938797114}, 851: {'co': 0.8329767787129104}, 865: {'co': 0.8611424409605994}, 879: {'co': 0.8541575727277994}, 893: {'co': 0.8550527255094074}, 907: {'co': 0.8610804786286171}, 921: {'co': 0.8631803939958193}, 935: {'co': 0.8484096007221283}, 949: {'co': 0.8506431725650033}}\n",
      "2022/09/28 19:53:59 INFO|---------|{'vx_seed': 0, 'vir_mult': 2.38, 'booster_mult': 0, 'fit_batch': '4', 'run_type': 'fit'}: Running forward sim\n",
      "2022/09/28 19:54:00 INFO|--------|{'vx_seed': 1, 'vir_mult': 0.833, 'booster_mult': 0, 'fit_batch': '4', 'run_type': 'fit'}: fitted TC: {0: {'co': 0.8587936407411457}, 14: {'co': 0.6896751339489205}, 28: {'co': 0.5463057169481709}, 42: {'co': 1.4470575638442843e-14}, 56: {'co': 0.6964655911772399}, 70: {'co': 0.8333061588295956}, 84: {'co': 0.8295950515012411}, 98: {'co': 0.8317180033595475}, 112: {'co': 0.8774455019880499}, 126: {'co': 0.8243715269502497}, 140: {'co': 0.7604769120446827}, 154: {'co': 0.6712541403702306}, 168: {'co': 0.8430274772598394}, 182: {'co': 0.7826503978304408}, 196: {'co': 0.8191652889047285}, 210: {'co': 0.7726023548127132}, 224: {'co': 0.7713430200215275}, 238: {'co': 0.71855206469661}, 252: {'co': 0.7221395016735296}, 266: {'co': 0.6850199028669723}, 280: {'co': 0.7198410186682856}, 294: {'co': 0.757849356961579}, 308: {'co': 0.8225928575055608}, 322: {'co': 0.8115169306662735}, 336: {'co': 0.7825636711840434}, 350: {'co': 0.7953858378950225}, 364: {'co': 0.8054735118325559}, 378: {'co': 0.7423331143827525}, 392: {'co': 0.7802698367972313}, 406: {'co': 0.7125156319517407}, 420: {'co': 0.7179057862220417}, 434: {'co': 0.6881803623769576}, 448: {'co': 0.740799244729068}, 462: {'co': 0.8127878730535648}, 476: {'co': 0.7916836142926914}, 490: {'co': 0.8301993181150856}, 504: {'co': 0.7861769356332884}, 518: {'co': 0.7799123275231242}, 532: {'co': 0.756216654923652}, 546: {'co': 0.7112514576383564}, 560: {'co': 0.7393653864465773}, 574: {'co': 0.7478196931471249}, 588: {'co': 0.7875906514165845}, 602: {'co': 0.7639272531752586}, 616: {'co': 0.7176324598491073}, 630: {'co': 0.735500420688093}, 644: {'co': 0.7125018527908881}, 658: {'co': 0.7531821177925527}, 672: {'co': 0.7583653538020634}, 686: {'co': 0.7378418737425928}, 700: {'co': 0.6513279000104182}, 714: {'co': 0.8035480268759565}, 728: {'co': 0.8434373222262425}, 742: {'co': 0.8636343562146721}, 767: {'co': 0.8757813768645983}, 781: {'co': 0.8694638084607251}, 795: {'co': 0.8560049223605716}, 809: {'co': 0.8493585875605212}, 823: {'co': 0.848186685247527}, 837: {'co': 0.8461261938797114}, 851: {'co': 0.8329767787129104}, 865: {'co': 0.8611424409605994}, 879: {'co': 0.8541575585625053}, 893: {'co': 0.8550527782269102}, 907: {'co': 0.8610803151337563}, 921: {'co': 0.8631809374000383}, 935: {'co': 0.8484079917699039}, 949: {'co': 0.8506459330089063}}\n",
      "2022/09/28 19:54:00 INFO|---------|{'vx_seed': 1, 'vir_mult': 0.833, 'booster_mult': 0, 'fit_batch': '4', 'run_type': 'fit'}: Running forward sim\n",
      "2022/09/28 19:54:35 INFO|-----------------------|spec_ids: 4060,4061,4062,4063\n"
     ]
    }
   ],
   "source": [
    "# run the scenarios\n",
    "models = do_fit_scenarios(base_model_args=model_args, scenario_args_list=scenario_model_args, fit_args=model_fit_args, multiprocess=multiprocess)"
   ]
  },
  {
   "cell_type": "markdown",
   "metadata": {
    "pycharm": {
     "name": "#%% md\n"
    }
   },
   "source": [
    "### Run the report for each fit model"
   ]
  },
  {
   "cell_type": "code",
   "execution_count": 12,
   "metadata": {
    "pycharm": {
     "name": "#%%\n"
    }
   },
   "outputs": [
    {
     "name": "stderr",
     "output_type": "stream",
     "text": [
      "2022/09/28 19:57:03 INFO|============================================================\n",
      "2022/09/28 19:57:03 INFO|--------|Solving model\n",
      "2022/09/28 19:57:03 INFO|============================================================\n",
      "2022/09/28 19:57:03 INFO|--------|Solving model\n",
      "2022/09/28 19:57:04 INFO|============================================================\n",
      "2022/09/28 19:57:04 INFO|--------|Solving model\n",
      "2022/09/28 19:57:05 INFO|============================================================\n",
      "2022/09/28 19:57:05 INFO|--------|Solving model\n",
      "2022/09/28 19:57:07 WARNING|No artists with labels found to put in legend.  Note that artists whose label start with an underscore are ignored when legend() is called with no argument.\n",
      "2022/09/28 19:57:08 WARNING|No artists with labels found to put in legend.  Note that artists whose label start with an underscore are ignored when legend() is called with no argument.\n",
      "2022/09/28 19:57:08 WARNING|No artists with labels found to put in legend.  Note that artists whose label start with an underscore are ignored when legend() is called with no argument.\n",
      "2022/09/28 19:57:09 WARNING|No artists with labels found to put in legend.  Note that artists whose label start with an underscore are ignored when legend() is called with no argument.\n"
     ]
    }
   ],
   "source": [
    "# here you can also specify which variants you want to calculate immunity for\n",
    "do_create_multiple_reports(models, multiprocess=multiprocess, outdir=outdir,\n",
    "                           prep_model=False, solve_model=True, immun_variants=['ba45', 'vx'], from_date='2022-01-01')"
   ]
  },
  {
   "cell_type": "code",
   "execution_count": 13,
   "metadata": {
    "pycharm": {
     "name": "#%%\n"
    }
   },
   "outputs": [
    {
     "name": "stderr",
     "output_type": "stream",
     "text": [
      "2022/09/28 20:01:38 INFO|Projecting\n",
      "2022/09/28 20:01:38 INFO|\n",
      "2022/09/28 20:01:58 INFO|{'vx_seed': 0, 'vir_mult': 0.833, 'booster_mult': 0, 'fit_batch': '4', 'run_type': 'fit'}: Running forward sim\n",
      "2022/09/28 20:01:59 INFO|\n",
      "2022/09/28 20:02:19 INFO|{'vx_seed': 0, 'vir_mult': 2.38, 'booster_mult': 0, 'fit_batch': '4', 'run_type': 'fit'}: Running forward sim\n",
      "2022/09/28 20:02:21 INFO|\n",
      "2022/09/28 20:02:40 INFO|{'vx_seed': 1, 'vir_mult': 0.833, 'booster_mult': 0, 'fit_batch': '4', 'run_type': 'fit'}: Running forward sim\n",
      "2022/09/28 20:02:42 INFO|\n",
      "2022/09/28 20:03:03 INFO|{'vx_seed': 1, 'vir_mult': 2.38, 'booster_mult': 0, 'fit_batch': '4', 'run_type': 'fit'}: Running forward sim\n",
      "2022/09/28 20:03:04 INFO|Running reports\n"
     ]
    }
   ],
   "source": [
    "logging.info('Projecting')\n",
    "for model in models:\n",
    "    logging.info('')\n",
    "    #model.prep()  # don't think we need to prep anymore.\n",
    "    model.solve_seir()\n",
    "\n",
    "    model.solution_sum_df(['seir', 'variant', 'immun']).unstack().to_csv(get_filepath_prefix(outdir, tags=model.tags) + 'states_seir_variant_immun_total_all_at_once_projection.csv')\n",
    "    model.solution_sum_df().unstack().to_csv(get_filepath_prefix(outdir, tags=model.tags) + 'states_full_projection.csv')\n",
    "\n",
    "    logging.info(f'{str(model.tags)}: Running forward sim')\n",
    "    fig = plt.figure(figsize=(10, 10), dpi=300)\n",
    "    ax = fig.add_subplot(211)\n",
    "    hosps_df = model.modeled_vs_observed_hosps().reset_index('region').drop(columns='region')\n",
    "    hosps_df.plot(ax=ax)\n",
    "    ax.set_xlim(dt.datetime.strptime('2022-01-01', \"%Y-%m-%d\").date(), dt.datetime.strptime('2024-01-01', \"%Y-%m-%d\").date())\n",
    "    ax = fig.add_subplot(212)\n",
    "    plot_transmission_control(model, ax=ax)\n",
    "    ax.set_xlim(dt.datetime.strptime('2022-01-01', \"%Y-%m-%d\").date(), dt.datetime.strptime('2024-01-01', \"%Y-%m-%d\").date())\n",
    "    plt.savefig(get_filepath_prefix(outdir, tags=model.tags) + 'model_forecast.png')\n",
    "    plt.close()\n",
    "    hosps_df.to_csv(get_filepath_prefix(outdir, tags=model.tags) + '_model_forecast.csv')\n",
    "    json.dump(model.tc, open(get_filepath_prefix(outdir, tags=model.tags) + 'model_forecast_tc.json', 'w'))\n",
    "\n",
    "logging.info('Running reports')"
   ]
  }
 ],
 "metadata": {
  "kernelspec": {
   "display_name": "Python 3 (ipykernel)",
   "language": "python",
   "name": "python3"
  },
  "language_info": {
   "codemirror_mode": {
    "name": "ipython",
    "version": 3
   },
   "file_extension": ".py",
   "mimetype": "text/x-python",
   "name": "python",
   "nbconvert_exporter": "python",
   "pygments_lexer": "ipython3",
   "version": "3.9.13"
  }
 },
 "nbformat": 4,
 "nbformat_minor": 4
}
