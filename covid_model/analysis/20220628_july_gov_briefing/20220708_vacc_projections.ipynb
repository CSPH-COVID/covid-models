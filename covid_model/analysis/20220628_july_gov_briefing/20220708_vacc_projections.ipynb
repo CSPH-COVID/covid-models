{
 "cells": [
  {
   "cell_type": "code",
   "execution_count": null,
   "metadata": {
    "jupyter": {
     "source_hidden": true
    },
    "pycharm": {
     "name": "#%%\n"
    },
    "tags": []
   },
   "outputs": [],
   "source": [
    "\"\"\" Python Standard Library \"\"\"\n",
    "import os\n",
    "import datetime as dt\n",
    "import json\n",
    "import logging\n",
    "\"\"\" Third Party Imports \"\"\"\n",
    "import numpy as np\n",
    "import pandas as pd\n",
    "from matplotlib import pyplot as plt\n",
    "%matplotlib inline\n",
    "import seaborn as sns\n",
    "\"\"\" Local Imports \"\"\"\n",
    "if 'requirements.txt' not in os.listdir(os.getcwd()):\n",
    "    os.chdir(os.path.join('..','..','..'))\n",
    "print(os.getcwd())\n",
    "from covid_model import CovidModel\n",
    "from covid_model.runnable_functions import do_single_fit, do_create_report\n",
    "from covid_model.utils import setup, get_filepath_prefix\n",
    "from covid_model.analysis.charts import plot_transmission_control\n",
    "\n",
    "os.environ['gcp_project'] = 'co-covid-models'\n",
    "os.environ['GOOGLE_APPLICATION_CREDENTIALS'] = \"co-covid-models-credentials.json\"\n",
    "\n",
    "outdir = setup(\"20220708_vacc_projections.ipynb\")"
   ]
  },
  {
   "cell_type": "code",
   "execution_count": null,
   "outputs": [],
   "source": [
    "model_args = {\n",
    "    'params_defs': json.load(open('covid_model/analysis/20220628_july_gov_briefing/scenario_params.json')),\n",
    "    'region_defs': 'covid_model/input/region_definitions.json',\n",
    "    'vacc_proj_params': 'covid_model/analysis/20220628_july_gov_briefing/vacc_proj_params.json',\n",
    "    'regions': ['co'],\n",
    "    'mobility_mode': None,\n",
    "    'start_date': '2020-01-24',\n",
    "    'end_date': '2022-09-15',\n",
    "    'max_step_size': 1.0,\n",
    "    'ode_method': 'RK45',\n",
    "    'hosp_reporting_frac': {\"2020-01-01\": 1, \"2022-03-01\": 0.8, \"2022-03-15\": 0.66, \"2022-03-30\": 0.5}\n",
    "}\n",
    "# create initial solution so we don't have to fit the whole window\n",
    "model = CovidModel(**model_args)"
   ],
   "metadata": {
    "collapsed": false,
    "pycharm": {
     "name": "#%%\n"
    }
   }
  },
  {
   "cell_type": "code",
   "execution_count": null,
   "outputs": [],
   "source": [
    "model.vacc_proj_params = 'covid_model/analysis/20220628_july_gov_briefing/vacc_proj_params.json'\n",
    "model.update_data()"
   ],
   "metadata": {
    "collapsed": false,
    "pycharm": {
     "name": "#%%\n"
    }
   }
  },
  {
   "cell_type": "code",
   "execution_count": null,
   "outputs": [],
   "source": [
    "populations = {p['attrs']['age']: list(p['vals'].values())[0] for p in model.params_defs if p['param'] == 'region_age_pop' and p['attrs']['region'] == 'co'}\n",
    "pop_df = pd.DataFrame.from_dict(populations, orient='index').reset_index()\n",
    "pop_df.columns = ['age', 'pop']\n",
    "pop_df"
   ],
   "metadata": {
    "collapsed": false,
    "pycharm": {
     "name": "#%%\n"
    }
   }
  },
  {
   "cell_type": "code",
   "execution_count": null,
   "outputs": [],
   "source": [
    "df_actual = model.actual_vacc_df.stack(dropna=False).reset_index().rename(columns={'level_3': 'shot', 0: 'count'}).assign(type='actual')\n",
    "df_proj = model.proj_vacc_df.stack(dropna=False).reset_index().rename(columns={'level_3': 'shot', 0: 'count'}).assign(type='projection')\n",
    "df = pd.concat([df_actual, df_proj]).merge(pop_df)\n",
    "df.head()"
   ],
   "metadata": {
    "collapsed": false,
    "pycharm": {
     "name": "#%%\n"
    }
   }
  },
  {
   "cell_type": "code",
   "execution_count": null,
   "outputs": [],
   "source": [
    "t1 = dt.datetime.strptime('2022-03-01', '%Y-%m-%d').date()\n",
    "t2 = model.end_date\n",
    "filt = (t1 <= df.date) & (df.date <= t2)\n",
    "rel = sns.relplot(data=df.loc[filt,:], kind='line', \n",
    "                  x='date', y='count', row='age', hue='shot', style='type', \n",
    "                  height=3, aspect=5, facet_kws={'sharey': False})"
   ],
   "metadata": {
    "collapsed": false,
    "pycharm": {
     "name": "#%%\n"
    }
   }
  },
  {
   "cell_type": "code",
   "execution_count": null,
   "outputs": [],
   "source": [
    "rel.savefig(get_filepath_prefix(outdir) + '_vacc_projections.png')"
   ],
   "metadata": {
    "collapsed": false,
    "pycharm": {
     "name": "#%%\n"
    }
   }
  },
  {
   "cell_type": "markdown",
   "source": [
    "# Estimate out what proportion of vaccinated people 0-19 are <5"
   ],
   "metadata": {
    "collapsed": false,
    "pycharm": {
     "name": "#%% md\n"
    }
   }
  },
  {
   "cell_type": "code",
   "execution_count": null,
   "outputs": [],
   "source": [
    "df019 = df.loc[df['age'] == '0-19']\n",
    "df019['lt5'] = False\n",
    "df019.loc[(df019['shot'] == 'shot1') & (df019['date'] > dt.datetime.strptime('2022-06-10', '%Y-%m-%d').date()),'lt5'] = True\n",
    "dflt5 = df019[['date', 'shot', 'count', 'lt5']].groupby(['date', 'shot', 'lt5']).aggregate(count=('count', 'sum')).reset_index('lt5')\n",
    "dflt5cs = dflt5.pivot(columns='lt5', values='count').fillna(0).sort_index().groupby('shot').cumsum()\n",
    "dflt5cs['prop_lt5'] = dflt5cs[True] / dflt5cs.sum(axis=1)\n",
    "dflt5cs = dflt5cs['prop_lt5'].reset_index('shot').pivot(columns='shot', values='prop_lt5')\n",
    "tfilter = dflt5cs.index.get_level_values(0) > dt.datetime.strptime('2022-06-01', '%Y-%m-%d').date()\n",
    "ax = dflt5cs.loc[tfilter,:].plot(figsize=(15, 8))\n",
    "plt.xticks(rotation = 45, ha='right')\n",
    "plt.axvline(x=dt.datetime.strptime('2022-07-11', '%Y-%m-%d').date(), linestyle='--', color='grey')"
   ],
   "metadata": {
    "collapsed": false,
    "pycharm": {
     "name": "#%%\n"
    }
   }
  },
  {
   "cell_type": "code",
   "execution_count": null,
   "outputs": [],
   "source": [
    "fig = ax.get_figure()\n",
    "fig.savefig(get_filepath_prefix(outdir) + '_vacc_prop_lt5_proj.png')"
   ],
   "metadata": {
    "collapsed": false,
    "pycharm": {
     "name": "#%%\n"
    }
   }
  },
  {
   "cell_type": "markdown",
   "source": [
    "# What proportion of the populations are vaccinated?"
   ],
   "metadata": {
    "collapsed": false,
    "pycharm": {
     "name": "#%% md\n"
    }
   }
  },
  {
   "cell_type": "code",
   "execution_count": null,
   "outputs": [],
   "source": [
    "dfcs = df.sort_values(['date'])\n",
    "dfcs['count_cs'] = dfcs.groupby(['region', 'age', 'shot']).cumsum(axis=0)"
   ],
   "metadata": {
    "collapsed": false,
    "pycharm": {
     "name": "#%%\n"
    }
   }
  },
  {
   "cell_type": "code",
   "execution_count": null,
   "outputs": [],
   "source": [
    "rel = sns.relplot(data=dfcs, kind='line', \n",
    "                  x='date', y='count_cs', row='age', hue='shot', style='type', \n",
    "                  height=3, aspect=4, facet_kws={'sharey': False})\n",
    "for ax in rel.axes.flat:\n",
    "    group_pop = [pop for age, pop in populations.items() if age in ax.get_title()][0]\n",
    "    ax.axhline(group_pop, ls='-', color='grey')"
   ],
   "metadata": {
    "collapsed": false,
    "pycharm": {
     "name": "#%%\n"
    }
   }
  },
  {
   "cell_type": "code",
   "execution_count": null,
   "outputs": [],
   "source": [
    "rel.savefig(get_filepath_prefix(outdir) + '_vacc_projections_cumulative.png')"
   ],
   "metadata": {
    "collapsed": false,
    "pycharm": {
     "name": "#%%\n"
    }
   }
  },
  {
   "cell_type": "markdown",
   "metadata": {
    "pycharm": {
     "name": "#%% md\n"
    }
   },
   "source": [
    "# Estimate out what proportion of vaccinated people 0-19 are <5"
   ]
  },
  {
   "cell_type": "code",
   "execution_count": null,
   "metadata": {
    "pycharm": {
     "name": "#%%\n"
    }
   },
   "outputs": [],
   "source": [
    "df019 = df.loc[df['age'] == '0-19']\n",
    "df019['lt5'] = False\n",
    "df019.loc[(df019['shot'] == 'shot1') & (df019['date'] > dt.datetime.strptime('2022-06-10', '%Y-%m-%d').date()),'lt5'] = True\n",
    "dflt5 = df019[['date', 'shot', 'count', 'lt5']].groupby(['date', 'shot', 'lt5']).aggregate(count=('count', 'sum')).reset_index('lt5')\n",
    "dflt5cs = dflt5.pivot(columns='lt5', values='count').fillna(0).sort_index().groupby('shot').cumsum()\n",
    "dflt5cs['prop_lt5'] = dflt5cs[True] / dflt5cs.sum(axis=1)\n",
    "dflt5cs = dflt5cs['prop_lt5'].reset_index('shot').pivot(columns='shot', values='prop_lt5')\n",
    "tfilter = dflt5cs.index.get_level_values(0) > dt.datetime.strptime('2022-06-01', '%Y-%m-%d').date()\n",
    "ax = dflt5cs.loc[tfilter,:].plot(figsize=(15, 8))\n",
    "plt.xticks(rotation = 45, ha='right')\n",
    "plt.axvline(x=dt.datetime.strptime('2022-07-11', '%Y-%m-%d').date(), linestyle='--', color='grey')"
   ]
  },
  {
   "cell_type": "code",
   "execution_count": null,
   "metadata": {
    "pycharm": {
     "name": "#%%\n"
    }
   },
   "outputs": [],
   "source": [
    "fig = ax.get_figure()\n",
    "fig.savefig(get_filepath_prefix(outdir) + '_vacc_prop_lt5_proj.png')"
   ]
  },
  {
   "cell_type": "markdown",
   "metadata": {
    "pycharm": {
     "name": "#%% md\n"
    }
   },
   "source": [
    "# What proportion of the populations are vaccinated?"
   ]
  },
  {
   "cell_type": "code",
   "execution_count": null,
   "metadata": {
    "pycharm": {
     "name": "#%%\n"
    }
   },
   "outputs": [],
   "source": [
    "dfcs = df.sort_values(['date'])\n",
    "dfcs['count_cs'] = dfcs.groupby(['region', 'age', 'shot']).cumsum(axis=0)"
   ]
  },
  {
   "cell_type": "code",
   "execution_count": null,
   "metadata": {
    "pycharm": {
     "name": "#%%\n"
    }
   },
   "outputs": [],
   "source": [
    "rel = sns.relplot(data=dfcs, kind='line', \n",
    "                  x='date', y='count_cs', row='age', hue='shot', style='type', \n",
    "                  height=3, aspect=4, facet_kws={'sharey': False})\n",
    "for ax in rel.axes.flat:\n",
    "    group_pop = [pop for age, pop in populations.items() if age in ax.get_title()][0]\n",
    "    ax.axhline(group_pop, ls='-', color='grey')"
   ]
  },
  {
   "cell_type": "code",
   "execution_count": null,
   "metadata": {
    "pycharm": {
     "name": "#%%\n"
    }
   },
   "outputs": [],
   "source": [
    "rel.savefig(get_filepath_prefix(outdir) + '_vacc_projections_cumulative.png')"
   ]
  }
 ],
 "metadata": {
  "kernelspec": {
   "display_name": "Python 3 (ipykernel)",
   "language": "python",
   "name": "python3"
  },
  "language_info": {
   "codemirror_mode": {
    "name": "ipython",
    "version": 3
   },
   "file_extension": ".py",
   "mimetype": "text/x-python",
   "name": "python",
   "nbconvert_exporter": "python",
   "pygments_lexer": "ipython3",
   "version": "3.9.0"
  }
 },
 "nbformat": 4,
 "nbformat_minor": 4
}