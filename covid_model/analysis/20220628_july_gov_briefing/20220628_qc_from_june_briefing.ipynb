{
 "cells": [
  {
   "cell_type": "code",
   "execution_count": null,
   "metadata": {
    "pycharm": {
     "name": "#%%\n"
    }
   },
   "outputs": [],
   "source": [
    "\"\"\" Python Standard Library \"\"\"\n",
    "import os\n",
    "import datetime as dt\n",
    "import json\n",
    "import logging\n",
    "\"\"\" Third Party Imports \"\"\"\n",
    "import numpy as np\n",
    "from matplotlib import pyplot as plt\n",
    "%matplotlib inline\n",
    "\"\"\" Local Imports \"\"\"\n",
    "if 'requirements.txt' not in os.listdir(os.getcwd()):\n",
    "    os.chdir(os.path.join('..','..','..'))\n",
    "print(os.getcwd())\n",
    "from covid_model import CovidModel\n",
    "from covid_model.runnable_functions import do_single_fit, do_create_report\n",
    "from covid_model.utils import setup, get_filepath_prefix\n",
    "from covid_model.analysis.charts import plot_transmission_control\n",
    "\n",
    "os.environ['gcp_project'] = ''\n",
    "os.environ['GOOGLE_APPLICATION_CREDENTIALS'] = \"\"\n",
    "\n",
    "outdir = setup(\"20220628_qc_from_june_briefing.ipynb\")"
   ]
  },
  {
   "cell_type": "code",
   "execution_count": null,
   "metadata": {
    "pycharm": {
     "name": "#%%\n"
    }
   },
   "outputs": [],
   "source": [
    "import pandas as pd\n",
    "obs_fpath = \"covid_model/analysis/20220628_july_gov_briefing/CDPHE Variant Data (manually transcribed and limited to model variants).csv\"\n",
    "obs = pd.read_csv(obs_fpath, parse_dates=['Date']).fillna(0)\n",
    "obs['Date'] = [d.date() for d in obs['Date']]\n",
    "obs = obs.set_index('Date')"
   ]
  },
  {
   "cell_type": "code",
   "execution_count": null,
   "metadata": {
    "pycharm": {
     "name": "#%%\n"
    },
    "tags": []
   },
   "outputs": [],
   "source": [
    "seeds = [\n",
    "    {\"param\": \"omicron_seed\",\"attrs\": None,\"vals\": {\"2020-01-01\": 0, \"2021-12-01\": 1000, \"2021-12-05\": 3000, \"2021-12-20\": 1000, \"2021-12-31\": 0},\"desc\": \"\"},\n",
    "    {\"param\": \"ba2_seed\",    \"attrs\": None,\"vals\": {\"2020-01-01\": 0, \"2021-12-23\": 2, \"2022-03-05\": 300, \"2022-03-9\": 400, \"2022-03-20\": 0},\"desc\": \"\"},\n",
    "    {\"param\": \"ba2121_seed\", \"attrs\": None,\"vals\": {\"2020-01-01\": 0, \"2022-03-10\": 2, \"2022-03-25\": 30, \"2022-05-20\": 0},\"desc\": \"\"},\n",
    "    {\"param\": \"ba45_seed\", \"attrs\": None,\"vals\": {\"2020-01-01\": 0, \"2022-04-15\": 10, \"2022-05-15\": 20, \"2022-06-01\": 0},\"desc\": \"\"},\n",
    "    {\"param\": \"immune_escape\", \"from_attrs\": {\"immun\": \"strong\", \"variant\": [\"none\", \"wildtype\", \"alpha\", \"delta\"]}, \"to_attrs\": {\"variant\": [\"omicron\", \"ba2\", \"ba2121\", \"ba45\"]},  \"vals\": {\"2020-01-01\": 0.1},  \"desc\":  \"\"},\n",
    "    {\"param\": \"immune_escape\", \"from_attrs\": {\"immun\": \"weak\", \"variant\": [\"none\", \"wildtype\", \"alpha\", \"delta\"]}, \"to_attrs\": {\"variant\": [\"omicron\", \"ba2\", \"ba2121\", \"ba45\"]},  \"vals\": {\"2020-01-01\": 0.75},  \"desc\": \"\"},\n",
    "    {\"param\": \"immune_escape\", \"from_attrs\": {\"immun\": \"strong\", \"variant\": [\"omicron\", \"ba2\"]}, \"to_attrs\": {\"variant\": [\"ba2121\"]},  \"vals\": {\"2020-01-01\": 0.03},  \"desc\": \"\"},\n",
    "    {\"param\": \"immune_escape\", \"from_attrs\": {\"immun\": \"weak\", \"variant\": [\"omicron\", \"ba2\"]}, \"to_attrs\": {\"variant\": [\"ba2121\"]},  \"vals\": {\"2020-01-01\": 0.25},  \"desc\": \"\"},\n",
    "    {\"param\": \"immune_escape\", \"from_attrs\": {\"immun\": \"strong\", \"variant\": [\"omicron\", \"ba2\", \"ba2121\"]}, \"to_attrs\": {\"variant\": [\"ba45\"]},  \"vals\": {\"2020-01-01\": 0.06},  \"desc\": \"strong\"},\n",
    "    {\"param\": \"immune_escape\", \"from_attrs\": {\"immun\": \"weak\", \"variant\": [\"omicron\", \"ba2\", \"ba2121\"]}, \"to_attrs\": {\"variant\": [\"ba45\"]},  \"vals\": {\"2020-01-01\": 0.50},  \"desc\": \"weak\"},\n",
    "    {\"param\": \"severe_immunity\", \"attrs\": {\"immun\": [\"strong\", \"weak\"]}, \"vals\": {\"2020-01-01\": 0.975}, \"desc\": \"Vaccinated immunity vs severe disease is very high (among vacc. successes).\"},\n",
    "    {\"param\": \"severe_immunity\", \"attrs\": {\"immun\": [\"strong\", \"weak\"], \"vacc\": \"none\"}, \"vals\": {\"2020-01-01\": 0.5}, \"desc\": \"Prior infection immunity vs severe disease is much weaker than vaccination immunity.\"},\n",
    "    {\"param\": \"severe_immunity\",  \"attrs\": {\"variant\": \"delta\"}, \"mults\": {\"2020-01-01\": 0.9}, \"desc\": \"Deltas reduces immunity to severe disease.\"},\n",
    "    {\"param\": \"severe_immunity\",  \"attrs\": {\"vacc\": [\"shot1\", \"shot2\"], \"variant\": [\"omicron\", \"ba2\", \"ba2121\", \"ba45\"]}, \"mults\": {\"2020-01-01\": 0.7}, \"desc\": \"Omicron(s) reduce immunity to severe disease.\"},\n",
    "    {\"param\": \"severe_immunity\",  \"attrs\": {\"vacc\": \"shot3\", \"variant\": [\"omicron\", \"ba2\", \"ba2121\", \"ba45\"]}, \"mults\": {\"2020-01-01\": 0.9}, \"desc\": \"Omicron(s) reduce immunity to severe disease.\"},\n",
    "]\n",
    "\n",
    "model_args = {\n",
    "    'base_spec_id': 3014,\n",
    "    'params_defs': json.load(open('covid_model/analysis/20220628_july_gov_briefing/qc_params.json')) + seeds,\n",
    "    #'region_defs': 'covid_model/input/region_definitions.json',\n",
    "    #'vacc_proj_params': 'covid_model/input/vacc_proj_params.json',\n",
    "    #'regions': ['co'],\n",
    "    #'mobility_mode': None,\n",
    "    #'start_date': '2020-01-24',\n",
    "    #'end_date': '2022-09-15',\n",
    "    #'max_step_size': 1.0,\n",
    "    #'ode_method': 'RK45',\n",
    "    'hosp_reporting_frac': {\"2020-01-01\": 1, \"2022-03-01\": 0.8, \"2022-03-15\": 0.66, \"2022-03-30\": 0.5}\n",
    "}\n",
    "# create initial solution so we don't have to fit the whole window\n",
    "model = CovidModel(**model_args)\n",
    "model.prep(outdir=outdir)\n",
    "model.solve_seir()\n",
    "# now fit, but only the period of time which is different from the base spec id\n",
    "fit_args = {\n",
    "    'fit_start_date': '2021-11-01',\n",
    "    #'fit_end_date': '2022-05-01',\n",
    "    'tc_min': 0.0,\n",
    "    'tc_max': 0.999,\n",
    "    'tc_window_size': 14,\n",
    "    'tc_window_batch_size': 6,\n",
    "    'tc_batch_increment': 2,\n",
    "    'last_tc_window_min_size': 14,\n",
    "    'outdir': outdir\n",
    "}\n",
    "model = do_single_fit(**fit_args, base_model = model, prep_model=False)"
   ]
  },
  {
   "cell_type": "code",
   "execution_count": null,
   "metadata": {
    "jupyter": {
     "outputs_hidden": false
    },
    "pycharm": {
     "name": "#%%\n"
    }
   },
   "outputs": [],
   "source": [
    "model.solve_seir()\n",
    "soln = model.solution_sum_df(['seir', 'variant'])"
   ]
  },
  {
   "cell_type": "code",
   "execution_count": null,
   "metadata": {
    "pycharm": {
     "name": "#%%\n"
    }
   },
   "outputs": [],
   "source": [
    "start_date = dt.datetime.strptime('2022-01-01', '%Y-%m-%d').date()\n",
    "end_date = dt.datetime.strptime('2022-09-15', '%Y-%m-%d').date()\n",
    "rows = (soln.index.get_level_values(0) >= start_date) & (soln.index.get_level_values(0) <= end_date)\n",
    "cols = [any(colname == seir for seir in ['Ih', 'I', 'A']) for colname in soln.columns.get_level_values(0)]\n",
    "infected_by_variant = soln.loc[rows, cols].groupby('variant', axis=1).sum()"
   ]
  },
  {
   "cell_type": "code",
   "execution_count": null,
   "metadata": {
    "pycharm": {
     "name": "#%%\n"
    }
   },
   "outputs": [],
   "source": [
    "infected_by_variant.plot(figsize=(10, 5))"
   ]
  },
  {
   "cell_type": "code",
   "execution_count": null,
   "metadata": {
    "pycharm": {
     "name": "#%%\n"
    }
   },
   "outputs": [],
   "source": [
    "infected_by_variant.div(infected_by_variant.sum(axis=1), axis=0).plot(figsize=(10, 5))"
   ]
  },
  {
   "cell_type": "code",
   "execution_count": null,
   "metadata": {
    "pycharm": {
     "name": "#%%\n"
    }
   },
   "outputs": [],
   "source": [
    "obs_rows = (obs.index.values >= start_date) & (obs.index.values <= end_date)\n",
    "obs['BA45'] = obs['BA.4'] + obs['BA.5']\n",
    "obs.drop(columns=['BA.4', 'BA.5']).loc[obs_rows,].plot(figsize=(10,5))"
   ]
  },
  {
   "cell_type": "code",
   "execution_count": null,
   "metadata": {
    "pycharm": {
     "name": "#%%\n"
    }
   },
   "outputs": [],
   "source": [
    "infected_by_variant.sum(axis=1).plot(figsize=(10, 5))"
   ]
  },
  {
   "cell_type": "code",
   "execution_count": null,
   "metadata": {},
   "outputs": [],
   "source": [
    "model.modeled_vs_observed_hosps().plot(figsize=(10,5))"
   ]
  },
  {
   "cell_type": "code",
   "execution_count": null,
   "metadata": {},
   "outputs": [],
   "source": [
    "do_create_report(model, outdir)"
   ]
  }
 ],
 "metadata": {
  "kernelspec": {
   "display_name": "Python 3 (ipykernel)",
   "language": "python",
   "name": "python3"
  },
  "language_info": {
   "codemirror_mode": {
    "name": "ipython",
    "version": 3
   },
   "file_extension": ".py",
   "mimetype": "text/x-python",
   "name": "python",
   "nbconvert_exporter": "python",
   "pygments_lexer": "ipython3",
   "version": "3.9.0"
  }
 },
 "nbformat": 4,
 "nbformat_minor": 4
}
