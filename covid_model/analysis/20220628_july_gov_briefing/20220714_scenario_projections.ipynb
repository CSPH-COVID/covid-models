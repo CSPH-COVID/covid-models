{
 "cells": [
  {
   "cell_type": "markdown",
   "metadata": {
    "pycharm": {
     "name": "#%% md\n"
    }
   },
   "source": [
    "### Setup"
   ]
  },
  {
   "cell_type": "code",
   "execution_count": 1,
   "metadata": {
    "pycharm": {
     "name": "#%%\n"
    }
   },
   "outputs": [
    {
     "name": "stdout",
     "output_type": "stream",
     "text": [
      "/Users/emwu9912/PycharmProjects/covid-models\n"
     ]
    }
   ],
   "source": [
    "# this first setup block will pretty much always stay the same\n",
    "\"\"\" Python Standard Library \"\"\"\n",
    "import os\n",
    "import datetime as dt\n",
    "import json\n",
    "import logging\n",
    "\"\"\" Third Party Imports \"\"\"\n",
    "import numpy as np\n",
    "from matplotlib import pyplot as plt\n",
    "%matplotlib inline\n",
    "\"\"\" Local Imports \"\"\"\n",
    "if 'requirements.txt' not in os.listdir(os.getcwd()):\n",
    "    os.chdir(os.path.join('..','..','..'))\n",
    "print(os.getcwd())\n",
    "from covid_model import CovidModel\n",
    "from covid_model.runnable_functions import do_single_fit, do_create_multiple_reports, do_fit_scenarios\n",
    "from covid_model.utils import setup, get_filepath_prefix\n",
    "from covid_model.analysis.charts import plot_transmission_control\n",
    "\n",
    "os.environ['gcp_project'] = 'co-covid-models'\n",
    "os.environ['GOOGLE_APPLICATION_CREDENTIALS'] = \"co-covid-models-credentials.json\""
   ]
  },
  {
   "cell_type": "code",
   "execution_count": 2,
   "metadata": {
    "pycharm": {
     "name": "#%%\n"
    }
   },
   "outputs": [
    {
     "name": "stderr",
     "output_type": "stream",
     "text": [
      "2022/07/14 13:37:24 INFO|============================================================\n"
     ]
    }
   ],
   "source": [
    "# set up the output directory for this Jupyter notebook\n",
    "outdir = setup(\"20220714_scenario_projections.ipynb\")"
   ]
  },
  {
   "cell_type": "markdown",
   "metadata": {
    "pycharm": {
     "name": "#%% md\n"
    }
   },
   "source": [
    "### Fit an initial scenario through Feb 2022"
   ]
  },
  {
   "cell_type": "code",
   "execution_count": 3,
   "metadata": {
    "pycharm": {
     "name": "#%%\n"
    }
   },
   "outputs": [
    {
     "name": "stderr",
     "output_type": "stream",
     "text": [
      "2022/07/14 13:37:31 INFO|-------------------------|{} Retrieving vaccinations data\n",
      "2022/07/14 13:37:33 INFO|-------------------------|{} Constructing vaccination projections\n",
      "2022/07/14 13:37:33 INFO|-------------------------|{} Retrieving hospitalizations data\n",
      "2022/07/14 13:37:35 INFO|----------------------|{} Prepping Model\n",
      "2022/07/14 13:37:35 INFO|-----------------------|{} Prepping Model\n",
      "2022/07/14 13:38:27 INFO|----------------------|{} Model prepped for fitting in 52.10940720799999 seconds.\n",
      "2022/07/14 13:38:27 INFO|----------------------|{} Will fit 25 times\n",
      "2022/07/14 13:39:40 INFO|----------------------|{'fit_batch': '0'}: Transmission control fit 1/25 completed in 73.09434525 seconds: {0: {'co': 0.8773342495490936}, 14: {'co': 0.6853524265751645}, 28: {'co': 0.5380334941579741}, 42: {'co': 0.0005409486889829486}, 56: {'co': 0.6816118768777373}, 70: {'co': 0.89119421452826}}\n",
      "2022/07/14 13:39:40 INFO|-----------------------|{'fit_batch': '0'}: Running forward sim\n",
      "2022/07/14 13:39:55 INFO|----------------------|{'fit_batch': '1'}: Transmission control fit 2/25 completed in 13.590101791999984 seconds: {28: {'co': 0.5313747878505213}, 42: {'co': 9.166775206693499e-14}, 56: {'co': 0.6951181527833278}, 70: {'co': 0.8359699476684002}, 84: {'co': 0.8208851149786678}, 98: {'co': 0.873325469532284}}\n",
      "2022/07/14 13:39:55 INFO|-----------------------|{'fit_batch': '1'}: Running forward sim\n",
      "2022/07/14 13:40:13 INFO|----------------------|{'fit_batch': '2'}: Transmission control fit 3/25 completed in 17.250779541000014 seconds: {56: {'co': 0.7004806299042426}, 70: {'co': 0.8356320023671157}, 84: {'co': 0.8296301235311466}, 98: {'co': 0.8332666948148613}, 112: {'co': 0.8688570312730874}, 126: {'co': 0.9094083839935987}}\n",
      "2022/07/14 13:40:13 INFO|-----------------------|{'fit_batch': '2'}: Running forward sim\n",
      "2022/07/14 13:40:30 INFO|----------------------|{'fit_batch': '3'}: Transmission control fit 4/25 completed in 15.724317624999998 seconds: {84: {'co': 0.8298063033343771}, 98: {'co': 0.8311909839169287}, 112: {'co': 0.8777364069736375}, 126: {'co': 0.8236664964210094}, 140: {'co': 0.7631239702614726}, 154: {'co': 0.661436646728517}}\n",
      "2022/07/14 13:40:30 INFO|-----------------------|{'fit_batch': '3'}: Running forward sim\n",
      "2022/07/14 13:40:45 INFO|----------------------|{'fit_batch': '4'}: Transmission control fit 5/25 completed in 12.858281500000004 seconds: {112: {'co': 0.8778137464237421}, 126: {'co': 0.8241103755501108}, 140: {'co': 0.7609083414439125}, 154: {'co': 0.6707662670543918}, 168: {'co': 0.8437001622869666}, 182: {'co': 0.7841336760789318}}\n",
      "2022/07/14 13:40:45 INFO|-----------------------|{'fit_batch': '4'}: Running forward sim\n",
      "2022/07/14 13:40:58 INFO|----------------------|{'fit_batch': '5'}: Transmission control fit 6/25 completed in 12.555694041999999 seconds: {140: {'co': 0.7606632825445033}, 154: {'co': 0.6711880168053298}, 168: {'co': 0.8432114386702132}, 182: {'co': 0.7802293327806279}, 196: {'co': 0.827575256654507}, 210: {'co': 0.740406473652574}}\n",
      "2022/07/14 13:40:58 INFO|-----------------------|{'fit_batch': '5'}: Running forward sim\n",
      "2022/07/14 13:41:10 INFO|----------------------|{'fit_batch': '6'}: Transmission control fit 7/25 completed in 10.315855709000004 seconds: {168: {'co': 0.8430307682247831}, 182: {'co': 0.7826561801378445}, 196: {'co': 0.8196322785851882}, 210: {'co': 0.7710692258294672}, 224: {'co': 0.7742679870218515}, 238: {'co': 0.7168390965181283}}\n",
      "2022/07/14 13:41:10 INFO|-----------------------|{'fit_batch': '6'}: Running forward sim\n",
      "2022/07/14 13:41:22 INFO|----------------------|{'fit_batch': '7'}: Transmission control fit 8/25 completed in 10.466452624999988 seconds: {196: {'co': 0.8191830543380944}, 210: {'co': 0.7726034259026388}, 224: {'co': 0.7703978071799558}, 238: {'co': 0.7217705025124014}, 252: {'co': 0.7178214077355587}, 266: {'co': 0.6919165679399815}}\n",
      "2022/07/14 13:41:22 INFO|-----------------------|{'fit_batch': '7'}: Running forward sim\n",
      "2022/07/14 13:41:34 INFO|----------------------|{'fit_batch': '8'}: Transmission control fit 9/25 completed in 11.266218333999973 seconds: {224: {'co': 0.7713676622018327}, 238: {'co': 0.7185596188624429}, 252: {'co': 0.7226755372498176}, 266: {'co': 0.6833595770939955}, 280: {'co': 0.7225472380033591}, 294: {'co': 0.7520349828376107}}\n",
      "2022/07/14 13:41:34 INFO|-----------------------|{'fit_batch': '8'}: Running forward sim\n",
      "2022/07/14 13:41:50 INFO|----------------------|{'fit_batch': '9'}: Transmission control fit 10/25 completed in 14.284997207999993 seconds: {252: {'co': 0.7222209085605668}, 266: {'co': 0.6848822730370463}, 280: {'co': 0.7201843923698568}, 294: {'co': 0.7566998890202278}, 308: {'co': 0.8255125214871609}, 322: {'co': 0.7964132895224868}}\n",
      "2022/07/14 13:41:50 INFO|-----------------------|{'fit_batch': '9'}: Running forward sim\n",
      "2022/07/14 13:42:04 INFO|----------------------|{'fit_batch': '10'}: Transmission control fit 11/25 completed in 12.584425667000005 seconds: {280: {'co': 0.7199443312231306}, 294: {'co': 0.7575590209953923}, 308: {'co': 0.8227587046910784}, 322: {'co': 0.8100839493618813}, 336: {'co': 0.7880934522902209}, 350: {'co': 0.772420446855411}}\n",
      "2022/07/14 13:42:04 INFO|-----------------------|{'fit_batch': '10'}: Running forward sim\n",
      "2022/07/14 13:42:16 INFO|----------------------|{'fit_batch': '11'}: Transmission control fit 12/25 completed in 10.873757791000003 seconds: {308: {'co': 0.8226615649781124}, 322: {'co': 0.8113711381077103}, 336: {'co': 0.7829714282657377}, 350: {'co': 0.7933070143480642}, 364: {'co': 0.8127148512530209}, 378: {'co': 0.7100199251558518}}\n",
      "2022/07/14 13:42:16 INFO|-----------------------|{'fit_batch': '11'}: Running forward sim\n",
      "2022/07/14 13:42:30 INFO|----------------------|{'fit_batch': '12'}: Transmission control fit 13/25 completed in 12.54400362499996 seconds: {336: {'co': 0.7825940193755743}, 350: {'co': 0.795247223519153}, 364: {'co': 0.8053462186347387}, 378: {'co': 0.7405076249104141}, 392: {'co': 0.8047458454299202}, 406: {'co': 0.6078142447286281}}\n",
      "2022/07/14 13:42:30 INFO|-----------------------|{'fit_batch': '12'}: Running forward sim\n",
      "2022/07/14 13:42:47 INFO|----------------------|{'fit_batch': '13'}: Transmission control fit 14/25 completed in 15.884009125000034 seconds: {364: {'co': 0.8041919201006386}, 378: {'co': 0.7483502889044356}, 392: {'co': 0.7799098958032447}, 406: {'co': 0.7086877756877177}, 420: {'co': 0.7337118150883164}, 434: {'co': 0.6530524866084549}}\n",
      "2022/07/14 13:42:47 INFO|-----------------------|{'fit_batch': '13'}: Running forward sim\n",
      "2022/07/14 13:43:03 INFO|----------------------|{'fit_batch': '14'}: Transmission control fit 15/25 completed in 13.948177499999986 seconds: {392: {'co': 0.7791433566363017}, 406: {'co': 0.7148558342701395}, 420: {'co': 0.7204086412884572}, 434: {'co': 0.6915431952552856}, 448: {'co': 0.7475564373687921}, 462: {'co': 0.8069554409358174}}\n",
      "2022/07/14 13:43:03 INFO|-----------------------|{'fit_batch': '14'}: Running forward sim\n",
      "2022/07/14 13:43:19 INFO|----------------------|{'fit_batch': '15'}: Transmission control fit 16/25 completed in 14.938247500000045 seconds: {420: {'co': 0.7205012048174684}, 434: {'co': 0.6919691186058033}, 448: {'co': 0.7447197650376791}, 462: {'co': 0.8195592862881311}, 476: {'co': 0.7955259391769132}, 490: {'co': 0.8568879681822427}}\n",
      "2022/07/14 13:43:19 INFO|-----------------------|{'fit_batch': '15'}: Running forward sim\n",
      "2022/07/14 13:43:36 INFO|----------------------|{'fit_batch': '16'}: Transmission control fit 17/25 completed in 15.867921166999963 seconds: {448: {'co': 0.746285204150101}, 462: {'co': 0.8190180132014313}, 476: {'co': 0.8008876854767636}, 490: {'co': 0.8362096983381689}, 504: {'co': 0.8043397549456286}, 518: {'co': 0.7586925347905107}}\n",
      "2022/07/14 13:43:36 INFO|-----------------------|{'fit_batch': '16'}: Running forward sim\n",
      "2022/07/14 13:43:54 INFO|----------------------|{'fit_batch': '17'}: Transmission control fit 18/25 completed in 17.03496712499998 seconds: {476: {'co': 0.7998016297264219}, 490: {'co': 0.8380764483329581}, 504: {'co': 0.7976981646129667}, 518: {'co': 0.7894761683562809}, 532: {'co': 0.7763264716698275}, 546: {'co': 0.7151385880399667}}\n",
      "2022/07/14 13:43:54 INFO|-----------------------|{'fit_batch': '17'}: Running forward sim\n"
     ]
    },
    {
     "name": "stderr",
     "output_type": "stream",
     "text": [
      "2022/07/14 13:44:08 INFO|----------------------|{'fit_batch': '18'}: Transmission control fit 19/25 completed in 11.798088624999991 seconds: {504: {'co': 0.7970051383302796}, 518: {'co': 0.7916051680097907}, 532: {'co': 0.7704140650702391}, 546: {'co': 0.7250059903394989}, 560: {'co': 0.7573655134959484}, 574: {'co': 0.7526705140844518}}\n",
      "2022/07/14 13:44:08 INFO|-----------------------|{'fit_batch': '18'}: Running forward sim\n",
      "2022/07/14 13:44:21 INFO|----------------------|{'fit_batch': '19'}: Transmission control fit 20/25 completed in 12.403755999999987 seconds: {532: {'co': 0.770261719662157}, 546: {'co': 0.7266696538917392}, 560: {'co': 0.7537877960700033}, 574: {'co': 0.7628489955210572}, 588: {'co': 0.7989203481573962}, 602: {'co': 0.7800539538429004}}\n",
      "2022/07/14 13:44:21 INFO|-----------------------|{'fit_batch': '19'}: Running forward sim\n",
      "2022/07/14 13:44:32 INFO|----------------------|{'fit_batch': '20'}: Transmission control fit 21/25 completed in 9.016813333000016 seconds: {560: {'co': 0.7539924617449456}, 574: {'co': 0.7621935956668583}, 588: {'co': 0.8000416896847781}, 602: {'co': 0.7792273880452534}, 616: {'co': 0.7335298717884274}, 630: {'co': 0.7562133909315176}}\n",
      "2022/07/14 13:44:32 INFO|-----------------------|{'fit_batch': '20'}: Running forward sim\n",
      "2022/07/14 13:44:41 INFO|----------------------|{'fit_batch': '21'}: Transmission control fit 22/25 completed in 7.711659291999979 seconds: {588: {'co': 0.800330940561301}, 602: {'co': 0.7783355132914611}, 616: {'co': 0.7357482206214501}, 630: {'co': 0.7516873286776594}, 644: {'co': 0.7333781857799748}, 658: {'co': 0.7630799972226937}}\n",
      "2022/07/14 13:44:41 INFO|-----------------------|{'fit_batch': '21'}: Running forward sim\n",
      "2022/07/14 13:45:15 INFO|----------------------|{'fit_batch': '22'}: Transmission control fit 23/25 completed in 32.61902858299999 seconds: {616: {'co': 0.7356273101492494}, 630: {'co': 0.7519716130085768}, 644: {'co': 0.7325856642487303}, 658: {'co': 0.7678518949841355}, 672: {'co': 0.8050942612375758}, 686: {'co': 0.9211350768921596}}\n",
      "2022/07/14 13:45:15 INFO|-----------------------|{'fit_batch': '22'}: Running forward sim\n",
      "2022/07/14 13:45:33 INFO|----------------------|{'fit_batch': '23'}: Transmission control fit 24/25 completed in 17.144346250000012 seconds: {644: {'co': 0.7342969080678843}, 658: {'co': 0.7609891159761599}, 672: {'co': 0.8284891526431284}, 686: {'co': 0.8605835551008295}, 700: {'co': 0.7763282253542113}, 714: {'co': 0.8040352867590377}}\n",
      "2022/07/14 13:45:33 INFO|-----------------------|{'fit_batch': '23'}: Running forward sim\n",
      "2022/07/14 13:45:56 INFO|----------------------|{'fit_batch': '24'}: Transmission control fit 25/25 completed in 21.50781024999992 seconds: {672: {'co': 0.8278167880520491}, 686: {'co': 0.861623533731199}, 700: {'co': 0.7762133299890513}, 714: {'co': 0.8042093154856265}, 728: {'co': 0.8040475627243601}, 742: {'co': 0.7974712678039138}}\n",
      "2022/07/14 13:45:56 INFO|-----------------------|{'fit_batch': '24'}: Running forward sim\n",
      "2022/07/14 13:45:57 INFO|----------------------|{'fit_batch': '24', 'run_type': 'fit'}: fitted TC: {0: {'co': 0.8773342495490936}, 14: {'co': 0.6853524265751645}, 28: {'co': 0.5313747878505213}, 42: {'co': 9.166775206693499e-14}, 56: {'co': 0.7004806299042426}, 70: {'co': 0.8356320023671157}, 84: {'co': 0.8298063033343771}, 98: {'co': 0.8311909839169287}, 112: {'co': 0.8778137464237421}, 126: {'co': 0.8241103755501108}, 140: {'co': 0.7606632825445033}, 154: {'co': 0.6711880168053298}, 168: {'co': 0.8430307682247831}, 182: {'co': 0.7826561801378445}, 196: {'co': 0.8191830543380944}, 210: {'co': 0.7726034259026388}, 224: {'co': 0.7713676622018327}, 238: {'co': 0.7185596188624429}, 252: {'co': 0.7222209085605668}, 266: {'co': 0.6848822730370463}, 280: {'co': 0.7199443312231306}, 294: {'co': 0.7575590209953923}, 308: {'co': 0.8226615649781124}, 322: {'co': 0.8113711381077103}, 336: {'co': 0.7825940193755743}, 350: {'co': 0.795247223519153}, 364: {'co': 0.8041919201006386}, 378: {'co': 0.7483502889044356}, 392: {'co': 0.7791433566363017}, 406: {'co': 0.7148558342701395}, 420: {'co': 0.7205012048174684}, 434: {'co': 0.6919691186058033}, 448: {'co': 0.746285204150101}, 462: {'co': 0.8190180132014313}, 476: {'co': 0.7998016297264219}, 490: {'co': 0.8380764483329581}, 504: {'co': 0.7970051383302796}, 518: {'co': 0.7916051680097907}, 532: {'co': 0.770261719662157}, 546: {'co': 0.7266696538917392}, 560: {'co': 0.7539924617449456}, 574: {'co': 0.7621935956668583}, 588: {'co': 0.800330940561301}, 602: {'co': 0.7783355132914611}, 616: {'co': 0.7356273101492494}, 630: {'co': 0.7519716130085768}, 644: {'co': 0.7342969080678843}, 658: {'co': 0.7609891159761599}, 672: {'co': 0.8278167880520491}, 686: {'co': 0.861623533731199}, 700: {'co': 0.7762133299890513}, 714: {'co': 0.8042093154856265}, 728: {'co': 0.8040475627243601}, 742: {'co': 0.797471282705075}}\n",
      "2022/07/14 13:45:57 INFO|-----------------------|{'fit_batch': '24', 'run_type': 'fit'}: Running forward sim\n",
      "2022/07/14 13:45:59 INFO|----------------------|{'fit_batch': '24', 'run_type': 'fit'}: Uploading final results\n",
      "2022/07/14 13:46:08 INFO|----------------------|{'fit_batch': '24', 'run_type': 'fit'}: spec_id: 3214\n"
     ]
    }
   ],
   "source": [
    "# designate the arguments for how the model will behave\n",
    "model_args = {\n",
    "    'params_defs': 'covid_model/analysis/20220628_july_gov_briefing/scenario_params.json',\n",
    "    'region_defs': 'covid_model/input/region_definitions.json',\n",
    "    'vacc_proj_params': 'covid_model/analysis/20220628_july_gov_briefing/vacc_proj_params.json',\n",
    "    'start_date': '2020-01-24',\n",
    "    'end_date': '2022-09-18',\n",
    "}\n",
    "\n",
    "# this is how the fit will behave\n",
    "# place the outdir argument here to tell the model fit where to go\n",
    "fit_args = {'outdir': outdir,\n",
    "            'fit_end_date': '2022-02-28'\n",
    "}\n",
    "\n",
    "# because all the scenarios are the same \n",
    "model = do_single_fit(**fit_args, **model_args)"
   ]
  },
  {
   "cell_type": "markdown",
   "metadata": {
    "pycharm": {
     "name": "#%% md\n"
    }
   },
   "source": [
    "### Create and run scenarios from Feb 2022 to present"
   ]
  },
  {
   "cell_type": "code",
   "execution_count": null,
   "metadata": {
    "pycharm": {
     "name": "#%%\n"
    }
   },
   "outputs": [],
   "source": [
    "multiprocess = 6\n",
    "\n",
    "scenario_params = json.load(open(\"covid_model/analysis/20220628_july_gov_briefing/scenario_params.json\"))\n",
    "\n",
    "model_args = {\n",
    "    'base_spec_id': 3214 #model.spec_id # use the spec id that was output from the model fit\n",
    "}\n",
    "model_fit_args = {\n",
    "    'outdir': outdir,\n",
    "    'fit_start_date': '2022-03-01', # set the start date for the earliest point at which the scenarios start to differ from one another\n",
    "    'pre_solve_model': True # force the model to establish initial conditions so the fit can start on the fit start date\n",
    "}\n",
    "\n",
    "# compute vacc effectiveness for < 5 (this is a multiplier for the baseline vaccine effectiveness for 0-19)\n",
    "vacc_eff_lt5 = 0.5\n",
    "\n",
    "# Create different scenarios to model\n",
    "scenario_model_args = []\n",
    "for beta_mult in [1.0, 0.95, 1.05]:\n",
    "    for hosp_frac in [0.5, 0.7, 0.9]: # 50%, 70% , or 90% for-COVID\n",
    "        for school_contact_increase in [1.0, 1.1, 1.2]:\n",
    "            for immune_escape_mult in [1.0, 0.9, 1.1]:\n",
    "                hrf = {\"2020-01-01\": 1, \"2022-03-01\": (0.66 + 0.34*hosp_frac), \"2022-03-15\": (0.34 + 0.66*hosp_frac), \"2022-03-30\": hosp_frac}\n",
    "                beta_param_adjustment = [{\"param\": \"betta\", \"attrs\": {\"variant\": \"ba45\"}, \"mults\": {\"2020-01-01\": beta_mult}, \"desc\": \"sensitivity analysis for beta\"}]\n",
    "                school_contact = [{\"param\": \"betta\", \"attrs\": {'age': '0-19'}, \"mults\": {\"2020-01-01\": 1, \"2022-08-15\": school_contact_increase},\"desc\": \"After August 15th, beta increases by a factor of the school contact increase\"}]\n",
    "                lt5_vacc_adjust = [{\"param\": \"immunity\", \"attrs\": {'age': '0-19', 'vacc': 'shot1'}, \"mults\": {\"2020-01-01\": 1, \"2022-06-20\": 0.99 + 0.01*vacc_eff_lt5, \"2022-06-30\": 0.98 + 0.02*vacc_eff_lt5, \"2022-07-10\": 0.97 + 0.03*vacc_eff_lt5}}]\n",
    "                immune_mult = [{\"param\": \"immune_escape\", \"from_attrs\":{\"variant\": [\"omicron\", \"ba2\", \"ba2121\"]}, \"to_attrs\": {\"variant\": [\"ba45\"]}, \"mults\": {\"2020-01-01\": immune_escape_mult},  \"desc\": \"sensitivity analysis for immune escape\"}]\n",
    "                scenario_model_args.append({'params_defs': scenario_params + beta_param_adjustment + school_contact + lt5_vacc_adjust + immune_mult,\n",
    "                                            'hosp_reporting_frac': hrf,\n",
    "                                            'tags': {'hosp_frac': hosp_frac, 'school_contact_increase': school_contact_increase, 'immune_escape_mult': immune_escape_mult}})\n",
    "            \n",
    "            "
   ]
  },
  {
   "cell_type": "code",
   "execution_count": null,
   "metadata": {
    "pycharm": {
     "name": "#%%\n"
    }
   },
   "outputs": [],
   "source": [
    "# run the scenarios\n",
    "models = do_fit_scenarios(base_model_args=model_args, scenario_args_list=scenario_model_args, fit_args=model_fit_args, multiprocess=multiprocess)"
   ]
  },
  {
   "cell_type": "markdown",
   "metadata": {
    "pycharm": {
     "name": "#%% md\n"
    }
   },
   "source": [
    "### Run the report for each fit model"
   ]
  },
  {
   "cell_type": "code",
   "execution_count": null,
   "metadata": {
    "pycharm": {
     "name": "#%%\n"
    }
   },
   "outputs": [],
   "source": [
    "do_create_multiple_reports(models, multiprocess=multiprocess, outdir=outdir, prep_model=True, solve_model=True, immun_variants=['ba2121', 'ba45'], from_date='2022-01-01')"
   ]
  },
  {
   "cell_type": "code",
   "execution_count": null,
   "metadata": {
    "pycharm": {
     "name": "#%%\n"
    }
   },
   "outputs": [],
   "source": [
    "logging.info('Projecting')\n",
    "for model in models:\n",
    "    logging.info('')\n",
    "    #model.prep()  # don't think we need to prep anymore.\n",
    "    model.solve_seir()\n",
    "\n",
    "    model.solution_sum_df(['seir', 'variant', 'immun']).unstack().to_csv(get_filepath_prefix(outdir, tags=model.tags) + 'states_seir_variant_immun_total_all_at_once_projection.csv')\n",
    "    model.solution_sum_df().unstack().to_csv(get_filepath_prefix(outdir, tags=model.tags) + 'states_full_projection.csv')\n",
    "\n",
    "    logging.info(f'{str(model.tags)}: Running forward sim')\n",
    "    fig = plt.figure(figsize=(10, 10), dpi=300)\n",
    "    ax = fig.add_subplot(211)\n",
    "    hosps_df = model.modeled_vs_observed_hosps().reset_index('region').drop(columns='region')\n",
    "    hosps_df.plot(ax=ax)\n",
    "    ax.set_xlim(dt.datetime.strptime('2022-01-01', \"%Y-%m-%d\").date(), dt.datetime.strptime('2022-09-15', \"%Y-%m-%d\").date())\n",
    "    ax = fig.add_subplot(212)\n",
    "    plot_transmission_control(model, ax=ax)\n",
    "    ax.set_xlim(dt.datetime.strptime('2022-01-01', \"%Y-%m-%d\").date(), dt.datetime.strptime('2022-09-15', \"%Y-%m-%d\").date())\n",
    "    plt.savefig(get_filepath_prefix(outdir, tags=model.tags) + 'model_forecast.png')\n",
    "    plt.close()\n",
    "    hosps_df.to_csv(get_filepath_prefix(outdir, tags=model.tags) + '_model_forecast.csv')\n",
    "    json.dump(model.tc, open(get_filepath_prefix(outdir, tags=model.tags) + 'model_forecast_tc.json', 'w'))\n",
    "\n",
    "logging.info('Running reports')"
   ]
  }
 ],
 "metadata": {
  "kernelspec": {
   "display_name": "Python 3 (ipykernel)",
   "language": "python",
   "name": "python3"
  },
  "language_info": {
   "codemirror_mode": {
    "name": "ipython",
    "version": 3
   },
   "file_extension": ".py",
   "mimetype": "text/x-python",
   "name": "python",
   "nbconvert_exporter": "python",
   "pygments_lexer": "ipython3",
   "version": "3.9.13"
  }
 },
 "nbformat": 4,
 "nbformat_minor": 4
}
