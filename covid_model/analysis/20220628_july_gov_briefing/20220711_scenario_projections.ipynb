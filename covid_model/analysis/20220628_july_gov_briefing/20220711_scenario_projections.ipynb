{
 "cells": [
  {
   "cell_type": "markdown",
   "metadata": {
    "pycharm": {
     "name": "#%% md\n"
    }
   },
   "source": [
    "### Setup"
   ]
  },
  {
   "cell_type": "code",
   "execution_count": 1,
   "metadata": {
    "pycharm": {
     "name": "#%%\n"
    }
   },
   "outputs": [
    {
     "name": "stdout",
     "output_type": "stream",
     "text": [
      "/Users/emwu9912/PycharmProjects/covid-models\n"
     ]
    }
   ],
   "source": [
    "# this first setup block will pretty much always stay the same\n",
    "\"\"\" Python Standard Library \"\"\"\n",
    "import os\n",
    "import datetime as dt\n",
    "import json\n",
    "import logging\n",
    "\"\"\" Third Party Imports \"\"\"\n",
    "import numpy as np\n",
    "from matplotlib import pyplot as plt\n",
    "%matplotlib inline\n",
    "\"\"\" Local Imports \"\"\"\n",
    "if 'requirements.txt' not in os.listdir(os.getcwd()):\n",
    "    os.chdir(os.path.join('..','..','..'))\n",
    "print(os.getcwd())\n",
    "from covid_model import CovidModel\n",
    "from covid_model.runnable_functions import do_single_fit, do_create_report, do_fit_scenarios\n",
    "from covid_model.utils import setup, get_filepath_prefix\n",
    "from covid_model.analysis.charts import plot_transmission_control\n",
    "\n",
    "os.environ['gcp_project'] = 'co-covid-models'\n",
    "os.environ['GOOGLE_APPLICATION_CREDENTIALS'] = \"co-covid-models-credentials.json\""
   ]
  },
  {
   "cell_type": "code",
   "execution_count": 2,
   "metadata": {
    "pycharm": {
     "name": "#%%\n"
    }
   },
   "outputs": [
    {
     "name": "stderr",
     "output_type": "stream",
     "text": [
      "2022/07/12 15:13:29 INFO|============================================================\n"
     ]
    }
   ],
   "source": [
    "# set up the output directory for this Jupyter notebook\n",
    "outdir = setup(\"20220711_scenario_projections.ipynb\")"
   ]
  },
  {
   "cell_type": "markdown",
   "metadata": {
    "pycharm": {
     "name": "#%% md\n"
    }
   },
   "source": [
    "### Fit an initial scenario through Feb 2022"
   ]
  },
  {
   "cell_type": "code",
   "execution_count": 53,
   "metadata": {
    "pycharm": {
     "name": "#%%\n"
    }
   },
   "outputs": [
    {
     "name": "stderr",
     "output_type": "stream",
     "text": [
      "2022/07/12 16:58:47 INFO|-------------------------|{} Retrieving vaccinations data\n",
      "2022/07/12 16:58:53 INFO|-------------------------|{} Constructing vaccination projections\n",
      "2022/07/12 16:58:53 INFO|-------------------------|{} Retrieving hospitalizations data\n",
      "2022/07/12 16:58:55 INFO|----------------------|{} Prepping Model\n",
      "2022/07/12 16:58:55 INFO|-----------------------|{} Prepping Model\n",
      "2022/07/12 16:59:56 INFO|----------------------|{} Model prepped for fitting in 61.11455337500047 seconds.\n",
      "2022/07/12 16:59:56 INFO|----------------------|{} Will fit 25 times\n",
      "2022/07/12 17:02:47 INFO|----------------------|{'fit_batch': '0'}: Transmission control fit 1/25 completed in 170.85787866700048 seconds: {0: {'co': 0.8773342495490936}, 14: {'co': 0.6853524265751645}, 28: {'co': 0.5380334941579741}, 42: {'co': 0.0005409486889829486}, 56: {'co': 0.6816118768777373}, 70: {'co': 0.89119421452826}}\n",
      "2022/07/12 17:02:47 INFO|-----------------------|{'fit_batch': '0'}: Running forward sim\n",
      "2022/07/12 17:03:30 INFO|----------------------|{'fit_batch': '1'}: Transmission control fit 2/25 completed in 42.06573066599958 seconds: {28: {'co': 0.5313747878505213}, 42: {'co': 9.166775206693499e-14}, 56: {'co': 0.6951181527833278}, 70: {'co': 0.8359699476684002}, 84: {'co': 0.8208851149786678}, 98: {'co': 0.873325469532284}}\n",
      "2022/07/12 17:03:30 INFO|-----------------------|{'fit_batch': '1'}: Running forward sim\n",
      "2022/07/12 17:04:02 INFO|----------------------|{'fit_batch': '2'}: Transmission control fit 3/25 completed in 30.823199415999625 seconds: {56: {'co': 0.7004806299042426}, 70: {'co': 0.8356320023671157}, 84: {'co': 0.8296301235311466}, 98: {'co': 0.8332666948148613}, 112: {'co': 0.8688570312730874}, 126: {'co': 0.9094083839935987}}\n",
      "2022/07/12 17:04:02 INFO|-----------------------|{'fit_batch': '2'}: Running forward sim\n",
      "2022/07/12 17:04:17 INFO|----------------------|{'fit_batch': '3'}: Transmission control fit 4/25 completed in 13.098786791999373 seconds: {84: {'co': 0.8298063033343771}, 98: {'co': 0.8311909839169287}, 112: {'co': 0.8777364069736375}, 126: {'co': 0.8236664964210094}, 140: {'co': 0.7631239702614726}, 154: {'co': 0.661436646728517}}\n",
      "2022/07/12 17:04:17 INFO|-----------------------|{'fit_batch': '3'}: Running forward sim\n",
      "2022/07/12 17:04:31 INFO|----------------------|{'fit_batch': '4'}: Transmission control fit 5/25 completed in 12.27985095799977 seconds: {112: {'co': 0.8778137464237421}, 126: {'co': 0.8241103755501108}, 140: {'co': 0.7609083414439125}, 154: {'co': 0.6707662670543918}, 168: {'co': 0.8437001622869666}, 182: {'co': 0.7841336760789318}}\n",
      "2022/07/12 17:04:31 INFO|-----------------------|{'fit_batch': '4'}: Running forward sim\n",
      "2022/07/12 17:04:43 INFO|----------------------|{'fit_batch': '5'}: Transmission control fit 6/25 completed in 11.041597083999477 seconds: {140: {'co': 0.7606632825445033}, 154: {'co': 0.6711880168053298}, 168: {'co': 0.8432114386702132}, 182: {'co': 0.7802293327806279}, 196: {'co': 0.827575256654507}, 210: {'co': 0.740406473652574}}\n",
      "2022/07/12 17:04:43 INFO|-----------------------|{'fit_batch': '5'}: Running forward sim\n",
      "2022/07/12 17:04:54 INFO|----------------------|{'fit_batch': '6'}: Transmission control fit 7/25 completed in 9.581242749999547 seconds: {168: {'co': 0.8430307682247831}, 182: {'co': 0.7826561801378445}, 196: {'co': 0.8196322785851882}, 210: {'co': 0.7710692258294672}, 224: {'co': 0.7742679870218515}, 238: {'co': 0.7168390965181283}}\n",
      "2022/07/12 17:04:54 INFO|-----------------------|{'fit_batch': '6'}: Running forward sim\n",
      "2022/07/12 17:05:06 INFO|----------------------|{'fit_batch': '7'}: Transmission control fit 8/25 completed in 11.064987249999831 seconds: {196: {'co': 0.8191830543380944}, 210: {'co': 0.7726034259026388}, 224: {'co': 0.7703978071799558}, 238: {'co': 0.7217705025124014}, 252: {'co': 0.7178214077355587}, 266: {'co': 0.6919165679399815}}\n",
      "2022/07/12 17:05:06 INFO|-----------------------|{'fit_batch': '7'}: Running forward sim\n",
      "2022/07/12 17:05:18 INFO|----------------------|{'fit_batch': '8'}: Transmission control fit 9/25 completed in 10.28743362500063 seconds: {224: {'co': 0.7713676622018327}, 238: {'co': 0.7185596188624429}, 252: {'co': 0.7226755372498176}, 266: {'co': 0.6833595770939955}, 280: {'co': 0.7225472380033591}, 294: {'co': 0.7520349828376107}}\n",
      "2022/07/12 17:05:18 INFO|-----------------------|{'fit_batch': '8'}: Running forward sim\n",
      "2022/07/12 17:05:31 INFO|----------------------|{'fit_batch': '9'}: Transmission control fit 10/25 completed in 11.517502958000478 seconds: {252: {'co': 0.7222209085605668}, 266: {'co': 0.6848822730370463}, 280: {'co': 0.7201843923698568}, 294: {'co': 0.7566998890202278}, 308: {'co': 0.8255125214871609}, 322: {'co': 0.7964132895224868}}\n",
      "2022/07/12 17:05:31 INFO|-----------------------|{'fit_batch': '9'}: Running forward sim\n",
      "2022/07/12 17:05:45 INFO|----------------------|{'fit_batch': '10'}: Transmission control fit 11/25 completed in 11.687417500000265 seconds: {280: {'co': 0.7199443314220068}, 294: {'co': 0.7575590203443054}, 308: {'co': 0.8227587064286369}, 322: {'co': 0.8100839430076012}, 336: {'co': 0.7880935098701695}, 350: {'co': 0.7724205558196104}}\n",
      "2022/07/12 17:05:45 INFO|-----------------------|{'fit_batch': '10'}: Running forward sim\n",
      "2022/07/12 17:05:58 INFO|----------------------|{'fit_batch': '11'}: Transmission control fit 12/25 completed in 11.352590165999572 seconds: {308: {'co': 0.8226615660666622}, 322: {'co': 0.8113711289966504}, 336: {'co': 0.7829714380185272}, 350: {'co': 0.793307168540735}, 364: {'co': 0.8127150507860983}, 378: {'co': 0.7100209994795584}}\n",
      "2022/07/12 17:05:58 INFO|-----------------------|{'fit_batch': '11'}: Running forward sim\n",
      "2022/07/12 17:06:10 INFO|----------------------|{'fit_batch': '12'}: Transmission control fit 13/25 completed in 10.728372167000089 seconds: {336: {'co': 0.7825941260236206}, 350: {'co': 0.7952468066656722}, 364: {'co': 0.8053470786399659}, 378: {'co': 0.7405083769677828}, 392: {'co': 0.8047471917928058}, 406: {'co': 0.6078192191255821}}\n",
      "2022/07/12 17:06:10 INFO|-----------------------|{'fit_batch': '12'}: Running forward sim\n",
      "2022/07/12 17:06:25 INFO|----------------------|{'fit_batch': '13'}: Transmission control fit 14/25 completed in 13.856934333999561 seconds: {364: {'co': 0.80419269150366}, 378: {'co': 0.7483510659159038}, 392: {'co': 0.7799113291384935}, 406: {'co': 0.7086901361222425}, 420: {'co': 0.733714735520434}, 434: {'co': 0.6530557511741064}}\n",
      "2022/07/12 17:06:25 INFO|-----------------------|{'fit_batch': '13'}: Running forward sim\n",
      "2022/07/12 17:06:39 INFO|----------------------|{'fit_batch': '14'}: Transmission control fit 15/25 completed in 12.301635540999996 seconds: {392: {'co': 0.7791447515902356}, 406: {'co': 0.7148582496471235}, 420: {'co': 0.7204113931854715}, 434: {'co': 0.6915465282539056}, 448: {'co': 0.7475606853929342}, 462: {'co': 0.8069588533720168}}\n",
      "2022/07/12 17:06:39 INFO|-----------------------|{'fit_batch': '14'}: Running forward sim\n",
      "2022/07/12 17:06:54 INFO|----------------------|{'fit_batch': '15'}: Transmission control fit 16/25 completed in 14.009534042000269 seconds: {420: {'co': 0.7205039240333464}, 434: {'co': 0.6919724509545504}, 448: {'co': 0.7447241128175887}, 462: {'co': 0.8195624767789751}, 476: {'co': 0.7955296266521942}, 490: {'co': 0.8568915230755325}}\n",
      "2022/07/12 17:06:54 INFO|-----------------------|{'fit_batch': '15'}: Running forward sim\n",
      "2022/07/12 17:07:07 INFO|----------------------|{'fit_batch': '16'}: Transmission control fit 17/25 completed in 11.97827283300012 seconds: {448: {'co': 0.7462895015476352}, 462: {'co': 0.8190212102246155}, 476: {'co': 0.8008912947314217}, 490: {'co': 0.8362136847509212}, 504: {'co': 0.8043447423557704}, 518: {'co': 0.7586988986016203}}\n",
      "2022/07/12 17:07:07 INFO|-----------------------|{'fit_batch': '16'}: Running forward sim\n",
      "2022/07/12 17:07:19 INFO|----------------------|{'fit_batch': '17'}: Transmission control fit 18/25 completed in 9.849652750000132 seconds: {476: {'co': 0.7998052635298613}, 490: {'co': 0.8380803381126641}, 504: {'co': 0.7977032406864611}, 518: {'co': 0.7894817052311667}, 532: {'co': 0.7763324216653164}, 546: {'co': 0.715146244318644}}\n",
      "2022/07/12 17:07:19 INFO|-----------------------|{'fit_batch': '17'}: Running forward sim\n"
     ]
    },
    {
     "name": "stderr",
     "output_type": "stream",
     "text": [
      "2022/07/12 17:07:31 INFO|----------------------|{'fit_batch': '18'}: Transmission control fit 19/25 completed in 10.59446970800036 seconds: {504: {'co': 0.797010200074116}, 518: {'co': 0.7916107291516231}, 532: {'co': 0.7704198734916661}, 546: {'co': 0.7250135850840854}, 560: {'co': 0.7573723232428697}, 574: {'co': 0.7526775409964072}}\n",
      "2022/07/12 17:07:31 INFO|-----------------------|{'fit_batch': '18'}: Running forward sim\n",
      "2022/07/12 17:07:43 INFO|----------------------|{'fit_batch': '19'}: Transmission control fit 20/25 completed in 11.361709583000447 seconds: {532: {'co': 0.770267911901516}, 546: {'co': 0.7266770720143305}, 560: {'co': 0.753794663735644}, 574: {'co': 0.7628554945270086}, 588: {'co': 0.798926122154828}, 602: {'co': 0.7800606093975648}}\n",
      "2022/07/12 17:07:43 INFO|-----------------------|{'fit_batch': '19'}: Running forward sim\n",
      "2022/07/12 17:07:52 INFO|----------------------|{'fit_batch': '20'}: Transmission control fit 21/25 completed in 7.747266875000605 seconds: {560: {'co': 0.7539992976204138}, 574: {'co': 0.7622004869750546}, 588: {'co': 0.8000475879887982}, 602: {'co': 0.7792335880823169}, 616: {'co': 0.7335378932782127}, 630: {'co': 0.7562209033132767}}\n",
      "2022/07/12 17:07:52 INFO|-----------------------|{'fit_batch': '20'}: Running forward sim\n",
      "2022/07/12 17:08:01 INFO|----------------------|{'fit_batch': '21'}: Transmission control fit 22/25 completed in 7.679656874999637 seconds: {588: {'co': 0.8003368518902021}, 602: {'co': 0.7783419611601193}, 616: {'co': 0.7357562489840377}, 630: {'co': 0.7516947332706422}, 644: {'co': 0.7333872078727792}, 658: {'co': 0.7630889452087727}}\n",
      "2022/07/12 17:08:01 INFO|-----------------------|{'fit_batch': '21'}: Running forward sim\n",
      "2022/07/12 17:08:21 INFO|----------------------|{'fit_batch': '22'}: Transmission control fit 23/25 completed in 18.30248762500014 seconds: {616: {'co': 0.7356353812695311}, 630: {'co': 0.7519789344044325}, 644: {'co': 0.7325948709793992}, 658: {'co': 0.7678602327569529}, 672: {'co': 0.8051006074906938}, 686: {'co': 0.9211385200193748}}\n",
      "2022/07/12 17:08:21 INFO|-----------------------|{'fit_batch': '22'}: Running forward sim\n",
      "2022/07/12 17:08:35 INFO|----------------------|{'fit_batch': '23'}: Transmission control fit 24/25 completed in 12.328200625000136 seconds: {644: {'co': 0.734306064288169}, 658: {'co': 0.7609977070526655}, 672: {'co': 0.8284947396796938}, 686: {'co': 0.8605889548225936}, 700: {'co': 0.7763362120183727}, 714: {'co': 0.8040435159144593}}\n",
      "2022/07/12 17:08:35 INFO|-----------------------|{'fit_batch': '23'}: Running forward sim\n",
      "2022/07/12 17:08:52 INFO|----------------------|{'fit_batch': '24'}: Transmission control fit 25/25 completed in 16.169407874999706 seconds: {672: {'co': 0.8278223412839906}, 686: {'co': 0.8616291387011475}, 700: {'co': 0.7762211807870245}, 714: {'co': 0.8042177501243756}, 728: {'co': 0.8040588096467856}, 742: {'co': 0.7974848885465261}}\n",
      "2022/07/12 17:08:52 INFO|-----------------------|{'fit_batch': '24'}: Running forward sim\n",
      "2022/07/12 17:08:54 INFO|----------------------|{'fit_batch': '24', 'run_type': 'fit'}: fitted TC: {0: {'co': 0.8773342495490936}, 14: {'co': 0.6853524265751645}, 28: {'co': 0.5313747878505213}, 42: {'co': 9.166775206693499e-14}, 56: {'co': 0.7004806299042426}, 70: {'co': 0.8356320023671157}, 84: {'co': 0.8298063033343771}, 98: {'co': 0.8311909839169287}, 112: {'co': 0.8778137464237421}, 126: {'co': 0.8241103755501108}, 140: {'co': 0.7606632825445033}, 154: {'co': 0.6711880168053298}, 168: {'co': 0.8430307682247831}, 182: {'co': 0.7826561801378445}, 196: {'co': 0.8191830543380944}, 210: {'co': 0.7726034259026388}, 224: {'co': 0.7713676622018327}, 238: {'co': 0.7185596188624429}, 252: {'co': 0.7222209085605668}, 266: {'co': 0.6848822730370463}, 280: {'co': 0.7199443314220068}, 294: {'co': 0.7575590203443054}, 308: {'co': 0.8226615660666622}, 322: {'co': 0.8113711289966504}, 336: {'co': 0.7825941260236206}, 350: {'co': 0.7952468066656722}, 364: {'co': 0.80419269150366}, 378: {'co': 0.7483510659159038}, 392: {'co': 0.7791447515902356}, 406: {'co': 0.7148582496471235}, 420: {'co': 0.7205039240333464}, 434: {'co': 0.6919724509545504}, 448: {'co': 0.7462895015476352}, 462: {'co': 0.8190212102246155}, 476: {'co': 0.7998052635298613}, 490: {'co': 0.8380803381126641}, 504: {'co': 0.797010200074116}, 518: {'co': 0.7916107291516231}, 532: {'co': 0.770267911901516}, 546: {'co': 0.7266770720143305}, 560: {'co': 0.7539992976204138}, 574: {'co': 0.7622004869750546}, 588: {'co': 0.8003368518902021}, 602: {'co': 0.7783419611601193}, 616: {'co': 0.7356353812695311}, 630: {'co': 0.7519789344044325}, 644: {'co': 0.734306064288169}, 658: {'co': 0.7609977070526655}, 672: {'co': 0.8278223412839906}, 686: {'co': 0.8616291387011475}, 700: {'co': 0.7762211807870245}, 714: {'co': 0.8042177501243756}, 728: {'co': 0.8040588096467856}, 742: {'co': 0.7974849034476873}}\n",
      "2022/07/12 17:08:54 INFO|-----------------------|{'fit_batch': '24', 'run_type': 'fit'}: Running forward sim\n",
      "2022/07/12 17:08:55 INFO|----------------------|{'fit_batch': '24', 'run_type': 'fit'}: Uploading final results\n",
      "2022/07/12 17:09:00 INFO|----------------------|{'fit_batch': '24', 'run_type': 'fit'}: spec_id: 3107\n"
     ]
    }
   ],
   "source": [
    "# designate the arguments for how the model will behave\n",
    "model_args = {\n",
    "    'params_defs': 'covid_model/analysis/20220628_july_gov_briefing/scenario_params.json',\n",
    "    'region_defs': 'covid_model/input/region_definitions.json',\n",
    "    'vacc_proj_params': 'covid_model/analysis/20220628_july_gov_briefing/vacc_proj_params.json',\n",
    "    'start_date': '2020-01-24',\n",
    "    'end_date': '2022-09-18',\n",
    "}\n",
    "\n",
    "# this is how the fit will behave\n",
    "# place the outdir argument here to tell the model fit where to go\n",
    "fit_args = {'outdir': outdir,\n",
    "            'fit_end_date': '2022-02-28'\n",
    "}\n",
    "\n",
    "# fit the model\n",
    "model = do_single_fit(**fit_args, **model_args)"
   ]
  },
  {
   "cell_type": "code",
   "execution_count": 54,
   "metadata": {},
   "outputs": [
    {
     "data": {
      "text/plain": [
       "3107"
      ]
     },
     "execution_count": 54,
     "metadata": {},
     "output_type": "execute_result"
    }
   ],
   "source": [
    "model.spec_id"
   ]
  },
  {
   "cell_type": "markdown",
   "metadata": {
    "pycharm": {
     "name": "#%% md\n"
    }
   },
   "source": [
    "### Create and run scenarios from Feb 2022 to present"
   ]
  },
  {
   "cell_type": "code",
   "execution_count": 55,
   "metadata": {
    "pycharm": {
     "name": "#%%\n"
    }
   },
   "outputs": [],
   "source": [
    "multiprocess = None\n",
    "\n",
    "scenario_params = json.load(open('covid_model/analysis/20220628_july_gov_briefing/scenario_params.json'))\n",
    "\n",
    "model_args = {\n",
    "    'base_spec_id': 3101 #model.spec_id # use the spec id that was output from the model fit\n",
    "}\n",
    "model_fit_args = {\n",
    "    'outdir': outdir,\n",
    "    'fit_start_date': '2022-03-01', # set the start date for the earliest point at which the scenarios start to differ from one another\n",
    "}\n",
    "\n",
    "# compute vacc effectiveness for < 5 (this is a multiplier for the baseline vaccine effectiveness for 0-19)\n",
    "vacc_eff_lt5 = 0.5\n",
    "\n",
    "# Create different scenarios to model\n",
    "scenario_model_args = []\n",
    "for hosp_frac in [0.5, 0.7, 0.9]: # 50%, 70% , or 90% for-COVID\n",
    "    for school_contact_increase in [1.0, 1.1, 1.2]:\n",
    "        for immune_escape_sens in [1.0, 1.05, 0.95]:\n",
    "        #for (weak_escape, strong_escape) in [(0.75, 0.1), (0.8, 0.2)]:\n",
    "            hrf = {\"2020-01-01\": 1, \"2022-03-01\": (0.66 + 0.34*hosp_frac), \"2022-03-15\": (0.34 + 0.66*hosp_frac), \"2022-03-30\": hosp_frac}\n",
    "            school_contact = [{\"param\": \"betta\", \"attrs\": {'age': '0-19'}, \"mults\": {\"2020-01-01\": 1, \"2022-08-15\": school_contact_increase},\"desc\": \"After August 15th, beta increases by a factor of the school contact increase\"}]\n",
    "            lt5_vacc_adjust = [{\"param\": \"immunity\", \"attrs\": {'age': '0-19', 'vacc': 'shot1'}, \"mults\": {\"2020-01-01\": 1, \"2022-06-20\": 0.99 + 0.01*vacc_eff_lt5, \"2022-06-30\": 0.98 + 0.02*vacc_eff_lt5, \"2022-07-10\": 0.97 + 0.03*vacc_eff_lt5}}]\n",
    "            immune_sens = [{\"param\": \"immune_escape\", \"from_attrs\":{\"variant\": [\"omicron\", \"ba2\", \"ba2121\"]}, \"to_attrs\": {\"variant\": [\"ba45\"]}, \"mults\": {\"2020-01-01\": immune_escape_sens},  \"desc\": \"sensitivity analysis for immune escape\"}]\n",
    "            scenario_model_args.append({'params_defs': scenario_params + school_contact + lt5_vacc_adjust + immune_sens,\n",
    "                                       'hosp_reporting_frac': hrf, # hospital reporting fraction is not specified in params.json, it's a separate model argument that we created (i.e. we didn't identify a \"param\" in the dictionary)\n",
    "                                       'tags': {'hosp_frac': hosp_frac, 'school_contact_increase': school_contact_increase, 'immune_escape_sens': immune_escape_sens}})\n",
    "            \n",
    "            "
   ]
  },
  {
   "cell_type": "code",
   "execution_count": 56,
   "metadata": {},
   "outputs": [
    {
     "data": {
      "text/plain": [
       "27"
      ]
     },
     "execution_count": 56,
     "metadata": {},
     "output_type": "execute_result"
    }
   ],
   "source": [
    "# determine the number of parameters used\n",
    "len(scenario_args_list)"
   ]
  },
  {
   "cell_type": "code",
   "execution_count": 57,
   "metadata": {
    "pycharm": {
     "name": "#%%\n"
    }
   },
   "outputs": [
    {
     "name": "stderr",
     "output_type": "stream",
     "text": [
      "2022/07/12 17:11:06 INFO|----------------------------|{'hosp_frac': 0.5, 'school_contact_increase': 1.0, 'immune_escape_sens': 1.0} Retrieving vaccinations data\n",
      "2022/07/12 17:11:07 INFO|----------------------------|{'hosp_frac': 0.5, 'school_contact_increase': 1.0, 'immune_escape_sens': 1.0} Constructing vaccination projections\n",
      "2022/07/12 17:11:07 INFO|----------------------------|{'hosp_frac': 0.5, 'school_contact_increase': 1.0, 'immune_escape_sens': 1.0} Retrieving hospitalizations data\n",
      "2022/07/12 17:11:09 INFO|-------------------------|{'hosp_frac': 0.5, 'school_contact_increase': 1.0, 'immune_escape_sens': 1.0} Prepping Model\n",
      "2022/07/12 17:11:09 INFO|--------------------------|{'hosp_frac': 0.5, 'school_contact_increase': 1.0, 'immune_escape_sens': 1.0} Prepping Model\n",
      "2022/07/12 17:12:06 INFO|-------------------------|{'hosp_frac': 0.5, 'school_contact_increase': 1.0, 'immune_escape_sens': 1.0} Model prepped for fitting in 57.26741566700002 seconds.\n",
      "2022/07/12 17:12:06 INFO|-------------------------|{'hosp_frac': 0.5, 'school_contact_increase': 1.0, 'immune_escape_sens': 1.0} Will fit 2 times\n"
     ]
    },
    {
     "ename": "ValueError",
     "evalue": "cannot convert float NaN to integer",
     "output_type": "error",
     "traceback": [
      "\u001b[0;31m---------------------------------------------------------------------------\u001b[0m",
      "\u001b[0;31mValueError\u001b[0m                                Traceback (most recent call last)",
      "Input \u001b[0;32mIn [57]\u001b[0m, in \u001b[0;36m<cell line: 2>\u001b[0;34m()\u001b[0m\n\u001b[1;32m      1\u001b[0m \u001b[38;5;66;03m# run the scenarios\u001b[39;00m\n\u001b[0;32m----> 2\u001b[0m models \u001b[38;5;241m=\u001b[39m \u001b[43mdo_fit_scenarios\u001b[49m\u001b[43m(\u001b[49m\u001b[43mbase_model_args\u001b[49m\u001b[38;5;241;43m=\u001b[39;49m\u001b[43mmodel_args\u001b[49m\u001b[43m,\u001b[49m\u001b[43m \u001b[49m\u001b[43mscenario_args_list\u001b[49m\u001b[38;5;241;43m=\u001b[39;49m\u001b[43mscenario_model_args\u001b[49m\u001b[43m,\u001b[49m\u001b[43m \u001b[49m\u001b[43mfit_args\u001b[49m\u001b[38;5;241;43m=\u001b[39;49m\u001b[43mmodel_fit_args\u001b[49m\u001b[43m,\u001b[49m\u001b[43m \u001b[49m\u001b[43mmultiprocess\u001b[49m\u001b[38;5;241;43m=\u001b[39;49m\u001b[43mmultiprocess\u001b[49m\u001b[43m)\u001b[49m\n",
      "File \u001b[0;32m~/PycharmProjects/covid-models/covid_model/runnable_functions.py:505\u001b[0m, in \u001b[0;36mdo_fit_scenarios\u001b[0;34m(base_model_args, scenario_args_list, fit_args, multiprocess)\u001b[0m\n\u001b[1;32m    502\u001b[0m     model_args_list\u001b[38;5;241m.\u001b[39mappend(copy\u001b[38;5;241m.\u001b[39mdeepcopy(base_model_args))\n\u001b[1;32m    503\u001b[0m     model_args_list[\u001b[38;5;241m-\u001b[39m\u001b[38;5;241m1\u001b[39m]\u001b[38;5;241m.\u001b[39mupdate(scenario_args)\n\u001b[0;32m--> 505\u001b[0m \u001b[38;5;28;01mreturn\u001b[39;00m \u001b[43mdo_multiple_fits\u001b[49m\u001b[43m(\u001b[49m\u001b[43mmodel_args_list\u001b[49m\u001b[43m,\u001b[49m\u001b[43m \u001b[49m\u001b[43mfit_args\u001b[49m\u001b[43m,\u001b[49m\u001b[43m \u001b[49m\u001b[43mmultiprocess\u001b[49m\u001b[43m)\u001b[49m\n",
      "File \u001b[0;32m~/PycharmProjects/covid-models/covid_model/runnable_functions.py:283\u001b[0m, in \u001b[0;36mdo_multiple_fits\u001b[0;34m(model_args_list, fit_args, multiprocess)\u001b[0m\n\u001b[1;32m    281\u001b[0m     models \u001b[38;5;241m=\u001b[39m p\u001b[38;5;241m.\u001b[39mmap(do_single_fit_wrapper_parallel, args_list)\n\u001b[1;32m    282\u001b[0m \u001b[38;5;28;01melse\u001b[39;00m:\n\u001b[0;32m--> 283\u001b[0m     models \u001b[38;5;241m=\u001b[39m \u001b[38;5;28;43mlist\u001b[39;49m\u001b[43m(\u001b[49m\u001b[38;5;28;43mmap\u001b[39;49m\u001b[43m(\u001b[49m\u001b[43mdo_single_fit_wrapper_nonparallel\u001b[49m\u001b[43m,\u001b[49m\u001b[43m \u001b[49m\u001b[43margs_list\u001b[49m\u001b[43m)\u001b[49m\u001b[43m)\u001b[49m\n\u001b[1;32m    285\u001b[0m \u001b[38;5;66;03m# write to database serially if specified in those model args\u001b[39;00m\n\u001b[1;32m    286\u001b[0m engine \u001b[38;5;241m=\u001b[39m db_engine()\n",
      "File \u001b[0;32m~/PycharmProjects/covid-models/covid_model/runnable_functions.py:257\u001b[0m, in \u001b[0;36mdo_single_fit_wrapper_nonparallel\u001b[0;34m(args)\u001b[0m\n\u001b[1;32m    246\u001b[0m \u001b[38;5;28;01mdef\u001b[39;00m \u001b[38;5;21mdo_single_fit_wrapper_nonparallel\u001b[39m(args):\n\u001b[1;32m    247\u001b[0m     \u001b[38;5;124;03m\"\"\"Wrapper function for the do_single_fit function that is useful for doing multiple fits serially\u001b[39;00m\n\u001b[1;32m    248\u001b[0m \n\u001b[1;32m    249\u001b[0m \u001b[38;5;124;03m    This function can be easily mapped to a list of arguments in order to fit several models in succession\u001b[39;00m\n\u001b[0;32m   (...)\u001b[0m\n\u001b[1;32m    255\u001b[0m \n\u001b[1;32m    256\u001b[0m \u001b[38;5;124;03m    \"\"\"\u001b[39;00m\n\u001b[0;32m--> 257\u001b[0m     \u001b[38;5;28;01mreturn\u001b[39;00m \u001b[43mdo_single_fit\u001b[49m\u001b[43m(\u001b[49m\u001b[38;5;241;43m*\u001b[39;49m\u001b[38;5;241;43m*\u001b[39;49m\u001b[43margs\u001b[49m\u001b[43m,\u001b[49m\u001b[43m \u001b[49m\u001b[43mwrite_results\u001b[49m\u001b[38;5;241;43m=\u001b[39;49m\u001b[38;5;28;43;01mFalse\u001b[39;49;00m\u001b[43m)\u001b[49m\n",
      "File \u001b[0;32m~/PycharmProjects/covid-models/covid_model/runnable_functions.py:199\u001b[0m, in \u001b[0;36mdo_single_fit\u001b[0;34m(tc_0, tc_min, tc_max, tc_window_size, tc_window_batch_size, tc_batch_increment, last_tc_window_min_size, fit_start_date, fit_end_date, prep_model, outdir, write_results, write_batch_results, model_class, **model_args)\u001b[0m\n\u001b[1;32m    197\u001b[0m t0 \u001b[38;5;241m=\u001b[39m perf_counter()\n\u001b[1;32m    198\u001b[0m yd_start \u001b[38;5;241m=\u001b[39m model\u001b[38;5;241m.\u001b[39my_dict(tstart) \u001b[38;5;28;01mif\u001b[39;00m tstart \u001b[38;5;241m!=\u001b[39m \u001b[38;5;241m0\u001b[39m \u001b[38;5;28;01melse\u001b[39;00m model\u001b[38;5;241m.\u001b[39my0_dict\n\u001b[0;32m--> 199\u001b[0m fitted_tc, fitted_tc_cov \u001b[38;5;241m=\u001b[39m \u001b[43m__single_batch_fit\u001b[49m\u001b[43m(\u001b[49m\u001b[43mmodel\u001b[49m\u001b[43m,\u001b[49m\u001b[43m \u001b[49m\u001b[43mtc_min\u001b[49m\u001b[38;5;241;43m=\u001b[39;49m\u001b[43mtc_min\u001b[49m\u001b[43m,\u001b[49m\u001b[43m \u001b[49m\u001b[43mtc_max\u001b[49m\u001b[38;5;241;43m=\u001b[39;49m\u001b[43mtc_max\u001b[49m\u001b[43m,\u001b[49m\u001b[43m \u001b[49m\u001b[43myd_start\u001b[49m\u001b[38;5;241;43m=\u001b[39;49m\u001b[43myd_start\u001b[49m\u001b[43m,\u001b[49m\u001b[43m \u001b[49m\u001b[43mtstart\u001b[49m\u001b[38;5;241;43m=\u001b[39;49m\u001b[43mtstart\u001b[49m\u001b[43m,\u001b[49m\u001b[43m \u001b[49m\u001b[43mtend\u001b[49m\u001b[38;5;241;43m=\u001b[39;49m\u001b[43mtend\u001b[49m\u001b[43m)\u001b[49m\n\u001b[1;32m    200\u001b[0m model\u001b[38;5;241m.\u001b[39mtags[\u001b[38;5;124m'\u001b[39m\u001b[38;5;124mfit_batch\u001b[39m\u001b[38;5;124m'\u001b[39m] \u001b[38;5;241m=\u001b[39m \u001b[38;5;28mstr\u001b[39m(i)\n\u001b[1;32m    201\u001b[0m logger\u001b[38;5;241m.\u001b[39minfo(\u001b[38;5;124mf\u001b[39m\u001b[38;5;124m'\u001b[39m\u001b[38;5;132;01m{\u001b[39;00m\u001b[38;5;28mstr\u001b[39m(model\u001b[38;5;241m.\u001b[39mtags)\u001b[38;5;132;01m}\u001b[39;00m\u001b[38;5;124m: Transmission control fit \u001b[39m\u001b[38;5;132;01m{\u001b[39;00mi \u001b[38;5;241m+\u001b[39m \u001b[38;5;241m1\u001b[39m\u001b[38;5;132;01m}\u001b[39;00m\u001b[38;5;124m/\u001b[39m\u001b[38;5;132;01m{\u001b[39;00m\u001b[38;5;28mlen\u001b[39m(batch_tstarts)\u001b[38;5;132;01m}\u001b[39;00m\u001b[38;5;124m completed in \u001b[39m\u001b[38;5;132;01m{\u001b[39;00mperf_counter() \u001b[38;5;241m-\u001b[39m t0\u001b[38;5;132;01m}\u001b[39;00m\u001b[38;5;124m seconds: \u001b[39m\u001b[38;5;132;01m{\u001b[39;00mfitted_tc\u001b[38;5;132;01m}\u001b[39;00m\u001b[38;5;124m'\u001b[39m)\n",
      "File \u001b[0;32m~/PycharmProjects/covid-models/covid_model/runnable_functions.py:82\u001b[0m, in \u001b[0;36m__single_batch_fit\u001b[0;34m(model, tc_min, tc_max, yd_start, tstart, tend, regions)\u001b[0m\n\u001b[1;32m     80\u001b[0m     model\u001b[38;5;241m.\u001b[39msolve_seir(y0\u001b[38;5;241m=\u001b[39my0, tstart\u001b[38;5;241m=\u001b[39mtstart, tend\u001b[38;5;241m=\u001b[39mtend)\n\u001b[1;32m     81\u001b[0m     \u001b[38;5;28;01mreturn\u001b[39;00m model\u001b[38;5;241m.\u001b[39msolution_sum_Ih(tstart, tend, regions\u001b[38;5;241m=\u001b[39mregions)\n\u001b[0;32m---> 82\u001b[0m fitted_tc, fitted_tc_cov \u001b[38;5;241m=\u001b[39m \u001b[43mspo\u001b[49m\u001b[38;5;241;43m.\u001b[39;49m\u001b[43mcurve_fit\u001b[49m\u001b[43m(\u001b[49m\n\u001b[1;32m     83\u001b[0m \u001b[43m    \u001b[49m\u001b[43mf\u001b[49m\u001b[38;5;241;43m=\u001b[39;49m\u001b[43mfunc\u001b[49m\u001b[43m,\u001b[49m\n\u001b[1;32m     84\u001b[0m \u001b[43m    \u001b[49m\u001b[43mxdata\u001b[49m\u001b[38;5;241;43m=\u001b[39;49m\u001b[43mtrange\u001b[49m\u001b[43m,\u001b[49m\n\u001b[1;32m     85\u001b[0m \u001b[43m    \u001b[49m\u001b[43mydata\u001b[49m\u001b[38;5;241;43m=\u001b[39;49m\u001b[43mydata\u001b[49m\u001b[43m,\u001b[49m\n\u001b[1;32m     86\u001b[0m \u001b[43m    \u001b[49m\u001b[43mp0\u001b[49m\u001b[38;5;241;43m=\u001b[39;49m\u001b[43m[\u001b[49m\u001b[43mtc\u001b[49m\u001b[43m[\u001b[49m\u001b[43mt\u001b[49m\u001b[43m]\u001b[49m\u001b[43m[\u001b[49m\u001b[43mregion\u001b[49m\u001b[43m]\u001b[49m\u001b[43m \u001b[49m\u001b[38;5;28;43;01mfor\u001b[39;49;00m\u001b[43m \u001b[49m\u001b[43mt\u001b[49m\u001b[43m \u001b[49m\u001b[38;5;129;43;01min\u001b[39;49;00m\u001b[43m \u001b[49m\u001b[43mtc_ts\u001b[49m\u001b[43m \u001b[49m\u001b[38;5;28;43;01mfor\u001b[39;49;00m\u001b[43m \u001b[49m\u001b[43mregion\u001b[49m\u001b[43m \u001b[49m\u001b[38;5;129;43;01min\u001b[39;49;00m\u001b[43m \u001b[49m\u001b[43mmodel\u001b[49m\u001b[38;5;241;43m.\u001b[39;49m\u001b[43mregions\u001b[49m\u001b[43m]\u001b[49m\u001b[43m,\u001b[49m\n\u001b[1;32m     87\u001b[0m \u001b[43m    \u001b[49m\u001b[43mbounds\u001b[49m\u001b[38;5;241;43m=\u001b[39;49m\u001b[43m(\u001b[49m\u001b[43m[\u001b[49m\u001b[43mtc_min\u001b[49m\u001b[43m]\u001b[49m\u001b[43m \u001b[49m\u001b[38;5;241;43m*\u001b[39;49m\u001b[43m \u001b[49m\u001b[38;5;28;43mlen\u001b[39;49m\u001b[43m(\u001b[49m\u001b[43mtc_ts\u001b[49m\u001b[43m)\u001b[49m\u001b[43m \u001b[49m\u001b[38;5;241;43m*\u001b[39;49m\u001b[43m \u001b[49m\u001b[38;5;28;43mlen\u001b[39;49m\u001b[43m(\u001b[49m\u001b[43mregions\u001b[49m\u001b[43m)\u001b[49m\u001b[43m,\u001b[49m\u001b[43m \u001b[49m\u001b[43m[\u001b[49m\u001b[43mtc_max\u001b[49m\u001b[43m]\u001b[49m\u001b[43m \u001b[49m\u001b[38;5;241;43m*\u001b[39;49m\u001b[43m \u001b[49m\u001b[38;5;28;43mlen\u001b[39;49m\u001b[43m(\u001b[49m\u001b[43mtc_ts\u001b[49m\u001b[43m)\u001b[49m\u001b[43m \u001b[49m\u001b[38;5;241;43m*\u001b[39;49m\u001b[43m \u001b[49m\u001b[38;5;28;43mlen\u001b[39;49m\u001b[43m(\u001b[49m\u001b[43mregions\u001b[49m\u001b[43m)\u001b[49m\u001b[43m)\u001b[49m\u001b[43m)\u001b[49m\n\u001b[1;32m     88\u001b[0m fitted_tc \u001b[38;5;241m=\u001b[39m tc_list_to_dict(fitted_tc)\n\u001b[1;32m     89\u001b[0m \u001b[38;5;28;01mreturn\u001b[39;00m fitted_tc, fitted_tc_cov\n",
      "File \u001b[0;32m~/PycharmProjects/covid-models/venv/lib/python3.9/site-packages/scipy/optimize/_minpack_py.py:800\u001b[0m, in \u001b[0;36mcurve_fit\u001b[0;34m(f, xdata, ydata, p0, sigma, absolute_sigma, check_finite, bounds, method, jac, **kwargs)\u001b[0m\n\u001b[1;32m    797\u001b[0m \u001b[38;5;28;01mif\u001b[39;00m \u001b[38;5;124m'\u001b[39m\u001b[38;5;124mmax_nfev\u001b[39m\u001b[38;5;124m'\u001b[39m \u001b[38;5;129;01mnot\u001b[39;00m \u001b[38;5;129;01min\u001b[39;00m kwargs:\n\u001b[1;32m    798\u001b[0m     kwargs[\u001b[38;5;124m'\u001b[39m\u001b[38;5;124mmax_nfev\u001b[39m\u001b[38;5;124m'\u001b[39m] \u001b[38;5;241m=\u001b[39m kwargs\u001b[38;5;241m.\u001b[39mpop(\u001b[38;5;124m'\u001b[39m\u001b[38;5;124mmaxfev\u001b[39m\u001b[38;5;124m'\u001b[39m, \u001b[38;5;28;01mNone\u001b[39;00m)\n\u001b[0;32m--> 800\u001b[0m res \u001b[38;5;241m=\u001b[39m \u001b[43mleast_squares\u001b[49m\u001b[43m(\u001b[49m\u001b[43mfunc\u001b[49m\u001b[43m,\u001b[49m\u001b[43m \u001b[49m\u001b[43mp0\u001b[49m\u001b[43m,\u001b[49m\u001b[43m \u001b[49m\u001b[43mjac\u001b[49m\u001b[38;5;241;43m=\u001b[39;49m\u001b[43mjac\u001b[49m\u001b[43m,\u001b[49m\u001b[43m \u001b[49m\u001b[43mbounds\u001b[49m\u001b[38;5;241;43m=\u001b[39;49m\u001b[43mbounds\u001b[49m\u001b[43m,\u001b[49m\u001b[43m \u001b[49m\u001b[43mmethod\u001b[49m\u001b[38;5;241;43m=\u001b[39;49m\u001b[43mmethod\u001b[49m\u001b[43m,\u001b[49m\n\u001b[1;32m    801\u001b[0m \u001b[43m                    \u001b[49m\u001b[38;5;241;43m*\u001b[39;49m\u001b[38;5;241;43m*\u001b[39;49m\u001b[43mkwargs\u001b[49m\u001b[43m)\u001b[49m\n\u001b[1;32m    803\u001b[0m \u001b[38;5;28;01mif\u001b[39;00m \u001b[38;5;129;01mnot\u001b[39;00m res\u001b[38;5;241m.\u001b[39msuccess:\n\u001b[1;32m    804\u001b[0m     \u001b[38;5;28;01mraise\u001b[39;00m \u001b[38;5;167;01mRuntimeError\u001b[39;00m(\u001b[38;5;124m\"\u001b[39m\u001b[38;5;124mOptimal parameters not found: \u001b[39m\u001b[38;5;124m\"\u001b[39m \u001b[38;5;241m+\u001b[39m res\u001b[38;5;241m.\u001b[39mmessage)\n",
      "File \u001b[0;32m~/PycharmProjects/covid-models/venv/lib/python3.9/site-packages/scipy/optimize/_lsq/least_squares.py:820\u001b[0m, in \u001b[0;36mleast_squares\u001b[0;34m(fun, x0, jac, bounds, method, ftol, xtol, gtol, x_scale, loss, f_scale, diff_step, tr_solver, tr_options, jac_sparsity, max_nfev, verbose, args, kwargs)\u001b[0m\n\u001b[1;32m    817\u001b[0m \u001b[38;5;28;01mif\u001b[39;00m method \u001b[38;5;241m==\u001b[39m \u001b[38;5;124m'\u001b[39m\u001b[38;5;124mtrf\u001b[39m\u001b[38;5;124m'\u001b[39m:\n\u001b[1;32m    818\u001b[0m     x0 \u001b[38;5;241m=\u001b[39m make_strictly_feasible(x0, lb, ub)\n\u001b[0;32m--> 820\u001b[0m f0 \u001b[38;5;241m=\u001b[39m \u001b[43mfun_wrapped\u001b[49m\u001b[43m(\u001b[49m\u001b[43mx0\u001b[49m\u001b[43m)\u001b[49m\n\u001b[1;32m    822\u001b[0m \u001b[38;5;28;01mif\u001b[39;00m f0\u001b[38;5;241m.\u001b[39mndim \u001b[38;5;241m!=\u001b[39m \u001b[38;5;241m1\u001b[39m:\n\u001b[1;32m    823\u001b[0m     \u001b[38;5;28;01mraise\u001b[39;00m \u001b[38;5;167;01mValueError\u001b[39;00m(\u001b[38;5;124m\"\u001b[39m\u001b[38;5;124m`fun` must return at most 1-d array_like. \u001b[39m\u001b[38;5;124m\"\u001b[39m\n\u001b[1;32m    824\u001b[0m                      \u001b[38;5;124m\"\u001b[39m\u001b[38;5;124mf0.shape: \u001b[39m\u001b[38;5;132;01m{0}\u001b[39;00m\u001b[38;5;124m\"\u001b[39m\u001b[38;5;241m.\u001b[39mformat(f0\u001b[38;5;241m.\u001b[39mshape))\n",
      "File \u001b[0;32m~/PycharmProjects/covid-models/venv/lib/python3.9/site-packages/scipy/optimize/_lsq/least_squares.py:815\u001b[0m, in \u001b[0;36mleast_squares.<locals>.fun_wrapped\u001b[0;34m(x)\u001b[0m\n\u001b[1;32m    814\u001b[0m \u001b[38;5;28;01mdef\u001b[39;00m \u001b[38;5;21mfun_wrapped\u001b[39m(x):\n\u001b[0;32m--> 815\u001b[0m     \u001b[38;5;28;01mreturn\u001b[39;00m np\u001b[38;5;241m.\u001b[39matleast_1d(\u001b[43mfun\u001b[49m\u001b[43m(\u001b[49m\u001b[43mx\u001b[49m\u001b[43m,\u001b[49m\u001b[43m \u001b[49m\u001b[38;5;241;43m*\u001b[39;49m\u001b[43margs\u001b[49m\u001b[43m,\u001b[49m\u001b[43m \u001b[49m\u001b[38;5;241;43m*\u001b[39;49m\u001b[38;5;241;43m*\u001b[39;49m\u001b[43mkwargs\u001b[49m\u001b[43m)\u001b[49m)\n",
      "File \u001b[0;32m~/PycharmProjects/covid-models/venv/lib/python3.9/site-packages/scipy/optimize/_minpack_py.py:485\u001b[0m, in \u001b[0;36m_wrap_func.<locals>.func_wrapped\u001b[0;34m(params)\u001b[0m\n\u001b[1;32m    484\u001b[0m \u001b[38;5;28;01mdef\u001b[39;00m \u001b[38;5;21mfunc_wrapped\u001b[39m(params):\n\u001b[0;32m--> 485\u001b[0m     \u001b[38;5;28;01mreturn\u001b[39;00m \u001b[43mfunc\u001b[49m\u001b[43m(\u001b[49m\u001b[43mxdata\u001b[49m\u001b[43m,\u001b[49m\u001b[43m \u001b[49m\u001b[38;5;241;43m*\u001b[39;49m\u001b[43mparams\u001b[49m\u001b[43m)\u001b[49m \u001b[38;5;241m-\u001b[39m ydata\n",
      "File \u001b[0;32m~/PycharmProjects/covid-models/covid_model/runnable_functions.py:80\u001b[0m, in \u001b[0;36m__single_batch_fit.<locals>.func\u001b[0;34m(trange, *test_tc)\u001b[0m\n\u001b[1;32m     70\u001b[0m \u001b[38;5;124;03m\"\"\"A simple wrapper for the model's solve_seir method so that it can be optimzed by curve_fit\u001b[39;00m\n\u001b[1;32m     71\u001b[0m \n\u001b[1;32m     72\u001b[0m \u001b[38;5;124;03mArgs:\u001b[39;00m\n\u001b[0;32m   (...)\u001b[0m\n\u001b[1;32m     77\u001b[0m \n\u001b[1;32m     78\u001b[0m \u001b[38;5;124;03m\"\"\"\u001b[39;00m\n\u001b[1;32m     79\u001b[0m model\u001b[38;5;241m.\u001b[39mupdate_tc(tc_list_to_dict(test_tc), replace\u001b[38;5;241m=\u001b[39m\u001b[38;5;28;01mFalse\u001b[39;00m, update_lookup\u001b[38;5;241m=\u001b[39m\u001b[38;5;28;01mFalse\u001b[39;00m)\n\u001b[0;32m---> 80\u001b[0m \u001b[43mmodel\u001b[49m\u001b[38;5;241;43m.\u001b[39;49m\u001b[43msolve_seir\u001b[49m\u001b[43m(\u001b[49m\u001b[43my0\u001b[49m\u001b[38;5;241;43m=\u001b[39;49m\u001b[43my0\u001b[49m\u001b[43m,\u001b[49m\u001b[43m \u001b[49m\u001b[43mtstart\u001b[49m\u001b[38;5;241;43m=\u001b[39;49m\u001b[43mtstart\u001b[49m\u001b[43m,\u001b[49m\u001b[43m \u001b[49m\u001b[43mtend\u001b[49m\u001b[38;5;241;43m=\u001b[39;49m\u001b[43mtend\u001b[49m\u001b[43m)\u001b[49m\n\u001b[1;32m     81\u001b[0m \u001b[38;5;28;01mreturn\u001b[39;00m model\u001b[38;5;241m.\u001b[39msolution_sum_Ih(tstart, tend, regions\u001b[38;5;241m=\u001b[39mregions)\n",
      "File \u001b[0;32m~/PycharmProjects/covid-models/covid_model/model.py:1861\u001b[0m, in \u001b[0;36mCovidModel.solve_seir\u001b[0;34m(self, y0, tstart, tend)\u001b[0m\n\u001b[1;32m   1859\u001b[0m \u001b[38;5;28;01mif\u001b[39;00m y0 \u001b[38;5;129;01mis\u001b[39;00m \u001b[38;5;28;01mNone\u001b[39;00m:\n\u001b[1;32m   1860\u001b[0m     y0 \u001b[38;5;241m=\u001b[39m \u001b[38;5;28mself\u001b[39m\u001b[38;5;241m.\u001b[39my0_from_dict(\u001b[38;5;28mself\u001b[39m\u001b[38;5;241m.\u001b[39my0_dict)\n\u001b[0;32m-> 1861\u001b[0m solution \u001b[38;5;241m=\u001b[39m \u001b[43mspi\u001b[49m\u001b[38;5;241;43m.\u001b[39;49m\u001b[43msolve_ivp\u001b[49m\u001b[43m(\u001b[49m\n\u001b[1;32m   1862\u001b[0m \u001b[43m    \u001b[49m\u001b[43mfun\u001b[49m\u001b[38;5;241;43m=\u001b[39;49m\u001b[38;5;28;43mself\u001b[39;49m\u001b[38;5;241;43m.\u001b[39;49m\u001b[43mode\u001b[49m\u001b[43m,\u001b[49m\n\u001b[1;32m   1863\u001b[0m \u001b[43m    \u001b[49m\u001b[43mt_span\u001b[49m\u001b[38;5;241;43m=\u001b[39;49m\u001b[43m[\u001b[49m\u001b[38;5;28;43mmin\u001b[39;49m\u001b[43m(\u001b[49m\u001b[43mtrange\u001b[49m\u001b[43m)\u001b[49m\u001b[43m,\u001b[49m\u001b[43m \u001b[49m\u001b[38;5;28;43mmax\u001b[39;49m\u001b[43m(\u001b[49m\u001b[43mtrange\u001b[49m\u001b[43m)\u001b[49m\u001b[43m]\u001b[49m\u001b[43m,\u001b[49m\n\u001b[1;32m   1864\u001b[0m \u001b[43m    \u001b[49m\u001b[43my0\u001b[49m\u001b[38;5;241;43m=\u001b[39;49m\u001b[43my0\u001b[49m\u001b[43m,\u001b[49m\n\u001b[1;32m   1865\u001b[0m \u001b[43m    \u001b[49m\u001b[43mt_eval\u001b[49m\u001b[38;5;241;43m=\u001b[39;49m\u001b[43mtrange\u001b[49m\u001b[43m,\u001b[49m\n\u001b[1;32m   1866\u001b[0m \u001b[43m    \u001b[49m\u001b[43mmethod\u001b[49m\u001b[38;5;241;43m=\u001b[39;49m\u001b[38;5;28;43mself\u001b[39;49m\u001b[38;5;241;43m.\u001b[39;49m\u001b[43mode_method\u001b[49m\u001b[43m,\u001b[49m\n\u001b[1;32m   1867\u001b[0m \u001b[43m    \u001b[49m\u001b[43mmax_step\u001b[49m\u001b[38;5;241;43m=\u001b[39;49m\u001b[38;5;28;43mself\u001b[39;49m\u001b[38;5;241;43m.\u001b[39;49m\u001b[43mmax_step_size\u001b[49m\n\u001b[1;32m   1868\u001b[0m \u001b[43m\u001b[49m\u001b[43m)\u001b[49m\n\u001b[1;32m   1869\u001b[0m \u001b[38;5;28;01mif\u001b[39;00m \u001b[38;5;129;01mnot\u001b[39;00m solution\u001b[38;5;241m.\u001b[39msuccess:\n\u001b[1;32m   1870\u001b[0m     \u001b[38;5;28mself\u001b[39m\u001b[38;5;241m.\u001b[39mlog_and_raise(\u001b[38;5;124mf\u001b[39m\u001b[38;5;124m'\u001b[39m\u001b[38;5;124mODE solver failed with message: \u001b[39m\u001b[38;5;132;01m{\u001b[39;00msolution\u001b[38;5;241m.\u001b[39mmessage\u001b[38;5;132;01m}\u001b[39;00m\u001b[38;5;124m'\u001b[39m, \u001b[38;5;167;01mRuntimeError\u001b[39;00m)\n",
      "File \u001b[0;32m~/PycharmProjects/covid-models/venv/lib/python3.9/site-packages/scipy/integrate/_ivp/ivp.py:546\u001b[0m, in \u001b[0;36msolve_ivp\u001b[0;34m(fun, t_span, y0, method, t_eval, dense_output, events, vectorized, args, **options)\u001b[0m\n\u001b[1;32m    543\u001b[0m \u001b[38;5;28;01mif\u001b[39;00m method \u001b[38;5;129;01min\u001b[39;00m METHODS:\n\u001b[1;32m    544\u001b[0m     method \u001b[38;5;241m=\u001b[39m METHODS[method]\n\u001b[0;32m--> 546\u001b[0m solver \u001b[38;5;241m=\u001b[39m \u001b[43mmethod\u001b[49m\u001b[43m(\u001b[49m\u001b[43mfun\u001b[49m\u001b[43m,\u001b[49m\u001b[43m \u001b[49m\u001b[43mt0\u001b[49m\u001b[43m,\u001b[49m\u001b[43m \u001b[49m\u001b[43my0\u001b[49m\u001b[43m,\u001b[49m\u001b[43m \u001b[49m\u001b[43mtf\u001b[49m\u001b[43m,\u001b[49m\u001b[43m \u001b[49m\u001b[43mvectorized\u001b[49m\u001b[38;5;241;43m=\u001b[39;49m\u001b[43mvectorized\u001b[49m\u001b[43m,\u001b[49m\u001b[43m \u001b[49m\u001b[38;5;241;43m*\u001b[39;49m\u001b[38;5;241;43m*\u001b[39;49m\u001b[43moptions\u001b[49m\u001b[43m)\u001b[49m\n\u001b[1;32m    548\u001b[0m \u001b[38;5;28;01mif\u001b[39;00m t_eval \u001b[38;5;129;01mis\u001b[39;00m \u001b[38;5;28;01mNone\u001b[39;00m:\n\u001b[1;32m    549\u001b[0m     ts \u001b[38;5;241m=\u001b[39m [t0]\n",
      "File \u001b[0;32m~/PycharmProjects/covid-models/venv/lib/python3.9/site-packages/scipy/integrate/_ivp/rk.py:96\u001b[0m, in \u001b[0;36mRungeKutta.__init__\u001b[0;34m(self, fun, t0, y0, t_bound, max_step, rtol, atol, vectorized, first_step, **extraneous)\u001b[0m\n\u001b[1;32m     94\u001b[0m \u001b[38;5;28mself\u001b[39m\u001b[38;5;241m.\u001b[39mf \u001b[38;5;241m=\u001b[39m \u001b[38;5;28mself\u001b[39m\u001b[38;5;241m.\u001b[39mfun(\u001b[38;5;28mself\u001b[39m\u001b[38;5;241m.\u001b[39mt, \u001b[38;5;28mself\u001b[39m\u001b[38;5;241m.\u001b[39my)\n\u001b[1;32m     95\u001b[0m \u001b[38;5;28;01mif\u001b[39;00m first_step \u001b[38;5;129;01mis\u001b[39;00m \u001b[38;5;28;01mNone\u001b[39;00m:\n\u001b[0;32m---> 96\u001b[0m     \u001b[38;5;28mself\u001b[39m\u001b[38;5;241m.\u001b[39mh_abs \u001b[38;5;241m=\u001b[39m \u001b[43mselect_initial_step\u001b[49m\u001b[43m(\u001b[49m\n\u001b[1;32m     97\u001b[0m \u001b[43m        \u001b[49m\u001b[38;5;28;43mself\u001b[39;49m\u001b[38;5;241;43m.\u001b[39;49m\u001b[43mfun\u001b[49m\u001b[43m,\u001b[49m\u001b[43m \u001b[49m\u001b[38;5;28;43mself\u001b[39;49m\u001b[38;5;241;43m.\u001b[39;49m\u001b[43mt\u001b[49m\u001b[43m,\u001b[49m\u001b[43m \u001b[49m\u001b[38;5;28;43mself\u001b[39;49m\u001b[38;5;241;43m.\u001b[39;49m\u001b[43my\u001b[49m\u001b[43m,\u001b[49m\u001b[43m \u001b[49m\u001b[38;5;28;43mself\u001b[39;49m\u001b[38;5;241;43m.\u001b[39;49m\u001b[43mf\u001b[49m\u001b[43m,\u001b[49m\u001b[43m \u001b[49m\u001b[38;5;28;43mself\u001b[39;49m\u001b[38;5;241;43m.\u001b[39;49m\u001b[43mdirection\u001b[49m\u001b[43m,\u001b[49m\n\u001b[1;32m     98\u001b[0m \u001b[43m        \u001b[49m\u001b[38;5;28;43mself\u001b[39;49m\u001b[38;5;241;43m.\u001b[39;49m\u001b[43merror_estimator_order\u001b[49m\u001b[43m,\u001b[49m\u001b[43m \u001b[49m\u001b[38;5;28;43mself\u001b[39;49m\u001b[38;5;241;43m.\u001b[39;49m\u001b[43mrtol\u001b[49m\u001b[43m,\u001b[49m\u001b[43m \u001b[49m\u001b[38;5;28;43mself\u001b[39;49m\u001b[38;5;241;43m.\u001b[39;49m\u001b[43matol\u001b[49m\u001b[43m)\u001b[49m\n\u001b[1;32m     99\u001b[0m \u001b[38;5;28;01melse\u001b[39;00m:\n\u001b[1;32m    100\u001b[0m     \u001b[38;5;28mself\u001b[39m\u001b[38;5;241m.\u001b[39mh_abs \u001b[38;5;241m=\u001b[39m validate_first_step(first_step, t0, t_bound)\n",
      "File \u001b[0;32m~/PycharmProjects/covid-models/venv/lib/python3.9/site-packages/scipy/integrate/_ivp/common.py:111\u001b[0m, in \u001b[0;36mselect_initial_step\u001b[0;34m(fun, t0, y0, f0, direction, order, rtol, atol)\u001b[0m\n\u001b[1;32m    108\u001b[0m     h0 \u001b[38;5;241m=\u001b[39m \u001b[38;5;241m0.01\u001b[39m \u001b[38;5;241m*\u001b[39m d0 \u001b[38;5;241m/\u001b[39m d1\n\u001b[1;32m    110\u001b[0m y1 \u001b[38;5;241m=\u001b[39m y0 \u001b[38;5;241m+\u001b[39m h0 \u001b[38;5;241m*\u001b[39m direction \u001b[38;5;241m*\u001b[39m f0\n\u001b[0;32m--> 111\u001b[0m f1 \u001b[38;5;241m=\u001b[39m \u001b[43mfun\u001b[49m\u001b[43m(\u001b[49m\u001b[43mt0\u001b[49m\u001b[43m \u001b[49m\u001b[38;5;241;43m+\u001b[39;49m\u001b[43m \u001b[49m\u001b[43mh0\u001b[49m\u001b[43m \u001b[49m\u001b[38;5;241;43m*\u001b[39;49m\u001b[43m \u001b[49m\u001b[43mdirection\u001b[49m\u001b[43m,\u001b[49m\u001b[43m \u001b[49m\u001b[43my1\u001b[49m\u001b[43m)\u001b[49m\n\u001b[1;32m    112\u001b[0m d2 \u001b[38;5;241m=\u001b[39m norm((f1 \u001b[38;5;241m-\u001b[39m f0) \u001b[38;5;241m/\u001b[39m scale) \u001b[38;5;241m/\u001b[39m h0\n\u001b[1;32m    114\u001b[0m \u001b[38;5;28;01mif\u001b[39;00m d1 \u001b[38;5;241m<\u001b[39m\u001b[38;5;241m=\u001b[39m \u001b[38;5;241m1e-15\u001b[39m \u001b[38;5;129;01mand\u001b[39;00m d2 \u001b[38;5;241m<\u001b[39m\u001b[38;5;241m=\u001b[39m \u001b[38;5;241m1e-15\u001b[39m:\n",
      "File \u001b[0;32m~/PycharmProjects/covid-models/venv/lib/python3.9/site-packages/scipy/integrate/_ivp/base.py:138\u001b[0m, in \u001b[0;36mOdeSolver.__init__.<locals>.fun\u001b[0;34m(t, y)\u001b[0m\n\u001b[1;32m    136\u001b[0m \u001b[38;5;28;01mdef\u001b[39;00m \u001b[38;5;21mfun\u001b[39m(t, y):\n\u001b[1;32m    137\u001b[0m     \u001b[38;5;28mself\u001b[39m\u001b[38;5;241m.\u001b[39mnfev \u001b[38;5;241m+\u001b[39m\u001b[38;5;241m=\u001b[39m \u001b[38;5;241m1\u001b[39m\n\u001b[0;32m--> 138\u001b[0m     \u001b[38;5;28;01mreturn\u001b[39;00m \u001b[38;5;28;43mself\u001b[39;49m\u001b[38;5;241;43m.\u001b[39;49m\u001b[43mfun_single\u001b[49m\u001b[43m(\u001b[49m\u001b[43mt\u001b[49m\u001b[43m,\u001b[49m\u001b[43m \u001b[49m\u001b[43my\u001b[49m\u001b[43m)\u001b[49m\n",
      "File \u001b[0;32m~/PycharmProjects/covid-models/venv/lib/python3.9/site-packages/scipy/integrate/_ivp/base.py:20\u001b[0m, in \u001b[0;36mcheck_arguments.<locals>.fun_wrapped\u001b[0;34m(t, y)\u001b[0m\n\u001b[1;32m     19\u001b[0m \u001b[38;5;28;01mdef\u001b[39;00m \u001b[38;5;21mfun_wrapped\u001b[39m(t, y):\n\u001b[0;32m---> 20\u001b[0m     \u001b[38;5;28;01mreturn\u001b[39;00m np\u001b[38;5;241m.\u001b[39masarray(\u001b[43mfun\u001b[49m\u001b[43m(\u001b[49m\u001b[43mt\u001b[49m\u001b[43m,\u001b[49m\u001b[43m \u001b[49m\u001b[43my\u001b[49m\u001b[43m)\u001b[49m, dtype\u001b[38;5;241m=\u001b[39mdtype)\n",
      "File \u001b[0;32m~/PycharmProjects/covid-models/covid_model/model.py:1826\u001b[0m, in \u001b[0;36mCovidModel.ode\u001b[0;34m(self, t, y)\u001b[0m\n\u001b[1;32m   1816\u001b[0m \u001b[38;5;124;03m\"\"\"\u001b[39;00m\n\u001b[1;32m   1817\u001b[0m \n\u001b[1;32m   1818\u001b[0m \u001b[38;5;124;03mArgs:\u001b[39;00m\n\u001b[0;32m   (...)\u001b[0m\n\u001b[1;32m   1823\u001b[0m \n\u001b[1;32m   1824\u001b[0m \u001b[38;5;124;03m\"\"\"\u001b[39;00m\n\u001b[1;32m   1825\u001b[0m dy \u001b[38;5;241m=\u001b[39m [\u001b[38;5;241m0\u001b[39m] \u001b[38;5;241m*\u001b[39m \u001b[38;5;28mself\u001b[39m\u001b[38;5;241m.\u001b[39mn_compartments\n\u001b[0;32m-> 1826\u001b[0m t_int \u001b[38;5;241m=\u001b[39m \u001b[38;5;28mself\u001b[39m\u001b[38;5;241m.\u001b[39mt_prev_lookup[\u001b[43mmath\u001b[49m\u001b[38;5;241;43m.\u001b[39;49m\u001b[43mfloor\u001b[49m\u001b[43m(\u001b[49m\u001b[43mt\u001b[49m\u001b[43m)\u001b[49m]\n\u001b[1;32m   1827\u001b[0m t_tc \u001b[38;5;241m=\u001b[39m \u001b[38;5;28mself\u001b[39m\u001b[38;5;241m.\u001b[39mtc_t_prev_lookup[math\u001b[38;5;241m.\u001b[39mfloor(t)]\n\u001b[1;32m   1828\u001b[0m nlm \u001b[38;5;241m=\u001b[39m [(\u001b[38;5;241m1\u001b[39m \u001b[38;5;241m-\u001b[39m \u001b[38;5;28mself\u001b[39m\u001b[38;5;241m.\u001b[39m__tc[t_tc][region]) \u001b[38;5;28;01mfor\u001b[39;00m region \u001b[38;5;129;01min\u001b[39;00m \u001b[38;5;28mself\u001b[39m\u001b[38;5;241m.\u001b[39mregions]\n",
      "\u001b[0;31mValueError\u001b[0m: cannot convert float NaN to integer"
     ]
    }
   ],
   "source": [
    "# run the scenarios\n",
    "models = do_fit_scenarios(base_model_args=model_args, scenario_args_list=scenario_model_args, fit_args=model_fit_args, multiprocess=multiprocess)"
   ]
  },
  {
   "cell_type": "markdown",
   "metadata": {
    "pycharm": {
     "name": "#%% md\n"
    }
   },
   "source": [
    "### Run the report for each fit model"
   ]
  },
  {
   "cell_type": "code",
   "execution_count": null,
   "metadata": {
    "pycharm": {
     "name": "#%%\n"
    }
   },
   "outputs": [],
   "source": [
    "do_create_multiple_reports(models, multiprocess=multiprocess, outdir=outdir, prep_model=False, solve_model=True, immun_variants=['ba2121', 'ba45'], from_date='2022-01-01')"
   ]
  },
  {
   "cell_type": "code",
   "execution_count": null,
   "metadata": {
    "pycharm": {
     "name": "#%%\n"
    }
   },
   "outputs": [],
   "source": [
    "logging.info('Projecting')\n",
    "for model in models:\n",
    "    logging.info('')\n",
    "    #model.prep()  # don't think we need to prep anymore.\n",
    "    model.solve_seir()\n",
    "\n",
    "    model.solution_sum_df(['seir', 'variant', 'immun']).unstack().to_csv(get_filepath_prefix(outdir, tags=model.tags) + 'states_seir_variant_immun_total_all_at_once_projection.csv')\n",
    "    model.solution_sum_df().unstack().to_csv(get_filepath_prefix(outdir, tags=model.tags) + 'states_full_projection.csv')\n",
    "\n",
    "    logging.info(f'{str(model.tags)}: Running forward sim')\n",
    "    fig = plt.figure(figsize=(10, 10), dpi=300)\n",
    "    ax = fig.add_subplot(211)\n",
    "    hosps_df = model.modeled_vs_observed_hosps().reset_index('region').drop(columns='region')\n",
    "    hosps_df.plot(ax=ax)\n",
    "    ax.set_xlim(dt.datetime.strptime('2022-01-01', \"%Y-%m-%d\").date(), dt.datetime.strptime('2022-09-15', \"%Y-%m-%d\").date())\n",
    "    ax = fig.add_subplot(212)\n",
    "    plot_transmission_control(model, ax=ax)\n",
    "    ax.set_xlim(dt.datetime.strptime('2022-01-01', \"%Y-%m-%d\").date(), dt.datetime.strptime('2022-09-15', \"%Y-%m-%d\").date())\n",
    "    plt.savefig(get_filepath_prefix(outdir, tags=model.tags) + 'model_forecast.png')\n",
    "    plt.close()\n",
    "    hosps_df.to_csv(get_filepath_prefix(outdir, tags=model.tags) + '_model_forecast.csv')\n",
    "    json.dump(model.tc, open(get_filepath_prefix(outdir, tags=model.tags) + 'model_forecast_tc.json', 'w'))\n",
    "\n",
    "logging.info('Running reports')"
   ]
  },
  {
   "cell_type": "code",
   "execution_count": null,
   "metadata": {},
   "outputs": [],
   "source": [
    "do_create_multiple_reports(models, multiprocess=multiprocess, outdir=outdir, prep_model=False, solve_model=True, immun_variants=['ba2121', 'ba45'], from_date='2022-01-01')"
   ]
  },
  {
   "cell_type": "code",
   "execution_count": null,
   "metadata": {
    "pycharm": {
     "name": "#%%\n"
    }
   },
   "outputs": [],
   "source": [
    "logging.info('Projecting')\n",
    "for model in models:\n",
    "    logging.info('')\n",
    "    #model.prep()  # don't think we need to prep anymore.\n",
    "    model.solve_seir()\n",
    "\n",
    "    model.solution_sum_df(['seir', 'variant', 'immun']).unstack().to_csv(get_filepath_prefix(outdir, tags=model.tags) + 'states_seir_variant_immun_total_all_at_once_projection.csv')\n",
    "    model.solution_sum_df().unstack().to_csv(get_filepath_prefix(outdir, tags=model.tags) + 'states_full_projection.csv')\n",
    "\n",
    "    logging.info(f'{str(model.tags)}: Running forward sim')\n",
    "    fig = plt.figure(figsize=(10, 10), dpi=300)\n",
    "    ax = fig.add_subplot(211)\n",
    "    hosps_df = model.modeled_vs_observed_hosps().reset_index('region').drop(columns='region')\n",
    "    hosps_df.plot(ax=ax)\n",
    "    ax.set_xlim(dt.datetime.strptime('2022-01-01', \"%Y-%m-%d\").date(), dt.datetime.strptime('2022-09-15', \"%Y-%m-%d\").date())\n",
    "    ax = fig.add_subplot(212)\n",
    "    plot_transmission_control(model, ax=ax)\n",
    "    ax.set_xlim(dt.datetime.strptime('2022-01-01', \"%Y-%m-%d\").date(), dt.datetime.strptime('2022-09-15', \"%Y-%m-%d\").date())\n",
    "    plt.savefig(get_filepath_prefix(outdir, tags=model.tags) + 'model_forecast.png')\n",
    "    plt.close()\n",
    "    hosps_df.to_csv(get_filepath_prefix(outdir, tags=model.tags) + '_model_forecast.csv')\n",
    "    json.dump(model.tc, open(get_filepath_prefix(outdir, tags=model.tags) + 'model_forecast_tc.json', 'w'))\n",
    "\n",
    "logging.info('Running reports')"
   ]
  }
 ],
 "metadata": {
  "kernelspec": {
   "display_name": "Python 3 (ipykernel)",
   "language": "python",
   "name": "python3"
  },
  "language_info": {
   "codemirror_mode": {
    "name": "ipython",
    "version": 3
   },
   "file_extension": ".py",
   "mimetype": "text/x-python",
   "name": "python",
   "nbconvert_exporter": "python",
   "pygments_lexer": "ipython3",
   "version": "3.9.13"
  }
 },
 "nbformat": 4,
 "nbformat_minor": 4
}
