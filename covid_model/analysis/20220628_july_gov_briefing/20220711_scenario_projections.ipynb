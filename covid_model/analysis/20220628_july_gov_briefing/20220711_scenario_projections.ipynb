{
 "cells": [
  {
   "cell_type": "code",
   "execution_count": null,
   "outputs": [],
   "source": [
    "\"\"\" Python Standard Library \"\"\"\n",
    "import os\n",
    "import datetime as dt\n",
    "import json\n",
    "import logging\n",
    "\"\"\" Third Party Imports \"\"\"\n",
    "import numpy as np\n",
    "from matplotlib import pyplot as plt\n",
    "%matplotlib inline\n",
    "\"\"\" Local Imports \"\"\"\n",
    "if 'requirements.txt' not in os.listdir(os.getcwd()):\n",
    "    os.chdir(os.path.join('..','..','..'))\n",
    "print(os.getcwd())\n",
    "from covid_model import CovidModel\n",
    "from covid_model.runnable_functions import do_single_fit, do_create_report\n",
    "from covid_model.utils import setup, get_filepath_prefix\n",
    "from covid_model.analysis.charts import plot_transmission_control\n",
    "\n",
    "os.environ['gcp_project'] = ''\n",
    "os.environ['GOOGLE_APPLICATION_CREDENTIALS'] = \"\"\n",
    "\n",
    "outdir = setup(\"20220628_qc_from_june_briefing.ipynb\")"
   ],
   "metadata": {
    "collapsed": false,
    "pycharm": {
     "name": "#%%\n"
    }
   }
  },
  {
   "cell_type": "code",
   "execution_count": null,
   "outputs": [],
   "source": [
    "import pandas as pd\n",
    "obs_fpath = \"covid_model/analysis/20220628_july_gov_briefing/CDPHE Variant Data (manually transcribed and limited to model variants).csv\"\n",
    "obs = pd.read_csv(obs_fpath, parse_dates=['Date']).fillna(0)\n",
    "obs['Date'] = [d.date() for d in obs['Date']]\n",
    "obs = obs.set_index('Date')"
   ],
   "metadata": {
    "collapsed": false,
    "pycharm": {
     "name": "#%%\n"
    }
   }
  },
  {
   "cell_type": "code",
   "execution_count": null,
   "outputs": [],
   "source": [
    "model_args = {\n",
    "    #'base_spec_id': 3014,\n",
    "    'params_defs': 'covid_model/analysis/20220628_july_gov_briefing/scenario_params.json'),\n",
    "    'region_defs': 'covid_model/input/region_definitions.json',\n",
    "    'vacc_proj_params': 'covid_model/input/vacc_proj_params.json',\n",
    "    'regions': ['co'],\n",
    "    'mobility_mode': None,\n",
    "    'start_date': '2020-01-24',\n",
    "    'end_date': '2022-09-18',\n",
    "    'max_step_size': 1.0,\n",
    "    'ode_method': 'RK45'\n",
    "}\n",
    "# compute vacc effectiveness\n",
    "frac_lt5 = 5.7/(5.7+6+6.4+6.3)\n",
    "vacc_eff_lt5 = 0.5\n",
    "\n",
    "# Create different scenarios to model\n",
    "scenario_model_args = []\n",
    "for hosp_frac in [0.3, 0.5, 0.8]:\n",
    "    for school_contact_increase in [1.0, 1.1, 1.2]: \n",
    "        hrf = {\"2020-01-01\": 1, \"2022-03-01\": 0.8, \"2022-03-15\": 0.66, \"2022-03-30\": 0.5}\n",
    "        school_contact = [{\"param\": \"betta\", \"attrs\": {'age': '0-19'}, \"vals\": {,\"desc\": \"\"},]\n",
    "        lt5_vacc_adjsut = [{\"param\": \"immunity\",    \"attrs\": {'age': '0-19'}, \"mults\": {\"2020-01-01\": , \"2021-12-23\": 2, \"2022-03-05\": 300, \"2022-03-9\": 400, \"2022-03-20\": 0},\"desc\": \"\"},]\n",
    "        scenario_args_list.append({'params_defs': base_model_args['params_defs'] + school_contact + ,\n",
    "                                   'hosp_reporting_frac': hosp_frac,\n",
    "                                   'tags': {}})\n",
    "        for (weak_escape, strong_escape) in [(0.75, 0.1), (0.8, 0.2)]:\n",
    "\n",
    "    # run the scenarios\n",
    "    models = do_fit_scenarios(base_model_args, scenario_args_list, fit_args, multiprocess=multiprocess)\n",
    "\n",
    "# create initial solution so we don't have to fit the whole window\n",
    "model = CovidModel(**model_args)\n",
    "model.prep(outdir=outdir)\n",
    "model.solve_seir()\n",
    "# now fit, but only the period of time which is different from the base spec id\n",
    "fit_args = {\n",
    "    #'fit_start_date': '2021-11-01',\n",
    "    #'fit_end_date': '2022-05-01',\n",
    "    'tc_min': 0.0,\n",
    "    'tc_max': 0.999,\n",
    "    'tc_window_size': 14,\n",
    "    'tc_window_batch_size': 6,\n",
    "    'tc_batch_increment': 2,\n",
    "    'last_tc_window_min_size': 14,\n",
    "    'outdir': outdir\n",
    "}\n",
    "model = do_single_fit(**fit_args, base_model = model, prep_model=False)"
   ],
   "metadata": {
    "collapsed": false,
    "pycharm": {
     "name": "#%%\n"
    }
   }
  },
  {
   "cell_type": "code",
   "execution_count": null,
   "outputs": [],
   "source": [
    "model.solve_seir()\n",
    "soln = model.solution_sum_df(['seir', 'variant'])"
   ],
   "metadata": {
    "collapsed": false,
    "pycharm": {
     "name": "#%%\n"
    }
   }
  }
 ],
 "metadata": {
  "kernelspec": {
   "display_name": "Python 3 (ipykernel)",
   "language": "python",
   "name": "python3"
  },
  "language_info": {
   "codemirror_mode": {
    "name": "ipython",
    "version": 3
   },
   "file_extension": ".py",
   "mimetype": "text/x-python",
   "name": "python",
   "nbconvert_exporter": "python",
   "pygments_lexer": "ipython3",
   "version": "3.9.0"
  }
 },
 "nbformat": 4,
 "nbformat_minor": 4
}