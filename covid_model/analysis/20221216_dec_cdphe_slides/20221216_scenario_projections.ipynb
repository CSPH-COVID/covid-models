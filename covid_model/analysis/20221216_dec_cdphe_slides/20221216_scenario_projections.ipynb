{
 "cells": [
  {
   "cell_type": "markdown",
   "metadata": {
    "pycharm": {
     "name": "#%% md\n"
    }
   },
   "source": [
    "### Setup"
   ]
  },
  {
   "cell_type": "code",
   "execution_count": 1,
   "metadata": {
    "pycharm": {
     "name": "#%%\n"
    }
   },
   "outputs": [
    {
     "name": "stdout",
     "output_type": "stream",
     "text": [
      "/Users/emwu9912/PycharmProjects/covid-models\n"
     ]
    }
   ],
   "source": [
    "\"\"\" Python Standard Library \"\"\"\n",
    "import os\n",
    "import datetime as dt\n",
    "import json\n",
    "import logging\n",
    "\"\"\" Third Party Imports \"\"\"\n",
    "import numpy as np\n",
    "import pandas as pd\n",
    "from matplotlib import pyplot as plt\n",
    "%matplotlib inline\n",
    "import seaborn as sns\n",
    "import fnmatch\n",
    "\"\"\" Local Imports \"\"\"\n",
    "if 'requirements.txt' not in os.listdir(os.getcwd()):\n",
    "    os.chdir(os.path.join('..','..','..'))\n",
    "print(os.getcwd())\n",
    "from covid_model.model import CovidModel\n",
    "from covid_model.runnable_functions import do_single_fit, do_fit_scenarios, do_create_report\n",
    "from covid_model.utils import setup, get_filepath_prefix, db_engine\n",
    "from covid_model.analysis.charts import plot_transmission_control\n",
    "\n",
    "os.environ['gcp_project'] = 'co-covid-models'\n",
    "os.environ['GOOGLE_APPLICATION_CREDENTIALS'] = \"co-covid-models-credentials.json\""
   ]
  },
  {
   "cell_type": "code",
   "execution_count": 2,
   "metadata": {
    "pycharm": {
     "name": "#%%\n"
    },
    "scrolled": true
   },
   "outputs": [
    {
     "name": "stderr",
     "output_type": "stream",
     "text": [
      "2022/12/14 10:06:03 INFO|============================================================\n"
     ]
    }
   ],
   "source": [
    "# set up the output directory for this Jupyter notebook\n",
    "outdir = setup(\"20221214_scenario_projections.ipynb\")"
   ]
  },
  {
   "cell_type": "code",
   "execution_count": 3,
   "metadata": {},
   "outputs": [],
   "source": [
    "# create an object called \"engine\" by running the db_engine function\n",
    "engine = db_engine()\n",
    "\n",
    "# get the date of the last reported hospitalization data point from EMResource (to set the stop date)\n",
    "last_hosp = pd.read_sql('select max(measure_date) from emresource.hospitalized', con = engine).iloc[0,0].isoformat()"
   ]
  },
  {
   "cell_type": "markdown",
   "metadata": {
    "pycharm": {
     "name": "#%% md\n"
    }
   },
   "source": [
    "### Fit an initial scenario through the end of February 2022"
   ]
  },
  {
   "cell_type": "code",
   "execution_count": 4,
   "metadata": {},
   "outputs": [],
   "source": [
    "# set inputs for the model\n",
    "\n",
    "# first establish the model start date (use the isoformat command to turn it into a string)\n",
    "startdate = dt.date(2020, 1, 24).isoformat()\n",
    "# then get today's date (so we can set end dates automatically)\n",
    "#today = dt.datetime.today().strftime(\"%Y-%m-%d\")\n",
    "# now calculate the end date (let's do 90 days from the date of the last reported hospitalization\n",
    "# but it can really be as long we we want)\n",
    "plus90 = dt.datetime.strptime(last_hosp, \"%Y-%m-%d\").date() + dt.timedelta(days = 90)\n",
    "# turn into a string\n",
    "enddate = plus90.isoformat()\n",
    "\n",
    "vacc_eff_lt5 = 0.5\n",
    "\n",
    "# set model arguments\n",
    "model_args = {\n",
    "    'params_defs': 'covid_model/analysis/20221202_dec_cdphe_slides/20221202_scenario_params.json',\n",
    "    #'region_defs': 'covid_model/input/region_definitions.json',\n",
    "    'vacc_proj_params': 'covid_model/analysis/20221202_dec_cdphe_slides/20221202_vacc_proj_params.json',\n",
    "    'start_date': startdate,\n",
    "    'end_date': enddate,\n",
    "    #'hosp_reporting_frac': {\"2020-01-01\": 1, \"2022-03-01\": 0.932, \"2022-03-15\": 0.868, \"2022-03-30\": 0.8},\n",
    "    'hosp_reporting_frac': {\"2020-01-01\": 1},\n",
    "    'lt5_vacc_adjust': {\"param\": \"immunity\", \"attrs\": {'age': '0-19', 'vacc': 'shot1'},\n",
    "                        \"mults\": {\"2020-01-01\": 1,\n",
    "                                  \"2022-06-20\": 0.99 + 0.01*vacc_eff_lt5,\n",
    "                                  \"2022-06-30\": 0.98 + 0.02*vacc_eff_lt5,\n",
    "                                  \"2022-07-10\": 0.97 + 0.03*vacc_eff_lt5,\n",
    "                                  \"2022-07-20\": 0.96 + 0.04*vacc_eff_lt5,\n",
    "                                  \"2022-08-10\": 0.95 + 0.05*vacc_eff_lt5,\n",
    "                                  \"2022-08-30\": 0.94 + 0.06*vacc_eff_lt5,\n",
    "                                  \"2022-09-20\": 0.93 + 0.07*vacc_eff_lt5},\n",
    "                        \"desc\": \"weighted average using share of 0-19 getting shot1 who are under 5\"}\n",
    "}\n",
    "\n",
    "# set output directory and end date for fit (i.e., the last day of the hospitalization data)\n",
    "fit_args = {\n",
    "    'outdir': outdir,\n",
    "    'fit_end_date': last_hosp\n",
    "}"
   ]
  },
  {
   "cell_type": "code",
   "execution_count": 5,
   "metadata": {
    "pycharm": {
     "name": "#%%\n"
    }
   },
   "outputs": [
    {
     "name": "stderr",
     "output_type": "stream",
     "text": [
      "2022/12/14 10:06:10 INFO|-------------------------|{} Retrieving vaccinations data\n",
      "2022/12/14 10:06:12 INFO|-------------------------|{} Constructing vaccination projections\n",
      "2022/12/14 10:06:12 INFO|-------------------------|{} Retrieving hospitalizations data\n",
      "2022/12/14 10:06:14 INFO|----------------------|{} Prepping Model\n",
      "2022/12/14 10:06:14 INFO|-----------------------|{} Prepping Model\n",
      "2022/12/14 10:07:28 INFO|----------------------|{} Model prepped for fitting in 74.268355292 seconds.\n",
      "2022/12/14 10:07:28 INFO|----------------------|{} Will fit 35 times\n",
      "2022/12/14 10:10:49 INFO|----------------------|{'fit_batch': '0'}: Transmission control fit 1/35 completed in 200.468807292 seconds: {0: {'co': 0.3156686001570057}, 14: {'co': 0.958507617261956}, 28: {'co': 0.6124158228607861}, 42: {'co': 3.944735803726292e-09}, 56: {'co': 0.6217427382537267}, 70: {'co': 0.9091010517948093}}\n",
      "2022/12/14 10:10:49 INFO|-----------------------|{'fit_batch': '0'}: Running forward sim\n",
      "2022/12/14 10:11:18 INFO|----------------------|{'fit_batch': '1'}: Transmission control fit 2/35 completed in 27.69303074999999 seconds: {28: {'co': 0.5855488809363933}, 42: {'co': 1.7038272025518203e-21}, 56: {'co': 0.6724962230183013}, 70: {'co': 0.843872794782406}, 84: {'co': 0.8178484532239733}, 98: {'co': 0.8806181686526653}}\n",
      "2022/12/14 10:11:18 INFO|-----------------------|{'fit_batch': '1'}: Running forward sim\n",
      "2022/12/14 10:11:49 INFO|----------------------|{'fit_batch': '2'}: Transmission control fit 3/35 completed in 29.770159416000013 seconds: {56: {'co': 0.6643582903480707}, 70: {'co': 0.8401282407561241}, 84: {'co': 0.8260665310112747}, 98: {'co': 0.8355151146072509}, 112: {'co': 0.8624561553153595}, 126: {'co': 0.9284565683842386}}\n",
      "2022/12/14 10:11:49 INFO|-----------------------|{'fit_batch': '2'}: Running forward sim\n",
      "2022/12/14 10:12:13 INFO|----------------------|{'fit_batch': '3'}: Transmission control fit 4/35 completed in 21.65812358300002 seconds: {84: {'co': 0.8267895232040339}, 98: {'co': 0.8319703280713466}, 112: {'co': 0.8783601940157894}, 126: {'co': 0.825477729833115}, 140: {'co': 0.7660104083946797}, 154: {'co': 0.658891626160737}}\n",
      "2022/12/14 10:12:13 INFO|-----------------------|{'fit_batch': '3'}: Running forward sim\n",
      "2022/12/14 10:12:36 INFO|----------------------|{'fit_batch': '4'}: Transmission control fit 5/35 completed in 21.121845584000027 seconds: {112: {'co': 0.8784667091425767}, 126: {'co': 0.8257543566988716}, 140: {'co': 0.7642118672778642}, 154: {'co': 0.6663464416816922}, 168: {'co': 0.8439501083996024}, 182: {'co': 0.7867849374771968}}\n",
      "2022/12/14 10:12:36 INFO|-----------------------|{'fit_batch': '4'}: Running forward sim\n",
      "2022/12/14 10:12:56 INFO|----------------------|{'fit_batch': '5'}: Transmission control fit 6/35 completed in 18.509057332999987 seconds: {140: {'co': 0.7639327595905058}, 154: {'co': 0.6668548921930136}, 168: {'co': 0.8433645690496271}, 182: {'co': 0.7829772282558287}, 196: {'co': 0.826224216522331}, 210: {'co': 0.7435100517193934}}\n",
      "2022/12/14 10:12:56 INFO|-----------------------|{'fit_batch': '5'}: Running forward sim\n",
      "2022/12/14 10:13:14 INFO|----------------------|{'fit_batch': '6'}: Transmission control fit 7/35 completed in 16.75449820800003 seconds: {168: {'co': 0.8431610371985304}, 182: {'co': 0.785528992141937}, 196: {'co': 0.8178371641348817}, 210: {'co': 0.7762650724655483}, 224: {'co': 0.7689732195894419}, 238: {'co': 0.7231794727801432}}\n",
      "2022/12/14 10:13:14 INFO|-----------------------|{'fit_batch': '6'}: Running forward sim\n",
      "2022/12/14 10:13:35 INFO|----------------------|{'fit_batch': '7'}: Transmission control fit 8/35 completed in 18.47082579199997 seconds: {196: {'co': 0.8175737441512501}, 210: {'co': 0.776955236438783}, 224: {'co': 0.7671311783386283}, 238: {'co': 0.7223202934389512}, 252: {'co': 0.7169389817834789}, 266: {'co': 0.6922467403853073}}\n",
      "2022/12/14 10:13:35 INFO|-----------------------|{'fit_batch': '7'}: Running forward sim\n",
      "2022/12/14 10:13:57 INFO|----------------------|{'fit_batch': '8'}: Transmission control fit 9/35 completed in 20.504893958999958 seconds: {224: {'co': 0.7684640828431553}, 238: {'co': 0.7183611989854412}, 252: {'co': 0.7228129941315121}, 266: {'co': 0.6820514410143013}, 280: {'co': 0.7211278044027738}, 294: {'co': 0.7542951940666724}}\n",
      "2022/12/14 10:13:57 INFO|-----------------------|{'fit_batch': '8'}: Running forward sim\n",
      "2022/12/14 10:14:15 INFO|----------------------|{'fit_batch': '9'}: Transmission control fit 10/35 completed in 16.30222866699995 seconds: {252: {'co': 0.7223791372949883}, 266: {'co': 0.6834693469783352}, 280: {'co': 0.7190291876963797}, 294: {'co': 0.7576612100584811}, 308: {'co': 0.8267496369553967}, 322: {'co': 0.7935490645655338}}\n",
      "2022/12/14 10:14:15 INFO|-----------------------|{'fit_batch': '9'}: Running forward sim\n",
      "2022/12/14 10:14:40 INFO|----------------------|{'fit_batch': '10'}: Transmission control fit 11/35 completed in 23.457626917000027 seconds: {280: {'co': 0.7187624209661073}, 294: {'co': 0.758608860060762}, 308: {'co': 0.8236876504895804}, 322: {'co': 0.8091316850279491}, 336: {'co': 0.7892342454908141}, 350: {'co': 0.7714614034122942}}\n",
      "2022/12/14 10:14:40 INFO|-----------------------|{'fit_batch': '10'}: Running forward sim\n",
      "2022/12/14 10:15:02 INFO|----------------------|{'fit_batch': '11'}: Transmission control fit 12/35 completed in 20.43107175 seconds: {308: {'co': 0.8228127039315678}, 322: {'co': 0.8109888226656721}, 336: {'co': 0.7842165325691013}, 350: {'co': 0.791269926145654}, 364: {'co': 0.8128410655363989}, 378: {'co': 0.7120211814626461}}\n",
      "2022/12/14 10:15:02 INFO|-----------------------|{'fit_batch': '11'}: Running forward sim\n",
      "2022/12/14 10:15:22 INFO|----------------------|{'fit_batch': '12'}: Transmission control fit 13/35 completed in 18.241313291999973 seconds: {336: {'co': 0.7839821132846345}, 350: {'co': 0.7932102106050412}, 364: {'co': 0.8065788549061731}, 378: {'co': 0.7392783340383813}, 392: {'co': 0.7987220305105248}, 406: {'co': 0.6138565400430173}}\n",
      "2022/12/14 10:15:22 INFO|-----------------------|{'fit_batch': '12'}: Running forward sim\n",
      "2022/12/14 10:15:42 INFO|----------------------|{'fit_batch': '13'}: Transmission control fit 14/35 completed in 18.62736337499996 seconds: {364: {'co': 0.8048556187347986}, 378: {'co': 0.7472565935060393}, 392: {'co': 0.7740976515337491}, 406: {'co': 0.7060928148248846}, 420: {'co': 0.7288388118963721}, 434: {'co': 0.6432264508363308}}\n",
      "2022/12/14 10:15:43 INFO|-----------------------|{'fit_batch': '13'}: Running forward sim\n",
      "2022/12/14 10:16:05 INFO|----------------------|{'fit_batch': '14'}: Transmission control fit 15/35 completed in 20.61372749999998 seconds: {392: {'co': 0.7731218113908842}, 406: {'co': 0.7123285144655117}, 420: {'co': 0.7147106778554047}, 434: {'co': 0.6818729062372968}, 448: {'co': 0.7389896368693636}, 462: {'co': 0.7892155893414625}}\n",
      "2022/12/14 10:16:05 INFO|-----------------------|{'fit_batch': '14'}: Running forward sim\n",
      "2022/12/14 10:16:24 INFO|----------------------|{'fit_batch': '15'}: Transmission control fit 16/35 completed in 17.53837179200002 seconds: {420: {'co': 0.7133882984850993}, 434: {'co': 0.6845649584682113}, 448: {'co': 0.7353645781792116}, 462: {'co': 0.810459732613894}, 476: {'co': 0.7882146401444501}, 490: {'co': 0.8463958143798274}}\n",
      "2022/12/14 10:16:24 INFO|-----------------------|{'fit_batch': '15'}: Running forward sim\n",
      "2022/12/14 10:16:39 INFO|----------------------|{'fit_batch': '16'}: Transmission control fit 17/35 completed in 13.109459750000042 seconds: {448: {'co': 0.7349179748707367}, 462: {'co': 0.8090913806343203}, 476: {'co': 0.7938306145521457}, 490: {'co': 0.8237405428483868}, 504: {'co': 0.7966657038062549}, 518: {'co': 0.7368192834214343}}\n",
      "2022/12/14 10:16:39 INFO|-----------------------|{'fit_batch': '16'}: Running forward sim\n",
      "2022/12/14 10:16:56 INFO|----------------------|{'fit_batch': '17'}: Transmission control fit 18/35 completed in 14.92213162500002 seconds: {476: {'co': 0.792796738151195}, 490: {'co': 0.8263506431341557}, 504: {'co': 0.7887317341097421}, 518: {'co': 0.7751730098000376}, 532: {'co': 0.7714359136585142}, 546: {'co': 0.6892626543624436}}\n",
      "2022/12/14 10:16:56 INFO|-----------------------|{'fit_batch': '17'}: Running forward sim\n"
     ]
    },
    {
     "name": "stderr",
     "output_type": "stream",
     "text": [
      "2022/12/14 10:17:09 INFO|----------------------|{'fit_batch': '18'}: Transmission control fit 19/35 completed in 11.721165958999904 seconds: {504: {'co': 0.7885893432125328}, 518: {'co': 0.7755428873046958}, 532: {'co': 0.770471129498822}, 546: {'co': 0.6913862702335343}, 560: {'co': 0.7444451285556622}, 574: {'co': 0.7306848572520808}}\n",
      "2022/12/14 10:17:09 INFO|-----------------------|{'fit_batch': '18'}: Running forward sim\n",
      "2022/12/14 10:17:25 INFO|----------------------|{'fit_batch': '19'}: Transmission control fit 20/35 completed in 14.577475625000034 seconds: {532: {'co': 0.7698768174598133}, 546: {'co': 0.6930916886620556}, 560: {'co': 0.741363970955406}, 574: {'co': 0.740395091749664}, 588: {'co': 0.7846167503526675}, 602: {'co': 0.7616864226740626}}\n",
      "2022/12/14 10:17:25 INFO|-----------------------|{'fit_batch': '19'}: Running forward sim\n",
      "2022/12/14 10:17:46 INFO|----------------------|{'fit_batch': '20'}: Transmission control fit 21/35 completed in 18.801578416999973 seconds: {560: {'co': 0.7415377652880861}, 574: {'co': 0.7400445444926751}, 588: {'co': 0.7853695527676964}, 602: {'co': 0.7628469164389106}, 616: {'co': 0.7151534807354224}, 630: {'co': 0.7272865077876298}}\n",
      "2022/12/14 10:17:46 INFO|-----------------------|{'fit_batch': '20'}: Running forward sim\n",
      "2022/12/14 10:18:07 INFO|----------------------|{'fit_batch': '21'}: Transmission control fit 22/35 completed in 19.424455291000072 seconds: {588: {'co': 0.7855553416746156}, 602: {'co': 0.7623863375550931}, 616: {'co': 0.7160675746630524}, 630: {'co': 0.7278429249596502}, 644: {'co': 0.7081875550675015}, 658: {'co': 0.738555842107373}}\n",
      "2022/12/14 10:18:07 INFO|-----------------------|{'fit_batch': '21'}: Running forward sim\n",
      "2022/12/14 10:18:32 INFO|----------------------|{'fit_batch': '22'}: Transmission control fit 23/35 completed in 23.447287791999997 seconds: {616: {'co': 0.7156837864299433}, 630: {'co': 0.7295108725099991}, 644: {'co': 0.7039873357982678}, 658: {'co': 0.7514229291333069}, 672: {'co': 0.7477200549218836}, 686: {'co': 0.8299051113781645}}\n",
      "2022/12/14 10:18:32 INFO|-----------------------|{'fit_batch': '22'}: Running forward sim\n",
      "2022/12/14 10:18:54 INFO|----------------------|{'fit_batch': '23'}: Transmission control fit 24/35 completed in 19.89290745800008 seconds: {644: {'co': 0.7054841813795576}, 658: {'co': 0.7476059816576688}, 672: {'co': 0.7597781357466867}, 686: {'co': 0.7951855736330774}, 700: {'co': 0.7493042058970432}, 714: {'co': 0.7784317525539876}}\n",
      "2022/12/14 10:18:54 INFO|-----------------------|{'fit_batch': '23'}: Running forward sim\n",
      "2022/12/14 10:19:15 INFO|----------------------|{'fit_batch': '24'}: Transmission control fit 25/35 completed in 19.240605874999915 seconds: {672: {'co': 0.7595668458878349}, 686: {'co': 0.7966059096890418}, 700: {'co': 0.7485426773136638}, 714: {'co': 0.7806381182505333}, 728: {'co': 0.7750529127336636}, 742: {'co': 0.7587093725332403}}\n",
      "2022/12/14 10:19:15 INFO|-----------------------|{'fit_batch': '24'}: Running forward sim\n",
      "2022/12/14 10:19:30 INFO|----------------------|{'fit_batch': '25'}: Transmission control fit 26/35 completed in 13.203472292000015 seconds: {700: {'co': 0.7484344773915313}, 714: {'co': 0.7809199758226539}, 728: {'co': 0.7742525971164497}, 742: {'co': 0.7633544549993286}, 756: {'co': 0.7376708341295439}, 770: {'co': 0.7879242542728931}}\n",
      "2022/12/14 10:19:30 INFO|-----------------------|{'fit_batch': '25'}: Running forward sim\n",
      "2022/12/14 10:19:55 INFO|----------------------|{'fit_batch': '26'}: Transmission control fit 27/35 completed in 23.278425167000023 seconds: {728: {'co': 0.7743461023383551}, 742: {'co': 0.7628520933229995}, 756: {'co': 0.7402525291583004}, 770: {'co': 0.7723082997331431}, 784: {'co': 0.7716097599055713}, 798: {'co': 0.788687785682292}}\n",
      "2022/12/14 10:19:55 INFO|-----------------------|{'fit_batch': '26'}: Running forward sim\n",
      "2022/12/14 10:20:17 INFO|----------------------|{'fit_batch': '27'}: Transmission control fit 28/35 completed in 20.302862457999936 seconds: {756: {'co': 0.7408133046941363}, 770: {'co': 0.7733290494340658}, 784: {'co': 0.7728438753708082}, 798: {'co': 0.7806452683657799}, 812: {'co': 0.792252173357198}, 826: {'co': 0.8185223312982133}}\n",
      "2022/12/14 10:20:17 INFO|-----------------------|{'fit_batch': '27'}: Running forward sim\n",
      "2022/12/14 10:20:40 INFO|----------------------|{'fit_batch': '28'}: Transmission control fit 29/35 completed in 20.952810999999997 seconds: {784: {'co': 0.7734900156979222}, 798: {'co': 0.778462545000495}, 812: {'co': 0.7975013710334172}, 826: {'co': 0.808605368066866}, 840: {'co': 0.8203753868158236}, 854: {'co': 0.8153848320558522}}\n",
      "2022/12/14 10:20:40 INFO|-----------------------|{'fit_batch': '28'}: Running forward sim\n",
      "2022/12/14 10:20:58 INFO|----------------------|{'fit_batch': '29'}: Transmission control fit 30/35 completed in 16.816975542000023 seconds: {812: {'co': 0.7972116704027497}, 826: {'co': 0.8095606451276047}, 840: {'co': 0.818990399195199}, 854: {'co': 0.8173319457700233}, 868: {'co': 0.848027622045755}, 882: {'co': 0.8262183291087126}}\n",
      "2022/12/14 10:20:58 INFO|-----------------------|{'fit_batch': '29'}: Running forward sim\n",
      "2022/12/14 10:21:17 INFO|----------------------|{'fit_batch': '30'}: Transmission control fit 31/35 completed in 17.499531875000002 seconds: {840: {'co': 0.8187162106536764}, 854: {'co': 0.8178738790015849}, 868: {'co': 0.8470226325075446}, 882: {'co': 0.8295562939507362}, 896: {'co': 0.8281255150999044}, 910: {'co': 0.8359376380640147}}\n",
      "2022/12/14 10:21:17 INFO|-----------------------|{'fit_batch': '30'}: Running forward sim\n",
      "2022/12/14 10:21:39 INFO|----------------------|{'fit_batch': '31'}: Transmission control fit 32/35 completed in 19.341797999999926 seconds: {868: {'co': 0.8466648084193575}, 882: {'co': 0.8292592074001105}, 896: {'co': 0.8296005973270995}, 910: {'co': 0.8307007544889703}, 924: {'co': 0.8340603810557585}, 938: {'co': 0.7995631367070332}}\n",
      "2022/12/14 10:21:39 INFO|-----------------------|{'fit_batch': '31'}: Running forward sim\n",
      "2022/12/14 10:22:02 INFO|----------------------|{'fit_batch': '32'}: Transmission control fit 33/35 completed in 21.75131695899995 seconds: {896: {'co': 0.8294675539922238}, 910: {'co': 0.8310685181681021}, 924: {'co': 0.8325875143512433}, 938: {'co': 0.8078225390412948}, 952: {'co': 0.8276213526534155}, 966: {'co': 0.7850688338312217}}\n",
      "2022/12/14 10:22:02 INFO|-----------------------|{'fit_batch': '32'}: Running forward sim\n",
      "2022/12/14 10:22:29 INFO|----------------------|{'fit_batch': '33'}: Transmission control fit 34/35 completed in 25.205921791000037 seconds: {924: {'co': 0.8324031154463437}, 938: {'co': 0.8086789273831135}, 952: {'co': 0.8248739129082934}, 966: {'co': 0.7955206178450508}, 980: {'co': 0.80642539351299}, 994: {'co': 0.7802620124750688}}\n",
      "2022/12/14 10:22:29 INFO|-----------------------|{'fit_batch': '33'}: Running forward sim\n",
      "2022/12/14 10:23:16 INFO|----------------------|{'fit_batch': '34'}: Transmission control fit 35/35 completed in 45.690767166 seconds: {952: {'co': 0.8260640803005935}, 966: {'co': 0.794321129913521}, 980: {'co': 0.8096851858410735}, 994: {'co': 0.7708003016516137}, 1008: {'co': 0.7434939988253727}, 1022: {'co': 0.8080021942999478}}\n",
      "2022/12/14 10:23:16 INFO|-----------------------|{'fit_batch': '34'}: Running forward sim\n",
      "2022/12/14 10:23:18 INFO|----------------------|{'fit_batch': '34', 'run_type': 'fit'}: fitted TC: {0: {'co': 0.3156686001570057}, 14: {'co': 0.958507617261956}, 28: {'co': 0.5855488809363933}, 42: {'co': 1.7038272025518203e-21}, 56: {'co': 0.6643582903480707}, 70: {'co': 0.8401282407561241}, 84: {'co': 0.8267895232040339}, 98: {'co': 0.8319703280713466}, 112: {'co': 0.8784667091425767}, 126: {'co': 0.8257543566988716}, 140: {'co': 0.7639327595905058}, 154: {'co': 0.6668548921930136}, 168: {'co': 0.8431610371985304}, 182: {'co': 0.785528992141937}, 196: {'co': 0.8175737441512501}, 210: {'co': 0.776955236438783}, 224: {'co': 0.7684640828431553}, 238: {'co': 0.7183611989854412}, 252: {'co': 0.7223791372949883}, 266: {'co': 0.6834693469783352}, 280: {'co': 0.7187624209661073}, 294: {'co': 0.758608860060762}, 308: {'co': 0.8228127039315678}, 322: {'co': 0.8109888226656721}, 336: {'co': 0.7839821132846345}, 350: {'co': 0.7932102106050412}, 364: {'co': 0.8048556187347986}, 378: {'co': 0.7472565935060393}, 392: {'co': 0.7731218113908842}, 406: {'co': 0.7123285144655117}, 420: {'co': 0.7133882984850993}, 434: {'co': 0.6845649584682113}, 448: {'co': 0.7349179748707367}, 462: {'co': 0.8090913806343203}, 476: {'co': 0.792796738151195}, 490: {'co': 0.8263506431341557}, 504: {'co': 0.7885893432125328}, 518: {'co': 0.7755428873046958}, 532: {'co': 0.7698768174598133}, 546: {'co': 0.6930916886620556}, 560: {'co': 0.7415377652880861}, 574: {'co': 0.7400445444926751}, 588: {'co': 0.7855553416746156}, 602: {'co': 0.7623863375550931}, 616: {'co': 0.7156837864299433}, 630: {'co': 0.7295108725099991}, 644: {'co': 0.7054841813795576}, 658: {'co': 0.7476059816576688}, 672: {'co': 0.7595668458878349}, 686: {'co': 0.7966059096890418}, 700: {'co': 0.7484344773915313}, 714: {'co': 0.7809199758226539}, 728: {'co': 0.7743461023383551}, 742: {'co': 0.7628520933229995}, 756: {'co': 0.7408133046941363}, 770: {'co': 0.7733290494340658}, 784: {'co': 0.7734900156979222}, 798: {'co': 0.778462545000495}, 812: {'co': 0.7972116704027497}, 826: {'co': 0.8095606451276047}, 840: {'co': 0.8187162106536764}, 854: {'co': 0.8178738790015849}, 868: {'co': 0.8466648084193575}, 882: {'co': 0.8292592074001105}, 896: {'co': 0.8294675539922238}, 910: {'co': 0.8310685181681021}, 924: {'co': 0.8324031154463437}, 938: {'co': 0.8086789273831135}, 952: {'co': 0.8260640803005935}, 966: {'co': 0.794321129913521}, 980: {'co': 0.8096851858410735}, 994: {'co': 0.7708003016516137}, 1008: {'co': 0.7434939988253727}, 1022: {'co': 0.808002209201109}}\n"
     ]
    },
    {
     "name": "stderr",
     "output_type": "stream",
     "text": [
      "2022/12/14 10:23:18 INFO|-----------------------|{'fit_batch': '34', 'run_type': 'fit'}: Running forward sim\n",
      "2022/12/14 10:23:20 INFO|----------------------|{'fit_batch': '34', 'run_type': 'fit'}: Uploading final results\n",
      "2022/12/14 10:23:26 INFO|----------------------|{'fit_batch': '34', 'run_type': 'fit'}: spec_id: 4564\n"
     ]
    }
   ],
   "source": [
    "# if you want to refit the model, run this code\n",
    "# this creates an object called \"model\" by passing the fit_args and model_args through the do_single_fit function\n",
    "# otherwise, run the next cell down\n",
    "model = do_single_fit(**fit_args, **model_args)"
   ]
  },
  {
   "cell_type": "code",
   "execution_count": null,
   "metadata": {},
   "outputs": [],
   "source": [
    "# if you want to pass an old fit spec ID through, run this code\n",
    "# otherwise, refit using the code above\n",
    "#model_args = {\n",
    "    #'base_spec_id': 4515, # use the spec id that was output from the model fit you want to pass through\n",
    "#}\n",
    "# create an object called \"model\" by passing the above-mentioned model_args through CovidModel\n",
    "#model = CovidModel(**model_args)\n",
    "# prep the model\n",
    "#model.prep()"
   ]
  },
  {
   "cell_type": "code",
   "execution_count": 8,
   "metadata": {},
   "outputs": [],
   "source": [
    "#### output the TC json file to csv\n",
    "\n",
    "# path to model output where tc .json's are\n",
    "results_dir = \"../output/20221214_scenario_projections.ipynb\"\n",
    "tc_files = []\n",
    "pattern = '*run_type_fit__model_tc.json'\n",
    "\n",
    "# grab all forecast tc json files\n",
    "tc_files = [os.path.join(outdir, file) for file in os.listdir(outdir) if fnmatch.fnmatch(file, pattern)]\n",
    "\n",
    "# turn into .csv files and put in output directory\n",
    "for file in tc_files:\n",
    "    df = pd.read_json(file)\n",
    "    file_new = file.replace('.json','.csv' )\n",
    "    df.to_csv(file_new)"
   ]
  },
  {
   "cell_type": "code",
   "execution_count": null,
   "metadata": {},
   "outputs": [],
   "source": [
    "# Brittney, can you write a small script that pulls the last few TC values (say eight weeks back)\n",
    "# then extract the min, max, and mean of that range?"
   ]
  },
  {
   "cell_type": "markdown",
   "metadata": {
    "pycharm": {
     "name": "#%% md\n"
    }
   },
   "source": [
    "### Run the model"
   ]
  },
  {
   "cell_type": "code",
   "execution_count": 9,
   "metadata": {
    "pycharm": {
     "name": "#%%\n"
    }
   },
   "outputs": [
    {
     "name": "stderr",
     "output_type": "stream",
     "text": [
      "2022/12/14 10:38:12 INFO|Projecting\n",
      "2022/12/14 10:38:12 INFO|\n",
      "2022/12/14 10:38:17 WARNING|No artists with labels found to put in legend.  Note that artists whose label start with an underscore are ignored when legend() is called with no argument.\n",
      "2022/12/14 10:40:10 INFO|{'fit_batch': '34', 'run_type': 'fit', 'tc': 0.7435}: Running forward sim\n",
      "2022/12/14 10:40:12 INFO|Running reports\n",
      "2022/12/14 10:40:12 INFO|\n",
      "2022/12/14 10:40:17 WARNING|No artists with labels found to put in legend.  Note that artists whose label start with an underscore are ignored when legend() is called with no argument.\n",
      "2022/12/14 10:42:11 INFO|{'fit_batch': '34', 'run_type': 'fit', 'tc': 0.7853}: Running forward sim\n",
      "2022/12/14 10:42:13 INFO|Running reports\n",
      "2022/12/14 10:42:13 INFO|\n",
      "2022/12/14 10:42:17 WARNING|No artists with labels found to put in legend.  Note that artists whose label start with an underscore are ignored when legend() is called with no argument.\n",
      "2022/12/14 10:44:12 INFO|{'fit_batch': '34', 'run_type': 'fit', 'tc': 0.8097}: Running forward sim\n",
      "2022/12/14 10:44:13 INFO|Running reports\n"
     ]
    }
   ],
   "source": [
    "# now create the reports for the model, indexing through all the values of TC we want to simulate\n",
    "logging.info('Projecting')\n",
    "# input the three TC values: min, mean, and max\n",
    "for tc in [0.7435, 0.7853, 0.8097]:\n",
    "    logging.info('')\n",
    "    model.update_tc({model.date_to_t(last_hosp): {'co': tc}}, replace = False)\n",
    "    model.tags.update({'tc': tc})\n",
    "    model.solve_seir()\n",
    "    do_create_report(model, outdir=outdir, prep_model=False, solve_model=False, immun_variants=['ba45', 'emv'], from_date='2022-01-01')\n",
    "\n",
    "    model.solution_sum_df(['seir', 'variant', 'immun']).unstack().to_csv(get_filepath_prefix(outdir, tags=model.tags) + 'states_seir_variant_immun_total_all_at_once_projection.csv')\n",
    "    model.solution_sum_df().unstack().to_csv(get_filepath_prefix(outdir, tags=model.tags) + 'states_full_projection.csv')\n",
    "\n",
    "    logging.info(f'{str(model.tags)}: Running forward sim')\n",
    "    fig = plt.figure(figsize=(10, 10), dpi=300)\n",
    "    ax = fig.add_subplot(211)\n",
    "    hosps_df = model.modeled_vs_observed_hosps().reset_index('region').drop(columns='region')\n",
    "    hosps_df.plot(ax=ax)\n",
    "    ax.set_xlim(dt.datetime.strptime('2022-01-01', \"%Y-%m-%d\").date(), enddate)\n",
    "    ax = fig.add_subplot(212)\n",
    "    plot_transmission_control(model, ax=ax)\n",
    "    ax.set_xlim(dt.datetime.strptime('2022-01-01', \"%Y-%m-%d\").date(), enddate)\n",
    "    plt.savefig(get_filepath_prefix(outdir, tags=model.tags) + 'model_forecast.png')\n",
    "    plt.close()\n",
    "    hosps_df.to_csv(get_filepath_prefix(outdir, tags=model.tags) + '_model_forecast.csv')\n",
    "    json.dump(model.tc, open(get_filepath_prefix(outdir, tags=model.tags) + 'model_forecast_tc.json', 'w'))\n",
    "\n",
    "    logging.info('Running reports')"
   ]
  }
 ],
 "metadata": {
  "kernelspec": {
   "display_name": "Python 3 (ipykernel)",
   "language": "python",
   "name": "python3"
  },
  "language_info": {
   "codemirror_mode": {
    "name": "ipython",
    "version": 3
   },
   "file_extension": ".py",
   "mimetype": "text/x-python",
   "name": "python",
   "nbconvert_exporter": "python",
   "pygments_lexer": "ipython3",
   "version": "3.9.13"
  }
 },
 "nbformat": 4,
 "nbformat_minor": 4
}
