{
 "cells": [
  {
   "cell_type": "markdown",
   "metadata": {
    "pycharm": {
     "name": "#%% md\n"
    }
   },
   "source": [
    "### Setup"
   ]
  },
  {
   "cell_type": "code",
   "execution_count": 2,
   "metadata": {
    "pycharm": {
     "name": "#%%\n"
    }
   },
   "outputs": [
    {
     "name": "stdout",
     "output_type": "stream",
     "text": [
      "/Users/emwu9912/PycharmProjects/covid-models\n"
     ]
    }
   ],
   "source": [
    "# this first setup block will pretty much always stay the same\n",
    "\"\"\" Python Standard Library \"\"\"\n",
    "import os\n",
    "import datetime as dt\n",
    "import json\n",
    "import logging\n",
    "\"\"\" Third Party Imports \"\"\"\n",
    "import numpy as np\n",
    "from matplotlib import pyplot as plt\n",
    "%matplotlib inline\n",
    "\"\"\" Local Imports \"\"\"\n",
    "if 'requirements.txt' not in os.listdir(os.getcwd()):\n",
    "    os.chdir(os.path.join('..','..','..'))\n",
    "print(os.getcwd())\n",
    "from covid_model import CovidModel\n",
    "from covid_model.runnable_functions import do_single_fit, do_create_multiple_reports, do_fit_scenarios\n",
    "from covid_model.utils import setup, get_filepath_prefix\n",
    "from covid_model.analysis.charts import plot_transmission_control\n",
    "\n",
    "os.environ['gcp_project'] = 'co-covid-models'\n",
    "os.environ['GOOGLE_APPLICATION_CREDENTIALS'] = \"co-covid-models-credentials.json\""
   ]
  },
  {
   "cell_type": "code",
   "execution_count": 3,
   "metadata": {
    "pycharm": {
     "name": "#%%\n"
    }
   },
   "outputs": [
    {
     "name": "stderr",
     "output_type": "stream",
     "text": [
      "2022/08/02 08:14:32 INFO|============================================================\n"
     ]
    }
   ],
   "source": [
    "# set up the output directory for this Jupyter notebook\n",
    "outdir = setup(\"20220815_scenario_projections.ipynb\")"
   ]
  },
  {
   "cell_type": "markdown",
   "metadata": {
    "pycharm": {
     "name": "#%% md\n"
    }
   },
   "source": [
    "### Fit an initial scenario through Feb 2022"
   ]
  },
  {
   "cell_type": "code",
   "execution_count": 4,
   "metadata": {
    "pycharm": {
     "name": "#%%\n"
    }
   },
   "outputs": [
    {
     "name": "stderr",
     "output_type": "stream",
     "text": [
      "2022/08/01 14:14:30 INFO|-------------------------|{} Retrieving vaccinations data\n",
      "2022/08/01 14:14:37 INFO|-------------------------|{} Constructing vaccination projections\n",
      "2022/08/01 14:14:37 INFO|-------------------------|{} Retrieving hospitalizations data\n",
      "2022/08/01 14:14:38 INFO|----------------------|{} Prepping Model\n",
      "2022/08/01 14:14:38 INFO|-----------------------|{} Prepping Model\n",
      "2022/08/01 14:15:32 INFO|----------------------|{} Model prepped for fitting in 54.13200379099999 seconds.\n",
      "2022/08/01 14:15:32 INFO|----------------------|{} Will fit 25 times\n",
      "2022/08/01 14:17:02 INFO|----------------------|{'fit_batch': '0'}: Transmission control fit 1/25 completed in 89.500094709 seconds: {0: {'co': 0.8773342920133839}, 14: {'co': 0.6854869128115542}, 28: {'co': 0.5378778726564099}, 42: {'co': 0.0005295181905471819}, 56: {'co': 0.6816113314978964}, 70: {'co': 0.8911952767526848}}\n",
      "2022/08/01 14:17:02 INFO|-----------------------|{'fit_batch': '0'}: Running forward sim\n",
      "2022/08/01 14:17:22 INFO|----------------------|{'fit_batch': '1'}: Transmission control fit 2/25 completed in 18.866026832999978 seconds: {28: {'co': 0.5312085495123385}, 42: {'co': 9.17481924148225e-14}, 56: {'co': 0.695117117941214}, 70: {'co': 0.835970060813551}, 84: {'co': 0.8208849315884128}, 98: {'co': 0.8733255726720605}}\n",
      "2022/08/01 14:17:22 INFO|-----------------------|{'fit_batch': '1'}: Running forward sim\n",
      "2022/08/01 14:17:41 INFO|----------------------|{'fit_batch': '2'}: Transmission control fit 3/25 completed in 17.455306000000007 seconds: {56: {'co': 0.7004798432020942}, 70: {'co': 0.8356322478699926}, 84: {'co': 0.8296299809868841}, 98: {'co': 0.8332667907817428}, 112: {'co': 0.8688569571901523}, 126: {'co': 0.9094085244544845}}\n",
      "2022/08/01 14:17:41 INFO|-----------------------|{'fit_batch': '2'}: Running forward sim\n",
      "2022/08/01 14:18:00 INFO|----------------------|{'fit_batch': '3'}: Transmission control fit 4/25 completed in 17.32749445799999 seconds: {84: {'co': 0.8298061649141574}, 98: {'co': 0.8311910701540246}, 112: {'co': 0.8777363510462372}, 126: {'co': 0.8236665463769257}, 140: {'co': 0.7631239438121024}, 154: {'co': 0.6614366742391141}}\n",
      "2022/08/01 14:18:00 INFO|-----------------------|{'fit_batch': '3'}: Running forward sim\n",
      "2022/08/01 14:18:17 INFO|----------------------|{'fit_batch': '4'}: Transmission control fit 5/25 completed in 16.249173333000044 seconds: {112: {'co': 0.8778136907198419}, 126: {'co': 0.8241104215652926}, 140: {'co': 0.7609083191640308}, 154: {'co': 0.670766279142572}, 168: {'co': 0.843700161999062}, 182: {'co': 0.7841336802282418}}\n",
      "2022/08/01 14:18:17 INFO|-----------------------|{'fit_batch': '4'}: Running forward sim\n",
      "2022/08/01 14:18:34 INFO|----------------------|{'fit_batch': '5'}: Transmission control fit 6/25 completed in 15.580030333000025 seconds: {140: {'co': 0.7606632612324116}, 154: {'co': 0.6711880275449327}, 168: {'co': 0.8432114377664893}, 182: {'co': 0.7802293362229245}, 196: {'co': 0.8275752578347332}, 210: {'co': 0.7404064769870397}}\n",
      "2022/08/01 14:18:34 INFO|-----------------------|{'fit_batch': '5'}: Running forward sim\n",
      "2022/08/01 14:18:48 INFO|----------------------|{'fit_batch': '6'}: Transmission control fit 7/25 completed in 12.770274959000005 seconds: {168: {'co': 0.843030767299243}, 182: {'co': 0.7826561834881246}, 196: {'co': 0.8196322797091385}, 210: {'co': 0.7710692282705948}, 224: {'co': 0.7742679890001303}, 238: {'co': 0.7168390992430299}}\n",
      "2022/08/01 14:18:48 INFO|-----------------------|{'fit_batch': '6'}: Running forward sim\n",
      "2022/08/01 14:19:06 INFO|----------------------|{'fit_batch': '7'}: Transmission control fit 8/25 completed in 16.343402875000038 seconds: {196: {'co': 0.8191830554171712}, 210: {'co': 0.7726034283937625}, 224: {'co': 0.7703978091935572}, 238: {'co': 0.7217705051437812}, 252: {'co': 0.7178214103743299}, 266: {'co': 0.6919165707502479}}\n",
      "2022/08/01 14:19:06 INFO|-----------------------|{'fit_batch': '7'}: Running forward sim\n",
      "2022/08/01 14:19:22 INFO|----------------------|{'fit_batch': '8'}: Transmission control fit 9/25 completed in 14.780820542000015 seconds: {224: {'co': 0.7713676651676141}, 238: {'co': 0.7185596197504118}, 252: {'co': 0.722675541016725}, 266: {'co': 0.6833595794633424}, 280: {'co': 0.7225472408131655}, 294: {'co': 0.7520349850606908}}\n",
      "2022/08/01 14:19:22 INFO|-----------------------|{'fit_batch': '8'}: Running forward sim\n",
      "2022/08/01 14:19:42 INFO|----------------------|{'fit_batch': '9'}: Transmission control fit 10/25 completed in 18.30082329199996 seconds: {252: {'co': 0.7222209123366246}, 266: {'co': 0.6848822753308852}, 280: {'co': 0.7201843953349751}, 294: {'co': 0.7566998911417118}, 308: {'co': 0.8255125233085406}, 322: {'co': 0.7964132912838344}}\n",
      "2022/08/01 14:19:42 INFO|-----------------------|{'fit_batch': '9'}: Running forward sim\n",
      "2022/08/01 14:19:58 INFO|----------------------|{'fit_batch': '10'}: Transmission control fit 11/25 completed in 14.150675292000017 seconds: {280: {'co': 0.7199443377723465}, 294: {'co': 0.7575590111802091}, 308: {'co': 0.8227587398385026}, 322: {'co': 0.8100838140963943}, 336: {'co': 0.7880953943436285}, 350: {'co': 0.7724360128691957}}\n",
      "2022/08/01 14:19:58 INFO|-----------------------|{'fit_batch': '10'}: Running forward sim\n",
      "2022/08/01 14:20:13 INFO|----------------------|{'fit_batch': '11'}: Transmission control fit 12/25 completed in 14.556451041999992 seconds: {308: {'co': 0.8226615739216321}, 322: {'co': 0.8113710429684717}, 336: {'co': 0.7829722901327849}, 350: {'co': 0.7933241205655119}, 364: {'co': 0.8127630654161944}, 378: {'co': 0.710125104511365}}\n",
      "2022/08/01 14:20:13 INFO|-----------------------|{'fit_batch': '11'}: Running forward sim\n",
      "2022/08/01 14:20:28 INFO|----------------------|{'fit_batch': '12'}: Transmission control fit 13/25 completed in 13.121466666000003 seconds: {336: {'co': 0.782596504972317}, 350: {'co': 0.7952543151621825}, 364: {'co': 0.805408843037282}, 378: {'co': 0.7405955157602199}, 392: {'co': 0.8048543322748674}, 406: {'co': 0.608126315436927}}\n",
      "2022/08/01 14:20:28 INFO|-----------------------|{'fit_batch': '12'}: Running forward sim\n",
      "2022/08/01 14:20:51 INFO|----------------------|{'fit_batch': '13'}: Transmission control fit 14/25 completed in 22.078126291000046 seconds: {364: {'co': 0.8042522141027488}, 378: {'co': 0.748436442047567}, 392: {'co': 0.7800286058406628}, 406: {'co': 0.7089035693991618}, 420: {'co': 0.7339756905357638}, 434: {'co': 0.6534995318022868}}\n",
      "2022/08/01 14:20:51 INFO|-----------------------|{'fit_batch': '13'}: Running forward sim\n",
      "2022/08/01 14:21:11 INFO|----------------------|{'fit_batch': '14'}: Transmission control fit 15/25 completed in 18.49043483400004 seconds: {392: {'co': 0.7792619395036927}, 406: {'co': 0.7150687685068648}, 420: {'co': 0.7206796434794582}, 434: {'co': 0.6919582266457434}, 448: {'co': 0.7480587660691848}, 462: {'co': 0.8074055400134947}}\n",
      "2022/08/01 14:21:11 INFO|-----------------------|{'fit_batch': '14'}: Running forward sim\n",
      "2022/08/01 14:21:32 INFO|----------------------|{'fit_batch': '15'}: Transmission control fit 16/25 completed in 19.791579958000057 seconds: {420: {'co': 0.7204071168602064}, 434: {'co': 0.6926833175266156}, 448: {'co': 0.7461617698836834}, 462: {'co': 0.8202528549736028}, 476: {'co': 0.7958999316487501}, 490: {'co': 0.8586072244277076}}\n",
      "2022/08/01 14:21:32 INFO|-----------------------|{'fit_batch': '15'}: Running forward sim\n",
      "2022/08/01 14:21:51 INFO|----------------------|{'fit_batch': '16'}: Transmission control fit 17/25 completed in 16.852248791999955 seconds: {448: {'co': 0.7469357692469727}, 462: {'co': 0.8194616434274935}, 476: {'co': 0.8014246182755056}, 490: {'co': 0.8367327956096938}, 504: {'co': 0.8050295014735618}, 518: {'co': 0.7595930726387399}}\n",
      "2022/08/01 14:21:51 INFO|-----------------------|{'fit_batch': '16'}: Running forward sim\n",
      "2022/08/01 14:22:06 INFO|----------------------|{'fit_batch': '17'}: Transmission control fit 18/25 completed in 14.02541558300004 seconds: {476: {'co': 0.8003384309650257}, 490: {'co': 0.838591313652497}, 504: {'co': 0.7984062321345851}, 518: {'co': 0.7902684454140311}, 532: {'co': 0.7772119989908297}, 546: {'co': 0.7162954761823143}}\n",
      "2022/08/01 14:22:06 INFO|-----------------------|{'fit_batch': '17'}: Running forward sim\n"
     ]
    },
    {
     "name": "stderr",
     "output_type": "stream",
     "text": [
      "2022/08/01 14:22:22 INFO|----------------------|{'fit_batch': '18'}: Transmission control fit 19/25 completed in 15.03286987499996 seconds: {504: {'co': 0.7977162242700062}, 518: {'co': 0.7923907094046225}, 532: {'co': 0.771324650296121}, 546: {'co': 0.7261267680111922}, 560: {'co': 0.7583946257234445}, 574: {'co': 0.7537571465068}}\n",
      "2022/08/01 14:22:22 INFO|-----------------------|{'fit_batch': '18'}: Running forward sim\n",
      "2022/08/01 14:22:41 INFO|----------------------|{'fit_batch': '19'}: Transmission control fit 20/25 completed in 16.925778165999986 seconds: {532: {'co': 0.7711685074647038}, 546: {'co': 0.7277849260555459}, 560: {'co': 0.7548322212055819}, 574: {'co': 0.7638947932868047}, 588: {'co': 0.7998401988726278}, 602: {'co': 0.7810998735125031}}\n",
      "2022/08/01 14:22:41 INFO|-----------------------|{'fit_batch': '19'}: Running forward sim\n",
      "2022/08/01 14:22:53 INFO|----------------------|{'fit_batch': '20'}: Transmission control fit 21/25 completed in 11.281610582999974 seconds: {560: {'co': 0.7550364406378572}, 574: {'co': 0.7632382394696103}, 588: {'co': 0.8009567370409882}, 602: {'co': 0.7802768378712344}, 616: {'co': 0.7348707946016125}, 630: {'co': 0.7575267503265308}}\n",
      "2022/08/01 14:22:53 INFO|-----------------------|{'fit_batch': '20'}: Running forward sim\n",
      "2022/08/01 14:23:10 INFO|----------------------|{'fit_batch': '21'}: Transmission control fit 22/25 completed in 14.982472291000022 seconds: {588: {'co': 0.8012479092581936}, 602: {'co': 0.7793758471737031}, 616: {'co': 0.7371095266039408}, 630: {'co': 0.7529581901192842}, 644: {'co': 0.7351487268828218}, 658: {'co': 0.7647349870269766}}\n",
      "2022/08/01 14:23:10 INFO|-----------------------|{'fit_batch': '21'}: Running forward sim\n",
      "2022/08/01 14:23:56 INFO|----------------------|{'fit_batch': '22'}: Transmission control fit 23/25 completed in 44.87785324999993 seconds: {616: {'co': 0.7367260895421608}, 630: {'co': 0.7541418586826002}, 644: {'co': 0.73234247715899}, 658: {'co': 0.778239798091072}, 672: {'co': 0.760229227826482}, 686: {'co': 0.829686899674191}}\n",
      "2022/08/01 14:23:56 INFO|-----------------------|{'fit_batch': '22'}: Running forward sim\n",
      "2022/08/01 14:24:20 INFO|----------------------|{'fit_batch': '23'}: Transmission control fit 24/25 completed in 22.981980083000053 seconds: {644: {'co': 0.7334257897479987}, 658: {'co': 0.7729635952146265}, 672: {'co': 0.7777800501296619}, 686: {'co': 0.7610701744300219}, 700: {'co': 0.6708271458082863}, 714: {'co': 0.8126259391886529}}\n",
      "2022/08/01 14:24:20 INFO|-----------------------|{'fit_batch': '23'}: Running forward sim\n",
      "2022/08/01 14:24:48 INFO|----------------------|{'fit_batch': '24'}: Transmission control fit 25/25 completed in 26.629368125000042 seconds: {672: {'co': 0.7774230449464756}, 686: {'co': 0.7618938429979563}, 700: {'co': 0.668442486959404}, 714: {'co': 0.8171368356453669}, 728: {'co': 0.8613206831157214}, 742: {'co': 0.8816655901336333}}\n",
      "2022/08/01 14:24:48 INFO|-----------------------|{'fit_batch': '24'}: Running forward sim\n",
      "2022/08/01 14:24:50 INFO|----------------------|{'fit_batch': '24', 'run_type': 'fit'}: fitted TC: {0: {'co': 0.8773342909396418}, 14: {'co': 0.6854869158846699}, 28: {'co': 0.5312085495123385}, 42: {'co': 9.17481924148225e-14}, 56: {'co': 0.7004798432020942}, 70: {'co': 0.8356322478699926}, 84: {'co': 0.8298061649141574}, 98: {'co': 0.8311910701540246}, 112: {'co': 0.8778136907198419}, 126: {'co': 0.8241104215652926}, 140: {'co': 0.7606632612324116}, 154: {'co': 0.6711880275449327}, 168: {'co': 0.843030767299243}, 182: {'co': 0.7826561834881246}, 196: {'co': 0.8191830554171712}, 210: {'co': 0.7726034283937625}, 224: {'co': 0.7713676651676141}, 238: {'co': 0.7185596197504118}, 252: {'co': 0.7222209123366246}, 266: {'co': 0.6848822753308852}, 280: {'co': 0.7199443377723465}, 294: {'co': 0.7575590111802091}, 308: {'co': 0.8226615739216321}, 322: {'co': 0.8113710429684717}, 336: {'co': 0.782596504972317}, 350: {'co': 0.7952543151621825}, 364: {'co': 0.8042522141027488}, 378: {'co': 0.748436442047567}, 392: {'co': 0.7792619395036927}, 406: {'co': 0.7150687685068648}, 420: {'co': 0.7204071168602064}, 434: {'co': 0.6926833175266156}, 448: {'co': 0.7469357692469727}, 462: {'co': 0.8194616434274935}, 476: {'co': 0.8003384309650257}, 490: {'co': 0.838591313652497}, 504: {'co': 0.7977162242700062}, 518: {'co': 0.7923907094046225}, 532: {'co': 0.7711685074647038}, 546: {'co': 0.7277849260555459}, 560: {'co': 0.7550364406378572}, 574: {'co': 0.7632382394696103}, 588: {'co': 0.8012479092581936}, 602: {'co': 0.7793758471737031}, 616: {'co': 0.7367260895421608}, 630: {'co': 0.7541418586826002}, 644: {'co': 0.7334257897479987}, 658: {'co': 0.7729635952146265}, 672: {'co': 0.7774230449464756}, 686: {'co': 0.7618938429979563}, 700: {'co': 0.668442486959404}, 714: {'co': 0.8171368356453669}, 728: {'co': 0.8613206831157214}, 742: {'co': 0.8816656050347945}}\n",
      "2022/08/01 14:24:50 INFO|-----------------------|{'fit_batch': '24', 'run_type': 'fit'}: Running forward sim\n",
      "2022/08/01 14:24:51 INFO|----------------------|{'fit_batch': '24', 'run_type': 'fit'}: Uploading final results\n",
      "2022/08/01 14:25:00 INFO|----------------------|{'fit_batch': '24', 'run_type': 'fit'}: spec_id: 3470\n"
     ]
    }
   ],
   "source": [
    "# designate the arguments for how the model will behave\n",
    "model_args = {\n",
    "    'params_defs': 'covid_model/analysis/20220815_aug_gov_briefing/20220815_scenario_params.json',\n",
    "    'region_defs': 'covid_model/input/region_definitions.json',\n",
    "    'vacc_proj_params': 'covid_model/analysis/20220815_aug_gov_briefing/vacc_proj_params.json',\n",
    "    'start_date': '2020-01-24',\n",
    "    'end_date': '2022-10-18',\n",
    "}\n",
    "\n",
    "# this is how the fit will behave\n",
    "# place the outdir argument here to tell the model fit where to go\n",
    "fit_args = {'outdir': outdir,\n",
    "            'fit_end_date': '2022-02-28'\n",
    "}\n",
    "\n",
    "# because all the scenarios are the same \n",
    "model = do_single_fit(**fit_args, **model_args)"
   ]
  },
  {
   "cell_type": "markdown",
   "metadata": {
    "pycharm": {
     "name": "#%% md\n"
    }
   },
   "source": [
    "### Create and run scenarios from Feb 2022 to present"
   ]
  },
  {
   "cell_type": "code",
   "execution_count": 4,
   "metadata": {
    "pycharm": {
     "name": "#%%\n"
    }
   },
   "outputs": [],
   "source": [
    "multiprocess = 6\n",
    "\n",
    "scenario_params = json.load(open(\"covid_model/analysis/20220815_aug_gov_briefing/20220815_scenario_params.json\"))\n",
    "\n",
    "model_args = {\n",
    "    'base_spec_id': 3470 #model.spec_id # use the spec id that was output from the model fit\n",
    "}\n",
    "model_fit_args = {\n",
    "    'outdir': outdir,\n",
    "    'fit_start_date': '2022-03-01', # set the start date for the earliest point at which the scenarios start to differ from one another\n",
    "    'pre_solve_model': True # force the model to establish initial conditions so the fit can start on the fit start date\n",
    "}\n",
    "\n",
    "# compute vacc effectiveness for < 5 (this is a multiplier for the baseline vaccine effectiveness for 0-19)\n",
    "vacc_eff_lt5 = 0.5\n",
    "\n",
    "# Create different scenarios to model\n",
    "scenario_model_args = []\n",
    "for hosp_frac in [0.7, 0.8, 0.9]:\n",
    "    for school_contact_increase in [1.1, 1.2]:\n",
    "        for beta_mult in [0.95, 1.0, 1.05]:\n",
    "            hrf = {\"2020-01-01\": 1, \"2022-03-01\": (0.66 + 0.34*hosp_frac), \"2022-03-15\": (0.34 + 0.66*hosp_frac), \"2022-03-30\": hosp_frac}\n",
    "            beta_param_adjustment = [{\"param\": \"betta\",\n",
    "                                      \"attrs\": {\"variant\": \"ba45\"},\n",
    "                                      \"mults\": {\"2020-01-01\": beta_mult},\n",
    "                                      \"desc\": \"sensitivity analysis for beta\"}]\n",
    "            school_contact = [{\"param\": \"betta\",\n",
    "                               \"attrs\": {'age': '0-19'},\n",
    "                               \"mults\": {\"2020-01-01\": 1, \"2022-08-15\": school_contact_increase},\n",
    "                               \"desc\": \"After August 15th, beta increases by a factor of the school contact increase\"}]\n",
    "            lt5_vacc_adjust = [{\"param\": \"immunity\",\n",
    "                                \"attrs\": {'age': '0-19', 'vacc': 'shot1'},\n",
    "                                \"mults\": {\"2020-01-01\": 1, \"2022-06-20\": 0.99 + 0.01*vacc_eff_lt5,\n",
    "                                          \"2022-06-30\": 0.98 + 0.02*vacc_eff_lt5, \"2022-07-10\": 0.97 + 0.03*vacc_eff_lt5,\n",
    "                                          \"2022-07-20\": 0.96 + 0.04*vacc_eff_lt5, \"2022-07-30\": 0.95 + 0.05*vacc_eff_lt5},\n",
    "                                \"desc\": \"Starting June 20th, the share of 0-19 getting vaccinated who are < 5 are weighted by the vaccine effectiveness multiplier for this age group\"}]\n",
    "            scenario_model_args.append({'params_defs': scenario_params + beta_param_adjustment + school_contact + lt5_vacc_adjust,\n",
    "                                        'hosp_reporting_frac': hrf,\n",
    "                                        'tags': {'beta_mult': beta_mult, 'hosp_frac': hosp_frac, 'school_contact_increase': school_contact_increase}})\n",
    "            \n",
    "            "
   ]
  },
  {
   "cell_type": "code",
   "execution_count": 5,
   "metadata": {},
   "outputs": [
    {
     "data": {
      "text/plain": [
       "18"
      ]
     },
     "execution_count": 5,
     "metadata": {},
     "output_type": "execute_result"
    }
   ],
   "source": [
    "# check how many scenarios there are\n",
    "len(scenario_model_args)"
   ]
  },
  {
   "cell_type": "code",
   "execution_count": 12,
   "metadata": {},
   "outputs": [
    {
     "name": "stderr",
     "output_type": "stream",
     "text": [
      "2022/08/02 09:59:33 INFO|============================================================\n",
      "2022/08/02 09:59:33 INFO|============================================================\n",
      "2022/08/02 09:59:33 INFO|============================================================\n",
      "2022/08/02 09:59:33 INFO|============================================================\n",
      "2022/08/02 09:59:33 INFO|============================================================\n",
      "2022/08/02 09:59:33 INFO|============================================================\n",
      "2022/08/02 09:59:36 INFO|-----------|{'beta_mult': 0.95, 'hosp_frac': 0.7, 'school_contact_increase': 1.2} Retrieving vaccinations data\n",
      "2022/08/02 09:59:36 INFO|-----------|{'beta_mult': 1.0, 'hosp_frac': 0.7, 'school_contact_increase': 1.1} Retrieving vaccinations data\n",
      "2022/08/02 09:59:36 INFO|-----------|{'beta_mult': 1.05, 'hosp_frac': 0.7, 'school_contact_increase': 1.1} Retrieving vaccinations data\n",
      "2022/08/02 09:59:36 INFO|-----------|{'beta_mult': 1.0, 'hosp_frac': 0.7, 'school_contact_increase': 1.2} Retrieving vaccinations data\n",
      "2022/08/02 09:59:36 INFO|-----------|{'beta_mult': 0.95, 'hosp_frac': 0.7, 'school_contact_increase': 1.1} Retrieving vaccinations data\n",
      "2022/08/02 09:59:36 INFO|-----------|{'beta_mult': 1.05, 'hosp_frac': 0.7, 'school_contact_increase': 1.2} Retrieving vaccinations data\n",
      "2022/08/02 09:59:38 INFO|-----------|{'beta_mult': 1.05, 'hosp_frac': 0.7, 'school_contact_increase': 1.1} Constructing vaccination projections\n",
      "2022/08/02 09:59:38 INFO|-----------|{'beta_mult': 0.95, 'hosp_frac': 0.7, 'school_contact_increase': 1.2} Constructing vaccination projections\n",
      "2022/08/02 09:59:38 INFO|-----------|{'beta_mult': 1.05, 'hosp_frac': 0.7, 'school_contact_increase': 1.1} Retrieving hospitalizations data\n",
      "2022/08/02 09:59:38 INFO|-----------|{'beta_mult': 0.95, 'hosp_frac': 0.7, 'school_contact_increase': 1.2} Retrieving hospitalizations data\n",
      "2022/08/02 09:59:38 INFO|-----------|{'beta_mult': 0.95, 'hosp_frac': 0.7, 'school_contact_increase': 1.1} Constructing vaccination projections\n",
      "2022/08/02 09:59:38 INFO|-----------|{'beta_mult': 0.95, 'hosp_frac': 0.7, 'school_contact_increase': 1.1} Retrieving hospitalizations data\n",
      "2022/08/02 09:59:38 INFO|-----------|{'beta_mult': 1.0, 'hosp_frac': 0.7, 'school_contact_increase': 1.2} Constructing vaccination projections\n",
      "2022/08/02 09:59:38 INFO|-----------|{'beta_mult': 1.0, 'hosp_frac': 0.7, 'school_contact_increase': 1.2} Retrieving hospitalizations data\n",
      "2022/08/02 09:59:38 INFO|-----------|{'beta_mult': 1.05, 'hosp_frac': 0.7, 'school_contact_increase': 1.2} Constructing vaccination projections\n",
      "2022/08/02 09:59:38 INFO|-----------|{'beta_mult': 1.05, 'hosp_frac': 0.7, 'school_contact_increase': 1.2} Retrieving hospitalizations data\n",
      "2022/08/02 09:59:38 INFO|-----------|{'beta_mult': 1.0, 'hosp_frac': 0.7, 'school_contact_increase': 1.1} Constructing vaccination projections\n",
      "2022/08/02 09:59:38 INFO|-----------|{'beta_mult': 1.0, 'hosp_frac': 0.7, 'school_contact_increase': 1.1} Retrieving hospitalizations data\n",
      "2022/08/02 09:59:39 INFO|--------|{'beta_mult': 1.0, 'hosp_frac': 0.7, 'school_contact_increase': 1.2} Prepping Model\n",
      "2022/08/02 09:59:39 INFO|---------|{'beta_mult': 1.0, 'hosp_frac': 0.7, 'school_contact_increase': 1.2} Prepping Model\n",
      "2022/08/02 09:59:39 INFO|--------|{'beta_mult': 0.95, 'hosp_frac': 0.7, 'school_contact_increase': 1.2} Prepping Model\n",
      "2022/08/02 09:59:39 INFO|---------|{'beta_mult': 0.95, 'hosp_frac': 0.7, 'school_contact_increase': 1.2} Prepping Model\n",
      "2022/08/02 09:59:39 INFO|--------|{'beta_mult': 0.95, 'hosp_frac': 0.7, 'school_contact_increase': 1.1} Prepping Model\n",
      "2022/08/02 09:59:39 INFO|---------|{'beta_mult': 0.95, 'hosp_frac': 0.7, 'school_contact_increase': 1.1} Prepping Model\n",
      "2022/08/02 09:59:39 INFO|--------|{'beta_mult': 1.05, 'hosp_frac': 0.7, 'school_contact_increase': 1.2} Prepping Model\n",
      "2022/08/02 09:59:39 INFO|---------|{'beta_mult': 1.05, 'hosp_frac': 0.7, 'school_contact_increase': 1.2} Prepping Model\n",
      "2022/08/02 09:59:39 INFO|--------|{'beta_mult': 1.0, 'hosp_frac': 0.7, 'school_contact_increase': 1.1} Prepping Model\n",
      "2022/08/02 09:59:39 INFO|---------|{'beta_mult': 1.0, 'hosp_frac': 0.7, 'school_contact_increase': 1.1} Prepping Model\n",
      "2022/08/02 09:59:39 INFO|--------|{'beta_mult': 1.05, 'hosp_frac': 0.7, 'school_contact_increase': 1.1} Prepping Model\n",
      "2022/08/02 09:59:39 INFO|---------|{'beta_mult': 1.05, 'hosp_frac': 0.7, 'school_contact_increase': 1.1} Prepping Model\n",
      "2022/08/02 10:00:39 INFO|--------|{'beta_mult': 1.05, 'hosp_frac': 0.7, 'school_contact_increase': 1.2} Model prepped for fitting in 59.3266415 seconds.\n",
      "2022/08/02 10:00:39 INFO|--------|{'beta_mult': 1.05, 'hosp_frac': 0.7, 'school_contact_increase': 1.2} Solving Model ODE\n",
      "2022/08/02 10:00:39 INFO|--------|{'beta_mult': 1.0, 'hosp_frac': 0.7, 'school_contact_increase': 1.2} Model prepped for fitting in 59.779508917 seconds.\n",
      "2022/08/02 10:00:39 INFO|--------|{'beta_mult': 1.0, 'hosp_frac': 0.7, 'school_contact_increase': 1.2} Solving Model ODE\n",
      "2022/08/02 10:00:39 INFO|--------|{'beta_mult': 1.0, 'hosp_frac': 0.7, 'school_contact_increase': 1.1} Model prepped for fitting in 59.83467675000001 seconds.\n",
      "2022/08/02 10:00:39 INFO|--------|{'beta_mult': 1.0, 'hosp_frac': 0.7, 'school_contact_increase': 1.1} Solving Model ODE\n",
      "2022/08/02 10:00:39 INFO|--------|{'beta_mult': 0.95, 'hosp_frac': 0.7, 'school_contact_increase': 1.2} Model prepped for fitting in 59.84111020899999 seconds.\n",
      "2022/08/02 10:00:39 INFO|--------|{'beta_mult': 0.95, 'hosp_frac': 0.7, 'school_contact_increase': 1.2} Solving Model ODE\n",
      "2022/08/02 10:00:39 INFO|--------|{'beta_mult': 1.05, 'hosp_frac': 0.7, 'school_contact_increase': 1.1} Model prepped for fitting in 59.838211542 seconds.\n",
      "2022/08/02 10:00:39 INFO|--------|{'beta_mult': 1.05, 'hosp_frac': 0.7, 'school_contact_increase': 1.1} Solving Model ODE\n",
      "2022/08/02 10:00:39 INFO|--------|{'beta_mult': 0.95, 'hosp_frac': 0.7, 'school_contact_increase': 1.1} Model prepped for fitting in 60.095610666999995 seconds.\n",
      "2022/08/02 10:00:39 INFO|--------|{'beta_mult': 0.95, 'hosp_frac': 0.7, 'school_contact_increase': 1.1} Solving Model ODE\n",
      "2022/08/02 10:00:41 INFO|--------|{'beta_mult': 1.05, 'hosp_frac': 0.7, 'school_contact_increase': 1.2} Model solved in 2.6690790000000106 seconds.\n",
      "2022/08/02 10:00:41 INFO|--------|{'beta_mult': 1.05, 'hosp_frac': 0.7, 'school_contact_increase': 1.2} Will fit 3 times\n",
      "2022/08/02 10:00:42 INFO|--------|{'beta_mult': 1.0, 'hosp_frac': 0.7, 'school_contact_increase': 1.2} Model solved in 2.666193375000006 seconds.\n",
      "2022/08/02 10:00:42 INFO|--------|{'beta_mult': 1.0, 'hosp_frac': 0.7, 'school_contact_increase': 1.2} Will fit 3 times\n",
      "2022/08/02 10:00:42 INFO|--------|{'beta_mult': 1.0, 'hosp_frac': 0.7, 'school_contact_increase': 1.1} Model solved in 2.639607833999989 seconds.\n",
      "2022/08/02 10:00:42 INFO|--------|{'beta_mult': 1.0, 'hosp_frac': 0.7, 'school_contact_increase': 1.1} Will fit 3 times\n",
      "2022/08/02 10:00:42 INFO|--------|{'beta_mult': 0.95, 'hosp_frac': 0.7, 'school_contact_increase': 1.2} Model solved in 2.703556082999995 seconds.\n",
      "2022/08/02 10:00:42 INFO|--------|{'beta_mult': 0.95, 'hosp_frac': 0.7, 'school_contact_increase': 1.2} Will fit 3 times\n",
      "2022/08/02 10:00:42 INFO|--------|{'beta_mult': 1.05, 'hosp_frac': 0.7, 'school_contact_increase': 1.1} Model solved in 2.684229667000011 seconds.\n",
      "2022/08/02 10:00:42 INFO|--------|{'beta_mult': 1.05, 'hosp_frac': 0.7, 'school_contact_increase': 1.1} Will fit 3 times\n",
      "2022/08/02 10:00:42 INFO|--------|{'beta_mult': 0.95, 'hosp_frac': 0.7, 'school_contact_increase': 1.1} Model solved in 2.6556585000000013 seconds.\n",
      "2022/08/02 10:00:42 INFO|--------|{'beta_mult': 0.95, 'hosp_frac': 0.7, 'school_contact_increase': 1.1} Will fit 3 times\n",
      "2022/08/02 10:01:07 INFO|--------|{'beta_mult': 1.05, 'hosp_frac': 0.7, 'school_contact_increase': 1.2, 'fit_batch': '0'}: Transmission control fit 1/3 completed in 25.230692208999997 seconds: {767: {'co': 0.8850657751214427}, 781: {'co': 0.8862508621347298}, 795: {'co': 0.8696644124923341}, 809: {'co': 0.8637662843799861}, 823: {'co': 0.865376565033736}, 837: {'co': 0.8561551078838291}}\n",
      "2022/08/02 10:01:07 INFO|---------|{'beta_mult': 1.05, 'hosp_frac': 0.7, 'school_contact_increase': 1.2, 'fit_batch': '0'}: Running forward sim\n"
     ]
    },
    {
     "name": "stderr",
     "output_type": "stream",
     "text": [
      "2022/08/02 10:01:07 INFO|--------|{'beta_mult': 1.05, 'hosp_frac': 0.7, 'school_contact_increase': 1.1, 'fit_batch': '0'}: Transmission control fit 1/3 completed in 25.321762375000006 seconds: {767: {'co': 0.8850657751214427}, 781: {'co': 0.8862508621347298}, 795: {'co': 0.8696644124923341}, 809: {'co': 0.8637662843799861}, 823: {'co': 0.865376565033736}, 837: {'co': 0.8561551078838291}}\n",
      "2022/08/02 10:01:07 INFO|---------|{'beta_mult': 1.05, 'hosp_frac': 0.7, 'school_contact_increase': 1.1, 'fit_batch': '0'}: Running forward sim\n",
      "2022/08/02 10:01:11 INFO|--------|{'beta_mult': 0.95, 'hosp_frac': 0.7, 'school_contact_increase': 1.1, 'fit_batch': '0'}: Transmission control fit 1/3 completed in 28.485094292000014 seconds: {767: {'co': 0.8850652107747761}, 781: {'co': 0.8862526571689991}, 795: {'co': 0.8696662744029191}, 809: {'co': 0.8636318569532261}, 823: {'co': 0.8648706618329708}, 837: {'co': 0.8543065012239389}}\n",
      "2022/08/02 10:01:11 INFO|---------|{'beta_mult': 0.95, 'hosp_frac': 0.7, 'school_contact_increase': 1.1, 'fit_batch': '0'}: Running forward sim\n",
      "2022/08/02 10:01:11 INFO|--------|{'beta_mult': 0.95, 'hosp_frac': 0.7, 'school_contact_increase': 1.2, 'fit_batch': '0'}: Transmission control fit 1/3 completed in 28.886148750000004 seconds: {767: {'co': 0.8850652107747761}, 781: {'co': 0.8862526571689991}, 795: {'co': 0.8696662744029191}, 809: {'co': 0.8636318569532261}, 823: {'co': 0.8648706618329708}, 837: {'co': 0.8543065012239389}}\n",
      "2022/08/02 10:01:11 INFO|---------|{'beta_mult': 0.95, 'hosp_frac': 0.7, 'school_contact_increase': 1.2, 'fit_batch': '0'}: Running forward sim\n",
      "2022/08/02 10:01:14 INFO|--------|{'beta_mult': 1.0, 'hosp_frac': 0.7, 'school_contact_increase': 1.2, 'fit_batch': '0'}: Transmission control fit 1/3 completed in 32.357881542 seconds: {767: {'co': 0.8850655830020667}, 781: {'co': 0.8862519131898059}, 795: {'co': 0.869665560933003}, 809: {'co': 0.8636975302456881}, 823: {'co': 0.8650773920459116}, 837: {'co': 0.855030310345014}}\n",
      "2022/08/02 10:01:14 INFO|--------|{'beta_mult': 1.0, 'hosp_frac': 0.7, 'school_contact_increase': 1.1, 'fit_batch': '0'}: Transmission control fit 1/3 completed in 32.324862708 seconds: {767: {'co': 0.8850655830020667}, 781: {'co': 0.8862519131898059}, 795: {'co': 0.869665560933003}, 809: {'co': 0.8636975302456881}, 823: {'co': 0.8650773920459116}, 837: {'co': 0.855030310345014}}\n",
      "2022/08/02 10:01:14 INFO|---------|{'beta_mult': 1.0, 'hosp_frac': 0.7, 'school_contact_increase': 1.2, 'fit_batch': '0'}: Running forward sim\n",
      "2022/08/02 10:01:14 INFO|---------|{'beta_mult': 1.0, 'hosp_frac': 0.7, 'school_contact_increase': 1.1, 'fit_batch': '0'}: Running forward sim\n",
      "2022/08/02 10:01:23 INFO|--------|{'beta_mult': 1.05, 'hosp_frac': 0.7, 'school_contact_increase': 1.2, 'fit_batch': '1'}: Transmission control fit 2/3 completed in 14.955658166999996 seconds: {795: {'co': 0.8696221090577917}, 809: {'co': 0.8646187307545811}, 823: {'co': 0.8631187514574611}, 837: {'co': 0.8616966828803289}, 851: {'co': 0.8515910982900199}, 865: {'co': 0.8769274674947062}}\n",
      "2022/08/02 10:01:23 INFO|---------|{'beta_mult': 1.05, 'hosp_frac': 0.7, 'school_contact_increase': 1.2, 'fit_batch': '1'}: Running forward sim\n",
      "2022/08/02 10:01:24 INFO|--------|{'beta_mult': 1.05, 'hosp_frac': 0.7, 'school_contact_increase': 1.1, 'fit_batch': '1'}: Transmission control fit 2/3 completed in 15.101773999999992 seconds: {795: {'co': 0.8696221090577917}, 809: {'co': 0.8646187307545811}, 823: {'co': 0.8631187514574611}, 837: {'co': 0.8616966828803289}, 851: {'co': 0.8515910982900199}, 865: {'co': 0.8769274674947062}}\n",
      "2022/08/02 10:01:24 INFO|---------|{'beta_mult': 1.05, 'hosp_frac': 0.7, 'school_contact_increase': 1.1, 'fit_batch': '1'}: Running forward sim\n",
      "2022/08/02 10:01:27 INFO|--------|{'beta_mult': 0.95, 'hosp_frac': 0.7, 'school_contact_increase': 1.1, 'fit_batch': '1'}: Transmission control fit 2/3 completed in 14.683911041000002 seconds: {795: {'co': 0.8695430483471154}, 809: {'co': 0.8646049169989819}, 823: {'co': 0.8624847656361863}, 837: {'co': 0.8600037025209045}, 851: {'co': 0.8457892507065125}, 865: {'co': 0.8670318238212035}}\n",
      "2022/08/02 10:01:27 INFO|---------|{'beta_mult': 0.95, 'hosp_frac': 0.7, 'school_contact_increase': 1.1, 'fit_batch': '1'}: Running forward sim\n",
      "2022/08/02 10:01:27 INFO|--------|{'beta_mult': 0.95, 'hosp_frac': 0.7, 'school_contact_increase': 1.2, 'fit_batch': '1'}: Transmission control fit 2/3 completed in 14.949208541000004 seconds: {795: {'co': 0.8695430483471154}, 809: {'co': 0.8646049169989819}, 823: {'co': 0.8624847656361863}, 837: {'co': 0.8600037025209045}, 851: {'co': 0.8457892507065125}, 865: {'co': 0.8670318238212035}}\n",
      "2022/08/02 10:01:27 INFO|---------|{'beta_mult': 0.95, 'hosp_frac': 0.7, 'school_contact_increase': 1.2, 'fit_batch': '1'}: Running forward sim\n",
      "2022/08/02 10:01:30 INFO|--------|{'beta_mult': 1.0, 'hosp_frac': 0.7, 'school_contact_increase': 1.2, 'fit_batch': '1'}: Transmission control fit 2/3 completed in 14.717048416999987 seconds: {795: {'co': 0.8695759387637926}, 809: {'co': 0.864616687131687}, 823: {'co': 0.8627444755606393}, 837: {'co': 0.8606556037701085}, 851: {'co': 0.8478562168410696}, 865: {'co': 0.8706433638452509}}\n",
      "2022/08/02 10:01:30 INFO|---------|{'beta_mult': 1.0, 'hosp_frac': 0.7, 'school_contact_increase': 1.2, 'fit_batch': '1'}: Running forward sim\n",
      "2022/08/02 10:01:30 INFO|--------|{'beta_mult': 1.0, 'hosp_frac': 0.7, 'school_contact_increase': 1.1, 'fit_batch': '1'}: Transmission control fit 2/3 completed in 14.796657542000005 seconds: {795: {'co': 0.8695759387637926}, 809: {'co': 0.864616687131687}, 823: {'co': 0.8627444755606393}, 837: {'co': 0.8606556037701085}, 851: {'co': 0.8478562168410696}, 865: {'co': 0.8706433638452509}}\n",
      "2022/08/02 10:01:30 INFO|---------|{'beta_mult': 1.0, 'hosp_frac': 0.7, 'school_contact_increase': 1.1, 'fit_batch': '1'}: Running forward sim\n",
      "2022/08/02 10:01:40 INFO|--------|{'beta_mult': 1.05, 'hosp_frac': 0.7, 'school_contact_increase': 1.2, 'fit_batch': '2'}: Transmission control fit 3/3 completed in 15.773443333000003 seconds: {823: {'co': 0.8629667931067421}, 837: {'co': 0.861894229389062}, 851: {'co': 0.8506167326285162}, 865: {'co': 0.8788770083188446}, 879: {'co': 0.8746093073179602}, 893: {'co': 0.8752049435225316}}\n",
      "2022/08/02 10:01:40 INFO|---------|{'beta_mult': 1.05, 'hosp_frac': 0.7, 'school_contact_increase': 1.2, 'fit_batch': '2'}: Running forward sim\n",
      "2022/08/02 10:01:41 INFO|--------|{'beta_mult': 1.05, 'hosp_frac': 0.7, 'school_contact_increase': 1.1, 'fit_batch': '2'}: Transmission control fit 3/3 completed in 15.677097083000007 seconds: {823: {'co': 0.8629667931067421}, 837: {'co': 0.861894229389062}, 851: {'co': 0.8506167326285162}, 865: {'co': 0.8788770083188446}, 879: {'co': 0.8746093073179602}, 893: {'co': 0.8752049435225316}}\n",
      "2022/08/02 10:01:41 INFO|---------|{'beta_mult': 1.05, 'hosp_frac': 0.7, 'school_contact_increase': 1.1, 'fit_batch': '2'}: Running forward sim\n",
      "2022/08/02 10:01:41 INFO|--------|{'beta_mult': 1.05, 'hosp_frac': 0.7, 'school_contact_increase': 1.2, 'fit_batch': '2', 'run_type': 'fit'}: fitted TC: {0: {'co': 0.8773342909396418}, 14: {'co': 0.6854869158846699}, 28: {'co': 0.5312085495123385}, 42: {'co': 9.17481924148225e-14}, 56: {'co': 0.7004798432020942}, 70: {'co': 0.8356322478699926}, 84: {'co': 0.8298061649141574}, 98: {'co': 0.8311910701540246}, 112: {'co': 0.8778136907198419}, 126: {'co': 0.8241104215652926}, 140: {'co': 0.7606632612324116}, 154: {'co': 0.6711880275449327}, 168: {'co': 0.843030767299243}, 182: {'co': 0.7826561834881246}, 196: {'co': 0.8191830554171712}, 210: {'co': 0.7726034283937625}, 224: {'co': 0.7713676651676141}, 238: {'co': 0.7185596197504118}, 252: {'co': 0.7222209123366246}, 266: {'co': 0.6848822753308852}, 280: {'co': 0.7199443377723465}, 294: {'co': 0.7575590111802091}, 308: {'co': 0.8226615739216321}, 322: {'co': 0.8113710429684717}, 336: {'co': 0.782596504972317}, 350: {'co': 0.7952543151621825}, 364: {'co': 0.8042522141027488}, 378: {'co': 0.748436442047567}, 392: {'co': 0.7792619395036927}, 406: {'co': 0.7150687685068648}, 420: {'co': 0.7204071168602064}, 434: {'co': 0.6926833175266156}, 448: {'co': 0.7469357692469727}, 462: {'co': 0.8194616434274935}, 476: {'co': 0.8003384309650257}, 490: {'co': 0.838591313652497}, 504: {'co': 0.7977162242700062}, 518: {'co': 0.7923907094046225}, 532: {'co': 0.7711685074647038}, 546: {'co': 0.7277849260555459}, 560: {'co': 0.7550364406378572}, 574: {'co': 0.7632382394696103}, 588: {'co': 0.8012479092581936}, 602: {'co': 0.7793758471737031}, 616: {'co': 0.7367260895421608}, 630: {'co': 0.7541418586826002}, 644: {'co': 0.7334257897479987}, 658: {'co': 0.7729635952146265}, 672: {'co': 0.7774230449464756}, 686: {'co': 0.7618938429979563}, 700: {'co': 0.668442486959404}, 714: {'co': 0.8171368356453669}, 728: {'co': 0.8613206831157214}, 742: {'co': 0.8816656050347945}, 767: {'co': 0.8850657751214427}, 781: {'co': 0.8862508621347298}, 795: {'co': 0.8696221090577917}, 809: {'co': 0.8646187307545811}, 823: {'co': 0.8629667931067421}, 837: {'co': 0.861894229389062}, 851: {'co': 0.8506167326285162}, 865: {'co': 0.8788770083188446}, 879: {'co': 0.8746093073179602}, 893: {'co': 0.8752049584236928}}\n",
      "2022/08/02 10:01:41 INFO|---------|{'beta_mult': 1.05, 'hosp_frac': 0.7, 'school_contact_increase': 1.2, 'fit_batch': '2', 'run_type': 'fit'}: Running forward sim\n"
     ]
    },
    {
     "name": "stderr",
     "output_type": "stream",
     "text": [
      "2022/08/02 10:01:42 INFO|--------|{'beta_mult': 1.05, 'hosp_frac': 0.7, 'school_contact_increase': 1.1, 'fit_batch': '2', 'run_type': 'fit'}: fitted TC: {0: {'co': 0.8773342909396418}, 14: {'co': 0.6854869158846699}, 28: {'co': 0.5312085495123385}, 42: {'co': 9.17481924148225e-14}, 56: {'co': 0.7004798432020942}, 70: {'co': 0.8356322478699926}, 84: {'co': 0.8298061649141574}, 98: {'co': 0.8311910701540246}, 112: {'co': 0.8778136907198419}, 126: {'co': 0.8241104215652926}, 140: {'co': 0.7606632612324116}, 154: {'co': 0.6711880275449327}, 168: {'co': 0.843030767299243}, 182: {'co': 0.7826561834881246}, 196: {'co': 0.8191830554171712}, 210: {'co': 0.7726034283937625}, 224: {'co': 0.7713676651676141}, 238: {'co': 0.7185596197504118}, 252: {'co': 0.7222209123366246}, 266: {'co': 0.6848822753308852}, 280: {'co': 0.7199443377723465}, 294: {'co': 0.7575590111802091}, 308: {'co': 0.8226615739216321}, 322: {'co': 0.8113710429684717}, 336: {'co': 0.782596504972317}, 350: {'co': 0.7952543151621825}, 364: {'co': 0.8042522141027488}, 378: {'co': 0.748436442047567}, 392: {'co': 0.7792619395036927}, 406: {'co': 0.7150687685068648}, 420: {'co': 0.7204071168602064}, 434: {'co': 0.6926833175266156}, 448: {'co': 0.7469357692469727}, 462: {'co': 0.8194616434274935}, 476: {'co': 0.8003384309650257}, 490: {'co': 0.838591313652497}, 504: {'co': 0.7977162242700062}, 518: {'co': 0.7923907094046225}, 532: {'co': 0.7711685074647038}, 546: {'co': 0.7277849260555459}, 560: {'co': 0.7550364406378572}, 574: {'co': 0.7632382394696103}, 588: {'co': 0.8012479092581936}, 602: {'co': 0.7793758471737031}, 616: {'co': 0.7367260895421608}, 630: {'co': 0.7541418586826002}, 644: {'co': 0.7334257897479987}, 658: {'co': 0.7729635952146265}, 672: {'co': 0.7774230449464756}, 686: {'co': 0.7618938429979563}, 700: {'co': 0.668442486959404}, 714: {'co': 0.8171368356453669}, 728: {'co': 0.8613206831157214}, 742: {'co': 0.8816656050347945}, 767: {'co': 0.8850657751214427}, 781: {'co': 0.8862508621347298}, 795: {'co': 0.8696221090577917}, 809: {'co': 0.8646187307545811}, 823: {'co': 0.8629667931067421}, 837: {'co': 0.861894229389062}, 851: {'co': 0.8506167326285162}, 865: {'co': 0.8788770083188446}, 879: {'co': 0.8746093073179602}, 893: {'co': 0.8752049584236928}}\n",
      "2022/08/02 10:01:42 INFO|---------|{'beta_mult': 1.05, 'hosp_frac': 0.7, 'school_contact_increase': 1.1, 'fit_batch': '2', 'run_type': 'fit'}: Running forward sim\n",
      "2022/08/02 10:01:43 INFO|============================================================\n",
      "2022/08/02 10:01:43 INFO|--------|{'beta_mult': 0.95, 'hosp_frac': 0.7, 'school_contact_increase': 1.1, 'fit_batch': '2'}: Transmission control fit 3/3 completed in 15.403712083000016 seconds: {823: {'co': 0.862413230458033}, 837: {'co': 0.8599026275670081}, 851: {'co': 0.8453550088030708}, 865: {'co': 0.8689746955732052}, 879: {'co': 0.857111206244506}, 893: {'co': 0.8544013842406384}}\n",
      "2022/08/02 10:01:43 INFO|---------|{'beta_mult': 0.95, 'hosp_frac': 0.7, 'school_contact_increase': 1.1, 'fit_batch': '2'}: Running forward sim\n",
      "2022/08/02 10:01:44 INFO|--------|{'beta_mult': 0.95, 'hosp_frac': 0.7, 'school_contact_increase': 1.2, 'fit_batch': '2'}: Transmission control fit 3/3 completed in 15.541806500000007 seconds: {823: {'co': 0.862413230458033}, 837: {'co': 0.8599026275670081}, 851: {'co': 0.8453550088030708}, 865: {'co': 0.8689746955732052}, 879: {'co': 0.857111206244506}, 893: {'co': 0.8544013842406384}}\n",
      "2022/08/02 10:01:44 INFO|---------|{'beta_mult': 0.95, 'hosp_frac': 0.7, 'school_contact_increase': 1.2, 'fit_batch': '2'}: Running forward sim\n",
      "2022/08/02 10:01:45 INFO|--------|{'beta_mult': 0.95, 'hosp_frac': 0.7, 'school_contact_increase': 1.1, 'fit_batch': '2', 'run_type': 'fit'}: fitted TC: {0: {'co': 0.8773342909396418}, 14: {'co': 0.6854869158846699}, 28: {'co': 0.5312085495123385}, 42: {'co': 9.17481924148225e-14}, 56: {'co': 0.7004798432020942}, 70: {'co': 0.8356322478699926}, 84: {'co': 0.8298061649141574}, 98: {'co': 0.8311910701540246}, 112: {'co': 0.8778136907198419}, 126: {'co': 0.8241104215652926}, 140: {'co': 0.7606632612324116}, 154: {'co': 0.6711880275449327}, 168: {'co': 0.843030767299243}, 182: {'co': 0.7826561834881246}, 196: {'co': 0.8191830554171712}, 210: {'co': 0.7726034283937625}, 224: {'co': 0.7713676651676141}, 238: {'co': 0.7185596197504118}, 252: {'co': 0.7222209123366246}, 266: {'co': 0.6848822753308852}, 280: {'co': 0.7199443377723465}, 294: {'co': 0.7575590111802091}, 308: {'co': 0.8226615739216321}, 322: {'co': 0.8113710429684717}, 336: {'co': 0.782596504972317}, 350: {'co': 0.7952543151621825}, 364: {'co': 0.8042522141027488}, 378: {'co': 0.748436442047567}, 392: {'co': 0.7792619395036927}, 406: {'co': 0.7150687685068648}, 420: {'co': 0.7204071168602064}, 434: {'co': 0.6926833175266156}, 448: {'co': 0.7469357692469727}, 462: {'co': 0.8194616434274935}, 476: {'co': 0.8003384309650257}, 490: {'co': 0.838591313652497}, 504: {'co': 0.7977162242700062}, 518: {'co': 0.7923907094046225}, 532: {'co': 0.7711685074647038}, 546: {'co': 0.7277849260555459}, 560: {'co': 0.7550364406378572}, 574: {'co': 0.7632382394696103}, 588: {'co': 0.8012479092581936}, 602: {'co': 0.7793758471737031}, 616: {'co': 0.7367260895421608}, 630: {'co': 0.7541418586826002}, 644: {'co': 0.7334257897479987}, 658: {'co': 0.7729635952146265}, 672: {'co': 0.7774230449464756}, 686: {'co': 0.7618938429979563}, 700: {'co': 0.668442486959404}, 714: {'co': 0.8171368356453669}, 728: {'co': 0.8613206831157214}, 742: {'co': 0.8816656050347945}, 767: {'co': 0.8850652107747761}, 781: {'co': 0.8862526571689991}, 795: {'co': 0.8695430483471154}, 809: {'co': 0.8646049169989819}, 823: {'co': 0.862413230458033}, 837: {'co': 0.8599026275670081}, 851: {'co': 0.8453550088030708}, 865: {'co': 0.8689746955732052}, 879: {'co': 0.857111206244506}, 893: {'co': 0.8544013991417996}}\n",
      "2022/08/02 10:01:45 INFO|---------|{'beta_mult': 0.95, 'hosp_frac': 0.7, 'school_contact_increase': 1.1, 'fit_batch': '2', 'run_type': 'fit'}: Running forward sim\n",
      "2022/08/02 10:01:45 INFO|-----------|{'beta_mult': 0.95, 'hosp_frac': 0.8, 'school_contact_increase': 1.1} Retrieving vaccinations data\n",
      "2022/08/02 10:01:45 INFO|--------|{'beta_mult': 0.95, 'hosp_frac': 0.7, 'school_contact_increase': 1.2, 'fit_batch': '2', 'run_type': 'fit'}: fitted TC: {0: {'co': 0.8773342909396418}, 14: {'co': 0.6854869158846699}, 28: {'co': 0.5312085495123385}, 42: {'co': 9.17481924148225e-14}, 56: {'co': 0.7004798432020942}, 70: {'co': 0.8356322478699926}, 84: {'co': 0.8298061649141574}, 98: {'co': 0.8311910701540246}, 112: {'co': 0.8778136907198419}, 126: {'co': 0.8241104215652926}, 140: {'co': 0.7606632612324116}, 154: {'co': 0.6711880275449327}, 168: {'co': 0.843030767299243}, 182: {'co': 0.7826561834881246}, 196: {'co': 0.8191830554171712}, 210: {'co': 0.7726034283937625}, 224: {'co': 0.7713676651676141}, 238: {'co': 0.7185596197504118}, 252: {'co': 0.7222209123366246}, 266: {'co': 0.6848822753308852}, 280: {'co': 0.7199443377723465}, 294: {'co': 0.7575590111802091}, 308: {'co': 0.8226615739216321}, 322: {'co': 0.8113710429684717}, 336: {'co': 0.782596504972317}, 350: {'co': 0.7952543151621825}, 364: {'co': 0.8042522141027488}, 378: {'co': 0.748436442047567}, 392: {'co': 0.7792619395036927}, 406: {'co': 0.7150687685068648}, 420: {'co': 0.7204071168602064}, 434: {'co': 0.6926833175266156}, 448: {'co': 0.7469357692469727}, 462: {'co': 0.8194616434274935}, 476: {'co': 0.8003384309650257}, 490: {'co': 0.838591313652497}, 504: {'co': 0.7977162242700062}, 518: {'co': 0.7923907094046225}, 532: {'co': 0.7711685074647038}, 546: {'co': 0.7277849260555459}, 560: {'co': 0.7550364406378572}, 574: {'co': 0.7632382394696103}, 588: {'co': 0.8012479092581936}, 602: {'co': 0.7793758471737031}, 616: {'co': 0.7367260895421608}, 630: {'co': 0.7541418586826002}, 644: {'co': 0.7334257897479987}, 658: {'co': 0.7729635952146265}, 672: {'co': 0.7774230449464756}, 686: {'co': 0.7618938429979563}, 700: {'co': 0.668442486959404}, 714: {'co': 0.8171368356453669}, 728: {'co': 0.8613206831157214}, 742: {'co': 0.8816656050347945}, 767: {'co': 0.8850652107747761}, 781: {'co': 0.8862526571689991}, 795: {'co': 0.8695430483471154}, 809: {'co': 0.8646049169989819}, 823: {'co': 0.862413230458033}, 837: {'co': 0.8599026275670081}, 851: {'co': 0.8453550088030708}, 865: {'co': 0.8689746955732052}, 879: {'co': 0.857111206244506}, 893: {'co': 0.8544013991417996}}\n",
      "2022/08/02 10:01:45 INFO|---------|{'beta_mult': 0.95, 'hosp_frac': 0.7, 'school_contact_increase': 1.2, 'fit_batch': '2', 'run_type': 'fit'}: Running forward sim\n",
      "2022/08/02 10:01:46 INFO|-----------|{'beta_mult': 0.95, 'hosp_frac': 0.8, 'school_contact_increase': 1.1} Constructing vaccination projections\n",
      "2022/08/02 10:01:46 INFO|-----------|{'beta_mult': 0.95, 'hosp_frac': 0.8, 'school_contact_increase': 1.1} Retrieving hospitalizations data\n",
      "2022/08/02 10:01:47 INFO|--------|{'beta_mult': 1.0, 'hosp_frac': 0.7, 'school_contact_increase': 1.1, 'fit_batch': '2'}: Transmission control fit 3/3 completed in 15.130477333000016 seconds: {823: {'co': 0.8626601589057878}, 837: {'co': 0.860608618839012}, 851: {'co': 0.8473928150286962}, 865: {'co': 0.8729062062297498}, 879: {'co': 0.8641835839502244}, 893: {'co': 0.8643829960198497}}\n",
      "2022/08/02 10:01:47 INFO|---------|{'beta_mult': 1.0, 'hosp_frac': 0.7, 'school_contact_increase': 1.1, 'fit_batch': '2'}: Running forward sim\n",
      "2022/08/02 10:01:47 INFO|--------|{'beta_mult': 1.0, 'hosp_frac': 0.7, 'school_contact_increase': 1.2, 'fit_batch': '2'}: Transmission control fit 3/3 completed in 15.22173383400002 seconds: {823: {'co': 0.8626601589057878}, 837: {'co': 0.860608618839012}, 851: {'co': 0.8473928150286962}, 865: {'co': 0.8729062062297498}, 879: {'co': 0.8641835839502244}, 893: {'co': 0.8643829960198497}}\n",
      "2022/08/02 10:01:47 INFO|---------|{'beta_mult': 1.0, 'hosp_frac': 0.7, 'school_contact_increase': 1.2, 'fit_batch': '2'}: Running forward sim\n",
      "2022/08/02 10:01:48 INFO|--------|{'beta_mult': 0.95, 'hosp_frac': 0.8, 'school_contact_increase': 1.1} Prepping Model\n",
      "2022/08/02 10:01:48 INFO|---------|{'beta_mult': 0.95, 'hosp_frac': 0.8, 'school_contact_increase': 1.1} Prepping Model\n",
      "2022/08/02 10:01:48 INFO|--------|{'beta_mult': 1.0, 'hosp_frac': 0.7, 'school_contact_increase': 1.1, 'fit_batch': '2', 'run_type': 'fit'}: fitted TC: {0: {'co': 0.8773342909396418}, 14: {'co': 0.6854869158846699}, 28: {'co': 0.5312085495123385}, 42: {'co': 9.17481924148225e-14}, 56: {'co': 0.7004798432020942}, 70: {'co': 0.8356322478699926}, 84: {'co': 0.8298061649141574}, 98: {'co': 0.8311910701540246}, 112: {'co': 0.8778136907198419}, 126: {'co': 0.8241104215652926}, 140: {'co': 0.7606632612324116}, 154: {'co': 0.6711880275449327}, 168: {'co': 0.843030767299243}, 182: {'co': 0.7826561834881246}, 196: {'co': 0.8191830554171712}, 210: {'co': 0.7726034283937625}, 224: {'co': 0.7713676651676141}, 238: {'co': 0.7185596197504118}, 252: {'co': 0.7222209123366246}, 266: {'co': 0.6848822753308852}, 280: {'co': 0.7199443377723465}, 294: {'co': 0.7575590111802091}, 308: {'co': 0.8226615739216321}, 322: {'co': 0.8113710429684717}, 336: {'co': 0.782596504972317}, 350: {'co': 0.7952543151621825}, 364: {'co': 0.8042522141027488}, 378: {'co': 0.748436442047567}, 392: {'co': 0.7792619395036927}, 406: {'co': 0.7150687685068648}, 420: {'co': 0.7204071168602064}, 434: {'co': 0.6926833175266156}, 448: {'co': 0.7469357692469727}, 462: {'co': 0.8194616434274935}, 476: {'co': 0.8003384309650257}, 490: {'co': 0.838591313652497}, 504: {'co': 0.7977162242700062}, 518: {'co': 0.7923907094046225}, 532: {'co': 0.7711685074647038}, 546: {'co': 0.7277849260555459}, 560: {'co': 0.7550364406378572}, 574: {'co': 0.7632382394696103}, 588: {'co': 0.8012479092581936}, 602: {'co': 0.7793758471737031}, 616: {'co': 0.7367260895421608}, 630: {'co': 0.7541418586826002}, 644: {'co': 0.7334257897479987}, 658: {'co': 0.7729635952146265}, 672: {'co': 0.7774230449464756}, 686: {'co': 0.7618938429979563}, 700: {'co': 0.668442486959404}, 714: {'co': 0.8171368356453669}, 728: {'co': 0.8613206831157214}, 742: {'co': 0.8816656050347945}, 767: {'co': 0.8850655830020667}, 781: {'co': 0.8862519131898059}, 795: {'co': 0.8695759387637926}, 809: {'co': 0.864616687131687}, 823: {'co': 0.8626601589057878}, 837: {'co': 0.860608618839012}, 851: {'co': 0.8473928150286962}, 865: {'co': 0.8729062062297498}, 879: {'co': 0.8641835839502244}, 893: {'co': 0.8643830109210109}}\n",
      "2022/08/02 10:01:48 INFO|---------|{'beta_mult': 1.0, 'hosp_frac': 0.7, 'school_contact_increase': 1.1, 'fit_batch': '2', 'run_type': 'fit'}: Running forward sim\n",
      "2022/08/02 10:01:48 INFO|--------|{'beta_mult': 1.0, 'hosp_frac': 0.7, 'school_contact_increase': 1.2, 'fit_batch': '2', 'run_type': 'fit'}: fitted TC: {0: {'co': 0.8773342909396418}, 14: {'co': 0.6854869158846699}, 28: {'co': 0.5312085495123385}, 42: {'co': 9.17481924148225e-14}, 56: {'co': 0.7004798432020942}, 70: {'co': 0.8356322478699926}, 84: {'co': 0.8298061649141574}, 98: {'co': 0.8311910701540246}, 112: {'co': 0.8778136907198419}, 126: {'co': 0.8241104215652926}, 140: {'co': 0.7606632612324116}, 154: {'co': 0.6711880275449327}, 168: {'co': 0.843030767299243}, 182: {'co': 0.7826561834881246}, 196: {'co': 0.8191830554171712}, 210: {'co': 0.7726034283937625}, 224: {'co': 0.7713676651676141}, 238: {'co': 0.7185596197504118}, 252: {'co': 0.7222209123366246}, 266: {'co': 0.6848822753308852}, 280: {'co': 0.7199443377723465}, 294: {'co': 0.7575590111802091}, 308: {'co': 0.8226615739216321}, 322: {'co': 0.8113710429684717}, 336: {'co': 0.782596504972317}, 350: {'co': 0.7952543151621825}, 364: {'co': 0.8042522141027488}, 378: {'co': 0.748436442047567}, 392: {'co': 0.7792619395036927}, 406: {'co': 0.7150687685068648}, 420: {'co': 0.7204071168602064}, 434: {'co': 0.6926833175266156}, 448: {'co': 0.7469357692469727}, 462: {'co': 0.8194616434274935}, 476: {'co': 0.8003384309650257}, 490: {'co': 0.838591313652497}, 504: {'co': 0.7977162242700062}, 518: {'co': 0.7923907094046225}, 532: {'co': 0.7711685074647038}, 546: {'co': 0.7277849260555459}, 560: {'co': 0.7550364406378572}, 574: {'co': 0.7632382394696103}, 588: {'co': 0.8012479092581936}, 602: {'co': 0.7793758471737031}, 616: {'co': 0.7367260895421608}, 630: {'co': 0.7541418586826002}, 644: {'co': 0.7334257897479987}, 658: {'co': 0.7729635952146265}, 672: {'co': 0.7774230449464756}, 686: {'co': 0.7618938429979563}, 700: {'co': 0.668442486959404}, 714: {'co': 0.8171368356453669}, 728: {'co': 0.8613206831157214}, 742: {'co': 0.8816656050347945}, 767: {'co': 0.8850655830020667}, 781: {'co': 0.8862519131898059}, 795: {'co': 0.8695759387637926}, 809: {'co': 0.864616687131687}, 823: {'co': 0.8626601589057878}, 837: {'co': 0.860608618839012}, 851: {'co': 0.8473928150286962}, 865: {'co': 0.8729062062297498}, 879: {'co': 0.8641835839502244}, 893: {'co': 0.8643830109210109}}\n",
      "2022/08/02 10:01:48 INFO|---------|{'beta_mult': 1.0, 'hosp_frac': 0.7, 'school_contact_increase': 1.2, 'fit_batch': '2', 'run_type': 'fit'}: Running forward sim\n"
     ]
    },
    {
     "name": "stderr",
     "output_type": "stream",
     "text": [
      "2022/08/02 10:01:54 INFO|============================================================\n",
      "2022/08/02 10:01:55 INFO|============================================================\n",
      "2022/08/02 10:01:55 INFO|-----------|{'beta_mult': 1.0, 'hosp_frac': 0.8, 'school_contact_increase': 1.1} Retrieving vaccinations data\n",
      "2022/08/02 10:01:56 INFO|============================================================\n",
      "2022/08/02 10:01:56 INFO|-----------|{'beta_mult': 1.05, 'hosp_frac': 0.8, 'school_contact_increase': 1.1} Retrieving vaccinations data\n",
      "2022/08/02 10:01:57 INFO|============================================================\n",
      "2022/08/02 10:01:57 INFO|-----------|{'beta_mult': 1.0, 'hosp_frac': 0.8, 'school_contact_increase': 1.1} Constructing vaccination projections\n",
      "2022/08/02 10:01:57 INFO|-----------|{'beta_mult': 1.0, 'hosp_frac': 0.8, 'school_contact_increase': 1.1} Retrieving hospitalizations data\n",
      "2022/08/02 10:01:57 INFO|-----------|{'beta_mult': 0.95, 'hosp_frac': 0.8, 'school_contact_increase': 1.2} Retrieving vaccinations data\n",
      "2022/08/02 10:01:58 INFO|-----------|{'beta_mult': 1.05, 'hosp_frac': 0.8, 'school_contact_increase': 1.1} Constructing vaccination projections\n",
      "2022/08/02 10:01:58 INFO|-----------|{'beta_mult': 1.05, 'hosp_frac': 0.8, 'school_contact_increase': 1.1} Retrieving hospitalizations data\n",
      "2022/08/02 10:01:58 INFO|-----------|{'beta_mult': 1.0, 'hosp_frac': 0.8, 'school_contact_increase': 1.2} Retrieving vaccinations data\n",
      "2022/08/02 10:01:58 INFO|--------|{'beta_mult': 1.0, 'hosp_frac': 0.8, 'school_contact_increase': 1.1} Prepping Model\n",
      "2022/08/02 10:01:58 INFO|---------|{'beta_mult': 1.0, 'hosp_frac': 0.8, 'school_contact_increase': 1.1} Prepping Model\n",
      "2022/08/02 10:01:58 INFO|-----------|{'beta_mult': 0.95, 'hosp_frac': 0.8, 'school_contact_increase': 1.2} Constructing vaccination projections\n",
      "2022/08/02 10:01:58 INFO|-----------|{'beta_mult': 0.95, 'hosp_frac': 0.8, 'school_contact_increase': 1.2} Retrieving hospitalizations data\n",
      "2022/08/02 10:01:59 INFO|--------|{'beta_mult': 1.05, 'hosp_frac': 0.8, 'school_contact_increase': 1.1} Prepping Model\n",
      "2022/08/02 10:01:59 INFO|---------|{'beta_mult': 1.05, 'hosp_frac': 0.8, 'school_contact_increase': 1.1} Prepping Model\n",
      "2022/08/02 10:02:00 INFO|-----------|{'beta_mult': 1.0, 'hosp_frac': 0.8, 'school_contact_increase': 1.2} Constructing vaccination projections\n",
      "2022/08/02 10:02:00 INFO|-----------|{'beta_mult': 1.0, 'hosp_frac': 0.8, 'school_contact_increase': 1.2} Retrieving hospitalizations data\n",
      "2022/08/02 10:02:00 INFO|--------|{'beta_mult': 0.95, 'hosp_frac': 0.8, 'school_contact_increase': 1.2} Prepping Model\n",
      "2022/08/02 10:02:00 INFO|---------|{'beta_mult': 0.95, 'hosp_frac': 0.8, 'school_contact_increase': 1.2} Prepping Model\n",
      "2022/08/02 10:02:01 INFO|--------|{'beta_mult': 1.0, 'hosp_frac': 0.8, 'school_contact_increase': 1.2} Prepping Model\n",
      "2022/08/02 10:02:01 INFO|---------|{'beta_mult': 1.0, 'hosp_frac': 0.8, 'school_contact_increase': 1.2} Prepping Model\n",
      "2022/08/02 10:02:07 INFO|============================================================\n",
      "2022/08/02 10:02:09 INFO|-----------|{'beta_mult': 1.05, 'hosp_frac': 0.8, 'school_contact_increase': 1.2} Retrieving vaccinations data\n",
      "2022/08/02 10:02:11 INFO|-----------|{'beta_mult': 1.05, 'hosp_frac': 0.8, 'school_contact_increase': 1.2} Constructing vaccination projections\n",
      "2022/08/02 10:02:11 INFO|-----------|{'beta_mult': 1.05, 'hosp_frac': 0.8, 'school_contact_increase': 1.2} Retrieving hospitalizations data\n",
      "2022/08/02 10:02:12 INFO|--------|{'beta_mult': 1.05, 'hosp_frac': 0.8, 'school_contact_increase': 1.2} Prepping Model\n",
      "2022/08/02 10:02:12 INFO|---------|{'beta_mult': 1.05, 'hosp_frac': 0.8, 'school_contact_increase': 1.2} Prepping Model\n",
      "2022/08/02 10:02:51 INFO|--------|{'beta_mult': 0.95, 'hosp_frac': 0.8, 'school_contact_increase': 1.1} Model prepped for fitting in 62.689507792 seconds.\n",
      "2022/08/02 10:02:51 INFO|--------|{'beta_mult': 0.95, 'hosp_frac': 0.8, 'school_contact_increase': 1.1} Solving Model ODE\n",
      "2022/08/02 10:02:53 INFO|--------|{'beta_mult': 0.95, 'hosp_frac': 0.8, 'school_contact_increase': 1.1} Model solved in 2.5522947499999873 seconds.\n",
      "2022/08/02 10:02:53 INFO|--------|{'beta_mult': 0.95, 'hosp_frac': 0.8, 'school_contact_increase': 1.1} Will fit 3 times\n",
      "2022/08/02 10:03:01 INFO|--------|{'beta_mult': 1.0, 'hosp_frac': 0.8, 'school_contact_increase': 1.1} Model prepped for fitting in 63.40603741700002 seconds.\n",
      "2022/08/02 10:03:01 INFO|--------|{'beta_mult': 1.0, 'hosp_frac': 0.8, 'school_contact_increase': 1.1} Solving Model ODE\n",
      "2022/08/02 10:03:03 INFO|--------|{'beta_mult': 1.05, 'hosp_frac': 0.8, 'school_contact_increase': 1.1} Model prepped for fitting in 63.48454041599999 seconds.\n",
      "2022/08/02 10:03:03 INFO|--------|{'beta_mult': 1.05, 'hosp_frac': 0.8, 'school_contact_increase': 1.1} Solving Model ODE\n",
      "2022/08/02 10:03:03 INFO|--------|{'beta_mult': 0.95, 'hosp_frac': 0.8, 'school_contact_increase': 1.2} Model prepped for fitting in 63.53636937499999 seconds.\n",
      "2022/08/02 10:03:03 INFO|--------|{'beta_mult': 0.95, 'hosp_frac': 0.8, 'school_contact_increase': 1.2} Solving Model ODE\n",
      "2022/08/02 10:03:04 INFO|--------|{'beta_mult': 1.0, 'hosp_frac': 0.8, 'school_contact_increase': 1.1} Model solved in 2.5712941669999907 seconds.\n",
      "2022/08/02 10:03:04 INFO|--------|{'beta_mult': 1.0, 'hosp_frac': 0.8, 'school_contact_increase': 1.1} Will fit 3 times\n",
      "2022/08/02 10:03:04 INFO|--------|{'beta_mult': 1.0, 'hosp_frac': 0.8, 'school_contact_increase': 1.2} Model prepped for fitting in 63.176754625 seconds.\n",
      "2022/08/02 10:03:04 INFO|--------|{'beta_mult': 1.0, 'hosp_frac': 0.8, 'school_contact_increase': 1.2} Solving Model ODE\n",
      "2022/08/02 10:03:05 INFO|--------|{'beta_mult': 1.05, 'hosp_frac': 0.8, 'school_contact_increase': 1.1} Model solved in 2.5492054590000066 seconds.\n",
      "2022/08/02 10:03:05 INFO|--------|{'beta_mult': 1.05, 'hosp_frac': 0.8, 'school_contact_increase': 1.1} Will fit 3 times\n",
      "2022/08/02 10:03:06 INFO|--------|{'beta_mult': 0.95, 'hosp_frac': 0.8, 'school_contact_increase': 1.2} Model solved in 2.5997412500000223 seconds.\n",
      "2022/08/02 10:03:06 INFO|--------|{'beta_mult': 0.95, 'hosp_frac': 0.8, 'school_contact_increase': 1.2} Will fit 3 times\n",
      "2022/08/02 10:03:07 INFO|--------|{'beta_mult': 1.0, 'hosp_frac': 0.8, 'school_contact_increase': 1.2} Model solved in 2.5536488749999933 seconds.\n",
      "2022/08/02 10:03:07 INFO|--------|{'beta_mult': 1.0, 'hosp_frac': 0.8, 'school_contact_increase': 1.2} Will fit 3 times\n",
      "2022/08/02 10:03:11 INFO|--------|{'beta_mult': 0.95, 'hosp_frac': 0.8, 'school_contact_increase': 1.1, 'fit_batch': '0'}: Transmission control fit 1/3 completed in 17.748722708000003 seconds: {767: {'co': 0.8893957968913946}, 781: {'co': 0.8871968436891076}, 795: {'co': 0.8711095054100967}, 809: {'co': 0.8643854574605768}, 823: {'co': 0.8666543591922209}, 837: {'co': 0.8568476883592012}}\n",
      "2022/08/02 10:03:11 INFO|---------|{'beta_mult': 0.95, 'hosp_frac': 0.8, 'school_contact_increase': 1.1, 'fit_batch': '0'}: Running forward sim\n",
      "2022/08/02 10:03:14 INFO|--------|{'beta_mult': 1.05, 'hosp_frac': 0.8, 'school_contact_increase': 1.2} Model prepped for fitting in 62.38114058300002 seconds.\n",
      "2022/08/02 10:03:14 INFO|--------|{'beta_mult': 1.05, 'hosp_frac': 0.8, 'school_contact_increase': 1.2} Solving Model ODE\n",
      "2022/08/02 10:03:17 INFO|--------|{'beta_mult': 1.05, 'hosp_frac': 0.8, 'school_contact_increase': 1.2} Model solved in 2.6551249579999876 seconds.\n",
      "2022/08/02 10:03:17 INFO|--------|{'beta_mult': 1.05, 'hosp_frac': 0.8, 'school_contact_increase': 1.2} Will fit 3 times\n",
      "2022/08/02 10:03:25 INFO|--------|{'beta_mult': 0.95, 'hosp_frac': 0.8, 'school_contact_increase': 1.2, 'fit_batch': '0'}: Transmission control fit 1/3 completed in 18.934523833999975 seconds: {767: {'co': 0.8893957968913946}, 781: {'co': 0.8871968436891076}, 795: {'co': 0.8711095054100967}, 809: {'co': 0.8643854574605768}, 823: {'co': 0.8666543591922209}, 837: {'co': 0.8568476883592012}}\n",
      "2022/08/02 10:03:25 INFO|---------|{'beta_mult': 0.95, 'hosp_frac': 0.8, 'school_contact_increase': 1.2, 'fit_batch': '0'}: Running forward sim\n",
      "2022/08/02 10:03:25 INFO|--------|{'beta_mult': 1.05, 'hosp_frac': 0.8, 'school_contact_increase': 1.1, 'fit_batch': '0'}: Transmission control fit 1/3 completed in 19.993742333 seconds: {767: {'co': 0.8893776991360267}, 781: {'co': 0.8873042375673695}, 795: {'co': 0.8708161945485056}, 809: {'co': 0.8646866057952948}, 823: {'co': 0.8670797240439465}, 837: {'co': 0.8586800993309768}}\n",
      "2022/08/02 10:03:25 INFO|---------|{'beta_mult': 1.05, 'hosp_frac': 0.8, 'school_contact_increase': 1.1, 'fit_batch': '0'}: Running forward sim\n"
     ]
    },
    {
     "name": "stderr",
     "output_type": "stream",
     "text": [
      "2022/08/02 10:03:27 INFO|--------|{'beta_mult': 0.95, 'hosp_frac': 0.8, 'school_contact_increase': 1.1, 'fit_batch': '1'}: Transmission control fit 2/3 completed in 14.672803415999994 seconds: {795: {'co': 0.870927338659487}, 809: {'co': 0.8653918750408864}, 823: {'co': 0.8642757606682694}, 837: {'co': 0.8623817332581285}, 851: {'co': 0.849913563795655}, 865: {'co': 0.8722873824726862}}\n",
      "2022/08/02 10:03:27 INFO|---------|{'beta_mult': 0.95, 'hosp_frac': 0.8, 'school_contact_increase': 1.1, 'fit_batch': '1'}: Running forward sim\n",
      "2022/08/02 10:03:37 INFO|--------|{'beta_mult': 1.05, 'hosp_frac': 0.8, 'school_contact_increase': 1.2, 'fit_batch': '0'}: Transmission control fit 1/3 completed in 20.203722417000023 seconds: {767: {'co': 0.8893776991360267}, 781: {'co': 0.8873042375673695}, 795: {'co': 0.8708161945485056}, 809: {'co': 0.8646866057952948}, 823: {'co': 0.8670797240439465}, 837: {'co': 0.8586800993309768}}\n",
      "2022/08/02 10:03:37 INFO|---------|{'beta_mult': 1.05, 'hosp_frac': 0.8, 'school_contact_increase': 1.2, 'fit_batch': '0'}: Running forward sim\n",
      "2022/08/02 10:03:41 INFO|--------|{'beta_mult': 1.0, 'hosp_frac': 0.8, 'school_contact_increase': 1.1, 'fit_batch': '0'}: Transmission control fit 1/3 completed in 36.846640917 seconds: {767: {'co': 0.8892590581487029}, 781: {'co': 0.8874541253328346}, 795: {'co': 0.8709164972588134}, 809: {'co': 0.8644744786847912}, 823: {'co': 0.8668748644482376}, 837: {'co': 0.8574771400659134}}\n",
      "2022/08/02 10:03:41 INFO|---------|{'beta_mult': 1.0, 'hosp_frac': 0.8, 'school_contact_increase': 1.1, 'fit_batch': '0'}: Running forward sim\n",
      "2022/08/02 10:03:41 INFO|--------|{'beta_mult': 0.95, 'hosp_frac': 0.8, 'school_contact_increase': 1.2, 'fit_batch': '1'}: Transmission control fit 2/3 completed in 15.177464624999999 seconds: {795: {'co': 0.870927338659487}, 809: {'co': 0.8653918750408864}, 823: {'co': 0.8642757606682694}, 837: {'co': 0.8623817332581285}, 851: {'co': 0.849913563795655}, 865: {'co': 0.8722873824726862}}\n",
      "2022/08/02 10:03:41 INFO|---------|{'beta_mult': 0.95, 'hosp_frac': 0.8, 'school_contact_increase': 1.2, 'fit_batch': '1'}: Running forward sim\n",
      "2022/08/02 10:03:42 INFO|--------|{'beta_mult': 1.05, 'hosp_frac': 0.8, 'school_contact_increase': 1.1, 'fit_batch': '1'}: Transmission control fit 2/3 completed in 15.350458375000017 seconds: {795: {'co': 0.8708706628223248}, 809: {'co': 0.8654735566680128}, 823: {'co': 0.8649523281038841}, 837: {'co': 0.8642359188757717}, 851: {'co': 0.8559146861033824}, 865: {'co': 0.8820078411538658}}\n",
      "2022/08/02 10:03:42 INFO|---------|{'beta_mult': 1.05, 'hosp_frac': 0.8, 'school_contact_increase': 1.1, 'fit_batch': '1'}: Running forward sim\n",
      "2022/08/02 10:03:44 INFO|--------|{'beta_mult': 1.0, 'hosp_frac': 0.8, 'school_contact_increase': 1.2, 'fit_batch': '0'}: Transmission control fit 1/3 completed in 36.86749645900002 seconds: {767: {'co': 0.8892590581487029}, 781: {'co': 0.8874541253328346}, 795: {'co': 0.8709164972588134}, 809: {'co': 0.8644744786847912}, 823: {'co': 0.8668748644482376}, 837: {'co': 0.8574771400659134}}\n",
      "2022/08/02 10:03:44 INFO|---------|{'beta_mult': 1.0, 'hosp_frac': 0.8, 'school_contact_increase': 1.2, 'fit_batch': '0'}: Running forward sim\n",
      "2022/08/02 10:03:44 INFO|--------|{'beta_mult': 0.95, 'hosp_frac': 0.8, 'school_contact_increase': 1.1, 'fit_batch': '2'}: Transmission control fit 3/3 completed in 15.874485375000006 seconds: {823: {'co': 0.8641955244979869}, 837: {'co': 0.8623516648383478}, 851: {'co': 0.8494602770245983}, 865: {'co': 0.8744426850865848}, 879: {'co': 0.8646536845565973}, 893: {'co': 0.8639565545339878}}\n",
      "2022/08/02 10:03:44 INFO|---------|{'beta_mult': 0.95, 'hosp_frac': 0.8, 'school_contact_increase': 1.1, 'fit_batch': '2'}: Running forward sim\n",
      "2022/08/02 10:03:45 INFO|--------|{'beta_mult': 0.95, 'hosp_frac': 0.8, 'school_contact_increase': 1.1, 'fit_batch': '2', 'run_type': 'fit'}: fitted TC: {0: {'co': 0.8773342909396418}, 14: {'co': 0.6854869158846699}, 28: {'co': 0.5312085495123385}, 42: {'co': 9.17481924148225e-14}, 56: {'co': 0.7004798432020942}, 70: {'co': 0.8356322478699926}, 84: {'co': 0.8298061649141574}, 98: {'co': 0.8311910701540246}, 112: {'co': 0.8778136907198419}, 126: {'co': 0.8241104215652926}, 140: {'co': 0.7606632612324116}, 154: {'co': 0.6711880275449327}, 168: {'co': 0.843030767299243}, 182: {'co': 0.7826561834881246}, 196: {'co': 0.8191830554171712}, 210: {'co': 0.7726034283937625}, 224: {'co': 0.7713676651676141}, 238: {'co': 0.7185596197504118}, 252: {'co': 0.7222209123366246}, 266: {'co': 0.6848822753308852}, 280: {'co': 0.7199443377723465}, 294: {'co': 0.7575590111802091}, 308: {'co': 0.8226615739216321}, 322: {'co': 0.8113710429684717}, 336: {'co': 0.782596504972317}, 350: {'co': 0.7952543151621825}, 364: {'co': 0.8042522141027488}, 378: {'co': 0.748436442047567}, 392: {'co': 0.7792619395036927}, 406: {'co': 0.7150687685068648}, 420: {'co': 0.7204071168602064}, 434: {'co': 0.6926833175266156}, 448: {'co': 0.7469357692469727}, 462: {'co': 0.8194616434274935}, 476: {'co': 0.8003384309650257}, 490: {'co': 0.838591313652497}, 504: {'co': 0.7977162242700062}, 518: {'co': 0.7923907094046225}, 532: {'co': 0.7711685074647038}, 546: {'co': 0.7277849260555459}, 560: {'co': 0.7550364406378572}, 574: {'co': 0.7632382394696103}, 588: {'co': 0.8012479092581936}, 602: {'co': 0.7793758471737031}, 616: {'co': 0.7367260895421608}, 630: {'co': 0.7541418586826002}, 644: {'co': 0.7334257897479987}, 658: {'co': 0.7729635952146265}, 672: {'co': 0.7774230449464756}, 686: {'co': 0.7618938429979563}, 700: {'co': 0.668442486959404}, 714: {'co': 0.8171368356453669}, 728: {'co': 0.8613206831157214}, 742: {'co': 0.8816656050347945}, 767: {'co': 0.8893957968913946}, 781: {'co': 0.8871968436891076}, 795: {'co': 0.870927338659487}, 809: {'co': 0.8653918750408864}, 823: {'co': 0.8641955244979869}, 837: {'co': 0.8623516648383478}, 851: {'co': 0.8494602770245983}, 865: {'co': 0.8744426850865848}, 879: {'co': 0.8646536845565973}, 893: {'co': 0.863956569435149}}\n",
      "2022/08/02 10:03:45 INFO|---------|{'beta_mult': 0.95, 'hosp_frac': 0.8, 'school_contact_increase': 1.1, 'fit_batch': '2', 'run_type': 'fit'}: Running forward sim\n",
      "2022/08/02 10:03:47 INFO|============================================================\n",
      "2022/08/02 10:03:49 INFO|-----------|{'beta_mult': 0.95, 'hosp_frac': 0.9, 'school_contact_increase': 1.1} Retrieving vaccinations data\n",
      "2022/08/02 10:03:51 INFO|-----------|{'beta_mult': 0.95, 'hosp_frac': 0.9, 'school_contact_increase': 1.1} Constructing vaccination projections\n",
      "2022/08/02 10:03:51 INFO|-----------|{'beta_mult': 0.95, 'hosp_frac': 0.9, 'school_contact_increase': 1.1} Retrieving hospitalizations data\n",
      "2022/08/02 10:03:52 INFO|--------|{'beta_mult': 0.95, 'hosp_frac': 0.9, 'school_contact_increase': 1.1} Prepping Model\n",
      "2022/08/02 10:03:52 INFO|---------|{'beta_mult': 0.95, 'hosp_frac': 0.9, 'school_contact_increase': 1.1} Prepping Model\n",
      "2022/08/02 10:03:53 INFO|--------|{'beta_mult': 1.05, 'hosp_frac': 0.8, 'school_contact_increase': 1.2, 'fit_batch': '1'}: Transmission control fit 2/3 completed in 14.616465542000014 seconds: {795: {'co': 0.8708706628223248}, 809: {'co': 0.8654735566680128}, 823: {'co': 0.8649523281038841}, 837: {'co': 0.8642359188757717}, 851: {'co': 0.8559146861033824}, 865: {'co': 0.8820078411538658}}\n",
      "2022/08/02 10:03:53 INFO|---------|{'beta_mult': 1.05, 'hosp_frac': 0.8, 'school_contact_increase': 1.2, 'fit_batch': '1'}: Running forward sim\n",
      "2022/08/02 10:03:57 INFO|--------|{'beta_mult': 1.0, 'hosp_frac': 0.8, 'school_contact_increase': 1.1, 'fit_batch': '1'}: Transmission control fit 2/3 completed in 14.798231541999996 seconds: {795: {'co': 0.8707727146081721}, 809: {'co': 0.8654665844446947}, 823: {'co': 0.8645371374648434}, 837: {'co': 0.8630928540353591}, 851: {'co': 0.8520600484893482}, 865: {'co': 0.8758639075672452}}\n",
      "2022/08/02 10:03:57 INFO|---------|{'beta_mult': 1.0, 'hosp_frac': 0.8, 'school_contact_increase': 1.1, 'fit_batch': '1'}: Running forward sim\n",
      "2022/08/02 10:03:58 INFO|--------|{'beta_mult': 0.95, 'hosp_frac': 0.8, 'school_contact_increase': 1.2, 'fit_batch': '2'}: Transmission control fit 3/3 completed in 15.55318975000003 seconds: {823: {'co': 0.8641955244979869}, 837: {'co': 0.8623516648383478}, 851: {'co': 0.8494602770245983}, 865: {'co': 0.8744426850865848}, 879: {'co': 0.8646536845565973}, 893: {'co': 0.8639565545339878}}\n",
      "2022/08/02 10:03:58 INFO|---------|{'beta_mult': 0.95, 'hosp_frac': 0.8, 'school_contact_increase': 1.2, 'fit_batch': '2'}: Running forward sim\n"
     ]
    },
    {
     "name": "stderr",
     "output_type": "stream",
     "text": [
      "2022/08/02 10:03:59 INFO|--------|{'beta_mult': 1.05, 'hosp_frac': 0.8, 'school_contact_increase': 1.1, 'fit_batch': '2'}: Transmission control fit 3/3 completed in 15.50863258299998 seconds: {823: {'co': 0.8647979394702558}, 837: {'co': 0.8645064653318149}, 851: {'co': 0.8549395460233145}, 865: {'co': 0.883964943108827}, 879: {'co': 0.8807881909916497}, 893: {'co': 0.8828477779295238}}\n",
      "2022/08/02 10:03:59 INFO|---------|{'beta_mult': 1.05, 'hosp_frac': 0.8, 'school_contact_increase': 1.1, 'fit_batch': '2'}: Running forward sim\n",
      "2022/08/02 10:03:59 INFO|--------|{'beta_mult': 0.95, 'hosp_frac': 0.8, 'school_contact_increase': 1.2, 'fit_batch': '2', 'run_type': 'fit'}: fitted TC: {0: {'co': 0.8773342909396418}, 14: {'co': 0.6854869158846699}, 28: {'co': 0.5312085495123385}, 42: {'co': 9.17481924148225e-14}, 56: {'co': 0.7004798432020942}, 70: {'co': 0.8356322478699926}, 84: {'co': 0.8298061649141574}, 98: {'co': 0.8311910701540246}, 112: {'co': 0.8778136907198419}, 126: {'co': 0.8241104215652926}, 140: {'co': 0.7606632612324116}, 154: {'co': 0.6711880275449327}, 168: {'co': 0.843030767299243}, 182: {'co': 0.7826561834881246}, 196: {'co': 0.8191830554171712}, 210: {'co': 0.7726034283937625}, 224: {'co': 0.7713676651676141}, 238: {'co': 0.7185596197504118}, 252: {'co': 0.7222209123366246}, 266: {'co': 0.6848822753308852}, 280: {'co': 0.7199443377723465}, 294: {'co': 0.7575590111802091}, 308: {'co': 0.8226615739216321}, 322: {'co': 0.8113710429684717}, 336: {'co': 0.782596504972317}, 350: {'co': 0.7952543151621825}, 364: {'co': 0.8042522141027488}, 378: {'co': 0.748436442047567}, 392: {'co': 0.7792619395036927}, 406: {'co': 0.7150687685068648}, 420: {'co': 0.7204071168602064}, 434: {'co': 0.6926833175266156}, 448: {'co': 0.7469357692469727}, 462: {'co': 0.8194616434274935}, 476: {'co': 0.8003384309650257}, 490: {'co': 0.838591313652497}, 504: {'co': 0.7977162242700062}, 518: {'co': 0.7923907094046225}, 532: {'co': 0.7711685074647038}, 546: {'co': 0.7277849260555459}, 560: {'co': 0.7550364406378572}, 574: {'co': 0.7632382394696103}, 588: {'co': 0.8012479092581936}, 602: {'co': 0.7793758471737031}, 616: {'co': 0.7367260895421608}, 630: {'co': 0.7541418586826002}, 644: {'co': 0.7334257897479987}, 658: {'co': 0.7729635952146265}, 672: {'co': 0.7774230449464756}, 686: {'co': 0.7618938429979563}, 700: {'co': 0.668442486959404}, 714: {'co': 0.8171368356453669}, 728: {'co': 0.8613206831157214}, 742: {'co': 0.8816656050347945}, 767: {'co': 0.8893957968913946}, 781: {'co': 0.8871968436891076}, 795: {'co': 0.870927338659487}, 809: {'co': 0.8653918750408864}, 823: {'co': 0.8641955244979869}, 837: {'co': 0.8623516648383478}, 851: {'co': 0.8494602770245983}, 865: {'co': 0.8744426850865848}, 879: {'co': 0.8646536845565973}, 893: {'co': 0.863956569435149}}\n",
      "2022/08/02 10:03:59 INFO|---------|{'beta_mult': 0.95, 'hosp_frac': 0.8, 'school_contact_increase': 1.2, 'fit_batch': '2', 'run_type': 'fit'}: Running forward sim\n",
      "2022/08/02 10:04:00 INFO|--------|{'beta_mult': 1.0, 'hosp_frac': 0.8, 'school_contact_increase': 1.2, 'fit_batch': '1'}: Transmission control fit 2/3 completed in 14.64440399999998 seconds: {795: {'co': 0.8707727146081721}, 809: {'co': 0.8654665844446947}, 823: {'co': 0.8645371374648434}, 837: {'co': 0.8630928540353591}, 851: {'co': 0.8520600484893482}, 865: {'co': 0.8758639075672452}}\n",
      "2022/08/02 10:04:00 INFO|---------|{'beta_mult': 1.0, 'hosp_frac': 0.8, 'school_contact_increase': 1.2, 'fit_batch': '1'}: Running forward sim\n",
      "2022/08/02 10:04:00 INFO|--------|{'beta_mult': 1.05, 'hosp_frac': 0.8, 'school_contact_increase': 1.1, 'fit_batch': '2', 'run_type': 'fit'}: fitted TC: {0: {'co': 0.8773342909396418}, 14: {'co': 0.6854869158846699}, 28: {'co': 0.5312085495123385}, 42: {'co': 9.17481924148225e-14}, 56: {'co': 0.7004798432020942}, 70: {'co': 0.8356322478699926}, 84: {'co': 0.8298061649141574}, 98: {'co': 0.8311910701540246}, 112: {'co': 0.8778136907198419}, 126: {'co': 0.8241104215652926}, 140: {'co': 0.7606632612324116}, 154: {'co': 0.6711880275449327}, 168: {'co': 0.843030767299243}, 182: {'co': 0.7826561834881246}, 196: {'co': 0.8191830554171712}, 210: {'co': 0.7726034283937625}, 224: {'co': 0.7713676651676141}, 238: {'co': 0.7185596197504118}, 252: {'co': 0.7222209123366246}, 266: {'co': 0.6848822753308852}, 280: {'co': 0.7199443377723465}, 294: {'co': 0.7575590111802091}, 308: {'co': 0.8226615739216321}, 322: {'co': 0.8113710429684717}, 336: {'co': 0.782596504972317}, 350: {'co': 0.7952543151621825}, 364: {'co': 0.8042522141027488}, 378: {'co': 0.748436442047567}, 392: {'co': 0.7792619395036927}, 406: {'co': 0.7150687685068648}, 420: {'co': 0.7204071168602064}, 434: {'co': 0.6926833175266156}, 448: {'co': 0.7469357692469727}, 462: {'co': 0.8194616434274935}, 476: {'co': 0.8003384309650257}, 490: {'co': 0.838591313652497}, 504: {'co': 0.7977162242700062}, 518: {'co': 0.7923907094046225}, 532: {'co': 0.7711685074647038}, 546: {'co': 0.7277849260555459}, 560: {'co': 0.7550364406378572}, 574: {'co': 0.7632382394696103}, 588: {'co': 0.8012479092581936}, 602: {'co': 0.7793758471737031}, 616: {'co': 0.7367260895421608}, 630: {'co': 0.7541418586826002}, 644: {'co': 0.7334257897479987}, 658: {'co': 0.7729635952146265}, 672: {'co': 0.7774230449464756}, 686: {'co': 0.7618938429979563}, 700: {'co': 0.668442486959404}, 714: {'co': 0.8171368356453669}, 728: {'co': 0.8613206831157214}, 742: {'co': 0.8816656050347945}, 767: {'co': 0.8893776991360267}, 781: {'co': 0.8873042375673695}, 795: {'co': 0.8708706628223248}, 809: {'co': 0.8654735566680128}, 823: {'co': 0.8647979394702558}, 837: {'co': 0.8645064653318149}, 851: {'co': 0.8549395460233145}, 865: {'co': 0.883964943108827}, 879: {'co': 0.8807881909916497}, 893: {'co': 0.882847792830685}}\n",
      "2022/08/02 10:04:00 INFO|---------|{'beta_mult': 1.05, 'hosp_frac': 0.8, 'school_contact_increase': 1.1, 'fit_batch': '2', 'run_type': 'fit'}: Running forward sim\n",
      "2022/08/02 10:04:01 INFO|============================================================\n",
      "2022/08/02 10:04:02 INFO|============================================================\n",
      "2022/08/02 10:04:03 INFO|-----------|{'beta_mult': 1.0, 'hosp_frac': 0.9, 'school_contact_increase': 1.1} Retrieving vaccinations data\n",
      "2022/08/02 10:04:04 INFO|-----------|{'beta_mult': 1.05, 'hosp_frac': 0.9, 'school_contact_increase': 1.1} Retrieving vaccinations data\n",
      "2022/08/02 10:04:05 INFO|-----------|{'beta_mult': 1.0, 'hosp_frac': 0.9, 'school_contact_increase': 1.1} Constructing vaccination projections\n",
      "2022/08/02 10:04:05 INFO|-----------|{'beta_mult': 1.0, 'hosp_frac': 0.9, 'school_contact_increase': 1.1} Retrieving hospitalizations data\n",
      "2022/08/02 10:04:05 INFO|-----------|{'beta_mult': 1.05, 'hosp_frac': 0.9, 'school_contact_increase': 1.1} Constructing vaccination projections\n",
      "2022/08/02 10:04:05 INFO|-----------|{'beta_mult': 1.05, 'hosp_frac': 0.9, 'school_contact_increase': 1.1} Retrieving hospitalizations data\n",
      "2022/08/02 10:04:06 INFO|--------|{'beta_mult': 1.0, 'hosp_frac': 0.9, 'school_contact_increase': 1.1} Prepping Model\n",
      "2022/08/02 10:04:06 INFO|---------|{'beta_mult': 1.0, 'hosp_frac': 0.9, 'school_contact_increase': 1.1} Prepping Model\n",
      "2022/08/02 10:04:06 INFO|--------|{'beta_mult': 1.05, 'hosp_frac': 0.9, 'school_contact_increase': 1.1} Prepping Model\n",
      "2022/08/02 10:04:06 INFO|---------|{'beta_mult': 1.05, 'hosp_frac': 0.9, 'school_contact_increase': 1.1} Prepping Model\n",
      "2022/08/02 10:04:10 INFO|--------|{'beta_mult': 1.05, 'hosp_frac': 0.8, 'school_contact_increase': 1.2, 'fit_batch': '2'}: Transmission control fit 3/3 completed in 15.300154792 seconds: {823: {'co': 0.8647979394702558}, 837: {'co': 0.8645064653318149}, 851: {'co': 0.8549395460233145}, 865: {'co': 0.883964943108827}, 879: {'co': 0.8807881909916497}, 893: {'co': 0.8828477779295238}}\n",
      "2022/08/02 10:04:10 INFO|---------|{'beta_mult': 1.05, 'hosp_frac': 0.8, 'school_contact_increase': 1.2, 'fit_batch': '2'}: Running forward sim\n",
      "2022/08/02 10:04:11 INFO|--------|{'beta_mult': 1.05, 'hosp_frac': 0.8, 'school_contact_increase': 1.2, 'fit_batch': '2', 'run_type': 'fit'}: fitted TC: {0: {'co': 0.8773342909396418}, 14: {'co': 0.6854869158846699}, 28: {'co': 0.5312085495123385}, 42: {'co': 9.17481924148225e-14}, 56: {'co': 0.7004798432020942}, 70: {'co': 0.8356322478699926}, 84: {'co': 0.8298061649141574}, 98: {'co': 0.8311910701540246}, 112: {'co': 0.8778136907198419}, 126: {'co': 0.8241104215652926}, 140: {'co': 0.7606632612324116}, 154: {'co': 0.6711880275449327}, 168: {'co': 0.843030767299243}, 182: {'co': 0.7826561834881246}, 196: {'co': 0.8191830554171712}, 210: {'co': 0.7726034283937625}, 224: {'co': 0.7713676651676141}, 238: {'co': 0.7185596197504118}, 252: {'co': 0.7222209123366246}, 266: {'co': 0.6848822753308852}, 280: {'co': 0.7199443377723465}, 294: {'co': 0.7575590111802091}, 308: {'co': 0.8226615739216321}, 322: {'co': 0.8113710429684717}, 336: {'co': 0.782596504972317}, 350: {'co': 0.7952543151621825}, 364: {'co': 0.8042522141027488}, 378: {'co': 0.748436442047567}, 392: {'co': 0.7792619395036927}, 406: {'co': 0.7150687685068648}, 420: {'co': 0.7204071168602064}, 434: {'co': 0.6926833175266156}, 448: {'co': 0.7469357692469727}, 462: {'co': 0.8194616434274935}, 476: {'co': 0.8003384309650257}, 490: {'co': 0.838591313652497}, 504: {'co': 0.7977162242700062}, 518: {'co': 0.7923907094046225}, 532: {'co': 0.7711685074647038}, 546: {'co': 0.7277849260555459}, 560: {'co': 0.7550364406378572}, 574: {'co': 0.7632382394696103}, 588: {'co': 0.8012479092581936}, 602: {'co': 0.7793758471737031}, 616: {'co': 0.7367260895421608}, 630: {'co': 0.7541418586826002}, 644: {'co': 0.7334257897479987}, 658: {'co': 0.7729635952146265}, 672: {'co': 0.7774230449464756}, 686: {'co': 0.7618938429979563}, 700: {'co': 0.668442486959404}, 714: {'co': 0.8171368356453669}, 728: {'co': 0.8613206831157214}, 742: {'co': 0.8816656050347945}, 767: {'co': 0.8893776991360267}, 781: {'co': 0.8873042375673695}, 795: {'co': 0.8708706628223248}, 809: {'co': 0.8654735566680128}, 823: {'co': 0.8647979394702558}, 837: {'co': 0.8645064653318149}, 851: {'co': 0.8549395460233145}, 865: {'co': 0.883964943108827}, 879: {'co': 0.8807881909916497}, 893: {'co': 0.882847792830685}}\n",
      "2022/08/02 10:04:11 INFO|---------|{'beta_mult': 1.05, 'hosp_frac': 0.8, 'school_contact_increase': 1.2, 'fit_batch': '2', 'run_type': 'fit'}: Running forward sim\n"
     ]
    },
    {
     "name": "stderr",
     "output_type": "stream",
     "text": [
      "2022/08/02 10:04:13 INFO|============================================================\n",
      "2022/08/02 10:04:13 INFO|--------|{'beta_mult': 1.0, 'hosp_frac': 0.8, 'school_contact_increase': 1.1, 'fit_batch': '2'}: Transmission control fit 3/3 completed in 15.136696708999978 seconds: {823: {'co': 0.864453815413521}, 837: {'co': 0.863093446527912}, 851: {'co': 0.8516313151907835}, 865: {'co': 0.8781756219219286}, 879: {'co': 0.8710534430708597}, 893: {'co': 0.8729534615504377}}\n",
      "2022/08/02 10:04:13 INFO|---------|{'beta_mult': 1.0, 'hosp_frac': 0.8, 'school_contact_increase': 1.1, 'fit_batch': '2'}: Running forward sim\n",
      "2022/08/02 10:04:14 INFO|-----------|{'beta_mult': 0.95, 'hosp_frac': 0.9, 'school_contact_increase': 1.2} Retrieving vaccinations data\n",
      "2022/08/02 10:04:15 INFO|--------|{'beta_mult': 1.0, 'hosp_frac': 0.8, 'school_contact_increase': 1.1, 'fit_batch': '2', 'run_type': 'fit'}: fitted TC: {0: {'co': 0.8773342909396418}, 14: {'co': 0.6854869158846699}, 28: {'co': 0.5312085495123385}, 42: {'co': 9.17481924148225e-14}, 56: {'co': 0.7004798432020942}, 70: {'co': 0.8356322478699926}, 84: {'co': 0.8298061649141574}, 98: {'co': 0.8311910701540246}, 112: {'co': 0.8778136907198419}, 126: {'co': 0.8241104215652926}, 140: {'co': 0.7606632612324116}, 154: {'co': 0.6711880275449327}, 168: {'co': 0.843030767299243}, 182: {'co': 0.7826561834881246}, 196: {'co': 0.8191830554171712}, 210: {'co': 0.7726034283937625}, 224: {'co': 0.7713676651676141}, 238: {'co': 0.7185596197504118}, 252: {'co': 0.7222209123366246}, 266: {'co': 0.6848822753308852}, 280: {'co': 0.7199443377723465}, 294: {'co': 0.7575590111802091}, 308: {'co': 0.8226615739216321}, 322: {'co': 0.8113710429684717}, 336: {'co': 0.782596504972317}, 350: {'co': 0.7952543151621825}, 364: {'co': 0.8042522141027488}, 378: {'co': 0.748436442047567}, 392: {'co': 0.7792619395036927}, 406: {'co': 0.7150687685068648}, 420: {'co': 0.7204071168602064}, 434: {'co': 0.6926833175266156}, 448: {'co': 0.7469357692469727}, 462: {'co': 0.8194616434274935}, 476: {'co': 0.8003384309650257}, 490: {'co': 0.838591313652497}, 504: {'co': 0.7977162242700062}, 518: {'co': 0.7923907094046225}, 532: {'co': 0.7711685074647038}, 546: {'co': 0.7277849260555459}, 560: {'co': 0.7550364406378572}, 574: {'co': 0.7632382394696103}, 588: {'co': 0.8012479092581936}, 602: {'co': 0.7793758471737031}, 616: {'co': 0.7367260895421608}, 630: {'co': 0.7541418586826002}, 644: {'co': 0.7334257897479987}, 658: {'co': 0.7729635952146265}, 672: {'co': 0.7774230449464756}, 686: {'co': 0.7618938429979563}, 700: {'co': 0.668442486959404}, 714: {'co': 0.8171368356453669}, 728: {'co': 0.8613206831157214}, 742: {'co': 0.8816656050347945}, 767: {'co': 0.8892590581487029}, 781: {'co': 0.8874541253328346}, 795: {'co': 0.8707727146081721}, 809: {'co': 0.8654665844446947}, 823: {'co': 0.864453815413521}, 837: {'co': 0.863093446527912}, 851: {'co': 0.8516313151907835}, 865: {'co': 0.8781756219219286}, 879: {'co': 0.8710534430708597}, 893: {'co': 0.8729534764515989}}\n",
      "2022/08/02 10:04:15 INFO|---------|{'beta_mult': 1.0, 'hosp_frac': 0.8, 'school_contact_increase': 1.1, 'fit_batch': '2', 'run_type': 'fit'}: Running forward sim\n",
      "2022/08/02 10:04:16 INFO|--------|{'beta_mult': 1.0, 'hosp_frac': 0.8, 'school_contact_increase': 1.2, 'fit_batch': '2'}: Transmission control fit 3/3 completed in 14.974491666000006 seconds: {823: {'co': 0.864453815413521}, 837: {'co': 0.863093446527912}, 851: {'co': 0.8516313151907835}, 865: {'co': 0.8781756219219286}, 879: {'co': 0.8710534430708597}, 893: {'co': 0.8729534615504377}}\n",
      "2022/08/02 10:04:16 INFO|---------|{'beta_mult': 1.0, 'hosp_frac': 0.8, 'school_contact_increase': 1.2, 'fit_batch': '2'}: Running forward sim\n",
      "2022/08/02 10:04:16 INFO|-----------|{'beta_mult': 0.95, 'hosp_frac': 0.9, 'school_contact_increase': 1.2} Constructing vaccination projections\n",
      "2022/08/02 10:04:16 INFO|-----------|{'beta_mult': 0.95, 'hosp_frac': 0.9, 'school_contact_increase': 1.2} Retrieving hospitalizations data\n",
      "2022/08/02 10:04:17 INFO|============================================================\n",
      "2022/08/02 10:04:17 INFO|--------|{'beta_mult': 1.0, 'hosp_frac': 0.8, 'school_contact_increase': 1.2, 'fit_batch': '2', 'run_type': 'fit'}: fitted TC: {0: {'co': 0.8773342909396418}, 14: {'co': 0.6854869158846699}, 28: {'co': 0.5312085495123385}, 42: {'co': 9.17481924148225e-14}, 56: {'co': 0.7004798432020942}, 70: {'co': 0.8356322478699926}, 84: {'co': 0.8298061649141574}, 98: {'co': 0.8311910701540246}, 112: {'co': 0.8778136907198419}, 126: {'co': 0.8241104215652926}, 140: {'co': 0.7606632612324116}, 154: {'co': 0.6711880275449327}, 168: {'co': 0.843030767299243}, 182: {'co': 0.7826561834881246}, 196: {'co': 0.8191830554171712}, 210: {'co': 0.7726034283937625}, 224: {'co': 0.7713676651676141}, 238: {'co': 0.7185596197504118}, 252: {'co': 0.7222209123366246}, 266: {'co': 0.6848822753308852}, 280: {'co': 0.7199443377723465}, 294: {'co': 0.7575590111802091}, 308: {'co': 0.8226615739216321}, 322: {'co': 0.8113710429684717}, 336: {'co': 0.782596504972317}, 350: {'co': 0.7952543151621825}, 364: {'co': 0.8042522141027488}, 378: {'co': 0.748436442047567}, 392: {'co': 0.7792619395036927}, 406: {'co': 0.7150687685068648}, 420: {'co': 0.7204071168602064}, 434: {'co': 0.6926833175266156}, 448: {'co': 0.7469357692469727}, 462: {'co': 0.8194616434274935}, 476: {'co': 0.8003384309650257}, 490: {'co': 0.838591313652497}, 504: {'co': 0.7977162242700062}, 518: {'co': 0.7923907094046225}, 532: {'co': 0.7711685074647038}, 546: {'co': 0.7277849260555459}, 560: {'co': 0.7550364406378572}, 574: {'co': 0.7632382394696103}, 588: {'co': 0.8012479092581936}, 602: {'co': 0.7793758471737031}, 616: {'co': 0.7367260895421608}, 630: {'co': 0.7541418586826002}, 644: {'co': 0.7334257897479987}, 658: {'co': 0.7729635952146265}, 672: {'co': 0.7774230449464756}, 686: {'co': 0.7618938429979563}, 700: {'co': 0.668442486959404}, 714: {'co': 0.8171368356453669}, 728: {'co': 0.8613206831157214}, 742: {'co': 0.8816656050347945}, 767: {'co': 0.8892590581487029}, 781: {'co': 0.8874541253328346}, 795: {'co': 0.8707727146081721}, 809: {'co': 0.8654665844446947}, 823: {'co': 0.864453815413521}, 837: {'co': 0.863093446527912}, 851: {'co': 0.8516313151907835}, 865: {'co': 0.8781756219219286}, 879: {'co': 0.8710534430708597}, 893: {'co': 0.8729534764515989}}\n",
      "2022/08/02 10:04:17 INFO|---------|{'beta_mult': 1.0, 'hosp_frac': 0.8, 'school_contact_increase': 1.2, 'fit_batch': '2', 'run_type': 'fit'}: Running forward sim\n",
      "2022/08/02 10:04:18 INFO|--------|{'beta_mult': 0.95, 'hosp_frac': 0.9, 'school_contact_increase': 1.2} Prepping Model\n",
      "2022/08/02 10:04:18 INFO|---------|{'beta_mult': 0.95, 'hosp_frac': 0.9, 'school_contact_increase': 1.2} Prepping Model\n",
      "2022/08/02 10:04:18 INFO|-----------|{'beta_mult': 1.0, 'hosp_frac': 0.9, 'school_contact_increase': 1.2} Retrieving vaccinations data\n",
      "2022/08/02 10:04:20 INFO|-----------|{'beta_mult': 1.0, 'hosp_frac': 0.9, 'school_contact_increase': 1.2} Constructing vaccination projections\n",
      "2022/08/02 10:04:20 INFO|-----------|{'beta_mult': 1.0, 'hosp_frac': 0.9, 'school_contact_increase': 1.2} Retrieving hospitalizations data\n",
      "2022/08/02 10:04:21 INFO|--------|{'beta_mult': 1.0, 'hosp_frac': 0.9, 'school_contact_increase': 1.2} Prepping Model\n",
      "2022/08/02 10:04:21 INFO|---------|{'beta_mult': 1.0, 'hosp_frac': 0.9, 'school_contact_increase': 1.2} Prepping Model\n",
      "2022/08/02 10:04:45 INFO|============================================================\n",
      "2022/08/02 10:04:47 INFO|-----------|{'beta_mult': 1.05, 'hosp_frac': 0.9, 'school_contact_increase': 1.2} Retrieving vaccinations data\n",
      "2022/08/02 10:04:48 INFO|-----------|{'beta_mult': 1.05, 'hosp_frac': 0.9, 'school_contact_increase': 1.2} Constructing vaccination projections\n",
      "2022/08/02 10:04:48 INFO|-----------|{'beta_mult': 1.05, 'hosp_frac': 0.9, 'school_contact_increase': 1.2} Retrieving hospitalizations data\n",
      "2022/08/02 10:04:50 INFO|--------|{'beta_mult': 1.05, 'hosp_frac': 0.9, 'school_contact_increase': 1.2} Prepping Model\n",
      "2022/08/02 10:04:50 INFO|---------|{'beta_mult': 1.05, 'hosp_frac': 0.9, 'school_contact_increase': 1.2} Prepping Model\n",
      "2022/08/02 10:05:01 INFO|--------|{'beta_mult': 0.95, 'hosp_frac': 0.9, 'school_contact_increase': 1.1} Model prepped for fitting in 68.57352470799998 seconds.\n",
      "2022/08/02 10:05:01 INFO|--------|{'beta_mult': 0.95, 'hosp_frac': 0.9, 'school_contact_increase': 1.1} Solving Model ODE\n"
     ]
    },
    {
     "name": "stderr",
     "output_type": "stream",
     "text": [
      "2022/08/02 10:05:03 INFO|--------|{'beta_mult': 0.95, 'hosp_frac': 0.9, 'school_contact_increase': 1.1} Model solved in 2.5498088749999965 seconds.\n",
      "2022/08/02 10:05:03 INFO|--------|{'beta_mult': 0.95, 'hosp_frac': 0.9, 'school_contact_increase': 1.1} Will fit 3 times\n",
      "2022/08/02 10:05:14 INFO|--------|{'beta_mult': 1.0, 'hosp_frac': 0.9, 'school_contact_increase': 1.1} Model prepped for fitting in 68.24986425000003 seconds.\n",
      "2022/08/02 10:05:14 INFO|--------|{'beta_mult': 1.0, 'hosp_frac': 0.9, 'school_contact_increase': 1.1} Solving Model ODE\n",
      "2022/08/02 10:05:15 INFO|--------|{'beta_mult': 1.05, 'hosp_frac': 0.9, 'school_contact_increase': 1.1} Model prepped for fitting in 68.753616916 seconds.\n",
      "2022/08/02 10:05:15 INFO|--------|{'beta_mult': 1.05, 'hosp_frac': 0.9, 'school_contact_increase': 1.1} Solving Model ODE\n",
      "2022/08/02 10:05:17 INFO|--------|{'beta_mult': 1.0, 'hosp_frac': 0.9, 'school_contact_increase': 1.1} Model solved in 2.5674043329999563 seconds.\n",
      "2022/08/02 10:05:17 INFO|--------|{'beta_mult': 1.0, 'hosp_frac': 0.9, 'school_contact_increase': 1.1} Will fit 3 times\n",
      "2022/08/02 10:05:18 INFO|--------|{'beta_mult': 1.05, 'hosp_frac': 0.9, 'school_contact_increase': 1.1} Model solved in 2.629922249999993 seconds.\n",
      "2022/08/02 10:05:18 INFO|--------|{'beta_mult': 1.05, 'hosp_frac': 0.9, 'school_contact_increase': 1.1} Will fit 3 times\n",
      "2022/08/02 10:05:25 INFO|--------|{'beta_mult': 0.95, 'hosp_frac': 0.9, 'school_contact_increase': 1.1, 'fit_batch': '0'}: Transmission control fit 1/3 completed in 21.801370458000008 seconds: {767: {'co': 0.8935691363459234}, 781: {'co': 0.8874952316232213}, 795: {'co': 0.8724312128374725}, 809: {'co': 0.8649852019073417}, 823: {'co': 0.8680649354713801}, 837: {'co': 0.8587630531915855}}\n",
      "2022/08/02 10:05:25 INFO|---------|{'beta_mult': 0.95, 'hosp_frac': 0.9, 'school_contact_increase': 1.1, 'fit_batch': '0'}: Running forward sim\n",
      "2022/08/02 10:05:27 INFO|--------|{'beta_mult': 0.95, 'hosp_frac': 0.9, 'school_contact_increase': 1.2} Model prepped for fitting in 68.98467845800002 seconds.\n",
      "2022/08/02 10:05:27 INFO|--------|{'beta_mult': 0.95, 'hosp_frac': 0.9, 'school_contact_increase': 1.2} Solving Model ODE\n",
      "2022/08/02 10:05:29 INFO|--------|{'beta_mult': 1.0, 'hosp_frac': 0.9, 'school_contact_increase': 1.2} Model prepped for fitting in 68.49521787499998 seconds.\n",
      "2022/08/02 10:05:29 INFO|--------|{'beta_mult': 1.0, 'hosp_frac': 0.9, 'school_contact_increase': 1.2} Solving Model ODE\n",
      "2022/08/02 10:05:29 INFO|--------|{'beta_mult': 0.95, 'hosp_frac': 0.9, 'school_contact_increase': 1.2} Model solved in 2.621527375000028 seconds.\n",
      "2022/08/02 10:05:29 INFO|--------|{'beta_mult': 0.95, 'hosp_frac': 0.9, 'school_contact_increase': 1.2} Will fit 3 times\n",
      "2022/08/02 10:05:32 INFO|--------|{'beta_mult': 1.0, 'hosp_frac': 0.9, 'school_contact_increase': 1.2} Model solved in 2.725042125000016 seconds.\n",
      "2022/08/02 10:05:32 INFO|--------|{'beta_mult': 1.0, 'hosp_frac': 0.9, 'school_contact_increase': 1.2} Will fit 3 times\n",
      "2022/08/02 10:05:36 INFO|--------|{'beta_mult': 1.05, 'hosp_frac': 0.9, 'school_contact_increase': 1.1, 'fit_batch': '0'}: Transmission control fit 1/3 completed in 18.095485625000038 seconds: {767: {'co': 0.8935718183485211}, 781: {'co': 0.8874830241674795}, 795: {'co': 0.8724571571826822}, 809: {'co': 0.865112156770883}, 823: {'co': 0.8687109144624067}, 837: {'co': 0.8608871513311899}}\n",
      "2022/08/02 10:05:36 INFO|---------|{'beta_mult': 1.05, 'hosp_frac': 0.9, 'school_contact_increase': 1.1, 'fit_batch': '0'}: Running forward sim\n",
      "2022/08/02 10:05:41 INFO|--------|{'beta_mult': 1.0, 'hosp_frac': 0.9, 'school_contact_increase': 1.1, 'fit_batch': '0'}: Transmission control fit 1/3 completed in 23.996269167000037 seconds: {767: {'co': 0.8935703745372179}, 781: {'co': 0.8874892081253049}, 795: {'co': 0.8724453570467341}, 809: {'co': 0.865043127573259}, 823: {'co': 0.8683397902938689}, 837: {'co': 0.859579178304324}}\n",
      "2022/08/02 10:05:41 INFO|---------|{'beta_mult': 1.0, 'hosp_frac': 0.9, 'school_contact_increase': 1.1, 'fit_batch': '0'}: Running forward sim\n",
      "2022/08/02 10:05:43 INFO|--------|{'beta_mult': 0.95, 'hosp_frac': 0.9, 'school_contact_increase': 1.1, 'fit_batch': '1'}: Transmission control fit 2/3 completed in 16.462753958000008 seconds: {795: {'co': 0.8722535930297105}, 809: {'co': 0.8659734338673176}, 823: {'co': 0.8657298141561555}, 837: {'co': 0.8642579706952973}, 851: {'co': 0.853098885845821}, 865: {'co': 0.8762271156772663}}\n",
      "2022/08/02 10:05:43 INFO|---------|{'beta_mult': 0.95, 'hosp_frac': 0.9, 'school_contact_increase': 1.1, 'fit_batch': '1'}: Running forward sim\n",
      "2022/08/02 10:05:51 INFO|--------|{'beta_mult': 0.95, 'hosp_frac': 0.9, 'school_contact_increase': 1.2, 'fit_batch': '0'}: Transmission control fit 1/3 completed in 21.788293375000023 seconds: {767: {'co': 0.8935691363459234}, 781: {'co': 0.8874952316232213}, 795: {'co': 0.8724312128374725}, 809: {'co': 0.8649852019073417}, 823: {'co': 0.8680649354713801}, 837: {'co': 0.8587630531915855}}\n",
      "2022/08/02 10:05:51 INFO|---------|{'beta_mult': 0.95, 'hosp_frac': 0.9, 'school_contact_increase': 1.2, 'fit_batch': '0'}: Running forward sim\n",
      "2022/08/02 10:05:54 INFO|--------|{'beta_mult': 1.05, 'hosp_frac': 0.9, 'school_contact_increase': 1.2} Model prepped for fitting in 64.120028166 seconds.\n",
      "2022/08/02 10:05:54 INFO|--------|{'beta_mult': 1.05, 'hosp_frac': 0.9, 'school_contact_increase': 1.2} Solving Model ODE\n",
      "2022/08/02 10:05:54 INFO|--------|{'beta_mult': 1.05, 'hosp_frac': 0.9, 'school_contact_increase': 1.1, 'fit_batch': '1'}: Transmission control fit 2/3 completed in 16.43882341699998 seconds: {795: {'co': 0.8723277344340231}, 809: {'co': 0.866028386554099}, 823: {'co': 0.8664693532753243}, 837: {'co': 0.8662575154654654}, 851: {'co': 0.8593306852465313}, 865: {'co': 0.8859645627934332}}\n",
      "2022/08/02 10:05:54 INFO|---------|{'beta_mult': 1.05, 'hosp_frac': 0.9, 'school_contact_increase': 1.1, 'fit_batch': '1'}: Running forward sim\n",
      "2022/08/02 10:05:56 INFO|--------|{'beta_mult': 1.0, 'hosp_frac': 0.9, 'school_contact_increase': 1.2, 'fit_batch': '0'}: Transmission control fit 1/3 completed in 23.78992674999995 seconds: {767: {'co': 0.8935703745372179}, 781: {'co': 0.8874892081253049}, 795: {'co': 0.8724453570467341}, 809: {'co': 0.865043127573259}, 823: {'co': 0.8683397902938689}, 837: {'co': 0.859579178304324}}\n",
      "2022/08/02 10:05:56 INFO|---------|{'beta_mult': 1.0, 'hosp_frac': 0.9, 'school_contact_increase': 1.2, 'fit_batch': '0'}: Running forward sim\n",
      "2022/08/02 10:05:56 INFO|--------|{'beta_mult': 1.05, 'hosp_frac': 0.9, 'school_contact_increase': 1.2} Model solved in 2.6203487920000157 seconds.\n",
      "2022/08/02 10:05:56 INFO|--------|{'beta_mult': 1.05, 'hosp_frac': 0.9, 'school_contact_increase': 1.2} Will fit 3 times\n",
      "2022/08/02 10:05:57 INFO|--------|{'beta_mult': 1.0, 'hosp_frac': 0.9, 'school_contact_increase': 1.1, 'fit_batch': '1'}: Transmission control fit 2/3 completed in 15.070189083000002 seconds: {795: {'co': 0.8722919134030677}, 809: {'co': 0.8659979600014654}, 823: {'co': 0.8660383673378659}, 837: {'co': 0.8650296141030337}, 851: {'co': 0.8553422528215381}, 865: {'co': 0.8798115220000038}}\n",
      "2022/08/02 10:05:57 INFO|---------|{'beta_mult': 1.0, 'hosp_frac': 0.9, 'school_contact_increase': 1.1, 'fit_batch': '1'}: Running forward sim\n",
      "2022/08/02 10:06:00 INFO|--------|{'beta_mult': 0.95, 'hosp_frac': 0.9, 'school_contact_increase': 1.1, 'fit_batch': '2'}: Transmission control fit 3/3 completed in 15.609744041999988 seconds: {823: {'co': 0.8656482115367828}, 837: {'co': 0.8642626701605612}, 851: {'co': 0.8526690332040807}, 865: {'co': 0.8784196216584833}, 879: {'co': 0.8699754875461748}, 893: {'co': 0.8707380617320439}}\n",
      "2022/08/02 10:06:00 INFO|---------|{'beta_mult': 0.95, 'hosp_frac': 0.9, 'school_contact_increase': 1.1, 'fit_batch': '2'}: Running forward sim\n",
      "2022/08/02 10:06:01 INFO|--------|{'beta_mult': 0.95, 'hosp_frac': 0.9, 'school_contact_increase': 1.1, 'fit_batch': '2', 'run_type': 'fit'}: fitted TC: {0: {'co': 0.8773342909396418}, 14: {'co': 0.6854869158846699}, 28: {'co': 0.5312085495123385}, 42: {'co': 9.17481924148225e-14}, 56: {'co': 0.7004798432020942}, 70: {'co': 0.8356322478699926}, 84: {'co': 0.8298061649141574}, 98: {'co': 0.8311910701540246}, 112: {'co': 0.8778136907198419}, 126: {'co': 0.8241104215652926}, 140: {'co': 0.7606632612324116}, 154: {'co': 0.6711880275449327}, 168: {'co': 0.843030767299243}, 182: {'co': 0.7826561834881246}, 196: {'co': 0.8191830554171712}, 210: {'co': 0.7726034283937625}, 224: {'co': 0.7713676651676141}, 238: {'co': 0.7185596197504118}, 252: {'co': 0.7222209123366246}, 266: {'co': 0.6848822753308852}, 280: {'co': 0.7199443377723465}, 294: {'co': 0.7575590111802091}, 308: {'co': 0.8226615739216321}, 322: {'co': 0.8113710429684717}, 336: {'co': 0.782596504972317}, 350: {'co': 0.7952543151621825}, 364: {'co': 0.8042522141027488}, 378: {'co': 0.748436442047567}, 392: {'co': 0.7792619395036927}, 406: {'co': 0.7150687685068648}, 420: {'co': 0.7204071168602064}, 434: {'co': 0.6926833175266156}, 448: {'co': 0.7469357692469727}, 462: {'co': 0.8194616434274935}, 476: {'co': 0.8003384309650257}, 490: {'co': 0.838591313652497}, 504: {'co': 0.7977162242700062}, 518: {'co': 0.7923907094046225}, 532: {'co': 0.7711685074647038}, 546: {'co': 0.7277849260555459}, 560: {'co': 0.7550364406378572}, 574: {'co': 0.7632382394696103}, 588: {'co': 0.8012479092581936}, 602: {'co': 0.7793758471737031}, 616: {'co': 0.7367260895421608}, 630: {'co': 0.7541418586826002}, 644: {'co': 0.7334257897479987}, 658: {'co': 0.7729635952146265}, 672: {'co': 0.7774230449464756}, 686: {'co': 0.7618938429979563}, 700: {'co': 0.668442486959404}, 714: {'co': 0.8171368356453669}, 728: {'co': 0.8613206831157214}, 742: {'co': 0.8816656050347945}, 767: {'co': 0.8935691363459234}, 781: {'co': 0.8874952316232213}, 795: {'co': 0.8722535930297105}, 809: {'co': 0.8659734338673176}, 823: {'co': 0.8656482115367828}, 837: {'co': 0.8642626701605612}, 851: {'co': 0.8526690332040807}, 865: {'co': 0.8784196216584833}, 879: {'co': 0.8699754875461748}, 893: {'co': 0.8707380766332051}}\n",
      "2022/08/02 10:06:01 INFO|---------|{'beta_mult': 0.95, 'hosp_frac': 0.9, 'school_contact_increase': 1.1, 'fit_batch': '2', 'run_type': 'fit'}: Running forward sim\n"
     ]
    },
    {
     "name": "stderr",
     "output_type": "stream",
     "text": [
      "2022/08/02 10:06:09 INFO|--------|{'beta_mult': 0.95, 'hosp_frac': 0.9, 'school_contact_increase': 1.2, 'fit_batch': '1'}: Transmission control fit 2/3 completed in 16.459144666000043 seconds: {795: {'co': 0.8722535930297105}, 809: {'co': 0.8659734338673176}, 823: {'co': 0.8657298141561555}, 837: {'co': 0.8642579706952973}, 851: {'co': 0.853098885845821}, 865: {'co': 0.8762271156772663}}\n",
      "2022/08/02 10:06:09 INFO|---------|{'beta_mult': 0.95, 'hosp_frac': 0.9, 'school_contact_increase': 1.2, 'fit_batch': '1'}: Running forward sim\n",
      "2022/08/02 10:06:10 INFO|--------|{'beta_mult': 1.05, 'hosp_frac': 0.9, 'school_contact_increase': 1.1, 'fit_batch': '2'}: Transmission control fit 3/3 completed in 15.486633041999994 seconds: {823: {'co': 0.8663135449575707}, 837: {'co': 0.8665940273045211}, 851: {'co': 0.8583471587800339}, 865: {'co': 0.8878171051166552}, 879: {'co': 0.8853548132350749}, 893: {'co': 0.8882901827754601}}\n",
      "2022/08/02 10:06:10 INFO|---------|{'beta_mult': 1.05, 'hosp_frac': 0.9, 'school_contact_increase': 1.1, 'fit_batch': '2'}: Running forward sim\n",
      "2022/08/02 10:06:12 INFO|--------|{'beta_mult': 1.05, 'hosp_frac': 0.9, 'school_contact_increase': 1.1, 'fit_batch': '2', 'run_type': 'fit'}: fitted TC: {0: {'co': 0.8773342909396418}, 14: {'co': 0.6854869158846699}, 28: {'co': 0.5312085495123385}, 42: {'co': 9.17481924148225e-14}, 56: {'co': 0.7004798432020942}, 70: {'co': 0.8356322478699926}, 84: {'co': 0.8298061649141574}, 98: {'co': 0.8311910701540246}, 112: {'co': 0.8778136907198419}, 126: {'co': 0.8241104215652926}, 140: {'co': 0.7606632612324116}, 154: {'co': 0.6711880275449327}, 168: {'co': 0.843030767299243}, 182: {'co': 0.7826561834881246}, 196: {'co': 0.8191830554171712}, 210: {'co': 0.7726034283937625}, 224: {'co': 0.7713676651676141}, 238: {'co': 0.7185596197504118}, 252: {'co': 0.7222209123366246}, 266: {'co': 0.6848822753308852}, 280: {'co': 0.7199443377723465}, 294: {'co': 0.7575590111802091}, 308: {'co': 0.8226615739216321}, 322: {'co': 0.8113710429684717}, 336: {'co': 0.782596504972317}, 350: {'co': 0.7952543151621825}, 364: {'co': 0.8042522141027488}, 378: {'co': 0.748436442047567}, 392: {'co': 0.7792619395036927}, 406: {'co': 0.7150687685068648}, 420: {'co': 0.7204071168602064}, 434: {'co': 0.6926833175266156}, 448: {'co': 0.7469357692469727}, 462: {'co': 0.8194616434274935}, 476: {'co': 0.8003384309650257}, 490: {'co': 0.838591313652497}, 504: {'co': 0.7977162242700062}, 518: {'co': 0.7923907094046225}, 532: {'co': 0.7711685074647038}, 546: {'co': 0.7277849260555459}, 560: {'co': 0.7550364406378572}, 574: {'co': 0.7632382394696103}, 588: {'co': 0.8012479092581936}, 602: {'co': 0.7793758471737031}, 616: {'co': 0.7367260895421608}, 630: {'co': 0.7541418586826002}, 644: {'co': 0.7334257897479987}, 658: {'co': 0.7729635952146265}, 672: {'co': 0.7774230449464756}, 686: {'co': 0.7618938429979563}, 700: {'co': 0.668442486959404}, 714: {'co': 0.8171368356453669}, 728: {'co': 0.8613206831157214}, 742: {'co': 0.8816656050347945}, 767: {'co': 0.8935718183485211}, 781: {'co': 0.8874830241674795}, 795: {'co': 0.8723277344340231}, 809: {'co': 0.866028386554099}, 823: {'co': 0.8663135449575707}, 837: {'co': 0.8665940273045211}, 851: {'co': 0.8583471587800339}, 865: {'co': 0.8878171051166552}, 879: {'co': 0.8853548132350749}, 893: {'co': 0.8882901976766213}}\n",
      "2022/08/02 10:06:12 INFO|---------|{'beta_mult': 1.05, 'hosp_frac': 0.9, 'school_contact_increase': 1.1, 'fit_batch': '2', 'run_type': 'fit'}: Running forward sim\n",
      "2022/08/02 10:06:12 INFO|--------|{'beta_mult': 1.0, 'hosp_frac': 0.9, 'school_contact_increase': 1.2, 'fit_batch': '1'}: Transmission control fit 2/3 completed in 14.825044791999971 seconds: {795: {'co': 0.8722919134030677}, 809: {'co': 0.8659979600014654}, 823: {'co': 0.8660383673378659}, 837: {'co': 0.8650296141030337}, 851: {'co': 0.8553422528215381}, 865: {'co': 0.8798115220000038}}\n",
      "2022/08/02 10:06:12 INFO|---------|{'beta_mult': 1.0, 'hosp_frac': 0.9, 'school_contact_increase': 1.2, 'fit_batch': '1'}: Running forward sim\n",
      "2022/08/02 10:06:14 INFO|--------|{'beta_mult': 1.0, 'hosp_frac': 0.9, 'school_contact_increase': 1.1, 'fit_batch': '2'}: Transmission control fit 3/3 completed in 15.694042792000005 seconds: {823: {'co': 0.8658969845855815}, 837: {'co': 0.8652667911723446}, 851: {'co': 0.854370130585244}, 865: {'co': 0.881590132684993}, 879: {'co': 0.8762688603891351}, 893: {'co': 0.87902811715523}}\n",
      "2022/08/02 10:06:14 INFO|---------|{'beta_mult': 1.0, 'hosp_frac': 0.9, 'school_contact_increase': 1.1, 'fit_batch': '2'}: Running forward sim\n",
      "2022/08/02 10:06:14 INFO|--------|{'beta_mult': 1.05, 'hosp_frac': 0.9, 'school_contact_increase': 1.2, 'fit_batch': '0'}: Transmission control fit 1/3 completed in 17.971326791000024 seconds: {767: {'co': 0.8935718183485211}, 781: {'co': 0.8874830241674795}, 795: {'co': 0.8724571571826822}, 809: {'co': 0.865112156770883}, 823: {'co': 0.8687109144624067}, 837: {'co': 0.8608871513311899}}\n",
      "2022/08/02 10:06:14 INFO|---------|{'beta_mult': 1.05, 'hosp_frac': 0.9, 'school_contact_increase': 1.2, 'fit_batch': '0'}: Running forward sim\n",
      "2022/08/02 10:06:15 INFO|--------|{'beta_mult': 1.0, 'hosp_frac': 0.9, 'school_contact_increase': 1.1, 'fit_batch': '2', 'run_type': 'fit'}: fitted TC: {0: {'co': 0.8773342909396418}, 14: {'co': 0.6854869158846699}, 28: {'co': 0.5312085495123385}, 42: {'co': 9.17481924148225e-14}, 56: {'co': 0.7004798432020942}, 70: {'co': 0.8356322478699926}, 84: {'co': 0.8298061649141574}, 98: {'co': 0.8311910701540246}, 112: {'co': 0.8778136907198419}, 126: {'co': 0.8241104215652926}, 140: {'co': 0.7606632612324116}, 154: {'co': 0.6711880275449327}, 168: {'co': 0.843030767299243}, 182: {'co': 0.7826561834881246}, 196: {'co': 0.8191830554171712}, 210: {'co': 0.7726034283937625}, 224: {'co': 0.7713676651676141}, 238: {'co': 0.7185596197504118}, 252: {'co': 0.7222209123366246}, 266: {'co': 0.6848822753308852}, 280: {'co': 0.7199443377723465}, 294: {'co': 0.7575590111802091}, 308: {'co': 0.8226615739216321}, 322: {'co': 0.8113710429684717}, 336: {'co': 0.782596504972317}, 350: {'co': 0.7952543151621825}, 364: {'co': 0.8042522141027488}, 378: {'co': 0.748436442047567}, 392: {'co': 0.7792619395036927}, 406: {'co': 0.7150687685068648}, 420: {'co': 0.7204071168602064}, 434: {'co': 0.6926833175266156}, 448: {'co': 0.7469357692469727}, 462: {'co': 0.8194616434274935}, 476: {'co': 0.8003384309650257}, 490: {'co': 0.838591313652497}, 504: {'co': 0.7977162242700062}, 518: {'co': 0.7923907094046225}, 532: {'co': 0.7711685074647038}, 546: {'co': 0.7277849260555459}, 560: {'co': 0.7550364406378572}, 574: {'co': 0.7632382394696103}, 588: {'co': 0.8012479092581936}, 602: {'co': 0.7793758471737031}, 616: {'co': 0.7367260895421608}, 630: {'co': 0.7541418586826002}, 644: {'co': 0.7334257897479987}, 658: {'co': 0.7729635952146265}, 672: {'co': 0.7774230449464756}, 686: {'co': 0.7618938429979563}, 700: {'co': 0.668442486959404}, 714: {'co': 0.8171368356453669}, 728: {'co': 0.8613206831157214}, 742: {'co': 0.8816656050347945}, 767: {'co': 0.8935703745372179}, 781: {'co': 0.8874892081253049}, 795: {'co': 0.8722919134030677}, 809: {'co': 0.8659979600014654}, 823: {'co': 0.8658969845855815}, 837: {'co': 0.8652667911723446}, 851: {'co': 0.854370130585244}, 865: {'co': 0.881590132684993}, 879: {'co': 0.8762688603891351}, 893: {'co': 0.8790281320563912}}\n",
      "2022/08/02 10:06:15 INFO|---------|{'beta_mult': 1.0, 'hosp_frac': 0.9, 'school_contact_increase': 1.1, 'fit_batch': '2', 'run_type': 'fit'}: Running forward sim\n",
      "2022/08/02 10:06:25 INFO|--------|{'beta_mult': 0.95, 'hosp_frac': 0.9, 'school_contact_increase': 1.2, 'fit_batch': '2'}: Transmission control fit 3/3 completed in 14.693436499999962 seconds: {823: {'co': 0.8656482115367828}, 837: {'co': 0.8642626701605612}, 851: {'co': 0.8526690332040807}, 865: {'co': 0.8784196216584833}, 879: {'co': 0.8699754875461748}, 893: {'co': 0.8707380617320439}}\n",
      "2022/08/02 10:06:25 INFO|---------|{'beta_mult': 0.95, 'hosp_frac': 0.9, 'school_contact_increase': 1.2, 'fit_batch': '2'}: Running forward sim\n",
      "2022/08/02 10:06:26 INFO|--------|{'beta_mult': 0.95, 'hosp_frac': 0.9, 'school_contact_increase': 1.2, 'fit_batch': '2', 'run_type': 'fit'}: fitted TC: {0: {'co': 0.8773342909396418}, 14: {'co': 0.6854869158846699}, 28: {'co': 0.5312085495123385}, 42: {'co': 9.17481924148225e-14}, 56: {'co': 0.7004798432020942}, 70: {'co': 0.8356322478699926}, 84: {'co': 0.8298061649141574}, 98: {'co': 0.8311910701540246}, 112: {'co': 0.8778136907198419}, 126: {'co': 0.8241104215652926}, 140: {'co': 0.7606632612324116}, 154: {'co': 0.6711880275449327}, 168: {'co': 0.843030767299243}, 182: {'co': 0.7826561834881246}, 196: {'co': 0.8191830554171712}, 210: {'co': 0.7726034283937625}, 224: {'co': 0.7713676651676141}, 238: {'co': 0.7185596197504118}, 252: {'co': 0.7222209123366246}, 266: {'co': 0.6848822753308852}, 280: {'co': 0.7199443377723465}, 294: {'co': 0.7575590111802091}, 308: {'co': 0.8226615739216321}, 322: {'co': 0.8113710429684717}, 336: {'co': 0.782596504972317}, 350: {'co': 0.7952543151621825}, 364: {'co': 0.8042522141027488}, 378: {'co': 0.748436442047567}, 392: {'co': 0.7792619395036927}, 406: {'co': 0.7150687685068648}, 420: {'co': 0.7204071168602064}, 434: {'co': 0.6926833175266156}, 448: {'co': 0.7469357692469727}, 462: {'co': 0.8194616434274935}, 476: {'co': 0.8003384309650257}, 490: {'co': 0.838591313652497}, 504: {'co': 0.7977162242700062}, 518: {'co': 0.7923907094046225}, 532: {'co': 0.7711685074647038}, 546: {'co': 0.7277849260555459}, 560: {'co': 0.7550364406378572}, 574: {'co': 0.7632382394696103}, 588: {'co': 0.8012479092581936}, 602: {'co': 0.7793758471737031}, 616: {'co': 0.7367260895421608}, 630: {'co': 0.7541418586826002}, 644: {'co': 0.7334257897479987}, 658: {'co': 0.7729635952146265}, 672: {'co': 0.7774230449464756}, 686: {'co': 0.7618938429979563}, 700: {'co': 0.668442486959404}, 714: {'co': 0.8171368356453669}, 728: {'co': 0.8613206831157214}, 742: {'co': 0.8816656050347945}, 767: {'co': 0.8935691363459234}, 781: {'co': 0.8874952316232213}, 795: {'co': 0.8722535930297105}, 809: {'co': 0.8659734338673176}, 823: {'co': 0.8656482115367828}, 837: {'co': 0.8642626701605612}, 851: {'co': 0.8526690332040807}, 865: {'co': 0.8784196216584833}, 879: {'co': 0.8699754875461748}, 893: {'co': 0.8707380766332051}}\n",
      "2022/08/02 10:06:26 INFO|---------|{'beta_mult': 0.95, 'hosp_frac': 0.9, 'school_contact_increase': 1.2, 'fit_batch': '2', 'run_type': 'fit'}: Running forward sim\n"
     ]
    },
    {
     "name": "stderr",
     "output_type": "stream",
     "text": [
      "2022/08/02 10:06:28 INFO|--------|{'beta_mult': 1.0, 'hosp_frac': 0.9, 'school_contact_increase': 1.2, 'fit_batch': '2'}: Transmission control fit 3/3 completed in 14.796271999999988 seconds: {823: {'co': 0.8658969845855815}, 837: {'co': 0.8652667911723446}, 851: {'co': 0.854370130585244}, 865: {'co': 0.881590132684993}, 879: {'co': 0.8762688603891351}, 893: {'co': 0.87902811715523}}\n",
      "2022/08/02 10:06:28 INFO|---------|{'beta_mult': 1.0, 'hosp_frac': 0.9, 'school_contact_increase': 1.2, 'fit_batch': '2'}: Running forward sim\n",
      "2022/08/02 10:06:29 INFO|--------|{'beta_mult': 1.0, 'hosp_frac': 0.9, 'school_contact_increase': 1.2, 'fit_batch': '2', 'run_type': 'fit'}: fitted TC: {0: {'co': 0.8773342909396418}, 14: {'co': 0.6854869158846699}, 28: {'co': 0.5312085495123385}, 42: {'co': 9.17481924148225e-14}, 56: {'co': 0.7004798432020942}, 70: {'co': 0.8356322478699926}, 84: {'co': 0.8298061649141574}, 98: {'co': 0.8311910701540246}, 112: {'co': 0.8778136907198419}, 126: {'co': 0.8241104215652926}, 140: {'co': 0.7606632612324116}, 154: {'co': 0.6711880275449327}, 168: {'co': 0.843030767299243}, 182: {'co': 0.7826561834881246}, 196: {'co': 0.8191830554171712}, 210: {'co': 0.7726034283937625}, 224: {'co': 0.7713676651676141}, 238: {'co': 0.7185596197504118}, 252: {'co': 0.7222209123366246}, 266: {'co': 0.6848822753308852}, 280: {'co': 0.7199443377723465}, 294: {'co': 0.7575590111802091}, 308: {'co': 0.8226615739216321}, 322: {'co': 0.8113710429684717}, 336: {'co': 0.782596504972317}, 350: {'co': 0.7952543151621825}, 364: {'co': 0.8042522141027488}, 378: {'co': 0.748436442047567}, 392: {'co': 0.7792619395036927}, 406: {'co': 0.7150687685068648}, 420: {'co': 0.7204071168602064}, 434: {'co': 0.6926833175266156}, 448: {'co': 0.7469357692469727}, 462: {'co': 0.8194616434274935}, 476: {'co': 0.8003384309650257}, 490: {'co': 0.838591313652497}, 504: {'co': 0.7977162242700062}, 518: {'co': 0.7923907094046225}, 532: {'co': 0.7711685074647038}, 546: {'co': 0.7277849260555459}, 560: {'co': 0.7550364406378572}, 574: {'co': 0.7632382394696103}, 588: {'co': 0.8012479092581936}, 602: {'co': 0.7793758471737031}, 616: {'co': 0.7367260895421608}, 630: {'co': 0.7541418586826002}, 644: {'co': 0.7334257897479987}, 658: {'co': 0.7729635952146265}, 672: {'co': 0.7774230449464756}, 686: {'co': 0.7618938429979563}, 700: {'co': 0.668442486959404}, 714: {'co': 0.8171368356453669}, 728: {'co': 0.8613206831157214}, 742: {'co': 0.8816656050347945}, 767: {'co': 0.8935703745372179}, 781: {'co': 0.8874892081253049}, 795: {'co': 0.8722919134030677}, 809: {'co': 0.8659979600014654}, 823: {'co': 0.8658969845855815}, 837: {'co': 0.8652667911723446}, 851: {'co': 0.854370130585244}, 865: {'co': 0.881590132684993}, 879: {'co': 0.8762688603891351}, 893: {'co': 0.8790281320563912}}\n",
      "2022/08/02 10:06:29 INFO|---------|{'beta_mult': 1.0, 'hosp_frac': 0.9, 'school_contact_increase': 1.2, 'fit_batch': '2', 'run_type': 'fit'}: Running forward sim\n",
      "2022/08/02 10:06:31 INFO|--------|{'beta_mult': 1.05, 'hosp_frac': 0.9, 'school_contact_increase': 1.2, 'fit_batch': '1'}: Transmission control fit 2/3 completed in 15.313073457999963 seconds: {795: {'co': 0.8723277344340231}, 809: {'co': 0.866028386554099}, 823: {'co': 0.8664693532753243}, 837: {'co': 0.8662575154654654}, 851: {'co': 0.8593306852465313}, 865: {'co': 0.8859645627934332}}\n",
      "2022/08/02 10:06:31 INFO|---------|{'beta_mult': 1.05, 'hosp_frac': 0.9, 'school_contact_increase': 1.2, 'fit_batch': '1'}: Running forward sim\n",
      "2022/08/02 10:06:47 INFO|--------|{'beta_mult': 1.05, 'hosp_frac': 0.9, 'school_contact_increase': 1.2, 'fit_batch': '2'}: Transmission control fit 3/3 completed in 14.465681332999964 seconds: {823: {'co': 0.8663135449575707}, 837: {'co': 0.8665940273045211}, 851: {'co': 0.8583471587800339}, 865: {'co': 0.8878171051166552}, 879: {'co': 0.8853548132350749}, 893: {'co': 0.8882901827754601}}\n",
      "2022/08/02 10:06:47 INFO|---------|{'beta_mult': 1.05, 'hosp_frac': 0.9, 'school_contact_increase': 1.2, 'fit_batch': '2'}: Running forward sim\n",
      "2022/08/02 10:06:48 INFO|--------|{'beta_mult': 1.05, 'hosp_frac': 0.9, 'school_contact_increase': 1.2, 'fit_batch': '2', 'run_type': 'fit'}: fitted TC: {0: {'co': 0.8773342909396418}, 14: {'co': 0.6854869158846699}, 28: {'co': 0.5312085495123385}, 42: {'co': 9.17481924148225e-14}, 56: {'co': 0.7004798432020942}, 70: {'co': 0.8356322478699926}, 84: {'co': 0.8298061649141574}, 98: {'co': 0.8311910701540246}, 112: {'co': 0.8778136907198419}, 126: {'co': 0.8241104215652926}, 140: {'co': 0.7606632612324116}, 154: {'co': 0.6711880275449327}, 168: {'co': 0.843030767299243}, 182: {'co': 0.7826561834881246}, 196: {'co': 0.8191830554171712}, 210: {'co': 0.7726034283937625}, 224: {'co': 0.7713676651676141}, 238: {'co': 0.7185596197504118}, 252: {'co': 0.7222209123366246}, 266: {'co': 0.6848822753308852}, 280: {'co': 0.7199443377723465}, 294: {'co': 0.7575590111802091}, 308: {'co': 0.8226615739216321}, 322: {'co': 0.8113710429684717}, 336: {'co': 0.782596504972317}, 350: {'co': 0.7952543151621825}, 364: {'co': 0.8042522141027488}, 378: {'co': 0.748436442047567}, 392: {'co': 0.7792619395036927}, 406: {'co': 0.7150687685068648}, 420: {'co': 0.7204071168602064}, 434: {'co': 0.6926833175266156}, 448: {'co': 0.7469357692469727}, 462: {'co': 0.8194616434274935}, 476: {'co': 0.8003384309650257}, 490: {'co': 0.838591313652497}, 504: {'co': 0.7977162242700062}, 518: {'co': 0.7923907094046225}, 532: {'co': 0.7711685074647038}, 546: {'co': 0.7277849260555459}, 560: {'co': 0.7550364406378572}, 574: {'co': 0.7632382394696103}, 588: {'co': 0.8012479092581936}, 602: {'co': 0.7793758471737031}, 616: {'co': 0.7367260895421608}, 630: {'co': 0.7541418586826002}, 644: {'co': 0.7334257897479987}, 658: {'co': 0.7729635952146265}, 672: {'co': 0.7774230449464756}, 686: {'co': 0.7618938429979563}, 700: {'co': 0.668442486959404}, 714: {'co': 0.8171368356453669}, 728: {'co': 0.8613206831157214}, 742: {'co': 0.8816656050347945}, 767: {'co': 0.8935718183485211}, 781: {'co': 0.8874830241674795}, 795: {'co': 0.8723277344340231}, 809: {'co': 0.866028386554099}, 823: {'co': 0.8663135449575707}, 837: {'co': 0.8665940273045211}, 851: {'co': 0.8583471587800339}, 865: {'co': 0.8878171051166552}, 879: {'co': 0.8853548132350749}, 893: {'co': 0.8882901976766213}}\n",
      "2022/08/02 10:06:48 INFO|---------|{'beta_mult': 1.05, 'hosp_frac': 0.9, 'school_contact_increase': 1.2, 'fit_batch': '2', 'run_type': 'fit'}: Running forward sim\n",
      "2022/08/02 10:08:29 INFO|-----------------------|spec_ids: 3489,3490,3491,3492,3493,3494,3495,3496,3497,3498,3499,3500,3501,3502,3503,3504,3505,3506\n"
     ]
    }
   ],
   "source": [
    "# run the scenarios\n",
    "models = do_fit_scenarios(base_model_args=model_args, scenario_args_list=scenario_model_args, fit_args=model_fit_args, multiprocess=multiprocess)"
   ]
  },
  {
   "cell_type": "markdown",
   "metadata": {
    "pycharm": {
     "name": "#%% md\n"
    }
   },
   "source": [
    "### Run the report for each fit model"
   ]
  },
  {
   "cell_type": "code",
   "execution_count": 13,
   "metadata": {
    "pycharm": {
     "name": "#%%\n"
    }
   },
   "outputs": [
    {
     "name": "stderr",
     "output_type": "stream",
     "text": [
      "2022/08/02 10:13:41 INFO|============================================================\n",
      "2022/08/02 10:13:41 INFO|--------|Solving model\n",
      "2022/08/02 10:13:42 INFO|============================================================\n",
      "2022/08/02 10:13:42 INFO|--------|Solving model\n",
      "2022/08/02 10:13:42 INFO|============================================================\n",
      "2022/08/02 10:13:42 INFO|--------|Solving model\n",
      "2022/08/02 10:13:43 INFO|============================================================\n",
      "2022/08/02 10:13:43 INFO|--------|Solving model\n",
      "2022/08/02 10:13:44 INFO|============================================================\n",
      "2022/08/02 10:13:44 INFO|--------|Solving model\n",
      "2022/08/02 10:13:44 WARNING|No artists with labels found to put in legend.  Note that artists whose label start with an underscore are ignored when legend() is called with no argument.\n",
      "2022/08/02 10:13:44 INFO|============================================================\n",
      "2022/08/02 10:13:44 INFO|--------|Solving model\n",
      "2022/08/02 10:13:44 WARNING|No artists with labels found to put in legend.  Note that artists whose label start with an underscore are ignored when legend() is called with no argument.\n",
      "2022/08/02 10:13:45 WARNING|No artists with labels found to put in legend.  Note that artists whose label start with an underscore are ignored when legend() is called with no argument.\n",
      "2022/08/02 10:13:46 WARNING|No artists with labels found to put in legend.  Note that artists whose label start with an underscore are ignored when legend() is called with no argument.\n",
      "2022/08/02 10:13:46 WARNING|No artists with labels found to put in legend.  Note that artists whose label start with an underscore are ignored when legend() is called with no argument.\n",
      "2022/08/02 10:13:47 WARNING|No artists with labels found to put in legend.  Note that artists whose label start with an underscore are ignored when legend() is called with no argument.\n",
      "2022/08/02 10:14:34 INFO|============================================================\n",
      "2022/08/02 10:14:34 INFO|--------|Solving model\n",
      "2022/08/02 10:14:36 INFO|============================================================\n",
      "2022/08/02 10:14:36 INFO|--------|Solving model\n",
      "2022/08/02 10:14:37 INFO|============================================================\n",
      "2022/08/02 10:14:37 INFO|--------|Solving model\n",
      "2022/08/02 10:14:37 WARNING|No artists with labels found to put in legend.  Note that artists whose label start with an underscore are ignored when legend() is called with no argument.\n",
      "2022/08/02 10:14:38 INFO|============================================================\n",
      "2022/08/02 10:14:38 INFO|--------|Solving model\n",
      "2022/08/02 10:14:38 WARNING|No artists with labels found to put in legend.  Note that artists whose label start with an underscore are ignored when legend() is called with no argument.\n",
      "2022/08/02 10:14:39 INFO|============================================================\n",
      "2022/08/02 10:14:39 INFO|--------|Solving model\n",
      "2022/08/02 10:14:39 WARNING|No artists with labels found to put in legend.  Note that artists whose label start with an underscore are ignored when legend() is called with no argument.\n",
      "2022/08/02 10:14:40 INFO|============================================================\n",
      "2022/08/02 10:14:40 INFO|--------|Solving model\n",
      "2022/08/02 10:14:40 WARNING|No artists with labels found to put in legend.  Note that artists whose label start with an underscore are ignored when legend() is called with no argument.\n",
      "2022/08/02 10:14:41 WARNING|No artists with labels found to put in legend.  Note that artists whose label start with an underscore are ignored when legend() is called with no argument.\n",
      "2022/08/02 10:14:42 WARNING|No artists with labels found to put in legend.  Note that artists whose label start with an underscore are ignored when legend() is called with no argument.\n",
      "2022/08/02 10:15:29 INFO|============================================================\n",
      "2022/08/02 10:15:29 INFO|--------|Solving model\n",
      "2022/08/02 10:15:30 INFO|============================================================\n",
      "2022/08/02 10:15:30 INFO|--------|Solving model\n",
      "2022/08/02 10:15:31 WARNING|No artists with labels found to put in legend.  Note that artists whose label start with an underscore are ignored when legend() is called with no argument.\n",
      "2022/08/02 10:15:32 INFO|============================================================\n",
      "2022/08/02 10:15:32 INFO|--------|Solving model\n",
      "2022/08/02 10:15:33 WARNING|No artists with labels found to put in legend.  Note that artists whose label start with an underscore are ignored when legend() is called with no argument.\n",
      "2022/08/02 10:15:34 WARNING|No artists with labels found to put in legend.  Note that artists whose label start with an underscore are ignored when legend() is called with no argument.\n",
      "2022/08/02 10:15:34 INFO|============================================================\n",
      "2022/08/02 10:15:34 INFO|--------|Solving model\n",
      "2022/08/02 10:15:35 INFO|============================================================\n",
      "2022/08/02 10:15:35 INFO|--------|Solving model\n",
      "2022/08/02 10:15:36 INFO|============================================================\n",
      "2022/08/02 10:15:36 INFO|--------|Solving model\n",
      "2022/08/02 10:15:37 WARNING|No artists with labels found to put in legend.  Note that artists whose label start with an underscore are ignored when legend() is called with no argument.\n",
      "2022/08/02 10:15:37 WARNING|No artists with labels found to put in legend.  Note that artists whose label start with an underscore are ignored when legend() is called with no argument.\n",
      "2022/08/02 10:15:38 WARNING|No artists with labels found to put in legend.  Note that artists whose label start with an underscore are ignored when legend() is called with no argument.\n"
     ]
    }
   ],
   "source": [
    "do_create_multiple_reports(models, multiprocess=multiprocess, outdir=outdir, prep_model=False, solve_model=True, immun_variants=['ba45'], from_date='2022-01-01')"
   ]
  },
  {
   "cell_type": "code",
   "execution_count": 14,
   "metadata": {
    "pycharm": {
     "name": "#%%\n"
    }
   },
   "outputs": [
    {
     "name": "stderr",
     "output_type": "stream",
     "text": [
      "2022/08/02 10:19:31 INFO|Projecting\n",
      "2022/08/02 10:19:31 INFO|\n",
      "2022/08/02 10:19:40 INFO|{'beta_mult': 0.95, 'hosp_frac': 0.7, 'school_contact_increase': 1.1, 'fit_batch': '2', 'run_type': 'fit'}: Running forward sim\n",
      "2022/08/02 10:19:41 INFO|\n",
      "2022/08/02 10:19:51 INFO|{'beta_mult': 1.0, 'hosp_frac': 0.7, 'school_contact_increase': 1.1, 'fit_batch': '2', 'run_type': 'fit'}: Running forward sim\n",
      "2022/08/02 10:19:52 INFO|\n",
      "2022/08/02 10:20:01 INFO|{'beta_mult': 1.05, 'hosp_frac': 0.7, 'school_contact_increase': 1.1, 'fit_batch': '2', 'run_type': 'fit'}: Running forward sim\n",
      "2022/08/02 10:20:02 INFO|\n",
      "2022/08/02 10:20:11 INFO|{'beta_mult': 0.95, 'hosp_frac': 0.7, 'school_contact_increase': 1.2, 'fit_batch': '2', 'run_type': 'fit'}: Running forward sim\n",
      "2022/08/02 10:20:12 INFO|\n",
      "2022/08/02 10:20:39 INFO|{'beta_mult': 1.0, 'hosp_frac': 0.7, 'school_contact_increase': 1.2, 'fit_batch': '2', 'run_type': 'fit'}: Running forward sim\n",
      "2022/08/02 10:20:40 INFO|\n",
      "2022/08/02 10:20:49 INFO|{'beta_mult': 1.05, 'hosp_frac': 0.7, 'school_contact_increase': 1.2, 'fit_batch': '2', 'run_type': 'fit'}: Running forward sim\n",
      "2022/08/02 10:20:50 INFO|\n",
      "2022/08/02 10:20:59 INFO|{'beta_mult': 0.95, 'hosp_frac': 0.8, 'school_contact_increase': 1.1, 'fit_batch': '2', 'run_type': 'fit'}: Running forward sim\n",
      "2022/08/02 10:21:00 INFO|\n",
      "2022/08/02 10:21:09 INFO|{'beta_mult': 1.0, 'hosp_frac': 0.8, 'school_contact_increase': 1.1, 'fit_batch': '2', 'run_type': 'fit'}: Running forward sim\n",
      "2022/08/02 10:21:10 INFO|\n",
      "2022/08/02 10:21:19 INFO|{'beta_mult': 1.05, 'hosp_frac': 0.8, 'school_contact_increase': 1.1, 'fit_batch': '2', 'run_type': 'fit'}: Running forward sim\n",
      "2022/08/02 10:21:21 INFO|\n",
      "2022/08/02 10:21:30 INFO|{'beta_mult': 0.95, 'hosp_frac': 0.8, 'school_contact_increase': 1.2, 'fit_batch': '2', 'run_type': 'fit'}: Running forward sim\n",
      "2022/08/02 10:21:31 INFO|\n",
      "2022/08/02 10:21:54 INFO|{'beta_mult': 1.0, 'hosp_frac': 0.8, 'school_contact_increase': 1.2, 'fit_batch': '2', 'run_type': 'fit'}: Running forward sim\n",
      "2022/08/02 10:21:55 INFO|\n",
      "2022/08/02 10:22:04 INFO|{'beta_mult': 1.05, 'hosp_frac': 0.8, 'school_contact_increase': 1.2, 'fit_batch': '2', 'run_type': 'fit'}: Running forward sim\n",
      "2022/08/02 10:22:05 INFO|\n",
      "2022/08/02 10:22:14 INFO|{'beta_mult': 0.95, 'hosp_frac': 0.9, 'school_contact_increase': 1.1, 'fit_batch': '2', 'run_type': 'fit'}: Running forward sim\n",
      "2022/08/02 10:22:15 INFO|\n",
      "2022/08/02 10:22:24 INFO|{'beta_mult': 1.0, 'hosp_frac': 0.9, 'school_contact_increase': 1.1, 'fit_batch': '2', 'run_type': 'fit'}: Running forward sim\n",
      "2022/08/02 10:22:25 INFO|\n",
      "2022/08/02 10:22:34 INFO|{'beta_mult': 1.05, 'hosp_frac': 0.9, 'school_contact_increase': 1.1, 'fit_batch': '2', 'run_type': 'fit'}: Running forward sim\n",
      "2022/08/02 10:22:36 INFO|\n",
      "2022/08/02 10:22:59 INFO|{'beta_mult': 0.95, 'hosp_frac': 0.9, 'school_contact_increase': 1.2, 'fit_batch': '2', 'run_type': 'fit'}: Running forward sim\n",
      "2022/08/02 10:23:00 INFO|\n",
      "2022/08/02 10:23:09 INFO|{'beta_mult': 1.0, 'hosp_frac': 0.9, 'school_contact_increase': 1.2, 'fit_batch': '2', 'run_type': 'fit'}: Running forward sim\n",
      "2022/08/02 10:23:10 INFO|\n",
      "2022/08/02 10:23:19 INFO|{'beta_mult': 1.05, 'hosp_frac': 0.9, 'school_contact_increase': 1.2, 'fit_batch': '2', 'run_type': 'fit'}: Running forward sim\n",
      "2022/08/02 10:23:21 INFO|Running reports\n"
     ]
    }
   ],
   "source": [
    "logging.info('Projecting')\n",
    "for model in models:\n",
    "    logging.info('')\n",
    "    #model.prep()  # don't think we need to prep anymore.\n",
    "    model.solve_seir()\n",
    "\n",
    "    model.solution_sum_df(['seir', 'variant', 'immun']).unstack().to_csv(get_filepath_prefix(outdir, tags=model.tags) + 'states_seir_variant_immun_total_all_at_once_projection.csv')\n",
    "    model.solution_sum_df().unstack().to_csv(get_filepath_prefix(outdir, tags=model.tags) + 'states_full_projection.csv')\n",
    "\n",
    "    logging.info(f'{str(model.tags)}: Running forward sim')\n",
    "    fig = plt.figure(figsize=(10, 10), dpi=300)\n",
    "    ax = fig.add_subplot(211)\n",
    "    hosps_df = model.modeled_vs_observed_hosps().reset_index('region').drop(columns='region')\n",
    "    hosps_df.plot(ax=ax)\n",
    "    ax.set_xlim(dt.datetime.strptime('2022-01-01', \"%Y-%m-%d\").date(), dt.datetime.strptime('2022-10-15', \"%Y-%m-%d\").date())\n",
    "    ax = fig.add_subplot(212)\n",
    "    plot_transmission_control(model, ax=ax)\n",
    "    ax.set_xlim(dt.datetime.strptime('2022-01-01', \"%Y-%m-%d\").date(), dt.datetime.strptime('2022-10-15', \"%Y-%m-%d\").date())\n",
    "    plt.savefig(get_filepath_prefix(outdir, tags=model.tags) + 'model_forecast.png')\n",
    "    plt.close()\n",
    "    hosps_df.to_csv(get_filepath_prefix(outdir, tags=model.tags) + '_model_forecast.csv')\n",
    "    json.dump(model.tc, open(get_filepath_prefix(outdir, tags=model.tags) + 'model_forecast_tc.json', 'w'))\n",
    "\n",
    "logging.info('Running reports')"
   ]
  }
 ],
 "metadata": {
  "kernelspec": {
   "display_name": "Python 3 (ipykernel)",
   "language": "python",
   "name": "python3"
  },
  "language_info": {
   "codemirror_mode": {
    "name": "ipython",
    "version": 3
   },
   "file_extension": ".py",
   "mimetype": "text/x-python",
   "name": "python",
   "nbconvert_exporter": "python",
   "pygments_lexer": "ipython3",
   "version": "3.9.13"
  }
 },
 "nbformat": 4,
 "nbformat_minor": 4
}
