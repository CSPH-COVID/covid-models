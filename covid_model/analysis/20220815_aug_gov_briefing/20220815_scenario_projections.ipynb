{
 "cells": [
  {
   "cell_type": "markdown",
   "metadata": {
    "pycharm": {
     "name": "#%% md\n"
    }
   },
   "source": [
    "### Setup"
   ]
  },
  {
   "cell_type": "code",
   "execution_count": 1,
   "metadata": {
    "pycharm": {
     "name": "#%%\n"
    }
   },
   "outputs": [
    {
     "name": "stdout",
     "output_type": "stream",
     "text": [
      "/Users/emwu9912/PycharmProjects/covid-models\n"
     ]
    }
   ],
   "source": [
    "# this first setup block will pretty much always stay the same\n",
    "\"\"\" Python Standard Library \"\"\"\n",
    "import os\n",
    "import datetime as dt\n",
    "import json\n",
    "import logging\n",
    "\"\"\" Third Party Imports \"\"\"\n",
    "import numpy as np\n",
    "from matplotlib import pyplot as plt\n",
    "%matplotlib inline\n",
    "\"\"\" Local Imports \"\"\"\n",
    "if 'requirements.txt' not in os.listdir(os.getcwd()):\n",
    "    os.chdir(os.path.join('..','..','..'))\n",
    "print(os.getcwd())\n",
    "from covid_model import CovidModel\n",
    "from covid_model.runnable_functions import do_single_fit, do_create_multiple_reports, do_fit_scenarios\n",
    "from covid_model.utils import setup, get_filepath_prefix\n",
    "from covid_model.analysis.charts import plot_transmission_control\n",
    "\n",
    "os.environ['gcp_project'] = 'co-covid-models'\n",
    "os.environ['GOOGLE_APPLICATION_CREDENTIALS'] = \"co-covid-models-credentials.json\""
   ]
  },
  {
   "cell_type": "code",
   "execution_count": 2,
   "metadata": {
    "pycharm": {
     "name": "#%%\n"
    }
   },
   "outputs": [
    {
     "name": "stderr",
     "output_type": "stream",
     "text": [
      "2022/08/01 14:12:35 INFO|============================================================\n"
     ]
    }
   ],
   "source": [
    "# set up the output directory for this Jupyter notebook\n",
    "outdir = setup(\"20220815_scenario_projections.ipynb\")"
   ]
  },
  {
   "cell_type": "markdown",
   "metadata": {
    "pycharm": {
     "name": "#%% md\n"
    }
   },
   "source": [
    "### Fit an initial scenario through Feb 2022"
   ]
  },
  {
   "cell_type": "code",
   "execution_count": 4,
   "metadata": {
    "pycharm": {
     "name": "#%%\n"
    }
   },
   "outputs": [
    {
     "name": "stderr",
     "output_type": "stream",
     "text": [
      "2022/08/01 14:14:30 INFO|-------------------------|{} Retrieving vaccinations data\n",
      "2022/08/01 14:14:37 INFO|-------------------------|{} Constructing vaccination projections\n",
      "2022/08/01 14:14:37 INFO|-------------------------|{} Retrieving hospitalizations data\n",
      "2022/08/01 14:14:38 INFO|----------------------|{} Prepping Model\n",
      "2022/08/01 14:14:38 INFO|-----------------------|{} Prepping Model\n",
      "2022/08/01 14:15:32 INFO|----------------------|{} Model prepped for fitting in 54.13200379099999 seconds.\n",
      "2022/08/01 14:15:32 INFO|----------------------|{} Will fit 25 times\n",
      "2022/08/01 14:17:02 INFO|----------------------|{'fit_batch': '0'}: Transmission control fit 1/25 completed in 89.500094709 seconds: {0: {'co': 0.8773342920133839}, 14: {'co': 0.6854869128115542}, 28: {'co': 0.5378778726564099}, 42: {'co': 0.0005295181905471819}, 56: {'co': 0.6816113314978964}, 70: {'co': 0.8911952767526848}}\n",
      "2022/08/01 14:17:02 INFO|-----------------------|{'fit_batch': '0'}: Running forward sim\n",
      "2022/08/01 14:17:22 INFO|----------------------|{'fit_batch': '1'}: Transmission control fit 2/25 completed in 18.866026832999978 seconds: {28: {'co': 0.5312085495123385}, 42: {'co': 9.17481924148225e-14}, 56: {'co': 0.695117117941214}, 70: {'co': 0.835970060813551}, 84: {'co': 0.8208849315884128}, 98: {'co': 0.8733255726720605}}\n",
      "2022/08/01 14:17:22 INFO|-----------------------|{'fit_batch': '1'}: Running forward sim\n",
      "2022/08/01 14:17:41 INFO|----------------------|{'fit_batch': '2'}: Transmission control fit 3/25 completed in 17.455306000000007 seconds: {56: {'co': 0.7004798432020942}, 70: {'co': 0.8356322478699926}, 84: {'co': 0.8296299809868841}, 98: {'co': 0.8332667907817428}, 112: {'co': 0.8688569571901523}, 126: {'co': 0.9094085244544845}}\n",
      "2022/08/01 14:17:41 INFO|-----------------------|{'fit_batch': '2'}: Running forward sim\n",
      "2022/08/01 14:18:00 INFO|----------------------|{'fit_batch': '3'}: Transmission control fit 4/25 completed in 17.32749445799999 seconds: {84: {'co': 0.8298061649141574}, 98: {'co': 0.8311910701540246}, 112: {'co': 0.8777363510462372}, 126: {'co': 0.8236665463769257}, 140: {'co': 0.7631239438121024}, 154: {'co': 0.6614366742391141}}\n",
      "2022/08/01 14:18:00 INFO|-----------------------|{'fit_batch': '3'}: Running forward sim\n",
      "2022/08/01 14:18:17 INFO|----------------------|{'fit_batch': '4'}: Transmission control fit 5/25 completed in 16.249173333000044 seconds: {112: {'co': 0.8778136907198419}, 126: {'co': 0.8241104215652926}, 140: {'co': 0.7609083191640308}, 154: {'co': 0.670766279142572}, 168: {'co': 0.843700161999062}, 182: {'co': 0.7841336802282418}}\n",
      "2022/08/01 14:18:17 INFO|-----------------------|{'fit_batch': '4'}: Running forward sim\n",
      "2022/08/01 14:18:34 INFO|----------------------|{'fit_batch': '5'}: Transmission control fit 6/25 completed in 15.580030333000025 seconds: {140: {'co': 0.7606632612324116}, 154: {'co': 0.6711880275449327}, 168: {'co': 0.8432114377664893}, 182: {'co': 0.7802293362229245}, 196: {'co': 0.8275752578347332}, 210: {'co': 0.7404064769870397}}\n",
      "2022/08/01 14:18:34 INFO|-----------------------|{'fit_batch': '5'}: Running forward sim\n",
      "2022/08/01 14:18:48 INFO|----------------------|{'fit_batch': '6'}: Transmission control fit 7/25 completed in 12.770274959000005 seconds: {168: {'co': 0.843030767299243}, 182: {'co': 0.7826561834881246}, 196: {'co': 0.8196322797091385}, 210: {'co': 0.7710692282705948}, 224: {'co': 0.7742679890001303}, 238: {'co': 0.7168390992430299}}\n",
      "2022/08/01 14:18:48 INFO|-----------------------|{'fit_batch': '6'}: Running forward sim\n",
      "2022/08/01 14:19:06 INFO|----------------------|{'fit_batch': '7'}: Transmission control fit 8/25 completed in 16.343402875000038 seconds: {196: {'co': 0.8191830554171712}, 210: {'co': 0.7726034283937625}, 224: {'co': 0.7703978091935572}, 238: {'co': 0.7217705051437812}, 252: {'co': 0.7178214103743299}, 266: {'co': 0.6919165707502479}}\n",
      "2022/08/01 14:19:06 INFO|-----------------------|{'fit_batch': '7'}: Running forward sim\n",
      "2022/08/01 14:19:22 INFO|----------------------|{'fit_batch': '8'}: Transmission control fit 9/25 completed in 14.780820542000015 seconds: {224: {'co': 0.7713676651676141}, 238: {'co': 0.7185596197504118}, 252: {'co': 0.722675541016725}, 266: {'co': 0.6833595794633424}, 280: {'co': 0.7225472408131655}, 294: {'co': 0.7520349850606908}}\n",
      "2022/08/01 14:19:22 INFO|-----------------------|{'fit_batch': '8'}: Running forward sim\n",
      "2022/08/01 14:19:42 INFO|----------------------|{'fit_batch': '9'}: Transmission control fit 10/25 completed in 18.30082329199996 seconds: {252: {'co': 0.7222209123366246}, 266: {'co': 0.6848822753308852}, 280: {'co': 0.7201843953349751}, 294: {'co': 0.7566998911417118}, 308: {'co': 0.8255125233085406}, 322: {'co': 0.7964132912838344}}\n",
      "2022/08/01 14:19:42 INFO|-----------------------|{'fit_batch': '9'}: Running forward sim\n",
      "2022/08/01 14:19:58 INFO|----------------------|{'fit_batch': '10'}: Transmission control fit 11/25 completed in 14.150675292000017 seconds: {280: {'co': 0.7199443377723465}, 294: {'co': 0.7575590111802091}, 308: {'co': 0.8227587398385026}, 322: {'co': 0.8100838140963943}, 336: {'co': 0.7880953943436285}, 350: {'co': 0.7724360128691957}}\n",
      "2022/08/01 14:19:58 INFO|-----------------------|{'fit_batch': '10'}: Running forward sim\n",
      "2022/08/01 14:20:13 INFO|----------------------|{'fit_batch': '11'}: Transmission control fit 12/25 completed in 14.556451041999992 seconds: {308: {'co': 0.8226615739216321}, 322: {'co': 0.8113710429684717}, 336: {'co': 0.7829722901327849}, 350: {'co': 0.7933241205655119}, 364: {'co': 0.8127630654161944}, 378: {'co': 0.710125104511365}}\n",
      "2022/08/01 14:20:13 INFO|-----------------------|{'fit_batch': '11'}: Running forward sim\n",
      "2022/08/01 14:20:28 INFO|----------------------|{'fit_batch': '12'}: Transmission control fit 13/25 completed in 13.121466666000003 seconds: {336: {'co': 0.782596504972317}, 350: {'co': 0.7952543151621825}, 364: {'co': 0.805408843037282}, 378: {'co': 0.7405955157602199}, 392: {'co': 0.8048543322748674}, 406: {'co': 0.608126315436927}}\n",
      "2022/08/01 14:20:28 INFO|-----------------------|{'fit_batch': '12'}: Running forward sim\n",
      "2022/08/01 14:20:51 INFO|----------------------|{'fit_batch': '13'}: Transmission control fit 14/25 completed in 22.078126291000046 seconds: {364: {'co': 0.8042522141027488}, 378: {'co': 0.748436442047567}, 392: {'co': 0.7800286058406628}, 406: {'co': 0.7089035693991618}, 420: {'co': 0.7339756905357638}, 434: {'co': 0.6534995318022868}}\n",
      "2022/08/01 14:20:51 INFO|-----------------------|{'fit_batch': '13'}: Running forward sim\n",
      "2022/08/01 14:21:11 INFO|----------------------|{'fit_batch': '14'}: Transmission control fit 15/25 completed in 18.49043483400004 seconds: {392: {'co': 0.7792619395036927}, 406: {'co': 0.7150687685068648}, 420: {'co': 0.7206796434794582}, 434: {'co': 0.6919582266457434}, 448: {'co': 0.7480587660691848}, 462: {'co': 0.8074055400134947}}\n",
      "2022/08/01 14:21:11 INFO|-----------------------|{'fit_batch': '14'}: Running forward sim\n",
      "2022/08/01 14:21:32 INFO|----------------------|{'fit_batch': '15'}: Transmission control fit 16/25 completed in 19.791579958000057 seconds: {420: {'co': 0.7204071168602064}, 434: {'co': 0.6926833175266156}, 448: {'co': 0.7461617698836834}, 462: {'co': 0.8202528549736028}, 476: {'co': 0.7958999316487501}, 490: {'co': 0.8586072244277076}}\n",
      "2022/08/01 14:21:32 INFO|-----------------------|{'fit_batch': '15'}: Running forward sim\n",
      "2022/08/01 14:21:51 INFO|----------------------|{'fit_batch': '16'}: Transmission control fit 17/25 completed in 16.852248791999955 seconds: {448: {'co': 0.7469357692469727}, 462: {'co': 0.8194616434274935}, 476: {'co': 0.8014246182755056}, 490: {'co': 0.8367327956096938}, 504: {'co': 0.8050295014735618}, 518: {'co': 0.7595930726387399}}\n",
      "2022/08/01 14:21:51 INFO|-----------------------|{'fit_batch': '16'}: Running forward sim\n",
      "2022/08/01 14:22:06 INFO|----------------------|{'fit_batch': '17'}: Transmission control fit 18/25 completed in 14.02541558300004 seconds: {476: {'co': 0.8003384309650257}, 490: {'co': 0.838591313652497}, 504: {'co': 0.7984062321345851}, 518: {'co': 0.7902684454140311}, 532: {'co': 0.7772119989908297}, 546: {'co': 0.7162954761823143}}\n",
      "2022/08/01 14:22:06 INFO|-----------------------|{'fit_batch': '17'}: Running forward sim\n"
     ]
    },
    {
     "name": "stderr",
     "output_type": "stream",
     "text": [
      "2022/08/01 14:22:22 INFO|----------------------|{'fit_batch': '18'}: Transmission control fit 19/25 completed in 15.03286987499996 seconds: {504: {'co': 0.7977162242700062}, 518: {'co': 0.7923907094046225}, 532: {'co': 0.771324650296121}, 546: {'co': 0.7261267680111922}, 560: {'co': 0.7583946257234445}, 574: {'co': 0.7537571465068}}\n",
      "2022/08/01 14:22:22 INFO|-----------------------|{'fit_batch': '18'}: Running forward sim\n",
      "2022/08/01 14:22:41 INFO|----------------------|{'fit_batch': '19'}: Transmission control fit 20/25 completed in 16.925778165999986 seconds: {532: {'co': 0.7711685074647038}, 546: {'co': 0.7277849260555459}, 560: {'co': 0.7548322212055819}, 574: {'co': 0.7638947932868047}, 588: {'co': 0.7998401988726278}, 602: {'co': 0.7810998735125031}}\n",
      "2022/08/01 14:22:41 INFO|-----------------------|{'fit_batch': '19'}: Running forward sim\n",
      "2022/08/01 14:22:53 INFO|----------------------|{'fit_batch': '20'}: Transmission control fit 21/25 completed in 11.281610582999974 seconds: {560: {'co': 0.7550364406378572}, 574: {'co': 0.7632382394696103}, 588: {'co': 0.8009567370409882}, 602: {'co': 0.7802768378712344}, 616: {'co': 0.7348707946016125}, 630: {'co': 0.7575267503265308}}\n",
      "2022/08/01 14:22:53 INFO|-----------------------|{'fit_batch': '20'}: Running forward sim\n",
      "2022/08/01 14:23:10 INFO|----------------------|{'fit_batch': '21'}: Transmission control fit 22/25 completed in 14.982472291000022 seconds: {588: {'co': 0.8012479092581936}, 602: {'co': 0.7793758471737031}, 616: {'co': 0.7371095266039408}, 630: {'co': 0.7529581901192842}, 644: {'co': 0.7351487268828218}, 658: {'co': 0.7647349870269766}}\n",
      "2022/08/01 14:23:10 INFO|-----------------------|{'fit_batch': '21'}: Running forward sim\n",
      "2022/08/01 14:23:56 INFO|----------------------|{'fit_batch': '22'}: Transmission control fit 23/25 completed in 44.87785324999993 seconds: {616: {'co': 0.7367260895421608}, 630: {'co': 0.7541418586826002}, 644: {'co': 0.73234247715899}, 658: {'co': 0.778239798091072}, 672: {'co': 0.760229227826482}, 686: {'co': 0.829686899674191}}\n",
      "2022/08/01 14:23:56 INFO|-----------------------|{'fit_batch': '22'}: Running forward sim\n",
      "2022/08/01 14:24:20 INFO|----------------------|{'fit_batch': '23'}: Transmission control fit 24/25 completed in 22.981980083000053 seconds: {644: {'co': 0.7334257897479987}, 658: {'co': 0.7729635952146265}, 672: {'co': 0.7777800501296619}, 686: {'co': 0.7610701744300219}, 700: {'co': 0.6708271458082863}, 714: {'co': 0.8126259391886529}}\n",
      "2022/08/01 14:24:20 INFO|-----------------------|{'fit_batch': '23'}: Running forward sim\n",
      "2022/08/01 14:24:48 INFO|----------------------|{'fit_batch': '24'}: Transmission control fit 25/25 completed in 26.629368125000042 seconds: {672: {'co': 0.7774230449464756}, 686: {'co': 0.7618938429979563}, 700: {'co': 0.668442486959404}, 714: {'co': 0.8171368356453669}, 728: {'co': 0.8613206831157214}, 742: {'co': 0.8816655901336333}}\n",
      "2022/08/01 14:24:48 INFO|-----------------------|{'fit_batch': '24'}: Running forward sim\n",
      "2022/08/01 14:24:50 INFO|----------------------|{'fit_batch': '24', 'run_type': 'fit'}: fitted TC: {0: {'co': 0.8773342909396418}, 14: {'co': 0.6854869158846699}, 28: {'co': 0.5312085495123385}, 42: {'co': 9.17481924148225e-14}, 56: {'co': 0.7004798432020942}, 70: {'co': 0.8356322478699926}, 84: {'co': 0.8298061649141574}, 98: {'co': 0.8311910701540246}, 112: {'co': 0.8778136907198419}, 126: {'co': 0.8241104215652926}, 140: {'co': 0.7606632612324116}, 154: {'co': 0.6711880275449327}, 168: {'co': 0.843030767299243}, 182: {'co': 0.7826561834881246}, 196: {'co': 0.8191830554171712}, 210: {'co': 0.7726034283937625}, 224: {'co': 0.7713676651676141}, 238: {'co': 0.7185596197504118}, 252: {'co': 0.7222209123366246}, 266: {'co': 0.6848822753308852}, 280: {'co': 0.7199443377723465}, 294: {'co': 0.7575590111802091}, 308: {'co': 0.8226615739216321}, 322: {'co': 0.8113710429684717}, 336: {'co': 0.782596504972317}, 350: {'co': 0.7952543151621825}, 364: {'co': 0.8042522141027488}, 378: {'co': 0.748436442047567}, 392: {'co': 0.7792619395036927}, 406: {'co': 0.7150687685068648}, 420: {'co': 0.7204071168602064}, 434: {'co': 0.6926833175266156}, 448: {'co': 0.7469357692469727}, 462: {'co': 0.8194616434274935}, 476: {'co': 0.8003384309650257}, 490: {'co': 0.838591313652497}, 504: {'co': 0.7977162242700062}, 518: {'co': 0.7923907094046225}, 532: {'co': 0.7711685074647038}, 546: {'co': 0.7277849260555459}, 560: {'co': 0.7550364406378572}, 574: {'co': 0.7632382394696103}, 588: {'co': 0.8012479092581936}, 602: {'co': 0.7793758471737031}, 616: {'co': 0.7367260895421608}, 630: {'co': 0.7541418586826002}, 644: {'co': 0.7334257897479987}, 658: {'co': 0.7729635952146265}, 672: {'co': 0.7774230449464756}, 686: {'co': 0.7618938429979563}, 700: {'co': 0.668442486959404}, 714: {'co': 0.8171368356453669}, 728: {'co': 0.8613206831157214}, 742: {'co': 0.8816656050347945}}\n",
      "2022/08/01 14:24:50 INFO|-----------------------|{'fit_batch': '24', 'run_type': 'fit'}: Running forward sim\n",
      "2022/08/01 14:24:51 INFO|----------------------|{'fit_batch': '24', 'run_type': 'fit'}: Uploading final results\n",
      "2022/08/01 14:25:00 INFO|----------------------|{'fit_batch': '24', 'run_type': 'fit'}: spec_id: 3470\n"
     ]
    }
   ],
   "source": [
    "# designate the arguments for how the model will behave\n",
    "model_args = {\n",
    "    'params_defs': 'covid_model/analysis/20220815_aug_gov_briefing/20220815_scenario_params.json',\n",
    "    'region_defs': 'covid_model/input/region_definitions.json',\n",
    "    'vacc_proj_params': 'covid_model/analysis/20220815_aug_gov_briefing/vacc_proj_params.json',\n",
    "    'start_date': '2020-01-24',\n",
    "    'end_date': '2022-10-18',\n",
    "}\n",
    "\n",
    "# this is how the fit will behave\n",
    "# place the outdir argument here to tell the model fit where to go\n",
    "fit_args = {'outdir': outdir,\n",
    "            'fit_end_date': '2022-02-28'\n",
    "}\n",
    "\n",
    "# because all the scenarios are the same \n",
    "model = do_single_fit(**fit_args, **model_args)"
   ]
  },
  {
   "cell_type": "markdown",
   "metadata": {
    "pycharm": {
     "name": "#%% md\n"
    }
   },
   "source": [
    "### Create and run scenarios from Feb 2022 to present"
   ]
  },
  {
   "cell_type": "code",
   "execution_count": null,
   "metadata": {
    "pycharm": {
     "name": "#%%\n"
    }
   },
   "outputs": [],
   "source": [
    "multiprocess = 6\n",
    "\n",
    "scenario_params = json.load(open(\"covid_model/analysis/20220815_aug_gov_briefing/20220815_scenario_params.json\"))\n",
    "\n",
    "model_args = {\n",
    "    'base_spec_id': 3470 #model.spec_id # use the spec id that was output from the model fit\n",
    "}\n",
    "model_fit_args = {\n",
    "    'outdir': outdir,\n",
    "    'fit_start_date': '2022-03-01', # set the start date for the earliest point at which the scenarios start to differ from one another\n",
    "    'pre_solve_model': True # force the model to establish initial conditions so the fit can start on the fit start date\n",
    "}\n",
    "\n",
    "# compute vacc effectiveness for < 5 (this is a multiplier for the baseline vaccine effectiveness for 0-19)\n",
    "vacc_eff_lt5 = 0.5\n",
    "\n",
    "# Create different scenarios to model\n",
    "scenario_model_args = []\n",
    "for hosp_frac in [0.5, 0.7, 0.9]:\n",
    "    for school_contact_increase in [1.1, 1.2]:\n",
    "        for beta_mult in [1.0, 1.1]:\n",
    "            hrf = {\"2020-01-01\": 1, \"2022-03-01\": (0.66 + 0.34*hosp_frac), \"2022-03-15\": (0.34 + 0.66*hosp_frac), \"2022-03-30\": hosp_frac}\n",
    "            beta_param_adjustment = [{\"param\": \"betta\",\n",
    "                                      \"attrs\": {\"variant\": \"ba45\"},\n",
    "                                      \"mults\": {\"2020-01-01\": beta_mult},\n",
    "                                      \"desc\": \"sensitivity analysis for beta\"}]\n",
    "            school_contact = [{\"param\": \"betta\",\n",
    "                               \"attrs\": {'age': '0-19'},\n",
    "                               \"mults\": {\"2020-01-01\": 1, \"2022-08-15\": school_contact_increase},\n",
    "                               \"desc\": \"After August 15th, beta increases by a factor of the school contact increase\"}]\n",
    "            lt5_vacc_adjust = [{\"param\": \"immunity\",\n",
    "                                \"attrs\": {'age': '0-19', 'vacc': 'shot1'},\n",
    "                                \"mults\": {\"2020-01-01\": 1, \"2022-06-20\": 0.99 + 0.01*vacc_eff_lt5,\n",
    "                                          \"2022-06-30\": 0.98 + 0.02*vacc_eff_lt5, \"2022-07-10\": 0.97 + 0.03*vacc_eff_lt5}}]\n",
    "            scenario_model_args.append({'params_defs': scenario_params + beta_param_adjustment + school_contact + lt5_vacc_adjust,\n",
    "                                        'hosp_reporting_frac': hrf,\n",
    "                                        'tags': {'beta_mult': beta_mult, 'hosp_frac': hosp_frac, 'school_contact_increase': school_contact_increase}})\n",
    "            \n",
    "            "
   ]
  },
  {
   "cell_type": "code",
   "execution_count": null,
   "metadata": {},
   "outputs": [],
   "source": [
    "# check how many scenarios there are\n",
    "len(scenario_model_args)"
   ]
  },
  {
   "cell_type": "code",
   "execution_count": null,
   "metadata": {},
   "outputs": [],
   "source": [
    "# run the scenarios\n",
    "models = do_fit_scenarios(base_model_args=model_args, scenario_args_list=scenario_model_args, fit_args=model_fit_args, multiprocess=multiprocess)"
   ]
  },
  {
   "cell_type": "markdown",
   "metadata": {
    "pycharm": {
     "name": "#%% md\n"
    }
   },
   "source": [
    "### Run the report for each fit model"
   ]
  },
  {
   "cell_type": "code",
   "execution_count": null,
   "metadata": {
    "pycharm": {
     "name": "#%%\n"
    }
   },
   "outputs": [],
   "source": [
    "do_create_multiple_reports(models, multiprocess=multiprocess, outdir=outdir, prep_model=False, solve_model=True, immun_variants=['ba2121', 'ba45'], from_date='2022-01-01')"
   ]
  },
  {
   "cell_type": "code",
   "execution_count": null,
   "metadata": {
    "pycharm": {
     "name": "#%%\n"
    }
   },
   "outputs": [],
   "source": [
    "logging.info('Projecting')\n",
    "for model in models:\n",
    "    logging.info('')\n",
    "    #model.prep()  # don't think we need to prep anymore.\n",
    "    model.solve_seir()\n",
    "\n",
    "    model.solution_sum_df(['seir', 'variant', 'immun']).unstack().to_csv(get_filepath_prefix(outdir, tags=model.tags) + 'states_seir_variant_immun_total_all_at_once_projection.csv')\n",
    "    model.solution_sum_df().unstack().to_csv(get_filepath_prefix(outdir, tags=model.tags) + 'states_full_projection.csv')\n",
    "\n",
    "    logging.info(f'{str(model.tags)}: Running forward sim')\n",
    "    fig = plt.figure(figsize=(10, 10), dpi=300)\n",
    "    ax = fig.add_subplot(211)\n",
    "    hosps_df = model.modeled_vs_observed_hosps().reset_index('region').drop(columns='region')\n",
    "    hosps_df.plot(ax=ax)\n",
    "    ax.set_xlim(dt.datetime.strptime('2022-01-01', \"%Y-%m-%d\").date(), dt.datetime.strptime('2022-09-15', \"%Y-%m-%d\").date())\n",
    "    ax = fig.add_subplot(212)\n",
    "    plot_transmission_control(model, ax=ax)\n",
    "    ax.set_xlim(dt.datetime.strptime('2022-01-01', \"%Y-%m-%d\").date(), dt.datetime.strptime('2022-09-15', \"%Y-%m-%d\").date())\n",
    "    plt.savefig(get_filepath_prefix(outdir, tags=model.tags) + 'model_forecast.png')\n",
    "    plt.close()\n",
    "    hosps_df.to_csv(get_filepath_prefix(outdir, tags=model.tags) + '_model_forecast.csv')\n",
    "    json.dump(model.tc, open(get_filepath_prefix(outdir, tags=model.tags) + 'model_forecast_tc.json', 'w'))\n",
    "\n",
    "logging.info('Running reports')"
   ]
  }
 ],
 "metadata": {
  "kernelspec": {
   "display_name": "Python 3 (ipykernel)",
   "language": "python",
   "name": "python3"
  },
  "language_info": {
   "codemirror_mode": {
    "name": "ipython",
    "version": 3
   },
   "file_extension": ".py",
   "mimetype": "text/x-python",
   "name": "python",
   "nbconvert_exporter": "python",
   "pygments_lexer": "ipython3",
   "version": "3.9.13"
  }
 },
 "nbformat": 4,
 "nbformat_minor": 4
}
