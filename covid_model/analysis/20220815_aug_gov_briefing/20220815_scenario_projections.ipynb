{
 "cells": [
  {
   "cell_type": "markdown",
   "metadata": {
    "pycharm": {
     "name": "#%% md\n"
    }
   },
   "source": [
    "### Setup"
   ]
  },
  {
   "cell_type": "code",
   "execution_count": 1,
   "metadata": {
    "pycharm": {
     "name": "#%%\n"
    }
   },
   "outputs": [
    {
     "name": "stdout",
     "output_type": "stream",
     "text": [
      "/Users/emwu9912/PycharmProjects/covid-models\n"
     ]
    }
   ],
   "source": [
    "# this first setup block will pretty much always stay the same\n",
    "\"\"\" Python Standard Library \"\"\"\n",
    "import os\n",
    "import datetime as dt\n",
    "import json\n",
    "import logging\n",
    "\"\"\" Third Party Imports \"\"\"\n",
    "import numpy as np\n",
    "from matplotlib import pyplot as plt\n",
    "%matplotlib inline\n",
    "\"\"\" Local Imports \"\"\"\n",
    "if 'requirements.txt' not in os.listdir(os.getcwd()):\n",
    "    os.chdir(os.path.join('..','..','..'))\n",
    "print(os.getcwd())\n",
    "from covid_model import CovidModel\n",
    "from covid_model.runnable_functions import do_single_fit, do_create_multiple_reports, do_fit_scenarios\n",
    "from covid_model.utils import setup, get_filepath_prefix\n",
    "from covid_model.analysis.charts import plot_transmission_control\n",
    "\n",
    "os.environ['gcp_project'] = 'co-covid-models'\n",
    "os.environ['GOOGLE_APPLICATION_CREDENTIALS'] = \"co-covid-models-credentials.json\""
   ]
  },
  {
   "cell_type": "code",
   "execution_count": 2,
   "metadata": {
    "pycharm": {
     "name": "#%%\n"
    },
    "scrolled": true
   },
   "outputs": [
    {
     "name": "stderr",
     "output_type": "stream",
     "text": [
      "2022/09/20 22:13:54 INFO|============================================================\n"
     ]
    }
   ],
   "source": [
    "# set up the output directory for this Jupyter notebook\n",
    "outdir = setup(\"20220830_scenario_projections.ipynb\")"
   ]
  },
  {
   "cell_type": "markdown",
   "metadata": {
    "pycharm": {
     "name": "#%% md\n"
    }
   },
   "source": [
    "### Fit an initial scenario through Feb 2022"
   ]
  },
  {
   "cell_type": "code",
   "execution_count": 3,
   "metadata": {
    "pycharm": {
     "name": "#%%\n"
    }
   },
   "outputs": [
    {
     "name": "stderr",
     "output_type": "stream",
     "text": [
      "2022/09/20 22:13:58 INFO|-------------------------|{} Retrieving vaccinations data\n",
      "2022/09/20 22:14:01 INFO|-------------------------|{} Constructing vaccination projections\n",
      "2022/09/20 22:14:04 INFO|-------------------------|{} Retrieving hospitalizations data\n",
      "2022/09/20 22:14:07 INFO|----------------------|{} Prepping Model\n",
      "2022/09/20 22:14:07 INFO|-----------------------|{} Prepping Model\n",
      "2022/09/20 22:15:18 INFO|----------------------|{} Model prepped for fitting in 71.01421341599999 seconds.\n",
      "2022/09/20 22:15:18 INFO|----------------------|{} Will fit 25 times\n",
      "2022/09/20 22:16:31 INFO|----------------------|{'fit_batch': '0'}: Transmission control fit 1/25 completed in 73.881068833 seconds: {0: {'co': 0.8587936465412482}, 14: {'co': 0.6897974169375691}, 28: {'co': 0.5520416889747688}, 42: {'co': 0.0012499217244474978}, 56: {'co': 0.6815644007422084}, 70: {'co': 0.8912220172459057}}\n",
      "2022/09/20 22:16:31 INFO|-----------------------|{'fit_batch': '0'}: Running forward sim\n",
      "2022/09/20 22:16:50 INFO|----------------------|{'fit_batch': '1'}: Transmission control fit 2/25 completed in 16.485909917000015 seconds: {28: {'co': 0.5461562373730889}, 42: {'co': 1.488463975320554e-14}, 56: {'co': 0.6952638807842282}, 70: {'co': 0.8359540105934926}, 84: {'co': 0.8209108007257655}, 98: {'co': 0.87331105137158}}\n",
      "2022/09/20 22:16:50 INFO|-----------------------|{'fit_batch': '1'}: Running forward sim\n",
      "2022/09/20 22:17:09 INFO|----------------------|{'fit_batch': '2'}: Transmission control fit 3/25 completed in 17.302871665999987 seconds: {56: {'co': 0.6964648244185871}, 70: {'co': 0.8333063816292616}, 84: {'co': 0.8289233797102165}, 98: {'co': 0.8350236683113527}, 112: {'co': 0.8625950864673534}, 126: {'co': 0.9188066160691138}}\n",
      "2022/09/20 22:17:09 INFO|-----------------------|{'fit_batch': '2'}: Running forward sim\n",
      "2022/09/20 22:17:27 INFO|----------------------|{'fit_batch': '3'}: Transmission control fit 4/25 completed in 16.074931541000012 seconds: {84: {'co': 0.8295949264098259}, 98: {'co': 0.8317180855515073}, 112: {'co': 0.8773714677416042}, 126: {'co': 0.8239276698253181}, 140: {'co': 0.7629318332729217}, 154: {'co': 0.6615248322039564}}\n",
      "2022/09/20 22:17:27 INFO|-----------------------|{'fit_batch': '3'}: Running forward sim\n",
      "2022/09/20 22:17:43 INFO|----------------------|{'fit_batch': '4'}: Transmission control fit 5/25 completed in 15.050355709000002 seconds: {112: {'co': 0.8774454485555294}, 126: {'co': 0.8243715707940461}, 140: {'co': 0.7607166800383841}, 154: {'co': 0.6708369618076668}, 168: {'co': 0.8437092564569335}, 182: {'co': 0.7841185740175349}}\n",
      "2022/09/20 22:17:43 INFO|-----------------------|{'fit_batch': '4'}: Running forward sim\n",
      "2022/09/20 22:17:59 INFO|----------------------|{'fit_batch': '5'}: Transmission control fit 6/25 completed in 13.308558957999992 seconds: {140: {'co': 0.7604768918170302}, 154: {'co': 0.6712541505311671}, 168: {'co': 0.8432111019139525}, 182: {'co': 0.7802200964601168}, 196: {'co': 0.8275660092561338}, 210: {'co': 0.740376767422327}}\n",
      "2022/09/20 22:17:59 INFO|-----------------------|{'fit_batch': '5'}: Running forward sim\n",
      "2022/09/20 22:18:11 INFO|----------------------|{'fit_batch': '6'}: Transmission control fit 7/25 completed in 10.459071999999992 seconds: {168: {'co': 0.8430274763680383}, 182: {'co': 0.7826504009954449}, 196: {'co': 0.8196158891507461}, 210: {'co': 0.7710673422124905}, 224: {'co': 0.7742494288412423}, 238: {'co': 0.7168273331238858}}\n",
      "2022/09/20 22:18:11 INFO|-----------------------|{'fit_batch': '6'}: Running forward sim\n",
      "2022/09/20 22:18:26 INFO|----------------------|{'fit_batch': '7'}: Transmission control fit 8/25 completed in 13.893226125000012 seconds: {196: {'co': 0.8191652900355885}, 210: {'co': 0.7726023569388112}, 224: {'co': 0.7703719288583106}, 238: {'co': 0.721765633676336}, 252: {'co': 0.7178049084681167}, 266: {'co': 0.69190633347452}}\n",
      "2022/09/20 22:18:26 INFO|-----------------------|{'fit_batch': '7'}: Running forward sim\n",
      "2022/09/20 22:18:41 INFO|----------------------|{'fit_batch': '8'}: Transmission control fit 9/25 completed in 12.739791665999974 seconds: {224: {'co': 0.7713430227931438}, 238: {'co': 0.7185520655720183}, 252: {'co': 0.7226533087409446}, 266: {'co': 0.6833533911164739}, 280: {'co': 0.7225768938779269}, 294: {'co': 0.7522112309825859}}\n",
      "2022/09/20 22:18:41 INFO|-----------------------|{'fit_batch': '8'}: Running forward sim\n",
      "2022/09/20 22:19:00 INFO|----------------------|{'fit_batch': '9'}: Transmission control fit 10/25 completed in 17.760198000000003 seconds: {252: {'co': 0.72213950524156}, 266: {'co': 0.6850199052463005}, 280: {'co': 0.7200980760224585}, 294: {'co': 0.7577241829831713}, 308: {'co': 0.8256967890469477}, 322: {'co': 0.7958886115574036}}\n",
      "2022/09/20 22:19:00 INFO|-----------------------|{'fit_batch': '9'}: Running forward sim\n",
      "2022/09/20 22:19:17 INFO|----------------------|{'fit_batch': '10'}: Transmission control fit 11/25 completed in 14.864124208999954 seconds: {280: {'co': 0.7198410425845795}, 294: {'co': 0.7578492868967014}, 308: {'co': 0.8227831665500999}, 322: {'co': 0.8100663722108098}, 336: {'co': 0.7879608904326878}, 350: {'co': 0.7724337104417922}}\n",
      "2022/09/20 22:19:17 INFO|-----------------------|{'fit_batch': '10'}: Running forward sim\n",
      "2022/09/20 22:19:37 INFO|----------------------|{'fit_batch': '11'}: Transmission control fit 12/25 completed in 18.396465250000006 seconds: {308: {'co': 0.8225928703403277}, 322: {'co': 0.8115175392447233}, 336: {'co': 0.7829071588744311}, 350: {'co': 0.7936208117159647}, 364: {'co': 0.8119587476529916}, 378: {'co': 0.7081719903048057}}\n",
      "2022/09/20 22:19:37 INFO|-----------------------|{'fit_batch': '11'}: Running forward sim\n",
      "2022/09/20 22:19:52 INFO|----------------------|{'fit_batch': '12'}: Transmission control fit 13/25 completed in 12.849974625000016 seconds: {336: {'co': 0.7825644083248113}, 350: {'co': 0.795399515500132}, 364: {'co': 0.8054645011610789}, 378: {'co': 0.7395610591230375}, 392: {'co': 0.8040934007599412}, 406: {'co': 0.6105649526998763}}\n",
      "2022/09/20 22:19:52 INFO|-----------------------|{'fit_batch': '12'}: Running forward sim\n",
      "2022/09/20 22:20:30 INFO|----------------------|{'fit_batch': '13'}: Transmission control fit 14/25 completed in 36.60389720899997 seconds: {364: {'co': 0.8054754975658831}, 378: {'co': 0.7423450542379765}, 392: {'co': 0.7875435808460117}, 406: {'co': 0.6975033290226782}, 420: {'co': 0.7376771548208457}, 434: {'co': 0.6420934258733912}}\n",
      "2022/09/20 22:20:30 INFO|-----------------------|{'fit_batch': '13'}: Running forward sim\n",
      "2022/09/20 22:20:47 INFO|----------------------|{'fit_batch': '14'}: Transmission control fit 15/25 completed in 14.760507665999967 seconds: {392: {'co': 0.7841300047635846}, 406: {'co': 0.7099315039353364}, 420: {'co': 0.7190345480448317}, 434: {'co': 0.6873345585583347}, 448: {'co': 0.7423533665778766}, 462: {'co': 0.800564069335575}}\n",
      "2022/09/20 22:20:47 INFO|-----------------------|{'fit_batch': '14'}: Running forward sim\n",
      "2022/09/20 22:21:03 INFO|----------------------|{'fit_batch': '15'}: Transmission control fit 16/25 completed in 14.430725583000026 seconds: {420: {'co': 0.7188501299688542}, 434: {'co': 0.6879468363450565}, 448: {'co': 0.7400911101022839}, 462: {'co': 0.8137428990614888}, 476: {'co': 0.7871851700308442}, 490: {'co': 0.8510238013025363}}\n",
      "2022/09/20 22:21:03 INFO|-----------------------|{'fit_batch': '15'}: Running forward sim\n",
      "2022/09/20 22:21:16 INFO|----------------------|{'fit_batch': '16'}: Transmission control fit 17/25 completed in 11.611900875000003 seconds: {448: {'co': 0.7409946234984971}, 462: {'co': 0.8128468602117268}, 476: {'co': 0.7926792503123488}, 490: {'co': 0.8289390695475934}, 504: {'co': 0.7939570076457909}, 518: {'co': 0.7444204959821514}}\n",
      "2022/09/20 22:21:16 INFO|-----------------------|{'fit_batch': '16'}: Running forward sim\n",
      "2022/09/20 22:21:30 INFO|----------------------|{'fit_batch': '17'}: Transmission control fit 18/25 completed in 11.588509041999998 seconds: {476: {'co': 0.7917817372180791}, 490: {'co': 0.8302291987334832}, 504: {'co': 0.7869600876464745}, 518: {'co': 0.777652748357674}, 532: {'co': 0.763442426130504}, 546: {'co': 0.6986913410444787}}\n",
      "2022/09/20 22:21:30 INFO|-----------------------|{'fit_batch': '17'}: Running forward sim\n"
     ]
    },
    {
     "name": "stderr",
     "output_type": "stream",
     "text": [
      "2022/09/20 22:21:41 INFO|----------------------|{'fit_batch': '18'}: Transmission control fit 19/25 completed in 9.847199875000001 seconds: {504: {'co': 0.7862064714343785}, 518: {'co': 0.7799209533639639}, 532: {'co': 0.7570481774472059}, 546: {'co': 0.7091713379237341}, 560: {'co': 0.7430708101284107}, 574: {'co': 0.7376115689086383}}\n",
      "2022/09/20 22:21:41 INFO|-----------------------|{'fit_batch': '18'}: Running forward sim\n",
      "2022/09/20 22:21:57 INFO|----------------------|{'fit_batch': '19'}: Transmission control fit 20/25 completed in 13.998242957999992 seconds: {532: {'co': 0.7562230410522897}, 546: {'co': 0.7112566962456192}, 560: {'co': 0.7393433618720686}, 574: {'co': 0.7492674122336548}, 588: {'co': 0.7862561758011867}, 602: {'co': 0.7652667074352255}}\n",
      "2022/09/20 22:21:57 INFO|-----------------------|{'fit_batch': '19'}: Running forward sim\n",
      "2022/09/20 22:22:09 INFO|----------------------|{'fit_batch': '20'}: Transmission control fit 21/25 completed in 10.635648791999984 seconds: {560: {'co': 0.739371979842544}, 574: {'co': 0.7478275006852348}, 588: {'co': 0.7872777387010238}, 602: {'co': 0.764933893764687}, 616: {'co': 0.7156305386241165}, 630: {'co': 0.7390935796962536}}\n",
      "2022/09/20 22:22:09 INFO|-----------------------|{'fit_batch': '20'}: Running forward sim\n",
      "2022/09/20 22:22:23 INFO|----------------------|{'fit_batch': '21'}: Transmission control fit 22/25 completed in 11.858002832999944 seconds: {588: {'co': 0.7875984756215245}, 602: {'co': 0.7639387173460699}, 616: {'co': 0.7181325518520802}, 630: {'co': 0.7339888710799908}, 644: {'co': 0.71478117798784}, 658: {'co': 0.7458182206184647}}\n",
      "2022/09/20 22:22:23 INFO|-----------------------|{'fit_batch': '21'}: Running forward sim\n",
      "2022/09/20 22:22:38 INFO|----------------------|{'fit_batch': '22'}: Transmission control fit 23/25 completed in 13.23269316599999 seconds: {616: {'co': 0.7176489344538342}, 630: {'co': 0.7355177703819683}, 644: {'co': 0.711144010448111}, 658: {'co': 0.7595117364022281}, 672: {'co': 0.7386439957214719}, 686: {'co': 0.8127572073968004}}\n",
      "2022/09/20 22:22:38 INFO|-----------------------|{'fit_batch': '22'}: Running forward sim\n",
      "2022/09/20 22:22:59 INFO|----------------------|{'fit_batch': '23'}: Transmission control fit 24/25 completed in 19.237936542000057 seconds: {644: {'co': 0.7125254179647684}, 658: {'co': 0.7531964126287652}, 672: {'co': 0.758492065924163}, 686: {'co': 0.7381533161026788}, 700: {'co': 0.650933185979196}, 714: {'co': 0.7983305029697328}}\n",
      "2022/09/20 22:22:59 INFO|-----------------------|{'fit_batch': '23'}: Running forward sim\n",
      "2022/09/20 22:23:22 INFO|----------------------|{'fit_batch': '24'}: Transmission control fit 25/25 completed in 21.34272575 seconds: {672: {'co': 0.7583679864717131}, 686: {'co': 0.7378492068929549}, 700: {'co': 0.6512695688425013}, 714: {'co': 0.803532502585838}, 728: {'co': 0.8434544540367153}, 742: {'co': 0.8636609204337224}}\n",
      "2022/09/20 22:23:22 INFO|-----------------------|{'fit_batch': '24'}: Running forward sim\n",
      "2022/09/20 22:23:24 INFO|----------------------|{'fit_batch': '24', 'run_type': 'fit'}: fitted TC: {0: {'co': 0.858793645564471}, 14: {'co': 0.6897974238901571}, 28: {'co': 0.5461562373730889}, 42: {'co': 1.488463975320554e-14}, 56: {'co': 0.6964648244185871}, 70: {'co': 0.8333063816292616}, 84: {'co': 0.8295949264098259}, 98: {'co': 0.8317180855515073}, 112: {'co': 0.8774454485555294}, 126: {'co': 0.8243715707940461}, 140: {'co': 0.7604768918170302}, 154: {'co': 0.6712541505311671}, 168: {'co': 0.8430274763680383}, 182: {'co': 0.7826504009954449}, 196: {'co': 0.8191652900355885}, 210: {'co': 0.7726023569388112}, 224: {'co': 0.7713430227931438}, 238: {'co': 0.7185520655720183}, 252: {'co': 0.72213950524156}, 266: {'co': 0.6850199052463005}, 280: {'co': 0.7198410425845795}, 294: {'co': 0.7578492868967014}, 308: {'co': 0.8225928703403277}, 322: {'co': 0.8115175392447233}, 336: {'co': 0.7825644083248113}, 350: {'co': 0.795399515500132}, 364: {'co': 0.8054754975658831}, 378: {'co': 0.7423450542379765}, 392: {'co': 0.7841300047635846}, 406: {'co': 0.7099315039353364}, 420: {'co': 0.7188501299688542}, 434: {'co': 0.6879468363450565}, 448: {'co': 0.7409946234984971}, 462: {'co': 0.8128468602117268}, 476: {'co': 0.7917817372180791}, 490: {'co': 0.8302291987334832}, 504: {'co': 0.7862064714343785}, 518: {'co': 0.7799209533639639}, 532: {'co': 0.7562230410522897}, 546: {'co': 0.7112566962456192}, 560: {'co': 0.739371979842544}, 574: {'co': 0.7478275006852348}, 588: {'co': 0.7875984756215245}, 602: {'co': 0.7639387173460699}, 616: {'co': 0.7176489344538342}, 630: {'co': 0.7355177703819683}, 644: {'co': 0.7125254179647684}, 658: {'co': 0.7531964126287652}, 672: {'co': 0.7583679864717131}, 686: {'co': 0.7378492068929549}, 700: {'co': 0.6512695688425013}, 714: {'co': 0.803532502585838}, 728: {'co': 0.8434544540367153}, 742: {'co': 0.8636609353348836}}\n",
      "2022/09/20 22:23:24 INFO|-----------------------|{'fit_batch': '24', 'run_type': 'fit'}: Running forward sim\n",
      "2022/09/20 22:23:26 INFO|----------------------|{'fit_batch': '24', 'run_type': 'fit'}: Uploading final results\n",
      "2022/09/20 22:23:34 INFO|----------------------|{'fit_batch': '24', 'run_type': 'fit'}: spec_id: 3995\n"
     ]
    }
   ],
   "source": [
    "# designate the arguments for how the model will behave\n",
    "model_args = {\n",
    "    'params_defs': 'covid_model/analysis/20220815_aug_gov_briefing/20220815_scenario_params.json',\n",
    "    'region_defs': 'covid_model/input/region_definitions.json',\n",
    "    'vacc_proj_params': 'covid_model/input/vacc_proj_params.json',\n",
    "    'start_date': '2020-01-24',\n",
    "    'end_date': '2024-01-01',\n",
    "}\n",
    "\n",
    "# this is how the fit will behave\n",
    "# place the outdir argument here to tell the model fit where to go\n",
    "fit_args = {'outdir': outdir,\n",
    "            'fit_end_date': '2022-02-28' #'2022-02-28'\n",
    "}\n",
    "\n",
    "# because all the scenarios are the same \n",
    "model = do_single_fit(**fit_args, **model_args)"
   ]
  },
  {
   "cell_type": "markdown",
   "metadata": {
    "pycharm": {
     "name": "#%% md\n"
    }
   },
   "source": [
    "### Create and run scenarios from Feb 2022 to present"
   ]
  },
  {
   "cell_type": "code",
   "execution_count": 4,
   "metadata": {
    "pycharm": {
     "name": "#%%\n"
    }
   },
   "outputs": [],
   "source": [
    "multiprocess = 4\n",
    "\n",
    "scenario_params = json.load(open(\"covid_model/analysis/20220815_aug_gov_briefing/20220815_scenario_params.json\"))\n",
    "\n",
    "model_args = {\n",
    "    'base_spec_id': 3995 #model.spec_id # use the spec id that was output from the model fit\n",
    "}\n",
    "model_fit_args = {\n",
    "    'outdir': outdir,\n",
    "    'fit_start_date': '2022-03-01', # set the start date for the earliest point at which the scenarios start to differ from one another\n",
    "    'pre_solve_model': True # force the model to establish initial conditions so the fit can start on the fit start date\n",
    "}\n",
    "\n",
    "# compute vacc effectiveness for < 5 (this is a multiplier for the baseline vaccine effectiveness for 0-19)\n",
    "vacc_eff_lt5 = 0.5\n",
    "\n",
    "# Create different scenarios to model\n",
    "scenario_model_args = []\n",
    "#for hosp_frac in [0.7, 0.8, 0.9]:\n",
    "    #for school_contact_increase in [1.0, 1.1, 1.2]:\n",
    "        #for beta_mult in [0.95, 1.0, 1.05]:\n",
    "for vx_seed in [0, 2]:\n",
    "    for vir_mult in [0.833, 2.38]:\n",
    "        hrf = {\"2020-01-01\": 1, \"2022-03-01\": (0.66 + 0.34*0.8), \"2022-03-15\": (0.34 + 0.66*0.8), \"2022-03-30\": 0.8}\n",
    "            #beta_param_adjustment = [{\"param\": \"betta\",\n",
    "                                      #\"attrs\": {\"variant\": \"ba45\"},\n",
    "                                      #\"mults\": {\"2020-01-01\": beta_mult},\n",
    "                                      #\"desc\": \"sensitivity analysis for beta\"}]\n",
    "            #school_contact = [{\"param\": \"betta\",\n",
    "                               #\"attrs\": {'age': '0-19'},\n",
    "                               #\"mults\": {\"2020-01-01\": 1, \"2022-08-15\": school_contact_increase},\n",
    "                               #\"desc\": \"After August 15th, beta increases by a factor of the school contact increase\"}]\n",
    "        vx_adjust = [{\"param\": \"vx_seed\",\n",
    "                      \"vals\": {\"2020-01-01\": 0, \"2022-09-20\": vx_seed, \"2022-10-20\": 0},\n",
    "                      \"desc\": \"Variant X seeding\"}]\n",
    "        vir_adjust = [{\"param\": \"hosp\",\n",
    "                       \"attrs\": {\"variant\": \"vx\"},\n",
    "                       \"mults\": {\"2020-01-01\": vir_mult},\n",
    "                       \"desc\": \"Variant X hospitalization multiplier\"}]\n",
    "        lt5_vacc_adjust = [{\"param\": \"immunity\",\n",
    "                                \"attrs\": {'age': '0-19', 'vacc': 'shot1'},\n",
    "                                \"mults\": {\"2020-01-01\": 1, \"2022-06-20\": 0.99 + 0.01*vacc_eff_lt5,\n",
    "                                          \"2022-06-30\": 0.98 + 0.02*vacc_eff_lt5,\n",
    "                                          \"2022-07-10\": 0.97 + 0.03*vacc_eff_lt5,\n",
    "                                          \"2022-07-20\": 0.96 + 0.04*vacc_eff_lt5,\n",
    "                                          \"2022-07-30\": 0.955 + 0.045*vacc_eff_lt5,\n",
    "                                          \"2022-08-10\": 0.95 + 0.05*vacc_eff_lt5,\n",
    "                                          \"2022-08-20\": 0.945 + 0.055*vacc_eff_lt5,\n",
    "                                          \"2022-08-30\": 0.94 + 0.06*vacc_eff_lt5,\n",
    "                                          \"2022-09-10\": 0.935 + 0.065*vacc_eff_lt5,\n",
    "                                          \"2022-09-20\": 0.93 + 0.07*vacc_eff_lt5},\n",
    "                                \"desc\": \"weighted average using share of 0-19 getting shot1 who are under 5\"}]\n",
    "        scenario_model_args.append({'params_defs': scenario_params + vir_adjust + vx_adjust+ lt5_vacc_adjust,\n",
    "                                    'hosp_reporting_frac': hrf,\n",
    "                                    'tags': {'vx_seed': vx_seed,\n",
    "                                             'vir_mult': vir_mult}})\n",
    "            \n",
    "            "
   ]
  },
  {
   "cell_type": "code",
   "execution_count": 5,
   "metadata": {},
   "outputs": [
    {
     "data": {
      "text/plain": [
       "4"
      ]
     },
     "execution_count": 5,
     "metadata": {},
     "output_type": "execute_result"
    }
   ],
   "source": [
    "# check how many scenarios there are\n",
    "len(scenario_model_args)"
   ]
  },
  {
   "cell_type": "code",
   "execution_count": 6,
   "metadata": {},
   "outputs": [
    {
     "name": "stderr",
     "output_type": "stream",
     "text": [
      "2022/09/20 22:25:08 INFO|============================================================\n",
      "2022/09/20 22:25:08 INFO|============================================================\n",
      "2022/09/20 22:25:08 INFO|============================================================\n",
      "2022/09/20 22:25:08 INFO|============================================================\n",
      "2022/09/20 22:25:12 INFO|-----------|{'vx_seed': 2, 'vir_mult': 2.38} Retrieving vaccinations data\n",
      "2022/09/20 22:25:12 INFO|-----------|{'vx_seed': 2, 'vir_mult': 0.833} Retrieving vaccinations data\n",
      "2022/09/20 22:25:12 INFO|-----------|{'vx_seed': 0, 'vir_mult': 2.38} Retrieving vaccinations data\n",
      "2022/09/20 22:25:12 INFO|-----------|{'vx_seed': 0, 'vir_mult': 0.833} Retrieving vaccinations data\n",
      "2022/09/20 22:25:15 INFO|-----------|{'vx_seed': 2, 'vir_mult': 0.833} Constructing vaccination projections\n",
      "2022/09/20 22:25:15 INFO|-----------|{'vx_seed': 0, 'vir_mult': 2.38} Constructing vaccination projections\n",
      "2022/09/20 22:25:15 INFO|-----------|{'vx_seed': 2, 'vir_mult': 2.38} Constructing vaccination projections\n",
      "2022/09/20 22:25:15 INFO|-----------|{'vx_seed': 0, 'vir_mult': 0.833} Constructing vaccination projections\n",
      "2022/09/20 22:25:18 INFO|-----------|{'vx_seed': 0, 'vir_mult': 0.833} Retrieving hospitalizations data\n",
      "2022/09/20 22:25:18 INFO|-----------|{'vx_seed': 2, 'vir_mult': 2.38} Retrieving hospitalizations data\n",
      "2022/09/20 22:25:18 INFO|-----------|{'vx_seed': 2, 'vir_mult': 0.833} Retrieving hospitalizations data\n",
      "2022/09/20 22:25:18 INFO|-----------|{'vx_seed': 0, 'vir_mult': 2.38} Retrieving hospitalizations data\n",
      "2022/09/20 22:25:20 INFO|--------|{'vx_seed': 0, 'vir_mult': 0.833} Prepping Model\n",
      "2022/09/20 22:25:20 INFO|--------|{'vx_seed': 0, 'vir_mult': 2.38} Prepping Model\n",
      "2022/09/20 22:25:20 INFO|---------|{'vx_seed': 0, 'vir_mult': 0.833} Prepping Model\n",
      "2022/09/20 22:25:20 INFO|---------|{'vx_seed': 0, 'vir_mult': 2.38} Prepping Model\n",
      "2022/09/20 22:25:20 INFO|--------|{'vx_seed': 2, 'vir_mult': 2.38} Prepping Model\n",
      "2022/09/20 22:25:20 INFO|---------|{'vx_seed': 2, 'vir_mult': 2.38} Prepping Model\n",
      "2022/09/20 22:25:20 INFO|--------|{'vx_seed': 2, 'vir_mult': 0.833} Prepping Model\n",
      "2022/09/20 22:25:20 INFO|---------|{'vx_seed': 2, 'vir_mult': 0.833} Prepping Model\n",
      "2022/09/20 22:26:42 INFO|--------|{'vx_seed': 2, 'vir_mult': 2.38} Model prepped for fitting in 81.49622891700001 seconds.\n",
      "2022/09/20 22:26:42 INFO|--------|{'vx_seed': 2, 'vir_mult': 2.38} Solving Model ODE\n",
      "2022/09/20 22:26:42 INFO|--------|{'vx_seed': 0, 'vir_mult': 2.38} Model prepped for fitting in 81.5865225 seconds.\n",
      "2022/09/20 22:26:42 INFO|--------|{'vx_seed': 0, 'vir_mult': 2.38} Solving Model ODE\n",
      "2022/09/20 22:26:42 INFO|--------|{'vx_seed': 2, 'vir_mult': 0.833} Model prepped for fitting in 81.656813625 seconds.\n",
      "2022/09/20 22:26:42 INFO|--------|{'vx_seed': 2, 'vir_mult': 0.833} Solving Model ODE\n",
      "2022/09/20 22:26:42 INFO|--------|{'vx_seed': 0, 'vir_mult': 0.833} Model prepped for fitting in 82.107004167 seconds.\n",
      "2022/09/20 22:26:42 INFO|--------|{'vx_seed': 0, 'vir_mult': 0.833} Solving Model ODE\n",
      "2022/09/20 22:26:46 INFO|--------|{'vx_seed': 2, 'vir_mult': 2.38} Model solved in 4.143298458000004 seconds.\n",
      "2022/09/20 22:26:46 INFO|--------|{'vx_seed': 2, 'vir_mult': 2.38} Will fit 5 times\n",
      "2022/09/20 22:26:46 INFO|--------|{'vx_seed': 0, 'vir_mult': 2.38} Model solved in 4.212650458999988 seconds.\n",
      "2022/09/20 22:26:46 INFO|--------|{'vx_seed': 0, 'vir_mult': 2.38} Will fit 5 times\n",
      "2022/09/20 22:26:46 INFO|--------|{'vx_seed': 2, 'vir_mult': 0.833} Model solved in 4.1320415 seconds.\n",
      "2022/09/20 22:26:46 INFO|--------|{'vx_seed': 2, 'vir_mult': 0.833} Will fit 5 times\n",
      "2022/09/20 22:26:46 INFO|--------|{'vx_seed': 0, 'vir_mult': 0.833} Model solved in 4.121001207999996 seconds.\n",
      "2022/09/20 22:26:46 INFO|--------|{'vx_seed': 0, 'vir_mult': 0.833} Will fit 5 times\n",
      "2022/09/20 22:27:07 INFO|--------|{'vx_seed': 2, 'vir_mult': 2.38, 'fit_batch': '0'}: Transmission control fit 1/5 completed in 21.06442191699999 seconds: {767: {'co': 0.8770154257523258}, 781: {'co': 0.869086304121356}, 795: {'co': 0.8568987139879013}, 809: {'co': 0.8484448235715066}, 823: {'co': 0.8511411651696364}, 837: {'co': 0.8404210665997743}}\n",
      "2022/09/20 22:27:07 INFO|---------|{'vx_seed': 2, 'vir_mult': 2.38, 'fit_batch': '0'}: Running forward sim\n",
      "2022/09/20 22:27:07 INFO|--------|{'vx_seed': 2, 'vir_mult': 0.833, 'fit_batch': '0'}: Transmission control fit 1/5 completed in 20.982382166999997 seconds: {767: {'co': 0.8770154257523258}, 781: {'co': 0.869086304121356}, 795: {'co': 0.8568987139879013}, 809: {'co': 0.8484448235715066}, 823: {'co': 0.8511411651696364}, 837: {'co': 0.8404210665997743}}\n",
      "2022/09/20 22:27:07 INFO|---------|{'vx_seed': 2, 'vir_mult': 0.833, 'fit_batch': '0'}: Running forward sim\n",
      "2022/09/20 22:27:07 INFO|--------|{'vx_seed': 0, 'vir_mult': 0.833, 'fit_batch': '0'}: Transmission control fit 1/5 completed in 21.0897825 seconds: {767: {'co': 0.8770154257523258}, 781: {'co': 0.869086304121356}, 795: {'co': 0.8568987139879013}, 809: {'co': 0.8484448235715066}, 823: {'co': 0.8511411651696364}, 837: {'co': 0.8404210665997743}}\n",
      "2022/09/20 22:27:07 INFO|---------|{'vx_seed': 0, 'vir_mult': 0.833, 'fit_batch': '0'}: Running forward sim\n",
      "2022/09/20 22:27:08 INFO|--------|{'vx_seed': 0, 'vir_mult': 2.38, 'fit_batch': '0'}: Transmission control fit 1/5 completed in 21.573628791000004 seconds: {767: {'co': 0.8770154257523258}, 781: {'co': 0.869086304121356}, 795: {'co': 0.8568987139879013}, 809: {'co': 0.8484448235715066}, 823: {'co': 0.8511411651696364}, 837: {'co': 0.8404210665997743}}\n",
      "2022/09/20 22:27:08 INFO|---------|{'vx_seed': 0, 'vir_mult': 2.38, 'fit_batch': '0'}: Running forward sim\n",
      "2022/09/20 22:27:23 INFO|--------|{'vx_seed': 2, 'vir_mult': 2.38, 'fit_batch': '1'}: Transmission control fit 2/5 completed in 14.789600875000005 seconds: {795: {'co': 0.8565641524353707}, 809: {'co': 0.8495388561725883}, 823: {'co': 0.8485647482126812}, 837: {'co': 0.8462060271637907}, 851: {'co': 0.8335133646540981}, 865: {'co': 0.8598126486716922}}\n",
      "2022/09/20 22:27:23 INFO|---------|{'vx_seed': 2, 'vir_mult': 2.38, 'fit_batch': '1'}: Running forward sim\n",
      "2022/09/20 22:27:23 INFO|--------|{'vx_seed': 2, 'vir_mult': 0.833, 'fit_batch': '1'}: Transmission control fit 2/5 completed in 14.776616582999992 seconds: {795: {'co': 0.8565641524353707}, 809: {'co': 0.8495388561725883}, 823: {'co': 0.8485647482126812}, 837: {'co': 0.8462060271637907}, 851: {'co': 0.8335133646540981}, 865: {'co': 0.8598126486716922}}\n",
      "2022/09/20 22:27:23 INFO|---------|{'vx_seed': 2, 'vir_mult': 0.833, 'fit_batch': '1'}: Running forward sim\n",
      "2022/09/20 22:27:24 INFO|--------|{'vx_seed': 0, 'vir_mult': 0.833, 'fit_batch': '1'}: Transmission control fit 2/5 completed in 14.727047832999986 seconds: {795: {'co': 0.8565641524353707}, 809: {'co': 0.8495388561725883}, 823: {'co': 0.8485647482126812}, 837: {'co': 0.8462060271637907}, 851: {'co': 0.8335133646540981}, 865: {'co': 0.8598126486716922}}\n",
      "2022/09/20 22:27:24 INFO|---------|{'vx_seed': 0, 'vir_mult': 0.833, 'fit_batch': '1'}: Running forward sim\n",
      "2022/09/20 22:27:24 INFO|--------|{'vx_seed': 0, 'vir_mult': 2.38, 'fit_batch': '1'}: Transmission control fit 2/5 completed in 15.227640374999993 seconds: {795: {'co': 0.8565641524353707}, 809: {'co': 0.8495388561725883}, 823: {'co': 0.8485647482126812}, 837: {'co': 0.8462060271637907}, 851: {'co': 0.8335133646540981}, 865: {'co': 0.8598126486716922}}\n",
      "2022/09/20 22:27:24 INFO|---------|{'vx_seed': 0, 'vir_mult': 2.38, 'fit_batch': '1'}: Running forward sim\n",
      "2022/09/20 22:27:39 INFO|--------|{'vx_seed': 2, 'vir_mult': 2.38, 'fit_batch': '2'}: Transmission control fit 3/5 completed in 14.052626833000005 seconds: {823: {'co': 0.8484813092112764}, 837: {'co': 0.8463817396766858}, 851: {'co': 0.8329165472400655}, 865: {'co': 0.8618380033604983}, 879: {'co': 0.8535020162621955}, 893: {'co': 0.8576951786786402}}\n",
      "2022/09/20 22:27:39 INFO|---------|{'vx_seed': 2, 'vir_mult': 2.38, 'fit_batch': '2'}: Running forward sim\n",
      "2022/09/20 22:27:39 INFO|--------|{'vx_seed': 2, 'vir_mult': 0.833, 'fit_batch': '2'}: Transmission control fit 3/5 completed in 14.064823041000011 seconds: {823: {'co': 0.8484813092112764}, 837: {'co': 0.8463817396766858}, 851: {'co': 0.8329165472400655}, 865: {'co': 0.8618380033604983}, 879: {'co': 0.8535020162621955}, 893: {'co': 0.8576951786786402}}\n",
      "2022/09/20 22:27:39 INFO|---------|{'vx_seed': 2, 'vir_mult': 0.833, 'fit_batch': '2'}: Running forward sim\n"
     ]
    },
    {
     "name": "stderr",
     "output_type": "stream",
     "text": [
      "2022/09/20 22:27:39 INFO|--------|{'vx_seed': 0, 'vir_mult': 0.833, 'fit_batch': '2'}: Transmission control fit 3/5 completed in 13.987294082999995 seconds: {823: {'co': 0.8484813092112764}, 837: {'co': 0.8463817396766858}, 851: {'co': 0.8329165472400655}, 865: {'co': 0.8618380033604983}, 879: {'co': 0.8535020162621955}, 893: {'co': 0.8576951786786402}}\n",
      "2022/09/20 22:27:39 INFO|---------|{'vx_seed': 0, 'vir_mult': 0.833, 'fit_batch': '2'}: Running forward sim\n",
      "2022/09/20 22:27:40 INFO|--------|{'vx_seed': 0, 'vir_mult': 2.38, 'fit_batch': '2'}: Transmission control fit 3/5 completed in 14.39388220799998 seconds: {823: {'co': 0.8484813092112764}, 837: {'co': 0.8463817396766858}, 851: {'co': 0.8329165472400655}, 865: {'co': 0.8618380033604983}, 879: {'co': 0.8535020162621955}, 893: {'co': 0.8576951786786402}}\n",
      "2022/09/20 22:27:40 INFO|---------|{'vx_seed': 0, 'vir_mult': 2.38, 'fit_batch': '2'}: Running forward sim\n",
      "2022/09/20 22:27:56 INFO|--------|{'vx_seed': 2, 'vir_mult': 2.38, 'fit_batch': '3'}: Transmission control fit 4/5 completed in 14.878965084000015 seconds: {851: {'co': 0.8332363399592593}, 865: {'co': 0.8613248056270206}, 879: {'co': 0.8543588682293474}, 893: {'co': 0.8549841226033488}, 907: {'co': 0.8626541718931392}, 921: {'co': 0.8579647272783589}}\n",
      "2022/09/20 22:27:56 INFO|---------|{'vx_seed': 2, 'vir_mult': 2.38, 'fit_batch': '3'}: Running forward sim\n",
      "2022/09/20 22:27:56 INFO|--------|{'vx_seed': 2, 'vir_mult': 0.833, 'fit_batch': '3'}: Transmission control fit 4/5 completed in 14.825264333000007 seconds: {851: {'co': 0.8332363399592593}, 865: {'co': 0.8613248056270206}, 879: {'co': 0.8543588682293474}, 893: {'co': 0.8549841226033488}, 907: {'co': 0.8626541718931392}, 921: {'co': 0.8579647272783589}}\n",
      "2022/09/20 22:27:56 INFO|---------|{'vx_seed': 2, 'vir_mult': 0.833, 'fit_batch': '3'}: Running forward sim\n",
      "2022/09/20 22:27:56 INFO|--------|{'vx_seed': 0, 'vir_mult': 0.833, 'fit_batch': '3'}: Transmission control fit 4/5 completed in 14.775914374999985 seconds: {851: {'co': 0.8332363399592593}, 865: {'co': 0.8613248056270206}, 879: {'co': 0.8543588682293474}, 893: {'co': 0.8549841226033488}, 907: {'co': 0.8626541718931392}, 921: {'co': 0.8579647272783589}}\n",
      "2022/09/20 22:27:56 INFO|---------|{'vx_seed': 0, 'vir_mult': 0.833, 'fit_batch': '3'}: Running forward sim\n",
      "2022/09/20 22:27:57 INFO|--------|{'vx_seed': 0, 'vir_mult': 2.38, 'fit_batch': '3'}: Transmission control fit 4/5 completed in 15.325582709000003 seconds: {851: {'co': 0.8332363399592593}, 865: {'co': 0.8613248056270206}, 879: {'co': 0.8543588682293474}, 893: {'co': 0.8549841226033488}, 907: {'co': 0.8626541718931392}, 921: {'co': 0.8579647272783589}}\n",
      "2022/09/20 22:27:57 INFO|---------|{'vx_seed': 0, 'vir_mult': 2.38, 'fit_batch': '3'}: Running forward sim\n",
      "2022/09/20 22:28:16 INFO|--------|{'vx_seed': 0, 'vir_mult': 0.833, 'fit_batch': '4'}: Transmission control fit 5/5 completed in 18.25218354200001 seconds: {865: {'co': 0.8608868964519779}, 879: {'co': 0.854511236710579}, 893: {'co': 0.855059132784933}, 907: {'co': 0.862360777103877}, 921: {'co': 0.8608737861461196}, 935: {'co': 0.8510908566796127}}\n",
      "2022/09/20 22:28:16 INFO|---------|{'vx_seed': 0, 'vir_mult': 0.833, 'fit_batch': '4'}: Running forward sim\n",
      "2022/09/20 22:28:17 INFO|--------|{'vx_seed': 2, 'vir_mult': 2.38, 'fit_batch': '4'}: Transmission control fit 5/5 completed in 19.929360583000005 seconds: {865: {'co': 0.860886896456142}, 879: {'co': 0.8545112367031147}, 893: {'co': 0.8550591327954703}, 907: {'co': 0.8623607770982654}, 921: {'co': 0.8608737861477381}, 935: {'co': 0.8510908566823621}}\n",
      "2022/09/20 22:28:17 INFO|---------|{'vx_seed': 2, 'vir_mult': 2.38, 'fit_batch': '4'}: Running forward sim\n",
      "2022/09/20 22:28:17 INFO|--------|{'vx_seed': 2, 'vir_mult': 0.833, 'fit_batch': '4'}: Transmission control fit 5/5 completed in 19.873127041999993 seconds: {865: {'co': 0.860886896456142}, 879: {'co': 0.8545112367031147}, 893: {'co': 0.8550591327954703}, 907: {'co': 0.8623607770982654}, 921: {'co': 0.8608737861477381}, 935: {'co': 0.8510908566823621}}\n",
      "2022/09/20 22:28:17 INFO|---------|{'vx_seed': 2, 'vir_mult': 0.833, 'fit_batch': '4'}: Running forward sim\n",
      "2022/09/20 22:28:18 INFO|--------|{'vx_seed': 0, 'vir_mult': 0.833, 'fit_batch': '4', 'run_type': 'fit'}: fitted TC: {0: {'co': 0.858793645564471}, 14: {'co': 0.6897974238901571}, 28: {'co': 0.5461562373730889}, 42: {'co': 1.488463975320554e-14}, 56: {'co': 0.6964648244185871}, 70: {'co': 0.8333063816292616}, 84: {'co': 0.8295949264098259}, 98: {'co': 0.8317180855515073}, 112: {'co': 0.8774454485555294}, 126: {'co': 0.8243715707940461}, 140: {'co': 0.7604768918170302}, 154: {'co': 0.6712541505311671}, 168: {'co': 0.8430274763680383}, 182: {'co': 0.7826504009954449}, 196: {'co': 0.8191652900355885}, 210: {'co': 0.7726023569388112}, 224: {'co': 0.7713430227931438}, 238: {'co': 0.7185520655720183}, 252: {'co': 0.72213950524156}, 266: {'co': 0.6850199052463005}, 280: {'co': 0.7198410425845795}, 294: {'co': 0.7578492868967014}, 308: {'co': 0.8225928703403277}, 322: {'co': 0.8115175392447233}, 336: {'co': 0.7825644083248113}, 350: {'co': 0.795399515500132}, 364: {'co': 0.8054754975658831}, 378: {'co': 0.7423450542379765}, 392: {'co': 0.7841300047635846}, 406: {'co': 0.7099315039353364}, 420: {'co': 0.7188501299688542}, 434: {'co': 0.6879468363450565}, 448: {'co': 0.7409946234984971}, 462: {'co': 0.8128468602117268}, 476: {'co': 0.7917817372180791}, 490: {'co': 0.8302291987334832}, 504: {'co': 0.7862064714343785}, 518: {'co': 0.7799209533639639}, 532: {'co': 0.7562230410522897}, 546: {'co': 0.7112566962456192}, 560: {'co': 0.739371979842544}, 574: {'co': 0.7478275006852348}, 588: {'co': 0.7875984756215245}, 602: {'co': 0.7639387173460699}, 616: {'co': 0.7176489344538342}, 630: {'co': 0.7355177703819683}, 644: {'co': 0.7125254179647684}, 658: {'co': 0.7531964126287652}, 672: {'co': 0.7583679864717131}, 686: {'co': 0.7378492068929549}, 700: {'co': 0.6512695688425013}, 714: {'co': 0.803532502585838}, 728: {'co': 0.8434544540367153}, 742: {'co': 0.8636609353348836}, 767: {'co': 0.8770154257523258}, 781: {'co': 0.869086304121356}, 795: {'co': 0.8565641524353707}, 809: {'co': 0.8495388561725883}, 823: {'co': 0.8484813092112764}, 837: {'co': 0.8463817396766858}, 851: {'co': 0.8332363399592593}, 865: {'co': 0.8608868964519779}, 879: {'co': 0.854511236710579}, 893: {'co': 0.855059132784933}, 907: {'co': 0.862360777103877}, 921: {'co': 0.8608737861461196}, 935: {'co': 0.8510908715807739}}\n",
      "2022/09/20 22:28:18 INFO|---------|{'vx_seed': 0, 'vir_mult': 0.833, 'fit_batch': '4', 'run_type': 'fit'}: Running forward sim\n",
      "2022/09/20 22:28:18 INFO|--------|{'vx_seed': 0, 'vir_mult': 2.38, 'fit_batch': '4'}: Transmission control fit 5/5 completed in 19.012162708000005 seconds: {865: {'co': 0.8608868964519779}, 879: {'co': 0.854511236710579}, 893: {'co': 0.855059132784933}, 907: {'co': 0.862360777103877}, 921: {'co': 0.8608737861461196}, 935: {'co': 0.8510908566796127}}\n",
      "2022/09/20 22:28:18 INFO|---------|{'vx_seed': 0, 'vir_mult': 2.38, 'fit_batch': '4'}: Running forward sim\n",
      "2022/09/20 22:28:19 INFO|--------|{'vx_seed': 2, 'vir_mult': 2.38, 'fit_batch': '4', 'run_type': 'fit'}: fitted TC: {0: {'co': 0.858793645564471}, 14: {'co': 0.6897974238901571}, 28: {'co': 0.5461562373730889}, 42: {'co': 1.488463975320554e-14}, 56: {'co': 0.6964648244185871}, 70: {'co': 0.8333063816292616}, 84: {'co': 0.8295949264098259}, 98: {'co': 0.8317180855515073}, 112: {'co': 0.8774454485555294}, 126: {'co': 0.8243715707940461}, 140: {'co': 0.7604768918170302}, 154: {'co': 0.6712541505311671}, 168: {'co': 0.8430274763680383}, 182: {'co': 0.7826504009954449}, 196: {'co': 0.8191652900355885}, 210: {'co': 0.7726023569388112}, 224: {'co': 0.7713430227931438}, 238: {'co': 0.7185520655720183}, 252: {'co': 0.72213950524156}, 266: {'co': 0.6850199052463005}, 280: {'co': 0.7198410425845795}, 294: {'co': 0.7578492868967014}, 308: {'co': 0.8225928703403277}, 322: {'co': 0.8115175392447233}, 336: {'co': 0.7825644083248113}, 350: {'co': 0.795399515500132}, 364: {'co': 0.8054754975658831}, 378: {'co': 0.7423450542379765}, 392: {'co': 0.7841300047635846}, 406: {'co': 0.7099315039353364}, 420: {'co': 0.7188501299688542}, 434: {'co': 0.6879468363450565}, 448: {'co': 0.7409946234984971}, 462: {'co': 0.8128468602117268}, 476: {'co': 0.7917817372180791}, 490: {'co': 0.8302291987334832}, 504: {'co': 0.7862064714343785}, 518: {'co': 0.7799209533639639}, 532: {'co': 0.7562230410522897}, 546: {'co': 0.7112566962456192}, 560: {'co': 0.739371979842544}, 574: {'co': 0.7478275006852348}, 588: {'co': 0.7875984756215245}, 602: {'co': 0.7639387173460699}, 616: {'co': 0.7176489344538342}, 630: {'co': 0.7355177703819683}, 644: {'co': 0.7125254179647684}, 658: {'co': 0.7531964126287652}, 672: {'co': 0.7583679864717131}, 686: {'co': 0.7378492068929549}, 700: {'co': 0.6512695688425013}, 714: {'co': 0.803532502585838}, 728: {'co': 0.8434544540367153}, 742: {'co': 0.8636609353348836}, 767: {'co': 0.8770154257523258}, 781: {'co': 0.869086304121356}, 795: {'co': 0.8565641524353707}, 809: {'co': 0.8495388561725883}, 823: {'co': 0.8484813092112764}, 837: {'co': 0.8463817396766858}, 851: {'co': 0.8332363399592593}, 865: {'co': 0.860886896456142}, 879: {'co': 0.8545112367031147}, 893: {'co': 0.8550591327954703}, 907: {'co': 0.8623607770982654}, 921: {'co': 0.8608737861477381}, 935: {'co': 0.8510908715835233}}\n",
      "2022/09/20 22:28:19 INFO|---------|{'vx_seed': 2, 'vir_mult': 2.38, 'fit_batch': '4', 'run_type': 'fit'}: Running forward sim\n",
      "2022/09/20 22:28:19 INFO|--------|{'vx_seed': 2, 'vir_mult': 0.833, 'fit_batch': '4', 'run_type': 'fit'}: fitted TC: {0: {'co': 0.858793645564471}, 14: {'co': 0.6897974238901571}, 28: {'co': 0.5461562373730889}, 42: {'co': 1.488463975320554e-14}, 56: {'co': 0.6964648244185871}, 70: {'co': 0.8333063816292616}, 84: {'co': 0.8295949264098259}, 98: {'co': 0.8317180855515073}, 112: {'co': 0.8774454485555294}, 126: {'co': 0.8243715707940461}, 140: {'co': 0.7604768918170302}, 154: {'co': 0.6712541505311671}, 168: {'co': 0.8430274763680383}, 182: {'co': 0.7826504009954449}, 196: {'co': 0.8191652900355885}, 210: {'co': 0.7726023569388112}, 224: {'co': 0.7713430227931438}, 238: {'co': 0.7185520655720183}, 252: {'co': 0.72213950524156}, 266: {'co': 0.6850199052463005}, 280: {'co': 0.7198410425845795}, 294: {'co': 0.7578492868967014}, 308: {'co': 0.8225928703403277}, 322: {'co': 0.8115175392447233}, 336: {'co': 0.7825644083248113}, 350: {'co': 0.795399515500132}, 364: {'co': 0.8054754975658831}, 378: {'co': 0.7423450542379765}, 392: {'co': 0.7841300047635846}, 406: {'co': 0.7099315039353364}, 420: {'co': 0.7188501299688542}, 434: {'co': 0.6879468363450565}, 448: {'co': 0.7409946234984971}, 462: {'co': 0.8128468602117268}, 476: {'co': 0.7917817372180791}, 490: {'co': 0.8302291987334832}, 504: {'co': 0.7862064714343785}, 518: {'co': 0.7799209533639639}, 532: {'co': 0.7562230410522897}, 546: {'co': 0.7112566962456192}, 560: {'co': 0.739371979842544}, 574: {'co': 0.7478275006852348}, 588: {'co': 0.7875984756215245}, 602: {'co': 0.7639387173460699}, 616: {'co': 0.7176489344538342}, 630: {'co': 0.7355177703819683}, 644: {'co': 0.7125254179647684}, 658: {'co': 0.7531964126287652}, 672: {'co': 0.7583679864717131}, 686: {'co': 0.7378492068929549}, 700: {'co': 0.6512695688425013}, 714: {'co': 0.803532502585838}, 728: {'co': 0.8434544540367153}, 742: {'co': 0.8636609353348836}, 767: {'co': 0.8770154257523258}, 781: {'co': 0.869086304121356}, 795: {'co': 0.8565641524353707}, 809: {'co': 0.8495388561725883}, 823: {'co': 0.8484813092112764}, 837: {'co': 0.8463817396766858}, 851: {'co': 0.8332363399592593}, 865: {'co': 0.860886896456142}, 879: {'co': 0.8545112367031147}, 893: {'co': 0.8550591327954703}, 907: {'co': 0.8623607770982654}, 921: {'co': 0.8608737861477381}, 935: {'co': 0.8510908715835233}}\n",
      "2022/09/20 22:28:19 INFO|---------|{'vx_seed': 2, 'vir_mult': 0.833, 'fit_batch': '4', 'run_type': 'fit'}: Running forward sim\n"
     ]
    },
    {
     "name": "stderr",
     "output_type": "stream",
     "text": [
      "2022/09/20 22:28:20 INFO|--------|{'vx_seed': 0, 'vir_mult': 2.38, 'fit_batch': '4', 'run_type': 'fit'}: fitted TC: {0: {'co': 0.858793645564471}, 14: {'co': 0.6897974238901571}, 28: {'co': 0.5461562373730889}, 42: {'co': 1.488463975320554e-14}, 56: {'co': 0.6964648244185871}, 70: {'co': 0.8333063816292616}, 84: {'co': 0.8295949264098259}, 98: {'co': 0.8317180855515073}, 112: {'co': 0.8774454485555294}, 126: {'co': 0.8243715707940461}, 140: {'co': 0.7604768918170302}, 154: {'co': 0.6712541505311671}, 168: {'co': 0.8430274763680383}, 182: {'co': 0.7826504009954449}, 196: {'co': 0.8191652900355885}, 210: {'co': 0.7726023569388112}, 224: {'co': 0.7713430227931438}, 238: {'co': 0.7185520655720183}, 252: {'co': 0.72213950524156}, 266: {'co': 0.6850199052463005}, 280: {'co': 0.7198410425845795}, 294: {'co': 0.7578492868967014}, 308: {'co': 0.8225928703403277}, 322: {'co': 0.8115175392447233}, 336: {'co': 0.7825644083248113}, 350: {'co': 0.795399515500132}, 364: {'co': 0.8054754975658831}, 378: {'co': 0.7423450542379765}, 392: {'co': 0.7841300047635846}, 406: {'co': 0.7099315039353364}, 420: {'co': 0.7188501299688542}, 434: {'co': 0.6879468363450565}, 448: {'co': 0.7409946234984971}, 462: {'co': 0.8128468602117268}, 476: {'co': 0.7917817372180791}, 490: {'co': 0.8302291987334832}, 504: {'co': 0.7862064714343785}, 518: {'co': 0.7799209533639639}, 532: {'co': 0.7562230410522897}, 546: {'co': 0.7112566962456192}, 560: {'co': 0.739371979842544}, 574: {'co': 0.7478275006852348}, 588: {'co': 0.7875984756215245}, 602: {'co': 0.7639387173460699}, 616: {'co': 0.7176489344538342}, 630: {'co': 0.7355177703819683}, 644: {'co': 0.7125254179647684}, 658: {'co': 0.7531964126287652}, 672: {'co': 0.7583679864717131}, 686: {'co': 0.7378492068929549}, 700: {'co': 0.6512695688425013}, 714: {'co': 0.803532502585838}, 728: {'co': 0.8434544540367153}, 742: {'co': 0.8636609353348836}, 767: {'co': 0.8770154257523258}, 781: {'co': 0.869086304121356}, 795: {'co': 0.8565641524353707}, 809: {'co': 0.8495388561725883}, 823: {'co': 0.8484813092112764}, 837: {'co': 0.8463817396766858}, 851: {'co': 0.8332363399592593}, 865: {'co': 0.8608868964519779}, 879: {'co': 0.854511236710579}, 893: {'co': 0.855059132784933}, 907: {'co': 0.862360777103877}, 921: {'co': 0.8608737861461196}, 935: {'co': 0.8510908715807739}}\n",
      "2022/09/20 22:28:20 INFO|---------|{'vx_seed': 0, 'vir_mult': 2.38, 'fit_batch': '4', 'run_type': 'fit'}: Running forward sim\n",
      "2022/09/20 22:28:52 INFO|-----------------------|spec_ids: 3996,3997,3998,3999\n"
     ]
    }
   ],
   "source": [
    "# run the scenarios\n",
    "models = do_fit_scenarios(base_model_args=model_args, scenario_args_list=scenario_model_args, fit_args=model_fit_args, multiprocess=multiprocess)"
   ]
  },
  {
   "cell_type": "markdown",
   "metadata": {
    "pycharm": {
     "name": "#%% md\n"
    }
   },
   "source": [
    "### Run the report for each fit model"
   ]
  },
  {
   "cell_type": "code",
   "execution_count": 7,
   "metadata": {
    "pycharm": {
     "name": "#%%\n"
    }
   },
   "outputs": [
    {
     "name": "stderr",
     "output_type": "stream",
     "text": [
      "2022/09/20 22:29:04 INFO|============================================================\n",
      "2022/09/20 22:29:04 INFO|--------|Solving model\n",
      "2022/09/20 22:29:05 INFO|============================================================\n",
      "2022/09/20 22:29:05 INFO|--------|Solving model\n",
      "2022/09/20 22:29:05 INFO|============================================================\n",
      "2022/09/20 22:29:05 INFO|--------|Solving model\n",
      "2022/09/20 22:29:06 INFO|============================================================\n",
      "2022/09/20 22:29:06 INFO|--------|Solving model\n",
      "2022/09/20 22:29:09 WARNING|No artists with labels found to put in legend.  Note that artists whose label start with an underscore are ignored when legend() is called with no argument.\n",
      "2022/09/20 22:29:09 WARNING|No artists with labels found to put in legend.  Note that artists whose label start with an underscore are ignored when legend() is called with no argument.\n",
      "2022/09/20 22:29:10 WARNING|No artists with labels found to put in legend.  Note that artists whose label start with an underscore are ignored when legend() is called with no argument.\n",
      "2022/09/20 22:29:10 WARNING|No artists with labels found to put in legend.  Note that artists whose label start with an underscore are ignored when legend() is called with no argument.\n"
     ]
    }
   ],
   "source": [
    "do_create_multiple_reports(models, multiprocess=multiprocess, outdir=outdir, prep_model=False, solve_model=True, immun_variants=['ba45'], from_date='2022-01-01')"
   ]
  },
  {
   "cell_type": "code",
   "execution_count": 8,
   "metadata": {
    "pycharm": {
     "name": "#%%\n"
    }
   },
   "outputs": [
    {
     "name": "stderr",
     "output_type": "stream",
     "text": [
      "2022/09/20 22:31:47 INFO|Projecting\n",
      "2022/09/20 22:31:47 INFO|\n",
      "2022/09/20 22:32:05 INFO|{'vx_seed': 0, 'vir_mult': 0.833, 'fit_batch': '4', 'run_type': 'fit'}: Running forward sim\n",
      "2022/09/20 22:32:07 INFO|\n",
      "2022/09/20 22:32:26 INFO|{'vx_seed': 0, 'vir_mult': 2.38, 'fit_batch': '4', 'run_type': 'fit'}: Running forward sim\n",
      "2022/09/20 22:32:27 INFO|\n",
      "2022/09/20 22:32:47 INFO|{'vx_seed': 2, 'vir_mult': 0.833, 'fit_batch': '4', 'run_type': 'fit'}: Running forward sim\n",
      "2022/09/20 22:32:48 INFO|\n",
      "2022/09/20 22:33:08 INFO|{'vx_seed': 2, 'vir_mult': 2.38, 'fit_batch': '4', 'run_type': 'fit'}: Running forward sim\n",
      "2022/09/20 22:33:10 INFO|Running reports\n"
     ]
    }
   ],
   "source": [
    "logging.info('Projecting')\n",
    "for model in models:\n",
    "    logging.info('')\n",
    "    #model.prep()  # don't think we need to prep anymore.\n",
    "    model.solve_seir()\n",
    "\n",
    "    model.solution_sum_df(['seir', 'variant', 'immun']).unstack().to_csv(get_filepath_prefix(outdir, tags=model.tags) + 'states_seir_variant_immun_total_all_at_once_projection.csv')\n",
    "    model.solution_sum_df().unstack().to_csv(get_filepath_prefix(outdir, tags=model.tags) + 'states_full_projection.csv')\n",
    "\n",
    "    logging.info(f'{str(model.tags)}: Running forward sim')\n",
    "    fig = plt.figure(figsize=(10, 10), dpi=300)\n",
    "    ax = fig.add_subplot(211)\n",
    "    hosps_df = model.modeled_vs_observed_hosps().reset_index('region').drop(columns='region')\n",
    "    hosps_df.plot(ax=ax)\n",
    "    ax.set_xlim(dt.datetime.strptime('2022-01-01', \"%Y-%m-%d\").date(), dt.datetime.strptime('2024-01-01', \"%Y-%m-%d\").date())\n",
    "    ax = fig.add_subplot(212)\n",
    "    plot_transmission_control(model, ax=ax)\n",
    "    ax.set_xlim(dt.datetime.strptime('2022-01-01', \"%Y-%m-%d\").date(), dt.datetime.strptime('2024-01-01', \"%Y-%m-%d\").date())\n",
    "    plt.savefig(get_filepath_prefix(outdir, tags=model.tags) + 'model_forecast.png')\n",
    "    plt.close()\n",
    "    hosps_df.to_csv(get_filepath_prefix(outdir, tags=model.tags) + '_model_forecast.csv')\n",
    "    json.dump(model.tc, open(get_filepath_prefix(outdir, tags=model.tags) + 'model_forecast_tc.json', 'w'))\n",
    "\n",
    "logging.info('Running reports')"
   ]
  }
 ],
 "metadata": {
  "kernelspec": {
   "display_name": "Python 3 (ipykernel)",
   "language": "python",
   "name": "python3"
  },
  "language_info": {
   "codemirror_mode": {
    "name": "ipython",
    "version": 3
   },
   "file_extension": ".py",
   "mimetype": "text/x-python",
   "name": "python",
   "nbconvert_exporter": "python",
   "pygments_lexer": "ipython3",
   "version": "3.9.13"
  }
 },
 "nbformat": 4,
 "nbformat_minor": 4
}
